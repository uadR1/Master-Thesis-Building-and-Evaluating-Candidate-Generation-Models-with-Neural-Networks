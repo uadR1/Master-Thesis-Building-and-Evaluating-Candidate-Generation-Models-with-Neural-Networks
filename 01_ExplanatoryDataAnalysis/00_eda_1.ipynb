{
 "cells": [
  {
   "cell_type": "code",
   "execution_count": 103,
   "metadata": {},
   "outputs": [],
   "source": [
    "import pandas as pd \n",
    "import numpy as np\n",
    "from matplotlib import pyplot as plt\n",
    "import seaborn as sns\n",
    "#from summarytools import dfSummary # dfSummary(df_online_retail) - Alternative way of displaying df summary  \n",
    "#import sidetable"
   ]
  },
  {
   "cell_type": "code",
   "execution_count": 32,
   "metadata": {},
   "outputs": [],
   "source": [
    "# Reading Data\n",
    "df_online_retail = pd.read_csv('../00_Data/data.csv', encoding= 'unicode_escape')\n",
    "df_online_retail_xlsx = pd.read_excel('../00_Data/online_retail.xlsx', sheet_name=0)\n",
    "df_online_retail_II = pd.read_excel('../00_Data/online_retail.xlsx', sheet_name=0)\n",
    "df_rec_sys_order = pd.read_excel('../00_Data/Rec_sys_data.xlsx', sheet_name=0)\n",
    "df_rec_sys_customer = pd.read_excel('../00_Data/Rec_sys_data.xlsx', sheet_name=1)\n",
    "df_rec_sys_product = pd.read_excel('../00_Data/Rec_sys_data.xlsx', sheet_name=2)"
   ]
  },
  {
   "cell_type": "code",
   "execution_count": 42,
   "metadata": {},
   "outputs": [
    {
     "name": "stdout",
     "output_type": "stream",
     "text": [
      "Nr of Transactions Online Retail Dataset: \t 541909\n",
      "Nr of Transactions Rec Sys Dataset: \t\t 272404\n"
     ]
    }
   ],
   "source": [
    "print(\"Nr of Transactions Online Retail Dataset: \\t\", df_online_retail.shape[0])\n",
    "print(\"Nr of Transactions Rec Sys Dataset: \\t\\t\", df_rec_sys_order.shape[0])"
   ]
  },
  {
   "cell_type": "code",
   "execution_count": 46,
   "metadata": {},
   "outputs": [
    {
     "data": {
      "text/plain": [
       "4372"
      ]
     },
     "execution_count": 46,
     "metadata": {},
     "output_type": "execute_result"
    }
   ],
   "source": [
    "df_online_retail['CustomerID'].nunique()"
   ]
  },
  {
   "cell_type": "code",
   "execution_count": 48,
   "metadata": {},
   "outputs": [
    {
     "data": {
      "text/plain": [
       "3647"
      ]
     },
     "execution_count": 48,
     "metadata": {},
     "output_type": "execute_result"
    }
   ],
   "source": [
    "df_rec_sys_order['CustomerID'].nunique()"
   ]
  },
  {
   "cell_type": "code",
   "execution_count": 66,
   "metadata": {},
   "outputs": [
    {
     "data": {
      "text/html": [
       "<div>\n",
       "<style scoped>\n",
       "    .dataframe tbody tr th:only-of-type {\n",
       "        vertical-align: middle;\n",
       "    }\n",
       "\n",
       "    .dataframe tbody tr th {\n",
       "        vertical-align: top;\n",
       "    }\n",
       "\n",
       "    .dataframe thead th {\n",
       "        text-align: right;\n",
       "    }\n",
       "</style>\n",
       "<table border=\"1\" class=\"dataframe\">\n",
       "  <thead>\n",
       "    <tr style=\"text-align: right;\">\n",
       "      <th></th>\n",
       "      <th>InvoiceNo</th>\n",
       "      <th>StockCode</th>\n",
       "      <th>Quantity</th>\n",
       "      <th>InvoiceDate</th>\n",
       "      <th>DeliveryDate</th>\n",
       "      <th>Discount%</th>\n",
       "      <th>ShipMode</th>\n",
       "      <th>ShippingCost</th>\n",
       "      <th>CustomerID</th>\n",
       "    </tr>\n",
       "  </thead>\n",
       "  <tbody>\n",
       "    <tr>\n",
       "      <th>0</th>\n",
       "      <td>536365</td>\n",
       "      <td>84029E</td>\n",
       "      <td>6</td>\n",
       "      <td>2010-12-01 08:26:00</td>\n",
       "      <td>2010-12-02 08:26:00</td>\n",
       "      <td>0.20</td>\n",
       "      <td>ExpressAir</td>\n",
       "      <td>30.12</td>\n",
       "      <td>17850</td>\n",
       "    </tr>\n",
       "    <tr>\n",
       "      <th>1</th>\n",
       "      <td>536365</td>\n",
       "      <td>71053</td>\n",
       "      <td>6</td>\n",
       "      <td>2010-12-01 08:26:00</td>\n",
       "      <td>2010-12-02 08:26:00</td>\n",
       "      <td>0.21</td>\n",
       "      <td>ExpressAir</td>\n",
       "      <td>30.12</td>\n",
       "      <td>17850</td>\n",
       "    </tr>\n",
       "    <tr>\n",
       "      <th>2</th>\n",
       "      <td>536365</td>\n",
       "      <td>21730</td>\n",
       "      <td>6</td>\n",
       "      <td>2010-12-01 08:26:00</td>\n",
       "      <td>2010-12-03 08:26:00</td>\n",
       "      <td>0.56</td>\n",
       "      <td>Regular Air</td>\n",
       "      <td>15.22</td>\n",
       "      <td>17850</td>\n",
       "    </tr>\n",
       "    <tr>\n",
       "      <th>3</th>\n",
       "      <td>536365</td>\n",
       "      <td>84406B</td>\n",
       "      <td>8</td>\n",
       "      <td>2010-12-01 08:26:00</td>\n",
       "      <td>2010-12-03 08:26:00</td>\n",
       "      <td>0.30</td>\n",
       "      <td>Regular Air</td>\n",
       "      <td>15.22</td>\n",
       "      <td>17850</td>\n",
       "    </tr>\n",
       "    <tr>\n",
       "      <th>4</th>\n",
       "      <td>536365</td>\n",
       "      <td>22752</td>\n",
       "      <td>2</td>\n",
       "      <td>2010-12-01 08:26:00</td>\n",
       "      <td>2010-12-04 08:26:00</td>\n",
       "      <td>0.57</td>\n",
       "      <td>Delivery Truck</td>\n",
       "      <td>5.81</td>\n",
       "      <td>17850</td>\n",
       "    </tr>\n",
       "  </tbody>\n",
       "</table>\n",
       "</div>"
      ],
      "text/plain": [
       "   InvoiceNo StockCode  Quantity         InvoiceDate        DeliveryDate  \\\n",
       "0     536365    84029E         6 2010-12-01 08:26:00 2010-12-02 08:26:00   \n",
       "1     536365     71053         6 2010-12-01 08:26:00 2010-12-02 08:26:00   \n",
       "2     536365     21730         6 2010-12-01 08:26:00 2010-12-03 08:26:00   \n",
       "3     536365    84406B         8 2010-12-01 08:26:00 2010-12-03 08:26:00   \n",
       "4     536365     22752         2 2010-12-01 08:26:00 2010-12-04 08:26:00   \n",
       "\n",
       "   Discount%        ShipMode  ShippingCost  CustomerID  \n",
       "0       0.20      ExpressAir         30.12       17850  \n",
       "1       0.21      ExpressAir         30.12       17850  \n",
       "2       0.56     Regular Air         15.22       17850  \n",
       "3       0.30     Regular Air         15.22       17850  \n",
       "4       0.57  Delivery Truck          5.81       17850  "
      ]
     },
     "execution_count": 66,
     "metadata": {},
     "output_type": "execute_result"
    }
   ],
   "source": [
    "df_rec_sys_order.head()"
   ]
  },
  {
   "cell_type": "code",
   "execution_count": 133,
   "metadata": {},
   "outputs": [],
   "source": [
    "df = df_rec_sys_order.merge(df_rec_sys_product, on='StockCode')"
   ]
  },
  {
   "cell_type": "code",
   "execution_count": 134,
   "metadata": {},
   "outputs": [
    {
     "data": {
      "text/html": [
       "<div>\n",
       "<style scoped>\n",
       "    .dataframe tbody tr th:only-of-type {\n",
       "        vertical-align: middle;\n",
       "    }\n",
       "\n",
       "    .dataframe tbody tr th {\n",
       "        vertical-align: top;\n",
       "    }\n",
       "\n",
       "    .dataframe thead th {\n",
       "        text-align: right;\n",
       "    }\n",
       "</style>\n",
       "<table border=\"1\" class=\"dataframe\">\n",
       "  <thead>\n",
       "    <tr style=\"text-align: right;\">\n",
       "      <th></th>\n",
       "      <th>InvoiceNo</th>\n",
       "      <th>StockCode</th>\n",
       "      <th>Quantity</th>\n",
       "      <th>InvoiceDate</th>\n",
       "      <th>DeliveryDate</th>\n",
       "      <th>Discount%</th>\n",
       "      <th>ShipMode</th>\n",
       "      <th>ShippingCost</th>\n",
       "      <th>CustomerID</th>\n",
       "      <th>Product Name</th>\n",
       "      <th>Description</th>\n",
       "      <th>Category</th>\n",
       "      <th>Brand</th>\n",
       "      <th>Unit Price</th>\n",
       "    </tr>\n",
       "  </thead>\n",
       "  <tbody>\n",
       "    <tr>\n",
       "      <th>0</th>\n",
       "      <td>536365</td>\n",
       "      <td>84029E</td>\n",
       "      <td>6</td>\n",
       "      <td>2010-12-01 08:26:00</td>\n",
       "      <td>2010-12-02 08:26:00</td>\n",
       "      <td>0.20</td>\n",
       "      <td>ExpressAir</td>\n",
       "      <td>30.12</td>\n",
       "      <td>17850</td>\n",
       "      <td>3 1/2\"W x 20\"D x 20\"H Funston Craftsman Smooth...</td>\n",
       "      <td>Our Rustic Collection is an instant classic. O...</td>\n",
       "      <td>Home Improvement|Hardware|Brackets and Angle I...</td>\n",
       "      <td>Ekena Milwork</td>\n",
       "      <td>199.11</td>\n",
       "    </tr>\n",
       "    <tr>\n",
       "      <th>1</th>\n",
       "      <td>536373</td>\n",
       "      <td>84029E</td>\n",
       "      <td>6</td>\n",
       "      <td>2010-12-01 09:02:00</td>\n",
       "      <td>2010-12-02 09:02:00</td>\n",
       "      <td>0.55</td>\n",
       "      <td>ExpressAir</td>\n",
       "      <td>30.12</td>\n",
       "      <td>17850</td>\n",
       "      <td>3 1/2\"W x 20\"D x 20\"H Funston Craftsman Smooth...</td>\n",
       "      <td>Our Rustic Collection is an instant classic. O...</td>\n",
       "      <td>Home Improvement|Hardware|Brackets and Angle I...</td>\n",
       "      <td>Ekena Milwork</td>\n",
       "      <td>199.11</td>\n",
       "    </tr>\n",
       "    <tr>\n",
       "      <th>2</th>\n",
       "      <td>536375</td>\n",
       "      <td>84029E</td>\n",
       "      <td>6</td>\n",
       "      <td>2010-12-01 09:32:00</td>\n",
       "      <td>2010-12-03 09:32:00</td>\n",
       "      <td>0.18</td>\n",
       "      <td>Regular Air</td>\n",
       "      <td>15.22</td>\n",
       "      <td>17850</td>\n",
       "      <td>3 1/2\"W x 20\"D x 20\"H Funston Craftsman Smooth...</td>\n",
       "      <td>Our Rustic Collection is an instant classic. O...</td>\n",
       "      <td>Home Improvement|Hardware|Brackets and Angle I...</td>\n",
       "      <td>Ekena Milwork</td>\n",
       "      <td>199.11</td>\n",
       "    </tr>\n",
       "    <tr>\n",
       "      <th>3</th>\n",
       "      <td>536396</td>\n",
       "      <td>84029E</td>\n",
       "      <td>6</td>\n",
       "      <td>2010-12-01 10:51:00</td>\n",
       "      <td>2010-12-02 10:51:00</td>\n",
       "      <td>0.06</td>\n",
       "      <td>ExpressAir</td>\n",
       "      <td>30.12</td>\n",
       "      <td>17850</td>\n",
       "      <td>3 1/2\"W x 20\"D x 20\"H Funston Craftsman Smooth...</td>\n",
       "      <td>Our Rustic Collection is an instant classic. O...</td>\n",
       "      <td>Home Improvement|Hardware|Brackets and Angle I...</td>\n",
       "      <td>Ekena Milwork</td>\n",
       "      <td>199.11</td>\n",
       "    </tr>\n",
       "    <tr>\n",
       "      <th>4</th>\n",
       "      <td>536406</td>\n",
       "      <td>84029E</td>\n",
       "      <td>6</td>\n",
       "      <td>2010-12-01 11:33:00</td>\n",
       "      <td>2010-12-03 11:33:00</td>\n",
       "      <td>0.42</td>\n",
       "      <td>Regular Air</td>\n",
       "      <td>15.22</td>\n",
       "      <td>17850</td>\n",
       "      <td>3 1/2\"W x 20\"D x 20\"H Funston Craftsman Smooth...</td>\n",
       "      <td>Our Rustic Collection is an instant classic. O...</td>\n",
       "      <td>Home Improvement|Hardware|Brackets and Angle I...</td>\n",
       "      <td>Ekena Milwork</td>\n",
       "      <td>199.11</td>\n",
       "    </tr>\n",
       "  </tbody>\n",
       "</table>\n",
       "</div>"
      ],
      "text/plain": [
       "   InvoiceNo StockCode  Quantity         InvoiceDate        DeliveryDate  \\\n",
       "0     536365    84029E         6 2010-12-01 08:26:00 2010-12-02 08:26:00   \n",
       "1     536373    84029E         6 2010-12-01 09:02:00 2010-12-02 09:02:00   \n",
       "2     536375    84029E         6 2010-12-01 09:32:00 2010-12-03 09:32:00   \n",
       "3     536396    84029E         6 2010-12-01 10:51:00 2010-12-02 10:51:00   \n",
       "4     536406    84029E         6 2010-12-01 11:33:00 2010-12-03 11:33:00   \n",
       "\n",
       "   Discount%     ShipMode  ShippingCost  CustomerID  \\\n",
       "0       0.20   ExpressAir         30.12       17850   \n",
       "1       0.55   ExpressAir         30.12       17850   \n",
       "2       0.18  Regular Air         15.22       17850   \n",
       "3       0.06   ExpressAir         30.12       17850   \n",
       "4       0.42  Regular Air         15.22       17850   \n",
       "\n",
       "                                        Product Name  \\\n",
       "0  3 1/2\"W x 20\"D x 20\"H Funston Craftsman Smooth...   \n",
       "1  3 1/2\"W x 20\"D x 20\"H Funston Craftsman Smooth...   \n",
       "2  3 1/2\"W x 20\"D x 20\"H Funston Craftsman Smooth...   \n",
       "3  3 1/2\"W x 20\"D x 20\"H Funston Craftsman Smooth...   \n",
       "4  3 1/2\"W x 20\"D x 20\"H Funston Craftsman Smooth...   \n",
       "\n",
       "                                         Description  \\\n",
       "0  Our Rustic Collection is an instant classic. O...   \n",
       "1  Our Rustic Collection is an instant classic. O...   \n",
       "2  Our Rustic Collection is an instant classic. O...   \n",
       "3  Our Rustic Collection is an instant classic. O...   \n",
       "4  Our Rustic Collection is an instant classic. O...   \n",
       "\n",
       "                                            Category          Brand  \\\n",
       "0  Home Improvement|Hardware|Brackets and Angle I...  Ekena Milwork   \n",
       "1  Home Improvement|Hardware|Brackets and Angle I...  Ekena Milwork   \n",
       "2  Home Improvement|Hardware|Brackets and Angle I...  Ekena Milwork   \n",
       "3  Home Improvement|Hardware|Brackets and Angle I...  Ekena Milwork   \n",
       "4  Home Improvement|Hardware|Brackets and Angle I...  Ekena Milwork   \n",
       "\n",
       "   Unit Price  \n",
       "0      199.11  \n",
       "1      199.11  \n",
       "2      199.11  \n",
       "3      199.11  \n",
       "4      199.11  "
      ]
     },
     "execution_count": 134,
     "metadata": {},
     "output_type": "execute_result"
    }
   ],
   "source": [
    "df.head()"
   ]
  },
  {
   "cell_type": "code",
   "execution_count": 132,
   "metadata": {},
   "outputs": [
    {
     "data": {
      "image/png": "[encoded data removed]",
      "text/plain": [
       "<Figure size 640x480 with 1 Axes>"
      ]
     },
     "metadata": {},
     "output_type": "display_data"
    }
   ],
   "source": [
    "plt.hist(df_rec_sys_order['Discount%'], bins=10)\n",
    "plt.show()"
   ]
  },
  {
   "cell_type": "code",
   "execution_count": 107,
   "metadata": {},
   "outputs": [
    {
     "data": {
      "text/plain": [
       "74215"
      ]
     },
     "execution_count": 107,
     "metadata": {},
     "output_type": "execute_result"
    }
   ],
   "source": [
    "df_rec_sys_order['Quantity'].max()"
   ]
  },
  {
   "cell_type": "code",
   "execution_count": 128,
   "metadata": {},
   "outputs": [
    {
     "data": {
      "image/png": "[encoded data removed]",
      "text/plain": [
       "<Figure size 640x480 with 1 Axes>"
      ]
     },
     "metadata": {},
     "output_type": "display_data"
    }
   ],
   "source": [
    "df_rec_sys_order['ShipMode'].value_counts().plot(kind='bar')\n",
    "plt.ylabel('Count')\n",
    "plt.show()"
   ]
  },
  {
   "cell_type": "code",
   "execution_count": 110,
   "metadata": {},
   "outputs": [
    {
     "data": {
      "image/png": "[encoded data removed]",
      "text/plain": [
       "<Figure size 640x480 with 1 Axes>"
      ]
     },
     "metadata": {},
     "output_type": "display_data"
    }
   ],
   "source": [
    "plt.hist(df_rec_sys_order['ShippingCost'], bins=10)\n",
    "plt.show()"
   ]
  },
  {
   "cell_type": "code",
   "execution_count": 113,
   "metadata": {},
   "outputs": [
    {
     "data": {
      "image/png": "[encoded data removed]",
      "text/plain": [
       "<Figure size 640x480 with 1 Axes>"
      ]
     },
     "metadata": {},
     "output_type": "display_data"
    }
   ],
   "source": [
    "# Group the data by day and count the number of rows for each day\n",
    "counts = df_rec_sys_order.groupby(pd.Grouper(key='InvoiceDate', freq='D')).size()\n",
    "\n",
    "# Create a line plot of the daily counts\n",
    "counts.plot(kind='line')\n",
    "\n",
    "# Set the title and axis labels\n",
    "plt.title('Number of Rows per Day')\n",
    "plt.xlabel('Date')\n",
    "plt.ylabel('Number of Rows')\n",
    "\n",
    "# Display the plot\n",
    "plt.show()"
   ]
  },
  {
   "cell_type": "code",
   "execution_count": 119,
   "metadata": {},
   "outputs": [
    {
     "name": "stdout",
     "output_type": "stream",
     "text": [
      "The date column is in chronological order\n"
     ]
    }
   ],
   "source": [
    "# Check if the date column is in chronological order\n",
    "is_chronological = df_rec_sys_order['InvoiceDate'].is_monotonic_increasing\n",
    "\n",
    "if is_chronological:\n",
    "    print('The date column is in chronological order')\n",
    "else:\n",
    "    print('The date column is not in chronological order')"
   ]
  },
  {
   "cell_type": "code",
   "execution_count": 118,
   "metadata": {},
   "outputs": [],
   "source": [
    "df_rec_sys_order = df_rec_sys_order.sort_values(by='InvoiceDate')\n",
    "\n",
    "# Reset the index to reflect the new order\n",
    "df_rec_sys_order = df_rec_sys_order.reset_index(drop=True)"
   ]
  },
  {
   "attachments": {},
   "cell_type": "markdown",
   "metadata": {},
   "source": [
    "## Split"
   ]
  },
  {
   "cell_type": "code",
   "execution_count": 120,
   "metadata": {},
   "outputs": [],
   "source": [
    "from recommenders.datasets.python_splitters import python_chrono_split\n"
   ]
  },
  {
   "cell_type": "code",
   "execution_count": 121,
   "metadata": {},
   "outputs": [],
   "source": [
    "train, test = python_chrono_split(df_rec_sys_order, ratio=0.8, filter_by='user', min_rating=10, col_user='CustomerID', col_item='StockCode', col_timestamp='InvoiceDate')"
   ]
  },
  {
   "cell_type": "code",
   "execution_count": 122,
   "metadata": {},
   "outputs": [
    {
     "name": "stdout",
     "output_type": "stream",
     "text": [
      "Before Split: 3647 users, 3538 items\n",
      "Train: 3106 users, 3460 items\n",
      "Test: 3106 users, 2974 items\n"
     ]
    }
   ],
   "source": [
    "# Print the number of users and items in the training and test sets\n",
    "print(f'Before Split: {df_rec_sys_order.CustomerID.nunique()} users, {df_rec_sys_order.StockCode.nunique()} items')\n",
    "print(f'Train: {train.CustomerID.nunique()} users, {train.StockCode.nunique()} items')\n",
    "print(f'Test: {test.CustomerID.nunique()} users, {test.StockCode.nunique()} items')"
   ]
  },
  {
   "cell_type": "code",
   "execution_count": 123,
   "metadata": {},
   "outputs": [
    {
     "data": {
      "text/plain": [
       "(215671, 9)"
      ]
     },
     "execution_count": 123,
     "metadata": {},
     "output_type": "execute_result"
    }
   ],
   "source": [
    "train.shape"
   ]
  },
  {
   "cell_type": "code",
   "execution_count": 124,
   "metadata": {},
   "outputs": [
    {
     "data": {
      "text/plain": [
       "(53931, 9)"
      ]
     },
     "execution_count": 124,
     "metadata": {},
     "output_type": "execute_result"
    }
   ],
   "source": [
    "test.shape"
   ]
  },
  {
   "cell_type": "code",
   "execution_count": 125,
   "metadata": {},
   "outputs": [
    {
     "data": {
      "text/html": [
       "<div>\n",
       "<style scoped>\n",
       "    .dataframe tbody tr th:only-of-type {\n",
       "        vertical-align: middle;\n",
       "    }\n",
       "\n",
       "    .dataframe tbody tr th {\n",
       "        vertical-align: top;\n",
       "    }\n",
       "\n",
       "    .dataframe thead th {\n",
       "        text-align: right;\n",
       "    }\n",
       "</style>\n",
       "<table border=\"1\" class=\"dataframe\">\n",
       "  <thead>\n",
       "    <tr style=\"text-align: right;\">\n",
       "      <th></th>\n",
       "      <th>InvoiceNo</th>\n",
       "      <th>StockCode</th>\n",
       "      <th>Quantity</th>\n",
       "      <th>InvoiceDate</th>\n",
       "      <th>DeliveryDate</th>\n",
       "      <th>Discount%</th>\n",
       "      <th>ShipMode</th>\n",
       "      <th>ShippingCost</th>\n",
       "      <th>CustomerID</th>\n",
       "    </tr>\n",
       "  </thead>\n",
       "  <tbody>\n",
       "    <tr>\n",
       "      <th>137314</th>\n",
       "      <td>554065</td>\n",
       "      <td>85039B</td>\n",
       "      <td>12</td>\n",
       "      <td>2011-05-22 10:39:00</td>\n",
       "      <td>2011-05-24 10:39:00</td>\n",
       "      <td>0.06</td>\n",
       "      <td>Regular Air</td>\n",
       "      <td>15.22</td>\n",
       "      <td>18287</td>\n",
       "    </tr>\n",
       "    <tr>\n",
       "      <th>137315</th>\n",
       "      <td>554065</td>\n",
       "      <td>22753</td>\n",
       "      <td>12</td>\n",
       "      <td>2011-05-22 10:39:00</td>\n",
       "      <td>2011-05-24 10:39:00</td>\n",
       "      <td>0.34</td>\n",
       "      <td>Regular Air</td>\n",
       "      <td>15.22</td>\n",
       "      <td>18287</td>\n",
       "    </tr>\n",
       "    <tr>\n",
       "      <th>137316</th>\n",
       "      <td>554065</td>\n",
       "      <td>21382</td>\n",
       "      <td>18</td>\n",
       "      <td>2011-05-22 10:39:00</td>\n",
       "      <td>2011-05-25 10:39:00</td>\n",
       "      <td>0.33</td>\n",
       "      <td>Delivery Truck</td>\n",
       "      <td>5.81</td>\n",
       "      <td>18287</td>\n",
       "    </tr>\n",
       "    <tr>\n",
       "      <th>137317</th>\n",
       "      <td>554065</td>\n",
       "      <td>22807</td>\n",
       "      <td>6</td>\n",
       "      <td>2011-05-22 10:39:00</td>\n",
       "      <td>2011-05-23 10:39:00</td>\n",
       "      <td>0.41</td>\n",
       "      <td>ExpressAir</td>\n",
       "      <td>30.12</td>\n",
       "      <td>18287</td>\n",
       "    </tr>\n",
       "    <tr>\n",
       "      <th>137313</th>\n",
       "      <td>554065</td>\n",
       "      <td>21232</td>\n",
       "      <td>12</td>\n",
       "      <td>2011-05-22 10:39:00</td>\n",
       "      <td>2011-05-25 10:39:00</td>\n",
       "      <td>0.09</td>\n",
       "      <td>Delivery Truck</td>\n",
       "      <td>5.81</td>\n",
       "      <td>18287</td>\n",
       "    </tr>\n",
       "  </tbody>\n",
       "</table>\n",
       "</div>"
      ],
      "text/plain": [
       "        InvoiceNo StockCode  Quantity         InvoiceDate        DeliveryDate  \\\n",
       "137314     554065    85039B        12 2011-05-22 10:39:00 2011-05-24 10:39:00   \n",
       "137315     554065     22753        12 2011-05-22 10:39:00 2011-05-24 10:39:00   \n",
       "137316     554065     21382        18 2011-05-22 10:39:00 2011-05-25 10:39:00   \n",
       "137317     554065     22807         6 2011-05-22 10:39:00 2011-05-23 10:39:00   \n",
       "137313     554065     21232        12 2011-05-22 10:39:00 2011-05-25 10:39:00   \n",
       "\n",
       "        Discount%        ShipMode  ShippingCost  CustomerID  \n",
       "137314       0.06     Regular Air         15.22       18287  \n",
       "137315       0.34     Regular Air         15.22       18287  \n",
       "137316       0.33  Delivery Truck          5.81       18287  \n",
       "137317       0.41      ExpressAir         30.12       18287  \n",
       "137313       0.09  Delivery Truck          5.81       18287  "
      ]
     },
     "execution_count": 125,
     "metadata": {},
     "output_type": "execute_result"
    }
   ],
   "source": [
    "train.tail()"
   ]
  },
  {
   "cell_type": "code",
   "execution_count": 126,
   "metadata": {},
   "outputs": [
    {
     "data": {
      "text/html": [
       "<div>\n",
       "<style scoped>\n",
       "    .dataframe tbody tr th:only-of-type {\n",
       "        vertical-align: middle;\n",
       "    }\n",
       "\n",
       "    .dataframe tbody tr th {\n",
       "        vertical-align: top;\n",
       "    }\n",
       "\n",
       "    .dataframe thead th {\n",
       "        text-align: right;\n",
       "    }\n",
       "</style>\n",
       "<table border=\"1\" class=\"dataframe\">\n",
       "  <thead>\n",
       "    <tr style=\"text-align: right;\">\n",
       "      <th></th>\n",
       "      <th>InvoiceNo</th>\n",
       "      <th>StockCode</th>\n",
       "      <th>Quantity</th>\n",
       "      <th>InvoiceDate</th>\n",
       "      <th>DeliveryDate</th>\n",
       "      <th>Discount%</th>\n",
       "      <th>ShipMode</th>\n",
       "      <th>ShippingCost</th>\n",
       "      <th>CustomerID</th>\n",
       "    </tr>\n",
       "  </thead>\n",
       "  <tbody>\n",
       "    <tr>\n",
       "      <th>153933</th>\n",
       "      <td>556201</td>\n",
       "      <td>22371</td>\n",
       "      <td>8</td>\n",
       "      <td>2011-06-09 13:01:00</td>\n",
       "      <td>2011-06-12 13:01:00</td>\n",
       "      <td>0.42</td>\n",
       "      <td>Delivery Truck</td>\n",
       "      <td>5.81</td>\n",
       "      <td>12347</td>\n",
       "    </tr>\n",
       "    <tr>\n",
       "      <th>153932</th>\n",
       "      <td>556201</td>\n",
       "      <td>23170</td>\n",
       "      <td>12</td>\n",
       "      <td>2011-06-09 13:01:00</td>\n",
       "      <td>2011-06-11 13:01:00</td>\n",
       "      <td>0.24</td>\n",
       "      <td>Regular Air</td>\n",
       "      <td>15.22</td>\n",
       "      <td>12347</td>\n",
       "    </tr>\n",
       "    <tr>\n",
       "      <th>153939</th>\n",
       "      <td>556201</td>\n",
       "      <td>23162</td>\n",
       "      <td>8</td>\n",
       "      <td>2011-06-09 13:01:00</td>\n",
       "      <td>2011-06-11 13:01:00</td>\n",
       "      <td>0.28</td>\n",
       "      <td>Regular Air</td>\n",
       "      <td>15.22</td>\n",
       "      <td>12347</td>\n",
       "    </tr>\n",
       "    <tr>\n",
       "      <th>200496</th>\n",
       "      <td>562032</td>\n",
       "      <td>84992</td>\n",
       "      <td>24</td>\n",
       "      <td>2011-08-02 08:48:00</td>\n",
       "      <td>2011-08-04 08:48:00</td>\n",
       "      <td>0.23</td>\n",
       "      <td>Regular Air</td>\n",
       "      <td>15.22</td>\n",
       "      <td>12347</td>\n",
       "    </tr>\n",
       "    <tr>\n",
       "      <th>200488</th>\n",
       "      <td>562032</td>\n",
       "      <td>21975</td>\n",
       "      <td>24</td>\n",
       "      <td>2011-08-02 08:48:00</td>\n",
       "      <td>2011-08-03 08:48:00</td>\n",
       "      <td>0.15</td>\n",
       "      <td>ExpressAir</td>\n",
       "      <td>30.12</td>\n",
       "      <td>12347</td>\n",
       "    </tr>\n",
       "  </tbody>\n",
       "</table>\n",
       "</div>"
      ],
      "text/plain": [
       "        InvoiceNo StockCode  Quantity         InvoiceDate        DeliveryDate  \\\n",
       "153933     556201     22371         8 2011-06-09 13:01:00 2011-06-12 13:01:00   \n",
       "153932     556201     23170        12 2011-06-09 13:01:00 2011-06-11 13:01:00   \n",
       "153939     556201     23162         8 2011-06-09 13:01:00 2011-06-11 13:01:00   \n",
       "200496     562032     84992        24 2011-08-02 08:48:00 2011-08-04 08:48:00   \n",
       "200488     562032     21975        24 2011-08-02 08:48:00 2011-08-03 08:48:00   \n",
       "\n",
       "        Discount%        ShipMode  ShippingCost  CustomerID  \n",
       "153933       0.42  Delivery Truck          5.81       12347  \n",
       "153932       0.24     Regular Air         15.22       12347  \n",
       "153939       0.28     Regular Air         15.22       12347  \n",
       "200496       0.23     Regular Air         15.22       12347  \n",
       "200488       0.15      ExpressAir         30.12       12347  "
      ]
     },
     "execution_count": 126,
     "metadata": {},
     "output_type": "execute_result"
    }
   ],
   "source": [
    "test.head()"
   ]
  },
  {
   "cell_type": "code",
   "execution_count": 127,
   "metadata": {},
   "outputs": [
    {
     "data": {
      "text/html": [
       "<div>\n",
       "<style scoped>\n",
       "    .dataframe tbody tr th:only-of-type {\n",
       "        vertical-align: middle;\n",
       "    }\n",
       "\n",
       "    .dataframe tbody tr th {\n",
       "        vertical-align: top;\n",
       "    }\n",
       "\n",
       "    .dataframe thead th {\n",
       "        text-align: right;\n",
       "    }\n",
       "</style>\n",
       "<table border=\"1\" class=\"dataframe\">\n",
       "  <thead>\n",
       "    <tr style=\"text-align: right;\">\n",
       "      <th></th>\n",
       "      <th>InvoiceNo</th>\n",
       "      <th>Quantity</th>\n",
       "      <th>Discount%</th>\n",
       "      <th>ShippingCost</th>\n",
       "      <th>CustomerID</th>\n",
       "    </tr>\n",
       "  </thead>\n",
       "  <tbody>\n",
       "    <tr>\n",
       "      <th>count</th>\n",
       "      <td>215671.000000</td>\n",
       "      <td>215671.000000</td>\n",
       "      <td>215671.000000</td>\n",
       "      <td>215671.000000</td>\n",
       "      <td>215671.000000</td>\n",
       "    </tr>\n",
       "    <tr>\n",
       "      <th>mean</th>\n",
       "      <td>551520.718664</td>\n",
       "      <td>12.830598</td>\n",
       "      <td>0.299841</td>\n",
       "      <td>17.043698</td>\n",
       "      <td>15283.351804</td>\n",
       "    </tr>\n",
       "    <tr>\n",
       "      <th>std</th>\n",
       "      <td>9079.135256</td>\n",
       "      <td>40.434055</td>\n",
       "      <td>0.176170</td>\n",
       "      <td>10.013885</td>\n",
       "      <td>1714.707673</td>\n",
       "    </tr>\n",
       "    <tr>\n",
       "      <th>min</th>\n",
       "      <td>536365.000000</td>\n",
       "      <td>1.000000</td>\n",
       "      <td>0.000000</td>\n",
       "      <td>5.810000</td>\n",
       "      <td>12347.000000</td>\n",
       "    </tr>\n",
       "    <tr>\n",
       "      <th>25%</th>\n",
       "      <td>544065.000000</td>\n",
       "      <td>2.000000</td>\n",
       "      <td>0.150000</td>\n",
       "      <td>5.810000</td>\n",
       "      <td>13893.000000</td>\n",
       "    </tr>\n",
       "    <tr>\n",
       "      <th>50%</th>\n",
       "      <td>550974.000000</td>\n",
       "      <td>6.000000</td>\n",
       "      <td>0.300000</td>\n",
       "      <td>15.220000</td>\n",
       "      <td>15152.000000</td>\n",
       "    </tr>\n",
       "    <tr>\n",
       "      <th>75%</th>\n",
       "      <td>558813.000000</td>\n",
       "      <td>12.000000</td>\n",
       "      <td>0.450000</td>\n",
       "      <td>30.120000</td>\n",
       "      <td>16782.000000</td>\n",
       "    </tr>\n",
       "    <tr>\n",
       "      <th>max</th>\n",
       "      <td>569590.000000</td>\n",
       "      <td>3114.000000</td>\n",
       "      <td>0.600000</td>\n",
       "      <td>30.120000</td>\n",
       "      <td>18287.000000</td>\n",
       "    </tr>\n",
       "  </tbody>\n",
       "</table>\n",
       "</div>"
      ],
      "text/plain": [
       "           InvoiceNo       Quantity      Discount%   ShippingCost  \\\n",
       "count  215671.000000  215671.000000  215671.000000  215671.000000   \n",
       "mean   551520.718664      12.830598       0.299841      17.043698   \n",
       "std      9079.135256      40.434055       0.176170      10.013885   \n",
       "min    536365.000000       1.000000       0.000000       5.810000   \n",
       "25%    544065.000000       2.000000       0.150000       5.810000   \n",
       "50%    550974.000000       6.000000       0.300000      15.220000   \n",
       "75%    558813.000000      12.000000       0.450000      30.120000   \n",
       "max    569590.000000    3114.000000       0.600000      30.120000   \n",
       "\n",
       "          CustomerID  \n",
       "count  215671.000000  \n",
       "mean    15283.351804  \n",
       "std      1714.707673  \n",
       "min     12347.000000  \n",
       "25%     13893.000000  \n",
       "50%     15152.000000  \n",
       "75%     16782.000000  \n",
       "max     18287.000000  "
      ]
     },
     "execution_count": 127,
     "metadata": {},
     "output_type": "execute_result"
    }
   ],
   "source": [
    "train.describe(include='number')"
   ]
  },
  {
   "cell_type": "code",
   "execution_count": 92,
   "metadata": {},
   "outputs": [
    {
     "name": "stderr",
     "output_type": "stream",
     "text": [
      "2023-02-22 11:27:15,195 [7305] WARNING  py.warnings:109: [JupyterRequire] /var/folders/bs/ht_t1wp94tl3wt5xhchcxq2m0000gn/T/ipykernel_7305/102825196.py:1: FutureWarning: Treating datetime data as categorical rather than numeric in `.describe` is deprecated and will be removed in a future version of pandas. Specify `datetime_is_numeric=True` to silence this warning and adopt the future behavior now.\n",
      "  train.describe(exclude='number')\n",
      "\n",
      "2023-02-22 11:27:15,207 [7305] WARNING  py.warnings:109: [JupyterRequire] /var/folders/bs/ht_t1wp94tl3wt5xhchcxq2m0000gn/T/ipykernel_7305/102825196.py:1: FutureWarning: Treating datetime data as categorical rather than numeric in `.describe` is deprecated and will be removed in a future version of pandas. Specify `datetime_is_numeric=True` to silence this warning and adopt the future behavior now.\n",
      "  train.describe(exclude='number')\n",
      "\n"
     ]
    },
    {
     "data": {
      "text/html": [
       "<div>\n",
       "<style scoped>\n",
       "    .dataframe tbody tr th:only-of-type {\n",
       "        vertical-align: middle;\n",
       "    }\n",
       "\n",
       "    .dataframe tbody tr th {\n",
       "        vertical-align: top;\n",
       "    }\n",
       "\n",
       "    .dataframe thead th {\n",
       "        text-align: right;\n",
       "    }\n",
       "</style>\n",
       "<table border=\"1\" class=\"dataframe\">\n",
       "  <thead>\n",
       "    <tr style=\"text-align: right;\">\n",
       "      <th></th>\n",
       "      <th>StockCode</th>\n",
       "      <th>InvoiceDate</th>\n",
       "      <th>DeliveryDate</th>\n",
       "      <th>ShipMode</th>\n",
       "    </tr>\n",
       "  </thead>\n",
       "  <tbody>\n",
       "    <tr>\n",
       "      <th>count</th>\n",
       "      <td>215671</td>\n",
       "      <td>215671</td>\n",
       "      <td>215671</td>\n",
       "      <td>215671</td>\n",
       "    </tr>\n",
       "    <tr>\n",
       "      <th>unique</th>\n",
       "      <td>3465</td>\n",
       "      <td>10427</td>\n",
       "      <td>26776</td>\n",
       "      <td>3</td>\n",
       "    </tr>\n",
       "    <tr>\n",
       "      <th>top</th>\n",
       "      <td>85123A</td>\n",
       "      <td>2011-09-21 14:40:00</td>\n",
       "      <td>2011-09-23 14:40:00</td>\n",
       "      <td>Delivery Truck</td>\n",
       "    </tr>\n",
       "    <tr>\n",
       "      <th>freq</th>\n",
       "      <td>1310</td>\n",
       "      <td>421</td>\n",
       "      <td>153</td>\n",
       "      <td>71991</td>\n",
       "    </tr>\n",
       "    <tr>\n",
       "      <th>first</th>\n",
       "      <td>NaN</td>\n",
       "      <td>2010-12-01 08:26:00</td>\n",
       "      <td>2010-12-02 08:26:00</td>\n",
       "      <td>NaN</td>\n",
       "    </tr>\n",
       "    <tr>\n",
       "      <th>last</th>\n",
       "      <td>NaN</td>\n",
       "      <td>2011-10-05 11:25:00</td>\n",
       "      <td>2011-10-08 11:06:00</td>\n",
       "      <td>NaN</td>\n",
       "    </tr>\n",
       "  </tbody>\n",
       "</table>\n",
       "</div>"
      ],
      "text/plain": [
       "       StockCode          InvoiceDate         DeliveryDate        ShipMode\n",
       "count     215671               215671               215671          215671\n",
       "unique      3465                10427                26776               3\n",
       "top       85123A  2011-09-21 14:40:00  2011-09-23 14:40:00  Delivery Truck\n",
       "freq        1310                  421                  153           71991\n",
       "first        NaN  2010-12-01 08:26:00  2010-12-02 08:26:00             NaN\n",
       "last         NaN  2011-10-05 11:25:00  2011-10-08 11:06:00             NaN"
      ]
     },
     "execution_count": 92,
     "metadata": {},
     "output_type": "execute_result"
    }
   ],
   "source": [
    "train.describe(exclude='number')"
   ]
  },
  {
   "cell_type": "code",
   "execution_count": 94,
   "metadata": {},
   "outputs": [
    {
     "name": "stdout",
     "output_type": "stream",
     "text": [
      "<class 'pandas.core.frame.DataFrame'>\n",
      "Int64Index: 215671 entries, 10537 to 137313\n",
      "Data columns (total 9 columns):\n",
      " #   Column        Non-Null Count   Dtype         \n",
      "---  ------        --------------   -----         \n",
      " 0   InvoiceNo     215671 non-null  int64         \n",
      " 1   StockCode     215671 non-null  object        \n",
      " 2   Quantity      215671 non-null  int64         \n",
      " 3   InvoiceDate   215671 non-null  datetime64[ns]\n",
      " 4   DeliveryDate  215671 non-null  datetime64[ns]\n",
      " 5   Discount%     215671 non-null  float64       \n",
      " 6   ShipMode      215671 non-null  object        \n",
      " 7   ShippingCost  215671 non-null  float64       \n",
      " 8   CustomerID    215671 non-null  int64         \n",
      "dtypes: datetime64[ns](2), float64(2), int64(3), object(2)\n",
      "memory usage: 16.5+ MB\n"
     ]
    }
   ],
   "source": [
    "train.info()"
   ]
  }
 ],
 "metadata": {
  "kernelspec": {
   "display_name": "recom",
   "language": "python",
   "name": "python3"
  },
  "language_info": {
   "codemirror_mode": {
    "name": "ipython",
    "version": 3
   },
   "file_extension": ".py",
   "mimetype": "text/x-python",
   "name": "python",
   "nbconvert_exporter": "python",
   "pygments_lexer": "ipython3",
   "version": "3.9.16 (main, Jan 11 2023, 10:02:19) \n[Clang 14.0.6 ]"
  },
  "orig_nbformat": 4,
  "vscode": {
   "interpreter": {
    "hash": "17afcd9f6960de0a3656d2c4c5dd434deed0eab3cd38c55c3169df3bef50250d"
   }
  }
 },
 "nbformat": 4,
 "nbformat_minor": 2
}
