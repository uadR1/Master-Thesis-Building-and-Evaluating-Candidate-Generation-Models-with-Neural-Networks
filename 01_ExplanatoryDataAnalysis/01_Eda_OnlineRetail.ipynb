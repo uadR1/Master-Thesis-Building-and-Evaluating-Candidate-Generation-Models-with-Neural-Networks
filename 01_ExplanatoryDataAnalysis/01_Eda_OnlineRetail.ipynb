{
 "cells": [
  {
   "attachments": {},
   "cell_type": "markdown",
   "metadata": {},
   "source": [
    "# Importing Libraries"
   ]
  },
  {
   "cell_type": "code",
   "execution_count": 710,
   "metadata": {},
   "outputs": [],
   "source": [
    "import pandas as pd \n",
    "import numpy as np \n",
    "import seaborn as sns\n",
    "import matplotlib.pyplot as plt\n",
    "import matplotlib.style\n",
    "%matplotlib inline"
   ]
  },
  {
   "attachments": {},
   "cell_type": "markdown",
   "metadata": {},
   "source": [
    "# Read the Data as Dataframe"
   ]
  },
  {
   "cell_type": "code",
   "execution_count": 711,
   "metadata": {},
   "outputs": [],
   "source": [
    "# Reading Data\n",
    "df_online_retail = pd.read_csv('../00_Data/data.csv', encoding= 'unicode_escape', na_values='nan')"
   ]
  },
  {
   "attachments": {},
   "cell_type": "markdown",
   "metadata": {},
   "source": [
    "# Initial Check of Data:\n",
    "Check of shape, data types, missing values and initial statics of the columns"
   ]
  },
  {
   "cell_type": "code",
   "execution_count": 712,
   "metadata": {},
   "outputs": [
    {
     "name": "stdout",
     "output_type": "stream",
     "text": [
      "(541909, 8)\n",
      "The dataframe consists of 8 columns and of 541909 rows\n"
     ]
    }
   ],
   "source": [
    "# Check shape of data \n",
    "print(df_online_retail.shape)\n",
    "print(\"The dataframe consists of\", df_online_retail.shape[1], \"columns and of\", df_online_retail.shape[0], \"rows\")"
   ]
  },
  {
   "cell_type": "code",
   "execution_count": 713,
   "metadata": {},
   "outputs": [
    {
     "data": {
      "text/html": [
       "<div>\n",
       "<style scoped>\n",
       "    .dataframe tbody tr th:only-of-type {\n",
       "        vertical-align: middle;\n",
       "    }\n",
       "\n",
       "    .dataframe tbody tr th {\n",
       "        vertical-align: top;\n",
       "    }\n",
       "\n",
       "    .dataframe thead th {\n",
       "        text-align: right;\n",
       "    }\n",
       "</style>\n",
       "<table border=\"1\" class=\"dataframe\">\n",
       "  <thead>\n",
       "    <tr style=\"text-align: right;\">\n",
       "      <th></th>\n",
       "      <th>InvoiceNo</th>\n",
       "      <th>StockCode</th>\n",
       "      <th>Description</th>\n",
       "      <th>Quantity</th>\n",
       "      <th>InvoiceDate</th>\n",
       "      <th>UnitPrice</th>\n",
       "      <th>CustomerID</th>\n",
       "      <th>Country</th>\n",
       "    </tr>\n",
       "  </thead>\n",
       "  <tbody>\n",
       "    <tr>\n",
       "      <th>0</th>\n",
       "      <td>536365</td>\n",
       "      <td>85123A</td>\n",
       "      <td>WHITE HANGING HEART T-LIGHT HOLDER</td>\n",
       "      <td>6</td>\n",
       "      <td>12/1/2010 8:26</td>\n",
       "      <td>2.55</td>\n",
       "      <td>17850.00</td>\n",
       "      <td>United Kingdom</td>\n",
       "    </tr>\n",
       "    <tr>\n",
       "      <th>1</th>\n",
       "      <td>536365</td>\n",
       "      <td>71053</td>\n",
       "      <td>WHITE METAL LANTERN</td>\n",
       "      <td>6</td>\n",
       "      <td>12/1/2010 8:26</td>\n",
       "      <td>3.39</td>\n",
       "      <td>17850.00</td>\n",
       "      <td>United Kingdom</td>\n",
       "    </tr>\n",
       "    <tr>\n",
       "      <th>2</th>\n",
       "      <td>536365</td>\n",
       "      <td>84406B</td>\n",
       "      <td>CREAM CUPID HEARTS COAT HANGER</td>\n",
       "      <td>8</td>\n",
       "      <td>12/1/2010 8:26</td>\n",
       "      <td>2.75</td>\n",
       "      <td>17850.00</td>\n",
       "      <td>United Kingdom</td>\n",
       "    </tr>\n",
       "    <tr>\n",
       "      <th>3</th>\n",
       "      <td>536365</td>\n",
       "      <td>84029G</td>\n",
       "      <td>KNITTED UNION FLAG HOT WATER BOTTLE</td>\n",
       "      <td>6</td>\n",
       "      <td>12/1/2010 8:26</td>\n",
       "      <td>3.39</td>\n",
       "      <td>17850.00</td>\n",
       "      <td>United Kingdom</td>\n",
       "    </tr>\n",
       "    <tr>\n",
       "      <th>4</th>\n",
       "      <td>536365</td>\n",
       "      <td>84029E</td>\n",
       "      <td>RED WOOLLY HOTTIE WHITE HEART.</td>\n",
       "      <td>6</td>\n",
       "      <td>12/1/2010 8:26</td>\n",
       "      <td>3.39</td>\n",
       "      <td>17850.00</td>\n",
       "      <td>United Kingdom</td>\n",
       "    </tr>\n",
       "  </tbody>\n",
       "</table>\n",
       "</div>"
      ],
      "text/plain": [
       "  InvoiceNo StockCode                          Description  Quantity  \\\n",
       "0    536365    85123A   WHITE HANGING HEART T-LIGHT HOLDER         6   \n",
       "1    536365     71053                  WHITE METAL LANTERN         6   \n",
       "2    536365    84406B       CREAM CUPID HEARTS COAT HANGER         8   \n",
       "3    536365    84029G  KNITTED UNION FLAG HOT WATER BOTTLE         6   \n",
       "4    536365    84029E       RED WOOLLY HOTTIE WHITE HEART.         6   \n",
       "\n",
       "      InvoiceDate  UnitPrice  CustomerID         Country  \n",
       "0  12/1/2010 8:26       2.55    17850.00  United Kingdom  \n",
       "1  12/1/2010 8:26       3.39    17850.00  United Kingdom  \n",
       "2  12/1/2010 8:26       2.75    17850.00  United Kingdom  \n",
       "3  12/1/2010 8:26       3.39    17850.00  United Kingdom  \n",
       "4  12/1/2010 8:26       3.39    17850.00  United Kingdom  "
      ]
     },
     "execution_count": 713,
     "metadata": {},
     "output_type": "execute_result"
    }
   ],
   "source": [
    "# Check first five rows of Data\n",
    "df_online_retail.head()"
   ]
  },
  {
   "cell_type": "code",
   "execution_count": 714,
   "metadata": {},
   "outputs": [
    {
     "name": "stdout",
     "output_type": "stream",
     "text": [
      "<class 'pandas.core.frame.DataFrame'>\n",
      "RangeIndex: 541909 entries, 0 to 541908\n",
      "Data columns (total 8 columns):\n",
      " #   Column       Non-Null Count   Dtype  \n",
      "---  ------       --------------   -----  \n",
      " 0   InvoiceNo    541909 non-null  object \n",
      " 1   StockCode    541909 non-null  object \n",
      " 2   Description  540455 non-null  object \n",
      " 3   Quantity     541909 non-null  int64  \n",
      " 4   InvoiceDate  541909 non-null  object \n",
      " 5   UnitPrice    541909 non-null  float64\n",
      " 6   CustomerID   406829 non-null  float64\n",
      " 7   Country      541909 non-null  object \n",
      "dtypes: float64(2), int64(1), object(5)\n",
      "memory usage: 33.1+ MB\n"
     ]
    }
   ],
   "source": [
    "# Check Data Types\n",
    "df_online_retail.info()"
   ]
  },
  {
   "cell_type": "code",
   "execution_count": 715,
   "metadata": {},
   "outputs": [
    {
     "data": {
      "text/html": [
       "<div>\n",
       "<style scoped>\n",
       "    .dataframe tbody tr th:only-of-type {\n",
       "        vertical-align: middle;\n",
       "    }\n",
       "\n",
       "    .dataframe tbody tr th {\n",
       "        vertical-align: top;\n",
       "    }\n",
       "\n",
       "    .dataframe thead th {\n",
       "        text-align: right;\n",
       "    }\n",
       "</style>\n",
       "<table border=\"1\" class=\"dataframe\">\n",
       "  <thead>\n",
       "    <tr style=\"text-align: right;\">\n",
       "      <th></th>\n",
       "      <th>No. NA</th>\n",
       "      <th>%NA</th>\n",
       "    </tr>\n",
       "  </thead>\n",
       "  <tbody>\n",
       "    <tr>\n",
       "      <th>CustomerID</th>\n",
       "      <td>135080</td>\n",
       "      <td>24.93</td>\n",
       "    </tr>\n",
       "    <tr>\n",
       "      <th>Description</th>\n",
       "      <td>1454</td>\n",
       "      <td>0.27</td>\n",
       "    </tr>\n",
       "    <tr>\n",
       "      <th>InvoiceNo</th>\n",
       "      <td>0</td>\n",
       "      <td>0.00</td>\n",
       "    </tr>\n",
       "    <tr>\n",
       "      <th>StockCode</th>\n",
       "      <td>0</td>\n",
       "      <td>0.00</td>\n",
       "    </tr>\n",
       "    <tr>\n",
       "      <th>Quantity</th>\n",
       "      <td>0</td>\n",
       "      <td>0.00</td>\n",
       "    </tr>\n",
       "    <tr>\n",
       "      <th>InvoiceDate</th>\n",
       "      <td>0</td>\n",
       "      <td>0.00</td>\n",
       "    </tr>\n",
       "    <tr>\n",
       "      <th>UnitPrice</th>\n",
       "      <td>0</td>\n",
       "      <td>0.00</td>\n",
       "    </tr>\n",
       "    <tr>\n",
       "      <th>Country</th>\n",
       "      <td>0</td>\n",
       "      <td>0.00</td>\n",
       "    </tr>\n",
       "  </tbody>\n",
       "</table>\n",
       "</div>"
      ],
      "text/plain": [
       "             No. NA   %NA\n",
       "CustomerID   135080 24.93\n",
       "Description    1454  0.27\n",
       "InvoiceNo         0  0.00\n",
       "StockCode         0  0.00\n",
       "Quantity          0  0.00\n",
       "InvoiceDate       0  0.00\n",
       "UnitPrice         0  0.00\n",
       "Country           0  0.00"
      ]
     },
     "execution_count": 715,
     "metadata": {},
     "output_type": "execute_result"
    }
   ],
   "source": [
    "# Check number of missing values per column\n",
    "missing_count = pd.DataFrame(df_online_retail.isnull().sum().sort_values(ascending=False), columns=['No. NA'])\n",
    "missing_perc = pd.DataFrame(round(df_online_retail.isnull().sum().sort_values(ascending=False)/len(df_online_retail)*100,2), columns=['%NA']) \n",
    "missing_values = pd.concat([missing_count, missing_perc], axis=1)\n",
    "missing_values"
   ]
  },
  {
   "attachments": {},
   "cell_type": "markdown",
   "metadata": {},
   "source": [
    "# Analysis of Missing Data"
   ]
  },
  {
   "cell_type": "code",
   "execution_count": 716,
   "metadata": {},
   "outputs": [
    {
     "data": {
      "text/html": [
       "<div>\n",
       "<style scoped>\n",
       "    .dataframe tbody tr th:only-of-type {\n",
       "        vertical-align: middle;\n",
       "    }\n",
       "\n",
       "    .dataframe tbody tr th {\n",
       "        vertical-align: top;\n",
       "    }\n",
       "\n",
       "    .dataframe thead th {\n",
       "        text-align: right;\n",
       "    }\n",
       "</style>\n",
       "<table border=\"1\" class=\"dataframe\">\n",
       "  <thead>\n",
       "    <tr style=\"text-align: right;\">\n",
       "      <th></th>\n",
       "      <th>InvoiceNo</th>\n",
       "      <th>StockCode</th>\n",
       "      <th>Description</th>\n",
       "      <th>Quantity</th>\n",
       "      <th>InvoiceDate</th>\n",
       "      <th>UnitPrice</th>\n",
       "      <th>CustomerID</th>\n",
       "      <th>Country</th>\n",
       "    </tr>\n",
       "  </thead>\n",
       "  <tbody>\n",
       "    <tr>\n",
       "      <th>622</th>\n",
       "      <td>536414</td>\n",
       "      <td>22139</td>\n",
       "      <td>NaN</td>\n",
       "      <td>56</td>\n",
       "      <td>12/1/2010 11:52</td>\n",
       "      <td>0.00</td>\n",
       "      <td>NaN</td>\n",
       "      <td>United Kingdom</td>\n",
       "    </tr>\n",
       "    <tr>\n",
       "      <th>1443</th>\n",
       "      <td>536544</td>\n",
       "      <td>21773</td>\n",
       "      <td>DECORATIVE ROSE BATHROOM BOTTLE</td>\n",
       "      <td>1</td>\n",
       "      <td>12/1/2010 14:32</td>\n",
       "      <td>2.51</td>\n",
       "      <td>NaN</td>\n",
       "      <td>United Kingdom</td>\n",
       "    </tr>\n",
       "    <tr>\n",
       "      <th>1444</th>\n",
       "      <td>536544</td>\n",
       "      <td>21774</td>\n",
       "      <td>DECORATIVE CATS BATHROOM BOTTLE</td>\n",
       "      <td>2</td>\n",
       "      <td>12/1/2010 14:32</td>\n",
       "      <td>2.51</td>\n",
       "      <td>NaN</td>\n",
       "      <td>United Kingdom</td>\n",
       "    </tr>\n",
       "    <tr>\n",
       "      <th>1445</th>\n",
       "      <td>536544</td>\n",
       "      <td>21786</td>\n",
       "      <td>POLKADOT RAIN HAT</td>\n",
       "      <td>4</td>\n",
       "      <td>12/1/2010 14:32</td>\n",
       "      <td>0.85</td>\n",
       "      <td>NaN</td>\n",
       "      <td>United Kingdom</td>\n",
       "    </tr>\n",
       "    <tr>\n",
       "      <th>1446</th>\n",
       "      <td>536544</td>\n",
       "      <td>21787</td>\n",
       "      <td>RAIN PONCHO RETROSPOT</td>\n",
       "      <td>2</td>\n",
       "      <td>12/1/2010 14:32</td>\n",
       "      <td>1.66</td>\n",
       "      <td>NaN</td>\n",
       "      <td>United Kingdom</td>\n",
       "    </tr>\n",
       "  </tbody>\n",
       "</table>\n",
       "</div>"
      ],
      "text/plain": [
       "     InvoiceNo StockCode                      Description  Quantity  \\\n",
       "622     536414     22139                              NaN        56   \n",
       "1443    536544     21773  DECORATIVE ROSE BATHROOM BOTTLE         1   \n",
       "1444    536544     21774  DECORATIVE CATS BATHROOM BOTTLE         2   \n",
       "1445    536544     21786               POLKADOT RAIN HAT          4   \n",
       "1446    536544     21787            RAIN PONCHO RETROSPOT         2   \n",
       "\n",
       "          InvoiceDate  UnitPrice  CustomerID         Country  \n",
       "622   12/1/2010 11:52       0.00         NaN  United Kingdom  \n",
       "1443  12/1/2010 14:32       2.51         NaN  United Kingdom  \n",
       "1444  12/1/2010 14:32       2.51         NaN  United Kingdom  \n",
       "1445  12/1/2010 14:32       0.85         NaN  United Kingdom  \n",
       "1446  12/1/2010 14:32       1.66         NaN  United Kingdom  "
      ]
     },
     "execution_count": 716,
     "metadata": {},
     "output_type": "execute_result"
    }
   ],
   "source": [
    "# Customer ID Null \n",
    "customer_nan = df_online_retail[df_online_retail['CustomerID'].isnull()]\n",
    "customer_nan.head()"
   ]
  },
  {
   "cell_type": "code",
   "execution_count": 717,
   "metadata": {},
   "outputs": [
    {
     "data": {
      "text/plain": [
       "InvoiceNo           0\n",
       "StockCode           0\n",
       "Description      1454\n",
       "Quantity            0\n",
       "InvoiceDate         0\n",
       "UnitPrice           0\n",
       "CustomerID     135080\n",
       "Country             0\n",
       "dtype: int64"
      ]
     },
     "execution_count": 717,
     "metadata": {},
     "output_type": "execute_result"
    }
   ],
   "source": [
    "# Further missing values\n",
    "customer_nan.isna().sum()"
   ]
  },
  {
   "attachments": {},
   "cell_type": "markdown",
   "metadata": {},
   "source": [
    "All missing values in \"Description\" correspond to missing values in \"Customer ID\". Dropping NA in \"Customer ID\" will also clean out missing data in \"Description\". "
   ]
  },
  {
   "cell_type": "code",
   "execution_count": 718,
   "metadata": {},
   "outputs": [
    {
     "data": {
      "text/plain": [
       "array([nan, 'DECORATIVE ROSE BATHROOM BOTTLE',\n",
       "       'DECORATIVE CATS BATHROOM BOTTLE', ...,\n",
       "       'LANDMARK FRAME COVENT GARDEN ', 'BLUE DISCO HANDBAG',\n",
       "       'CREAM HANGING HEART T-LIGHT HOLDER'], dtype=object)"
      ]
     },
     "execution_count": 718,
     "metadata": {},
     "output_type": "execute_result"
    }
   ],
   "source": [
    "customer_nan.Description.unique()"
   ]
  },
  {
   "cell_type": "code",
   "execution_count": 719,
   "metadata": {},
   "outputs": [
    {
     "name": "stdout",
     "output_type": "stream",
     "text": [
      "Description\n",
      "DOTCOM POSTAGE                         693\n",
      "JUMBO BAG RED RETROSPOT                497\n",
      "JUMBO STORAGE BAG SUKI                 414\n",
      "JUMBO SHOPPER VINTAGE RED PAISLEY      388\n",
      "JUMBO BAG WOODLAND ANIMALS             372\n",
      "                                      ... \n",
      "LANDMARK FRAME COVENT GARDEN             1\n",
      "LARGE APOTHECARY MEASURING JAR           1\n",
      "LARGE BONNE JAM JAR  T-LIGHT HOLDER      1\n",
      "LARGE HEART FLOWERS HOOK                 1\n",
      "wrongly sold sets                        1\n",
      "Length: 3554, dtype: int64\n"
     ]
    }
   ],
   "source": [
    "print(customer_nan.groupby(by='Description').size().sort_values(ascending=False))"
   ]
  },
  {
   "attachments": {},
   "cell_type": "markdown",
   "metadata": {},
   "source": [
    "**Potential Changes for Data**\n",
    "- Drop all Missing Values\n",
    "- Analyse Entries with Negative Quantity\n",
    "- Change Datetime Type & CustomerID to String\n",
    "- Use Label Encoder for StockCode & CustomerID"
   ]
  },
  {
   "attachments": {},
   "cell_type": "markdown",
   "metadata": {},
   "source": [
    "# Data Cleaning & Transformation"
   ]
  },
  {
   "attachments": {},
   "cell_type": "markdown",
   "metadata": {},
   "source": [
    "## Missing Data"
   ]
  },
  {
   "cell_type": "code",
   "execution_count": 720,
   "metadata": {},
   "outputs": [
    {
     "name": "stdout",
     "output_type": "stream",
     "text": [
      "<class 'pandas.core.frame.DataFrame'>\n",
      "RangeIndex: 541909 entries, 0 to 541908\n",
      "Data columns (total 8 columns):\n",
      " #   Column       Non-Null Count   Dtype         \n",
      "---  ------       --------------   -----         \n",
      " 0   InvoiceNo    541909 non-null  object        \n",
      " 1   StockCode    541909 non-null  object        \n",
      " 2   Description  540455 non-null  object        \n",
      " 3   Quantity     541909 non-null  int64         \n",
      " 4   InvoiceDate  541909 non-null  datetime64[ns]\n",
      " 5   UnitPrice    541909 non-null  float64       \n",
      " 6   CustomerID   406829 non-null  float64       \n",
      " 7   Country      541909 non-null  object        \n",
      "dtypes: datetime64[ns](1), float64(2), int64(1), object(4)\n",
      "memory usage: 33.1+ MB\n"
     ]
    }
   ],
   "source": [
    "# Data Type Transformations\n",
    "\n",
    "# Convert Invoice Date into Date time\n",
    "df_online_retail['InvoiceDate'] = pd.to_datetime(df_online_retail['InvoiceDate'])\n",
    "\n",
    "# Sanity Check\n",
    "df_online_retail.info()"
   ]
  },
  {
   "cell_type": "code",
   "execution_count": 721,
   "metadata": {},
   "outputs": [
    {
     "data": {
      "text/plain": [
       "InvoiceNo      0\n",
       "StockCode      0\n",
       "Description    0\n",
       "Quantity       0\n",
       "InvoiceDate    0\n",
       "UnitPrice      0\n",
       "CustomerID     0\n",
       "Country        0\n",
       "dtype: int64"
      ]
     },
     "execution_count": 721,
     "metadata": {},
     "output_type": "execute_result"
    }
   ],
   "source": [
    "# Drop NA for customer and check remaining NA\n",
    "df_online_retail = df_online_retail[df_online_retail['CustomerID'].notna()]\n",
    "df_online_retail.isnull().sum().sort_values(ascending=False)"
   ]
  },
  {
   "cell_type": "code",
   "execution_count": 722,
   "metadata": {},
   "outputs": [
    {
     "name": "stdout",
     "output_type": "stream",
     "text": [
      "Shape of transformed Dataframe: (406829, 8)\n",
      "135080 rows were removed from the Dataframe during data cleaning.\n"
     ]
    }
   ],
   "source": [
    "# Check Impact of Data Cleaning on Shape\n",
    "initial_number_rows = 541909\n",
    "print(\"Shape of transformed Dataframe:\", df_online_retail.shape)\n",
    "print(initial_number_rows - df_online_retail.shape[0], \"rows were removed from the Dataframe during data cleaning.\")\n"
   ]
  },
  {
   "attachments": {},
   "cell_type": "markdown",
   "metadata": {},
   "source": [
    "## Item & Label Encoding"
   ]
  },
  {
   "cell_type": "code",
   "execution_count": 723,
   "metadata": {},
   "outputs": [
    {
     "data": {
      "text/html": [
       "<div>\n",
       "<style scoped>\n",
       "    .dataframe tbody tr th:only-of-type {\n",
       "        vertical-align: middle;\n",
       "    }\n",
       "\n",
       "    .dataframe tbody tr th {\n",
       "        vertical-align: top;\n",
       "    }\n",
       "\n",
       "    .dataframe thead th {\n",
       "        text-align: right;\n",
       "    }\n",
       "</style>\n",
       "<table border=\"1\" class=\"dataframe\">\n",
       "  <thead>\n",
       "    <tr style=\"text-align: right;\">\n",
       "      <th></th>\n",
       "      <th>InvoiceNo</th>\n",
       "      <th>StockCode</th>\n",
       "      <th>Description</th>\n",
       "      <th>Quantity</th>\n",
       "      <th>InvoiceDate</th>\n",
       "      <th>UnitPrice</th>\n",
       "      <th>CustomerID</th>\n",
       "      <th>Country</th>\n",
       "    </tr>\n",
       "  </thead>\n",
       "  <tbody>\n",
       "    <tr>\n",
       "      <th>0</th>\n",
       "      <td>536365</td>\n",
       "      <td>3249</td>\n",
       "      <td>WHITE HANGING HEART T-LIGHT HOLDER</td>\n",
       "      <td>6</td>\n",
       "      <td>2010-12-01 08:26:00</td>\n",
       "      <td>2.55</td>\n",
       "      <td>4048</td>\n",
       "      <td>United Kingdom</td>\n",
       "    </tr>\n",
       "    <tr>\n",
       "      <th>1</th>\n",
       "      <td>536365</td>\n",
       "      <td>2649</td>\n",
       "      <td>WHITE METAL LANTERN</td>\n",
       "      <td>6</td>\n",
       "      <td>2010-12-01 08:26:00</td>\n",
       "      <td>3.39</td>\n",
       "      <td>4048</td>\n",
       "      <td>United Kingdom</td>\n",
       "    </tr>\n",
       "    <tr>\n",
       "      <th>2</th>\n",
       "      <td>536365</td>\n",
       "      <td>2855</td>\n",
       "      <td>CREAM CUPID HEARTS COAT HANGER</td>\n",
       "      <td>8</td>\n",
       "      <td>2010-12-01 08:26:00</td>\n",
       "      <td>2.75</td>\n",
       "      <td>4048</td>\n",
       "      <td>United Kingdom</td>\n",
       "    </tr>\n",
       "    <tr>\n",
       "      <th>3</th>\n",
       "      <td>536365</td>\n",
       "      <td>2803</td>\n",
       "      <td>KNITTED UNION FLAG HOT WATER BOTTLE</td>\n",
       "      <td>6</td>\n",
       "      <td>2010-12-01 08:26:00</td>\n",
       "      <td>3.39</td>\n",
       "      <td>4048</td>\n",
       "      <td>United Kingdom</td>\n",
       "    </tr>\n",
       "    <tr>\n",
       "      <th>4</th>\n",
       "      <td>536365</td>\n",
       "      <td>2802</td>\n",
       "      <td>RED WOOLLY HOTTIE WHITE HEART.</td>\n",
       "      <td>6</td>\n",
       "      <td>2010-12-01 08:26:00</td>\n",
       "      <td>3.39</td>\n",
       "      <td>4048</td>\n",
       "      <td>United Kingdom</td>\n",
       "    </tr>\n",
       "  </tbody>\n",
       "</table>\n",
       "</div>"
      ],
      "text/plain": [
       "  InvoiceNo StockCode                          Description  Quantity  \\\n",
       "0    536365      3249   WHITE HANGING HEART T-LIGHT HOLDER         6   \n",
       "1    536365      2649                  WHITE METAL LANTERN         6   \n",
       "2    536365      2855       CREAM CUPID HEARTS COAT HANGER         8   \n",
       "3    536365      2803  KNITTED UNION FLAG HOT WATER BOTTLE         6   \n",
       "4    536365      2802       RED WOOLLY HOTTIE WHITE HEART.         6   \n",
       "\n",
       "          InvoiceDate  UnitPrice CustomerID         Country  \n",
       "0 2010-12-01 08:26:00       2.55       4048  United Kingdom  \n",
       "1 2010-12-01 08:26:00       3.39       4048  United Kingdom  \n",
       "2 2010-12-01 08:26:00       2.75       4048  United Kingdom  \n",
       "3 2010-12-01 08:26:00       3.39       4048  United Kingdom  \n",
       "4 2010-12-01 08:26:00       3.39       4048  United Kingdom  "
      ]
     },
     "execution_count": 723,
     "metadata": {},
     "output_type": "execute_result"
    }
   ],
   "source": [
    "# User & Item  Label Encoder \n",
    "\n",
    "# Import LabelEncoder\n",
    "from sklearn.preprocessing import LabelEncoder\n",
    "\n",
    "# Convert CustomerID to String\n",
    "df_online_retail['CustomerID'] = df_online_retail['CustomerID'].astype(str)\n",
    "\n",
    "# Set up Objects for User and Item Column\n",
    "le1 = LabelEncoder()\n",
    "le2 = LabelEncoder()\n",
    "\n",
    "# Fit the encoders to the columns in question\n",
    "le1.fit(df_online_retail['StockCode'])\n",
    "le2.fit(df_online_retail['CustomerID'])\n",
    "\n",
    "# Transform dataframe with encoded labels\n",
    "df_online_retail['StockCode'] = le1.transform(df_online_retail['StockCode']).astype(str)\n",
    "df_online_retail['CustomerID'] = le2.transform(df_online_retail['CustomerID']).astype(str)\n",
    "\n",
    "# Check Change \n",
    "df_online_retail.head()"
   ]
  },
  {
   "attachments": {},
   "cell_type": "markdown",
   "metadata": {},
   "source": [
    "## Strange Descriptions"
   ]
  },
  {
   "cell_type": "code",
   "execution_count": 724,
   "metadata": {},
   "outputs": [
    {
     "data": {
      "text/plain": [
       "REGENCY CAKESTAND 3 TIER               181\n",
       "Manual                                 175\n",
       "POSTAGE                                 97\n",
       "JAM MAKING SET WITH JARS                86\n",
       "Discount                                77\n",
       "                                      ... \n",
       "FOLDING UMBRELLA CREAM POLKADOT          1\n",
       "JUMBO BAG CHARLIE AND LOLA TOYS          1\n",
       "LARGE CAKE TOWEL PINK SPOTS              1\n",
       "AIRLINE BAG VINTAGE WORLD CHAMPION       1\n",
       "PAPER CRAFT , LITTLE BIRDIE              1\n",
       "Name: Description, Length: 1945, dtype: int64"
      ]
     },
     "execution_count": 724,
     "metadata": {},
     "output_type": "execute_result"
    }
   ],
   "source": [
    "# Most of the Strange descriptions have a negative Quantiy \n",
    "df_negative_quantity = df_online_retail[df_online_retail['Quantity']<0]\n",
    "df_negative_quantity['Description'].value_counts()"
   ]
  },
  {
   "cell_type": "code",
   "execution_count": 725,
   "metadata": {},
   "outputs": [
    {
     "data": {
      "text/plain": [
       "array(['Discount', 'BAG 500g SWIRLY MARBLES',\n",
       "       'POLYESTER FILLER PAD 45x45cm', 'POLYESTER FILLER PAD 45x30cm',\n",
       "       'POLYESTER FILLER PAD 40x40cm', 'FRENCH BLUE METAL DOOR SIGN No',\n",
       "       'Manual', 'BAG 250g SWIRLY MARBLES', 'BAG 125g SWIRLY MARBLES',\n",
       "       'Bank Charges', 'NUMBER TILE COTTAGE GARDEN No',\n",
       "       'FOLK ART GREETING CARD,pack/12',\n",
       "       'ESSENTIAL BALM 3.5g TIN IN ENVELOPE',\n",
       "       'POLYESTER FILLER PAD 65CMx65CM', 'NUMBER TILE VINTAGE FONT No ',\n",
       "       'POLYESTER FILLER PAD 30CMx30CM', 'POLYESTER FILLER PAD 60x40cm',\n",
       "       'FLOWERS HANDBAG blue and orange', 'Next Day Carriage',\n",
       "       'THE KING GIFT BAG 25x24x12cm', 'CRUK Commission',\n",
       "       'High Resolution Image'], dtype=object)"
      ]
     },
     "execution_count": 725,
     "metadata": {},
     "output_type": "execute_result"
    }
   ],
   "source": [
    "# Most of the Strange Descriptions contain non-capital letters\n",
    "# Find out if Description contains non-capital letters  \n",
    "test = df_online_retail['Description'].str.contains('^(?:(?=.*[a-z])[A-Za-z]+)(?:\\s|$)')\n",
    "\n",
    "# Print unique Descriptions with non-capital letters\n",
    "df_online_retail[test]['Description'].unique()"
   ]
  },
  {
   "cell_type": "code",
   "execution_count": 726,
   "metadata": {},
   "outputs": [
    {
     "data": {
      "text/plain": [
       "array(['POSTAGE', 'Discount', 'CARRIAGE', 'Manual', 'SOMBRERO '],\n",
       "      dtype=object)"
      ]
     },
     "execution_count": 726,
     "metadata": {},
     "output_type": "execute_result"
    }
   ],
   "source": [
    "# Some of the strange descriptions contain only one word, such as \"manual\" or \"package\". This will be analyzed\n",
    "df_online_retail['Num_word_text'] = df_online_retail['Description'].apply(lambda x:len(str(x).split())) #Number Of words in main text\n",
    "df_online_retail[df_online_retail['Num_word_text']==1]['Description'].unique()"
   ]
  },
  {
   "cell_type": "code",
   "execution_count": 727,
   "metadata": {},
   "outputs": [],
   "source": [
    "# Filter out Discount,  Next Day Carriage, Postage \n",
    "df_online_retail = df_online_retail[df_online_retail['Description']!='Discount']\n",
    "df_online_retail = df_online_retail[df_online_retail['Description']!='Next Day Carriage']\n",
    "df_online_retail = df_online_retail[df_online_retail['Description']!='POSTAGE']\n",
    "df_online_retail = df_online_retail[df_online_retail['Description']!='Manual']"
   ]
  },
  {
   "attachments": {},
   "cell_type": "markdown",
   "metadata": {},
   "source": [
    "## Users & Items with less than 10 Interactions"
   ]
  },
  {
   "cell_type": "code",
   "execution_count": 728,
   "metadata": {},
   "outputs": [
    {
     "name": "stdout",
     "output_type": "stream",
     "text": [
      "initial unique items: 3680\n",
      "initial unique users: 4363\n"
     ]
    }
   ],
   "source": [
    "# Initial Values\n",
    "initial_items_unique=df_online_retail.StockCode.nunique()\n",
    "initial_users_unique=df_online_retail.CustomerID.nunique()\n",
    "print(\"initial unique items:\", initial_items_unique)\n",
    "print(\"initial unique users:\", initial_users_unique)"
   ]
  },
  {
   "cell_type": "code",
   "execution_count": 783,
   "metadata": {},
   "outputs": [],
   "source": [
    "# New df with counts of unique items per User \n",
    "users_itemcounts = df_online_retail.groupby('CustomerID')['StockCode'].nunique()\n",
    "\n",
    "# Filter out users with less than 10 unique items \n",
    "users_ten_items = users_itemcounts[users_itemcounts>=10].index\n",
    "\n",
    "# New df with counts of unique users per Item\n",
    "item_usercounts = df_online_retail.groupby('StockCode')['CustomerID'].nunique()\n",
    "\n",
    "# Filter out items with less than 10 unique users\n",
    "items_ten_users = item_usercounts[item_usercounts>=10].index\n",
    "\n",
    "# Filter dataframe \n",
    "df_online_retail = df_online_retail[\n",
    "    df_online_retail['CustomerID'].isin(users_ten_items) &\n",
    "    df_online_retail['StockCode'].isin(items_ten_users)\n",
    "] \n"
   ]
  },
  {
   "cell_type": "code",
   "execution_count": 784,
   "metadata": {},
   "outputs": [
    {
     "data": {
      "text/plain": [
       "InvoiceNo        20517\n",
       "StockCode         2786\n",
       "Description       3000\n",
       "Quantity           385\n",
       "InvoiceDate      19061\n",
       "UnitPrice          344\n",
       "CustomerID        3696\n",
       "Country             36\n",
       "Num_word_text        8\n",
       "dtype: int64"
      ]
     },
     "execution_count": 784,
     "metadata": {},
     "output_type": "execute_result"
    }
   ],
   "source": [
    "# Unique Users and Items\n",
    "df_online_retail.nunique()"
   ]
  },
  {
   "cell_type": "code",
   "execution_count": 785,
   "metadata": {},
   "outputs": [
    {
     "name": "stdout",
     "output_type": "stream",
     "text": [
      "Excluded Items: 894\n",
      "Excluded Users: 667\n"
     ]
    }
   ],
   "source": [
    "print(\"Excluded Items:\", initial_items_unique - df_online_retail.StockCode.nunique())\n",
    "print(\"Excluded Users:\", initial_users_unique - df_online_retail.CustomerID.nunique())"
   ]
  },
  {
   "attachments": {},
   "cell_type": "markdown",
   "metadata": {},
   "source": [
    "# Descriptive Data Analysis"
   ]
  },
  {
   "cell_type": "code",
   "execution_count": 786,
   "metadata": {},
   "outputs": [
    {
     "data": {
      "text/html": [
       "<div>\n",
       "<style scoped>\n",
       "    .dataframe tbody tr th:only-of-type {\n",
       "        vertical-align: middle;\n",
       "    }\n",
       "\n",
       "    .dataframe tbody tr th {\n",
       "        vertical-align: top;\n",
       "    }\n",
       "\n",
       "    .dataframe thead th {\n",
       "        text-align: right;\n",
       "    }\n",
       "</style>\n",
       "<table border=\"1\" class=\"dataframe\">\n",
       "  <thead>\n",
       "    <tr style=\"text-align: right;\">\n",
       "      <th></th>\n",
       "      <th>Quantity</th>\n",
       "      <th>UnitPrice</th>\n",
       "      <th>Num_word_text</th>\n",
       "    </tr>\n",
       "  </thead>\n",
       "  <tbody>\n",
       "    <tr>\n",
       "      <th>count</th>\n",
       "      <td>396528.00</td>\n",
       "      <td>396528.00</td>\n",
       "      <td>396528.00</td>\n",
       "    </tr>\n",
       "    <tr>\n",
       "      <th>mean</th>\n",
       "      <td>11.68</td>\n",
       "      <td>2.89</td>\n",
       "      <td>4.41</td>\n",
       "    </tr>\n",
       "    <tr>\n",
       "      <th>std</th>\n",
       "      <td>39.43</td>\n",
       "      <td>4.06</td>\n",
       "      <td>1.08</td>\n",
       "    </tr>\n",
       "    <tr>\n",
       "      <th>min</th>\n",
       "      <td>-9360.00</td>\n",
       "      <td>0.00</td>\n",
       "      <td>1.00</td>\n",
       "    </tr>\n",
       "    <tr>\n",
       "      <th>25%</th>\n",
       "      <td>2.00</td>\n",
       "      <td>1.25</td>\n",
       "      <td>4.00</td>\n",
       "    </tr>\n",
       "    <tr>\n",
       "      <th>50%</th>\n",
       "      <td>5.00</td>\n",
       "      <td>1.95</td>\n",
       "      <td>4.00</td>\n",
       "    </tr>\n",
       "    <tr>\n",
       "      <th>75%</th>\n",
       "      <td>12.00</td>\n",
       "      <td>3.75</td>\n",
       "      <td>5.00</td>\n",
       "    </tr>\n",
       "    <tr>\n",
       "      <th>max</th>\n",
       "      <td>4800.00</td>\n",
       "      <td>295.00</td>\n",
       "      <td>8.00</td>\n",
       "    </tr>\n",
       "  </tbody>\n",
       "</table>\n",
       "</div>"
      ],
      "text/plain": [
       "       Quantity  UnitPrice  Num_word_text\n",
       "count 396528.00  396528.00      396528.00\n",
       "mean      11.68       2.89           4.41\n",
       "std       39.43       4.06           1.08\n",
       "min    -9360.00       0.00           1.00\n",
       "25%        2.00       1.25           4.00\n",
       "50%        5.00       1.95           4.00\n",
       "75%       12.00       3.75           5.00\n",
       "max     4800.00     295.00           8.00"
      ]
     },
     "execution_count": 786,
     "metadata": {},
     "output_type": "execute_result"
    }
   ],
   "source": [
    "# Descriptive Statistics Numerical  \n",
    "df_online_retail.describe()"
   ]
  },
  {
   "cell_type": "code",
   "execution_count": 787,
   "metadata": {},
   "outputs": [
    {
     "data": {
      "text/html": [
       "<div>\n",
       "<style scoped>\n",
       "    .dataframe tbody tr th:only-of-type {\n",
       "        vertical-align: middle;\n",
       "    }\n",
       "\n",
       "    .dataframe tbody tr th {\n",
       "        vertical-align: top;\n",
       "    }\n",
       "\n",
       "    .dataframe thead th {\n",
       "        text-align: right;\n",
       "    }\n",
       "</style>\n",
       "<table border=\"1\" class=\"dataframe\">\n",
       "  <thead>\n",
       "    <tr style=\"text-align: right;\">\n",
       "      <th></th>\n",
       "      <th>InvoiceNo</th>\n",
       "      <th>StockCode</th>\n",
       "      <th>Description</th>\n",
       "      <th>CustomerID</th>\n",
       "      <th>Country</th>\n",
       "    </tr>\n",
       "  </thead>\n",
       "  <tbody>\n",
       "    <tr>\n",
       "      <th>count</th>\n",
       "      <td>396528</td>\n",
       "      <td>396528</td>\n",
       "      <td>396528</td>\n",
       "      <td>396528</td>\n",
       "      <td>396528</td>\n",
       "    </tr>\n",
       "    <tr>\n",
       "      <th>unique</th>\n",
       "      <td>20517</td>\n",
       "      <td>2786</td>\n",
       "      <td>3000</td>\n",
       "      <td>3696</td>\n",
       "      <td>36</td>\n",
       "    </tr>\n",
       "    <tr>\n",
       "      <th>top</th>\n",
       "      <td>576339</td>\n",
       "      <td>3249</td>\n",
       "      <td>WHITE HANGING HEART T-LIGHT HOLDER</td>\n",
       "      <td>4042</td>\n",
       "      <td>United Kingdom</td>\n",
       "    </tr>\n",
       "    <tr>\n",
       "      <th>freq</th>\n",
       "      <td>533</td>\n",
       "      <td>2032</td>\n",
       "      <td>2025</td>\n",
       "      <td>7889</td>\n",
       "      <td>353389</td>\n",
       "    </tr>\n",
       "  </tbody>\n",
       "</table>\n",
       "</div>"
      ],
      "text/plain": [
       "       InvoiceNo StockCode                         Description CustomerID  \\\n",
       "count     396528    396528                              396528     396528   \n",
       "unique     20517      2786                                3000       3696   \n",
       "top       576339      3249  WHITE HANGING HEART T-LIGHT HOLDER       4042   \n",
       "freq         533      2032                                2025       7889   \n",
       "\n",
       "               Country  \n",
       "count           396528  \n",
       "unique              36  \n",
       "top     United Kingdom  \n",
       "freq            353389  "
      ]
     },
     "execution_count": 787,
     "metadata": {},
     "output_type": "execute_result"
    }
   ],
   "source": [
    "# Descriptive Statistics Categorical\n",
    "df_online_retail.describe(include='object')"
   ]
  },
  {
   "cell_type": "code",
   "execution_count": 788,
   "metadata": {},
   "outputs": [
    {
     "name": "stdout",
     "output_type": "stream",
     "text": [
      "Sparcity: 97.4760164458657\n",
      "Unique Transactions: 259896\n",
      "Potential Transactions: 10297056\n",
      "Overall Transactions: 396528\n"
     ]
    }
   ],
   "source": [
    "# Sparcity in %\n",
    "# User x item Matrix  \n",
    "matrix = pd.pivot_table(df_online_retail, values='Quantity', index='CustomerID', columns='StockCode')\n",
    "\n",
    "# Group by InvoiceNo and calculate the number of appearances and the product of Quantity and UnitPrice\n",
    "df_interactions = df_online_retail.groupby(['StockCode', 'CustomerID']).agg({'CustomerID': 'count'})\n",
    "\n",
    "# Rename the columns\n",
    "df_interactions.columns = ['NumberOrders']\n",
    "\n",
    "# Reset the index\n",
    "df_interactions.reset_index(inplace=True)\n",
    "\n",
    "# Sparcity in %\n",
    "print(\"Sparcity:\", 100-((df_interactions.shape[0] / (matrix.shape[0]*matrix.shape[1]))*100))\n",
    "print(\"Unique Transactions:\", df_interactions.shape[0])\n",
    "print(\"Potential Transactions:\", matrix.shape[0]*matrix.shape[1])\n",
    "print(\"Overall Transactions:\", df_online_retail.shape[0])"
   ]
  },
  {
   "cell_type": "code",
   "execution_count": 789,
   "metadata": {},
   "outputs": [
    {
     "data": {
      "text/plain": [
       "0.02523983554134308"
      ]
     },
     "execution_count": 789,
     "metadata": {},
     "output_type": "execute_result"
    }
   ],
   "source": [
    "259896 / 10297056"
   ]
  },
  {
   "cell_type": "code",
   "execution_count": 790,
   "metadata": {},
   "outputs": [
    {
     "data": {
      "text/plain": [
       "136454"
      ]
     },
     "execution_count": 790,
     "metadata": {},
     "output_type": "execute_result"
    }
   ],
   "source": [
    "396528 - 260074"
   ]
  },
  {
   "attachments": {},
   "cell_type": "markdown",
   "metadata": {},
   "source": [
    "## Categorical Values"
   ]
  },
  {
   "attachments": {},
   "cell_type": "markdown",
   "metadata": {},
   "source": [
    "### InvoiceNo & Transaction Dates"
   ]
  },
  {
   "cell_type": "code",
   "execution_count": 791,
   "metadata": {},
   "outputs": [
    {
     "name": "stdout",
     "output_type": "stream",
     "text": [
      "Number of unique orders 20517\n"
     ]
    }
   ],
   "source": [
    "print('Number of unique orders', df_online_retail.InvoiceNo.nunique()) "
   ]
  },
  {
   "cell_type": "code",
   "execution_count": 792,
   "metadata": {},
   "outputs": [
    {
     "data": {
      "text/html": [
       "<div>\n",
       "<style scoped>\n",
       "    .dataframe tbody tr th:only-of-type {\n",
       "        vertical-align: middle;\n",
       "    }\n",
       "\n",
       "    .dataframe tbody tr th {\n",
       "        vertical-align: top;\n",
       "    }\n",
       "\n",
       "    .dataframe thead th {\n",
       "        text-align: right;\n",
       "    }\n",
       "</style>\n",
       "<table border=\"1\" class=\"dataframe\">\n",
       "  <thead>\n",
       "    <tr style=\"text-align: right;\">\n",
       "      <th></th>\n",
       "      <th>InvoiceNo</th>\n",
       "      <th>NoItems</th>\n",
       "      <th>Amount</th>\n",
       "    </tr>\n",
       "  </thead>\n",
       "  <tbody>\n",
       "    <tr>\n",
       "      <th>0</th>\n",
       "      <td>536365</td>\n",
       "      <td>7</td>\n",
       "      <td>1094.80</td>\n",
       "    </tr>\n",
       "    <tr>\n",
       "      <th>1</th>\n",
       "      <td>536366</td>\n",
       "      <td>2</td>\n",
       "      <td>44.40</td>\n",
       "    </tr>\n",
       "    <tr>\n",
       "      <th>2</th>\n",
       "      <td>536367</td>\n",
       "      <td>11</td>\n",
       "      <td>3972.91</td>\n",
       "    </tr>\n",
       "    <tr>\n",
       "      <th>3</th>\n",
       "      <td>536368</td>\n",
       "      <td>4</td>\n",
       "      <td>286.50</td>\n",
       "    </tr>\n",
       "    <tr>\n",
       "      <th>4</th>\n",
       "      <td>536369</td>\n",
       "      <td>1</td>\n",
       "      <td>17.85</td>\n",
       "    </tr>\n",
       "  </tbody>\n",
       "</table>\n",
       "</div>"
      ],
      "text/plain": [
       "  InvoiceNo  NoItems  Amount\n",
       "0    536365        7 1094.80\n",
       "1    536366        2   44.40\n",
       "2    536367       11 3972.91\n",
       "3    536368        4  286.50\n",
       "4    536369        1   17.85"
      ]
     },
     "execution_count": 792,
     "metadata": {},
     "output_type": "execute_result"
    }
   ],
   "source": [
    "# Create DataFrame\n",
    "# Group by InvoiceNo and calculate the number of appearances and the product of Quantity and UnitPrice\n",
    "df_orders = df_online_retail.groupby('InvoiceNo').agg({'InvoiceNo': 'count', 'Quantity': 'sum', 'UnitPrice': 'sum'})\n",
    "\n",
    "# Rename the columns\n",
    "df_orders.columns = ['NoItems', 'TotalQuantity', 'TotalUnitPrice']\n",
    "\n",
    "# Calculate the product of Quantity and UnitPrice\n",
    "df_orders['Amount'] = df_orders['TotalQuantity'] * df_orders['TotalUnitPrice']\n",
    "\n",
    "# Reset the index\n",
    "df_orders.reset_index(inplace=True)\n",
    "\n",
    "# Rename the dataframe to df_orders\n",
    "df_orders = df_orders[['InvoiceNo', 'NoItems', 'Amount']]\n",
    "\n",
    "# Print the new dataframe\n",
    "df_orders.head()"
   ]
  },
  {
   "cell_type": "code",
   "execution_count": 793,
   "metadata": {},
   "outputs": [
    {
     "data": {
      "text/html": [
       "<div>\n",
       "<style scoped>\n",
       "    .dataframe tbody tr th:only-of-type {\n",
       "        vertical-align: middle;\n",
       "    }\n",
       "\n",
       "    .dataframe tbody tr th {\n",
       "        vertical-align: top;\n",
       "    }\n",
       "\n",
       "    .dataframe thead th {\n",
       "        text-align: right;\n",
       "    }\n",
       "</style>\n",
       "<table border=\"1\" class=\"dataframe\">\n",
       "  <thead>\n",
       "    <tr style=\"text-align: right;\">\n",
       "      <th></th>\n",
       "      <th>NoItems</th>\n",
       "      <th>Amount</th>\n",
       "    </tr>\n",
       "  </thead>\n",
       "  <tbody>\n",
       "    <tr>\n",
       "      <th>count</th>\n",
       "      <td>20517.00</td>\n",
       "      <td>20517.00</td>\n",
       "    </tr>\n",
       "    <tr>\n",
       "      <th>mean</th>\n",
       "      <td>19.33</td>\n",
       "      <td>21340.48</td>\n",
       "    </tr>\n",
       "    <tr>\n",
       "      <th>std</th>\n",
       "      <td>24.09</td>\n",
       "      <td>119101.79</td>\n",
       "    </tr>\n",
       "    <tr>\n",
       "      <th>min</th>\n",
       "      <td>1.00</td>\n",
       "      <td>-267618.04</td>\n",
       "    </tr>\n",
       "    <tr>\n",
       "      <th>25%</th>\n",
       "      <td>4.00</td>\n",
       "      <td>530.86</td>\n",
       "    </tr>\n",
       "    <tr>\n",
       "      <th>50%</th>\n",
       "      <td>13.00</td>\n",
       "      <td>4896.95</td>\n",
       "    </tr>\n",
       "    <tr>\n",
       "      <th>75%</th>\n",
       "      <td>25.00</td>\n",
       "      <td>14784.60</td>\n",
       "    </tr>\n",
       "    <tr>\n",
       "      <th>max</th>\n",
       "      <td>533.00</td>\n",
       "      <td>5076505.96</td>\n",
       "    </tr>\n",
       "  </tbody>\n",
       "</table>\n",
       "</div>"
      ],
      "text/plain": [
       "       NoItems     Amount\n",
       "count 20517.00   20517.00\n",
       "mean     19.33   21340.48\n",
       "std      24.09  119101.79\n",
       "min       1.00 -267618.04\n",
       "25%       4.00     530.86\n",
       "50%      13.00    4896.95\n",
       "75%      25.00   14784.60\n",
       "max     533.00 5076505.96"
      ]
     },
     "execution_count": 793,
     "metadata": {},
     "output_type": "execute_result"
    }
   ],
   "source": [
    "# Disable scientific notation\n",
    "pd.set_option('display.float_format', '{:.2f}'.format)\n",
    "df_orders.describe()"
   ]
  },
  {
   "cell_type": "code",
   "execution_count": 794,
   "metadata": {},
   "outputs": [
    {
     "data": {
      "text/plain": [
       "1"
      ]
     },
     "execution_count": 794,
     "metadata": {},
     "output_type": "execute_result"
    }
   ],
   "source": [
    "# Mode of Number of Items per Order \n",
    "df_orders['NoItems'].mode()[0]"
   ]
  },
  {
   "cell_type": "code",
   "execution_count": 795,
   "metadata": {},
   "outputs": [
    {
     "data": {
      "text/plain": [
       "2658"
      ]
     },
     "execution_count": 795,
     "metadata": {},
     "output_type": "execute_result"
    }
   ],
   "source": [
    "# How many orders consisted of 1 item \n",
    "len(df_orders[df_orders['NoItems']==1])"
   ]
  },
  {
   "cell_type": "code",
   "execution_count": 796,
   "metadata": {},
   "outputs": [
    {
     "data": {
      "text/plain": [
       "2658"
      ]
     },
     "execution_count": 796,
     "metadata": {},
     "output_type": "execute_result"
    }
   ],
   "source": [
    "# How many orders consisted of 1 item \n",
    "len(df_orders[df_orders['NoItems']==1])"
   ]
  },
  {
   "cell_type": "code",
   "execution_count": 797,
   "metadata": {},
   "outputs": [
    {
     "name": "stderr",
     "output_type": "stream",
     "text": [
      "/var/folders/bs/ht_t1wp94tl3wt5xhchcxq2m0000gn/T/ipykernel_83121/2448532773.py:35: UserWarning: Matplotlib is currently using module://matplotlib_inline.backend_inline, which is a non-GUI backend, so cannot show the figure.\n",
      "  fig.show()\n"
     ]
    },
    {
     "data": {
      "image/png": "[encoded data removed]",
      "text/plain": [
       "<Figure size 1200x400 with 2 Axes>"
      ]
     },
     "metadata": {},
     "output_type": "display_data"
    }
   ],
   "source": [
    "# Visualization of Order Volumes \n",
    "# Histogram & Boxplot\n",
    "\n",
    "# Define feature column\n",
    "feature = df_orders['NoItems']\n",
    "\n",
    "# Create a figure for 2 subplots (2 rows, 1 column)\n",
    "fig, ax = plt.subplots(1, 2, figsize = (12,4))\n",
    "\n",
    "\n",
    "# Plot the histogram   \n",
    "ax[0].hist(feature, bins=100)\n",
    "ax[0].set_ylabel('Frequency', fontname='Arial')\n",
    "ax[0].set_xlabel('Number of Unique Items per Order', fontname='Arial')\n",
    "ax[0].ticklabel_format(useOffset=False, style='plain')\n",
    "\n",
    "# Add lines for the mean, median, mode, min and max\n",
    "ax[0].axvline(feature.min(), color = 'yellow', linestyle='dashed', linewidth = 1)\n",
    "ax[0].axvline(feature.mean(), color='magenta', linestyle='dashed', linewidth=1)\n",
    "ax[0].axvline(feature.median(), color='cyan', linestyle='dashed', linewidth=1)\n",
    "ax[0].axvline(feature.max(), color = 'gray', linestyle='dashed', linewidth = 1)\n",
    "\n",
    "# Plot the boxplot   \n",
    "ax[1].boxplot(feature, vert=False)\n",
    "ax[1].set_xlabel('Number of Unique Items per Order', fontname='Arial')\n",
    "ax[1].axvline(feature.min(), color = 'yellow', linestyle='dashed', linewidth = 1)\n",
    "ax[1].axvline(feature.mean(), color='magenta', linestyle='dashed', linewidth=1)\n",
    "ax[1].axvline(feature.median(), color='cyan', linestyle='dashed', linewidth=1)\n",
    "ax[1].axvline(feature.max(), color = 'gray', linestyle='dashed', linewidth = 1)\n",
    "\n",
    "# Add a title to the Figure\n",
    "fig.suptitle('Distribution of Order Volumes',fontname='Arial')\n",
    "\n",
    "# Show the figure\n",
    "fig.show()"
   ]
  },
  {
   "attachments": {},
   "cell_type": "markdown",
   "metadata": {},
   "source": [
    "### Number of Items per User"
   ]
  },
  {
   "cell_type": "code",
   "execution_count": 798,
   "metadata": {},
   "outputs": [
    {
     "data": {
      "text/html": [
       "<div>\n",
       "<style scoped>\n",
       "    .dataframe tbody tr th:only-of-type {\n",
       "        vertical-align: middle;\n",
       "    }\n",
       "\n",
       "    .dataframe tbody tr th {\n",
       "        vertical-align: top;\n",
       "    }\n",
       "\n",
       "    .dataframe thead th {\n",
       "        text-align: right;\n",
       "    }\n",
       "</style>\n",
       "<table border=\"1\" class=\"dataframe\">\n",
       "  <thead>\n",
       "    <tr style=\"text-align: right;\">\n",
       "      <th></th>\n",
       "      <th>CustomerID</th>\n",
       "      <th>NumberItems</th>\n",
       "    </tr>\n",
       "  </thead>\n",
       "  <tbody>\n",
       "    <tr>\n",
       "      <th>0</th>\n",
       "      <td>1</td>\n",
       "      <td>181</td>\n",
       "    </tr>\n",
       "    <tr>\n",
       "      <th>1</th>\n",
       "      <td>10</td>\n",
       "      <td>130</td>\n",
       "    </tr>\n",
       "    <tr>\n",
       "      <th>2</th>\n",
       "      <td>100</td>\n",
       "      <td>509</td>\n",
       "    </tr>\n",
       "    <tr>\n",
       "      <th>3</th>\n",
       "      <td>1003</td>\n",
       "      <td>54</td>\n",
       "    </tr>\n",
       "    <tr>\n",
       "      <th>4</th>\n",
       "      <td>1005</td>\n",
       "      <td>557</td>\n",
       "    </tr>\n",
       "  </tbody>\n",
       "</table>\n",
       "</div>"
      ],
      "text/plain": [
       "  CustomerID  NumberItems\n",
       "0          1          181\n",
       "1         10          130\n",
       "2        100          509\n",
       "3       1003           54\n",
       "4       1005          557"
      ]
     },
     "execution_count": 798,
     "metadata": {},
     "output_type": "execute_result"
    }
   ],
   "source": [
    "# Create DataFrmmae\n",
    "# Group by InvoiceNo and calculate the number of appearances and the product of Quantity and UnitPrice\n",
    "df_users = df_online_retail.groupby('CustomerID').agg({'CustomerID': 'count'})\n",
    "\n",
    "# Rename the columns\n",
    "df_users.columns = ['NumberItems']\n",
    "\n",
    "# Reset the index\n",
    "df_users.reset_index(inplace=True)\n",
    "\n",
    "df_users.head()\n"
   ]
  },
  {
   "cell_type": "code",
   "execution_count": 799,
   "metadata": {},
   "outputs": [
    {
     "data": {
      "text/plain": [
       "3696"
      ]
     },
     "execution_count": 799,
     "metadata": {},
     "output_type": "execute_result"
    }
   ],
   "source": [
    "len(df_users[df_users['NumberItems']>=10])"
   ]
  },
  {
   "cell_type": "code",
   "execution_count": 800,
   "metadata": {},
   "outputs": [
    {
     "data": {
      "image/png": "[encoded data removed]",
      "text/plain": [
       "<Figure size 600x300 with 1 Axes>"
      ]
     },
     "metadata": {},
     "output_type": "display_data"
    }
   ],
   "source": [
    "# Define Figure Size\n",
    "plt.rcParams[\"figure.figsize\"] = (6,3)\n",
    "# Choose \n",
    "df_user_hist = df_users[df_users['NumberItems']<342]\n",
    "plt.hist(df_user_hist.NumberItems, bins=100)\n",
    "plt.axvline(df_users.NumberItems.median(), color = 'red', linestyle='dashed', linewidth = 1)\n",
    "plt.axvline(df_users.NumberItems.mean(), color = 'blue', linestyle='dashed', linewidth = 1)\n",
    "plt.title('Number of Items Purchased per Customer up until the 95th Percentile', fontname='Arial')\n",
    "plt.show()"
   ]
  },
  {
   "cell_type": "code",
   "execution_count": 801,
   "metadata": {},
   "outputs": [
    {
     "data": {
      "text/html": [
       "<div>\n",
       "<style scoped>\n",
       "    .dataframe tbody tr th:only-of-type {\n",
       "        vertical-align: middle;\n",
       "    }\n",
       "\n",
       "    .dataframe tbody tr th {\n",
       "        vertical-align: top;\n",
       "    }\n",
       "\n",
       "    .dataframe thead th {\n",
       "        text-align: right;\n",
       "    }\n",
       "</style>\n",
       "<table border=\"1\" class=\"dataframe\">\n",
       "  <thead>\n",
       "    <tr style=\"text-align: right;\">\n",
       "      <th></th>\n",
       "      <th>NumberItems</th>\n",
       "    </tr>\n",
       "  </thead>\n",
       "  <tbody>\n",
       "    <tr>\n",
       "      <th>count</th>\n",
       "      <td>3696.00</td>\n",
       "    </tr>\n",
       "    <tr>\n",
       "      <th>mean</th>\n",
       "      <td>107.29</td>\n",
       "    </tr>\n",
       "    <tr>\n",
       "      <th>std</th>\n",
       "      <td>245.26</td>\n",
       "    </tr>\n",
       "    <tr>\n",
       "      <th>min</th>\n",
       "      <td>10.00</td>\n",
       "    </tr>\n",
       "    <tr>\n",
       "      <th>25%</th>\n",
       "      <td>26.00</td>\n",
       "    </tr>\n",
       "    <tr>\n",
       "      <th>50%</th>\n",
       "      <td>53.00</td>\n",
       "    </tr>\n",
       "    <tr>\n",
       "      <th>75%</th>\n",
       "      <td>116.00</td>\n",
       "    </tr>\n",
       "    <tr>\n",
       "      <th>max</th>\n",
       "      <td>7889.00</td>\n",
       "    </tr>\n",
       "  </tbody>\n",
       "</table>\n",
       "</div>"
      ],
      "text/plain": [
       "       NumberItems\n",
       "count      3696.00\n",
       "mean        107.29\n",
       "std         245.26\n",
       "min          10.00\n",
       "25%          26.00\n",
       "50%          53.00\n",
       "75%         116.00\n",
       "max        7889.00"
      ]
     },
     "execution_count": 801,
     "metadata": {},
     "output_type": "execute_result"
    }
   ],
   "source": [
    "df_users.describe()"
   ]
  },
  {
   "cell_type": "code",
   "execution_count": 802,
   "metadata": {},
   "outputs": [
    {
     "data": {
      "text/plain": [
       "341.25"
      ]
     },
     "execution_count": 802,
     "metadata": {},
     "output_type": "execute_result"
    }
   ],
   "source": [
    "df_users.NumberItems.quantile(.95)"
   ]
  },
  {
   "attachments": {},
   "cell_type": "markdown",
   "metadata": {},
   "source": [
    "### Number of Orders per Item"
   ]
  },
  {
   "cell_type": "code",
   "execution_count": 803,
   "metadata": {},
   "outputs": [
    {
     "data": {
      "text/html": [
       "<div>\n",
       "<style scoped>\n",
       "    .dataframe tbody tr th:only-of-type {\n",
       "        vertical-align: middle;\n",
       "    }\n",
       "\n",
       "    .dataframe tbody tr th {\n",
       "        vertical-align: top;\n",
       "    }\n",
       "\n",
       "    .dataframe thead th {\n",
       "        text-align: right;\n",
       "    }\n",
       "</style>\n",
       "<table border=\"1\" class=\"dataframe\">\n",
       "  <thead>\n",
       "    <tr style=\"text-align: right;\">\n",
       "      <th></th>\n",
       "      <th>StockCode</th>\n",
       "      <th>NumberOrders</th>\n",
       "    </tr>\n",
       "  </thead>\n",
       "  <tbody>\n",
       "    <tr>\n",
       "      <th>0</th>\n",
       "      <td>0</td>\n",
       "      <td>49</td>\n",
       "    </tr>\n",
       "    <tr>\n",
       "      <th>1</th>\n",
       "      <td>1</td>\n",
       "      <td>21</td>\n",
       "    </tr>\n",
       "    <tr>\n",
       "      <th>2</th>\n",
       "      <td>10</td>\n",
       "      <td>12</td>\n",
       "    </tr>\n",
       "    <tr>\n",
       "      <th>3</th>\n",
       "      <td>100</td>\n",
       "      <td>47</td>\n",
       "    </tr>\n",
       "    <tr>\n",
       "      <th>4</th>\n",
       "      <td>1000</td>\n",
       "      <td>153</td>\n",
       "    </tr>\n",
       "  </tbody>\n",
       "</table>\n",
       "</div>"
      ],
      "text/plain": [
       "  StockCode  NumberOrders\n",
       "0         0            49\n",
       "1         1            21\n",
       "2        10            12\n",
       "3       100            47\n",
       "4      1000           153"
      ]
     },
     "execution_count": 803,
     "metadata": {},
     "output_type": "execute_result"
    }
   ],
   "source": [
    "# Create DataFrmmae\n",
    "# Group by InvoiceNo and calculate the number of appearances and the product of Quantity and UnitPrice\n",
    "df_items = df_online_retail.groupby('StockCode').agg({'StockCode': 'count'})\n",
    "\n",
    "# Rename the columns\n",
    "df_items.columns = ['NumberOrders']\n",
    "\n",
    "# Reset the index\n",
    "df_items.reset_index(inplace=True)\n",
    "\n",
    "df_items.head()\n"
   ]
  },
  {
   "cell_type": "code",
   "execution_count": 804,
   "metadata": {},
   "outputs": [
    {
     "data": {
      "text/html": [
       "<div>\n",
       "<style scoped>\n",
       "    .dataframe tbody tr th:only-of-type {\n",
       "        vertical-align: middle;\n",
       "    }\n",
       "\n",
       "    .dataframe tbody tr th {\n",
       "        vertical-align: top;\n",
       "    }\n",
       "\n",
       "    .dataframe thead th {\n",
       "        text-align: right;\n",
       "    }\n",
       "</style>\n",
       "<table border=\"1\" class=\"dataframe\">\n",
       "  <thead>\n",
       "    <tr style=\"text-align: right;\">\n",
       "      <th></th>\n",
       "      <th>NumberOrders</th>\n",
       "    </tr>\n",
       "  </thead>\n",
       "  <tbody>\n",
       "    <tr>\n",
       "      <th>count</th>\n",
       "      <td>2786.00</td>\n",
       "    </tr>\n",
       "    <tr>\n",
       "      <th>mean</th>\n",
       "      <td>142.33</td>\n",
       "    </tr>\n",
       "    <tr>\n",
       "      <th>std</th>\n",
       "      <td>176.52</td>\n",
       "    </tr>\n",
       "    <tr>\n",
       "      <th>min</th>\n",
       "      <td>10.00</td>\n",
       "    </tr>\n",
       "    <tr>\n",
       "      <th>25%</th>\n",
       "      <td>36.00</td>\n",
       "    </tr>\n",
       "    <tr>\n",
       "      <th>50%</th>\n",
       "      <td>82.00</td>\n",
       "    </tr>\n",
       "    <tr>\n",
       "      <th>75%</th>\n",
       "      <td>176.00</td>\n",
       "    </tr>\n",
       "    <tr>\n",
       "      <th>max</th>\n",
       "      <td>2032.00</td>\n",
       "    </tr>\n",
       "  </tbody>\n",
       "</table>\n",
       "</div>"
      ],
      "text/plain": [
       "       NumberOrders\n",
       "count       2786.00\n",
       "mean         142.33\n",
       "std          176.52\n",
       "min           10.00\n",
       "25%           36.00\n",
       "50%           82.00\n",
       "75%          176.00\n",
       "max         2032.00"
      ]
     },
     "execution_count": 804,
     "metadata": {},
     "output_type": "execute_result"
    }
   ],
   "source": [
    "df_items.describe()"
   ]
  },
  {
   "cell_type": "code",
   "execution_count": 852,
   "metadata": {},
   "outputs": [
    {
     "name": "stderr",
     "output_type": "stream",
     "text": [
      "/var/folders/bs/ht_t1wp94tl3wt5xhchcxq2m0000gn/T/ipykernel_83121/3839021118.py:36: UserWarning: Matplotlib is currently using module://matplotlib_inline.backend_inline, which is a non-GUI backend, so cannot show the figure.\n",
      "  fig.show()\n"
     ]
    },
    {
     "data": {
      "image/png": "[encoded data removed]",
      "text/plain": [
       "<Figure size 1200x400 with 2 Axes>"
      ]
     },
     "metadata": {},
     "output_type": "display_data"
    }
   ],
   "source": [
    "# Visualization of Item Purchase Frequency \n",
    "# Histogram & Boxplot\n",
    "\n",
    "# Define feature column\n",
    "feature = df_items['NumberOrders']\n",
    "\n",
    "# Create a figure for 2 subplots (2 rows, 1 column)\n",
    "fig, ax = plt.subplots(1, 2, figsize = (12,4))\n",
    "\n",
    "\n",
    "# Plot the histogram   \n",
    "ax[0].hist(feature, bins=100)\n",
    "ax[0].set_ylabel('Frequency', fontname='Arial')\n",
    "ax[0].set_xlabel('Number of Orders per Item', fontname='Arial')\n",
    "ax[0].ticklabel_format(useOffset=False, style='plain')\n",
    "\n",
    "# Add lines for the mean, median, mode, min and max\n",
    "#ax[0].axvline(feature.min(), color = 'yellow', linestyle='dashed', linewidth = 1)\n",
    "ax[0].axvline(feature.mean(), color='magenta', linestyle='dashed', linewidth=1)\n",
    "ax[0].axvline(feature.median(), color='cyan', linestyle='dashed', linewidth=1)\n",
    "ax[0].axvline(feature.max(), color = 'gray', linestyle='dashed', linewidth = 1)\n",
    "#ax[0].axvline(feature.quantile(.95), color = 'red', linestyle='dashed', linewidth = 1)\n",
    "\n",
    "# Plot the boxplot   \n",
    "ax[1].boxplot(feature, vert=False)\n",
    "ax[1].set_xlabel('Number of Orders per Item', fontname='Arial')\n",
    "#ax[1].axvline(feature.min(), color = 'yellow', linestyle='dashed', linewidth = 1)\n",
    "ax[1].axvline(feature.mean(), color='magenta', linestyle='dashed', linewidth=1)\n",
    "ax[1].axvline(feature.median(), color='cyan', linestyle='dashed', linewidth=1)\n",
    "ax[1].axvline(feature.max(), color = 'gray', linestyle='dashed', linewidth = 1)\n",
    "#ax[1].axvline(feature.quantile(.95), color = 'red', linestyle='dashed', linewidth = 1)\n",
    "# Add a title to the Figure\n",
    "#fig.suptitle('Popular Items',fontname='Arial')\n",
    "\n",
    "# Show the figure\n",
    "fig.show()"
   ]
  },
  {
   "cell_type": "code",
   "execution_count": 806,
   "metadata": {},
   "outputs": [
    {
     "data": {
      "text/plain": [
       "705.0999999999954"
      ]
     },
     "execution_count": 806,
     "metadata": {},
     "output_type": "execute_result"
    }
   ],
   "source": [
    "# Threshold for Popular items at 90th quantiale \n",
    "feature.quantile(0.98)"
   ]
  },
  {
   "cell_type": "code",
   "execution_count": 807,
   "metadata": {},
   "outputs": [
    {
     "data": {
      "text/plain": [
       "54"
      ]
     },
     "execution_count": 807,
     "metadata": {},
     "output_type": "execute_result"
    }
   ],
   "source": [
    "# Number of items above Popularity Threshold\n",
    "len(df_items[df_items['NumberOrders']>=717.4799999999996])"
   ]
  },
  {
   "cell_type": "code",
   "execution_count": 808,
   "metadata": {},
   "outputs": [
    {
     "data": {
      "text/plain": [
       "2982"
      ]
     },
     "execution_count": 808,
     "metadata": {},
     "output_type": "execute_result"
    }
   ],
   "source": [
    "3699 - 717"
   ]
  },
  {
   "cell_type": "code",
   "execution_count": 809,
   "metadata": {},
   "outputs": [
    {
     "data": {
      "text/plain": [
       "0.0023931772691671745"
      ]
     },
     "execution_count": 809,
     "metadata": {},
     "output_type": "execute_result"
    }
   ],
   "source": [
    "55 / 22982"
   ]
  },
  {
   "cell_type": "code",
   "execution_count": 850,
   "metadata": {},
   "outputs": [
    {
     "data": {
      "image/png": "[encoded data removed]",
      "text/plain": [
       "<Figure size 600x300 with 1 Axes>"
      ]
     },
     "metadata": {},
     "output_type": "display_data"
    }
   ],
   "source": [
    "# Visualization Threshold\n",
    "# Define feature column\n",
    "feature = df_items['NumberOrders']\n",
    "\n",
    "plt.rcParams[\"figure.figsize\"] = (6,3)\n",
    "plt.hist(feature, bins=100)\n",
    "plt.ylabel('Frequency', fontname='Arial')\n",
    "plt.xlabel('Number of Orders per Item', fontname='Arial')\n",
    "plt.axvline(feature.quantile(.98), color = 'red', linestyle='dashed', linewidth = 1)\n",
    "#plt.xlim([0,9])\n",
    "plt.show()"
   ]
  },
  {
   "attachments": {},
   "cell_type": "markdown",
   "metadata": {},
   "source": [
    "### Re-bought Items"
   ]
  },
  {
   "cell_type": "code",
   "execution_count": 810,
   "metadata": {},
   "outputs": [
    {
     "data": {
      "text/html": [
       "<div>\n",
       "<style scoped>\n",
       "    .dataframe tbody tr th:only-of-type {\n",
       "        vertical-align: middle;\n",
       "    }\n",
       "\n",
       "    .dataframe tbody tr th {\n",
       "        vertical-align: top;\n",
       "    }\n",
       "\n",
       "    .dataframe thead th {\n",
       "        text-align: right;\n",
       "    }\n",
       "</style>\n",
       "<table border=\"1\" class=\"dataframe\">\n",
       "  <thead>\n",
       "    <tr style=\"text-align: right;\">\n",
       "      <th></th>\n",
       "      <th>StockCode</th>\n",
       "      <th>CustomerID</th>\n",
       "      <th>NumberOrders</th>\n",
       "    </tr>\n",
       "  </thead>\n",
       "  <tbody>\n",
       "    <tr>\n",
       "      <th>0</th>\n",
       "      <td>0</td>\n",
       "      <td>1135</td>\n",
       "      <td>1</td>\n",
       "    </tr>\n",
       "    <tr>\n",
       "      <th>1</th>\n",
       "      <td>0</td>\n",
       "      <td>132</td>\n",
       "      <td>1</td>\n",
       "    </tr>\n",
       "    <tr>\n",
       "      <th>2</th>\n",
       "      <td>0</td>\n",
       "      <td>1420</td>\n",
       "      <td>1</td>\n",
       "    </tr>\n",
       "    <tr>\n",
       "      <th>3</th>\n",
       "      <td>0</td>\n",
       "      <td>1614</td>\n",
       "      <td>1</td>\n",
       "    </tr>\n",
       "    <tr>\n",
       "      <th>4</th>\n",
       "      <td>0</td>\n",
       "      <td>1754</td>\n",
       "      <td>4</td>\n",
       "    </tr>\n",
       "  </tbody>\n",
       "</table>\n",
       "</div>"
      ],
      "text/plain": [
       "  StockCode CustomerID  NumberOrders\n",
       "0         0       1135             1\n",
       "1         0        132             1\n",
       "2         0       1420             1\n",
       "3         0       1614             1\n",
       "4         0       1754             4"
      ]
     },
     "execution_count": 810,
     "metadata": {},
     "output_type": "execute_result"
    }
   ],
   "source": [
    "# Create DataFrmmae\n",
    "# Group by InvoiceNo and calculate the number of appearances and the product of Quantity and UnitPrice\n",
    "df_rebought = df_online_retail.groupby(['StockCode', 'CustomerID']).agg({'CustomerID': 'count'})\n",
    "\n",
    "# Rename the columns\n",
    "df_rebought.columns = ['NumberOrders']\n",
    "\n",
    "# Reset the index\n",
    "df_rebought.reset_index(inplace=True)\n",
    "\n",
    "df_rebought.head()"
   ]
  },
  {
   "cell_type": "code",
   "execution_count": 811,
   "metadata": {},
   "outputs": [
    {
     "data": {
      "text/html": [
       "<div>\n",
       "<style scoped>\n",
       "    .dataframe tbody tr th:only-of-type {\n",
       "        vertical-align: middle;\n",
       "    }\n",
       "\n",
       "    .dataframe tbody tr th {\n",
       "        vertical-align: top;\n",
       "    }\n",
       "\n",
       "    .dataframe thead th {\n",
       "        text-align: right;\n",
       "    }\n",
       "</style>\n",
       "<table border=\"1\" class=\"dataframe\">\n",
       "  <thead>\n",
       "    <tr style=\"text-align: right;\">\n",
       "      <th></th>\n",
       "      <th>NumberOrders</th>\n",
       "    </tr>\n",
       "  </thead>\n",
       "  <tbody>\n",
       "    <tr>\n",
       "      <th>count</th>\n",
       "      <td>259896.00</td>\n",
       "    </tr>\n",
       "    <tr>\n",
       "      <th>mean</th>\n",
       "      <td>1.53</td>\n",
       "    </tr>\n",
       "    <tr>\n",
       "      <th>std</th>\n",
       "      <td>1.44</td>\n",
       "    </tr>\n",
       "    <tr>\n",
       "      <th>min</th>\n",
       "      <td>1.00</td>\n",
       "    </tr>\n",
       "    <tr>\n",
       "      <th>25%</th>\n",
       "      <td>1.00</td>\n",
       "    </tr>\n",
       "    <tr>\n",
       "      <th>50%</th>\n",
       "      <td>1.00</td>\n",
       "    </tr>\n",
       "    <tr>\n",
       "      <th>75%</th>\n",
       "      <td>2.00</td>\n",
       "    </tr>\n",
       "    <tr>\n",
       "      <th>max</th>\n",
       "      <td>85.00</td>\n",
       "    </tr>\n",
       "  </tbody>\n",
       "</table>\n",
       "</div>"
      ],
      "text/plain": [
       "       NumberOrders\n",
       "count     259896.00\n",
       "mean           1.53\n",
       "std            1.44\n",
       "min            1.00\n",
       "25%            1.00\n",
       "50%            1.00\n",
       "75%            2.00\n",
       "max           85.00"
      ]
     },
     "execution_count": 811,
     "metadata": {},
     "output_type": "execute_result"
    }
   ],
   "source": [
    "# Descriptive Statistics\n",
    "df_rebought.describe()"
   ]
  },
  {
   "cell_type": "code",
   "execution_count": 839,
   "metadata": {},
   "outputs": [
    {
     "data": {
      "text/plain": [
       "192384"
      ]
     },
     "execution_count": 839,
     "metadata": {},
     "output_type": "execute_result"
    }
   ],
   "source": [
    "# How many cases more than 1 \n",
    "len(df_rebought[df_rebought['NumberOrders']==1])"
   ]
  },
  {
   "cell_type": "code",
   "execution_count": 812,
   "metadata": {},
   "outputs": [
    {
     "name": "stderr",
     "output_type": "stream",
     "text": [
      "/var/folders/bs/ht_t1wp94tl3wt5xhchcxq2m0000gn/T/ipykernel_83121/744112510.py:36: UserWarning: Matplotlib is currently using module://matplotlib_inline.backend_inline, which is a non-GUI backend, so cannot show the figure.\n",
      "  fig.show()\n"
     ]
    },
    {
     "data": {
      "image/png": "[encoded data removed]",
      "text/plain": [
       "<Figure size 1200x400 with 2 Axes>"
      ]
     },
     "metadata": {},
     "output_type": "display_data"
    }
   ],
   "source": [
    "# Visualization of Order Volumes \n",
    "# Histogram & Boxplot\n",
    "\n",
    "# Define feature column\n",
    "feature = df_rebought[df_rebought['NumberOrders']>1]\n",
    "feature = feature['NumberOrders']\n",
    "\n",
    "# Create a figure for 2 subplots (2 rows, 1 column)\n",
    "fig, ax = plt.subplots(1, 2, figsize = (12,4))\n",
    "\n",
    "\n",
    "# Plot the histogram   \n",
    "ax[0].hist(feature, bins=80)\n",
    "ax[0].set_ylabel('Frequency', fontname='Arial')\n",
    "ax[0].set_xlabel('User-Item Interaction Frequency', fontname='Arial')\n",
    "ax[0].ticklabel_format(useOffset=False, style='plain')\n",
    "\n",
    "# Add lines for the mean, median, mode, min and max\n",
    "ax[0].axvline(feature.min(), color = 'yellow', linestyle='dashed', linewidth = 1)\n",
    "ax[0].axvline(feature.mean(), color='magenta', linestyle='dashed', linewidth=1)\n",
    "ax[0].axvline(feature.median(), color='cyan', linestyle='dashed', linewidth=1)\n",
    "ax[0].axvline(feature.max(), color = 'gray', linestyle='dashed', linewidth = 1)\n",
    "\n",
    "# Plot the boxplot   \n",
    "ax[1].boxplot(feature, vert=False)\n",
    "ax[1].set_xlabel('User-Item Interaction Frequency', fontname='Arial')\n",
    "ax[1].axvline(feature.min(), color = 'yellow', linestyle='dashed', linewidth = 1)\n",
    "ax[1].axvline(feature.mean(), color='magenta', linestyle='dashed', linewidth=1)\n",
    "ax[1].axvline(feature.median(), color='cyan', linestyle='dashed', linewidth=1)\n",
    "ax[1].axvline(feature.max(), color = 'gray', linestyle='dashed', linewidth = 1)\n",
    "\n",
    "# Add a title to the Figure\n",
    "#fig.suptitle('Distribution of Order Volumes',fontname='Arial')\n",
    "\n",
    "# Show the figure\n",
    "fig.show()"
   ]
  },
  {
   "cell_type": "code",
   "execution_count": 813,
   "metadata": {},
   "outputs": [
    {
     "data": {
      "text/plain": [
       "67512"
      ]
     },
     "execution_count": 813,
     "metadata": {},
     "output_type": "execute_result"
    }
   ],
   "source": [
    "len(df_rebought[df_rebought['NumberOrders']>1])"
   ]
  },
  {
   "cell_type": "code",
   "execution_count": 814,
   "metadata": {},
   "outputs": [
    {
     "data": {
      "text/plain": [
       "259896"
      ]
     },
     "execution_count": 814,
     "metadata": {},
     "output_type": "execute_result"
    }
   ],
   "source": [
    "len(df_rebought)"
   ]
  },
  {
   "cell_type": "code",
   "execution_count": 815,
   "metadata": {},
   "outputs": [
    {
     "data": {
      "text/plain": [
       "258877"
      ]
     },
     "execution_count": 815,
     "metadata": {},
     "output_type": "execute_result"
    }
   ],
   "source": [
    "df_rebought.NumberOrders.sum() - 137651"
   ]
  },
  {
   "cell_type": "code",
   "execution_count": 816,
   "metadata": {},
   "outputs": [
    {
     "data": {
      "image/png": "[encoded data removed]",
      "text/plain": [
       "<Figure size 800x400 with 1 Axes>"
      ]
     },
     "metadata": {},
     "output_type": "display_data"
    }
   ],
   "source": [
    "# Define Figure Size\n",
    "plt.rcParams[\"figure.figsize\"] = (8,4)\n",
    "\n",
    "# Define the category ranges\n",
    "bins = [0, 1,2, 5, 10, 20, np.inf]\n",
    "\n",
    "# Assign labels for each category\n",
    "labels = ['1', '2','3-5', '6-10', '11-20', 'Above 20']\n",
    "\n",
    "# Use the pandas 'cut' function to assign categories to each value in the 'numerical_feature' column\n",
    "df_rebought['category'] = pd.cut(df_rebought['NumberOrders'], bins=bins, labels=labels)\n",
    "\n",
    "# Count the number of occurrences in each category\n",
    "counts = df_rebought['category'].value_counts().sort_index()\n",
    "\n",
    "# Prepare the data for the bar plot\n",
    "categories = np.arange(len(labels))\n",
    "\n",
    "# Create the bar plot\n",
    "bars = plt.bar(categories, counts)\n",
    "\n",
    "# Set the y-axis labels\n",
    "plt.xticks(categories, labels=labels)\n",
    "\n",
    "# Add counts on top of each bar\n",
    "for i, bar in enumerate(bars):\n",
    "    plt.text(\n",
    "        bar.get_x() + bar.get_width() / 2,\n",
    "        bar.get_height(),\n",
    "        counts[i],\n",
    "        ha='center',\n",
    "        va='bottom',\n",
    "    )\n",
    "    \n",
    "#plt.title('How many times did users buy the same item?',fontname='Arial')\n",
    "plt.xlabel('Frequency Categories',fontname='Arial')\n",
    "plt.ylabel('Count',fontname='Arial')\n",
    "\n",
    "# Display the plot\n",
    "plt.show()"
   ]
  },
  {
   "attachments": {},
   "cell_type": "markdown",
   "metadata": {},
   "source": [
    "### Cancelled Orders"
   ]
  },
  {
   "cell_type": "code",
   "execution_count": 817,
   "metadata": {},
   "outputs": [
    {
     "data": {
      "text/html": [
       "<div>\n",
       "<style scoped>\n",
       "    .dataframe tbody tr th:only-of-type {\n",
       "        vertical-align: middle;\n",
       "    }\n",
       "\n",
       "    .dataframe tbody tr th {\n",
       "        vertical-align: top;\n",
       "    }\n",
       "\n",
       "    .dataframe thead th {\n",
       "        text-align: right;\n",
       "    }\n",
       "</style>\n",
       "<table border=\"1\" class=\"dataframe\">\n",
       "  <thead>\n",
       "    <tr style=\"text-align: right;\">\n",
       "      <th></th>\n",
       "      <th>InvoiceNo</th>\n",
       "      <th>StockCode</th>\n",
       "      <th>Description</th>\n",
       "      <th>Quantity</th>\n",
       "      <th>InvoiceDate</th>\n",
       "      <th>UnitPrice</th>\n",
       "      <th>CustomerID</th>\n",
       "      <th>Country</th>\n",
       "      <th>Num_word_text</th>\n",
       "    </tr>\n",
       "  </thead>\n",
       "  <tbody>\n",
       "    <tr>\n",
       "      <th>258682</th>\n",
       "      <td>C559667</td>\n",
       "      <td>1553</td>\n",
       "      <td>ROSES REGENCY TEACUP AND SAUCER</td>\n",
       "      <td>-2</td>\n",
       "      <td>2011-07-11 13:38:00</td>\n",
       "      <td>2.95</td>\n",
       "      <td>701</td>\n",
       "      <td>United Kingdom</td>\n",
       "      <td>5</td>\n",
       "    </tr>\n",
       "    <tr>\n",
       "      <th>170566</th>\n",
       "      <td>C551336</td>\n",
       "      <td>1805</td>\n",
       "      <td>JAM MAKING SET WITH JARS</td>\n",
       "      <td>-1</td>\n",
       "      <td>2011-04-27 16:53:00</td>\n",
       "      <td>4.25</td>\n",
       "      <td>1226</td>\n",
       "      <td>United Kingdom</td>\n",
       "      <td>5</td>\n",
       "    </tr>\n",
       "    <tr>\n",
       "      <th>111732</th>\n",
       "      <td>C545823</td>\n",
       "      <td>487</td>\n",
       "      <td>SMALL GLASS HEART TRINKET POT</td>\n",
       "      <td>-3</td>\n",
       "      <td>2011-03-07 12:54:00</td>\n",
       "      <td>2.10</td>\n",
       "      <td>1147</td>\n",
       "      <td>United Kingdom</td>\n",
       "      <td>5</td>\n",
       "    </tr>\n",
       "    <tr>\n",
       "      <th>516181</th>\n",
       "      <td>C579878</td>\n",
       "      <td>2004</td>\n",
       "      <td>CLASSIC GLASS COOKIE JAR</td>\n",
       "      <td>-4</td>\n",
       "      <td>2011-11-30 17:12:00</td>\n",
       "      <td>4.15</td>\n",
       "      <td>3671</td>\n",
       "      <td>United Kingdom</td>\n",
       "      <td>4</td>\n",
       "    </tr>\n",
       "    <tr>\n",
       "      <th>352807</th>\n",
       "      <td>C567691</td>\n",
       "      <td>708</td>\n",
       "      <td>RED SPOT CERAMIC DRAWER KNOB</td>\n",
       "      <td>-85</td>\n",
       "      <td>2011-09-21 17:04:00</td>\n",
       "      <td>1.45</td>\n",
       "      <td>3844</td>\n",
       "      <td>United Kingdom</td>\n",
       "      <td>5</td>\n",
       "    </tr>\n",
       "    <tr>\n",
       "      <th>44913</th>\n",
       "      <td>C540246</td>\n",
       "      <td>2425</td>\n",
       "      <td>PINK/WHITE CHRISTMAS TREE 60CM</td>\n",
       "      <td>-1</td>\n",
       "      <td>2011-01-05 15:43:00</td>\n",
       "      <td>0.65</td>\n",
       "      <td>564</td>\n",
       "      <td>United Kingdom</td>\n",
       "      <td>4</td>\n",
       "    </tr>\n",
       "    <tr>\n",
       "      <th>411642</th>\n",
       "      <td>C572226</td>\n",
       "      <td>2071</td>\n",
       "      <td>SET OF 4 KNICK KNACK TINS LEAF</td>\n",
       "      <td>-2</td>\n",
       "      <td>2011-10-21 13:58:00</td>\n",
       "      <td>4.15</td>\n",
       "      <td>2201</td>\n",
       "      <td>United Kingdom</td>\n",
       "      <td>7</td>\n",
       "    </tr>\n",
       "    <tr>\n",
       "      <th>433553</th>\n",
       "      <td>C573929</td>\n",
       "      <td>1092</td>\n",
       "      <td>POPCORN HOLDER</td>\n",
       "      <td>-1</td>\n",
       "      <td>2011-11-02 10:14:00</td>\n",
       "      <td>0.85</td>\n",
       "      <td>4023</td>\n",
       "      <td>United Kingdom</td>\n",
       "      <td>2</td>\n",
       "    </tr>\n",
       "    <tr>\n",
       "      <th>255423</th>\n",
       "      <td>C559345</td>\n",
       "      <td>573</td>\n",
       "      <td>BASKET OF TOADSTOOLS</td>\n",
       "      <td>-408</td>\n",
       "      <td>2011-07-07 17:16:00</td>\n",
       "      <td>1.06</td>\n",
       "      <td>1218</td>\n",
       "      <td>United Kingdom</td>\n",
       "      <td>3</td>\n",
       "    </tr>\n",
       "    <tr>\n",
       "      <th>294924</th>\n",
       "      <td>C562728</td>\n",
       "      <td>1697</td>\n",
       "      <td>BREAD BIN DINER STYLE PINK</td>\n",
       "      <td>-4</td>\n",
       "      <td>2011-08-09 09:41:00</td>\n",
       "      <td>14.95</td>\n",
       "      <td>47</td>\n",
       "      <td>Denmark</td>\n",
       "      <td>5</td>\n",
       "    </tr>\n",
       "  </tbody>\n",
       "</table>\n",
       "</div>"
      ],
      "text/plain": [
       "       InvoiceNo StockCode                       Description  Quantity  \\\n",
       "258682   C559667      1553  ROSES REGENCY TEACUP AND SAUCER         -2   \n",
       "170566   C551336      1805          JAM MAKING SET WITH JARS        -1   \n",
       "111732   C545823       487     SMALL GLASS HEART TRINKET POT        -3   \n",
       "516181   C579878      2004          CLASSIC GLASS COOKIE JAR        -4   \n",
       "352807   C567691       708      RED SPOT CERAMIC DRAWER KNOB       -85   \n",
       "44913    C540246      2425    PINK/WHITE CHRISTMAS TREE 60CM        -1   \n",
       "411642   C572226      2071    SET OF 4 KNICK KNACK TINS LEAF        -2   \n",
       "433553   C573929      1092                    POPCORN HOLDER        -1   \n",
       "255423   C559345       573              BASKET OF TOADSTOOLS      -408   \n",
       "294924   C562728      1697        BREAD BIN DINER STYLE PINK        -4   \n",
       "\n",
       "               InvoiceDate  UnitPrice CustomerID         Country  \\\n",
       "258682 2011-07-11 13:38:00       2.95        701  United Kingdom   \n",
       "170566 2011-04-27 16:53:00       4.25       1226  United Kingdom   \n",
       "111732 2011-03-07 12:54:00       2.10       1147  United Kingdom   \n",
       "516181 2011-11-30 17:12:00       4.15       3671  United Kingdom   \n",
       "352807 2011-09-21 17:04:00       1.45       3844  United Kingdom   \n",
       "44913  2011-01-05 15:43:00       0.65        564  United Kingdom   \n",
       "411642 2011-10-21 13:58:00       4.15       2201  United Kingdom   \n",
       "433553 2011-11-02 10:14:00       0.85       4023  United Kingdom   \n",
       "255423 2011-07-07 17:16:00       1.06       1218  United Kingdom   \n",
       "294924 2011-08-09 09:41:00      14.95         47         Denmark   \n",
       "\n",
       "        Num_word_text  \n",
       "258682              5  \n",
       "170566              5  \n",
       "111732              5  \n",
       "516181              4  \n",
       "352807              5  \n",
       "44913               4  \n",
       "411642              7  \n",
       "433553              2  \n",
       "255423              3  \n",
       "294924              5  "
      ]
     },
     "execution_count": 817,
     "metadata": {},
     "output_type": "execute_result"
    }
   ],
   "source": [
    "# Rows that start with a C in InvoiceNo -- All Cancellations but \n",
    "df_cancellations = df_online_retail[df_online_retail.InvoiceNo.str[0]=='C']\n",
    "df_cancellations.sample(10)"
   ]
  },
  {
   "cell_type": "code",
   "execution_count": 818,
   "metadata": {},
   "outputs": [
    {
     "data": {
      "text/html": [
       "<div>\n",
       "<style scoped>\n",
       "    .dataframe tbody tr th:only-of-type {\n",
       "        vertical-align: middle;\n",
       "    }\n",
       "\n",
       "    .dataframe tbody tr th {\n",
       "        vertical-align: top;\n",
       "    }\n",
       "\n",
       "    .dataframe thead th {\n",
       "        text-align: right;\n",
       "    }\n",
       "</style>\n",
       "<table border=\"1\" class=\"dataframe\">\n",
       "  <thead>\n",
       "    <tr style=\"text-align: right;\">\n",
       "      <th></th>\n",
       "      <th>InvoiceNo</th>\n",
       "      <th>StockCode</th>\n",
       "      <th>Description</th>\n",
       "      <th>Quantity</th>\n",
       "      <th>InvoiceDate</th>\n",
       "      <th>UnitPrice</th>\n",
       "      <th>CustomerID</th>\n",
       "      <th>Country</th>\n",
       "      <th>Num_word_text</th>\n",
       "    </tr>\n",
       "  </thead>\n",
       "  <tbody>\n",
       "    <tr>\n",
       "      <th>19510</th>\n",
       "      <td>537867</td>\n",
       "      <td>1621</td>\n",
       "      <td>FAMILY PHOTO FRAME CORNICE</td>\n",
       "      <td>2</td>\n",
       "      <td>2010-12-08 16:48:00</td>\n",
       "      <td>9.95</td>\n",
       "      <td>3226</td>\n",
       "      <td>United Kingdom</td>\n",
       "      <td>4</td>\n",
       "    </tr>\n",
       "    <tr>\n",
       "      <th>19511</th>\n",
       "      <td>537867</td>\n",
       "      <td>1634</td>\n",
       "      <td>GUMBALL MAGAZINE RACK</td>\n",
       "      <td>2</td>\n",
       "      <td>2010-12-08 16:48:00</td>\n",
       "      <td>7.65</td>\n",
       "      <td>3226</td>\n",
       "      <td>United Kingdom</td>\n",
       "      <td>3</td>\n",
       "    </tr>\n",
       "    <tr>\n",
       "      <th>19512</th>\n",
       "      <td>537867</td>\n",
       "      <td>1638</td>\n",
       "      <td>SQUARECUSHION COVER PINK UNION FLAG</td>\n",
       "      <td>2</td>\n",
       "      <td>2010-12-08 16:48:00</td>\n",
       "      <td>6.75</td>\n",
       "      <td>3226</td>\n",
       "      <td>United Kingdom</td>\n",
       "      <td>5</td>\n",
       "    </tr>\n",
       "    <tr>\n",
       "      <th>19513</th>\n",
       "      <td>537867</td>\n",
       "      <td>1686</td>\n",
       "      <td>HOT WATER BOTTLE BABUSHKA</td>\n",
       "      <td>8</td>\n",
       "      <td>2010-12-08 16:48:00</td>\n",
       "      <td>4.65</td>\n",
       "      <td>3226</td>\n",
       "      <td>United Kingdom</td>\n",
       "      <td>4</td>\n",
       "    </tr>\n",
       "    <tr>\n",
       "      <th>19514</th>\n",
       "      <td>537867</td>\n",
       "      <td>1014</td>\n",
       "      <td>SCOTTIE DOG HOT WATER BOTTLE</td>\n",
       "      <td>6</td>\n",
       "      <td>2010-12-08 16:48:00</td>\n",
       "      <td>4.95</td>\n",
       "      <td>3226</td>\n",
       "      <td>United Kingdom</td>\n",
       "      <td>5</td>\n",
       "    </tr>\n",
       "    <tr>\n",
       "      <th>...</th>\n",
       "      <td>...</td>\n",
       "      <td>...</td>\n",
       "      <td>...</td>\n",
       "      <td>...</td>\n",
       "      <td>...</td>\n",
       "      <td>...</td>\n",
       "      <td>...</td>\n",
       "      <td>...</td>\n",
       "      <td>...</td>\n",
       "    </tr>\n",
       "    <tr>\n",
       "      <th>472518</th>\n",
       "      <td>576688</td>\n",
       "      <td>2347</td>\n",
       "      <td>I LOVE LONDON WALL ART</td>\n",
       "      <td>6</td>\n",
       "      <td>2011-11-16 12:16:00</td>\n",
       "      <td>4.95</td>\n",
       "      <td>3226</td>\n",
       "      <td>United Kingdom</td>\n",
       "      <td>5</td>\n",
       "    </tr>\n",
       "    <tr>\n",
       "      <th>472519</th>\n",
       "      <td>576688</td>\n",
       "      <td>1305</td>\n",
       "      <td>12 COLOURED PARTY BALLOONS</td>\n",
       "      <td>20</td>\n",
       "      <td>2011-11-16 12:16:00</td>\n",
       "      <td>0.65</td>\n",
       "      <td>3226</td>\n",
       "      <td>United Kingdom</td>\n",
       "      <td>4</td>\n",
       "    </tr>\n",
       "    <tr>\n",
       "      <th>516381</th>\n",
       "      <td>C579887</td>\n",
       "      <td>3107</td>\n",
       "      <td>ANTIQUE SILVER T-LIGHT GLASS</td>\n",
       "      <td>-1</td>\n",
       "      <td>2011-11-30 17:42:00</td>\n",
       "      <td>1.25</td>\n",
       "      <td>3226</td>\n",
       "      <td>United Kingdom</td>\n",
       "      <td>4</td>\n",
       "    </tr>\n",
       "    <tr>\n",
       "      <th>516382</th>\n",
       "      <td>C579887</td>\n",
       "      <td>3198</td>\n",
       "      <td>15CM CHRISTMAS GLASS BALL 20 LIGHTS</td>\n",
       "      <td>-1</td>\n",
       "      <td>2011-11-30 17:42:00</td>\n",
       "      <td>7.95</td>\n",
       "      <td>3226</td>\n",
       "      <td>United Kingdom</td>\n",
       "      <td>6</td>\n",
       "    </tr>\n",
       "    <tr>\n",
       "      <th>516383</th>\n",
       "      <td>C579887</td>\n",
       "      <td>2300</td>\n",
       "      <td>T-LIGHT HOLDER HANGING LOVE BIRD</td>\n",
       "      <td>-3</td>\n",
       "      <td>2011-11-30 17:42:00</td>\n",
       "      <td>3.75</td>\n",
       "      <td>3226</td>\n",
       "      <td>United Kingdom</td>\n",
       "      <td>5</td>\n",
       "    </tr>\n",
       "  </tbody>\n",
       "</table>\n",
       "<p>236 rows × 9 columns</p>\n",
       "</div>"
      ],
      "text/plain": [
       "       InvoiceNo StockCode                          Description  Quantity  \\\n",
       "19510     537867      1621           FAMILY PHOTO FRAME CORNICE         2   \n",
       "19511     537867      1634                GUMBALL MAGAZINE RACK         2   \n",
       "19512     537867      1638  SQUARECUSHION COVER PINK UNION FLAG         2   \n",
       "19513     537867      1686           HOT WATER BOTTLE BABUSHKA          8   \n",
       "19514     537867      1014         SCOTTIE DOG HOT WATER BOTTLE         6   \n",
       "...          ...       ...                                  ...       ...   \n",
       "472518    576688      2347               I LOVE LONDON WALL ART         6   \n",
       "472519    576688      1305           12 COLOURED PARTY BALLOONS        20   \n",
       "516381   C579887      3107         ANTIQUE SILVER T-LIGHT GLASS        -1   \n",
       "516382   C579887      3198  15CM CHRISTMAS GLASS BALL 20 LIGHTS        -1   \n",
       "516383   C579887      2300     T-LIGHT HOLDER HANGING LOVE BIRD        -3   \n",
       "\n",
       "               InvoiceDate  UnitPrice CustomerID         Country  \\\n",
       "19510  2010-12-08 16:48:00       9.95       3226  United Kingdom   \n",
       "19511  2010-12-08 16:48:00       7.65       3226  United Kingdom   \n",
       "19512  2010-12-08 16:48:00       6.75       3226  United Kingdom   \n",
       "19513  2010-12-08 16:48:00       4.65       3226  United Kingdom   \n",
       "19514  2010-12-08 16:48:00       4.95       3226  United Kingdom   \n",
       "...                    ...        ...        ...             ...   \n",
       "472518 2011-11-16 12:16:00       4.95       3226  United Kingdom   \n",
       "472519 2011-11-16 12:16:00       0.65       3226  United Kingdom   \n",
       "516381 2011-11-30 17:42:00       1.25       3226  United Kingdom   \n",
       "516382 2011-11-30 17:42:00       7.95       3226  United Kingdom   \n",
       "516383 2011-11-30 17:42:00       3.75       3226  United Kingdom   \n",
       "\n",
       "        Num_word_text  \n",
       "19510               4  \n",
       "19511               3  \n",
       "19512               5  \n",
       "19513               4  \n",
       "19514               5  \n",
       "...               ...  \n",
       "472518              5  \n",
       "472519              4  \n",
       "516381              4  \n",
       "516382              6  \n",
       "516383              5  \n",
       "\n",
       "[236 rows x 9 columns]"
      ]
     },
     "execution_count": 818,
     "metadata": {},
     "output_type": "execute_result"
    }
   ],
   "source": [
    "# Random Check\n",
    "df_online_retail[df_online_retail['CustomerID']=='3226']"
   ]
  },
  {
   "cell_type": "code",
   "execution_count": 819,
   "metadata": {},
   "outputs": [
    {
     "name": "stdout",
     "output_type": "stream",
     "text": [
      "2615\n"
     ]
    }
   ],
   "source": [
    "# How many of the Quantities are below one\n",
    "quantity_values = matrix.values\n",
    "below1 = np.sum(quantity_values < 1 )\n",
    "print(below1)"
   ]
  },
  {
   "cell_type": "code",
   "execution_count": 820,
   "metadata": {},
   "outputs": [
    {
     "data": {
      "text/plain": [
       "(3696, 2786)"
      ]
     },
     "execution_count": 820,
     "metadata": {},
     "output_type": "execute_result"
    }
   ],
   "source": [
    "quantity_values.shape"
   ]
  },
  {
   "cell_type": "code",
   "execution_count": 851,
   "metadata": {},
   "outputs": [
    {
     "data": {
      "text/plain": [
       "(8106, 9)"
      ]
     },
     "execution_count": 851,
     "metadata": {},
     "output_type": "execute_result"
    }
   ],
   "source": [
    "df_cancellations.shape"
   ]
  },
  {
   "attachments": {},
   "cell_type": "markdown",
   "metadata": {},
   "source": [
    "### Country of Origin"
   ]
  },
  {
   "cell_type": "code",
   "execution_count": 821,
   "metadata": {},
   "outputs": [
    {
     "data": {
      "text/plain": [
       "United Kingdom          353389\n",
       "Germany                   9010\n",
       "France                    8106\n",
       "EIRE                      7329\n",
       "Spain                     2415\n",
       "Netherlands               2316\n",
       "Belgium                   1920\n",
       "Switzerland               1829\n",
       "Portugal                  1430\n",
       "Australia                 1237\n",
       "Norway                    1055\n",
       "Italy                      780\n",
       "Channel Islands            742\n",
       "Cyprus                     611\n",
       "Finland                    606\n",
       "Sweden                     426\n",
       "Austria                    383\n",
       "Denmark                    371\n",
       "Japan                      337\n",
       "Poland                     334\n",
       "USA                        288\n",
       "Israel                     248\n",
       "Unspecified                240\n",
       "Singapore                  214\n",
       "Iceland                    181\n",
       "Greece                     140\n",
       "Canada                     140\n",
       "Malta                      119\n",
       "United Arab Emirates        65\n",
       "European Community          58\n",
       "RSA                         57\n",
       "Lebanon                     45\n",
       "Lithuania                   34\n",
       "Brazil                      32\n",
       "Czech Republic              28\n",
       "Bahrain                     13\n",
       "Name: Country, dtype: int64"
      ]
     },
     "execution_count": 821,
     "metadata": {},
     "output_type": "execute_result"
    }
   ],
   "source": [
    "df_online_retail['Country'].value_counts(normalize=False)"
   ]
  },
  {
   "cell_type": "code",
   "execution_count": 822,
   "metadata": {},
   "outputs": [
    {
     "data": {
      "text/plain": [
       "Country\n",
       "Australia                  8\n",
       "Austria                   10\n",
       "Bahrain                    1\n",
       "Belgium                   22\n",
       "Brazil                     1\n",
       "Canada                     2\n",
       "Channel Islands            7\n",
       "Cyprus                     8\n",
       "Czech Republic             1\n",
       "Denmark                    8\n",
       "EIRE                       3\n",
       "European Community         1\n",
       "Finland                    9\n",
       "France                    81\n",
       "Germany                   90\n",
       "Greece                     4\n",
       "Iceland                    1\n",
       "Israel                     3\n",
       "Italy                     14\n",
       "Japan                      5\n",
       "Lebanon                    1\n",
       "Lithuania                  1\n",
       "Malta                      2\n",
       "Netherlands                7\n",
       "Norway                    10\n",
       "Poland                     5\n",
       "Portugal                  19\n",
       "RSA                        1\n",
       "Singapore                  1\n",
       "Spain                     26\n",
       "Sweden                     7\n",
       "Switzerland               20\n",
       "USA                        4\n",
       "United Arab Emirates       2\n",
       "United Kingdom          3315\n",
       "Unspecified                4\n",
       "Name: CustomerID, dtype: int64"
      ]
     },
     "execution_count": 822,
     "metadata": {},
     "output_type": "execute_result"
    }
   ],
   "source": [
    "# Create DataFrame\n",
    "df_user_country = df_online_retail.groupby('Country')['CustomerID'].nunique()\n",
    "\n",
    "# Rename the columns\n",
    "#df_user_country.columns = ['UniqueCustomers']\n",
    "\n",
    "# Reset the index\n",
    "#df_user_country.reset_index(inplace=True)\n",
    "\n",
    "# Head\n",
    "df_user_country"
   ]
  },
  {
   "cell_type": "code",
   "execution_count": 823,
   "metadata": {},
   "outputs": [
    {
     "data": {
      "image/png": "[encoded data removed]",
      "text/plain": [
       "<Figure size 1000x400 with 1 Axes>"
      ]
     },
     "metadata": {},
     "output_type": "display_data"
    }
   ],
   "source": [
    "# Define Figure Size\n",
    "plt.rcParams[\"figure.figsize\"] = (10,4)\n",
    "\n",
    "# Sort values in descending order \n",
    "df_user_country = df_user_country.sort_values(ascending=False)\n",
    "\n",
    "# Allocate top ten into new dataframe \n",
    "top_10_countries = df_user_country.head(10)\n",
    "\n",
    "# Create a horizontal bar chart\n",
    "fig, ax = plt.subplots()\n",
    "ax.barh(top_10_countries.index, top_10_countries.values)\n",
    "\n",
    "# Display the unique customer count at the end of each bar\n",
    "for i, (country, count) in enumerate(top_10_countries.items()):\n",
    "    ax.text(count, i, f'{count}', ha='left', va='center')\n",
    "\n",
    "# Set labels and title\n",
    "ax.set_xlabel('Number of Unique Customers')\n",
    "ax.set_ylabel('Country')\n",
    "ax.set_title('Top 10 Countries by Unique Customer Count')\n",
    "\n",
    "# Show the plot\n",
    "plt.show()"
   ]
  },
  {
   "attachments": {},
   "cell_type": "markdown",
   "metadata": {},
   "source": [
    "### Popular Items"
   ]
  },
  {
   "cell_type": "code",
   "execution_count": 824,
   "metadata": {},
   "outputs": [
    {
     "data": {
      "text/html": [
       "<div>\n",
       "<style scoped>\n",
       "    .dataframe tbody tr th:only-of-type {\n",
       "        vertical-align: middle;\n",
       "    }\n",
       "\n",
       "    .dataframe tbody tr th {\n",
       "        vertical-align: top;\n",
       "    }\n",
       "\n",
       "    .dataframe thead th {\n",
       "        text-align: right;\n",
       "    }\n",
       "</style>\n",
       "<table border=\"1\" class=\"dataframe\">\n",
       "  <thead>\n",
       "    <tr style=\"text-align: right;\">\n",
       "      <th></th>\n",
       "      <th>InvoiceNo</th>\n",
       "      <th>StockCode</th>\n",
       "      <th>Description</th>\n",
       "      <th>Quantity</th>\n",
       "      <th>InvoiceDate</th>\n",
       "      <th>UnitPrice</th>\n",
       "      <th>CustomerID</th>\n",
       "      <th>Country</th>\n",
       "      <th>Num_word_text</th>\n",
       "    </tr>\n",
       "  </thead>\n",
       "  <tbody>\n",
       "    <tr>\n",
       "      <th>0</th>\n",
       "      <td>536365</td>\n",
       "      <td>3249</td>\n",
       "      <td>WHITE HANGING HEART T-LIGHT HOLDER</td>\n",
       "      <td>6</td>\n",
       "      <td>2010-12-01 08:26:00</td>\n",
       "      <td>2.55</td>\n",
       "      <td>4048</td>\n",
       "      <td>United Kingdom</td>\n",
       "      <td>5</td>\n",
       "    </tr>\n",
       "    <tr>\n",
       "      <th>1</th>\n",
       "      <td>536365</td>\n",
       "      <td>2649</td>\n",
       "      <td>WHITE METAL LANTERN</td>\n",
       "      <td>6</td>\n",
       "      <td>2010-12-01 08:26:00</td>\n",
       "      <td>3.39</td>\n",
       "      <td>4048</td>\n",
       "      <td>United Kingdom</td>\n",
       "      <td>3</td>\n",
       "    </tr>\n",
       "    <tr>\n",
       "      <th>2</th>\n",
       "      <td>536365</td>\n",
       "      <td>2855</td>\n",
       "      <td>CREAM CUPID HEARTS COAT HANGER</td>\n",
       "      <td>8</td>\n",
       "      <td>2010-12-01 08:26:00</td>\n",
       "      <td>2.75</td>\n",
       "      <td>4048</td>\n",
       "      <td>United Kingdom</td>\n",
       "      <td>5</td>\n",
       "    </tr>\n",
       "    <tr>\n",
       "      <th>3</th>\n",
       "      <td>536365</td>\n",
       "      <td>2803</td>\n",
       "      <td>KNITTED UNION FLAG HOT WATER BOTTLE</td>\n",
       "      <td>6</td>\n",
       "      <td>2010-12-01 08:26:00</td>\n",
       "      <td>3.39</td>\n",
       "      <td>4048</td>\n",
       "      <td>United Kingdom</td>\n",
       "      <td>6</td>\n",
       "    </tr>\n",
       "    <tr>\n",
       "      <th>4</th>\n",
       "      <td>536365</td>\n",
       "      <td>2802</td>\n",
       "      <td>RED WOOLLY HOTTIE WHITE HEART.</td>\n",
       "      <td>6</td>\n",
       "      <td>2010-12-01 08:26:00</td>\n",
       "      <td>3.39</td>\n",
       "      <td>4048</td>\n",
       "      <td>United Kingdom</td>\n",
       "      <td>5</td>\n",
       "    </tr>\n",
       "  </tbody>\n",
       "</table>\n",
       "</div>"
      ],
      "text/plain": [
       "  InvoiceNo StockCode                          Description  Quantity  \\\n",
       "0    536365      3249   WHITE HANGING HEART T-LIGHT HOLDER         6   \n",
       "1    536365      2649                  WHITE METAL LANTERN         6   \n",
       "2    536365      2855       CREAM CUPID HEARTS COAT HANGER         8   \n",
       "3    536365      2803  KNITTED UNION FLAG HOT WATER BOTTLE         6   \n",
       "4    536365      2802       RED WOOLLY HOTTIE WHITE HEART.         6   \n",
       "\n",
       "          InvoiceDate  UnitPrice CustomerID         Country  Num_word_text  \n",
       "0 2010-12-01 08:26:00       2.55       4048  United Kingdom              5  \n",
       "1 2010-12-01 08:26:00       3.39       4048  United Kingdom              3  \n",
       "2 2010-12-01 08:26:00       2.75       4048  United Kingdom              5  \n",
       "3 2010-12-01 08:26:00       3.39       4048  United Kingdom              6  \n",
       "4 2010-12-01 08:26:00       3.39       4048  United Kingdom              5  "
      ]
     },
     "execution_count": 824,
     "metadata": {},
     "output_type": "execute_result"
    }
   ],
   "source": [
    "df_online_retail['Num_word_text'] = df_online_retail['Description'].apply(lambda x:len(str(x).split())) #Number Of words in main text\n",
    "df_online_retail.head()"
   ]
  },
  {
   "cell_type": "code",
   "execution_count": 825,
   "metadata": {},
   "outputs": [
    {
     "data": {
      "text/plain": [
       "count   396528.00\n",
       "mean         4.41\n",
       "std          1.08\n",
       "min          1.00\n",
       "25%          4.00\n",
       "50%          4.00\n",
       "75%          5.00\n",
       "max          8.00\n",
       "Name: Num_word_text, dtype: float64"
      ]
     },
     "execution_count": 825,
     "metadata": {},
     "output_type": "execute_result"
    }
   ],
   "source": [
    "df_online_retail.Num_word_text.describe()"
   ]
  },
  {
   "cell_type": "code",
   "execution_count": 826,
   "metadata": {},
   "outputs": [
    {
     "data": {
      "text/plain": [
       "0    4\n",
       "Name: Num_word_text, dtype: int64"
      ]
     },
     "execution_count": 826,
     "metadata": {},
     "output_type": "execute_result"
    }
   ],
   "source": [
    "df_online_retail.Num_word_text.mode()"
   ]
  },
  {
   "cell_type": "code",
   "execution_count": 827,
   "metadata": {},
   "outputs": [
    {
     "data": {
      "image/png": "[encoded data removed]",
      "text/plain": [
       "<Figure size 800x400 with 1 Axes>"
      ]
     },
     "metadata": {},
     "output_type": "display_data"
    }
   ],
   "source": [
    "plt.rcParams[\"figure.figsize\"] = (8,4)\n",
    "plt.hist(df_online_retail.Num_word_text, bins=8)\n",
    "plt.ylabel('Frequency', fontname='Arial')\n",
    "plt.xlabel('Number of Words per Description', fontname='Arial')\n",
    "plt.title('Frequency of Descriptions based on Number of Words')\n",
    "plt.xticks(range(9))\n",
    "#plt.xlim([0,9])\n",
    "plt.show()"
   ]
  },
  {
   "cell_type": "code",
   "execution_count": 828,
   "metadata": {},
   "outputs": [
    {
     "data": {
      "text/plain": [
       "array(['CARRIAGE', 'SOMBRERO '], dtype=object)"
      ]
     },
     "execution_count": 828,
     "metadata": {},
     "output_type": "execute_result"
    }
   ],
   "source": [
    "# Check Descriptions with only one word \n",
    "df_online_retail[df_online_retail['Num_word_text']==1]['Description'].unique()"
   ]
  },
  {
   "cell_type": "code",
   "execution_count": 829,
   "metadata": {},
   "outputs": [
    {
     "data": {
      "image/png": "[encoded data removed]",
      "text/plain": [
       "<Figure size 1000x500 with 1 Axes>"
      ]
     },
     "metadata": {},
     "output_type": "display_data"
    }
   ],
   "source": [
    "# Define Figure Size\n",
    "plt.rcParams[\"figure.figsize\"] = (10,5)\n",
    "\n",
    "# Sort values in descending order \n",
    "top_10_desc = df_online_retail.groupby(by='Description').size().sort_values(ascending=False).head(5)\n",
    "\n",
    "# Create a horizontal bar chart\n",
    "fig, ax = plt.subplots()\n",
    "ax.barh(top_10_desc.index, top_10_desc.values)\n",
    "\n",
    "# Display the unique customer count at the end of each bar\n",
    "for i, (country, count) in enumerate(top_10_desc.items()):\n",
    "    ax.text(count, i, f'{count}', ha='left', va='center')\n",
    "\n",
    "# Set labels and title\n",
    "ax.set_xlabel('Number of Sales')\n",
    "ax.set_ylabel('Descriptions')\n",
    "ax.set_title('Top 5 Sold Articles by Item Description')\n",
    "\n",
    "# Show the plot\n",
    "plt.show()"
   ]
  },
  {
   "attachments": {},
   "cell_type": "markdown",
   "metadata": {},
   "source": [
    "# Sonstige"
   ]
  },
  {
   "cell_type": "code",
   "execution_count": 830,
   "metadata": {},
   "outputs": [
    {
     "name": "stdout",
     "output_type": "stream",
     "text": [
      "First Transaction Date:\t 2010-12-01 08:26:00\n",
      "Last Transaction Date:\t 2011-12-09 12:50:00\n"
     ]
    }
   ],
   "source": [
    "# Time Range of Transactions\n",
    "print('First Transaction Date:\\t', df_online_retail.InvoiceDate.min())\n",
    "print('Last Transaction Date:\\t', df_online_retail.InvoiceDate.max())"
   ]
  },
  {
   "cell_type": "code",
   "execution_count": 831,
   "metadata": {},
   "outputs": [
    {
     "name": "stdout",
     "output_type": "stream",
     "text": [
      "Description\n",
      "WHITE HANGING HEART T-LIGHT HOLDER    2025\n",
      "REGENCY CAKESTAND 3 TIER              1851\n",
      "JUMBO BAG RED RETROSPOT               1624\n",
      "ASSORTED COLOUR BIRD ORNAMENT         1395\n",
      "PARTY BUNTING                         1378\n",
      "LUNCH BAG RED RETROSPOT               1352\n",
      "SET OF 3 CAKE TINS PANTRY DESIGN      1221\n",
      "LUNCH BAG  BLACK SKULL.               1117\n",
      "PACK OF 72 RETROSPOT CAKE CASES       1069\n",
      "SPOTTY BUNTING                        1022\n",
      "dtype: int64\n"
     ]
    }
   ],
   "source": [
    "# Popular Products \n",
    "print(df_online_retail.groupby(by='Description').size().sort_values(ascending=False).head(10))"
   ]
  },
  {
   "attachments": {},
   "cell_type": "markdown",
   "metadata": {},
   "source": [
    "# NEW Csv Cleaned"
   ]
  },
  {
   "cell_type": "code",
   "execution_count": 832,
   "metadata": {},
   "outputs": [],
   "source": [
    "df_online_retail.to_csv('../00_Data/online_retailed_precleaned.csv')"
   ]
  }
 ],
 "metadata": {
  "kernelspec": {
   "display_name": "recom",
   "language": "python",
   "name": "python3"
  },
  "language_info": {
   "codemirror_mode": {
    "name": "ipython",
    "version": 3
   },
   "file_extension": ".py",
   "mimetype": "text/x-python",
   "name": "python",
   "nbconvert_exporter": "python",
   "pygments_lexer": "ipython3",
   "version": "3.9.16"
  },
  "orig_nbformat": 4,
  "vscode": {
   "interpreter": {
    "hash": "17afcd9f6960de0a3656d2c4c5dd434deed0eab3cd38c55c3169df3bef50250d"
   }
  }
 },
 "nbformat": 4,
 "nbformat_minor": 2
}
