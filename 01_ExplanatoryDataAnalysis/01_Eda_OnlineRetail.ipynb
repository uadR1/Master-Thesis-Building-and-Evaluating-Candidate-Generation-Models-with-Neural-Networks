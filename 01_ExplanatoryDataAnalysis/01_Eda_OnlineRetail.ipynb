{
 "cells": [
  {
   "attachments": {},
   "cell_type": "markdown",
   "metadata": {},
   "source": [
    "# Importing Libraries"
   ]
  },
  {
   "cell_type": "code",
   "execution_count": 357,
   "metadata": {},
   "outputs": [],
   "source": [
    "import pandas as pd \n",
    "import numpy as np \n",
    "import seaborn as sns\n",
    "import matplotlib.pyplot as plt\n",
    "import matplotlib.style\n",
    "%matplotlib inline"
   ]
  },
  {
   "attachments": {},
   "cell_type": "markdown",
   "metadata": {},
   "source": [
    "# Read the Data as Dataframe"
   ]
  },
  {
   "cell_type": "code",
   "execution_count": 358,
   "metadata": {},
   "outputs": [],
   "source": [
    "# Reading Data\n",
    "df_online_retail = pd.read_csv('../00_Data/data.csv', encoding= 'unicode_escape', na_values='nan')"
   ]
  },
  {
   "attachments": {},
   "cell_type": "markdown",
   "metadata": {},
   "source": [
    "# Initial Check of Data:\n",
    "Check of shape, data types, missing values and initial statics of the columns"
   ]
  },
  {
   "cell_type": "code",
   "execution_count": 359,
   "metadata": {},
   "outputs": [
    {
     "name": "stdout",
     "output_type": "stream",
     "text": [
      "(541909, 8)\n",
      "The dataframe consists of 8 columns and of 541909 rows\n"
     ]
    }
   ],
   "source": [
    "# Check shape of data \n",
    "print(df_online_retail.shape)\n",
    "print(\"The dataframe consists of\", df_online_retail.shape[1], \"columns and of\", df_online_retail.shape[0], \"rows\")"
   ]
  },
  {
   "cell_type": "code",
   "execution_count": 360,
   "metadata": {},
   "outputs": [
    {
     "data": {
      "text/html": [
       "<div>\n",
       "<style scoped>\n",
       "    .dataframe tbody tr th:only-of-type {\n",
       "        vertical-align: middle;\n",
       "    }\n",
       "\n",
       "    .dataframe tbody tr th {\n",
       "        vertical-align: top;\n",
       "    }\n",
       "\n",
       "    .dataframe thead th {\n",
       "        text-align: right;\n",
       "    }\n",
       "</style>\n",
       "<table border=\"1\" class=\"dataframe\">\n",
       "  <thead>\n",
       "    <tr style=\"text-align: right;\">\n",
       "      <th></th>\n",
       "      <th>InvoiceNo</th>\n",
       "      <th>StockCode</th>\n",
       "      <th>Description</th>\n",
       "      <th>Quantity</th>\n",
       "      <th>InvoiceDate</th>\n",
       "      <th>UnitPrice</th>\n",
       "      <th>CustomerID</th>\n",
       "      <th>Country</th>\n",
       "    </tr>\n",
       "  </thead>\n",
       "  <tbody>\n",
       "    <tr>\n",
       "      <th>0</th>\n",
       "      <td>536365</td>\n",
       "      <td>85123A</td>\n",
       "      <td>WHITE HANGING HEART T-LIGHT HOLDER</td>\n",
       "      <td>6</td>\n",
       "      <td>12/1/2010 8:26</td>\n",
       "      <td>2.55</td>\n",
       "      <td>17850.00</td>\n",
       "      <td>United Kingdom</td>\n",
       "    </tr>\n",
       "    <tr>\n",
       "      <th>1</th>\n",
       "      <td>536365</td>\n",
       "      <td>71053</td>\n",
       "      <td>WHITE METAL LANTERN</td>\n",
       "      <td>6</td>\n",
       "      <td>12/1/2010 8:26</td>\n",
       "      <td>3.39</td>\n",
       "      <td>17850.00</td>\n",
       "      <td>United Kingdom</td>\n",
       "    </tr>\n",
       "    <tr>\n",
       "      <th>2</th>\n",
       "      <td>536365</td>\n",
       "      <td>84406B</td>\n",
       "      <td>CREAM CUPID HEARTS COAT HANGER</td>\n",
       "      <td>8</td>\n",
       "      <td>12/1/2010 8:26</td>\n",
       "      <td>2.75</td>\n",
       "      <td>17850.00</td>\n",
       "      <td>United Kingdom</td>\n",
       "    </tr>\n",
       "    <tr>\n",
       "      <th>3</th>\n",
       "      <td>536365</td>\n",
       "      <td>84029G</td>\n",
       "      <td>KNITTED UNION FLAG HOT WATER BOTTLE</td>\n",
       "      <td>6</td>\n",
       "      <td>12/1/2010 8:26</td>\n",
       "      <td>3.39</td>\n",
       "      <td>17850.00</td>\n",
       "      <td>United Kingdom</td>\n",
       "    </tr>\n",
       "    <tr>\n",
       "      <th>4</th>\n",
       "      <td>536365</td>\n",
       "      <td>84029E</td>\n",
       "      <td>RED WOOLLY HOTTIE WHITE HEART.</td>\n",
       "      <td>6</td>\n",
       "      <td>12/1/2010 8:26</td>\n",
       "      <td>3.39</td>\n",
       "      <td>17850.00</td>\n",
       "      <td>United Kingdom</td>\n",
       "    </tr>\n",
       "  </tbody>\n",
       "</table>\n",
       "</div>"
      ],
      "text/plain": [
       "  InvoiceNo StockCode                          Description  Quantity  \\\n",
       "0    536365    85123A   WHITE HANGING HEART T-LIGHT HOLDER         6   \n",
       "1    536365     71053                  WHITE METAL LANTERN         6   \n",
       "2    536365    84406B       CREAM CUPID HEARTS COAT HANGER         8   \n",
       "3    536365    84029G  KNITTED UNION FLAG HOT WATER BOTTLE         6   \n",
       "4    536365    84029E       RED WOOLLY HOTTIE WHITE HEART.         6   \n",
       "\n",
       "      InvoiceDate  UnitPrice  CustomerID         Country  \n",
       "0  12/1/2010 8:26       2.55    17850.00  United Kingdom  \n",
       "1  12/1/2010 8:26       3.39    17850.00  United Kingdom  \n",
       "2  12/1/2010 8:26       2.75    17850.00  United Kingdom  \n",
       "3  12/1/2010 8:26       3.39    17850.00  United Kingdom  \n",
       "4  12/1/2010 8:26       3.39    17850.00  United Kingdom  "
      ]
     },
     "execution_count": 360,
     "metadata": {},
     "output_type": "execute_result"
    }
   ],
   "source": [
    "# Check first five rows of Data\n",
    "df_online_retail.head()"
   ]
  },
  {
   "cell_type": "code",
   "execution_count": 361,
   "metadata": {},
   "outputs": [
    {
     "name": "stdout",
     "output_type": "stream",
     "text": [
      "<class 'pandas.core.frame.DataFrame'>\n",
      "RangeIndex: 541909 entries, 0 to 541908\n",
      "Data columns (total 8 columns):\n",
      " #   Column       Non-Null Count   Dtype  \n",
      "---  ------       --------------   -----  \n",
      " 0   InvoiceNo    541909 non-null  object \n",
      " 1   StockCode    541909 non-null  object \n",
      " 2   Description  540455 non-null  object \n",
      " 3   Quantity     541909 non-null  int64  \n",
      " 4   InvoiceDate  541909 non-null  object \n",
      " 5   UnitPrice    541909 non-null  float64\n",
      " 6   CustomerID   406829 non-null  float64\n",
      " 7   Country      541909 non-null  object \n",
      "dtypes: float64(2), int64(1), object(5)\n",
      "memory usage: 33.1+ MB\n"
     ]
    }
   ],
   "source": [
    "# Check Data Types\n",
    "df_online_retail.info()"
   ]
  },
  {
   "cell_type": "code",
   "execution_count": 362,
   "metadata": {},
   "outputs": [
    {
     "data": {
      "text/html": [
       "<div>\n",
       "<style scoped>\n",
       "    .dataframe tbody tr th:only-of-type {\n",
       "        vertical-align: middle;\n",
       "    }\n",
       "\n",
       "    .dataframe tbody tr th {\n",
       "        vertical-align: top;\n",
       "    }\n",
       "\n",
       "    .dataframe thead th {\n",
       "        text-align: right;\n",
       "    }\n",
       "</style>\n",
       "<table border=\"1\" class=\"dataframe\">\n",
       "  <thead>\n",
       "    <tr style=\"text-align: right;\">\n",
       "      <th></th>\n",
       "      <th>No. NA</th>\n",
       "      <th>%NA</th>\n",
       "    </tr>\n",
       "  </thead>\n",
       "  <tbody>\n",
       "    <tr>\n",
       "      <th>CustomerID</th>\n",
       "      <td>135080</td>\n",
       "      <td>24.93</td>\n",
       "    </tr>\n",
       "    <tr>\n",
       "      <th>Description</th>\n",
       "      <td>1454</td>\n",
       "      <td>0.27</td>\n",
       "    </tr>\n",
       "    <tr>\n",
       "      <th>InvoiceNo</th>\n",
       "      <td>0</td>\n",
       "      <td>0.00</td>\n",
       "    </tr>\n",
       "    <tr>\n",
       "      <th>StockCode</th>\n",
       "      <td>0</td>\n",
       "      <td>0.00</td>\n",
       "    </tr>\n",
       "    <tr>\n",
       "      <th>Quantity</th>\n",
       "      <td>0</td>\n",
       "      <td>0.00</td>\n",
       "    </tr>\n",
       "    <tr>\n",
       "      <th>InvoiceDate</th>\n",
       "      <td>0</td>\n",
       "      <td>0.00</td>\n",
       "    </tr>\n",
       "    <tr>\n",
       "      <th>UnitPrice</th>\n",
       "      <td>0</td>\n",
       "      <td>0.00</td>\n",
       "    </tr>\n",
       "    <tr>\n",
       "      <th>Country</th>\n",
       "      <td>0</td>\n",
       "      <td>0.00</td>\n",
       "    </tr>\n",
       "  </tbody>\n",
       "</table>\n",
       "</div>"
      ],
      "text/plain": [
       "             No. NA   %NA\n",
       "CustomerID   135080 24.93\n",
       "Description    1454  0.27\n",
       "InvoiceNo         0  0.00\n",
       "StockCode         0  0.00\n",
       "Quantity          0  0.00\n",
       "InvoiceDate       0  0.00\n",
       "UnitPrice         0  0.00\n",
       "Country           0  0.00"
      ]
     },
     "execution_count": 362,
     "metadata": {},
     "output_type": "execute_result"
    }
   ],
   "source": [
    "# Check number of missing values per column\n",
    "missing_count = pd.DataFrame(df_online_retail.isnull().sum().sort_values(ascending=False), columns=['No. NA'])\n",
    "missing_perc = pd.DataFrame(round(df_online_retail.isnull().sum().sort_values(ascending=False)/len(df_online_retail)*100,2), columns=['%NA']) \n",
    "missing_values = pd.concat([missing_count, missing_perc], axis=1)\n",
    "missing_values"
   ]
  },
  {
   "attachments": {},
   "cell_type": "markdown",
   "metadata": {},
   "source": [
    "# Analysis of Missing Data"
   ]
  },
  {
   "cell_type": "code",
   "execution_count": 363,
   "metadata": {},
   "outputs": [
    {
     "data": {
      "text/html": [
       "<div>\n",
       "<style scoped>\n",
       "    .dataframe tbody tr th:only-of-type {\n",
       "        vertical-align: middle;\n",
       "    }\n",
       "\n",
       "    .dataframe tbody tr th {\n",
       "        vertical-align: top;\n",
       "    }\n",
       "\n",
       "    .dataframe thead th {\n",
       "        text-align: right;\n",
       "    }\n",
       "</style>\n",
       "<table border=\"1\" class=\"dataframe\">\n",
       "  <thead>\n",
       "    <tr style=\"text-align: right;\">\n",
       "      <th></th>\n",
       "      <th>InvoiceNo</th>\n",
       "      <th>StockCode</th>\n",
       "      <th>Description</th>\n",
       "      <th>Quantity</th>\n",
       "      <th>InvoiceDate</th>\n",
       "      <th>UnitPrice</th>\n",
       "      <th>CustomerID</th>\n",
       "      <th>Country</th>\n",
       "    </tr>\n",
       "  </thead>\n",
       "  <tbody>\n",
       "    <tr>\n",
       "      <th>622</th>\n",
       "      <td>536414</td>\n",
       "      <td>22139</td>\n",
       "      <td>NaN</td>\n",
       "      <td>56</td>\n",
       "      <td>12/1/2010 11:52</td>\n",
       "      <td>0.00</td>\n",
       "      <td>NaN</td>\n",
       "      <td>United Kingdom</td>\n",
       "    </tr>\n",
       "    <tr>\n",
       "      <th>1443</th>\n",
       "      <td>536544</td>\n",
       "      <td>21773</td>\n",
       "      <td>DECORATIVE ROSE BATHROOM BOTTLE</td>\n",
       "      <td>1</td>\n",
       "      <td>12/1/2010 14:32</td>\n",
       "      <td>2.51</td>\n",
       "      <td>NaN</td>\n",
       "      <td>United Kingdom</td>\n",
       "    </tr>\n",
       "    <tr>\n",
       "      <th>1444</th>\n",
       "      <td>536544</td>\n",
       "      <td>21774</td>\n",
       "      <td>DECORATIVE CATS BATHROOM BOTTLE</td>\n",
       "      <td>2</td>\n",
       "      <td>12/1/2010 14:32</td>\n",
       "      <td>2.51</td>\n",
       "      <td>NaN</td>\n",
       "      <td>United Kingdom</td>\n",
       "    </tr>\n",
       "    <tr>\n",
       "      <th>1445</th>\n",
       "      <td>536544</td>\n",
       "      <td>21786</td>\n",
       "      <td>POLKADOT RAIN HAT</td>\n",
       "      <td>4</td>\n",
       "      <td>12/1/2010 14:32</td>\n",
       "      <td>0.85</td>\n",
       "      <td>NaN</td>\n",
       "      <td>United Kingdom</td>\n",
       "    </tr>\n",
       "    <tr>\n",
       "      <th>1446</th>\n",
       "      <td>536544</td>\n",
       "      <td>21787</td>\n",
       "      <td>RAIN PONCHO RETROSPOT</td>\n",
       "      <td>2</td>\n",
       "      <td>12/1/2010 14:32</td>\n",
       "      <td>1.66</td>\n",
       "      <td>NaN</td>\n",
       "      <td>United Kingdom</td>\n",
       "    </tr>\n",
       "  </tbody>\n",
       "</table>\n",
       "</div>"
      ],
      "text/plain": [
       "     InvoiceNo StockCode                      Description  Quantity  \\\n",
       "622     536414     22139                              NaN        56   \n",
       "1443    536544     21773  DECORATIVE ROSE BATHROOM BOTTLE         1   \n",
       "1444    536544     21774  DECORATIVE CATS BATHROOM BOTTLE         2   \n",
       "1445    536544     21786               POLKADOT RAIN HAT          4   \n",
       "1446    536544     21787            RAIN PONCHO RETROSPOT         2   \n",
       "\n",
       "          InvoiceDate  UnitPrice  CustomerID         Country  \n",
       "622   12/1/2010 11:52       0.00         NaN  United Kingdom  \n",
       "1443  12/1/2010 14:32       2.51         NaN  United Kingdom  \n",
       "1444  12/1/2010 14:32       2.51         NaN  United Kingdom  \n",
       "1445  12/1/2010 14:32       0.85         NaN  United Kingdom  \n",
       "1446  12/1/2010 14:32       1.66         NaN  United Kingdom  "
      ]
     },
     "execution_count": 363,
     "metadata": {},
     "output_type": "execute_result"
    }
   ],
   "source": [
    "# Customer ID Null \n",
    "customer_nan = df_online_retail[df_online_retail['CustomerID'].isnull()]\n",
    "customer_nan.head()"
   ]
  },
  {
   "cell_type": "code",
   "execution_count": 364,
   "metadata": {},
   "outputs": [
    {
     "data": {
      "text/plain": [
       "InvoiceNo           0\n",
       "StockCode           0\n",
       "Description      1454\n",
       "Quantity            0\n",
       "InvoiceDate         0\n",
       "UnitPrice           0\n",
       "CustomerID     135080\n",
       "Country             0\n",
       "dtype: int64"
      ]
     },
     "execution_count": 364,
     "metadata": {},
     "output_type": "execute_result"
    }
   ],
   "source": [
    "# Further missing values\n",
    "customer_nan.isna().sum()"
   ]
  },
  {
   "attachments": {},
   "cell_type": "markdown",
   "metadata": {},
   "source": [
    "All missing values in \"Description\" correspond to missing values in \"Customer ID\". Dropping NA in \"Customer ID\" will also clean out missing data in \"Description\". "
   ]
  },
  {
   "cell_type": "code",
   "execution_count": 365,
   "metadata": {},
   "outputs": [
    {
     "data": {
      "text/plain": [
       "array([nan, 'DECORATIVE ROSE BATHROOM BOTTLE',\n",
       "       'DECORATIVE CATS BATHROOM BOTTLE', ...,\n",
       "       'LANDMARK FRAME COVENT GARDEN ', 'BLUE DISCO HANDBAG',\n",
       "       'CREAM HANGING HEART T-LIGHT HOLDER'], dtype=object)"
      ]
     },
     "execution_count": 365,
     "metadata": {},
     "output_type": "execute_result"
    }
   ],
   "source": [
    "customer_nan.Description.unique()"
   ]
  },
  {
   "cell_type": "code",
   "execution_count": 366,
   "metadata": {},
   "outputs": [
    {
     "name": "stdout",
     "output_type": "stream",
     "text": [
      "Description\n",
      "DOTCOM POSTAGE                         693\n",
      "JUMBO BAG RED RETROSPOT                497\n",
      "JUMBO STORAGE BAG SUKI                 414\n",
      "JUMBO SHOPPER VINTAGE RED PAISLEY      388\n",
      "JUMBO BAG WOODLAND ANIMALS             372\n",
      "                                      ... \n",
      "LANDMARK FRAME COVENT GARDEN             1\n",
      "LARGE APOTHECARY MEASURING JAR           1\n",
      "LARGE BONNE JAM JAR  T-LIGHT HOLDER      1\n",
      "LARGE HEART FLOWERS HOOK                 1\n",
      "wrongly sold sets                        1\n",
      "Length: 3554, dtype: int64\n"
     ]
    }
   ],
   "source": [
    "print(customer_nan.groupby(by='Description').size().sort_values(ascending=False))"
   ]
  },
  {
   "attachments": {},
   "cell_type": "markdown",
   "metadata": {},
   "source": [
    "**Potential Changes for Data**\n",
    "- Drop all Missing Values\n",
    "- Analyse Entries with Negative Quantity\n",
    "- Change Datetime Type & CustomerID to String\n",
    "- Use Label Encoder for StockCode & CustomerID"
   ]
  },
  {
   "attachments": {},
   "cell_type": "markdown",
   "metadata": {},
   "source": [
    "# Data Cleaning & Transformation"
   ]
  },
  {
   "attachments": {},
   "cell_type": "markdown",
   "metadata": {},
   "source": [
    "## Missing Data"
   ]
  },
  {
   "cell_type": "code",
   "execution_count": 367,
   "metadata": {},
   "outputs": [
    {
     "name": "stdout",
     "output_type": "stream",
     "text": [
      "<class 'pandas.core.frame.DataFrame'>\n",
      "RangeIndex: 541909 entries, 0 to 541908\n",
      "Data columns (total 8 columns):\n",
      " #   Column       Non-Null Count   Dtype         \n",
      "---  ------       --------------   -----         \n",
      " 0   InvoiceNo    541909 non-null  object        \n",
      " 1   StockCode    541909 non-null  object        \n",
      " 2   Description  540455 non-null  object        \n",
      " 3   Quantity     541909 non-null  int64         \n",
      " 4   InvoiceDate  541909 non-null  datetime64[ns]\n",
      " 5   UnitPrice    541909 non-null  float64       \n",
      " 6   CustomerID   406829 non-null  float64       \n",
      " 7   Country      541909 non-null  object        \n",
      "dtypes: datetime64[ns](1), float64(2), int64(1), object(4)\n",
      "memory usage: 33.1+ MB\n"
     ]
    }
   ],
   "source": [
    "# Data Type Transformations\n",
    "\n",
    "# Convert Invoice Date into Date time\n",
    "df_online_retail['InvoiceDate'] = pd.to_datetime(df_online_retail['InvoiceDate'])\n",
    "\n",
    "# Sanity Check\n",
    "df_online_retail.info()"
   ]
  },
  {
   "cell_type": "code",
   "execution_count": 368,
   "metadata": {},
   "outputs": [
    {
     "data": {
      "text/plain": [
       "InvoiceNo      0\n",
       "StockCode      0\n",
       "Description    0\n",
       "Quantity       0\n",
       "InvoiceDate    0\n",
       "UnitPrice      0\n",
       "CustomerID     0\n",
       "Country        0\n",
       "dtype: int64"
      ]
     },
     "execution_count": 368,
     "metadata": {},
     "output_type": "execute_result"
    }
   ],
   "source": [
    "# Drop NA for customer and check remaining NA\n",
    "df_online_retail = df_online_retail[df_online_retail['CustomerID'].notna()]\n",
    "df_online_retail.isnull().sum().sort_values(ascending=False)"
   ]
  },
  {
   "cell_type": "code",
   "execution_count": 369,
   "metadata": {},
   "outputs": [
    {
     "name": "stdout",
     "output_type": "stream",
     "text": [
      "Shape of transformed Dataframe: (406829, 8)\n",
      "135080 rows were removed from the Dataframe during data cleaning.\n"
     ]
    }
   ],
   "source": [
    "# Check Impact of Data Cleaning on Shape\n",
    "initial_number_rows = 541909\n",
    "print(\"Shape of transformed Dataframe:\", df_online_retail.shape)\n",
    "print(initial_number_rows - df_online_retail.shape[0], \"rows were removed from the Dataframe during data cleaning.\")\n"
   ]
  },
  {
   "attachments": {},
   "cell_type": "markdown",
   "metadata": {},
   "source": [
    "## Item & Label Encoding"
   ]
  },
  {
   "cell_type": "code",
   "execution_count": 370,
   "metadata": {},
   "outputs": [
    {
     "data": {
      "text/html": [
       "<div>\n",
       "<style scoped>\n",
       "    .dataframe tbody tr th:only-of-type {\n",
       "        vertical-align: middle;\n",
       "    }\n",
       "\n",
       "    .dataframe tbody tr th {\n",
       "        vertical-align: top;\n",
       "    }\n",
       "\n",
       "    .dataframe thead th {\n",
       "        text-align: right;\n",
       "    }\n",
       "</style>\n",
       "<table border=\"1\" class=\"dataframe\">\n",
       "  <thead>\n",
       "    <tr style=\"text-align: right;\">\n",
       "      <th></th>\n",
       "      <th>InvoiceNo</th>\n",
       "      <th>StockCode</th>\n",
       "      <th>Description</th>\n",
       "      <th>Quantity</th>\n",
       "      <th>InvoiceDate</th>\n",
       "      <th>UnitPrice</th>\n",
       "      <th>CustomerID</th>\n",
       "      <th>Country</th>\n",
       "    </tr>\n",
       "  </thead>\n",
       "  <tbody>\n",
       "    <tr>\n",
       "      <th>0</th>\n",
       "      <td>536365</td>\n",
       "      <td>3249</td>\n",
       "      <td>WHITE HANGING HEART T-LIGHT HOLDER</td>\n",
       "      <td>6</td>\n",
       "      <td>2010-12-01 08:26:00</td>\n",
       "      <td>2.55</td>\n",
       "      <td>4048</td>\n",
       "      <td>United Kingdom</td>\n",
       "    </tr>\n",
       "    <tr>\n",
       "      <th>1</th>\n",
       "      <td>536365</td>\n",
       "      <td>2649</td>\n",
       "      <td>WHITE METAL LANTERN</td>\n",
       "      <td>6</td>\n",
       "      <td>2010-12-01 08:26:00</td>\n",
       "      <td>3.39</td>\n",
       "      <td>4048</td>\n",
       "      <td>United Kingdom</td>\n",
       "    </tr>\n",
       "    <tr>\n",
       "      <th>2</th>\n",
       "      <td>536365</td>\n",
       "      <td>2855</td>\n",
       "      <td>CREAM CUPID HEARTS COAT HANGER</td>\n",
       "      <td>8</td>\n",
       "      <td>2010-12-01 08:26:00</td>\n",
       "      <td>2.75</td>\n",
       "      <td>4048</td>\n",
       "      <td>United Kingdom</td>\n",
       "    </tr>\n",
       "    <tr>\n",
       "      <th>3</th>\n",
       "      <td>536365</td>\n",
       "      <td>2803</td>\n",
       "      <td>KNITTED UNION FLAG HOT WATER BOTTLE</td>\n",
       "      <td>6</td>\n",
       "      <td>2010-12-01 08:26:00</td>\n",
       "      <td>3.39</td>\n",
       "      <td>4048</td>\n",
       "      <td>United Kingdom</td>\n",
       "    </tr>\n",
       "    <tr>\n",
       "      <th>4</th>\n",
       "      <td>536365</td>\n",
       "      <td>2802</td>\n",
       "      <td>RED WOOLLY HOTTIE WHITE HEART.</td>\n",
       "      <td>6</td>\n",
       "      <td>2010-12-01 08:26:00</td>\n",
       "      <td>3.39</td>\n",
       "      <td>4048</td>\n",
       "      <td>United Kingdom</td>\n",
       "    </tr>\n",
       "  </tbody>\n",
       "</table>\n",
       "</div>"
      ],
      "text/plain": [
       "  InvoiceNo StockCode                          Description  Quantity  \\\n",
       "0    536365      3249   WHITE HANGING HEART T-LIGHT HOLDER         6   \n",
       "1    536365      2649                  WHITE METAL LANTERN         6   \n",
       "2    536365      2855       CREAM CUPID HEARTS COAT HANGER         8   \n",
       "3    536365      2803  KNITTED UNION FLAG HOT WATER BOTTLE         6   \n",
       "4    536365      2802       RED WOOLLY HOTTIE WHITE HEART.         6   \n",
       "\n",
       "          InvoiceDate  UnitPrice CustomerID         Country  \n",
       "0 2010-12-01 08:26:00       2.55       4048  United Kingdom  \n",
       "1 2010-12-01 08:26:00       3.39       4048  United Kingdom  \n",
       "2 2010-12-01 08:26:00       2.75       4048  United Kingdom  \n",
       "3 2010-12-01 08:26:00       3.39       4048  United Kingdom  \n",
       "4 2010-12-01 08:26:00       3.39       4048  United Kingdom  "
      ]
     },
     "execution_count": 370,
     "metadata": {},
     "output_type": "execute_result"
    }
   ],
   "source": [
    "# User & Item  Label Encoder \n",
    "\n",
    "# Import LabelEncoder\n",
    "from sklearn.preprocessing import LabelEncoder\n",
    "\n",
    "# Convert CustomerID to String\n",
    "df_online_retail['CustomerID'] = df_online_retail['CustomerID'].astype(str)\n",
    "\n",
    "# Set up Objects for User and Item Column\n",
    "le1 = LabelEncoder()\n",
    "le2 = LabelEncoder()\n",
    "\n",
    "# Fit the encoders to the columns in question\n",
    "le1.fit(df_online_retail['StockCode'])\n",
    "le2.fit(df_online_retail['CustomerID'])\n",
    "\n",
    "# Transform dataframe with encoded labels\n",
    "df_online_retail['StockCode'] = le1.transform(df_online_retail['StockCode']).astype(str)\n",
    "df_online_retail['CustomerID'] = le2.transform(df_online_retail['CustomerID']).astype(str)\n",
    "\n",
    "# Check Change \n",
    "df_online_retail.head()"
   ]
  },
  {
   "attachments": {},
   "cell_type": "markdown",
   "metadata": {},
   "source": [
    "## Users & Items with less than 10 Interactions"
   ]
  },
  {
   "cell_type": "code",
   "execution_count": 371,
   "metadata": {},
   "outputs": [],
   "source": [
    "# Initial Values\n",
    "initial_items_unique=df_online_retail.StockCode.nunique()\n",
    "initial_users_unique=df_online_retail.CustomerID.nunique()"
   ]
  },
  {
   "cell_type": "code",
   "execution_count": 372,
   "metadata": {},
   "outputs": [
    {
     "name": "stdout",
     "output_type": "stream",
     "text": [
      "initial unique items: 3684\n",
      "initial unique users: 4372\n"
     ]
    }
   ],
   "source": [
    "print(\"initial unique items:\", initial_items_unique)\n",
    "print(\"initial unique users:\", initial_users_unique)"
   ]
  },
  {
   "cell_type": "code",
   "execution_count": 380,
   "metadata": {},
   "outputs": [],
   "source": [
    "# New df with counts of unique items per User \n",
    "users_itemcounts = df_online_retail.groupby('CustomerID')['StockCode'].nunique()\n",
    "\n",
    "# Filter out users with less than 10 unique items \n",
    "users_ten_items = users_itemcounts[users_itemcounts>=10].index\n",
    "\n",
    "# New df with counts of unique users per Item\n",
    "item_usercounts = df_online_retail.groupby('StockCode')['CustomerID'].nunique()\n",
    "\n",
    "# Filter out items with less than 10 unique users\n",
    "items_ten_users = item_usercounts[item_usercounts>10].index\n",
    "\n",
    "# Filter dataframe \n",
    "df_online_retail = df_online_retail[\n",
    "    df_online_retail['CustomerID'].isin(users_ten_items) &\n",
    "    df_online_retail['StockCode'].isin(items_ten_users)\n",
    "] \n"
   ]
  },
  {
   "cell_type": "code",
   "execution_count": 381,
   "metadata": {},
   "outputs": [
    {
     "data": {
      "text/plain": [
       "InvoiceNo      20866\n",
       "StockCode       2745\n",
       "Description     2960\n",
       "Quantity         388\n",
       "InvoiceDate    19351\n",
       "UnitPrice        543\n",
       "CustomerID      3699\n",
       "Country           36\n",
       "dtype: int64"
      ]
     },
     "execution_count": 381,
     "metadata": {},
     "output_type": "execute_result"
    }
   ],
   "source": [
    "# Unique Users and Items\n",
    "df_online_retail.nunique()"
   ]
  },
  {
   "cell_type": "code",
   "execution_count": 288,
   "metadata": {},
   "outputs": [
    {
     "name": "stdout",
     "output_type": "stream",
     "text": [
      "Excluded Items: 939\n",
      "Excluded Users: 673\n"
     ]
    }
   ],
   "source": [
    "print(\"Excluded Items:\", initial_items_unique - df_online_retail.StockCode.nunique())\n",
    "print(\"Excluded Users:\", initial_users_unique - df_online_retail.CustomerID.nunique())"
   ]
  },
  {
   "attachments": {},
   "cell_type": "markdown",
   "metadata": {},
   "source": [
    "## Strange Descriptions"
   ]
  },
  {
   "cell_type": "code",
   "execution_count": 399,
   "metadata": {},
   "outputs": [
    {
     "data": {
      "text/plain": [
       "REGENCY CAKESTAND 3 TIER        178\n",
       "Manual                          152\n",
       "POSTAGE                          92\n",
       "JAM MAKING SET WITH JARS         86\n",
       "Discount                         74\n",
       "                               ... \n",
       "HERB MARKER PARSLEY               1\n",
       "HERB MARKER THYME                 1\n",
       "HERB MARKER MINT                  1\n",
       "HERB MARKER ROSEMARY              1\n",
       "HOUSE SHAPE PENCIL SHARPENER      1\n",
       "Name: Description, Length: 1769, dtype: int64"
      ]
     },
     "execution_count": 399,
     "metadata": {},
     "output_type": "execute_result"
    }
   ],
   "source": [
    "df_negative_quantity = df_online_retail[df_online_retail['Quantity']<0]\n",
    "df_negative_quantity['Description'].value_counts()"
   ]
  },
  {
   "cell_type": "code",
   "execution_count": 425,
   "metadata": {},
   "outputs": [
    {
     "data": {
      "text/plain": [
       "array(['Discount', 'BAG 500g SWIRLY MARBLES',\n",
       "       'POLYESTER FILLER PAD 45x45cm', 'POLYESTER FILLER PAD 45x30cm',\n",
       "       'POLYESTER FILLER PAD 40x40cm', 'FRENCH BLUE METAL DOOR SIGN No',\n",
       "       'Manual', 'BAG 250g SWIRLY MARBLES', 'BAG 125g SWIRLY MARBLES',\n",
       "       'NUMBER TILE COTTAGE GARDEN No',\n",
       "       'ESSENTIAL BALM 3.5g TIN IN ENVELOPE',\n",
       "       'POLYESTER FILLER PAD 30CMx30CM', 'Next Day Carriage'],\n",
       "      dtype=object)"
      ]
     },
     "execution_count": 425,
     "metadata": {},
     "output_type": "execute_result"
    }
   ],
   "source": [
    "test= df_online_retail['Description'].str.contains('^(?:(?=.*[a-z])[A-Za-z]+)(?:\\s|$)')\n",
    "df_online_retail[test]['Description'].unique()"
   ]
  },
  {
   "cell_type": "code",
   "execution_count": 438,
   "metadata": {},
   "outputs": [],
   "source": [
    "# Filter out Discount & Next Day Carriage\n",
    "df_online_retail = df_online_retail[df_online_retail['Description']!='Discount']\n",
    "df_online_retail = df_online_retail[df_online_retail['Description']!='Next Day Carriage']"
   ]
  },
  {
   "attachments": {},
   "cell_type": "markdown",
   "metadata": {},
   "source": [
    "# Descriptive Data Analysis"
   ]
  },
  {
   "cell_type": "code",
   "execution_count": 439,
   "metadata": {},
   "outputs": [
    {
     "data": {
      "text/html": [
       "<div>\n",
       "<style scoped>\n",
       "    .dataframe tbody tr th:only-of-type {\n",
       "        vertical-align: middle;\n",
       "    }\n",
       "\n",
       "    .dataframe tbody tr th {\n",
       "        vertical-align: top;\n",
       "    }\n",
       "\n",
       "    .dataframe thead th {\n",
       "        text-align: right;\n",
       "    }\n",
       "</style>\n",
       "<table border=\"1\" class=\"dataframe\">\n",
       "  <thead>\n",
       "    <tr style=\"text-align: right;\">\n",
       "      <th></th>\n",
       "      <th>Quantity</th>\n",
       "      <th>UnitPrice</th>\n",
       "    </tr>\n",
       "  </thead>\n",
       "  <tbody>\n",
       "    <tr>\n",
       "      <th>count</th>\n",
       "      <td>397656.00</td>\n",
       "      <td>397656.00</td>\n",
       "    </tr>\n",
       "    <tr>\n",
       "      <th>mean</th>\n",
       "      <td>11.66</td>\n",
       "      <td>3.23</td>\n",
       "    </tr>\n",
       "    <tr>\n",
       "      <th>std</th>\n",
       "      <td>39.57</td>\n",
       "      <td>30.86</td>\n",
       "    </tr>\n",
       "    <tr>\n",
       "      <th>min</th>\n",
       "      <td>-9360.00</td>\n",
       "      <td>0.00</td>\n",
       "    </tr>\n",
       "    <tr>\n",
       "      <th>25%</th>\n",
       "      <td>2.00</td>\n",
       "      <td>1.25</td>\n",
       "    </tr>\n",
       "    <tr>\n",
       "      <th>50%</th>\n",
       "      <td>5.00</td>\n",
       "      <td>1.95</td>\n",
       "    </tr>\n",
       "    <tr>\n",
       "      <th>75%</th>\n",
       "      <td>12.00</td>\n",
       "      <td>3.75</td>\n",
       "    </tr>\n",
       "    <tr>\n",
       "      <th>max</th>\n",
       "      <td>4800.00</td>\n",
       "      <td>8142.75</td>\n",
       "    </tr>\n",
       "  </tbody>\n",
       "</table>\n",
       "</div>"
      ],
      "text/plain": [
       "       Quantity  UnitPrice\n",
       "count 397656.00  397656.00\n",
       "mean      11.66       3.23\n",
       "std       39.57      30.86\n",
       "min    -9360.00       0.00\n",
       "25%        2.00       1.25\n",
       "50%        5.00       1.95\n",
       "75%       12.00       3.75\n",
       "max     4800.00    8142.75"
      ]
     },
     "execution_count": 439,
     "metadata": {},
     "output_type": "execute_result"
    }
   ],
   "source": [
    "# Descriptive Statistics Numerical  \n",
    "df_online_retail.describe()"
   ]
  },
  {
   "cell_type": "code",
   "execution_count": 440,
   "metadata": {},
   "outputs": [
    {
     "data": {
      "text/html": [
       "<div>\n",
       "<style scoped>\n",
       "    .dataframe tbody tr th:only-of-type {\n",
       "        vertical-align: middle;\n",
       "    }\n",
       "\n",
       "    .dataframe tbody tr th {\n",
       "        vertical-align: top;\n",
       "    }\n",
       "\n",
       "    .dataframe thead th {\n",
       "        text-align: right;\n",
       "    }\n",
       "</style>\n",
       "<table border=\"1\" class=\"dataframe\">\n",
       "  <thead>\n",
       "    <tr style=\"text-align: right;\">\n",
       "      <th></th>\n",
       "      <th>InvoiceNo</th>\n",
       "      <th>StockCode</th>\n",
       "      <th>Description</th>\n",
       "      <th>CustomerID</th>\n",
       "      <th>Country</th>\n",
       "    </tr>\n",
       "  </thead>\n",
       "  <tbody>\n",
       "    <tr>\n",
       "      <th>count</th>\n",
       "      <td>397656</td>\n",
       "      <td>397656</td>\n",
       "      <td>397656</td>\n",
       "      <td>397656</td>\n",
       "      <td>397656</td>\n",
       "    </tr>\n",
       "    <tr>\n",
       "      <th>unique</th>\n",
       "      <td>20804</td>\n",
       "      <td>2743</td>\n",
       "      <td>2958</td>\n",
       "      <td>3699</td>\n",
       "      <td>36</td>\n",
       "    </tr>\n",
       "    <tr>\n",
       "      <th>top</th>\n",
       "      <td>576339</td>\n",
       "      <td>3249</td>\n",
       "      <td>WHITE HANGING HEART T-LIGHT HOLDER</td>\n",
       "      <td>4042</td>\n",
       "      <td>United Kingdom</td>\n",
       "    </tr>\n",
       "    <tr>\n",
       "      <th>freq</th>\n",
       "      <td>530</td>\n",
       "      <td>2032</td>\n",
       "      <td>2025</td>\n",
       "      <td>7888</td>\n",
       "      <td>353358</td>\n",
       "    </tr>\n",
       "  </tbody>\n",
       "</table>\n",
       "</div>"
      ],
      "text/plain": [
       "       InvoiceNo StockCode                         Description CustomerID  \\\n",
       "count     397656    397656                              397656     397656   \n",
       "unique     20804      2743                                2958       3699   \n",
       "top       576339      3249  WHITE HANGING HEART T-LIGHT HOLDER       4042   \n",
       "freq         530      2032                                2025       7888   \n",
       "\n",
       "               Country  \n",
       "count           397656  \n",
       "unique              36  \n",
       "top     United Kingdom  \n",
       "freq            353358  "
      ]
     },
     "execution_count": 440,
     "metadata": {},
     "output_type": "execute_result"
    }
   ],
   "source": [
    "# Descriptive Statistics Categorical\n",
    "df_online_retail.describe(include='object')"
   ]
  },
  {
   "cell_type": "code",
   "execution_count": 480,
   "metadata": {},
   "outputs": [
    {
     "name": "stdout",
     "output_type": "stream",
     "text": [
      "Sparcity: 97.43677459801582\n",
      "Unique Transactions: 260074\n",
      "Potential Transactions: 10146357\n",
      "Overall Transactions: 397656\n"
     ]
    }
   ],
   "source": [
    "# Sparcity in %\n",
    "# User x item Matrix  \n",
    "matrix = pd.pivot_table(df_online_retail, values='Quantity', index='CustomerID', columns='StockCode')\n",
    "\n",
    "# Group by InvoiceNo and calculate the number of appearances and the product of Quantity and UnitPrice\n",
    "df_interactions = df_online_retail.groupby(['StockCode', 'CustomerID']).agg({'CustomerID': 'count'})\n",
    "\n",
    "# Rename the columns\n",
    "df_interactions.columns = ['NumberOrders']\n",
    "\n",
    "# Reset the index\n",
    "df_interactions.reset_index(inplace=True)\n",
    "\n",
    "# Sparcity in %\n",
    "print(\"Sparcity:\", 100-((df_interactions.shape[0] / (matrix.shape[0]*matrix.shape[1]))*100))\n",
    "print(\"Unique Transactions:\", df_interactions.shape[0])\n",
    "print(\"Potential Transactions:\", matrix.shape[0]*matrix.shape[1])\n",
    "print(\"Overall Transactions:\", df_online_retail.shape[0])"
   ]
  },
  {
   "cell_type": "code",
   "execution_count": 299,
   "metadata": {},
   "outputs": [
    {
     "data": {
      "text/plain": [
       "0.02562126031207174"
      ]
     },
     "execution_count": 299,
     "metadata": {},
     "output_type": "execute_result"
    }
   ],
   "source": [
    "260152 / 10153755"
   ]
  },
  {
   "cell_type": "code",
   "execution_count": 442,
   "metadata": {},
   "outputs": [
    {
     "data": {
      "text/plain": [
       "137582"
      ]
     },
     "execution_count": 442,
     "metadata": {},
     "output_type": "execute_result"
    }
   ],
   "source": [
    "397656 - 260074"
   ]
  },
  {
   "attachments": {},
   "cell_type": "markdown",
   "metadata": {},
   "source": [
    "## Categorical Values"
   ]
  },
  {
   "attachments": {},
   "cell_type": "markdown",
   "metadata": {},
   "source": [
    "### InvoiceNo & Transaction Dates"
   ]
  },
  {
   "cell_type": "code",
   "execution_count": 152,
   "metadata": {},
   "outputs": [
    {
     "data": {
      "text/plain": [
       "22190"
      ]
     },
     "execution_count": 152,
     "metadata": {},
     "output_type": "execute_result"
    }
   ],
   "source": [
    "print('Number of unique orders', df_online_retail.InvoiceNo.nunique()) "
   ]
  },
  {
   "cell_type": "code",
   "execution_count": 193,
   "metadata": {},
   "outputs": [
    {
     "data": {
      "text/html": [
       "<div>\n",
       "<style scoped>\n",
       "    .dataframe tbody tr th:only-of-type {\n",
       "        vertical-align: middle;\n",
       "    }\n",
       "\n",
       "    .dataframe tbody tr th {\n",
       "        vertical-align: top;\n",
       "    }\n",
       "\n",
       "    .dataframe thead th {\n",
       "        text-align: right;\n",
       "    }\n",
       "</style>\n",
       "<table border=\"1\" class=\"dataframe\">\n",
       "  <thead>\n",
       "    <tr style=\"text-align: right;\">\n",
       "      <th></th>\n",
       "      <th>InvoiceNo</th>\n",
       "      <th>NoItems</th>\n",
       "      <th>Amount</th>\n",
       "    </tr>\n",
       "  </thead>\n",
       "  <tbody>\n",
       "    <tr>\n",
       "      <th>0</th>\n",
       "      <td>536365</td>\n",
       "      <td>7</td>\n",
       "      <td>1094.80</td>\n",
       "    </tr>\n",
       "    <tr>\n",
       "      <th>1</th>\n",
       "      <td>536366</td>\n",
       "      <td>2</td>\n",
       "      <td>44.40</td>\n",
       "    </tr>\n",
       "    <tr>\n",
       "      <th>2</th>\n",
       "      <td>536367</td>\n",
       "      <td>12</td>\n",
       "      <td>4833.92</td>\n",
       "    </tr>\n",
       "    <tr>\n",
       "      <th>3</th>\n",
       "      <td>536368</td>\n",
       "      <td>4</td>\n",
       "      <td>286.50</td>\n",
       "    </tr>\n",
       "    <tr>\n",
       "      <th>4</th>\n",
       "      <td>536369</td>\n",
       "      <td>1</td>\n",
       "      <td>17.85</td>\n",
       "    </tr>\n",
       "  </tbody>\n",
       "</table>\n",
       "</div>"
      ],
      "text/plain": [
       "  InvoiceNo  NoItems   Amount\n",
       "0    536365        7  1094.80\n",
       "1    536366        2    44.40\n",
       "2    536367       12  4833.92\n",
       "3    536368        4   286.50\n",
       "4    536369        1    17.85"
      ]
     },
     "execution_count": 193,
     "metadata": {},
     "output_type": "execute_result"
    }
   ],
   "source": [
    "# Create DataFrame\n",
    "# Group by InvoiceNo and calculate the number of appearances and the product of Quantity and UnitPrice\n",
    "df_orders = df_online_retail.groupby('InvoiceNo').agg({'InvoiceNo': 'count', 'Quantity': 'sum', 'UnitPrice': 'sum'})\n",
    "\n",
    "# Rename the columns\n",
    "df_orders.columns = ['NoItems', 'TotalQuantity', 'TotalUnitPrice']\n",
    "\n",
    "# Calculate the product of Quantity and UnitPrice\n",
    "df_orders['Amount'] = df_orders['TotalQuantity'] * df_orders['TotalUnitPrice']\n",
    "\n",
    "# Reset the index\n",
    "df_orders.reset_index(inplace=True)\n",
    "\n",
    "# Rename the dataframe to df_orders\n",
    "df_orders = df_orders[['InvoiceNo', 'NoItems', 'Amount']]\n",
    "\n",
    "# Print the new dataframe\n",
    "df_orders.head()"
   ]
  },
  {
   "cell_type": "code",
   "execution_count": 205,
   "metadata": {},
   "outputs": [
    {
     "data": {
      "text/html": [
       "<div>\n",
       "<style scoped>\n",
       "    .dataframe tbody tr th:only-of-type {\n",
       "        vertical-align: middle;\n",
       "    }\n",
       "\n",
       "    .dataframe tbody tr th {\n",
       "        vertical-align: top;\n",
       "    }\n",
       "\n",
       "    .dataframe thead th {\n",
       "        text-align: right;\n",
       "    }\n",
       "</style>\n",
       "<table border=\"1\" class=\"dataframe\">\n",
       "  <thead>\n",
       "    <tr style=\"text-align: right;\">\n",
       "      <th></th>\n",
       "      <th>NoItems</th>\n",
       "      <th>Amount</th>\n",
       "    </tr>\n",
       "  </thead>\n",
       "  <tbody>\n",
       "    <tr>\n",
       "      <th>count</th>\n",
       "      <td>22190.00</td>\n",
       "      <td>22190.00</td>\n",
       "    </tr>\n",
       "    <tr>\n",
       "      <th>mean</th>\n",
       "      <td>18.33</td>\n",
       "      <td>21361.53</td>\n",
       "    </tr>\n",
       "    <tr>\n",
       "      <th>std</th>\n",
       "      <td>23.89</td>\n",
       "      <td>147654.44</td>\n",
       "    </tr>\n",
       "    <tr>\n",
       "      <th>min</th>\n",
       "      <td>1.00</td>\n",
       "      <td>-267618.04</td>\n",
       "    </tr>\n",
       "    <tr>\n",
       "      <th>25%</th>\n",
       "      <td>3.00</td>\n",
       "      <td>305.28</td>\n",
       "    </tr>\n",
       "    <tr>\n",
       "      <th>50%</th>\n",
       "      <td>12.00</td>\n",
       "      <td>4316.18</td>\n",
       "    </tr>\n",
       "    <tr>\n",
       "      <th>75%</th>\n",
       "      <td>24.00</td>\n",
       "      <td>14115.57</td>\n",
       "    </tr>\n",
       "    <tr>\n",
       "      <th>max</th>\n",
       "      <td>542.00</td>\n",
       "      <td>8731517.22</td>\n",
       "    </tr>\n",
       "  </tbody>\n",
       "</table>\n",
       "</div>"
      ],
      "text/plain": [
       "       NoItems     Amount\n",
       "count 22190.00   22190.00\n",
       "mean     18.33   21361.53\n",
       "std      23.89  147654.44\n",
       "min       1.00 -267618.04\n",
       "25%       3.00     305.28\n",
       "50%      12.00    4316.18\n",
       "75%      24.00   14115.57\n",
       "max     542.00 8731517.22"
      ]
     },
     "execution_count": 205,
     "metadata": {},
     "output_type": "execute_result"
    }
   ],
   "source": [
    "# Disable scientific notation\n",
    "pd.set_option('display.float_format', '{:.2f}'.format)\n",
    "df_orders.describe()"
   ]
  },
  {
   "cell_type": "code",
   "execution_count": 217,
   "metadata": {},
   "outputs": [
    {
     "name": "stderr",
     "output_type": "stream",
     "text": [
      "/var/folders/bs/ht_t1wp94tl3wt5xhchcxq2m0000gn/T/ipykernel_83121/2448532773.py:35: UserWarning: Matplotlib is currently using module://matplotlib_inline.backend_inline, which is a non-GUI backend, so cannot show the figure.\n",
      "  fig.show()\n"
     ]
    },
    {
     "data": {
      "image/png": "[encoded data removed]",
      "text/plain": [
       "<Figure size 1200x400 with 2 Axes>"
      ]
     },
     "metadata": {},
     "output_type": "display_data"
    }
   ],
   "source": [
    "# Visualization of Order Volumes \n",
    "# Histogram & Boxplot\n",
    "\n",
    "# Define feature column\n",
    "feature = df_orders['NoItems']\n",
    "\n",
    "# Create a figure for 2 subplots (2 rows, 1 column)\n",
    "fig, ax = plt.subplots(1, 2, figsize = (12,4))\n",
    "\n",
    "\n",
    "# Plot the histogram   \n",
    "ax[0].hist(feature, bins=100)\n",
    "ax[0].set_ylabel('Frequency', fontname='Arial')\n",
    "ax[0].set_xlabel('Number of Unique Items per Order', fontname='Arial')\n",
    "ax[0].ticklabel_format(useOffset=False, style='plain')\n",
    "\n",
    "# Add lines for the mean, median, mode, min and max\n",
    "ax[0].axvline(feature.min(), color = 'yellow', linestyle='dashed', linewidth = 1)\n",
    "ax[0].axvline(feature.mean(), color='magenta', linestyle='dashed', linewidth=1)\n",
    "ax[0].axvline(feature.median(), color='cyan', linestyle='dashed', linewidth=1)\n",
    "ax[0].axvline(feature.max(), color = 'gray', linestyle='dashed', linewidth = 1)\n",
    "\n",
    "# Plot the boxplot   \n",
    "ax[1].boxplot(feature, vert=False)\n",
    "ax[1].set_xlabel('Number of Unique Items per Order', fontname='Arial')\n",
    "ax[1].axvline(feature.min(), color = 'yellow', linestyle='dashed', linewidth = 1)\n",
    "ax[1].axvline(feature.mean(), color='magenta', linestyle='dashed', linewidth=1)\n",
    "ax[1].axvline(feature.median(), color='cyan', linestyle='dashed', linewidth=1)\n",
    "ax[1].axvline(feature.max(), color = 'gray', linestyle='dashed', linewidth = 1)\n",
    "\n",
    "# Add a title to the Figure\n",
    "fig.suptitle('Distribution of Order Volumes',fontname='Arial')\n",
    "\n",
    "# Show the figure\n",
    "fig.show()"
   ]
  },
  {
   "attachments": {},
   "cell_type": "markdown",
   "metadata": {},
   "source": [
    "### Number of Items per User"
   ]
  },
  {
   "cell_type": "code",
   "execution_count": 225,
   "metadata": {},
   "outputs": [
    {
     "data": {
      "text/html": [
       "<div>\n",
       "<style scoped>\n",
       "    .dataframe tbody tr th:only-of-type {\n",
       "        vertical-align: middle;\n",
       "    }\n",
       "\n",
       "    .dataframe tbody tr th {\n",
       "        vertical-align: top;\n",
       "    }\n",
       "\n",
       "    .dataframe thead th {\n",
       "        text-align: right;\n",
       "    }\n",
       "</style>\n",
       "<table border=\"1\" class=\"dataframe\">\n",
       "  <thead>\n",
       "    <tr style=\"text-align: right;\">\n",
       "      <th></th>\n",
       "      <th>CustomerID</th>\n",
       "      <th>NumberItems</th>\n",
       "    </tr>\n",
       "  </thead>\n",
       "  <tbody>\n",
       "    <tr>\n",
       "      <th>0</th>\n",
       "      <td>0</td>\n",
       "      <td>2</td>\n",
       "    </tr>\n",
       "    <tr>\n",
       "      <th>1</th>\n",
       "      <td>1</td>\n",
       "      <td>182</td>\n",
       "    </tr>\n",
       "    <tr>\n",
       "      <th>2</th>\n",
       "      <td>10</td>\n",
       "      <td>131</td>\n",
       "    </tr>\n",
       "    <tr>\n",
       "      <th>3</th>\n",
       "      <td>100</td>\n",
       "      <td>531</td>\n",
       "    </tr>\n",
       "    <tr>\n",
       "      <th>4</th>\n",
       "      <td>1000</td>\n",
       "      <td>8</td>\n",
       "    </tr>\n",
       "  </tbody>\n",
       "</table>\n",
       "</div>"
      ],
      "text/plain": [
       "  CustomerID  NumberItems\n",
       "0          0            2\n",
       "1          1          182\n",
       "2         10          131\n",
       "3        100          531\n",
       "4       1000            8"
      ]
     },
     "execution_count": 225,
     "metadata": {},
     "output_type": "execute_result"
    }
   ],
   "source": [
    "# Create DataFrmmae\n",
    "# Group by InvoiceNo and calculate the number of appearances and the product of Quantity and UnitPrice\n",
    "df_users = df_online_retail.groupby('CustomerID').agg({'CustomerID': 'count'})\n",
    "\n",
    "# Rename the columns\n",
    "df_users.columns = ['NumberItems']\n",
    "\n",
    "# Reset the index\n",
    "df_users.reset_index(inplace=True)\n",
    "\n",
    "df_users.head()\n"
   ]
  },
  {
   "cell_type": "code",
   "execution_count": 231,
   "metadata": {},
   "outputs": [
    {
     "data": {
      "text/plain": [
       "3781"
      ]
     },
     "execution_count": 231,
     "metadata": {},
     "output_type": "execute_result"
    }
   ],
   "source": [
    "len(df_users[df_users['NumberItems']>=10])"
   ]
  },
  {
   "cell_type": "code",
   "execution_count": 232,
   "metadata": {},
   "outputs": [
    {
     "data": {
      "text/plain": [
       "4372"
      ]
     },
     "execution_count": 232,
     "metadata": {},
     "output_type": "execute_result"
    }
   ],
   "source": [
    "len(df_users)"
   ]
  },
  {
   "cell_type": "code",
   "execution_count": 233,
   "metadata": {},
   "outputs": [
    {
     "data": {
      "image/png": "[encoded data removed]",
      "text/plain": [
       "<Figure size 640x480 with 1 Axes>"
      ]
     },
     "metadata": {},
     "output_type": "display_data"
    }
   ],
   "source": [
    "plt.hist(df_users.NumberItems, bins=8000)\n",
    "plt.show()"
   ]
  },
  {
   "attachments": {},
   "cell_type": "markdown",
   "metadata": {},
   "source": [
    "### Number of Orders per Item"
   ]
  },
  {
   "cell_type": "code",
   "execution_count": 460,
   "metadata": {},
   "outputs": [
    {
     "data": {
      "text/html": [
       "<div>\n",
       "<style scoped>\n",
       "    .dataframe tbody tr th:only-of-type {\n",
       "        vertical-align: middle;\n",
       "    }\n",
       "\n",
       "    .dataframe tbody tr th {\n",
       "        vertical-align: top;\n",
       "    }\n",
       "\n",
       "    .dataframe thead th {\n",
       "        text-align: right;\n",
       "    }\n",
       "</style>\n",
       "<table border=\"1\" class=\"dataframe\">\n",
       "  <thead>\n",
       "    <tr style=\"text-align: right;\">\n",
       "      <th></th>\n",
       "      <th>StockCode</th>\n",
       "      <th>NumberOrders</th>\n",
       "    </tr>\n",
       "  </thead>\n",
       "  <tbody>\n",
       "    <tr>\n",
       "      <th>0</th>\n",
       "      <td>0</td>\n",
       "      <td>49</td>\n",
       "    </tr>\n",
       "    <tr>\n",
       "      <th>1</th>\n",
       "      <td>1</td>\n",
       "      <td>21</td>\n",
       "    </tr>\n",
       "    <tr>\n",
       "      <th>2</th>\n",
       "      <td>100</td>\n",
       "      <td>47</td>\n",
       "    </tr>\n",
       "    <tr>\n",
       "      <th>3</th>\n",
       "      <td>1000</td>\n",
       "      <td>153</td>\n",
       "    </tr>\n",
       "    <tr>\n",
       "      <th>4</th>\n",
       "      <td>1001</td>\n",
       "      <td>156</td>\n",
       "    </tr>\n",
       "  </tbody>\n",
       "</table>\n",
       "</div>"
      ],
      "text/plain": [
       "  StockCode  NumberOrders\n",
       "0         0            49\n",
       "1         1            21\n",
       "2       100            47\n",
       "3      1000           153\n",
       "4      1001           156"
      ]
     },
     "execution_count": 460,
     "metadata": {},
     "output_type": "execute_result"
    }
   ],
   "source": [
    "# Create DataFrmmae\n",
    "# Group by InvoiceNo and calculate the number of appearances and the product of Quantity and UnitPrice\n",
    "df_items = df_online_retail.groupby('StockCode').agg({'StockCode': 'count'})\n",
    "\n",
    "# Rename the columns\n",
    "df_items.columns = ['NumberOrders']\n",
    "\n",
    "# Reset the index\n",
    "df_items.reset_index(inplace=True)\n",
    "\n",
    "df_items.head()\n"
   ]
  },
  {
   "cell_type": "code",
   "execution_count": 461,
   "metadata": {},
   "outputs": [
    {
     "data": {
      "text/html": [
       "<div>\n",
       "<style scoped>\n",
       "    .dataframe tbody tr th:only-of-type {\n",
       "        vertical-align: middle;\n",
       "    }\n",
       "\n",
       "    .dataframe tbody tr th {\n",
       "        vertical-align: top;\n",
       "    }\n",
       "\n",
       "    .dataframe thead th {\n",
       "        text-align: right;\n",
       "    }\n",
       "</style>\n",
       "<table border=\"1\" class=\"dataframe\">\n",
       "  <thead>\n",
       "    <tr style=\"text-align: right;\">\n",
       "      <th></th>\n",
       "      <th>NumberOrders</th>\n",
       "    </tr>\n",
       "  </thead>\n",
       "  <tbody>\n",
       "    <tr>\n",
       "      <th>count</th>\n",
       "      <td>2743.00</td>\n",
       "    </tr>\n",
       "    <tr>\n",
       "      <th>mean</th>\n",
       "      <td>144.97</td>\n",
       "    </tr>\n",
       "    <tr>\n",
       "      <th>std</th>\n",
       "      <td>178.32</td>\n",
       "    </tr>\n",
       "    <tr>\n",
       "      <th>min</th>\n",
       "      <td>11.00</td>\n",
       "    </tr>\n",
       "    <tr>\n",
       "      <th>25%</th>\n",
       "      <td>38.00</td>\n",
       "    </tr>\n",
       "    <tr>\n",
       "      <th>50%</th>\n",
       "      <td>85.00</td>\n",
       "    </tr>\n",
       "    <tr>\n",
       "      <th>75%</th>\n",
       "      <td>179.00</td>\n",
       "    </tr>\n",
       "    <tr>\n",
       "      <th>max</th>\n",
       "      <td>2032.00</td>\n",
       "    </tr>\n",
       "  </tbody>\n",
       "</table>\n",
       "</div>"
      ],
      "text/plain": [
       "       NumberOrders\n",
       "count       2743.00\n",
       "mean         144.97\n",
       "std          178.32\n",
       "min           11.00\n",
       "25%           38.00\n",
       "50%           85.00\n",
       "75%          179.00\n",
       "max         2032.00"
      ]
     },
     "execution_count": 461,
     "metadata": {},
     "output_type": "execute_result"
    }
   ],
   "source": [
    "df_items.describe()"
   ]
  },
  {
   "cell_type": "code",
   "execution_count": 468,
   "metadata": {},
   "outputs": [
    {
     "name": "stderr",
     "output_type": "stream",
     "text": [
      "/var/folders/bs/ht_t1wp94tl3wt5xhchcxq2m0000gn/T/ipykernel_83121/524173217.py:35: UserWarning: Matplotlib is currently using module://matplotlib_inline.backend_inline, which is a non-GUI backend, so cannot show the figure.\n",
      "  fig.show()\n"
     ]
    },
    {
     "data": {
      "image/png": "[encoded data removed]",
      "text/plain": [
       "<Figure size 1200x400 with 2 Axes>"
      ]
     },
     "metadata": {},
     "output_type": "display_data"
    }
   ],
   "source": [
    "# Visualization of Item Purchase Frequency \n",
    "# Histogram & Boxplot\n",
    "\n",
    "# Define feature column\n",
    "feature = df_items['NumberOrders']\n",
    "\n",
    "# Create a figure for 2 subplots (2 rows, 1 column)\n",
    "fig, ax = plt.subplots(1, 2, figsize = (12,4))\n",
    "\n",
    "\n",
    "# Plot the histogram   \n",
    "ax[0].hist(feature, bins=100)\n",
    "ax[0].set_ylabel('Frequency', fontname='Arial')\n",
    "ax[0].set_xlabel('Number of Orders per Item', fontname='Arial')\n",
    "ax[0].ticklabel_format(useOffset=False, style='plain')\n",
    "\n",
    "# Add lines for the mean, median, mode, min and max\n",
    "ax[0].axvline(feature.min(), color = 'yellow', linestyle='dashed', linewidth = 1)\n",
    "ax[0].axvline(feature.quantile(0.95), color='magenta', linestyle='dashed', linewidth=1)\n",
    "ax[0].axvline(feature.median(), color='cyan', linestyle='dashed', linewidth=1)\n",
    "ax[0].axvline(feature.max(), color = 'gray', linestyle='dashed', linewidth = 1)\n",
    "\n",
    "# Plot the boxplot   \n",
    "ax[1].boxplot(feature, vert=False)\n",
    "ax[1].set_xlabel('Number of Orders per Item', fontname='Arial')\n",
    "ax[1].axvline(feature.min(), color = 'yellow', linestyle='dashed', linewidth = 1)\n",
    "ax[1].axvline(feature.quantile(0.95), color='magenta', linestyle='dashed', linewidth=1)\n",
    "ax[1].axvline(feature.median(), color='cyan', linestyle='dashed', linewidth=1)\n",
    "ax[1].axvline(feature.max(), color = 'gray', linestyle='dashed', linewidth = 1)\n",
    "\n",
    "# Add a title to the Figure\n",
    "#fig.suptitle('Popular Items',fontname='Arial')\n",
    "\n",
    "# Show the figure\n",
    "fig.show()"
   ]
  },
  {
   "cell_type": "code",
   "execution_count": 466,
   "metadata": {},
   "outputs": [
    {
     "data": {
      "text/plain": [
       "483.9000000000001"
      ]
     },
     "execution_count": 466,
     "metadata": {},
     "output_type": "execute_result"
    }
   ],
   "source": [
    "# Threshold for Popular items at 90th quantiale \n",
    "feature.quantile(0.95)"
   ]
  },
  {
   "cell_type": "code",
   "execution_count": 467,
   "metadata": {},
   "outputs": [
    {
     "data": {
      "text/plain": [
       "138"
      ]
     },
     "execution_count": 467,
     "metadata": {},
     "output_type": "execute_result"
    }
   ],
   "source": [
    "# Number of items above Popularity Threshold\n",
    "len(df_items[df_items['NumberOrders']>=483.9000000000001])"
   ]
  },
  {
   "cell_type": "code",
   "execution_count": 469,
   "metadata": {},
   "outputs": [
    {
     "data": {
      "text/plain": [
       "3216"
      ]
     },
     "execution_count": 469,
     "metadata": {},
     "output_type": "execute_result"
    }
   ],
   "source": [
    "3699 - 483"
   ]
  },
  {
   "cell_type": "code",
   "execution_count": 470,
   "metadata": {},
   "outputs": [
    {
     "data": {
      "text/plain": [
       "0.05030987969376595"
      ]
     },
     "execution_count": 470,
     "metadata": {},
     "output_type": "execute_result"
    }
   ],
   "source": [
    "138 / 2743"
   ]
  },
  {
   "attachments": {},
   "cell_type": "markdown",
   "metadata": {},
   "source": [
    "### Re-bought Items"
   ]
  },
  {
   "cell_type": "code",
   "execution_count": 443,
   "metadata": {},
   "outputs": [
    {
     "data": {
      "text/html": [
       "<div>\n",
       "<style scoped>\n",
       "    .dataframe tbody tr th:only-of-type {\n",
       "        vertical-align: middle;\n",
       "    }\n",
       "\n",
       "    .dataframe tbody tr th {\n",
       "        vertical-align: top;\n",
       "    }\n",
       "\n",
       "    .dataframe thead th {\n",
       "        text-align: right;\n",
       "    }\n",
       "</style>\n",
       "<table border=\"1\" class=\"dataframe\">\n",
       "  <thead>\n",
       "    <tr style=\"text-align: right;\">\n",
       "      <th></th>\n",
       "      <th>StockCode</th>\n",
       "      <th>CustomerID</th>\n",
       "      <th>NumberOrders</th>\n",
       "    </tr>\n",
       "  </thead>\n",
       "  <tbody>\n",
       "    <tr>\n",
       "      <th>0</th>\n",
       "      <td>0</td>\n",
       "      <td>1135</td>\n",
       "      <td>1</td>\n",
       "    </tr>\n",
       "    <tr>\n",
       "      <th>1</th>\n",
       "      <td>0</td>\n",
       "      <td>132</td>\n",
       "      <td>1</td>\n",
       "    </tr>\n",
       "    <tr>\n",
       "      <th>2</th>\n",
       "      <td>0</td>\n",
       "      <td>1420</td>\n",
       "      <td>1</td>\n",
       "    </tr>\n",
       "    <tr>\n",
       "      <th>3</th>\n",
       "      <td>0</td>\n",
       "      <td>1614</td>\n",
       "      <td>1</td>\n",
       "    </tr>\n",
       "    <tr>\n",
       "      <th>4</th>\n",
       "      <td>0</td>\n",
       "      <td>1754</td>\n",
       "      <td>4</td>\n",
       "    </tr>\n",
       "  </tbody>\n",
       "</table>\n",
       "</div>"
      ],
      "text/plain": [
       "  StockCode CustomerID  NumberOrders\n",
       "0         0       1135             1\n",
       "1         0        132             1\n",
       "2         0       1420             1\n",
       "3         0       1614             1\n",
       "4         0       1754             4"
      ]
     },
     "execution_count": 443,
     "metadata": {},
     "output_type": "execute_result"
    }
   ],
   "source": [
    "# Create DataFrmmae\n",
    "# Group by InvoiceNo and calculate the number of appearances and the product of Quantity and UnitPrice\n",
    "df_rebought = df_online_retail.groupby(['StockCode', 'CustomerID']).agg({'CustomerID': 'count'})\n",
    "\n",
    "# Rename the columns\n",
    "df_rebought.columns = ['NumberOrders']\n",
    "\n",
    "# Reset the index\n",
    "df_rebought.reset_index(inplace=True)\n",
    "\n",
    "df_rebought.head()"
   ]
  },
  {
   "cell_type": "code",
   "execution_count": 444,
   "metadata": {},
   "outputs": [
    {
     "data": {
      "text/html": [
       "<div>\n",
       "<style scoped>\n",
       "    .dataframe tbody tr th:only-of-type {\n",
       "        vertical-align: middle;\n",
       "    }\n",
       "\n",
       "    .dataframe tbody tr th {\n",
       "        vertical-align: top;\n",
       "    }\n",
       "\n",
       "    .dataframe thead th {\n",
       "        text-align: right;\n",
       "    }\n",
       "</style>\n",
       "<table border=\"1\" class=\"dataframe\">\n",
       "  <thead>\n",
       "    <tr style=\"text-align: right;\">\n",
       "      <th></th>\n",
       "      <th>NumberOrders</th>\n",
       "    </tr>\n",
       "  </thead>\n",
       "  <tbody>\n",
       "    <tr>\n",
       "      <th>count</th>\n",
       "      <td>260074.00</td>\n",
       "    </tr>\n",
       "    <tr>\n",
       "      <th>mean</th>\n",
       "      <td>1.53</td>\n",
       "    </tr>\n",
       "    <tr>\n",
       "      <th>std</th>\n",
       "      <td>1.45</td>\n",
       "    </tr>\n",
       "    <tr>\n",
       "      <th>min</th>\n",
       "      <td>1.00</td>\n",
       "    </tr>\n",
       "    <tr>\n",
       "      <th>25%</th>\n",
       "      <td>1.00</td>\n",
       "    </tr>\n",
       "    <tr>\n",
       "      <th>50%</th>\n",
       "      <td>1.00</td>\n",
       "    </tr>\n",
       "    <tr>\n",
       "      <th>75%</th>\n",
       "      <td>2.00</td>\n",
       "    </tr>\n",
       "    <tr>\n",
       "      <th>max</th>\n",
       "      <td>85.00</td>\n",
       "    </tr>\n",
       "  </tbody>\n",
       "</table>\n",
       "</div>"
      ],
      "text/plain": [
       "       NumberOrders\n",
       "count     260074.00\n",
       "mean           1.53\n",
       "std            1.45\n",
       "min            1.00\n",
       "25%            1.00\n",
       "50%            1.00\n",
       "75%            2.00\n",
       "max           85.00"
      ]
     },
     "execution_count": 444,
     "metadata": {},
     "output_type": "execute_result"
    }
   ],
   "source": [
    "# Descriptive Statistics\n",
    "df_rebought.describe()"
   ]
  },
  {
   "cell_type": "code",
   "execution_count": 319,
   "metadata": {},
   "outputs": [
    {
     "name": "stderr",
     "output_type": "stream",
     "text": [
      "/var/folders/bs/ht_t1wp94tl3wt5xhchcxq2m0000gn/T/ipykernel_83121/744112510.py:36: UserWarning: Matplotlib is currently using module://matplotlib_inline.backend_inline, which is a non-GUI backend, so cannot show the figure.\n",
      "  fig.show()\n"
     ]
    },
    {
     "data": {
      "image/png": "[encoded data removed]",
      "text/plain": [
       "<Figure size 1200x400 with 2 Axes>"
      ]
     },
     "metadata": {},
     "output_type": "display_data"
    }
   ],
   "source": [
    "# Visualization of Order Volumes \n",
    "# Histogram & Boxplot\n",
    "\n",
    "# Define feature column\n",
    "feature = df_rebought[df_rebought['NumberOrders']>1]\n",
    "feature = feature['NumberOrders']\n",
    "\n",
    "# Create a figure for 2 subplots (2 rows, 1 column)\n",
    "fig, ax = plt.subplots(1, 2, figsize = (12,4))\n",
    "\n",
    "\n",
    "# Plot the histogram   \n",
    "ax[0].hist(feature, bins=80)\n",
    "ax[0].set_ylabel('Frequency', fontname='Arial')\n",
    "ax[0].set_xlabel('User-Item Interaction Frequency', fontname='Arial')\n",
    "ax[0].ticklabel_format(useOffset=False, style='plain')\n",
    "\n",
    "# Add lines for the mean, median, mode, min and max\n",
    "ax[0].axvline(feature.min(), color = 'yellow', linestyle='dashed', linewidth = 1)\n",
    "ax[0].axvline(feature.mean(), color='magenta', linestyle='dashed', linewidth=1)\n",
    "ax[0].axvline(feature.median(), color='cyan', linestyle='dashed', linewidth=1)\n",
    "ax[0].axvline(feature.max(), color = 'gray', linestyle='dashed', linewidth = 1)\n",
    "\n",
    "# Plot the boxplot   \n",
    "ax[1].boxplot(feature, vert=False)\n",
    "ax[1].set_xlabel('User-Item Interaction Frequency', fontname='Arial')\n",
    "ax[1].axvline(feature.min(), color = 'yellow', linestyle='dashed', linewidth = 1)\n",
    "ax[1].axvline(feature.mean(), color='magenta', linestyle='dashed', linewidth=1)\n",
    "ax[1].axvline(feature.median(), color='cyan', linestyle='dashed', linewidth=1)\n",
    "ax[1].axvline(feature.max(), color = 'gray', linestyle='dashed', linewidth = 1)\n",
    "\n",
    "# Add a title to the Figure\n",
    "#fig.suptitle('Distribution of Order Volumes',fontname='Arial')\n",
    "\n",
    "# Show the figure\n",
    "fig.show()"
   ]
  },
  {
   "cell_type": "code",
   "execution_count": 445,
   "metadata": {},
   "outputs": [
    {
     "data": {
      "text/plain": [
       "67723"
      ]
     },
     "execution_count": 445,
     "metadata": {},
     "output_type": "execute_result"
    }
   ],
   "source": [
    "len(df_rebought[df_rebought['NumberOrders']>1])"
   ]
  },
  {
   "cell_type": "code",
   "execution_count": 316,
   "metadata": {},
   "outputs": [
    {
     "data": {
      "text/plain": [
       "260152"
      ]
     },
     "execution_count": 316,
     "metadata": {},
     "output_type": "execute_result"
    }
   ],
   "source": [
    "len(df_rebought)"
   ]
  },
  {
   "cell_type": "code",
   "execution_count": 317,
   "metadata": {},
   "outputs": [
    {
     "data": {
      "text/plain": [
       "260152"
      ]
     },
     "execution_count": 317,
     "metadata": {},
     "output_type": "execute_result"
    }
   ],
   "source": [
    "df_rebought.NumberOrders.sum() - 137651"
   ]
  },
  {
   "cell_type": "code",
   "execution_count": 446,
   "metadata": {},
   "outputs": [
    {
     "data": {
      "image/png": "[encoded data removed]",
      "text/plain": [
       "<Figure size 800x400 with 1 Axes>"
      ]
     },
     "metadata": {},
     "output_type": "display_data"
    }
   ],
   "source": [
    "# Define Figure Size\n",
    "plt.rcParams[\"figure.figsize\"] = (8,4)\n",
    "\n",
    "# Define the category ranges\n",
    "bins = [0, 1,2, 5, 10, 20, np.inf]\n",
    "\n",
    "# Assign labels for each category\n",
    "labels = ['1', '2','3-5', '6-10', '11-20', 'Above 20']\n",
    "\n",
    "# Use the pandas 'cut' function to assign categories to each value in the 'numerical_feature' column\n",
    "df_rebought['category'] = pd.cut(df_rebought['NumberOrders'], bins=bins, labels=labels)\n",
    "\n",
    "# Count the number of occurrences in each category\n",
    "counts = df_rebought['category'].value_counts().sort_index()\n",
    "\n",
    "# Prepare the data for the bar plot\n",
    "categories = np.arange(len(labels))\n",
    "\n",
    "# Create the bar plot\n",
    "bars = plt.bar(categories, counts)\n",
    "\n",
    "# Set the y-axis labels\n",
    "plt.xticks(categories, labels=labels)\n",
    "\n",
    "# Add counts on top of each bar\n",
    "for i, bar in enumerate(bars):\n",
    "    plt.text(\n",
    "        bar.get_x() + bar.get_width() / 2,\n",
    "        bar.get_height(),\n",
    "        counts[i],\n",
    "        ha='center',\n",
    "        va='bottom',\n",
    "    )\n",
    "    \n",
    "#plt.title('How many times did users buy the same item?',fontname='Arial')\n",
    "plt.xlabel('Frequency Categories',fontname='Arial')\n",
    "plt.ylabel('Count',fontname='Arial')\n",
    "\n",
    "# Display the plot\n",
    "plt.show()"
   ]
  },
  {
   "attachments": {},
   "cell_type": "markdown",
   "metadata": {},
   "source": [
    "### Cancelled Orders"
   ]
  },
  {
   "cell_type": "code",
   "execution_count": 503,
   "metadata": {},
   "outputs": [
    {
     "data": {
      "text/html": [
       "<div>\n",
       "<style scoped>\n",
       "    .dataframe tbody tr th:only-of-type {\n",
       "        vertical-align: middle;\n",
       "    }\n",
       "\n",
       "    .dataframe tbody tr th {\n",
       "        vertical-align: top;\n",
       "    }\n",
       "\n",
       "    .dataframe thead th {\n",
       "        text-align: right;\n",
       "    }\n",
       "</style>\n",
       "<table border=\"1\" class=\"dataframe\">\n",
       "  <thead>\n",
       "    <tr style=\"text-align: right;\">\n",
       "      <th></th>\n",
       "      <th>InvoiceNo</th>\n",
       "      <th>StockCode</th>\n",
       "      <th>Description</th>\n",
       "      <th>Quantity</th>\n",
       "      <th>InvoiceDate</th>\n",
       "      <th>UnitPrice</th>\n",
       "      <th>CustomerID</th>\n",
       "      <th>Country</th>\n",
       "    </tr>\n",
       "  </thead>\n",
       "  <tbody>\n",
       "    <tr>\n",
       "      <th>268334</th>\n",
       "      <td>C560409</td>\n",
       "      <td>769</td>\n",
       "      <td>LARGE RED RETROSPOT WINDMILL</td>\n",
       "      <td>-6</td>\n",
       "      <td>2011-07-18 14:24:00</td>\n",
       "      <td>2.10</td>\n",
       "      <td>3226</td>\n",
       "      <td>United Kingdom</td>\n",
       "    </tr>\n",
       "    <tr>\n",
       "      <th>52774</th>\n",
       "      <td>C540820</td>\n",
       "      <td>1513</td>\n",
       "      <td>LUNCH BOX I LOVE LONDON</td>\n",
       "      <td>-6</td>\n",
       "      <td>2011-01-11 13:09:00</td>\n",
       "      <td>1.95</td>\n",
       "      <td>2345</td>\n",
       "      <td>United Kingdom</td>\n",
       "    </tr>\n",
       "    <tr>\n",
       "      <th>156825</th>\n",
       "      <td>C550176</td>\n",
       "      <td>1990</td>\n",
       "      <td>KNICKERBOCKERGLORY MAGNET ASSORTED</td>\n",
       "      <td>-6</td>\n",
       "      <td>2011-04-14 17:13:00</td>\n",
       "      <td>0.83</td>\n",
       "      <td>1680</td>\n",
       "      <td>United Kingdom</td>\n",
       "    </tr>\n",
       "    <tr>\n",
       "      <th>383042</th>\n",
       "      <td>C569989</td>\n",
       "      <td>1520</td>\n",
       "      <td>RECIPE BOX PANTRY YELLOW DESIGN</td>\n",
       "      <td>-23</td>\n",
       "      <td>2011-10-06 20:08:00</td>\n",
       "      <td>2.55</td>\n",
       "      <td>3325</td>\n",
       "      <td>United Kingdom</td>\n",
       "    </tr>\n",
       "    <tr>\n",
       "      <th>349847</th>\n",
       "      <td>C567534</td>\n",
       "      <td>170</td>\n",
       "      <td>LUNCH BAG RED RETROSPOT</td>\n",
       "      <td>-2</td>\n",
       "      <td>2011-09-21 09:49:00</td>\n",
       "      <td>1.65</td>\n",
       "      <td>2950</td>\n",
       "      <td>United Kingdom</td>\n",
       "    </tr>\n",
       "    <tr>\n",
       "      <th>98141</th>\n",
       "      <td>C544669</td>\n",
       "      <td>1121</td>\n",
       "      <td>JIGSAW TREE WITH BIRDHOUSE</td>\n",
       "      <td>-1</td>\n",
       "      <td>2011-02-22 15:22:00</td>\n",
       "      <td>1.45</td>\n",
       "      <td>4197</td>\n",
       "      <td>United Kingdom</td>\n",
       "    </tr>\n",
       "    <tr>\n",
       "      <th>84713</th>\n",
       "      <td>C543431</td>\n",
       "      <td>1105</td>\n",
       "      <td>FOUR HOOK  WHITE LOVEBIRDS</td>\n",
       "      <td>-1</td>\n",
       "      <td>2011-02-08 11:37:00</td>\n",
       "      <td>2.10</td>\n",
       "      <td>103</td>\n",
       "      <td>Germany</td>\n",
       "    </tr>\n",
       "    <tr>\n",
       "      <th>90368</th>\n",
       "      <td>C544034</td>\n",
       "      <td>764</td>\n",
       "      <td>STAR PORTABLE TABLE LIGHT</td>\n",
       "      <td>-5</td>\n",
       "      <td>2011-02-15 11:28:00</td>\n",
       "      <td>2.95</td>\n",
       "      <td>1744</td>\n",
       "      <td>United Kingdom</td>\n",
       "    </tr>\n",
       "    <tr>\n",
       "      <th>88092</th>\n",
       "      <td>C543764</td>\n",
       "      <td>2750</td>\n",
       "      <td>RETRO PLASTIC ELEPHANT TRAY</td>\n",
       "      <td>-12</td>\n",
       "      <td>2011-02-11 15:16:00</td>\n",
       "      <td>0.85</td>\n",
       "      <td>3462</td>\n",
       "      <td>United Kingdom</td>\n",
       "    </tr>\n",
       "    <tr>\n",
       "      <th>319987</th>\n",
       "      <td>C564955</td>\n",
       "      <td>829</td>\n",
       "      <td>RED RETROSPOT MUG</td>\n",
       "      <td>-6</td>\n",
       "      <td>2011-08-31 13:39:00</td>\n",
       "      <td>2.95</td>\n",
       "      <td>2548</td>\n",
       "      <td>United Kingdom</td>\n",
       "    </tr>\n",
       "  </tbody>\n",
       "</table>\n",
       "</div>"
      ],
      "text/plain": [
       "       InvoiceNo StockCode                          Description  Quantity  \\\n",
       "268334   C560409       769         LARGE RED RETROSPOT WINDMILL        -6   \n",
       "52774    C540820      1513              LUNCH BOX I LOVE LONDON        -6   \n",
       "156825   C550176      1990  KNICKERBOCKERGLORY MAGNET ASSORTED         -6   \n",
       "383042   C569989      1520      RECIPE BOX PANTRY YELLOW DESIGN       -23   \n",
       "349847   C567534       170              LUNCH BAG RED RETROSPOT        -2   \n",
       "98141    C544669      1121           JIGSAW TREE WITH BIRDHOUSE        -1   \n",
       "84713    C543431      1105           FOUR HOOK  WHITE LOVEBIRDS        -1   \n",
       "90368    C544034       764           STAR PORTABLE TABLE LIGHT         -5   \n",
       "88092    C543764      2750          RETRO PLASTIC ELEPHANT TRAY       -12   \n",
       "319987   C564955       829                    RED RETROSPOT MUG        -6   \n",
       "\n",
       "               InvoiceDate  UnitPrice CustomerID         Country  \n",
       "268334 2011-07-18 14:24:00       2.10       3226  United Kingdom  \n",
       "52774  2011-01-11 13:09:00       1.95       2345  United Kingdom  \n",
       "156825 2011-04-14 17:13:00       0.83       1680  United Kingdom  \n",
       "383042 2011-10-06 20:08:00       2.55       3325  United Kingdom  \n",
       "349847 2011-09-21 09:49:00       1.65       2950  United Kingdom  \n",
       "98141  2011-02-22 15:22:00       1.45       4197  United Kingdom  \n",
       "84713  2011-02-08 11:37:00       2.10        103         Germany  \n",
       "90368  2011-02-15 11:28:00       2.95       1744  United Kingdom  \n",
       "88092  2011-02-11 15:16:00       0.85       3462  United Kingdom  \n",
       "319987 2011-08-31 13:39:00       2.95       2548  United Kingdom  "
      ]
     },
     "execution_count": 503,
     "metadata": {},
     "output_type": "execute_result"
    }
   ],
   "source": [
    "# Rows that start with a C in InvoiceNo -- All Cancellations but \n",
    "df_cancellations = df_online_retail[df_online_retail.InvoiceNo.str[0]=='C']\n",
    "df_cancellations.sample(10)"
   ]
  },
  {
   "cell_type": "code",
   "execution_count": 509,
   "metadata": {},
   "outputs": [
    {
     "data": {
      "text/html": [
       "<div>\n",
       "<style scoped>\n",
       "    .dataframe tbody tr th:only-of-type {\n",
       "        vertical-align: middle;\n",
       "    }\n",
       "\n",
       "    .dataframe tbody tr th {\n",
       "        vertical-align: top;\n",
       "    }\n",
       "\n",
       "    .dataframe thead th {\n",
       "        text-align: right;\n",
       "    }\n",
       "</style>\n",
       "<table border=\"1\" class=\"dataframe\">\n",
       "  <thead>\n",
       "    <tr style=\"text-align: right;\">\n",
       "      <th></th>\n",
       "      <th>InvoiceNo</th>\n",
       "      <th>StockCode</th>\n",
       "      <th>Description</th>\n",
       "      <th>Quantity</th>\n",
       "      <th>InvoiceDate</th>\n",
       "      <th>UnitPrice</th>\n",
       "      <th>CustomerID</th>\n",
       "      <th>Country</th>\n",
       "    </tr>\n",
       "  </thead>\n",
       "  <tbody>\n",
       "    <tr>\n",
       "      <th>19510</th>\n",
       "      <td>537867</td>\n",
       "      <td>1621</td>\n",
       "      <td>FAMILY PHOTO FRAME CORNICE</td>\n",
       "      <td>2</td>\n",
       "      <td>2010-12-08 16:48:00</td>\n",
       "      <td>9.95</td>\n",
       "      <td>3226</td>\n",
       "      <td>United Kingdom</td>\n",
       "    </tr>\n",
       "    <tr>\n",
       "      <th>19511</th>\n",
       "      <td>537867</td>\n",
       "      <td>1634</td>\n",
       "      <td>GUMBALL MAGAZINE RACK</td>\n",
       "      <td>2</td>\n",
       "      <td>2010-12-08 16:48:00</td>\n",
       "      <td>7.65</td>\n",
       "      <td>3226</td>\n",
       "      <td>United Kingdom</td>\n",
       "    </tr>\n",
       "    <tr>\n",
       "      <th>19512</th>\n",
       "      <td>537867</td>\n",
       "      <td>1638</td>\n",
       "      <td>SQUARECUSHION COVER PINK UNION FLAG</td>\n",
       "      <td>2</td>\n",
       "      <td>2010-12-08 16:48:00</td>\n",
       "      <td>6.75</td>\n",
       "      <td>3226</td>\n",
       "      <td>United Kingdom</td>\n",
       "    </tr>\n",
       "    <tr>\n",
       "      <th>19513</th>\n",
       "      <td>537867</td>\n",
       "      <td>1686</td>\n",
       "      <td>HOT WATER BOTTLE BABUSHKA</td>\n",
       "      <td>8</td>\n",
       "      <td>2010-12-08 16:48:00</td>\n",
       "      <td>4.65</td>\n",
       "      <td>3226</td>\n",
       "      <td>United Kingdom</td>\n",
       "    </tr>\n",
       "    <tr>\n",
       "      <th>19514</th>\n",
       "      <td>537867</td>\n",
       "      <td>1014</td>\n",
       "      <td>SCOTTIE DOG HOT WATER BOTTLE</td>\n",
       "      <td>6</td>\n",
       "      <td>2010-12-08 16:48:00</td>\n",
       "      <td>4.95</td>\n",
       "      <td>3226</td>\n",
       "      <td>United Kingdom</td>\n",
       "    </tr>\n",
       "    <tr>\n",
       "      <th>...</th>\n",
       "      <td>...</td>\n",
       "      <td>...</td>\n",
       "      <td>...</td>\n",
       "      <td>...</td>\n",
       "      <td>...</td>\n",
       "      <td>...</td>\n",
       "      <td>...</td>\n",
       "      <td>...</td>\n",
       "    </tr>\n",
       "    <tr>\n",
       "      <th>472518</th>\n",
       "      <td>576688</td>\n",
       "      <td>2347</td>\n",
       "      <td>I LOVE LONDON WALL ART</td>\n",
       "      <td>6</td>\n",
       "      <td>2011-11-16 12:16:00</td>\n",
       "      <td>4.95</td>\n",
       "      <td>3226</td>\n",
       "      <td>United Kingdom</td>\n",
       "    </tr>\n",
       "    <tr>\n",
       "      <th>472519</th>\n",
       "      <td>576688</td>\n",
       "      <td>1305</td>\n",
       "      <td>12 COLOURED PARTY BALLOONS</td>\n",
       "      <td>20</td>\n",
       "      <td>2011-11-16 12:16:00</td>\n",
       "      <td>0.65</td>\n",
       "      <td>3226</td>\n",
       "      <td>United Kingdom</td>\n",
       "    </tr>\n",
       "    <tr>\n",
       "      <th>516381</th>\n",
       "      <td>C579887</td>\n",
       "      <td>3107</td>\n",
       "      <td>ANTIQUE SILVER T-LIGHT GLASS</td>\n",
       "      <td>-1</td>\n",
       "      <td>2011-11-30 17:42:00</td>\n",
       "      <td>1.25</td>\n",
       "      <td>3226</td>\n",
       "      <td>United Kingdom</td>\n",
       "    </tr>\n",
       "    <tr>\n",
       "      <th>516382</th>\n",
       "      <td>C579887</td>\n",
       "      <td>3198</td>\n",
       "      <td>15CM CHRISTMAS GLASS BALL 20 LIGHTS</td>\n",
       "      <td>-1</td>\n",
       "      <td>2011-11-30 17:42:00</td>\n",
       "      <td>7.95</td>\n",
       "      <td>3226</td>\n",
       "      <td>United Kingdom</td>\n",
       "    </tr>\n",
       "    <tr>\n",
       "      <th>516383</th>\n",
       "      <td>C579887</td>\n",
       "      <td>2300</td>\n",
       "      <td>T-LIGHT HOLDER HANGING LOVE BIRD</td>\n",
       "      <td>-3</td>\n",
       "      <td>2011-11-30 17:42:00</td>\n",
       "      <td>3.75</td>\n",
       "      <td>3226</td>\n",
       "      <td>United Kingdom</td>\n",
       "    </tr>\n",
       "  </tbody>\n",
       "</table>\n",
       "<p>236 rows × 8 columns</p>\n",
       "</div>"
      ],
      "text/plain": [
       "       InvoiceNo StockCode                          Description  Quantity  \\\n",
       "19510     537867      1621           FAMILY PHOTO FRAME CORNICE         2   \n",
       "19511     537867      1634                GUMBALL MAGAZINE RACK         2   \n",
       "19512     537867      1638  SQUARECUSHION COVER PINK UNION FLAG         2   \n",
       "19513     537867      1686           HOT WATER BOTTLE BABUSHKA          8   \n",
       "19514     537867      1014         SCOTTIE DOG HOT WATER BOTTLE         6   \n",
       "...          ...       ...                                  ...       ...   \n",
       "472518    576688      2347               I LOVE LONDON WALL ART         6   \n",
       "472519    576688      1305           12 COLOURED PARTY BALLOONS        20   \n",
       "516381   C579887      3107         ANTIQUE SILVER T-LIGHT GLASS        -1   \n",
       "516382   C579887      3198  15CM CHRISTMAS GLASS BALL 20 LIGHTS        -1   \n",
       "516383   C579887      2300     T-LIGHT HOLDER HANGING LOVE BIRD        -3   \n",
       "\n",
       "               InvoiceDate  UnitPrice CustomerID         Country  \n",
       "19510  2010-12-08 16:48:00       9.95       3226  United Kingdom  \n",
       "19511  2010-12-08 16:48:00       7.65       3226  United Kingdom  \n",
       "19512  2010-12-08 16:48:00       6.75       3226  United Kingdom  \n",
       "19513  2010-12-08 16:48:00       4.65       3226  United Kingdom  \n",
       "19514  2010-12-08 16:48:00       4.95       3226  United Kingdom  \n",
       "...                    ...        ...        ...             ...  \n",
       "472518 2011-11-16 12:16:00       4.95       3226  United Kingdom  \n",
       "472519 2011-11-16 12:16:00       0.65       3226  United Kingdom  \n",
       "516381 2011-11-30 17:42:00       1.25       3226  United Kingdom  \n",
       "516382 2011-11-30 17:42:00       7.95       3226  United Kingdom  \n",
       "516383 2011-11-30 17:42:00       3.75       3226  United Kingdom  \n",
       "\n",
       "[236 rows x 8 columns]"
      ]
     },
     "execution_count": 509,
     "metadata": {},
     "output_type": "execute_result"
    }
   ],
   "source": [
    "# Random Check\n",
    "df_online_retail[df_online_retail['CustomerID']=='3226']"
   ]
  },
  {
   "cell_type": "code",
   "execution_count": 500,
   "metadata": {},
   "outputs": [
    {
     "name": "stdout",
     "output_type": "stream",
     "text": [
      "2734\n"
     ]
    }
   ],
   "source": [
    "# How many of the Quantities are below one\n",
    "quantity_values = matrix.values\n",
    "below1 = np.sum(quantity_values < 1 )\n",
    "print(below1)"
   ]
  },
  {
   "cell_type": "code",
   "execution_count": 501,
   "metadata": {},
   "outputs": [
    {
     "data": {
      "text/plain": [
       "(3699, 2743)"
      ]
     },
     "execution_count": 501,
     "metadata": {},
     "output_type": "execute_result"
    }
   ],
   "source": [
    "quantity_values.shape"
   ]
  },
  {
   "attachments": {},
   "cell_type": "markdown",
   "metadata": {},
   "source": [
    "### Country of Origin"
   ]
  },
  {
   "cell_type": "code",
   "execution_count": 534,
   "metadata": {},
   "outputs": [
    {
     "data": {
      "text/plain": [
       "United Kingdom          353358\n",
       "Germany                   9384\n",
       "France                    8418\n",
       "EIRE                      7324\n",
       "Spain                     2471\n",
       "Netherlands               2353\n",
       "Belgium                   2019\n",
       "Switzerland               1860\n",
       "Portugal                  1472\n",
       "Australia                 1239\n",
       "Norway                    1081\n",
       "Italy                      798\n",
       "Channel Islands            744\n",
       "Finland                    678\n",
       "Cyprus                     614\n",
       "Sweden                     460\n",
       "Austria                    395\n",
       "Denmark                    383\n",
       "Japan                      339\n",
       "Poland                     338\n",
       "USA                        288\n",
       "Israel                     247\n",
       "Unspecified                240\n",
       "Singapore                  228\n",
       "Iceland                    181\n",
       "Greece                     144\n",
       "Canada                     140\n",
       "Malta                      121\n",
       "United Arab Emirates        66\n",
       "European Community          61\n",
       "RSA                         58\n",
       "Lebanon                     45\n",
       "Lithuania                   34\n",
       "Brazil                      32\n",
       "Czech Republic              30\n",
       "Bahrain                     13\n",
       "Name: Country, dtype: int64"
      ]
     },
     "execution_count": 534,
     "metadata": {},
     "output_type": "execute_result"
    }
   ],
   "source": [
    "df_online_retail['Country'].value_counts(normalize=False)"
   ]
  },
  {
   "cell_type": "code",
   "execution_count": 540,
   "metadata": {},
   "outputs": [
    {
     "data": {
      "text/plain": [
       "Country\n",
       "Australia                  8\n",
       "Austria                   10\n",
       "Bahrain                    1\n",
       "Belgium                   23\n",
       "Brazil                     1\n",
       "Canada                     2\n",
       "Channel Islands            7\n",
       "Cyprus                     8\n",
       "Czech Republic             1\n",
       "Denmark                    8\n",
       "EIRE                       3\n",
       "European Community         1\n",
       "Finland                   11\n",
       "France                    81\n",
       "Germany                   89\n",
       "Greece                     4\n",
       "Iceland                    1\n",
       "Israel                     3\n",
       "Italy                     14\n",
       "Japan                      5\n",
       "Lebanon                    1\n",
       "Lithuania                  1\n",
       "Malta                      2\n",
       "Netherlands                7\n",
       "Norway                    10\n",
       "Poland                     5\n",
       "Portugal                  19\n",
       "RSA                        1\n",
       "Singapore                  1\n",
       "Spain                     26\n",
       "Sweden                     8\n",
       "Switzerland               20\n",
       "USA                        4\n",
       "United Arab Emirates       2\n",
       "United Kingdom          3315\n",
       "Unspecified                4\n",
       "Name: CustomerID, dtype: int64"
      ]
     },
     "execution_count": 540,
     "metadata": {},
     "output_type": "execute_result"
    }
   ],
   "source": [
    "# Create DataFrame\n",
    "df_user_country = df_online_retail.groupby('Country')['CustomerID'].nunique()\n",
    "\n",
    "# Rename the columns\n",
    "#df_user_country.columns = ['UniqueCustomers']\n",
    "\n",
    "# Reset the index\n",
    "#df_user_country.reset_index(inplace=True)\n",
    "\n",
    "# Head\n",
    "df_user_country"
   ]
  },
  {
   "cell_type": "code",
   "execution_count": 543,
   "metadata": {},
   "outputs": [
    {
     "data": {
      "image/png": "[encoded data removed]",
      "text/plain": [
       "<Figure size 1000x400 with 1 Axes>"
      ]
     },
     "metadata": {},
     "output_type": "display_data"
    }
   ],
   "source": [
    "# Define Figure Size\n",
    "plt.rcParams[\"figure.figsize\"] = (10,4)\n",
    "\n",
    "# Sort values in descending order \n",
    "df_user_country = df_user_country.sort_values(ascending=False)\n",
    "\n",
    "# Allocate top ten into new dataframe \n",
    "top_10_countries = df_user_country.head(10)\n",
    "\n",
    "# Create a horizontal bar chart\n",
    "fig, ax = plt.subplots()\n",
    "ax.barh(top_10_countries.index, top_10_countries.values)\n",
    "\n",
    "# Display the unique customer count at the end of each bar\n",
    "for i, (country, count) in enumerate(top_10_countries.items()):\n",
    "    ax.text(count, i, f'{count}', ha='left', va='center')\n",
    "\n",
    "# Set labels and title\n",
    "ax.set_xlabel('Number of Unique Customers')\n",
    "ax.set_ylabel('Country')\n",
    "ax.set_title('Top 10 Countries by Unique Customer Count')\n",
    "\n",
    "# Show the plot\n",
    "plt.show()"
   ]
  },
  {
   "attachments": {},
   "cell_type": "markdown",
   "metadata": {},
   "source": [
    "# Sonstige"
   ]
  },
  {
   "cell_type": "code",
   "execution_count": 151,
   "metadata": {},
   "outputs": [
    {
     "name": "stdout",
     "output_type": "stream",
     "text": [
      "First Transaction Date:\t 2010-12-01 08:26:00\n",
      "Last Transaction Date:\t 2011-12-09 12:50:00\n"
     ]
    }
   ],
   "source": [
    "# Time Range of Transactions\n",
    "print('First Transaction Date:\\t', df_online_retail.InvoiceDate.min())\n",
    "print('Last Transaction Date:\\t', df_online_retail.InvoiceDate.max())"
   ]
  },
  {
   "cell_type": "code",
   "execution_count": 545,
   "metadata": {},
   "outputs": [
    {
     "name": "stdout",
     "output_type": "stream",
     "text": [
      "Description\n",
      "WHITE HANGING HEART T-LIGHT HOLDER    2025\n",
      "REGENCY CAKESTAND 3 TIER              1852\n",
      "JUMBO BAG RED RETROSPOT               1633\n",
      "ASSORTED COLOUR BIRD ORNAMENT         1395\n",
      "PARTY BUNTING                         1380\n",
      "LUNCH BAG RED RETROSPOT               1353\n",
      "SET OF 3 CAKE TINS PANTRY DESIGN      1221\n",
      "POSTAGE                               1158\n",
      "LUNCH BAG  BLACK SKULL.               1117\n",
      "PACK OF 72 RETROSPOT CAKE CASES       1069\n",
      "dtype: int64\n"
     ]
    }
   ],
   "source": [
    "# Popular Products \n",
    "print(df_online_retail.groupby(by='Description').size().sort_values(ascending=False).head(10))"
   ]
  },
  {
   "cell_type": "code",
   "execution_count": null,
   "metadata": {},
   "outputs": [],
   "source": []
  }
 ],
 "metadata": {
  "kernelspec": {
   "display_name": "recom",
   "language": "python",
   "name": "python3"
  },
  "language_info": {
   "codemirror_mode": {
    "name": "ipython",
    "version": 3
   },
   "file_extension": ".py",
   "mimetype": "text/x-python",
   "name": "python",
   "nbconvert_exporter": "python",
   "pygments_lexer": "ipython3",
   "version": "3.9.16"
  },
  "orig_nbformat": 4,
  "vscode": {
   "interpreter": {
    "hash": "17afcd9f6960de0a3656d2c4c5dd434deed0eab3cd38c55c3169df3bef50250d"
   }
  }
 },
 "nbformat": 4,
 "nbformat_minor": 2
}
