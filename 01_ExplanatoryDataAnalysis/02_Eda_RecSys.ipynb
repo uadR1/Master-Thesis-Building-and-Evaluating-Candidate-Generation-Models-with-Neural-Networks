{
 "cells": [
  {
   "attachments": {},
   "cell_type": "markdown",
   "metadata": {},
   "source": [
    "# Importing Libraries"
   ]
  },
  {
   "cell_type": "code",
   "execution_count": 1,
   "metadata": {},
   "outputs": [],
   "source": [
    "import pandas as pd \n",
    "import numpy as np \n",
    "import seaborn as sns\n",
    "import matplotlib.pyplot as plt\n",
    "import matplotlib.style\n",
    "%matplotlib inline"
   ]
  },
  {
   "attachments": {},
   "cell_type": "markdown",
   "metadata": {},
   "source": [
    "# Read Data in Dataframes"
   ]
  },
  {
   "cell_type": "code",
   "execution_count": 2,
   "metadata": {},
   "outputs": [],
   "source": [
    "# Read and save as Dataframe\n",
    "df_rec_sys_order = pd.read_excel('../00_Data/Rec_sys_data.xlsx', sheet_name=0)\n",
    "df_rec_sys_customer = pd.read_excel('../00_Data/Rec_sys_data.xlsx', sheet_name=1)\n",
    "df_rec_sys_product = pd.read_excel('../00_Data/Rec_sys_data.xlsx', sheet_name=2)"
   ]
  },
  {
   "attachments": {},
   "cell_type": "markdown",
   "metadata": {},
   "source": [
    "# Initial Check of Data"
   ]
  },
  {
   "attachments": {},
   "cell_type": "markdown",
   "metadata": {},
   "source": [
    "## Shapes"
   ]
  },
  {
   "cell_type": "code",
   "execution_count": 3,
   "metadata": {},
   "outputs": [
    {
     "name": "stdout",
     "output_type": "stream",
     "text": [
      "Orders Shape: (272404, 9)\n",
      "Customers Shape: (4372, 6)\n",
      "Products Shape: (29912, 6)\n"
     ]
    }
   ],
   "source": [
    "# Shapes of Data\n",
    "print(\"Orders Shape:\", df_rec_sys_order.shape)\n",
    "print(\"Customers Shape:\", df_rec_sys_customer.shape)\n",
    "print(\"Products Shape:\", df_rec_sys_product.shape)"
   ]
  },
  {
   "attachments": {},
   "cell_type": "markdown",
   "metadata": {},
   "source": [
    "## Orders"
   ]
  },
  {
   "cell_type": "code",
   "execution_count": 4,
   "metadata": {},
   "outputs": [
    {
     "data": {
      "text/html": [
       "<div>\n",
       "<style scoped>\n",
       "    .dataframe tbody tr th:only-of-type {\n",
       "        vertical-align: middle;\n",
       "    }\n",
       "\n",
       "    .dataframe tbody tr th {\n",
       "        vertical-align: top;\n",
       "    }\n",
       "\n",
       "    .dataframe thead th {\n",
       "        text-align: right;\n",
       "    }\n",
       "</style>\n",
       "<table border=\"1\" class=\"dataframe\">\n",
       "  <thead>\n",
       "    <tr style=\"text-align: right;\">\n",
       "      <th></th>\n",
       "      <th>InvoiceNo</th>\n",
       "      <th>StockCode</th>\n",
       "      <th>Quantity</th>\n",
       "      <th>InvoiceDate</th>\n",
       "      <th>DeliveryDate</th>\n",
       "      <th>Discount%</th>\n",
       "      <th>ShipMode</th>\n",
       "      <th>ShippingCost</th>\n",
       "      <th>CustomerID</th>\n",
       "    </tr>\n",
       "  </thead>\n",
       "  <tbody>\n",
       "    <tr>\n",
       "      <th>0</th>\n",
       "      <td>536365</td>\n",
       "      <td>84029E</td>\n",
       "      <td>6</td>\n",
       "      <td>2010-12-01 08:26:00</td>\n",
       "      <td>2010-12-02 08:26:00</td>\n",
       "      <td>0.20</td>\n",
       "      <td>ExpressAir</td>\n",
       "      <td>30.12</td>\n",
       "      <td>17850</td>\n",
       "    </tr>\n",
       "    <tr>\n",
       "      <th>1</th>\n",
       "      <td>536365</td>\n",
       "      <td>71053</td>\n",
       "      <td>6</td>\n",
       "      <td>2010-12-01 08:26:00</td>\n",
       "      <td>2010-12-02 08:26:00</td>\n",
       "      <td>0.21</td>\n",
       "      <td>ExpressAir</td>\n",
       "      <td>30.12</td>\n",
       "      <td>17850</td>\n",
       "    </tr>\n",
       "    <tr>\n",
       "      <th>2</th>\n",
       "      <td>536365</td>\n",
       "      <td>21730</td>\n",
       "      <td>6</td>\n",
       "      <td>2010-12-01 08:26:00</td>\n",
       "      <td>2010-12-03 08:26:00</td>\n",
       "      <td>0.56</td>\n",
       "      <td>Regular Air</td>\n",
       "      <td>15.22</td>\n",
       "      <td>17850</td>\n",
       "    </tr>\n",
       "    <tr>\n",
       "      <th>3</th>\n",
       "      <td>536365</td>\n",
       "      <td>84406B</td>\n",
       "      <td>8</td>\n",
       "      <td>2010-12-01 08:26:00</td>\n",
       "      <td>2010-12-03 08:26:00</td>\n",
       "      <td>0.30</td>\n",
       "      <td>Regular Air</td>\n",
       "      <td>15.22</td>\n",
       "      <td>17850</td>\n",
       "    </tr>\n",
       "    <tr>\n",
       "      <th>4</th>\n",
       "      <td>536365</td>\n",
       "      <td>22752</td>\n",
       "      <td>2</td>\n",
       "      <td>2010-12-01 08:26:00</td>\n",
       "      <td>2010-12-04 08:26:00</td>\n",
       "      <td>0.57</td>\n",
       "      <td>Delivery Truck</td>\n",
       "      <td>5.81</td>\n",
       "      <td>17850</td>\n",
       "    </tr>\n",
       "  </tbody>\n",
       "</table>\n",
       "</div>"
      ],
      "text/plain": [
       "   InvoiceNo StockCode  Quantity         InvoiceDate        DeliveryDate  \\\n",
       "0     536365    84029E         6 2010-12-01 08:26:00 2010-12-02 08:26:00   \n",
       "1     536365     71053         6 2010-12-01 08:26:00 2010-12-02 08:26:00   \n",
       "2     536365     21730         6 2010-12-01 08:26:00 2010-12-03 08:26:00   \n",
       "3     536365    84406B         8 2010-12-01 08:26:00 2010-12-03 08:26:00   \n",
       "4     536365     22752         2 2010-12-01 08:26:00 2010-12-04 08:26:00   \n",
       "\n",
       "   Discount%        ShipMode  ShippingCost  CustomerID  \n",
       "0       0.20      ExpressAir         30.12       17850  \n",
       "1       0.21      ExpressAir         30.12       17850  \n",
       "2       0.56     Regular Air         15.22       17850  \n",
       "3       0.30     Regular Air         15.22       17850  \n",
       "4       0.57  Delivery Truck          5.81       17850  "
      ]
     },
     "execution_count": 4,
     "metadata": {},
     "output_type": "execute_result"
    }
   ],
   "source": [
    "# Head Orders\n",
    "df_rec_sys_order.head()"
   ]
  },
  {
   "cell_type": "code",
   "execution_count": 5,
   "metadata": {},
   "outputs": [
    {
     "name": "stdout",
     "output_type": "stream",
     "text": [
      "<class 'pandas.core.frame.DataFrame'>\n",
      "RangeIndex: 272404 entries, 0 to 272403\n",
      "Data columns (total 9 columns):\n",
      " #   Column        Non-Null Count   Dtype         \n",
      "---  ------        --------------   -----         \n",
      " 0   InvoiceNo     272404 non-null  int64         \n",
      " 1   StockCode     272404 non-null  object        \n",
      " 2   Quantity      272404 non-null  int64         \n",
      " 3   InvoiceDate   272404 non-null  datetime64[ns]\n",
      " 4   DeliveryDate  272404 non-null  datetime64[ns]\n",
      " 5   Discount%     272404 non-null  float64       \n",
      " 6   ShipMode      272404 non-null  object        \n",
      " 7   ShippingCost  272404 non-null  float64       \n",
      " 8   CustomerID    272404 non-null  int64         \n",
      "dtypes: datetime64[ns](2), float64(2), int64(3), object(2)\n",
      "memory usage: 18.7+ MB\n"
     ]
    }
   ],
   "source": [
    "# Check Datatypes\n",
    "df_rec_sys_order.info()"
   ]
  },
  {
   "cell_type": "code",
   "execution_count": 6,
   "metadata": {},
   "outputs": [],
   "source": [
    "# Convert Invoice No and Customer ID to string\n",
    "df_rec_sys_order['CustomerID'] = df_rec_sys_order['CustomerID'].astype(str) \n",
    "df_rec_sys_order['InvoiceNo'] = df_rec_sys_order['InvoiceNo'].astype(str) "
   ]
  },
  {
   "cell_type": "code",
   "execution_count": 7,
   "metadata": {},
   "outputs": [
    {
     "data": {
      "text/html": [
       "<div>\n",
       "<style scoped>\n",
       "    .dataframe tbody tr th:only-of-type {\n",
       "        vertical-align: middle;\n",
       "    }\n",
       "\n",
       "    .dataframe tbody tr th {\n",
       "        vertical-align: top;\n",
       "    }\n",
       "\n",
       "    .dataframe thead th {\n",
       "        text-align: right;\n",
       "    }\n",
       "</style>\n",
       "<table border=\"1\" class=\"dataframe\">\n",
       "  <thead>\n",
       "    <tr style=\"text-align: right;\">\n",
       "      <th></th>\n",
       "      <th>Quantity</th>\n",
       "      <th>Discount%</th>\n",
       "      <th>ShippingCost</th>\n",
       "    </tr>\n",
       "  </thead>\n",
       "  <tbody>\n",
       "    <tr>\n",
       "      <th>count</th>\n",
       "      <td>272404.000000</td>\n",
       "      <td>272404.000000</td>\n",
       "      <td>272404.000000</td>\n",
       "    </tr>\n",
       "    <tr>\n",
       "      <th>mean</th>\n",
       "      <td>13.579536</td>\n",
       "      <td>0.300092</td>\n",
       "      <td>17.053491</td>\n",
       "    </tr>\n",
       "    <tr>\n",
       "      <th>std</th>\n",
       "      <td>149.136756</td>\n",
       "      <td>0.176023</td>\n",
       "      <td>10.013210</td>\n",
       "    </tr>\n",
       "    <tr>\n",
       "      <th>min</th>\n",
       "      <td>1.000000</td>\n",
       "      <td>0.000000</td>\n",
       "      <td>5.810000</td>\n",
       "    </tr>\n",
       "    <tr>\n",
       "      <th>25%</th>\n",
       "      <td>2.000000</td>\n",
       "      <td>0.150000</td>\n",
       "      <td>5.810000</td>\n",
       "    </tr>\n",
       "    <tr>\n",
       "      <th>50%</th>\n",
       "      <td>6.000000</td>\n",
       "      <td>0.300000</td>\n",
       "      <td>15.220000</td>\n",
       "    </tr>\n",
       "    <tr>\n",
       "      <th>75%</th>\n",
       "      <td>12.000000</td>\n",
       "      <td>0.450000</td>\n",
       "      <td>30.120000</td>\n",
       "    </tr>\n",
       "    <tr>\n",
       "      <th>max</th>\n",
       "      <td>74215.000000</td>\n",
       "      <td>0.600000</td>\n",
       "      <td>30.120000</td>\n",
       "    </tr>\n",
       "  </tbody>\n",
       "</table>\n",
       "</div>"
      ],
      "text/plain": [
       "            Quantity      Discount%   ShippingCost\n",
       "count  272404.000000  272404.000000  272404.000000\n",
       "mean       13.579536       0.300092      17.053491\n",
       "std       149.136756       0.176023      10.013210\n",
       "min         1.000000       0.000000       5.810000\n",
       "25%         2.000000       0.150000       5.810000\n",
       "50%         6.000000       0.300000      15.220000\n",
       "75%        12.000000       0.450000      30.120000\n",
       "max     74215.000000       0.600000      30.120000"
      ]
     },
     "execution_count": 7,
     "metadata": {},
     "output_type": "execute_result"
    }
   ],
   "source": [
    "# Description Orders\n",
    "df_rec_sys_order.describe()"
   ]
  },
  {
   "cell_type": "code",
   "execution_count": 8,
   "metadata": {},
   "outputs": [
    {
     "data": {
      "text/html": [
       "<div>\n",
       "<style scoped>\n",
       "    .dataframe tbody tr th:only-of-type {\n",
       "        vertical-align: middle;\n",
       "    }\n",
       "\n",
       "    .dataframe tbody tr th {\n",
       "        vertical-align: top;\n",
       "    }\n",
       "\n",
       "    .dataframe thead th {\n",
       "        text-align: right;\n",
       "    }\n",
       "</style>\n",
       "<table border=\"1\" class=\"dataframe\">\n",
       "  <thead>\n",
       "    <tr style=\"text-align: right;\">\n",
       "      <th></th>\n",
       "      <th>InvoiceNo</th>\n",
       "      <th>StockCode</th>\n",
       "      <th>ShipMode</th>\n",
       "      <th>CustomerID</th>\n",
       "    </tr>\n",
       "  </thead>\n",
       "  <tbody>\n",
       "    <tr>\n",
       "      <th>count</th>\n",
       "      <td>272404</td>\n",
       "      <td>272404</td>\n",
       "      <td>272404</td>\n",
       "      <td>272404</td>\n",
       "    </tr>\n",
       "    <tr>\n",
       "      <th>unique</th>\n",
       "      <td>13373</td>\n",
       "      <td>3538</td>\n",
       "      <td>3</td>\n",
       "      <td>3647</td>\n",
       "    </tr>\n",
       "    <tr>\n",
       "      <th>top</th>\n",
       "      <td>567656</td>\n",
       "      <td>85123A</td>\n",
       "      <td>ExpressAir</td>\n",
       "      <td>17841</td>\n",
       "    </tr>\n",
       "    <tr>\n",
       "      <th>freq</th>\n",
       "      <td>421</td>\n",
       "      <td>1606</td>\n",
       "      <td>90906</td>\n",
       "      <td>5095</td>\n",
       "    </tr>\n",
       "  </tbody>\n",
       "</table>\n",
       "</div>"
      ],
      "text/plain": [
       "       InvoiceNo StockCode    ShipMode CustomerID\n",
       "count     272404    272404      272404     272404\n",
       "unique     13373      3538           3       3647\n",
       "top       567656    85123A  ExpressAir      17841\n",
       "freq         421      1606       90906       5095"
      ]
     },
     "execution_count": 8,
     "metadata": {},
     "output_type": "execute_result"
    }
   ],
   "source": [
    "# Descriptive Statistics Categorical\n",
    "df_rec_sys_order.describe(include='object')"
   ]
  },
  {
   "attachments": {},
   "cell_type": "markdown",
   "metadata": {},
   "source": [
    "## Customers"
   ]
  },
  {
   "cell_type": "code",
   "execution_count": 9,
   "metadata": {},
   "outputs": [
    {
     "data": {
      "text/html": [
       "<div>\n",
       "<style scoped>\n",
       "    .dataframe tbody tr th:only-of-type {\n",
       "        vertical-align: middle;\n",
       "    }\n",
       "\n",
       "    .dataframe tbody tr th {\n",
       "        vertical-align: top;\n",
       "    }\n",
       "\n",
       "    .dataframe thead th {\n",
       "        text-align: right;\n",
       "    }\n",
       "</style>\n",
       "<table border=\"1\" class=\"dataframe\">\n",
       "  <thead>\n",
       "    <tr style=\"text-align: right;\">\n",
       "      <th></th>\n",
       "      <th>CustomerID</th>\n",
       "      <th>Gender</th>\n",
       "      <th>Age</th>\n",
       "      <th>Income</th>\n",
       "      <th>Zipcode</th>\n",
       "      <th>Customer Segment</th>\n",
       "    </tr>\n",
       "  </thead>\n",
       "  <tbody>\n",
       "    <tr>\n",
       "      <th>0</th>\n",
       "      <td>13089</td>\n",
       "      <td>male</td>\n",
       "      <td>53</td>\n",
       "      <td>High</td>\n",
       "      <td>8625</td>\n",
       "      <td>Small Business</td>\n",
       "    </tr>\n",
       "    <tr>\n",
       "      <th>1</th>\n",
       "      <td>15810</td>\n",
       "      <td>female</td>\n",
       "      <td>22</td>\n",
       "      <td>Low</td>\n",
       "      <td>87797</td>\n",
       "      <td>Small Business</td>\n",
       "    </tr>\n",
       "    <tr>\n",
       "      <th>2</th>\n",
       "      <td>15556</td>\n",
       "      <td>female</td>\n",
       "      <td>29</td>\n",
       "      <td>High</td>\n",
       "      <td>29257</td>\n",
       "      <td>Corporate</td>\n",
       "    </tr>\n",
       "    <tr>\n",
       "      <th>3</th>\n",
       "      <td>13137</td>\n",
       "      <td>male</td>\n",
       "      <td>29</td>\n",
       "      <td>Medium</td>\n",
       "      <td>97818</td>\n",
       "      <td>Middle class</td>\n",
       "    </tr>\n",
       "    <tr>\n",
       "      <th>4</th>\n",
       "      <td>16241</td>\n",
       "      <td>male</td>\n",
       "      <td>36</td>\n",
       "      <td>Low</td>\n",
       "      <td>79200</td>\n",
       "      <td>Small Business</td>\n",
       "    </tr>\n",
       "  </tbody>\n",
       "</table>\n",
       "</div>"
      ],
      "text/plain": [
       "   CustomerID  Gender  Age  Income  Zipcode Customer Segment\n",
       "0       13089    male   53    High     8625   Small Business\n",
       "1       15810  female   22     Low    87797   Small Business\n",
       "2       15556  female   29    High    29257        Corporate\n",
       "3       13137    male   29  Medium    97818     Middle class\n",
       "4       16241    male   36     Low    79200   Small Business"
      ]
     },
     "execution_count": 9,
     "metadata": {},
     "output_type": "execute_result"
    }
   ],
   "source": [
    "# Head Customers\n",
    "df_rec_sys_customer.head()"
   ]
  },
  {
   "cell_type": "code",
   "execution_count": 10,
   "metadata": {},
   "outputs": [
    {
     "name": "stdout",
     "output_type": "stream",
     "text": [
      "<class 'pandas.core.frame.DataFrame'>\n",
      "RangeIndex: 4372 entries, 0 to 4371\n",
      "Data columns (total 6 columns):\n",
      " #   Column            Non-Null Count  Dtype \n",
      "---  ------            --------------  ----- \n",
      " 0   CustomerID        4372 non-null   int64 \n",
      " 1   Gender            4372 non-null   object\n",
      " 2   Age               4372 non-null   int64 \n",
      " 3   Income            4372 non-null   object\n",
      " 4   Zipcode           4372 non-null   int64 \n",
      " 5   Customer Segment  4372 non-null   object\n",
      "dtypes: int64(3), object(3)\n",
      "memory usage: 205.1+ KB\n"
     ]
    }
   ],
   "source": [
    "# Check Datatypes\n",
    "df_rec_sys_customer.info()"
   ]
  },
  {
   "cell_type": "code",
   "execution_count": 11,
   "metadata": {},
   "outputs": [],
   "source": [
    "# Convert Customer ID to string\n",
    "df_rec_sys_customer['CustomerID'] = df_rec_sys_customer['CustomerID'].astype(str) "
   ]
  },
  {
   "attachments": {},
   "cell_type": "markdown",
   "metadata": {},
   "source": [
    "## Products"
   ]
  },
  {
   "cell_type": "code",
   "execution_count": 12,
   "metadata": {},
   "outputs": [
    {
     "data": {
      "text/html": [
       "<div>\n",
       "<style scoped>\n",
       "    .dataframe tbody tr th:only-of-type {\n",
       "        vertical-align: middle;\n",
       "    }\n",
       "\n",
       "    .dataframe tbody tr th {\n",
       "        vertical-align: top;\n",
       "    }\n",
       "\n",
       "    .dataframe thead th {\n",
       "        text-align: right;\n",
       "    }\n",
       "</style>\n",
       "<table border=\"1\" class=\"dataframe\">\n",
       "  <thead>\n",
       "    <tr style=\"text-align: right;\">\n",
       "      <th></th>\n",
       "      <th>StockCode</th>\n",
       "      <th>Product Name</th>\n",
       "      <th>Description</th>\n",
       "      <th>Category</th>\n",
       "      <th>Brand</th>\n",
       "      <th>Unit Price</th>\n",
       "    </tr>\n",
       "  </thead>\n",
       "  <tbody>\n",
       "    <tr>\n",
       "      <th>0</th>\n",
       "      <td>22629</td>\n",
       "      <td>Ganma Superheroes Ordinary Life Case For Samsu...</td>\n",
       "      <td>New unique design, great gift.High quality pla...</td>\n",
       "      <td>Cell Phones|Cellphone Accessories|Cases &amp; Prot...</td>\n",
       "      <td>Ganma</td>\n",
       "      <td>13.99</td>\n",
       "    </tr>\n",
       "    <tr>\n",
       "      <th>1</th>\n",
       "      <td>21238</td>\n",
       "      <td>Eye Buy Express Prescription Glasses Mens Wome...</td>\n",
       "      <td>Rounded rectangular cat-eye reading glasses. T...</td>\n",
       "      <td>Health|Home Health Care|Daily Living Aids</td>\n",
       "      <td>Eye Buy Express</td>\n",
       "      <td>19.22</td>\n",
       "    </tr>\n",
       "    <tr>\n",
       "      <th>2</th>\n",
       "      <td>22181</td>\n",
       "      <td>MightySkins Skin Decal Wrap Compatible with Ni...</td>\n",
       "      <td>Each Nintendo 2DS kit is printed with super-hi...</td>\n",
       "      <td>Video Games|Video Game Accessories|Accessories...</td>\n",
       "      <td>Mightyskins</td>\n",
       "      <td>14.99</td>\n",
       "    </tr>\n",
       "    <tr>\n",
       "      <th>3</th>\n",
       "      <td>84879</td>\n",
       "      <td>Mediven Sheer and Soft 15-20 mmHg Thigh w/ Lac...</td>\n",
       "      <td>The sheerest compression stocking in its class...</td>\n",
       "      <td>Health|Medicine Cabinet|Braces &amp; Supports</td>\n",
       "      <td>Medi</td>\n",
       "      <td>62.38</td>\n",
       "    </tr>\n",
       "    <tr>\n",
       "      <th>4</th>\n",
       "      <td>84836</td>\n",
       "      <td>Stupell Industries Chevron Initial Wall D cor</td>\n",
       "      <td>Features: -Made in the USA. -Sawtooth hanger o...</td>\n",
       "      <td>Home Improvement|Paint|Wall Decals|All Wall De...</td>\n",
       "      <td>Stupell Industries</td>\n",
       "      <td>35.99</td>\n",
       "    </tr>\n",
       "  </tbody>\n",
       "</table>\n",
       "</div>"
      ],
      "text/plain": [
       "  StockCode                                       Product Name  \\\n",
       "0     22629  Ganma Superheroes Ordinary Life Case For Samsu...   \n",
       "1     21238  Eye Buy Express Prescription Glasses Mens Wome...   \n",
       "2     22181  MightySkins Skin Decal Wrap Compatible with Ni...   \n",
       "3     84879  Mediven Sheer and Soft 15-20 mmHg Thigh w/ Lac...   \n",
       "4     84836      Stupell Industries Chevron Initial Wall D cor   \n",
       "\n",
       "                                         Description  \\\n",
       "0  New unique design, great gift.High quality pla...   \n",
       "1  Rounded rectangular cat-eye reading glasses. T...   \n",
       "2  Each Nintendo 2DS kit is printed with super-hi...   \n",
       "3  The sheerest compression stocking in its class...   \n",
       "4  Features: -Made in the USA. -Sawtooth hanger o...   \n",
       "\n",
       "                                            Category               Brand  \\\n",
       "0  Cell Phones|Cellphone Accessories|Cases & Prot...               Ganma   \n",
       "1          Health|Home Health Care|Daily Living Aids     Eye Buy Express   \n",
       "2  Video Games|Video Game Accessories|Accessories...         Mightyskins   \n",
       "3          Health|Medicine Cabinet|Braces & Supports                Medi   \n",
       "4  Home Improvement|Paint|Wall Decals|All Wall De...  Stupell Industries   \n",
       "\n",
       "   Unit Price  \n",
       "0       13.99  \n",
       "1       19.22  \n",
       "2       14.99  \n",
       "3       62.38  \n",
       "4       35.99  "
      ]
     },
     "execution_count": 12,
     "metadata": {},
     "output_type": "execute_result"
    }
   ],
   "source": [
    "df_rec_sys_product.head()"
   ]
  },
  {
   "cell_type": "code",
   "execution_count": 13,
   "metadata": {},
   "outputs": [
    {
     "name": "stdout",
     "output_type": "stream",
     "text": [
      "<class 'pandas.core.frame.DataFrame'>\n",
      "RangeIndex: 29912 entries, 0 to 29911\n",
      "Data columns (total 6 columns):\n",
      " #   Column        Non-Null Count  Dtype  \n",
      "---  ------        --------------  -----  \n",
      " 0   StockCode     3958 non-null   object \n",
      " 1   Product Name  3958 non-null   object \n",
      " 2   Description   3958 non-null   object \n",
      " 3   Category      29120 non-null  object \n",
      " 4   Brand         28783 non-null  object \n",
      " 5   Unit Price    29794 non-null  float64\n",
      "dtypes: float64(1), object(5)\n",
      "memory usage: 1.4+ MB\n"
     ]
    }
   ],
   "source": [
    "df_rec_sys_product.info()"
   ]
  },
  {
   "cell_type": "code",
   "execution_count": 14,
   "metadata": {},
   "outputs": [
    {
     "data": {
      "text/html": [
       "<div>\n",
       "<style scoped>\n",
       "    .dataframe tbody tr th:only-of-type {\n",
       "        vertical-align: middle;\n",
       "    }\n",
       "\n",
       "    .dataframe tbody tr th {\n",
       "        vertical-align: top;\n",
       "    }\n",
       "\n",
       "    .dataframe thead th {\n",
       "        text-align: right;\n",
       "    }\n",
       "</style>\n",
       "<table border=\"1\" class=\"dataframe\">\n",
       "  <thead>\n",
       "    <tr style=\"text-align: right;\">\n",
       "      <th></th>\n",
       "      <th>Unit Price</th>\n",
       "      <th>Num_word_text</th>\n",
       "      <th>Num_word_cat</th>\n",
       "    </tr>\n",
       "  </thead>\n",
       "  <tbody>\n",
       "    <tr>\n",
       "      <th>count</th>\n",
       "      <td>29794.000000</td>\n",
       "      <td>29912.000000</td>\n",
       "      <td>29912.000000</td>\n",
       "    </tr>\n",
       "    <tr>\n",
       "      <th>mean</th>\n",
       "      <td>94.612015</td>\n",
       "      <td>20.681098</td>\n",
       "      <td>5.660370</td>\n",
       "    </tr>\n",
       "    <tr>\n",
       "      <th>std</th>\n",
       "      <td>403.095943</td>\n",
       "      <td>61.123616</td>\n",
       "      <td>2.236469</td>\n",
       "    </tr>\n",
       "    <tr>\n",
       "      <th>min</th>\n",
       "      <td>0.590000</td>\n",
       "      <td>1.000000</td>\n",
       "      <td>1.000000</td>\n",
       "    </tr>\n",
       "    <tr>\n",
       "      <th>25%</th>\n",
       "      <td>15.430000</td>\n",
       "      <td>1.000000</td>\n",
       "      <td>5.000000</td>\n",
       "    </tr>\n",
       "    <tr>\n",
       "      <th>50%</th>\n",
       "      <td>27.950000</td>\n",
       "      <td>1.000000</td>\n",
       "      <td>6.000000</td>\n",
       "    </tr>\n",
       "    <tr>\n",
       "      <th>75%</th>\n",
       "      <td>59.190000</td>\n",
       "      <td>1.000000</td>\n",
       "      <td>6.000000</td>\n",
       "    </tr>\n",
       "    <tr>\n",
       "      <th>max</th>\n",
       "      <td>22144.550000</td>\n",
       "      <td>676.000000</td>\n",
       "      <td>20.000000</td>\n",
       "    </tr>\n",
       "  </tbody>\n",
       "</table>\n",
       "</div>"
      ],
      "text/plain": [
       "         Unit Price  Num_word_text  Num_word_cat\n",
       "count  29794.000000   29912.000000  29912.000000\n",
       "mean      94.612015      20.681098      5.660370\n",
       "std      403.095943      61.123616      2.236469\n",
       "min        0.590000       1.000000      1.000000\n",
       "25%       15.430000       1.000000      5.000000\n",
       "50%       27.950000       1.000000      6.000000\n",
       "75%       59.190000       1.000000      6.000000\n",
       "max    22144.550000     676.000000     20.000000"
      ]
     },
     "execution_count": 14,
     "metadata": {},
     "output_type": "execute_result"
    }
   ],
   "source": [
    "df_rec_sys_product['Num_word_text'] = df_rec_sys_product['Description'].apply(lambda x:len(str(x).split())) #Number Of words in main text\n",
    "df_rec_sys_product['Num_word_cat'] = df_rec_sys_product['Category'].apply(lambda x:len(str(x).split())) #Number Of words in main text\n",
    "df_rec_sys_product.describe()"
   ]
  },
  {
   "attachments": {},
   "cell_type": "markdown",
   "metadata": {},
   "source": [
    "# Data Quality"
   ]
  },
  {
   "cell_type": "code",
   "execution_count": 15,
   "metadata": {},
   "outputs": [
    {
     "data": {
      "text/plain": [
       "InvoiceNo       0\n",
       "StockCode       0\n",
       "Quantity        0\n",
       "InvoiceDate     0\n",
       "DeliveryDate    0\n",
       "Discount%       0\n",
       "ShipMode        0\n",
       "ShippingCost    0\n",
       "CustomerID      0\n",
       "dtype: int64"
      ]
     },
     "execution_count": 15,
     "metadata": {},
     "output_type": "execute_result"
    }
   ],
   "source": [
    "# Missing Values Orders\n",
    "df_rec_sys_order.isna().sum()"
   ]
  },
  {
   "cell_type": "code",
   "execution_count": 16,
   "metadata": {},
   "outputs": [
    {
     "data": {
      "text/plain": [
       "StockCode        25954\n",
       "Product Name     25954\n",
       "Description      25954\n",
       "Category           792\n",
       "Brand             1129\n",
       "Unit Price         118\n",
       "Num_word_text        0\n",
       "Num_word_cat         0\n",
       "dtype: int64"
      ]
     },
     "execution_count": 16,
     "metadata": {},
     "output_type": "execute_result"
    }
   ],
   "source": [
    "# Missing Values Products\n",
    "df_rec_sys_product.isna().sum()"
   ]
  },
  {
   "cell_type": "code",
   "execution_count": 17,
   "metadata": {},
   "outputs": [
    {
     "data": {
      "text/html": [
       "<div>\n",
       "<style scoped>\n",
       "    .dataframe tbody tr th:only-of-type {\n",
       "        vertical-align: middle;\n",
       "    }\n",
       "\n",
       "    .dataframe tbody tr th {\n",
       "        vertical-align: top;\n",
       "    }\n",
       "\n",
       "    .dataframe thead th {\n",
       "        text-align: right;\n",
       "    }\n",
       "</style>\n",
       "<table border=\"1\" class=\"dataframe\">\n",
       "  <thead>\n",
       "    <tr style=\"text-align: right;\">\n",
       "      <th></th>\n",
       "      <th>StockCode</th>\n",
       "      <th>Product Name</th>\n",
       "      <th>Description</th>\n",
       "      <th>Category</th>\n",
       "      <th>Brand</th>\n",
       "      <th>Unit Price</th>\n",
       "      <th>Num_word_text</th>\n",
       "      <th>Num_word_cat</th>\n",
       "    </tr>\n",
       "  </thead>\n",
       "  <tbody>\n",
       "    <tr>\n",
       "      <th>29902</th>\n",
       "      <td>NaN</td>\n",
       "      <td>NaN</td>\n",
       "      <td>NaN</td>\n",
       "      <td>NaN</td>\n",
       "      <td>Gulfe</td>\n",
       "      <td>56.00</td>\n",
       "      <td>1</td>\n",
       "      <td>1</td>\n",
       "    </tr>\n",
       "    <tr>\n",
       "      <th>4553</th>\n",
       "      <td>NaN</td>\n",
       "      <td>NaN</td>\n",
       "      <td>NaN</td>\n",
       "      <td>Cell Phones|Cellphone Accessories|Cases &amp; Prot...</td>\n",
       "      <td>Mightyskins</td>\n",
       "      <td>6.99</td>\n",
       "      <td>1</td>\n",
       "      <td>6</td>\n",
       "    </tr>\n",
       "    <tr>\n",
       "      <th>9495</th>\n",
       "      <td>NaN</td>\n",
       "      <td>NaN</td>\n",
       "      <td>NaN</td>\n",
       "      <td>Clothing|Kids Clothing|Boys Clothing|Big Boys ...</td>\n",
       "      <td>Holloway</td>\n",
       "      <td>8.99</td>\n",
       "      <td>1</td>\n",
       "      <td>14</td>\n",
       "    </tr>\n",
       "    <tr>\n",
       "      <th>12241</th>\n",
       "      <td>NaN</td>\n",
       "      <td>NaN</td>\n",
       "      <td>NaN</td>\n",
       "      <td>Auto &amp; Tires|Automotive Interior|Car Sun Shades</td>\n",
       "      <td>NaN</td>\n",
       "      <td>12.00</td>\n",
       "      <td>1</td>\n",
       "      <td>6</td>\n",
       "    </tr>\n",
       "    <tr>\n",
       "      <th>21644</th>\n",
       "      <td>NaN</td>\n",
       "      <td>NaN</td>\n",
       "      <td>NaN</td>\n",
       "      <td>Electronics|Computers|Computer Accessories|Com...</td>\n",
       "      <td>ServerUSA</td>\n",
       "      <td>27.81</td>\n",
       "      <td>1</td>\n",
       "      <td>5</td>\n",
       "    </tr>\n",
       "    <tr>\n",
       "      <th>26600</th>\n",
       "      <td>NaN</td>\n",
       "      <td>NaN</td>\n",
       "      <td>NaN</td>\n",
       "      <td>Electronics|Electronics Learning Center|Ads Fr...</td>\n",
       "      <td>Mightyskins</td>\n",
       "      <td>17.99</td>\n",
       "      <td>1</td>\n",
       "      <td>6</td>\n",
       "    </tr>\n",
       "    <tr>\n",
       "      <th>5380</th>\n",
       "      <td>NaN</td>\n",
       "      <td>NaN</td>\n",
       "      <td>NaN</td>\n",
       "      <td>Health|Home Health Care|Daily Living Aids</td>\n",
       "      <td>Eye Buy Express</td>\n",
       "      <td>24.99</td>\n",
       "      <td>1</td>\n",
       "      <td>5</td>\n",
       "    </tr>\n",
       "    <tr>\n",
       "      <th>6354</th>\n",
       "      <td>NaN</td>\n",
       "      <td>NaN</td>\n",
       "      <td>NaN</td>\n",
       "      <td>Clothing|Shoes|Womens Shoes|All Womens Shoes</td>\n",
       "      <td>Prop?t</td>\n",
       "      <td>76.95</td>\n",
       "      <td>1</td>\n",
       "      <td>4</td>\n",
       "    </tr>\n",
       "    <tr>\n",
       "      <th>27031</th>\n",
       "      <td>NaN</td>\n",
       "      <td>NaN</td>\n",
       "      <td>NaN</td>\n",
       "      <td>Health|Home Health Care|Reading Glasses|Eyegla...</td>\n",
       "      <td>Ron's Optical</td>\n",
       "      <td>11.99</td>\n",
       "      <td>1</td>\n",
       "      <td>5</td>\n",
       "    </tr>\n",
       "    <tr>\n",
       "      <th>8268</th>\n",
       "      <td>NaN</td>\n",
       "      <td>NaN</td>\n",
       "      <td>NaN</td>\n",
       "      <td>Clothing|Men|Mens T-Shirts &amp; Tank Tops|Mens Gr...</td>\n",
       "      <td>True City Life</td>\n",
       "      <td>11.99</td>\n",
       "      <td>1</td>\n",
       "      <td>7</td>\n",
       "    </tr>\n",
       "  </tbody>\n",
       "</table>\n",
       "</div>"
      ],
      "text/plain": [
       "      StockCode Product Name Description  \\\n",
       "29902       NaN          NaN         NaN   \n",
       "4553        NaN          NaN         NaN   \n",
       "9495        NaN          NaN         NaN   \n",
       "12241       NaN          NaN         NaN   \n",
       "21644       NaN          NaN         NaN   \n",
       "26600       NaN          NaN         NaN   \n",
       "5380        NaN          NaN         NaN   \n",
       "6354        NaN          NaN         NaN   \n",
       "27031       NaN          NaN         NaN   \n",
       "8268        NaN          NaN         NaN   \n",
       "\n",
       "                                                Category            Brand  \\\n",
       "29902                                                NaN            Gulfe   \n",
       "4553   Cell Phones|Cellphone Accessories|Cases & Prot...      Mightyskins   \n",
       "9495   Clothing|Kids Clothing|Boys Clothing|Big Boys ...         Holloway   \n",
       "12241    Auto & Tires|Automotive Interior|Car Sun Shades              NaN   \n",
       "21644  Electronics|Computers|Computer Accessories|Com...        ServerUSA   \n",
       "26600  Electronics|Electronics Learning Center|Ads Fr...      Mightyskins   \n",
       "5380           Health|Home Health Care|Daily Living Aids  Eye Buy Express   \n",
       "6354        Clothing|Shoes|Womens Shoes|All Womens Shoes           Prop?t   \n",
       "27031  Health|Home Health Care|Reading Glasses|Eyegla...    Ron's Optical   \n",
       "8268   Clothing|Men|Mens T-Shirts & Tank Tops|Mens Gr...   True City Life   \n",
       "\n",
       "       Unit Price  Num_word_text  Num_word_cat  \n",
       "29902       56.00              1             1  \n",
       "4553         6.99              1             6  \n",
       "9495         8.99              1            14  \n",
       "12241       12.00              1             6  \n",
       "21644       27.81              1             5  \n",
       "26600       17.99              1             6  \n",
       "5380        24.99              1             5  \n",
       "6354        76.95              1             4  \n",
       "27031       11.99              1             5  \n",
       "8268        11.99              1             7  "
      ]
     },
     "execution_count": 17,
     "metadata": {},
     "output_type": "execute_result"
    }
   ],
   "source": [
    "# Sample of Missing Product Names\n",
    "df_rec_sys_product[df_rec_sys_product['Product Name'].isnull()].sample(10)"
   ]
  },
  {
   "cell_type": "code",
   "execution_count": 18,
   "metadata": {},
   "outputs": [
    {
     "data": {
      "text/plain": [
       "CustomerID          0\n",
       "Gender              0\n",
       "Age                 0\n",
       "Income              0\n",
       "Zipcode             0\n",
       "Customer Segment    0\n",
       "dtype: int64"
      ]
     },
     "execution_count": 18,
     "metadata": {},
     "output_type": "execute_result"
    }
   ],
   "source": [
    "# Missing Values Customera\n",
    "df_rec_sys_customer.isna().sum()"
   ]
  },
  {
   "attachments": {},
   "cell_type": "markdown",
   "metadata": {},
   "source": [
    "# Exploration to understand the Dataset"
   ]
  },
  {
   "attachments": {},
   "cell_type": "markdown",
   "metadata": {},
   "source": [
    "## Customers: B2B?"
   ]
  },
  {
   "cell_type": "code",
   "execution_count": 19,
   "metadata": {},
   "outputs": [
    {
     "data": {
      "text/plain": [
       "array(['Small Business', 'Corporate', 'Middle class'], dtype=object)"
      ]
     },
     "execution_count": 19,
     "metadata": {},
     "output_type": "execute_result"
    }
   ],
   "source": [
    "# What kind of customers?\n",
    "df_rec_sys_customer['Customer Segment'].unique()"
   ]
  },
  {
   "cell_type": "code",
   "execution_count": 20,
   "metadata": {},
   "outputs": [
    {
     "name": "stdout",
     "output_type": "stream",
     "text": [
      "Customer Segment\n",
      "Small Business    1480\n",
      "Corporate         1449\n",
      "Middle class      1443\n",
      "dtype: int64\n"
     ]
    }
   ],
   "source": [
    "# Number customers per Segment\n",
    "# Popular Products \n",
    "print(df_rec_sys_customer.groupby(by='Customer Segment').size().sort_values(ascending=False))"
   ]
  },
  {
   "attachments": {},
   "cell_type": "markdown",
   "metadata": {},
   "source": [
    "Seems like a B2B Business"
   ]
  },
  {
   "cell_type": "code",
   "execution_count": 21,
   "metadata": {},
   "outputs": [
    {
     "data": {
      "text/html": [
       "<div>\n",
       "<style scoped>\n",
       "    .dataframe tbody tr th:only-of-type {\n",
       "        vertical-align: middle;\n",
       "    }\n",
       "\n",
       "    .dataframe tbody tr th {\n",
       "        vertical-align: top;\n",
       "    }\n",
       "\n",
       "    .dataframe thead th {\n",
       "        text-align: right;\n",
       "    }\n",
       "</style>\n",
       "<table border=\"1\" class=\"dataframe\">\n",
       "  <thead>\n",
       "    <tr style=\"text-align: right;\">\n",
       "      <th></th>\n",
       "      <th>InvoiceNo</th>\n",
       "      <th>Items</th>\n",
       "    </tr>\n",
       "  </thead>\n",
       "  <tbody>\n",
       "    <tr>\n",
       "      <th>0</th>\n",
       "      <td>536365</td>\n",
       "      <td>7</td>\n",
       "    </tr>\n",
       "    <tr>\n",
       "      <th>1</th>\n",
       "      <td>536366</td>\n",
       "      <td>2</td>\n",
       "    </tr>\n",
       "    <tr>\n",
       "      <th>2</th>\n",
       "      <td>536367</td>\n",
       "      <td>12</td>\n",
       "    </tr>\n",
       "    <tr>\n",
       "      <th>3</th>\n",
       "      <td>536368</td>\n",
       "      <td>4</td>\n",
       "    </tr>\n",
       "    <tr>\n",
       "      <th>4</th>\n",
       "      <td>536369</td>\n",
       "      <td>1</td>\n",
       "    </tr>\n",
       "  </tbody>\n",
       "</table>\n",
       "</div>"
      ],
      "text/plain": [
       "  InvoiceNo  Items\n",
       "0    536365      7\n",
       "1    536366      2\n",
       "2    536367     12\n",
       "3    536368      4\n",
       "4    536369      1"
      ]
     },
     "execution_count": 21,
     "metadata": {},
     "output_type": "execute_result"
    }
   ],
   "source": [
    "# Aggregate Number of Items per Order\n",
    "df_ordersize = df_rec_sys_order.groupby('InvoiceNo').agg({'InvoiceNo': 'count'})\n",
    "\n",
    "# Change Name of Aggregated Column\n",
    "df_ordersize.columns = ['Items']\n",
    "\n",
    "# Reset Indes\n",
    "df_ordersize.reset_index(inplace=True)\n",
    "\n",
    "# Show first 5 \n",
    "df_ordersize.head()"
   ]
  },
  {
   "cell_type": "code",
   "execution_count": 22,
   "metadata": {},
   "outputs": [
    {
     "data": {
      "text/html": [
       "<div>\n",
       "<style scoped>\n",
       "    .dataframe tbody tr th:only-of-type {\n",
       "        vertical-align: middle;\n",
       "    }\n",
       "\n",
       "    .dataframe tbody tr th {\n",
       "        vertical-align: top;\n",
       "    }\n",
       "\n",
       "    .dataframe thead th {\n",
       "        text-align: right;\n",
       "    }\n",
       "</style>\n",
       "<table border=\"1\" class=\"dataframe\">\n",
       "  <thead>\n",
       "    <tr style=\"text-align: right;\">\n",
       "      <th></th>\n",
       "      <th>Items</th>\n",
       "    </tr>\n",
       "  </thead>\n",
       "  <tbody>\n",
       "    <tr>\n",
       "      <th>count</th>\n",
       "      <td>13373.000000</td>\n",
       "    </tr>\n",
       "    <tr>\n",
       "      <th>mean</th>\n",
       "      <td>20.369700</td>\n",
       "    </tr>\n",
       "    <tr>\n",
       "      <th>std</th>\n",
       "      <td>21.787738</td>\n",
       "    </tr>\n",
       "    <tr>\n",
       "      <th>min</th>\n",
       "      <td>1.000000</td>\n",
       "    </tr>\n",
       "    <tr>\n",
       "      <th>25%</th>\n",
       "      <td>6.000000</td>\n",
       "    </tr>\n",
       "    <tr>\n",
       "      <th>50%</th>\n",
       "      <td>15.000000</td>\n",
       "    </tr>\n",
       "    <tr>\n",
       "      <th>75%</th>\n",
       "      <td>27.000000</td>\n",
       "    </tr>\n",
       "    <tr>\n",
       "      <th>max</th>\n",
       "      <td>421.000000</td>\n",
       "    </tr>\n",
       "  </tbody>\n",
       "</table>\n",
       "</div>"
      ],
      "text/plain": [
       "              Items\n",
       "count  13373.000000\n",
       "mean      20.369700\n",
       "std       21.787738\n",
       "min        1.000000\n",
       "25%        6.000000\n",
       "50%       15.000000\n",
       "75%       27.000000\n",
       "max      421.000000"
      ]
     },
     "execution_count": 22,
     "metadata": {},
     "output_type": "execute_result"
    }
   ],
   "source": [
    "# Describe Statistics \n",
    "df_ordersize.describe()"
   ]
  },
  {
   "cell_type": "code",
   "execution_count": 23,
   "metadata": {},
   "outputs": [
    {
     "data": {
      "text/plain": [
       "1"
      ]
     },
     "execution_count": 23,
     "metadata": {},
     "output_type": "execute_result"
    }
   ],
   "source": [
    "df_ordersize.Items.mode()[0]"
   ]
  },
  {
   "cell_type": "code",
   "execution_count": 24,
   "metadata": {},
   "outputs": [
    {
     "data": {
      "text/plain": [
       "1      1026\n",
       "2       542\n",
       "5       484\n",
       "4       471\n",
       "3       468\n",
       "       ... \n",
       "178       1\n",
       "188       1\n",
       "277       1\n",
       "219       1\n",
       "140       1\n",
       "Name: Items, Length: 169, dtype: int64"
      ]
     },
     "execution_count": 24,
     "metadata": {},
     "output_type": "execute_result"
    }
   ],
   "source": [
    "df_ordersize.Items.value_counts()"
   ]
  },
  {
   "cell_type": "code",
   "execution_count": 25,
   "metadata": {},
   "outputs": [
    {
     "data": {
      "image/png": "[encoded data removed]",
      "text/plain": [
       "<Figure size 640x480 with 1 Axes>"
      ]
     },
     "metadata": {},
     "output_type": "display_data"
    }
   ],
   "source": [
    "plt.hist(df_ordersize.Items, bins=100)\n",
    "plt.show()"
   ]
  },
  {
   "attachments": {},
   "cell_type": "markdown",
   "metadata": {},
   "source": [
    "Another Indication that most of customers are businesses, as they buy many items in one order. "
   ]
  },
  {
   "attachments": {},
   "cell_type": "markdown",
   "metadata": {},
   "source": [
    "## Time range of purchases"
   ]
  },
  {
   "cell_type": "code",
   "execution_count": 26,
   "metadata": {},
   "outputs": [
    {
     "name": "stdout",
     "output_type": "stream",
     "text": [
      "<class 'pandas.core.frame.DataFrame'>\n",
      "RangeIndex: 272404 entries, 0 to 272403\n",
      "Data columns (total 9 columns):\n",
      " #   Column        Non-Null Count   Dtype         \n",
      "---  ------        --------------   -----         \n",
      " 0   InvoiceNo     272404 non-null  object        \n",
      " 1   StockCode     272404 non-null  object        \n",
      " 2   Quantity      272404 non-null  int64         \n",
      " 3   InvoiceDate   272404 non-null  datetime64[ns]\n",
      " 4   DeliveryDate  272404 non-null  datetime64[ns]\n",
      " 5   Discount%     272404 non-null  float64       \n",
      " 6   ShipMode      272404 non-null  object        \n",
      " 7   ShippingCost  272404 non-null  float64       \n",
      " 8   CustomerID    272404 non-null  object        \n",
      "dtypes: datetime64[ns](2), float64(2), int64(1), object(4)\n",
      "memory usage: 18.7+ MB\n"
     ]
    }
   ],
   "source": [
    "# Check Datatype\n",
    "df_rec_sys_order.info()"
   ]
  },
  {
   "cell_type": "code",
   "execution_count": 27,
   "metadata": {},
   "outputs": [
    {
     "name": "stdout",
     "output_type": "stream",
     "text": [
      "First Transaction Date:\t 2010-12-01 08:26:00\n",
      "Last Transaction Date:\t 2011-10-05 11:37:00\n"
     ]
    }
   ],
   "source": [
    "# Time Range of Transactions\n",
    "print('First Transaction Date:\\t', df_rec_sys_order.InvoiceDate.min())\n",
    "print('Last Transaction Date:\\t', df_rec_sys_order.InvoiceDate.max())"
   ]
  },
  {
   "attachments": {},
   "cell_type": "markdown",
   "metadata": {},
   "source": [
    "## How many Categories?"
   ]
  },
  {
   "cell_type": "code",
   "execution_count": 28,
   "metadata": {},
   "outputs": [],
   "source": [
    "# Step 1: Split the 'Category' column using '|' as the delimiter\n",
    "split_categories = df_rec_sys_product['Category'].str.split('|')"
   ]
  },
  {
   "cell_type": "code",
   "execution_count": 29,
   "metadata": {},
   "outputs": [
    {
     "data": {
      "text/plain": [
       "1980"
      ]
     },
     "execution_count": 29,
     "metadata": {},
     "output_type": "execute_result"
    }
   ],
   "source": [
    "# Step 2: Convert the resulting lists into a single list\n",
    "all_categories = []\n",
    "for category_list in split_categories:\n",
    "    if isinstance(category_list, list):  # Only extend if category_list is a list (i.e., not NaN)\n",
    "        all_categories.extend(category_list)\n",
    "\n",
    "# Step 3: Convert into Numpy Array\n",
    "all_categories = np.array(all_categories)\n",
    "\n",
    "# Step 4: Check number of Unique values\n",
    "len(np.unique(all_categories))"
   ]
  },
  {
   "cell_type": "code",
   "execution_count": 30,
   "metadata": {},
   "outputs": [
    {
     "name": "stdout",
     "output_type": "stream",
     "text": [
      "[[' Soul Music on CDs & Vinyl Records' '1']\n",
      " ['2-Way Radios' '1']\n",
      " ['20th Century Modern History Books' '1']\n",
      " ...\n",
      " ['iPad & Tablets' '5']\n",
      " ['iPhone 8 Plus Cases' '6']\n",
      " ['iPhone Cases' '6']]\n"
     ]
    }
   ],
   "source": [
    "unique, counts = np.unique(all_categories, return_counts=True)\n",
    "print(np.asarray((unique, counts)).T)"
   ]
  },
  {
   "cell_type": "code",
   "execution_count": 31,
   "metadata": {},
   "outputs": [
    {
     "data": {
      "text/html": [
       "<div>\n",
       "<style scoped>\n",
       "    .dataframe tbody tr th:only-of-type {\n",
       "        vertical-align: middle;\n",
       "    }\n",
       "\n",
       "    .dataframe tbody tr th {\n",
       "        vertical-align: top;\n",
       "    }\n",
       "\n",
       "    .dataframe thead th {\n",
       "        text-align: right;\n",
       "    }\n",
       "</style>\n",
       "<table border=\"1\" class=\"dataframe\">\n",
       "  <thead>\n",
       "    <tr style=\"text-align: right;\">\n",
       "      <th></th>\n",
       "      <th>Category</th>\n",
       "      <th>Count</th>\n",
       "    </tr>\n",
       "  </thead>\n",
       "  <tbody>\n",
       "    <tr>\n",
       "      <th>899</th>\n",
       "      <td>Gillette</td>\n",
       "      <td>1</td>\n",
       "    </tr>\n",
       "    <tr>\n",
       "      <th>895</th>\n",
       "      <td>Gift Bows</td>\n",
       "      <td>1</td>\n",
       "    </tr>\n",
       "    <tr>\n",
       "      <th>893</th>\n",
       "      <td>German History Books</td>\n",
       "      <td>1</td>\n",
       "    </tr>\n",
       "    <tr>\n",
       "      <th>892</th>\n",
       "      <td>German Cookbooks</td>\n",
       "      <td>1</td>\n",
       "    </tr>\n",
       "    <tr>\n",
       "      <th>891</th>\n",
       "      <td>General United States History Books</td>\n",
       "      <td>1</td>\n",
       "    </tr>\n",
       "    <tr>\n",
       "      <th>890</th>\n",
       "      <td>General True Crime Books</td>\n",
       "      <td>1</td>\n",
       "    </tr>\n",
       "    <tr>\n",
       "      <th>888</th>\n",
       "      <td>General Software Development &amp; Engineering Books</td>\n",
       "      <td>1</td>\n",
       "    </tr>\n",
       "    <tr>\n",
       "      <th>886</th>\n",
       "      <td>General Self-Help Books</td>\n",
       "      <td>1</td>\n",
       "    </tr>\n",
       "    <tr>\n",
       "      <th>885</th>\n",
       "      <td>General Security Books</td>\n",
       "      <td>1</td>\n",
       "    </tr>\n",
       "    <tr>\n",
       "      <th>990</th>\n",
       "      <td>Hex Nuts</td>\n",
       "      <td>1</td>\n",
       "    </tr>\n",
       "  </tbody>\n",
       "</table>\n",
       "</div>"
      ],
      "text/plain": [
       "                                             Category Count\n",
       "899                                          Gillette     1\n",
       "895                                         Gift Bows     1\n",
       "893                              German History Books     1\n",
       "892                                  German Cookbooks     1\n",
       "891               General United States History Books     1\n",
       "890                          General True Crime Books     1\n",
       "888  General Software Development & Engineering Books     1\n",
       "886                           General Self-Help Books     1\n",
       "885                            General Security Books     1\n",
       "990                                          Hex Nuts     1"
      ]
     },
     "execution_count": 31,
     "metadata": {},
     "output_type": "execute_result"
    }
   ],
   "source": [
    "cat_counts = pd.DataFrame([unique, counts]).T\n",
    "cat_counts.columns = ['Category', 'Count']\n",
    "cat_counts.sort_values(by='Count', ascending=False).tail(10)"
   ]
  },
  {
   "attachments": {},
   "cell_type": "markdown",
   "metadata": {},
   "source": [
    "# Merge"
   ]
  },
  {
   "cell_type": "code",
   "execution_count": 32,
   "metadata": {},
   "outputs": [
    {
     "data": {
      "text/html": [
       "<div>\n",
       "<style scoped>\n",
       "    .dataframe tbody tr th:only-of-type {\n",
       "        vertical-align: middle;\n",
       "    }\n",
       "\n",
       "    .dataframe tbody tr th {\n",
       "        vertical-align: top;\n",
       "    }\n",
       "\n",
       "    .dataframe thead th {\n",
       "        text-align: right;\n",
       "    }\n",
       "</style>\n",
       "<table border=\"1\" class=\"dataframe\">\n",
       "  <thead>\n",
       "    <tr style=\"text-align: right;\">\n",
       "      <th></th>\n",
       "      <th>InvoiceNo</th>\n",
       "      <th>StockCode</th>\n",
       "      <th>Quantity</th>\n",
       "      <th>InvoiceDate</th>\n",
       "      <th>DeliveryDate</th>\n",
       "      <th>Discount%</th>\n",
       "      <th>ShipMode</th>\n",
       "      <th>ShippingCost</th>\n",
       "      <th>CustomerID</th>\n",
       "      <th>Gender</th>\n",
       "      <th>...</th>\n",
       "      <th>Income</th>\n",
       "      <th>Zipcode</th>\n",
       "      <th>Customer Segment</th>\n",
       "      <th>Product Name</th>\n",
       "      <th>Description</th>\n",
       "      <th>Category</th>\n",
       "      <th>Brand</th>\n",
       "      <th>Unit Price</th>\n",
       "      <th>Num_word_text</th>\n",
       "      <th>Num_word_cat</th>\n",
       "    </tr>\n",
       "  </thead>\n",
       "  <tbody>\n",
       "    <tr>\n",
       "      <th>0</th>\n",
       "      <td>536365</td>\n",
       "      <td>84029E</td>\n",
       "      <td>6</td>\n",
       "      <td>2010-12-01 08:26:00</td>\n",
       "      <td>2010-12-02 08:26:00</td>\n",
       "      <td>0.20</td>\n",
       "      <td>ExpressAir</td>\n",
       "      <td>30.12</td>\n",
       "      <td>17850</td>\n",
       "      <td>female</td>\n",
       "      <td>...</td>\n",
       "      <td>Medium</td>\n",
       "      <td>84306</td>\n",
       "      <td>Middle class</td>\n",
       "      <td>3 1/2\"W x 20\"D x 20\"H Funston Craftsman Smooth...</td>\n",
       "      <td>Our Rustic Collection is an instant classic. O...</td>\n",
       "      <td>Home Improvement|Hardware|Brackets and Angle I...</td>\n",
       "      <td>Ekena Milwork</td>\n",
       "      <td>199.11</td>\n",
       "      <td>129.0</td>\n",
       "      <td>9.0</td>\n",
       "    </tr>\n",
       "    <tr>\n",
       "      <th>1</th>\n",
       "      <td>536365</td>\n",
       "      <td>71053</td>\n",
       "      <td>6</td>\n",
       "      <td>2010-12-01 08:26:00</td>\n",
       "      <td>2010-12-02 08:26:00</td>\n",
       "      <td>0.21</td>\n",
       "      <td>ExpressAir</td>\n",
       "      <td>30.12</td>\n",
       "      <td>17850</td>\n",
       "      <td>female</td>\n",
       "      <td>...</td>\n",
       "      <td>Medium</td>\n",
       "      <td>84306</td>\n",
       "      <td>Middle class</td>\n",
       "      <td>Awkward Styles Shamrock Flag St. Patrick's Day...</td>\n",
       "      <td>Our St Patrick's Day Collection is perfect for...</td>\n",
       "      <td>Clothing|Men|Mens T-Shirts &amp; Tank Tops|Mens Gr...</td>\n",
       "      <td>Awkward Styles</td>\n",
       "      <td>23.95</td>\n",
       "      <td>150.0</td>\n",
       "      <td>7.0</td>\n",
       "    </tr>\n",
       "    <tr>\n",
       "      <th>2</th>\n",
       "      <td>536365</td>\n",
       "      <td>21730</td>\n",
       "      <td>6</td>\n",
       "      <td>2010-12-01 08:26:00</td>\n",
       "      <td>2010-12-03 08:26:00</td>\n",
       "      <td>0.56</td>\n",
       "      <td>Regular Air</td>\n",
       "      <td>15.22</td>\n",
       "      <td>17850</td>\n",
       "      <td>female</td>\n",
       "      <td>...</td>\n",
       "      <td>Medium</td>\n",
       "      <td>84306</td>\n",
       "      <td>Middle class</td>\n",
       "      <td>Ebe Men Black Rectangle Half Rim Spring Hinge ...</td>\n",
       "      <td>Count on EBE for all of your eye correction ne...</td>\n",
       "      <td>Health|Home Health Care|Daily Living Aids</td>\n",
       "      <td>Eye Buy Express</td>\n",
       "      <td>26.99</td>\n",
       "      <td>176.0</td>\n",
       "      <td>5.0</td>\n",
       "    </tr>\n",
       "    <tr>\n",
       "      <th>3</th>\n",
       "      <td>536365</td>\n",
       "      <td>84406B</td>\n",
       "      <td>8</td>\n",
       "      <td>2010-12-01 08:26:00</td>\n",
       "      <td>2010-12-03 08:26:00</td>\n",
       "      <td>0.30</td>\n",
       "      <td>Regular Air</td>\n",
       "      <td>15.22</td>\n",
       "      <td>17850</td>\n",
       "      <td>female</td>\n",
       "      <td>...</td>\n",
       "      <td>Medium</td>\n",
       "      <td>84306</td>\n",
       "      <td>Middle class</td>\n",
       "      <td>MightySkins Skin Decal Wrap Compatible with Ap...</td>\n",
       "      <td>Mightyskins are removable vinyl skins for prot...</td>\n",
       "      <td>Electronics|Electronics Learning Center|Ads Fr...</td>\n",
       "      <td>Mightyskins</td>\n",
       "      <td>14.99</td>\n",
       "      <td>118.0</td>\n",
       "      <td>6.0</td>\n",
       "    </tr>\n",
       "    <tr>\n",
       "      <th>4</th>\n",
       "      <td>536365</td>\n",
       "      <td>22752</td>\n",
       "      <td>2</td>\n",
       "      <td>2010-12-01 08:26:00</td>\n",
       "      <td>2010-12-04 08:26:00</td>\n",
       "      <td>0.57</td>\n",
       "      <td>Delivery Truck</td>\n",
       "      <td>5.81</td>\n",
       "      <td>17850</td>\n",
       "      <td>female</td>\n",
       "      <td>...</td>\n",
       "      <td>Medium</td>\n",
       "      <td>84306</td>\n",
       "      <td>Middle class</td>\n",
       "      <td>awesome since 1948 - 69th birthday gift t-shir...</td>\n",
       "      <td>awesome since 1948 - 69th birthday gift t-shir...</td>\n",
       "      <td>Clothing|Men|Mens T-Shirts &amp; Tank Tops|Mens T-...</td>\n",
       "      <td>Shirtinvaders</td>\n",
       "      <td>49.33</td>\n",
       "      <td>20.0</td>\n",
       "      <td>6.0</td>\n",
       "    </tr>\n",
       "  </tbody>\n",
       "</table>\n",
       "<p>5 rows × 21 columns</p>\n",
       "</div>"
      ],
      "text/plain": [
       "  InvoiceNo StockCode  Quantity         InvoiceDate        DeliveryDate  \\\n",
       "0    536365    84029E         6 2010-12-01 08:26:00 2010-12-02 08:26:00   \n",
       "1    536365     71053         6 2010-12-01 08:26:00 2010-12-02 08:26:00   \n",
       "2    536365     21730         6 2010-12-01 08:26:00 2010-12-03 08:26:00   \n",
       "3    536365    84406B         8 2010-12-01 08:26:00 2010-12-03 08:26:00   \n",
       "4    536365     22752         2 2010-12-01 08:26:00 2010-12-04 08:26:00   \n",
       "\n",
       "   Discount%        ShipMode  ShippingCost CustomerID  Gender  ...  Income  \\\n",
       "0       0.20      ExpressAir         30.12      17850  female  ...  Medium   \n",
       "1       0.21      ExpressAir         30.12      17850  female  ...  Medium   \n",
       "2       0.56     Regular Air         15.22      17850  female  ...  Medium   \n",
       "3       0.30     Regular Air         15.22      17850  female  ...  Medium   \n",
       "4       0.57  Delivery Truck          5.81      17850  female  ...  Medium   \n",
       "\n",
       "  Zipcode  Customer Segment  \\\n",
       "0   84306      Middle class   \n",
       "1   84306      Middle class   \n",
       "2   84306      Middle class   \n",
       "3   84306      Middle class   \n",
       "4   84306      Middle class   \n",
       "\n",
       "                                        Product Name  \\\n",
       "0  3 1/2\"W x 20\"D x 20\"H Funston Craftsman Smooth...   \n",
       "1  Awkward Styles Shamrock Flag St. Patrick's Day...   \n",
       "2  Ebe Men Black Rectangle Half Rim Spring Hinge ...   \n",
       "3  MightySkins Skin Decal Wrap Compatible with Ap...   \n",
       "4  awesome since 1948 - 69th birthday gift t-shir...   \n",
       "\n",
       "                                         Description  \\\n",
       "0  Our Rustic Collection is an instant classic. O...   \n",
       "1  Our St Patrick's Day Collection is perfect for...   \n",
       "2  Count on EBE for all of your eye correction ne...   \n",
       "3  Mightyskins are removable vinyl skins for prot...   \n",
       "4  awesome since 1948 - 69th birthday gift t-shir...   \n",
       "\n",
       "                                            Category            Brand  \\\n",
       "0  Home Improvement|Hardware|Brackets and Angle I...    Ekena Milwork   \n",
       "1  Clothing|Men|Mens T-Shirts & Tank Tops|Mens Gr...   Awkward Styles   \n",
       "2          Health|Home Health Care|Daily Living Aids  Eye Buy Express   \n",
       "3  Electronics|Electronics Learning Center|Ads Fr...      Mightyskins   \n",
       "4  Clothing|Men|Mens T-Shirts & Tank Tops|Mens T-...    Shirtinvaders   \n",
       "\n",
       "  Unit Price  Num_word_text  Num_word_cat  \n",
       "0     199.11          129.0           9.0  \n",
       "1      23.95          150.0           7.0  \n",
       "2      26.99          176.0           5.0  \n",
       "3      14.99          118.0           6.0  \n",
       "4      49.33           20.0           6.0  \n",
       "\n",
       "[5 rows x 21 columns]"
      ]
     },
     "execution_count": 32,
     "metadata": {},
     "output_type": "execute_result"
    }
   ],
   "source": [
    "# Merge all Datasets \n",
    "df_rec_sys = df_rec_sys_order.merge(df_rec_sys_customer, on='CustomerID', how='left').merge(df_rec_sys_product, on='StockCode', how='left')\n",
    "\n",
    "# Show first five rows \n",
    "df_rec_sys.head()"
   ]
  },
  {
   "cell_type": "code",
   "execution_count": 33,
   "metadata": {},
   "outputs": [
    {
     "data": {
      "text/plain": [
       "(272404, 21)"
      ]
     },
     "execution_count": 33,
     "metadata": {},
     "output_type": "execute_result"
    }
   ],
   "source": [
    "# Shape of merged Dataset\n",
    "df_rec_sys.shape"
   ]
  },
  {
   "cell_type": "code",
   "execution_count": 34,
   "metadata": {},
   "outputs": [
    {
     "data": {
      "text/html": [
       "<div>\n",
       "<style scoped>\n",
       "    .dataframe tbody tr th:only-of-type {\n",
       "        vertical-align: middle;\n",
       "    }\n",
       "\n",
       "    .dataframe tbody tr th {\n",
       "        vertical-align: top;\n",
       "    }\n",
       "\n",
       "    .dataframe thead th {\n",
       "        text-align: right;\n",
       "    }\n",
       "</style>\n",
       "<table border=\"1\" class=\"dataframe\">\n",
       "  <thead>\n",
       "    <tr style=\"text-align: right;\">\n",
       "      <th></th>\n",
       "      <th>InvoiceNo</th>\n",
       "      <th>StockCode</th>\n",
       "      <th>ShipMode</th>\n",
       "      <th>CustomerID</th>\n",
       "      <th>Gender</th>\n",
       "      <th>Income</th>\n",
       "      <th>Customer Segment</th>\n",
       "      <th>Product Name</th>\n",
       "      <th>Description</th>\n",
       "      <th>Category</th>\n",
       "      <th>Brand</th>\n",
       "    </tr>\n",
       "  </thead>\n",
       "  <tbody>\n",
       "    <tr>\n",
       "      <th>count</th>\n",
       "      <td>272404</td>\n",
       "      <td>272404</td>\n",
       "      <td>272404</td>\n",
       "      <td>272404</td>\n",
       "      <td>272404</td>\n",
       "      <td>272404</td>\n",
       "      <td>272404</td>\n",
       "      <td>271414</td>\n",
       "      <td>271414</td>\n",
       "      <td>264557</td>\n",
       "      <td>261706</td>\n",
       "    </tr>\n",
       "    <tr>\n",
       "      <th>unique</th>\n",
       "      <td>13373</td>\n",
       "      <td>3538</td>\n",
       "      <td>3</td>\n",
       "      <td>3647</td>\n",
       "      <td>2</td>\n",
       "      <td>3</td>\n",
       "      <td>3</td>\n",
       "      <td>734</td>\n",
       "      <td>733</td>\n",
       "      <td>353</td>\n",
       "      <td>504</td>\n",
       "    </tr>\n",
       "    <tr>\n",
       "      <th>top</th>\n",
       "      <td>567656</td>\n",
       "      <td>85123A</td>\n",
       "      <td>ExpressAir</td>\n",
       "      <td>17841</td>\n",
       "      <td>female</td>\n",
       "      <td>Low</td>\n",
       "      <td>Small Business</td>\n",
       "      <td>Mediven Sheer and Soft 15-20 mmHg Thigh w/ Lac...</td>\n",
       "      <td>The sheerest compression stocking in its class...</td>\n",
       "      <td>Health|Home Health Care|Daily Living Aids</td>\n",
       "      <td>Mightyskins</td>\n",
       "    </tr>\n",
       "    <tr>\n",
       "      <th>freq</th>\n",
       "      <td>421</td>\n",
       "      <td>1606</td>\n",
       "      <td>90906</td>\n",
       "      <td>5095</td>\n",
       "      <td>143879</td>\n",
       "      <td>92173</td>\n",
       "      <td>95698</td>\n",
       "      <td>8001</td>\n",
       "      <td>8001</td>\n",
       "      <td>32599</td>\n",
       "      <td>46973</td>\n",
       "    </tr>\n",
       "  </tbody>\n",
       "</table>\n",
       "</div>"
      ],
      "text/plain": [
       "       InvoiceNo StockCode    ShipMode CustomerID  Gender  Income  \\\n",
       "count     272404    272404      272404     272404  272404  272404   \n",
       "unique     13373      3538           3       3647       2       3   \n",
       "top       567656    85123A  ExpressAir      17841  female     Low   \n",
       "freq         421      1606       90906       5095  143879   92173   \n",
       "\n",
       "       Customer Segment                                       Product Name  \\\n",
       "count            272404                                             271414   \n",
       "unique                3                                                734   \n",
       "top      Small Business  Mediven Sheer and Soft 15-20 mmHg Thigh w/ Lac...   \n",
       "freq              95698                                               8001   \n",
       "\n",
       "                                              Description  \\\n",
       "count                                              271414   \n",
       "unique                                                733   \n",
       "top     The sheerest compression stocking in its class...   \n",
       "freq                                                 8001   \n",
       "\n",
       "                                         Category        Brand  \n",
       "count                                      264557       261706  \n",
       "unique                                        353          504  \n",
       "top     Health|Home Health Care|Daily Living Aids  Mightyskins  \n",
       "freq                                        32599        46973  "
      ]
     },
     "execution_count": 34,
     "metadata": {},
     "output_type": "execute_result"
    }
   ],
   "source": [
    "df_rec_sys.describe(include='object')"
   ]
  },
  {
   "attachments": {},
   "cell_type": "markdown",
   "metadata": {},
   "source": [
    "## Missing Values after Merge"
   ]
  },
  {
   "cell_type": "code",
   "execution_count": 35,
   "metadata": {},
   "outputs": [
    {
     "data": {
      "text/plain": [
       "InvoiceNo               0\n",
       "StockCode               0\n",
       "Quantity                0\n",
       "InvoiceDate             0\n",
       "DeliveryDate            0\n",
       "Discount%               0\n",
       "ShipMode                0\n",
       "ShippingCost            0\n",
       "CustomerID              0\n",
       "Gender                  0\n",
       "Age                     0\n",
       "Income                  0\n",
       "Zipcode                 0\n",
       "Customer Segment        0\n",
       "Product Name          990\n",
       "Description           990\n",
       "Category             7847\n",
       "Brand               10698\n",
       "Unit Price           1902\n",
       "Num_word_text         990\n",
       "Num_word_cat          990\n",
       "dtype: int64"
      ]
     },
     "execution_count": 35,
     "metadata": {},
     "output_type": "execute_result"
    }
   ],
   "source": [
    "# Missing values\n",
    "df_rec_sys.isna().sum() #/ df_rec_sys.shape[0] * 100"
   ]
  },
  {
   "cell_type": "code",
   "execution_count": 36,
   "metadata": {},
   "outputs": [
    {
     "data": {
      "text/plain": [
       "13"
      ]
     },
     "execution_count": 36,
     "metadata": {},
     "output_type": "execute_result"
    }
   ],
   "source": [
    "# Number of Items with no Description\n",
    "isna = df_rec_sys[df_rec_sys['Description'].isna()]\n",
    "uniq_isna_item = isna.groupby('StockCode').size()\n",
    "len(uniq_isna_item)"
   ]
  },
  {
   "cell_type": "code",
   "execution_count": 37,
   "metadata": {},
   "outputs": [
    {
     "data": {
      "text/plain": [
       "106"
      ]
     },
     "execution_count": 37,
     "metadata": {},
     "output_type": "execute_result"
    }
   ],
   "source": [
    "# Number of Items with no Category\n",
    "isnacat = df_rec_sys[df_rec_sys['Category'].isna()]\n",
    "isnacat_count = isnacat.groupby('StockCode').size()\n",
    "len(isnacat_count)"
   ]
  },
  {
   "cell_type": "code",
   "execution_count": 38,
   "metadata": {},
   "outputs": [
    {
     "data": {
      "text/plain": [
       "142"
      ]
     },
     "execution_count": 38,
     "metadata": {},
     "output_type": "execute_result"
    }
   ],
   "source": [
    "# Number of Items with no Brand\n",
    "isna_brand = df_rec_sys[df_rec_sys['Brand'].isna()]\n",
    "isna_brand_count = isna_brand.groupby('StockCode').size()\n",
    "len(isna_brand_count)"
   ]
  },
  {
   "cell_type": "code",
   "execution_count": 39,
   "metadata": {},
   "outputs": [
    {
     "data": {
      "text/plain": [
       "InvoiceNo           0\n",
       "StockCode           0\n",
       "Quantity            0\n",
       "InvoiceDate         0\n",
       "DeliveryDate        0\n",
       "Discount%           0\n",
       "ShipMode            0\n",
       "ShippingCost        0\n",
       "CustomerID          0\n",
       "Gender              0\n",
       "Age                 0\n",
       "Income              0\n",
       "Zipcode             0\n",
       "Customer Segment    0\n",
       "Product Name        0\n",
       "Description         0\n",
       "Category            0\n",
       "Brand               0\n",
       "Unit Price          0\n",
       "Num_word_text       0\n",
       "Num_word_cat        0\n",
       "dtype: int64"
      ]
     },
     "execution_count": 39,
     "metadata": {},
     "output_type": "execute_result"
    }
   ],
   "source": [
    "# Drop Missing values\n",
    "df_rec_sys = df_rec_sys.dropna()\n",
    "\n",
    "# Sanity check\n",
    "df_rec_sys.isna().sum()"
   ]
  },
  {
   "cell_type": "code",
   "execution_count": 40,
   "metadata": {},
   "outputs": [
    {
     "data": {
      "text/plain": [
       "(254020, 21)"
      ]
     },
     "execution_count": 40,
     "metadata": {},
     "output_type": "execute_result"
    }
   ],
   "source": [
    "# Shape after dropping NAs\n",
    "df_rec_sys.shape"
   ]
  },
  {
   "attachments": {},
   "cell_type": "markdown",
   "metadata": {},
   "source": [
    "## Filter out Items & Users with less than 10 interactions"
   ]
  },
  {
   "cell_type": "code",
   "execution_count": 41,
   "metadata": {},
   "outputs": [
    {
     "name": "stdout",
     "output_type": "stream",
     "text": [
      "initial unique items: 3294\n",
      "initial unique users: 3643\n"
     ]
    }
   ],
   "source": [
    "# Initial Values\n",
    "initial_items_unique=df_rec_sys.StockCode.nunique()\n",
    "initial_users_unique=df_rec_sys.CustomerID.nunique()\n",
    "print(\"initial unique items:\", initial_items_unique)\n",
    "print(\"initial unique users:\", initial_users_unique)"
   ]
  },
  {
   "cell_type": "code",
   "execution_count": 70,
   "metadata": {},
   "outputs": [],
   "source": [
    "# New df with counts of unique items per User \n",
    "users_itemcounts = df_rec_sys.groupby('CustomerID')['StockCode'].nunique()\n",
    "\n",
    "# Filter out users with less than 10 unique items \n",
    "users_ten_items = users_itemcounts[users_itemcounts>=10].index\n",
    "\n",
    "# New df with counts of unique users per Item\n",
    "item_usercounts = df_rec_sys.groupby('StockCode')['CustomerID'].nunique()\n",
    "\n",
    "# Filter out items with less than 10 unique users\n",
    "items_ten_users = item_usercounts[item_usercounts>=10].index\n",
    "\n",
    "# Filter dataframe \n",
    "df_rec_sys = df_rec_sys[\n",
    "    df_rec_sys['CustomerID'].isin(users_ten_items) &\n",
    "    df_rec_sys['StockCode'].isin(items_ten_users)\n",
    "] \n",
    "\n"
   ]
  },
  {
   "cell_type": "code",
   "execution_count": 81,
   "metadata": {},
   "outputs": [
    {
     "name": "stdout",
     "output_type": "stream",
     "text": [
      "unique items: 2349\n",
      "unique users: 3011\n"
     ]
    }
   ],
   "source": [
    "# Initial Values\n",
    "items_unique=df_rec_sys.StockCode.nunique()\n",
    "initial_users_unique=df_rec_sys.CustomerID.nunique()\n",
    "print(\"unique items:\", items_unique)\n",
    "print(\"unique users:\", initial_users_unique)"
   ]
  },
  {
   "cell_type": "code",
   "execution_count": 82,
   "metadata": {},
   "outputs": [
    {
     "data": {
      "text/plain": [
       "(245898, 21)"
      ]
     },
     "execution_count": 82,
     "metadata": {},
     "output_type": "execute_result"
    }
   ],
   "source": [
    "# Shape after removal\n",
    "df_rec_sys.shape"
   ]
  },
  {
   "cell_type": "code",
   "execution_count": 83,
   "metadata": {},
   "outputs": [
    {
     "data": {
      "text/plain": [
       "8122"
      ]
     },
     "execution_count": 83,
     "metadata": {},
     "output_type": "execute_result"
    }
   ],
   "source": [
    "# rows Removed\n",
    "254020 - 245898"
   ]
  },
  {
   "cell_type": "code",
   "execution_count": 74,
   "metadata": {},
   "outputs": [
    {
     "data": {
      "text/plain": [
       "632"
      ]
     },
     "execution_count": 74,
     "metadata": {},
     "output_type": "execute_result"
    }
   ],
   "source": [
    "# Users Removed\n",
    "3643 - 3011"
   ]
  },
  {
   "cell_type": "code",
   "execution_count": 75,
   "metadata": {},
   "outputs": [
    {
     "data": {
      "text/plain": [
       "945"
      ]
     },
     "execution_count": 75,
     "metadata": {},
     "output_type": "execute_result"
    }
   ],
   "source": [
    "# Items Removed\n",
    "3294 - 2349"
   ]
  },
  {
   "cell_type": "code",
   "execution_count": 80,
   "metadata": {},
   "outputs": [
    {
     "name": "stdout",
     "output_type": "stream",
     "text": [
      "Sparcity: 97.55825065436949\n",
      "Unique Transactions: 172701\n",
      "Potential Transactions: 7072839\n",
      "Overall Transactions: 245898\n"
     ]
    }
   ],
   "source": [
    "# Sparcity in %\n",
    "# User x item Matrix  \n",
    "matrix = pd.pivot_table(df_rec_sys, values='Quantity', index='CustomerID', columns='StockCode')\n",
    "\n",
    "# Group by InvoiceNo and calculate the number of appearances and the product of Quantity and UnitPrice\n",
    "df_interactions = df_rec_sys.groupby(['StockCode', 'CustomerID']).agg({'CustomerID': 'count'})\n",
    "\n",
    "# Rename the columns\n",
    "df_interactions.columns = ['NumberOrders']\n",
    "\n",
    "# Reset the index\n",
    "df_interactions.reset_index(inplace=True)\n",
    "\n",
    "# Sparcity in %\n",
    "print(\"Sparcity:\", 100-((df_interactions.shape[0] / (matrix.shape[0]*matrix.shape[1]))*100))\n",
    "print(\"Unique Transactions:\", df_interactions.shape[0])\n",
    "print(\"Potential Transactions:\", matrix.shape[0]*matrix.shape[1])\n",
    "print(\"Overall Transactions:\", df_rec_sys.shape[0])"
   ]
  },
  {
   "attachments": {},
   "cell_type": "markdown",
   "metadata": {},
   "source": [
    "# Descriptives: Orders, Users & Items"
   ]
  },
  {
   "attachments": {},
   "cell_type": "markdown",
   "metadata": {},
   "source": [
    "## Orders"
   ]
  },
  {
   "cell_type": "code",
   "execution_count": 128,
   "metadata": {},
   "outputs": [
    {
     "data": {
      "text/plain": [
       "Index(['InvoiceNo', 'StockCode', 'Quantity', 'InvoiceDate', 'DeliveryDate',\n",
       "       'Discount%', 'ShipMode', 'ShippingCost', 'CustomerID', 'Gender', 'Age',\n",
       "       'Income', 'Zipcode', 'Customer Segment', 'Product Name', 'Description',\n",
       "       'Category', 'Brand', 'Unit Price', 'Num_word_text', 'Num_word_cat'],\n",
       "      dtype='object')"
      ]
     },
     "execution_count": 128,
     "metadata": {},
     "output_type": "execute_result"
    }
   ],
   "source": [
    "df_rec_sys.columns"
   ]
  },
  {
   "cell_type": "code",
   "execution_count": 129,
   "metadata": {},
   "outputs": [
    {
     "data": {
      "text/html": [
       "<div>\n",
       "<style scoped>\n",
       "    .dataframe tbody tr th:only-of-type {\n",
       "        vertical-align: middle;\n",
       "    }\n",
       "\n",
       "    .dataframe tbody tr th {\n",
       "        vertical-align: top;\n",
       "    }\n",
       "\n",
       "    .dataframe thead th {\n",
       "        text-align: right;\n",
       "    }\n",
       "</style>\n",
       "<table border=\"1\" class=\"dataframe\">\n",
       "  <thead>\n",
       "    <tr style=\"text-align: right;\">\n",
       "      <th></th>\n",
       "      <th>InvoiceNo</th>\n",
       "      <th>NoItems</th>\n",
       "    </tr>\n",
       "  </thead>\n",
       "  <tbody>\n",
       "    <tr>\n",
       "      <th>0</th>\n",
       "      <td>536365</td>\n",
       "      <td>7</td>\n",
       "    </tr>\n",
       "    <tr>\n",
       "      <th>1</th>\n",
       "      <td>536366</td>\n",
       "      <td>1</td>\n",
       "    </tr>\n",
       "    <tr>\n",
       "      <th>2</th>\n",
       "      <td>536367</td>\n",
       "      <td>10</td>\n",
       "    </tr>\n",
       "    <tr>\n",
       "      <th>3</th>\n",
       "      <td>536368</td>\n",
       "      <td>4</td>\n",
       "    </tr>\n",
       "    <tr>\n",
       "      <th>4</th>\n",
       "      <td>536370</td>\n",
       "      <td>20</td>\n",
       "    </tr>\n",
       "  </tbody>\n",
       "</table>\n",
       "</div>"
      ],
      "text/plain": [
       "  InvoiceNo  NoItems\n",
       "0    536365        7\n",
       "1    536366        1\n",
       "2    536367       10\n",
       "3    536368        4\n",
       "4    536370       20"
      ]
     },
     "execution_count": 129,
     "metadata": {},
     "output_type": "execute_result"
    }
   ],
   "source": [
    "# Create DataFrame\n",
    "# Group by InvoiceNo and calculate the number of appearances and the product of Quantity and UnitPrice\n",
    "df_orders = df_rec_sys.groupby('InvoiceNo').agg({'InvoiceNo': 'count'})\n",
    "\n",
    "# Rename the columns\n",
    "df_orders.columns = ['NoItems']\n",
    "\n",
    "# Reset the index\n",
    "df_orders.reset_index(inplace=True)\n",
    "\n",
    "# Print the new dataframe\n",
    "df_orders.head()"
   ]
  },
  {
   "cell_type": "code",
   "execution_count": 130,
   "metadata": {},
   "outputs": [
    {
     "data": {
      "text/html": [
       "<div>\n",
       "<style scoped>\n",
       "    .dataframe tbody tr th:only-of-type {\n",
       "        vertical-align: middle;\n",
       "    }\n",
       "\n",
       "    .dataframe tbody tr th {\n",
       "        vertical-align: top;\n",
       "    }\n",
       "\n",
       "    .dataframe thead th {\n",
       "        text-align: right;\n",
       "    }\n",
       "</style>\n",
       "<table border=\"1\" class=\"dataframe\">\n",
       "  <thead>\n",
       "    <tr style=\"text-align: right;\">\n",
       "      <th></th>\n",
       "      <th>NoItems</th>\n",
       "    </tr>\n",
       "  </thead>\n",
       "  <tbody>\n",
       "    <tr>\n",
       "      <th>count</th>\n",
       "      <td>12310.00</td>\n",
       "    </tr>\n",
       "    <tr>\n",
       "      <th>mean</th>\n",
       "      <td>19.98</td>\n",
       "    </tr>\n",
       "    <tr>\n",
       "      <th>std</th>\n",
       "      <td>20.21</td>\n",
       "    </tr>\n",
       "    <tr>\n",
       "      <th>min</th>\n",
       "      <td>1.00</td>\n",
       "    </tr>\n",
       "    <tr>\n",
       "      <th>25%</th>\n",
       "      <td>7.00</td>\n",
       "    </tr>\n",
       "    <tr>\n",
       "      <th>50%</th>\n",
       "      <td>15.00</td>\n",
       "    </tr>\n",
       "    <tr>\n",
       "      <th>75%</th>\n",
       "      <td>26.00</td>\n",
       "    </tr>\n",
       "    <tr>\n",
       "      <th>max</th>\n",
       "      <td>391.00</td>\n",
       "    </tr>\n",
       "  </tbody>\n",
       "</table>\n",
       "</div>"
      ],
      "text/plain": [
       "       NoItems\n",
       "count 12310.00\n",
       "mean     19.98\n",
       "std      20.21\n",
       "min       1.00\n",
       "25%       7.00\n",
       "50%      15.00\n",
       "75%      26.00\n",
       "max     391.00"
      ]
     },
     "execution_count": 130,
     "metadata": {},
     "output_type": "execute_result"
    }
   ],
   "source": [
    "# Disable scientific notation\n",
    "pd.set_option('display.float_format', '{:.2f}'.format)\n",
    "df_orders.describe()"
   ]
  },
  {
   "cell_type": "code",
   "execution_count": 131,
   "metadata": {},
   "outputs": [
    {
     "name": "stdout",
     "output_type": "stream",
     "text": [
      "mode: 1\n",
      "1 item in 773 cases\n"
     ]
    }
   ],
   "source": [
    "# Additional descriptives\n",
    "print(\"mode:\", df_orders.NoItems.mode()[0])\n",
    "print(\"1 item in\", len(df_orders[df_orders['NoItems']==1]), \"cases\")"
   ]
  },
  {
   "cell_type": "code",
   "execution_count": 132,
   "metadata": {},
   "outputs": [
    {
     "data": {
      "image/png": "[encoded data removed]",
      "text/plain": [
       "<Figure size 600x300 with 1 Axes>"
      ]
     },
     "metadata": {},
     "output_type": "display_data"
    }
   ],
   "source": [
    "# Visualization of Order Volumes \n",
    "# Histogram \n",
    "\n",
    "# Set Figure Size \n",
    "plt.rcParams[\"figure.figsize\"] = (6,3)\n",
    "\n",
    "# Define feature column\n",
    "feature = df_orders['NoItems']\n",
    "\n",
    "# Plot the histogram   \n",
    "plt.hist(feature, bins=100)\n",
    "plt.ylabel('Frequency', fontname='Arial')\n",
    "plt.xlabel('Number of Unique Items per Order', fontname='Arial')\n",
    "plt.ticklabel_format(useOffset=False, style='plain')\n",
    "\n",
    "# Add lines for the mean, median, mode, min and max\n",
    "plt.axvline(feature.mean(), color='magenta', linestyle='dashed', linewidth=1)\n",
    "plt.axvline(feature.median(), color='cyan', linestyle='dashed', linewidth=1)\n",
    "plt.axvline(feature.max(), color = 'gray', linestyle='dashed', linewidth = 1)\n",
    "\n",
    "\n",
    "\n",
    "# Show the figure\n",
    "plt.show()"
   ]
  },
  {
   "attachments": {},
   "cell_type": "markdown",
   "metadata": {},
   "source": [
    "# Pseudo-Rating Potentials"
   ]
  },
  {
   "attachments": {},
   "cell_type": "markdown",
   "metadata": {},
   "source": [
    "## Number of Items per User"
   ]
  },
  {
   "cell_type": "code",
   "execution_count": 133,
   "metadata": {},
   "outputs": [
    {
     "data": {
      "text/html": [
       "<div>\n",
       "<style scoped>\n",
       "    .dataframe tbody tr th:only-of-type {\n",
       "        vertical-align: middle;\n",
       "    }\n",
       "\n",
       "    .dataframe tbody tr th {\n",
       "        vertical-align: top;\n",
       "    }\n",
       "\n",
       "    .dataframe thead th {\n",
       "        text-align: right;\n",
       "    }\n",
       "</style>\n",
       "<table border=\"1\" class=\"dataframe\">\n",
       "  <thead>\n",
       "    <tr style=\"text-align: right;\">\n",
       "      <th></th>\n",
       "      <th>CustomerID</th>\n",
       "      <th>NumberItems</th>\n",
       "    </tr>\n",
       "  </thead>\n",
       "  <tbody>\n",
       "    <tr>\n",
       "      <th>0</th>\n",
       "      <td>12347</td>\n",
       "      <td>102</td>\n",
       "    </tr>\n",
       "    <tr>\n",
       "      <th>1</th>\n",
       "      <td>12348</td>\n",
       "      <td>31</td>\n",
       "    </tr>\n",
       "    <tr>\n",
       "      <th>2</th>\n",
       "      <td>12350</td>\n",
       "      <td>17</td>\n",
       "    </tr>\n",
       "    <tr>\n",
       "      <th>3</th>\n",
       "      <td>12352</td>\n",
       "      <td>64</td>\n",
       "    </tr>\n",
       "    <tr>\n",
       "      <th>4</th>\n",
       "      <td>12354</td>\n",
       "      <td>52</td>\n",
       "    </tr>\n",
       "  </tbody>\n",
       "</table>\n",
       "</div>"
      ],
      "text/plain": [
       "  CustomerID  NumberItems\n",
       "0      12347          102\n",
       "1      12348           31\n",
       "2      12350           17\n",
       "3      12352           64\n",
       "4      12354           52"
      ]
     },
     "execution_count": 133,
     "metadata": {},
     "output_type": "execute_result"
    }
   ],
   "source": [
    "# Create DataFrmmae\n",
    "# Group by InvoiceNo and calculate the number of appearances and the product of Quantity and UnitPrice\n",
    "df_users = df_rec_sys.groupby('CustomerID').agg({'CustomerID': 'count'})\n",
    "\n",
    "# Rename the columns\n",
    "df_users.columns = ['NumberItems']\n",
    "\n",
    "# Reset the index\n",
    "df_users.reset_index(inplace=True)\n",
    "\n",
    "df_users.head()"
   ]
  },
  {
   "cell_type": "code",
   "execution_count": 134,
   "metadata": {},
   "outputs": [
    {
     "data": {
      "text/html": [
       "<div>\n",
       "<style scoped>\n",
       "    .dataframe tbody tr th:only-of-type {\n",
       "        vertical-align: middle;\n",
       "    }\n",
       "\n",
       "    .dataframe tbody tr th {\n",
       "        vertical-align: top;\n",
       "    }\n",
       "\n",
       "    .dataframe thead th {\n",
       "        text-align: right;\n",
       "    }\n",
       "</style>\n",
       "<table border=\"1\" class=\"dataframe\">\n",
       "  <thead>\n",
       "    <tr style=\"text-align: right;\">\n",
       "      <th></th>\n",
       "      <th>NumberItems</th>\n",
       "    </tr>\n",
       "  </thead>\n",
       "  <tbody>\n",
       "    <tr>\n",
       "      <th>count</th>\n",
       "      <td>3011.00</td>\n",
       "    </tr>\n",
       "    <tr>\n",
       "      <th>mean</th>\n",
       "      <td>81.67</td>\n",
       "    </tr>\n",
       "    <tr>\n",
       "      <th>std</th>\n",
       "      <td>159.17</td>\n",
       "    </tr>\n",
       "    <tr>\n",
       "      <th>min</th>\n",
       "      <td>10.00</td>\n",
       "    </tr>\n",
       "    <tr>\n",
       "      <th>25%</th>\n",
       "      <td>22.00</td>\n",
       "    </tr>\n",
       "    <tr>\n",
       "      <th>50%</th>\n",
       "      <td>43.00</td>\n",
       "    </tr>\n",
       "    <tr>\n",
       "      <th>75%</th>\n",
       "      <td>90.00</td>\n",
       "    </tr>\n",
       "    <tr>\n",
       "      <th>max</th>\n",
       "      <td>4635.00</td>\n",
       "    </tr>\n",
       "  </tbody>\n",
       "</table>\n",
       "</div>"
      ],
      "text/plain": [
       "       NumberItems\n",
       "count      3011.00\n",
       "mean         81.67\n",
       "std         159.17\n",
       "min          10.00\n",
       "25%          22.00\n",
       "50%          43.00\n",
       "75%          90.00\n",
       "max        4635.00"
      ]
     },
     "execution_count": 134,
     "metadata": {},
     "output_type": "execute_result"
    }
   ],
   "source": [
    "# Describe the Dataset\n",
    "df_users.describe()"
   ]
  },
  {
   "cell_type": "code",
   "execution_count": 135,
   "metadata": {},
   "outputs": [
    {
     "data": {
      "text/plain": [
       "256.0"
      ]
     },
     "execution_count": 135,
     "metadata": {},
     "output_type": "execute_result"
    }
   ],
   "source": [
    "df_users.NumberItems.quantile(0.95)"
   ]
  },
  {
   "cell_type": "code",
   "execution_count": 136,
   "metadata": {},
   "outputs": [
    {
     "data": {
      "image/png": "[encoded data removed]",
      "text/plain": [
       "<Figure size 600x300 with 1 Axes>"
      ]
     },
     "metadata": {},
     "output_type": "display_data"
    }
   ],
   "source": [
    "# Define Figure Size\n",
    "plt.rcParams[\"figure.figsize\"] = (6,3)\n",
    "# Choose \n",
    "df_user_hist = df_users[df_users['NumberItems']<256]\n",
    "plt.hist(df_user_hist.NumberItems, bins=50)\n",
    "#plt.axvline(250, color = 'lime', linestyle='dashed', linewidth = 1)\n",
    "plt.axvline(df_users.NumberItems.median(), color = 'red', linestyle='dashed', linewidth = 1)\n",
    "#plt.axvline(df_users.NumberItems.quantile(0.78), color = 'red', linestyle='dashed', linewidth = 1)\n",
    "plt.axvline(df_users.NumberItems.mean(), color = 'blue', linestyle='dashed', linewidth = 1)\n",
    "plt.title('Number of Purchased Items per Customer up until the 95th Percentile', fontname='Arial')\n",
    "plt.show()"
   ]
  },
  {
   "attachments": {},
   "cell_type": "markdown",
   "metadata": {},
   "source": [
    "## Confidence: Re-bought Items"
   ]
  },
  {
   "cell_type": "code",
   "execution_count": 137,
   "metadata": {},
   "outputs": [
    {
     "data": {
      "text/html": [
       "<div>\n",
       "<style scoped>\n",
       "    .dataframe tbody tr th:only-of-type {\n",
       "        vertical-align: middle;\n",
       "    }\n",
       "\n",
       "    .dataframe tbody tr th {\n",
       "        vertical-align: top;\n",
       "    }\n",
       "\n",
       "    .dataframe thead th {\n",
       "        text-align: right;\n",
       "    }\n",
       "</style>\n",
       "<table border=\"1\" class=\"dataframe\">\n",
       "  <thead>\n",
       "    <tr style=\"text-align: right;\">\n",
       "      <th></th>\n",
       "      <th>StockCode</th>\n",
       "      <th>CustomerID</th>\n",
       "      <th>NumberOrders</th>\n",
       "    </tr>\n",
       "  </thead>\n",
       "  <tbody>\n",
       "    <tr>\n",
       "      <th>0</th>\n",
       "      <td>10002</td>\n",
       "      <td>12451</td>\n",
       "      <td>1</td>\n",
       "    </tr>\n",
       "    <tr>\n",
       "      <th>1</th>\n",
       "      <td>10002</td>\n",
       "      <td>12510</td>\n",
       "      <td>1</td>\n",
       "    </tr>\n",
       "    <tr>\n",
       "      <th>2</th>\n",
       "      <td>10002</td>\n",
       "      <td>12583</td>\n",
       "      <td>1</td>\n",
       "    </tr>\n",
       "    <tr>\n",
       "      <th>3</th>\n",
       "      <td>10002</td>\n",
       "      <td>12637</td>\n",
       "      <td>1</td>\n",
       "    </tr>\n",
       "    <tr>\n",
       "      <th>4</th>\n",
       "      <td>10002</td>\n",
       "      <td>12673</td>\n",
       "      <td>1</td>\n",
       "    </tr>\n",
       "  </tbody>\n",
       "</table>\n",
       "</div>"
      ],
      "text/plain": [
       "  StockCode CustomerID  NumberOrders\n",
       "0     10002      12451             1\n",
       "1     10002      12510             1\n",
       "2     10002      12583             1\n",
       "3     10002      12637             1\n",
       "4     10002      12673             1"
      ]
     },
     "execution_count": 137,
     "metadata": {},
     "output_type": "execute_result"
    }
   ],
   "source": [
    "# Create DataFrmmae\n",
    "# Group by InvoiceNo and calculate the number of appearances and the product of Quantity and UnitPrice\n",
    "df_rebought = df_rec_sys.groupby(['StockCode', 'CustomerID']).agg({'CustomerID': 'count'})\n",
    "\n",
    "# Rename the columns\n",
    "df_rebought.columns = ['NumberOrders']\n",
    "\n",
    "# Reset the index\n",
    "df_rebought.reset_index(inplace=True)\n",
    "\n",
    "df_rebought.head()"
   ]
  },
  {
   "cell_type": "code",
   "execution_count": 138,
   "metadata": {},
   "outputs": [
    {
     "data": {
      "text/html": [
       "<div>\n",
       "<style scoped>\n",
       "    .dataframe tbody tr th:only-of-type {\n",
       "        vertical-align: middle;\n",
       "    }\n",
       "\n",
       "    .dataframe tbody tr th {\n",
       "        vertical-align: top;\n",
       "    }\n",
       "\n",
       "    .dataframe thead th {\n",
       "        text-align: right;\n",
       "    }\n",
       "</style>\n",
       "<table border=\"1\" class=\"dataframe\">\n",
       "  <thead>\n",
       "    <tr style=\"text-align: right;\">\n",
       "      <th></th>\n",
       "      <th>NumberOrders</th>\n",
       "    </tr>\n",
       "  </thead>\n",
       "  <tbody>\n",
       "    <tr>\n",
       "      <th>count</th>\n",
       "      <td>172701.00</td>\n",
       "    </tr>\n",
       "    <tr>\n",
       "      <th>mean</th>\n",
       "      <td>1.42</td>\n",
       "    </tr>\n",
       "    <tr>\n",
       "      <th>std</th>\n",
       "      <td>1.18</td>\n",
       "    </tr>\n",
       "    <tr>\n",
       "      <th>min</th>\n",
       "      <td>1.00</td>\n",
       "    </tr>\n",
       "    <tr>\n",
       "      <th>25%</th>\n",
       "      <td>1.00</td>\n",
       "    </tr>\n",
       "    <tr>\n",
       "      <th>50%</th>\n",
       "      <td>1.00</td>\n",
       "    </tr>\n",
       "    <tr>\n",
       "      <th>75%</th>\n",
       "      <td>1.00</td>\n",
       "    </tr>\n",
       "    <tr>\n",
       "      <th>max</th>\n",
       "      <td>58.00</td>\n",
       "    </tr>\n",
       "  </tbody>\n",
       "</table>\n",
       "</div>"
      ],
      "text/plain": [
       "       NumberOrders\n",
       "count     172701.00\n",
       "mean           1.42\n",
       "std            1.18\n",
       "min            1.00\n",
       "25%            1.00\n",
       "50%            1.00\n",
       "75%            1.00\n",
       "max           58.00"
      ]
     },
     "execution_count": 138,
     "metadata": {},
     "output_type": "execute_result"
    }
   ],
   "source": [
    "# Descriptive Statistics\n",
    "df_rebought.describe()"
   ]
  },
  {
   "cell_type": "code",
   "execution_count": 139,
   "metadata": {},
   "outputs": [
    {
     "data": {
      "text/plain": [
       "39191"
      ]
     },
     "execution_count": 139,
     "metadata": {},
     "output_type": "execute_result"
    }
   ],
   "source": [
    "# How Often more than once\n",
    "len(df_rebought[df_rebought['NumberOrders']>1])"
   ]
  },
  {
   "cell_type": "code",
   "execution_count": 140,
   "metadata": {},
   "outputs": [
    {
     "data": {
      "text/plain": [
       "133510"
      ]
     },
     "execution_count": 140,
     "metadata": {},
     "output_type": "execute_result"
    }
   ],
   "source": [
    "# How Often just once\n",
    "len(df_rebought[df_rebought['NumberOrders']==1])"
   ]
  },
  {
   "cell_type": "code",
   "execution_count": 141,
   "metadata": {},
   "outputs": [
    {
     "data": {
      "image/png": "[encoded data removed]",
      "text/plain": [
       "<Figure size 800x400 with 1 Axes>"
      ]
     },
     "metadata": {},
     "output_type": "display_data"
    }
   ],
   "source": [
    "# Define Figure Size\n",
    "plt.rcParams[\"figure.figsize\"] = (8,4)\n",
    "\n",
    "# Define the category ranges\n",
    "bins = [0, 1,2, 5, 10, 20, np.inf]\n",
    "\n",
    "# Assign labels for each category\n",
    "labels = ['1', '2','3-5', '6-10', '11-20', 'Above 20']\n",
    "\n",
    "# Use the pandas 'cut' function to assign categories to each value in the 'numerical_feature' column\n",
    "df_rebought['category'] = pd.cut(df_rebought['NumberOrders'], bins=bins, labels=labels)\n",
    "\n",
    "# Count the number of occurrences in each category\n",
    "counts = df_rebought['category'].value_counts().sort_index()\n",
    "\n",
    "# Prepare the data for the bar plot\n",
    "categories = np.arange(len(labels))\n",
    "\n",
    "# Create the bar plot\n",
    "bars = plt.bar(categories, counts)\n",
    "\n",
    "# Set the y-axis labels\n",
    "plt.xticks(categories, labels=labels)\n",
    "\n",
    "# Add counts on top of each bar\n",
    "for i, bar in enumerate(bars):\n",
    "    plt.text(\n",
    "        bar.get_x() + bar.get_width() / 2,\n",
    "        bar.get_height(),\n",
    "        counts[i],\n",
    "        ha='center',\n",
    "        va='bottom',\n",
    "    )\n",
    "    \n",
    "#plt.title('How many times did users buy the same item?',fontname='Arial')\n",
    "plt.xlabel('Frequency Categories',fontname='Arial')\n",
    "plt.ylabel('Count',fontname='Arial')\n",
    "\n",
    "# Display the plot\n",
    "plt.show()"
   ]
  },
  {
   "attachments": {},
   "cell_type": "markdown",
   "metadata": {},
   "source": [
    "## Popular Items"
   ]
  },
  {
   "cell_type": "code",
   "execution_count": 142,
   "metadata": {},
   "outputs": [
    {
     "data": {
      "text/html": [
       "<div>\n",
       "<style scoped>\n",
       "    .dataframe tbody tr th:only-of-type {\n",
       "        vertical-align: middle;\n",
       "    }\n",
       "\n",
       "    .dataframe tbody tr th {\n",
       "        vertical-align: top;\n",
       "    }\n",
       "\n",
       "    .dataframe thead th {\n",
       "        text-align: right;\n",
       "    }\n",
       "</style>\n",
       "<table border=\"1\" class=\"dataframe\">\n",
       "  <thead>\n",
       "    <tr style=\"text-align: right;\">\n",
       "      <th></th>\n",
       "      <th>StockCode</th>\n",
       "      <th>NumberOrders</th>\n",
       "    </tr>\n",
       "  </thead>\n",
       "  <tbody>\n",
       "    <tr>\n",
       "      <th>2294</th>\n",
       "      <td>85123A</td>\n",
       "      <td>1565</td>\n",
       "    </tr>\n",
       "    <tr>\n",
       "      <th>946</th>\n",
       "      <td>22423</td>\n",
       "      <td>1318</td>\n",
       "    </tr>\n",
       "    <tr>\n",
       "      <th>1866</th>\n",
       "      <td>47566</td>\n",
       "      <td>1195</td>\n",
       "    </tr>\n",
       "    <tr>\n",
       "      <th>2290</th>\n",
       "      <td>85099B</td>\n",
       "      <td>1184</td>\n",
       "    </tr>\n",
       "    <tr>\n",
       "      <th>1965</th>\n",
       "      <td>84879</td>\n",
       "      <td>1008</td>\n",
       "    </tr>\n",
       "  </tbody>\n",
       "</table>\n",
       "</div>"
      ],
      "text/plain": [
       "     StockCode  NumberOrders\n",
       "2294    85123A          1565\n",
       "946      22423          1318\n",
       "1866     47566          1195\n",
       "2290    85099B          1184\n",
       "1965     84879          1008"
      ]
     },
     "execution_count": 142,
     "metadata": {},
     "output_type": "execute_result"
    }
   ],
   "source": [
    "# Create DataFrmmae\n",
    "# Group by InvoiceNo and calculate the number of appearances and the product of Quantity and UnitPrice\n",
    "df_items = df_rec_sys.groupby('StockCode').agg({'StockCode': 'count'})\n",
    "\n",
    "# Rename the columns\n",
    "df_items.columns = ['NumberOrders']\n",
    "\n",
    "# Reset the index\n",
    "df_items.reset_index(inplace=True)\n",
    "\n",
    "# Show Head\n",
    "df_items.sort_values(by='NumberOrders', ascending=False).head()\n"
   ]
  },
  {
   "cell_type": "code",
   "execution_count": 143,
   "metadata": {},
   "outputs": [
    {
     "data": {
      "text/html": [
       "<div>\n",
       "<style scoped>\n",
       "    .dataframe tbody tr th:only-of-type {\n",
       "        vertical-align: middle;\n",
       "    }\n",
       "\n",
       "    .dataframe tbody tr th {\n",
       "        vertical-align: top;\n",
       "    }\n",
       "\n",
       "    .dataframe thead th {\n",
       "        text-align: right;\n",
       "    }\n",
       "</style>\n",
       "<table border=\"1\" class=\"dataframe\">\n",
       "  <thead>\n",
       "    <tr style=\"text-align: right;\">\n",
       "      <th></th>\n",
       "      <th>NumberOrders</th>\n",
       "    </tr>\n",
       "  </thead>\n",
       "  <tbody>\n",
       "    <tr>\n",
       "      <th>count</th>\n",
       "      <td>2349.00</td>\n",
       "    </tr>\n",
       "    <tr>\n",
       "      <th>mean</th>\n",
       "      <td>104.68</td>\n",
       "    </tr>\n",
       "    <tr>\n",
       "      <th>std</th>\n",
       "      <td>131.71</td>\n",
       "    </tr>\n",
       "    <tr>\n",
       "      <th>min</th>\n",
       "      <td>10.00</td>\n",
       "    </tr>\n",
       "    <tr>\n",
       "      <th>25%</th>\n",
       "      <td>28.00</td>\n",
       "    </tr>\n",
       "    <tr>\n",
       "      <th>50%</th>\n",
       "      <td>59.00</td>\n",
       "    </tr>\n",
       "    <tr>\n",
       "      <th>75%</th>\n",
       "      <td>125.00</td>\n",
       "    </tr>\n",
       "    <tr>\n",
       "      <th>max</th>\n",
       "      <td>1565.00</td>\n",
       "    </tr>\n",
       "  </tbody>\n",
       "</table>\n",
       "</div>"
      ],
      "text/plain": [
       "       NumberOrders\n",
       "count       2349.00\n",
       "mean         104.68\n",
       "std          131.71\n",
       "min           10.00\n",
       "25%           28.00\n",
       "50%           59.00\n",
       "75%          125.00\n",
       "max         1565.00"
      ]
     },
     "execution_count": 143,
     "metadata": {},
     "output_type": "execute_result"
    }
   ],
   "source": [
    "df_items.describe()"
   ]
  },
  {
   "cell_type": "code",
   "execution_count": 144,
   "metadata": {},
   "outputs": [
    {
     "data": {
      "image/png": "[encoded data removed]",
      "text/plain": [
       "<Figure size 600x300 with 1 Axes>"
      ]
     },
     "metadata": {},
     "output_type": "display_data"
    }
   ],
   "source": [
    "# Visualization Threshold\n",
    "# Define feature column\n",
    "feature = df_items['NumberOrders']\n",
    "\n",
    "plt.rcParams[\"figure.figsize\"] = (6,3)\n",
    "plt.hist(feature, bins=100)\n",
    "plt.ylabel('Frequency', fontname='Arial')\n",
    "plt.xlabel('Number of Orders per Item', fontname='Arial')\n",
    "plt.axvline(feature.quantile(.98), color = 'red', linestyle='dashed', linewidth = 1)\n",
    "#plt.xlim([0,9])\n",
    "plt.show()"
   ]
  },
  {
   "cell_type": "code",
   "execution_count": 178,
   "metadata": {},
   "outputs": [
    {
     "data": {
      "text/plain": [
       "Product Name\n",
       "Mediven Sheer and Soft 15-20 mmHg Thigh w/ Lace Silicone Top Band CT Wheat II - Ankle 8-8.75 inches                      7809\n",
       "3 1/2\"W x 20\"D x 20\"H Funston Craftsman Smooth Bracket, Douglas Fir                                                      6875\n",
       "MightySkins Skin Decal Wrap Compatible with Apple Sticker Protective Cover 100's of Color Options                        6850\n",
       "Handcrafted Ercolano Music Box Featuring \"Luncheon of the Boating Party\" by Renoir, Pierre Auguste - New YorkNew York    6409\n",
       "MightySkins Skin Decal Wrap Compatible with Lenovo Sticker Protective Cover 100's of Color Options                       5268\n",
       "dtype: int64"
      ]
     },
     "execution_count": 178,
     "metadata": {},
     "output_type": "execute_result"
    }
   ],
   "source": [
    "# Sort values in descending order \n",
    "top_10_desc = df_rec_sys.groupby(by='Product Name').size().sort_values(ascending=False).head(5)\n",
    "top_10_desc"
   ]
  },
  {
   "cell_type": "code",
   "execution_count": 176,
   "metadata": {},
   "outputs": [
    {
     "data": {
      "image/png": "[encoded data removed]",
      "text/plain": [
       "<Figure size 1600x800 with 1 Axes>"
      ]
     },
     "metadata": {},
     "output_type": "display_data"
    }
   ],
   "source": [
    "import matplotlib.pyplot as plt\n",
    "import textwrap\n",
    "\n",
    "# Define Figure Size\n",
    "plt.rcParams[\"figure.figsize\"] = (16, 8)\n",
    "\n",
    "# Sort values in descending order \n",
    "top_10_desc = df_rec_sys.groupby(by='Product Name').size().sort_values(ascending=False).head(5)\n",
    "\n",
    "# Wrap long product names into multiple lines\n",
    "wrapped_names = [textwrap.fill(name, width=30) for name in top_10_desc.index]\n",
    "\n",
    "# Create a horizontal bar chart\n",
    "fig, ax = plt.subplots()\n",
    "ax.barh(wrapped_names, top_10_desc.values)\n",
    "\n",
    "# Display the unique customer count at the end of each bar\n",
    "for i, (name, count) in enumerate(zip(wrapped_names, top_10_desc.values)):\n",
    "    ax.text(count, i, f'{count}', ha='left', va='center')\n",
    "\n",
    "# Set labels and title\n",
    "ax.set_xlabel('Number of Sales')\n",
    "ax.set_ylabel('Product Names')\n",
    "ax.set_title('Top 5 Sold Articles by Product Name')\n",
    "\n",
    "# Increase the fontsize of the y-axis labels\n",
    "ax.tick_params(axis='y', labelsize=12)\n",
    "\n",
    "# Show the plot\n",
    "plt.show()\n"
   ]
  },
  {
   "cell_type": "code",
   "execution_count": null,
   "metadata": {},
   "outputs": [
    {
     "data": {
      "text/html": [
       "<div>\n",
       "<style scoped>\n",
       "    .dataframe tbody tr th:only-of-type {\n",
       "        vertical-align: middle;\n",
       "    }\n",
       "\n",
       "    .dataframe tbody tr th {\n",
       "        vertical-align: top;\n",
       "    }\n",
       "\n",
       "    .dataframe thead th {\n",
       "        text-align: right;\n",
       "    }\n",
       "</style>\n",
       "<table border=\"1\" class=\"dataframe\">\n",
       "  <thead>\n",
       "    <tr style=\"text-align: right;\">\n",
       "      <th></th>\n",
       "      <th>StockCode</th>\n",
       "      <th>CustomerID</th>\n",
       "      <th>NumberOrders</th>\n",
       "    </tr>\n",
       "  </thead>\n",
       "  <tbody>\n",
       "    <tr>\n",
       "      <th>0</th>\n",
       "      <td>0</td>\n",
       "      <td>1135</td>\n",
       "      <td>1</td>\n",
       "    </tr>\n",
       "    <tr>\n",
       "      <th>1</th>\n",
       "      <td>0</td>\n",
       "      <td>132</td>\n",
       "      <td>1</td>\n",
       "    </tr>\n",
       "    <tr>\n",
       "      <th>2</th>\n",
       "      <td>0</td>\n",
       "      <td>1420</td>\n",
       "      <td>1</td>\n",
       "    </tr>\n",
       "    <tr>\n",
       "      <th>3</th>\n",
       "      <td>0</td>\n",
       "      <td>1614</td>\n",
       "      <td>1</td>\n",
       "    </tr>\n",
       "    <tr>\n",
       "      <th>4</th>\n",
       "      <td>0</td>\n",
       "      <td>1754</td>\n",
       "      <td>4</td>\n",
       "    </tr>\n",
       "  </tbody>\n",
       "</table>\n",
       "</div>"
      ],
      "text/plain": [
       "  StockCode CustomerID  NumberOrders\n",
       "0         0       1135             1\n",
       "1         0        132             1\n",
       "2         0       1420             1\n",
       "3         0       1614             1\n",
       "4         0       1754             4"
      ]
     },
     "metadata": {},
     "output_type": "display_data"
    }
   ],
   "source": [
    "# Create DataFrmmae\n",
    "# Group by InvoiceNo and calculate the number of appearances and the product of Quantity and UnitPrice\n",
    "df_rebought = df_online_retail.groupby(['StockCode', 'CustomerID']).agg({'CustomerID': 'count'})\n",
    "\n",
    "# Rename the columns\n",
    "df_rebought.columns = ['NumberOrders']\n",
    "\n",
    "# Reset the index\n",
    "df_rebought.reset_index(inplace=True)\n",
    "\n",
    "df_rebought.head()"
   ]
  },
  {
   "attachments": {},
   "cell_type": "markdown",
   "metadata": {},
   "source": [
    "### Popularity Thresholds"
   ]
  },
  {
   "cell_type": "code",
   "execution_count": 147,
   "metadata": {},
   "outputs": [
    {
     "data": {
      "text/plain": [
       "534.0"
      ]
     },
     "execution_count": 147,
     "metadata": {},
     "output_type": "execute_result"
    }
   ],
   "source": [
    "df_items.NumberOrders.quantile(0.98)"
   ]
  },
  {
   "cell_type": "code",
   "execution_count": 148,
   "metadata": {},
   "outputs": [
    {
     "data": {
      "text/plain": [
       "48"
      ]
     },
     "execution_count": 148,
     "metadata": {},
     "output_type": "execute_result"
    }
   ],
   "source": [
    "# Number of Items above 98\n",
    "len(df_items[df_items['NumberOrders']>=df_items.NumberOrders.quantile(0.98)])"
   ]
  },
  {
   "cell_type": "code",
   "execution_count": 149,
   "metadata": {},
   "outputs": [
    {
     "data": {
      "text/plain": [
       "353.5999999999999"
      ]
     },
     "execution_count": 149,
     "metadata": {},
     "output_type": "execute_result"
    }
   ],
   "source": [
    "df_items.NumberOrders.quantile(0.95)"
   ]
  },
  {
   "cell_type": "code",
   "execution_count": 150,
   "metadata": {},
   "outputs": [
    {
     "data": {
      "text/plain": [
       "118"
      ]
     },
     "execution_count": 150,
     "metadata": {},
     "output_type": "execute_result"
    }
   ],
   "source": [
    "# Number of Items above 98\n",
    "len(df_items[df_items['NumberOrders']>=df_items.NumberOrders.quantile(0.95)])"
   ]
  },
  {
   "cell_type": "code",
   "execution_count": 183,
   "metadata": {},
   "outputs": [
    {
     "data": {
      "image/png": "[encoded data removed]",
      "text/plain": [
       "<Figure size 600x300 with 1 Axes>"
      ]
     },
     "metadata": {},
     "output_type": "display_data"
    }
   ],
   "source": [
    "# Visualization Threshold\n",
    "# Define feature column\n",
    "feature = df_items['NumberOrders']\n",
    "\n",
    "plt.rcParams[\"figure.figsize\"] = (6,3)\n",
    "plt.hist(feature, bins=100)\n",
    "plt.ylabel('Frequency', fontname='Arial')\n",
    "plt.xlabel('Number of Orders per Item', fontname='Arial')\n",
    "plt.axvline(feature.quantile(.98), color = 'red', linestyle='dashed', linewidth = 1)\n",
    "plt.axvline(feature.quantile(.95), color = 'blue', linestyle='dashed', linewidth = 1)\n",
    "#plt.xlim([0,9])\n",
    "plt.show()"
   ]
  },
  {
   "cell_type": "code",
   "execution_count": 151,
   "metadata": {},
   "outputs": [
    {
     "name": "stderr",
     "output_type": "stream",
     "text": [
      "/var/folders/bs/ht_t1wp94tl3wt5xhchcxq2m0000gn/T/ipykernel_89484/3838403192.py:31: UserWarning: Matplotlib is currently using module://matplotlib_inline.backend_inline, which is a non-GUI backend, so cannot show the figure.\n",
      "  fig.show()\n"
     ]
    },
    {
     "data": {
      "image/png": "[encoded data removed]",
      "text/plain": [
       "<Figure size 1200x400 with 2 Axes>"
      ]
     },
     "metadata": {},
     "output_type": "display_data"
    }
   ],
   "source": [
    "# Visualization of Item Purchase Frequency \n",
    "# Histogram & Boxplot\n",
    "\n",
    "# Define feature column\n",
    "feature = df_items['NumberOrders']\n",
    "\n",
    "# Create a figure for 2 subplots (2 rows, 1 column)\n",
    "fig, ax = plt.subplots(1, 2, figsize = (12,4))\n",
    "\n",
    "\n",
    "# Plot the histogram   \n",
    "ax[0].hist(feature, bins=100)\n",
    "ax[0].set_ylabel('Frequency', fontname='Arial')\n",
    "ax[0].set_xlabel('Number of Orders per Item', fontname='Arial')\n",
    "ax[0].ticklabel_format(useOffset=False, style='plain')\n",
    "\n",
    "# Add lines for the mean, median, mode, min and max\n",
    "ax[0].axvline(feature.median(), color='cyan', linestyle='dashed', linewidth=1)\n",
    "ax[0].axvline(feature.mean(), color = 'magenta', linestyle='dashed', linewidth = 1)\n",
    "\n",
    "# Plot the boxplot   \n",
    "ax[1].boxplot(feature, vert=False)\n",
    "ax[1].set_xlabel('Number of Orders per Item', fontname='Arial')\n",
    "ax[1].axvline(feature.median(), color='cyan', linestyle='dashed', linewidth=1)\n",
    "ax[1].axvline(feature.mean(), color = 'magenta', linestyle='dashed', linewidth = 1)\n",
    "\n",
    "# Add a title to the Figure\n",
    "#fig.suptitle('Popular Items',fontname='Arial')\n",
    "\n",
    "# Show the figure\n",
    "fig.show()"
   ]
  },
  {
   "attachments": {},
   "cell_type": "markdown",
   "metadata": {},
   "source": [
    "# Final Cleaned Dataset"
   ]
  },
  {
   "cell_type": "code",
   "execution_count": 152,
   "metadata": {},
   "outputs": [
    {
     "data": {
      "text/plain": [
       "(245898, 21)"
      ]
     },
     "execution_count": 152,
     "metadata": {},
     "output_type": "execute_result"
    }
   ],
   "source": [
    "df_rec_sys.shape"
   ]
  },
  {
   "cell_type": "code",
   "execution_count": 153,
   "metadata": {},
   "outputs": [],
   "source": [
    "df_rec_sys.to_csv('../00_Data/Rec_Sys_precleaned.csv')"
   ]
  }
 ],
 "metadata": {
  "kernelspec": {
   "display_name": "recom",
   "language": "python",
   "name": "python3"
  },
  "language_info": {
   "codemirror_mode": {
    "name": "ipython",
    "version": 3
   },
   "file_extension": ".py",
   "mimetype": "text/x-python",
   "name": "python",
   "nbconvert_exporter": "python",
   "pygments_lexer": "ipython3",
   "version": "3.9.16"
  },
  "orig_nbformat": 4,
  "vscode": {
   "interpreter": {
    "hash": "17afcd9f6960de0a3656d2c4c5dd434deed0eab3cd38c55c3169df3bef50250d"
   }
  }
 },
 "nbformat": 4,
 "nbformat_minor": 2
}
