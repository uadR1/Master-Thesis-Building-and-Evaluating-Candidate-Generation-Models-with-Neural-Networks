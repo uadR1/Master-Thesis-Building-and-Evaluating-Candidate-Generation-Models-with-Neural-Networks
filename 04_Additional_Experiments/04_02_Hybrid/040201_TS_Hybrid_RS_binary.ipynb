{
 "cells": [
  {
   "attachments": {},
   "cell_type": "markdown",
   "metadata": {},
   "source": [
    "# Import Libraries"
   ]
  },
  {
   "cell_type": "code",
   "execution_count": 1,
   "metadata": {},
   "outputs": [
    {
     "name": "stdout",
     "output_type": "stream",
     "text": [
      "Intel MKL WARNING: Support of Intel(R) Streaming SIMD Extensions 4.2 (Intel(R) SSE4.2) enabled only processors has been deprecated. Intel oneAPI Math Kernel Library 2025.0 will require Intel(R) Advanced Vector Extensions (Intel(R) AVX) instructions.\n",
      "Intel MKL WARNING: Support of Intel(R) Streaming SIMD Extensions 4.2 (Intel(R) SSE4.2) enabled only processors has been deprecated. Intel oneAPI Math Kernel Library 2025.0 will require Intel(R) Advanced Vector Extensions (Intel(R) AVX) instructions.\n"
     ]
    },
    {
     "name": "stderr",
     "output_type": "stream",
     "text": [
      "2023-07-06 11:26:46.045505: I tensorflow/core/platform/cpu_feature_guard.cc:182] This TensorFlow binary is optimized to use available CPU instructions in performance-critical operations.\n",
      "To enable the following instructions: SSE4.1 SSE4.2, in other operations, rebuild TensorFlow with the appropriate compiler flags.\n"
     ]
    }
   ],
   "source": [
    "# Pandas & Numpy \n",
    "import pandas as pd\n",
    "import numpy as np\n",
    "\n",
    "# Tensorflow\n",
    "import tensorflow as tf\n",
    "import tensorflow_recommenders as tfrs\n",
    "\n",
    "tf.compat.v1.enable_eager_execution()\n",
    "\n",
    "# Types\n",
    "from typing import Dict, Text\n",
    "\n",
    "# System\n",
    "import os \n",
    "import pprint\n",
    "import tempfile"
   ]
  },
  {
   "attachments": {},
   "cell_type": "markdown",
   "metadata": {},
   "source": [
    "# Loading & Reading Data"
   ]
  },
  {
   "cell_type": "code",
   "execution_count": 2,
   "metadata": {},
   "outputs": [],
   "source": [
    "# Read original Data to collect all columns\n",
    "original_df  = pd.read_csv('../../00_Data/Rec_Sys_precleaned.csv', index_col=0)"
   ]
  },
  {
   "cell_type": "code",
   "execution_count": 3,
   "metadata": {},
   "outputs": [],
   "source": [
    "# Convert CustomerID to String\n",
    "original_df['CustomerID']  = original_df['CustomerID'].astype(str)"
   ]
  },
  {
   "attachments": {},
   "cell_type": "markdown",
   "metadata": {},
   "source": [
    "# Selection of Features"
   ]
  },
  {
   "cell_type": "code",
   "execution_count": 4,
   "metadata": {},
   "outputs": [],
   "source": [
    "# Select important Features\n",
    "interactions_dict = original_df.groupby(['CustomerID','StockCode']).agg({'CustomerID': 'count'})\n",
    "interactions_dict.columns = ['purchased']\n",
    "interactions_dict.reset_index(inplace=True)\n",
    "# Set all purchases to 1 \n",
    "interactions_dict['purchased'] = 1 \n",
    "\n",
    "# Transform Table into a Dictionary, which will be fed into tensor slices\n",
    "interactions_dict = {name: np.array(value) for name, value in interactions_dict.items()} \n",
    "interactions = tf.data.Dataset.from_tensor_slices(interactions_dict)\n",
    "\n",
    "# We do a similar step for items, where this is the reference table for items to be recommended \n",
    "items_dict = original_df[['StockCode']].drop_duplicates()\n",
    "items_dict = {name: np.array(value) for name, value in items_dict.items()}\n",
    "items = tf.data.Dataset.from_tensor_slices(items_dict)\n",
    "\n",
    "\n",
    "## map the features in interactions and items to an identifier that we will use throught the embedding layers\n",
    "## do it for all the items in interaction and item table\n",
    "## you may often get itemtype error, so that is why here i am casting the quantity type as float to ensure consistency\n",
    "interactions = interactions.map(lambda x: {\n",
    "    'user_id' : x['CustomerID'], \n",
    "    'product_id' : x['StockCode'], \n",
    "    'purchased' : float(x['purchased']),\n",
    "\n",
    "})\n",
    "\n",
    "items = items.map(lambda x: x['StockCode'])"
   ]
  },
  {
   "attachments": {},
   "cell_type": "markdown",
   "metadata": {},
   "source": [
    "# Train Test Split"
   ]
  },
  {
   "cell_type": "code",
   "execution_count": 5,
   "metadata": {},
   "outputs": [
    {
     "name": "stderr",
     "output_type": "stream",
     "text": [
      "2023-07-06 11:26:50.800114: I tensorflow/core/common_runtime/executor.cc:1197] [/device:CPU:0] (DEBUG INFO) Executor start aborting (this does not indicate an error and you can ignore this message): INVALID_ARGUMENT: You must feed a value for placeholder tensor 'Placeholder/_0' with dtype string and shape [2349]\n",
      "\t [[{{node Placeholder/_0}}]]\n",
      "2023-07-06 11:26:50.938125: I tensorflow/core/common_runtime/executor.cc:1197] [/device:CPU:0] (DEBUG INFO) Executor start aborting (this does not indicate an error and you can ignore this message): INVALID_ARGUMENT: You must feed a value for placeholder tensor 'Placeholder/_2' with dtype int64 and shape [172701]\n",
      "\t [[{{node Placeholder/_2}}]]\n"
     ]
    }
   ],
   "source": [
    "unique_item_titles = np.unique(np.concatenate(list(items.batch(1000))))\n",
    "unique_user_ids = np.unique(np.concatenate(list(interactions.batch(1_000).map(lambda x: x[\"user_id\"]))))"
   ]
  },
  {
   "cell_type": "code",
   "execution_count": 6,
   "metadata": {},
   "outputs": [
    {
     "name": "stderr",
     "output_type": "stream",
     "text": [
      "2023-07-06 11:26:53.578399: I tensorflow/core/common_runtime/executor.cc:1197] [/device:CPU:0] (DEBUG INFO) Executor start aborting (this does not indicate an error and you can ignore this message): INVALID_ARGUMENT: You must feed a value for placeholder tensor 'Placeholder/_0' with dtype string and shape [2349]\n",
      "\t [[{{node Placeholder/_0}}]]\n",
      "2023-07-06 11:26:53.602413: I tensorflow/core/common_runtime/executor.cc:1197] [/device:CPU:0] (DEBUG INFO) Executor start aborting (this does not indicate an error and you can ignore this message): INVALID_ARGUMENT: You must feed a value for placeholder tensor 'Placeholder/_2' with dtype int64 and shape [172701]\n",
      "\t [[{{node Placeholder/_2}}]]\n"
     ]
    }
   ],
   "source": [
    "### get unique item and user id's as a lookup table\n",
    "unique_item_titles = np.unique(np.concatenate(list(items.batch(1000))))\n",
    "unique_user_ids = np.unique(np.concatenate(list(interactions.batch(1_000).map(lambda x: x[\"user_id\"]))))\n",
    "\n",
    "# Randomly shuffle data and split between train and test.\n",
    "tf.random.set_seed(42)\n",
    "shuffled = interactions.shuffle(100_000, seed=42, reshuffle_each_iteration=False)\n",
    "\n",
    "train = shuffled.take(60_000)\n",
    "test = shuffled.skip(60_000).take(20_000)"
   ]
  },
  {
   "attachments": {},
   "cell_type": "markdown",
   "metadata": {},
   "source": [
    "# Define Model Classes"
   ]
  },
  {
   "cell_type": "code",
   "execution_count": 7,
   "metadata": {},
   "outputs": [],
   "source": [
    "class RetailModel(tfrs.Model):\n",
    "\n",
    "    def __init__(self, user_model, item_model):\n",
    "        super().__init__()\n",
    "        \n",
    "        ### Candidate model (item)\n",
    "        ### This is Keras preprocessing layers to first convert user ids to integers, \n",
    "        ### and then convert those to user embeddings via an Embedding layer. \n",
    "        ### We use the list of unique user ids we computed earlier as a vocabulary:\n",
    "        item_model = tf.keras.Sequential([\n",
    "                                        tf.keras.layers.experimental.preprocessing.StringLookup(\n",
    "                                        vocabulary=unique_item_titles, mask_token=None),\n",
    "                                        tf.keras.layers.Embedding(len(unique_item_titles) + 1, embedding_dimension)\n",
    "                                        ])\n",
    "        ### we pass the embedding layer into item model\n",
    "        self.item_model: tf.keras.Model = item_model\n",
    "            \n",
    "        ### Query model (users)    \n",
    "        user_model = tf.keras.Sequential([\n",
    "                                        tf.keras.layers.experimental.preprocessing.StringLookup(\n",
    "                                        vocabulary=unique_user_ids, mask_token=None),\n",
    "                                        # We add an additional embedding to account for unknown tokens.\n",
    "                                        tf.keras.layers.Embedding(len(unique_user_ids) + 1, embedding_dimension)\n",
    "                                        ])\n",
    "        self.user_model: tf.keras.Model = user_model\n",
    "        \n",
    "        ### for retrieval model. we take top-k accuracy as metrics\n",
    "        metrics = tfrs.metrics.FactorizedTopK(\n",
    "                                            candidates=items.batch(128).map(item_model))\n",
    "        \n",
    "        # define the task, which is retrieval                                    )    \n",
    "        task = tfrs.tasks.Retrieval(\n",
    "                                    metrics=metrics\n",
    "                                    )\n",
    "       \n",
    "        self.task: tf.keras.layers.Layer = task\n",
    "\n",
    "    def compute_loss(self, features: Dict[Text, tf.Tensor], training=False) -> tf.Tensor:\n",
    "        # We pick out the user features and pass them into the user model.\n",
    "        user_embeddings = self.user_model(features[\"user_id\"])\n",
    "        # And pick out the movie features and pass them into the movie model,\n",
    "        # getting embeddings back.\n",
    "        positive_movie_embeddings = self.item_model(features[\"product_id\"])\n",
    "\n",
    "        # The task computes the loss and the metrics.\n",
    "        return self.task(user_embeddings, positive_movie_embeddings)"
   ]
  },
  {
   "attachments": {},
   "cell_type": "markdown",
   "metadata": {},
   "source": [
    "# Fitting & Evaluation"
   ]
  },
  {
   "cell_type": "code",
   "execution_count": 8,
   "metadata": {},
   "outputs": [
    {
     "name": "stdout",
     "output_type": "stream",
     "text": [
      "Epoch 1/10\n"
     ]
    },
    {
     "name": "stderr",
     "output_type": "stream",
     "text": [
      "2023-07-06 11:26:56.249961: I tensorflow/core/common_runtime/executor.cc:1197] [/device:CPU:0] (DEBUG INFO) Executor start aborting (this does not indicate an error and you can ignore this message): INVALID_ARGUMENT: You must feed a value for placeholder tensor 'Placeholder/_0' with dtype string and shape [172701]\n",
      "\t [[{{node Placeholder/_0}}]]\n",
      "2023-07-06 11:26:56.250338: I tensorflow/core/common_runtime/executor.cc:1197] [/device:CPU:0] (DEBUG INFO) Executor start aborting (this does not indicate an error and you can ignore this message): INVALID_ARGUMENT: You must feed a value for placeholder tensor 'Placeholder/_1' with dtype string and shape [172701]\n",
      "\t [[{{node Placeholder/_1}}]]\n",
      "2023-07-06 11:26:59.428523: I tensorflow/core/common_runtime/executor.cc:1197] [/device:CPU:0] (DEBUG INFO) Executor start aborting (this does not indicate an error and you can ignore this message): INVALID_ARGUMENT: You must feed a value for placeholder tensor 'Placeholder/_6' with dtype resource\n",
      "\t [[{{node Placeholder/_6}}]]\n"
     ]
    },
    {
     "name": "stdout",
     "output_type": "stream",
     "text": [
      "1/8 [==>...........................] - ETA: 28s - factorized_top_k/top_1_categorical_accuracy: 4.8828e-04 - factorized_top_k/top_5_categorical_accuracy: 0.0017 - factorized_top_k/top_10_categorical_accuracy: 0.0034 - factorized_top_k/top_50_categorical_accuracy: 0.0204 - factorized_top_k/top_100_categorical_accuracy: 0.0399 - loss: 73817.5938 - regularization_loss: 0.0000e+00 - total_loss: 73817.5938"
     ]
    },
    {
     "name": "stderr",
     "output_type": "stream",
     "text": [
      "2023-07-06 11:27:00.340598: I tensorflow/core/common_runtime/executor.cc:1197] [/device:CPU:0] (DEBUG INFO) Executor start aborting (this does not indicate an error and you can ignore this message): INVALID_ARGUMENT: You must feed a value for placeholder tensor 'Placeholder/_8' with dtype resource\n",
      "\t [[{{node Placeholder/_8}}]]\n"
     ]
    },
    {
     "name": "stdout",
     "output_type": "stream",
     "text": [
      "2/8 [======>.......................] - ETA: 4s - factorized_top_k/top_1_categorical_accuracy: 3.6621e-04 - factorized_top_k/top_5_categorical_accuracy: 0.0027 - factorized_top_k/top_10_categorical_accuracy: 0.0052 - factorized_top_k/top_50_categorical_accuracy: 0.0250 - factorized_top_k/top_100_categorical_accuracy: 0.0485 - loss: 73818.4414 - regularization_loss: 0.0000e+00 - total_loss: 73818.4414 "
     ]
    },
    {
     "name": "stderr",
     "output_type": "stream",
     "text": [
      "2023-07-06 11:27:01.123025: I tensorflow/core/common_runtime/executor.cc:1197] [/device:CPU:0] (DEBUG INFO) Executor start aborting (this does not indicate an error and you can ignore this message): INVALID_ARGUMENT: You must feed a value for placeholder tensor 'Placeholder/_12' with dtype float and shape [8192,32]\n",
      "\t [[{{node Placeholder/_12}}]]\n"
     ]
    },
    {
     "name": "stdout",
     "output_type": "stream",
     "text": [
      "3/8 [==========>...................] - ETA: 3s - factorized_top_k/top_1_categorical_accuracy: 4.8828e-04 - factorized_top_k/top_5_categorical_accuracy: 0.0035 - factorized_top_k/top_10_categorical_accuracy: 0.0067 - factorized_top_k/top_50_categorical_accuracy: 0.0280 - factorized_top_k/top_100_categorical_accuracy: 0.0531 - loss: 73818.4349 - regularization_loss: 0.0000e+00 - total_loss: 73818.4349"
     ]
    },
    {
     "name": "stderr",
     "output_type": "stream",
     "text": [
      "2023-07-06 11:27:01.853655: I tensorflow/core/common_runtime/executor.cc:1197] [/device:CPU:0] (DEBUG INFO) Executor start aborting (this does not indicate an error and you can ignore this message): INVALID_ARGUMENT: You must feed a value for placeholder tensor 'Placeholder/_0' with dtype string and shape [2349]\n",
      "\t [[{{node Placeholder/_0}}]]\n"
     ]
    },
    {
     "name": "stdout",
     "output_type": "stream",
     "text": [
      "4/8 [==============>...............] - ETA: 3s - factorized_top_k/top_1_categorical_accuracy: 3.9673e-04 - factorized_top_k/top_5_categorical_accuracy: 0.0036 - factorized_top_k/top_10_categorical_accuracy: 0.0068 - factorized_top_k/top_50_categorical_accuracy: 0.0299 - factorized_top_k/top_100_categorical_accuracy: 0.0560 - loss: 73818.8418 - regularization_loss: 0.0000e+00 - total_loss: 73818.8418"
     ]
    },
    {
     "name": "stderr",
     "output_type": "stream",
     "text": [
      "2023-07-06 11:27:02.610942: I tensorflow/core/common_runtime/executor.cc:1197] [/device:CPU:0] (DEBUG INFO) Executor start aborting (this does not indicate an error and you can ignore this message): INVALID_ARGUMENT: You must feed a value for placeholder tensor 'Placeholder/_10' with dtype resource\n",
      "\t [[{{node Placeholder/_10}}]]\n"
     ]
    },
    {
     "name": "stdout",
     "output_type": "stream",
     "text": [
      "5/8 [=================>............] - ETA: 2s - factorized_top_k/top_1_categorical_accuracy: 4.1504e-04 - factorized_top_k/top_5_categorical_accuracy: 0.0036 - factorized_top_k/top_10_categorical_accuracy: 0.0075 - factorized_top_k/top_50_categorical_accuracy: 0.0324 - factorized_top_k/top_100_categorical_accuracy: 0.0603 - loss: 73818.1391 - regularization_loss: 0.0000e+00 - total_loss: 73818.1391"
     ]
    },
    {
     "name": "stderr",
     "output_type": "stream",
     "text": [
      "2023-07-06 11:27:03.371790: I tensorflow/core/common_runtime/executor.cc:1197] [/device:CPU:0] (DEBUG INFO) Executor start aborting (this does not indicate an error and you can ignore this message): INVALID_ARGUMENT: You must feed a value for placeholder tensor 'Placeholder/_6' with dtype resource\n",
      "\t [[{{node Placeholder/_6}}]]\n"
     ]
    },
    {
     "name": "stdout",
     "output_type": "stream",
     "text": [
      "6/8 [=====================>........] - ETA: 1s - factorized_top_k/top_1_categorical_accuracy: 5.2897e-04 - factorized_top_k/top_5_categorical_accuracy: 0.0039 - factorized_top_k/top_10_categorical_accuracy: 0.0081 - factorized_top_k/top_50_categorical_accuracy: 0.0344 - factorized_top_k/top_100_categorical_accuracy: 0.0635 - loss: 73816.5677 - regularization_loss: 0.0000e+00 - total_loss: 73816.5677"
     ]
    },
    {
     "name": "stderr",
     "output_type": "stream",
     "text": [
      "2023-07-06 11:27:04.123783: I tensorflow/core/common_runtime/executor.cc:1197] [/device:CPU:0] (DEBUG INFO) Executor start aborting (this does not indicate an error and you can ignore this message): INVALID_ARGUMENT: You must feed a value for placeholder tensor 'Placeholder/_12' with dtype float and shape [8192,32]\n",
      "\t [[{{node Placeholder/_12}}]]\n"
     ]
    },
    {
     "name": "stdout",
     "output_type": "stream",
     "text": [
      "8/8 [==============================] - 9s 672ms/step - factorized_top_k/top_1_categorical_accuracy: 4.8333e-04 - factorized_top_k/top_5_categorical_accuracy: 0.0043 - factorized_top_k/top_10_categorical_accuracy: 0.0089 - factorized_top_k/top_50_categorical_accuracy: 0.0374 - factorized_top_k/top_100_categorical_accuracy: 0.0687 - loss: 62059.9813 - regularization_loss: 0.0000e+00 - total_loss: 62059.9813\n",
      "Epoch 2/10\n"
     ]
    },
    {
     "name": "stderr",
     "output_type": "stream",
     "text": [
      "2023-07-06 11:27:04.852773: I tensorflow/core/common_runtime/executor.cc:1197] [/device:CPU:0] (DEBUG INFO) Executor start aborting (this does not indicate an error and you can ignore this message): INVALID_ARGUMENT: You must feed a value for placeholder tensor 'Placeholder/_12' with dtype float and shape [2656,32]\n",
      "\t [[{{node Placeholder/_12}}]]\n"
     ]
    },
    {
     "name": "stdout",
     "output_type": "stream",
     "text": [
      "1/8 [==>...........................] - ETA: 5s - factorized_top_k/top_1_categorical_accuracy: 0.0026 - factorized_top_k/top_5_categorical_accuracy: 0.0165 - factorized_top_k/top_10_categorical_accuracy: 0.0314 - factorized_top_k/top_50_categorical_accuracy: 0.1163 - factorized_top_k/top_100_categorical_accuracy: 0.1865 - loss: 73618.1875 - regularization_loss: 0.0000e+00 - total_loss: 73618.1875"
     ]
    },
    {
     "name": "stderr",
     "output_type": "stream",
     "text": [
      "2023-07-06 11:27:05.053424: I tensorflow/core/common_runtime/executor.cc:1197] [/device:CPU:0] (DEBUG INFO) Executor start aborting (this does not indicate an error and you can ignore this message): INVALID_ARGUMENT: You must feed a value for placeholder tensor 'Placeholder/_12' with dtype float and shape [8192,32]\n",
      "\t [[{{node Placeholder/_12}}]]\n",
      "2023-07-06 11:27:05.801236: I tensorflow/core/common_runtime/executor.cc:1197] [/device:CPU:0] (DEBUG INFO) Executor start aborting (this does not indicate an error and you can ignore this message): INVALID_ARGUMENT: You must feed a value for placeholder tensor 'Placeholder/_12' with dtype float and shape [8192,32]\n",
      "\t [[{{node Placeholder/_12}}]]\n"
     ]
    },
    {
     "name": "stdout",
     "output_type": "stream",
     "text": [
      "2/8 [======>.......................] - ETA: 4s - factorized_top_k/top_1_categorical_accuracy: 0.0032 - factorized_top_k/top_5_categorical_accuracy: 0.0216 - factorized_top_k/top_10_categorical_accuracy: 0.0397 - factorized_top_k/top_50_categorical_accuracy: 0.1335 - factorized_top_k/top_100_categorical_accuracy: 0.2127 - loss: 73525.7539 - regularization_loss: 0.0000e+00 - total_loss: 73525.7539"
     ]
    },
    {
     "name": "stderr",
     "output_type": "stream",
     "text": [
      "2023-07-06 11:27:06.538451: I tensorflow/core/common_runtime/executor.cc:1197] [/device:CPU:0] (DEBUG INFO) Executor start aborting (this does not indicate an error and you can ignore this message): INVALID_ARGUMENT: You must feed a value for placeholder tensor 'Placeholder/_12' with dtype float and shape [8192,32]\n",
      "\t [[{{node Placeholder/_12}}]]\n"
     ]
    },
    {
     "name": "stdout",
     "output_type": "stream",
     "text": [
      "3/8 [==========>...................] - ETA: 3s - factorized_top_k/top_1_categorical_accuracy: 0.0041 - factorized_top_k/top_5_categorical_accuracy: 0.0254 - factorized_top_k/top_10_categorical_accuracy: 0.0455 - factorized_top_k/top_50_categorical_accuracy: 0.1486 - factorized_top_k/top_100_categorical_accuracy: 0.2318 - loss: 73408.9297 - regularization_loss: 0.0000e+00 - total_loss: 73408.9297"
     ]
    },
    {
     "name": "stderr",
     "output_type": "stream",
     "text": [
      "2023-07-06 11:27:07.276443: I tensorflow/core/common_runtime/executor.cc:1197] [/device:CPU:0] (DEBUG INFO) Executor start aborting (this does not indicate an error and you can ignore this message): INVALID_ARGUMENT: You must feed a value for placeholder tensor 'Placeholder/_6' with dtype resource\n",
      "\t [[{{node Placeholder/_6}}]]\n"
     ]
    },
    {
     "name": "stdout",
     "output_type": "stream",
     "text": [
      "4/8 [==============>...............] - ETA: 2s - factorized_top_k/top_1_categorical_accuracy: 0.0047 - factorized_top_k/top_5_categorical_accuracy: 0.0284 - factorized_top_k/top_10_categorical_accuracy: 0.0509 - factorized_top_k/top_50_categorical_accuracy: 0.1614 - factorized_top_k/top_100_categorical_accuracy: 0.2476 - loss: 73283.6465 - regularization_loss: 0.0000e+00 - total_loss: 73283.6465"
     ]
    },
    {
     "name": "stderr",
     "output_type": "stream",
     "text": [
      "2023-07-06 11:27:08.015288: I tensorflow/core/common_runtime/executor.cc:1197] [/device:CPU:0] (DEBUG INFO) Executor start aborting (this does not indicate an error and you can ignore this message): INVALID_ARGUMENT: You must feed a value for placeholder tensor 'Placeholder/_12' with dtype float and shape [8192,32]\n",
      "\t [[{{node Placeholder/_12}}]]\n"
     ]
    },
    {
     "name": "stdout",
     "output_type": "stream",
     "text": [
      "5/8 [=================>............] - ETA: 2s - factorized_top_k/top_1_categorical_accuracy: 0.0050 - factorized_top_k/top_5_categorical_accuracy: 0.0307 - factorized_top_k/top_10_categorical_accuracy: 0.0550 - factorized_top_k/top_50_categorical_accuracy: 0.1705 - factorized_top_k/top_100_categorical_accuracy: 0.2600 - loss: 73139.8203 - regularization_loss: 0.0000e+00 - total_loss: 73139.8203"
     ]
    },
    {
     "name": "stderr",
     "output_type": "stream",
     "text": [
      "2023-07-06 11:27:08.746117: I tensorflow/core/common_runtime/executor.cc:1197] [/device:CPU:0] (DEBUG INFO) Executor start aborting (this does not indicate an error and you can ignore this message): INVALID_ARGUMENT: You must feed a value for placeholder tensor 'Placeholder/_8' with dtype resource\n",
      "\t [[{{node Placeholder/_8}}]]\n"
     ]
    },
    {
     "name": "stdout",
     "output_type": "stream",
     "text": [
      "6/8 [=====================>........] - ETA: 1s - factorized_top_k/top_1_categorical_accuracy: 0.0052 - factorized_top_k/top_5_categorical_accuracy: 0.0321 - factorized_top_k/top_10_categorical_accuracy: 0.0578 - factorized_top_k/top_50_categorical_accuracy: 0.1767 - factorized_top_k/top_100_categorical_accuracy: 0.2683 - loss: 72999.0690 - regularization_loss: 0.0000e+00 - total_loss: 72999.0690"
     ]
    },
    {
     "name": "stderr",
     "output_type": "stream",
     "text": [
      "2023-07-06 11:27:09.473760: I tensorflow/core/common_runtime/executor.cc:1197] [/device:CPU:0] (DEBUG INFO) Executor start aborting (this does not indicate an error and you can ignore this message): INVALID_ARGUMENT: You must feed a value for placeholder tensor 'Placeholder/_12' with dtype float and shape [8192,32]\n",
      "\t [[{{node Placeholder/_12}}]]\n"
     ]
    },
    {
     "name": "stdout",
     "output_type": "stream",
     "text": [
      "8/8 [==============================] - 5s 654ms/step - factorized_top_k/top_1_categorical_accuracy: 0.0051 - factorized_top_k/top_5_categorical_accuracy: 0.0332 - factorized_top_k/top_10_categorical_accuracy: 0.0603 - factorized_top_k/top_50_categorical_accuracy: 0.1823 - factorized_top_k/top_100_categorical_accuracy: 0.2747 - loss: 61162.7157 - regularization_loss: 0.0000e+00 - total_loss: 61162.7157\n",
      "Epoch 3/10\n"
     ]
    },
    {
     "name": "stderr",
     "output_type": "stream",
     "text": [
      "2023-07-06 11:27:10.180259: I tensorflow/core/common_runtime/executor.cc:1197] [/device:CPU:0] (DEBUG INFO) Executor start aborting (this does not indicate an error and you can ignore this message): INVALID_ARGUMENT: You must feed a value for placeholder tensor 'Placeholder/_12' with dtype float and shape [2656,32]\n",
      "\t [[{{node Placeholder/_12}}]]\n",
      "2023-07-06 11:27:10.391406: I tensorflow/core/common_runtime/executor.cc:1197] [/device:CPU:0] (DEBUG INFO) Executor start aborting (this does not indicate an error and you can ignore this message): INVALID_ARGUMENT: You must feed a value for placeholder tensor 'Placeholder/_7' with dtype int64\n",
      "\t [[{{node Placeholder/_7}}]]\n"
     ]
    },
    {
     "name": "stdout",
     "output_type": "stream",
     "text": [
      "1/8 [==>...........................] - ETA: 5s - factorized_top_k/top_1_categorical_accuracy: 0.0089 - factorized_top_k/top_5_categorical_accuracy: 0.0507 - factorized_top_k/top_10_categorical_accuracy: 0.0914 - factorized_top_k/top_50_categorical_accuracy: 0.2478 - factorized_top_k/top_100_categorical_accuracy: 0.3588 - loss: 71257.9609 - regularization_loss: 0.0000e+00 - total_loss: 71257.9609"
     ]
    },
    {
     "name": "stderr",
     "output_type": "stream",
     "text": [
      "2023-07-06 11:27:11.115225: I tensorflow/core/common_runtime/executor.cc:1197] [/device:CPU:0] (DEBUG INFO) Executor start aborting (this does not indicate an error and you can ignore this message): INVALID_ARGUMENT: You must feed a value for placeholder tensor 'Placeholder/_6' with dtype resource\n",
      "\t [[{{node Placeholder/_6}}]]\n"
     ]
    },
    {
     "name": "stdout",
     "output_type": "stream",
     "text": [
      "2/8 [======>.......................] - ETA: 4s - factorized_top_k/top_1_categorical_accuracy: 0.0100 - factorized_top_k/top_5_categorical_accuracy: 0.0547 - factorized_top_k/top_10_categorical_accuracy: 0.0941 - factorized_top_k/top_50_categorical_accuracy: 0.2552 - factorized_top_k/top_100_categorical_accuracy: 0.3687 - loss: 71010.1289 - regularization_loss: 0.0000e+00 - total_loss: 71010.1289"
     ]
    },
    {
     "name": "stderr",
     "output_type": "stream",
     "text": [
      "2023-07-06 11:27:11.840483: I tensorflow/core/common_runtime/executor.cc:1197] [/device:CPU:0] (DEBUG INFO) Executor start aborting (this does not indicate an error and you can ignore this message): INVALID_ARGUMENT: You must feed a value for placeholder tensor 'Placeholder/_6' with dtype resource\n",
      "\t [[{{node Placeholder/_6}}]]\n"
     ]
    },
    {
     "name": "stdout",
     "output_type": "stream",
     "text": [
      "3/8 [==========>...................] - ETA: 3s - factorized_top_k/top_1_categorical_accuracy: 0.0103 - factorized_top_k/top_5_categorical_accuracy: 0.0576 - factorized_top_k/top_10_categorical_accuracy: 0.0969 - factorized_top_k/top_50_categorical_accuracy: 0.2609 - factorized_top_k/top_100_categorical_accuracy: 0.3757 - loss: 70770.4401 - regularization_loss: 0.0000e+00 - total_loss: 70770.4401"
     ]
    },
    {
     "name": "stderr",
     "output_type": "stream",
     "text": [
      "2023-07-06 11:27:12.547667: I tensorflow/core/common_runtime/executor.cc:1197] [/device:CPU:0] (DEBUG INFO) Executor start aborting (this does not indicate an error and you can ignore this message): INVALID_ARGUMENT: You must feed a value for placeholder tensor 'Placeholder/_12' with dtype float and shape [8192,32]\n",
      "\t [[{{node Placeholder/_12}}]]\n"
     ]
    },
    {
     "name": "stdout",
     "output_type": "stream",
     "text": [
      "4/8 [==============>...............] - ETA: 2s - factorized_top_k/top_1_categorical_accuracy: 0.0107 - factorized_top_k/top_5_categorical_accuracy: 0.0601 - factorized_top_k/top_10_categorical_accuracy: 0.1002 - factorized_top_k/top_50_categorical_accuracy: 0.2674 - factorized_top_k/top_100_categorical_accuracy: 0.3810 - loss: 70555.6035 - regularization_loss: 0.0000e+00 - total_loss: 70555.6035"
     ]
    },
    {
     "name": "stderr",
     "output_type": "stream",
     "text": [
      "2023-07-06 11:27:13.314470: I tensorflow/core/common_runtime/executor.cc:1197] [/device:CPU:0] (DEBUG INFO) Executor start aborting (this does not indicate an error and you can ignore this message): INVALID_ARGUMENT: You must feed a value for placeholder tensor 'Placeholder/_12' with dtype float and shape [8192,32]\n",
      "\t [[{{node Placeholder/_12}}]]\n"
     ]
    },
    {
     "name": "stdout",
     "output_type": "stream",
     "text": [
      "5/8 [=================>............] - ETA: 2s - factorized_top_k/top_1_categorical_accuracy: 0.0108 - factorized_top_k/top_5_categorical_accuracy: 0.0604 - factorized_top_k/top_10_categorical_accuracy: 0.1019 - factorized_top_k/top_50_categorical_accuracy: 0.2713 - factorized_top_k/top_100_categorical_accuracy: 0.3868 - loss: 70347.7047 - regularization_loss: 0.0000e+00 - total_loss: 70347.7047"
     ]
    },
    {
     "name": "stderr",
     "output_type": "stream",
     "text": [
      "2023-07-06 11:27:14.036166: I tensorflow/core/common_runtime/executor.cc:1197] [/device:CPU:0] (DEBUG INFO) Executor start aborting (this does not indicate an error and you can ignore this message): INVALID_ARGUMENT: You must feed a value for placeholder tensor 'Placeholder/_12' with dtype float and shape [8192,32]\n",
      "\t [[{{node Placeholder/_12}}]]\n"
     ]
    },
    {
     "name": "stdout",
     "output_type": "stream",
     "text": [
      "6/8 [=====================>........] - ETA: 1s - factorized_top_k/top_1_categorical_accuracy: 0.0112 - factorized_top_k/top_5_categorical_accuracy: 0.0609 - factorized_top_k/top_10_categorical_accuracy: 0.1029 - factorized_top_k/top_50_categorical_accuracy: 0.2753 - factorized_top_k/top_100_categorical_accuracy: 0.3911 - loss: 70167.3086 - regularization_loss: 0.0000e+00 - total_loss: 70167.3086"
     ]
    },
    {
     "name": "stderr",
     "output_type": "stream",
     "text": [
      "2023-07-06 11:27:14.779594: I tensorflow/core/common_runtime/executor.cc:1197] [/device:CPU:0] (DEBUG INFO) Executor start aborting (this does not indicate an error and you can ignore this message): INVALID_ARGUMENT: You must feed a value for placeholder tensor 'Placeholder/_0' with dtype string and shape [2349]\n",
      "\t [[{{node Placeholder/_0}}]]\n"
     ]
    },
    {
     "name": "stdout",
     "output_type": "stream",
     "text": [
      "8/8 [==============================] - 5s 660ms/step - factorized_top_k/top_1_categorical_accuracy: 0.0109 - factorized_top_k/top_5_categorical_accuracy: 0.0617 - factorized_top_k/top_10_categorical_accuracy: 0.1042 - factorized_top_k/top_50_categorical_accuracy: 0.2780 - factorized_top_k/top_100_categorical_accuracy: 0.3950 - loss: 58704.4149 - regularization_loss: 0.0000e+00 - total_loss: 58704.4149\n",
      "Epoch 4/10\n"
     ]
    },
    {
     "name": "stderr",
     "output_type": "stream",
     "text": [
      "2023-07-06 11:27:15.531815: I tensorflow/core/common_runtime/executor.cc:1197] [/device:CPU:0] (DEBUG INFO) Executor start aborting (this does not indicate an error and you can ignore this message): INVALID_ARGUMENT: You must feed a value for placeholder tensor 'Placeholder/_8' with dtype resource\n",
      "\t [[{{node Placeholder/_8}}]]\n",
      "2023-07-06 11:27:15.753593: I tensorflow/core/common_runtime/executor.cc:1197] [/device:CPU:0] (DEBUG INFO) Executor start aborting (this does not indicate an error and you can ignore this message): INVALID_ARGUMENT: You must feed a value for placeholder tensor 'Placeholder/_7' with dtype int64\n",
      "\t [[{{node Placeholder/_7}}]]\n"
     ]
    },
    {
     "name": "stdout",
     "output_type": "stream",
     "text": [
      "1/8 [==>...........................] - ETA: 5s - factorized_top_k/top_1_categorical_accuracy: 0.0148 - factorized_top_k/top_5_categorical_accuracy: 0.0758 - factorized_top_k/top_10_categorical_accuracy: 0.1262 - factorized_top_k/top_50_categorical_accuracy: 0.3237 - factorized_top_k/top_100_categorical_accuracy: 0.4502 - loss: 68157.6719 - regularization_loss: 0.0000e+00 - total_loss: 68157.6719"
     ]
    },
    {
     "name": "stderr",
     "output_type": "stream",
     "text": [
      "2023-07-06 11:27:16.438335: I tensorflow/core/common_runtime/executor.cc:1197] [/device:CPU:0] (DEBUG INFO) Executor start aborting (this does not indicate an error and you can ignore this message): INVALID_ARGUMENT: You must feed a value for placeholder tensor 'Placeholder/_12' with dtype float and shape [8192,32]\n",
      "\t [[{{node Placeholder/_12}}]]\n"
     ]
    },
    {
     "name": "stdout",
     "output_type": "stream",
     "text": [
      "2/8 [======>.......................] - ETA: 4s - factorized_top_k/top_1_categorical_accuracy: 0.0143 - factorized_top_k/top_5_categorical_accuracy: 0.0768 - factorized_top_k/top_10_categorical_accuracy: 0.1293 - factorized_top_k/top_50_categorical_accuracy: 0.3301 - factorized_top_k/top_100_categorical_accuracy: 0.4575 - loss: 67914.1133 - regularization_loss: 0.0000e+00 - total_loss: 67914.1133"
     ]
    },
    {
     "name": "stderr",
     "output_type": "stream",
     "text": [
      "2023-07-06 11:27:17.186709: I tensorflow/core/common_runtime/executor.cc:1197] [/device:CPU:0] (DEBUG INFO) Executor start aborting (this does not indicate an error and you can ignore this message): INVALID_ARGUMENT: You must feed a value for placeholder tensor 'Placeholder/_6' with dtype resource\n",
      "\t [[{{node Placeholder/_6}}]]\n"
     ]
    },
    {
     "name": "stdout",
     "output_type": "stream",
     "text": [
      "3/8 [==========>...................] - ETA: 3s - factorized_top_k/top_1_categorical_accuracy: 0.0151 - factorized_top_k/top_5_categorical_accuracy: 0.0798 - factorized_top_k/top_10_categorical_accuracy: 0.1319 - factorized_top_k/top_50_categorical_accuracy: 0.3353 - factorized_top_k/top_100_categorical_accuracy: 0.4615 - loss: 67701.5365 - regularization_loss: 0.0000e+00 - total_loss: 67701.5365"
     ]
    },
    {
     "name": "stderr",
     "output_type": "stream",
     "text": [
      "2023-07-06 11:27:17.921037: I tensorflow/core/common_runtime/executor.cc:1197] [/device:CPU:0] (DEBUG INFO) Executor start aborting (this does not indicate an error and you can ignore this message): INVALID_ARGUMENT: You must feed a value for placeholder tensor 'Placeholder/_10' with dtype resource\n",
      "\t [[{{node Placeholder/_10}}]]\n"
     ]
    },
    {
     "name": "stdout",
     "output_type": "stream",
     "text": [
      "4/8 [==============>...............] - ETA: 3s - factorized_top_k/top_1_categorical_accuracy: 0.0155 - factorized_top_k/top_5_categorical_accuracy: 0.0809 - factorized_top_k/top_10_categorical_accuracy: 0.1335 - factorized_top_k/top_50_categorical_accuracy: 0.3377 - factorized_top_k/top_100_categorical_accuracy: 0.4645 - loss: 67531.8027 - regularization_loss: 0.0000e+00 - total_loss: 67531.8027"
     ]
    },
    {
     "name": "stderr",
     "output_type": "stream",
     "text": [
      "2023-07-06 11:27:18.703248: I tensorflow/core/common_runtime/executor.cc:1197] [/device:CPU:0] (DEBUG INFO) Executor start aborting (this does not indicate an error and you can ignore this message): INVALID_ARGUMENT: You must feed a value for placeholder tensor 'Placeholder/_6' with dtype resource\n",
      "\t [[{{node Placeholder/_6}}]]\n"
     ]
    },
    {
     "name": "stdout",
     "output_type": "stream",
     "text": [
      "5/8 [=================>............] - ETA: 2s - factorized_top_k/top_1_categorical_accuracy: 0.0153 - factorized_top_k/top_5_categorical_accuracy: 0.0810 - factorized_top_k/top_10_categorical_accuracy: 0.1343 - factorized_top_k/top_50_categorical_accuracy: 0.3403 - factorized_top_k/top_100_categorical_accuracy: 0.4677 - loss: 67379.8359 - regularization_loss: 0.0000e+00 - total_loss: 67379.8359"
     ]
    },
    {
     "name": "stderr",
     "output_type": "stream",
     "text": [
      "2023-07-06 11:27:19.454848: I tensorflow/core/common_runtime/executor.cc:1197] [/device:CPU:0] (DEBUG INFO) Executor start aborting (this does not indicate an error and you can ignore this message): INVALID_ARGUMENT: You must feed a value for placeholder tensor 'Placeholder/_12' with dtype float and shape [8192,32]\n",
      "\t [[{{node Placeholder/_12}}]]\n"
     ]
    },
    {
     "name": "stdout",
     "output_type": "stream",
     "text": [
      "6/8 [=====================>........] - ETA: 1s - factorized_top_k/top_1_categorical_accuracy: 0.0150 - factorized_top_k/top_5_categorical_accuracy: 0.0810 - factorized_top_k/top_10_categorical_accuracy: 0.1349 - factorized_top_k/top_50_categorical_accuracy: 0.3427 - factorized_top_k/top_100_categorical_accuracy: 0.4702 - loss: 67255.5352 - regularization_loss: 0.0000e+00 - total_loss: 67255.5352"
     ]
    },
    {
     "name": "stderr",
     "output_type": "stream",
     "text": [
      "2023-07-06 11:27:20.187389: I tensorflow/core/common_runtime/executor.cc:1197] [/device:CPU:0] (DEBUG INFO) Executor start aborting (this does not indicate an error and you can ignore this message): INVALID_ARGUMENT: You must feed a value for placeholder tensor 'Placeholder/_0' with dtype string and shape [2349]\n",
      "\t [[{{node Placeholder/_0}}]]\n"
     ]
    },
    {
     "name": "stdout",
     "output_type": "stream",
     "text": [
      "8/8 [==============================] - 5s 666ms/step - factorized_top_k/top_1_categorical_accuracy: 0.0146 - factorized_top_k/top_5_categorical_accuracy: 0.0808 - factorized_top_k/top_10_categorical_accuracy: 0.1356 - factorized_top_k/top_50_categorical_accuracy: 0.3442 - factorized_top_k/top_100_categorical_accuracy: 0.4728 - loss: 56292.7865 - regularization_loss: 0.0000e+00 - total_loss: 56292.7865\n",
      "Epoch 5/10\n"
     ]
    },
    {
     "name": "stderr",
     "output_type": "stream",
     "text": [
      "2023-07-06 11:27:20.917832: I tensorflow/core/common_runtime/executor.cc:1197] [/device:CPU:0] (DEBUG INFO) Executor start aborting (this does not indicate an error and you can ignore this message): INVALID_ARGUMENT: You must feed a value for placeholder tensor 'Placeholder/_10' with dtype resource\n",
      "\t [[{{node Placeholder/_10}}]]\n",
      "2023-07-06 11:27:21.166236: I tensorflow/core/common_runtime/executor.cc:1197] [/device:CPU:0] (DEBUG INFO) Executor start aborting (this does not indicate an error and you can ignore this message): INVALID_ARGUMENT: You must feed a value for placeholder tensor 'Placeholder/_6' with dtype resource\n",
      "\t [[{{node Placeholder/_6}}]]\n"
     ]
    },
    {
     "name": "stdout",
     "output_type": "stream",
     "text": [
      "1/8 [==>...........................] - ETA: 5s - factorized_top_k/top_1_categorical_accuracy: 0.0160 - factorized_top_k/top_5_categorical_accuracy: 0.0929 - factorized_top_k/top_10_categorical_accuracy: 0.1559 - factorized_top_k/top_50_categorical_accuracy: 0.3761 - factorized_top_k/top_100_categorical_accuracy: 0.5101 - loss: 65690.6094 - regularization_loss: 0.0000e+00 - total_loss: 65690.6094"
     ]
    },
    {
     "name": "stderr",
     "output_type": "stream",
     "text": [
      "2023-07-06 11:27:21.920060: I tensorflow/core/common_runtime/executor.cc:1197] [/device:CPU:0] (DEBUG INFO) Executor start aborting (this does not indicate an error and you can ignore this message): INVALID_ARGUMENT: You must feed a value for placeholder tensor 'Placeholder/_0' with dtype string and shape [2349]\n",
      "\t [[{{node Placeholder/_0}}]]\n"
     ]
    },
    {
     "name": "stdout",
     "output_type": "stream",
     "text": [
      "2/8 [======>.......................] - ETA: 4s - factorized_top_k/top_1_categorical_accuracy: 0.0163 - factorized_top_k/top_5_categorical_accuracy: 0.0938 - factorized_top_k/top_10_categorical_accuracy: 0.1583 - factorized_top_k/top_50_categorical_accuracy: 0.3821 - factorized_top_k/top_100_categorical_accuracy: 0.5139 - loss: 65474.7031 - regularization_loss: 0.0000e+00 - total_loss: 65474.7031"
     ]
    },
    {
     "name": "stderr",
     "output_type": "stream",
     "text": [
      "2023-07-06 11:27:22.688663: I tensorflow/core/common_runtime/executor.cc:1197] [/device:CPU:0] (DEBUG INFO) Executor start aborting (this does not indicate an error and you can ignore this message): INVALID_ARGUMENT: You must feed a value for placeholder tensor 'Placeholder/_12' with dtype float and shape [8192,32]\n",
      "\t [[{{node Placeholder/_12}}]]\n"
     ]
    },
    {
     "name": "stdout",
     "output_type": "stream",
     "text": [
      "3/8 [==========>...................] - ETA: 3s - factorized_top_k/top_1_categorical_accuracy: 0.0164 - factorized_top_k/top_5_categorical_accuracy: 0.0962 - factorized_top_k/top_10_categorical_accuracy: 0.1592 - factorized_top_k/top_50_categorical_accuracy: 0.3860 - factorized_top_k/top_100_categorical_accuracy: 0.5172 - loss: 65305.2552 - regularization_loss: 0.0000e+00 - total_loss: 65305.2552"
     ]
    },
    {
     "name": "stderr",
     "output_type": "stream",
     "text": [
      "2023-07-06 11:27:23.431021: I tensorflow/core/common_runtime/executor.cc:1197] [/device:CPU:0] (DEBUG INFO) Executor start aborting (this does not indicate an error and you can ignore this message): INVALID_ARGUMENT: You must feed a value for placeholder tensor 'Placeholder/_12' with dtype float and shape [8192,32]\n",
      "\t [[{{node Placeholder/_12}}]]\n"
     ]
    },
    {
     "name": "stdout",
     "output_type": "stream",
     "text": [
      "4/8 [==============>...............] - ETA: 3s - factorized_top_k/top_1_categorical_accuracy: 0.0169 - factorized_top_k/top_5_categorical_accuracy: 0.0963 - factorized_top_k/top_10_categorical_accuracy: 0.1593 - factorized_top_k/top_50_categorical_accuracy: 0.3865 - factorized_top_k/top_100_categorical_accuracy: 0.5190 - loss: 65190.8457 - regularization_loss: 0.0000e+00 - total_loss: 65190.8457"
     ]
    },
    {
     "name": "stderr",
     "output_type": "stream",
     "text": [
      "2023-07-06 11:27:24.185988: I tensorflow/core/common_runtime/executor.cc:1197] [/device:CPU:0] (DEBUG INFO) Executor start aborting (this does not indicate an error and you can ignore this message): INVALID_ARGUMENT: You must feed a value for placeholder tensor 'Placeholder/_0' with dtype string and shape [2349]\n",
      "\t [[{{node Placeholder/_0}}]]\n"
     ]
    },
    {
     "name": "stdout",
     "output_type": "stream",
     "text": [
      "5/8 [=================>............] - ETA: 2s - factorized_top_k/top_1_categorical_accuracy: 0.0167 - factorized_top_k/top_5_categorical_accuracy: 0.0962 - factorized_top_k/top_10_categorical_accuracy: 0.1592 - factorized_top_k/top_50_categorical_accuracy: 0.3865 - factorized_top_k/top_100_categorical_accuracy: 0.5199 - loss: 65093.1133 - regularization_loss: 0.0000e+00 - total_loss: 65093.1133"
     ]
    },
    {
     "name": "stderr",
     "output_type": "stream",
     "text": [
      "2023-07-06 11:27:24.972939: I tensorflow/core/common_runtime/executor.cc:1197] [/device:CPU:0] (DEBUG INFO) Executor start aborting (this does not indicate an error and you can ignore this message): INVALID_ARGUMENT: You must feed a value for placeholder tensor 'Placeholder/_7' with dtype int64\n",
      "\t [[{{node Placeholder/_7}}]]\n"
     ]
    },
    {
     "name": "stdout",
     "output_type": "stream",
     "text": [
      "6/8 [=====================>........] - ETA: 1s - factorized_top_k/top_1_categorical_accuracy: 0.0163 - factorized_top_k/top_5_categorical_accuracy: 0.0957 - factorized_top_k/top_10_categorical_accuracy: 0.1594 - factorized_top_k/top_50_categorical_accuracy: 0.3881 - factorized_top_k/top_100_categorical_accuracy: 0.5208 - loss: 65021.1569 - regularization_loss: 0.0000e+00 - total_loss: 65021.1569"
     ]
    },
    {
     "name": "stderr",
     "output_type": "stream",
     "text": [
      "2023-07-06 11:27:25.706278: I tensorflow/core/common_runtime/executor.cc:1197] [/device:CPU:0] (DEBUG INFO) Executor start aborting (this does not indicate an error and you can ignore this message): INVALID_ARGUMENT: You must feed a value for placeholder tensor 'Placeholder/_8' with dtype resource\n",
      "\t [[{{node Placeholder/_8}}]]\n"
     ]
    },
    {
     "name": "stdout",
     "output_type": "stream",
     "text": [
      "8/8 [==============================] - 6s 675ms/step - factorized_top_k/top_1_categorical_accuracy: 0.0158 - factorized_top_k/top_5_categorical_accuracy: 0.0951 - factorized_top_k/top_10_categorical_accuracy: 0.1591 - factorized_top_k/top_50_categorical_accuracy: 0.3884 - factorized_top_k/top_100_categorical_accuracy: 0.5209 - loss: 54455.3464 - regularization_loss: 0.0000e+00 - total_loss: 54455.3464\n",
      "Epoch 6/10\n"
     ]
    },
    {
     "name": "stderr",
     "output_type": "stream",
     "text": [
      "2023-07-06 11:27:26.454830: I tensorflow/core/common_runtime/executor.cc:1197] [/device:CPU:0] (DEBUG INFO) Executor start aborting (this does not indicate an error and you can ignore this message): INVALID_ARGUMENT: You must feed a value for placeholder tensor 'Placeholder/_6' with dtype resource\n",
      "\t [[{{node Placeholder/_6}}]]\n",
      "2023-07-06 11:27:26.670639: I tensorflow/core/common_runtime/executor.cc:1197] [/device:CPU:0] (DEBUG INFO) Executor start aborting (this does not indicate an error and you can ignore this message): INVALID_ARGUMENT: You must feed a value for placeholder tensor 'Placeholder/_12' with dtype float and shape [8192,32]\n",
      "\t [[{{node Placeholder/_12}}]]\n"
     ]
    },
    {
     "name": "stdout",
     "output_type": "stream",
     "text": [
      "1/8 [==>...........................] - ETA: 5s - factorized_top_k/top_1_categorical_accuracy: 0.0172 - factorized_top_k/top_5_categorical_accuracy: 0.1066 - factorized_top_k/top_10_categorical_accuracy: 0.1732 - factorized_top_k/top_50_categorical_accuracy: 0.4098 - factorized_top_k/top_100_categorical_accuracy: 0.5452 - loss: 63869.8203 - regularization_loss: 0.0000e+00 - total_loss: 63869.8203"
     ]
    },
    {
     "name": "stderr",
     "output_type": "stream",
     "text": [
      "2023-07-06 11:27:27.357339: I tensorflow/core/common_runtime/executor.cc:1197] [/device:CPU:0] (DEBUG INFO) Executor start aborting (this does not indicate an error and you can ignore this message): INVALID_ARGUMENT: You must feed a value for placeholder tensor 'Placeholder/_10' with dtype resource\n",
      "\t [[{{node Placeholder/_10}}]]\n"
     ]
    },
    {
     "name": "stdout",
     "output_type": "stream",
     "text": [
      "2/8 [======>.......................] - ETA: 4s - factorized_top_k/top_1_categorical_accuracy: 0.0178 - factorized_top_k/top_5_categorical_accuracy: 0.1064 - factorized_top_k/top_10_categorical_accuracy: 0.1745 - factorized_top_k/top_50_categorical_accuracy: 0.4142 - factorized_top_k/top_100_categorical_accuracy: 0.5453 - loss: 63677.4922 - regularization_loss: 0.0000e+00 - total_loss: 63677.4922"
     ]
    },
    {
     "name": "stderr",
     "output_type": "stream",
     "text": [
      "2023-07-06 11:27:28.091730: I tensorflow/core/common_runtime/executor.cc:1197] [/device:CPU:0] (DEBUG INFO) Executor start aborting (this does not indicate an error and you can ignore this message): INVALID_ARGUMENT: You must feed a value for placeholder tensor 'Placeholder/_12' with dtype float and shape [8192,32]\n",
      "\t [[{{node Placeholder/_12}}]]\n"
     ]
    },
    {
     "name": "stdout",
     "output_type": "stream",
     "text": [
      "3/8 [==========>...................] - ETA: 3s - factorized_top_k/top_1_categorical_accuracy: 0.0182 - factorized_top_k/top_5_categorical_accuracy: 0.1069 - factorized_top_k/top_10_categorical_accuracy: 0.1752 - factorized_top_k/top_50_categorical_accuracy: 0.4167 - factorized_top_k/top_100_categorical_accuracy: 0.5490 - loss: 63544.1185 - regularization_loss: 0.0000e+00 - total_loss: 63544.1185"
     ]
    },
    {
     "name": "stderr",
     "output_type": "stream",
     "text": [
      "2023-07-06 11:27:28.836796: I tensorflow/core/common_runtime/executor.cc:1197] [/device:CPU:0] (DEBUG INFO) Executor start aborting (this does not indicate an error and you can ignore this message): INVALID_ARGUMENT: You must feed a value for placeholder tensor 'Placeholder/_0' with dtype string and shape [2349]\n",
      "\t [[{{node Placeholder/_0}}]]\n"
     ]
    },
    {
     "name": "stdout",
     "output_type": "stream",
     "text": [
      "4/8 [==============>...............] - ETA: 2s - factorized_top_k/top_1_categorical_accuracy: 0.0190 - factorized_top_k/top_5_categorical_accuracy: 0.1058 - factorized_top_k/top_10_categorical_accuracy: 0.1744 - factorized_top_k/top_50_categorical_accuracy: 0.4168 - factorized_top_k/top_100_categorical_accuracy: 0.5493 - loss: 63471.8125 - regularization_loss: 0.0000e+00 - total_loss: 63471.8125"
     ]
    },
    {
     "name": "stderr",
     "output_type": "stream",
     "text": [
      "2023-07-06 11:27:29.577308: I tensorflow/core/common_runtime/executor.cc:1197] [/device:CPU:0] (DEBUG INFO) Executor start aborting (this does not indicate an error and you can ignore this message): INVALID_ARGUMENT: You must feed a value for placeholder tensor 'Placeholder/_12' with dtype float and shape [8192,32]\n",
      "\t [[{{node Placeholder/_12}}]]\n"
     ]
    },
    {
     "name": "stdout",
     "output_type": "stream",
     "text": [
      "5/8 [=================>............] - ETA: 2s - factorized_top_k/top_1_categorical_accuracy: 0.0189 - factorized_top_k/top_5_categorical_accuracy: 0.1055 - factorized_top_k/top_10_categorical_accuracy: 0.1745 - factorized_top_k/top_50_categorical_accuracy: 0.4161 - factorized_top_k/top_100_categorical_accuracy: 0.5494 - loss: 63411.2320 - regularization_loss: 0.0000e+00 - total_loss: 63411.2320"
     ]
    },
    {
     "name": "stderr",
     "output_type": "stream",
     "text": [
      "2023-07-06 11:27:30.340013: I tensorflow/core/common_runtime/executor.cc:1197] [/device:CPU:0] (DEBUG INFO) Executor start aborting (this does not indicate an error and you can ignore this message): INVALID_ARGUMENT: You must feed a value for placeholder tensor 'Placeholder/_0' with dtype string and shape [2349]\n",
      "\t [[{{node Placeholder/_0}}]]\n"
     ]
    },
    {
     "name": "stdout",
     "output_type": "stream",
     "text": [
      "6/8 [=====================>........] - ETA: 1s - factorized_top_k/top_1_categorical_accuracy: 0.0187 - factorized_top_k/top_5_categorical_accuracy: 0.1051 - factorized_top_k/top_10_categorical_accuracy: 0.1740 - factorized_top_k/top_50_categorical_accuracy: 0.4167 - factorized_top_k/top_100_categorical_accuracy: 0.5490 - loss: 63375.5365 - regularization_loss: 0.0000e+00 - total_loss: 63375.5365"
     ]
    },
    {
     "name": "stderr",
     "output_type": "stream",
     "text": [
      "2023-07-06 11:27:31.120479: I tensorflow/core/common_runtime/executor.cc:1197] [/device:CPU:0] (DEBUG INFO) Executor start aborting (this does not indicate an error and you can ignore this message): INVALID_ARGUMENT: You must feed a value for placeholder tensor 'Placeholder/_8' with dtype resource\n",
      "\t [[{{node Placeholder/_8}}]]\n"
     ]
    },
    {
     "name": "stdout",
     "output_type": "stream",
     "text": [
      "8/8 [==============================] - 5s 664ms/step - factorized_top_k/top_1_categorical_accuracy: 0.0179 - factorized_top_k/top_5_categorical_accuracy: 0.1042 - factorized_top_k/top_10_categorical_accuracy: 0.1733 - factorized_top_k/top_50_categorical_accuracy: 0.4158 - factorized_top_k/top_100_categorical_accuracy: 0.5485 - loss: 53101.2188 - regularization_loss: 0.0000e+00 - total_loss: 53101.2188\n",
      "Epoch 7/10\n"
     ]
    },
    {
     "name": "stderr",
     "output_type": "stream",
     "text": [
      "2023-07-06 11:27:31.822575: I tensorflow/core/common_runtime/executor.cc:1197] [/device:CPU:0] (DEBUG INFO) Executor start aborting (this does not indicate an error and you can ignore this message): INVALID_ARGUMENT: You must feed a value for placeholder tensor 'Placeholder/_6' with dtype resource\n",
      "\t [[{{node Placeholder/_6}}]]\n",
      "2023-07-06 11:27:32.045712: I tensorflow/core/common_runtime/executor.cc:1197] [/device:CPU:0] (DEBUG INFO) Executor start aborting (this does not indicate an error and you can ignore this message): INVALID_ARGUMENT: You must feed a value for placeholder tensor 'Placeholder/_12' with dtype float and shape [8192,32]\n",
      "\t [[{{node Placeholder/_12}}]]\n"
     ]
    },
    {
     "name": "stdout",
     "output_type": "stream",
     "text": [
      "1/8 [==>...........................] - ETA: 5s - factorized_top_k/top_1_categorical_accuracy: 0.0193 - factorized_top_k/top_5_categorical_accuracy: 0.1158 - factorized_top_k/top_10_categorical_accuracy: 0.1835 - factorized_top_k/top_50_categorical_accuracy: 0.4316 - factorized_top_k/top_100_categorical_accuracy: 0.5634 - loss: 62515.5391 - regularization_loss: 0.0000e+00 - total_loss: 62515.5391"
     ]
    },
    {
     "name": "stderr",
     "output_type": "stream",
     "text": [
      "2023-07-06 11:27:32.795625: I tensorflow/core/common_runtime/executor.cc:1197] [/device:CPU:0] (DEBUG INFO) Executor start aborting (this does not indicate an error and you can ignore this message): INVALID_ARGUMENT: You must feed a value for placeholder tensor 'Placeholder/_6' with dtype resource\n",
      "\t [[{{node Placeholder/_6}}]]\n"
     ]
    },
    {
     "name": "stdout",
     "output_type": "stream",
     "text": [
      "2/8 [======>.......................] - ETA: 4s - factorized_top_k/top_1_categorical_accuracy: 0.0196 - factorized_top_k/top_5_categorical_accuracy: 0.1149 - factorized_top_k/top_10_categorical_accuracy: 0.1853 - factorized_top_k/top_50_categorical_accuracy: 0.4333 - factorized_top_k/top_100_categorical_accuracy: 0.5634 - loss: 62341.7031 - regularization_loss: 0.0000e+00 - total_loss: 62341.7031"
     ]
    },
    {
     "name": "stderr",
     "output_type": "stream",
     "text": [
      "2023-07-06 11:27:33.519437: I tensorflow/core/common_runtime/executor.cc:1197] [/device:CPU:0] (DEBUG INFO) Executor start aborting (this does not indicate an error and you can ignore this message): INVALID_ARGUMENT: You must feed a value for placeholder tensor 'Placeholder/_12' with dtype float and shape [8192,32]\n",
      "\t [[{{node Placeholder/_12}}]]\n"
     ]
    },
    {
     "name": "stdout",
     "output_type": "stream",
     "text": [
      "3/8 [==========>...................] - ETA: 3s - factorized_top_k/top_1_categorical_accuracy: 0.0203 - factorized_top_k/top_5_categorical_accuracy: 0.1143 - factorized_top_k/top_10_categorical_accuracy: 0.1869 - factorized_top_k/top_50_categorical_accuracy: 0.4359 - factorized_top_k/top_100_categorical_accuracy: 0.5662 - loss: 62236.1562 - regularization_loss: 0.0000e+00 - total_loss: 62236.1562"
     ]
    },
    {
     "name": "stderr",
     "output_type": "stream",
     "text": [
      "2023-07-06 11:27:34.263056: I tensorflow/core/common_runtime/executor.cc:1197] [/device:CPU:0] (DEBUG INFO) Executor start aborting (this does not indicate an error and you can ignore this message): INVALID_ARGUMENT: You must feed a value for placeholder tensor 'Placeholder/_6' with dtype resource\n",
      "\t [[{{node Placeholder/_6}}]]\n"
     ]
    },
    {
     "name": "stdout",
     "output_type": "stream",
     "text": [
      "4/8 [==============>...............] - ETA: 2s - factorized_top_k/top_1_categorical_accuracy: 0.0204 - factorized_top_k/top_5_categorical_accuracy: 0.1133 - factorized_top_k/top_10_categorical_accuracy: 0.1856 - factorized_top_k/top_50_categorical_accuracy: 0.4353 - factorized_top_k/top_100_categorical_accuracy: 0.5655 - loss: 62193.6953 - regularization_loss: 0.0000e+00 - total_loss: 62193.6953"
     ]
    },
    {
     "name": "stderr",
     "output_type": "stream",
     "text": [
      "2023-07-06 11:27:35.007167: I tensorflow/core/common_runtime/executor.cc:1197] [/device:CPU:0] (DEBUG INFO) Executor start aborting (this does not indicate an error and you can ignore this message): INVALID_ARGUMENT: You must feed a value for placeholder tensor 'Placeholder/_6' with dtype resource\n",
      "\t [[{{node Placeholder/_6}}]]\n"
     ]
    },
    {
     "name": "stdout",
     "output_type": "stream",
     "text": [
      "5/8 [=================>............] - ETA: 2s - factorized_top_k/top_1_categorical_accuracy: 0.0202 - factorized_top_k/top_5_categorical_accuracy: 0.1132 - factorized_top_k/top_10_categorical_accuracy: 0.1858 - factorized_top_k/top_50_categorical_accuracy: 0.4344 - factorized_top_k/top_100_categorical_accuracy: 0.5654 - loss: 62157.2570 - regularization_loss: 0.0000e+00 - total_loss: 62157.2570"
     ]
    },
    {
     "name": "stderr",
     "output_type": "stream",
     "text": [
      "2023-07-06 11:27:35.730030: I tensorflow/core/common_runtime/executor.cc:1197] [/device:CPU:0] (DEBUG INFO) Executor start aborting (this does not indicate an error and you can ignore this message): INVALID_ARGUMENT: You must feed a value for placeholder tensor 'Placeholder/_7' with dtype int64\n",
      "\t [[{{node Placeholder/_7}}]]\n"
     ]
    },
    {
     "name": "stdout",
     "output_type": "stream",
     "text": [
      "6/8 [=====================>........] - ETA: 1s - factorized_top_k/top_1_categorical_accuracy: 0.0199 - factorized_top_k/top_5_categorical_accuracy: 0.1127 - factorized_top_k/top_10_categorical_accuracy: 0.1853 - factorized_top_k/top_50_categorical_accuracy: 0.4347 - factorized_top_k/top_100_categorical_accuracy: 0.5650 - loss: 62145.4733 - regularization_loss: 0.0000e+00 - total_loss: 62145.4733"
     ]
    },
    {
     "name": "stderr",
     "output_type": "stream",
     "text": [
      "2023-07-06 11:27:36.468606: I tensorflow/core/common_runtime/executor.cc:1197] [/device:CPU:0] (DEBUG INFO) Executor start aborting (this does not indicate an error and you can ignore this message): INVALID_ARGUMENT: You must feed a value for placeholder tensor 'Placeholder/_10' with dtype resource\n",
      "\t [[{{node Placeholder/_10}}]]\n"
     ]
    },
    {
     "name": "stdout",
     "output_type": "stream",
     "text": [
      "8/8 [==============================] - 5s 660ms/step - factorized_top_k/top_1_categorical_accuracy: 0.0194 - factorized_top_k/top_5_categorical_accuracy: 0.1118 - factorized_top_k/top_10_categorical_accuracy: 0.1851 - factorized_top_k/top_50_categorical_accuracy: 0.4330 - factorized_top_k/top_100_categorical_accuracy: 0.5645 - loss: 52086.7639 - regularization_loss: 0.0000e+00 - total_loss: 52086.7639\n",
      "Epoch 8/10\n"
     ]
    },
    {
     "name": "stderr",
     "output_type": "stream",
     "text": [
      "2023-07-06 11:27:37.198987: I tensorflow/core/common_runtime/executor.cc:1197] [/device:CPU:0] (DEBUG INFO) Executor start aborting (this does not indicate an error and you can ignore this message): INVALID_ARGUMENT: You must feed a value for placeholder tensor 'Placeholder/_12' with dtype float and shape [2656,32]\n",
      "\t [[{{node Placeholder/_12}}]]\n",
      "2023-07-06 11:27:37.389581: I tensorflow/core/common_runtime/executor.cc:1197] [/device:CPU:0] (DEBUG INFO) Executor start aborting (this does not indicate an error and you can ignore this message): INVALID_ARGUMENT: You must feed a value for placeholder tensor 'Placeholder/_12' with dtype float and shape [8192,32]\n",
      "\t [[{{node Placeholder/_12}}]]\n"
     ]
    },
    {
     "name": "stdout",
     "output_type": "stream",
     "text": [
      "1/8 [==>...........................] - ETA: 5s - factorized_top_k/top_1_categorical_accuracy: 0.0208 - factorized_top_k/top_5_categorical_accuracy: 0.1206 - factorized_top_k/top_10_categorical_accuracy: 0.1915 - factorized_top_k/top_50_categorical_accuracy: 0.4491 - factorized_top_k/top_100_categorical_accuracy: 0.5686 - loss: 61483.2734 - regularization_loss: 0.0000e+00 - total_loss: 61483.2734"
     ]
    },
    {
     "name": "stderr",
     "output_type": "stream",
     "text": [
      "2023-07-06 11:27:38.106960: I tensorflow/core/common_runtime/executor.cc:1197] [/device:CPU:0] (DEBUG INFO) Executor start aborting (this does not indicate an error and you can ignore this message): INVALID_ARGUMENT: You must feed a value for placeholder tensor 'Placeholder/_6' with dtype resource\n",
      "\t [[{{node Placeholder/_6}}]]\n"
     ]
    },
    {
     "name": "stdout",
     "output_type": "stream",
     "text": [
      "2/8 [======>.......................] - ETA: 4s - factorized_top_k/top_1_categorical_accuracy: 0.0203 - factorized_top_k/top_5_categorical_accuracy: 0.1201 - factorized_top_k/top_10_categorical_accuracy: 0.1959 - factorized_top_k/top_50_categorical_accuracy: 0.4478 - factorized_top_k/top_100_categorical_accuracy: 0.5726 - loss: 61324.5859 - regularization_loss: 0.0000e+00 - total_loss: 61324.5859"
     ]
    },
    {
     "name": "stderr",
     "output_type": "stream",
     "text": [
      "2023-07-06 11:27:38.856643: I tensorflow/core/common_runtime/executor.cc:1197] [/device:CPU:0] (DEBUG INFO) Executor start aborting (this does not indicate an error and you can ignore this message): INVALID_ARGUMENT: You must feed a value for placeholder tensor 'Placeholder/_12' with dtype float and shape [8192,32]\n",
      "\t [[{{node Placeholder/_12}}]]\n"
     ]
    },
    {
     "name": "stdout",
     "output_type": "stream",
     "text": [
      "3/8 [==========>...................] - ETA: 3s - factorized_top_k/top_1_categorical_accuracy: 0.0207 - factorized_top_k/top_5_categorical_accuracy: 0.1198 - factorized_top_k/top_10_categorical_accuracy: 0.1956 - factorized_top_k/top_50_categorical_accuracy: 0.4488 - factorized_top_k/top_100_categorical_accuracy: 0.5755 - loss: 61240.2591 - regularization_loss: 0.0000e+00 - total_loss: 61240.2591"
     ]
    },
    {
     "name": "stderr",
     "output_type": "stream",
     "text": [
      "2023-07-06 11:27:39.706227: I tensorflow/core/common_runtime/executor.cc:1197] [/device:CPU:0] (DEBUG INFO) Executor start aborting (this does not indicate an error and you can ignore this message): INVALID_ARGUMENT: You must feed a value for placeholder tensor 'Placeholder/_8' with dtype resource\n",
      "\t [[{{node Placeholder/_8}}]]\n"
     ]
    },
    {
     "name": "stdout",
     "output_type": "stream",
     "text": [
      "4/8 [==============>...............] - ETA: 3s - factorized_top_k/top_1_categorical_accuracy: 0.0203 - factorized_top_k/top_5_categorical_accuracy: 0.1189 - factorized_top_k/top_10_categorical_accuracy: 0.1938 - factorized_top_k/top_50_categorical_accuracy: 0.4477 - factorized_top_k/top_100_categorical_accuracy: 0.5758 - loss: 61218.7900 - regularization_loss: 0.0000e+00 - total_loss: 61218.7900"
     ]
    },
    {
     "name": "stderr",
     "output_type": "stream",
     "text": [
      "2023-07-06 11:27:40.474118: I tensorflow/core/common_runtime/executor.cc:1197] [/device:CPU:0] (DEBUG INFO) Executor start aborting (this does not indicate an error and you can ignore this message): INVALID_ARGUMENT: You must feed a value for placeholder tensor 'Placeholder/_0' with dtype string and shape [2349]\n",
      "\t [[{{node Placeholder/_0}}]]\n"
     ]
    },
    {
     "name": "stdout",
     "output_type": "stream",
     "text": [
      "5/8 [=================>............] - ETA: 2s - factorized_top_k/top_1_categorical_accuracy: 0.0203 - factorized_top_k/top_5_categorical_accuracy: 0.1185 - factorized_top_k/top_10_categorical_accuracy: 0.1936 - factorized_top_k/top_50_categorical_accuracy: 0.4464 - factorized_top_k/top_100_categorical_accuracy: 0.5752 - loss: 61198.1656 - regularization_loss: 0.0000e+00 - total_loss: 61198.1656"
     ]
    },
    {
     "name": "stderr",
     "output_type": "stream",
     "text": [
      "2023-07-06 11:27:41.286701: I tensorflow/core/common_runtime/executor.cc:1197] [/device:CPU:0] (DEBUG INFO) Executor start aborting (this does not indicate an error and you can ignore this message): INVALID_ARGUMENT: You must feed a value for placeholder tensor 'Placeholder/_6' with dtype resource\n",
      "\t [[{{node Placeholder/_6}}]]\n"
     ]
    },
    {
     "name": "stdout",
     "output_type": "stream",
     "text": [
      "6/8 [=====================>........] - ETA: 1s - factorized_top_k/top_1_categorical_accuracy: 0.0199 - factorized_top_k/top_5_categorical_accuracy: 0.1180 - factorized_top_k/top_10_categorical_accuracy: 0.1939 - factorized_top_k/top_50_categorical_accuracy: 0.4469 - factorized_top_k/top_100_categorical_accuracy: 0.5750 - loss: 61202.1432 - regularization_loss: 0.0000e+00 - total_loss: 61202.1432"
     ]
    },
    {
     "name": "stderr",
     "output_type": "stream",
     "text": [
      "2023-07-06 11:27:42.044365: I tensorflow/core/common_runtime/executor.cc:1197] [/device:CPU:0] (DEBUG INFO) Executor start aborting (this does not indicate an error and you can ignore this message): INVALID_ARGUMENT: You must feed a value for placeholder tensor 'Placeholder/_6' with dtype resource\n",
      "\t [[{{node Placeholder/_6}}]]\n"
     ]
    },
    {
     "name": "stdout",
     "output_type": "stream",
     "text": [
      "8/8 [==============================] - 6s 699ms/step - factorized_top_k/top_1_categorical_accuracy: 0.0190 - factorized_top_k/top_5_categorical_accuracy: 0.1169 - factorized_top_k/top_10_categorical_accuracy: 0.1933 - factorized_top_k/top_50_categorical_accuracy: 0.4450 - factorized_top_k/top_100_categorical_accuracy: 0.5739 - loss: 51306.9792 - regularization_loss: 0.0000e+00 - total_loss: 51306.9792\n",
      "Epoch 9/10\n"
     ]
    },
    {
     "name": "stderr",
     "output_type": "stream",
     "text": [
      "2023-07-06 11:27:42.813650: I tensorflow/core/common_runtime/executor.cc:1197] [/device:CPU:0] (DEBUG INFO) Executor start aborting (this does not indicate an error and you can ignore this message): INVALID_ARGUMENT: You must feed a value for placeholder tensor 'Placeholder/_12' with dtype float and shape [2656,32]\n",
      "\t [[{{node Placeholder/_12}}]]\n",
      "2023-07-06 11:27:43.002842: I tensorflow/core/common_runtime/executor.cc:1197] [/device:CPU:0] (DEBUG INFO) Executor start aborting (this does not indicate an error and you can ignore this message): INVALID_ARGUMENT: You must feed a value for placeholder tensor 'Placeholder/_12' with dtype float and shape [8192,32]\n",
      "\t [[{{node Placeholder/_12}}]]\n"
     ]
    },
    {
     "name": "stdout",
     "output_type": "stream",
     "text": [
      "1/8 [==>...........................] - ETA: 5s - factorized_top_k/top_1_categorical_accuracy: 0.0220 - factorized_top_k/top_5_categorical_accuracy: 0.1254 - factorized_top_k/top_10_categorical_accuracy: 0.2001 - factorized_top_k/top_50_categorical_accuracy: 0.4569 - factorized_top_k/top_100_categorical_accuracy: 0.5774 - loss: 60676.6172 - regularization_loss: 0.0000e+00 - total_loss: 60676.6172"
     ]
    },
    {
     "name": "stderr",
     "output_type": "stream",
     "text": [
      "2023-07-06 11:27:43.763356: I tensorflow/core/common_runtime/executor.cc:1197] [/device:CPU:0] (DEBUG INFO) Executor start aborting (this does not indicate an error and you can ignore this message): INVALID_ARGUMENT: You must feed a value for placeholder tensor 'Placeholder/_12' with dtype float and shape [8192,32]\n",
      "\t [[{{node Placeholder/_12}}]]\n"
     ]
    },
    {
     "name": "stdout",
     "output_type": "stream",
     "text": [
      "2/8 [======>.......................] - ETA: 4s - factorized_top_k/top_1_categorical_accuracy: 0.0218 - factorized_top_k/top_5_categorical_accuracy: 0.1243 - factorized_top_k/top_10_categorical_accuracy: 0.2034 - factorized_top_k/top_50_categorical_accuracy: 0.4562 - factorized_top_k/top_100_categorical_accuracy: 0.5816 - loss: 60530.9004 - regularization_loss: 0.0000e+00 - total_loss: 60530.9004"
     ]
    },
    {
     "name": "stderr",
     "output_type": "stream",
     "text": [
      "2023-07-06 11:27:44.525810: I tensorflow/core/common_runtime/executor.cc:1197] [/device:CPU:0] (DEBUG INFO) Executor start aborting (this does not indicate an error and you can ignore this message): INVALID_ARGUMENT: You must feed a value for placeholder tensor 'Placeholder/_10' with dtype resource\n",
      "\t [[{{node Placeholder/_10}}]]\n"
     ]
    },
    {
     "name": "stdout",
     "output_type": "stream",
     "text": [
      "3/8 [==========>...................] - ETA: 3s - factorized_top_k/top_1_categorical_accuracy: 0.0223 - factorized_top_k/top_5_categorical_accuracy: 0.1231 - factorized_top_k/top_10_categorical_accuracy: 0.2028 - factorized_top_k/top_50_categorical_accuracy: 0.4568 - factorized_top_k/top_100_categorical_accuracy: 0.5846 - loss: 60462.7109 - regularization_loss: 0.0000e+00 - total_loss: 60462.7109"
     ]
    },
    {
     "name": "stderr",
     "output_type": "stream",
     "text": [
      "2023-07-06 11:27:45.313007: I tensorflow/core/common_runtime/executor.cc:1197] [/device:CPU:0] (DEBUG INFO) Executor start aborting (this does not indicate an error and you can ignore this message): INVALID_ARGUMENT: You must feed a value for placeholder tensor 'Placeholder/_10' with dtype resource\n",
      "\t [[{{node Placeholder/_10}}]]\n"
     ]
    },
    {
     "name": "stdout",
     "output_type": "stream",
     "text": [
      "4/8 [==============>...............] - ETA: 3s - factorized_top_k/top_1_categorical_accuracy: 0.0217 - factorized_top_k/top_5_categorical_accuracy: 0.1216 - factorized_top_k/top_10_categorical_accuracy: 0.2007 - factorized_top_k/top_50_categorical_accuracy: 0.4550 - factorized_top_k/top_100_categorical_accuracy: 0.5841 - loss: 60455.9736 - regularization_loss: 0.0000e+00 - total_loss: 60455.9736"
     ]
    },
    {
     "name": "stderr",
     "output_type": "stream",
     "text": [
      "2023-07-06 11:27:46.111922: I tensorflow/core/common_runtime/executor.cc:1197] [/device:CPU:0] (DEBUG INFO) Executor start aborting (this does not indicate an error and you can ignore this message): INVALID_ARGUMENT: You must feed a value for placeholder tensor 'Placeholder/_6' with dtype resource\n",
      "\t [[{{node Placeholder/_6}}]]\n"
     ]
    },
    {
     "name": "stdout",
     "output_type": "stream",
     "text": [
      "5/8 [=================>............] - ETA: 2s - factorized_top_k/top_1_categorical_accuracy: 0.0218 - factorized_top_k/top_5_categorical_accuracy: 0.1216 - factorized_top_k/top_10_categorical_accuracy: 0.2007 - factorized_top_k/top_50_categorical_accuracy: 0.4542 - factorized_top_k/top_100_categorical_accuracy: 0.5830 - loss: 60445.7914 - regularization_loss: 0.0000e+00 - total_loss: 60445.7914"
     ]
    },
    {
     "name": "stderr",
     "output_type": "stream",
     "text": [
      "2023-07-06 11:27:46.894429: I tensorflow/core/common_runtime/executor.cc:1197] [/device:CPU:0] (DEBUG INFO) Executor start aborting (this does not indicate an error and you can ignore this message): INVALID_ARGUMENT: You must feed a value for placeholder tensor 'Placeholder/_12' with dtype float and shape [8192,32]\n",
      "\t [[{{node Placeholder/_12}}]]\n"
     ]
    },
    {
     "name": "stdout",
     "output_type": "stream",
     "text": [
      "6/8 [=====================>........] - ETA: 1s - factorized_top_k/top_1_categorical_accuracy: 0.0214 - factorized_top_k/top_5_categorical_accuracy: 0.1212 - factorized_top_k/top_10_categorical_accuracy: 0.2007 - factorized_top_k/top_50_categorical_accuracy: 0.4545 - factorized_top_k/top_100_categorical_accuracy: 0.5826 - loss: 60460.2279 - regularization_loss: 0.0000e+00 - total_loss: 60460.2279"
     ]
    },
    {
     "name": "stderr",
     "output_type": "stream",
     "text": [
      "2023-07-06 11:27:47.651683: I tensorflow/core/common_runtime/executor.cc:1197] [/device:CPU:0] (DEBUG INFO) Executor start aborting (this does not indicate an error and you can ignore this message): INVALID_ARGUMENT: You must feed a value for placeholder tensor 'Placeholder/_6' with dtype resource\n",
      "\t [[{{node Placeholder/_6}}]]\n"
     ]
    },
    {
     "name": "stdout",
     "output_type": "stream",
     "text": [
      "8/8 [==============================] - 6s 699ms/step - factorized_top_k/top_1_categorical_accuracy: 0.0205 - factorized_top_k/top_5_categorical_accuracy: 0.1201 - factorized_top_k/top_10_categorical_accuracy: 0.1998 - factorized_top_k/top_50_categorical_accuracy: 0.4532 - factorized_top_k/top_100_categorical_accuracy: 0.5814 - loss: 50692.4319 - regularization_loss: 0.0000e+00 - total_loss: 50692.4319\n"
     ]
    },
    {
     "name": "stderr",
     "output_type": "stream",
     "text": [
      "2023-07-06 11:27:48.429111: I tensorflow/core/common_runtime/executor.cc:1197] [/device:CPU:0] (DEBUG INFO) Executor start aborting (this does not indicate an error and you can ignore this message): INVALID_ARGUMENT: You must feed a value for placeholder tensor 'Placeholder/_12' with dtype float and shape [2656,32]\n",
      "\t [[{{node Placeholder/_12}}]]\n"
     ]
    },
    {
     "name": "stdout",
     "output_type": "stream",
     "text": [
      "Epoch 10/10\n"
     ]
    },
    {
     "name": "stderr",
     "output_type": "stream",
     "text": [
      "2023-07-06 11:27:48.700037: I tensorflow/core/common_runtime/executor.cc:1197] [/device:CPU:0] (DEBUG INFO) Executor start aborting (this does not indicate an error and you can ignore this message): INVALID_ARGUMENT: You must feed a value for placeholder tensor 'Placeholder/_7' with dtype int64\n",
      "\t [[{{node Placeholder/_7}}]]\n"
     ]
    },
    {
     "name": "stdout",
     "output_type": "stream",
     "text": [
      "1/8 [==>...........................] - ETA: 5s - factorized_top_k/top_1_categorical_accuracy: 0.0223 - factorized_top_k/top_5_categorical_accuracy: 0.1288 - factorized_top_k/top_10_categorical_accuracy: 0.2056 - factorized_top_k/top_50_categorical_accuracy: 0.4640 - factorized_top_k/top_100_categorical_accuracy: 0.5828 - loss: 60031.7422 - regularization_loss: 0.0000e+00 - total_loss: 60031.7422"
     ]
    },
    {
     "name": "stderr",
     "output_type": "stream",
     "text": [
      "2023-07-06 11:27:49.497877: I tensorflow/core/common_runtime/executor.cc:1197] [/device:CPU:0] (DEBUG INFO) Executor start aborting (this does not indicate an error and you can ignore this message): INVALID_ARGUMENT: You must feed a value for placeholder tensor 'Placeholder/_12' with dtype float and shape [8192,32]\n",
      "\t [[{{node Placeholder/_12}}]]\n"
     ]
    },
    {
     "name": "stdout",
     "output_type": "stream",
     "text": [
      "2/8 [======>.......................] - ETA: 4s - factorized_top_k/top_1_categorical_accuracy: 0.0228 - factorized_top_k/top_5_categorical_accuracy: 0.1289 - factorized_top_k/top_10_categorical_accuracy: 0.2078 - factorized_top_k/top_50_categorical_accuracy: 0.4631 - factorized_top_k/top_100_categorical_accuracy: 0.5878 - loss: 59897.3984 - regularization_loss: 0.0000e+00 - total_loss: 59897.3984"
     ]
    },
    {
     "name": "stderr",
     "output_type": "stream",
     "text": [
      "2023-07-06 11:27:50.287117: I tensorflow/core/common_runtime/executor.cc:1197] [/device:CPU:0] (DEBUG INFO) Executor start aborting (this does not indicate an error and you can ignore this message): INVALID_ARGUMENT: You must feed a value for placeholder tensor 'Placeholder/_6' with dtype resource\n",
      "\t [[{{node Placeholder/_6}}]]\n"
     ]
    },
    {
     "name": "stdout",
     "output_type": "stream",
     "text": [
      "3/8 [==========>...................] - ETA: 3s - factorized_top_k/top_1_categorical_accuracy: 0.0227 - factorized_top_k/top_5_categorical_accuracy: 0.1272 - factorized_top_k/top_10_categorical_accuracy: 0.2075 - factorized_top_k/top_50_categorical_accuracy: 0.4629 - factorized_top_k/top_100_categorical_accuracy: 0.5905 - loss: 59841.5898 - regularization_loss: 0.0000e+00 - total_loss: 59841.5898"
     ]
    },
    {
     "name": "stderr",
     "output_type": "stream",
     "text": [
      "2023-07-06 11:27:51.096553: I tensorflow/core/common_runtime/executor.cc:1197] [/device:CPU:0] (DEBUG INFO) Executor start aborting (this does not indicate an error and you can ignore this message): INVALID_ARGUMENT: You must feed a value for placeholder tensor 'Placeholder/_12' with dtype float and shape [8192,32]\n",
      "\t [[{{node Placeholder/_12}}]]\n"
     ]
    },
    {
     "name": "stdout",
     "output_type": "stream",
     "text": [
      "4/8 [==============>...............] - ETA: 3s - factorized_top_k/top_1_categorical_accuracy: 0.0223 - factorized_top_k/top_5_categorical_accuracy: 0.1256 - factorized_top_k/top_10_categorical_accuracy: 0.2054 - factorized_top_k/top_50_categorical_accuracy: 0.4616 - factorized_top_k/top_100_categorical_accuracy: 0.5898 - loss: 59845.1572 - regularization_loss: 0.0000e+00 - total_loss: 59845.1572"
     ]
    },
    {
     "name": "stderr",
     "output_type": "stream",
     "text": [
      "2023-07-06 11:27:51.872273: I tensorflow/core/common_runtime/executor.cc:1197] [/device:CPU:0] (DEBUG INFO) Executor start aborting (this does not indicate an error and you can ignore this message): INVALID_ARGUMENT: You must feed a value for placeholder tensor 'Placeholder/_8' with dtype resource\n",
      "\t [[{{node Placeholder/_8}}]]\n"
     ]
    },
    {
     "name": "stdout",
     "output_type": "stream",
     "text": [
      "5/8 [=================>............] - ETA: 2s - factorized_top_k/top_1_categorical_accuracy: 0.0221 - factorized_top_k/top_5_categorical_accuracy: 0.1251 - factorized_top_k/top_10_categorical_accuracy: 0.2048 - factorized_top_k/top_50_categorical_accuracy: 0.4605 - factorized_top_k/top_100_categorical_accuracy: 0.5888 - loss: 59841.8953 - regularization_loss: 0.0000e+00 - total_loss: 59841.8953"
     ]
    },
    {
     "name": "stderr",
     "output_type": "stream",
     "text": [
      "2023-07-06 11:27:52.708294: I tensorflow/core/common_runtime/executor.cc:1197] [/device:CPU:0] (DEBUG INFO) Executor start aborting (this does not indicate an error and you can ignore this message): INVALID_ARGUMENT: You must feed a value for placeholder tensor 'Placeholder/_7' with dtype int64\n",
      "\t [[{{node Placeholder/_7}}]]\n"
     ]
    },
    {
     "name": "stdout",
     "output_type": "stream",
     "text": [
      "6/8 [=====================>........] - ETA: 1s - factorized_top_k/top_1_categorical_accuracy: 0.0216 - factorized_top_k/top_5_categorical_accuracy: 0.1249 - factorized_top_k/top_10_categorical_accuracy: 0.2047 - factorized_top_k/top_50_categorical_accuracy: 0.4607 - factorized_top_k/top_100_categorical_accuracy: 0.5884 - loss: 59863.3014 - regularization_loss: 0.0000e+00 - total_loss: 59863.3014"
     ]
    },
    {
     "name": "stderr",
     "output_type": "stream",
     "text": [
      "2023-07-06 11:27:53.448101: I tensorflow/core/common_runtime/executor.cc:1197] [/device:CPU:0] (DEBUG INFO) Executor start aborting (this does not indicate an error and you can ignore this message): INVALID_ARGUMENT: You must feed a value for placeholder tensor 'Placeholder/_6' with dtype resource\n",
      "\t [[{{node Placeholder/_6}}]]\n"
     ]
    },
    {
     "name": "stdout",
     "output_type": "stream",
     "text": [
      "8/8 [==============================] - 6s 705ms/step - factorized_top_k/top_1_categorical_accuracy: 0.0207 - factorized_top_k/top_5_categorical_accuracy: 0.1237 - factorized_top_k/top_10_categorical_accuracy: 0.2042 - factorized_top_k/top_50_categorical_accuracy: 0.4594 - factorized_top_k/top_100_categorical_accuracy: 0.5871 - loss: 50197.1066 - regularization_loss: 0.0000e+00 - total_loss: 50197.1066\n"
     ]
    },
    {
     "name": "stderr",
     "output_type": "stream",
     "text": [
      "2023-07-06 11:27:54.225569: I tensorflow/core/common_runtime/executor.cc:1197] [/device:CPU:0] (DEBUG INFO) Executor start aborting (this does not indicate an error and you can ignore this message): INVALID_ARGUMENT: You must feed a value for placeholder tensor 'Placeholder/_12' with dtype float and shape [2656,32]\n",
      "\t [[{{node Placeholder/_12}}]]\n",
      "2023-07-06 11:27:54.391539: I tensorflow/core/common_runtime/executor.cc:1197] [/device:CPU:0] (DEBUG INFO) Executor start aborting (this does not indicate an error and you can ignore this message): INVALID_ARGUMENT: You must feed a value for placeholder tensor 'Placeholder/_1' with dtype string and shape [172701]\n",
      "\t [[{{node Placeholder/_1}}]]\n",
      "2023-07-06 11:27:54.391886: I tensorflow/core/common_runtime/executor.cc:1197] [/device:CPU:0] (DEBUG INFO) Executor start aborting (this does not indicate an error and you can ignore this message): INVALID_ARGUMENT: You must feed a value for placeholder tensor 'Placeholder/_1' with dtype string and shape [172701]\n",
      "\t [[{{node Placeholder/_1}}]]\n",
      "2023-07-06 11:27:56.813498: I tensorflow/core/common_runtime/executor.cc:1197] [/device:CPU:0] (DEBUG INFO) Executor start aborting (this does not indicate an error and you can ignore this message): INVALID_ARGUMENT: You must feed a value for placeholder tensor 'Placeholder/_0' with dtype string and shape [2349]\n",
      "\t [[{{node Placeholder/_0}}]]\n"
     ]
    },
    {
     "name": "stdout",
     "output_type": "stream",
     "text": [
      "1/5 [=====>........................] - ETA: 10s - factorized_top_k/top_1_categorical_accuracy: 4.8828e-04 - factorized_top_k/top_5_categorical_accuracy: 0.0044 - factorized_top_k/top_10_categorical_accuracy: 0.0117 - factorized_top_k/top_50_categorical_accuracy: 0.0642 - factorized_top_k/top_100_categorical_accuracy: 0.1208 - loss: 35877.3828 - regularization_loss: 0.0000e+00 - total_loss: 35877.3828"
     ]
    },
    {
     "name": "stderr",
     "output_type": "stream",
     "text": [
      "2023-07-06 11:27:57.104375: I tensorflow/core/common_runtime/executor.cc:1197] [/device:CPU:0] (DEBUG INFO) Executor start aborting (this does not indicate an error and you can ignore this message): INVALID_ARGUMENT: You must feed a value for placeholder tensor 'Placeholder/_6' with dtype resource\n",
      "\t [[{{node Placeholder/_6}}]]\n"
     ]
    },
    {
     "name": "stdout",
     "output_type": "stream",
     "text": [
      "2/5 [===========>..................] - ETA: 1s - factorized_top_k/top_1_categorical_accuracy: 4.8828e-04 - factorized_top_k/top_5_categorical_accuracy: 0.0034 - factorized_top_k/top_10_categorical_accuracy: 0.0111 - factorized_top_k/top_50_categorical_accuracy: 0.0605 - factorized_top_k/top_100_categorical_accuracy: 0.1134 - loss: 35815.3320 - regularization_loss: 0.0000e+00 - total_loss: 35815.3320 "
     ]
    },
    {
     "name": "stderr",
     "output_type": "stream",
     "text": [
      "2023-07-06 11:27:57.463507: I tensorflow/core/common_runtime/executor.cc:1197] [/device:CPU:0] (DEBUG INFO) Executor start aborting (this does not indicate an error and you can ignore this message): INVALID_ARGUMENT: You must feed a value for placeholder tensor 'Placeholder/_8' with dtype resource\n",
      "\t [[{{node Placeholder/_8}}]]\n"
     ]
    },
    {
     "name": "stdout",
     "output_type": "stream",
     "text": [
      "3/5 [=================>............] - ETA: 0s - factorized_top_k/top_1_categorical_accuracy: 4.8828e-04 - factorized_top_k/top_5_categorical_accuracy: 0.0035 - factorized_top_k/top_10_categorical_accuracy: 0.0111 - factorized_top_k/top_50_categorical_accuracy: 0.0627 - factorized_top_k/top_100_categorical_accuracy: 0.1152 - loss: 35780.1094 - regularization_loss: 0.0000e+00 - total_loss: 35780.1094"
     ]
    },
    {
     "name": "stderr",
     "output_type": "stream",
     "text": [
      "2023-07-06 11:27:57.798473: I tensorflow/core/common_runtime/executor.cc:1197] [/device:CPU:0] (DEBUG INFO) Executor start aborting (this does not indicate an error and you can ignore this message): INVALID_ARGUMENT: You must feed a value for placeholder tensor 'Placeholder/_0' with dtype string and shape [2349]\n",
      "\t [[{{node Placeholder/_0}}]]\n"
     ]
    },
    {
     "name": "stdout",
     "output_type": "stream",
     "text": [
      "4/5 [=======================>......] - ETA: 0s - factorized_top_k/top_1_categorical_accuracy: 4.2725e-04 - factorized_top_k/top_5_categorical_accuracy: 0.0035 - factorized_top_k/top_10_categorical_accuracy: 0.0109 - factorized_top_k/top_50_categorical_accuracy: 0.0607 - factorized_top_k/top_100_categorical_accuracy: 0.1119 - loss: 35835.7969 - regularization_loss: 0.0000e+00 - total_loss: 35835.7969"
     ]
    },
    {
     "name": "stderr",
     "output_type": "stream",
     "text": [
      "2023-07-06 11:27:58.052970: I tensorflow/core/common_runtime/executor.cc:1197] [/device:CPU:0] (DEBUG INFO) Executor start aborting (this does not indicate an error and you can ignore this message): INVALID_ARGUMENT: You must feed a value for placeholder tensor 'Placeholder/_8' with dtype resource\n",
      "\t [[{{node Placeholder/_8}}]]\n"
     ]
    },
    {
     "name": "stdout",
     "output_type": "stream",
     "text": [
      "5/5 [==============================] - 4s 298ms/step - factorized_top_k/top_1_categorical_accuracy: 4.0000e-04 - factorized_top_k/top_5_categorical_accuracy: 0.0037 - factorized_top_k/top_10_categorical_accuracy: 0.0112 - factorized_top_k/top_50_categorical_accuracy: 0.0603 - factorized_top_k/top_100_categorical_accuracy: 0.1116 - loss: 34283.5169 - regularization_loss: 0.0000e+00 - total_loss: 34283.5169\n"
     ]
    },
    {
     "data": {
      "text/plain": [
       "{'factorized_top_k/top_1_categorical_accuracy': 0.00039999998989515007,\n",
       " 'factorized_top_k/top_5_categorical_accuracy': 0.003700000001117587,\n",
       " 'factorized_top_k/top_10_categorical_accuracy': 0.01119999960064888,\n",
       " 'factorized_top_k/top_50_categorical_accuracy': 0.06030000001192093,\n",
       " 'factorized_top_k/top_100_categorical_accuracy': 0.11159999668598175,\n",
       " 'loss': 31178.95703125,\n",
       " 'regularization_loss': 0,\n",
       " 'total_loss': 31178.95703125}"
      ]
     },
     "execution_count": 8,
     "metadata": {},
     "output_type": "execute_result"
    }
   ],
   "source": [
    "### Fitting and evaluating\n",
    "\n",
    "### we choose the dimensionality of the query and candicate representation.\n",
    "embedding_dimension = 32\n",
    "\n",
    "## we pass the model, which is the same model we created in the query and candidate tower, into the model\n",
    "item_model = tf.keras.Sequential([\n",
    "                                tf.keras.layers.experimental.preprocessing.StringLookup(\n",
    "                                vocabulary=unique_item_titles, mask_token=None),\n",
    "                                tf.keras.layers.Embedding(len(unique_item_titles) + 1, embedding_dimension)\n",
    "                                ])\n",
    "\n",
    "user_model = tf.keras.Sequential([\n",
    "                                tf.keras.layers.experimental.preprocessing.StringLookup(\n",
    "                                vocabulary=unique_user_ids, mask_token=None),\n",
    "                                # We add an additional embedding to account for unknown tokens.\n",
    "                                tf.keras.layers.Embedding(len(unique_user_ids) + 1, embedding_dimension)\n",
    "                                ])\n",
    "\n",
    "model = RetailModel(user_model, item_model)\n",
    "\n",
    "# a smaller learning rate may make the model move slower and prone to overfitting, so we stick to 0.1\n",
    "# other optimizers, such as SGD and Adam, are listed here https://www.tensorflow.org/api_docs/python/tf/keras/optimizers\n",
    "model.compile(optimizer=tf.keras.optimizers.Adagrad(learning_rate=0.1))\n",
    "\n",
    "cached_train = train.shuffle(100_000).batch(8192).cache()\n",
    "cached_test = test.batch(4096).cache()\n",
    "\n",
    "## fit the model with ten epochs\n",
    "model_hist = model.fit(cached_train, epochs=10)\n",
    "\n",
    "#evaluate the model\n",
    "model.evaluate(cached_test, return_dict=True)"
   ]
  },
  {
   "attachments": {},
   "cell_type": "markdown",
   "metadata": {},
   "source": [
    "# Predictions"
   ]
  },
  {
   "cell_type": "code",
   "execution_count": 203,
   "metadata": {},
   "outputs": [
    {
     "name": "stderr",
     "output_type": "stream",
     "text": [
      "2023-07-06 12:49:11.289770: I tensorflow/core/common_runtime/executor.cc:1197] [/device:CPU:0] (DEBUG INFO) Executor start aborting (this does not indicate an error and you can ignore this message): INVALID_ARGUMENT: You must feed a value for placeholder tensor 'Placeholder/_8' with dtype resource\n",
      "\t [[{{node Placeholder/_8}}]]\n"
     ]
    },
    {
     "data": {
      "text/plain": [
       "<tensorflow_recommenders.layers.factorized_top_k.BruteForce at 0x7f8702457040>"
      ]
     },
     "execution_count": 203,
     "metadata": {},
     "output_type": "execute_result"
    }
   ],
   "source": [
    "# Create a model that takes in raw query features, and\n",
    "index = tfrs.layers.factorized_top_k.BruteForce(model.user_model, k=10)\n",
    "\n",
    "index.index_from_dataset(items.batch(100).map(lambda title: (title, model.item_model(title))))"
   ]
  },
  {
   "cell_type": "code",
   "execution_count": 215,
   "metadata": {},
   "outputs": [
    {
     "data": {
      "text/plain": [
       "'22459'"
      ]
     },
     "execution_count": 215,
     "metadata": {},
     "output_type": "execute_result"
    }
   ],
   "source": [
    "index(tf.constant([\"15262\"]))[1][0][1].numpy().decode()"
   ]
  },
  {
   "attachments": {},
   "cell_type": "markdown",
   "metadata": {},
   "source": [
    "# Create Top K List per User"
   ]
  },
  {
   "cell_type": "code",
   "execution_count": 204,
   "metadata": {},
   "outputs": [],
   "source": [
    "# First we select all users in a list \n",
    "all_users = original_df['CustomerID'].unique().tolist()"
   ]
  },
  {
   "cell_type": "code",
   "execution_count": 205,
   "metadata": {},
   "outputs": [],
   "source": [
    "# Create Data Frame \n",
    "# First Set up empty lists \n",
    "c_name = []\n",
    "i_name = []\n",
    "\n",
    "# Iterate through all users \n",
    "for u in all_users:\n",
    "    for i in range(10):\n",
    "        ranked_item = index(np.array([u]))[1][0][i].numpy().decode()\n",
    "        c_name.append(u)\n",
    "        i_name.append(ranked_item)\n",
    "\n",
    "\n",
    "# Create Dataframe         \n",
    "df_predictions = pd.DataFrame({\n",
    "    \"CustomerID\": c_name,\n",
    "    \"StockCode\" : i_name\n",
    "})\n",
    "\n",
    "# Add Predictions Column\n",
    "df_predictions['predictions'] = 1.0"
   ]
  },
  {
   "cell_type": "code",
   "execution_count": 206,
   "metadata": {},
   "outputs": [],
   "source": [
    "# Create Test Dataset\n",
    "test_list = list(test.as_numpy_iterator())\n",
    "df_test = pd.DataFrame(test_list, columns=['user_id', 'product_id', 'purchased'])\n",
    "df_test['user_id'] = df_test['user_id'].str.decode('utf-8')\n",
    "df_test['product_id'] = df_test['product_id'].str.decode('utf-8')\n",
    "df_test = df_test.rename(columns={'user_id':'CustomerID', 'product_id':'StockCode'})\n"
   ]
  },
  {
   "cell_type": "code",
   "execution_count": 207,
   "metadata": {},
   "outputs": [],
   "source": [
    "# Ensure that the same items and users are in both sets \n",
    "# Find the set of unique items in both the train and test sets\n",
    "prediction_items = set(df_predictions['CustomerID'].unique())\n",
    "test_items = set(df_test['CustomerID'].unique())\n",
    "\n",
    "# Find the intersection of the sets from step 1\n",
    "common_items = prediction_items.intersection(test_items)\n",
    "\n",
    "# Filter the train and test sets to include only the rows with item IDs that are in the intersection set\n",
    "df_predictions = df_predictions[df_predictions['CustomerID'].isin(common_items)]\n",
    "df_test = df_test[df_test['CustomerID'].isin(common_items)]"
   ]
  },
  {
   "cell_type": "code",
   "execution_count": 208,
   "metadata": {},
   "outputs": [],
   "source": [
    "# Send to csv for further assessment\n",
    "df_predictions.to_csv('pred.csv',index=False)\n",
    "df_test.to_csv('test.csv', index=False)"
   ]
  }
 ],
 "metadata": {
  "kernelspec": {
   "display_name": "recom",
   "language": "python",
   "name": "python3"
  },
  "language_info": {
   "codemirror_mode": {
    "name": "ipython",
    "version": 3
   },
   "file_extension": ".py",
   "mimetype": "text/x-python",
   "name": "python",
   "nbconvert_exporter": "python",
   "pygments_lexer": "ipython3",
   "version": "3.10.11"
  },
  "orig_nbformat": 4
 },
 "nbformat": 4,
 "nbformat_minor": 2
}
