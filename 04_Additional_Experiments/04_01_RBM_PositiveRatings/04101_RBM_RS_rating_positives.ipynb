{
 "cells": [
  {
   "attachments": {},
   "cell_type": "markdown",
   "metadata": {},
   "source": [
    "# Loading Libraries"
   ]
  },
  {
   "cell_type": "code",
   "execution_count": 1,
   "metadata": {},
   "outputs": [],
   "source": [
    "# Pandas, Numpy\n",
    "import pandas as pd\n",
    "import numpy as np \n",
    "\n",
    "# Tensorflow\n",
    "import tensorflow as tf \n",
    "\n",
    "# RBM from Recommenders\n",
    "from recommenders.models.rbm.rbm import RBM \n",
    "from recommenders.utils.timer import Timer \n",
    "from recommenders.utils.plot import line_graph \n",
    "\n",
    "# Affinity Matrix \n",
    "from recommenders.datasets.sparse import AffinityMatrix\n",
    "\n",
    "# Evaluation \n",
    "from recommenders.evaluation.python_evaluation import (\n",
    "    precision_at_k,\n",
    "    recall_at_k\n",
    ")\n",
    "from sklearn.metrics import accuracy_score \n",
    "\n",
    "# Visualization\n",
    "from matplotlib import pyplot as plt "
   ]
  },
  {
   "attachments": {},
   "cell_type": "markdown",
   "metadata": {},
   "source": [
    "# Import & Read Dataset"
   ]
  },
  {
   "cell_type": "code",
   "execution_count": 2,
   "metadata": {},
   "outputs": [],
   "source": [
    "# Read Train & Test Data\n",
    "train = pd.read_csv(\"../../00_Data/rec_sys_ratings_train.csv\", index_col=0)\n",
    "test = pd.read_csv(\"../../00_Data/rec_sys_ratings_test.csv\", index_col=0)"
   ]
  },
  {
   "cell_type": "code",
   "execution_count": 3,
   "metadata": {},
   "outputs": [
    {
     "name": "stdout",
     "output_type": "stream",
     "text": [
      "Shape of Train: (393334, 3)\n",
      "Shape of Test: \t (98401, 3)\n"
     ]
    }
   ],
   "source": [
    "# Check Shapes\n",
    "print(\"Shape of Train:\", train.shape)\n",
    "print(\"Shape of Test: \\t\", test.shape)"
   ]
  },
  {
   "cell_type": "code",
   "execution_count": 13,
   "metadata": {},
   "outputs": [
    {
     "name": "stdout",
     "output_type": "stream",
     "text": [
      "Unique Users in Train: 3011\n",
      "Unique Users in Test: 2978\n",
      "Unique Items in Train: 2330\n",
      "Unique Items in Test: 2330\n"
     ]
    }
   ],
   "source": [
    "# Check Number of Unique Items and User in Train & Test \n",
    "print(\"Unique Users in Train:\", train.CustomerID.nunique())\n",
    "print(\"Unique Users in Test:\", test.CustomerID.nunique())\n",
    "print(\"Unique Items in Train:\", train.StockCode.nunique())\n",
    "print(\"Unique Items in Test:\", test.StockCode.nunique())"
   ]
  },
  {
   "cell_type": "code",
   "execution_count": 5,
   "metadata": {},
   "outputs": [
    {
     "data": {
      "text/plain": [
       "-1    154381\n",
       " 1    106576\n",
       "-2    101061\n",
       " 2     31316\n",
       "Name: purchased, dtype: int64"
      ]
     },
     "execution_count": 5,
     "metadata": {},
     "output_type": "execute_result"
    }
   ],
   "source": [
    "# Value Counts of Ratings in Train\n",
    "train.purchased.value_counts()"
   ]
  },
  {
   "cell_type": "code",
   "execution_count": 6,
   "metadata": {},
   "outputs": [
    {
     "data": {
      "text/plain": [
       "-1    38596\n",
       " 1    26702\n",
       "-2    25265\n",
       " 2     7838\n",
       "Name: purchased, dtype: int64"
      ]
     },
     "execution_count": 6,
     "metadata": {},
     "output_type": "execute_result"
    }
   ],
   "source": [
    "# Value Counts of Ratings in Test\n",
    "test.purchased.value_counts()"
   ]
  },
  {
   "attachments": {},
   "cell_type": "markdown",
   "metadata": {},
   "source": [
    "# Exclude negative Ratings for Modeling"
   ]
  },
  {
   "cell_type": "code",
   "execution_count": 7,
   "metadata": {},
   "outputs": [
    {
     "data": {
      "text/plain": [
       "1    106576\n",
       "2     31316\n",
       "Name: purchased, dtype: int64"
      ]
     },
     "execution_count": 7,
     "metadata": {},
     "output_type": "execute_result"
    }
   ],
   "source": [
    "# Exclude negative Ratings from Train  \n",
    "train = train[train['purchased']>0]\n",
    "\n",
    "# Show Impact \n",
    "train.purchased.value_counts()"
   ]
  },
  {
   "cell_type": "code",
   "execution_count": 8,
   "metadata": {},
   "outputs": [
    {
     "data": {
      "text/plain": [
       "1    26702\n",
       "2     7838\n",
       "Name: purchased, dtype: int64"
      ]
     },
     "execution_count": 8,
     "metadata": {},
     "output_type": "execute_result"
    }
   ],
   "source": [
    "# Exclude negative Ratings from test  \n",
    "test = test[test['purchased']>0]\n",
    "\n",
    "# Show Impact \n",
    "test.purchased.value_counts()"
   ]
  },
  {
   "cell_type": "code",
   "execution_count": 15,
   "metadata": {},
   "outputs": [],
   "source": [
    "# Ensure that the same items and users are in both sets \n",
    "# Find the set of unique items in both the train and test sets\n",
    "train_users = set(train['CustomerID'].unique())\n",
    "test_users = set(test['CustomerID'].unique())\n",
    "\n",
    "# Find the intersection of the sets from step 1\n",
    "common_items = train_users.intersection(test_users)\n",
    "\n",
    "# Filter the train and test sets to include only the rows with item IDs that are in the intersection set\n",
    "train = train[train['CustomerID'].isin(common_items)]\n",
    "test = test[test['CustomerID'].isin(common_items)]"
   ]
  },
  {
   "cell_type": "code",
   "execution_count": 16,
   "metadata": {},
   "outputs": [
    {
     "name": "stdout",
     "output_type": "stream",
     "text": [
      "Unique Users in Train: 2978\n",
      "Unique Users in Test: 2978\n",
      "Unique Items in Train: 2330\n",
      "Unique Items in Test: 2330\n"
     ]
    }
   ],
   "source": [
    "# Check Number of Unique Items and User in Train & Test \n",
    "print(\"Unique Users in Train:\", train.CustomerID.nunique())\n",
    "print(\"Unique Users in Test:\", test.CustomerID.nunique())\n",
    "print(\"Unique Items in Train:\", train.StockCode.nunique())\n",
    "print(\"Unique Items in Test:\", test.StockCode.nunique())"
   ]
  },
  {
   "attachments": {},
   "cell_type": "markdown",
   "metadata": {},
   "source": [
    "# Preparation of Datasets for Modeling "
   ]
  },
  {
   "cell_type": "code",
   "execution_count": 17,
   "metadata": {},
   "outputs": [],
   "source": [
    "# Set standard names for the analysis \n",
    "header = {\n",
    "        \"col_user\": \"CustomerID\",\n",
    "        \"col_item\": \"StockCode\",\n",
    "        \"col_rating\": \"purchased\",\n",
    "    }\n",
    "\n",
    "# Instantiate the sparse matrix generation  \n",
    "am_train = AffinityMatrix(df = train, col_user='CustomerID', col_item='StockCode', col_rating='purchased')\n",
    "am_test = AffinityMatrix(df = test, col_user='CustomerID', col_item='StockCode', col_rating='purchased')\n",
    "\n",
    "# Obtain the sparse matrix \n",
    "Xtr, _, _ = am_train.gen_affinity_matrix()\n",
    "Xtst, _, _ = am_test.gen_affinity_matrix()"
   ]
  },
  {
   "cell_type": "code",
   "execution_count": 18,
   "metadata": {},
   "outputs": [
    {
     "name": "stdout",
     "output_type": "stream",
     "text": [
      "(2978, 2330)\n",
      "(2978, 2330)\n"
     ]
    }
   ],
   "source": [
    "# Sanity Check: Print Shape of Train & Test Matrix - Do numbers match nr of unique users and items from above \n",
    "print(Xtr.shape)\n",
    "print(Xtst.shape) "
   ]
  },
  {
   "cell_type": "code",
   "execution_count": 19,
   "metadata": {},
   "outputs": [
    {
     "name": "stdout",
     "output_type": "stream",
     "text": [
      "[0 1 2]\n",
      "[0 1 2]\n"
     ]
    }
   ],
   "source": [
    "# Sanity check: Xtr & Xtst After reloading & Transformation\n",
    "print(np.unique(Xtr))\n",
    "print(np.unique(Xtst))"
   ]
  },
  {
   "attachments": {},
   "cell_type": "markdown",
   "metadata": {},
   "source": [
    "# Modeling"
   ]
  },
  {
   "attachments": {},
   "cell_type": "markdown",
   "metadata": {},
   "source": [
    "## Hyperparameter Tuning 1 "
   ]
  },
  {
   "cell_type": "code",
   "execution_count": 20,
   "metadata": {},
   "outputs": [
    {
     "name": "stdout",
     "output_type": "stream",
     "text": [
      "Recall at 10 for  500 neurons: 0.03655464232159039\n",
      "Recall at 10 for  500 neurons: 0.039258959894461404\n",
      "Recall at 10 for  500 neurons: 0.039531813390350695\n",
      "Recall at 10 for  500 neurons: 0.038976471513312655\n",
      "Recall at 10 for  500 neurons: 0.03829695683567469\n",
      "Recall at 10 for  500 neurons: 0.03838612289026063\n",
      "Recall at 10 for  600 neurons: 0.0492460132163925\n",
      "Recall at 10 for  600 neurons: 0.04785465058832121\n",
      "Recall at 10 for  600 neurons: 0.055045790677051766\n",
      "Recall at 10 for  600 neurons: 0.0480472102992972\n",
      "Recall at 10 for  600 neurons: 0.05090085316031563\n",
      "Recall at 10 for  600 neurons: 0.05193373079419404\n",
      "Recall at 10 for  700 neurons: 0.06945121473087952\n",
      "Recall at 10 for  700 neurons: 0.06480616233689063\n",
      "Recall at 10 for  700 neurons: 0.06803969410846711\n",
      "Recall at 10 for  700 neurons: 0.07302058479314877\n",
      "Recall at 10 for  700 neurons: 0.07087918228558795\n",
      "Recall at 10 for  700 neurons: 0.07257915603382785\n",
      "Recall at 10 for  800 neurons: 0.06215261917828008\n",
      "Recall at 10 for  800 neurons: 0.059449817181253\n",
      "Recall at 10 for  800 neurons: 0.05948274323864033\n",
      "Recall at 10 for  800 neurons: 0.0656891799531942\n",
      "Recall at 10 for  800 neurons: 0.06466775440196491\n",
      "Recall at 10 for  800 neurons: 0.06494775911931043\n",
      "Recall at 10 for  900 neurons: 0.05658333377477328\n",
      "Recall at 10 for  900 neurons: 0.05662222745920422\n",
      "Recall at 10 for  900 neurons: 0.05434952991805997\n",
      "Recall at 10 for  900 neurons: 0.060040422431581204\n",
      "Recall at 10 for  900 neurons: 0.06331162857542114\n",
      "Recall at 10 for  900 neurons: 0.06040279817547105\n",
      "Recall at 10 for  1000 neurons: 0.0848439814558005\n",
      "Recall at 10 for  1000 neurons: 0.09387230667420905\n",
      "Recall at 10 for  1000 neurons: 0.10158542753419042\n",
      "Recall at 10 for  1000 neurons: 0.08112252783537684\n",
      "Recall at 10 for  1000 neurons: 0.08459763583038313\n",
      "Recall at 10 for  1000 neurons: 0.0844449138329952\n",
      "Recall at 10 for  1100 neurons: 0.14913475146429347\n",
      "Recall at 10 for  1100 neurons: 0.17083223277195048\n",
      "Recall at 10 for  1100 neurons: 0.18730779983269635\n",
      "Recall at 10 for  1100 neurons: 0.1273459296807999\n",
      "Recall at 10 for  1100 neurons: 0.13582388279115057\n",
      "Recall at 10 for  1100 neurons: 0.1512030092672683\n",
      "Recall at 10 for  1200 neurons: 0.11336832253566725\n",
      "Recall at 10 for  1200 neurons: 0.11108656848874351\n",
      "Recall at 10 for  1200 neurons: 0.1028938465987993\n",
      "Recall at 10 for  1200 neurons: 0.11928651182531534\n",
      "Recall at 10 for  1200 neurons: 0.11845681165800193\n",
      "Recall at 10 for  1200 neurons: 0.11964425017606267\n",
      "Recall at 10 for  1300 neurons: 0.14266252457993195\n",
      "Recall at 10 for  1300 neurons: 0.16522195150783342\n",
      "Recall at 10 for  1300 neurons: 0.17279683000143642\n",
      "Recall at 10 for  1300 neurons: 0.11960971688140278\n",
      "Recall at 10 for  1300 neurons: 0.13377681892266807\n",
      "Recall at 10 for  1300 neurons: 0.14383803917898005\n",
      "Recall at 10 for  1400 neurons: 0.13507835661431492\n",
      "Recall at 10 for  1400 neurons: 0.14371058444304366\n",
      "Recall at 10 for  1400 neurons: 0.1486066958438341\n",
      "Recall at 10 for  1400 neurons: 0.1304441057141047\n",
      "Recall at 10 for  1400 neurons: 0.13198753604418167\n",
      "Recall at 10 for  1400 neurons: 0.1356898168054522\n",
      "Recall at 10 for  1500 neurons: 0.12929474269814648\n",
      "Recall at 10 for  1500 neurons: 0.129176176683851\n",
      "Recall at 10 for  1500 neurons: 0.1391065509392262\n",
      "Recall at 10 for  1500 neurons: 0.12552803016402198\n",
      "Recall at 10 for  1500 neurons: 0.12516181090009962\n",
      "Recall at 10 for  1500 neurons: 0.1306263792578903\n"
     ]
    }
   ],
   "source": [
    "# Set up Parameters \n",
    "hidden_neurons = [500, 600, 700, 800, 900, 1000, 1100, 1200, 1300, 1400, 1500]\n",
    "batch = [200, 300]\n",
    "lrate = [0.002, 0.003, 0.004]\n",
    "\n",
    "# Initiate Lists for Assessment\n",
    "recall_10 = []\n",
    "recall_20 = []\n",
    "precision_10 = []\n",
    "precision_20 = []\n",
    "neurons = []\n",
    "batches = []\n",
    "learning_rates = []\n",
    "\n",
    "# Loop through lists of parameters \n",
    "\n",
    "for n in hidden_neurons:\n",
    "    for b in batch:\n",
    "        for l in lrate:\n",
    "            # Delete Model First\n",
    "            try:\n",
    "                del(model)\n",
    "            except:\n",
    "                pass\n",
    "            \n",
    "            # Define Model with Parameters\n",
    "            model = RBM(\n",
    "                possible_ratings=np.setdiff1d(np.unique(Xtr), np.array([0])), # Always provide this range - way better results! \n",
    "                visible_units=Xtr.shape[1],\n",
    "                hidden_units=n,\n",
    "                training_epoch=30,\n",
    "                minibatch_size=b,\n",
    "                keep_prob=0.7,\n",
    "                with_metrics=True,\n",
    "                learning_rate=l,\n",
    "                seed=42\n",
    "            )\n",
    "            \n",
    "            # Fit Model \n",
    "            model.fit(Xtr)\n",
    "            \n",
    "            # Recommend top k\n",
    "            top_k = model.recommend_k_items(Xtst, top_k=20, remove_seen=True)\n",
    "            \n",
    "            # Map Back Xtst & Top K\n",
    "            top_k_df = am_test.map_back_sparse(top_k, kind = 'prediction')\n",
    "            test_df  = am_test.map_back_sparse(Xtst, kind='ratings')\n",
    "            \n",
    "            # Evaluation \n",
    "            recall_at_ten  = recall_at_k(test_df, top_k_df, col_user=\"CustomerID\", col_item=\"StockCode\", \n",
    "                                    col_rating=\"purchased\", col_prediction=\"prediction\", \n",
    "                                    relevancy_method=\"top_k\", k=10)\n",
    "            recall_at_twenty = recall_at_k(test_df, top_k_df, col_user=\"CustomerID\", col_item=\"StockCode\", \n",
    "                                    col_rating=\"purchased\", col_prediction=\"prediction\", \n",
    "                                    relevancy_method=\"top_k\", k=20)\n",
    "            precision_at_ten = precision_at_k(test_df, top_k_df, col_user='CustomerID', col_item='StockCode',\n",
    "                                            col_rating ='purchased', col_prediction=\"prediction\",\n",
    "                                            relevancy_method='top_k', k = 10)\n",
    "            precision_at_twenty = precision_at_k(test_df, top_k_df, col_user='CustomerID', col_item='StockCode',\n",
    "                                col_rating ='purchased', col_prediction=\"prediction\",\n",
    "                                relevancy_method='top_k', k = 20)\n",
    "            \n",
    "            # Append lists \n",
    "            recall_10.append(recall_at_ten)\n",
    "            recall_20.append(recall_at_twenty)\n",
    "            precision_10.append(precision_at_ten)\n",
    "            precision_20.append(precision_at_twenty)\n",
    "            neurons.append(n)\n",
    "            batches.append(b)\n",
    "            learning_rates.append(l)\n",
    "            \n",
    "            # Print Results \n",
    "            print(\"Recall at 10 for \", n, \"neurons:\", recall_at_ten)"
   ]
  },
  {
   "cell_type": "code",
   "execution_count": 21,
   "metadata": {},
   "outputs": [
    {
     "data": {
      "text/html": [
       "<div>\n",
       "<style scoped>\n",
       "    .dataframe tbody tr th:only-of-type {\n",
       "        vertical-align: middle;\n",
       "    }\n",
       "\n",
       "    .dataframe tbody tr th {\n",
       "        vertical-align: top;\n",
       "    }\n",
       "\n",
       "    .dataframe thead th {\n",
       "        text-align: right;\n",
       "    }\n",
       "</style>\n",
       "<table border=\"1\" class=\"dataframe\">\n",
       "  <thead>\n",
       "    <tr style=\"text-align: right;\">\n",
       "      <th></th>\n",
       "      <th>hidden_neurons</th>\n",
       "      <th>minibatches</th>\n",
       "      <th>learning_rates</th>\n",
       "      <th>recall@10</th>\n",
       "      <th>recall@20</th>\n",
       "      <th>precision@10</th>\n",
       "      <th>precision@20</th>\n",
       "    </tr>\n",
       "  </thead>\n",
       "  <tbody>\n",
       "    <tr>\n",
       "      <th>38</th>\n",
       "      <td>1100</td>\n",
       "      <td>200</td>\n",
       "      <td>0.004</td>\n",
       "      <td>0.187308</td>\n",
       "      <td>0.255165</td>\n",
       "      <td>0.192109</td>\n",
       "      <td>0.133479</td>\n",
       "    </tr>\n",
       "    <tr>\n",
       "      <th>50</th>\n",
       "      <td>1300</td>\n",
       "      <td>200</td>\n",
       "      <td>0.004</td>\n",
       "      <td>0.172797</td>\n",
       "      <td>0.244212</td>\n",
       "      <td>0.183983</td>\n",
       "      <td>0.130725</td>\n",
       "    </tr>\n",
       "    <tr>\n",
       "      <th>37</th>\n",
       "      <td>1100</td>\n",
       "      <td>200</td>\n",
       "      <td>0.003</td>\n",
       "      <td>0.170832</td>\n",
       "      <td>0.240730</td>\n",
       "      <td>0.177099</td>\n",
       "      <td>0.126343</td>\n",
       "    </tr>\n",
       "    <tr>\n",
       "      <th>49</th>\n",
       "      <td>1300</td>\n",
       "      <td>200</td>\n",
       "      <td>0.003</td>\n",
       "      <td>0.165222</td>\n",
       "      <td>0.233686</td>\n",
       "      <td>0.175655</td>\n",
       "      <td>0.125856</td>\n",
       "    </tr>\n",
       "    <tr>\n",
       "      <th>41</th>\n",
       "      <td>1100</td>\n",
       "      <td>300</td>\n",
       "      <td>0.004</td>\n",
       "      <td>0.151203</td>\n",
       "      <td>0.211843</td>\n",
       "      <td>0.155473</td>\n",
       "      <td>0.111182</td>\n",
       "    </tr>\n",
       "    <tr>\n",
       "      <th>...</th>\n",
       "      <td>...</td>\n",
       "      <td>...</td>\n",
       "      <td>...</td>\n",
       "      <td>...</td>\n",
       "      <td>...</td>\n",
       "      <td>...</td>\n",
       "      <td>...</td>\n",
       "    </tr>\n",
       "    <tr>\n",
       "      <th>1</th>\n",
       "      <td>500</td>\n",
       "      <td>200</td>\n",
       "      <td>0.003</td>\n",
       "      <td>0.039259</td>\n",
       "      <td>0.065691</td>\n",
       "      <td>0.043956</td>\n",
       "      <td>0.036249</td>\n",
       "    </tr>\n",
       "    <tr>\n",
       "      <th>3</th>\n",
       "      <td>500</td>\n",
       "      <td>300</td>\n",
       "      <td>0.002</td>\n",
       "      <td>0.038976</td>\n",
       "      <td>0.064003</td>\n",
       "      <td>0.042478</td>\n",
       "      <td>0.034637</td>\n",
       "    </tr>\n",
       "    <tr>\n",
       "      <th>5</th>\n",
       "      <td>500</td>\n",
       "      <td>300</td>\n",
       "      <td>0.004</td>\n",
       "      <td>0.038386</td>\n",
       "      <td>0.063176</td>\n",
       "      <td>0.043956</td>\n",
       "      <td>0.035645</td>\n",
       "    </tr>\n",
       "    <tr>\n",
       "      <th>4</th>\n",
       "      <td>500</td>\n",
       "      <td>300</td>\n",
       "      <td>0.003</td>\n",
       "      <td>0.038297</td>\n",
       "      <td>0.062515</td>\n",
       "      <td>0.043855</td>\n",
       "      <td>0.035124</td>\n",
       "    </tr>\n",
       "    <tr>\n",
       "      <th>0</th>\n",
       "      <td>500</td>\n",
       "      <td>200</td>\n",
       "      <td>0.002</td>\n",
       "      <td>0.036555</td>\n",
       "      <td>0.062382</td>\n",
       "      <td>0.043318</td>\n",
       "      <td>0.035863</td>\n",
       "    </tr>\n",
       "  </tbody>\n",
       "</table>\n",
       "<p>66 rows × 7 columns</p>\n",
       "</div>"
      ],
      "text/plain": [
       "    hidden_neurons  minibatches  learning_rates  recall@10  recall@20  \\\n",
       "38            1100          200           0.004   0.187308   0.255165   \n",
       "50            1300          200           0.004   0.172797   0.244212   \n",
       "37            1100          200           0.003   0.170832   0.240730   \n",
       "49            1300          200           0.003   0.165222   0.233686   \n",
       "41            1100          300           0.004   0.151203   0.211843   \n",
       "..             ...          ...             ...        ...        ...   \n",
       "1              500          200           0.003   0.039259   0.065691   \n",
       "3              500          300           0.002   0.038976   0.064003   \n",
       "5              500          300           0.004   0.038386   0.063176   \n",
       "4              500          300           0.003   0.038297   0.062515   \n",
       "0              500          200           0.002   0.036555   0.062382   \n",
       "\n",
       "    precision@10  precision@20  \n",
       "38      0.192109      0.133479  \n",
       "50      0.183983      0.130725  \n",
       "37      0.177099      0.126343  \n",
       "49      0.175655      0.125856  \n",
       "41      0.155473      0.111182  \n",
       "..           ...           ...  \n",
       "1       0.043956      0.036249  \n",
       "3       0.042478      0.034637  \n",
       "5       0.043956      0.035645  \n",
       "4       0.043855      0.035124  \n",
       "0       0.043318      0.035863  \n",
       "\n",
       "[66 rows x 7 columns]"
      ]
     },
     "execution_count": 21,
     "metadata": {},
     "output_type": "execute_result"
    }
   ],
   "source": [
    "# Create Dataframe out of the Results of the Hyperparameter Tuning \n",
    "df_tuning_1 = pd.DataFrame({\n",
    "    \"hidden_neurons\": neurons,\n",
    "    \"minibatches\": batches,\n",
    "    \"learning_rates\":learning_rates,\n",
    "    \"recall@10\": recall_10,\n",
    "    \"recall@20\": recall_20,\n",
    "    \"precision@10\":precision_10,\n",
    "    \"precision@20\":precision_20\n",
    "})\n",
    "# Sort Values by recall@10 \n",
    "df_tuning_1.sort_values(by='recall@10', ascending=False)"
   ]
  }
 ],
 "metadata": {
  "kernelspec": {
   "display_name": "recom",
   "language": "python",
   "name": "python3"
  },
  "language_info": {
   "codemirror_mode": {
    "name": "ipython",
    "version": 3
   },
   "file_extension": ".py",
   "mimetype": "text/x-python",
   "name": "python",
   "nbconvert_exporter": "python",
   "pygments_lexer": "ipython3",
   "version": "3.9.16"
  },
  "orig_nbformat": 4,
  "vscode": {
   "interpreter": {
    "hash": "17afcd9f6960de0a3656d2c4c5dd434deed0eab3cd38c55c3169df3bef50250d"
   }
  }
 },
 "nbformat": 4,
 "nbformat_minor": 2
}
