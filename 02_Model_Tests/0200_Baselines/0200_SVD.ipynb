{
 "cells": [
  {
   "cell_type": "code",
   "execution_count": 15,
   "metadata": {},
   "outputs": [],
   "source": [
    "# Import necessary libraries \n",
    "\n",
    "import surprise \n",
    "import pandas as pd \n",
    "import numpy as np \n",
    "\n",
    "from recommenders.datasets.sparse import AffinityMatrix\n",
    "from recommenders.datasets.python_splitters import numpy_stratified_split, python_random_split\n",
    "from recommenders.evaluation.python_evaluation import (\n",
    "    precision_at_k,\n",
    "    recall_at_k,\n",
    "    map_at_k,\n",
    "    get_top_k_items\n",
    ")\n",
    "\n",
    "from recommenders.utils.timer import Timer\n",
    "from recommenders.models.surprise.surprise_utils import predict, compute_ranking_predictions\n"
   ]
  },
  {
   "cell_type": "code",
   "execution_count": 3,
   "metadata": {},
   "outputs": [
    {
     "data": {
      "text/html": [
       "<div>\n",
       "<style scoped>\n",
       "    .dataframe tbody tr th:only-of-type {\n",
       "        vertical-align: middle;\n",
       "    }\n",
       "\n",
       "    .dataframe tbody tr th {\n",
       "        vertical-align: top;\n",
       "    }\n",
       "\n",
       "    .dataframe thead th {\n",
       "        text-align: right;\n",
       "    }\n",
       "</style>\n",
       "<table border=\"1\" class=\"dataframe\">\n",
       "  <thead>\n",
       "    <tr style=\"text-align: right;\">\n",
       "      <th></th>\n",
       "      <th>InvoiceNo</th>\n",
       "      <th>StockCode</th>\n",
       "      <th>Description</th>\n",
       "      <th>Quantity</th>\n",
       "      <th>InvoiceDate</th>\n",
       "      <th>UnitPrice</th>\n",
       "      <th>CustomerID</th>\n",
       "      <th>Country</th>\n",
       "      <th>purchased</th>\n",
       "    </tr>\n",
       "  </thead>\n",
       "  <tbody>\n",
       "    <tr>\n",
       "      <th>0</th>\n",
       "      <td>536365</td>\n",
       "      <td>3249</td>\n",
       "      <td>WHITE HANGING HEART T-LIGHT HOLDER</td>\n",
       "      <td>6</td>\n",
       "      <td>2010-12-01 08:26:00</td>\n",
       "      <td>2.55</td>\n",
       "      <td>4048</td>\n",
       "      <td>United Kingdom</td>\n",
       "      <td>1</td>\n",
       "    </tr>\n",
       "    <tr>\n",
       "      <th>1</th>\n",
       "      <td>536365</td>\n",
       "      <td>2649</td>\n",
       "      <td>WHITE METAL LANTERN</td>\n",
       "      <td>6</td>\n",
       "      <td>2010-12-01 08:26:00</td>\n",
       "      <td>3.39</td>\n",
       "      <td>4048</td>\n",
       "      <td>United Kingdom</td>\n",
       "      <td>1</td>\n",
       "    </tr>\n",
       "    <tr>\n",
       "      <th>2</th>\n",
       "      <td>536365</td>\n",
       "      <td>2855</td>\n",
       "      <td>CREAM CUPID HEARTS COAT HANGER</td>\n",
       "      <td>8</td>\n",
       "      <td>2010-12-01 08:26:00</td>\n",
       "      <td>2.75</td>\n",
       "      <td>4048</td>\n",
       "      <td>United Kingdom</td>\n",
       "      <td>1</td>\n",
       "    </tr>\n",
       "    <tr>\n",
       "      <th>3</th>\n",
       "      <td>536365</td>\n",
       "      <td>2803</td>\n",
       "      <td>KNITTED UNION FLAG HOT WATER BOTTLE</td>\n",
       "      <td>6</td>\n",
       "      <td>2010-12-01 08:26:00</td>\n",
       "      <td>3.39</td>\n",
       "      <td>4048</td>\n",
       "      <td>United Kingdom</td>\n",
       "      <td>1</td>\n",
       "    </tr>\n",
       "    <tr>\n",
       "      <th>4</th>\n",
       "      <td>536365</td>\n",
       "      <td>2802</td>\n",
       "      <td>RED WOOLLY HOTTIE WHITE HEART.</td>\n",
       "      <td>6</td>\n",
       "      <td>2010-12-01 08:26:00</td>\n",
       "      <td>3.39</td>\n",
       "      <td>4048</td>\n",
       "      <td>United Kingdom</td>\n",
       "      <td>1</td>\n",
       "    </tr>\n",
       "  </tbody>\n",
       "</table>\n",
       "</div>"
      ],
      "text/plain": [
       "  InvoiceNo  StockCode                          Description  Quantity  \\\n",
       "0    536365       3249   WHITE HANGING HEART T-LIGHT HOLDER         6   \n",
       "1    536365       2649                  WHITE METAL LANTERN         6   \n",
       "2    536365       2855       CREAM CUPID HEARTS COAT HANGER         8   \n",
       "3    536365       2803  KNITTED UNION FLAG HOT WATER BOTTLE         6   \n",
       "4    536365       2802       RED WOOLLY HOTTIE WHITE HEART.         6   \n",
       "\n",
       "           InvoiceDate  UnitPrice  CustomerID         Country  purchased  \n",
       "0  2010-12-01 08:26:00       2.55        4048  United Kingdom          1  \n",
       "1  2010-12-01 08:26:00       3.39        4048  United Kingdom          1  \n",
       "2  2010-12-01 08:26:00       2.75        4048  United Kingdom          1  \n",
       "3  2010-12-01 08:26:00       3.39        4048  United Kingdom          1  \n",
       "4  2010-12-01 08:26:00       3.39        4048  United Kingdom          1  "
      ]
     },
     "execution_count": 3,
     "metadata": {},
     "output_type": "execute_result"
    }
   ],
   "source": [
    "# Load Data\n",
    "df = pd.read_csv(\"../../00_Data/online_retail_prep.csv\", index_col=0)\n",
    "df.head()"
   ]
  },
  {
   "cell_type": "code",
   "execution_count": 5,
   "metadata": {},
   "outputs": [],
   "source": [
    "#to use standard names across the analysis \n",
    "header = {\n",
    "        \"col_user\": \"CustomerID\",\n",
    "        \"col_item\": \"StockCode\",\n",
    "        \"col_rating\": \"purchased\",\n",
    "    }\n",
    "\n",
    "#instantiate the sparse matrix generation  \n",
    "am = AffinityMatrix(df = df, col_user='CustomerID', col_item='StockCode', col_rating='purchased')\n",
    "\n",
    "#obtain the sparse matrix \n",
    "X, _, _ = am.gen_affinity_matrix()\n",
    "\n",
    "# check that the generated matrix has the correct dimensions\n",
    "assert (X.shape[0] == df.CustomerID.unique().shape[0]) & (\n",
    "        X.shape[1] == df.StockCode.unique().shape[0]\n",
    "    )"
   ]
  },
  {
   "cell_type": "code",
   "execution_count": 6,
   "metadata": {},
   "outputs": [],
   "source": [
    "# Split the Data\n",
    "Xtr, Xtst = numpy_stratified_split(X, ratio=0.8, seed=1)"
   ]
  },
  {
   "cell_type": "code",
   "execution_count": 8,
   "metadata": {},
   "outputs": [],
   "source": [
    "# Turn all values to 5 that are above 0 \n",
    "Xtr = np.where(Xtr > 0, 5, Xtr)\n",
    "Xtst = np.where(Xtst > 0, 5, Xtst)"
   ]
  },
  {
   "cell_type": "code",
   "execution_count": 16,
   "metadata": {},
   "outputs": [],
   "source": [
    "train, test = python_random_split(df, 0.8, seed=1)"
   ]
  },
  {
   "cell_type": "code",
   "execution_count": 18,
   "metadata": {},
   "outputs": [
    {
     "data": {
      "text/html": [
       "<div>\n",
       "<style scoped>\n",
       "    .dataframe tbody tr th:only-of-type {\n",
       "        vertical-align: middle;\n",
       "    }\n",
       "\n",
       "    .dataframe tbody tr th {\n",
       "        vertical-align: top;\n",
       "    }\n",
       "\n",
       "    .dataframe thead th {\n",
       "        text-align: right;\n",
       "    }\n",
       "</style>\n",
       "<table border=\"1\" class=\"dataframe\">\n",
       "  <thead>\n",
       "    <tr style=\"text-align: right;\">\n",
       "      <th></th>\n",
       "      <th>InvoiceNo</th>\n",
       "      <th>StockCode</th>\n",
       "      <th>Description</th>\n",
       "      <th>Quantity</th>\n",
       "      <th>InvoiceDate</th>\n",
       "      <th>UnitPrice</th>\n",
       "      <th>CustomerID</th>\n",
       "      <th>Country</th>\n",
       "      <th>purchased</th>\n",
       "    </tr>\n",
       "  </thead>\n",
       "  <tbody>\n",
       "    <tr>\n",
       "      <th>329951</th>\n",
       "      <td>565859</td>\n",
       "      <td>1843</td>\n",
       "      <td>TRAVEL CARD WALLET KEEP CALM</td>\n",
       "      <td>24</td>\n",
       "      <td>2011-09-07 14:40:00</td>\n",
       "      <td>0.42</td>\n",
       "      <td>3309</td>\n",
       "      <td>United Kingdom</td>\n",
       "      <td>1</td>\n",
       "    </tr>\n",
       "    <tr>\n",
       "      <th>38267</th>\n",
       "      <td>539496</td>\n",
       "      <td>1335</td>\n",
       "      <td>HEART OF WICKER SMALL</td>\n",
       "      <td>12</td>\n",
       "      <td>2010-12-20 10:38:00</td>\n",
       "      <td>1.65</td>\n",
       "      <td>543</td>\n",
       "      <td>United Kingdom</td>\n",
       "      <td>1</td>\n",
       "    </tr>\n",
       "    <tr>\n",
       "      <th>23767</th>\n",
       "      <td>538248</td>\n",
       "      <td>97</td>\n",
       "      <td>LAVENDER INCENSE IN TIN</td>\n",
       "      <td>2</td>\n",
       "      <td>2010-12-10 12:14:00</td>\n",
       "      <td>1.25</td>\n",
       "      <td>4243</td>\n",
       "      <td>United Kingdom</td>\n",
       "      <td>1</td>\n",
       "    </tr>\n",
       "    <tr>\n",
       "      <th>508238</th>\n",
       "      <td>579196</td>\n",
       "      <td>1543</td>\n",
       "      <td>DOORMAT MERRY CHRISTMAS RED</td>\n",
       "      <td>4</td>\n",
       "      <td>2011-11-28 15:54:00</td>\n",
       "      <td>16.63</td>\n",
       "      <td>1300</td>\n",
       "      <td>United Kingdom</td>\n",
       "      <td>1</td>\n",
       "    </tr>\n",
       "    <tr>\n",
       "      <th>115861</th>\n",
       "      <td>546156</td>\n",
       "      <td>1486</td>\n",
       "      <td>SPACEBOY LUNCH BOX</td>\n",
       "      <td>12</td>\n",
       "      <td>2011-03-10 08:31:00</td>\n",
       "      <td>1.95</td>\n",
       "      <td>1446</td>\n",
       "      <td>United Kingdom</td>\n",
       "      <td>1</td>\n",
       "    </tr>\n",
       "  </tbody>\n",
       "</table>\n",
       "</div>"
      ],
      "text/plain": [
       "       InvoiceNo  StockCode                   Description  Quantity  \\\n",
       "329951    565859       1843  TRAVEL CARD WALLET KEEP CALM        24   \n",
       "38267     539496       1335         HEART OF WICKER SMALL        12   \n",
       "23767     538248         97       LAVENDER INCENSE IN TIN         2   \n",
       "508238    579196       1543  DOORMAT MERRY CHRISTMAS RED          4   \n",
       "115861    546156       1486           SPACEBOY LUNCH BOX         12   \n",
       "\n",
       "                InvoiceDate  UnitPrice  CustomerID         Country  purchased  \n",
       "329951  2011-09-07 14:40:00       0.42        3309  United Kingdom          1  \n",
       "38267   2010-12-20 10:38:00       1.65         543  United Kingdom          1  \n",
       "23767   2010-12-10 12:14:00       1.25        4243  United Kingdom          1  \n",
       "508238  2011-11-28 15:54:00      16.63        1300  United Kingdom          1  \n",
       "115861  2011-03-10 08:31:00       1.95        1446  United Kingdom          1  "
      ]
     },
     "execution_count": 18,
     "metadata": {},
     "output_type": "execute_result"
    }
   ],
   "source": [
    "train.head()"
   ]
  },
  {
   "cell_type": "code",
   "execution_count": 25,
   "metadata": {},
   "outputs": [],
   "source": [
    "reader = surprise.Reader(rating_scale=(0,1))\n",
    "train_set = surprise.Dataset.load_from_df(train[['CustomerID', 'StockCode', 'purchased']], reader=reader).build_full_trainset()"
   ]
  },
  {
   "cell_type": "code",
   "execution_count": 55,
   "metadata": {},
   "outputs": [
    {
     "name": "stdout",
     "output_type": "stream",
     "text": [
      " processing epoch 0\n",
      " processing epoch 1\n",
      " processing epoch 2\n",
      " processing epoch 3\n",
      " processing epoch 4\n",
      " processing epoch 5\n",
      " processing epoch 6\n",
      " processing epoch 7\n",
      " processing epoch 8\n",
      " processing epoch 9\n",
      " processing epoch 10\n",
      " processing epoch 11\n",
      " processing epoch 12\n",
      " processing epoch 13\n",
      " processing epoch 14\n",
      " processing epoch 15\n",
      " processing epoch 16\n",
      " processing epoch 17\n",
      " processing epoch 18\n",
      " processing epoch 19\n",
      " processing epoch 20\n",
      " processing epoch 21\n",
      " processing epoch 22\n",
      " processing epoch 23\n",
      " processing epoch 24\n",
      " processing epoch 25\n",
      " processing epoch 26\n",
      " processing epoch 27\n",
      " processing epoch 28\n",
      " processing epoch 29\n"
     ]
    },
    {
     "data": {
      "text/plain": [
       "<surprise.prediction_algorithms.matrix_factorization.SVDpp at 0x7fac7d513760>"
      ]
     },
     "execution_count": 55,
     "metadata": {},
     "output_type": "execute_result"
    }
   ],
   "source": [
    "# Model\n",
    "try:\n",
    "    del(model)\n",
    "except:\n",
    "    pass\n",
    "\n",
    "# Create Object for model \n",
    "model = surprise.SVDpp(random_state=0, n_factors=20, n_epochs=30, verbose=True)\n",
    "\n",
    "\n",
    "model.fit(train_set)\n",
    "    "
   ]
  },
  {
   "cell_type": "code",
   "execution_count": 56,
   "metadata": {},
   "outputs": [
    {
     "data": {
      "text/html": [
       "<div>\n",
       "<style scoped>\n",
       "    .dataframe tbody tr th:only-of-type {\n",
       "        vertical-align: middle;\n",
       "    }\n",
       "\n",
       "    .dataframe tbody tr th {\n",
       "        vertical-align: top;\n",
       "    }\n",
       "\n",
       "    .dataframe thead th {\n",
       "        text-align: right;\n",
       "    }\n",
       "</style>\n",
       "<table border=\"1\" class=\"dataframe\">\n",
       "  <thead>\n",
       "    <tr style=\"text-align: right;\">\n",
       "      <th></th>\n",
       "      <th>CustomerID</th>\n",
       "      <th>StockCode</th>\n",
       "      <th>prediction</th>\n",
       "    </tr>\n",
       "  </thead>\n",
       "  <tbody>\n",
       "    <tr>\n",
       "      <th>0</th>\n",
       "      <td>683</td>\n",
       "      <td>162</td>\n",
       "      <td>0.997668</td>\n",
       "    </tr>\n",
       "    <tr>\n",
       "      <th>1</th>\n",
       "      <td>4042</td>\n",
       "      <td>1478</td>\n",
       "      <td>1.000000</td>\n",
       "    </tr>\n",
       "    <tr>\n",
       "      <th>2</th>\n",
       "      <td>540</td>\n",
       "      <td>2247</td>\n",
       "      <td>0.987671</td>\n",
       "    </tr>\n",
       "    <tr>\n",
       "      <th>3</th>\n",
       "      <td>2226</td>\n",
       "      <td>399</td>\n",
       "      <td>0.998757</td>\n",
       "    </tr>\n",
       "    <tr>\n",
       "      <th>4</th>\n",
       "      <td>3357</td>\n",
       "      <td>140</td>\n",
       "      <td>1.000000</td>\n",
       "    </tr>\n",
       "  </tbody>\n",
       "</table>\n",
       "</div>"
      ],
      "text/plain": [
       "   CustomerID  StockCode  prediction\n",
       "0         683        162    0.997668\n",
       "1        4042       1478    1.000000\n",
       "2         540       2247    0.987671\n",
       "3        2226        399    0.998757\n",
       "4        3357        140    1.000000"
      ]
     },
     "execution_count": 56,
     "metadata": {},
     "output_type": "execute_result"
    }
   ],
   "source": [
    "predictions = predict(model, test, usercol='CustomerID', itemcol='StockCode')\n",
    "predictions.head()"
   ]
  },
  {
   "cell_type": "code",
   "execution_count": 63,
   "metadata": {},
   "outputs": [
    {
     "data": {
      "text/plain": [
       "(80768, 3)"
      ]
     },
     "execution_count": 63,
     "metadata": {},
     "output_type": "execute_result"
    }
   ],
   "source": [
    "predictions.shape"
   ]
  },
  {
   "cell_type": "code",
   "execution_count": 57,
   "metadata": {},
   "outputs": [],
   "source": [
    "all_predictions = compute_ranking_predictions(model, test, usercol='CustomerID', itemcol='StockCode', remove_seen=True)"
   ]
  },
  {
   "cell_type": "code",
   "execution_count": 58,
   "metadata": {},
   "outputs": [
    {
     "data": {
      "text/plain": [
       "(12222508, 3)"
      ]
     },
     "execution_count": 58,
     "metadata": {},
     "output_type": "execute_result"
    }
   ],
   "source": [
    "all_predictions.shape"
   ]
  },
  {
   "cell_type": "code",
   "execution_count": 59,
   "metadata": {},
   "outputs": [
    {
     "data": {
      "text/html": [
       "<div>\n",
       "<style scoped>\n",
       "    .dataframe tbody tr th:only-of-type {\n",
       "        vertical-align: middle;\n",
       "    }\n",
       "\n",
       "    .dataframe tbody tr th {\n",
       "        vertical-align: top;\n",
       "    }\n",
       "\n",
       "    .dataframe thead th {\n",
       "        text-align: right;\n",
       "    }\n",
       "</style>\n",
       "<table border=\"1\" class=\"dataframe\">\n",
       "  <thead>\n",
       "    <tr style=\"text-align: right;\">\n",
       "      <th></th>\n",
       "      <th>CustomerID</th>\n",
       "      <th>StockCode</th>\n",
       "      <th>prediction</th>\n",
       "    </tr>\n",
       "  </thead>\n",
       "  <tbody>\n",
       "    <tr>\n",
       "      <th>80768</th>\n",
       "      <td>683</td>\n",
       "      <td>1478</td>\n",
       "      <td>1.000000</td>\n",
       "    </tr>\n",
       "    <tr>\n",
       "      <th>80769</th>\n",
       "      <td>683</td>\n",
       "      <td>2247</td>\n",
       "      <td>1.000000</td>\n",
       "    </tr>\n",
       "    <tr>\n",
       "      <th>80770</th>\n",
       "      <td>683</td>\n",
       "      <td>399</td>\n",
       "      <td>1.000000</td>\n",
       "    </tr>\n",
       "    <tr>\n",
       "      <th>80771</th>\n",
       "      <td>683</td>\n",
       "      <td>140</td>\n",
       "      <td>1.000000</td>\n",
       "    </tr>\n",
       "    <tr>\n",
       "      <th>80772</th>\n",
       "      <td>683</td>\n",
       "      <td>1479</td>\n",
       "      <td>0.998263</td>\n",
       "    </tr>\n",
       "  </tbody>\n",
       "</table>\n",
       "</div>"
      ],
      "text/plain": [
       "       CustomerID  StockCode  prediction\n",
       "80768         683       1478    1.000000\n",
       "80769         683       2247    1.000000\n",
       "80770         683        399    1.000000\n",
       "80771         683        140    1.000000\n",
       "80772         683       1479    0.998263"
      ]
     },
     "execution_count": 59,
     "metadata": {},
     "output_type": "execute_result"
    }
   ],
   "source": [
    "all_predictions.head()"
   ]
  },
  {
   "cell_type": "code",
   "execution_count": 60,
   "metadata": {},
   "outputs": [
    {
     "data": {
      "text/plain": [
       "0.7749182971700429"
      ]
     },
     "execution_count": 60,
     "metadata": {},
     "output_type": "execute_result"
    }
   ],
   "source": [
    "all_predictions.prediction.min()"
   ]
  },
  {
   "cell_type": "code",
   "execution_count": 61,
   "metadata": {},
   "outputs": [
    {
     "name": "stdout",
     "output_type": "stream",
     "text": [
      "precision \t: 0.0\n",
      "recall \t: 0.0\n"
     ]
    }
   ],
   "source": [
    "eval_precision = precision_at_k(test, all_predictions, col_user=\"CustomerID\", col_item=\"StockCode\",\n",
    "                                    col_rating=\"purchased\", col_prediction=\"prediction\", \n",
    "                                    relevancy_method=\"top_k\", k=20)\n",
    "print('precision \\t:', eval_precision)\n",
    "eval_recall = recall_at_k(test, all_predictions,col_user=\"CustomerID\", col_item=\"StockCode\",\n",
    "                                    col_rating=\"purchased\", col_prediction=\"prediction\", \n",
    "                                    relevancy_method=\"top_k\", k=20)\n",
    "print('recall \\t:', eval_recall)"
   ]
  },
  {
   "cell_type": "code",
   "execution_count": 62,
   "metadata": {},
   "outputs": [
    {
     "name": "stdout",
     "output_type": "stream",
     "text": [
      "recall \t: 0.0\n"
     ]
    }
   ],
   "source": [
    "print('recall \\t:', eval_recall)"
   ]
  }
 ],
 "metadata": {
  "kernelspec": {
   "display_name": "recom",
   "language": "python",
   "name": "python3"
  },
  "language_info": {
   "codemirror_mode": {
    "name": "ipython",
    "version": 3
   },
   "file_extension": ".py",
   "mimetype": "text/x-python",
   "name": "python",
   "nbconvert_exporter": "python",
   "pygments_lexer": "ipython3",
   "version": "3.9.16"
  },
  "orig_nbformat": 4,
  "vscode": {
   "interpreter": {
    "hash": "17afcd9f6960de0a3656d2c4c5dd434deed0eab3cd38c55c3169df3bef50250d"
   }
  }
 },
 "nbformat": 4,
 "nbformat_minor": 2
}
