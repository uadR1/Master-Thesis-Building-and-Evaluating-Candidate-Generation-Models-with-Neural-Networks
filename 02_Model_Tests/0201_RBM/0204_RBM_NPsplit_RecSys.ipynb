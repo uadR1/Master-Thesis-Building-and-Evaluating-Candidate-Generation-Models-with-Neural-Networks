{
 "cells": [
  {
   "cell_type": "code",
   "execution_count": 2,
   "metadata": {},
   "outputs": [],
   "source": [
    "import pandas as pd \n",
    "import numpy as np\n",
    "from matplotlib import pyplot as plt"
   ]
  },
  {
   "cell_type": "code",
   "execution_count": 79,
   "metadata": {},
   "outputs": [],
   "source": [
    "# Reading Data\n",
    "#df_online_retail = pd.read_csv('../../00_Data/data.csv', encoding= 'unicode_escape', na_values='nan')\n",
    "#df_online_retail_xlsx = pd.read_excel('../00_Data/online_retail.xlsx', sheet_name=0)\n",
    "#df_online_retail = pd.read_excel('../../00_Data/online_retail_II.xlsx', sheet_name=0)\n",
    "df_online_retail = pd.read_excel('../../00_Data/Rec_sys_data.xlsx', sheet_name=0)\n",
    "#df_rec_sys_customer = pd.read_excel('../00_Data/Rec_sys_data.xlsx', sheet_name=1)\n",
    "#df_rec_sys_product = pd.read_excel('../00_Data/Rec_sys_data.xlsx', sheet_name=2)"
   ]
  },
  {
   "attachments": {},
   "cell_type": "markdown",
   "metadata": {},
   "source": [
    "# 1. Online Retail Dataset"
   ]
  },
  {
   "attachments": {},
   "cell_type": "markdown",
   "metadata": {},
   "source": [
    "## 1.1 Initial Data Check"
   ]
  },
  {
   "cell_type": "code",
   "execution_count": 80,
   "metadata": {},
   "outputs": [
    {
     "data": {
      "text/plain": [
       "InvoiceNo       0\n",
       "StockCode       0\n",
       "Quantity        0\n",
       "InvoiceDate     0\n",
       "DeliveryDate    0\n",
       "Discount%       0\n",
       "ShipMode        0\n",
       "ShippingCost    0\n",
       "CustomerID      0\n",
       "dtype: int64"
      ]
     },
     "execution_count": 80,
     "metadata": {},
     "output_type": "execute_result"
    }
   ],
   "source": [
    "# Find out number of missing values per column\n",
    "df_online_retail.isna().sum()"
   ]
  },
  {
   "cell_type": "code",
   "execution_count": 81,
   "metadata": {},
   "outputs": [
    {
     "name": "stdout",
     "output_type": "stream",
     "text": [
      "<class 'pandas.core.frame.DataFrame'>\n",
      "RangeIndex: 272404 entries, 0 to 272403\n",
      "Data columns (total 9 columns):\n",
      " #   Column        Non-Null Count   Dtype         \n",
      "---  ------        --------------   -----         \n",
      " 0   InvoiceNo     272404 non-null  int64         \n",
      " 1   StockCode     272404 non-null  object        \n",
      " 2   Quantity      272404 non-null  int64         \n",
      " 3   InvoiceDate   272404 non-null  datetime64[ns]\n",
      " 4   DeliveryDate  272404 non-null  datetime64[ns]\n",
      " 5   Discount%     272404 non-null  float64       \n",
      " 6   ShipMode      272404 non-null  object        \n",
      " 7   ShippingCost  272404 non-null  float64       \n",
      " 8   CustomerID    272404 non-null  int64         \n",
      "dtypes: datetime64[ns](2), float64(2), int64(3), object(2)\n",
      "memory usage: 18.7+ MB\n"
     ]
    }
   ],
   "source": [
    "# First check Data Types \n",
    "df_online_retail.info()"
   ]
  },
  {
   "cell_type": "code",
   "execution_count": 82,
   "metadata": {},
   "outputs": [
    {
     "name": "stdout",
     "output_type": "stream",
     "text": [
      "<class 'pandas.core.frame.DataFrame'>\n",
      "RangeIndex: 272404 entries, 0 to 272403\n",
      "Data columns (total 9 columns):\n",
      " #   Column        Non-Null Count   Dtype         \n",
      "---  ------        --------------   -----         \n",
      " 0   InvoiceNo     272404 non-null  int64         \n",
      " 1   StockCode     272404 non-null  object        \n",
      " 2   Quantity      272404 non-null  int64         \n",
      " 3   InvoiceDate   272404 non-null  datetime64[ns]\n",
      " 4   DeliveryDate  272404 non-null  datetime64[ns]\n",
      " 5   Discount%     272404 non-null  float64       \n",
      " 6   ShipMode      272404 non-null  object        \n",
      " 7   ShippingCost  272404 non-null  float64       \n",
      " 8   CustomerID    272404 non-null  object        \n",
      "dtypes: datetime64[ns](2), float64(2), int64(2), object(3)\n",
      "memory usage: 18.7+ MB\n"
     ]
    }
   ],
   "source": [
    "# Since we are going to encode the labels for User and Items, we need to make sure that we convert those to strings \n",
    "df_online_retail['CustomerID'] = df_online_retail['CustomerID'].astype(str)\n",
    "df_online_retail['StockCode'] = df_online_retail['StockCode'].astype(str)\n",
    "\n",
    "# Sanity Check\n",
    "df_online_retail.info()"
   ]
  },
  {
   "cell_type": "code",
   "execution_count": 83,
   "metadata": {},
   "outputs": [
    {
     "data": {
      "text/html": [
       "<div>\n",
       "<style scoped>\n",
       "    .dataframe tbody tr th:only-of-type {\n",
       "        vertical-align: middle;\n",
       "    }\n",
       "\n",
       "    .dataframe tbody tr th {\n",
       "        vertical-align: top;\n",
       "    }\n",
       "\n",
       "    .dataframe thead th {\n",
       "        text-align: right;\n",
       "    }\n",
       "</style>\n",
       "<table border=\"1\" class=\"dataframe\">\n",
       "  <thead>\n",
       "    <tr style=\"text-align: right;\">\n",
       "      <th></th>\n",
       "      <th>InvoiceNo</th>\n",
       "      <th>StockCode</th>\n",
       "      <th>Quantity</th>\n",
       "      <th>InvoiceDate</th>\n",
       "      <th>DeliveryDate</th>\n",
       "      <th>Discount%</th>\n",
       "      <th>ShipMode</th>\n",
       "      <th>ShippingCost</th>\n",
       "      <th>CustomerID</th>\n",
       "      <th>purchased</th>\n",
       "    </tr>\n",
       "  </thead>\n",
       "  <tbody>\n",
       "    <tr>\n",
       "      <th>0</th>\n",
       "      <td>536365</td>\n",
       "      <td>84029E</td>\n",
       "      <td>6</td>\n",
       "      <td>2010-12-01 08:26:00</td>\n",
       "      <td>2010-12-02 08:26:00</td>\n",
       "      <td>0.20</td>\n",
       "      <td>ExpressAir</td>\n",
       "      <td>30.12</td>\n",
       "      <td>17850</td>\n",
       "      <td>1</td>\n",
       "    </tr>\n",
       "    <tr>\n",
       "      <th>1</th>\n",
       "      <td>536365</td>\n",
       "      <td>71053</td>\n",
       "      <td>6</td>\n",
       "      <td>2010-12-01 08:26:00</td>\n",
       "      <td>2010-12-02 08:26:00</td>\n",
       "      <td>0.21</td>\n",
       "      <td>ExpressAir</td>\n",
       "      <td>30.12</td>\n",
       "      <td>17850</td>\n",
       "      <td>1</td>\n",
       "    </tr>\n",
       "    <tr>\n",
       "      <th>2</th>\n",
       "      <td>536365</td>\n",
       "      <td>21730</td>\n",
       "      <td>6</td>\n",
       "      <td>2010-12-01 08:26:00</td>\n",
       "      <td>2010-12-03 08:26:00</td>\n",
       "      <td>0.56</td>\n",
       "      <td>Regular Air</td>\n",
       "      <td>15.22</td>\n",
       "      <td>17850</td>\n",
       "      <td>1</td>\n",
       "    </tr>\n",
       "    <tr>\n",
       "      <th>3</th>\n",
       "      <td>536365</td>\n",
       "      <td>84406B</td>\n",
       "      <td>8</td>\n",
       "      <td>2010-12-01 08:26:00</td>\n",
       "      <td>2010-12-03 08:26:00</td>\n",
       "      <td>0.30</td>\n",
       "      <td>Regular Air</td>\n",
       "      <td>15.22</td>\n",
       "      <td>17850</td>\n",
       "      <td>1</td>\n",
       "    </tr>\n",
       "    <tr>\n",
       "      <th>4</th>\n",
       "      <td>536365</td>\n",
       "      <td>22752</td>\n",
       "      <td>2</td>\n",
       "      <td>2010-12-01 08:26:00</td>\n",
       "      <td>2010-12-04 08:26:00</td>\n",
       "      <td>0.57</td>\n",
       "      <td>Delivery Truck</td>\n",
       "      <td>5.81</td>\n",
       "      <td>17850</td>\n",
       "      <td>1</td>\n",
       "    </tr>\n",
       "  </tbody>\n",
       "</table>\n",
       "</div>"
      ],
      "text/plain": [
       "   InvoiceNo StockCode  Quantity         InvoiceDate        DeliveryDate  \\\n",
       "0     536365    84029E         6 2010-12-01 08:26:00 2010-12-02 08:26:00   \n",
       "1     536365     71053         6 2010-12-01 08:26:00 2010-12-02 08:26:00   \n",
       "2     536365     21730         6 2010-12-01 08:26:00 2010-12-03 08:26:00   \n",
       "3     536365    84406B         8 2010-12-01 08:26:00 2010-12-03 08:26:00   \n",
       "4     536365     22752         2 2010-12-01 08:26:00 2010-12-04 08:26:00   \n",
       "\n",
       "   Discount%        ShipMode  ShippingCost CustomerID  purchased  \n",
       "0       0.20      ExpressAir         30.12      17850          1  \n",
       "1       0.21      ExpressAir         30.12      17850          1  \n",
       "2       0.56     Regular Air         15.22      17850          1  \n",
       "3       0.30     Regular Air         15.22      17850          1  \n",
       "4       0.57  Delivery Truck          5.81      17850          1  "
      ]
     },
     "execution_count": 83,
     "metadata": {},
     "output_type": "execute_result"
    }
   ],
   "source": [
    "# Last but not least, we will need a column, which indicates that an item was bought by a user. We are assuming, this column is binary - 1 means bought, 0 means no interaction\n",
    "df_online_retail['purchased'] = 1\n",
    "df_online_retail.head()"
   ]
  },
  {
   "cell_type": "code",
   "execution_count": 84,
   "metadata": {},
   "outputs": [
    {
     "data": {
      "text/plain": [
       "CustomerID\n",
       "12346       1\n",
       "17846       1\n",
       "14351       1\n",
       "17763       1\n",
       "13185       1\n",
       "         ... \n",
       "15311    1892\n",
       "14606    2185\n",
       "12748    2388\n",
       "14911    3648\n",
       "17841    5095\n",
       "Length: 3647, dtype: int64"
      ]
     },
     "execution_count": 84,
     "metadata": {},
     "output_type": "execute_result"
    }
   ],
   "source": [
    "df_online_retail.groupby('CustomerID').size().sort_values()"
   ]
  },
  {
   "cell_type": "code",
   "execution_count": 85,
   "metadata": {},
   "outputs": [
    {
     "data": {
      "text/html": [
       "<div>\n",
       "<style scoped>\n",
       "    .dataframe tbody tr th:only-of-type {\n",
       "        vertical-align: middle;\n",
       "    }\n",
       "\n",
       "    .dataframe tbody tr th {\n",
       "        vertical-align: top;\n",
       "    }\n",
       "\n",
       "    .dataframe thead th {\n",
       "        text-align: right;\n",
       "    }\n",
       "</style>\n",
       "<table border=\"1\" class=\"dataframe\">\n",
       "  <thead>\n",
       "    <tr style=\"text-align: right;\">\n",
       "      <th></th>\n",
       "      <th>InvoiceNo</th>\n",
       "      <th>StockCode</th>\n",
       "      <th>Quantity</th>\n",
       "      <th>InvoiceDate</th>\n",
       "      <th>DeliveryDate</th>\n",
       "      <th>Discount%</th>\n",
       "      <th>ShipMode</th>\n",
       "      <th>ShippingCost</th>\n",
       "      <th>CustomerID</th>\n",
       "      <th>purchased</th>\n",
       "    </tr>\n",
       "  </thead>\n",
       "  <tbody>\n",
       "    <tr>\n",
       "      <th>0</th>\n",
       "      <td>536365</td>\n",
       "      <td>2695</td>\n",
       "      <td>6</td>\n",
       "      <td>2010-12-01 08:26:00</td>\n",
       "      <td>2010-12-02 08:26:00</td>\n",
       "      <td>0.20</td>\n",
       "      <td>ExpressAir</td>\n",
       "      <td>30.12</td>\n",
       "      <td>3381</td>\n",
       "      <td>1</td>\n",
       "    </tr>\n",
       "    <tr>\n",
       "      <th>1</th>\n",
       "      <td>536365</td>\n",
       "      <td>2548</td>\n",
       "      <td>6</td>\n",
       "      <td>2010-12-01 08:26:00</td>\n",
       "      <td>2010-12-02 08:26:00</td>\n",
       "      <td>0.21</td>\n",
       "      <td>ExpressAir</td>\n",
       "      <td>30.12</td>\n",
       "      <td>3381</td>\n",
       "      <td>1</td>\n",
       "    </tr>\n",
       "    <tr>\n",
       "      <th>2</th>\n",
       "      <td>536365</td>\n",
       "      <td>750</td>\n",
       "      <td>6</td>\n",
       "      <td>2010-12-01 08:26:00</td>\n",
       "      <td>2010-12-03 08:26:00</td>\n",
       "      <td>0.56</td>\n",
       "      <td>Regular Air</td>\n",
       "      <td>15.22</td>\n",
       "      <td>3381</td>\n",
       "      <td>1</td>\n",
       "    </tr>\n",
       "    <tr>\n",
       "      <th>3</th>\n",
       "      <td>536365</td>\n",
       "      <td>2747</td>\n",
       "      <td>8</td>\n",
       "      <td>2010-12-01 08:26:00</td>\n",
       "      <td>2010-12-03 08:26:00</td>\n",
       "      <td>0.30</td>\n",
       "      <td>Regular Air</td>\n",
       "      <td>15.22</td>\n",
       "      <td>3381</td>\n",
       "      <td>1</td>\n",
       "    </tr>\n",
       "    <tr>\n",
       "      <th>4</th>\n",
       "      <td>536365</td>\n",
       "      <td>1599</td>\n",
       "      <td>2</td>\n",
       "      <td>2010-12-01 08:26:00</td>\n",
       "      <td>2010-12-04 08:26:00</td>\n",
       "      <td>0.57</td>\n",
       "      <td>Delivery Truck</td>\n",
       "      <td>5.81</td>\n",
       "      <td>3381</td>\n",
       "      <td>1</td>\n",
       "    </tr>\n",
       "  </tbody>\n",
       "</table>\n",
       "</div>"
      ],
      "text/plain": [
       "   InvoiceNo  StockCode  Quantity         InvoiceDate        DeliveryDate  \\\n",
       "0     536365       2695         6 2010-12-01 08:26:00 2010-12-02 08:26:00   \n",
       "1     536365       2548         6 2010-12-01 08:26:00 2010-12-02 08:26:00   \n",
       "2     536365        750         6 2010-12-01 08:26:00 2010-12-03 08:26:00   \n",
       "3     536365       2747         8 2010-12-01 08:26:00 2010-12-03 08:26:00   \n",
       "4     536365       1599         2 2010-12-01 08:26:00 2010-12-04 08:26:00   \n",
       "\n",
       "   Discount%        ShipMode  ShippingCost  CustomerID  purchased  \n",
       "0       0.20      ExpressAir         30.12        3381          1  \n",
       "1       0.21      ExpressAir         30.12        3381          1  \n",
       "2       0.56     Regular Air         15.22        3381          1  \n",
       "3       0.30     Regular Air         15.22        3381          1  \n",
       "4       0.57  Delivery Truck          5.81        3381          1  "
      ]
     },
     "execution_count": 85,
     "metadata": {},
     "output_type": "execute_result"
    }
   ],
   "source": [
    "# User & Item  Label Encoder \n",
    "\n",
    "# Import LabelEncoder\n",
    "from sklearn.preprocessing import LabelEncoder\n",
    "\n",
    "# Set up Objects for User and Item Column\n",
    "le1 = LabelEncoder()\n",
    "le2 = LabelEncoder()\n",
    "\n",
    "# Fit the encoders to the columns in question\n",
    "le1.fit(df_online_retail['StockCode'])\n",
    "le2.fit(df_online_retail['CustomerID'])\n",
    "\n",
    "# Transform dataframe with encoded labels\n",
    "df_online_retail['StockCode'] = le1.transform(df_online_retail['StockCode'])\n",
    "df_online_retail['CustomerID'] = le2.transform(df_online_retail['CustomerID'])\n",
    "\n",
    "# Check Change \n",
    "df_online_retail.head()"
   ]
  },
  {
   "attachments": {},
   "cell_type": "markdown",
   "metadata": {},
   "source": [
    "## 1.2. Filter out Users"
   ]
  },
  {
   "cell_type": "code",
   "execution_count": 86,
   "metadata": {},
   "outputs": [
    {
     "data": {
      "text/html": [
       "<div>\n",
       "<style scoped>\n",
       "    .dataframe tbody tr th:only-of-type {\n",
       "        vertical-align: middle;\n",
       "    }\n",
       "\n",
       "    .dataframe tbody tr th {\n",
       "        vertical-align: top;\n",
       "    }\n",
       "\n",
       "    .dataframe thead th {\n",
       "        text-align: right;\n",
       "    }\n",
       "</style>\n",
       "<table border=\"1\" class=\"dataframe\">\n",
       "  <thead>\n",
       "    <tr style=\"text-align: right;\">\n",
       "      <th></th>\n",
       "      <th>CustomerID</th>\n",
       "      <th>Purchases</th>\n",
       "    </tr>\n",
       "  </thead>\n",
       "  <tbody>\n",
       "    <tr>\n",
       "      <th>3375</th>\n",
       "      <td>3375</td>\n",
       "      <td>5095</td>\n",
       "    </tr>\n",
       "    <tr>\n",
       "      <th>1604</th>\n",
       "      <td>1604</td>\n",
       "      <td>3648</td>\n",
       "    </tr>\n",
       "    <tr>\n",
       "      <th>268</th>\n",
       "      <td>268</td>\n",
       "      <td>2388</td>\n",
       "    </tr>\n",
       "    <tr>\n",
       "      <th>1423</th>\n",
       "      <td>1423</td>\n",
       "      <td>2185</td>\n",
       "    </tr>\n",
       "    <tr>\n",
       "      <th>1858</th>\n",
       "      <td>1858</td>\n",
       "      <td>1892</td>\n",
       "    </tr>\n",
       "    <tr>\n",
       "      <th>...</th>\n",
       "      <td>...</td>\n",
       "      <td>...</td>\n",
       "    </tr>\n",
       "    <tr>\n",
       "      <th>3306</th>\n",
       "      <td>3306</td>\n",
       "      <td>1</td>\n",
       "    </tr>\n",
       "    <tr>\n",
       "      <th>3328</th>\n",
       "      <td>3328</td>\n",
       "      <td>1</td>\n",
       "    </tr>\n",
       "    <tr>\n",
       "      <th>3331</th>\n",
       "      <td>3331</td>\n",
       "      <td>1</td>\n",
       "    </tr>\n",
       "    <tr>\n",
       "      <th>1373</th>\n",
       "      <td>1373</td>\n",
       "      <td>1</td>\n",
       "    </tr>\n",
       "    <tr>\n",
       "      <th>0</th>\n",
       "      <td>0</td>\n",
       "      <td>1</td>\n",
       "    </tr>\n",
       "  </tbody>\n",
       "</table>\n",
       "<p>3647 rows × 2 columns</p>\n",
       "</div>"
      ],
      "text/plain": [
       "      CustomerID  Purchases\n",
       "3375        3375       5095\n",
       "1604        1604       3648\n",
       "268          268       2388\n",
       "1423        1423       2185\n",
       "1858        1858       1892\n",
       "...          ...        ...\n",
       "3306        3306          1\n",
       "3328        3328          1\n",
       "3331        3331          1\n",
       "1373        1373          1\n",
       "0              0          1\n",
       "\n",
       "[3647 rows x 2 columns]"
      ]
     },
     "execution_count": 86,
     "metadata": {},
     "output_type": "execute_result"
    }
   ],
   "source": [
    "# Count the number of rows per user\n",
    "rows_per_user = df_online_retail.groupby('CustomerID').size()\n",
    "\n",
    "# Create a new DataFrame with the desired columns and reset the index\n",
    "df_rows_per_user = rows_per_user.reset_index(name='Purchases')\n",
    "\n",
    "# Rename the column to match the original DataFrame\n",
    "df_rows_per_user = df_rows_per_user.rename(columns={'CustomerID': 'CustomerID'})\n",
    "\n",
    "# Display the new DataFrame\n",
    "df_rows_per_user.sort_values(by='Purchases', ascending=False)"
   ]
  },
  {
   "cell_type": "code",
   "execution_count": 87,
   "metadata": {},
   "outputs": [
    {
     "name": "stdout",
     "output_type": "stream",
     "text": [
      "Users with less than 13 Purchases \t: 729\n",
      "Users with less than 15 Purchases \t: 856\n",
      "Users with less than 20 Purchases \t: 1151\n",
      "Users with less than 50 Purchases \t: 2206\n"
     ]
    }
   ],
   "source": [
    "# Find out a Threshold to cut\n",
    "print(\"Users with less than 13 Purchases \\t:\", len(df_rows_per_user[df_rows_per_user['Purchases']<13]))\n",
    "print(\"Users with less than 15 Purchases \\t:\", len(df_rows_per_user[df_rows_per_user['Purchases']<15]))\n",
    "print(\"Users with less than 20 Purchases \\t:\", len(df_rows_per_user[df_rows_per_user['Purchases']<20]))\n",
    "print(\"Users with less than 50 Purchases \\t:\", len(df_rows_per_user[df_rows_per_user['Purchases']<50]))"
   ]
  },
  {
   "cell_type": "code",
   "execution_count": 88,
   "metadata": {},
   "outputs": [
    {
     "data": {
      "text/plain": [
       "(265836, 10)"
      ]
     },
     "execution_count": 88,
     "metadata": {},
     "output_type": "execute_result"
    }
   ],
   "source": [
    "# Create a list of users with less than 20 Purchases\n",
    "customer_less_20 = df_rows_per_user[df_rows_per_user['Purchases']<15]['CustomerID'].tolist()\n",
    "\n",
    "# Filter out these users from the initial DataFrame df_online_retail\n",
    "df_online_retail_20 = df_online_retail[~df_online_retail['CustomerID'].isin(customer_less_20)]\n",
    "\n",
    "# Show shape of new DataFrame\n",
    "df_online_retail_20.shape"
   ]
  },
  {
   "cell_type": "code",
   "execution_count": 89,
   "metadata": {},
   "outputs": [
    {
     "data": {
      "text/plain": [
       "6568"
      ]
     },
     "execution_count": 89,
     "metadata": {},
     "output_type": "execute_result"
    }
   ],
   "source": [
    "# How many rows less?\n",
    "df_online_retail.shape[0] - df_online_retail_20.shape[0]"
   ]
  },
  {
   "attachments": {},
   "cell_type": "markdown",
   "metadata": {},
   "source": [
    "## 1.3. Data Split"
   ]
  },
  {
   "cell_type": "code",
   "execution_count": 90,
   "metadata": {},
   "outputs": [],
   "source": [
    "from recommenders.datasets.sparse import AffinityMatrix"
   ]
  },
  {
   "cell_type": "code",
   "execution_count": 91,
   "metadata": {},
   "outputs": [],
   "source": [
    "#to use standard names across the analysis \n",
    "header = {\n",
    "        \"col_user\": \"CustomerID\",\n",
    "        \"col_item\": \"StockCode\",\n",
    "        \"col_rating\": \"purchased\",\n",
    "    }\n",
    "\n",
    "#instantiate the sparse matrix generation  \n",
    "am = AffinityMatrix(df = df_online_retail_20, col_user='CustomerID', col_item='StockCode', col_rating='purchased')\n",
    "\n",
    "#obtain the sparse matrix \n",
    "X, _, _ = am.gen_affinity_matrix()\n",
    "\n",
    "# check that the generated matrix has the correct dimensions\n",
    "assert (X.shape[0] == df_online_retail_20['CustomerID'].unique().shape[0]) & (\n",
    "        X.shape[1] == df_online_retail_20.StockCode.unique().shape[0]\n",
    "    )"
   ]
  },
  {
   "cell_type": "code",
   "execution_count": 92,
   "metadata": {},
   "outputs": [],
   "source": [
    "from recommenders.datasets.python_splitters import numpy_stratified_split\n",
    "Xtr, Xtst = numpy_stratified_split(X, ratio=0.8, seed=1)"
   ]
  },
  {
   "cell_type": "code",
   "execution_count": 93,
   "metadata": {},
   "outputs": [
    {
     "name": "stdout",
     "output_type": "stream",
     "text": [
      "train matrix size (2791, 3523)\n",
      "test matrix size (2791, 3523)\n"
     ]
    }
   ],
   "source": [
    "print('train matrix size', Xtr.shape)\n",
    "print('test matrix size', Xtst.shape)"
   ]
  },
  {
   "cell_type": "code",
   "execution_count": 94,
   "metadata": {},
   "outputs": [
    {
     "name": "stdout",
     "output_type": "stream",
     "text": [
      "Elements in train: \t 151016\n",
      "Elements in test:\t 35452\n"
     ]
    }
   ],
   "source": [
    "count_nonzero_train = np.sum(Xtr != 0)\n",
    "count_nonzero_test = np.sum(Xtst!=0)\n",
    "print('Elements in train: \\t', count_nonzero_train)\n",
    "print('Elements in test:\\t', count_nonzero_test)"
   ]
  },
  {
   "cell_type": "code",
   "execution_count": 95,
   "metadata": {},
   "outputs": [],
   "source": [
    "# Turn all values to 5 that are above 0 \n",
    "Xtr = np.where(Xtr > 0, 1, Xtr)\n",
    "#Xtr = np.where(Xtr ==0, 1, Xtr)"
   ]
  },
  {
   "cell_type": "code",
   "execution_count": 96,
   "metadata": {},
   "outputs": [],
   "source": [
    "# Turn all values to 5 that are above 0 \n",
    "Xtst = np.where(Xtst > 0, 1, Xtst)\n",
    "#Xtst = np.where(Xtst == 0, 1, Xtst)"
   ]
  },
  {
   "attachments": {},
   "cell_type": "markdown",
   "metadata": {},
   "source": [
    "## 1.3. Model"
   ]
  },
  {
   "cell_type": "code",
   "execution_count": 97,
   "metadata": {},
   "outputs": [],
   "source": [
    "import logging\n",
    "import tensorflow as tf\n",
    "tf.get_logger().setLevel(logging.ERROR)\n",
    "\n",
    "#RBM \n",
    "from recommenders.models.rbm.rbm import RBM\n",
    "from recommenders.utils.timer import Timer\n",
    "from recommenders.utils.plot import line_graph\n",
    "\n",
    "# Evaluation\n",
    "from recommenders.evaluation.python_evaluation import (\n",
    "    precision_at_k,\n",
    "    recall_at_k,\n",
    "    map_at_k,\n",
    "    auc\n",
    ")\n"
   ]
  },
  {
   "cell_type": "code",
   "execution_count": 98,
   "metadata": {},
   "outputs": [],
   "source": [
    "try:\n",
    "    del(model)\n",
    "except:\n",
    "    pass"
   ]
  },
  {
   "cell_type": "code",
   "execution_count": 99,
   "metadata": {},
   "outputs": [],
   "source": [
    "#First we initialize the model class\n",
    "model = RBM(\n",
    "    possible_ratings=np.setdiff1d(np.unique(Xtr), np.array([0])),\n",
    "    visible_units=Xtr.shape[1],\n",
    "    hidden_units=100,\n",
    "    training_epoch=30,\n",
    "    minibatch_size=10,\n",
    "    keep_prob=0.8,\n",
    "    with_metrics=True,\n",
    "    seed=1,\n",
    "    learning_rate=0.0001\n",
    ")"
   ]
  },
  {
   "cell_type": "code",
   "execution_count": 100,
   "metadata": {},
   "outputs": [
    {
     "name": "stdout",
     "output_type": "stream",
     "text": [
      "Took 29.60 seconds for training.\n"
     ]
    }
   ],
   "source": [
    "#Model Fit\n",
    "with Timer() as train_time:\n",
    "    model.fit(Xtr)\n",
    "\n",
    "print(\"Took {:.2f} seconds for training.\".format(train_time.interval))"
   ]
  },
  {
   "cell_type": "code",
   "execution_count": 101,
   "metadata": {},
   "outputs": [
    {
     "name": "stdout",
     "output_type": "stream",
     "text": [
      "Took 0.58 seconds for prediction.\n"
     ]
    }
   ],
   "source": [
    "# number of top score elements to be recommended  \n",
    "K = 20\n",
    "\n",
    "# Model prediction on the test set Xtst.\n",
    "with Timer() as prediction_time:\n",
    "    top_k =  model.recommend_k_items(Xtst, top_k=K)\n",
    "\n",
    "print(\"Took {:.2f} seconds for prediction.\".format(prediction_time.interval))"
   ]
  },
  {
   "cell_type": "code",
   "execution_count": 102,
   "metadata": {},
   "outputs": [],
   "source": [
    "# Map Back Xtst & Top_k \n",
    "top_k_df = am.map_back_sparse(top_k, kind = 'prediction')\n",
    "test_df = am.map_back_sparse(Xtst, kind = 'ratings')"
   ]
  },
  {
   "cell_type": "code",
   "execution_count": 103,
   "metadata": {},
   "outputs": [],
   "source": [
    "# Drop Customer ID because non existent\n",
    "#top_k_df = top_k_df.drop(top_k_df[top_k_df['Customer ID'] == 0].index)"
   ]
  },
  {
   "cell_type": "code",
   "execution_count": 104,
   "metadata": {},
   "outputs": [],
   "source": [
    "#collection of evaluation metrics for later use\n",
    "def ranking_metrics(\n",
    "    data_size,\n",
    "    data_true,\n",
    "    data_pred,\n",
    "    K\n",
    "):\n",
    "    eval_precision = precision_at_k(data_true, data_pred, col_user=\"CustomerID\", col_item=\"StockCode\",\n",
    "                                    col_rating=\"purchased\", col_prediction=\"prediction\", \n",
    "                                    relevancy_method=\"top_k\", k= K)\n",
    "\n",
    "    eval_recall = recall_at_k(data_true, data_pred, col_user=\"CustomerID\", col_item=\"StockCode\", \n",
    "                                    col_rating=\"purchased\", col_prediction=\"prediction\", \n",
    "                                    relevancy_method=\"top_k\", k= K)\n",
    "    eval_map = map_at_k(data_true, data_pred, col_user=\"CustomerID\", col_item=\"StockCode\", \n",
    "                                    col_rating=\"purchased\", col_prediction=\"prediction\", \n",
    "                                    relevancy_method=\"top_k\", k= K)\n",
    "\n",
    "    df_result = pd.DataFrame(\n",
    "        {   \"Dataset\": data_size,\n",
    "            \"K\": K,\n",
    "            \"Precision@k\": eval_precision,\n",
    "            \"Recall@k\": eval_recall,\n",
    "            \"MAP\": eval_map,\n",
    "        }, \n",
    "        index=[0]\n",
    "    )\n",
    "\n",
    "    return df_result"
   ]
  },
  {
   "cell_type": "code",
   "execution_count": 105,
   "metadata": {},
   "outputs": [
    {
     "data": {
      "text/html": [
       "<div>\n",
       "<style scoped>\n",
       "    .dataframe tbody tr th:only-of-type {\n",
       "        vertical-align: middle;\n",
       "    }\n",
       "\n",
       "    .dataframe tbody tr th {\n",
       "        vertical-align: top;\n",
       "    }\n",
       "\n",
       "    .dataframe thead th {\n",
       "        text-align: right;\n",
       "    }\n",
       "</style>\n",
       "<table border=\"1\" class=\"dataframe\">\n",
       "  <thead>\n",
       "    <tr style=\"text-align: right;\">\n",
       "      <th></th>\n",
       "      <th>Dataset</th>\n",
       "      <th>K</th>\n",
       "      <th>Precision@k</th>\n",
       "      <th>Recall@k</th>\n",
       "      <th>MAP</th>\n",
       "    </tr>\n",
       "  </thead>\n",
       "  <tbody>\n",
       "    <tr>\n",
       "      <th>0</th>\n",
       "      <td>Online Retail</td>\n",
       "      <td>20</td>\n",
       "      <td>0.010695</td>\n",
       "      <td>0.016223</td>\n",
       "      <td>0.00526</td>\n",
       "    </tr>\n",
       "  </tbody>\n",
       "</table>\n",
       "</div>"
      ],
      "text/plain": [
       "         Dataset   K  Precision@k  Recall@k      MAP\n",
       "0  Online Retail  20     0.010695  0.016223  0.00526"
      ]
     },
     "execution_count": 105,
     "metadata": {},
     "output_type": "execute_result"
    }
   ],
   "source": [
    "eval_at_10= ranking_metrics(\n",
    "    data_size=\"Online Retail\",\n",
    "    data_true=test_df,\n",
    "    data_pred=top_k_df,\n",
    "    K=K\n",
    ")\n",
    "\n",
    "eval_at_10"
   ]
  },
  {
   "cell_type": "code",
   "execution_count": 106,
   "metadata": {},
   "outputs": [
    {
     "data": {
      "text/html": [
       "<div>\n",
       "<style scoped>\n",
       "    .dataframe tbody tr th:only-of-type {\n",
       "        vertical-align: middle;\n",
       "    }\n",
       "\n",
       "    .dataframe tbody tr th {\n",
       "        vertical-align: top;\n",
       "    }\n",
       "\n",
       "    .dataframe thead th {\n",
       "        text-align: right;\n",
       "    }\n",
       "</style>\n",
       "<table border=\"1\" class=\"dataframe\">\n",
       "  <thead>\n",
       "    <tr style=\"text-align: right;\">\n",
       "      <th></th>\n",
       "      <th>CustomerID</th>\n",
       "      <th>StockCode</th>\n",
       "      <th>prediction</th>\n",
       "    </tr>\n",
       "  </thead>\n",
       "  <tbody>\n",
       "    <tr>\n",
       "      <th>0</th>\n",
       "      <td>1</td>\n",
       "      <td>1574</td>\n",
       "      <td>1.0</td>\n",
       "    </tr>\n",
       "    <tr>\n",
       "      <th>1</th>\n",
       "      <td>1</td>\n",
       "      <td>1244</td>\n",
       "      <td>1.0</td>\n",
       "    </tr>\n",
       "    <tr>\n",
       "      <th>2</th>\n",
       "      <td>1</td>\n",
       "      <td>3029</td>\n",
       "      <td>1.0</td>\n",
       "    </tr>\n",
       "    <tr>\n",
       "      <th>3</th>\n",
       "      <td>1</td>\n",
       "      <td>2129</td>\n",
       "      <td>1.0</td>\n",
       "    </tr>\n",
       "    <tr>\n",
       "      <th>4</th>\n",
       "      <td>1</td>\n",
       "      <td>3034</td>\n",
       "      <td>1.0</td>\n",
       "    </tr>\n",
       "    <tr>\n",
       "      <th>...</th>\n",
       "      <td>...</td>\n",
       "      <td>...</td>\n",
       "      <td>...</td>\n",
       "    </tr>\n",
       "    <tr>\n",
       "      <th>55815</th>\n",
       "      <td>3646</td>\n",
       "      <td>2532</td>\n",
       "      <td>1.0</td>\n",
       "    </tr>\n",
       "    <tr>\n",
       "      <th>55816</th>\n",
       "      <td>3646</td>\n",
       "      <td>1085</td>\n",
       "      <td>1.0</td>\n",
       "    </tr>\n",
       "    <tr>\n",
       "      <th>55817</th>\n",
       "      <td>3646</td>\n",
       "      <td>1917</td>\n",
       "      <td>1.0</td>\n",
       "    </tr>\n",
       "    <tr>\n",
       "      <th>55818</th>\n",
       "      <td>3646</td>\n",
       "      <td>2004</td>\n",
       "      <td>1.0</td>\n",
       "    </tr>\n",
       "    <tr>\n",
       "      <th>55819</th>\n",
       "      <td>3646</td>\n",
       "      <td>2000</td>\n",
       "      <td>1.0</td>\n",
       "    </tr>\n",
       "  </tbody>\n",
       "</table>\n",
       "<p>55820 rows × 3 columns</p>\n",
       "</div>"
      ],
      "text/plain": [
       "       CustomerID  StockCode  prediction\n",
       "0               1       1574         1.0\n",
       "1               1       1244         1.0\n",
       "2               1       3029         1.0\n",
       "3               1       2129         1.0\n",
       "4               1       3034         1.0\n",
       "...           ...        ...         ...\n",
       "55815        3646       2532         1.0\n",
       "55816        3646       1085         1.0\n",
       "55817        3646       1917         1.0\n",
       "55818        3646       2004         1.0\n",
       "55819        3646       2000         1.0\n",
       "\n",
       "[55820 rows x 3 columns]"
      ]
     },
     "execution_count": 106,
     "metadata": {},
     "output_type": "execute_result"
    }
   ],
   "source": [
    "top_k_df"
   ]
  },
  {
   "cell_type": "code",
   "execution_count": 118,
   "metadata": {},
   "outputs": [
    {
     "data": {
      "text/html": [
       "<div>\n",
       "<style scoped>\n",
       "    .dataframe tbody tr th:only-of-type {\n",
       "        vertical-align: middle;\n",
       "    }\n",
       "\n",
       "    .dataframe tbody tr th {\n",
       "        vertical-align: top;\n",
       "    }\n",
       "\n",
       "    .dataframe thead th {\n",
       "        text-align: right;\n",
       "    }\n",
       "</style>\n",
       "<table border=\"1\" class=\"dataframe\">\n",
       "  <thead>\n",
       "    <tr style=\"text-align: right;\">\n",
       "      <th></th>\n",
       "      <th>CustomerID</th>\n",
       "      <th>StockCode</th>\n",
       "      <th>prediction</th>\n",
       "    </tr>\n",
       "  </thead>\n",
       "  <tbody>\n",
       "    <tr>\n",
       "      <th>8</th>\n",
       "      <td>1</td>\n",
       "      <td>273</td>\n",
       "      <td>1.0</td>\n",
       "    </tr>\n",
       "    <tr>\n",
       "      <th>9</th>\n",
       "      <td>1</td>\n",
       "      <td>314</td>\n",
       "      <td>1.0</td>\n",
       "    </tr>\n",
       "    <tr>\n",
       "      <th>7</th>\n",
       "      <td>1</td>\n",
       "      <td>318</td>\n",
       "      <td>1.0</td>\n",
       "    </tr>\n",
       "    <tr>\n",
       "      <th>16</th>\n",
       "      <td>1</td>\n",
       "      <td>423</td>\n",
       "      <td>1.0</td>\n",
       "    </tr>\n",
       "    <tr>\n",
       "      <th>18</th>\n",
       "      <td>1</td>\n",
       "      <td>749</td>\n",
       "      <td>1.0</td>\n",
       "    </tr>\n",
       "    <tr>\n",
       "      <th>15</th>\n",
       "      <td>1</td>\n",
       "      <td>908</td>\n",
       "      <td>1.0</td>\n",
       "    </tr>\n",
       "    <tr>\n",
       "      <th>19</th>\n",
       "      <td>1</td>\n",
       "      <td>915</td>\n",
       "      <td>1.0</td>\n",
       "    </tr>\n",
       "    <tr>\n",
       "      <th>1</th>\n",
       "      <td>1</td>\n",
       "      <td>1244</td>\n",
       "      <td>1.0</td>\n",
       "    </tr>\n",
       "    <tr>\n",
       "      <th>5</th>\n",
       "      <td>1</td>\n",
       "      <td>1245</td>\n",
       "      <td>1.0</td>\n",
       "    </tr>\n",
       "    <tr>\n",
       "      <th>11</th>\n",
       "      <td>1</td>\n",
       "      <td>1352</td>\n",
       "      <td>1.0</td>\n",
       "    </tr>\n",
       "    <tr>\n",
       "      <th>0</th>\n",
       "      <td>1</td>\n",
       "      <td>1574</td>\n",
       "      <td>1.0</td>\n",
       "    </tr>\n",
       "    <tr>\n",
       "      <th>12</th>\n",
       "      <td>1</td>\n",
       "      <td>1649</td>\n",
       "      <td>1.0</td>\n",
       "    </tr>\n",
       "    <tr>\n",
       "      <th>10</th>\n",
       "      <td>1</td>\n",
       "      <td>2006</td>\n",
       "      <td>1.0</td>\n",
       "    </tr>\n",
       "    <tr>\n",
       "      <th>3</th>\n",
       "      <td>1</td>\n",
       "      <td>2129</td>\n",
       "      <td>1.0</td>\n",
       "    </tr>\n",
       "    <tr>\n",
       "      <th>14</th>\n",
       "      <td>1</td>\n",
       "      <td>2828</td>\n",
       "      <td>1.0</td>\n",
       "    </tr>\n",
       "    <tr>\n",
       "      <th>13</th>\n",
       "      <td>1</td>\n",
       "      <td>3013</td>\n",
       "      <td>1.0</td>\n",
       "    </tr>\n",
       "    <tr>\n",
       "      <th>2</th>\n",
       "      <td>1</td>\n",
       "      <td>3029</td>\n",
       "      <td>1.0</td>\n",
       "    </tr>\n",
       "    <tr>\n",
       "      <th>4</th>\n",
       "      <td>1</td>\n",
       "      <td>3034</td>\n",
       "      <td>1.0</td>\n",
       "    </tr>\n",
       "    <tr>\n",
       "      <th>6</th>\n",
       "      <td>1</td>\n",
       "      <td>3035</td>\n",
       "      <td>1.0</td>\n",
       "    </tr>\n",
       "    <tr>\n",
       "      <th>17</th>\n",
       "      <td>1</td>\n",
       "      <td>3537</td>\n",
       "      <td>1.0</td>\n",
       "    </tr>\n",
       "  </tbody>\n",
       "</table>\n",
       "</div>"
      ],
      "text/plain": [
       "    CustomerID  StockCode  prediction\n",
       "8            1        273         1.0\n",
       "9            1        314         1.0\n",
       "7            1        318         1.0\n",
       "16           1        423         1.0\n",
       "18           1        749         1.0\n",
       "15           1        908         1.0\n",
       "19           1        915         1.0\n",
       "1            1       1244         1.0\n",
       "5            1       1245         1.0\n",
       "11           1       1352         1.0\n",
       "0            1       1574         1.0\n",
       "12           1       1649         1.0\n",
       "10           1       2006         1.0\n",
       "3            1       2129         1.0\n",
       "14           1       2828         1.0\n",
       "13           1       3013         1.0\n",
       "2            1       3029         1.0\n",
       "4            1       3034         1.0\n",
       "6            1       3035         1.0\n",
       "17           1       3537         1.0"
      ]
     },
     "execution_count": 118,
     "metadata": {},
     "output_type": "execute_result"
    }
   ],
   "source": [
    "top_k_df[top_k_df['CustomerID']==1].sort_values('StockCode')"
   ]
  },
  {
   "cell_type": "code",
   "execution_count": 119,
   "metadata": {},
   "outputs": [
    {
     "data": {
      "text/html": [
       "<div>\n",
       "<style scoped>\n",
       "    .dataframe tbody tr th:only-of-type {\n",
       "        vertical-align: middle;\n",
       "    }\n",
       "\n",
       "    .dataframe tbody tr th {\n",
       "        vertical-align: top;\n",
       "    }\n",
       "\n",
       "    .dataframe thead th {\n",
       "        text-align: right;\n",
       "    }\n",
       "</style>\n",
       "<table border=\"1\" class=\"dataframe\">\n",
       "  <thead>\n",
       "    <tr style=\"text-align: right;\">\n",
       "      <th></th>\n",
       "      <th>CustomerID</th>\n",
       "      <th>StockCode</th>\n",
       "      <th>purchased</th>\n",
       "    </tr>\n",
       "  </thead>\n",
       "  <tbody>\n",
       "    <tr>\n",
       "      <th>8</th>\n",
       "      <td>1</td>\n",
       "      <td>273</td>\n",
       "      <td>1</td>\n",
       "    </tr>\n",
       "    <tr>\n",
       "      <th>9</th>\n",
       "      <td>1</td>\n",
       "      <td>314</td>\n",
       "      <td>1</td>\n",
       "    </tr>\n",
       "    <tr>\n",
       "      <th>7</th>\n",
       "      <td>1</td>\n",
       "      <td>318</td>\n",
       "      <td>1</td>\n",
       "    </tr>\n",
       "    <tr>\n",
       "      <th>15</th>\n",
       "      <td>1</td>\n",
       "      <td>908</td>\n",
       "      <td>1</td>\n",
       "    </tr>\n",
       "    <tr>\n",
       "      <th>1</th>\n",
       "      <td>1</td>\n",
       "      <td>1244</td>\n",
       "      <td>1</td>\n",
       "    </tr>\n",
       "    <tr>\n",
       "      <th>5</th>\n",
       "      <td>1</td>\n",
       "      <td>1245</td>\n",
       "      <td>1</td>\n",
       "    </tr>\n",
       "    <tr>\n",
       "      <th>11</th>\n",
       "      <td>1</td>\n",
       "      <td>1352</td>\n",
       "      <td>1</td>\n",
       "    </tr>\n",
       "    <tr>\n",
       "      <th>0</th>\n",
       "      <td>1</td>\n",
       "      <td>1574</td>\n",
       "      <td>1</td>\n",
       "    </tr>\n",
       "    <tr>\n",
       "      <th>12</th>\n",
       "      <td>1</td>\n",
       "      <td>1649</td>\n",
       "      <td>1</td>\n",
       "    </tr>\n",
       "    <tr>\n",
       "      <th>10</th>\n",
       "      <td>1</td>\n",
       "      <td>2006</td>\n",
       "      <td>1</td>\n",
       "    </tr>\n",
       "    <tr>\n",
       "      <th>3</th>\n",
       "      <td>1</td>\n",
       "      <td>2129</td>\n",
       "      <td>1</td>\n",
       "    </tr>\n",
       "    <tr>\n",
       "      <th>14</th>\n",
       "      <td>1</td>\n",
       "      <td>2828</td>\n",
       "      <td>1</td>\n",
       "    </tr>\n",
       "    <tr>\n",
       "      <th>13</th>\n",
       "      <td>1</td>\n",
       "      <td>3013</td>\n",
       "      <td>1</td>\n",
       "    </tr>\n",
       "    <tr>\n",
       "      <th>2</th>\n",
       "      <td>1</td>\n",
       "      <td>3029</td>\n",
       "      <td>1</td>\n",
       "    </tr>\n",
       "    <tr>\n",
       "      <th>4</th>\n",
       "      <td>1</td>\n",
       "      <td>3034</td>\n",
       "      <td>1</td>\n",
       "    </tr>\n",
       "    <tr>\n",
       "      <th>6</th>\n",
       "      <td>1</td>\n",
       "      <td>3035</td>\n",
       "      <td>1</td>\n",
       "    </tr>\n",
       "  </tbody>\n",
       "</table>\n",
       "</div>"
      ],
      "text/plain": [
       "    CustomerID  StockCode  purchased\n",
       "8            1        273          1\n",
       "9            1        314          1\n",
       "7            1        318          1\n",
       "15           1        908          1\n",
       "1            1       1244          1\n",
       "5            1       1245          1\n",
       "11           1       1352          1\n",
       "0            1       1574          1\n",
       "12           1       1649          1\n",
       "10           1       2006          1\n",
       "3            1       2129          1\n",
       "14           1       2828          1\n",
       "13           1       3013          1\n",
       "2            1       3029          1\n",
       "4            1       3034          1\n",
       "6            1       3035          1"
      ]
     },
     "execution_count": 119,
     "metadata": {},
     "output_type": "execute_result"
    }
   ],
   "source": [
    "test_df[test_df['CustomerID']==1].sort_values('StockCode')"
   ]
  },
  {
   "cell_type": "code",
   "execution_count": null,
   "metadata": {},
   "outputs": [],
   "source": []
  }
 ],
 "metadata": {
  "kernelspec": {
   "display_name": "recom",
   "language": "python",
   "name": "python3"
  },
  "language_info": {
   "codemirror_mode": {
    "name": "ipython",
    "version": 3
   },
   "file_extension": ".py",
   "mimetype": "text/x-python",
   "name": "python",
   "nbconvert_exporter": "python",
   "pygments_lexer": "ipython3",
   "version": "3.9.16"
  },
  "orig_nbformat": 4,
  "vscode": {
   "interpreter": {
    "hash": "17afcd9f6960de0a3656d2c4c5dd434deed0eab3cd38c55c3169df3bef50250d"
   }
  }
 },
 "nbformat": 4,
 "nbformat_minor": 2
}
