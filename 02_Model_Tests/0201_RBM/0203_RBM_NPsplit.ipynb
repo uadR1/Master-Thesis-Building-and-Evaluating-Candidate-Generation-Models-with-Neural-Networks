{
 "cells": [
  {
   "cell_type": "code",
   "execution_count": 591,
   "metadata": {},
   "outputs": [],
   "source": [
    "import pandas as pd \n",
    "import numpy as np\n",
    "from matplotlib import pyplot as plt"
   ]
  },
  {
   "cell_type": "code",
   "execution_count": 592,
   "metadata": {},
   "outputs": [],
   "source": [
    "# Reading Data\n",
    "df_online_retail = pd.read_csv('../../00_Data/data.csv', encoding= 'unicode_escape', na_values='nan')\n",
    "#df_online_retail_xlsx = pd.read_excel('../00_Data/online_retail.xlsx', sheet_name=0)\n",
    "#df_online_retail_II = pd.read_excel('../00_Data/online_retail_II.xlsx', sheet_name=0)\n",
    "#df_rec_sys_order = pd.read_excel('../00_Data/Rec_sys_data.xlsx', sheet_name=0)\n",
    "#df_rec_sys_customer = pd.read_excel('../00_Data/Rec_sys_data.xlsx', sheet_name=1)\n",
    "#df_rec_sys_product = pd.read_excel('../00_Data/Rec_sys_data.xlsx', sheet_name=2)"
   ]
  },
  {
   "attachments": {},
   "cell_type": "markdown",
   "metadata": {},
   "source": [
    "# 1. Online Retail Dataset"
   ]
  },
  {
   "attachments": {},
   "cell_type": "markdown",
   "metadata": {},
   "source": [
    "## 1.1 Initial Data Check"
   ]
  },
  {
   "cell_type": "code",
   "execution_count": 593,
   "metadata": {},
   "outputs": [
    {
     "data": {
      "text/plain": [
       "InvoiceNo           0\n",
       "StockCode           0\n",
       "Description      1454\n",
       "Quantity            0\n",
       "InvoiceDate         0\n",
       "UnitPrice           0\n",
       "CustomerID     135080\n",
       "Country             0\n",
       "dtype: int64"
      ]
     },
     "execution_count": 593,
     "metadata": {},
     "output_type": "execute_result"
    }
   ],
   "source": [
    "# Find out number of missing values per column\n",
    "df_online_retail.isna().sum()"
   ]
  },
  {
   "cell_type": "code",
   "execution_count": 594,
   "metadata": {},
   "outputs": [
    {
     "data": {
      "text/plain": [
       "InvoiceNo      0\n",
       "StockCode      0\n",
       "Description    0\n",
       "Quantity       0\n",
       "InvoiceDate    0\n",
       "UnitPrice      0\n",
       "CustomerID     0\n",
       "Country        0\n",
       "dtype: int64"
      ]
     },
     "execution_count": 594,
     "metadata": {},
     "output_type": "execute_result"
    }
   ],
   "source": [
    "# We need to drop missing values in CustomerID\n",
    "df_online_retail = df_online_retail.dropna(subset=['CustomerID'])\n",
    "\n",
    "# Sanity check \n",
    "df_online_retail.isna().sum()"
   ]
  },
  {
   "cell_type": "code",
   "execution_count": 595,
   "metadata": {},
   "outputs": [
    {
     "name": "stdout",
     "output_type": "stream",
     "text": [
      "<class 'pandas.core.frame.DataFrame'>\n",
      "Int64Index: 406829 entries, 0 to 541908\n",
      "Data columns (total 8 columns):\n",
      " #   Column       Non-Null Count   Dtype  \n",
      "---  ------       --------------   -----  \n",
      " 0   InvoiceNo    406829 non-null  object \n",
      " 1   StockCode    406829 non-null  object \n",
      " 2   Description  406829 non-null  object \n",
      " 3   Quantity     406829 non-null  int64  \n",
      " 4   InvoiceDate  406829 non-null  object \n",
      " 5   UnitPrice    406829 non-null  float64\n",
      " 6   CustomerID   406829 non-null  float64\n",
      " 7   Country      406829 non-null  object \n",
      "dtypes: float64(2), int64(1), object(5)\n",
      "memory usage: 27.9+ MB\n"
     ]
    }
   ],
   "source": [
    "# First check Data Types \n",
    "df_online_retail.info()"
   ]
  },
  {
   "cell_type": "code",
   "execution_count": 596,
   "metadata": {},
   "outputs": [
    {
     "name": "stdout",
     "output_type": "stream",
     "text": [
      "<class 'pandas.core.frame.DataFrame'>\n",
      "Int64Index: 406829 entries, 0 to 541908\n",
      "Data columns (total 8 columns):\n",
      " #   Column       Non-Null Count   Dtype         \n",
      "---  ------       --------------   -----         \n",
      " 0   InvoiceNo    406829 non-null  object        \n",
      " 1   StockCode    406829 non-null  object        \n",
      " 2   Description  406829 non-null  object        \n",
      " 3   Quantity     406829 non-null  int64         \n",
      " 4   InvoiceDate  406829 non-null  datetime64[ns]\n",
      " 5   UnitPrice    406829 non-null  float64       \n",
      " 6   CustomerID   406829 non-null  object        \n",
      " 7   Country      406829 non-null  object        \n",
      "dtypes: datetime64[ns](1), float64(1), int64(1), object(5)\n",
      "memory usage: 27.9+ MB\n"
     ]
    }
   ],
   "source": [
    "# Since we are going to encode the labels for User and Items, we need to make sure that we convert those to strings \n",
    "df_online_retail['CustomerID'] = df_online_retail['CustomerID'].astype(str)\n",
    "\n",
    "# We can also convert Invoice Date into Date time\n",
    "df_online_retail['InvoiceDate'] = pd.to_datetime(df_online_retail['InvoiceDate'])\n",
    "df_online_retail.info()"
   ]
  },
  {
   "cell_type": "code",
   "execution_count": 597,
   "metadata": {},
   "outputs": [
    {
     "data": {
      "text/html": [
       "<div>\n",
       "<style scoped>\n",
       "    .dataframe tbody tr th:only-of-type {\n",
       "        vertical-align: middle;\n",
       "    }\n",
       "\n",
       "    .dataframe tbody tr th {\n",
       "        vertical-align: top;\n",
       "    }\n",
       "\n",
       "    .dataframe thead th {\n",
       "        text-align: right;\n",
       "    }\n",
       "</style>\n",
       "<table border=\"1\" class=\"dataframe\">\n",
       "  <thead>\n",
       "    <tr style=\"text-align: right;\">\n",
       "      <th></th>\n",
       "      <th>InvoiceNo</th>\n",
       "      <th>StockCode</th>\n",
       "      <th>Description</th>\n",
       "      <th>Quantity</th>\n",
       "      <th>InvoiceDate</th>\n",
       "      <th>UnitPrice</th>\n",
       "      <th>CustomerID</th>\n",
       "      <th>Country</th>\n",
       "      <th>purchased</th>\n",
       "    </tr>\n",
       "  </thead>\n",
       "  <tbody>\n",
       "    <tr>\n",
       "      <th>0</th>\n",
       "      <td>536365</td>\n",
       "      <td>85123A</td>\n",
       "      <td>WHITE HANGING HEART T-LIGHT HOLDER</td>\n",
       "      <td>6</td>\n",
       "      <td>2010-12-01 08:26:00</td>\n",
       "      <td>2.55</td>\n",
       "      <td>17850.0</td>\n",
       "      <td>United Kingdom</td>\n",
       "      <td>1</td>\n",
       "    </tr>\n",
       "    <tr>\n",
       "      <th>1</th>\n",
       "      <td>536365</td>\n",
       "      <td>71053</td>\n",
       "      <td>WHITE METAL LANTERN</td>\n",
       "      <td>6</td>\n",
       "      <td>2010-12-01 08:26:00</td>\n",
       "      <td>3.39</td>\n",
       "      <td>17850.0</td>\n",
       "      <td>United Kingdom</td>\n",
       "      <td>1</td>\n",
       "    </tr>\n",
       "    <tr>\n",
       "      <th>2</th>\n",
       "      <td>536365</td>\n",
       "      <td>84406B</td>\n",
       "      <td>CREAM CUPID HEARTS COAT HANGER</td>\n",
       "      <td>8</td>\n",
       "      <td>2010-12-01 08:26:00</td>\n",
       "      <td>2.75</td>\n",
       "      <td>17850.0</td>\n",
       "      <td>United Kingdom</td>\n",
       "      <td>1</td>\n",
       "    </tr>\n",
       "    <tr>\n",
       "      <th>3</th>\n",
       "      <td>536365</td>\n",
       "      <td>84029G</td>\n",
       "      <td>KNITTED UNION FLAG HOT WATER BOTTLE</td>\n",
       "      <td>6</td>\n",
       "      <td>2010-12-01 08:26:00</td>\n",
       "      <td>3.39</td>\n",
       "      <td>17850.0</td>\n",
       "      <td>United Kingdom</td>\n",
       "      <td>1</td>\n",
       "    </tr>\n",
       "    <tr>\n",
       "      <th>4</th>\n",
       "      <td>536365</td>\n",
       "      <td>84029E</td>\n",
       "      <td>RED WOOLLY HOTTIE WHITE HEART.</td>\n",
       "      <td>6</td>\n",
       "      <td>2010-12-01 08:26:00</td>\n",
       "      <td>3.39</td>\n",
       "      <td>17850.0</td>\n",
       "      <td>United Kingdom</td>\n",
       "      <td>1</td>\n",
       "    </tr>\n",
       "  </tbody>\n",
       "</table>\n",
       "</div>"
      ],
      "text/plain": [
       "  InvoiceNo StockCode                          Description  Quantity  \\\n",
       "0    536365    85123A   WHITE HANGING HEART T-LIGHT HOLDER         6   \n",
       "1    536365     71053                  WHITE METAL LANTERN         6   \n",
       "2    536365    84406B       CREAM CUPID HEARTS COAT HANGER         8   \n",
       "3    536365    84029G  KNITTED UNION FLAG HOT WATER BOTTLE         6   \n",
       "4    536365    84029E       RED WOOLLY HOTTIE WHITE HEART.         6   \n",
       "\n",
       "          InvoiceDate  UnitPrice CustomerID         Country  purchased  \n",
       "0 2010-12-01 08:26:00       2.55    17850.0  United Kingdom          1  \n",
       "1 2010-12-01 08:26:00       3.39    17850.0  United Kingdom          1  \n",
       "2 2010-12-01 08:26:00       2.75    17850.0  United Kingdom          1  \n",
       "3 2010-12-01 08:26:00       3.39    17850.0  United Kingdom          1  \n",
       "4 2010-12-01 08:26:00       3.39    17850.0  United Kingdom          1  "
      ]
     },
     "execution_count": 597,
     "metadata": {},
     "output_type": "execute_result"
    }
   ],
   "source": [
    "# Last but not least, we will need a column, which indicates that an item was bought by a user. We are assuming, this column is binary - 1 means bought, 0 means no interaction\n",
    "df_online_retail['purchased'] = 1\n",
    "df_online_retail.head()"
   ]
  },
  {
   "cell_type": "code",
   "execution_count": 598,
   "metadata": {},
   "outputs": [
    {
     "data": {
      "text/plain": [
       "CustomerID\n",
       "17846.0       1\n",
       "17763.0       1\n",
       "13366.0       1\n",
       "16579.0       1\n",
       "13391.0       1\n",
       "           ... \n",
       "14606.0    2782\n",
       "12748.0    4642\n",
       "14096.0    5128\n",
       "14911.0    5903\n",
       "17841.0    7983\n",
       "Length: 4372, dtype: int64"
      ]
     },
     "execution_count": 598,
     "metadata": {},
     "output_type": "execute_result"
    }
   ],
   "source": [
    "df_online_retail.groupby('CustomerID').size().sort_values()"
   ]
  },
  {
   "cell_type": "code",
   "execution_count": 599,
   "metadata": {},
   "outputs": [
    {
     "data": {
      "text/html": [
       "<div>\n",
       "<style scoped>\n",
       "    .dataframe tbody tr th:only-of-type {\n",
       "        vertical-align: middle;\n",
       "    }\n",
       "\n",
       "    .dataframe tbody tr th {\n",
       "        vertical-align: top;\n",
       "    }\n",
       "\n",
       "    .dataframe thead th {\n",
       "        text-align: right;\n",
       "    }\n",
       "</style>\n",
       "<table border=\"1\" class=\"dataframe\">\n",
       "  <thead>\n",
       "    <tr style=\"text-align: right;\">\n",
       "      <th></th>\n",
       "      <th>InvoiceNo</th>\n",
       "      <th>StockCode</th>\n",
       "      <th>Description</th>\n",
       "      <th>Quantity</th>\n",
       "      <th>InvoiceDate</th>\n",
       "      <th>UnitPrice</th>\n",
       "      <th>CustomerID</th>\n",
       "      <th>Country</th>\n",
       "      <th>purchased</th>\n",
       "    </tr>\n",
       "  </thead>\n",
       "  <tbody>\n",
       "    <tr>\n",
       "      <th>0</th>\n",
       "      <td>536365</td>\n",
       "      <td>3249</td>\n",
       "      <td>WHITE HANGING HEART T-LIGHT HOLDER</td>\n",
       "      <td>6</td>\n",
       "      <td>2010-12-01 08:26:00</td>\n",
       "      <td>2.55</td>\n",
       "      <td>4048</td>\n",
       "      <td>United Kingdom</td>\n",
       "      <td>1</td>\n",
       "    </tr>\n",
       "    <tr>\n",
       "      <th>1</th>\n",
       "      <td>536365</td>\n",
       "      <td>2649</td>\n",
       "      <td>WHITE METAL LANTERN</td>\n",
       "      <td>6</td>\n",
       "      <td>2010-12-01 08:26:00</td>\n",
       "      <td>3.39</td>\n",
       "      <td>4048</td>\n",
       "      <td>United Kingdom</td>\n",
       "      <td>1</td>\n",
       "    </tr>\n",
       "    <tr>\n",
       "      <th>2</th>\n",
       "      <td>536365</td>\n",
       "      <td>2855</td>\n",
       "      <td>CREAM CUPID HEARTS COAT HANGER</td>\n",
       "      <td>8</td>\n",
       "      <td>2010-12-01 08:26:00</td>\n",
       "      <td>2.75</td>\n",
       "      <td>4048</td>\n",
       "      <td>United Kingdom</td>\n",
       "      <td>1</td>\n",
       "    </tr>\n",
       "    <tr>\n",
       "      <th>3</th>\n",
       "      <td>536365</td>\n",
       "      <td>2803</td>\n",
       "      <td>KNITTED UNION FLAG HOT WATER BOTTLE</td>\n",
       "      <td>6</td>\n",
       "      <td>2010-12-01 08:26:00</td>\n",
       "      <td>3.39</td>\n",
       "      <td>4048</td>\n",
       "      <td>United Kingdom</td>\n",
       "      <td>1</td>\n",
       "    </tr>\n",
       "    <tr>\n",
       "      <th>4</th>\n",
       "      <td>536365</td>\n",
       "      <td>2802</td>\n",
       "      <td>RED WOOLLY HOTTIE WHITE HEART.</td>\n",
       "      <td>6</td>\n",
       "      <td>2010-12-01 08:26:00</td>\n",
       "      <td>3.39</td>\n",
       "      <td>4048</td>\n",
       "      <td>United Kingdom</td>\n",
       "      <td>1</td>\n",
       "    </tr>\n",
       "  </tbody>\n",
       "</table>\n",
       "</div>"
      ],
      "text/plain": [
       "  InvoiceNo  StockCode                          Description  Quantity  \\\n",
       "0    536365       3249   WHITE HANGING HEART T-LIGHT HOLDER         6   \n",
       "1    536365       2649                  WHITE METAL LANTERN         6   \n",
       "2    536365       2855       CREAM CUPID HEARTS COAT HANGER         8   \n",
       "3    536365       2803  KNITTED UNION FLAG HOT WATER BOTTLE         6   \n",
       "4    536365       2802       RED WOOLLY HOTTIE WHITE HEART.         6   \n",
       "\n",
       "          InvoiceDate  UnitPrice  CustomerID         Country  purchased  \n",
       "0 2010-12-01 08:26:00       2.55        4048  United Kingdom          1  \n",
       "1 2010-12-01 08:26:00       3.39        4048  United Kingdom          1  \n",
       "2 2010-12-01 08:26:00       2.75        4048  United Kingdom          1  \n",
       "3 2010-12-01 08:26:00       3.39        4048  United Kingdom          1  \n",
       "4 2010-12-01 08:26:00       3.39        4048  United Kingdom          1  "
      ]
     },
     "execution_count": 599,
     "metadata": {},
     "output_type": "execute_result"
    }
   ],
   "source": [
    "# User & Item  Label Encoder \n",
    "\n",
    "# Import LabelEncoder\n",
    "from sklearn.preprocessing import LabelEncoder\n",
    "\n",
    "# Set up Objects for User and Item Column\n",
    "le1 = LabelEncoder()\n",
    "le2 = LabelEncoder()\n",
    "\n",
    "# Fit the encoders to the columns in question\n",
    "le1.fit(df_online_retail['StockCode'])\n",
    "le2.fit(df_online_retail['CustomerID'])\n",
    "\n",
    "# Transform dataframe with encoded labels\n",
    "df_online_retail['StockCode'] = le1.transform(df_online_retail['StockCode'])\n",
    "df_online_retail['CustomerID'] = le2.transform(df_online_retail['CustomerID'])\n",
    "\n",
    "# Check Change \n",
    "df_online_retail.head()"
   ]
  },
  {
   "attachments": {},
   "cell_type": "markdown",
   "metadata": {},
   "source": [
    "## 1.2. Filter out Users"
   ]
  },
  {
   "cell_type": "code",
   "execution_count": 600,
   "metadata": {},
   "outputs": [
    {
     "data": {
      "text/html": [
       "<div>\n",
       "<style scoped>\n",
       "    .dataframe tbody tr th:only-of-type {\n",
       "        vertical-align: middle;\n",
       "    }\n",
       "\n",
       "    .dataframe tbody tr th {\n",
       "        vertical-align: top;\n",
       "    }\n",
       "\n",
       "    .dataframe thead th {\n",
       "        text-align: right;\n",
       "    }\n",
       "</style>\n",
       "<table border=\"1\" class=\"dataframe\">\n",
       "  <thead>\n",
       "    <tr style=\"text-align: right;\">\n",
       "      <th></th>\n",
       "      <th>CustomerID</th>\n",
       "      <th>Purchases</th>\n",
       "    </tr>\n",
       "  </thead>\n",
       "  <tbody>\n",
       "    <tr>\n",
       "      <th>4042</th>\n",
       "      <td>4042</td>\n",
       "      <td>7983</td>\n",
       "    </tr>\n",
       "    <tr>\n",
       "      <th>1895</th>\n",
       "      <td>1895</td>\n",
       "      <td>5903</td>\n",
       "    </tr>\n",
       "    <tr>\n",
       "      <th>1300</th>\n",
       "      <td>1300</td>\n",
       "      <td>5128</td>\n",
       "    </tr>\n",
       "    <tr>\n",
       "      <th>330</th>\n",
       "      <td>330</td>\n",
       "      <td>4642</td>\n",
       "    </tr>\n",
       "    <tr>\n",
       "      <th>1674</th>\n",
       "      <td>1674</td>\n",
       "      <td>2782</td>\n",
       "    </tr>\n",
       "    <tr>\n",
       "      <th>...</th>\n",
       "      <td>...</td>\n",
       "      <td>...</td>\n",
       "    </tr>\n",
       "    <tr>\n",
       "      <th>1318</th>\n",
       "      <td>1318</td>\n",
       "      <td>1</td>\n",
       "    </tr>\n",
       "    <tr>\n",
       "      <th>1046</th>\n",
       "      <td>1046</td>\n",
       "      <td>1</td>\n",
       "    </tr>\n",
       "    <tr>\n",
       "      <th>2400</th>\n",
       "      <td>2400</td>\n",
       "      <td>1</td>\n",
       "    </tr>\n",
       "    <tr>\n",
       "      <th>2379</th>\n",
       "      <td>2379</td>\n",
       "      <td>1</td>\n",
       "    </tr>\n",
       "    <tr>\n",
       "      <th>4107</th>\n",
       "      <td>4107</td>\n",
       "      <td>1</td>\n",
       "    </tr>\n",
       "  </tbody>\n",
       "</table>\n",
       "<p>4372 rows × 2 columns</p>\n",
       "</div>"
      ],
      "text/plain": [
       "      CustomerID  Purchases\n",
       "4042        4042       7983\n",
       "1895        1895       5903\n",
       "1300        1300       5128\n",
       "330          330       4642\n",
       "1674        1674       2782\n",
       "...          ...        ...\n",
       "1318        1318          1\n",
       "1046        1046          1\n",
       "2400        2400          1\n",
       "2379        2379          1\n",
       "4107        4107          1\n",
       "\n",
       "[4372 rows x 2 columns]"
      ]
     },
     "execution_count": 600,
     "metadata": {},
     "output_type": "execute_result"
    }
   ],
   "source": [
    "# Count the number of rows per user\n",
    "rows_per_user = df_online_retail.groupby('CustomerID').size()\n",
    "\n",
    "# Create a new DataFrame with the desired columns and reset the index\n",
    "df_rows_per_user = rows_per_user.reset_index(name='Purchases')\n",
    "\n",
    "# Rename the column to match the original DataFrame\n",
    "df_rows_per_user = df_rows_per_user.rename(columns={'CustomerID': 'CustomerID'})\n",
    "\n",
    "# Display the new DataFrame\n",
    "df_rows_per_user.sort_values(by='Purchases', ascending=False)"
   ]
  },
  {
   "cell_type": "code",
   "execution_count": 601,
   "metadata": {},
   "outputs": [
    {
     "name": "stdout",
     "output_type": "stream",
     "text": [
      "Users with less than 13 Purchases \t: 807\n",
      "Users with less than 15 Purchases \t: 926\n",
      "Users with less than 20 Purchases \t: 1227\n",
      "Users with less than 50 Purchases \t: 2419\n"
     ]
    }
   ],
   "source": [
    "# Find out a Threshold to cut\n",
    "print(\"Users with less than 13 Purchases \\t:\", len(df_rows_per_user[df_rows_per_user['Purchases']<13]))\n",
    "print(\"Users with less than 15 Purchases \\t:\", len(df_rows_per_user[df_rows_per_user['Purchases']<15]))\n",
    "print(\"Users with less than 20 Purchases \\t:\", len(df_rows_per_user[df_rows_per_user['Purchases']<20]))\n",
    "print(\"Users with less than 50 Purchases \\t:\", len(df_rows_per_user[df_rows_per_user['Purchases']<50]))"
   ]
  },
  {
   "cell_type": "code",
   "execution_count": 602,
   "metadata": {},
   "outputs": [
    {
     "data": {
      "text/plain": [
       "(403837, 9)"
      ]
     },
     "execution_count": 602,
     "metadata": {},
     "output_type": "execute_result"
    }
   ],
   "source": [
    "# Create a list of users with less than 20 Purchases\n",
    "customer_less_20 = df_rows_per_user[df_rows_per_user['Purchases']<10]['CustomerID'].tolist()\n",
    "\n",
    "# Filter out these users from the initial DataFrame df_online_retail\n",
    "df_online_retail_20 = df_online_retail[~df_online_retail['CustomerID'].isin(customer_less_20)]\n",
    "\n",
    "# Show shape of new DataFrame\n",
    "df_online_retail_20.shape"
   ]
  },
  {
   "cell_type": "code",
   "execution_count": 603,
   "metadata": {},
   "outputs": [
    {
     "data": {
      "text/plain": [
       "2992"
      ]
     },
     "execution_count": 603,
     "metadata": {},
     "output_type": "execute_result"
    }
   ],
   "source": [
    "# How many rows less?\n",
    "df_online_retail.shape[0] - df_online_retail_20.shape[0]"
   ]
  },
  {
   "attachments": {},
   "cell_type": "markdown",
   "metadata": {},
   "source": [
    "## 1.3. Data Split"
   ]
  },
  {
   "cell_type": "code",
   "execution_count": 604,
   "metadata": {},
   "outputs": [],
   "source": [
    "from recommenders.datasets.sparse import AffinityMatrix"
   ]
  },
  {
   "cell_type": "code",
   "execution_count": 605,
   "metadata": {},
   "outputs": [],
   "source": [
    "unique_items = df_online_retail_20['StockCode'].unique"
   ]
  },
  {
   "cell_type": "code",
   "execution_count": 606,
   "metadata": {},
   "outputs": [],
   "source": [
    "#to use standard names across the analysis \n",
    "header = {\n",
    "        \"col_user\": \"CustomerID\",\n",
    "        \"col_item\": \"StockCode\",\n",
    "        \"col_rating\": \"purchased\",\n",
    "    }\n",
    "\n",
    "#instantiate the sparse matrix generation  \n",
    "am = AffinityMatrix(df = df_online_retail_20, col_user='CustomerID', col_item='StockCode', col_rating='purchased')\n",
    "\n",
    "#obtain the sparse matrix \n",
    "X, _, _ = am.gen_affinity_matrix()\n",
    "\n",
    "# check that the generated matrix has the correct dimensions\n",
    "assert (X.shape[0] == df_online_retail_20.CustomerID.unique().shape[0]) & (\n",
    "        X.shape[1] == df_online_retail_20.StockCode.unique().shape[0]\n",
    "    )"
   ]
  },
  {
   "cell_type": "code",
   "execution_count": 607,
   "metadata": {},
   "outputs": [],
   "source": [
    "from recommenders.datasets.python_splitters import numpy_stratified_split\n",
    "Xtr, Xtst = numpy_stratified_split(X, ratio=0.8, seed=1)"
   ]
  },
  {
   "cell_type": "code",
   "execution_count": 608,
   "metadata": {},
   "outputs": [
    {
     "name": "stdout",
     "output_type": "stream",
     "text": [
      "train matrix size (3781, 3680)\n",
      "test matrix size (3781, 3680)\n"
     ]
    }
   ],
   "source": [
    "print('train matrix size', Xtr.shape)\n",
    "print('test matrix size', Xtst.shape)"
   ]
  },
  {
   "cell_type": "code",
   "execution_count": 609,
   "metadata": {},
   "outputs": [
    {
     "name": "stdout",
     "output_type": "stream",
     "text": [
      "Elements in train: \t 214497\n",
      "Elements in test:\t 50348\n"
     ]
    }
   ],
   "source": [
    "count_nonzero_train = np.sum(Xtr != 0)\n",
    "count_nonzero_test = np.sum(Xtst!=0)\n",
    "print('Elements in train: \\t', count_nonzero_train)\n",
    "print('Elements in test:\\t', count_nonzero_test)"
   ]
  },
  {
   "cell_type": "code",
   "execution_count": 610,
   "metadata": {},
   "outputs": [
    {
     "data": {
      "text/plain": [
       "array([ 0,  1,  2,  3,  4,  5,  6,  7,  8,  9, 10, 11, 12, 13, 14, 15, 16,\n",
       "       17, 18, 19, 20, 21, 22, 23, 24, 25, 26, 27, 28, 29, 30, 31, 32, 33,\n",
       "       34, 35, 36, 37, 38, 40, 41, 42, 49, 54, 56, 65, 85])"
      ]
     },
     "execution_count": 610,
     "metadata": {},
     "output_type": "execute_result"
    }
   ],
   "source": [
    "# Check unique values\n",
    "np.unique(Xtr)"
   ]
  },
  {
   "cell_type": "code",
   "execution_count": 611,
   "metadata": {},
   "outputs": [
    {
     "data": {
      "text/plain": [
       "array([0.        , 0.05882353, 0.11764706, 0.17647059, 0.23529412,\n",
       "       0.29411765, 0.35294118, 0.41176471, 0.47058824, 0.52941176,\n",
       "       0.58823529, 0.64705882, 0.70588235, 0.76470588, 0.82352941,\n",
       "       0.88235294, 0.94117647, 1.        , 1.05882353, 1.11764706,\n",
       "       1.17647059, 1.23529412, 1.29411765, 1.35294118, 1.41176471,\n",
       "       1.47058824, 1.52941176, 1.58823529, 1.64705882, 1.70588235,\n",
       "       1.76470588, 1.82352941, 1.88235294, 1.94117647, 2.        ,\n",
       "       2.05882353, 2.11764706, 2.17647059, 2.23529412, 2.35294118,\n",
       "       2.41176471, 2.47058824, 2.88235294, 3.17647059, 3.29411765,\n",
       "       3.82352941, 5.        ])"
      ]
     },
     "execution_count": 611,
     "metadata": {},
     "output_type": "execute_result"
    }
   ],
   "source": [
    "# Normalize XTR\n",
    "Xtr = (Xtr - 0) / (85 - 0) * 5\n",
    "#Xtr = np.round(Xtr, decimals=2)\n",
    "\n",
    "# Sanity check\n",
    "np.unique(Xtr)"
   ]
  },
  {
   "cell_type": "code",
   "execution_count": 612,
   "metadata": {},
   "outputs": [
    {
     "data": {
      "text/plain": [
       "array([ 0,  1,  2,  3,  4,  5,  6,  7,  8,  9, 10, 11, 12, 13, 14, 15, 16,\n",
       "       17, 18, 19, 20, 21, 22, 23, 24, 25, 26, 27, 28, 30, 33, 38])"
      ]
     },
     "execution_count": 612,
     "metadata": {},
     "output_type": "execute_result"
    }
   ],
   "source": [
    "# Check unique values\n",
    "np.unique(Xtst)"
   ]
  },
  {
   "cell_type": "code",
   "execution_count": 613,
   "metadata": {},
   "outputs": [
    {
     "data": {
      "text/plain": [
       "array([0.        , 0.13157895, 0.26315789, 0.39473684, 0.52631579,\n",
       "       0.65789474, 0.78947368, 0.92105263, 1.05263158, 1.18421053,\n",
       "       1.31578947, 1.44736842, 1.57894737, 1.71052632, 1.84210526,\n",
       "       1.97368421, 2.10526316, 2.23684211, 2.36842105, 2.5       ,\n",
       "       2.63157895, 2.76315789, 2.89473684, 3.02631579, 3.15789474,\n",
       "       3.28947368, 3.42105263, 3.55263158, 3.68421053, 3.94736842,\n",
       "       4.34210526, 5.        ])"
      ]
     },
     "execution_count": 613,
     "metadata": {},
     "output_type": "execute_result"
    }
   ],
   "source": [
    "# Normalize XTR\n",
    "Xtst = (Xtst - 0) / (38- 0) * 5\n",
    "#Xtst = np.round(Xtst, decimals=2)\n",
    "\n",
    "# Sanity check\n",
    "np.unique(Xtst)"
   ]
  },
  {
   "cell_type": "code",
   "execution_count": 614,
   "metadata": {},
   "outputs": [],
   "source": [
    "# Turn all values to 5 that are above 0 \n",
    "#Xtr = np.where(Xtr > 0, 5, Xtr)\n",
    "#Xtr = np.where(Xtr ==0, 1, Xtr)"
   ]
  },
  {
   "cell_type": "code",
   "execution_count": 615,
   "metadata": {},
   "outputs": [],
   "source": [
    "# Turn all values to 5 that are above 0 \n",
    "#Xtst = np.where(Xtst > 0, 5, Xtst)\n",
    "#Xtst = np.where(Xtst == 0, 1, Xtst)"
   ]
  },
  {
   "cell_type": "code",
   "execution_count": 623,
   "metadata": {},
   "outputs": [
    {
     "data": {
      "text/plain": [
       "50348"
      ]
     },
     "execution_count": 623,
     "metadata": {},
     "output_type": "execute_result"
    }
   ],
   "source": [
    "(Xtst>0).sum()"
   ]
  },
  {
   "attachments": {},
   "cell_type": "markdown",
   "metadata": {},
   "source": [
    "## 1.3. Model"
   ]
  },
  {
   "cell_type": "code",
   "execution_count": 624,
   "metadata": {},
   "outputs": [],
   "source": [
    "import logging\n",
    "import tensorflow as tf\n",
    "tf.get_logger().setLevel(logging.ERROR)\n",
    "\n",
    "#RBM \n",
    "from recommenders.models.rbm.rbm import RBM\n",
    "from recommenders.utils.timer import Timer\n",
    "from recommenders.utils.plot import line_graph\n",
    "\n",
    "# Evaluation\n",
    "from recommenders.evaluation.python_evaluation import (\n",
    "    precision_at_k,\n",
    "    recall_at_k,\n",
    "    map_at_k,\n",
    "    auc\n",
    ")\n"
   ]
  },
  {
   "cell_type": "code",
   "execution_count": 625,
   "metadata": {},
   "outputs": [],
   "source": [
    "try:\n",
    "    del(model)\n",
    "except:\n",
    "    pass"
   ]
  },
  {
   "cell_type": "code",
   "execution_count": 626,
   "metadata": {},
   "outputs": [],
   "source": [
    "#First we initialize the model class\n",
    "model = RBM(\n",
    "    possible_ratings=np.setdiff1d(np.unique(Xtr), np.array([0])),\n",
    "    visible_units=Xtr.shape[1],\n",
    "    hidden_units=100,\n",
    "    training_epoch=30,\n",
    "    minibatch_size=10,\n",
    "    keep_prob=0.8,\n",
    "    with_metrics=True,\n",
    "    seed=1,\n",
    "    learning_rate=0.0001\n",
    ")"
   ]
  },
  {
   "cell_type": "code",
   "execution_count": 627,
   "metadata": {},
   "outputs": [
    {
     "name": "stdout",
     "output_type": "stream",
     "text": [
      "Took 70.92 seconds for training.\n"
     ]
    }
   ],
   "source": [
    "#Model Fit\n",
    "with Timer() as train_time:\n",
    "    model.fit(Xtr)\n",
    "\n",
    "print(\"Took {:.2f} seconds for training.\".format(train_time.interval))"
   ]
  },
  {
   "cell_type": "code",
   "execution_count": 628,
   "metadata": {},
   "outputs": [
    {
     "name": "stdout",
     "output_type": "stream",
     "text": [
      "Took 7.98 seconds for prediction.\n"
     ]
    }
   ],
   "source": [
    "# number of top score elements to be recommended  \n",
    "K = 20\n",
    "\n",
    "# Model prediction on the test set Xtst.\n",
    "with Timer() as prediction_time:\n",
    "    top_k =  model.recommend_k_items(Xtst, top_k=K)\n",
    "\n",
    "print(\"Took {:.2f} seconds for prediction.\".format(prediction_time.interval))"
   ]
  },
  {
   "cell_type": "code",
   "execution_count": 629,
   "metadata": {},
   "outputs": [],
   "source": [
    "# Map Back Xtst & Top_k \n",
    "top_k_df = am.map_back_sparse(top_k, kind = 'prediction')\n",
    "test_df = am.map_back_sparse(Xtst, kind = 'ratings')"
   ]
  },
  {
   "cell_type": "code",
   "execution_count": 630,
   "metadata": {},
   "outputs": [],
   "source": [
    "# Drop Customer ID because non existent\n",
    "top_k_df = top_k_df.drop(top_k_df[top_k_df['CustomerID'] == 0].index)"
   ]
  },
  {
   "cell_type": "code",
   "execution_count": 631,
   "metadata": {},
   "outputs": [],
   "source": [
    "#collection of evaluation metrics for later use\n",
    "def ranking_metrics(\n",
    "    data_size,\n",
    "    data_true,\n",
    "    data_pred,\n",
    "    K\n",
    "):\n",
    "    eval_precision = precision_at_k(data_true, data_pred, col_user=\"CustomerID\", col_item=\"StockCode\",\n",
    "                                    col_rating=\"purchased\", col_prediction=\"prediction\", \n",
    "                                    relevancy_method=\"top_k\", k= K)\n",
    "\n",
    "    eval_recall = recall_at_k(data_true, data_pred, col_user=\"CustomerID\", col_item=\"StockCode\", \n",
    "                                    col_rating=\"purchased\", col_prediction=\"prediction\", \n",
    "                                    relevancy_method=\"top_k\", k= K)\n",
    "    eval_map = map_at_k(data_true, data_pred, col_user=\"CustomerID\", col_item=\"StockCode\", \n",
    "                                    col_rating=\"purchased\", col_prediction=\"prediction\", \n",
    "                                    relevancy_method=\"top_k\", k= K)\n",
    "\n",
    "    df_result = pd.DataFrame(\n",
    "        {   \"Dataset\": data_size,\n",
    "            \"K\": K,\n",
    "            \"Precision@k\": eval_precision,\n",
    "            \"Recall@k\": eval_recall,\n",
    "            \"MAP\": eval_map,\n",
    "        }, \n",
    "        index=[0]\n",
    "    )\n",
    "\n",
    "    return df_result"
   ]
  },
  {
   "cell_type": "code",
   "execution_count": 632,
   "metadata": {},
   "outputs": [
    {
     "data": {
      "text/html": [
       "<div>\n",
       "<style scoped>\n",
       "    .dataframe tbody tr th:only-of-type {\n",
       "        vertical-align: middle;\n",
       "    }\n",
       "\n",
       "    .dataframe tbody tr th {\n",
       "        vertical-align: top;\n",
       "    }\n",
       "\n",
       "    .dataframe thead th {\n",
       "        text-align: right;\n",
       "    }\n",
       "</style>\n",
       "<table border=\"1\" class=\"dataframe\">\n",
       "  <thead>\n",
       "    <tr style=\"text-align: right;\">\n",
       "      <th></th>\n",
       "      <th>Dataset</th>\n",
       "      <th>K</th>\n",
       "      <th>Precision@k</th>\n",
       "      <th>Recall@k</th>\n",
       "      <th>MAP</th>\n",
       "    </tr>\n",
       "  </thead>\n",
       "  <tbody>\n",
       "    <tr>\n",
       "      <th>0</th>\n",
       "      <td>Online Retail</td>\n",
       "      <td>20</td>\n",
       "      <td>0.000661</td>\n",
       "      <td>0.000782</td>\n",
       "      <td>0.00019</td>\n",
       "    </tr>\n",
       "  </tbody>\n",
       "</table>\n",
       "</div>"
      ],
      "text/plain": [
       "         Dataset   K  Precision@k  Recall@k      MAP\n",
       "0  Online Retail  20     0.000661  0.000782  0.00019"
      ]
     },
     "execution_count": 632,
     "metadata": {},
     "output_type": "execute_result"
    }
   ],
   "source": [
    "eval_at_10= ranking_metrics(\n",
    "    data_size=\"Online Retail\",\n",
    "    data_true=test_df,\n",
    "    data_pred=top_k_df,\n",
    "    K=20\n",
    ")\n",
    "\n",
    "eval_at_10"
   ]
  },
  {
   "cell_type": "code",
   "execution_count": 633,
   "metadata": {},
   "outputs": [
    {
     "data": {
      "text/html": [
       "<div>\n",
       "<style scoped>\n",
       "    .dataframe tbody tr th:only-of-type {\n",
       "        vertical-align: middle;\n",
       "    }\n",
       "\n",
       "    .dataframe tbody tr th {\n",
       "        vertical-align: top;\n",
       "    }\n",
       "\n",
       "    .dataframe thead th {\n",
       "        text-align: right;\n",
       "    }\n",
       "</style>\n",
       "<table border=\"1\" class=\"dataframe\">\n",
       "  <thead>\n",
       "    <tr style=\"text-align: right;\">\n",
       "      <th></th>\n",
       "      <th>CustomerID</th>\n",
       "      <th>StockCode</th>\n",
       "      <th>prediction</th>\n",
       "    </tr>\n",
       "  </thead>\n",
       "  <tbody>\n",
       "    <tr>\n",
       "      <th>4</th>\n",
       "      <td>1</td>\n",
       "      <td>97</td>\n",
       "      <td>3.463600</td>\n",
       "    </tr>\n",
       "    <tr>\n",
       "      <th>13</th>\n",
       "      <td>1</td>\n",
       "      <td>141</td>\n",
       "      <td>3.003859</td>\n",
       "    </tr>\n",
       "    <tr>\n",
       "      <th>12</th>\n",
       "      <td>1</td>\n",
       "      <td>244</td>\n",
       "      <td>3.100142</td>\n",
       "    </tr>\n",
       "    <tr>\n",
       "      <th>7</th>\n",
       "      <td>1</td>\n",
       "      <td>606</td>\n",
       "      <td>2.966516</td>\n",
       "    </tr>\n",
       "    <tr>\n",
       "      <th>3</th>\n",
       "      <td>1</td>\n",
       "      <td>774</td>\n",
       "      <td>2.570968</td>\n",
       "    </tr>\n",
       "    <tr>\n",
       "      <th>2</th>\n",
       "      <td>1</td>\n",
       "      <td>1728</td>\n",
       "      <td>2.396583</td>\n",
       "    </tr>\n",
       "    <tr>\n",
       "      <th>10</th>\n",
       "      <td>1</td>\n",
       "      <td>2428</td>\n",
       "      <td>3.657192</td>\n",
       "    </tr>\n",
       "    <tr>\n",
       "      <th>11</th>\n",
       "      <td>1</td>\n",
       "      <td>2501</td>\n",
       "      <td>2.044219</td>\n",
       "    </tr>\n",
       "    <tr>\n",
       "      <th>8</th>\n",
       "      <td>1</td>\n",
       "      <td>2517</td>\n",
       "      <td>3.122402</td>\n",
       "    </tr>\n",
       "    <tr>\n",
       "      <th>5</th>\n",
       "      <td>1</td>\n",
       "      <td>2960</td>\n",
       "      <td>2.510310</td>\n",
       "    </tr>\n",
       "    <tr>\n",
       "      <th>19</th>\n",
       "      <td>1</td>\n",
       "      <td>2985</td>\n",
       "      <td>3.518111</td>\n",
       "    </tr>\n",
       "    <tr>\n",
       "      <th>1</th>\n",
       "      <td>1</td>\n",
       "      <td>3026</td>\n",
       "      <td>3.588811</td>\n",
       "    </tr>\n",
       "    <tr>\n",
       "      <th>0</th>\n",
       "      <td>1</td>\n",
       "      <td>3076</td>\n",
       "      <td>3.261436</td>\n",
       "    </tr>\n",
       "    <tr>\n",
       "      <th>16</th>\n",
       "      <td>1</td>\n",
       "      <td>3371</td>\n",
       "      <td>2.269407</td>\n",
       "    </tr>\n",
       "    <tr>\n",
       "      <th>14</th>\n",
       "      <td>1</td>\n",
       "      <td>3401</td>\n",
       "      <td>2.934316</td>\n",
       "    </tr>\n",
       "    <tr>\n",
       "      <th>9</th>\n",
       "      <td>1</td>\n",
       "      <td>3427</td>\n",
       "      <td>2.088902</td>\n",
       "    </tr>\n",
       "    <tr>\n",
       "      <th>18</th>\n",
       "      <td>1</td>\n",
       "      <td>3495</td>\n",
       "      <td>3.223645</td>\n",
       "    </tr>\n",
       "    <tr>\n",
       "      <th>15</th>\n",
       "      <td>1</td>\n",
       "      <td>3517</td>\n",
       "      <td>2.454581</td>\n",
       "    </tr>\n",
       "    <tr>\n",
       "      <th>17</th>\n",
       "      <td>1</td>\n",
       "      <td>3520</td>\n",
       "      <td>2.946820</td>\n",
       "    </tr>\n",
       "    <tr>\n",
       "      <th>6</th>\n",
       "      <td>1</td>\n",
       "      <td>3614</td>\n",
       "      <td>2.128215</td>\n",
       "    </tr>\n",
       "  </tbody>\n",
       "</table>\n",
       "</div>"
      ],
      "text/plain": [
       "    CustomerID  StockCode  prediction\n",
       "4            1         97    3.463600\n",
       "13           1        141    3.003859\n",
       "12           1        244    3.100142\n",
       "7            1        606    2.966516\n",
       "3            1        774    2.570968\n",
       "2            1       1728    2.396583\n",
       "10           1       2428    3.657192\n",
       "11           1       2501    2.044219\n",
       "8            1       2517    3.122402\n",
       "5            1       2960    2.510310\n",
       "19           1       2985    3.518111\n",
       "1            1       3026    3.588811\n",
       "0            1       3076    3.261436\n",
       "16           1       3371    2.269407\n",
       "14           1       3401    2.934316\n",
       "9            1       3427    2.088902\n",
       "18           1       3495    3.223645\n",
       "15           1       3517    2.454581\n",
       "17           1       3520    2.946820\n",
       "6            1       3614    2.128215"
      ]
     },
     "execution_count": 633,
     "metadata": {},
     "output_type": "execute_result"
    }
   ],
   "source": [
    "top_k_df[top_k_df['CustomerID']==1].sort_values('StockCode')"
   ]
  },
  {
   "cell_type": "code",
   "execution_count": 635,
   "metadata": {},
   "outputs": [
    {
     "data": {
      "text/html": [
       "<div>\n",
       "<style scoped>\n",
       "    .dataframe tbody tr th:only-of-type {\n",
       "        vertical-align: middle;\n",
       "    }\n",
       "\n",
       "    .dataframe tbody tr th {\n",
       "        vertical-align: top;\n",
       "    }\n",
       "\n",
       "    .dataframe thead th {\n",
       "        text-align: right;\n",
       "    }\n",
       "</style>\n",
       "<table border=\"1\" class=\"dataframe\">\n",
       "  <thead>\n",
       "    <tr style=\"text-align: right;\">\n",
       "      <th></th>\n",
       "      <th>CustomerID</th>\n",
       "      <th>StockCode</th>\n",
       "      <th>purchased</th>\n",
       "    </tr>\n",
       "  </thead>\n",
       "  <tbody>\n",
       "    <tr>\n",
       "      <th>19</th>\n",
       "      <td>1</td>\n",
       "      <td>275</td>\n",
       "      <td>0.131579</td>\n",
       "    </tr>\n",
       "    <tr>\n",
       "      <th>18</th>\n",
       "      <td>1</td>\n",
       "      <td>320</td>\n",
       "      <td>0.263158</td>\n",
       "    </tr>\n",
       "    <tr>\n",
       "      <th>2</th>\n",
       "      <td>1</td>\n",
       "      <td>461</td>\n",
       "      <td>0.263158</td>\n",
       "    </tr>\n",
       "    <tr>\n",
       "      <th>0</th>\n",
       "      <td>1</td>\n",
       "      <td>1286</td>\n",
       "      <td>0.263158</td>\n",
       "    </tr>\n",
       "    <tr>\n",
       "      <th>6</th>\n",
       "      <td>1</td>\n",
       "      <td>1292</td>\n",
       "      <td>0.526316</td>\n",
       "    </tr>\n",
       "    <tr>\n",
       "      <th>16</th>\n",
       "      <td>1</td>\n",
       "      <td>1301</td>\n",
       "      <td>0.131579</td>\n",
       "    </tr>\n",
       "    <tr>\n",
       "      <th>12</th>\n",
       "      <td>1</td>\n",
       "      <td>1358</td>\n",
       "      <td>0.131579</td>\n",
       "    </tr>\n",
       "    <tr>\n",
       "      <th>8</th>\n",
       "      <td>1</td>\n",
       "      <td>1551</td>\n",
       "      <td>0.131579</td>\n",
       "    </tr>\n",
       "    <tr>\n",
       "      <th>15</th>\n",
       "      <td>1</td>\n",
       "      <td>1627</td>\n",
       "      <td>0.263158</td>\n",
       "    </tr>\n",
       "    <tr>\n",
       "      <th>13</th>\n",
       "      <td>1</td>\n",
       "      <td>1628</td>\n",
       "      <td>0.131579</td>\n",
       "    </tr>\n",
       "    <tr>\n",
       "      <th>1</th>\n",
       "      <td>1</td>\n",
       "      <td>1923</td>\n",
       "      <td>0.394737</td>\n",
       "    </tr>\n",
       "    <tr>\n",
       "      <th>10</th>\n",
       "      <td>1</td>\n",
       "      <td>2005</td>\n",
       "      <td>0.131579</td>\n",
       "    </tr>\n",
       "    <tr>\n",
       "      <th>11</th>\n",
       "      <td>1</td>\n",
       "      <td>2006</td>\n",
       "      <td>0.131579</td>\n",
       "    </tr>\n",
       "    <tr>\n",
       "      <th>14</th>\n",
       "      <td>1</td>\n",
       "      <td>2138</td>\n",
       "      <td>0.131579</td>\n",
       "    </tr>\n",
       "    <tr>\n",
       "      <th>5</th>\n",
       "      <td>1</td>\n",
       "      <td>2291</td>\n",
       "      <td>0.131579</td>\n",
       "    </tr>\n",
       "    <tr>\n",
       "      <th>4</th>\n",
       "      <td>1</td>\n",
       "      <td>2307</td>\n",
       "      <td>0.131579</td>\n",
       "    </tr>\n",
       "    <tr>\n",
       "      <th>3</th>\n",
       "      <td>1</td>\n",
       "      <td>2362</td>\n",
       "      <td>0.131579</td>\n",
       "    </tr>\n",
       "    <tr>\n",
       "      <th>7</th>\n",
       "      <td>1</td>\n",
       "      <td>2601</td>\n",
       "      <td>0.131579</td>\n",
       "    </tr>\n",
       "    <tr>\n",
       "      <th>17</th>\n",
       "      <td>1</td>\n",
       "      <td>2901</td>\n",
       "      <td>0.131579</td>\n",
       "    </tr>\n",
       "    <tr>\n",
       "      <th>9</th>\n",
       "      <td>1</td>\n",
       "      <td>3303</td>\n",
       "      <td>0.131579</td>\n",
       "    </tr>\n",
       "  </tbody>\n",
       "</table>\n",
       "</div>"
      ],
      "text/plain": [
       "    CustomerID  StockCode  purchased\n",
       "19           1        275   0.131579\n",
       "18           1        320   0.263158\n",
       "2            1        461   0.263158\n",
       "0            1       1286   0.263158\n",
       "6            1       1292   0.526316\n",
       "16           1       1301   0.131579\n",
       "12           1       1358   0.131579\n",
       "8            1       1551   0.131579\n",
       "15           1       1627   0.263158\n",
       "13           1       1628   0.131579\n",
       "1            1       1923   0.394737\n",
       "10           1       2005   0.131579\n",
       "11           1       2006   0.131579\n",
       "14           1       2138   0.131579\n",
       "5            1       2291   0.131579\n",
       "4            1       2307   0.131579\n",
       "3            1       2362   0.131579\n",
       "7            1       2601   0.131579\n",
       "17           1       2901   0.131579\n",
       "9            1       3303   0.131579"
      ]
     },
     "execution_count": 635,
     "metadata": {},
     "output_type": "execute_result"
    }
   ],
   "source": [
    "test_df[test_df['CustomerID']==1].sort_values('StockCode')"
   ]
  },
  {
   "cell_type": "code",
   "execution_count": null,
   "metadata": {},
   "outputs": [],
   "source": []
  }
 ],
 "metadata": {
  "kernelspec": {
   "display_name": "recom",
   "language": "python",
   "name": "python3"
  },
  "language_info": {
   "codemirror_mode": {
    "name": "ipython",
    "version": 3
   },
   "file_extension": ".py",
   "mimetype": "text/x-python",
   "name": "python",
   "nbconvert_exporter": "python",
   "pygments_lexer": "ipython3",
   "version": "3.9.16"
  },
  "orig_nbformat": 4,
  "vscode": {
   "interpreter": {
    "hash": "17afcd9f6960de0a3656d2c4c5dd434deed0eab3cd38c55c3169df3bef50250d"
   }
  }
 },
 "nbformat": 4,
 "nbformat_minor": 2
}
