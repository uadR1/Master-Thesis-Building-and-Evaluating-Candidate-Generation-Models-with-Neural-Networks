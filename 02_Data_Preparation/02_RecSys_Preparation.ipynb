{
 "cells": [
  {
   "attachments": {},
   "cell_type": "markdown",
   "metadata": {},
   "source": [
    "# Loading Libraries"
   ]
  },
  {
   "cell_type": "code",
   "execution_count": 1,
   "metadata": {},
   "outputs": [],
   "source": [
    "import pandas as pd\n",
    "import numpy as np\n",
    "import seaborn as sns\n",
    "import matplotlib.pyplot as plt\n",
    "import matplotlib.style"
   ]
  },
  {
   "attachments": {},
   "cell_type": "markdown",
   "metadata": {},
   "source": [
    "# Loading the Dataset"
   ]
  },
  {
   "cell_type": "code",
   "execution_count": 2,
   "metadata": {},
   "outputs": [
    {
     "data": {
      "text/html": [
       "<div>\n",
       "<style scoped>\n",
       "    .dataframe tbody tr th:only-of-type {\n",
       "        vertical-align: middle;\n",
       "    }\n",
       "\n",
       "    .dataframe tbody tr th {\n",
       "        vertical-align: top;\n",
       "    }\n",
       "\n",
       "    .dataframe thead th {\n",
       "        text-align: right;\n",
       "    }\n",
       "</style>\n",
       "<table border=\"1\" class=\"dataframe\">\n",
       "  <thead>\n",
       "    <tr style=\"text-align: right;\">\n",
       "      <th></th>\n",
       "      <th>InvoiceNo</th>\n",
       "      <th>StockCode</th>\n",
       "      <th>Quantity</th>\n",
       "      <th>InvoiceDate</th>\n",
       "      <th>DeliveryDate</th>\n",
       "      <th>Discount%</th>\n",
       "      <th>ShipMode</th>\n",
       "      <th>ShippingCost</th>\n",
       "      <th>CustomerID</th>\n",
       "      <th>Gender</th>\n",
       "      <th>...</th>\n",
       "      <th>Income</th>\n",
       "      <th>Zipcode</th>\n",
       "      <th>Customer Segment</th>\n",
       "      <th>Product Name</th>\n",
       "      <th>Description</th>\n",
       "      <th>Category</th>\n",
       "      <th>Brand</th>\n",
       "      <th>Unit Price</th>\n",
       "      <th>Num_word_text</th>\n",
       "      <th>Num_word_cat</th>\n",
       "    </tr>\n",
       "  </thead>\n",
       "  <tbody>\n",
       "    <tr>\n",
       "      <th>0</th>\n",
       "      <td>536365</td>\n",
       "      <td>84029E</td>\n",
       "      <td>6</td>\n",
       "      <td>2010-12-01 08:26:00</td>\n",
       "      <td>2010-12-02 08:26:00</td>\n",
       "      <td>0.20</td>\n",
       "      <td>ExpressAir</td>\n",
       "      <td>30.12</td>\n",
       "      <td>17850</td>\n",
       "      <td>female</td>\n",
       "      <td>...</td>\n",
       "      <td>Medium</td>\n",
       "      <td>84306</td>\n",
       "      <td>Middle class</td>\n",
       "      <td>3 1/2\"W x 20\"D x 20\"H Funston Craftsman Smooth...</td>\n",
       "      <td>Our Rustic Collection is an instant classic. O...</td>\n",
       "      <td>Home Improvement|Hardware|Brackets and Angle I...</td>\n",
       "      <td>Ekena Milwork</td>\n",
       "      <td>199.11</td>\n",
       "      <td>129.0</td>\n",
       "      <td>9.0</td>\n",
       "    </tr>\n",
       "    <tr>\n",
       "      <th>1</th>\n",
       "      <td>536365</td>\n",
       "      <td>71053</td>\n",
       "      <td>6</td>\n",
       "      <td>2010-12-01 08:26:00</td>\n",
       "      <td>2010-12-02 08:26:00</td>\n",
       "      <td>0.21</td>\n",
       "      <td>ExpressAir</td>\n",
       "      <td>30.12</td>\n",
       "      <td>17850</td>\n",
       "      <td>female</td>\n",
       "      <td>...</td>\n",
       "      <td>Medium</td>\n",
       "      <td>84306</td>\n",
       "      <td>Middle class</td>\n",
       "      <td>Awkward Styles Shamrock Flag St. Patrick's Day...</td>\n",
       "      <td>Our St Patrick's Day Collection is perfect for...</td>\n",
       "      <td>Clothing|Men|Mens T-Shirts &amp; Tank Tops|Mens Gr...</td>\n",
       "      <td>Awkward Styles</td>\n",
       "      <td>23.95</td>\n",
       "      <td>150.0</td>\n",
       "      <td>7.0</td>\n",
       "    </tr>\n",
       "    <tr>\n",
       "      <th>2</th>\n",
       "      <td>536365</td>\n",
       "      <td>21730</td>\n",
       "      <td>6</td>\n",
       "      <td>2010-12-01 08:26:00</td>\n",
       "      <td>2010-12-03 08:26:00</td>\n",
       "      <td>0.56</td>\n",
       "      <td>Regular Air</td>\n",
       "      <td>15.22</td>\n",
       "      <td>17850</td>\n",
       "      <td>female</td>\n",
       "      <td>...</td>\n",
       "      <td>Medium</td>\n",
       "      <td>84306</td>\n",
       "      <td>Middle class</td>\n",
       "      <td>Ebe Men Black Rectangle Half Rim Spring Hinge ...</td>\n",
       "      <td>Count on EBE for all of your eye correction ne...</td>\n",
       "      <td>Health|Home Health Care|Daily Living Aids</td>\n",
       "      <td>Eye Buy Express</td>\n",
       "      <td>26.99</td>\n",
       "      <td>176.0</td>\n",
       "      <td>5.0</td>\n",
       "    </tr>\n",
       "    <tr>\n",
       "      <th>3</th>\n",
       "      <td>536365</td>\n",
       "      <td>84406B</td>\n",
       "      <td>8</td>\n",
       "      <td>2010-12-01 08:26:00</td>\n",
       "      <td>2010-12-03 08:26:00</td>\n",
       "      <td>0.30</td>\n",
       "      <td>Regular Air</td>\n",
       "      <td>15.22</td>\n",
       "      <td>17850</td>\n",
       "      <td>female</td>\n",
       "      <td>...</td>\n",
       "      <td>Medium</td>\n",
       "      <td>84306</td>\n",
       "      <td>Middle class</td>\n",
       "      <td>MightySkins Skin Decal Wrap Compatible with Ap...</td>\n",
       "      <td>Mightyskins are removable vinyl skins for prot...</td>\n",
       "      <td>Electronics|Electronics Learning Center|Ads Fr...</td>\n",
       "      <td>Mightyskins</td>\n",
       "      <td>14.99</td>\n",
       "      <td>118.0</td>\n",
       "      <td>6.0</td>\n",
       "    </tr>\n",
       "    <tr>\n",
       "      <th>4</th>\n",
       "      <td>536365</td>\n",
       "      <td>22752</td>\n",
       "      <td>2</td>\n",
       "      <td>2010-12-01 08:26:00</td>\n",
       "      <td>2010-12-04 08:26:00</td>\n",
       "      <td>0.57</td>\n",
       "      <td>Delivery Truck</td>\n",
       "      <td>5.81</td>\n",
       "      <td>17850</td>\n",
       "      <td>female</td>\n",
       "      <td>...</td>\n",
       "      <td>Medium</td>\n",
       "      <td>84306</td>\n",
       "      <td>Middle class</td>\n",
       "      <td>awesome since 1948 - 69th birthday gift t-shir...</td>\n",
       "      <td>awesome since 1948 - 69th birthday gift t-shir...</td>\n",
       "      <td>Clothing|Men|Mens T-Shirts &amp; Tank Tops|Mens T-...</td>\n",
       "      <td>Shirtinvaders</td>\n",
       "      <td>49.33</td>\n",
       "      <td>20.0</td>\n",
       "      <td>6.0</td>\n",
       "    </tr>\n",
       "  </tbody>\n",
       "</table>\n",
       "<p>5 rows × 21 columns</p>\n",
       "</div>"
      ],
      "text/plain": [
       "   InvoiceNo StockCode  Quantity          InvoiceDate         DeliveryDate  \\\n",
       "0     536365    84029E         6  2010-12-01 08:26:00  2010-12-02 08:26:00   \n",
       "1     536365     71053         6  2010-12-01 08:26:00  2010-12-02 08:26:00   \n",
       "2     536365     21730         6  2010-12-01 08:26:00  2010-12-03 08:26:00   \n",
       "3     536365    84406B         8  2010-12-01 08:26:00  2010-12-03 08:26:00   \n",
       "4     536365     22752         2  2010-12-01 08:26:00  2010-12-04 08:26:00   \n",
       "\n",
       "   Discount%        ShipMode  ShippingCost  CustomerID  Gender  ...  Income  \\\n",
       "0       0.20      ExpressAir         30.12       17850  female  ...  Medium   \n",
       "1       0.21      ExpressAir         30.12       17850  female  ...  Medium   \n",
       "2       0.56     Regular Air         15.22       17850  female  ...  Medium   \n",
       "3       0.30     Regular Air         15.22       17850  female  ...  Medium   \n",
       "4       0.57  Delivery Truck          5.81       17850  female  ...  Medium   \n",
       "\n",
       "  Zipcode  Customer Segment  \\\n",
       "0   84306      Middle class   \n",
       "1   84306      Middle class   \n",
       "2   84306      Middle class   \n",
       "3   84306      Middle class   \n",
       "4   84306      Middle class   \n",
       "\n",
       "                                        Product Name  \\\n",
       "0  3 1/2\"W x 20\"D x 20\"H Funston Craftsman Smooth...   \n",
       "1  Awkward Styles Shamrock Flag St. Patrick's Day...   \n",
       "2  Ebe Men Black Rectangle Half Rim Spring Hinge ...   \n",
       "3  MightySkins Skin Decal Wrap Compatible with Ap...   \n",
       "4  awesome since 1948 - 69th birthday gift t-shir...   \n",
       "\n",
       "                                         Description  \\\n",
       "0  Our Rustic Collection is an instant classic. O...   \n",
       "1  Our St Patrick's Day Collection is perfect for...   \n",
       "2  Count on EBE for all of your eye correction ne...   \n",
       "3  Mightyskins are removable vinyl skins for prot...   \n",
       "4  awesome since 1948 - 69th birthday gift t-shir...   \n",
       "\n",
       "                                            Category            Brand  \\\n",
       "0  Home Improvement|Hardware|Brackets and Angle I...    Ekena Milwork   \n",
       "1  Clothing|Men|Mens T-Shirts & Tank Tops|Mens Gr...   Awkward Styles   \n",
       "2          Health|Home Health Care|Daily Living Aids  Eye Buy Express   \n",
       "3  Electronics|Electronics Learning Center|Ads Fr...      Mightyskins   \n",
       "4  Clothing|Men|Mens T-Shirts & Tank Tops|Mens T-...    Shirtinvaders   \n",
       "\n",
       "  Unit Price  Num_word_text  Num_word_cat  \n",
       "0     199.11          129.0           9.0  \n",
       "1      23.95          150.0           7.0  \n",
       "2      26.99          176.0           5.0  \n",
       "3      14.99          118.0           6.0  \n",
       "4      49.33           20.0           6.0  \n",
       "\n",
       "[5 rows x 21 columns]"
      ]
     },
     "execution_count": 2,
     "metadata": {},
     "output_type": "execute_result"
    }
   ],
   "source": [
    "# Reading Data # First Column is the index\n",
    "df = pd.read_csv('../00_Data/Rec_Sys_precleaned.csv', index_col=0)\n",
    "\n",
    "# First five rows\n",
    "df.head()"
   ]
  },
  {
   "cell_type": "code",
   "execution_count": 3,
   "metadata": {},
   "outputs": [
    {
     "data": {
      "text/plain": [
       "(245898, 21)"
      ]
     },
     "execution_count": 3,
     "metadata": {},
     "output_type": "execute_result"
    }
   ],
   "source": [
    "# Shape of data\n",
    "df.shape"
   ]
  },
  {
   "cell_type": "code",
   "execution_count": 4,
   "metadata": {},
   "outputs": [
    {
     "name": "stdout",
     "output_type": "stream",
     "text": [
      "Unique Users: 3011\n",
      "Unique Items: 2349\n"
     ]
    }
   ],
   "source": [
    "# Unique Users & Items\n",
    "print(\"Unique Users:\", df.CustomerID.nunique())\n",
    "print(\"Unique Items:\", df.StockCode.nunique())"
   ]
  },
  {
   "attachments": {},
   "cell_type": "markdown",
   "metadata": {},
   "source": [
    "# Preparation: Binary Dataset"
   ]
  },
  {
   "attachments": {},
   "cell_type": "markdown",
   "metadata": {},
   "source": [
    "Main Steps\n",
    "1. Aggregate all User - Item Interactions & Create Flag Column for Purchases\n",
    "2. Split into Train & Test Data"
   ]
  },
  {
   "attachments": {},
   "cell_type": "markdown",
   "metadata": {},
   "source": [
    "## 1. User - Item Aggregation & Flag Column"
   ]
  },
  {
   "cell_type": "code",
   "execution_count": 5,
   "metadata": {},
   "outputs": [
    {
     "data": {
      "text/html": [
       "<div>\n",
       "<style scoped>\n",
       "    .dataframe tbody tr th:only-of-type {\n",
       "        vertical-align: middle;\n",
       "    }\n",
       "\n",
       "    .dataframe tbody tr th {\n",
       "        vertical-align: top;\n",
       "    }\n",
       "\n",
       "    .dataframe thead th {\n",
       "        text-align: right;\n",
       "    }\n",
       "</style>\n",
       "<table border=\"1\" class=\"dataframe\">\n",
       "  <thead>\n",
       "    <tr style=\"text-align: right;\">\n",
       "      <th></th>\n",
       "      <th>StockCode</th>\n",
       "      <th>CustomerID</th>\n",
       "      <th>purchased</th>\n",
       "    </tr>\n",
       "  </thead>\n",
       "  <tbody>\n",
       "    <tr>\n",
       "      <th>0</th>\n",
       "      <td>10002</td>\n",
       "      <td>12451</td>\n",
       "      <td>1</td>\n",
       "    </tr>\n",
       "    <tr>\n",
       "      <th>1</th>\n",
       "      <td>10002</td>\n",
       "      <td>12510</td>\n",
       "      <td>1</td>\n",
       "    </tr>\n",
       "    <tr>\n",
       "      <th>2</th>\n",
       "      <td>10002</td>\n",
       "      <td>12583</td>\n",
       "      <td>1</td>\n",
       "    </tr>\n",
       "    <tr>\n",
       "      <th>3</th>\n",
       "      <td>10002</td>\n",
       "      <td>12637</td>\n",
       "      <td>1</td>\n",
       "    </tr>\n",
       "    <tr>\n",
       "      <th>4</th>\n",
       "      <td>10002</td>\n",
       "      <td>12673</td>\n",
       "      <td>1</td>\n",
       "    </tr>\n",
       "  </tbody>\n",
       "</table>\n",
       "</div>"
      ],
      "text/plain": [
       "  StockCode  CustomerID  purchased\n",
       "0     10002       12451          1\n",
       "1     10002       12510          1\n",
       "2     10002       12583          1\n",
       "3     10002       12637          1\n",
       "4     10002       12673          1"
      ]
     },
     "execution_count": 5,
     "metadata": {},
     "output_type": "execute_result"
    }
   ],
   "source": [
    "# Aggregate count of unique User & Item combinations\n",
    "df_binary = df.groupby(['StockCode', 'CustomerID']).agg({'CustomerID': 'count'})\n",
    "\n",
    "# Rename Columns \n",
    "df_binary.columns = ['purchased']\n",
    "\n",
    "# Reset Index\n",
    "df_binary.reset_index(inplace=True)\n",
    "\n",
    "# Set all purchases to 1 \n",
    "df_binary['purchased'] = 1 \n",
    "\n",
    "# Check first five columns\n",
    "df_binary.head()"
   ]
  },
  {
   "cell_type": "code",
   "execution_count": 6,
   "metadata": {},
   "outputs": [
    {
     "data": {
      "text/plain": [
       "count    172701.0\n",
       "mean          1.0\n",
       "std           0.0\n",
       "min           1.0\n",
       "25%           1.0\n",
       "50%           1.0\n",
       "75%           1.0\n",
       "max           1.0\n",
       "Name: purchased, dtype: float64"
      ]
     },
     "execution_count": 6,
     "metadata": {},
     "output_type": "execute_result"
    }
   ],
   "source": [
    "# Sanity Check \n",
    "df_binary.purchased.describe()"
   ]
  },
  {
   "attachments": {},
   "cell_type": "markdown",
   "metadata": {},
   "source": [
    "## 2. Item & User Encoding"
   ]
  },
  {
   "cell_type": "code",
   "execution_count": 7,
   "metadata": {},
   "outputs": [
    {
     "data": {
      "text/html": [
       "<div>\n",
       "<style scoped>\n",
       "    .dataframe tbody tr th:only-of-type {\n",
       "        vertical-align: middle;\n",
       "    }\n",
       "\n",
       "    .dataframe tbody tr th {\n",
       "        vertical-align: top;\n",
       "    }\n",
       "\n",
       "    .dataframe thead th {\n",
       "        text-align: right;\n",
       "    }\n",
       "</style>\n",
       "<table border=\"1\" class=\"dataframe\">\n",
       "  <thead>\n",
       "    <tr style=\"text-align: right;\">\n",
       "      <th></th>\n",
       "      <th>StockCode</th>\n",
       "      <th>CustomerID</th>\n",
       "      <th>purchased</th>\n",
       "    </tr>\n",
       "  </thead>\n",
       "  <tbody>\n",
       "    <tr>\n",
       "      <th>0</th>\n",
       "      <td>0</td>\n",
       "      <td>66</td>\n",
       "      <td>1</td>\n",
       "    </tr>\n",
       "    <tr>\n",
       "      <th>1</th>\n",
       "      <td>0</td>\n",
       "      <td>98</td>\n",
       "      <td>1</td>\n",
       "    </tr>\n",
       "    <tr>\n",
       "      <th>2</th>\n",
       "      <td>0</td>\n",
       "      <td>143</td>\n",
       "      <td>1</td>\n",
       "    </tr>\n",
       "    <tr>\n",
       "      <th>3</th>\n",
       "      <td>0</td>\n",
       "      <td>175</td>\n",
       "      <td>1</td>\n",
       "    </tr>\n",
       "    <tr>\n",
       "      <th>4</th>\n",
       "      <td>0</td>\n",
       "      <td>195</td>\n",
       "      <td>1</td>\n",
       "    </tr>\n",
       "  </tbody>\n",
       "</table>\n",
       "</div>"
      ],
      "text/plain": [
       "  StockCode CustomerID  purchased\n",
       "0         0         66          1\n",
       "1         0         98          1\n",
       "2         0        143          1\n",
       "3         0        175          1\n",
       "4         0        195          1"
      ]
     },
     "execution_count": 7,
     "metadata": {},
     "output_type": "execute_result"
    }
   ],
   "source": [
    "# Encoding User & Items \n",
    "\n",
    "# Import LabelEncoder\n",
    "from sklearn.preprocessing import LabelEncoder\n",
    "\n",
    "# Convert CustomerID to String\n",
    "df_binary['CustomerID'] = df_binary['CustomerID'].astype(str)\n",
    "\n",
    "# Set up Objects for User and Item Column\n",
    "le1 = LabelEncoder()\n",
    "le2 = LabelEncoder()\n",
    "\n",
    "# Fit the encoders to the columns in question\n",
    "le1.fit(df_binary['StockCode'])\n",
    "le2.fit(df_binary['CustomerID'])\n",
    "\n",
    "# Transform dataframe with encoded labels\n",
    "df_binary['StockCode'] = le1.transform(df_binary['StockCode']).astype(str)\n",
    "df_binary['CustomerID'] = le2.transform(df_binary['CustomerID']).astype(str)\n",
    "\n",
    "# Check Change \n",
    "df_binary.head()"
   ]
  },
  {
   "attachments": {},
   "cell_type": "markdown",
   "metadata": {},
   "source": [
    "## 3. Split into Train & Test Data"
   ]
  },
  {
   "cell_type": "code",
   "execution_count": 8,
   "metadata": {},
   "outputs": [],
   "source": [
    "# Load the Python Splitter\n",
    "from recommenders.datasets.python_splitters import python_stratified_split"
   ]
  },
  {
   "cell_type": "code",
   "execution_count": 9,
   "metadata": {},
   "outputs": [],
   "source": [
    "# Split into Train & Test \n",
    "train, test = python_stratified_split(df_binary, ratio=0.8, filter_by='user', min_rating=10, col_user='CustomerID', col_item='StockCode', seed=1)"
   ]
  },
  {
   "cell_type": "code",
   "execution_count": 10,
   "metadata": {},
   "outputs": [
    {
     "name": "stdout",
     "output_type": "stream",
     "text": [
      "Users Train: \t 3011\n",
      "Items Train: \t 2349\n",
      "Users Test: \t 3011\n",
      "Items Test: \t 2307\n"
     ]
    }
   ],
   "source": [
    "# Sanity Check number of unique Users & Items in Train - If numbers differ, this means the stratified split \n",
    "print(\"Users Train: \\t\",train['CustomerID'].nunique())\n",
    "print(\"Items Train: \\t\",train['StockCode'].nunique())\n",
    "# Sanity Check number of unique Users & Items in Test\n",
    "print(\"Users Test: \\t\",test['CustomerID'].nunique())\n",
    "print(\"Items Test: \\t\",test['StockCode'].nunique())"
   ]
  },
  {
   "cell_type": "code",
   "execution_count": 11,
   "metadata": {},
   "outputs": [],
   "source": [
    "# Ensure that the same items and users are in both sets \n",
    "# Find the set of unique items in both the train and test sets\n",
    "train_items = set(train['StockCode'].unique())\n",
    "test_items = set(test['StockCode'].unique())\n",
    "\n",
    "# Find the intersection of the sets from step 1\n",
    "common_items = train_items.intersection(test_items)\n",
    "\n",
    "# Filter the train and test sets to include only the rows with item IDs that are in the intersection set\n",
    "train = train[train['StockCode'].isin(common_items)]\n",
    "test = test[test['StockCode'].isin(common_items)]"
   ]
  },
  {
   "cell_type": "code",
   "execution_count": 12,
   "metadata": {},
   "outputs": [
    {
     "name": "stdout",
     "output_type": "stream",
     "text": [
      "Users Train: \t 3011\n",
      "Items Train: \t 2307\n",
      "Users Test: \t 3011\n",
      "Items Test: \t 2307\n"
     ]
    }
   ],
   "source": [
    "# Sanity Check number of unique Users & Items in Train\n",
    "print(\"Users Train: \\t\",train['CustomerID'].nunique())\n",
    "print(\"Items Train: \\t\",train['StockCode'].nunique())\n",
    "# Sanity Check number of unique Users & Items in Test\n",
    "print(\"Users Test: \\t\",test['CustomerID'].nunique())\n",
    "print(\"Items Test: \\t\",test['StockCode'].nunique())"
   ]
  },
  {
   "cell_type": "code",
   "execution_count": 13,
   "metadata": {},
   "outputs": [
    {
     "name": "stdout",
     "output_type": "stream",
     "text": [
      "Shape of Train: (137627, 3)\n",
      "Shape of Test: \t (34505, 3)\n"
     ]
    }
   ],
   "source": [
    "# Shapes to Check \n",
    "print(\"Shape of Train:\", train.shape)\n",
    "print(\"Shape of Test: \\t\", test.shape)"
   ]
  },
  {
   "cell_type": "code",
   "execution_count": 14,
   "metadata": {},
   "outputs": [],
   "source": [
    "# Save as csv \n",
    "train.to_csv('../00_Data/rec_sys_binary_train.csv')\n",
    "test.to_csv('../00_Data/rec_sys_binary_test.csv')"
   ]
  },
  {
   "cell_type": "code",
   "execution_count": 15,
   "metadata": {},
   "outputs": [
    {
     "data": {
      "text/plain": [
       "172132"
      ]
     },
     "execution_count": 15,
     "metadata": {},
     "output_type": "execute_result"
    }
   ],
   "source": [
    "# Rows aggregated\n",
    "train.shape[0] + test.shape[0]"
   ]
  },
  {
   "attachments": {},
   "cell_type": "markdown",
   "metadata": {},
   "source": [
    "# Preparation: Sample of non-bought Items\n",
    "The Dataset with the positive interactions tends to generate positive predictions for almost all item-user matches. This leads to a 100% Accuracy, which is not a usefull result. Thus, we will test, if the results change, when a certain amount of non-positive user-item interactions is added to the binary dataset."
   ]
  },
  {
   "cell_type": "code",
   "execution_count": 16,
   "metadata": {},
   "outputs": [],
   "source": [
    "# Here, we will create a dataframe for all combinations of items and users in the dataset \n",
    "# First define unique Users & Items in df_binary\n",
    "unique_items = df_binary['StockCode'].unique()\n",
    "unique_users = df_binary['CustomerID'].unique()\n",
    "\n",
    "# Create a meshgrid of unique_users & unique_items\n",
    "u_user_grid, u_item_grid = np.meshgrid(unique_users, unique_items, indexing='ij')\n",
    "\n",
    "# Flatten the meshgrid arrays\n",
    "u_user_flat = u_user_grid.flatten()\n",
    "u_item_flat = u_item_grid.flatten()\n",
    "\n",
    "# Create a pandas dataframe with a row for each combination of the values in all_users and top5_perc_items\n",
    "all_interactions = pd.DataFrame({'CustomerID': u_user_flat, 'StockCode': u_item_flat})"
   ]
  },
  {
   "cell_type": "code",
   "execution_count": 17,
   "metadata": {},
   "outputs": [
    {
     "data": {
      "text/html": [
       "<div>\n",
       "<style scoped>\n",
       "    .dataframe tbody tr th:only-of-type {\n",
       "        vertical-align: middle;\n",
       "    }\n",
       "\n",
       "    .dataframe tbody tr th {\n",
       "        vertical-align: top;\n",
       "    }\n",
       "\n",
       "    .dataframe thead th {\n",
       "        text-align: right;\n",
       "    }\n",
       "</style>\n",
       "<table border=\"1\" class=\"dataframe\">\n",
       "  <thead>\n",
       "    <tr style=\"text-align: right;\">\n",
       "      <th></th>\n",
       "      <th>CustomerID</th>\n",
       "      <th>StockCode</th>\n",
       "      <th>purchased</th>\n",
       "    </tr>\n",
       "  </thead>\n",
       "  <tbody>\n",
       "    <tr>\n",
       "      <th>4260594</th>\n",
       "      <td>1742</td>\n",
       "      <td>1857</td>\n",
       "      <td>0</td>\n",
       "    </tr>\n",
       "    <tr>\n",
       "      <th>1320669</th>\n",
       "      <td>2518</td>\n",
       "      <td>531</td>\n",
       "      <td>0</td>\n",
       "    </tr>\n",
       "    <tr>\n",
       "      <th>6145500</th>\n",
       "      <td>45</td>\n",
       "      <td>516</td>\n",
       "      <td>0</td>\n",
       "    </tr>\n",
       "    <tr>\n",
       "      <th>785534</th>\n",
       "      <td>971</td>\n",
       "      <td>968</td>\n",
       "      <td>0</td>\n",
       "    </tr>\n",
       "    <tr>\n",
       "      <th>552844</th>\n",
       "      <td>700</td>\n",
       "      <td>829</td>\n",
       "      <td>0</td>\n",
       "    </tr>\n",
       "  </tbody>\n",
       "</table>\n",
       "</div>"
      ],
      "text/plain": [
       "        CustomerID StockCode  purchased\n",
       "4260594       1742      1857          0\n",
       "1320669       2518       531          0\n",
       "6145500         45       516          0\n",
       "785534         971       968          0\n",
       "552844         700       829          0"
      ]
     },
     "execution_count": 17,
     "metadata": {},
     "output_type": "execute_result"
    }
   ],
   "source": [
    "# In the second step, we are excluding those matches from the all_interactions dataset, which already exist in the df_binary dataset. To do so, we are working with an anti-join\n",
    "\n",
    "# First we merge all_interactions and df_binary and set the indicator to True, to find out, which matches are in all_interaction dataset only \n",
    "non_interactions = all_interactions.merge(df_binary, on=['StockCode', 'CustomerID'], how='left', indicator=True)\n",
    "\n",
    "# Keep only the rows where the '_merge' indicator is 'left_only', meaning they only exist in the 'all_interactions' dataframe\n",
    "non_interactions = non_interactions[non_interactions['_merge']=='left_only']\n",
    "\n",
    "# Change the 'purchased' column to 0 to indicate the negative or missing interaction  \n",
    "non_interactions['purchased'] = 0 \n",
    "\n",
    "# Drop the '_merge' column  \n",
    "non_interactions = non_interactions.drop(columns=['_merge'])\n",
    "\n",
    "# Show a Sample of non_Interactions\n",
    "non_interactions.sample(5)"
   ]
  },
  {
   "cell_type": "code",
   "execution_count": 18,
   "metadata": {},
   "outputs": [
    {
     "data": {
      "text/html": [
       "<div>\n",
       "<style scoped>\n",
       "    .dataframe tbody tr th:only-of-type {\n",
       "        vertical-align: middle;\n",
       "    }\n",
       "\n",
       "    .dataframe tbody tr th {\n",
       "        vertical-align: top;\n",
       "    }\n",
       "\n",
       "    .dataframe thead th {\n",
       "        text-align: right;\n",
       "    }\n",
       "</style>\n",
       "<table border=\"1\" class=\"dataframe\">\n",
       "  <thead>\n",
       "    <tr style=\"text-align: right;\">\n",
       "      <th></th>\n",
       "      <th>StockCode</th>\n",
       "      <th>CustomerID</th>\n",
       "      <th>purchased</th>\n",
       "    </tr>\n",
       "  </thead>\n",
       "  <tbody>\n",
       "    <tr>\n",
       "      <th>160677</th>\n",
       "      <td>2147</td>\n",
       "      <td>109</td>\n",
       "      <td>1</td>\n",
       "    </tr>\n",
       "    <tr>\n",
       "      <th>7625</th>\n",
       "      <td>127</td>\n",
       "      <td>593</td>\n",
       "      <td>1</td>\n",
       "    </tr>\n",
       "    <tr>\n",
       "      <th>174437</th>\n",
       "      <td>1677</td>\n",
       "      <td>1066</td>\n",
       "      <td>0</td>\n",
       "    </tr>\n",
       "    <tr>\n",
       "      <th>146728</th>\n",
       "      <td>1907</td>\n",
       "      <td>1338</td>\n",
       "      <td>1</td>\n",
       "    </tr>\n",
       "    <tr>\n",
       "      <th>182389</th>\n",
       "      <td>993</td>\n",
       "      <td>1381</td>\n",
       "      <td>0</td>\n",
       "    </tr>\n",
       "  </tbody>\n",
       "</table>\n",
       "</div>"
      ],
      "text/plain": [
       "       StockCode CustomerID  purchased\n",
       "160677      2147        109          1\n",
       "7625         127        593          1\n",
       "174437      1677       1066          0\n",
       "146728      1907       1338          1\n",
       "182389       993       1381          0"
      ]
     },
     "execution_count": 18,
     "metadata": {},
     "output_type": "execute_result"
    }
   ],
   "source": [
    "# In the next step, we will randomly sample around 10 non-purchased items per user, which will later be merged with the df_binary dataset. \n",
    "stratified_sample_non_interactions = non_interactions.groupby('CustomerID').apply(lambda x: x.sample(frac=0.01))\n",
    "\n",
    "# Remove the extra index added by groupby()\n",
    "stratified_sample_non_interactions = stratified_sample_non_interactions.droplevel(0)\n",
    "\n",
    "# Concatenate the split with df_binary\n",
    "df_binary_mixed = pd.concat([df_binary, stratified_sample_non_interactions], ignore_index=True)\n",
    "\n",
    "# Check sample\n",
    "df_binary_mixed.sample(5)"
   ]
  },
  {
   "cell_type": "code",
   "execution_count": 19,
   "metadata": {},
   "outputs": [],
   "source": [
    "# In the final step, we will split the data into a test and train dataset\n",
    "\n",
    "# Load Train Test Split \n",
    "from sklearn.model_selection import train_test_split\n",
    "train_mixed, test_mixed= train_test_split(df_binary_mixed, stratify=df_binary_mixed.purchased, test_size=0.2)\n",
    "\n",
    "\n",
    "# Ensure that the same items and users are in both sets \n",
    "# Find the set of unique items in both the train and test sets\n",
    "train_items = set(train_mixed['StockCode'].unique())\n",
    "test_items = set(test_mixed['StockCode'].unique())\n",
    "\n",
    "# Find the intersection of the sets from step 1\n",
    "common_items = train_items.intersection(test_items)\n",
    "\n",
    "# Filter the train and test sets to include only the rows with item IDs that are in the intersection set\n",
    "train_mixed = train_mixed[train_mixed['StockCode'].isin(common_items)]\n",
    "test_mixed = test_mixed[test_mixed['StockCode'].isin(common_items)]"
   ]
  },
  {
   "cell_type": "code",
   "execution_count": 20,
   "metadata": {},
   "outputs": [
    {
     "name": "stdout",
     "output_type": "stream",
     "text": [
      "Users Train: \t 3011\n",
      "Items Train: \t 2348\n",
      "Users Test: \t 3011\n",
      "Items Test: \t 2348\n"
     ]
    }
   ],
   "source": [
    "# Sanity Check number of unique Users & Items in Train\n",
    "print(\"Users Train: \\t\",train_mixed['CustomerID'].nunique())\n",
    "print(\"Items Train: \\t\",train_mixed['StockCode'].nunique())\n",
    "# Sanity Check number of unique Users & Items in Test\n",
    "print(\"Users Test: \\t\",test_mixed['CustomerID'].nunique())\n",
    "print(\"Items Test: \\t\",test_mixed['StockCode'].nunique())"
   ]
  },
  {
   "cell_type": "code",
   "execution_count": 21,
   "metadata": {},
   "outputs": [
    {
     "data": {
      "text/plain": [
       "0.28435100662100693"
      ]
     },
     "execution_count": 21,
     "metadata": {},
     "output_type": "execute_result"
    }
   ],
   "source": [
    "train_mixed.purchased.value_counts()[0] / (train_mixed.purchased.value_counts()[0]+train_mixed.purchased.value_counts()[1])"
   ]
  },
  {
   "cell_type": "code",
   "execution_count": 22,
   "metadata": {},
   "outputs": [
    {
     "data": {
      "text/plain": [
       "0.2844268578176469"
      ]
     },
     "execution_count": 22,
     "metadata": {},
     "output_type": "execute_result"
    }
   ],
   "source": [
    "test_mixed.purchased.value_counts()[0] / (test_mixed.purchased.value_counts()[0]+test_mixed.purchased.value_counts()[1])"
   ]
  },
  {
   "cell_type": "code",
   "execution_count": 23,
   "metadata": {},
   "outputs": [],
   "source": [
    "# Save as csv \n",
    "train_mixed.to_csv('../00_Data/rec_sys_binary_train_mixed.csv')\n",
    "test_mixed.to_csv('../00_Data/rec_sys_binary_test_mixed.csv')"
   ]
  },
  {
   "cell_type": "code",
   "execution_count": 24,
   "metadata": {},
   "outputs": [
    {
     "data": {
      "text/html": [
       "<div>\n",
       "<style scoped>\n",
       "    .dataframe tbody tr th:only-of-type {\n",
       "        vertical-align: middle;\n",
       "    }\n",
       "\n",
       "    .dataframe tbody tr th {\n",
       "        vertical-align: top;\n",
       "    }\n",
       "\n",
       "    .dataframe thead th {\n",
       "        text-align: right;\n",
       "    }\n",
       "</style>\n",
       "<table border=\"1\" class=\"dataframe\">\n",
       "  <thead>\n",
       "    <tr style=\"text-align: right;\">\n",
       "      <th></th>\n",
       "      <th>StockCode</th>\n",
       "      <th>CustomerID</th>\n",
       "      <th>purchased</th>\n",
       "    </tr>\n",
       "  </thead>\n",
       "  <tbody>\n",
       "    <tr>\n",
       "      <th>0</th>\n",
       "      <td>0</td>\n",
       "      <td>66</td>\n",
       "      <td>1</td>\n",
       "    </tr>\n",
       "    <tr>\n",
       "      <th>1</th>\n",
       "      <td>0</td>\n",
       "      <td>98</td>\n",
       "      <td>1</td>\n",
       "    </tr>\n",
       "    <tr>\n",
       "      <th>2</th>\n",
       "      <td>0</td>\n",
       "      <td>143</td>\n",
       "      <td>1</td>\n",
       "    </tr>\n",
       "    <tr>\n",
       "      <th>3</th>\n",
       "      <td>0</td>\n",
       "      <td>175</td>\n",
       "      <td>1</td>\n",
       "    </tr>\n",
       "    <tr>\n",
       "      <th>4</th>\n",
       "      <td>0</td>\n",
       "      <td>195</td>\n",
       "      <td>1</td>\n",
       "    </tr>\n",
       "    <tr>\n",
       "      <th>...</th>\n",
       "      <td>...</td>\n",
       "      <td>...</td>\n",
       "      <td>...</td>\n",
       "    </tr>\n",
       "    <tr>\n",
       "      <th>241340</th>\n",
       "      <td>302</td>\n",
       "      <td>999</td>\n",
       "      <td>0</td>\n",
       "    </tr>\n",
       "    <tr>\n",
       "      <th>241341</th>\n",
       "      <td>1662</td>\n",
       "      <td>999</td>\n",
       "      <td>0</td>\n",
       "    </tr>\n",
       "    <tr>\n",
       "      <th>241342</th>\n",
       "      <td>2096</td>\n",
       "      <td>999</td>\n",
       "      <td>0</td>\n",
       "    </tr>\n",
       "    <tr>\n",
       "      <th>241343</th>\n",
       "      <td>2019</td>\n",
       "      <td>999</td>\n",
       "      <td>0</td>\n",
       "    </tr>\n",
       "    <tr>\n",
       "      <th>241344</th>\n",
       "      <td>180</td>\n",
       "      <td>999</td>\n",
       "      <td>0</td>\n",
       "    </tr>\n",
       "  </tbody>\n",
       "</table>\n",
       "<p>241345 rows × 3 columns</p>\n",
       "</div>"
      ],
      "text/plain": [
       "       StockCode CustomerID  purchased\n",
       "0              0         66          1\n",
       "1              0         98          1\n",
       "2              0        143          1\n",
       "3              0        175          1\n",
       "4              0        195          1\n",
       "...          ...        ...        ...\n",
       "241340       302        999          0\n",
       "241341      1662        999          0\n",
       "241342      2096        999          0\n",
       "241343      2019        999          0\n",
       "241344       180        999          0\n",
       "\n",
       "[241345 rows x 3 columns]"
      ]
     },
     "execution_count": 24,
     "metadata": {},
     "output_type": "execute_result"
    }
   ],
   "source": [
    "df_binary_mixed"
   ]
  },
  {
   "cell_type": "code",
   "execution_count": 25,
   "metadata": {},
   "outputs": [
    {
     "data": {
      "text/plain": [
       "0"
      ]
     },
     "execution_count": 25,
     "metadata": {},
     "output_type": "execute_result"
    }
   ],
   "source": [
    "len(df_binary_mixed[(df_binary_mixed['CustomerID']==18287) & (df_binary_mixed['purchased']==0)])"
   ]
  },
  {
   "attachments": {},
   "cell_type": "markdown",
   "metadata": {},
   "source": [
    "# Preparation: Pseudo-Rating Dataset"
   ]
  },
  {
   "attachments": {},
   "cell_type": "markdown",
   "metadata": {},
   "source": [
    "Main Steps\n",
    "\n",
    "1. Aggregate all User - Item Interactions & Create Flag Column for Purchases\n",
    "2. Increase value of repurchased items\n",
    "3. Insert negative value for non-purchased popular items\n",
    "4. Split into Train & Test Data"
   ]
  },
  {
   "attachments": {},
   "cell_type": "markdown",
   "metadata": {},
   "source": [
    "## 1. Aggregate Count of Unique User & Item Interactions"
   ]
  },
  {
   "cell_type": "code",
   "execution_count": 26,
   "metadata": {},
   "outputs": [
    {
     "data": {
      "text/html": [
       "<div>\n",
       "<style scoped>\n",
       "    .dataframe tbody tr th:only-of-type {\n",
       "        vertical-align: middle;\n",
       "    }\n",
       "\n",
       "    .dataframe tbody tr th {\n",
       "        vertical-align: top;\n",
       "    }\n",
       "\n",
       "    .dataframe thead th {\n",
       "        text-align: right;\n",
       "    }\n",
       "</style>\n",
       "<table border=\"1\" class=\"dataframe\">\n",
       "  <thead>\n",
       "    <tr style=\"text-align: right;\">\n",
       "      <th></th>\n",
       "      <th>StockCode</th>\n",
       "      <th>CustomerID</th>\n",
       "      <th>purchased</th>\n",
       "    </tr>\n",
       "  </thead>\n",
       "  <tbody>\n",
       "    <tr>\n",
       "      <th>0</th>\n",
       "      <td>10002</td>\n",
       "      <td>12451</td>\n",
       "      <td>1</td>\n",
       "    </tr>\n",
       "    <tr>\n",
       "      <th>1</th>\n",
       "      <td>10002</td>\n",
       "      <td>12510</td>\n",
       "      <td>1</td>\n",
       "    </tr>\n",
       "    <tr>\n",
       "      <th>2</th>\n",
       "      <td>10002</td>\n",
       "      <td>12583</td>\n",
       "      <td>1</td>\n",
       "    </tr>\n",
       "    <tr>\n",
       "      <th>3</th>\n",
       "      <td>10002</td>\n",
       "      <td>12637</td>\n",
       "      <td>1</td>\n",
       "    </tr>\n",
       "    <tr>\n",
       "      <th>4</th>\n",
       "      <td>10002</td>\n",
       "      <td>12673</td>\n",
       "      <td>1</td>\n",
       "    </tr>\n",
       "  </tbody>\n",
       "</table>\n",
       "</div>"
      ],
      "text/plain": [
       "  StockCode  CustomerID  purchased\n",
       "0     10002       12451          1\n",
       "1     10002       12510          1\n",
       "2     10002       12583          1\n",
       "3     10002       12637          1\n",
       "4     10002       12673          1"
      ]
     },
     "execution_count": 26,
     "metadata": {},
     "output_type": "execute_result"
    }
   ],
   "source": [
    "# Aggregate count of unique User & Item combinations\n",
    "df_ratings = df.groupby(['StockCode', 'CustomerID']).agg({'CustomerID': 'count'})\n",
    "\n",
    "# Rename the columns\n",
    "df_ratings.columns = ['purchased']\n",
    "\n",
    "# Reset the index\n",
    "df_ratings.reset_index(inplace=True)\n",
    "\n",
    "# Check first five rows \n",
    "df_ratings.head()"
   ]
  },
  {
   "cell_type": "code",
   "execution_count": 27,
   "metadata": {},
   "outputs": [
    {
     "data": {
      "text/plain": [
       "(172701, 3)"
      ]
     },
     "execution_count": 27,
     "metadata": {},
     "output_type": "execute_result"
    }
   ],
   "source": [
    "# Shape of df_ratings \n",
    "df_ratings.shape"
   ]
  },
  {
   "cell_type": "code",
   "execution_count": 28,
   "metadata": {},
   "outputs": [
    {
     "data": {
      "text/plain": [
       "39191"
      ]
     },
     "execution_count": 28,
     "metadata": {},
     "output_type": "execute_result"
    }
   ],
   "source": [
    "# How many interaction took place more than once? \n",
    "len(df_ratings[df_ratings['purchased']>1])"
   ]
  },
  {
   "attachments": {},
   "cell_type": "markdown",
   "metadata": {},
   "source": [
    "## 2. Increase Value of Re-Purchased Items"
   ]
  },
  {
   "cell_type": "code",
   "execution_count": 29,
   "metadata": {},
   "outputs": [
    {
     "data": {
      "text/plain": [
       "1    133510\n",
       "2     39191\n",
       "Name: purchased, dtype: int64"
      ]
     },
     "execution_count": 29,
     "metadata": {},
     "output_type": "execute_result"
    }
   ],
   "source": [
    "# Apply function with lambda for the condition: If x in purchased <=1 x, else 2 \n",
    "df_ratings['purchased'] = df_ratings['purchased'].apply(lambda x: x if x <= 1 else 2)\n",
    "\n",
    "# Check Distribution\n",
    "df_ratings.purchased.value_counts()"
   ]
  },
  {
   "cell_type": "code",
   "execution_count": 30,
   "metadata": {},
   "outputs": [
    {
     "data": {
      "text/html": [
       "<div>\n",
       "<style scoped>\n",
       "    .dataframe tbody tr th:only-of-type {\n",
       "        vertical-align: middle;\n",
       "    }\n",
       "\n",
       "    .dataframe tbody tr th {\n",
       "        vertical-align: top;\n",
       "    }\n",
       "\n",
       "    .dataframe thead th {\n",
       "        text-align: right;\n",
       "    }\n",
       "</style>\n",
       "<table border=\"1\" class=\"dataframe\">\n",
       "  <thead>\n",
       "    <tr style=\"text-align: right;\">\n",
       "      <th></th>\n",
       "      <th>StockCode</th>\n",
       "      <th>CustomerID</th>\n",
       "      <th>purchased</th>\n",
       "    </tr>\n",
       "  </thead>\n",
       "  <tbody>\n",
       "    <tr>\n",
       "      <th>123671</th>\n",
       "      <td>23129</td>\n",
       "      <td>14911</td>\n",
       "      <td>1</td>\n",
       "    </tr>\n",
       "    <tr>\n",
       "      <th>122633</th>\n",
       "      <td>23110</td>\n",
       "      <td>13507</td>\n",
       "      <td>1</td>\n",
       "    </tr>\n",
       "    <tr>\n",
       "      <th>118697</th>\n",
       "      <td>23028</td>\n",
       "      <td>14498</td>\n",
       "      <td>1</td>\n",
       "    </tr>\n",
       "    <tr>\n",
       "      <th>58777</th>\n",
       "      <td>22219</td>\n",
       "      <td>15799</td>\n",
       "      <td>1</td>\n",
       "    </tr>\n",
       "    <tr>\n",
       "      <th>172186</th>\n",
       "      <td>85231G</td>\n",
       "      <td>17340</td>\n",
       "      <td>1</td>\n",
       "    </tr>\n",
       "    <tr>\n",
       "      <th>161567</th>\n",
       "      <td>84879</td>\n",
       "      <td>13611</td>\n",
       "      <td>1</td>\n",
       "    </tr>\n",
       "    <tr>\n",
       "      <th>153313</th>\n",
       "      <td>82482</td>\n",
       "      <td>15812</td>\n",
       "      <td>1</td>\n",
       "    </tr>\n",
       "    <tr>\n",
       "      <th>80799</th>\n",
       "      <td>22565</td>\n",
       "      <td>16065</td>\n",
       "      <td>1</td>\n",
       "    </tr>\n",
       "    <tr>\n",
       "      <th>7691</th>\n",
       "      <td>20802</td>\n",
       "      <td>17890</td>\n",
       "      <td>1</td>\n",
       "    </tr>\n",
       "    <tr>\n",
       "      <th>109801</th>\n",
       "      <td>22927</td>\n",
       "      <td>17537</td>\n",
       "      <td>1</td>\n",
       "    </tr>\n",
       "  </tbody>\n",
       "</table>\n",
       "</div>"
      ],
      "text/plain": [
       "       StockCode  CustomerID  purchased\n",
       "123671     23129       14911          1\n",
       "122633     23110       13507          1\n",
       "118697     23028       14498          1\n",
       "58777      22219       15799          1\n",
       "172186    85231G       17340          1\n",
       "161567     84879       13611          1\n",
       "153313     82482       15812          1\n",
       "80799      22565       16065          1\n",
       "7691       20802       17890          1\n",
       "109801     22927       17537          1"
      ]
     },
     "execution_count": 30,
     "metadata": {},
     "output_type": "execute_result"
    }
   ],
   "source": [
    "# Check random sample\n",
    "df_ratings.sample(10)"
   ]
  },
  {
   "attachments": {},
   "cell_type": "markdown",
   "metadata": {},
   "source": [
    "## 3. Insert negative value for non-purchased popular items"
   ]
  },
  {
   "cell_type": "code",
   "execution_count": 31,
   "metadata": {},
   "outputs": [
    {
     "data": {
      "text/html": [
       "<div>\n",
       "<style scoped>\n",
       "    .dataframe tbody tr th:only-of-type {\n",
       "        vertical-align: middle;\n",
       "    }\n",
       "\n",
       "    .dataframe tbody tr th {\n",
       "        vertical-align: top;\n",
       "    }\n",
       "\n",
       "    .dataframe thead th {\n",
       "        text-align: right;\n",
       "    }\n",
       "</style>\n",
       "<table border=\"1\" class=\"dataframe\">\n",
       "  <thead>\n",
       "    <tr style=\"text-align: right;\">\n",
       "      <th></th>\n",
       "      <th>StockCode</th>\n",
       "      <th>Purchases</th>\n",
       "    </tr>\n",
       "  </thead>\n",
       "  <tbody>\n",
       "    <tr>\n",
       "      <th>2274</th>\n",
       "      <td>85123A</td>\n",
       "      <td>1565</td>\n",
       "    </tr>\n",
       "    <tr>\n",
       "      <th>979</th>\n",
       "      <td>22423</td>\n",
       "      <td>1318</td>\n",
       "    </tr>\n",
       "    <tr>\n",
       "      <th>1929</th>\n",
       "      <td>47566</td>\n",
       "      <td>1195</td>\n",
       "    </tr>\n",
       "    <tr>\n",
       "      <th>2267</th>\n",
       "      <td>85099B</td>\n",
       "      <td>1184</td>\n",
       "    </tr>\n",
       "    <tr>\n",
       "      <th>2167</th>\n",
       "      <td>84879</td>\n",
       "      <td>1008</td>\n",
       "    </tr>\n",
       "  </tbody>\n",
       "</table>\n",
       "</div>"
      ],
      "text/plain": [
       "     StockCode  Purchases\n",
       "2274    85123A       1565\n",
       "979      22423       1318\n",
       "1929     47566       1195\n",
       "2267    85099B       1184\n",
       "2167     84879       1008"
      ]
     },
     "execution_count": 31,
     "metadata": {},
     "output_type": "execute_result"
    }
   ],
   "source": [
    "# First Count number of Purchases per Item in the initial Dataset \n",
    "df_items = df.groupby('StockCode').agg({'StockCode': 'count'})\n",
    "\n",
    "# Rename the columns\n",
    "df_items.columns = ['Purchases']\n",
    "\n",
    "# Reset the index\n",
    "df_items.reset_index(inplace=True)\n",
    "\n",
    "# Show first five rows\n",
    "df_items.sort_values(by='Purchases', ascending=False).head()"
   ]
  },
  {
   "attachments": {},
   "cell_type": "markdown",
   "metadata": {},
   "source": [
    "### 3.1. Top 2 Percent"
   ]
  },
  {
   "cell_type": "code",
   "execution_count": 32,
   "metadata": {},
   "outputs": [
    {
     "data": {
      "text/plain": [
       "48"
      ]
     },
     "execution_count": 32,
     "metadata": {},
     "output_type": "execute_result"
    }
   ],
   "source": [
    "# Filter Out best Items \n",
    "df_top2_items = df_items[df_items['Purchases'] >= df_items['Purchases'].quantile(0.98)]\n",
    "\n",
    "# Number of top Items \n",
    "df_top2_items.shape[0]"
   ]
  },
  {
   "cell_type": "code",
   "execution_count": 33,
   "metadata": {},
   "outputs": [],
   "source": [
    "# Save top Items in an array \n",
    "top2_perc_items = df_top2_items['StockCode'].unique()\n",
    "\n",
    "# Save all Users from df_rating in an array\n",
    "all_users = df_ratings['CustomerID'].unique()"
   ]
  },
  {
   "cell_type": "code",
   "execution_count": 34,
   "metadata": {},
   "outputs": [
    {
     "data": {
      "text/plain": [
       "144528"
      ]
     },
     "execution_count": 34,
     "metadata": {},
     "output_type": "execute_result"
    }
   ],
   "source": [
    "# For sanity check in the next step multiply length of both arrays. This should later be the shape of dataframe with unique combinations out of both arrays\n",
    "len(top2_perc_items) * len(all_users)"
   ]
  },
  {
   "cell_type": "code",
   "execution_count": 35,
   "metadata": {},
   "outputs": [
    {
     "data": {
      "text/plain": [
       "(144528, 2)"
      ]
     },
     "execution_count": 35,
     "metadata": {},
     "output_type": "execute_result"
    }
   ],
   "source": [
    "# Create Dataframe with all unique matches of top items and all users \n",
    "\n",
    "# First Create a meshgrid of all_users and top5_perc_items\n",
    "user_grid, item_grid = np.meshgrid(all_users, top2_perc_items, indexing='ij')\n",
    "\n",
    "# Flatten the meshgrid arrays\n",
    "user_flat = user_grid.flatten()\n",
    "item_flat = item_grid.flatten()\n",
    "\n",
    "# Create a pandas dataframe with a row for each combination of the values in all_users and top5_perc_items\n",
    "top_potential_purchases = pd.DataFrame({'CustomerID': user_flat, 'StockCode': item_flat})\n",
    "\n",
    "# Check shape: it should be 144528 \n",
    "top_potential_purchases.shape"
   ]
  },
  {
   "cell_type": "code",
   "execution_count": 36,
   "metadata": {},
   "outputs": [
    {
     "data": {
      "text/html": [
       "<div>\n",
       "<style scoped>\n",
       "    .dataframe tbody tr th:only-of-type {\n",
       "        vertical-align: middle;\n",
       "    }\n",
       "\n",
       "    .dataframe tbody tr th {\n",
       "        vertical-align: top;\n",
       "    }\n",
       "\n",
       "    .dataframe thead th {\n",
       "        text-align: right;\n",
       "    }\n",
       "</style>\n",
       "<table border=\"1\" class=\"dataframe\">\n",
       "  <thead>\n",
       "    <tr style=\"text-align: right;\">\n",
       "      <th></th>\n",
       "      <th>CustomerID</th>\n",
       "      <th>StockCode</th>\n",
       "      <th>purchased</th>\n",
       "    </tr>\n",
       "  </thead>\n",
       "  <tbody>\n",
       "    <tr>\n",
       "      <th>0</th>\n",
       "      <td>12451</td>\n",
       "      <td>20724</td>\n",
       "      <td>-2</td>\n",
       "    </tr>\n",
       "    <tr>\n",
       "      <th>1</th>\n",
       "      <td>12451</td>\n",
       "      <td>20726</td>\n",
       "      <td>-2</td>\n",
       "    </tr>\n",
       "    <tr>\n",
       "      <th>2</th>\n",
       "      <td>12451</td>\n",
       "      <td>20727</td>\n",
       "      <td>-2</td>\n",
       "    </tr>\n",
       "    <tr>\n",
       "      <th>3</th>\n",
       "      <td>12451</td>\n",
       "      <td>20728</td>\n",
       "      <td>-2</td>\n",
       "    </tr>\n",
       "    <tr>\n",
       "      <th>4</th>\n",
       "      <td>12451</td>\n",
       "      <td>20914</td>\n",
       "      <td>-2</td>\n",
       "    </tr>\n",
       "  </tbody>\n",
       "</table>\n",
       "</div>"
      ],
      "text/plain": [
       "   CustomerID StockCode  purchased\n",
       "0       12451     20724         -2\n",
       "1       12451     20726         -2\n",
       "2       12451     20727         -2\n",
       "3       12451     20728         -2\n",
       "4       12451     20914         -2"
      ]
     },
     "execution_count": 36,
     "metadata": {},
     "output_type": "execute_result"
    }
   ],
   "source": [
    "# Insert a -1 in a new column as value for all rows\n",
    "top_potential_purchases['purchased'] = -2 \n",
    "\n",
    "# Sanity check\n",
    "top_potential_purchases.head()"
   ]
  },
  {
   "cell_type": "code",
   "execution_count": 37,
   "metadata": {},
   "outputs": [
    {
     "data": {
      "text/plain": [
       "(126326, 3)"
      ]
     },
     "execution_count": 37,
     "metadata": {},
     "output_type": "execute_result"
    }
   ],
   "source": [
    "# Perform an Anti-Join between df_ratings and top_potential_purchases to find out combinations of CustomerID & StockCode that are only in top_potential purchases. Drop duplicates and concatenate to ratings\n",
    "\n",
    "# Perform the anti join by merging on 'StockCode' and 'CustomerID' using a 'left' join and adding an '_merge' indicator column\n",
    "popular_non_bought = top_potential_purchases.merge(df_ratings, on=['StockCode', 'CustomerID'], how='left', indicator=True)\n",
    "\n",
    "# Keep only the rows where the '_merge' indicator is 'left_only', meaning they only exist in the 'df' dataframe\n",
    "popular_non_bought = popular_non_bought[popular_non_bought['_merge'] == 'left_only']\n",
    "\n",
    "# Drop the '_merge' column and any additional columns from 'df_cancelled' that might have been added during the merge\n",
    "popular_non_bought = popular_non_bought.drop(columns=['_merge', 'purchased_y'])\n",
    "\n",
    "# Reset the index if needed\n",
    "popular_non_bought.reset_index(drop=True, inplace=True)\n",
    "\n",
    "# Rename purchased_x to purchased\n",
    "popular_non_bought = popular_non_bought.rename(columns={'purchased_x':'purchased'})\n",
    "\n",
    "# Check Shape after Ánti Join\n",
    "popular_non_bought.shape\n"
   ]
  },
  {
   "cell_type": "code",
   "execution_count": 38,
   "metadata": {},
   "outputs": [
    {
     "data": {
      "text/html": [
       "<div>\n",
       "<style scoped>\n",
       "    .dataframe tbody tr th:only-of-type {\n",
       "        vertical-align: middle;\n",
       "    }\n",
       "\n",
       "    .dataframe tbody tr th {\n",
       "        vertical-align: top;\n",
       "    }\n",
       "\n",
       "    .dataframe thead th {\n",
       "        text-align: right;\n",
       "    }\n",
       "</style>\n",
       "<table border=\"1\" class=\"dataframe\">\n",
       "  <thead>\n",
       "    <tr style=\"text-align: right;\">\n",
       "      <th></th>\n",
       "      <th>StockCode</th>\n",
       "      <th>CustomerID</th>\n",
       "      <th>purchased</th>\n",
       "    </tr>\n",
       "  </thead>\n",
       "  <tbody>\n",
       "    <tr>\n",
       "      <th>214677</th>\n",
       "      <td>23206</td>\n",
       "      <td>18071</td>\n",
       "      <td>-2</td>\n",
       "    </tr>\n",
       "    <tr>\n",
       "      <th>205103</th>\n",
       "      <td>22386</td>\n",
       "      <td>16644</td>\n",
       "      <td>-2</td>\n",
       "    </tr>\n",
       "    <tr>\n",
       "      <th>42091</th>\n",
       "      <td>21931</td>\n",
       "      <td>16523</td>\n",
       "      <td>2</td>\n",
       "    </tr>\n",
       "    <tr>\n",
       "      <th>175261</th>\n",
       "      <td>21181</td>\n",
       "      <td>14412</td>\n",
       "      <td>-2</td>\n",
       "    </tr>\n",
       "    <tr>\n",
       "      <th>216758</th>\n",
       "      <td>22629</td>\n",
       "      <td>14723</td>\n",
       "      <td>-2</td>\n",
       "    </tr>\n",
       "    <tr>\n",
       "      <th>148113</th>\n",
       "      <td>47566B</td>\n",
       "      <td>18221</td>\n",
       "      <td>2</td>\n",
       "    </tr>\n",
       "    <tr>\n",
       "      <th>179517</th>\n",
       "      <td>23298</td>\n",
       "      <td>17800</td>\n",
       "      <td>-2</td>\n",
       "    </tr>\n",
       "    <tr>\n",
       "      <th>202406</th>\n",
       "      <td>22384</td>\n",
       "      <td>15730</td>\n",
       "      <td>-2</td>\n",
       "    </tr>\n",
       "    <tr>\n",
       "      <th>164279</th>\n",
       "      <td>84988</td>\n",
       "      <td>13993</td>\n",
       "      <td>1</td>\n",
       "    </tr>\n",
       "    <tr>\n",
       "      <th>265094</th>\n",
       "      <td>23206</td>\n",
       "      <td>13760</td>\n",
       "      <td>-2</td>\n",
       "    </tr>\n",
       "  </tbody>\n",
       "</table>\n",
       "</div>"
      ],
      "text/plain": [
       "       StockCode  CustomerID  purchased\n",
       "214677     23206       18071         -2\n",
       "205103     22386       16644         -2\n",
       "42091      21931       16523          2\n",
       "175261     21181       14412         -2\n",
       "216758     22629       14723         -2\n",
       "148113    47566B       18221          2\n",
       "179517     23298       17800         -2\n",
       "202406     22384       15730         -2\n",
       "164279     84988       13993          1\n",
       "265094     23206       13760         -2"
      ]
     },
     "execution_count": 38,
     "metadata": {},
     "output_type": "execute_result"
    }
   ],
   "source": [
    "# Concatenate popular_non_bought with df_ratings\n",
    "df_ratings = pd.concat([df_ratings, popular_non_bought], ignore_index=True)\n",
    "\n",
    "# Check sample\n",
    "df_ratings.sample(10)"
   ]
  },
  {
   "attachments": {},
   "cell_type": "markdown",
   "metadata": {},
   "source": [
    "### 3.2. Top 3-5 Percent"
   ]
  },
  {
   "cell_type": "code",
   "execution_count": 39,
   "metadata": {},
   "outputs": [
    {
     "data": {
      "text/plain": [
       "70"
      ]
     },
     "execution_count": 39,
     "metadata": {},
     "output_type": "execute_result"
    }
   ],
   "source": [
    "# Filter Out best Items \n",
    "df_top_3_5_items = df_items[(df_items['Purchases'] >= df_items['Purchases'].quantile(0.95)) & (df_items['Purchases'] < df_items['Purchases'].quantile(0.98)) ]\n",
    "\n",
    "# Number of top Items \n",
    "df_top_3_5_items.shape[0]"
   ]
  },
  {
   "cell_type": "code",
   "execution_count": 40,
   "metadata": {},
   "outputs": [
    {
     "data": {
      "text/plain": [
       "210770"
      ]
     },
     "execution_count": 40,
     "metadata": {},
     "output_type": "execute_result"
    }
   ],
   "source": [
    "# Save top Items in an array \n",
    "top3_5_perc_items = df_top_3_5_items['StockCode'].unique()\n",
    "\n",
    "# Save all Users from df_rating in an array\n",
    "all_users = df_ratings['CustomerID'].unique()\n",
    "\n",
    "# For sanity check in the next step multiply length of both arrays. This should later be the shape of dataframe with unique combinations out of both arrays\n",
    "len(top3_5_perc_items) * len(all_users)"
   ]
  },
  {
   "cell_type": "code",
   "execution_count": 41,
   "metadata": {},
   "outputs": [
    {
     "data": {
      "text/plain": [
       "(210770, 2)"
      ]
     },
     "execution_count": 41,
     "metadata": {},
     "output_type": "execute_result"
    }
   ],
   "source": [
    "# Create Dataframe with all unique matches of top items and all users \n",
    "\n",
    "# First Create a meshgrid of all_users and top5_perc_items\n",
    "user_grid, item_grid = np.meshgrid(all_users, top3_5_perc_items, indexing='ij')\n",
    "\n",
    "# Flatten the meshgrid arrays\n",
    "user_flat = user_grid.flatten()\n",
    "item_flat = item_grid.flatten()\n",
    "\n",
    "# Create a pandas dataframe with a row for each combination of the values in all_users and top5_perc_items\n",
    "top_3_5_potential_purchases = pd.DataFrame({'CustomerID': user_flat, 'StockCode': item_flat})\n",
    "\n",
    "# Check shape: it should be 144528 \n",
    "top_3_5_potential_purchases.shape"
   ]
  },
  {
   "cell_type": "code",
   "execution_count": 42,
   "metadata": {},
   "outputs": [
    {
     "data": {
      "text/html": [
       "<div>\n",
       "<style scoped>\n",
       "    .dataframe tbody tr th:only-of-type {\n",
       "        vertical-align: middle;\n",
       "    }\n",
       "\n",
       "    .dataframe tbody tr th {\n",
       "        vertical-align: top;\n",
       "    }\n",
       "\n",
       "    .dataframe thead th {\n",
       "        text-align: right;\n",
       "    }\n",
       "</style>\n",
       "<table border=\"1\" class=\"dataframe\">\n",
       "  <thead>\n",
       "    <tr style=\"text-align: right;\">\n",
       "      <th></th>\n",
       "      <th>CustomerID</th>\n",
       "      <th>StockCode</th>\n",
       "      <th>purchased</th>\n",
       "    </tr>\n",
       "  </thead>\n",
       "  <tbody>\n",
       "    <tr>\n",
       "      <th>0</th>\n",
       "      <td>12451</td>\n",
       "      <td>20685</td>\n",
       "      <td>-1</td>\n",
       "    </tr>\n",
       "    <tr>\n",
       "      <th>1</th>\n",
       "      <td>12451</td>\n",
       "      <td>20712</td>\n",
       "      <td>-1</td>\n",
       "    </tr>\n",
       "    <tr>\n",
       "      <th>2</th>\n",
       "      <td>12451</td>\n",
       "      <td>20719</td>\n",
       "      <td>-1</td>\n",
       "    </tr>\n",
       "    <tr>\n",
       "      <th>3</th>\n",
       "      <td>12451</td>\n",
       "      <td>20723</td>\n",
       "      <td>-1</td>\n",
       "    </tr>\n",
       "    <tr>\n",
       "      <th>4</th>\n",
       "      <td>12451</td>\n",
       "      <td>20972</td>\n",
       "      <td>-1</td>\n",
       "    </tr>\n",
       "  </tbody>\n",
       "</table>\n",
       "</div>"
      ],
      "text/plain": [
       "   CustomerID StockCode  purchased\n",
       "0       12451     20685         -1\n",
       "1       12451     20712         -1\n",
       "2       12451     20719         -1\n",
       "3       12451     20723         -1\n",
       "4       12451     20972         -1"
      ]
     },
     "execution_count": 42,
     "metadata": {},
     "output_type": "execute_result"
    }
   ],
   "source": [
    "# Insert a -1 in a new column as value for all rows\n",
    "top_3_5_potential_purchases['purchased'] = -1 \n",
    "\n",
    "# Sanity check\n",
    "top_3_5_potential_purchases.head()"
   ]
  },
  {
   "cell_type": "code",
   "execution_count": 43,
   "metadata": {},
   "outputs": [
    {
     "data": {
      "text/plain": [
       "(192977, 3)"
      ]
     },
     "execution_count": 43,
     "metadata": {},
     "output_type": "execute_result"
    }
   ],
   "source": [
    "# Perform an Anti-Join between df_ratings and top_3_5_potential_purchases to find out combinations of CustomerID & StockCode that are only in top_potential purchases. Drop duplicates and concatenate to ratings\n",
    "\n",
    "# Perform the anti join by merging on 'StockCode' and 'CustomerID' using a 'left' join and adding an '_merge' indicator column\n",
    "popular_non_bought_3_5 = top_3_5_potential_purchases.merge(df_ratings, on=['StockCode', 'CustomerID'], how='left', indicator=True)\n",
    "\n",
    "# Keep only the rows where the '_merge' indicator is 'left_only', meaning they only exist in the 'df' dataframe\n",
    "popular_non_bought_3_5 = popular_non_bought_3_5[popular_non_bought_3_5['_merge'] == 'left_only']\n",
    "\n",
    "# Drop the '_merge' column and any additional columns from 'df_cancelled' that might have been added during the merge\n",
    "popular_non_bought_3_5 = popular_non_bought_3_5.drop(columns=['_merge', 'purchased_y'])\n",
    "\n",
    "# Reset the index if needed\n",
    "popular_non_bought_3_5.reset_index(drop=True, inplace=True)\n",
    "\n",
    "# Rename purchased_x to purchased\n",
    "popular_non_bought_3_5 = popular_non_bought_3_5.rename(columns={'purchased_x':'purchased'})\n",
    "\n",
    "# Check Shape after Ánti Join\n",
    "popular_non_bought_3_5.shape\n"
   ]
  },
  {
   "cell_type": "code",
   "execution_count": 44,
   "metadata": {},
   "outputs": [
    {
     "data": {
      "text/html": [
       "<div>\n",
       "<style scoped>\n",
       "    .dataframe tbody tr th:only-of-type {\n",
       "        vertical-align: middle;\n",
       "    }\n",
       "\n",
       "    .dataframe tbody tr th {\n",
       "        vertical-align: top;\n",
       "    }\n",
       "\n",
       "    .dataframe thead th {\n",
       "        text-align: right;\n",
       "    }\n",
       "</style>\n",
       "<table border=\"1\" class=\"dataframe\">\n",
       "  <thead>\n",
       "    <tr style=\"text-align: right;\">\n",
       "      <th></th>\n",
       "      <th>StockCode</th>\n",
       "      <th>CustomerID</th>\n",
       "      <th>purchased</th>\n",
       "    </tr>\n",
       "  </thead>\n",
       "  <tbody>\n",
       "    <tr>\n",
       "      <th>4080</th>\n",
       "      <td>20711</td>\n",
       "      <td>15311</td>\n",
       "      <td>2</td>\n",
       "    </tr>\n",
       "    <tr>\n",
       "      <th>386261</th>\n",
       "      <td>21166</td>\n",
       "      <td>14729</td>\n",
       "      <td>-1</td>\n",
       "    </tr>\n",
       "    <tr>\n",
       "      <th>313910</th>\n",
       "      <td>82486</td>\n",
       "      <td>17070</td>\n",
       "      <td>-1</td>\n",
       "    </tr>\n",
       "    <tr>\n",
       "      <th>149660</th>\n",
       "      <td>48184</td>\n",
       "      <td>14127</td>\n",
       "      <td>1</td>\n",
       "    </tr>\n",
       "    <tr>\n",
       "      <th>94567</th>\n",
       "      <td>22721</td>\n",
       "      <td>17454</td>\n",
       "      <td>1</td>\n",
       "    </tr>\n",
       "    <tr>\n",
       "      <th>230927</th>\n",
       "      <td>22697</td>\n",
       "      <td>17229</td>\n",
       "      <td>-2</td>\n",
       "    </tr>\n",
       "    <tr>\n",
       "      <th>247268</th>\n",
       "      <td>23201</td>\n",
       "      <td>17531</td>\n",
       "      <td>-2</td>\n",
       "    </tr>\n",
       "    <tr>\n",
       "      <th>405674</th>\n",
       "      <td>22328</td>\n",
       "      <td>16484</td>\n",
       "      <td>-1</td>\n",
       "    </tr>\n",
       "    <tr>\n",
       "      <th>168362</th>\n",
       "      <td>85099B</td>\n",
       "      <td>15835</td>\n",
       "      <td>2</td>\n",
       "    </tr>\n",
       "    <tr>\n",
       "      <th>463825</th>\n",
       "      <td>20972</td>\n",
       "      <td>17646</td>\n",
       "      <td>-1</td>\n",
       "    </tr>\n",
       "  </tbody>\n",
       "</table>\n",
       "</div>"
      ],
      "text/plain": [
       "       StockCode  CustomerID  purchased\n",
       "4080       20711       15311          2\n",
       "386261     21166       14729         -1\n",
       "313910     82486       17070         -1\n",
       "149660     48184       14127          1\n",
       "94567      22721       17454          1\n",
       "230927     22697       17229         -2\n",
       "247268     23201       17531         -2\n",
       "405674     22328       16484         -1\n",
       "168362    85099B       15835          2\n",
       "463825     20972       17646         -1"
      ]
     },
     "execution_count": 44,
     "metadata": {},
     "output_type": "execute_result"
    }
   ],
   "source": [
    "# Concatenate popular_non_bought with df_ratings\n",
    "df_ratings = pd.concat([df_ratings, popular_non_bought_3_5], ignore_index=True)\n",
    "\n",
    "# Check sample\n",
    "df_ratings.sample(10)"
   ]
  },
  {
   "cell_type": "code",
   "execution_count": 45,
   "metadata": {},
   "outputs": [
    {
     "data": {
      "text/plain": [
       "-1    192977\n",
       " 1    133510\n",
       "-2    126326\n",
       " 2     39191\n",
       "Name: purchased, dtype: int64"
      ]
     },
     "execution_count": 45,
     "metadata": {},
     "output_type": "execute_result"
    }
   ],
   "source": [
    "# Check Distribution\n",
    "df_ratings.purchased.value_counts()"
   ]
  },
  {
   "cell_type": "code",
   "execution_count": 46,
   "metadata": {},
   "outputs": [
    {
     "data": {
      "text/plain": [
       "(492004, 3)"
      ]
     },
     "execution_count": 46,
     "metadata": {},
     "output_type": "execute_result"
    }
   ],
   "source": [
    "# Number of Rows before Split\n",
    "df_ratings.shape"
   ]
  },
  {
   "cell_type": "code",
   "execution_count": 47,
   "metadata": {},
   "outputs": [
    {
     "data": {
      "image/png": "[encoded data removed]",
      "text/plain": [
       "<Figure size 800x400 with 1 Axes>"
      ]
     },
     "metadata": {},
     "output_type": "display_data"
    }
   ],
   "source": [
    "# Visualization \n",
    "dist_classes = pd.DataFrame(df_ratings.purchased.value_counts())\n",
    "dist_classes.reset_index(inplace=True)\n",
    "dist_classes.columns = ['class', 'purchased']\n",
    "\n",
    "# Apply function with lambda for the condition:\n",
    "dist_classes['class'] = dist_classes['class'].apply(lambda x: 4 if x == 2 else x)\n",
    "dist_classes['class'] = dist_classes['class'].apply(lambda x: 3 if x == 1 else x)\n",
    "dist_classes['class'] = dist_classes['class'].apply(lambda x: 2 if x == -1 else x)\n",
    "dist_classes['class'] = dist_classes['class'].apply(lambda x: 1 if x == -2 else x)\n",
    "\n",
    "\n",
    "import matplotlib.pyplot as plt\n",
    "\n",
    "plt.rcParams[\"figure.figsize\"] = (8,4)\n",
    "\n",
    "# Create a vertical bar chart\n",
    "fig, ax = plt.subplots()\n",
    "bars = ax.bar(dist_classes['class'], dist_classes['purchased'])\n",
    "\n",
    "# Display the values on the graph\n",
    "for bar in bars:\n",
    "    height = bar.get_height()\n",
    "    ax.text(bar.get_x() + bar.get_width() / 2, height, f'{height}', ha='center', va='bottom')\n",
    "\n",
    "# Set labels and title\n",
    "ax.set_xlabel('Class')\n",
    "#ax.set_ylabel('Purchased')\n",
    "ax.set_title('User-Item Transactions per Class')\n",
    "\n",
    "# Set x-axis ticks with 4 steps from 1 to 4\n",
    "ax.set_xticks(range(1, 5))\n",
    "\n",
    "# Create a mapping dictionary for custom labels\n",
    "class_labels = {\n",
    "    1: 'most negative',\n",
    "    2: 'negative',\n",
    "    3: 'positive',\n",
    "    4: 'most positive'\n",
    "}\n",
    "\n",
    "# Set custom x-axis labels and rotate them by 45 degrees\n",
    "ax.set_xticklabels([class_labels[i] for i in range(1, 5)], rotation=45)\n",
    "\n",
    "# Show the plot\n",
    "plt.show()\n"
   ]
  },
  {
   "attachments": {},
   "cell_type": "markdown",
   "metadata": {},
   "source": [
    "## 4. Item & User Encoding"
   ]
  },
  {
   "cell_type": "code",
   "execution_count": 48,
   "metadata": {},
   "outputs": [
    {
     "data": {
      "text/html": [
       "<div>\n",
       "<style scoped>\n",
       "    .dataframe tbody tr th:only-of-type {\n",
       "        vertical-align: middle;\n",
       "    }\n",
       "\n",
       "    .dataframe tbody tr th {\n",
       "        vertical-align: top;\n",
       "    }\n",
       "\n",
       "    .dataframe thead th {\n",
       "        text-align: right;\n",
       "    }\n",
       "</style>\n",
       "<table border=\"1\" class=\"dataframe\">\n",
       "  <thead>\n",
       "    <tr style=\"text-align: right;\">\n",
       "      <th></th>\n",
       "      <th>StockCode</th>\n",
       "      <th>CustomerID</th>\n",
       "      <th>purchased</th>\n",
       "    </tr>\n",
       "  </thead>\n",
       "  <tbody>\n",
       "    <tr>\n",
       "      <th>0</th>\n",
       "      <td>0</td>\n",
       "      <td>66</td>\n",
       "      <td>1</td>\n",
       "    </tr>\n",
       "    <tr>\n",
       "      <th>1</th>\n",
       "      <td>0</td>\n",
       "      <td>98</td>\n",
       "      <td>1</td>\n",
       "    </tr>\n",
       "    <tr>\n",
       "      <th>2</th>\n",
       "      <td>0</td>\n",
       "      <td>143</td>\n",
       "      <td>1</td>\n",
       "    </tr>\n",
       "    <tr>\n",
       "      <th>3</th>\n",
       "      <td>0</td>\n",
       "      <td>175</td>\n",
       "      <td>1</td>\n",
       "    </tr>\n",
       "    <tr>\n",
       "      <th>4</th>\n",
       "      <td>0</td>\n",
       "      <td>195</td>\n",
       "      <td>1</td>\n",
       "    </tr>\n",
       "  </tbody>\n",
       "</table>\n",
       "</div>"
      ],
      "text/plain": [
       "  StockCode CustomerID  purchased\n",
       "0         0         66          1\n",
       "1         0         98          1\n",
       "2         0        143          1\n",
       "3         0        175          1\n",
       "4         0        195          1"
      ]
     },
     "execution_count": 48,
     "metadata": {},
     "output_type": "execute_result"
    }
   ],
   "source": [
    "# Encoding User & Items \n",
    "\n",
    "# Import LabelEncoder\n",
    "from sklearn.preprocessing import LabelEncoder\n",
    "\n",
    "# Convert CustomerID to String\n",
    "df_ratings['CustomerID'] = df_ratings['CustomerID'].astype(str)\n",
    "\n",
    "# Set up Objects for User and Item Column\n",
    "lerat1 = LabelEncoder()\n",
    "lerat2 = LabelEncoder()\n",
    "\n",
    "# Fit the encoders to the columns in question\n",
    "lerat1.fit(df_ratings['StockCode'])\n",
    "lerat2.fit(df_ratings['CustomerID'])\n",
    "\n",
    "# Transform dataframe with encoded labels\n",
    "df_ratings['StockCode'] = lerat1.transform(df_ratings['StockCode']).astype(str)\n",
    "df_ratings['CustomerID'] = lerat2.transform(df_ratings['CustomerID']).astype(str)\n",
    "\n",
    "# Check Change \n",
    "df_ratings.head()"
   ]
  },
  {
   "attachments": {},
   "cell_type": "markdown",
   "metadata": {},
   "source": [
    "## 4. Split into Train & Test Data"
   ]
  },
  {
   "cell_type": "code",
   "execution_count": 49,
   "metadata": {},
   "outputs": [],
   "source": [
    "# Load Train Test Split \n",
    "from sklearn.model_selection import train_test_split\n",
    "# Split with Stratification \n",
    "train_rat, test_rat = train_test_split(df_ratings, stratify=df_ratings.purchased, test_size=0.2)\n"
   ]
  },
  {
   "cell_type": "code",
   "execution_count": 50,
   "metadata": {},
   "outputs": [
    {
     "name": "stdout",
     "output_type": "stream",
     "text": [
      "Users in Test: 3011\n",
      "Users in Train: 3011\n",
      "Items in Test: 2330\n",
      "Items in Train: 2349\n"
     ]
    }
   ],
   "source": [
    "#  Check number of unique Users & Items in Test & Train \n",
    "print(\"Users in Test:\",test_rat['CustomerID'].nunique())\n",
    "print(\"Users in Train:\",train_rat['CustomerID'].nunique())\n",
    "print(\"Items in Test:\",test_rat['StockCode'].nunique())\n",
    "print(\"Items in Train:\",train_rat['StockCode'].nunique())"
   ]
  },
  {
   "cell_type": "code",
   "execution_count": 51,
   "metadata": {},
   "outputs": [],
   "source": [
    "# Ensure that the same items and users are in both sets \n",
    "# Find the set of unique items in both the train and test sets\n",
    "train_items_rat = set(train_rat['StockCode'].unique())\n",
    "test_items_rat = set(test_rat['StockCode'].unique())\n",
    "\n",
    "# Find the intersection of the sets from step 1\n",
    "common_items_rat = train_items_rat.intersection(test_items_rat)\n",
    "\n",
    "# Filter the train and test sets to include only the rows with item IDs that are in the intersection set\n",
    "train_rat = train_rat[train_rat['StockCode'].isin(common_items_rat)]\n",
    "test_rat = test_rat[test_rat['StockCode'].isin(common_items_rat)]"
   ]
  },
  {
   "cell_type": "code",
   "execution_count": 52,
   "metadata": {},
   "outputs": [
    {
     "name": "stdout",
     "output_type": "stream",
     "text": [
      "Users in Test: 3011\n",
      "Users in Train: 3011\n",
      "Items in Test: 2330\n",
      "Items in Train: 2330\n"
     ]
    }
   ],
   "source": [
    "#  Check number of unique Users & Items in Test & Train AGAIN\n",
    "print(\"Users in Test:\",test_rat['CustomerID'].nunique())\n",
    "print(\"Users in Train:\",train_rat['CustomerID'].nunique())\n",
    "print(\"Items in Test:\",test_rat['StockCode'].nunique())\n",
    "print(\"Items in Train:\",train_rat['StockCode'].nunique())"
   ]
  },
  {
   "cell_type": "code",
   "execution_count": 53,
   "metadata": {},
   "outputs": [
    {
     "name": "stdout",
     "output_type": "stream",
     "text": [
      "Rows in train: 393334\n",
      "Rows in test: 98401\n"
     ]
    }
   ],
   "source": [
    "# Rows in Train & Test\n",
    "print(\"Rows in train:\", train_rat.shape[0])\n",
    "print(\"Rows in test:\", test_rat.shape[0])"
   ]
  },
  {
   "cell_type": "code",
   "execution_count": 54,
   "metadata": {},
   "outputs": [
    {
     "data": {
      "text/plain": [
       "491735"
      ]
     },
     "execution_count": 54,
     "metadata": {},
     "output_type": "execute_result"
    }
   ],
   "source": [
    "train_rat.shape[0] + test_rat.shape[0]"
   ]
  },
  {
   "cell_type": "code",
   "execution_count": 55,
   "metadata": {},
   "outputs": [],
   "source": [
    "# Save as csv \n",
    "train_rat.to_csv('../00_Data/rec_sys_ratings_train.csv')\n",
    "test_rat.to_csv('../00_Data/rec_sys_ratings_test.csv')"
   ]
  },
  {
   "cell_type": "code",
   "execution_count": 56,
   "metadata": {},
   "outputs": [
    {
     "data": {
      "text/plain": [
       "[Text(0.5, 0, 'ratings'), Text(0, 0.5, 'density')]"
      ]
     },
     "execution_count": 56,
     "metadata": {},
     "output_type": "execute_result"
    },
    {
     "data": {
      "image/png": "[encoded data removed]",
      "text/plain": [
       "<Figure size 800x300 with 2 Axes>"
      ]
     },
     "metadata": {},
     "output_type": "display_data"
    }
   ],
   "source": [
    "# Copy Train and Test \n",
    "train_rat_copy = train_rat.copy()\n",
    "test_rat_copy = test_rat.copy() \n",
    "\n",
    "# Change values for Train\n",
    "train_rat_copy['purchased'] = train_rat_copy['purchased'].apply(lambda x: 4 if x == 2 else x)\n",
    "train_rat_copy['purchased'] = train_rat_copy['purchased'].apply(lambda x: 3 if x == 1 else x)\n",
    "train_rat_copy['purchased'] = train_rat_copy['purchased'].apply(lambda x: 2 if x == -1 else x)\n",
    "train_rat_copy['purchased'] = train_rat_copy['purchased'].apply(lambda x: 1 if x == -2 else x) \n",
    "\n",
    "# Change values for Test \n",
    "test_rat_copy['purchased'] = test_rat_copy['purchased'].apply(lambda x: 4 if x == 2 else x)\n",
    "test_rat_copy['purchased'] = test_rat_copy['purchased'].apply(lambda x: 3 if x == 1 else x)\n",
    "test_rat_copy['purchased'] = test_rat_copy['purchased'].apply(lambda x: 2 if x == -1 else x)\n",
    "test_rat_copy['purchased'] = test_rat_copy['purchased'].apply(lambda x: 1 if x == -2 else x) \n",
    "\n",
    "# Density Histogram\n",
    "_, (ax1m, ax2m) = plt.subplots(1, 2, sharey=True, figsize=(8,3))\n",
    "ax1m.hist(train_rat_copy['purchased'], 4, density= True)\n",
    "ax1m.set_title('Train')\n",
    "ax1m.set(xlabel=\"ratings\", ylabel=\"density\")\n",
    "ax2m.hist(test_rat_copy['purchased'], 4, density= True)\n",
    "ax2m.set_title('Test')\n",
    "ax2m.set(xlabel=\"ratings\", ylabel=\"density\")"
   ]
  }
 ],
 "metadata": {
  "kernelspec": {
   "display_name": "recom",
   "language": "python",
   "name": "python3"
  },
  "language_info": {
   "codemirror_mode": {
    "name": "ipython",
    "version": 3
   },
   "file_extension": ".py",
   "mimetype": "text/x-python",
   "name": "python",
   "nbconvert_exporter": "python",
   "pygments_lexer": "ipython3",
   "version": "3.9.16"
  },
  "orig_nbformat": 4,
  "vscode": {
   "interpreter": {
    "hash": "17afcd9f6960de0a3656d2c4c5dd434deed0eab3cd38c55c3169df3bef50250d"
   }
  }
 },
 "nbformat": 4,
 "nbformat_minor": 2
}
