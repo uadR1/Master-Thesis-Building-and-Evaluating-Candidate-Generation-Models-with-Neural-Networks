{
 "cells": [
  {
   "attachments": {},
   "cell_type": "markdown",
   "metadata": {},
   "source": [
    "# Loading Libraries"
   ]
  },
  {
   "cell_type": "code",
   "execution_count": 1,
   "metadata": {},
   "outputs": [],
   "source": [
    "import pandas as pd\n",
    "import numpy as np\n",
    "import seaborn as sns\n",
    "import matplotlib.pyplot as plt\n",
    "import matplotlib.style"
   ]
  },
  {
   "attachments": {},
   "cell_type": "markdown",
   "metadata": {},
   "source": [
    "# Loading the Dataset"
   ]
  },
  {
   "cell_type": "code",
   "execution_count": 3,
   "metadata": {},
   "outputs": [
    {
     "data": {
      "text/html": [
       "<div>\n",
       "<style scoped>\n",
       "    .dataframe tbody tr th:only-of-type {\n",
       "        vertical-align: middle;\n",
       "    }\n",
       "\n",
       "    .dataframe tbody tr th {\n",
       "        vertical-align: top;\n",
       "    }\n",
       "\n",
       "    .dataframe thead th {\n",
       "        text-align: right;\n",
       "    }\n",
       "</style>\n",
       "<table border=\"1\" class=\"dataframe\">\n",
       "  <thead>\n",
       "    <tr style=\"text-align: right;\">\n",
       "      <th></th>\n",
       "      <th>InvoiceNo</th>\n",
       "      <th>StockCode</th>\n",
       "      <th>Quantity</th>\n",
       "      <th>InvoiceDate</th>\n",
       "      <th>DeliveryDate</th>\n",
       "      <th>Discount%</th>\n",
       "      <th>ShipMode</th>\n",
       "      <th>ShippingCost</th>\n",
       "      <th>CustomerID</th>\n",
       "      <th>Gender</th>\n",
       "      <th>...</th>\n",
       "      <th>Income</th>\n",
       "      <th>Zipcode</th>\n",
       "      <th>Customer Segment</th>\n",
       "      <th>Product Name</th>\n",
       "      <th>Description</th>\n",
       "      <th>Category</th>\n",
       "      <th>Brand</th>\n",
       "      <th>Unit Price</th>\n",
       "      <th>Num_word_text</th>\n",
       "      <th>Num_word_cat</th>\n",
       "    </tr>\n",
       "  </thead>\n",
       "  <tbody>\n",
       "    <tr>\n",
       "      <th>0</th>\n",
       "      <td>536365</td>\n",
       "      <td>84029E</td>\n",
       "      <td>6</td>\n",
       "      <td>2010-12-01 08:26:00</td>\n",
       "      <td>2010-12-02 08:26:00</td>\n",
       "      <td>0.20</td>\n",
       "      <td>ExpressAir</td>\n",
       "      <td>30.12</td>\n",
       "      <td>17850</td>\n",
       "      <td>female</td>\n",
       "      <td>...</td>\n",
       "      <td>Medium</td>\n",
       "      <td>84306</td>\n",
       "      <td>Middle class</td>\n",
       "      <td>3 1/2\"W x 20\"D x 20\"H Funston Craftsman Smooth...</td>\n",
       "      <td>Our Rustic Collection is an instant classic. O...</td>\n",
       "      <td>Home Improvement|Hardware|Brackets and Angle I...</td>\n",
       "      <td>Ekena Milwork</td>\n",
       "      <td>199.11</td>\n",
       "      <td>129.0</td>\n",
       "      <td>9.0</td>\n",
       "    </tr>\n",
       "    <tr>\n",
       "      <th>1</th>\n",
       "      <td>536365</td>\n",
       "      <td>71053</td>\n",
       "      <td>6</td>\n",
       "      <td>2010-12-01 08:26:00</td>\n",
       "      <td>2010-12-02 08:26:00</td>\n",
       "      <td>0.21</td>\n",
       "      <td>ExpressAir</td>\n",
       "      <td>30.12</td>\n",
       "      <td>17850</td>\n",
       "      <td>female</td>\n",
       "      <td>...</td>\n",
       "      <td>Medium</td>\n",
       "      <td>84306</td>\n",
       "      <td>Middle class</td>\n",
       "      <td>Awkward Styles Shamrock Flag St. Patrick's Day...</td>\n",
       "      <td>Our St Patrick's Day Collection is perfect for...</td>\n",
       "      <td>Clothing|Men|Mens T-Shirts &amp; Tank Tops|Mens Gr...</td>\n",
       "      <td>Awkward Styles</td>\n",
       "      <td>23.95</td>\n",
       "      <td>150.0</td>\n",
       "      <td>7.0</td>\n",
       "    </tr>\n",
       "    <tr>\n",
       "      <th>2</th>\n",
       "      <td>536365</td>\n",
       "      <td>21730</td>\n",
       "      <td>6</td>\n",
       "      <td>2010-12-01 08:26:00</td>\n",
       "      <td>2010-12-03 08:26:00</td>\n",
       "      <td>0.56</td>\n",
       "      <td>Regular Air</td>\n",
       "      <td>15.22</td>\n",
       "      <td>17850</td>\n",
       "      <td>female</td>\n",
       "      <td>...</td>\n",
       "      <td>Medium</td>\n",
       "      <td>84306</td>\n",
       "      <td>Middle class</td>\n",
       "      <td>Ebe Men Black Rectangle Half Rim Spring Hinge ...</td>\n",
       "      <td>Count on EBE for all of your eye correction ne...</td>\n",
       "      <td>Health|Home Health Care|Daily Living Aids</td>\n",
       "      <td>Eye Buy Express</td>\n",
       "      <td>26.99</td>\n",
       "      <td>176.0</td>\n",
       "      <td>5.0</td>\n",
       "    </tr>\n",
       "    <tr>\n",
       "      <th>3</th>\n",
       "      <td>536365</td>\n",
       "      <td>84406B</td>\n",
       "      <td>8</td>\n",
       "      <td>2010-12-01 08:26:00</td>\n",
       "      <td>2010-12-03 08:26:00</td>\n",
       "      <td>0.30</td>\n",
       "      <td>Regular Air</td>\n",
       "      <td>15.22</td>\n",
       "      <td>17850</td>\n",
       "      <td>female</td>\n",
       "      <td>...</td>\n",
       "      <td>Medium</td>\n",
       "      <td>84306</td>\n",
       "      <td>Middle class</td>\n",
       "      <td>MightySkins Skin Decal Wrap Compatible with Ap...</td>\n",
       "      <td>Mightyskins are removable vinyl skins for prot...</td>\n",
       "      <td>Electronics|Electronics Learning Center|Ads Fr...</td>\n",
       "      <td>Mightyskins</td>\n",
       "      <td>14.99</td>\n",
       "      <td>118.0</td>\n",
       "      <td>6.0</td>\n",
       "    </tr>\n",
       "    <tr>\n",
       "      <th>4</th>\n",
       "      <td>536365</td>\n",
       "      <td>22752</td>\n",
       "      <td>2</td>\n",
       "      <td>2010-12-01 08:26:00</td>\n",
       "      <td>2010-12-04 08:26:00</td>\n",
       "      <td>0.57</td>\n",
       "      <td>Delivery Truck</td>\n",
       "      <td>5.81</td>\n",
       "      <td>17850</td>\n",
       "      <td>female</td>\n",
       "      <td>...</td>\n",
       "      <td>Medium</td>\n",
       "      <td>84306</td>\n",
       "      <td>Middle class</td>\n",
       "      <td>awesome since 1948 - 69th birthday gift t-shir...</td>\n",
       "      <td>awesome since 1948 - 69th birthday gift t-shir...</td>\n",
       "      <td>Clothing|Men|Mens T-Shirts &amp; Tank Tops|Mens T-...</td>\n",
       "      <td>Shirtinvaders</td>\n",
       "      <td>49.33</td>\n",
       "      <td>20.0</td>\n",
       "      <td>6.0</td>\n",
       "    </tr>\n",
       "  </tbody>\n",
       "</table>\n",
       "<p>5 rows × 21 columns</p>\n",
       "</div>"
      ],
      "text/plain": [
       "   InvoiceNo StockCode  Quantity          InvoiceDate         DeliveryDate  \\\n",
       "0     536365    84029E         6  2010-12-01 08:26:00  2010-12-02 08:26:00   \n",
       "1     536365     71053         6  2010-12-01 08:26:00  2010-12-02 08:26:00   \n",
       "2     536365     21730         6  2010-12-01 08:26:00  2010-12-03 08:26:00   \n",
       "3     536365    84406B         8  2010-12-01 08:26:00  2010-12-03 08:26:00   \n",
       "4     536365     22752         2  2010-12-01 08:26:00  2010-12-04 08:26:00   \n",
       "\n",
       "   Discount%        ShipMode  ShippingCost  CustomerID  Gender  ...  Income  \\\n",
       "0       0.20      ExpressAir         30.12       17850  female  ...  Medium   \n",
       "1       0.21      ExpressAir         30.12       17850  female  ...  Medium   \n",
       "2       0.56     Regular Air         15.22       17850  female  ...  Medium   \n",
       "3       0.30     Regular Air         15.22       17850  female  ...  Medium   \n",
       "4       0.57  Delivery Truck          5.81       17850  female  ...  Medium   \n",
       "\n",
       "  Zipcode  Customer Segment  \\\n",
       "0   84306      Middle class   \n",
       "1   84306      Middle class   \n",
       "2   84306      Middle class   \n",
       "3   84306      Middle class   \n",
       "4   84306      Middle class   \n",
       "\n",
       "                                        Product Name  \\\n",
       "0  3 1/2\"W x 20\"D x 20\"H Funston Craftsman Smooth...   \n",
       "1  Awkward Styles Shamrock Flag St. Patrick's Day...   \n",
       "2  Ebe Men Black Rectangle Half Rim Spring Hinge ...   \n",
       "3  MightySkins Skin Decal Wrap Compatible with Ap...   \n",
       "4  awesome since 1948 - 69th birthday gift t-shir...   \n",
       "\n",
       "                                         Description  \\\n",
       "0  Our Rustic Collection is an instant classic. O...   \n",
       "1  Our St Patrick's Day Collection is perfect for...   \n",
       "2  Count on EBE for all of your eye correction ne...   \n",
       "3  Mightyskins are removable vinyl skins for prot...   \n",
       "4  awesome since 1948 - 69th birthday gift t-shir...   \n",
       "\n",
       "                                            Category            Brand  \\\n",
       "0  Home Improvement|Hardware|Brackets and Angle I...    Ekena Milwork   \n",
       "1  Clothing|Men|Mens T-Shirts & Tank Tops|Mens Gr...   Awkward Styles   \n",
       "2          Health|Home Health Care|Daily Living Aids  Eye Buy Express   \n",
       "3  Electronics|Electronics Learning Center|Ads Fr...      Mightyskins   \n",
       "4  Clothing|Men|Mens T-Shirts & Tank Tops|Mens T-...    Shirtinvaders   \n",
       "\n",
       "  Unit Price  Num_word_text  Num_word_cat  \n",
       "0     199.11          129.0           9.0  \n",
       "1      23.95          150.0           7.0  \n",
       "2      26.99          176.0           5.0  \n",
       "3      14.99          118.0           6.0  \n",
       "4      49.33           20.0           6.0  \n",
       "\n",
       "[5 rows x 21 columns]"
      ]
     },
     "execution_count": 3,
     "metadata": {},
     "output_type": "execute_result"
    }
   ],
   "source": [
    "# Reading Data # First Column is the index\n",
    "df = pd.read_csv('../00_Data/Rec_Sys_precleaned.csv', index_col=0)\n",
    "\n",
    "# First five rows\n",
    "df.head()"
   ]
  },
  {
   "cell_type": "code",
   "execution_count": 4,
   "metadata": {},
   "outputs": [
    {
     "data": {
      "text/plain": [
       "(245898, 21)"
      ]
     },
     "execution_count": 4,
     "metadata": {},
     "output_type": "execute_result"
    }
   ],
   "source": [
    "# Shape of data\n",
    "df.shape"
   ]
  },
  {
   "attachments": {},
   "cell_type": "markdown",
   "metadata": {},
   "source": [
    "# Preparation: Binary Dataset"
   ]
  },
  {
   "attachments": {},
   "cell_type": "markdown",
   "metadata": {},
   "source": [
    "Main Steps\n",
    "1. Aggregate all User - Item Interactions & Create Flag Column for Purchases\n",
    "2. Split into Train & Test Data"
   ]
  },
  {
   "attachments": {},
   "cell_type": "markdown",
   "metadata": {},
   "source": [
    "## 1. User - Item Aggregation & Flag Column"
   ]
  },
  {
   "cell_type": "code",
   "execution_count": 5,
   "metadata": {},
   "outputs": [
    {
     "data": {
      "text/html": [
       "<div>\n",
       "<style scoped>\n",
       "    .dataframe tbody tr th:only-of-type {\n",
       "        vertical-align: middle;\n",
       "    }\n",
       "\n",
       "    .dataframe tbody tr th {\n",
       "        vertical-align: top;\n",
       "    }\n",
       "\n",
       "    .dataframe thead th {\n",
       "        text-align: right;\n",
       "    }\n",
       "</style>\n",
       "<table border=\"1\" class=\"dataframe\">\n",
       "  <thead>\n",
       "    <tr style=\"text-align: right;\">\n",
       "      <th></th>\n",
       "      <th>StockCode</th>\n",
       "      <th>CustomerID</th>\n",
       "      <th>purchased</th>\n",
       "    </tr>\n",
       "  </thead>\n",
       "  <tbody>\n",
       "    <tr>\n",
       "      <th>0</th>\n",
       "      <td>10002</td>\n",
       "      <td>12451</td>\n",
       "      <td>1</td>\n",
       "    </tr>\n",
       "    <tr>\n",
       "      <th>1</th>\n",
       "      <td>10002</td>\n",
       "      <td>12510</td>\n",
       "      <td>1</td>\n",
       "    </tr>\n",
       "    <tr>\n",
       "      <th>2</th>\n",
       "      <td>10002</td>\n",
       "      <td>12583</td>\n",
       "      <td>1</td>\n",
       "    </tr>\n",
       "    <tr>\n",
       "      <th>3</th>\n",
       "      <td>10002</td>\n",
       "      <td>12637</td>\n",
       "      <td>1</td>\n",
       "    </tr>\n",
       "    <tr>\n",
       "      <th>4</th>\n",
       "      <td>10002</td>\n",
       "      <td>12673</td>\n",
       "      <td>1</td>\n",
       "    </tr>\n",
       "  </tbody>\n",
       "</table>\n",
       "</div>"
      ],
      "text/plain": [
       "  StockCode  CustomerID  purchased\n",
       "0     10002       12451          1\n",
       "1     10002       12510          1\n",
       "2     10002       12583          1\n",
       "3     10002       12637          1\n",
       "4     10002       12673          1"
      ]
     },
     "execution_count": 5,
     "metadata": {},
     "output_type": "execute_result"
    }
   ],
   "source": [
    "# Aggregate count of unique User & Item combinations\n",
    "df_binary = df.groupby(['StockCode', 'CustomerID']).agg({'CustomerID': 'count'})\n",
    "\n",
    "# Rename Columns \n",
    "df_binary.columns = ['purchased']\n",
    "\n",
    "# Reset Index\n",
    "df_binary.reset_index(inplace=True)\n",
    "\n",
    "# Set all purchases to 1 \n",
    "df_binary['purchased'] = 1 \n",
    "\n",
    "# Check first five columns\n",
    "df_binary.head()"
   ]
  },
  {
   "cell_type": "code",
   "execution_count": 6,
   "metadata": {},
   "outputs": [
    {
     "data": {
      "text/plain": [
       "count    172701.0\n",
       "mean          1.0\n",
       "std           0.0\n",
       "min           1.0\n",
       "25%           1.0\n",
       "50%           1.0\n",
       "75%           1.0\n",
       "max           1.0\n",
       "Name: purchased, dtype: float64"
      ]
     },
     "execution_count": 6,
     "metadata": {},
     "output_type": "execute_result"
    }
   ],
   "source": [
    "# Sanity Check \n",
    "df_binary.purchased.describe()"
   ]
  },
  {
   "attachments": {},
   "cell_type": "markdown",
   "metadata": {},
   "source": [
    "## 2. Split into Train & Test Data"
   ]
  },
  {
   "cell_type": "code",
   "execution_count": 7,
   "metadata": {},
   "outputs": [],
   "source": [
    "# Load the Python Splitter\n",
    "from recommenders.datasets.python_splitters import python_stratified_split"
   ]
  },
  {
   "cell_type": "code",
   "execution_count": 8,
   "metadata": {},
   "outputs": [],
   "source": [
    "# Split into Train & Test \n",
    "train, test = python_stratified_split(df_binary, ratio=0.8, filter_by='user', min_rating=10, col_user='CustomerID', col_item='StockCode', seed=1)"
   ]
  },
  {
   "cell_type": "code",
   "execution_count": 9,
   "metadata": {},
   "outputs": [
    {
     "name": "stdout",
     "output_type": "stream",
     "text": [
      "Users Train: \t 3011\n",
      "Items Train: \t 2349\n",
      "Users Test: \t 3011\n",
      "Items Test: \t 2307\n"
     ]
    }
   ],
   "source": [
    "# Sanity Check number of unique Users & Items in Train - If numbers differ, this means the stratified split \n",
    "print(\"Users Train: \\t\",train['CustomerID'].nunique())\n",
    "print(\"Items Train: \\t\",train['StockCode'].nunique())\n",
    "# Sanity Check number of unique Users & Items in Test\n",
    "print(\"Users Test: \\t\",test['CustomerID'].nunique())\n",
    "print(\"Items Test: \\t\",test['StockCode'].nunique())"
   ]
  },
  {
   "cell_type": "code",
   "execution_count": 10,
   "metadata": {},
   "outputs": [],
   "source": [
    "# Ensure that the same items and users are in both sets \n",
    "# Find the set of unique items in both the train and test sets\n",
    "train_items = set(train['StockCode'].unique())\n",
    "test_items = set(test['StockCode'].unique())\n",
    "\n",
    "# Find the intersection of the sets from step 1\n",
    "common_items = train_items.intersection(test_items)\n",
    "\n",
    "# Filter the train and test sets to include only the rows with item IDs that are in the intersection set\n",
    "train = train[train['StockCode'].isin(common_items)]\n",
    "test = test[test['StockCode'].isin(common_items)]"
   ]
  },
  {
   "cell_type": "code",
   "execution_count": 12,
   "metadata": {},
   "outputs": [
    {
     "name": "stdout",
     "output_type": "stream",
     "text": [
      "Users Train: \t 3011\n",
      "Items Train: \t 2307\n",
      "Users Test: \t 3011\n",
      "Items Test: \t 2307\n"
     ]
    }
   ],
   "source": [
    "# Sanity Check number of unique Users & Items in Train\n",
    "print(\"Users Train: \\t\",train['CustomerID'].nunique())\n",
    "print(\"Items Train: \\t\",train['StockCode'].nunique())\n",
    "# Sanity Check number of unique Users & Items in Test\n",
    "print(\"Users Test: \\t\",test['CustomerID'].nunique())\n",
    "print(\"Items Test: \\t\",test['StockCode'].nunique())"
   ]
  },
  {
   "cell_type": "code",
   "execution_count": 13,
   "metadata": {},
   "outputs": [
    {
     "name": "stdout",
     "output_type": "stream",
     "text": [
      "Shape of Train: (137627, 3)\n",
      "Shape of Test: \t (34505, 3)\n"
     ]
    }
   ],
   "source": [
    "# Shapes to Check \n",
    "print(\"Shape of Train:\", train.shape)\n",
    "print(\"Shape of Test: \\t\", test.shape)"
   ]
  },
  {
   "cell_type": "code",
   "execution_count": 14,
   "metadata": {},
   "outputs": [],
   "source": [
    "# Save as csv \n",
    "train.to_csv('../00_Data/rec_sys_binary_train.csv')\n",
    "test.to_csv('../00_Data/rec_sys_binary_test.csv')"
   ]
  },
  {
   "attachments": {},
   "cell_type": "markdown",
   "metadata": {},
   "source": [
    "# Preparation: Pseudo-Rating Dataset"
   ]
  },
  {
   "attachments": {},
   "cell_type": "markdown",
   "metadata": {},
   "source": [
    "Main Steps\n",
    "\n",
    "1. Aggregate all User - Item Interactions & Create Flag Column for Purchases\n",
    "2. Increase value of repurchased items\n",
    "3. Insert negative value for non-purchased popular items\n",
    "4. Split into Train & Test Data"
   ]
  },
  {
   "attachments": {},
   "cell_type": "markdown",
   "metadata": {},
   "source": [
    "## 1. Aggregate Count of Unique User & Item Interactions"
   ]
  },
  {
   "cell_type": "code",
   "execution_count": 17,
   "metadata": {},
   "outputs": [
    {
     "data": {
      "text/html": [
       "<div>\n",
       "<style scoped>\n",
       "    .dataframe tbody tr th:only-of-type {\n",
       "        vertical-align: middle;\n",
       "    }\n",
       "\n",
       "    .dataframe tbody tr th {\n",
       "        vertical-align: top;\n",
       "    }\n",
       "\n",
       "    .dataframe thead th {\n",
       "        text-align: right;\n",
       "    }\n",
       "</style>\n",
       "<table border=\"1\" class=\"dataframe\">\n",
       "  <thead>\n",
       "    <tr style=\"text-align: right;\">\n",
       "      <th></th>\n",
       "      <th>StockCode</th>\n",
       "      <th>CustomerID</th>\n",
       "      <th>purchased</th>\n",
       "    </tr>\n",
       "  </thead>\n",
       "  <tbody>\n",
       "    <tr>\n",
       "      <th>0</th>\n",
       "      <td>10002</td>\n",
       "      <td>12451</td>\n",
       "      <td>1</td>\n",
       "    </tr>\n",
       "    <tr>\n",
       "      <th>1</th>\n",
       "      <td>10002</td>\n",
       "      <td>12510</td>\n",
       "      <td>1</td>\n",
       "    </tr>\n",
       "    <tr>\n",
       "      <th>2</th>\n",
       "      <td>10002</td>\n",
       "      <td>12583</td>\n",
       "      <td>1</td>\n",
       "    </tr>\n",
       "    <tr>\n",
       "      <th>3</th>\n",
       "      <td>10002</td>\n",
       "      <td>12637</td>\n",
       "      <td>1</td>\n",
       "    </tr>\n",
       "    <tr>\n",
       "      <th>4</th>\n",
       "      <td>10002</td>\n",
       "      <td>12673</td>\n",
       "      <td>1</td>\n",
       "    </tr>\n",
       "  </tbody>\n",
       "</table>\n",
       "</div>"
      ],
      "text/plain": [
       "  StockCode  CustomerID  purchased\n",
       "0     10002       12451          1\n",
       "1     10002       12510          1\n",
       "2     10002       12583          1\n",
       "3     10002       12637          1\n",
       "4     10002       12673          1"
      ]
     },
     "execution_count": 17,
     "metadata": {},
     "output_type": "execute_result"
    }
   ],
   "source": [
    "# Aggregate count of unique User & Item combinations\n",
    "df_ratings = df.groupby(['StockCode', 'CustomerID']).agg({'CustomerID': 'count'})\n",
    "\n",
    "# Rename the columns\n",
    "df_ratings.columns = ['purchased']\n",
    "\n",
    "# Reset the index\n",
    "df_ratings.reset_index(inplace=True)\n",
    "\n",
    "# Check first five rows \n",
    "df_ratings.head()"
   ]
  },
  {
   "cell_type": "code",
   "execution_count": 19,
   "metadata": {},
   "outputs": [
    {
     "data": {
      "text/plain": [
       "39191"
      ]
     },
     "execution_count": 19,
     "metadata": {},
     "output_type": "execute_result"
    }
   ],
   "source": [
    "# How many interaction took place more than once? \n",
    "len(df_ratings[df_ratings['purchased']>1])"
   ]
  },
  {
   "attachments": {},
   "cell_type": "markdown",
   "metadata": {},
   "source": [
    "## 2. Increase Value of Re-Purchased Items"
   ]
  },
  {
   "cell_type": "code",
   "execution_count": 18,
   "metadata": {},
   "outputs": [
    {
     "data": {
      "text/plain": [
       "1    133510\n",
       "2     39191\n",
       "Name: purchased, dtype: int64"
      ]
     },
     "execution_count": 18,
     "metadata": {},
     "output_type": "execute_result"
    }
   ],
   "source": [
    "# Apply function with lambda for the condition: If x in purchased <=1 x, else 2 \n",
    "df_ratings['purchased'] = df_ratings['purchased'].apply(lambda x: x if x <= 1 else 2)\n",
    "\n",
    "# Check Distribution\n",
    "df_ratings.purchased.value_counts()"
   ]
  },
  {
   "cell_type": "code",
   "execution_count": 21,
   "metadata": {},
   "outputs": [
    {
     "data": {
      "text/html": [
       "<div>\n",
       "<style scoped>\n",
       "    .dataframe tbody tr th:only-of-type {\n",
       "        vertical-align: middle;\n",
       "    }\n",
       "\n",
       "    .dataframe tbody tr th {\n",
       "        vertical-align: top;\n",
       "    }\n",
       "\n",
       "    .dataframe thead th {\n",
       "        text-align: right;\n",
       "    }\n",
       "</style>\n",
       "<table border=\"1\" class=\"dataframe\">\n",
       "  <thead>\n",
       "    <tr style=\"text-align: right;\">\n",
       "      <th></th>\n",
       "      <th>StockCode</th>\n",
       "      <th>CustomerID</th>\n",
       "      <th>purchased</th>\n",
       "    </tr>\n",
       "  </thead>\n",
       "  <tbody>\n",
       "    <tr>\n",
       "      <th>36037</th>\n",
       "      <td>21811</td>\n",
       "      <td>17338</td>\n",
       "      <td>1</td>\n",
       "    </tr>\n",
       "    <tr>\n",
       "      <th>165176</th>\n",
       "      <td>84997B</td>\n",
       "      <td>12501</td>\n",
       "      <td>1</td>\n",
       "    </tr>\n",
       "    <tr>\n",
       "      <th>85962</th>\n",
       "      <td>22626</td>\n",
       "      <td>17419</td>\n",
       "      <td>2</td>\n",
       "    </tr>\n",
       "    <tr>\n",
       "      <th>21080</th>\n",
       "      <td>21260</td>\n",
       "      <td>17932</td>\n",
       "      <td>1</td>\n",
       "    </tr>\n",
       "    <tr>\n",
       "      <th>131530</th>\n",
       "      <td>23209</td>\n",
       "      <td>16458</td>\n",
       "      <td>2</td>\n",
       "    </tr>\n",
       "    <tr>\n",
       "      <th>25573</th>\n",
       "      <td>21481</td>\n",
       "      <td>15044</td>\n",
       "      <td>2</td>\n",
       "    </tr>\n",
       "    <tr>\n",
       "      <th>157702</th>\n",
       "      <td>84378</td>\n",
       "      <td>15236</td>\n",
       "      <td>1</td>\n",
       "    </tr>\n",
       "    <tr>\n",
       "      <th>151574</th>\n",
       "      <td>72351B</td>\n",
       "      <td>13668</td>\n",
       "      <td>1</td>\n",
       "    </tr>\n",
       "    <tr>\n",
       "      <th>132311</th>\n",
       "      <td>23230</td>\n",
       "      <td>13752</td>\n",
       "      <td>1</td>\n",
       "    </tr>\n",
       "    <tr>\n",
       "      <th>29056</th>\n",
       "      <td>21578</td>\n",
       "      <td>15205</td>\n",
       "      <td>1</td>\n",
       "    </tr>\n",
       "  </tbody>\n",
       "</table>\n",
       "</div>"
      ],
      "text/plain": [
       "       StockCode  CustomerID  purchased\n",
       "36037      21811       17338          1\n",
       "165176    84997B       12501          1\n",
       "85962      22626       17419          2\n",
       "21080      21260       17932          1\n",
       "131530     23209       16458          2\n",
       "25573      21481       15044          2\n",
       "157702     84378       15236          1\n",
       "151574    72351B       13668          1\n",
       "132311     23230       13752          1\n",
       "29056      21578       15205          1"
      ]
     },
     "execution_count": 21,
     "metadata": {},
     "output_type": "execute_result"
    }
   ],
   "source": [
    "# Check random sample\n",
    "df_ratings.sample(10)"
   ]
  },
  {
   "attachments": {},
   "cell_type": "markdown",
   "metadata": {},
   "source": [
    "## 3. Insert negative value for non-purchased popular items"
   ]
  },
  {
   "cell_type": "code",
   "execution_count": 24,
   "metadata": {},
   "outputs": [
    {
     "data": {
      "text/html": [
       "<div>\n",
       "<style scoped>\n",
       "    .dataframe tbody tr th:only-of-type {\n",
       "        vertical-align: middle;\n",
       "    }\n",
       "\n",
       "    .dataframe tbody tr th {\n",
       "        vertical-align: top;\n",
       "    }\n",
       "\n",
       "    .dataframe thead th {\n",
       "        text-align: right;\n",
       "    }\n",
       "</style>\n",
       "<table border=\"1\" class=\"dataframe\">\n",
       "  <thead>\n",
       "    <tr style=\"text-align: right;\">\n",
       "      <th></th>\n",
       "      <th>StockCode</th>\n",
       "      <th>Purchases</th>\n",
       "    </tr>\n",
       "  </thead>\n",
       "  <tbody>\n",
       "    <tr>\n",
       "      <th>2274</th>\n",
       "      <td>85123A</td>\n",
       "      <td>1565</td>\n",
       "    </tr>\n",
       "    <tr>\n",
       "      <th>979</th>\n",
       "      <td>22423</td>\n",
       "      <td>1318</td>\n",
       "    </tr>\n",
       "    <tr>\n",
       "      <th>1929</th>\n",
       "      <td>47566</td>\n",
       "      <td>1195</td>\n",
       "    </tr>\n",
       "    <tr>\n",
       "      <th>2267</th>\n",
       "      <td>85099B</td>\n",
       "      <td>1184</td>\n",
       "    </tr>\n",
       "    <tr>\n",
       "      <th>2167</th>\n",
       "      <td>84879</td>\n",
       "      <td>1008</td>\n",
       "    </tr>\n",
       "  </tbody>\n",
       "</table>\n",
       "</div>"
      ],
      "text/plain": [
       "     StockCode  Purchases\n",
       "2274    85123A       1565\n",
       "979      22423       1318\n",
       "1929     47566       1195\n",
       "2267    85099B       1184\n",
       "2167     84879       1008"
      ]
     },
     "execution_count": 24,
     "metadata": {},
     "output_type": "execute_result"
    }
   ],
   "source": [
    "# First Count number of Purchases per Item in the initial Dataset \n",
    "df_items = df.groupby('StockCode').agg({'StockCode': 'count'})\n",
    "\n",
    "# Rename the columns\n",
    "df_items.columns = ['Purchases']\n",
    "\n",
    "# Reset the index\n",
    "df_items.reset_index(inplace=True)\n",
    "\n",
    "# Show first five rows\n",
    "df_items.sort_values(by='Purchases', ascending=False).head()"
   ]
  },
  {
   "attachments": {},
   "cell_type": "markdown",
   "metadata": {},
   "source": [
    "### 3.1. Top 2 Percent"
   ]
  },
  {
   "cell_type": "code",
   "execution_count": 25,
   "metadata": {},
   "outputs": [
    {
     "data": {
      "text/plain": [
       "48"
      ]
     },
     "execution_count": 25,
     "metadata": {},
     "output_type": "execute_result"
    }
   ],
   "source": [
    "# Filter Out best Items \n",
    "df_top2_items = df_items[df_items['Purchases'] >= df_items['Purchases'].quantile(0.98)]\n",
    "\n",
    "# Number of top Items \n",
    "df_top2_items.shape[0]"
   ]
  },
  {
   "cell_type": "code",
   "execution_count": 27,
   "metadata": {},
   "outputs": [],
   "source": [
    "# Save top Items in an array \n",
    "top2_perc_items = df_top2_items['StockCode'].unique()\n",
    "\n",
    "# Save all Users from df_rating in an array\n",
    "all_users = df_ratings['CustomerID'].unique()"
   ]
  },
  {
   "cell_type": "code",
   "execution_count": 28,
   "metadata": {},
   "outputs": [
    {
     "data": {
      "text/plain": [
       "144528"
      ]
     },
     "execution_count": 28,
     "metadata": {},
     "output_type": "execute_result"
    }
   ],
   "source": [
    "# For sanity check in the next step multiply length of both arrays. This should later be the shape of dataframe with unique combinations out of both arrays\n",
    "len(top2_perc_items) * len(all_users)"
   ]
  },
  {
   "cell_type": "code",
   "execution_count": 29,
   "metadata": {},
   "outputs": [
    {
     "data": {
      "text/plain": [
       "(144528, 2)"
      ]
     },
     "execution_count": 29,
     "metadata": {},
     "output_type": "execute_result"
    }
   ],
   "source": [
    "# Create Dataframe with all unique matches of top items and all users \n",
    "\n",
    "# First Create a meshgrid of all_users and top5_perc_items\n",
    "user_grid, item_grid = np.meshgrid(all_users, top2_perc_items, indexing='ij')\n",
    "\n",
    "# Flatten the meshgrid arrays\n",
    "user_flat = user_grid.flatten()\n",
    "item_flat = item_grid.flatten()\n",
    "\n",
    "# Create a pandas dataframe with a row for each combination of the values in all_users and top5_perc_items\n",
    "top_potential_purchases = pd.DataFrame({'CustomerID': user_flat, 'StockCode': item_flat})\n",
    "\n",
    "# Check shape: it should be 144528 \n",
    "top_potential_purchases.shape"
   ]
  },
  {
   "cell_type": "code",
   "execution_count": 30,
   "metadata": {},
   "outputs": [
    {
     "data": {
      "text/html": [
       "<div>\n",
       "<style scoped>\n",
       "    .dataframe tbody tr th:only-of-type {\n",
       "        vertical-align: middle;\n",
       "    }\n",
       "\n",
       "    .dataframe tbody tr th {\n",
       "        vertical-align: top;\n",
       "    }\n",
       "\n",
       "    .dataframe thead th {\n",
       "        text-align: right;\n",
       "    }\n",
       "</style>\n",
       "<table border=\"1\" class=\"dataframe\">\n",
       "  <thead>\n",
       "    <tr style=\"text-align: right;\">\n",
       "      <th></th>\n",
       "      <th>CustomerID</th>\n",
       "      <th>StockCode</th>\n",
       "      <th>purchased</th>\n",
       "    </tr>\n",
       "  </thead>\n",
       "  <tbody>\n",
       "    <tr>\n",
       "      <th>0</th>\n",
       "      <td>12451</td>\n",
       "      <td>20724</td>\n",
       "      <td>-2</td>\n",
       "    </tr>\n",
       "    <tr>\n",
       "      <th>1</th>\n",
       "      <td>12451</td>\n",
       "      <td>20726</td>\n",
       "      <td>-2</td>\n",
       "    </tr>\n",
       "    <tr>\n",
       "      <th>2</th>\n",
       "      <td>12451</td>\n",
       "      <td>20727</td>\n",
       "      <td>-2</td>\n",
       "    </tr>\n",
       "    <tr>\n",
       "      <th>3</th>\n",
       "      <td>12451</td>\n",
       "      <td>20728</td>\n",
       "      <td>-2</td>\n",
       "    </tr>\n",
       "    <tr>\n",
       "      <th>4</th>\n",
       "      <td>12451</td>\n",
       "      <td>20914</td>\n",
       "      <td>-2</td>\n",
       "    </tr>\n",
       "  </tbody>\n",
       "</table>\n",
       "</div>"
      ],
      "text/plain": [
       "   CustomerID StockCode  purchased\n",
       "0       12451     20724         -2\n",
       "1       12451     20726         -2\n",
       "2       12451     20727         -2\n",
       "3       12451     20728         -2\n",
       "4       12451     20914         -2"
      ]
     },
     "execution_count": 30,
     "metadata": {},
     "output_type": "execute_result"
    }
   ],
   "source": [
    "# Insert a -1 in a new column as value for all rows\n",
    "top_potential_purchases['purchased'] = -2 \n",
    "\n",
    "# Sanity check\n",
    "top_potential_purchases.head()"
   ]
  },
  {
   "cell_type": "code",
   "execution_count": 32,
   "metadata": {},
   "outputs": [
    {
     "data": {
      "text/plain": [
       "(126326, 3)"
      ]
     },
     "execution_count": 32,
     "metadata": {},
     "output_type": "execute_result"
    }
   ],
   "source": [
    "# Perform an Anti-Join between df_ratings and top_potential_purchases to find out combinations of CustomerID & StockCode that are only in top_potential purchases. Drop duplicates and concatenate to ratings\n",
    "\n",
    "# Perform the anti join by merging on 'StockCode' and 'CustomerID' using a 'left' join and adding an '_merge' indicator column\n",
    "popular_non_bought = top_potential_purchases.merge(df_ratings, on=['StockCode', 'CustomerID'], how='left', indicator=True)\n",
    "\n",
    "# Keep only the rows where the '_merge' indicator is 'left_only', meaning they only exist in the 'df' dataframe\n",
    "popular_non_bought = popular_non_bought[popular_non_bought['_merge'] == 'left_only']\n",
    "\n",
    "# Drop the '_merge' column and any additional columns from 'df_cancelled' that might have been added during the merge\n",
    "popular_non_bought = popular_non_bought.drop(columns=['_merge', 'purchased_y'])\n",
    "\n",
    "# Reset the index if needed\n",
    "popular_non_bought.reset_index(drop=True, inplace=True)\n",
    "\n",
    "# Rename purchased_x to purchased\n",
    "popular_non_bought = popular_non_bought.rename(columns={'purchased_x':'purchased'})\n",
    "\n",
    "# Check Shape after Ánti Join\n",
    "popular_non_bought.shape\n"
   ]
  },
  {
   "cell_type": "code",
   "execution_count": 33,
   "metadata": {},
   "outputs": [
    {
     "data": {
      "text/html": [
       "<div>\n",
       "<style scoped>\n",
       "    .dataframe tbody tr th:only-of-type {\n",
       "        vertical-align: middle;\n",
       "    }\n",
       "\n",
       "    .dataframe tbody tr th {\n",
       "        vertical-align: top;\n",
       "    }\n",
       "\n",
       "    .dataframe thead th {\n",
       "        text-align: right;\n",
       "    }\n",
       "</style>\n",
       "<table border=\"1\" class=\"dataframe\">\n",
       "  <thead>\n",
       "    <tr style=\"text-align: right;\">\n",
       "      <th></th>\n",
       "      <th>StockCode</th>\n",
       "      <th>CustomerID</th>\n",
       "      <th>purchased</th>\n",
       "    </tr>\n",
       "  </thead>\n",
       "  <tbody>\n",
       "    <tr>\n",
       "      <th>153578</th>\n",
       "      <td>82483</td>\n",
       "      <td>16407</td>\n",
       "      <td>2</td>\n",
       "    </tr>\n",
       "    <tr>\n",
       "      <th>221673</th>\n",
       "      <td>84879</td>\n",
       "      <td>15810</td>\n",
       "      <td>-2</td>\n",
       "    </tr>\n",
       "    <tr>\n",
       "      <th>97607</th>\n",
       "      <td>22749</td>\n",
       "      <td>15498</td>\n",
       "      <td>1</td>\n",
       "    </tr>\n",
       "    <tr>\n",
       "      <th>47786</th>\n",
       "      <td>22066</td>\n",
       "      <td>13232</td>\n",
       "      <td>2</td>\n",
       "    </tr>\n",
       "    <tr>\n",
       "      <th>34019</th>\n",
       "      <td>21754</td>\n",
       "      <td>13564</td>\n",
       "      <td>1</td>\n",
       "    </tr>\n",
       "    <tr>\n",
       "      <th>234980</th>\n",
       "      <td>21034</td>\n",
       "      <td>15270</td>\n",
       "      <td>-2</td>\n",
       "    </tr>\n",
       "    <tr>\n",
       "      <th>250948</th>\n",
       "      <td>20727</td>\n",
       "      <td>14161</td>\n",
       "      <td>-2</td>\n",
       "    </tr>\n",
       "    <tr>\n",
       "      <th>140914</th>\n",
       "      <td>23333</td>\n",
       "      <td>14462</td>\n",
       "      <td>1</td>\n",
       "    </tr>\n",
       "    <tr>\n",
       "      <th>64400</th>\n",
       "      <td>22350</td>\n",
       "      <td>12426</td>\n",
       "      <td>1</td>\n",
       "    </tr>\n",
       "    <tr>\n",
       "      <th>246176</th>\n",
       "      <td>POST</td>\n",
       "      <td>17389</td>\n",
       "      <td>-2</td>\n",
       "    </tr>\n",
       "  </tbody>\n",
       "</table>\n",
       "</div>"
      ],
      "text/plain": [
       "       StockCode  CustomerID  purchased\n",
       "153578     82483       16407          2\n",
       "221673     84879       15810         -2\n",
       "97607      22749       15498          1\n",
       "47786      22066       13232          2\n",
       "34019      21754       13564          1\n",
       "234980     21034       15270         -2\n",
       "250948     20727       14161         -2\n",
       "140914     23333       14462          1\n",
       "64400      22350       12426          1\n",
       "246176      POST       17389         -2"
      ]
     },
     "execution_count": 33,
     "metadata": {},
     "output_type": "execute_result"
    }
   ],
   "source": [
    "# Concatenate popular_non_bought with df_ratings\n",
    "df_ratings = pd.concat([df_ratings, popular_non_bought], ignore_index=True)\n",
    "\n",
    "# Check sample\n",
    "df_ratings.sample(10)"
   ]
  },
  {
   "attachments": {},
   "cell_type": "markdown",
   "metadata": {},
   "source": [
    "### 3.2. Top 3-5 Percent"
   ]
  },
  {
   "cell_type": "code",
   "execution_count": 34,
   "metadata": {},
   "outputs": [
    {
     "data": {
      "text/plain": [
       "70"
      ]
     },
     "execution_count": 34,
     "metadata": {},
     "output_type": "execute_result"
    }
   ],
   "source": [
    "# Filter Out best Items \n",
    "df_top_3_5_items = df_items[(df_items['Purchases'] >= df_items['Purchases'].quantile(0.95)) & (df_items['Purchases'] < df_items['Purchases'].quantile(0.98)) ]\n",
    "\n",
    "# Number of top Items \n",
    "df_top_3_5_items.shape[0]"
   ]
  },
  {
   "cell_type": "code",
   "execution_count": 35,
   "metadata": {},
   "outputs": [
    {
     "data": {
      "text/plain": [
       "210770"
      ]
     },
     "execution_count": 35,
     "metadata": {},
     "output_type": "execute_result"
    }
   ],
   "source": [
    "# Save top Items in an array \n",
    "top3_5_perc_items = df_top_3_5_items['StockCode'].unique()\n",
    "\n",
    "# Save all Users from df_rating in an array\n",
    "all_users = df_ratings['CustomerID'].unique()\n",
    "\n",
    "# For sanity check in the next step multiply length of both arrays. This should later be the shape of dataframe with unique combinations out of both arrays\n",
    "len(top3_5_perc_items) * len(all_users)"
   ]
  },
  {
   "cell_type": "code",
   "execution_count": 37,
   "metadata": {},
   "outputs": [
    {
     "data": {
      "text/plain": [
       "(210770, 2)"
      ]
     },
     "execution_count": 37,
     "metadata": {},
     "output_type": "execute_result"
    }
   ],
   "source": [
    "# Create Dataframe with all unique matches of top items and all users \n",
    "\n",
    "# First Create a meshgrid of all_users and top5_perc_items\n",
    "user_grid, item_grid = np.meshgrid(all_users, top3_5_perc_items, indexing='ij')\n",
    "\n",
    "# Flatten the meshgrid arrays\n",
    "user_flat = user_grid.flatten()\n",
    "item_flat = item_grid.flatten()\n",
    "\n",
    "# Create a pandas dataframe with a row for each combination of the values in all_users and top5_perc_items\n",
    "top_3_5_potential_purchases = pd.DataFrame({'CustomerID': user_flat, 'StockCode': item_flat})\n",
    "\n",
    "# Check shape: it should be 144528 \n",
    "top_3_5_potential_purchases.shape"
   ]
  },
  {
   "cell_type": "code",
   "execution_count": 38,
   "metadata": {},
   "outputs": [
    {
     "data": {
      "text/html": [
       "<div>\n",
       "<style scoped>\n",
       "    .dataframe tbody tr th:only-of-type {\n",
       "        vertical-align: middle;\n",
       "    }\n",
       "\n",
       "    .dataframe tbody tr th {\n",
       "        vertical-align: top;\n",
       "    }\n",
       "\n",
       "    .dataframe thead th {\n",
       "        text-align: right;\n",
       "    }\n",
       "</style>\n",
       "<table border=\"1\" class=\"dataframe\">\n",
       "  <thead>\n",
       "    <tr style=\"text-align: right;\">\n",
       "      <th></th>\n",
       "      <th>CustomerID</th>\n",
       "      <th>StockCode</th>\n",
       "      <th>purchased</th>\n",
       "    </tr>\n",
       "  </thead>\n",
       "  <tbody>\n",
       "    <tr>\n",
       "      <th>0</th>\n",
       "      <td>12451</td>\n",
       "      <td>20685</td>\n",
       "      <td>-1</td>\n",
       "    </tr>\n",
       "    <tr>\n",
       "      <th>1</th>\n",
       "      <td>12451</td>\n",
       "      <td>20712</td>\n",
       "      <td>-1</td>\n",
       "    </tr>\n",
       "    <tr>\n",
       "      <th>2</th>\n",
       "      <td>12451</td>\n",
       "      <td>20719</td>\n",
       "      <td>-1</td>\n",
       "    </tr>\n",
       "    <tr>\n",
       "      <th>3</th>\n",
       "      <td>12451</td>\n",
       "      <td>20723</td>\n",
       "      <td>-1</td>\n",
       "    </tr>\n",
       "    <tr>\n",
       "      <th>4</th>\n",
       "      <td>12451</td>\n",
       "      <td>20972</td>\n",
       "      <td>-1</td>\n",
       "    </tr>\n",
       "  </tbody>\n",
       "</table>\n",
       "</div>"
      ],
      "text/plain": [
       "   CustomerID StockCode  purchased\n",
       "0       12451     20685         -1\n",
       "1       12451     20712         -1\n",
       "2       12451     20719         -1\n",
       "3       12451     20723         -1\n",
       "4       12451     20972         -1"
      ]
     },
     "execution_count": 38,
     "metadata": {},
     "output_type": "execute_result"
    }
   ],
   "source": [
    "# Insert a -1 in a new column as value for all rows\n",
    "top_3_5_potential_purchases['purchased'] = -1 \n",
    "\n",
    "# Sanity check\n",
    "top_3_5_potential_purchases.head()"
   ]
  },
  {
   "cell_type": "code",
   "execution_count": 39,
   "metadata": {},
   "outputs": [
    {
     "data": {
      "text/plain": [
       "(192977, 3)"
      ]
     },
     "execution_count": 39,
     "metadata": {},
     "output_type": "execute_result"
    }
   ],
   "source": [
    "# Perform an Anti-Join between df_ratings and top_3_5_potential_purchases to find out combinations of CustomerID & StockCode that are only in top_potential purchases. Drop duplicates and concatenate to ratings\n",
    "\n",
    "# Perform the anti join by merging on 'StockCode' and 'CustomerID' using a 'left' join and adding an '_merge' indicator column\n",
    "popular_non_bought_3_5 = top_3_5_potential_purchases.merge(df_ratings, on=['StockCode', 'CustomerID'], how='left', indicator=True)\n",
    "\n",
    "# Keep only the rows where the '_merge' indicator is 'left_only', meaning they only exist in the 'df' dataframe\n",
    "popular_non_bought_3_5 = popular_non_bought_3_5[popular_non_bought_3_5['_merge'] == 'left_only']\n",
    "\n",
    "# Drop the '_merge' column and any additional columns from 'df_cancelled' that might have been added during the merge\n",
    "popular_non_bought_3_5 = popular_non_bought_3_5.drop(columns=['_merge', 'purchased_y'])\n",
    "\n",
    "# Reset the index if needed\n",
    "popular_non_bought_3_5.reset_index(drop=True, inplace=True)\n",
    "\n",
    "# Rename purchased_x to purchased\n",
    "popular_non_bought_3_5 = popular_non_bought_3_5.rename(columns={'purchased_x':'purchased'})\n",
    "\n",
    "# Check Shape after Ánti Join\n",
    "popular_non_bought_3_5.shape\n"
   ]
  },
  {
   "cell_type": "code",
   "execution_count": 41,
   "metadata": {},
   "outputs": [
    {
     "data": {
      "text/html": [
       "<div>\n",
       "<style scoped>\n",
       "    .dataframe tbody tr th:only-of-type {\n",
       "        vertical-align: middle;\n",
       "    }\n",
       "\n",
       "    .dataframe tbody tr th {\n",
       "        vertical-align: top;\n",
       "    }\n",
       "\n",
       "    .dataframe thead th {\n",
       "        text-align: right;\n",
       "    }\n",
       "</style>\n",
       "<table border=\"1\" class=\"dataframe\">\n",
       "  <thead>\n",
       "    <tr style=\"text-align: right;\">\n",
       "      <th></th>\n",
       "      <th>StockCode</th>\n",
       "      <th>CustomerID</th>\n",
       "      <th>purchased</th>\n",
       "    </tr>\n",
       "  </thead>\n",
       "  <tbody>\n",
       "    <tr>\n",
       "      <th>271779</th>\n",
       "      <td>21034</td>\n",
       "      <td>15211</td>\n",
       "      <td>-2</td>\n",
       "    </tr>\n",
       "    <tr>\n",
       "      <th>218759</th>\n",
       "      <td>22993</td>\n",
       "      <td>17692</td>\n",
       "      <td>-2</td>\n",
       "    </tr>\n",
       "    <tr>\n",
       "      <th>360199</th>\n",
       "      <td>22554</td>\n",
       "      <td>16131</td>\n",
       "      <td>-1</td>\n",
       "    </tr>\n",
       "    <tr>\n",
       "      <th>145446</th>\n",
       "      <td>35004C</td>\n",
       "      <td>15311</td>\n",
       "      <td>2</td>\n",
       "    </tr>\n",
       "    <tr>\n",
       "      <th>184839</th>\n",
       "      <td>21080</td>\n",
       "      <td>13141</td>\n",
       "      <td>-2</td>\n",
       "    </tr>\n",
       "    <tr>\n",
       "      <th>484942</th>\n",
       "      <td>22149</td>\n",
       "      <td>13639</td>\n",
       "      <td>-1</td>\n",
       "    </tr>\n",
       "    <tr>\n",
       "      <th>230432</th>\n",
       "      <td>22470</td>\n",
       "      <td>15704</td>\n",
       "      <td>-2</td>\n",
       "    </tr>\n",
       "    <tr>\n",
       "      <th>165279</th>\n",
       "      <td>84997B</td>\n",
       "      <td>16669</td>\n",
       "      <td>1</td>\n",
       "    </tr>\n",
       "    <tr>\n",
       "      <th>270654</th>\n",
       "      <td>POST</td>\n",
       "      <td>14488</td>\n",
       "      <td>-2</td>\n",
       "    </tr>\n",
       "    <tr>\n",
       "      <th>300748</th>\n",
       "      <td>84380</td>\n",
       "      <td>17085</td>\n",
       "      <td>-1</td>\n",
       "    </tr>\n",
       "  </tbody>\n",
       "</table>\n",
       "</div>"
      ],
      "text/plain": [
       "       StockCode  CustomerID  purchased\n",
       "271779     21034       15211         -2\n",
       "218759     22993       17692         -2\n",
       "360199     22554       16131         -1\n",
       "145446    35004C       15311          2\n",
       "184839     21080       13141         -2\n",
       "484942     22149       13639         -1\n",
       "230432     22470       15704         -2\n",
       "165279    84997B       16669          1\n",
       "270654      POST       14488         -2\n",
       "300748     84380       17085         -1"
      ]
     },
     "execution_count": 41,
     "metadata": {},
     "output_type": "execute_result"
    }
   ],
   "source": [
    "# Concatenate popular_non_bought with df_ratings\n",
    "df_ratings = pd.concat([df_ratings, popular_non_bought_3_5], ignore_index=True)\n",
    "\n",
    "# Check sample\n",
    "df_ratings.sample(10)"
   ]
  },
  {
   "cell_type": "code",
   "execution_count": 42,
   "metadata": {},
   "outputs": [
    {
     "data": {
      "text/plain": [
       "-1    192977\n",
       " 1    133510\n",
       "-2    126326\n",
       " 2     39191\n",
       "Name: purchased, dtype: int64"
      ]
     },
     "execution_count": 42,
     "metadata": {},
     "output_type": "execute_result"
    }
   ],
   "source": [
    "# Check Distribution\n",
    "df_ratings.purchased.value_counts()"
   ]
  },
  {
   "attachments": {},
   "cell_type": "markdown",
   "metadata": {},
   "source": [
    "## 4. Split into Train & Test Data"
   ]
  },
  {
   "cell_type": "code",
   "execution_count": 43,
   "metadata": {},
   "outputs": [],
   "source": [
    "# Load the Chronological Splitter\n",
    "from recommenders.datasets.python_splitters import python_stratified_split\n",
    "\n",
    "# Split with Python Stratified\n",
    "train_rat, test_rat = python_stratified_split(df_ratings, ratio=0.8, filter_by='user', min_rating=10, col_user='CustomerID', col_item='StockCode', seed=1)"
   ]
  },
  {
   "cell_type": "code",
   "execution_count": 44,
   "metadata": {},
   "outputs": [
    {
     "name": "stdout",
     "output_type": "stream",
     "text": [
      "Users in Test: 3011\n",
      "Users in Train: 3011\n",
      "Items in Test: 2327\n",
      "Items in Train: 2349\n"
     ]
    }
   ],
   "source": [
    "#  Check number of unique Users & Items in Test & Train \n",
    "print(\"Users in Test:\",test_rat['CustomerID'].nunique())\n",
    "print(\"Users in Train:\",train_rat['CustomerID'].nunique())\n",
    "print(\"Items in Test:\",test_rat['StockCode'].nunique())\n",
    "print(\"Items in Train:\",train_rat['StockCode'].nunique())"
   ]
  },
  {
   "cell_type": "code",
   "execution_count": 45,
   "metadata": {},
   "outputs": [],
   "source": [
    "# Ensure that the same items and users are in both sets \n",
    "# Find the set of unique items in both the train and test sets\n",
    "train_items_rat = set(train_rat['StockCode'].unique())\n",
    "test_items_rat = set(test_rat['StockCode'].unique())\n",
    "\n",
    "# Find the intersection of the sets from step 1\n",
    "common_items_rat = train_items_rat.intersection(test_items_rat)\n",
    "\n",
    "# Filter the train and test sets to include only the rows with item IDs that are in the intersection set\n",
    "train_rat = train_rat[train_rat['StockCode'].isin(common_items_rat)]\n",
    "test_rat = test_rat[test_rat['StockCode'].isin(common_items_rat)]"
   ]
  },
  {
   "cell_type": "code",
   "execution_count": 47,
   "metadata": {},
   "outputs": [
    {
     "name": "stdout",
     "output_type": "stream",
     "text": [
      "Users in Test: 3011\n",
      "Users in Train: 3011\n",
      "Items in Test: 2327\n",
      "Items in Train: 2327\n"
     ]
    }
   ],
   "source": [
    "#  Check number of unique Users & Items in Test & Train AGAIN\n",
    "print(\"Users in Test:\",test_rat['CustomerID'].nunique())\n",
    "print(\"Users in Train:\",train_rat['CustomerID'].nunique())\n",
    "print(\"Items in Test:\",test_rat['StockCode'].nunique())\n",
    "print(\"Items in Train:\",train_rat['StockCode'].nunique())"
   ]
  },
  {
   "cell_type": "code",
   "execution_count": 48,
   "metadata": {},
   "outputs": [
    {
     "name": "stdout",
     "output_type": "stream",
     "text": [
      "Rows in train: 393307\n",
      "Rows in test: 98407\n"
     ]
    }
   ],
   "source": [
    "# Rows in Train & Test\n",
    "print(\"Rows in train:\", train_rat.shape[0])\n",
    "print(\"Rows in test:\", test_rat.shape[0])"
   ]
  },
  {
   "cell_type": "code",
   "execution_count": 49,
   "metadata": {},
   "outputs": [],
   "source": [
    "# Save as csv \n",
    "train_rat.to_csv('../00_Data/rec_sys_ratings_train.csv')\n",
    "test_rat.to_csv('../00_Data/rec_sys_ratings_test.csv')"
   ]
  }
 ],
 "metadata": {
  "kernelspec": {
   "display_name": "recom",
   "language": "python",
   "name": "python3"
  },
  "language_info": {
   "codemirror_mode": {
    "name": "ipython",
    "version": 3
   },
   "file_extension": ".py",
   "mimetype": "text/x-python",
   "name": "python",
   "nbconvert_exporter": "python",
   "pygments_lexer": "ipython3",
   "version": "3.9.16"
  },
  "orig_nbformat": 4,
  "vscode": {
   "interpreter": {
    "hash": "17afcd9f6960de0a3656d2c4c5dd434deed0eab3cd38c55c3169df3bef50250d"
   }
  }
 },
 "nbformat": 4,
 "nbformat_minor": 2
}
