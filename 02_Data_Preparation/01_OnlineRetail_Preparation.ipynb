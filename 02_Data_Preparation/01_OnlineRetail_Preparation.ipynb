{
 "cells": [
  {
   "attachments": {},
   "cell_type": "markdown",
   "metadata": {},
   "source": [
    "# Loading necessary Libraries"
   ]
  },
  {
   "cell_type": "code",
   "execution_count": 107,
   "metadata": {},
   "outputs": [],
   "source": [
    "import pandas as pd\n",
    "import numpy as np\n",
    "import seaborn as sns\n",
    "import matplotlib.pyplot as plt\n",
    "import matplotlib.style"
   ]
  },
  {
   "attachments": {},
   "cell_type": "markdown",
   "metadata": {},
   "source": [
    "# Loading Dataset"
   ]
  },
  {
   "cell_type": "code",
   "execution_count": 108,
   "metadata": {},
   "outputs": [],
   "source": [
    "# Reading Data # First Column is the index\n",
    "df = pd.read_csv('../00_Data/online_retailed_precleaned.csv', index_col=0)"
   ]
  },
  {
   "cell_type": "code",
   "execution_count": 109,
   "metadata": {},
   "outputs": [
    {
     "data": {
      "text/plain": [
       "(397656, 8)"
      ]
     },
     "execution_count": 109,
     "metadata": {},
     "output_type": "execute_result"
    }
   ],
   "source": [
    "# Shape of data\n",
    "df.shape"
   ]
  },
  {
   "cell_type": "code",
   "execution_count": 110,
   "metadata": {},
   "outputs": [
    {
     "data": {
      "text/html": [
       "<div>\n",
       "<style scoped>\n",
       "    .dataframe tbody tr th:only-of-type {\n",
       "        vertical-align: middle;\n",
       "    }\n",
       "\n",
       "    .dataframe tbody tr th {\n",
       "        vertical-align: top;\n",
       "    }\n",
       "\n",
       "    .dataframe thead th {\n",
       "        text-align: right;\n",
       "    }\n",
       "</style>\n",
       "<table border=\"1\" class=\"dataframe\">\n",
       "  <thead>\n",
       "    <tr style=\"text-align: right;\">\n",
       "      <th></th>\n",
       "      <th>InvoiceNo</th>\n",
       "      <th>StockCode</th>\n",
       "      <th>Description</th>\n",
       "      <th>Quantity</th>\n",
       "      <th>InvoiceDate</th>\n",
       "      <th>UnitPrice</th>\n",
       "      <th>CustomerID</th>\n",
       "      <th>Country</th>\n",
       "    </tr>\n",
       "  </thead>\n",
       "  <tbody>\n",
       "    <tr>\n",
       "      <th>0</th>\n",
       "      <td>536365</td>\n",
       "      <td>3249</td>\n",
       "      <td>WHITE HANGING HEART T-LIGHT HOLDER</td>\n",
       "      <td>6</td>\n",
       "      <td>2010-12-01 08:26:00</td>\n",
       "      <td>2.55</td>\n",
       "      <td>4048</td>\n",
       "      <td>United Kingdom</td>\n",
       "    </tr>\n",
       "    <tr>\n",
       "      <th>1</th>\n",
       "      <td>536365</td>\n",
       "      <td>2649</td>\n",
       "      <td>WHITE METAL LANTERN</td>\n",
       "      <td>6</td>\n",
       "      <td>2010-12-01 08:26:00</td>\n",
       "      <td>3.39</td>\n",
       "      <td>4048</td>\n",
       "      <td>United Kingdom</td>\n",
       "    </tr>\n",
       "    <tr>\n",
       "      <th>2</th>\n",
       "      <td>536365</td>\n",
       "      <td>2855</td>\n",
       "      <td>CREAM CUPID HEARTS COAT HANGER</td>\n",
       "      <td>8</td>\n",
       "      <td>2010-12-01 08:26:00</td>\n",
       "      <td>2.75</td>\n",
       "      <td>4048</td>\n",
       "      <td>United Kingdom</td>\n",
       "    </tr>\n",
       "    <tr>\n",
       "      <th>3</th>\n",
       "      <td>536365</td>\n",
       "      <td>2803</td>\n",
       "      <td>KNITTED UNION FLAG HOT WATER BOTTLE</td>\n",
       "      <td>6</td>\n",
       "      <td>2010-12-01 08:26:00</td>\n",
       "      <td>3.39</td>\n",
       "      <td>4048</td>\n",
       "      <td>United Kingdom</td>\n",
       "    </tr>\n",
       "    <tr>\n",
       "      <th>4</th>\n",
       "      <td>536365</td>\n",
       "      <td>2802</td>\n",
       "      <td>RED WOOLLY HOTTIE WHITE HEART.</td>\n",
       "      <td>6</td>\n",
       "      <td>2010-12-01 08:26:00</td>\n",
       "      <td>3.39</td>\n",
       "      <td>4048</td>\n",
       "      <td>United Kingdom</td>\n",
       "    </tr>\n",
       "  </tbody>\n",
       "</table>\n",
       "</div>"
      ],
      "text/plain": [
       "  InvoiceNo  StockCode                          Description  Quantity  \\\n",
       "0    536365       3249   WHITE HANGING HEART T-LIGHT HOLDER         6   \n",
       "1    536365       2649                  WHITE METAL LANTERN         6   \n",
       "2    536365       2855       CREAM CUPID HEARTS COAT HANGER         8   \n",
       "3    536365       2803  KNITTED UNION FLAG HOT WATER BOTTLE         6   \n",
       "4    536365       2802       RED WOOLLY HOTTIE WHITE HEART.         6   \n",
       "\n",
       "           InvoiceDate  UnitPrice  CustomerID         Country  \n",
       "0  2010-12-01 08:26:00       2.55        4048  United Kingdom  \n",
       "1  2010-12-01 08:26:00       3.39        4048  United Kingdom  \n",
       "2  2010-12-01 08:26:00       2.75        4048  United Kingdom  \n",
       "3  2010-12-01 08:26:00       3.39        4048  United Kingdom  \n",
       "4  2010-12-01 08:26:00       3.39        4048  United Kingdom  "
      ]
     },
     "execution_count": 110,
     "metadata": {},
     "output_type": "execute_result"
    }
   ],
   "source": [
    "# First five rows\n",
    "df.head()"
   ]
  },
  {
   "attachments": {},
   "cell_type": "markdown",
   "metadata": {},
   "source": [
    "# Preparation: Binary Dataset"
   ]
  },
  {
   "attachments": {},
   "cell_type": "markdown",
   "metadata": {},
   "source": [
    "Main Steps\n",
    "\n",
    "1. Remove all cancelled orders\n",
    "2. Aggregate all User - Item Interactions & Create Flag Column for Purchases\n",
    "3. Split into Train & Test Data"
   ]
  },
  {
   "attachments": {},
   "cell_type": "markdown",
   "metadata": {},
   "source": [
    "# 1. Removing Cancelled Orders"
   ]
  },
  {
   "cell_type": "code",
   "execution_count": 111,
   "metadata": {},
   "outputs": [],
   "source": [
    "# Filter out rows with cancelled orders\n",
    "df_non_cancelled = df[~df['InvoiceNo'].str.startswith('C')]"
   ]
  },
  {
   "cell_type": "code",
   "execution_count": 112,
   "metadata": {},
   "outputs": [
    {
     "data": {
      "text/plain": [
       "(389326, 8)"
      ]
     },
     "execution_count": 112,
     "metadata": {},
     "output_type": "execute_result"
    }
   ],
   "source": [
    "# Check Shape after Removal\n",
    "df_non_cancelled.shape"
   ]
  },
  {
   "attachments": {},
   "cell_type": "markdown",
   "metadata": {},
   "source": [
    "# 2. Aggregate User - Item Interactions - Create Flag Column for Purchased Items"
   ]
  },
  {
   "cell_type": "code",
   "execution_count": 113,
   "metadata": {},
   "outputs": [
    {
     "data": {
      "text/html": [
       "<div>\n",
       "<style scoped>\n",
       "    .dataframe tbody tr th:only-of-type {\n",
       "        vertical-align: middle;\n",
       "    }\n",
       "\n",
       "    .dataframe tbody tr th {\n",
       "        vertical-align: top;\n",
       "    }\n",
       "\n",
       "    .dataframe thead th {\n",
       "        text-align: right;\n",
       "    }\n",
       "</style>\n",
       "<table border=\"1\" class=\"dataframe\">\n",
       "  <thead>\n",
       "    <tr style=\"text-align: right;\">\n",
       "      <th></th>\n",
       "      <th>StockCode</th>\n",
       "      <th>CustomerID</th>\n",
       "      <th>purchased</th>\n",
       "    </tr>\n",
       "  </thead>\n",
       "  <tbody>\n",
       "    <tr>\n",
       "      <th>0</th>\n",
       "      <td>0</td>\n",
       "      <td>86</td>\n",
       "      <td>1</td>\n",
       "    </tr>\n",
       "    <tr>\n",
       "      <th>1</th>\n",
       "      <td>0</td>\n",
       "      <td>132</td>\n",
       "      <td>1</td>\n",
       "    </tr>\n",
       "    <tr>\n",
       "      <th>2</th>\n",
       "      <td>0</td>\n",
       "      <td>191</td>\n",
       "      <td>1</td>\n",
       "    </tr>\n",
       "    <tr>\n",
       "      <th>3</th>\n",
       "      <td>0</td>\n",
       "      <td>238</td>\n",
       "      <td>1</td>\n",
       "    </tr>\n",
       "    <tr>\n",
       "      <th>4</th>\n",
       "      <td>0</td>\n",
       "      <td>270</td>\n",
       "      <td>1</td>\n",
       "    </tr>\n",
       "  </tbody>\n",
       "</table>\n",
       "</div>"
      ],
      "text/plain": [
       "   StockCode  CustomerID  purchased\n",
       "0          0          86          1\n",
       "1          0         132          1\n",
       "2          0         191          1\n",
       "3          0         238          1\n",
       "4          0         270          1"
      ]
     },
     "execution_count": 113,
     "metadata": {},
     "output_type": "execute_result"
    }
   ],
   "source": [
    "# Calculate Count of all non-cancelled interactions between Users & Items\n",
    "df_binary = df_non_cancelled.groupby(['StockCode', 'CustomerID']).agg({'CustomerID': 'count'})\n",
    "\n",
    "# Rename Columns \n",
    "df_binary.columns = ['purchased']\n",
    "\n",
    "# Reset Index\n",
    "df_binary.reset_index(inplace=True)\n",
    "\n",
    "# Set all purchases to 1 \n",
    "df_binary['purchased'] = 1 \n",
    "\n",
    "# Check first five columns\n",
    "df_binary.head()"
   ]
  },
  {
   "cell_type": "code",
   "execution_count": 106,
   "metadata": {},
   "outputs": [
    {
     "data": {
      "text/plain": [
       "count    259431.0\n",
       "mean          1.0\n",
       "std           0.0\n",
       "min           1.0\n",
       "25%           1.0\n",
       "50%           1.0\n",
       "75%           1.0\n",
       "max           1.0\n",
       "Name: purchased, dtype: float64"
      ]
     },
     "execution_count": 106,
     "metadata": {},
     "output_type": "execute_result"
    }
   ],
   "source": [
    "# Sanity Check \n",
    "df_binary.purchased.describe()"
   ]
  },
  {
   "cell_type": "code",
   "execution_count": 114,
   "metadata": {},
   "outputs": [
    {
     "name": "stdout",
     "output_type": "stream",
     "text": [
      "Users: \t 3697\n",
      "Items: \t 2743\n"
     ]
    }
   ],
   "source": [
    "# Print Unique Users & Items for Sanity Check  \n",
    "print(\"Users: \\t\",df_binary['CustomerID'].nunique())\n",
    "print(\"Items: \\t\",df_binary['StockCode'].nunique())"
   ]
  },
  {
   "attachments": {},
   "cell_type": "markdown",
   "metadata": {},
   "source": [
    "# 3. Split into Train & Test Data"
   ]
  },
  {
   "cell_type": "code",
   "execution_count": 124,
   "metadata": {},
   "outputs": [],
   "source": [
    "# Load the Python Splitter\n",
    "from recommenders.datasets.python_splitters import python_stratified_split"
   ]
  },
  {
   "cell_type": "code",
   "execution_count": 129,
   "metadata": {},
   "outputs": [],
   "source": [
    "train, test = python_stratified_split(df_binary, ratio=0.8, filter_by='user', min_rating=10, col_user='CustomerID', col_item='StockCode', seed=1)\n",
    "#train, test = train_test_split(df_binary, random_state=1, test_size=0.25)"
   ]
  },
  {
   "cell_type": "code",
   "execution_count": 130,
   "metadata": {},
   "outputs": [
    {
     "name": "stdout",
     "output_type": "stream",
     "text": [
      "Users Train: \t 3692\n",
      "Items Train: \t 2743\n",
      "Users Test: \t 3692\n",
      "Items Test: \t 2716\n"
     ]
    }
   ],
   "source": [
    "# Sanity Check number of unique Users & Items in Train\n",
    "print(\"Users Train: \\t\",train['CustomerID'].nunique())\n",
    "print(\"Items Train: \\t\",train['StockCode'].nunique())\n",
    "# Sanity Check number of unique Users & Items in Test\n",
    "print(\"Users Test: \\t\",test['CustomerID'].nunique())\n",
    "print(\"Items Test: \\t\",test['StockCode'].nunique())"
   ]
  },
  {
   "cell_type": "code",
   "execution_count": 131,
   "metadata": {},
   "outputs": [],
   "source": [
    "# Ensure that the same items and users are in both sets \n",
    "# Find the set of unique items in both the train and test sets\n",
    "train_items = set(train['StockCode'].unique())\n",
    "test_items = set(test['StockCode'].unique())\n",
    "\n",
    "# Find the intersection of the sets from step 1\n",
    "common_items = train_items.intersection(test_items)\n",
    "\n",
    "# Filter the train and test sets to include only the rows with item IDs that are in the intersection set\n",
    "train = train[train['StockCode'].isin(common_items)]\n",
    "test = test[test['StockCode'].isin(common_items)]"
   ]
  },
  {
   "cell_type": "code",
   "execution_count": 132,
   "metadata": {},
   "outputs": [
    {
     "name": "stdout",
     "output_type": "stream",
     "text": [
      "Users Train: \t 3692\n",
      "Items Train: \t 2716\n",
      "Users Test: \t 3692\n",
      "Items Test: \t 2716\n"
     ]
    }
   ],
   "source": [
    "# Sanity Check number of unique Users & Items in Train\n",
    "print(\"Users Train: \\t\",train['CustomerID'].nunique())\n",
    "print(\"Items Train: \\t\",train['StockCode'].nunique())\n",
    "# Sanity Check number of unique Users & Items in Test\n",
    "print(\"Users Test: \\t\",test['CustomerID'].nunique())\n",
    "print(\"Items Test: \\t\",test['StockCode'].nunique())"
   ]
  },
  {
   "cell_type": "code",
   "execution_count": 133,
   "metadata": {},
   "outputs": [
    {
     "name": "stdout",
     "output_type": "stream",
     "text": [
      "Shape of Train: (207084, 3)\n",
      "Shape of Test: \t (51892, 3)\n"
     ]
    }
   ],
   "source": [
    "# Shapes to Check \n",
    "print(\"Shape of Train:\", train.shape)\n",
    "print(\"Shape of Test: \\t\", test.shape)"
   ]
  },
  {
   "cell_type": "code",
   "execution_count": 122,
   "metadata": {},
   "outputs": [],
   "source": [
    "# Save as csv \n",
    "train.to_csv('../00_Data/online_retail_train.csv')\n",
    "test.to_csv('../00_Data/online_retail_test.csv')\n"
   ]
  },
  {
   "attachments": {},
   "cell_type": "markdown",
   "metadata": {},
   "source": [
    "# Preparation: Pseudo-Rating Dataset"
   ]
  },
  {
   "attachments": {},
   "cell_type": "markdown",
   "metadata": {},
   "source": [
    "**Main Steps**\n",
    "\n",
    "1. Create a flag column for purchased items\n",
    "2. Decrease value of cancelled purchases \n",
    "3. Filter out cancelled combinations from initial Dataset\n",
    "4. Increase value of repurchased items\n",
    "5. Insert negative value for non-purchased popular items\n",
    "6. Split into Train & Test Data"
   ]
  },
  {
   "cell_type": "code",
   "execution_count": null,
   "metadata": {},
   "outputs": [],
   "source": [
    "# Reading Data Again since it was changed above\n",
    "df = pd.read_csv('../00_Data/online_retailed_precleaned.csv', index_col=0)"
   ]
  },
  {
   "attachments": {},
   "cell_type": "markdown",
   "metadata": {},
   "source": [
    "## 1. Flag Column for purchased items:"
   ]
  },
  {
   "cell_type": "code",
   "execution_count": 5,
   "metadata": {},
   "outputs": [
    {
     "data": {
      "text/html": [
       "<div>\n",
       "<style scoped>\n",
       "    .dataframe tbody tr th:only-of-type {\n",
       "        vertical-align: middle;\n",
       "    }\n",
       "\n",
       "    .dataframe tbody tr th {\n",
       "        vertical-align: top;\n",
       "    }\n",
       "\n",
       "    .dataframe thead th {\n",
       "        text-align: right;\n",
       "    }\n",
       "</style>\n",
       "<table border=\"1\" class=\"dataframe\">\n",
       "  <thead>\n",
       "    <tr style=\"text-align: right;\">\n",
       "      <th></th>\n",
       "      <th>InvoiceNo</th>\n",
       "      <th>StockCode</th>\n",
       "      <th>Description</th>\n",
       "      <th>Quantity</th>\n",
       "      <th>InvoiceDate</th>\n",
       "      <th>UnitPrice</th>\n",
       "      <th>CustomerID</th>\n",
       "      <th>Country</th>\n",
       "      <th>purchased</th>\n",
       "    </tr>\n",
       "  </thead>\n",
       "  <tbody>\n",
       "    <tr>\n",
       "      <th>0</th>\n",
       "      <td>536365</td>\n",
       "      <td>3249</td>\n",
       "      <td>WHITE HANGING HEART T-LIGHT HOLDER</td>\n",
       "      <td>6</td>\n",
       "      <td>2010-12-01 08:26:00</td>\n",
       "      <td>2.55</td>\n",
       "      <td>4048</td>\n",
       "      <td>United Kingdom</td>\n",
       "      <td>1</td>\n",
       "    </tr>\n",
       "    <tr>\n",
       "      <th>1</th>\n",
       "      <td>536365</td>\n",
       "      <td>2649</td>\n",
       "      <td>WHITE METAL LANTERN</td>\n",
       "      <td>6</td>\n",
       "      <td>2010-12-01 08:26:00</td>\n",
       "      <td>3.39</td>\n",
       "      <td>4048</td>\n",
       "      <td>United Kingdom</td>\n",
       "      <td>1</td>\n",
       "    </tr>\n",
       "    <tr>\n",
       "      <th>2</th>\n",
       "      <td>536365</td>\n",
       "      <td>2855</td>\n",
       "      <td>CREAM CUPID HEARTS COAT HANGER</td>\n",
       "      <td>8</td>\n",
       "      <td>2010-12-01 08:26:00</td>\n",
       "      <td>2.75</td>\n",
       "      <td>4048</td>\n",
       "      <td>United Kingdom</td>\n",
       "      <td>1</td>\n",
       "    </tr>\n",
       "    <tr>\n",
       "      <th>3</th>\n",
       "      <td>536365</td>\n",
       "      <td>2803</td>\n",
       "      <td>KNITTED UNION FLAG HOT WATER BOTTLE</td>\n",
       "      <td>6</td>\n",
       "      <td>2010-12-01 08:26:00</td>\n",
       "      <td>3.39</td>\n",
       "      <td>4048</td>\n",
       "      <td>United Kingdom</td>\n",
       "      <td>1</td>\n",
       "    </tr>\n",
       "    <tr>\n",
       "      <th>4</th>\n",
       "      <td>536365</td>\n",
       "      <td>2802</td>\n",
       "      <td>RED WOOLLY HOTTIE WHITE HEART.</td>\n",
       "      <td>6</td>\n",
       "      <td>2010-12-01 08:26:00</td>\n",
       "      <td>3.39</td>\n",
       "      <td>4048</td>\n",
       "      <td>United Kingdom</td>\n",
       "      <td>1</td>\n",
       "    </tr>\n",
       "  </tbody>\n",
       "</table>\n",
       "</div>"
      ],
      "text/plain": [
       "  InvoiceNo  StockCode                          Description  Quantity  \\\n",
       "0    536365       3249   WHITE HANGING HEART T-LIGHT HOLDER         6   \n",
       "1    536365       2649                  WHITE METAL LANTERN         6   \n",
       "2    536365       2855       CREAM CUPID HEARTS COAT HANGER         8   \n",
       "3    536365       2803  KNITTED UNION FLAG HOT WATER BOTTLE         6   \n",
       "4    536365       2802       RED WOOLLY HOTTIE WHITE HEART.         6   \n",
       "\n",
       "           InvoiceDate  UnitPrice  CustomerID         Country  purchased  \n",
       "0  2010-12-01 08:26:00       2.55        4048  United Kingdom          1  \n",
       "1  2010-12-01 08:26:00       3.39        4048  United Kingdom          1  \n",
       "2  2010-12-01 08:26:00       2.75        4048  United Kingdom          1  \n",
       "3  2010-12-01 08:26:00       3.39        4048  United Kingdom          1  \n",
       "4  2010-12-01 08:26:00       3.39        4048  United Kingdom          1  "
      ]
     },
     "execution_count": 5,
     "metadata": {},
     "output_type": "execute_result"
    }
   ],
   "source": [
    "# Create column 'purchased' and assign the value 1 for each row\n",
    "df['purchased'] = 1 \n",
    "\n",
    "# Check First 5 Rows\n",
    "df.head()"
   ]
  },
  {
   "attachments": {},
   "cell_type": "markdown",
   "metadata": {},
   "source": [
    "## 2. Decrease value of cancelled purchases "
   ]
  },
  {
   "cell_type": "code",
   "execution_count": 6,
   "metadata": {},
   "outputs": [
    {
     "data": {
      "text/html": [
       "<div>\n",
       "<style scoped>\n",
       "    .dataframe tbody tr th:only-of-type {\n",
       "        vertical-align: middle;\n",
       "    }\n",
       "\n",
       "    .dataframe tbody tr th {\n",
       "        vertical-align: top;\n",
       "    }\n",
       "\n",
       "    .dataframe thead th {\n",
       "        text-align: right;\n",
       "    }\n",
       "</style>\n",
       "<table border=\"1\" class=\"dataframe\">\n",
       "  <thead>\n",
       "    <tr style=\"text-align: right;\">\n",
       "      <th></th>\n",
       "      <th>InvoiceNo</th>\n",
       "      <th>StockCode</th>\n",
       "      <th>Description</th>\n",
       "      <th>Quantity</th>\n",
       "      <th>InvoiceDate</th>\n",
       "      <th>UnitPrice</th>\n",
       "      <th>CustomerID</th>\n",
       "      <th>Country</th>\n",
       "      <th>purchased</th>\n",
       "    </tr>\n",
       "  </thead>\n",
       "  <tbody>\n",
       "    <tr>\n",
       "      <th>154</th>\n",
       "      <td>C536383</td>\n",
       "      <td>2407</td>\n",
       "      <td>SET OF 3 COLOURED  FLYING DUCKS</td>\n",
       "      <td>-1</td>\n",
       "      <td>2010-12-01 09:49:00</td>\n",
       "      <td>4.65</td>\n",
       "      <td>2192</td>\n",
       "      <td>United Kingdom</td>\n",
       "      <td>1</td>\n",
       "    </tr>\n",
       "    <tr>\n",
       "      <th>235</th>\n",
       "      <td>C536391</td>\n",
       "      <td>1415</td>\n",
       "      <td>PLASTERS IN TIN CIRCUS PARADE</td>\n",
       "      <td>-12</td>\n",
       "      <td>2010-12-01 10:24:00</td>\n",
       "      <td>1.65</td>\n",
       "      <td>3829</td>\n",
       "      <td>United Kingdom</td>\n",
       "      <td>1</td>\n",
       "    </tr>\n",
       "    <tr>\n",
       "      <th>236</th>\n",
       "      <td>C536391</td>\n",
       "      <td>919</td>\n",
       "      <td>PACK OF 12 PINK PAISLEY TISSUES</td>\n",
       "      <td>-24</td>\n",
       "      <td>2010-12-01 10:24:00</td>\n",
       "      <td>0.29</td>\n",
       "      <td>3829</td>\n",
       "      <td>United Kingdom</td>\n",
       "      <td>1</td>\n",
       "    </tr>\n",
       "    <tr>\n",
       "      <th>237</th>\n",
       "      <td>C536391</td>\n",
       "      <td>918</td>\n",
       "      <td>PACK OF 12 BLUE PAISLEY TISSUES</td>\n",
       "      <td>-24</td>\n",
       "      <td>2010-12-01 10:24:00</td>\n",
       "      <td>0.29</td>\n",
       "      <td>3829</td>\n",
       "      <td>United Kingdom</td>\n",
       "      <td>1</td>\n",
       "    </tr>\n",
       "    <tr>\n",
       "      <th>238</th>\n",
       "      <td>C536391</td>\n",
       "      <td>915</td>\n",
       "      <td>PACK OF 12 RED RETROSPOT TISSUES</td>\n",
       "      <td>-24</td>\n",
       "      <td>2010-12-01 10:24:00</td>\n",
       "      <td>0.29</td>\n",
       "      <td>3829</td>\n",
       "      <td>United Kingdom</td>\n",
       "      <td>1</td>\n",
       "    </tr>\n",
       "    <tr>\n",
       "      <th>239</th>\n",
       "      <td>C536391</td>\n",
       "      <td>604</td>\n",
       "      <td>CHICK GREY HOT WATER BOTTLE</td>\n",
       "      <td>-12</td>\n",
       "      <td>2010-12-01 10:24:00</td>\n",
       "      <td>3.45</td>\n",
       "      <td>3829</td>\n",
       "      <td>United Kingdom</td>\n",
       "      <td>1</td>\n",
       "    </tr>\n",
       "    <tr>\n",
       "      <th>240</th>\n",
       "      <td>C536391</td>\n",
       "      <td>1416</td>\n",
       "      <td>PLASTERS IN TIN VINTAGE PAISLEY</td>\n",
       "      <td>-12</td>\n",
       "      <td>2010-12-01 10:24:00</td>\n",
       "      <td>1.65</td>\n",
       "      <td>3829</td>\n",
       "      <td>United Kingdom</td>\n",
       "      <td>1</td>\n",
       "    </tr>\n",
       "    <tr>\n",
       "      <th>241</th>\n",
       "      <td>C536391</td>\n",
       "      <td>1412</td>\n",
       "      <td>PLASTERS IN TIN SKULLS</td>\n",
       "      <td>-24</td>\n",
       "      <td>2010-12-01 10:24:00</td>\n",
       "      <td>1.65</td>\n",
       "      <td>3829</td>\n",
       "      <td>United Kingdom</td>\n",
       "      <td>1</td>\n",
       "    </tr>\n",
       "    <tr>\n",
       "      <th>939</th>\n",
       "      <td>C536506</td>\n",
       "      <td>1805</td>\n",
       "      <td>JAM MAKING SET WITH JARS</td>\n",
       "      <td>-6</td>\n",
       "      <td>2010-12-01 12:38:00</td>\n",
       "      <td>4.25</td>\n",
       "      <td>4088</td>\n",
       "      <td>United Kingdom</td>\n",
       "      <td>1</td>\n",
       "    </tr>\n",
       "    <tr>\n",
       "      <th>1441</th>\n",
       "      <td>C536543</td>\n",
       "      <td>1489</td>\n",
       "      <td>HAND WARMER RED RETROSPOT</td>\n",
       "      <td>-1</td>\n",
       "      <td>2010-12-01 14:30:00</td>\n",
       "      <td>2.10</td>\n",
       "      <td>4042</td>\n",
       "      <td>United Kingdom</td>\n",
       "      <td>1</td>\n",
       "    </tr>\n",
       "  </tbody>\n",
       "</table>\n",
       "</div>"
      ],
      "text/plain": [
       "     InvoiceNo  StockCode                        Description  Quantity  \\\n",
       "154    C536383       2407    SET OF 3 COLOURED  FLYING DUCKS        -1   \n",
       "235    C536391       1415     PLASTERS IN TIN CIRCUS PARADE        -12   \n",
       "236    C536391        919   PACK OF 12 PINK PAISLEY TISSUES        -24   \n",
       "237    C536391        918   PACK OF 12 BLUE PAISLEY TISSUES        -24   \n",
       "238    C536391        915  PACK OF 12 RED RETROSPOT TISSUES        -24   \n",
       "239    C536391        604        CHICK GREY HOT WATER BOTTLE       -12   \n",
       "240    C536391       1416   PLASTERS IN TIN VINTAGE PAISLEY        -12   \n",
       "241    C536391       1412             PLASTERS IN TIN SKULLS       -24   \n",
       "939    C536506       1805           JAM MAKING SET WITH JARS        -6   \n",
       "1441   C536543       1489          HAND WARMER RED RETROSPOT        -1   \n",
       "\n",
       "              InvoiceDate  UnitPrice  CustomerID         Country  purchased  \n",
       "154   2010-12-01 09:49:00       4.65        2192  United Kingdom          1  \n",
       "235   2010-12-01 10:24:00       1.65        3829  United Kingdom          1  \n",
       "236   2010-12-01 10:24:00       0.29        3829  United Kingdom          1  \n",
       "237   2010-12-01 10:24:00       0.29        3829  United Kingdom          1  \n",
       "238   2010-12-01 10:24:00       0.29        3829  United Kingdom          1  \n",
       "239   2010-12-01 10:24:00       3.45        3829  United Kingdom          1  \n",
       "240   2010-12-01 10:24:00       1.65        3829  United Kingdom          1  \n",
       "241   2010-12-01 10:24:00       1.65        3829  United Kingdom          1  \n",
       "939   2010-12-01 12:38:00       4.25        4088  United Kingdom          1  \n",
       "1441  2010-12-01 14:30:00       2.10        4042  United Kingdom          1  "
      ]
     },
     "execution_count": 6,
     "metadata": {},
     "output_type": "execute_result"
    }
   ],
   "source": [
    "# First find out Cancelled orders \n",
    "# Rows that start with a C in InvoiceNo \n",
    "df_cancellations = df[df.InvoiceNo.str[0]=='C']\n",
    "\n",
    "# Check Head for Sanity\n",
    "df_cancellations.head(10)"
   ]
  },
  {
   "cell_type": "code",
   "execution_count": 11,
   "metadata": {},
   "outputs": [
    {
     "data": {
      "text/html": [
       "<div>\n",
       "<style scoped>\n",
       "    .dataframe tbody tr th:only-of-type {\n",
       "        vertical-align: middle;\n",
       "    }\n",
       "\n",
       "    .dataframe tbody tr th {\n",
       "        vertical-align: top;\n",
       "    }\n",
       "\n",
       "    .dataframe thead th {\n",
       "        text-align: right;\n",
       "    }\n",
       "</style>\n",
       "<table border=\"1\" class=\"dataframe\">\n",
       "  <thead>\n",
       "    <tr style=\"text-align: right;\">\n",
       "      <th></th>\n",
       "      <th>StockCode</th>\n",
       "      <th>CustomerID</th>\n",
       "      <th>purchased</th>\n",
       "    </tr>\n",
       "  </thead>\n",
       "  <tbody>\n",
       "    <tr>\n",
       "      <th>count</th>\n",
       "      <td>7316.000000</td>\n",
       "      <td>7316.000000</td>\n",
       "      <td>7316.0</td>\n",
       "    </tr>\n",
       "    <tr>\n",
       "      <th>mean</th>\n",
       "      <td>1636.699699</td>\n",
       "      <td>1960.620421</td>\n",
       "      <td>-2.0</td>\n",
       "    </tr>\n",
       "    <tr>\n",
       "      <th>std</th>\n",
       "      <td>828.131722</td>\n",
       "      <td>1254.610587</td>\n",
       "      <td>0.0</td>\n",
       "    </tr>\n",
       "    <tr>\n",
       "      <th>min</th>\n",
       "      <td>7.000000</td>\n",
       "      <td>5.000000</td>\n",
       "      <td>-2.0</td>\n",
       "    </tr>\n",
       "    <tr>\n",
       "      <th>25%</th>\n",
       "      <td>1072.000000</td>\n",
       "      <td>848.250000</td>\n",
       "      <td>-2.0</td>\n",
       "    </tr>\n",
       "    <tr>\n",
       "      <th>50%</th>\n",
       "      <td>1582.000000</td>\n",
       "      <td>1852.500000</td>\n",
       "      <td>-2.0</td>\n",
       "    </tr>\n",
       "    <tr>\n",
       "      <th>75%</th>\n",
       "      <td>2070.000000</td>\n",
       "      <td>2993.000000</td>\n",
       "      <td>-2.0</td>\n",
       "    </tr>\n",
       "    <tr>\n",
       "      <th>max</th>\n",
       "      <td>3683.000000</td>\n",
       "      <td>4369.000000</td>\n",
       "      <td>-2.0</td>\n",
       "    </tr>\n",
       "  </tbody>\n",
       "</table>\n",
       "</div>"
      ],
      "text/plain": [
       "         StockCode   CustomerID  purchased\n",
       "count  7316.000000  7316.000000     7316.0\n",
       "mean   1636.699699  1960.620421       -2.0\n",
       "std     828.131722  1254.610587        0.0\n",
       "min       7.000000     5.000000       -2.0\n",
       "25%    1072.000000   848.250000       -2.0\n",
       "50%    1582.000000  1852.500000       -2.0\n",
       "75%    2070.000000  2993.000000       -2.0\n",
       "max    3683.000000  4369.000000       -2.0"
      ]
     },
     "execution_count": 11,
     "metadata": {},
     "output_type": "execute_result"
    }
   ],
   "source": [
    "# Filter out unique combination of StockCode & Customer for cancelled Orders \n",
    "# Create DataFrmmae\n",
    "df_cancelled = df_cancellations.groupby(['StockCode', 'CustomerID']).agg({'CustomerID': 'count'})\n",
    "\n",
    "# Rename the columns\n",
    "df_cancelled.columns = ['purchased']\n",
    "\n",
    "# Reset the index\n",
    "df_cancelled.reset_index(inplace=True)\n",
    "\n",
    "# Change all cancelled Purchases to -2 \n",
    "df_cancelled['purchased'] = -2\n",
    "\n",
    "# Sanity Check with Describe\n",
    "df_cancelled.describe()"
   ]
  },
  {
   "cell_type": "code",
   "execution_count": 12,
   "metadata": {},
   "outputs": [
    {
     "data": {
      "text/html": [
       "<div>\n",
       "<style scoped>\n",
       "    .dataframe tbody tr th:only-of-type {\n",
       "        vertical-align: middle;\n",
       "    }\n",
       "\n",
       "    .dataframe tbody tr th {\n",
       "        vertical-align: top;\n",
       "    }\n",
       "\n",
       "    .dataframe thead th {\n",
       "        text-align: right;\n",
       "    }\n",
       "</style>\n",
       "<table border=\"1\" class=\"dataframe\">\n",
       "  <thead>\n",
       "    <tr style=\"text-align: right;\">\n",
       "      <th></th>\n",
       "      <th>StockCode</th>\n",
       "      <th>CustomerID</th>\n",
       "      <th>purchased</th>\n",
       "    </tr>\n",
       "  </thead>\n",
       "  <tbody>\n",
       "    <tr>\n",
       "      <th>5068</th>\n",
       "      <td>1981</td>\n",
       "      <td>4213</td>\n",
       "      <td>-2</td>\n",
       "    </tr>\n",
       "    <tr>\n",
       "      <th>4541</th>\n",
       "      <td>1809</td>\n",
       "      <td>1523</td>\n",
       "      <td>-2</td>\n",
       "    </tr>\n",
       "    <tr>\n",
       "      <th>4563</th>\n",
       "      <td>1813</td>\n",
       "      <td>2821</td>\n",
       "      <td>-2</td>\n",
       "    </tr>\n",
       "    <tr>\n",
       "      <th>5419</th>\n",
       "      <td>2041</td>\n",
       "      <td>1728</td>\n",
       "      <td>-2</td>\n",
       "    </tr>\n",
       "    <tr>\n",
       "      <th>40</th>\n",
       "      <td>40</td>\n",
       "      <td>3365</td>\n",
       "      <td>-2</td>\n",
       "    </tr>\n",
       "  </tbody>\n",
       "</table>\n",
       "</div>"
      ],
      "text/plain": [
       "      StockCode  CustomerID  purchased\n",
       "5068       1981        4213         -2\n",
       "4541       1809        1523         -2\n",
       "4563       1813        2821         -2\n",
       "5419       2041        1728         -2\n",
       "40           40        3365         -2"
      ]
     },
     "execution_count": 12,
     "metadata": {},
     "output_type": "execute_result"
    }
   ],
   "source": [
    "# Sample of df_cancelled\n",
    "df_cancelled.sample(5)"
   ]
  },
  {
   "attachments": {},
   "cell_type": "markdown",
   "metadata": {},
   "source": [
    "## 3. Filter Out cancelled Combinations from Initial Dataset & Concat Cancelled orders to new Dataset"
   ]
  },
  {
   "cell_type": "code",
   "execution_count": 30,
   "metadata": {},
   "outputs": [],
   "source": [
    "# Perform the anti join by merging on 'StockCode' and 'CustomerID' using a 'left' join and adding an '_merge' indicator column\n",
    "merged_df = df.merge(df_cancelled, on=['StockCode', 'CustomerID'], how='left', indicator=True)\n",
    "\n",
    "# Keep only the rows where the '_merge' indicator is 'left_only', meaning they only exist in the 'df' dataframe\n",
    "filtered_df = merged_df[merged_df['_merge'] == 'left_only']\n",
    "\n",
    "# Drop the '_merge' column and any additional columns from 'df_cancelled' that might have been added during the merge\n",
    "filtered_df = filtered_df.drop(columns=['_merge'])\n",
    "\n",
    "# Reset the index if needed\n",
    "filtered_df.reset_index(drop=True, inplace=True)\n"
   ]
  },
  {
   "cell_type": "code",
   "execution_count": 33,
   "metadata": {},
   "outputs": [
    {
     "data": {
      "text/html": [
       "<div>\n",
       "<style scoped>\n",
       "    .dataframe tbody tr th:only-of-type {\n",
       "        vertical-align: middle;\n",
       "    }\n",
       "\n",
       "    .dataframe tbody tr th {\n",
       "        vertical-align: top;\n",
       "    }\n",
       "\n",
       "    .dataframe thead th {\n",
       "        text-align: right;\n",
       "    }\n",
       "</style>\n",
       "<table border=\"1\" class=\"dataframe\">\n",
       "  <thead>\n",
       "    <tr style=\"text-align: right;\">\n",
       "      <th></th>\n",
       "      <th>StockCode</th>\n",
       "      <th>CustomerID</th>\n",
       "      <th>purchased</th>\n",
       "    </tr>\n",
       "  </thead>\n",
       "  <tbody>\n",
       "    <tr>\n",
       "      <th>0</th>\n",
       "      <td>0</td>\n",
       "      <td>86</td>\n",
       "      <td>1</td>\n",
       "    </tr>\n",
       "    <tr>\n",
       "      <th>1</th>\n",
       "      <td>0</td>\n",
       "      <td>132</td>\n",
       "      <td>1</td>\n",
       "    </tr>\n",
       "    <tr>\n",
       "      <th>2</th>\n",
       "      <td>0</td>\n",
       "      <td>191</td>\n",
       "      <td>1</td>\n",
       "    </tr>\n",
       "    <tr>\n",
       "      <th>3</th>\n",
       "      <td>0</td>\n",
       "      <td>238</td>\n",
       "      <td>1</td>\n",
       "    </tr>\n",
       "    <tr>\n",
       "      <th>4</th>\n",
       "      <td>0</td>\n",
       "      <td>270</td>\n",
       "      <td>1</td>\n",
       "    </tr>\n",
       "  </tbody>\n",
       "</table>\n",
       "</div>"
      ],
      "text/plain": [
       "   StockCode  CustomerID  purchased\n",
       "0          0          86          1\n",
       "1          0         132          1\n",
       "2          0         191          1\n",
       "3          0         238          1\n",
       "4          0         270          1"
      ]
     },
     "execution_count": 33,
     "metadata": {},
     "output_type": "execute_result"
    }
   ],
   "source": [
    "# Group by InvoiceNo and calculate the number of appearances and the product of Quantity and UnitPrice\n",
    "df_purchased = filtered_df.groupby(['StockCode', 'CustomerID']).agg({'CustomerID': 'count'})\n",
    "\n",
    "# Rename the columns\n",
    "df_purchased.columns = ['purchased']\n",
    "\n",
    "# Reset the index\n",
    "df_purchased.reset_index(inplace=True)\n",
    "\n",
    "# Sanity Check with Describe\n",
    "df_purchased.head()"
   ]
  },
  {
   "cell_type": "code",
   "execution_count": 37,
   "metadata": {},
   "outputs": [
    {
     "name": "stdout",
     "output_type": "stream",
     "text": [
      "(260074, 3)\n"
     ]
    },
    {
     "data": {
      "text/html": [
       "<div>\n",
       "<style scoped>\n",
       "    .dataframe tbody tr th:only-of-type {\n",
       "        vertical-align: middle;\n",
       "    }\n",
       "\n",
       "    .dataframe tbody tr th {\n",
       "        vertical-align: top;\n",
       "    }\n",
       "\n",
       "    .dataframe thead th {\n",
       "        text-align: right;\n",
       "    }\n",
       "</style>\n",
       "<table border=\"1\" class=\"dataframe\">\n",
       "  <thead>\n",
       "    <tr style=\"text-align: right;\">\n",
       "      <th></th>\n",
       "      <th>StockCode</th>\n",
       "      <th>CustomerID</th>\n",
       "      <th>purchased</th>\n",
       "    </tr>\n",
       "  </thead>\n",
       "  <tbody>\n",
       "    <tr>\n",
       "      <th>0</th>\n",
       "      <td>0</td>\n",
       "      <td>86</td>\n",
       "      <td>1</td>\n",
       "    </tr>\n",
       "    <tr>\n",
       "      <th>1</th>\n",
       "      <td>0</td>\n",
       "      <td>132</td>\n",
       "      <td>1</td>\n",
       "    </tr>\n",
       "    <tr>\n",
       "      <th>2</th>\n",
       "      <td>0</td>\n",
       "      <td>191</td>\n",
       "      <td>1</td>\n",
       "    </tr>\n",
       "    <tr>\n",
       "      <th>3</th>\n",
       "      <td>0</td>\n",
       "      <td>238</td>\n",
       "      <td>1</td>\n",
       "    </tr>\n",
       "    <tr>\n",
       "      <th>4</th>\n",
       "      <td>0</td>\n",
       "      <td>270</td>\n",
       "      <td>1</td>\n",
       "    </tr>\n",
       "  </tbody>\n",
       "</table>\n",
       "</div>"
      ],
      "text/plain": [
       "   StockCode  CustomerID  purchased\n",
       "0          0          86          1\n",
       "1          0         132          1\n",
       "2          0         191          1\n",
       "3          0         238          1\n",
       "4          0         270          1"
      ]
     },
     "execution_count": 37,
     "metadata": {},
     "output_type": "execute_result"
    }
   ],
   "source": [
    "# Concatenate Purched & Cancelled\n",
    "df_ratings = pd.concat([df_purchased, df_cancelled], ignore_index=True)\n",
    "\n",
    "# Check Shape\n",
    "print(df_ratings.shape)\n",
    "\n",
    "# First five Rews\n",
    "df_ratings.head()"
   ]
  },
  {
   "cell_type": "code",
   "execution_count": 38,
   "metadata": {},
   "outputs": [
    {
     "data": {
      "text/html": [
       "<div>\n",
       "<style scoped>\n",
       "    .dataframe tbody tr th:only-of-type {\n",
       "        vertical-align: middle;\n",
       "    }\n",
       "\n",
       "    .dataframe tbody tr th {\n",
       "        vertical-align: top;\n",
       "    }\n",
       "\n",
       "    .dataframe thead th {\n",
       "        text-align: right;\n",
       "    }\n",
       "</style>\n",
       "<table border=\"1\" class=\"dataframe\">\n",
       "  <thead>\n",
       "    <tr style=\"text-align: right;\">\n",
       "      <th></th>\n",
       "      <th>StockCode</th>\n",
       "      <th>CustomerID</th>\n",
       "      <th>purchased</th>\n",
       "    </tr>\n",
       "  </thead>\n",
       "  <tbody>\n",
       "    <tr>\n",
       "      <th>count</th>\n",
       "      <td>260074.000000</td>\n",
       "      <td>260074.000000</td>\n",
       "      <td>260074.000000</td>\n",
       "    </tr>\n",
       "    <tr>\n",
       "      <th>mean</th>\n",
       "      <td>1566.765894</td>\n",
       "      <td>2168.561452</td>\n",
       "      <td>1.373209</td>\n",
       "    </tr>\n",
       "    <tr>\n",
       "      <th>std</th>\n",
       "      <td>817.726893</td>\n",
       "      <td>1252.728662</td>\n",
       "      <td>1.385767</td>\n",
       "    </tr>\n",
       "    <tr>\n",
       "      <th>min</th>\n",
       "      <td>0.000000</td>\n",
       "      <td>1.000000</td>\n",
       "      <td>-2.000000</td>\n",
       "    </tr>\n",
       "    <tr>\n",
       "      <th>25%</th>\n",
       "      <td>957.000000</td>\n",
       "      <td>1134.000000</td>\n",
       "      <td>1.000000</td>\n",
       "    </tr>\n",
       "    <tr>\n",
       "      <th>50%</th>\n",
       "      <td>1543.000000</td>\n",
       "      <td>2125.000000</td>\n",
       "      <td>1.000000</td>\n",
       "    </tr>\n",
       "    <tr>\n",
       "      <th>75%</th>\n",
       "      <td>2102.000000</td>\n",
       "      <td>3272.000000</td>\n",
       "      <td>1.000000</td>\n",
       "    </tr>\n",
       "    <tr>\n",
       "      <th>max</th>\n",
       "      <td>3683.000000</td>\n",
       "      <td>4371.000000</td>\n",
       "      <td>54.000000</td>\n",
       "    </tr>\n",
       "  </tbody>\n",
       "</table>\n",
       "</div>"
      ],
      "text/plain": [
       "           StockCode     CustomerID      purchased\n",
       "count  260074.000000  260074.000000  260074.000000\n",
       "mean     1566.765894    2168.561452       1.373209\n",
       "std       817.726893    1252.728662       1.385767\n",
       "min         0.000000       1.000000      -2.000000\n",
       "25%       957.000000    1134.000000       1.000000\n",
       "50%      1543.000000    2125.000000       1.000000\n",
       "75%      2102.000000    3272.000000       1.000000\n",
       "max      3683.000000    4371.000000      54.000000"
      ]
     },
     "execution_count": 38,
     "metadata": {},
     "output_type": "execute_result"
    }
   ],
   "source": [
    "# Describe df_ratings\n",
    "df_ratings.describe()"
   ]
  },
  {
   "attachments": {},
   "cell_type": "markdown",
   "metadata": {},
   "source": [
    "## 4. Increase value of repurchased items"
   ]
  },
  {
   "cell_type": "code",
   "execution_count": 39,
   "metadata": {},
   "outputs": [
    {
     "data": {
      "text/plain": [
       " 1    191749\n",
       " 2     61009\n",
       "-2      7316\n",
       "Name: purchased, dtype: int64"
      ]
     },
     "execution_count": 39,
     "metadata": {},
     "output_type": "execute_result"
    }
   ],
   "source": [
    "# Apply function with lambda for the condition: If x in purchased <=1 x, else 2 \n",
    "df_ratings['purchased'] = df_ratings['purchased'].apply(lambda x: x if x <= 1 else 2)\n",
    "\n",
    "# Check\n",
    "df_ratings.purchased.value_counts()\n",
    "\n"
   ]
  },
  {
   "attachments": {},
   "cell_type": "markdown",
   "metadata": {},
   "source": [
    "## 5. Insert Negative Values for non Purchased Popular Items"
   ]
  },
  {
   "cell_type": "code",
   "execution_count": 44,
   "metadata": {},
   "outputs": [
    {
     "data": {
      "text/html": [
       "<div>\n",
       "<style scoped>\n",
       "    .dataframe tbody tr th:only-of-type {\n",
       "        vertical-align: middle;\n",
       "    }\n",
       "\n",
       "    .dataframe tbody tr th {\n",
       "        vertical-align: top;\n",
       "    }\n",
       "\n",
       "    .dataframe thead th {\n",
       "        text-align: right;\n",
       "    }\n",
       "</style>\n",
       "<table border=\"1\" class=\"dataframe\">\n",
       "  <thead>\n",
       "    <tr style=\"text-align: right;\">\n",
       "      <th></th>\n",
       "      <th>StockCode</th>\n",
       "      <th>Purchases</th>\n",
       "    </tr>\n",
       "  </thead>\n",
       "  <tbody>\n",
       "    <tr>\n",
       "      <th>0</th>\n",
       "      <td>0</td>\n",
       "      <td>49</td>\n",
       "    </tr>\n",
       "    <tr>\n",
       "      <th>1</th>\n",
       "      <td>1</td>\n",
       "      <td>21</td>\n",
       "    </tr>\n",
       "    <tr>\n",
       "      <th>2</th>\n",
       "      <td>2</td>\n",
       "      <td>30</td>\n",
       "    </tr>\n",
       "    <tr>\n",
       "      <th>3</th>\n",
       "      <td>6</td>\n",
       "      <td>64</td>\n",
       "    </tr>\n",
       "    <tr>\n",
       "      <th>4</th>\n",
       "      <td>7</td>\n",
       "      <td>123</td>\n",
       "    </tr>\n",
       "  </tbody>\n",
       "</table>\n",
       "</div>"
      ],
      "text/plain": [
       "   StockCode  Purchases\n",
       "0          0         49\n",
       "1          1         21\n",
       "2          2         30\n",
       "3          6         64\n",
       "4          7        123"
      ]
     },
     "execution_count": 44,
     "metadata": {},
     "output_type": "execute_result"
    }
   ],
   "source": [
    "# First remove cancellations from initial\n",
    "df_positive = df[~df['InvoiceNo'].str.startswith('C')]\n",
    "\n",
    "# Second Count number of Purchases per Item\n",
    "df_items = df_positive.groupby('StockCode').agg({'StockCode': 'count'})\n",
    "\n",
    "# Rename the columns\n",
    "df_items.columns = ['Purchases']\n",
    "\n",
    "# Reset the index\n",
    "df_items.reset_index(inplace=True)\n",
    "\n",
    "df_items.head()\n"
   ]
  },
  {
   "cell_type": "code",
   "execution_count": 48,
   "metadata": {},
   "outputs": [
    {
     "data": {
      "text/plain": [
       "138"
      ]
     },
     "execution_count": 48,
     "metadata": {},
     "output_type": "execute_result"
    }
   ],
   "source": [
    "# Filter Out best Items \n",
    "df_top5_items = df_items[df_items['Purchases'] >= df_items['Purchases'].quantile(0.95)]\n",
    "\n",
    "# Number of top Items \n",
    "df_top5_items.shape[0]"
   ]
  },
  {
   "cell_type": "code",
   "execution_count": 61,
   "metadata": {},
   "outputs": [],
   "source": [
    "# Save top Items in an array \n",
    "top5_perc_items = df_top5_items['StockCode'].unique()\n",
    "\n",
    "# Save all Users from df_rating in an array\n",
    "all_users = df_ratings['CustomerID'].unique()"
   ]
  },
  {
   "cell_type": "code",
   "execution_count": 64,
   "metadata": {},
   "outputs": [
    {
     "data": {
      "text/plain": [
       "510462"
      ]
     },
     "execution_count": 64,
     "metadata": {},
     "output_type": "execute_result"
    }
   ],
   "source": [
    "# For sanity check in the next step multiply length of both arrays. This should later be the shape of dataframe with unique combinations out of both arrays\n",
    "len(top5_perc_items) * len(all_users)"
   ]
  },
  {
   "cell_type": "code",
   "execution_count": 65,
   "metadata": {},
   "outputs": [
    {
     "data": {
      "text/plain": [
       "(510462, 2)"
      ]
     },
     "execution_count": 65,
     "metadata": {},
     "output_type": "execute_result"
    }
   ],
   "source": [
    "# Create Dataframe with all unique matches of top items and all users \n",
    "\n",
    "# First Create a meshgrid of all_users and top5_perc_items\n",
    "user_grid, item_grid = np.meshgrid(all_users, top5_perc_items, indexing='ij')\n",
    "\n",
    "# Flatten the meshgrid arrays\n",
    "user_flat = user_grid.flatten()\n",
    "item_flat = item_grid.flatten()\n",
    "\n",
    "# Create a pandas dataframe with a row for each combination of the values in all_users and top5_perc_items\n",
    "top_potential_purchases = pd.DataFrame({'CustomerID': user_flat, 'StockCode': item_flat})\n",
    "\n",
    "# Check shape: it should be 510462 \n",
    "top_potential_purchases.shape\n"
   ]
  },
  {
   "cell_type": "code",
   "execution_count": 68,
   "metadata": {},
   "outputs": [
    {
     "data": {
      "text/html": [
       "<div>\n",
       "<style scoped>\n",
       "    .dataframe tbody tr th:only-of-type {\n",
       "        vertical-align: middle;\n",
       "    }\n",
       "\n",
       "    .dataframe tbody tr th {\n",
       "        vertical-align: top;\n",
       "    }\n",
       "\n",
       "    .dataframe thead th {\n",
       "        text-align: right;\n",
       "    }\n",
       "</style>\n",
       "<table border=\"1\" class=\"dataframe\">\n",
       "  <thead>\n",
       "    <tr style=\"text-align: right;\">\n",
       "      <th></th>\n",
       "      <th>CustomerID</th>\n",
       "      <th>StockCode</th>\n",
       "      <th>purchased</th>\n",
       "    </tr>\n",
       "  </thead>\n",
       "  <tbody>\n",
       "    <tr>\n",
       "      <th>0</th>\n",
       "      <td>86</td>\n",
       "      <td>146</td>\n",
       "      <td>-1</td>\n",
       "    </tr>\n",
       "    <tr>\n",
       "      <th>1</th>\n",
       "      <td>86</td>\n",
       "      <td>162</td>\n",
       "      <td>-1</td>\n",
       "    </tr>\n",
       "    <tr>\n",
       "      <th>2</th>\n",
       "      <td>86</td>\n",
       "      <td>167</td>\n",
       "      <td>-1</td>\n",
       "    </tr>\n",
       "    <tr>\n",
       "      <th>3</th>\n",
       "      <td>86</td>\n",
       "      <td>168</td>\n",
       "      <td>-1</td>\n",
       "    </tr>\n",
       "    <tr>\n",
       "      <th>4</th>\n",
       "      <td>86</td>\n",
       "      <td>169</td>\n",
       "      <td>-1</td>\n",
       "    </tr>\n",
       "  </tbody>\n",
       "</table>\n",
       "</div>"
      ],
      "text/plain": [
       "   CustomerID  StockCode  purchased\n",
       "0          86        146         -1\n",
       "1          86        162         -1\n",
       "2          86        167         -1\n",
       "3          86        168         -1\n",
       "4          86        169         -1"
      ]
     },
     "execution_count": 68,
     "metadata": {},
     "output_type": "execute_result"
    }
   ],
   "source": [
    "# Insert a -1 in a new column as value for all rows\n",
    "top_potential_purchases['purchased'] = -1 \n",
    "\n",
    "# Sanity check\n",
    "top_potential_purchases.head()"
   ]
  },
  {
   "cell_type": "code",
   "execution_count": 74,
   "metadata": {},
   "outputs": [
    {
     "data": {
      "text/html": [
       "<div>\n",
       "<style scoped>\n",
       "    .dataframe tbody tr th:only-of-type {\n",
       "        vertical-align: middle;\n",
       "    }\n",
       "\n",
       "    .dataframe tbody tr th {\n",
       "        vertical-align: top;\n",
       "    }\n",
       "\n",
       "    .dataframe thead th {\n",
       "        text-align: right;\n",
       "    }\n",
       "</style>\n",
       "<table border=\"1\" class=\"dataframe\">\n",
       "  <thead>\n",
       "    <tr style=\"text-align: right;\">\n",
       "      <th></th>\n",
       "      <th>CustomerID</th>\n",
       "      <th>StockCode</th>\n",
       "      <th>purchased</th>\n",
       "    </tr>\n",
       "  </thead>\n",
       "  <tbody>\n",
       "    <tr>\n",
       "      <th>0</th>\n",
       "      <td>86</td>\n",
       "      <td>168</td>\n",
       "      <td>-1</td>\n",
       "    </tr>\n",
       "    <tr>\n",
       "      <th>1</th>\n",
       "      <td>86</td>\n",
       "      <td>280</td>\n",
       "      <td>-1</td>\n",
       "    </tr>\n",
       "    <tr>\n",
       "      <th>2</th>\n",
       "      <td>86</td>\n",
       "      <td>315</td>\n",
       "      <td>-1</td>\n",
       "    </tr>\n",
       "    <tr>\n",
       "      <th>3</th>\n",
       "      <td>86</td>\n",
       "      <td>393</td>\n",
       "      <td>-1</td>\n",
       "    </tr>\n",
       "    <tr>\n",
       "      <th>4</th>\n",
       "      <td>86</td>\n",
       "      <td>399</td>\n",
       "      <td>-1</td>\n",
       "    </tr>\n",
       "  </tbody>\n",
       "</table>\n",
       "</div>"
      ],
      "text/plain": [
       "   CustomerID  StockCode  purchased\n",
       "0          86        168         -1\n",
       "1          86        280         -1\n",
       "2          86        315         -1\n",
       "3          86        393         -1\n",
       "4          86        399         -1"
      ]
     },
     "execution_count": 74,
     "metadata": {},
     "output_type": "execute_result"
    }
   ],
   "source": [
    "# Perform an Anti-Join between df_ratings and top_potential_purchases to find out combinations of CustomerID & StockCode that are only in top_potential purchases. Drop duplicates and concatenate to ratings\n",
    "\n",
    "# Perform the anti join by merging on 'StockCode' and 'CustomerID' using a 'left' join and adding an '_merge' indicator column\n",
    "popular_non_bought = top_potential_purchases.merge(df_ratings, on=['StockCode', 'CustomerID'], how='left', indicator=True)\n",
    "\n",
    "# Keep only the rows where the '_merge' indicator is 'left_only', meaning they only exist in the 'df' dataframe\n",
    "popular_non_bought = popular_non_bought[popular_non_bought['_merge'] == 'left_only']\n",
    "\n",
    "# Drop the '_merge' column and any additional columns from 'df_cancelled' that might have been added during the merge\n",
    "popular_non_bought = popular_non_bought.drop(columns=['_merge', 'purchased_y'])\n",
    "\n",
    "# Reset the index if needed\n",
    "popular_non_bought.reset_index(drop=True, inplace=True)\n",
    "\n",
    "# Rename purchased_x to purchased\n",
    "popular_non_bought = popular_non_bought.rename(columns={'purchased_x':'purchased'})\n",
    "\n",
    "# Show first Five rows\n",
    "popular_non_bought.head()\n"
   ]
  },
  {
   "cell_type": "code",
   "execution_count": 75,
   "metadata": {},
   "outputs": [
    {
     "data": {
      "text/html": [
       "<div>\n",
       "<style scoped>\n",
       "    .dataframe tbody tr th:only-of-type {\n",
       "        vertical-align: middle;\n",
       "    }\n",
       "\n",
       "    .dataframe tbody tr th {\n",
       "        vertical-align: top;\n",
       "    }\n",
       "\n",
       "    .dataframe thead th {\n",
       "        text-align: right;\n",
       "    }\n",
       "</style>\n",
       "<table border=\"1\" class=\"dataframe\">\n",
       "  <thead>\n",
       "    <tr style=\"text-align: right;\">\n",
       "      <th></th>\n",
       "      <th>StockCode</th>\n",
       "      <th>CustomerID</th>\n",
       "      <th>purchased</th>\n",
       "    </tr>\n",
       "  </thead>\n",
       "  <tbody>\n",
       "    <tr>\n",
       "      <th>149696</th>\n",
       "      <td>1755</td>\n",
       "      <td>1617</td>\n",
       "      <td>1</td>\n",
       "    </tr>\n",
       "    <tr>\n",
       "      <th>202859</th>\n",
       "      <td>2186</td>\n",
       "      <td>2914</td>\n",
       "      <td>1</td>\n",
       "    </tr>\n",
       "    <tr>\n",
       "      <th>331497</th>\n",
       "      <td>342</td>\n",
       "      <td>3481</td>\n",
       "      <td>-1</td>\n",
       "    </tr>\n",
       "    <tr>\n",
       "      <th>363261</th>\n",
       "      <td>1260</td>\n",
       "      <td>898</td>\n",
       "      <td>-1</td>\n",
       "    </tr>\n",
       "    <tr>\n",
       "      <th>76194</th>\n",
       "      <td>1069</td>\n",
       "      <td>2368</td>\n",
       "      <td>2</td>\n",
       "    </tr>\n",
       "    <tr>\n",
       "      <th>252267</th>\n",
       "      <td>3625</td>\n",
       "      <td>1997</td>\n",
       "      <td>1</td>\n",
       "    </tr>\n",
       "    <tr>\n",
       "      <th>652228</th>\n",
       "      <td>2033</td>\n",
       "      <td>2206</td>\n",
       "      <td>-1</td>\n",
       "    </tr>\n",
       "    <tr>\n",
       "      <th>93717</th>\n",
       "      <td>1277</td>\n",
       "      <td>815</td>\n",
       "      <td>1</td>\n",
       "    </tr>\n",
       "    <tr>\n",
       "      <th>660631</th>\n",
       "      <td>262</td>\n",
       "      <td>3971</td>\n",
       "      <td>-1</td>\n",
       "    </tr>\n",
       "    <tr>\n",
       "      <th>400958</th>\n",
       "      <td>891</td>\n",
       "      <td>2207</td>\n",
       "      <td>-1</td>\n",
       "    </tr>\n",
       "  </tbody>\n",
       "</table>\n",
       "</div>"
      ],
      "text/plain": [
       "        StockCode  CustomerID  purchased\n",
       "149696       1755        1617          1\n",
       "202859       2186        2914          1\n",
       "331497        342        3481         -1\n",
       "363261       1260         898         -1\n",
       "76194        1069        2368          2\n",
       "252267       3625        1997          1\n",
       "652228       2033        2206         -1\n",
       "93717        1277         815          1\n",
       "660631        262        3971         -1\n",
       "400958        891        2207         -1"
      ]
     },
     "execution_count": 75,
     "metadata": {},
     "output_type": "execute_result"
    }
   ],
   "source": [
    "# Concatenat epopular_non_bought with df_ratings\n",
    "df_ratings = pd.concat([df_ratings, popular_non_bought], ignore_index=True)\n",
    "\n",
    "# Check sample\n",
    "df_ratings.sample(10)"
   ]
  },
  {
   "cell_type": "code",
   "execution_count": 76,
   "metadata": {},
   "outputs": [
    {
     "data": {
      "text/html": [
       "<div>\n",
       "<style scoped>\n",
       "    .dataframe tbody tr th:only-of-type {\n",
       "        vertical-align: middle;\n",
       "    }\n",
       "\n",
       "    .dataframe tbody tr th {\n",
       "        vertical-align: top;\n",
       "    }\n",
       "\n",
       "    .dataframe thead th {\n",
       "        text-align: right;\n",
       "    }\n",
       "</style>\n",
       "<table border=\"1\" class=\"dataframe\">\n",
       "  <thead>\n",
       "    <tr style=\"text-align: right;\">\n",
       "      <th></th>\n",
       "      <th>StockCode</th>\n",
       "      <th>CustomerID</th>\n",
       "      <th>purchased</th>\n",
       "    </tr>\n",
       "  </thead>\n",
       "  <tbody>\n",
       "    <tr>\n",
       "      <th>count</th>\n",
       "      <td>718398.000000</td>\n",
       "      <td>718398.000000</td>\n",
       "      <td>718398.000000</td>\n",
       "    </tr>\n",
       "    <tr>\n",
       "      <th>mean</th>\n",
       "      <td>1570.656969</td>\n",
       "      <td>2174.373559</td>\n",
       "      <td>-0.221589</td>\n",
       "    </tr>\n",
       "    <tr>\n",
       "      <th>std</th>\n",
       "      <td>845.517794</td>\n",
       "      <td>1261.142384</td>\n",
       "      <td>1.111855</td>\n",
       "    </tr>\n",
       "    <tr>\n",
       "      <th>min</th>\n",
       "      <td>0.000000</td>\n",
       "      <td>1.000000</td>\n",
       "      <td>-2.000000</td>\n",
       "    </tr>\n",
       "    <tr>\n",
       "      <th>25%</th>\n",
       "      <td>968.000000</td>\n",
       "      <td>1095.000000</td>\n",
       "      <td>-1.000000</td>\n",
       "    </tr>\n",
       "    <tr>\n",
       "      <th>50%</th>\n",
       "      <td>1516.000000</td>\n",
       "      <td>2166.000000</td>\n",
       "      <td>-1.000000</td>\n",
       "    </tr>\n",
       "    <tr>\n",
       "      <th>75%</th>\n",
       "      <td>2088.000000</td>\n",
       "      <td>3274.000000</td>\n",
       "      <td>1.000000</td>\n",
       "    </tr>\n",
       "    <tr>\n",
       "      <th>max</th>\n",
       "      <td>3683.000000</td>\n",
       "      <td>4371.000000</td>\n",
       "      <td>2.000000</td>\n",
       "    </tr>\n",
       "  </tbody>\n",
       "</table>\n",
       "</div>"
      ],
      "text/plain": [
       "           StockCode     CustomerID      purchased\n",
       "count  718398.000000  718398.000000  718398.000000\n",
       "mean     1570.656969    2174.373559      -0.221589\n",
       "std       845.517794    1261.142384       1.111855\n",
       "min         0.000000       1.000000      -2.000000\n",
       "25%       968.000000    1095.000000      -1.000000\n",
       "50%      1516.000000    2166.000000      -1.000000\n",
       "75%      2088.000000    3274.000000       1.000000\n",
       "max      3683.000000    4371.000000       2.000000"
      ]
     },
     "execution_count": 76,
     "metadata": {},
     "output_type": "execute_result"
    }
   ],
   "source": [
    "# Check Descriptive Statistics\n",
    "df_ratings.describe()"
   ]
  },
  {
   "cell_type": "code",
   "execution_count": 77,
   "metadata": {},
   "outputs": [
    {
     "data": {
      "text/plain": [
       "-1    458324\n",
       " 1    191749\n",
       " 2     61009\n",
       "-2      7316\n",
       "Name: purchased, dtype: int64"
      ]
     },
     "execution_count": 77,
     "metadata": {},
     "output_type": "execute_result"
    }
   ],
   "source": [
    "# Check Distribution \n",
    "df_ratings.purchased.value_counts()"
   ]
  },
  {
   "attachments": {},
   "cell_type": "markdown",
   "metadata": {},
   "source": [
    "## 6. Split Into Training & Test Data"
   ]
  },
  {
   "cell_type": "code",
   "execution_count": 79,
   "metadata": {},
   "outputs": [],
   "source": [
    "# Load the Chronological Splitter\n",
    "from recommenders.datasets.python_splitters import python_stratified_split\n",
    "\n",
    "# Split with Python Stratified\n",
    "train_rat, test_rat = python_stratified_split(df_ratings, ratio=0.8, filter_by='user', min_rating=10, col_user='CustomerID', col_item='StockCode', seed=1)"
   ]
  },
  {
   "cell_type": "code",
   "execution_count": 80,
   "metadata": {},
   "outputs": [
    {
     "name": "stdout",
     "output_type": "stream",
     "text": [
      "Rows in train: 574703\n",
      "Rows in test: 143695\n"
     ]
    }
   ],
   "source": [
    "# Rows in Train & Test\n",
    "print(\"Rows in train:\", train_rat.shape[0])\n",
    "print(\"Rows in test:\", test_rat.shape[0])"
   ]
  },
  {
   "cell_type": "code",
   "execution_count": 81,
   "metadata": {},
   "outputs": [],
   "source": [
    "# Ensure that the same items and users are in both sets \n",
    "# Find the set of unique items in both the train and test sets\n",
    "train_items_rat = set(train_rat['StockCode'].unique())\n",
    "test_items_rat = set(test_rat['StockCode'].unique())\n",
    "\n",
    "# Find the intersection of the sets from step 1\n",
    "common_items_rat = train_items_rat.intersection(test_items_rat)\n",
    "\n",
    "# Filter the train and test sets to include only the rows with item IDs that are in the intersection set\n",
    "train_rat = train_rat[train_rat['StockCode'].isin(common_items_rat)]\n",
    "test_rat = test_rat[test_rat['StockCode'].isin(common_items_rat)]"
   ]
  },
  {
   "cell_type": "code",
   "execution_count": 84,
   "metadata": {},
   "outputs": [
    {
     "name": "stdout",
     "output_type": "stream",
     "text": [
      "Users in Test: 3699\n",
      "Users in Train: 3699\n",
      "Items in Test: 2723\n",
      "Items in Train: 2723\n"
     ]
    }
   ],
   "source": [
    "#  Check number of unique Users & Items in Test & Train \n",
    "print(\"Users in Test:\",test_rat['CustomerID'].nunique())\n",
    "print(\"Users in Train:\",train_rat['CustomerID'].nunique())\n",
    "print(\"Items in Test:\",test_rat['StockCode'].nunique())\n",
    "print(\"Items in Train:\",train_rat['StockCode'].nunique())\n"
   ]
  },
  {
   "cell_type": "code",
   "execution_count": 85,
   "metadata": {},
   "outputs": [
    {
     "name": "stdout",
     "output_type": "stream",
     "text": [
      "Rows in train: 574361\n",
      "Rows in test: 143695\n"
     ]
    }
   ],
   "source": [
    "# Rows in Train & Test\n",
    "print(\"Rows in train:\", train_rat.shape[0])\n",
    "print(\"Rows in test:\", test_rat.shape[0])"
   ]
  },
  {
   "cell_type": "code",
   "execution_count": 86,
   "metadata": {},
   "outputs": [],
   "source": [
    "# Save as csv \n",
    "train_rat.to_csv('../00_Data/online_retail_ratings_train.csv')\n",
    "test_rat.to_csv('../00_Data/online_retail_ratings_test.csv')"
   ]
  }
 ],
 "metadata": {
  "kernelspec": {
   "display_name": "recom",
   "language": "python",
   "name": "python3"
  },
  "language_info": {
   "codemirror_mode": {
    "name": "ipython",
    "version": 3
   },
   "file_extension": ".py",
   "mimetype": "text/x-python",
   "name": "python",
   "nbconvert_exporter": "python",
   "pygments_lexer": "ipython3",
   "version": "3.9.16"
  },
  "orig_nbformat": 4,
  "vscode": {
   "interpreter": {
    "hash": "17afcd9f6960de0a3656d2c4c5dd434deed0eab3cd38c55c3169df3bef50250d"
   }
  }
 },
 "nbformat": 4,
 "nbformat_minor": 2
}
