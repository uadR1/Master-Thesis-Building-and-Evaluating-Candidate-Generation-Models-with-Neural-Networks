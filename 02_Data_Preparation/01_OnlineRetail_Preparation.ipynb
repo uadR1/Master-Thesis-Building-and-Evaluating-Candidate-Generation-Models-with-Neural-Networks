{
 "cells": [
  {
   "attachments": {},
   "cell_type": "markdown",
   "metadata": {},
   "source": [
    "# Loading necessary Libraries"
   ]
  },
  {
   "cell_type": "code",
   "execution_count": 131,
   "metadata": {},
   "outputs": [],
   "source": [
    "import pandas as pd\n",
    "import numpy as np\n",
    "import seaborn as sns\n",
    "import matplotlib.pyplot as plt\n",
    "import matplotlib.style"
   ]
  },
  {
   "attachments": {},
   "cell_type": "markdown",
   "metadata": {},
   "source": [
    "# Loading Dataset"
   ]
  },
  {
   "cell_type": "code",
   "execution_count": 132,
   "metadata": {},
   "outputs": [],
   "source": [
    "# Reading Data # First Column is the index\n",
    "df = pd.read_csv('../00_Data/online_retailed_precleaned.csv', index_col=0)"
   ]
  },
  {
   "cell_type": "code",
   "execution_count": 133,
   "metadata": {},
   "outputs": [
    {
     "data": {
      "text/html": [
       "<div>\n",
       "<style scoped>\n",
       "    .dataframe tbody tr th:only-of-type {\n",
       "        vertical-align: middle;\n",
       "    }\n",
       "\n",
       "    .dataframe tbody tr th {\n",
       "        vertical-align: top;\n",
       "    }\n",
       "\n",
       "    .dataframe thead th {\n",
       "        text-align: right;\n",
       "    }\n",
       "</style>\n",
       "<table border=\"1\" class=\"dataframe\">\n",
       "  <thead>\n",
       "    <tr style=\"text-align: right;\">\n",
       "      <th></th>\n",
       "      <th>InvoiceNo</th>\n",
       "      <th>StockCode</th>\n",
       "      <th>Description</th>\n",
       "      <th>Quantity</th>\n",
       "      <th>InvoiceDate</th>\n",
       "      <th>UnitPrice</th>\n",
       "      <th>CustomerID</th>\n",
       "      <th>Country</th>\n",
       "      <th>Num_word_text</th>\n",
       "    </tr>\n",
       "  </thead>\n",
       "  <tbody>\n",
       "    <tr>\n",
       "      <th>0</th>\n",
       "      <td>536365</td>\n",
       "      <td>3249</td>\n",
       "      <td>WHITE HANGING HEART T-LIGHT HOLDER</td>\n",
       "      <td>6</td>\n",
       "      <td>2010-12-01 08:26:00</td>\n",
       "      <td>2.55</td>\n",
       "      <td>4048</td>\n",
       "      <td>United Kingdom</td>\n",
       "      <td>5</td>\n",
       "    </tr>\n",
       "    <tr>\n",
       "      <th>1</th>\n",
       "      <td>536365</td>\n",
       "      <td>2649</td>\n",
       "      <td>WHITE METAL LANTERN</td>\n",
       "      <td>6</td>\n",
       "      <td>2010-12-01 08:26:00</td>\n",
       "      <td>3.39</td>\n",
       "      <td>4048</td>\n",
       "      <td>United Kingdom</td>\n",
       "      <td>3</td>\n",
       "    </tr>\n",
       "    <tr>\n",
       "      <th>2</th>\n",
       "      <td>536365</td>\n",
       "      <td>2855</td>\n",
       "      <td>CREAM CUPID HEARTS COAT HANGER</td>\n",
       "      <td>8</td>\n",
       "      <td>2010-12-01 08:26:00</td>\n",
       "      <td>2.75</td>\n",
       "      <td>4048</td>\n",
       "      <td>United Kingdom</td>\n",
       "      <td>5</td>\n",
       "    </tr>\n",
       "    <tr>\n",
       "      <th>3</th>\n",
       "      <td>536365</td>\n",
       "      <td>2803</td>\n",
       "      <td>KNITTED UNION FLAG HOT WATER BOTTLE</td>\n",
       "      <td>6</td>\n",
       "      <td>2010-12-01 08:26:00</td>\n",
       "      <td>3.39</td>\n",
       "      <td>4048</td>\n",
       "      <td>United Kingdom</td>\n",
       "      <td>6</td>\n",
       "    </tr>\n",
       "    <tr>\n",
       "      <th>4</th>\n",
       "      <td>536365</td>\n",
       "      <td>2802</td>\n",
       "      <td>RED WOOLLY HOTTIE WHITE HEART.</td>\n",
       "      <td>6</td>\n",
       "      <td>2010-12-01 08:26:00</td>\n",
       "      <td>3.39</td>\n",
       "      <td>4048</td>\n",
       "      <td>United Kingdom</td>\n",
       "      <td>5</td>\n",
       "    </tr>\n",
       "  </tbody>\n",
       "</table>\n",
       "</div>"
      ],
      "text/plain": [
       "  InvoiceNo  StockCode                          Description  Quantity  \\\n",
       "0    536365       3249   WHITE HANGING HEART T-LIGHT HOLDER         6   \n",
       "1    536365       2649                  WHITE METAL LANTERN         6   \n",
       "2    536365       2855       CREAM CUPID HEARTS COAT HANGER         8   \n",
       "3    536365       2803  KNITTED UNION FLAG HOT WATER BOTTLE         6   \n",
       "4    536365       2802       RED WOOLLY HOTTIE WHITE HEART.         6   \n",
       "\n",
       "           InvoiceDate  UnitPrice  CustomerID         Country  Num_word_text  \n",
       "0  2010-12-01 08:26:00       2.55        4048  United Kingdom              5  \n",
       "1  2010-12-01 08:26:00       3.39        4048  United Kingdom              3  \n",
       "2  2010-12-01 08:26:00       2.75        4048  United Kingdom              5  \n",
       "3  2010-12-01 08:26:00       3.39        4048  United Kingdom              6  \n",
       "4  2010-12-01 08:26:00       3.39        4048  United Kingdom              5  "
      ]
     },
     "execution_count": 133,
     "metadata": {},
     "output_type": "execute_result"
    }
   ],
   "source": [
    "# First five rows\n",
    "df.head()"
   ]
  },
  {
   "cell_type": "code",
   "execution_count": 134,
   "metadata": {},
   "outputs": [
    {
     "data": {
      "text/plain": [
       "(396528, 9)"
      ]
     },
     "execution_count": 134,
     "metadata": {},
     "output_type": "execute_result"
    }
   ],
   "source": [
    "# Shape of data\n",
    "df.shape"
   ]
  },
  {
   "cell_type": "code",
   "execution_count": 135,
   "metadata": {},
   "outputs": [
    {
     "name": "stdout",
     "output_type": "stream",
     "text": [
      "Unique Users: 3696\n",
      "Unique Items: 2786\n"
     ]
    }
   ],
   "source": [
    "# Unique Users & Items\n",
    "print(\"Unique Users:\", df.CustomerID.nunique())\n",
    "print(\"Unique Items:\", df.StockCode.nunique())"
   ]
  },
  {
   "attachments": {},
   "cell_type": "markdown",
   "metadata": {},
   "source": [
    "# Preparation: Binary Dataset"
   ]
  },
  {
   "attachments": {},
   "cell_type": "markdown",
   "metadata": {},
   "source": [
    "Main Steps\n",
    "\n",
    "1. Remove all cancelled orders\n",
    "2. Aggregate all User - Item Interactions & Create Flag Column for Purchases\n",
    "3. Split into Train & Test Data"
   ]
  },
  {
   "attachments": {},
   "cell_type": "markdown",
   "metadata": {},
   "source": [
    "# 1. Removing Cancelled Orders"
   ]
  },
  {
   "cell_type": "code",
   "execution_count": 136,
   "metadata": {},
   "outputs": [],
   "source": [
    "# Filter out rows with cancelled orders\n",
    "df_non_cancelled = df[~df['InvoiceNo'].str.startswith('C')]"
   ]
  },
  {
   "cell_type": "code",
   "execution_count": 137,
   "metadata": {},
   "outputs": [
    {
     "data": {
      "text/plain": [
       "(388422, 9)"
      ]
     },
     "execution_count": 137,
     "metadata": {},
     "output_type": "execute_result"
    }
   ],
   "source": [
    "# Check Shape after Removal\n",
    "df_non_cancelled.shape"
   ]
  },
  {
   "cell_type": "code",
   "execution_count": 138,
   "metadata": {},
   "outputs": [
    {
     "data": {
      "text/plain": [
       "8106"
      ]
     },
     "execution_count": 138,
     "metadata": {},
     "output_type": "execute_result"
    }
   ],
   "source": [
    "# Number of removed rows\n",
    "df.shape[0] - df_non_cancelled.shape[0]"
   ]
  },
  {
   "cell_type": "code",
   "execution_count": 139,
   "metadata": {},
   "outputs": [
    {
     "name": "stdout",
     "output_type": "stream",
     "text": [
      "Unique Users: 3696\n",
      "Unique Items: 2786\n"
     ]
    }
   ],
   "source": [
    "# Unique Users & Items\n",
    "print(\"Unique Users:\", df.CustomerID.nunique())\n",
    "print(\"Unique Items:\", df.StockCode.nunique())"
   ]
  },
  {
   "attachments": {},
   "cell_type": "markdown",
   "metadata": {},
   "source": [
    "# 2. Aggregate User - Item Interactions - Create Flag Column for Purchased Items"
   ]
  },
  {
   "cell_type": "code",
   "execution_count": 140,
   "metadata": {},
   "outputs": [
    {
     "data": {
      "text/html": [
       "<div>\n",
       "<style scoped>\n",
       "    .dataframe tbody tr th:only-of-type {\n",
       "        vertical-align: middle;\n",
       "    }\n",
       "\n",
       "    .dataframe tbody tr th {\n",
       "        vertical-align: top;\n",
       "    }\n",
       "\n",
       "    .dataframe thead th {\n",
       "        text-align: right;\n",
       "    }\n",
       "</style>\n",
       "<table border=\"1\" class=\"dataframe\">\n",
       "  <thead>\n",
       "    <tr style=\"text-align: right;\">\n",
       "      <th></th>\n",
       "      <th>StockCode</th>\n",
       "      <th>CustomerID</th>\n",
       "      <th>purchased</th>\n",
       "    </tr>\n",
       "  </thead>\n",
       "  <tbody>\n",
       "    <tr>\n",
       "      <th>0</th>\n",
       "      <td>0</td>\n",
       "      <td>86</td>\n",
       "      <td>1</td>\n",
       "    </tr>\n",
       "    <tr>\n",
       "      <th>1</th>\n",
       "      <td>0</td>\n",
       "      <td>132</td>\n",
       "      <td>1</td>\n",
       "    </tr>\n",
       "    <tr>\n",
       "      <th>2</th>\n",
       "      <td>0</td>\n",
       "      <td>191</td>\n",
       "      <td>1</td>\n",
       "    </tr>\n",
       "    <tr>\n",
       "      <th>3</th>\n",
       "      <td>0</td>\n",
       "      <td>238</td>\n",
       "      <td>1</td>\n",
       "    </tr>\n",
       "    <tr>\n",
       "      <th>4</th>\n",
       "      <td>0</td>\n",
       "      <td>270</td>\n",
       "      <td>1</td>\n",
       "    </tr>\n",
       "  </tbody>\n",
       "</table>\n",
       "</div>"
      ],
      "text/plain": [
       "   StockCode  CustomerID  purchased\n",
       "0          0          86          1\n",
       "1          0         132          1\n",
       "2          0         191          1\n",
       "3          0         238          1\n",
       "4          0         270          1"
      ]
     },
     "execution_count": 140,
     "metadata": {},
     "output_type": "execute_result"
    }
   ],
   "source": [
    "# Calculate Count of all non-cancelled interactions between Users & Items\n",
    "df_binary = df_non_cancelled.groupby(['StockCode', 'CustomerID']).agg({'CustomerID': 'count'})\n",
    "\n",
    "# Rename Columns \n",
    "df_binary.columns = ['purchased']\n",
    "\n",
    "# Reset Index\n",
    "df_binary.reset_index(inplace=True)\n",
    "\n",
    "# Set all purchases to 1 \n",
    "df_binary['purchased'] = 1 \n",
    "\n",
    "# Check first five columns\n",
    "df_binary.head()"
   ]
  },
  {
   "cell_type": "code",
   "execution_count": 141,
   "metadata": {},
   "outputs": [
    {
     "data": {
      "text/plain": [
       "count    259350.0\n",
       "mean          1.0\n",
       "std           0.0\n",
       "min           1.0\n",
       "25%           1.0\n",
       "50%           1.0\n",
       "75%           1.0\n",
       "max           1.0\n",
       "Name: purchased, dtype: float64"
      ]
     },
     "execution_count": 141,
     "metadata": {},
     "output_type": "execute_result"
    }
   ],
   "source": [
    "# Sanity Check \n",
    "df_binary.purchased.describe()"
   ]
  },
  {
   "cell_type": "code",
   "execution_count": 142,
   "metadata": {},
   "outputs": [
    {
     "name": "stdout",
     "output_type": "stream",
     "text": [
      "Users: \t 3694\n",
      "Items: \t 2786\n"
     ]
    }
   ],
   "source": [
    "# Print Unique Users & Items for Sanity Check  \n",
    "print(\"Users: \\t\",df_binary['CustomerID'].nunique())\n",
    "print(\"Items: \\t\",df_binary['StockCode'].nunique())"
   ]
  },
  {
   "attachments": {},
   "cell_type": "markdown",
   "metadata": {},
   "source": [
    "# 3. Split into Train & Test Data"
   ]
  },
  {
   "cell_type": "code",
   "execution_count": 143,
   "metadata": {},
   "outputs": [],
   "source": [
    "# Load the Python Splitter\n",
    "from recommenders.datasets.python_splitters import python_stratified_split"
   ]
  },
  {
   "cell_type": "code",
   "execution_count": 144,
   "metadata": {},
   "outputs": [],
   "source": [
    "train, test = python_stratified_split(df_binary, ratio=0.8, filter_by='user', min_rating=10, col_user='CustomerID', col_item='StockCode', seed=1)\n",
    "#train, test = train_test_split(df_binary, random_state=1, test_size=0.25)"
   ]
  },
  {
   "cell_type": "code",
   "execution_count": 145,
   "metadata": {},
   "outputs": [
    {
     "name": "stdout",
     "output_type": "stream",
     "text": [
      "Users Train: \t 3690\n",
      "Items Train: \t 2786\n",
      "Users Test: \t 3690\n",
      "Items Test: \t 2746\n"
     ]
    }
   ],
   "source": [
    "# Sanity Check number of unique Users & Items in Train\n",
    "print(\"Users Train: \\t\",train['CustomerID'].nunique())\n",
    "print(\"Items Train: \\t\",train['StockCode'].nunique())\n",
    "# Sanity Check number of unique Users & Items in Test\n",
    "print(\"Users Test: \\t\",test['CustomerID'].nunique())\n",
    "print(\"Items Test: \\t\",test['StockCode'].nunique())"
   ]
  },
  {
   "cell_type": "code",
   "execution_count": 146,
   "metadata": {},
   "outputs": [],
   "source": [
    "# Ensure that the same items and users are in both sets \n",
    "# Find the set of unique items in both the train and test sets\n",
    "train_items = set(train['StockCode'].unique())\n",
    "test_items = set(test['StockCode'].unique())\n",
    "\n",
    "# Find the intersection of the sets from step 1\n",
    "common_items = train_items.intersection(test_items)\n",
    "\n",
    "# Filter the train and test sets to include only the rows with item IDs that are in the intersection set\n",
    "train = train[train['StockCode'].isin(common_items)]\n",
    "test = test[test['StockCode'].isin(common_items)]"
   ]
  },
  {
   "cell_type": "code",
   "execution_count": 147,
   "metadata": {},
   "outputs": [
    {
     "name": "stdout",
     "output_type": "stream",
     "text": [
      "Users Train: \t 3690\n",
      "Items Train: \t 2746\n",
      "Users Test: \t 3690\n",
      "Items Test: \t 2746\n"
     ]
    }
   ],
   "source": [
    "# Sanity Check number of unique Users & Items in Train\n",
    "print(\"Users Train: \\t\",train['CustomerID'].nunique())\n",
    "print(\"Items Train: \\t\",train['StockCode'].nunique())\n",
    "# Sanity Check number of unique Users & Items in Test\n",
    "print(\"Users Test: \\t\",test['CustomerID'].nunique())\n",
    "print(\"Items Test: \\t\",test['StockCode'].nunique())"
   ]
  },
  {
   "cell_type": "code",
   "execution_count": 148,
   "metadata": {},
   "outputs": [
    {
     "name": "stdout",
     "output_type": "stream",
     "text": [
      "Shape of Train: (206861, 3)\n",
      "Shape of Test: \t (51879, 3)\n"
     ]
    }
   ],
   "source": [
    "# Shapes to Check \n",
    "print(\"Shape of Train:\", train.shape)\n",
    "print(\"Shape of Test: \\t\", test.shape)"
   ]
  },
  {
   "cell_type": "code",
   "execution_count": 149,
   "metadata": {},
   "outputs": [
    {
     "data": {
      "text/plain": [
       "258740"
      ]
     },
     "execution_count": 149,
     "metadata": {},
     "output_type": "execute_result"
    }
   ],
   "source": [
    "# All rows\n",
    "train.shape[0] + test.shape[0]"
   ]
  },
  {
   "cell_type": "code",
   "execution_count": 150,
   "metadata": {},
   "outputs": [],
   "source": [
    "# Save as csv \n",
    "train.to_csv('../00_Data/online_retail_train.csv')\n",
    "test.to_csv('../00_Data/online_retail_test.csv')\n"
   ]
  },
  {
   "attachments": {},
   "cell_type": "markdown",
   "metadata": {},
   "source": [
    "# 4. Optional for Test Only - Sample of Non-Bought Items"
   ]
  },
  {
   "attachments": {},
   "cell_type": "markdown",
   "metadata": {},
   "source": [
    "The Dataset with the positive interactions tends to generate positive predictions for almost all item-user matches. This leads to a 100% Accuracy, which is not a usefull result. Thus, we will test, if the results change, when a certain amount of non-positive user-item interactions is added to the binary dataset."
   ]
  },
  {
   "cell_type": "code",
   "execution_count": 151,
   "metadata": {},
   "outputs": [],
   "source": [
    "# Here, we will create a dataframe for all combinations of items and users in the dataset \n",
    "# First define unique Users & Items in df_binary\n",
    "unique_items = df_binary['StockCode'].unique()\n",
    "unique_users = df_binary['CustomerID'].unique()\n",
    "\n",
    "# Create a meshgrid of unique_users & unique_items\n",
    "u_user_grid, u_item_grid = np.meshgrid(unique_users, unique_items, indexing='ij')\n",
    "\n",
    "# Flatten the meshgrid arrays\n",
    "u_user_flat = u_user_grid.flatten()\n",
    "u_item_flat = u_item_grid.flatten()\n",
    "\n",
    "# Create a pandas dataframe with a row for each combination of the values in all_users and top5_perc_items\n",
    "all_interactions = pd.DataFrame({'CustomerID': u_user_flat, 'StockCode': u_item_flat})\n"
   ]
  },
  {
   "cell_type": "code",
   "execution_count": 152,
   "metadata": {},
   "outputs": [
    {
     "data": {
      "text/html": [
       "<div>\n",
       "<style scoped>\n",
       "    .dataframe tbody tr th:only-of-type {\n",
       "        vertical-align: middle;\n",
       "    }\n",
       "\n",
       "    .dataframe tbody tr th {\n",
       "        vertical-align: top;\n",
       "    }\n",
       "\n",
       "    .dataframe thead th {\n",
       "        text-align: right;\n",
       "    }\n",
       "</style>\n",
       "<table border=\"1\" class=\"dataframe\">\n",
       "  <thead>\n",
       "    <tr style=\"text-align: right;\">\n",
       "      <th></th>\n",
       "      <th>CustomerID</th>\n",
       "      <th>StockCode</th>\n",
       "      <th>purchased</th>\n",
       "    </tr>\n",
       "  </thead>\n",
       "  <tbody>\n",
       "    <tr>\n",
       "      <th>1526943</th>\n",
       "      <td>69</td>\n",
       "      <td>311</td>\n",
       "      <td>0</td>\n",
       "    </tr>\n",
       "    <tr>\n",
       "      <th>1167449</th>\n",
       "      <td>1774</td>\n",
       "      <td>173</td>\n",
       "      <td>0</td>\n",
       "    </tr>\n",
       "    <tr>\n",
       "      <th>771306</th>\n",
       "      <td>458</td>\n",
       "      <td>2725</td>\n",
       "      <td>0</td>\n",
       "    </tr>\n",
       "    <tr>\n",
       "      <th>1226893</th>\n",
       "      <td>2407</td>\n",
       "      <td>1228</td>\n",
       "      <td>0</td>\n",
       "    </tr>\n",
       "    <tr>\n",
       "      <th>2144418</th>\n",
       "      <td>1363</td>\n",
       "      <td>2180</td>\n",
       "      <td>0</td>\n",
       "    </tr>\n",
       "  </tbody>\n",
       "</table>\n",
       "</div>"
      ],
      "text/plain": [
       "         CustomerID  StockCode  purchased\n",
       "1526943          69        311          0\n",
       "1167449        1774        173          0\n",
       "771306          458       2725          0\n",
       "1226893        2407       1228          0\n",
       "2144418        1363       2180          0"
      ]
     },
     "execution_count": 152,
     "metadata": {},
     "output_type": "execute_result"
    }
   ],
   "source": [
    "# In the second step, we are excluding those matches from the all_interactions dataset, which already exist in the df_binary dataset. To do so, we are working with an anti-join\n",
    "\n",
    "# First we merge all_interactions and df_binary and set the indicator to True, to find out, which matches are in all_interaction dataset only \n",
    "non_interactions = all_interactions.merge(df_binary, on=['StockCode', 'CustomerID'], how='left', indicator=True)\n",
    "\n",
    "# Keep only the rows where the '_merge' indicator is 'left_only', meaning they only exist in the 'all_interactions' dataframe\n",
    "non_interactions = non_interactions[non_interactions['_merge']=='left_only']\n",
    "\n",
    "# Change the 'purchased' column to 0 to indicate the negative or missing interaction  \n",
    "non_interactions['purchased'] = 0 \n",
    "\n",
    "# Drop the '_merge' column  \n",
    "non_interactions = non_interactions.drop(columns=['_merge'])\n",
    "\n",
    "# Show a Sample of non_Interactions\n",
    "non_interactions.sample(5)"
   ]
  },
  {
   "cell_type": "code",
   "execution_count": 153,
   "metadata": {},
   "outputs": [
    {
     "data": {
      "text/html": [
       "<div>\n",
       "<style scoped>\n",
       "    .dataframe tbody tr th:only-of-type {\n",
       "        vertical-align: middle;\n",
       "    }\n",
       "\n",
       "    .dataframe tbody tr th {\n",
       "        vertical-align: top;\n",
       "    }\n",
       "\n",
       "    .dataframe thead th {\n",
       "        text-align: right;\n",
       "    }\n",
       "</style>\n",
       "<table border=\"1\" class=\"dataframe\">\n",
       "  <thead>\n",
       "    <tr style=\"text-align: right;\">\n",
       "      <th></th>\n",
       "      <th>StockCode</th>\n",
       "      <th>CustomerID</th>\n",
       "      <th>purchased</th>\n",
       "    </tr>\n",
       "  </thead>\n",
       "  <tbody>\n",
       "    <tr>\n",
       "      <th>198302</th>\n",
       "      <td>2122</td>\n",
       "      <td>1752</td>\n",
       "      <td>1</td>\n",
       "    </tr>\n",
       "    <tr>\n",
       "      <th>55480</th>\n",
       "      <td>874</td>\n",
       "      <td>4031</td>\n",
       "      <td>1</td>\n",
       "    </tr>\n",
       "    <tr>\n",
       "      <th>10264</th>\n",
       "      <td>191</td>\n",
       "      <td>3864</td>\n",
       "      <td>1</td>\n",
       "    </tr>\n",
       "    <tr>\n",
       "      <th>62751</th>\n",
       "      <td>927</td>\n",
       "      <td>2979</td>\n",
       "      <td>1</td>\n",
       "    </tr>\n",
       "    <tr>\n",
       "      <th>77637</th>\n",
       "      <td>1068</td>\n",
       "      <td>282</td>\n",
       "      <td>1</td>\n",
       "    </tr>\n",
       "  </tbody>\n",
       "</table>\n",
       "</div>"
      ],
      "text/plain": [
       "        StockCode  CustomerID  purchased\n",
       "198302       2122        1752          1\n",
       "55480         874        4031          1\n",
       "10264         191        3864          1\n",
       "62751         927        2979          1\n",
       "77637        1068         282          1"
      ]
     },
     "execution_count": 153,
     "metadata": {},
     "output_type": "execute_result"
    }
   ],
   "source": [
    "# In the next step, we will randomly sample around 10 non-purchased items per user, which will later be merged with the df_binary dataset. \n",
    "stratified_sample_non_interactions = non_interactions.groupby('CustomerID').apply(lambda x: x.sample(frac=0.01))\n",
    "\n",
    "# Remove the extra index added by groupby()\n",
    "stratified_sample_non_interactions = stratified_sample_non_interactions.droplevel(0)\n",
    "\n",
    "# Concatenate the split with df_binary\n",
    "df_binary_mixed = pd.concat([df_binary, stratified_sample_non_interactions], ignore_index=True)\n",
    "\n",
    "# Check sample\n",
    "df_binary_mixed.sample(5)"
   ]
  },
  {
   "cell_type": "code",
   "execution_count": 154,
   "metadata": {},
   "outputs": [],
   "source": [
    "# In the final step, we will split the data into a test and train dataset\n",
    "\n",
    "# Load Train Test Split \n",
    "from sklearn.model_selection import train_test_split\n",
    "train_mixed, test_mixed= train_test_split(df_binary_mixed, stratify=df_binary_mixed.purchased, test_size=0.2)\n",
    "\n",
    "\n",
    "# Ensure that the same items and users are in both sets \n",
    "# Find the set of unique items in both the train and test sets\n",
    "train_items = set(train_mixed['StockCode'].unique())\n",
    "test_items = set(test_mixed['StockCode'].unique())\n",
    "\n",
    "# Find the intersection of the sets from step 1\n",
    "common_items = train_items.intersection(test_items)\n",
    "\n",
    "# Filter the train and test sets to include only the rows with item IDs that are in the intersection set\n",
    "train_mixed = train_mixed[train_mixed['StockCode'].isin(common_items)]\n",
    "test_mixed = test_mixed[test_mixed['StockCode'].isin(common_items)]"
   ]
  },
  {
   "cell_type": "code",
   "execution_count": 155,
   "metadata": {},
   "outputs": [
    {
     "name": "stdout",
     "output_type": "stream",
     "text": [
      "Users Train: \t 3694\n",
      "Items Train: \t 2786\n",
      "Users Test: \t 3694\n",
      "Items Test: \t 2786\n"
     ]
    }
   ],
   "source": [
    "# Sanity Check number of unique Users & Items in Train\n",
    "print(\"Users Train: \\t\",train_mixed['CustomerID'].nunique())\n",
    "print(\"Items Train: \\t\",train_mixed['StockCode'].nunique())\n",
    "# Sanity Check number of unique Users & Items in Test\n",
    "print(\"Users Test: \\t\",test_mixed['CustomerID'].nunique())\n",
    "print(\"Items Test: \\t\",test_mixed['StockCode'].nunique())"
   ]
  },
  {
   "cell_type": "code",
   "execution_count": 156,
   "metadata": {},
   "outputs": [
    {
     "name": "stdout",
     "output_type": "stream",
     "text": [
      "Shape of Train: (287957, 3)\n",
      "Shape of Test: \t (71990, 3)\n"
     ]
    }
   ],
   "source": [
    "# Shapes to Check \n",
    "print(\"Shape of Train:\", train_mixed.shape)\n",
    "print(\"Shape of Test: \\t\", test_mixed.shape)"
   ]
  },
  {
   "cell_type": "code",
   "execution_count": 125,
   "metadata": {},
   "outputs": [],
   "source": [
    "# Save as csv \n",
    "train_mixed.to_csv('../00_Data/online_retail_train_mixed.csv')\n",
    "test_mixed.to_csv('../00_Data/online_retail_test_mixed.csv')"
   ]
  },
  {
   "cell_type": "code",
   "execution_count": 158,
   "metadata": {},
   "outputs": [
    {
     "data": {
      "text/html": [
       "<div>\n",
       "<style scoped>\n",
       "    .dataframe tbody tr th:only-of-type {\n",
       "        vertical-align: middle;\n",
       "    }\n",
       "\n",
       "    .dataframe tbody tr th {\n",
       "        vertical-align: top;\n",
       "    }\n",
       "\n",
       "    .dataframe thead th {\n",
       "        text-align: right;\n",
       "    }\n",
       "</style>\n",
       "<table border=\"1\" class=\"dataframe\">\n",
       "  <thead>\n",
       "    <tr style=\"text-align: right;\">\n",
       "      <th></th>\n",
       "      <th>StockCode</th>\n",
       "      <th>CustomerID</th>\n",
       "      <th>purchased</th>\n",
       "    </tr>\n",
       "  </thead>\n",
       "  <tbody>\n",
       "    <tr>\n",
       "      <th>0</th>\n",
       "      <td>0</td>\n",
       "      <td>86</td>\n",
       "      <td>1</td>\n",
       "    </tr>\n",
       "    <tr>\n",
       "      <th>1</th>\n",
       "      <td>0</td>\n",
       "      <td>132</td>\n",
       "      <td>1</td>\n",
       "    </tr>\n",
       "    <tr>\n",
       "      <th>2</th>\n",
       "      <td>0</td>\n",
       "      <td>191</td>\n",
       "      <td>1</td>\n",
       "    </tr>\n",
       "    <tr>\n",
       "      <th>3</th>\n",
       "      <td>0</td>\n",
       "      <td>238</td>\n",
       "      <td>1</td>\n",
       "    </tr>\n",
       "    <tr>\n",
       "      <th>4</th>\n",
       "      <td>0</td>\n",
       "      <td>270</td>\n",
       "      <td>1</td>\n",
       "    </tr>\n",
       "    <tr>\n",
       "      <th>...</th>\n",
       "      <td>...</td>\n",
       "      <td>...</td>\n",
       "      <td>...</td>\n",
       "    </tr>\n",
       "    <tr>\n",
       "      <th>359942</th>\n",
       "      <td>2914</td>\n",
       "      <td>4371</td>\n",
       "      <td>0</td>\n",
       "    </tr>\n",
       "    <tr>\n",
       "      <th>359943</th>\n",
       "      <td>2631</td>\n",
       "      <td>4371</td>\n",
       "      <td>0</td>\n",
       "    </tr>\n",
       "    <tr>\n",
       "      <th>359944</th>\n",
       "      <td>282</td>\n",
       "      <td>4371</td>\n",
       "      <td>0</td>\n",
       "    </tr>\n",
       "    <tr>\n",
       "      <th>359945</th>\n",
       "      <td>837</td>\n",
       "      <td>4371</td>\n",
       "      <td>0</td>\n",
       "    </tr>\n",
       "    <tr>\n",
       "      <th>359946</th>\n",
       "      <td>3138</td>\n",
       "      <td>4371</td>\n",
       "      <td>0</td>\n",
       "    </tr>\n",
       "  </tbody>\n",
       "</table>\n",
       "<p>359947 rows × 3 columns</p>\n",
       "</div>"
      ],
      "text/plain": [
       "        StockCode  CustomerID  purchased\n",
       "0               0          86          1\n",
       "1               0         132          1\n",
       "2               0         191          1\n",
       "3               0         238          1\n",
       "4               0         270          1\n",
       "...           ...         ...        ...\n",
       "359942       2914        4371          0\n",
       "359943       2631        4371          0\n",
       "359944        282        4371          0\n",
       "359945        837        4371          0\n",
       "359946       3138        4371          0\n",
       "\n",
       "[359947 rows x 3 columns]"
      ]
     },
     "execution_count": 158,
     "metadata": {},
     "output_type": "execute_result"
    }
   ],
   "source": [
    "df_binary_mixed"
   ]
  },
  {
   "cell_type": "code",
   "execution_count": 160,
   "metadata": {},
   "outputs": [
    {
     "data": {
      "text/plain": [
       "28"
      ]
     },
     "execution_count": 160,
     "metadata": {},
     "output_type": "execute_result"
    }
   ],
   "source": [
    "len(df_binary_mixed[(df_binary_mixed['CustomerID']==2) & (df_binary_mixed['purchased']==0)])"
   ]
  },
  {
   "attachments": {},
   "cell_type": "markdown",
   "metadata": {},
   "source": [
    "# Preparation: Pseudo-Rating Dataset"
   ]
  },
  {
   "attachments": {},
   "cell_type": "markdown",
   "metadata": {},
   "source": [
    "**Main Steps**\n",
    "\n",
    "1. Create a flag column for purchased items\n",
    "2. Decrease value of cancelled purchases \n",
    "3. Filter out cancelled combinations from initial Dataset\n",
    "4. Increase value of repurchased items\n",
    "5. Insert negative value for non-purchased popular items\n",
    "6. Split into Train & Test Data"
   ]
  },
  {
   "cell_type": "code",
   "execution_count": 191,
   "metadata": {},
   "outputs": [],
   "source": [
    "# Reading Data Again since it was changed above\n",
    "df = pd.read_csv('../00_Data/online_retailed_precleaned.csv', index_col=0)"
   ]
  },
  {
   "attachments": {},
   "cell_type": "markdown",
   "metadata": {},
   "source": [
    "## 1. Flag Column for purchased items:"
   ]
  },
  {
   "cell_type": "code",
   "execution_count": 192,
   "metadata": {},
   "outputs": [
    {
     "data": {
      "text/html": [
       "<div>\n",
       "<style scoped>\n",
       "    .dataframe tbody tr th:only-of-type {\n",
       "        vertical-align: middle;\n",
       "    }\n",
       "\n",
       "    .dataframe tbody tr th {\n",
       "        vertical-align: top;\n",
       "    }\n",
       "\n",
       "    .dataframe thead th {\n",
       "        text-align: right;\n",
       "    }\n",
       "</style>\n",
       "<table border=\"1\" class=\"dataframe\">\n",
       "  <thead>\n",
       "    <tr style=\"text-align: right;\">\n",
       "      <th></th>\n",
       "      <th>InvoiceNo</th>\n",
       "      <th>StockCode</th>\n",
       "      <th>Description</th>\n",
       "      <th>Quantity</th>\n",
       "      <th>InvoiceDate</th>\n",
       "      <th>UnitPrice</th>\n",
       "      <th>CustomerID</th>\n",
       "      <th>Country</th>\n",
       "      <th>Num_word_text</th>\n",
       "      <th>purchased</th>\n",
       "    </tr>\n",
       "  </thead>\n",
       "  <tbody>\n",
       "    <tr>\n",
       "      <th>0</th>\n",
       "      <td>536365</td>\n",
       "      <td>3249</td>\n",
       "      <td>WHITE HANGING HEART T-LIGHT HOLDER</td>\n",
       "      <td>6</td>\n",
       "      <td>2010-12-01 08:26:00</td>\n",
       "      <td>2.55</td>\n",
       "      <td>4048</td>\n",
       "      <td>United Kingdom</td>\n",
       "      <td>5</td>\n",
       "      <td>1</td>\n",
       "    </tr>\n",
       "    <tr>\n",
       "      <th>1</th>\n",
       "      <td>536365</td>\n",
       "      <td>2649</td>\n",
       "      <td>WHITE METAL LANTERN</td>\n",
       "      <td>6</td>\n",
       "      <td>2010-12-01 08:26:00</td>\n",
       "      <td>3.39</td>\n",
       "      <td>4048</td>\n",
       "      <td>United Kingdom</td>\n",
       "      <td>3</td>\n",
       "      <td>1</td>\n",
       "    </tr>\n",
       "    <tr>\n",
       "      <th>2</th>\n",
       "      <td>536365</td>\n",
       "      <td>2855</td>\n",
       "      <td>CREAM CUPID HEARTS COAT HANGER</td>\n",
       "      <td>8</td>\n",
       "      <td>2010-12-01 08:26:00</td>\n",
       "      <td>2.75</td>\n",
       "      <td>4048</td>\n",
       "      <td>United Kingdom</td>\n",
       "      <td>5</td>\n",
       "      <td>1</td>\n",
       "    </tr>\n",
       "    <tr>\n",
       "      <th>3</th>\n",
       "      <td>536365</td>\n",
       "      <td>2803</td>\n",
       "      <td>KNITTED UNION FLAG HOT WATER BOTTLE</td>\n",
       "      <td>6</td>\n",
       "      <td>2010-12-01 08:26:00</td>\n",
       "      <td>3.39</td>\n",
       "      <td>4048</td>\n",
       "      <td>United Kingdom</td>\n",
       "      <td>6</td>\n",
       "      <td>1</td>\n",
       "    </tr>\n",
       "    <tr>\n",
       "      <th>4</th>\n",
       "      <td>536365</td>\n",
       "      <td>2802</td>\n",
       "      <td>RED WOOLLY HOTTIE WHITE HEART.</td>\n",
       "      <td>6</td>\n",
       "      <td>2010-12-01 08:26:00</td>\n",
       "      <td>3.39</td>\n",
       "      <td>4048</td>\n",
       "      <td>United Kingdom</td>\n",
       "      <td>5</td>\n",
       "      <td>1</td>\n",
       "    </tr>\n",
       "  </tbody>\n",
       "</table>\n",
       "</div>"
      ],
      "text/plain": [
       "  InvoiceNo  StockCode                          Description  Quantity  \\\n",
       "0    536365       3249   WHITE HANGING HEART T-LIGHT HOLDER         6   \n",
       "1    536365       2649                  WHITE METAL LANTERN         6   \n",
       "2    536365       2855       CREAM CUPID HEARTS COAT HANGER         8   \n",
       "3    536365       2803  KNITTED UNION FLAG HOT WATER BOTTLE         6   \n",
       "4    536365       2802       RED WOOLLY HOTTIE WHITE HEART.         6   \n",
       "\n",
       "           InvoiceDate  UnitPrice  CustomerID         Country  Num_word_text  \\\n",
       "0  2010-12-01 08:26:00       2.55        4048  United Kingdom              5   \n",
       "1  2010-12-01 08:26:00       3.39        4048  United Kingdom              3   \n",
       "2  2010-12-01 08:26:00       2.75        4048  United Kingdom              5   \n",
       "3  2010-12-01 08:26:00       3.39        4048  United Kingdom              6   \n",
       "4  2010-12-01 08:26:00       3.39        4048  United Kingdom              5   \n",
       "\n",
       "   purchased  \n",
       "0          1  \n",
       "1          1  \n",
       "2          1  \n",
       "3          1  \n",
       "4          1  "
      ]
     },
     "execution_count": 192,
     "metadata": {},
     "output_type": "execute_result"
    }
   ],
   "source": [
    "# Create column 'purchased' and assign the value 1 for each row\n",
    "df['purchased'] = 1 \n",
    "\n",
    "# Check First 5 Rows\n",
    "df.head()"
   ]
  },
  {
   "attachments": {},
   "cell_type": "markdown",
   "metadata": {},
   "source": [
    "## 2. Decrease value of cancelled purchases "
   ]
  },
  {
   "cell_type": "code",
   "execution_count": 193,
   "metadata": {},
   "outputs": [
    {
     "data": {
      "text/html": [
       "<div>\n",
       "<style scoped>\n",
       "    .dataframe tbody tr th:only-of-type {\n",
       "        vertical-align: middle;\n",
       "    }\n",
       "\n",
       "    .dataframe tbody tr th {\n",
       "        vertical-align: top;\n",
       "    }\n",
       "\n",
       "    .dataframe thead th {\n",
       "        text-align: right;\n",
       "    }\n",
       "</style>\n",
       "<table border=\"1\" class=\"dataframe\">\n",
       "  <thead>\n",
       "    <tr style=\"text-align: right;\">\n",
       "      <th></th>\n",
       "      <th>InvoiceNo</th>\n",
       "      <th>StockCode</th>\n",
       "      <th>Description</th>\n",
       "      <th>Quantity</th>\n",
       "      <th>InvoiceDate</th>\n",
       "      <th>UnitPrice</th>\n",
       "      <th>CustomerID</th>\n",
       "      <th>Country</th>\n",
       "      <th>Num_word_text</th>\n",
       "      <th>purchased</th>\n",
       "    </tr>\n",
       "  </thead>\n",
       "  <tbody>\n",
       "    <tr>\n",
       "      <th>154</th>\n",
       "      <td>C536383</td>\n",
       "      <td>2407</td>\n",
       "      <td>SET OF 3 COLOURED  FLYING DUCKS</td>\n",
       "      <td>-1</td>\n",
       "      <td>2010-12-01 09:49:00</td>\n",
       "      <td>4.65</td>\n",
       "      <td>2192</td>\n",
       "      <td>United Kingdom</td>\n",
       "      <td>6</td>\n",
       "      <td>1</td>\n",
       "    </tr>\n",
       "    <tr>\n",
       "      <th>235</th>\n",
       "      <td>C536391</td>\n",
       "      <td>1415</td>\n",
       "      <td>PLASTERS IN TIN CIRCUS PARADE</td>\n",
       "      <td>-12</td>\n",
       "      <td>2010-12-01 10:24:00</td>\n",
       "      <td>1.65</td>\n",
       "      <td>3829</td>\n",
       "      <td>United Kingdom</td>\n",
       "      <td>5</td>\n",
       "      <td>1</td>\n",
       "    </tr>\n",
       "    <tr>\n",
       "      <th>236</th>\n",
       "      <td>C536391</td>\n",
       "      <td>919</td>\n",
       "      <td>PACK OF 12 PINK PAISLEY TISSUES</td>\n",
       "      <td>-24</td>\n",
       "      <td>2010-12-01 10:24:00</td>\n",
       "      <td>0.29</td>\n",
       "      <td>3829</td>\n",
       "      <td>United Kingdom</td>\n",
       "      <td>6</td>\n",
       "      <td>1</td>\n",
       "    </tr>\n",
       "    <tr>\n",
       "      <th>237</th>\n",
       "      <td>C536391</td>\n",
       "      <td>918</td>\n",
       "      <td>PACK OF 12 BLUE PAISLEY TISSUES</td>\n",
       "      <td>-24</td>\n",
       "      <td>2010-12-01 10:24:00</td>\n",
       "      <td>0.29</td>\n",
       "      <td>3829</td>\n",
       "      <td>United Kingdom</td>\n",
       "      <td>6</td>\n",
       "      <td>1</td>\n",
       "    </tr>\n",
       "    <tr>\n",
       "      <th>238</th>\n",
       "      <td>C536391</td>\n",
       "      <td>915</td>\n",
       "      <td>PACK OF 12 RED RETROSPOT TISSUES</td>\n",
       "      <td>-24</td>\n",
       "      <td>2010-12-01 10:24:00</td>\n",
       "      <td>0.29</td>\n",
       "      <td>3829</td>\n",
       "      <td>United Kingdom</td>\n",
       "      <td>6</td>\n",
       "      <td>1</td>\n",
       "    </tr>\n",
       "    <tr>\n",
       "      <th>239</th>\n",
       "      <td>C536391</td>\n",
       "      <td>604</td>\n",
       "      <td>CHICK GREY HOT WATER BOTTLE</td>\n",
       "      <td>-12</td>\n",
       "      <td>2010-12-01 10:24:00</td>\n",
       "      <td>3.45</td>\n",
       "      <td>3829</td>\n",
       "      <td>United Kingdom</td>\n",
       "      <td>5</td>\n",
       "      <td>1</td>\n",
       "    </tr>\n",
       "    <tr>\n",
       "      <th>240</th>\n",
       "      <td>C536391</td>\n",
       "      <td>1416</td>\n",
       "      <td>PLASTERS IN TIN VINTAGE PAISLEY</td>\n",
       "      <td>-12</td>\n",
       "      <td>2010-12-01 10:24:00</td>\n",
       "      <td>1.65</td>\n",
       "      <td>3829</td>\n",
       "      <td>United Kingdom</td>\n",
       "      <td>5</td>\n",
       "      <td>1</td>\n",
       "    </tr>\n",
       "    <tr>\n",
       "      <th>241</th>\n",
       "      <td>C536391</td>\n",
       "      <td>1412</td>\n",
       "      <td>PLASTERS IN TIN SKULLS</td>\n",
       "      <td>-24</td>\n",
       "      <td>2010-12-01 10:24:00</td>\n",
       "      <td>1.65</td>\n",
       "      <td>3829</td>\n",
       "      <td>United Kingdom</td>\n",
       "      <td>4</td>\n",
       "      <td>1</td>\n",
       "    </tr>\n",
       "    <tr>\n",
       "      <th>939</th>\n",
       "      <td>C536506</td>\n",
       "      <td>1805</td>\n",
       "      <td>JAM MAKING SET WITH JARS</td>\n",
       "      <td>-6</td>\n",
       "      <td>2010-12-01 12:38:00</td>\n",
       "      <td>4.25</td>\n",
       "      <td>4088</td>\n",
       "      <td>United Kingdom</td>\n",
       "      <td>5</td>\n",
       "      <td>1</td>\n",
       "    </tr>\n",
       "    <tr>\n",
       "      <th>1441</th>\n",
       "      <td>C536543</td>\n",
       "      <td>1489</td>\n",
       "      <td>HAND WARMER RED RETROSPOT</td>\n",
       "      <td>-1</td>\n",
       "      <td>2010-12-01 14:30:00</td>\n",
       "      <td>2.10</td>\n",
       "      <td>4042</td>\n",
       "      <td>United Kingdom</td>\n",
       "      <td>4</td>\n",
       "      <td>1</td>\n",
       "    </tr>\n",
       "  </tbody>\n",
       "</table>\n",
       "</div>"
      ],
      "text/plain": [
       "     InvoiceNo  StockCode                        Description  Quantity  \\\n",
       "154    C536383       2407    SET OF 3 COLOURED  FLYING DUCKS        -1   \n",
       "235    C536391       1415     PLASTERS IN TIN CIRCUS PARADE        -12   \n",
       "236    C536391        919   PACK OF 12 PINK PAISLEY TISSUES        -24   \n",
       "237    C536391        918   PACK OF 12 BLUE PAISLEY TISSUES        -24   \n",
       "238    C536391        915  PACK OF 12 RED RETROSPOT TISSUES        -24   \n",
       "239    C536391        604        CHICK GREY HOT WATER BOTTLE       -12   \n",
       "240    C536391       1416   PLASTERS IN TIN VINTAGE PAISLEY        -12   \n",
       "241    C536391       1412             PLASTERS IN TIN SKULLS       -24   \n",
       "939    C536506       1805           JAM MAKING SET WITH JARS        -6   \n",
       "1441   C536543       1489          HAND WARMER RED RETROSPOT        -1   \n",
       "\n",
       "              InvoiceDate  UnitPrice  CustomerID         Country  \\\n",
       "154   2010-12-01 09:49:00       4.65        2192  United Kingdom   \n",
       "235   2010-12-01 10:24:00       1.65        3829  United Kingdom   \n",
       "236   2010-12-01 10:24:00       0.29        3829  United Kingdom   \n",
       "237   2010-12-01 10:24:00       0.29        3829  United Kingdom   \n",
       "238   2010-12-01 10:24:00       0.29        3829  United Kingdom   \n",
       "239   2010-12-01 10:24:00       3.45        3829  United Kingdom   \n",
       "240   2010-12-01 10:24:00       1.65        3829  United Kingdom   \n",
       "241   2010-12-01 10:24:00       1.65        3829  United Kingdom   \n",
       "939   2010-12-01 12:38:00       4.25        4088  United Kingdom   \n",
       "1441  2010-12-01 14:30:00       2.10        4042  United Kingdom   \n",
       "\n",
       "      Num_word_text  purchased  \n",
       "154               6          1  \n",
       "235               5          1  \n",
       "236               6          1  \n",
       "237               6          1  \n",
       "238               6          1  \n",
       "239               5          1  \n",
       "240               5          1  \n",
       "241               4          1  \n",
       "939               5          1  \n",
       "1441              4          1  "
      ]
     },
     "execution_count": 193,
     "metadata": {},
     "output_type": "execute_result"
    }
   ],
   "source": [
    "# First find out Cancelled orders \n",
    "# Rows that start with a C in InvoiceNo \n",
    "df_cancellations = df[df.InvoiceNo.str[0]=='C']\n",
    "\n",
    "# Check Head for Sanity\n",
    "df_cancellations.head(10)"
   ]
  },
  {
   "cell_type": "code",
   "execution_count": 223,
   "metadata": {},
   "outputs": [
    {
     "data": {
      "text/plain": [
       "(8106, 10)"
      ]
     },
     "execution_count": 223,
     "metadata": {},
     "output_type": "execute_result"
    }
   ],
   "source": [
    "# How many cancellations in general?\n",
    "df_cancellations.shape"
   ]
  },
  {
   "cell_type": "code",
   "execution_count": 194,
   "metadata": {},
   "outputs": [
    {
     "data": {
      "text/html": [
       "<div>\n",
       "<style scoped>\n",
       "    .dataframe tbody tr th:only-of-type {\n",
       "        vertical-align: middle;\n",
       "    }\n",
       "\n",
       "    .dataframe tbody tr th {\n",
       "        vertical-align: top;\n",
       "    }\n",
       "\n",
       "    .dataframe thead th {\n",
       "        text-align: right;\n",
       "    }\n",
       "</style>\n",
       "<table border=\"1\" class=\"dataframe\">\n",
       "  <thead>\n",
       "    <tr style=\"text-align: right;\">\n",
       "      <th></th>\n",
       "      <th>StockCode</th>\n",
       "      <th>CustomerID</th>\n",
       "      <th>purchased</th>\n",
       "    </tr>\n",
       "  </thead>\n",
       "  <tbody>\n",
       "    <tr>\n",
       "      <th>count</th>\n",
       "      <td>7165.000000</td>\n",
       "      <td>7165.000000</td>\n",
       "      <td>7165.0</td>\n",
       "    </tr>\n",
       "    <tr>\n",
       "      <th>mean</th>\n",
       "      <td>1590.041870</td>\n",
       "      <td>1965.855687</td>\n",
       "      <td>-2.0</td>\n",
       "    </tr>\n",
       "    <tr>\n",
       "      <th>std</th>\n",
       "      <td>776.626005</td>\n",
       "      <td>1251.294089</td>\n",
       "      <td>0.0</td>\n",
       "    </tr>\n",
       "    <tr>\n",
       "      <th>min</th>\n",
       "      <td>7.000000</td>\n",
       "      <td>5.000000</td>\n",
       "      <td>-2.0</td>\n",
       "    </tr>\n",
       "    <tr>\n",
       "      <th>25%</th>\n",
       "      <td>1065.000000</td>\n",
       "      <td>869.000000</td>\n",
       "      <td>-2.0</td>\n",
       "    </tr>\n",
       "    <tr>\n",
       "      <th>50%</th>\n",
       "      <td>1576.000000</td>\n",
       "      <td>1863.000000</td>\n",
       "      <td>-2.0</td>\n",
       "    </tr>\n",
       "    <tr>\n",
       "      <th>75%</th>\n",
       "      <td>2036.000000</td>\n",
       "      <td>2995.000000</td>\n",
       "      <td>-2.0</td>\n",
       "    </tr>\n",
       "    <tr>\n",
       "      <th>max</th>\n",
       "      <td>3677.000000</td>\n",
       "      <td>4369.000000</td>\n",
       "      <td>-2.0</td>\n",
       "    </tr>\n",
       "  </tbody>\n",
       "</table>\n",
       "</div>"
      ],
      "text/plain": [
       "         StockCode   CustomerID  purchased\n",
       "count  7165.000000  7165.000000     7165.0\n",
       "mean   1590.041870  1965.855687       -2.0\n",
       "std     776.626005  1251.294089        0.0\n",
       "min       7.000000     5.000000       -2.0\n",
       "25%    1065.000000   869.000000       -2.0\n",
       "50%    1576.000000  1863.000000       -2.0\n",
       "75%    2036.000000  2995.000000       -2.0\n",
       "max    3677.000000  4369.000000       -2.0"
      ]
     },
     "execution_count": 194,
     "metadata": {},
     "output_type": "execute_result"
    }
   ],
   "source": [
    "# Filter out unique combination of StockCode & Customer for cancelled Orders \n",
    "# Create DataFrmmae\n",
    "df_cancelled = df_cancellations.groupby(['StockCode', 'CustomerID']).agg({'CustomerID': 'count'})\n",
    "\n",
    "# Rename the columns\n",
    "df_cancelled.columns = ['purchased']\n",
    "\n",
    "# Reset the index\n",
    "df_cancelled.reset_index(inplace=True)\n",
    "\n",
    "# Change all cancelled Purchases to -2 \n",
    "df_cancelled['purchased'] = -2\n",
    "\n",
    "# Sanity Check with Describe\n",
    "df_cancelled.describe()"
   ]
  },
  {
   "cell_type": "code",
   "execution_count": 195,
   "metadata": {},
   "outputs": [
    {
     "data": {
      "text/html": [
       "<div>\n",
       "<style scoped>\n",
       "    .dataframe tbody tr th:only-of-type {\n",
       "        vertical-align: middle;\n",
       "    }\n",
       "\n",
       "    .dataframe tbody tr th {\n",
       "        vertical-align: top;\n",
       "    }\n",
       "\n",
       "    .dataframe thead th {\n",
       "        text-align: right;\n",
       "    }\n",
       "</style>\n",
       "<table border=\"1\" class=\"dataframe\">\n",
       "  <thead>\n",
       "    <tr style=\"text-align: right;\">\n",
       "      <th></th>\n",
       "      <th>StockCode</th>\n",
       "      <th>CustomerID</th>\n",
       "      <th>purchased</th>\n",
       "    </tr>\n",
       "  </thead>\n",
       "  <tbody>\n",
       "    <tr>\n",
       "      <th>2608</th>\n",
       "      <td>1301</td>\n",
       "      <td>187</td>\n",
       "      <td>-2</td>\n",
       "    </tr>\n",
       "    <tr>\n",
       "      <th>5434</th>\n",
       "      <td>2043</td>\n",
       "      <td>170</td>\n",
       "      <td>-2</td>\n",
       "    </tr>\n",
       "    <tr>\n",
       "      <th>2029</th>\n",
       "      <td>1123</td>\n",
       "      <td>2077</td>\n",
       "      <td>-2</td>\n",
       "    </tr>\n",
       "    <tr>\n",
       "      <th>6079</th>\n",
       "      <td>2337</td>\n",
       "      <td>2425</td>\n",
       "      <td>-2</td>\n",
       "    </tr>\n",
       "    <tr>\n",
       "      <th>2931</th>\n",
       "      <td>1427</td>\n",
       "      <td>1537</td>\n",
       "      <td>-2</td>\n",
       "    </tr>\n",
       "  </tbody>\n",
       "</table>\n",
       "</div>"
      ],
      "text/plain": [
       "      StockCode  CustomerID  purchased\n",
       "2608       1301         187         -2\n",
       "5434       2043         170         -2\n",
       "2029       1123        2077         -2\n",
       "6079       2337        2425         -2\n",
       "2931       1427        1537         -2"
      ]
     },
     "execution_count": 195,
     "metadata": {},
     "output_type": "execute_result"
    }
   ],
   "source": [
    "# Sample of df_cancelled\n",
    "df_cancelled.sample(5)"
   ]
  },
  {
   "attachments": {},
   "cell_type": "markdown",
   "metadata": {},
   "source": [
    "## 3. Filter Out cancelled Combinations from Initial Dataset & Concat Cancelled orders to new Dataset"
   ]
  },
  {
   "cell_type": "code",
   "execution_count": 196,
   "metadata": {},
   "outputs": [],
   "source": [
    "# Perform the anti join by merging on 'StockCode' and 'CustomerID' using a 'left' join and adding an '_merge' indicator column\n",
    "merged_df = df.merge(df_cancelled, on=['StockCode', 'CustomerID'], how='left', indicator=True)\n",
    "\n",
    "# Keep only the rows where the '_merge' indicator is 'left_only', meaning they only exist in the 'df' dataframe\n",
    "filtered_df = merged_df[merged_df['_merge'] == 'left_only']\n",
    "\n",
    "# Drop the '_merge' column and any additional columns from 'df_cancelled' that might have been added during the merge\n",
    "filtered_df = filtered_df.drop(columns=['_merge'])\n",
    "\n",
    "# Reset the index if needed\n",
    "filtered_df.reset_index(drop=True, inplace=True)\n"
   ]
  },
  {
   "cell_type": "code",
   "execution_count": 229,
   "metadata": {},
   "outputs": [
    {
     "data": {
      "text/html": [
       "<div>\n",
       "<style scoped>\n",
       "    .dataframe tbody tr th:only-of-type {\n",
       "        vertical-align: middle;\n",
       "    }\n",
       "\n",
       "    .dataframe tbody tr th {\n",
       "        vertical-align: top;\n",
       "    }\n",
       "\n",
       "    .dataframe thead th {\n",
       "        text-align: right;\n",
       "    }\n",
       "</style>\n",
       "<table border=\"1\" class=\"dataframe\">\n",
       "  <thead>\n",
       "    <tr style=\"text-align: right;\">\n",
       "      <th></th>\n",
       "      <th>InvoiceNo</th>\n",
       "      <th>StockCode</th>\n",
       "      <th>Description</th>\n",
       "      <th>Quantity</th>\n",
       "      <th>InvoiceDate</th>\n",
       "      <th>UnitPrice</th>\n",
       "      <th>CustomerID</th>\n",
       "      <th>Country</th>\n",
       "      <th>Num_word_text</th>\n",
       "      <th>purchased_x</th>\n",
       "      <th>purchased_y</th>\n",
       "      <th>_merge</th>\n",
       "    </tr>\n",
       "  </thead>\n",
       "  <tbody>\n",
       "    <tr>\n",
       "      <th>6</th>\n",
       "      <td>536365</td>\n",
       "      <td>755</td>\n",
       "      <td>GLASS STAR FROSTED T-LIGHT HOLDER</td>\n",
       "      <td>6</td>\n",
       "      <td>2010-12-01 08:26:00</td>\n",
       "      <td>4.25</td>\n",
       "      <td>4048</td>\n",
       "      <td>United Kingdom</td>\n",
       "      <td>5</td>\n",
       "      <td>1</td>\n",
       "      <td>-2.0</td>\n",
       "      <td>both</td>\n",
       "    </tr>\n",
       "    <tr>\n",
       "      <th>8</th>\n",
       "      <td>536366</td>\n",
       "      <td>1489</td>\n",
       "      <td>HAND WARMER RED POLKA DOT</td>\n",
       "      <td>6</td>\n",
       "      <td>2010-12-01 08:28:00</td>\n",
       "      <td>1.85</td>\n",
       "      <td>4048</td>\n",
       "      <td>United Kingdom</td>\n",
       "      <td>5</td>\n",
       "      <td>1</td>\n",
       "      <td>-2.0</td>\n",
       "      <td>both</td>\n",
       "    </tr>\n",
       "    <tr>\n",
       "      <th>14</th>\n",
       "      <td>536367</td>\n",
       "      <td>3124</td>\n",
       "      <td>BOX OF 6 ASSORTED COLOUR TEASPOONS</td>\n",
       "      <td>6</td>\n",
       "      <td>2010-12-01 08:34:00</td>\n",
       "      <td>4.25</td>\n",
       "      <td>540</td>\n",
       "      <td>United Kingdom</td>\n",
       "      <td>6</td>\n",
       "      <td>1</td>\n",
       "      <td>-2.0</td>\n",
       "      <td>both</td>\n",
       "    </tr>\n",
       "    <tr>\n",
       "      <th>45</th>\n",
       "      <td>536372</td>\n",
       "      <td>1489</td>\n",
       "      <td>HAND WARMER RED POLKA DOT</td>\n",
       "      <td>6</td>\n",
       "      <td>2010-12-01 09:01:00</td>\n",
       "      <td>1.85</td>\n",
       "      <td>4048</td>\n",
       "      <td>United Kingdom</td>\n",
       "      <td>5</td>\n",
       "      <td>1</td>\n",
       "      <td>-2.0</td>\n",
       "      <td>both</td>\n",
       "    </tr>\n",
       "    <tr>\n",
       "      <th>52</th>\n",
       "      <td>536373</td>\n",
       "      <td>842</td>\n",
       "      <td>SAVE THE PLANET MUG</td>\n",
       "      <td>6</td>\n",
       "      <td>2010-12-01 09:02:00</td>\n",
       "      <td>1.06</td>\n",
       "      <td>4048</td>\n",
       "      <td>United Kingdom</td>\n",
       "      <td>4</td>\n",
       "      <td>1</td>\n",
       "      <td>-2.0</td>\n",
       "      <td>both</td>\n",
       "    </tr>\n",
       "    <tr>\n",
       "      <th>...</th>\n",
       "      <td>...</td>\n",
       "      <td>...</td>\n",
       "      <td>...</td>\n",
       "      <td>...</td>\n",
       "      <td>...</td>\n",
       "      <td>...</td>\n",
       "      <td>...</td>\n",
       "      <td>...</td>\n",
       "      <td>...</td>\n",
       "      <td>...</td>\n",
       "      <td>...</td>\n",
       "      <td>...</td>\n",
       "    </tr>\n",
       "    <tr>\n",
       "      <th>396448</th>\n",
       "      <td>581579</td>\n",
       "      <td>986</td>\n",
       "      <td>PAPER CHAIN KIT RETROSPOT</td>\n",
       "      <td>6</td>\n",
       "      <td>2011-12-09 12:19:00</td>\n",
       "      <td>2.95</td>\n",
       "      <td>3854</td>\n",
       "      <td>United Kingdom</td>\n",
       "      <td>4</td>\n",
       "      <td>1</td>\n",
       "      <td>-2.0</td>\n",
       "      <td>both</td>\n",
       "    </tr>\n",
       "    <tr>\n",
       "      <th>396452</th>\n",
       "      <td>581579</td>\n",
       "      <td>2165</td>\n",
       "      <td>JUMBO BAG VINTAGE CHRISTMAS</td>\n",
       "      <td>30</td>\n",
       "      <td>2011-12-09 12:19:00</td>\n",
       "      <td>1.79</td>\n",
       "      <td>3854</td>\n",
       "      <td>United Kingdom</td>\n",
       "      <td>4</td>\n",
       "      <td>1</td>\n",
       "      <td>-2.0</td>\n",
       "      <td>both</td>\n",
       "    </tr>\n",
       "    <tr>\n",
       "      <th>396490</th>\n",
       "      <td>581585</td>\n",
       "      <td>1073</td>\n",
       "      <td>VICTORIAN GLASS HANGING T-LIGHT</td>\n",
       "      <td>12</td>\n",
       "      <td>2011-12-09 12:31:00</td>\n",
       "      <td>1.95</td>\n",
       "      <td>2562</td>\n",
       "      <td>United Kingdom</td>\n",
       "      <td>4</td>\n",
       "      <td>1</td>\n",
       "      <td>-2.0</td>\n",
       "      <td>both</td>\n",
       "    </tr>\n",
       "    <tr>\n",
       "      <th>396495</th>\n",
       "      <td>581585</td>\n",
       "      <td>3106</td>\n",
       "      <td>MULTI COLOUR SILVER T-LIGHT HOLDER</td>\n",
       "      <td>24</td>\n",
       "      <td>2011-12-09 12:31:00</td>\n",
       "      <td>0.85</td>\n",
       "      <td>2562</td>\n",
       "      <td>United Kingdom</td>\n",
       "      <td>5</td>\n",
       "      <td>1</td>\n",
       "      <td>-2.0</td>\n",
       "      <td>both</td>\n",
       "    </tr>\n",
       "    <tr>\n",
       "      <th>396509</th>\n",
       "      <td>581586</td>\n",
       "      <td>964</td>\n",
       "      <td>LARGE CAKE STAND  HANGING STRAWBERY</td>\n",
       "      <td>8</td>\n",
       "      <td>2011-12-09 12:49:00</td>\n",
       "      <td>2.95</td>\n",
       "      <td>587</td>\n",
       "      <td>United Kingdom</td>\n",
       "      <td>5</td>\n",
       "      <td>1</td>\n",
       "      <td>-2.0</td>\n",
       "      <td>both</td>\n",
       "    </tr>\n",
       "  </tbody>\n",
       "</table>\n",
       "<p>25351 rows × 12 columns</p>\n",
       "</div>"
      ],
      "text/plain": [
       "       InvoiceNo  StockCode                          Description  Quantity  \\\n",
       "6         536365        755    GLASS STAR FROSTED T-LIGHT HOLDER         6   \n",
       "8         536366       1489            HAND WARMER RED POLKA DOT         6   \n",
       "14        536367       3124   BOX OF 6 ASSORTED COLOUR TEASPOONS         6   \n",
       "45        536372       1489            HAND WARMER RED POLKA DOT         6   \n",
       "52        536373        842                  SAVE THE PLANET MUG         6   \n",
       "...          ...        ...                                  ...       ...   \n",
       "396448    581579        986            PAPER CHAIN KIT RETROSPOT         6   \n",
       "396452    581579       2165         JUMBO BAG VINTAGE CHRISTMAS         30   \n",
       "396490    581585       1073      VICTORIAN GLASS HANGING T-LIGHT        12   \n",
       "396495    581585       3106   MULTI COLOUR SILVER T-LIGHT HOLDER        24   \n",
       "396509    581586        964  LARGE CAKE STAND  HANGING STRAWBERY         8   \n",
       "\n",
       "                InvoiceDate  UnitPrice  CustomerID         Country  \\\n",
       "6       2010-12-01 08:26:00       4.25        4048  United Kingdom   \n",
       "8       2010-12-01 08:28:00       1.85        4048  United Kingdom   \n",
       "14      2010-12-01 08:34:00       4.25         540  United Kingdom   \n",
       "45      2010-12-01 09:01:00       1.85        4048  United Kingdom   \n",
       "52      2010-12-01 09:02:00       1.06        4048  United Kingdom   \n",
       "...                     ...        ...         ...             ...   \n",
       "396448  2011-12-09 12:19:00       2.95        3854  United Kingdom   \n",
       "396452  2011-12-09 12:19:00       1.79        3854  United Kingdom   \n",
       "396490  2011-12-09 12:31:00       1.95        2562  United Kingdom   \n",
       "396495  2011-12-09 12:31:00       0.85        2562  United Kingdom   \n",
       "396509  2011-12-09 12:49:00       2.95         587  United Kingdom   \n",
       "\n",
       "        Num_word_text  purchased_x  purchased_y _merge  \n",
       "6                   5            1         -2.0   both  \n",
       "8                   5            1         -2.0   both  \n",
       "14                  6            1         -2.0   both  \n",
       "45                  5            1         -2.0   both  \n",
       "52                  4            1         -2.0   both  \n",
       "...               ...          ...          ...    ...  \n",
       "396448              4            1         -2.0   both  \n",
       "396452              4            1         -2.0   both  \n",
       "396490              4            1         -2.0   both  \n",
       "396495              5            1         -2.0   both  \n",
       "396509              5            1         -2.0   both  \n",
       "\n",
       "[25351 rows x 12 columns]"
      ]
     },
     "execution_count": 229,
     "metadata": {},
     "output_type": "execute_result"
    }
   ],
   "source": [
    "# How many rows were in both \n",
    "merged_df[merged_df['_merge']=='both']"
   ]
  },
  {
   "cell_type": "code",
   "execution_count": 230,
   "metadata": {},
   "outputs": [
    {
     "data": {
      "text/plain": [
       "(371177, 11)"
      ]
     },
     "execution_count": 230,
     "metadata": {},
     "output_type": "execute_result"
    }
   ],
   "source": [
    "# How many rows after removing initials order of cancelled transactions \n",
    "filtered_df.shape"
   ]
  },
  {
   "cell_type": "code",
   "execution_count": 197,
   "metadata": {},
   "outputs": [
    {
     "data": {
      "text/html": [
       "<div>\n",
       "<style scoped>\n",
       "    .dataframe tbody tr th:only-of-type {\n",
       "        vertical-align: middle;\n",
       "    }\n",
       "\n",
       "    .dataframe tbody tr th {\n",
       "        vertical-align: top;\n",
       "    }\n",
       "\n",
       "    .dataframe thead th {\n",
       "        text-align: right;\n",
       "    }\n",
       "</style>\n",
       "<table border=\"1\" class=\"dataframe\">\n",
       "  <thead>\n",
       "    <tr style=\"text-align: right;\">\n",
       "      <th></th>\n",
       "      <th>StockCode</th>\n",
       "      <th>CustomerID</th>\n",
       "      <th>purchased</th>\n",
       "    </tr>\n",
       "  </thead>\n",
       "  <tbody>\n",
       "    <tr>\n",
       "      <th>0</th>\n",
       "      <td>0</td>\n",
       "      <td>86</td>\n",
       "      <td>1</td>\n",
       "    </tr>\n",
       "    <tr>\n",
       "      <th>1</th>\n",
       "      <td>0</td>\n",
       "      <td>132</td>\n",
       "      <td>1</td>\n",
       "    </tr>\n",
       "    <tr>\n",
       "      <th>2</th>\n",
       "      <td>0</td>\n",
       "      <td>191</td>\n",
       "      <td>1</td>\n",
       "    </tr>\n",
       "    <tr>\n",
       "      <th>3</th>\n",
       "      <td>0</td>\n",
       "      <td>238</td>\n",
       "      <td>1</td>\n",
       "    </tr>\n",
       "    <tr>\n",
       "      <th>4</th>\n",
       "      <td>0</td>\n",
       "      <td>270</td>\n",
       "      <td>1</td>\n",
       "    </tr>\n",
       "  </tbody>\n",
       "</table>\n",
       "</div>"
      ],
      "text/plain": [
       "   StockCode  CustomerID  purchased\n",
       "0          0          86          1\n",
       "1          0         132          1\n",
       "2          0         191          1\n",
       "3          0         238          1\n",
       "4          0         270          1"
      ]
     },
     "execution_count": 197,
     "metadata": {},
     "output_type": "execute_result"
    }
   ],
   "source": [
    "# Group by InvoiceNo and calculate the number of appearances and the product of Quantity and UnitPrice\n",
    "df_purchased = filtered_df.groupby(['StockCode', 'CustomerID']).agg({'CustomerID': 'count'})\n",
    "\n",
    "# Rename the columns\n",
    "df_purchased.columns = ['purchased']\n",
    "\n",
    "# Reset the index\n",
    "df_purchased.reset_index(inplace=True)\n",
    "\n",
    "# Sanity Check with Describe\n",
    "df_purchased.head()"
   ]
  },
  {
   "cell_type": "code",
   "execution_count": 198,
   "metadata": {},
   "outputs": [
    {
     "name": "stdout",
     "output_type": "stream",
     "text": [
      "(259896, 3)\n"
     ]
    },
    {
     "data": {
      "text/html": [
       "<div>\n",
       "<style scoped>\n",
       "    .dataframe tbody tr th:only-of-type {\n",
       "        vertical-align: middle;\n",
       "    }\n",
       "\n",
       "    .dataframe tbody tr th {\n",
       "        vertical-align: top;\n",
       "    }\n",
       "\n",
       "    .dataframe thead th {\n",
       "        text-align: right;\n",
       "    }\n",
       "</style>\n",
       "<table border=\"1\" class=\"dataframe\">\n",
       "  <thead>\n",
       "    <tr style=\"text-align: right;\">\n",
       "      <th></th>\n",
       "      <th>StockCode</th>\n",
       "      <th>CustomerID</th>\n",
       "      <th>purchased</th>\n",
       "    </tr>\n",
       "  </thead>\n",
       "  <tbody>\n",
       "    <tr>\n",
       "      <th>0</th>\n",
       "      <td>0</td>\n",
       "      <td>86</td>\n",
       "      <td>1</td>\n",
       "    </tr>\n",
       "    <tr>\n",
       "      <th>1</th>\n",
       "      <td>0</td>\n",
       "      <td>132</td>\n",
       "      <td>1</td>\n",
       "    </tr>\n",
       "    <tr>\n",
       "      <th>2</th>\n",
       "      <td>0</td>\n",
       "      <td>191</td>\n",
       "      <td>1</td>\n",
       "    </tr>\n",
       "    <tr>\n",
       "      <th>3</th>\n",
       "      <td>0</td>\n",
       "      <td>238</td>\n",
       "      <td>1</td>\n",
       "    </tr>\n",
       "    <tr>\n",
       "      <th>4</th>\n",
       "      <td>0</td>\n",
       "      <td>270</td>\n",
       "      <td>1</td>\n",
       "    </tr>\n",
       "  </tbody>\n",
       "</table>\n",
       "</div>"
      ],
      "text/plain": [
       "   StockCode  CustomerID  purchased\n",
       "0          0          86          1\n",
       "1          0         132          1\n",
       "2          0         191          1\n",
       "3          0         238          1\n",
       "4          0         270          1"
      ]
     },
     "execution_count": 198,
     "metadata": {},
     "output_type": "execute_result"
    }
   ],
   "source": [
    "# Concatenate Purched & Cancelled\n",
    "df_ratings = pd.concat([df_purchased, df_cancelled], ignore_index=True)\n",
    "\n",
    "# Check Shape\n",
    "print(df_ratings.shape)\n",
    "\n",
    "# First five Rews\n",
    "df_ratings.head()"
   ]
  },
  {
   "cell_type": "code",
   "execution_count": 199,
   "metadata": {},
   "outputs": [
    {
     "data": {
      "text/html": [
       "<div>\n",
       "<style scoped>\n",
       "    .dataframe tbody tr th:only-of-type {\n",
       "        vertical-align: middle;\n",
       "    }\n",
       "\n",
       "    .dataframe tbody tr th {\n",
       "        vertical-align: top;\n",
       "    }\n",
       "\n",
       "    .dataframe thead th {\n",
       "        text-align: right;\n",
       "    }\n",
       "</style>\n",
       "<table border=\"1\" class=\"dataframe\">\n",
       "  <thead>\n",
       "    <tr style=\"text-align: right;\">\n",
       "      <th></th>\n",
       "      <th>StockCode</th>\n",
       "      <th>CustomerID</th>\n",
       "      <th>purchased</th>\n",
       "    </tr>\n",
       "  </thead>\n",
       "  <tbody>\n",
       "    <tr>\n",
       "      <th>count</th>\n",
       "      <td>259896.000000</td>\n",
       "      <td>259896.000000</td>\n",
       "      <td>259896.000000</td>\n",
       "    </tr>\n",
       "    <tr>\n",
       "      <th>mean</th>\n",
       "      <td>1563.001739</td>\n",
       "      <td>2170.848651</td>\n",
       "      <td>1.373038</td>\n",
       "    </tr>\n",
       "    <tr>\n",
       "      <th>std</th>\n",
       "      <td>813.517872</td>\n",
       "      <td>1251.674405</td>\n",
       "      <td>1.378517</td>\n",
       "    </tr>\n",
       "    <tr>\n",
       "      <th>min</th>\n",
       "      <td>0.000000</td>\n",
       "      <td>1.000000</td>\n",
       "      <td>-2.000000</td>\n",
       "    </tr>\n",
       "    <tr>\n",
       "      <th>25%</th>\n",
       "      <td>953.000000</td>\n",
       "      <td>1136.000000</td>\n",
       "      <td>1.000000</td>\n",
       "    </tr>\n",
       "    <tr>\n",
       "      <th>50%</th>\n",
       "      <td>1539.000000</td>\n",
       "      <td>2130.000000</td>\n",
       "      <td>1.000000</td>\n",
       "    </tr>\n",
       "    <tr>\n",
       "      <th>75%</th>\n",
       "      <td>2100.000000</td>\n",
       "      <td>3272.000000</td>\n",
       "      <td>1.000000</td>\n",
       "    </tr>\n",
       "    <tr>\n",
       "      <th>max</th>\n",
       "      <td>3677.000000</td>\n",
       "      <td>4371.000000</td>\n",
       "      <td>54.000000</td>\n",
       "    </tr>\n",
       "  </tbody>\n",
       "</table>\n",
       "</div>"
      ],
      "text/plain": [
       "           StockCode     CustomerID      purchased\n",
       "count  259896.000000  259896.000000  259896.000000\n",
       "mean     1563.001739    2170.848651       1.373038\n",
       "std       813.517872    1251.674405       1.378517\n",
       "min         0.000000       1.000000      -2.000000\n",
       "25%       953.000000    1136.000000       1.000000\n",
       "50%      1539.000000    2130.000000       1.000000\n",
       "75%      2100.000000    3272.000000       1.000000\n",
       "max      3677.000000    4371.000000      54.000000"
      ]
     },
     "execution_count": 199,
     "metadata": {},
     "output_type": "execute_result"
    }
   ],
   "source": [
    "# Describe df_ratings\n",
    "df_ratings.describe()"
   ]
  },
  {
   "cell_type": "code",
   "execution_count": 233,
   "metadata": {},
   "outputs": [
    {
     "name": "stdout",
     "output_type": "stream",
     "text": [
      "Unique Users: 3696\n",
      "Unique Items: 2786\n"
     ]
    }
   ],
   "source": [
    "# Unique Users & Items\n",
    "print(\"Unique Users:\", df_ratings.CustomerID.nunique())\n",
    "print(\"Unique Items:\", df_ratings.StockCode.nunique())"
   ]
  },
  {
   "attachments": {},
   "cell_type": "markdown",
   "metadata": {},
   "source": [
    "## 4. Increase value of repurchased items"
   ]
  },
  {
   "cell_type": "code",
   "execution_count": 200,
   "metadata": {},
   "outputs": [
    {
     "data": {
      "text/plain": [
       " 1    191863\n",
       " 2     60868\n",
       "-2      7165\n",
       "Name: purchased, dtype: int64"
      ]
     },
     "execution_count": 200,
     "metadata": {},
     "output_type": "execute_result"
    }
   ],
   "source": [
    "# Apply function with lambda for the condition: If x in purchased <=1 x, else 2 \n",
    "df_ratings['purchased'] = df_ratings['purchased'].apply(lambda x: x if x <= 1 else 2)\n",
    "\n",
    "# Check\n",
    "df_ratings.purchased.value_counts()\n",
    "\n"
   ]
  },
  {
   "attachments": {},
   "cell_type": "markdown",
   "metadata": {},
   "source": [
    "## 5. Insert Negative Values for non Purchased Popular Items"
   ]
  },
  {
   "cell_type": "code",
   "execution_count": 201,
   "metadata": {},
   "outputs": [
    {
     "data": {
      "text/html": [
       "<div>\n",
       "<style scoped>\n",
       "    .dataframe tbody tr th:only-of-type {\n",
       "        vertical-align: middle;\n",
       "    }\n",
       "\n",
       "    .dataframe tbody tr th {\n",
       "        vertical-align: top;\n",
       "    }\n",
       "\n",
       "    .dataframe thead th {\n",
       "        text-align: right;\n",
       "    }\n",
       "</style>\n",
       "<table border=\"1\" class=\"dataframe\">\n",
       "  <thead>\n",
       "    <tr style=\"text-align: right;\">\n",
       "      <th></th>\n",
       "      <th>StockCode</th>\n",
       "      <th>Purchases</th>\n",
       "    </tr>\n",
       "  </thead>\n",
       "  <tbody>\n",
       "    <tr>\n",
       "      <th>0</th>\n",
       "      <td>0</td>\n",
       "      <td>49</td>\n",
       "    </tr>\n",
       "    <tr>\n",
       "      <th>1</th>\n",
       "      <td>1</td>\n",
       "      <td>21</td>\n",
       "    </tr>\n",
       "    <tr>\n",
       "      <th>2</th>\n",
       "      <td>2</td>\n",
       "      <td>30</td>\n",
       "    </tr>\n",
       "    <tr>\n",
       "      <th>3</th>\n",
       "      <td>6</td>\n",
       "      <td>64</td>\n",
       "    </tr>\n",
       "    <tr>\n",
       "      <th>4</th>\n",
       "      <td>7</td>\n",
       "      <td>123</td>\n",
       "    </tr>\n",
       "  </tbody>\n",
       "</table>\n",
       "</div>"
      ],
      "text/plain": [
       "   StockCode  Purchases\n",
       "0          0         49\n",
       "1          1         21\n",
       "2          2         30\n",
       "3          6         64\n",
       "4          7        123"
      ]
     },
     "execution_count": 201,
     "metadata": {},
     "output_type": "execute_result"
    }
   ],
   "source": [
    "# First remove cancellations from initial\n",
    "df_positive = df[~df['InvoiceNo'].str.startswith('C')]\n",
    "\n",
    "# Second Count number of Purchases per Item\n",
    "df_items = df_positive.groupby('StockCode').agg({'StockCode': 'count'})\n",
    "\n",
    "# Rename the columns\n",
    "df_items.columns = ['Purchases']\n",
    "\n",
    "# Reset the index\n",
    "df_items.reset_index(inplace=True)\n",
    "\n",
    "df_items.head()\n"
   ]
  },
  {
   "cell_type": "code",
   "execution_count": 202,
   "metadata": {},
   "outputs": [
    {
     "data": {
      "text/plain": [
       "58"
      ]
     },
     "execution_count": 202,
     "metadata": {},
     "output_type": "execute_result"
    }
   ],
   "source": [
    "# Filter Out best Items \n",
    "df_top5_items = df_items[df_items['Purchases'] >= df_items['Purchases'].quantile(0.98)]\n",
    "\n",
    "# Number of top Items \n",
    "df_top5_items.shape[0]"
   ]
  },
  {
   "cell_type": "code",
   "execution_count": 203,
   "metadata": {},
   "outputs": [],
   "source": [
    "# Save top Items in an array \n",
    "top5_perc_items = df_top5_items['StockCode'].unique()\n",
    "\n",
    "# Save all Users from df_rating in an array\n",
    "all_users = df_ratings['CustomerID'].unique()"
   ]
  },
  {
   "cell_type": "code",
   "execution_count": 204,
   "metadata": {},
   "outputs": [
    {
     "data": {
      "text/plain": [
       "214368"
      ]
     },
     "execution_count": 204,
     "metadata": {},
     "output_type": "execute_result"
    }
   ],
   "source": [
    "# For sanity check in the next step multiply length of both arrays. This should later be the shape of dataframe with unique combinations out of both arrays\n",
    "len(top5_perc_items) * len(all_users)"
   ]
  },
  {
   "cell_type": "code",
   "execution_count": 205,
   "metadata": {},
   "outputs": [
    {
     "data": {
      "text/plain": [
       "(214368, 2)"
      ]
     },
     "execution_count": 205,
     "metadata": {},
     "output_type": "execute_result"
    }
   ],
   "source": [
    "# Create Dataframe with all unique matches of top items and all users \n",
    "\n",
    "# First Create a meshgrid of all_users and top5_perc_items\n",
    "user_grid, item_grid = np.meshgrid(all_users, top5_perc_items, indexing='ij')\n",
    "\n",
    "# Flatten the meshgrid arrays\n",
    "user_flat = user_grid.flatten()\n",
    "item_flat = item_grid.flatten()\n",
    "\n",
    "# Create a pandas dataframe with a row for each combination of the values in all_users and top5_perc_items\n",
    "top_potential_purchases = pd.DataFrame({'CustomerID': user_flat, 'StockCode': item_flat})\n",
    "\n",
    "# Check shape: it should be 510462 \n",
    "top_potential_purchases.shape\n"
   ]
  },
  {
   "cell_type": "code",
   "execution_count": 206,
   "metadata": {},
   "outputs": [
    {
     "data": {
      "text/html": [
       "<div>\n",
       "<style scoped>\n",
       "    .dataframe tbody tr th:only-of-type {\n",
       "        vertical-align: middle;\n",
       "    }\n",
       "\n",
       "    .dataframe tbody tr th {\n",
       "        vertical-align: top;\n",
       "    }\n",
       "\n",
       "    .dataframe thead th {\n",
       "        text-align: right;\n",
       "    }\n",
       "</style>\n",
       "<table border=\"1\" class=\"dataframe\">\n",
       "  <thead>\n",
       "    <tr style=\"text-align: right;\">\n",
       "      <th></th>\n",
       "      <th>CustomerID</th>\n",
       "      <th>StockCode</th>\n",
       "      <th>purchased</th>\n",
       "    </tr>\n",
       "  </thead>\n",
       "  <tbody>\n",
       "    <tr>\n",
       "      <th>0</th>\n",
       "      <td>86</td>\n",
       "      <td>169</td>\n",
       "      <td>-1</td>\n",
       "    </tr>\n",
       "    <tr>\n",
       "      <th>1</th>\n",
       "      <td>86</td>\n",
       "      <td>170</td>\n",
       "      <td>-1</td>\n",
       "    </tr>\n",
       "    <tr>\n",
       "      <th>2</th>\n",
       "      <td>86</td>\n",
       "      <td>171</td>\n",
       "      <td>-1</td>\n",
       "    </tr>\n",
       "    <tr>\n",
       "      <th>3</th>\n",
       "      <td>86</td>\n",
       "      <td>172</td>\n",
       "      <td>-1</td>\n",
       "    </tr>\n",
       "    <tr>\n",
       "      <th>4</th>\n",
       "      <td>86</td>\n",
       "      <td>173</td>\n",
       "      <td>-1</td>\n",
       "    </tr>\n",
       "  </tbody>\n",
       "</table>\n",
       "</div>"
      ],
      "text/plain": [
       "   CustomerID  StockCode  purchased\n",
       "0          86        169         -1\n",
       "1          86        170         -1\n",
       "2          86        171         -1\n",
       "3          86        172         -1\n",
       "4          86        173         -1"
      ]
     },
     "execution_count": 206,
     "metadata": {},
     "output_type": "execute_result"
    }
   ],
   "source": [
    "# Insert a -1 in a new column as value for all rows\n",
    "top_potential_purchases['purchased'] = -1 \n",
    "\n",
    "# Sanity check\n",
    "top_potential_purchases.head()"
   ]
  },
  {
   "cell_type": "code",
   "execution_count": 207,
   "metadata": {},
   "outputs": [
    {
     "data": {
      "text/html": [
       "<div>\n",
       "<style scoped>\n",
       "    .dataframe tbody tr th:only-of-type {\n",
       "        vertical-align: middle;\n",
       "    }\n",
       "\n",
       "    .dataframe tbody tr th {\n",
       "        vertical-align: top;\n",
       "    }\n",
       "\n",
       "    .dataframe thead th {\n",
       "        text-align: right;\n",
       "    }\n",
       "</style>\n",
       "<table border=\"1\" class=\"dataframe\">\n",
       "  <thead>\n",
       "    <tr style=\"text-align: right;\">\n",
       "      <th></th>\n",
       "      <th>CustomerID</th>\n",
       "      <th>StockCode</th>\n",
       "      <th>purchased</th>\n",
       "    </tr>\n",
       "  </thead>\n",
       "  <tbody>\n",
       "    <tr>\n",
       "      <th>0</th>\n",
       "      <td>86</td>\n",
       "      <td>315</td>\n",
       "      <td>-1</td>\n",
       "    </tr>\n",
       "    <tr>\n",
       "      <th>1</th>\n",
       "      <td>86</td>\n",
       "      <td>399</td>\n",
       "      <td>-1</td>\n",
       "    </tr>\n",
       "    <tr>\n",
       "      <th>2</th>\n",
       "      <td>86</td>\n",
       "      <td>401</td>\n",
       "      <td>-1</td>\n",
       "    </tr>\n",
       "    <tr>\n",
       "      <th>3</th>\n",
       "      <td>86</td>\n",
       "      <td>771</td>\n",
       "      <td>-1</td>\n",
       "    </tr>\n",
       "    <tr>\n",
       "      <th>4</th>\n",
       "      <td>86</td>\n",
       "      <td>791</td>\n",
       "      <td>-1</td>\n",
       "    </tr>\n",
       "  </tbody>\n",
       "</table>\n",
       "</div>"
      ],
      "text/plain": [
       "   CustomerID  StockCode  purchased\n",
       "0          86        315         -1\n",
       "1          86        399         -1\n",
       "2          86        401         -1\n",
       "3          86        771         -1\n",
       "4          86        791         -1"
      ]
     },
     "execution_count": 207,
     "metadata": {},
     "output_type": "execute_result"
    }
   ],
   "source": [
    "# Perform an Anti-Join between df_ratings and top_potential_purchases to find out combinations of CustomerID & StockCode that are only in top_potential purchases. Drop duplicates and concatenate to ratings\n",
    "\n",
    "# Perform the anti join by merging on 'StockCode' and 'CustomerID' using a 'left' join and adding an '_merge' indicator column\n",
    "popular_non_bought = top_potential_purchases.merge(df_ratings, on=['StockCode', 'CustomerID'], how='left', indicator=True)\n",
    "\n",
    "# Keep only the rows where the '_merge' indicator is 'left_only', meaning they only exist in the 'df' dataframe\n",
    "popular_non_bought = popular_non_bought[popular_non_bought['_merge'] == 'left_only']\n",
    "\n",
    "# Drop the '_merge' column and any additional columns from 'df_cancelled' that might have been added during the merge\n",
    "popular_non_bought = popular_non_bought.drop(columns=['_merge', 'purchased_y'])\n",
    "\n",
    "# Reset the index if needed\n",
    "popular_non_bought.reset_index(drop=True, inplace=True)\n",
    "\n",
    "# Rename purchased_x to purchased\n",
    "popular_non_bought = popular_non_bought.rename(columns={'purchased_x':'purchased'})\n",
    "\n",
    "# Show first Five rows\n",
    "popular_non_bought.head()\n"
   ]
  },
  {
   "cell_type": "code",
   "execution_count": 208,
   "metadata": {},
   "outputs": [
    {
     "data": {
      "text/html": [
       "<div>\n",
       "<style scoped>\n",
       "    .dataframe tbody tr th:only-of-type {\n",
       "        vertical-align: middle;\n",
       "    }\n",
       "\n",
       "    .dataframe tbody tr th {\n",
       "        vertical-align: top;\n",
       "    }\n",
       "\n",
       "    .dataframe thead th {\n",
       "        text-align: right;\n",
       "    }\n",
       "</style>\n",
       "<table border=\"1\" class=\"dataframe\">\n",
       "  <thead>\n",
       "    <tr style=\"text-align: right;\">\n",
       "      <th></th>\n",
       "      <th>StockCode</th>\n",
       "      <th>CustomerID</th>\n",
       "      <th>purchased</th>\n",
       "    </tr>\n",
       "  </thead>\n",
       "  <tbody>\n",
       "    <tr>\n",
       "      <th>434555</th>\n",
       "      <td>1520</td>\n",
       "      <td>3800</td>\n",
       "      <td>-1</td>\n",
       "    </tr>\n",
       "    <tr>\n",
       "      <th>263157</th>\n",
       "      <td>1486</td>\n",
       "      <td>3857</td>\n",
       "      <td>-1</td>\n",
       "    </tr>\n",
       "    <tr>\n",
       "      <th>274842</th>\n",
       "      <td>1336</td>\n",
       "      <td>1211</td>\n",
       "      <td>-1</td>\n",
       "    </tr>\n",
       "    <tr>\n",
       "      <th>284929</th>\n",
       "      <td>1806</td>\n",
       "      <td>613</td>\n",
       "      <td>-1</td>\n",
       "    </tr>\n",
       "    <tr>\n",
       "      <th>295632</th>\n",
       "      <td>1280</td>\n",
       "      <td>1110</td>\n",
       "      <td>-1</td>\n",
       "    </tr>\n",
       "    <tr>\n",
       "      <th>358604</th>\n",
       "      <td>2776</td>\n",
       "      <td>4003</td>\n",
       "      <td>-1</td>\n",
       "    </tr>\n",
       "    <tr>\n",
       "      <th>391418</th>\n",
       "      <td>1551</td>\n",
       "      <td>829</td>\n",
       "      <td>-1</td>\n",
       "    </tr>\n",
       "    <tr>\n",
       "      <th>407303</th>\n",
       "      <td>2033</td>\n",
       "      <td>2416</td>\n",
       "      <td>-1</td>\n",
       "    </tr>\n",
       "    <tr>\n",
       "      <th>240378</th>\n",
       "      <td>3126</td>\n",
       "      <td>1206</td>\n",
       "      <td>1</td>\n",
       "    </tr>\n",
       "    <tr>\n",
       "      <th>203226</th>\n",
       "      <td>2189</td>\n",
       "      <td>1233</td>\n",
       "      <td>1</td>\n",
       "    </tr>\n",
       "  </tbody>\n",
       "</table>\n",
       "</div>"
      ],
      "text/plain": [
       "        StockCode  CustomerID  purchased\n",
       "434555       1520        3800         -1\n",
       "263157       1486        3857         -1\n",
       "274842       1336        1211         -1\n",
       "284929       1806         613         -1\n",
       "295632       1280        1110         -1\n",
       "358604       2776        4003         -1\n",
       "391418       1551         829         -1\n",
       "407303       2033        2416         -1\n",
       "240378       3126        1206          1\n",
       "203226       2189        1233          1"
      ]
     },
     "execution_count": 208,
     "metadata": {},
     "output_type": "execute_result"
    }
   ],
   "source": [
    "# Concatenate popular_non_bought with df_ratings\n",
    "df_ratings = pd.concat([df_ratings, popular_non_bought], ignore_index=True)\n",
    "\n",
    "# Check sample\n",
    "df_ratings.sample(10)"
   ]
  },
  {
   "cell_type": "code",
   "execution_count": 209,
   "metadata": {},
   "outputs": [
    {
     "data": {
      "text/html": [
       "<div>\n",
       "<style scoped>\n",
       "    .dataframe tbody tr th:only-of-type {\n",
       "        vertical-align: middle;\n",
       "    }\n",
       "\n",
       "    .dataframe tbody tr th {\n",
       "        vertical-align: top;\n",
       "    }\n",
       "\n",
       "    .dataframe thead th {\n",
       "        text-align: right;\n",
       "    }\n",
       "</style>\n",
       "<table border=\"1\" class=\"dataframe\">\n",
       "  <thead>\n",
       "    <tr style=\"text-align: right;\">\n",
       "      <th></th>\n",
       "      <th>StockCode</th>\n",
       "      <th>CustomerID</th>\n",
       "      <th>purchased</th>\n",
       "    </tr>\n",
       "  </thead>\n",
       "  <tbody>\n",
       "    <tr>\n",
       "      <th>count</th>\n",
       "      <td>447393.000000</td>\n",
       "      <td>447393.000000</td>\n",
       "      <td>447393.000000</td>\n",
       "    </tr>\n",
       "    <tr>\n",
       "      <th>mean</th>\n",
       "      <td>1501.553469</td>\n",
       "      <td>2173.503302</td>\n",
       "      <td>0.249830</td>\n",
       "    </tr>\n",
       "    <tr>\n",
       "      <th>std</th>\n",
       "      <td>806.581551</td>\n",
       "      <td>1258.192015</td>\n",
       "      <td>1.180587</td>\n",
       "    </tr>\n",
       "    <tr>\n",
       "      <th>min</th>\n",
       "      <td>0.000000</td>\n",
       "      <td>1.000000</td>\n",
       "      <td>-2.000000</td>\n",
       "    </tr>\n",
       "    <tr>\n",
       "      <th>25%</th>\n",
       "      <td>969.000000</td>\n",
       "      <td>1109.000000</td>\n",
       "      <td>-1.000000</td>\n",
       "    </tr>\n",
       "    <tr>\n",
       "      <th>50%</th>\n",
       "      <td>1486.000000</td>\n",
       "      <td>2151.000000</td>\n",
       "      <td>1.000000</td>\n",
       "    </tr>\n",
       "    <tr>\n",
       "      <th>75%</th>\n",
       "      <td>2038.000000</td>\n",
       "      <td>3274.000000</td>\n",
       "      <td>1.000000</td>\n",
       "    </tr>\n",
       "    <tr>\n",
       "      <th>max</th>\n",
       "      <td>3677.000000</td>\n",
       "      <td>4371.000000</td>\n",
       "      <td>2.000000</td>\n",
       "    </tr>\n",
       "  </tbody>\n",
       "</table>\n",
       "</div>"
      ],
      "text/plain": [
       "           StockCode     CustomerID      purchased\n",
       "count  447393.000000  447393.000000  447393.000000\n",
       "mean     1501.553469    2173.503302       0.249830\n",
       "std       806.581551    1258.192015       1.180587\n",
       "min         0.000000       1.000000      -2.000000\n",
       "25%       969.000000    1109.000000      -1.000000\n",
       "50%      1486.000000    2151.000000       1.000000\n",
       "75%      2038.000000    3274.000000       1.000000\n",
       "max      3677.000000    4371.000000       2.000000"
      ]
     },
     "execution_count": 209,
     "metadata": {},
     "output_type": "execute_result"
    }
   ],
   "source": [
    "# Check Descriptive Statistics\n",
    "df_ratings.describe()"
   ]
  },
  {
   "cell_type": "code",
   "execution_count": 210,
   "metadata": {},
   "outputs": [
    {
     "data": {
      "text/plain": [
       " 1    191863\n",
       "-1    187497\n",
       " 2     60868\n",
       "-2      7165\n",
       "Name: purchased, dtype: int64"
      ]
     },
     "execution_count": 210,
     "metadata": {},
     "output_type": "execute_result"
    }
   ],
   "source": [
    "# Check Distribution \n",
    "df_ratings.purchased.value_counts()"
   ]
  },
  {
   "cell_type": "code",
   "execution_count": 302,
   "metadata": {},
   "outputs": [
    {
     "data": {
      "image/png": "[encoded data removed]",
      "text/plain": [
       "<Figure size 800x400 with 1 Axes>"
      ]
     },
     "metadata": {},
     "output_type": "display_data"
    }
   ],
   "source": [
    "# Visualization \n",
    "dist_classes = pd.DataFrame(df_ratings.purchased.value_counts())\n",
    "dist_classes.reset_index(inplace=True)\n",
    "dist_classes.columns = ['class', 'purchased']\n",
    "\n",
    "# Apply function with lambda for the condition:\n",
    "dist_classes['class'] = dist_classes['class'].apply(lambda x: 4 if x == 2 else x)\n",
    "dist_classes['class'] = dist_classes['class'].apply(lambda x: 3 if x == 1 else x)\n",
    "dist_classes['class'] = dist_classes['class'].apply(lambda x: 2 if x == -1 else x)\n",
    "dist_classes['class'] = dist_classes['class'].apply(lambda x: 1 if x == -2 else x)\n",
    "\n",
    "\n",
    "import matplotlib.pyplot as plt\n",
    "\n",
    "# Create a vertical bar chart\n",
    "fig, ax = plt.subplots()\n",
    "bars = ax.bar(dist_classes['class'], dist_classes['purchased'])\n",
    "\n",
    "# Display the values on the graph\n",
    "for bar in bars:\n",
    "    height = bar.get_height()\n",
    "    ax.text(bar.get_x() + bar.get_width() / 2, height, f'{height}', ha='center', va='bottom')\n",
    "\n",
    "# Set labels and title\n",
    "ax.set_xlabel('Class')\n",
    "#ax.set_ylabel('Purchased')\n",
    "ax.set_title('User-Item Transactions per Class')\n",
    "\n",
    "# Set x-axis ticks with 4 steps from 1 to 4\n",
    "ax.set_xticks(range(1, 5))\n",
    "\n",
    "# Create a mapping dictionary for custom labels\n",
    "class_labels = {\n",
    "    1: 'most negative',\n",
    "    2: 'negative',\n",
    "    3: 'positive',\n",
    "    4: 'most positive'\n",
    "}\n",
    "\n",
    "# Set custom x-axis labels and rotate them by 45 degrees\n",
    "ax.set_xticklabels([class_labels[i] for i in range(1, 5)], rotation=45)\n",
    "\n",
    "# Show the plot\n",
    "plt.show()\n"
   ]
  },
  {
   "attachments": {},
   "cell_type": "markdown",
   "metadata": {},
   "source": [
    "## 6. Split Into Training & Test Data"
   ]
  },
  {
   "cell_type": "code",
   "execution_count": 235,
   "metadata": {},
   "outputs": [
    {
     "data": {
      "text/plain": [
       "(447393, 3)"
      ]
     },
     "execution_count": 235,
     "metadata": {},
     "output_type": "execute_result"
    }
   ],
   "source": [
    "# Df Ratings Shape before Split\n",
    "df_ratings.shape"
   ]
  },
  {
   "cell_type": "code",
   "execution_count": 285,
   "metadata": {},
   "outputs": [],
   "source": [
    "# Load the Chronological Splitter\n",
    "from recommenders.datasets.python_splitters import python_stratified_split\n",
    "\n",
    "# Load Train Test Split \n",
    "from sklearn.model_selection import train_test_split\n",
    "# Split with Python Stratified\n",
    "#train_rat, test_rat = python_stratified_split(df_ratings, ratio=0.8, filter_by='user', min_rating=10, col_user='CustomerID', col_item='StockCode', seed=1)\n",
    "train_rat, test_rat = train_test_split(df_ratings, stratify=df_ratings.purchased, test_size=0.2)\n"
   ]
  },
  {
   "cell_type": "code",
   "execution_count": 286,
   "metadata": {},
   "outputs": [
    {
     "name": "stdout",
     "output_type": "stream",
     "text": [
      "Rows in train: 357914\n",
      "Rows in test: 89479\n"
     ]
    }
   ],
   "source": [
    "# Rows in Train & Test\n",
    "print(\"Rows in train:\", train_rat.shape[0])\n",
    "print(\"Rows in test:\", test_rat.shape[0])"
   ]
  },
  {
   "cell_type": "code",
   "execution_count": 287,
   "metadata": {},
   "outputs": [
    {
     "data": {
      "text/plain": [
       "0"
      ]
     },
     "execution_count": 287,
     "metadata": {},
     "output_type": "execute_result"
    }
   ],
   "source": [
    "# Rows removed during train-test split\n",
    "df_ratings.shape[0] - (train_rat.shape[0] +test_rat.shape[0])"
   ]
  },
  {
   "cell_type": "code",
   "execution_count": 301,
   "metadata": {},
   "outputs": [
    {
     "data": {
      "text/plain": [
       "447171"
      ]
     },
     "execution_count": 301,
     "metadata": {},
     "output_type": "execute_result"
    }
   ],
   "source": [
    "(train_rat.shape[0] +test_rat.shape[0])"
   ]
  },
  {
   "cell_type": "code",
   "execution_count": 288,
   "metadata": {},
   "outputs": [],
   "source": [
    "# Ensure that the same items and users are in both sets \n",
    "# Find the set of unique items in both the train and test sets\n",
    "train_items_rat = set(train_rat['StockCode'].unique())\n",
    "test_items_rat = set(test_rat['StockCode'].unique())\n",
    "\n",
    "# Find the intersection of the sets from step 1\n",
    "common_items_rat = train_items_rat.intersection(test_items_rat)\n",
    "\n",
    "# Filter the train and test sets to include only the rows with item IDs that are in the intersection set\n",
    "train_rat = train_rat[train_rat['StockCode'].isin(common_items_rat)]\n",
    "test_rat = test_rat[test_rat['StockCode'].isin(common_items_rat)]"
   ]
  },
  {
   "cell_type": "code",
   "execution_count": 289,
   "metadata": {},
   "outputs": [
    {
     "name": "stdout",
     "output_type": "stream",
     "text": [
      "Users in Test: 3696\n",
      "Users in Train: 3696\n",
      "Items in Test: 2769\n",
      "Items in Train: 2769\n"
     ]
    }
   ],
   "source": [
    "#  Check number of unique Users & Items in Test & Train \n",
    "print(\"Users in Test:\",test_rat['CustomerID'].nunique())\n",
    "print(\"Users in Train:\",train_rat['CustomerID'].nunique())\n",
    "print(\"Items in Test:\",test_rat['StockCode'].nunique())\n",
    "print(\"Items in Train:\",train_rat['StockCode'].nunique())\n"
   ]
  },
  {
   "cell_type": "code",
   "execution_count": 290,
   "metadata": {},
   "outputs": [
    {
     "name": "stdout",
     "output_type": "stream",
     "text": [
      "Rows in train: 357692\n",
      "Rows in test: 89479\n"
     ]
    }
   ],
   "source": [
    "# Rows in Train & Test\n",
    "print(\"Rows in train:\", train_rat.shape[0])\n",
    "print(\"Rows in test:\", test_rat.shape[0])"
   ]
  },
  {
   "cell_type": "code",
   "execution_count": 295,
   "metadata": {},
   "outputs": [],
   "source": [
    "# Save as csv \n",
    "train_rat.to_csv('../00_Data/online_retail_ratings_train.csv')\n",
    "test_rat.to_csv('../00_Data/online_retail_ratings_test.csv')"
   ]
  },
  {
   "cell_type": "code",
   "execution_count": 292,
   "metadata": {},
   "outputs": [
    {
     "data": {
      "text/plain": [
       " 1    153304\n",
       "-1    149998\n",
       " 2     48666\n",
       "-2      5724\n",
       "Name: purchased, dtype: int64"
      ]
     },
     "execution_count": 292,
     "metadata": {},
     "output_type": "execute_result"
    }
   ],
   "source": [
    "train_rat.purchased.value_counts()"
   ]
  },
  {
   "cell_type": "code",
   "execution_count": 293,
   "metadata": {},
   "outputs": [
    {
     "data": {
      "text/plain": [
       " 1    38373\n",
       "-1    37499\n",
       " 2    12174\n",
       "-2     1433\n",
       "Name: purchased, dtype: int64"
      ]
     },
     "execution_count": 293,
     "metadata": {},
     "output_type": "execute_result"
    }
   ],
   "source": [
    "test_rat.purchased.value_counts()"
   ]
  },
  {
   "cell_type": "code",
   "execution_count": 298,
   "metadata": {},
   "outputs": [
    {
     "data": {
      "text/plain": [
       "[Text(0.5, 0, 'ratings'), Text(0, 0.5, 'density')]"
      ]
     },
     "execution_count": 298,
     "metadata": {},
     "output_type": "execute_result"
    },
    {
     "data": {
      "image/png": "[encoded data removed]",
      "text/plain": [
       "<Figure size 800x300 with 2 Axes>"
      ]
     },
     "metadata": {},
     "output_type": "display_data"
    }
   ],
   "source": [
    "# Copy Train and Test \n",
    "train_rat_copy = train_rat.copy()\n",
    "test_rat_copy = test_rat.copy() \n",
    "\n",
    "# Change values for Train\n",
    "train_rat_copy['purchased'] = train_rat_copy['purchased'].apply(lambda x: 4 if x == 2 else x)\n",
    "train_rat_copy['purchased'] = train_rat_copy['purchased'].apply(lambda x: 3 if x == 1 else x)\n",
    "train_rat_copy['purchased'] = train_rat_copy['purchased'].apply(lambda x: 2 if x == -1 else x)\n",
    "train_rat_copy['purchased'] = train_rat_copy['purchased'].apply(lambda x: 1 if x == -2 else x) \n",
    "\n",
    "# Change values for Test \n",
    "test_rat_copy['purchased'] = test_rat_copy['purchased'].apply(lambda x: 4 if x == 2 else x)\n",
    "test_rat_copy['purchased'] = test_rat_copy['purchased'].apply(lambda x: 3 if x == 1 else x)\n",
    "test_rat_copy['purchased'] = test_rat_copy['purchased'].apply(lambda x: 2 if x == -1 else x)\n",
    "test_rat_copy['purchased'] = test_rat_copy['purchased'].apply(lambda x: 1 if x == -2 else x) \n",
    "\n",
    "# Density Histogram\n",
    "_, (ax1m, ax2m) = plt.subplots(1, 2, sharey=True, figsize=(8,3))\n",
    "ax1m.hist(train_rat_copy['purchased'], 4, density= True)\n",
    "ax1m.set_title('Train')\n",
    "ax1m.set(xlabel=\"ratings\", ylabel=\"density\")\n",
    "ax2m.hist(test_rat_copy['purchased'], 4, density= True)\n",
    "ax2m.set_title('Test')\n",
    "ax2m.set(xlabel=\"ratings\", ylabel=\"density\")"
   ]
  },
  {
   "cell_type": "code",
   "execution_count": null,
   "metadata": {},
   "outputs": [],
   "source": [
    "class "
   ]
  }
 ],
 "metadata": {
  "kernelspec": {
   "display_name": "recom",
   "language": "python",
   "name": "python3"
  },
  "language_info": {
   "codemirror_mode": {
    "name": "ipython",
    "version": 3
   },
   "file_extension": ".py",
   "mimetype": "text/x-python",
   "name": "python",
   "nbconvert_exporter": "python",
   "pygments_lexer": "ipython3",
   "version": "3.9.16"
  },
  "orig_nbformat": 4,
  "vscode": {
   "interpreter": {
    "hash": "17afcd9f6960de0a3656d2c4c5dd434deed0eab3cd38c55c3169df3bef50250d"
   }
  }
 },
 "nbformat": 4,
 "nbformat_minor": 2
}
