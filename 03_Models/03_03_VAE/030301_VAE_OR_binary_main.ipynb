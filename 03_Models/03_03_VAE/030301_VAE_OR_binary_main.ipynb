{
 "cells": [
  {
   "attachments": {},
   "cell_type": "markdown",
   "metadata": {},
   "source": [
    "# Loading Libraries"
   ]
  },
  {
   "cell_type": "code",
   "execution_count": 6,
   "metadata": {},
   "outputs": [],
   "source": [
    "# Pandas & Numpy\n",
    "import pandas as pd\n",
    "import numpy as np \n",
    "\n",
    "# Visualization\n",
    "import seaborn as sns \n",
    "from matplotlib import pyplot as plt \n",
    "\n",
    "# Tensorflow\n",
    "import tensorflow as tf\n",
    "from tensorflow import keras \n",
    "\n",
    "# Affinity Matrix \n",
    "from recommenders.datasets.sparse import AffinityMatrix\n",
    "\n",
    "# Evaluation \n",
    "from recommenders.evaluation.python_evaluation import (\n",
    "    precision_at_k,\n",
    "    recall_at_k,\n",
    "    ndcg_at_k,\n",
    "    map_at_k\n",
    ")\n",
    "from sklearn.metrics import accuracy_score \n",
    "\n",
    "# Recomender Utilities\n",
    "from recommenders.utils.timer import Timer\n",
    "from recommenders.utils.constants import SEED as DEFAULT_SEED\n",
    "from recommenders.utils.python_utils import binarize\n",
    "from recommenders.datasets.python_splitters import numpy_stratified_split\n",
    "from recommenders.datasets.split_utils import min_rating_filter_pandas\n",
    "\n",
    "# Standard VAE Model\n",
    "#from recommenders.models.vae.standard_vae import StandardVAE\n",
    "\n",
    "# System & OS\n",
    "import sys\n",
    "import os"
   ]
  },
  {
   "attachments": {},
   "cell_type": "markdown",
   "metadata": {},
   "source": [
    "# Import & Read Dataset"
   ]
  },
  {
   "cell_type": "code",
   "execution_count": 7,
   "metadata": {},
   "outputs": [],
   "source": [
    "# Read Train & Test Data\n",
    "train = pd.read_csv(\"../../00_Data/online_retail_train_mixed.csv\", index_col=0)\n",
    "test = pd.read_csv(\"../../00_Data/online_retail_test_mixed.csv\", index_col=0)"
   ]
  },
  {
   "cell_type": "code",
   "execution_count": 8,
   "metadata": {},
   "outputs": [
    {
     "name": "stdout",
     "output_type": "stream",
     "text": [
      "Shape of Train: (287957, 3)\n",
      "Shape of Test: \t (71990, 3)\n"
     ]
    }
   ],
   "source": [
    "# Check Shapes\n",
    "print(\"Shape of Train:\", train.shape)\n",
    "print(\"Shape of Test: \\t\", test.shape)"
   ]
  },
  {
   "cell_type": "code",
   "execution_count": 9,
   "metadata": {},
   "outputs": [
    {
     "name": "stdout",
     "output_type": "stream",
     "text": [
      "Unique Users in Train: 3694\n",
      "Unique Users in Test: 3694\n",
      "Unique Items in Train: 2786\n",
      "Unique Items in Test: 2786\n"
     ]
    }
   ],
   "source": [
    "# Check Number of Unique Items and User in Train & Test \n",
    "print(\"Unique Users in Train:\", train.CustomerID.nunique())\n",
    "print(\"Unique Users in Test:\", test.CustomerID.nunique())\n",
    "print(\"Unique Items in Train:\", train.StockCode.nunique())\n",
    "print(\"Unique Items in Test:\", test.StockCode.nunique())"
   ]
  },
  {
   "cell_type": "code",
   "execution_count": 10,
   "metadata": {},
   "outputs": [],
   "source": [
    "# Concatenate both Dataset again for further Data Preparation\n",
    "df = pd.concat([train, test], axis=0)"
   ]
  },
  {
   "cell_type": "code",
   "execution_count": 11,
   "metadata": {},
   "outputs": [
    {
     "data": {
      "text/plain": [
       "Index(['itemID', 'userID', 'rating'], dtype='object')"
      ]
     },
     "execution_count": 11,
     "metadata": {},
     "output_type": "execute_result"
    }
   ],
   "source": [
    "# Change name of columns \n",
    "df = df.rename(columns={'StockCode':'itemID', 'CustomerID':'userID', 'purchased':'rating'})\n",
    "df.columns"
   ]
  },
  {
   "attachments": {},
   "cell_type": "markdown",
   "metadata": {},
   "source": [
    "# Data Filtering "
   ]
  },
  {
   "cell_type": "code",
   "execution_count": 12,
   "metadata": {},
   "outputs": [
    {
     "name": "stdout",
     "output_type": "stream",
     "text": [
      "(259350, 3)\n"
     ]
    },
    {
     "data": {
      "text/html": [
       "<div>\n",
       "<style scoped>\n",
       "    .dataframe tbody tr th:only-of-type {\n",
       "        vertical-align: middle;\n",
       "    }\n",
       "\n",
       "    .dataframe tbody tr th {\n",
       "        vertical-align: top;\n",
       "    }\n",
       "\n",
       "    .dataframe thead th {\n",
       "        text-align: right;\n",
       "    }\n",
       "</style>\n",
       "<table border=\"1\" class=\"dataframe\">\n",
       "  <thead>\n",
       "    <tr style=\"text-align: right;\">\n",
       "      <th></th>\n",
       "      <th>itemID</th>\n",
       "      <th>userID</th>\n",
       "      <th>rating</th>\n",
       "    </tr>\n",
       "  </thead>\n",
       "  <tbody>\n",
       "    <tr>\n",
       "      <th>171197</th>\n",
       "      <td>1917</td>\n",
       "      <td>441</td>\n",
       "      <td>1</td>\n",
       "    </tr>\n",
       "    <tr>\n",
       "      <th>219802</th>\n",
       "      <td>2369</td>\n",
       "      <td>145</td>\n",
       "      <td>1</td>\n",
       "    </tr>\n",
       "    <tr>\n",
       "      <th>239431</th>\n",
       "      <td>2855</td>\n",
       "      <td>4208</td>\n",
       "      <td>1</td>\n",
       "    </tr>\n",
       "    <tr>\n",
       "      <th>21619</th>\n",
       "      <td>386</td>\n",
       "      <td>3864</td>\n",
       "      <td>1</td>\n",
       "    </tr>\n",
       "    <tr>\n",
       "      <th>148454</th>\n",
       "      <td>1696</td>\n",
       "      <td>67</td>\n",
       "      <td>1</td>\n",
       "    </tr>\n",
       "    <tr>\n",
       "      <th>62494</th>\n",
       "      <td>925</td>\n",
       "      <td>2075</td>\n",
       "      <td>1</td>\n",
       "    </tr>\n",
       "    <tr>\n",
       "      <th>66142</th>\n",
       "      <td>976</td>\n",
       "      <td>3192</td>\n",
       "      <td>1</td>\n",
       "    </tr>\n",
       "    <tr>\n",
       "      <th>55056</th>\n",
       "      <td>870</td>\n",
       "      <td>2290</td>\n",
       "      <td>1</td>\n",
       "    </tr>\n",
       "    <tr>\n",
       "      <th>256582</th>\n",
       "      <td>3280</td>\n",
       "      <td>1009</td>\n",
       "      <td>1</td>\n",
       "    </tr>\n",
       "    <tr>\n",
       "      <th>51203</th>\n",
       "      <td>829</td>\n",
       "      <td>516</td>\n",
       "      <td>1</td>\n",
       "    </tr>\n",
       "  </tbody>\n",
       "</table>\n",
       "</div>"
      ],
      "text/plain": [
       "        itemID  userID  rating\n",
       "171197    1917     441       1\n",
       "219802    2369     145       1\n",
       "239431    2855    4208       1\n",
       "21619      386    3864       1\n",
       "148454    1696      67       1\n",
       "62494      925    2075       1\n",
       "66142      976    3192       1\n",
       "55056      870    2290       1\n",
       "256582    3280    1009       1\n",
       "51203      829     516       1"
      ]
     },
     "execution_count": 12,
     "metadata": {},
     "output_type": "execute_result"
    }
   ],
   "source": [
    "# Binarize the data (only keep ratings >= 0.5)\n",
    "df_preferred = df[df['rating'] > 0.5]\n",
    "print (df_preferred.shape)\n",
    "df_low_rating = df[df['rating'] <= 0.5]\n",
    "\n",
    "\n",
    "# Head of df_preferred\n",
    "df_preferred.head(10)"
   ]
  },
  {
   "cell_type": "code",
   "execution_count": 13,
   "metadata": {},
   "outputs": [
    {
     "data": {
      "text/html": [
       "<div>\n",
       "<style scoped>\n",
       "    .dataframe tbody tr th:only-of-type {\n",
       "        vertical-align: middle;\n",
       "    }\n",
       "\n",
       "    .dataframe tbody tr th {\n",
       "        vertical-align: top;\n",
       "    }\n",
       "\n",
       "    .dataframe thead th {\n",
       "        text-align: right;\n",
       "    }\n",
       "</style>\n",
       "<table border=\"1\" class=\"dataframe\">\n",
       "  <thead>\n",
       "    <tr style=\"text-align: right;\">\n",
       "      <th></th>\n",
       "      <th>itemID</th>\n",
       "      <th>userID</th>\n",
       "      <th>rating</th>\n",
       "    </tr>\n",
       "  </thead>\n",
       "  <tbody>\n",
       "    <tr>\n",
       "      <th>296882</th>\n",
       "      <td>2016</td>\n",
       "      <td>1620</td>\n",
       "      <td>0</td>\n",
       "    </tr>\n",
       "    <tr>\n",
       "      <th>262509</th>\n",
       "      <td>673</td>\n",
       "      <td>124</td>\n",
       "      <td>0</td>\n",
       "    </tr>\n",
       "    <tr>\n",
       "      <th>316340</th>\n",
       "      <td>1194</td>\n",
       "      <td>2475</td>\n",
       "      <td>0</td>\n",
       "    </tr>\n",
       "    <tr>\n",
       "      <th>346006</th>\n",
       "      <td>341</td>\n",
       "      <td>3758</td>\n",
       "      <td>0</td>\n",
       "    </tr>\n",
       "    <tr>\n",
       "      <th>307927</th>\n",
       "      <td>946</td>\n",
       "      <td>2099</td>\n",
       "      <td>0</td>\n",
       "    </tr>\n",
       "    <tr>\n",
       "      <th>335208</th>\n",
       "      <td>953</td>\n",
       "      <td>3290</td>\n",
       "      <td>0</td>\n",
       "    </tr>\n",
       "    <tr>\n",
       "      <th>355636</th>\n",
       "      <td>1130</td>\n",
       "      <td>4173</td>\n",
       "      <td>0</td>\n",
       "    </tr>\n",
       "    <tr>\n",
       "      <th>343479</th>\n",
       "      <td>3111</td>\n",
       "      <td>3645</td>\n",
       "      <td>0</td>\n",
       "    </tr>\n",
       "    <tr>\n",
       "      <th>318219</th>\n",
       "      <td>940</td>\n",
       "      <td>2564</td>\n",
       "      <td>0</td>\n",
       "    </tr>\n",
       "    <tr>\n",
       "      <th>348929</th>\n",
       "      <td>1394</td>\n",
       "      <td>3886</td>\n",
       "      <td>0</td>\n",
       "    </tr>\n",
       "  </tbody>\n",
       "</table>\n",
       "</div>"
      ],
      "text/plain": [
       "        itemID  userID  rating\n",
       "296882    2016    1620       0\n",
       "262509     673     124       0\n",
       "316340    1194    2475       0\n",
       "346006     341    3758       0\n",
       "307927     946    2099       0\n",
       "335208     953    3290       0\n",
       "355636    1130    4173       0\n",
       "343479    3111    3645       0\n",
       "318219     940    2564       0\n",
       "348929    1394    3886       0"
      ]
     },
     "execution_count": 13,
     "metadata": {},
     "output_type": "execute_result"
    }
   ],
   "source": [
    "# Head of df_low_rating\n",
    "df_low_rating.head(10)"
   ]
  },
  {
   "cell_type": "code",
   "execution_count": 14,
   "metadata": {},
   "outputs": [],
   "source": [
    "# Keep users who clicked on at least 5 items\n",
    "df = min_rating_filter_pandas(df_preferred, min_rating=5, filter_by=\"user\")\n",
    "\n",
    "# Keep movies that were clicked on by at least on 1 user\n",
    "df = min_rating_filter_pandas(df, min_rating=1, filter_by=\"item\")"
   ]
  },
  {
   "cell_type": "code",
   "execution_count": 15,
   "metadata": {},
   "outputs": [
    {
     "name": "stdout",
     "output_type": "stream",
     "text": [
      "After filtering, there are 259350 interactions between 3694 users and 2786 items (sparsity: 2.520%)\n"
     ]
    }
   ],
   "source": [
    "# Obtain both usercount and itemcount after filtering\n",
    "usercount = df[['userID']].groupby('userID', as_index = False).size()\n",
    "itemcount = df[['itemID']].groupby('itemID', as_index = False).size()\n",
    "\n",
    "# Compute sparsity after filtering\n",
    "sparsity = 1. * df.shape[0] / (usercount.shape[0] * itemcount.shape[0])\n",
    "\n",
    "print(\"After filtering, there are %d interactions between %d users and %d items (sparsity: %.3f%%)\" % \n",
    "      (df.shape[0], usercount.shape[0], itemcount.shape[0], sparsity * 100))"
   ]
  },
  {
   "attachments": {},
   "cell_type": "markdown",
   "metadata": {},
   "source": [
    "# Split Data"
   ]
  },
  {
   "cell_type": "code",
   "execution_count": 16,
   "metadata": {},
   "outputs": [],
   "source": [
    "unique_users = sorted(df.userID.unique())\n",
    "np.random.seed(1)\n",
    "unique_users = np.random.permutation(unique_users)"
   ]
  },
  {
   "cell_type": "code",
   "execution_count": 17,
   "metadata": {},
   "outputs": [
    {
     "name": "stdout",
     "output_type": "stream",
     "text": [
      "Number of unique users: 3694\n",
      "\n",
      "Number of training users: 2194\n",
      "\n",
      "Number of validation users: 750\n",
      "\n",
      "Number of test users: 750\n"
     ]
    }
   ],
   "source": [
    "# Create train/validation/test users\n",
    "n_users = len(unique_users)\n",
    "print(\"Number of unique users:\", n_users)\n",
    "\n",
    "train_users = unique_users[:(n_users - 750 * 2)]\n",
    "print(\"\\nNumber of training users:\", len(train_users))\n",
    "\n",
    "val_users = unique_users[(n_users - 750 * 2) : (n_users - 750)]\n",
    "print(\"\\nNumber of validation users:\", len(val_users))\n",
    "\n",
    "test_users = unique_users[(n_users - 750):]\n",
    "print(\"\\nNumber of test users:\", len(test_users))"
   ]
  },
  {
   "cell_type": "code",
   "execution_count": 18,
   "metadata": {},
   "outputs": [
    {
     "name": "stdout",
     "output_type": "stream",
     "text": [
      "Number of training observations:  155175\n",
      "\n",
      "Number of validation observations:  54081\n",
      "\n",
      "Number of test observations:  50094\n"
     ]
    }
   ],
   "source": [
    "# For training set keep only users that are in train_users list\n",
    "train_set = df.loc[df['userID'].isin(train_users)]\n",
    "print(\"Number of training observations: \", train_set.shape[0])\n",
    "\n",
    "# For validation set keep only users that are in val_users list\n",
    "val_set = df.loc[df['userID'].isin(val_users)]\n",
    "print(\"\\nNumber of validation observations: \", val_set.shape[0])\n",
    "\n",
    "# For test set keep only users that are in test_users list\n",
    "test_set = df.loc[df['userID'].isin(test_users)]\n",
    "print(\"\\nNumber of test observations: \", test_set.shape[0])\n"
   ]
  },
  {
   "cell_type": "code",
   "execution_count": 19,
   "metadata": {},
   "outputs": [
    {
     "name": "stdout",
     "output_type": "stream",
     "text": [
      "Number of unique items that consumed in training set 2786\n"
     ]
    }
   ],
   "source": [
    "# Obtain list of unique items used in training set\n",
    "unique_train_items = pd.unique(train_set['itemID'])\n",
    "print(\"Number of unique items that consumed in training set\", unique_train_items.size)"
   ]
  },
  {
   "cell_type": "code",
   "execution_count": 20,
   "metadata": {},
   "outputs": [
    {
     "name": "stdout",
     "output_type": "stream",
     "text": [
      "Number of validation observations after filtering:  54081\n",
      "\n",
      "Number of test observations after filtering:  50094\n"
     ]
    }
   ],
   "source": [
    "# For validation set keep only items that used in training set\n",
    "val_set = val_set.loc[val_set['itemID'].isin(unique_train_items)]\n",
    "print(\"Number of validation observations after filtering: \", val_set.shape[0])\n",
    "\n",
    "# For test set keep only movies items used in training set\n",
    "test_set = test_set.loc[test_set['itemID'].isin(unique_train_items)]\n",
    "print(\"\\nNumber of test observations after filtering: \", test_set.shape[0])"
   ]
  },
  {
   "cell_type": "code",
   "execution_count": 21,
   "metadata": {},
   "outputs": [
    {
     "data": {
      "text/plain": [
       "0.1931521110468479"
      ]
     },
     "execution_count": 21,
     "metadata": {},
     "output_type": "execute_result"
    }
   ],
   "source": [
    "test_set.shape[0] / (train_set.shape[0] + val_set.shape[0] + test_set.shape[0])"
   ]
  },
  {
   "attachments": {},
   "cell_type": "markdown",
   "metadata": {},
   "source": [
    "# Click Matrix Generation"
   ]
  },
  {
   "cell_type": "code",
   "execution_count": 22,
   "metadata": {},
   "outputs": [],
   "source": [
    "# Instantiate the sparse matrix generation for train, validation and test sets\n",
    "# use list of unique items from training set for all sets\n",
    "am_train = AffinityMatrix(df=train_set, items_list=unique_train_items)\n",
    "\n",
    "am_val = AffinityMatrix(df=val_set, items_list=unique_train_items)\n",
    "\n",
    "am_test = AffinityMatrix(df=test_set, items_list=unique_train_items)"
   ]
  },
  {
   "cell_type": "code",
   "execution_count": 23,
   "metadata": {},
   "outputs": [
    {
     "name": "stdout",
     "output_type": "stream",
     "text": [
      "(2194, 2786)\n",
      "(750, 2786)\n",
      "(750, 2786)\n"
     ]
    }
   ],
   "source": [
    "# Obtain the sparse matrix for train, validation and test sets\n",
    "train_data, _, _ = am_train.gen_affinity_matrix()\n",
    "print(train_data.shape)\n",
    "\n",
    "val_data, val_map_users, val_map_items = am_val.gen_affinity_matrix()\n",
    "print(val_data.shape)\n",
    "\n",
    "test_data, test_map_users, test_map_items = am_test.gen_affinity_matrix()\n",
    "print(test_data.shape)"
   ]
  },
  {
   "cell_type": "code",
   "execution_count": 24,
   "metadata": {},
   "outputs": [],
   "source": [
    "# Split validation and test data into training and testing parts\n",
    "val_data_tr, val_data_te = numpy_stratified_split(val_data, ratio=0.75, seed=1)\n",
    "test_data_tr, test_data_te = numpy_stratified_split(test_data, ratio=0.75, seed=1)"
   ]
  },
  {
   "cell_type": "code",
   "execution_count": 25,
   "metadata": {},
   "outputs": [],
   "source": [
    "# Binarize train, validation and test data\n",
    "train_data = binarize(a=train_data, threshold=0.5)\n",
    "val_data = binarize(a=val_data, threshold=0.5)\n",
    "test_data = binarize(a=test_data, threshold=0.5)"
   ]
  },
  {
   "cell_type": "code",
   "execution_count": 26,
   "metadata": {},
   "outputs": [],
   "source": [
    "# Binarize validation data: training part  \n",
    "val_data_tr = binarize(a=val_data_tr, threshold=0.5)\n",
    "\n",
    "# Binarize validation data: testing part (save non-binary version in the separate object, will be used for calculating NDCG)\n",
    "val_data_te_ratings = val_data_te.copy()\n",
    "val_data_te = binarize(a=val_data_te, threshold=0.5)"
   ]
  },
  {
   "cell_type": "code",
   "execution_count": 27,
   "metadata": {},
   "outputs": [],
   "source": [
    "# Binarize test data: training part \n",
    "test_data_tr = binarize(a=test_data_tr, threshold=0.5)\n",
    "\n",
    "# Binarize test data: testing part (save non-binary version in the separate object, will be used for calculating NDCG)\n",
    "test_data_te_ratings = test_data_te.copy()\n",
    "test_data_te = binarize(a=test_data_te, threshold=0.5)"
   ]
  },
  {
   "cell_type": "code",
   "execution_count": 28,
   "metadata": {},
   "outputs": [],
   "source": [
    "# retrieve real ratings from initial dataset \n",
    "\n",
    "test_data_te_ratings=pd.DataFrame(test_data_te_ratings)\n",
    "val_data_te_ratings=pd.DataFrame(val_data_te_ratings)\n",
    "\n",
    "for index,i in df_low_rating.iterrows():\n",
    "  user_old= i['userID'] # old value \n",
    "  item_old=i['itemID'] # old value \n",
    "\n",
    "  if (test_map_users.get(user_old) is not None)  and (test_map_items.get(item_old) is not None) :\n",
    "      user_new=test_map_users.get(user_old) # new value \n",
    "      item_new=test_map_items.get(item_old) # new value \n",
    "      rating=i['rating'] \n",
    "      test_data_te_ratings.at[user_new,item_new]= rating   \n",
    "\n",
    "  if (val_map_users.get(user_old) is not None)  and (val_map_items.get(item_old) is not None) :\n",
    "      user_new=val_map_users.get(user_old) # new value \n",
    "      item_new=val_map_items.get(item_old) # new value \n",
    "      rating=i['rating'] \n",
    "      val_data_te_ratings.at[user_new,item_new]= rating   \n",
    "\n",
    "\n",
    "val_data_te_ratings=val_data_te_ratings.to_numpy()    \n",
    "test_data_te_ratings=test_data_te_ratings.to_numpy()    "
   ]
  },
  {
   "cell_type": "code",
   "execution_count": 35,
   "metadata": {},
   "outputs": [
    {
     "data": {
      "text/plain": [
       "1    259350\n",
       "Name: rating, dtype: int64"
      ]
     },
     "execution_count": 35,
     "metadata": {},
     "output_type": "execute_result"
    }
   ],
   "source": [
    "df.rating.value_counts()"
   ]
  },
  {
   "cell_type": "code",
   "execution_count": 40,
   "metadata": {},
   "outputs": [
    {
     "data": {
      "text/plain": [
       "(750, 2786)"
      ]
     },
     "execution_count": 40,
     "metadata": {},
     "output_type": "execute_result"
    }
   ],
   "source": [
    "test_data_tr.shape"
   ]
  },
  {
   "cell_type": "code",
   "execution_count": 46,
   "metadata": {},
   "outputs": [
    {
     "data": {
      "text/plain": [
       "array([0., 1.])"
      ]
     },
     "execution_count": 46,
     "metadata": {},
     "output_type": "execute_result"
    }
   ],
   "source": [
    "np.unique(train_data)"
   ]
  },
  {
   "attachments": {},
   "cell_type": "markdown",
   "metadata": {},
   "source": [
    "# Update Source Code of Recommenders"
   ]
  },
  {
   "cell_type": "code",
   "execution_count": 29,
   "metadata": {},
   "outputs": [],
   "source": [
    "import numpy as np\n",
    "import matplotlib.pyplot as plt\n",
    "import seaborn as sns\n",
    "import tensorflow as tf\n",
    "from tensorflow.keras.layers import *\n",
    "from tensorflow.keras.models import Model\n",
    "from tensorflow.keras.losses import binary_crossentropy\n",
    "from tensorflow.keras import backend as K\n",
    "from tensorflow.keras.callbacks import ReduceLROnPlateau, Callback\n",
    "\n",
    "from recommenders.evaluation.python_evaluation import ndcg_at_k\n",
    "\n",
    "\n",
    "class LossHistory(Callback):\n",
    "    \"\"\"This class is used for saving the validation loss and the training loss per epoch.\"\"\"\n",
    "\n",
    "    def on_train_begin(self, logs={}):\n",
    "        \"\"\"Initialise the lists where the loss of training and validation will be saved.\"\"\"\n",
    "        self.losses = []\n",
    "        self.val_losses = []\n",
    "\n",
    "\n",
    "    def on_epoch_end(self, epoch, logs={}):\n",
    "        \"\"\"Save the loss of training and validation set at the end of each epoch.\"\"\"\n",
    "        self.losses.append(logs.get(\"loss\"))\n",
    "        self.val_losses.append(logs.get(\"val_loss\"))\n",
    "\n",
    "\n",
    "\n",
    "class Metrics(Callback):\n",
    "    \"\"\"Callback function used to calculate the NDCG@k metric of validation set at the end of each epoch.\n",
    "    Weights of the model with the highest NDCG@k value is saved.\"\"\"\n",
    "\n",
    "    def __init__(self, model, val_tr, val_te, mapper, k, save_path=None):\n",
    "\n",
    "        \"\"\"Initialize the class parameters.\n",
    "\n",
    "        Args:\n",
    "            model: trained model for validation.\n",
    "            val_tr (numpy.ndarray, float): the click matrix for the validation set training part.\n",
    "            val_te (numpy.ndarray, float): the click matrix for the validation set testing part.\n",
    "            mapper (AffinityMatrix): the mapper for converting click matrix to dataframe.\n",
    "            k (int): number of top k items per user (optional).\n",
    "            save_path (str): Default path to save weights.\n",
    "        \"\"\"\n",
    "        # Model\n",
    "        self.model = model\n",
    "\n",
    "        # Initial value of NDCG\n",
    "        self.best_ndcg = 0.0\n",
    "\n",
    "        # Validation data: training and testing parts\n",
    "        self.val_tr = val_tr\n",
    "        self.val_te = val_te\n",
    "\n",
    "        # Mapper for converting from sparse matrix to dataframe\n",
    "        self.mapper = mapper\n",
    "\n",
    "        # Top k items to recommend\n",
    "        self.k = k\n",
    "\n",
    "        # Options to save the weights of the model for future use\n",
    "        self.save_path = save_path\n",
    "\n",
    "\n",
    "    def on_train_begin(self, logs={}):\n",
    "        \"\"\"Initialise the list for validation NDCG@k.\"\"\"\n",
    "        self._data = []\n",
    "\n",
    "\n",
    "    def recommend_k_items(self, x, k, remove_seen=True):\n",
    "        \"\"\"Returns the top-k items ordered by a relevancy score.\n",
    "        Obtained probabilities are used as recommendation score.\n",
    "\n",
    "        Args:\n",
    "            x (numpy.ndarray, int32): input click matrix.\n",
    "            k (scalar, int32): the number of items to recommend.\n",
    "\n",
    "        Returns:\n",
    "            numpy.ndarray: A sparse matrix containing the top_k elements ordered by their score.\n",
    "\n",
    "        \"\"\"\n",
    "        # obtain scores\n",
    "        score = self.model.predict(x)\n",
    "\n",
    "        if remove_seen:\n",
    "            # if true, it removes items from the train set by setting them to zero\n",
    "            seen_mask = np.not_equal(x, 0)\n",
    "            score[seen_mask] = 0\n",
    "\n",
    "        # get the top k items\n",
    "        top_items = np.argpartition(-score, range(k), axis=1)[:, :k]\n",
    "\n",
    "        # get a copy of the score matrix\n",
    "        score_c = score.copy()\n",
    "\n",
    "        # set to zero the k elements\n",
    "        score_c[np.arange(score_c.shape[0])[:, None], top_items] = 0\n",
    "\n",
    "        # set to zeros all elements other then the k\n",
    "        top_scores = score - score_c\n",
    "\n",
    "        return top_scores\n",
    "\n",
    "\n",
    "    def on_epoch_end(self, batch, logs={}):\n",
    "        \"\"\"At the end of each epoch calculate NDCG@k of the validation set.\n",
    "        If the model performance is improved, the model weights are saved.\n",
    "        Update the list of validation NDCG@k by adding obtained value.\n",
    "        \"\"\"\n",
    "        # recommend top k items based on training part of validation set\n",
    "        top_k = self.recommend_k_items(x=self.val_tr, k=self.k, remove_seen=True)\n",
    "\n",
    "        # convert recommendations from sparse matrix to dataframe\n",
    "        top_k_df = self.mapper.map_back_sparse(top_k, kind=\"prediction\")\n",
    "        test_df = self.mapper.map_back_sparse(self.val_te, kind=\"ratings\")\n",
    "\n",
    "        # calculate NDCG@k\n",
    "        NDCG = ndcg_at_k(test_df, top_k_df, col_prediction=\"prediction\", k=self.k)\n",
    "\n",
    "        # check if there is an improvement in NDCG, if so, update the weights of the saved model\n",
    "        if NDCG > self.best_ndcg:\n",
    "            self.best_ndcg = NDCG\n",
    "\n",
    "            # save the weights of the optimal model\n",
    "            if self.save_path is not None:\n",
    "                self.model.save(self.save_path)\n",
    "\n",
    "        self._data.append(NDCG)\n",
    "\n",
    "\n",
    "    def get_data(self):\n",
    "        \"\"\"Returns a list of the NDCG@k of the validation set metrics calculated\n",
    "        at the end of each epoch.\"\"\"\n",
    "        return self._data\n",
    "\n",
    "\n",
    "\n",
    "class AnnealingCallback(Callback):\n",
    "    \"\"\"This class is used for updating the value of β during the annealing process.\n",
    "    When β reaches the value of anneal_cap, it stops increasing.\n",
    "    \"\"\"\n",
    "\n",
    "    def __init__(self, beta, anneal_cap, total_anneal_steps):\n",
    "\n",
    "        \"\"\"Constructor\n",
    "\n",
    "        Args:\n",
    "            beta (float): current value of beta.\n",
    "            anneal_cap (float): maximum value that beta can reach.\n",
    "            total_anneal_steps (int): total number of annealing steps.\n",
    "        \"\"\"\n",
    "        # maximum value that beta can take\n",
    "        self.anneal_cap = anneal_cap\n",
    "\n",
    "        # initial value of beta\n",
    "        self.beta = beta\n",
    "\n",
    "        # update_count used for calculating the updated value of beta\n",
    "        self.update_count = 0\n",
    "\n",
    "        # total annealing steps\n",
    "        self.total_anneal_steps = total_anneal_steps\n",
    "\n",
    "\n",
    "    def on_train_begin(self, logs={}):\n",
    "        \"\"\"Initialise a list in which the beta value will be saved at the end of each epoch.\"\"\"\n",
    "        self._beta = []\n",
    "\n",
    "\n",
    "    def on_batch_end(self, epoch, logs={}):\n",
    "        \"\"\"At the end of each batch the beta should is updated until it reaches the values of anneal cap.\"\"\"\n",
    "        self.update_count = self.update_count + 1\n",
    "\n",
    "        new_beta = min(\n",
    "            1.0 * self.update_count / self.total_anneal_steps, self.anneal_cap\n",
    "        )\n",
    "\n",
    "        K.set_value(self.beta, new_beta)\n",
    "\n",
    "\n",
    "    def on_epoch_end(self, epoch, logs={}):\n",
    "        \"\"\"At the end of each epoch save the value of beta in _beta list.\"\"\"\n",
    "        tmp = K.eval(self.beta)\n",
    "        self._beta.append(tmp)\n",
    "\n",
    "\n",
    "    def get_data(self):\n",
    "        \"\"\"Returns a list of the beta values per epoch.\"\"\"\n",
    "        return self._beta\n",
    "\n",
    "\n",
    "\n",
    "class StandardVAE:\n",
    "    \"\"\"Standard Variational Autoencoders (VAE) for Collaborative Filtering implementation.\"\"\"\n",
    "\n",
    "    def __init__(\n",
    "        self,\n",
    "        n_users,\n",
    "        original_dim,\n",
    "        intermediate_dim=200,\n",
    "        latent_dim=70,\n",
    "        n_epochs=400,\n",
    "        batch_size=100,\n",
    "        k=100,\n",
    "        verbose=1,\n",
    "        drop_encoder=0.5,\n",
    "        drop_decoder=0.5,\n",
    "        beta=1.0,\n",
    "        annealing=False,\n",
    "        anneal_cap=1.0,\n",
    "        seed=None,\n",
    "        save_path=None,\n",
    "    ):\n",
    "\n",
    "        \"\"\"Initialize class parameters.\n",
    "\n",
    "        Args:\n",
    "            n_users (int): Number of unique users in the train set.\n",
    "            original_dim (int): Number of unique items in the train set.\n",
    "            intermediate_dim (int): Dimension of intermediate space.\n",
    "            latent_dim (int): Dimension of latent space.\n",
    "            n_epochs (int): Number of epochs for training.\n",
    "            batch_size (int): Batch size.\n",
    "            k (int): number of top k items per user.\n",
    "            verbose (int): Whether to show the training output or not.\n",
    "            drop_encoder (float): Dropout percentage of the encoder.\n",
    "            drop_decoder (float): Dropout percentage of the decoder.\n",
    "            beta (float): a constant parameter β in the ELBO function,\n",
    "                  when you are not using annealing (annealing=False)\n",
    "            annealing (bool): option of using annealing method for training the model (True)\n",
    "                  or not using annealing, keeping a constant beta (False)\n",
    "            anneal_cap (float): maximum value that beta can take during annealing process.\n",
    "            seed (int): Seed.\n",
    "            save_path (str): Default path to save weights.\n",
    "        \"\"\"\n",
    "        # Seed\n",
    "        self.seed = seed\n",
    "        np.random.seed(self.seed)\n",
    "\n",
    "        # Parameters\n",
    "        self.n_users = n_users\n",
    "        self.original_dim = original_dim\n",
    "        self.intermediate_dim = intermediate_dim\n",
    "        self.latent_dim = latent_dim\n",
    "        self.n_epochs = n_epochs\n",
    "        self.batch_size = batch_size\n",
    "        self.k = k\n",
    "        self.verbose = verbose\n",
    "\n",
    "        # Compute samples per epoch\n",
    "        self.number_of_batches = self.n_users // self.batch_size\n",
    "\n",
    "        # Annealing parameters\n",
    "        self.anneal_cap = anneal_cap\n",
    "        self.annealing = annealing\n",
    "\n",
    "        if self.annealing:\n",
    "            self.beta = K.variable(0.0)\n",
    "        else:\n",
    "            self.beta = beta\n",
    "\n",
    "        # Compute total annealing steps\n",
    "        self.total_anneal_steps = (\n",
    "            self.number_of_batches * (self.n_epochs - int(self.n_epochs * 0.2))\n",
    "        ) // self.anneal_cap\n",
    "\n",
    "        # Dropout parameters\n",
    "        self.drop_encoder = drop_encoder\n",
    "        self.drop_decoder = drop_decoder\n",
    "\n",
    "        # Path to save optimal model\n",
    "        self.save_path = save_path\n",
    "\n",
    "        # Create StandardVAE model\n",
    "        self._create_model()\n",
    "\n",
    "\n",
    "    def _create_model(self):\n",
    "        \"\"\"Build and compile model.\"\"\"\n",
    "        # Encoding\n",
    "        self.x = Input(shape=(self.original_dim,))\n",
    "        self.dropout_encoder = Dropout(self.drop_encoder)(self.x)\n",
    "        self.h = Dense(self.intermediate_dim, activation=\"tanh\")(self.dropout_encoder)\n",
    "        self.z_mean = Dense(self.latent_dim)(self.h)\n",
    "        self.z_log_var = Dense(self.latent_dim)(self.h)\n",
    "\n",
    "        # Sampling\n",
    "        self.z = Lambda(self._take_sample, output_shape=(self.latent_dim,))(\n",
    "            [self.z_mean, self.z_log_var]\n",
    "        )\n",
    "\n",
    "        # Decoding\n",
    "        self.h_decoder = Dense(self.intermediate_dim, activation=\"tanh\")\n",
    "        self.dropout_decoder = Dropout(self.drop_decoder)\n",
    "        self.x_bar = Dense(self.original_dim, activation=\"softmax\")\n",
    "        self.h_decoded = self.h_decoder(self.z)\n",
    "        self.h_decoded_ = self.dropout_decoder(self.h_decoded)\n",
    "        self.x_decoded = self.x_bar(self.h_decoded_)\n",
    "\n",
    "        # Training\n",
    "        self.model = Model(self.x, self.x_decoded)\n",
    "        self.model.compile(\n",
    "            optimizer=tf.keras.optimizers.Adam(learning_rate=0.001),\n",
    "            loss=self._get_vae_loss,\n",
    "            experimental_run_tf_function=False\n",
    "        )\n",
    "\n",
    "    def _get_vae_loss(self, x, x_bar):\n",
    "        \"\"\"Calculate negative ELBO (NELBO).\"\"\"\n",
    "        # Reconstruction error: logistic log likelihood\n",
    "        reconst_loss = self.original_dim * binary_crossentropy(x, x_bar)\n",
    "\n",
    "        # Kullback–Leibler divergence\n",
    "        kl_loss = 0.5 * K.sum(\n",
    "            -1 - self.z_log_var + K.square(self.z_mean) + K.exp(self.z_log_var), axis=-1\n",
    "        )\n",
    "\n",
    "        return reconst_loss + self.beta * kl_loss\n",
    "\n",
    "    def _take_sample(self, args):\n",
    "        \"\"\"Sample epsilon ∼ N (0,I) and compute z via reparametrization trick.\"\"\"\n",
    "        \"\"\"Calculate latent vector using the reparametrization trick.\n",
    "           The idea is that sampling from N (_mean, _var) is s the same as sampling from _mean+ epsilon * _var\n",
    "           where epsilon ∼ N(0,I).\"\"\"\n",
    "        # sampling from latent dimension for decoder/generative part of network\n",
    "        _mean, _log_var = args\n",
    "        epsilon = K.random_normal(\n",
    "            shape=(K.shape(_mean)[0], self.latent_dim),\n",
    "            mean=0.0,\n",
    "            stddev=1.0,\n",
    "            seed=self.seed,\n",
    "        )\n",
    "\n",
    "        return _mean + K.exp(_log_var / 2) * epsilon\n",
    "\n",
    "    def nn_batch_generator(self, x_train):\n",
    "        \"\"\"Used for splitting dataset in batches.\n",
    "\n",
    "        Args:\n",
    "            x_train (numpy.ndarray): The click matrix for the train set with float values.\n",
    "        \"\"\"\n",
    "        # Shuffle the batch\n",
    "        np.random.seed(self.seed)\n",
    "        shuffle_index = np.arange(np.shape(x_train)[0])\n",
    "        np.random.shuffle(shuffle_index)\n",
    "        x = x_train[shuffle_index, :]\n",
    "        y = x_train[shuffle_index, :]\n",
    "\n",
    "        # Iterate until making a full epoch\n",
    "        counter = 0\n",
    "        while 1:\n",
    "            index_batch = shuffle_index[\n",
    "                self.batch_size * counter : self.batch_size * (counter + 1)\n",
    "            ]\n",
    "            # Decompress batch\n",
    "            x_batch = x[index_batch, :]\n",
    "            y_batch = y[index_batch, :]\n",
    "            counter += 1\n",
    "            yield (np.array(x_batch), np.array(y_batch))\n",
    "\n",
    "            # Stopping rule\n",
    "            if counter >= self.number_of_batches:\n",
    "                counter = 0\n",
    "\n",
    "\n",
    "    def fit(self, x_train, x_valid, x_val_tr, x_val_te, mapper):\n",
    "        \"\"\"Fit model with the train sets and validate on the validation set.\n",
    "\n",
    "        Args:\n",
    "            x_train (numpy.ndarray): The click matrix for the train set.\n",
    "            x_valid (numpy.ndarray): The click matrix for the validation set.\n",
    "            x_val_tr (numpy.ndarray): The click matrix for the validation set training part.\n",
    "            x_val_te (numpy.ndarray): The click matrix for the validation set testing part.\n",
    "            mapper (object): The mapper for converting click matrix to dataframe. It can be AffinityMatrix.\n",
    "        \"\"\"\n",
    "        # initialise LossHistory used for saving loss of validation and train set per epoch\n",
    "        history = LossHistory()\n",
    "\n",
    "        # initialise Metrics  used for calculating NDCG@k per epoch\n",
    "        # and saving the model weights with the highest NDCG@k value\n",
    "        metrics = Metrics(\n",
    "            model=self.model,\n",
    "            val_tr=x_val_tr,\n",
    "            val_te=x_val_te,\n",
    "            mapper=mapper,\n",
    "            k=self.k,\n",
    "            save_path=self.save_path,\n",
    "        )\n",
    "\n",
    "        self.reduce_lr = ReduceLROnPlateau(\n",
    "            monitor=\"val_loss\", factor=0.2, patience=1, min_lr=0.0001\n",
    "        )\n",
    "\n",
    "        if self.annealing:\n",
    "            # initialise AnnealingCallback for annealing process\n",
    "            anneal = AnnealingCallback(\n",
    "                self.beta, self.anneal_cap, self.total_anneal_steps\n",
    "            )\n",
    "\n",
    "            # fit model\n",
    "            self.model.fit(\n",
    "                self.nn_batch_generator(x_train),\n",
    "                steps_per_epoch=self.number_of_batches,\n",
    "                epochs=self.n_epochs,\n",
    "                verbose=self.verbose,\n",
    "                callbacks=[metrics, history, self.reduce_lr, anneal],\n",
    "                validation_data=(x_valid, x_valid),\n",
    "            )\n",
    "\n",
    "            self.ls_beta = anneal.get_data()\n",
    "\n",
    "        else:\n",
    "            self.model.fit(\n",
    "                self.nn_batch_generator(x_train),\n",
    "                steps_per_epoch=self.number_of_batches,\n",
    "                epochs=self.n_epochs,\n",
    "                verbose=self.verbose,\n",
    "                callbacks=[metrics, history, self.reduce_lr],\n",
    "                validation_data=(x_valid, x_valid),\n",
    "            )\n",
    "\n",
    "        # save lists\n",
    "        self.train_loss = history.losses\n",
    "        self.val_loss = history.val_losses\n",
    "        self.val_ndcg = metrics.get_data()\n",
    "\n",
    "\n",
    "    def get_optimal_beta(self):\n",
    "        \"\"\"Returns the value of the optimal beta.\"\"\"\n",
    "        # find the epoch/index that had the highest NDCG@k value\n",
    "        index_max_ndcg = np.argmax(self.val_ndcg)\n",
    "\n",
    "        # using this index find the value that beta had at this epoch\n",
    "        optimal_beta = self.ls_beta[index_max_ndcg]\n",
    "\n",
    "        return optimal_beta\n",
    "\n",
    "\n",
    "    def display_metrics(self):\n",
    "        \"\"\"Plots:\n",
    "        1) Loss per epoch both for validation and train sets\n",
    "        2) NDCG@k per epoch of the validation set\n",
    "        \"\"\"\n",
    "        # Plot setup\n",
    "        plt.figure(figsize=(14, 5))\n",
    "        sns.set(style=\"whitegrid\")\n",
    "\n",
    "        # Plot loss on the left graph\n",
    "        plt.subplot(1, 2, 1)\n",
    "        plt.plot(self.train_loss, color=\"b\", linestyle=\"-\", label=\"Train\")\n",
    "        plt.plot(self.val_loss, color=\"r\", linestyle=\"-\", label=\"Val\")\n",
    "        plt.title(\"\\n\")\n",
    "        plt.xlabel(\"Epochs\", size=14)\n",
    "        plt.ylabel(\"Loss\", size=14)\n",
    "        plt.legend(loc=\"upper left\")\n",
    "\n",
    "        # Plot NDCG on the right graph\n",
    "        plt.subplot(1, 2, 2)\n",
    "        plt.plot(self.val_ndcg, color=\"r\", linestyle=\"-\", label=\"Val\")\n",
    "        plt.title(\"\\n\")\n",
    "        plt.xlabel(\"Epochs\", size=14)\n",
    "        plt.ylabel(\"NDCG@k\", size=14)\n",
    "        plt.legend(loc=\"upper left\")\n",
    "\n",
    "        # Add title\n",
    "        plt.suptitle(\"TRAINING AND VALIDATION METRICS HISTORY\", size=16)\n",
    "        plt.tight_layout(pad=2)\n",
    "\n",
    "\n",
    "    def recommend_k_items(self, x, k, remove_seen=True):\n",
    "        \"\"\"Returns the top-k items ordered by a relevancy score.\n",
    "\n",
    "        Obtained probabilities are used as recommendation score.\n",
    "\n",
    "        Args:\n",
    "            x (numpy.ndarray): Input click matrix, with `int32` values.\n",
    "            k (scalar): The number of items to recommend.\n",
    "\n",
    "        Returns:\n",
    "            numpy.ndarray: A sparse matrix containing the top_k elements ordered by their score.\n",
    "\n",
    "        \"\"\"\n",
    "        # return optimal model\n",
    "        self.model.load_weights(self.save_path)\n",
    "\n",
    "        # obtain scores\n",
    "        score = self.model.predict(x)\n",
    "        if remove_seen:\n",
    "            # if true, it removes items from the train set by setting them to zero\n",
    "            seen_mask = np.not_equal(x, 0)\n",
    "            score[seen_mask] = 0\n",
    "        # get the top k items\n",
    "        top_items = np.argpartition(-score, range(k), axis=1)[:, :k]\n",
    "        # get a copy of the score matrix\n",
    "        score_c = score.copy()\n",
    "        # set to zero the k elements\n",
    "        score_c[np.arange(score_c.shape[0])[:, None], top_items] = 0\n",
    "        # set to zeros all elements other then the k\n",
    "        top_scores = score - score_c\n",
    "        return top_scores\n",
    "\n",
    "\n",
    "    def ndcg_per_epoch(self):\n",
    "        \"\"\"Returns the list of NDCG@k at each epoch.\"\"\"\n",
    "\n",
    "        return self.val_ndcg"
   ]
  },
  {
   "attachments": {},
   "cell_type": "markdown",
   "metadata": {},
   "source": [
    "# Baseline Model Standard VAE"
   ]
  },
  {
   "cell_type": "code",
   "execution_count": 30,
   "metadata": {},
   "outputs": [],
   "source": [
    "from tensorflow.python.framework.ops import disable_eager_execution\n",
    "\n",
    "disable_eager_execution()"
   ]
  },
  {
   "cell_type": "code",
   "execution_count": 31,
   "metadata": {},
   "outputs": [],
   "source": [
    "from tempfile import TemporaryDirectory\n",
    "\n",
    "tmp_dir = TemporaryDirectory()\n",
    "WEIGHTS_PATH = os.path.join(tmp_dir.name, \"svae_weights.hdf5\")"
   ]
  },
  {
   "cell_type": "code",
   "execution_count": 198,
   "metadata": {},
   "outputs": [],
   "source": [
    "model_without_anneal = StandardVAE(n_users=train_data.shape[0], # Number of unique users in the training set\n",
    "                                   original_dim=train_data.shape[1], # Number of unique items in the training set\n",
    "                                   intermediate_dim=200, \n",
    "                                   latent_dim=70, \n",
    "                                   n_epochs=50, \n",
    "                                   batch_size=100, \n",
    "                                   k=100,\n",
    "                                   verbose=0,\n",
    "                                   seed=1,\n",
    "                                   drop_encoder=0.5,\n",
    "                                   drop_decoder=0.5,\n",
    "                                   annealing=False,\n",
    "                                   beta=1.0,\n",
    "                                   save_path=WEIGHTS_PATH\n",
    "                                   )"
   ]
  },
  {
   "cell_type": "code",
   "execution_count": 199,
   "metadata": {},
   "outputs": [
    {
     "name": "stderr",
     "output_type": "stream",
     "text": [
      "/Users/arasdirekoglu/opt/anaconda3/envs/recom/lib/python3.9/site-packages/tensorflow/python/keras/engine/training.py:2325: UserWarning: `Model.state_updates` will be removed in a future version. This property should not be used in TensorFlow 2.0, as `updates` are applied automatically.\n",
      "  warnings.warn('`Model.state_updates` will be removed in a future version. '\n"
     ]
    },
    {
     "name": "stdout",
     "output_type": "stream",
     "text": [
      "Took 50.1116 seconds for training.\n"
     ]
    }
   ],
   "source": [
    "with Timer() as t:\n",
    "    model_without_anneal.fit(x_train=train_data, \n",
    "                        x_valid=val_data,\n",
    "                        x_val_tr=val_data_tr, \n",
    "                        x_val_te=val_data_te_ratings, # with the original ratings \n",
    "                        mapper=am_val)\n",
    "print(\"Took {} seconds for training.\".format(t))"
   ]
  },
  {
   "cell_type": "code",
   "execution_count": 200,
   "metadata": {},
   "outputs": [
    {
     "data": {
      "image/png": "[encoded data removed]",
      "text/plain": [
       "<Figure size 1400x500 with 2 Axes>"
      ]
     },
     "metadata": {},
     "output_type": "display_data"
    }
   ],
   "source": [
    "model_without_anneal.display_metrics() "
   ]
  },
  {
   "cell_type": "code",
   "execution_count": 201,
   "metadata": {},
   "outputs": [
    {
     "name": "stdout",
     "output_type": "stream",
     "text": [
      "Took 0.3051 seconds for prediction.\n",
      "MAP@10:\t\t0.016158\n",
      "NDCG@10:\t0.068352\n",
      "Precision@10:\t0.057200\n",
      "Recall@10: \t0.039989\n"
     ]
    }
   ],
   "source": [
    "# Use k = 10\n",
    "with Timer() as t:\n",
    "    # Model prediction on the training part of test set \n",
    "    top_k =  model_without_anneal.recommend_k_items(x=test_data_tr,\n",
    "                                                    k=10,\n",
    "                                                    remove_seen=True\n",
    "                                                    )\n",
    "\n",
    "    # Convert sparse matrix back to df\n",
    "    top_k_df = am_test.map_back_sparse(top_k, kind='prediction')\n",
    "    test_df = am_test.map_back_sparse(test_data_te_ratings, kind='ratings') # use test_data_te_, with the original ratings\n",
    "    \n",
    "print(\"Took {} seconds for prediction.\".format(t))\n",
    "\n",
    "# Use the ranking metrics for evaluation\n",
    "eval_map_1 = map_at_k(test_df, top_k_df, col_prediction='prediction', k=10)\n",
    "eval_ndcg_1 = ndcg_at_k(test_df, top_k_df, col_prediction='prediction', k=10)\n",
    "eval_precision_1 = precision_at_k(test_df, top_k_df, col_prediction='prediction', k=10)\n",
    "eval_recall_1 = recall_at_k(test_df, top_k_df, col_prediction='prediction', k=10)\n",
    "\n",
    "print(\"MAP@10:\\t\\t%f\" % eval_map_1,\n",
    "      \"NDCG@10:\\t%f\" % eval_ndcg_1,\n",
    "      \"Precision@10:\\t%f\" % eval_precision_1,\n",
    "      \"Recall@10: \\t%f\" % eval_recall_1, sep='\\n')"
   ]
  },
  {
   "attachments": {},
   "cell_type": "markdown",
   "metadata": {},
   "source": [
    "# Hyperparameter Tuning"
   ]
  },
  {
   "cell_type": "code",
   "execution_count": 207,
   "metadata": {},
   "outputs": [
    {
     "name": "stdout",
     "output_type": "stream",
     "text": [
      "WARNING:tensorflow:Callback method `on_train_batch_end` is slow compared to the batch time (batch time: 0.0224s vs `on_train_batch_end` time: 0.0297s). Check your callbacks.\n"
     ]
    },
    {
     "name": "stderr",
     "output_type": "stream",
     "text": [
      "/Users/arasdirekoglu/opt/anaconda3/envs/recom/lib/python3.9/site-packages/tensorflow/python/keras/engine/training.py:2325: UserWarning: `Model.state_updates` will be removed in a future version. This property should not be used in TensorFlow 2.0, as `updates` are applied automatically.\n",
      "  warnings.warn('`Model.state_updates` will be removed in a future version. '\n"
     ]
    },
    {
     "name": "stdout",
     "output_type": "stream",
     "text": [
      "Recall@10 for Intermediate Dim:  200 Latent Dim:  50 Batch size:  50 Annealing:  True :\t 0.042504311797020036\n",
      "Recall@20 for Intermediate Dim:  200 Latent Dim:  50 Batch size:  50 Annealing:  True :\t 0.06786685912506162\n"
     ]
    },
    {
     "name": "stderr",
     "output_type": "stream",
     "text": [
      "/Users/arasdirekoglu/opt/anaconda3/envs/recom/lib/python3.9/site-packages/tensorflow/python/keras/engine/training.py:2325: UserWarning: `Model.state_updates` will be removed in a future version. This property should not be used in TensorFlow 2.0, as `updates` are applied automatically.\n",
      "  warnings.warn('`Model.state_updates` will be removed in a future version. '\n"
     ]
    },
    {
     "name": "stdout",
     "output_type": "stream",
     "text": [
      "Recall@10 for Intermediate Dim:  200 Latent Dim:  50 Batch size:  50 Annealing:  False :\t 0.04451513879294252\n",
      "Recall@20 for Intermediate Dim:  200 Latent Dim:  50 Batch size:  50 Annealing:  False :\t 0.07319524617581925\n",
      "WARNING:tensorflow:Callback method `on_train_batch_end` is slow compared to the batch time (batch time: 0.0154s vs `on_train_batch_end` time: 0.0291s). Check your callbacks.\n"
     ]
    },
    {
     "name": "stderr",
     "output_type": "stream",
     "text": [
      "/Users/arasdirekoglu/opt/anaconda3/envs/recom/lib/python3.9/site-packages/tensorflow/python/keras/engine/training.py:2325: UserWarning: `Model.state_updates` will be removed in a future version. This property should not be used in TensorFlow 2.0, as `updates` are applied automatically.\n",
      "  warnings.warn('`Model.state_updates` will be removed in a future version. '\n"
     ]
    },
    {
     "name": "stdout",
     "output_type": "stream",
     "text": [
      "Recall@10 for Intermediate Dim:  200 Latent Dim:  50 Batch size:  100 Annealing:  True :\t 0.04172164874607441\n",
      "Recall@20 for Intermediate Dim:  200 Latent Dim:  50 Batch size:  100 Annealing:  True :\t 0.06807412306265255\n"
     ]
    },
    {
     "name": "stderr",
     "output_type": "stream",
     "text": [
      "/Users/arasdirekoglu/opt/anaconda3/envs/recom/lib/python3.9/site-packages/tensorflow/python/keras/engine/training.py:2325: UserWarning: `Model.state_updates` will be removed in a future version. This property should not be used in TensorFlow 2.0, as `updates` are applied automatically.\n",
      "  warnings.warn('`Model.state_updates` will be removed in a future version. '\n"
     ]
    },
    {
     "name": "stdout",
     "output_type": "stream",
     "text": [
      "Recall@10 for Intermediate Dim:  200 Latent Dim:  50 Batch size:  100 Annealing:  False :\t 0.04057590077855436\n",
      "Recall@20 for Intermediate Dim:  200 Latent Dim:  50 Batch size:  100 Annealing:  False :\t 0.068090786583237\n",
      "WARNING:tensorflow:Callback method `on_train_batch_end` is slow compared to the batch time (batch time: 0.0236s vs `on_train_batch_end` time: 0.0350s). Check your callbacks.\n"
     ]
    },
    {
     "name": "stderr",
     "output_type": "stream",
     "text": [
      "/Users/arasdirekoglu/opt/anaconda3/envs/recom/lib/python3.9/site-packages/tensorflow/python/keras/engine/training.py:2325: UserWarning: `Model.state_updates` will be removed in a future version. This property should not be used in TensorFlow 2.0, as `updates` are applied automatically.\n",
      "  warnings.warn('`Model.state_updates` will be removed in a future version. '\n"
     ]
    },
    {
     "name": "stdout",
     "output_type": "stream",
     "text": [
      "Recall@10 for Intermediate Dim:  200 Latent Dim:  50 Batch size:  200 Annealing:  True :\t 0.03904528299470933\n",
      "Recall@20 for Intermediate Dim:  200 Latent Dim:  50 Batch size:  200 Annealing:  True :\t 0.06327202935575672\n"
     ]
    },
    {
     "name": "stderr",
     "output_type": "stream",
     "text": [
      "/Users/arasdirekoglu/opt/anaconda3/envs/recom/lib/python3.9/site-packages/tensorflow/python/keras/engine/training.py:2325: UserWarning: `Model.state_updates` will be removed in a future version. This property should not be used in TensorFlow 2.0, as `updates` are applied automatically.\n",
      "  warnings.warn('`Model.state_updates` will be removed in a future version. '\n"
     ]
    },
    {
     "name": "stdout",
     "output_type": "stream",
     "text": [
      "Recall@10 for Intermediate Dim:  200 Latent Dim:  50 Batch size:  200 Annealing:  False :\t 0.04035732506947058\n",
      "Recall@20 for Intermediate Dim:  200 Latent Dim:  50 Batch size:  200 Annealing:  False :\t 0.06502097052558882\n",
      "WARNING:tensorflow:Callback method `on_train_batch_end` is slow compared to the batch time (batch time: 0.0087s vs `on_train_batch_end` time: 0.0416s). Check your callbacks.\n"
     ]
    },
    {
     "name": "stderr",
     "output_type": "stream",
     "text": [
      "/Users/arasdirekoglu/opt/anaconda3/envs/recom/lib/python3.9/site-packages/tensorflow/python/keras/engine/training.py:2325: UserWarning: `Model.state_updates` will be removed in a future version. This property should not be used in TensorFlow 2.0, as `updates` are applied automatically.\n",
      "  warnings.warn('`Model.state_updates` will be removed in a future version. '\n"
     ]
    },
    {
     "name": "stdout",
     "output_type": "stream",
     "text": [
      "Recall@10 for Intermediate Dim:  200 Latent Dim:  70 Batch size:  50 Annealing:  True :\t 0.045906390926720914\n",
      "Recall@20 for Intermediate Dim:  200 Latent Dim:  70 Batch size:  50 Annealing:  True :\t 0.07502542370838199\n"
     ]
    },
    {
     "name": "stderr",
     "output_type": "stream",
     "text": [
      "/Users/arasdirekoglu/opt/anaconda3/envs/recom/lib/python3.9/site-packages/tensorflow/python/keras/engine/training.py:2325: UserWarning: `Model.state_updates` will be removed in a future version. This property should not be used in TensorFlow 2.0, as `updates` are applied automatically.\n",
      "  warnings.warn('`Model.state_updates` will be removed in a future version. '\n"
     ]
    },
    {
     "name": "stdout",
     "output_type": "stream",
     "text": [
      "Recall@10 for Intermediate Dim:  200 Latent Dim:  70 Batch size:  50 Annealing:  False :\t 0.04042145614957865\n",
      "Recall@20 for Intermediate Dim:  200 Latent Dim:  70 Batch size:  50 Annealing:  False :\t 0.06924738164654444\n",
      "WARNING:tensorflow:Callback method `on_train_batch_end` is slow compared to the batch time (batch time: 0.0155s vs `on_train_batch_end` time: 0.0517s). Check your callbacks.\n"
     ]
    },
    {
     "name": "stderr",
     "output_type": "stream",
     "text": [
      "/Users/arasdirekoglu/opt/anaconda3/envs/recom/lib/python3.9/site-packages/tensorflow/python/keras/engine/training.py:2325: UserWarning: `Model.state_updates` will be removed in a future version. This property should not be used in TensorFlow 2.0, as `updates` are applied automatically.\n",
      "  warnings.warn('`Model.state_updates` will be removed in a future version. '\n"
     ]
    },
    {
     "name": "stdout",
     "output_type": "stream",
     "text": [
      "Recall@10 for Intermediate Dim:  200 Latent Dim:  70 Batch size:  100 Annealing:  True :\t 0.04110497030021792\n",
      "Recall@20 for Intermediate Dim:  200 Latent Dim:  70 Batch size:  100 Annealing:  True :\t 0.06690214794246313\n"
     ]
    },
    {
     "name": "stderr",
     "output_type": "stream",
     "text": [
      "/Users/arasdirekoglu/opt/anaconda3/envs/recom/lib/python3.9/site-packages/tensorflow/python/keras/engine/training.py:2325: UserWarning: `Model.state_updates` will be removed in a future version. This property should not be used in TensorFlow 2.0, as `updates` are applied automatically.\n",
      "  warnings.warn('`Model.state_updates` will be removed in a future version. '\n"
     ]
    },
    {
     "name": "stdout",
     "output_type": "stream",
     "text": [
      "Recall@10 for Intermediate Dim:  200 Latent Dim:  70 Batch size:  100 Annealing:  False :\t 0.042969948871872665\n",
      "Recall@20 for Intermediate Dim:  200 Latent Dim:  70 Batch size:  100 Annealing:  False :\t 0.06649513792768662\n",
      "WARNING:tensorflow:Callback method `on_train_batch_end` is slow compared to the batch time (batch time: 0.0286s vs `on_train_batch_end` time: 0.0533s). Check your callbacks.\n"
     ]
    },
    {
     "name": "stderr",
     "output_type": "stream",
     "text": [
      "/Users/arasdirekoglu/opt/anaconda3/envs/recom/lib/python3.9/site-packages/tensorflow/python/keras/engine/training.py:2325: UserWarning: `Model.state_updates` will be removed in a future version. This property should not be used in TensorFlow 2.0, as `updates` are applied automatically.\n",
      "  warnings.warn('`Model.state_updates` will be removed in a future version. '\n"
     ]
    },
    {
     "name": "stdout",
     "output_type": "stream",
     "text": [
      "Recall@10 for Intermediate Dim:  200 Latent Dim:  70 Batch size:  200 Annealing:  True :\t 0.04004357593282813\n",
      "Recall@20 for Intermediate Dim:  200 Latent Dim:  70 Batch size:  200 Annealing:  True :\t 0.06645236859582339\n"
     ]
    },
    {
     "name": "stderr",
     "output_type": "stream",
     "text": [
      "/Users/arasdirekoglu/opt/anaconda3/envs/recom/lib/python3.9/site-packages/tensorflow/python/keras/engine/training.py:2325: UserWarning: `Model.state_updates` will be removed in a future version. This property should not be used in TensorFlow 2.0, as `updates` are applied automatically.\n",
      "  warnings.warn('`Model.state_updates` will be removed in a future version. '\n"
     ]
    },
    {
     "name": "stdout",
     "output_type": "stream",
     "text": [
      "Recall@10 for Intermediate Dim:  200 Latent Dim:  70 Batch size:  200 Annealing:  False :\t 0.04110190344166743\n",
      "Recall@20 for Intermediate Dim:  200 Latent Dim:  70 Batch size:  200 Annealing:  False :\t 0.06536833389913795\n",
      "WARNING:tensorflow:Callback method `on_train_batch_end` is slow compared to the batch time (batch time: 0.0089s vs `on_train_batch_end` time: 0.0591s). Check your callbacks.\n"
     ]
    },
    {
     "name": "stderr",
     "output_type": "stream",
     "text": [
      "/Users/arasdirekoglu/opt/anaconda3/envs/recom/lib/python3.9/site-packages/tensorflow/python/keras/engine/training.py:2325: UserWarning: `Model.state_updates` will be removed in a future version. This property should not be used in TensorFlow 2.0, as `updates` are applied automatically.\n",
      "  warnings.warn('`Model.state_updates` will be removed in a future version. '\n"
     ]
    },
    {
     "name": "stdout",
     "output_type": "stream",
     "text": [
      "Recall@10 for Intermediate Dim:  200 Latent Dim:  90 Batch size:  50 Annealing:  True :\t 0.044634635623373324\n",
      "Recall@20 for Intermediate Dim:  200 Latent Dim:  90 Batch size:  50 Annealing:  True :\t 0.07102447057459123\n"
     ]
    },
    {
     "name": "stderr",
     "output_type": "stream",
     "text": [
      "/Users/arasdirekoglu/opt/anaconda3/envs/recom/lib/python3.9/site-packages/tensorflow/python/keras/engine/training.py:2325: UserWarning: `Model.state_updates` will be removed in a future version. This property should not be used in TensorFlow 2.0, as `updates` are applied automatically.\n",
      "  warnings.warn('`Model.state_updates` will be removed in a future version. '\n"
     ]
    },
    {
     "name": "stdout",
     "output_type": "stream",
     "text": [
      "Recall@10 for Intermediate Dim:  200 Latent Dim:  90 Batch size:  50 Annealing:  False :\t 0.041778732238822024\n",
      "Recall@20 for Intermediate Dim:  200 Latent Dim:  90 Batch size:  50 Annealing:  False :\t 0.06707770950680116\n",
      "WARNING:tensorflow:Callback method `on_train_batch_end` is slow compared to the batch time (batch time: 0.0157s vs `on_train_batch_end` time: 0.0648s). Check your callbacks.\n"
     ]
    },
    {
     "name": "stderr",
     "output_type": "stream",
     "text": [
      "/Users/arasdirekoglu/opt/anaconda3/envs/recom/lib/python3.9/site-packages/tensorflow/python/keras/engine/training.py:2325: UserWarning: `Model.state_updates` will be removed in a future version. This property should not be used in TensorFlow 2.0, as `updates` are applied automatically.\n",
      "  warnings.warn('`Model.state_updates` will be removed in a future version. '\n"
     ]
    },
    {
     "name": "stdout",
     "output_type": "stream",
     "text": [
      "Recall@10 for Intermediate Dim:  200 Latent Dim:  90 Batch size:  100 Annealing:  True :\t 0.04096130181094847\n",
      "Recall@20 for Intermediate Dim:  200 Latent Dim:  90 Batch size:  100 Annealing:  True :\t 0.06708844958763369\n"
     ]
    },
    {
     "name": "stderr",
     "output_type": "stream",
     "text": [
      "/Users/arasdirekoglu/opt/anaconda3/envs/recom/lib/python3.9/site-packages/tensorflow/python/keras/engine/training.py:2325: UserWarning: `Model.state_updates` will be removed in a future version. This property should not be used in TensorFlow 2.0, as `updates` are applied automatically.\n",
      "  warnings.warn('`Model.state_updates` will be removed in a future version. '\n"
     ]
    },
    {
     "name": "stdout",
     "output_type": "stream",
     "text": [
      "Recall@10 for Intermediate Dim:  200 Latent Dim:  90 Batch size:  100 Annealing:  False :\t 0.04072826022739577\n",
      "Recall@20 for Intermediate Dim:  200 Latent Dim:  90 Batch size:  100 Annealing:  False :\t 0.0667380840769448\n",
      "WARNING:tensorflow:Callback method `on_train_batch_end` is slow compared to the batch time (batch time: 0.0242s vs `on_train_batch_end` time: 0.0701s). Check your callbacks.\n"
     ]
    },
    {
     "name": "stderr",
     "output_type": "stream",
     "text": [
      "/Users/arasdirekoglu/opt/anaconda3/envs/recom/lib/python3.9/site-packages/tensorflow/python/keras/engine/training.py:2325: UserWarning: `Model.state_updates` will be removed in a future version. This property should not be used in TensorFlow 2.0, as `updates` are applied automatically.\n",
      "  warnings.warn('`Model.state_updates` will be removed in a future version. '\n"
     ]
    },
    {
     "name": "stdout",
     "output_type": "stream",
     "text": [
      "Recall@10 for Intermediate Dim:  200 Latent Dim:  90 Batch size:  200 Annealing:  True :\t 0.0383646917963807\n",
      "Recall@20 for Intermediate Dim:  200 Latent Dim:  90 Batch size:  200 Annealing:  True :\t 0.0634431434222251\n"
     ]
    },
    {
     "name": "stderr",
     "output_type": "stream",
     "text": [
      "/Users/arasdirekoglu/opt/anaconda3/envs/recom/lib/python3.9/site-packages/tensorflow/python/keras/engine/training.py:2325: UserWarning: `Model.state_updates` will be removed in a future version. This property should not be used in TensorFlow 2.0, as `updates` are applied automatically.\n",
      "  warnings.warn('`Model.state_updates` will be removed in a future version. '\n"
     ]
    },
    {
     "name": "stdout",
     "output_type": "stream",
     "text": [
      "Recall@10 for Intermediate Dim:  200 Latent Dim:  90 Batch size:  200 Annealing:  False :\t 0.04052325131822629\n",
      "Recall@20 for Intermediate Dim:  200 Latent Dim:  90 Batch size:  200 Annealing:  False :\t 0.06629108945913903\n",
      "WARNING:tensorflow:Callback method `on_train_batch_end` is slow compared to the batch time (batch time: 0.0136s vs `on_train_batch_end` time: 0.0775s). Check your callbacks.\n"
     ]
    },
    {
     "name": "stderr",
     "output_type": "stream",
     "text": [
      "/Users/arasdirekoglu/opt/anaconda3/envs/recom/lib/python3.9/site-packages/tensorflow/python/keras/engine/training.py:2325: UserWarning: `Model.state_updates` will be removed in a future version. This property should not be used in TensorFlow 2.0, as `updates` are applied automatically.\n",
      "  warnings.warn('`Model.state_updates` will be removed in a future version. '\n"
     ]
    },
    {
     "name": "stdout",
     "output_type": "stream",
     "text": [
      "Recall@10 for Intermediate Dim:  400 Latent Dim:  50 Batch size:  50 Annealing:  True :\t 0.05964174519659398\n",
      "Recall@20 for Intermediate Dim:  400 Latent Dim:  50 Batch size:  50 Annealing:  True :\t 0.0984523320658759\n"
     ]
    },
    {
     "name": "stderr",
     "output_type": "stream",
     "text": [
      "/Users/arasdirekoglu/opt/anaconda3/envs/recom/lib/python3.9/site-packages/tensorflow/python/keras/engine/training.py:2325: UserWarning: `Model.state_updates` will be removed in a future version. This property should not be used in TensorFlow 2.0, as `updates` are applied automatically.\n",
      "  warnings.warn('`Model.state_updates` will be removed in a future version. '\n"
     ]
    },
    {
     "name": "stdout",
     "output_type": "stream",
     "text": [
      "Recall@10 for Intermediate Dim:  400 Latent Dim:  50 Batch size:  50 Annealing:  False :\t 0.061710121909930235\n",
      "Recall@20 for Intermediate Dim:  400 Latent Dim:  50 Batch size:  50 Annealing:  False :\t 0.10250012874330752\n",
      "WARNING:tensorflow:Callback method `on_train_batch_end` is slow compared to the batch time (batch time: 0.0242s vs `on_train_batch_end` time: 0.0855s). Check your callbacks.\n"
     ]
    },
    {
     "name": "stderr",
     "output_type": "stream",
     "text": [
      "/Users/arasdirekoglu/opt/anaconda3/envs/recom/lib/python3.9/site-packages/tensorflow/python/keras/engine/training.py:2325: UserWarning: `Model.state_updates` will be removed in a future version. This property should not be used in TensorFlow 2.0, as `updates` are applied automatically.\n",
      "  warnings.warn('`Model.state_updates` will be removed in a future version. '\n"
     ]
    },
    {
     "name": "stdout",
     "output_type": "stream",
     "text": [
      "Recall@10 for Intermediate Dim:  400 Latent Dim:  50 Batch size:  100 Annealing:  True :\t 0.045627210956604006\n",
      "Recall@20 for Intermediate Dim:  400 Latent Dim:  50 Batch size:  100 Annealing:  True :\t 0.08015694093712133\n"
     ]
    },
    {
     "name": "stderr",
     "output_type": "stream",
     "text": [
      "/Users/arasdirekoglu/opt/anaconda3/envs/recom/lib/python3.9/site-packages/tensorflow/python/keras/engine/training.py:2325: UserWarning: `Model.state_updates` will be removed in a future version. This property should not be used in TensorFlow 2.0, as `updates` are applied automatically.\n",
      "  warnings.warn('`Model.state_updates` will be removed in a future version. '\n"
     ]
    },
    {
     "name": "stdout",
     "output_type": "stream",
     "text": [
      "Recall@10 for Intermediate Dim:  400 Latent Dim:  50 Batch size:  100 Annealing:  False :\t 0.04906001644466549\n",
      "Recall@20 for Intermediate Dim:  400 Latent Dim:  50 Batch size:  100 Annealing:  False :\t 0.07733797340015625\n",
      "WARNING:tensorflow:Callback method `on_train_batch_end` is slow compared to the batch time (batch time: 0.0403s vs `on_train_batch_end` time: 0.0915s). Check your callbacks.\n"
     ]
    },
    {
     "name": "stderr",
     "output_type": "stream",
     "text": [
      "/Users/arasdirekoglu/opt/anaconda3/envs/recom/lib/python3.9/site-packages/tensorflow/python/keras/engine/training.py:2325: UserWarning: `Model.state_updates` will be removed in a future version. This property should not be used in TensorFlow 2.0, as `updates` are applied automatically.\n",
      "  warnings.warn('`Model.state_updates` will be removed in a future version. '\n"
     ]
    },
    {
     "name": "stdout",
     "output_type": "stream",
     "text": [
      "Recall@10 for Intermediate Dim:  400 Latent Dim:  50 Batch size:  200 Annealing:  True :\t 0.04076077700559416\n",
      "Recall@20 for Intermediate Dim:  400 Latent Dim:  50 Batch size:  200 Annealing:  True :\t 0.06714582606462861\n"
     ]
    },
    {
     "name": "stderr",
     "output_type": "stream",
     "text": [
      "/Users/arasdirekoglu/opt/anaconda3/envs/recom/lib/python3.9/site-packages/tensorflow/python/keras/engine/training.py:2325: UserWarning: `Model.state_updates` will be removed in a future version. This property should not be used in TensorFlow 2.0, as `updates` are applied automatically.\n",
      "  warnings.warn('`Model.state_updates` will be removed in a future version. '\n"
     ]
    },
    {
     "name": "stdout",
     "output_type": "stream",
     "text": [
      "Recall@10 for Intermediate Dim:  400 Latent Dim:  50 Batch size:  200 Annealing:  False :\t 0.041573059243987985\n",
      "Recall@20 for Intermediate Dim:  400 Latent Dim:  50 Batch size:  200 Annealing:  False :\t 0.06973655943325131\n",
      "WARNING:tensorflow:Callback method `on_train_batch_end` is slow compared to the batch time (batch time: 0.0152s vs `on_train_batch_end` time: 0.0988s). Check your callbacks.\n"
     ]
    },
    {
     "name": "stderr",
     "output_type": "stream",
     "text": [
      "/Users/arasdirekoglu/opt/anaconda3/envs/recom/lib/python3.9/site-packages/tensorflow/python/keras/engine/training.py:2325: UserWarning: `Model.state_updates` will be removed in a future version. This property should not be used in TensorFlow 2.0, as `updates` are applied automatically.\n",
      "  warnings.warn('`Model.state_updates` will be removed in a future version. '\n"
     ]
    },
    {
     "name": "stdout",
     "output_type": "stream",
     "text": [
      "Recall@10 for Intermediate Dim:  400 Latent Dim:  70 Batch size:  50 Annealing:  True :\t 0.06194948187752041\n",
      "Recall@20 for Intermediate Dim:  400 Latent Dim:  70 Batch size:  50 Annealing:  True :\t 0.09700647670031888\n"
     ]
    },
    {
     "name": "stderr",
     "output_type": "stream",
     "text": [
      "/Users/arasdirekoglu/opt/anaconda3/envs/recom/lib/python3.9/site-packages/tensorflow/python/keras/engine/training.py:2325: UserWarning: `Model.state_updates` will be removed in a future version. This property should not be used in TensorFlow 2.0, as `updates` are applied automatically.\n",
      "  warnings.warn('`Model.state_updates` will be removed in a future version. '\n"
     ]
    },
    {
     "name": "stdout",
     "output_type": "stream",
     "text": [
      "Recall@10 for Intermediate Dim:  400 Latent Dim:  70 Batch size:  50 Annealing:  False :\t 0.05803736390176655\n",
      "Recall@20 for Intermediate Dim:  400 Latent Dim:  70 Batch size:  50 Annealing:  False :\t 0.09292196481039115\n",
      "WARNING:tensorflow:Callback method `on_train_batch_end` is slow compared to the batch time (batch time: 0.0241s vs `on_train_batch_end` time: 0.1077s). Check your callbacks.\n"
     ]
    },
    {
     "name": "stderr",
     "output_type": "stream",
     "text": [
      "/Users/arasdirekoglu/opt/anaconda3/envs/recom/lib/python3.9/site-packages/tensorflow/python/keras/engine/training.py:2325: UserWarning: `Model.state_updates` will be removed in a future version. This property should not be used in TensorFlow 2.0, as `updates` are applied automatically.\n",
      "  warnings.warn('`Model.state_updates` will be removed in a future version. '\n"
     ]
    },
    {
     "name": "stdout",
     "output_type": "stream",
     "text": [
      "Recall@10 for Intermediate Dim:  400 Latent Dim:  70 Batch size:  100 Annealing:  True :\t 0.047018541981004136\n",
      "Recall@20 for Intermediate Dim:  400 Latent Dim:  70 Batch size:  100 Annealing:  True :\t 0.0754330867417979\n"
     ]
    },
    {
     "name": "stderr",
     "output_type": "stream",
     "text": [
      "/Users/arasdirekoglu/opt/anaconda3/envs/recom/lib/python3.9/site-packages/tensorflow/python/keras/engine/training.py:2325: UserWarning: `Model.state_updates` will be removed in a future version. This property should not be used in TensorFlow 2.0, as `updates` are applied automatically.\n",
      "  warnings.warn('`Model.state_updates` will be removed in a future version. '\n"
     ]
    },
    {
     "name": "stdout",
     "output_type": "stream",
     "text": [
      "Recall@10 for Intermediate Dim:  400 Latent Dim:  70 Batch size:  100 Annealing:  False :\t 0.04974972100481339\n",
      "Recall@20 for Intermediate Dim:  400 Latent Dim:  70 Batch size:  100 Annealing:  False :\t 0.07509594774918026\n",
      "WARNING:tensorflow:Callback method `on_train_batch_end` is slow compared to the batch time (batch time: 0.0393s vs `on_train_batch_end` time: 0.1128s). Check your callbacks.\n"
     ]
    },
    {
     "name": "stderr",
     "output_type": "stream",
     "text": [
      "/Users/arasdirekoglu/opt/anaconda3/envs/recom/lib/python3.9/site-packages/tensorflow/python/keras/engine/training.py:2325: UserWarning: `Model.state_updates` will be removed in a future version. This property should not be used in TensorFlow 2.0, as `updates` are applied automatically.\n",
      "  warnings.warn('`Model.state_updates` will be removed in a future version. '\n"
     ]
    },
    {
     "name": "stdout",
     "output_type": "stream",
     "text": [
      "Recall@10 for Intermediate Dim:  400 Latent Dim:  70 Batch size:  200 Annealing:  True :\t 0.040778895865787396\n",
      "Recall@20 for Intermediate Dim:  400 Latent Dim:  70 Batch size:  200 Annealing:  True :\t 0.06631770116499142\n"
     ]
    },
    {
     "name": "stderr",
     "output_type": "stream",
     "text": [
      "/Users/arasdirekoglu/opt/anaconda3/envs/recom/lib/python3.9/site-packages/tensorflow/python/keras/engine/training.py:2325: UserWarning: `Model.state_updates` will be removed in a future version. This property should not be used in TensorFlow 2.0, as `updates` are applied automatically.\n",
      "  warnings.warn('`Model.state_updates` will be removed in a future version. '\n"
     ]
    },
    {
     "name": "stdout",
     "output_type": "stream",
     "text": [
      "Recall@10 for Intermediate Dim:  400 Latent Dim:  70 Batch size:  200 Annealing:  False :\t 0.044049411286822715\n",
      "Recall@20 for Intermediate Dim:  400 Latent Dim:  70 Batch size:  200 Annealing:  False :\t 0.06769457238189792\n",
      "WARNING:tensorflow:Callback method `on_train_batch_end` is slow compared to the batch time (batch time: 0.0164s vs `on_train_batch_end` time: 0.1242s). Check your callbacks.\n"
     ]
    },
    {
     "name": "stderr",
     "output_type": "stream",
     "text": [
      "/Users/arasdirekoglu/opt/anaconda3/envs/recom/lib/python3.9/site-packages/tensorflow/python/keras/engine/training.py:2325: UserWarning: `Model.state_updates` will be removed in a future version. This property should not be used in TensorFlow 2.0, as `updates` are applied automatically.\n",
      "  warnings.warn('`Model.state_updates` will be removed in a future version. '\n"
     ]
    },
    {
     "name": "stdout",
     "output_type": "stream",
     "text": [
      "Recall@10 for Intermediate Dim:  400 Latent Dim:  90 Batch size:  50 Annealing:  True :\t 0.05885744784664114\n",
      "Recall@20 for Intermediate Dim:  400 Latent Dim:  90 Batch size:  50 Annealing:  True :\t 0.0943779297413817\n"
     ]
    },
    {
     "name": "stderr",
     "output_type": "stream",
     "text": [
      "/Users/arasdirekoglu/opt/anaconda3/envs/recom/lib/python3.9/site-packages/tensorflow/python/keras/engine/training.py:2325: UserWarning: `Model.state_updates` will be removed in a future version. This property should not be used in TensorFlow 2.0, as `updates` are applied automatically.\n",
      "  warnings.warn('`Model.state_updates` will be removed in a future version. '\n"
     ]
    },
    {
     "name": "stdout",
     "output_type": "stream",
     "text": [
      "Recall@10 for Intermediate Dim:  400 Latent Dim:  90 Batch size:  50 Annealing:  False :\t 0.05275399492319936\n",
      "Recall@20 for Intermediate Dim:  400 Latent Dim:  90 Batch size:  50 Annealing:  False :\t 0.08455013935359432\n",
      "WARNING:tensorflow:Callback method `on_train_batch_end` is slow compared to the batch time (batch time: 0.0253s vs `on_train_batch_end` time: 0.1239s). Check your callbacks.\n"
     ]
    },
    {
     "name": "stderr",
     "output_type": "stream",
     "text": [
      "/Users/arasdirekoglu/opt/anaconda3/envs/recom/lib/python3.9/site-packages/tensorflow/python/keras/engine/training.py:2325: UserWarning: `Model.state_updates` will be removed in a future version. This property should not be used in TensorFlow 2.0, as `updates` are applied automatically.\n",
      "  warnings.warn('`Model.state_updates` will be removed in a future version. '\n"
     ]
    },
    {
     "name": "stdout",
     "output_type": "stream",
     "text": [
      "Recall@10 for Intermediate Dim:  400 Latent Dim:  90 Batch size:  100 Annealing:  True :\t 0.04017382291249079\n",
      "Recall@20 for Intermediate Dim:  400 Latent Dim:  90 Batch size:  100 Annealing:  True :\t 0.06818882302206532\n"
     ]
    },
    {
     "name": "stderr",
     "output_type": "stream",
     "text": [
      "/Users/arasdirekoglu/opt/anaconda3/envs/recom/lib/python3.9/site-packages/tensorflow/python/keras/engine/training.py:2325: UserWarning: `Model.state_updates` will be removed in a future version. This property should not be used in TensorFlow 2.0, as `updates` are applied automatically.\n",
      "  warnings.warn('`Model.state_updates` will be removed in a future version. '\n"
     ]
    },
    {
     "name": "stdout",
     "output_type": "stream",
     "text": [
      "Recall@10 for Intermediate Dim:  400 Latent Dim:  90 Batch size:  100 Annealing:  False :\t 0.04462652270133658\n",
      "Recall@20 for Intermediate Dim:  400 Latent Dim:  90 Batch size:  100 Annealing:  False :\t 0.07170970545934191\n",
      "WARNING:tensorflow:Callback method `on_train_batch_end` is slow compared to the batch time (batch time: 0.0421s vs `on_train_batch_end` time: 0.1316s). Check your callbacks.\n"
     ]
    },
    {
     "name": "stderr",
     "output_type": "stream",
     "text": [
      "/Users/arasdirekoglu/opt/anaconda3/envs/recom/lib/python3.9/site-packages/tensorflow/python/keras/engine/training.py:2325: UserWarning: `Model.state_updates` will be removed in a future version. This property should not be used in TensorFlow 2.0, as `updates` are applied automatically.\n",
      "  warnings.warn('`Model.state_updates` will be removed in a future version. '\n"
     ]
    },
    {
     "name": "stdout",
     "output_type": "stream",
     "text": [
      "Recall@10 for Intermediate Dim:  400 Latent Dim:  90 Batch size:  200 Annealing:  True :\t 0.0403018807388248\n",
      "Recall@20 for Intermediate Dim:  400 Latent Dim:  90 Batch size:  200 Annealing:  True :\t 0.06637394344753206\n"
     ]
    },
    {
     "name": "stderr",
     "output_type": "stream",
     "text": [
      "/Users/arasdirekoglu/opt/anaconda3/envs/recom/lib/python3.9/site-packages/tensorflow/python/keras/engine/training.py:2325: UserWarning: `Model.state_updates` will be removed in a future version. This property should not be used in TensorFlow 2.0, as `updates` are applied automatically.\n",
      "  warnings.warn('`Model.state_updates` will be removed in a future version. '\n"
     ]
    },
    {
     "name": "stdout",
     "output_type": "stream",
     "text": [
      "Recall@10 for Intermediate Dim:  400 Latent Dim:  90 Batch size:  200 Annealing:  False :\t 0.04212973773299722\n",
      "Recall@20 for Intermediate Dim:  400 Latent Dim:  90 Batch size:  200 Annealing:  False :\t 0.06988167682043722\n",
      "WARNING:tensorflow:Callback method `on_train_batch_end` is slow compared to the batch time (batch time: 0.0205s vs `on_train_batch_end` time: 0.1333s). Check your callbacks.\n"
     ]
    },
    {
     "name": "stderr",
     "output_type": "stream",
     "text": [
      "/Users/arasdirekoglu/opt/anaconda3/envs/recom/lib/python3.9/site-packages/tensorflow/python/keras/engine/training.py:2325: UserWarning: `Model.state_updates` will be removed in a future version. This property should not be used in TensorFlow 2.0, as `updates` are applied automatically.\n",
      "  warnings.warn('`Model.state_updates` will be removed in a future version. '\n"
     ]
    },
    {
     "name": "stdout",
     "output_type": "stream",
     "text": [
      "Recall@10 for Intermediate Dim:  600 Latent Dim:  50 Batch size:  50 Annealing:  True :\t 0.06872910510605693\n",
      "Recall@20 for Intermediate Dim:  600 Latent Dim:  50 Batch size:  50 Annealing:  True :\t 0.1082593582942449\n"
     ]
    },
    {
     "name": "stderr",
     "output_type": "stream",
     "text": [
      "/Users/arasdirekoglu/opt/anaconda3/envs/recom/lib/python3.9/site-packages/tensorflow/python/keras/engine/training.py:2325: UserWarning: `Model.state_updates` will be removed in a future version. This property should not be used in TensorFlow 2.0, as `updates` are applied automatically.\n",
      "  warnings.warn('`Model.state_updates` will be removed in a future version. '\n"
     ]
    },
    {
     "name": "stdout",
     "output_type": "stream",
     "text": [
      "Recall@10 for Intermediate Dim:  600 Latent Dim:  50 Batch size:  50 Annealing:  False :\t 0.06794131011867803\n",
      "Recall@20 for Intermediate Dim:  600 Latent Dim:  50 Batch size:  50 Annealing:  False :\t 0.09709989823614616\n",
      "WARNING:tensorflow:Callback method `on_train_batch_end` is slow compared to the batch time (batch time: 0.0375s vs `on_train_batch_end` time: 0.1481s). Check your callbacks.\n"
     ]
    },
    {
     "name": "stderr",
     "output_type": "stream",
     "text": [
      "/Users/arasdirekoglu/opt/anaconda3/envs/recom/lib/python3.9/site-packages/tensorflow/python/keras/engine/training.py:2325: UserWarning: `Model.state_updates` will be removed in a future version. This property should not be used in TensorFlow 2.0, as `updates` are applied automatically.\n",
      "  warnings.warn('`Model.state_updates` will be removed in a future version. '\n"
     ]
    },
    {
     "name": "stdout",
     "output_type": "stream",
     "text": [
      "Recall@10 for Intermediate Dim:  600 Latent Dim:  50 Batch size:  100 Annealing:  True :\t 0.05506020977023489\n",
      "Recall@20 for Intermediate Dim:  600 Latent Dim:  50 Batch size:  100 Annealing:  True :\t 0.09418336181620582\n"
     ]
    },
    {
     "name": "stderr",
     "output_type": "stream",
     "text": [
      "/Users/arasdirekoglu/opt/anaconda3/envs/recom/lib/python3.9/site-packages/tensorflow/python/keras/engine/training.py:2325: UserWarning: `Model.state_updates` will be removed in a future version. This property should not be used in TensorFlow 2.0, as `updates` are applied automatically.\n",
      "  warnings.warn('`Model.state_updates` will be removed in a future version. '\n"
     ]
    },
    {
     "name": "stdout",
     "output_type": "stream",
     "text": [
      "Recall@10 for Intermediate Dim:  600 Latent Dim:  50 Batch size:  100 Annealing:  False :\t 0.05810226894744504\n",
      "Recall@20 for Intermediate Dim:  600 Latent Dim:  50 Batch size:  100 Annealing:  False :\t 0.09361881581092234\n",
      "WARNING:tensorflow:Callback method `on_train_batch_end` is slow compared to the batch time (batch time: 0.0534s vs `on_train_batch_end` time: 0.1440s). Check your callbacks.\n"
     ]
    },
    {
     "name": "stderr",
     "output_type": "stream",
     "text": [
      "/Users/arasdirekoglu/opt/anaconda3/envs/recom/lib/python3.9/site-packages/tensorflow/python/keras/engine/training.py:2325: UserWarning: `Model.state_updates` will be removed in a future version. This property should not be used in TensorFlow 2.0, as `updates` are applied automatically.\n",
      "  warnings.warn('`Model.state_updates` will be removed in a future version. '\n"
     ]
    },
    {
     "name": "stdout",
     "output_type": "stream",
     "text": [
      "Recall@10 for Intermediate Dim:  600 Latent Dim:  50 Batch size:  200 Annealing:  True :\t 0.04203245701967039\n",
      "Recall@20 for Intermediate Dim:  600 Latent Dim:  50 Batch size:  200 Annealing:  True :\t 0.07241110356600053\n"
     ]
    },
    {
     "name": "stderr",
     "output_type": "stream",
     "text": [
      "/Users/arasdirekoglu/opt/anaconda3/envs/recom/lib/python3.9/site-packages/tensorflow/python/keras/engine/training.py:2325: UserWarning: `Model.state_updates` will be removed in a future version. This property should not be used in TensorFlow 2.0, as `updates` are applied automatically.\n",
      "  warnings.warn('`Model.state_updates` will be removed in a future version. '\n"
     ]
    },
    {
     "name": "stdout",
     "output_type": "stream",
     "text": [
      "Recall@10 for Intermediate Dim:  600 Latent Dim:  50 Batch size:  200 Annealing:  False :\t 0.04880202924160079\n",
      "Recall@20 for Intermediate Dim:  600 Latent Dim:  50 Batch size:  200 Annealing:  False :\t 0.07877166777198027\n",
      "WARNING:tensorflow:Callback method `on_train_batch_end` is slow compared to the batch time (batch time: 0.0202s vs `on_train_batch_end` time: 0.1549s). Check your callbacks.\n"
     ]
    },
    {
     "name": "stderr",
     "output_type": "stream",
     "text": [
      "/Users/arasdirekoglu/opt/anaconda3/envs/recom/lib/python3.9/site-packages/tensorflow/python/keras/engine/training.py:2325: UserWarning: `Model.state_updates` will be removed in a future version. This property should not be used in TensorFlow 2.0, as `updates` are applied automatically.\n",
      "  warnings.warn('`Model.state_updates` will be removed in a future version. '\n"
     ]
    },
    {
     "name": "stdout",
     "output_type": "stream",
     "text": [
      "Recall@10 for Intermediate Dim:  600 Latent Dim:  70 Batch size:  50 Annealing:  True :\t 0.06598155378628569\n",
      "Recall@20 for Intermediate Dim:  600 Latent Dim:  70 Batch size:  50 Annealing:  True :\t 0.10432351488003813\n"
     ]
    },
    {
     "name": "stderr",
     "output_type": "stream",
     "text": [
      "/Users/arasdirekoglu/opt/anaconda3/envs/recom/lib/python3.9/site-packages/tensorflow/python/keras/engine/training.py:2325: UserWarning: `Model.state_updates` will be removed in a future version. This property should not be used in TensorFlow 2.0, as `updates` are applied automatically.\n",
      "  warnings.warn('`Model.state_updates` will be removed in a future version. '\n"
     ]
    },
    {
     "name": "stdout",
     "output_type": "stream",
     "text": [
      "Recall@10 for Intermediate Dim:  600 Latent Dim:  70 Batch size:  50 Annealing:  False :\t 0.06234552747582721\n",
      "Recall@20 for Intermediate Dim:  600 Latent Dim:  70 Batch size:  50 Annealing:  False :\t 0.09942037965190977\n",
      "WARNING:tensorflow:Callback method `on_train_batch_end` is slow compared to the batch time (batch time: 0.0356s vs `on_train_batch_end` time: 0.1599s). Check your callbacks.\n"
     ]
    },
    {
     "name": "stderr",
     "output_type": "stream",
     "text": [
      "/Users/arasdirekoglu/opt/anaconda3/envs/recom/lib/python3.9/site-packages/tensorflow/python/keras/engine/training.py:2325: UserWarning: `Model.state_updates` will be removed in a future version. This property should not be used in TensorFlow 2.0, as `updates` are applied automatically.\n",
      "  warnings.warn('`Model.state_updates` will be removed in a future version. '\n"
     ]
    },
    {
     "name": "stdout",
     "output_type": "stream",
     "text": [
      "Recall@10 for Intermediate Dim:  600 Latent Dim:  70 Batch size:  100 Annealing:  True :\t 0.05635154868969037\n",
      "Recall@20 for Intermediate Dim:  600 Latent Dim:  70 Batch size:  100 Annealing:  True :\t 0.09087760258181087\n"
     ]
    },
    {
     "name": "stderr",
     "output_type": "stream",
     "text": [
      "/Users/arasdirekoglu/opt/anaconda3/envs/recom/lib/python3.9/site-packages/tensorflow/python/keras/engine/training.py:2325: UserWarning: `Model.state_updates` will be removed in a future version. This property should not be used in TensorFlow 2.0, as `updates` are applied automatically.\n",
      "  warnings.warn('`Model.state_updates` will be removed in a future version. '\n"
     ]
    },
    {
     "name": "stdout",
     "output_type": "stream",
     "text": [
      "Recall@10 for Intermediate Dim:  600 Latent Dim:  70 Batch size:  100 Annealing:  False :\t 0.05474813066555823\n",
      "Recall@20 for Intermediate Dim:  600 Latent Dim:  70 Batch size:  100 Annealing:  False :\t 0.08426030054827895\n",
      "WARNING:tensorflow:Callback method `on_train_batch_end` is slow compared to the batch time (batch time: 0.0566s vs `on_train_batch_end` time: 0.1720s). Check your callbacks.\n"
     ]
    },
    {
     "name": "stderr",
     "output_type": "stream",
     "text": [
      "/Users/arasdirekoglu/opt/anaconda3/envs/recom/lib/python3.9/site-packages/tensorflow/python/keras/engine/training.py:2325: UserWarning: `Model.state_updates` will be removed in a future version. This property should not be used in TensorFlow 2.0, as `updates` are applied automatically.\n",
      "  warnings.warn('`Model.state_updates` will be removed in a future version. '\n"
     ]
    },
    {
     "name": "stdout",
     "output_type": "stream",
     "text": [
      "Recall@10 for Intermediate Dim:  600 Latent Dim:  70 Batch size:  200 Annealing:  True :\t 0.04260533155181343\n",
      "Recall@20 for Intermediate Dim:  600 Latent Dim:  70 Batch size:  200 Annealing:  True :\t 0.06988562386329661\n"
     ]
    },
    {
     "name": "stderr",
     "output_type": "stream",
     "text": [
      "/Users/arasdirekoglu/opt/anaconda3/envs/recom/lib/python3.9/site-packages/tensorflow/python/keras/engine/training.py:2325: UserWarning: `Model.state_updates` will be removed in a future version. This property should not be used in TensorFlow 2.0, as `updates` are applied automatically.\n",
      "  warnings.warn('`Model.state_updates` will be removed in a future version. '\n"
     ]
    },
    {
     "name": "stdout",
     "output_type": "stream",
     "text": [
      "Recall@10 for Intermediate Dim:  600 Latent Dim:  70 Batch size:  200 Annealing:  False :\t 0.04218483165946603\n",
      "Recall@20 for Intermediate Dim:  600 Latent Dim:  70 Batch size:  200 Annealing:  False :\t 0.06859683189813906\n",
      "WARNING:tensorflow:Callback method `on_train_batch_end` is slow compared to the batch time (batch time: 0.0212s vs `on_train_batch_end` time: 0.1725s). Check your callbacks.\n"
     ]
    },
    {
     "name": "stderr",
     "output_type": "stream",
     "text": [
      "/Users/arasdirekoglu/opt/anaconda3/envs/recom/lib/python3.9/site-packages/tensorflow/python/keras/engine/training.py:2325: UserWarning: `Model.state_updates` will be removed in a future version. This property should not be used in TensorFlow 2.0, as `updates` are applied automatically.\n",
      "  warnings.warn('`Model.state_updates` will be removed in a future version. '\n"
     ]
    },
    {
     "name": "stdout",
     "output_type": "stream",
     "text": [
      "Recall@10 for Intermediate Dim:  600 Latent Dim:  90 Batch size:  50 Annealing:  True :\t 0.07000410511135252\n",
      "Recall@20 for Intermediate Dim:  600 Latent Dim:  90 Batch size:  50 Annealing:  True :\t 0.10480117150429223\n"
     ]
    },
    {
     "name": "stderr",
     "output_type": "stream",
     "text": [
      "/Users/arasdirekoglu/opt/anaconda3/envs/recom/lib/python3.9/site-packages/tensorflow/python/keras/engine/training.py:2325: UserWarning: `Model.state_updates` will be removed in a future version. This property should not be used in TensorFlow 2.0, as `updates` are applied automatically.\n",
      "  warnings.warn('`Model.state_updates` will be removed in a future version. '\n"
     ]
    },
    {
     "name": "stdout",
     "output_type": "stream",
     "text": [
      "Recall@10 for Intermediate Dim:  600 Latent Dim:  90 Batch size:  50 Annealing:  False :\t 0.059784217003959875\n",
      "Recall@20 for Intermediate Dim:  600 Latent Dim:  90 Batch size:  50 Annealing:  False :\t 0.09690681865435996\n",
      "WARNING:tensorflow:Callback method `on_train_batch_end` is slow compared to the batch time (batch time: 0.0345s vs `on_train_batch_end` time: 0.1764s). Check your callbacks.\n"
     ]
    },
    {
     "name": "stderr",
     "output_type": "stream",
     "text": [
      "/Users/arasdirekoglu/opt/anaconda3/envs/recom/lib/python3.9/site-packages/tensorflow/python/keras/engine/training.py:2325: UserWarning: `Model.state_updates` will be removed in a future version. This property should not be used in TensorFlow 2.0, as `updates` are applied automatically.\n",
      "  warnings.warn('`Model.state_updates` will be removed in a future version. '\n"
     ]
    },
    {
     "name": "stdout",
     "output_type": "stream",
     "text": [
      "Recall@10 for Intermediate Dim:  600 Latent Dim:  90 Batch size:  100 Annealing:  True :\t 0.05472295747985824\n",
      "Recall@20 for Intermediate Dim:  600 Latent Dim:  90 Batch size:  100 Annealing:  True :\t 0.0854094353858649\n"
     ]
    },
    {
     "name": "stderr",
     "output_type": "stream",
     "text": [
      "/Users/arasdirekoglu/opt/anaconda3/envs/recom/lib/python3.9/site-packages/tensorflow/python/keras/engine/training.py:2325: UserWarning: `Model.state_updates` will be removed in a future version. This property should not be used in TensorFlow 2.0, as `updates` are applied automatically.\n",
      "  warnings.warn('`Model.state_updates` will be removed in a future version. '\n"
     ]
    },
    {
     "name": "stdout",
     "output_type": "stream",
     "text": [
      "Recall@10 for Intermediate Dim:  600 Latent Dim:  90 Batch size:  100 Annealing:  False :\t 0.052137956456786906\n",
      "Recall@20 for Intermediate Dim:  600 Latent Dim:  90 Batch size:  100 Annealing:  False :\t 0.0859441717752741\n",
      "WARNING:tensorflow:Callback method `on_train_batch_end` is slow compared to the batch time (batch time: 0.0561s vs `on_train_batch_end` time: 0.1814s). Check your callbacks.\n"
     ]
    },
    {
     "name": "stderr",
     "output_type": "stream",
     "text": [
      "/Users/arasdirekoglu/opt/anaconda3/envs/recom/lib/python3.9/site-packages/tensorflow/python/keras/engine/training.py:2325: UserWarning: `Model.state_updates` will be removed in a future version. This property should not be used in TensorFlow 2.0, as `updates` are applied automatically.\n",
      "  warnings.warn('`Model.state_updates` will be removed in a future version. '\n"
     ]
    },
    {
     "name": "stdout",
     "output_type": "stream",
     "text": [
      "Recall@10 for Intermediate Dim:  600 Latent Dim:  90 Batch size:  200 Annealing:  True :\t 0.04162078083838321\n",
      "Recall@20 for Intermediate Dim:  600 Latent Dim:  90 Batch size:  200 Annealing:  True :\t 0.06913017754745336\n"
     ]
    },
    {
     "name": "stderr",
     "output_type": "stream",
     "text": [
      "/Users/arasdirekoglu/opt/anaconda3/envs/recom/lib/python3.9/site-packages/tensorflow/python/keras/engine/training.py:2325: UserWarning: `Model.state_updates` will be removed in a future version. This property should not be used in TensorFlow 2.0, as `updates` are applied automatically.\n",
      "  warnings.warn('`Model.state_updates` will be removed in a future version. '\n"
     ]
    },
    {
     "name": "stdout",
     "output_type": "stream",
     "text": [
      "Recall@10 for Intermediate Dim:  600 Latent Dim:  90 Batch size:  200 Annealing:  False :\t 0.04142306578801615\n",
      "Recall@20 for Intermediate Dim:  600 Latent Dim:  90 Batch size:  200 Annealing:  False :\t 0.0695032339066239\n",
      "WARNING:tensorflow:Callback method `on_train_batch_end` is slow compared to the batch time (batch time: 0.0279s vs `on_train_batch_end` time: 0.1925s). Check your callbacks.\n"
     ]
    },
    {
     "name": "stderr",
     "output_type": "stream",
     "text": [
      "/Users/arasdirekoglu/opt/anaconda3/envs/recom/lib/python3.9/site-packages/tensorflow/python/keras/engine/training.py:2325: UserWarning: `Model.state_updates` will be removed in a future version. This property should not be used in TensorFlow 2.0, as `updates` are applied automatically.\n",
      "  warnings.warn('`Model.state_updates` will be removed in a future version. '\n"
     ]
    },
    {
     "name": "stdout",
     "output_type": "stream",
     "text": [
      "Recall@10 for Intermediate Dim:  800 Latent Dim:  50 Batch size:  50 Annealing:  True :\t 0.08367424928406528\n",
      "Recall@20 for Intermediate Dim:  800 Latent Dim:  50 Batch size:  50 Annealing:  True :\t 0.12885419246755378\n"
     ]
    },
    {
     "name": "stderr",
     "output_type": "stream",
     "text": [
      "/Users/arasdirekoglu/opt/anaconda3/envs/recom/lib/python3.9/site-packages/tensorflow/python/keras/engine/training.py:2325: UserWarning: `Model.state_updates` will be removed in a future version. This property should not be used in TensorFlow 2.0, as `updates` are applied automatically.\n",
      "  warnings.warn('`Model.state_updates` will be removed in a future version. '\n"
     ]
    },
    {
     "name": "stdout",
     "output_type": "stream",
     "text": [
      "Recall@10 for Intermediate Dim:  800 Latent Dim:  50 Batch size:  50 Annealing:  False :\t 0.07233625780529916\n",
      "Recall@20 for Intermediate Dim:  800 Latent Dim:  50 Batch size:  50 Annealing:  False :\t 0.11557083156871875\n",
      "WARNING:tensorflow:Callback method `on_train_batch_end` is slow compared to the batch time (batch time: 0.0656s vs `on_train_batch_end` time: 0.2089s). Check your callbacks.\n"
     ]
    },
    {
     "name": "stderr",
     "output_type": "stream",
     "text": [
      "/Users/arasdirekoglu/opt/anaconda3/envs/recom/lib/python3.9/site-packages/tensorflow/python/keras/engine/training.py:2325: UserWarning: `Model.state_updates` will be removed in a future version. This property should not be used in TensorFlow 2.0, as `updates` are applied automatically.\n",
      "  warnings.warn('`Model.state_updates` will be removed in a future version. '\n"
     ]
    },
    {
     "name": "stdout",
     "output_type": "stream",
     "text": [
      "Recall@10 for Intermediate Dim:  800 Latent Dim:  50 Batch size:  100 Annealing:  True :\t 0.06568289477916706\n",
      "Recall@20 for Intermediate Dim:  800 Latent Dim:  50 Batch size:  100 Annealing:  True :\t 0.1053563904966195\n"
     ]
    },
    {
     "name": "stderr",
     "output_type": "stream",
     "text": [
      "/Users/arasdirekoglu/opt/anaconda3/envs/recom/lib/python3.9/site-packages/tensorflow/python/keras/engine/training.py:2325: UserWarning: `Model.state_updates` will be removed in a future version. This property should not be used in TensorFlow 2.0, as `updates` are applied automatically.\n",
      "  warnings.warn('`Model.state_updates` will be removed in a future version. '\n"
     ]
    },
    {
     "name": "stdout",
     "output_type": "stream",
     "text": [
      "Recall@10 for Intermediate Dim:  800 Latent Dim:  50 Batch size:  100 Annealing:  False :\t 0.059620288105879764\n",
      "Recall@20 for Intermediate Dim:  800 Latent Dim:  50 Batch size:  100 Annealing:  False :\t 0.09849025916469642\n",
      "WARNING:tensorflow:Callback method `on_train_batch_end` is slow compared to the batch time (batch time: 0.0820s vs `on_train_batch_end` time: 0.2056s). Check your callbacks.\n"
     ]
    },
    {
     "name": "stderr",
     "output_type": "stream",
     "text": [
      "/Users/arasdirekoglu/opt/anaconda3/envs/recom/lib/python3.9/site-packages/tensorflow/python/keras/engine/training.py:2325: UserWarning: `Model.state_updates` will be removed in a future version. This property should not be used in TensorFlow 2.0, as `updates` are applied automatically.\n",
      "  warnings.warn('`Model.state_updates` will be removed in a future version. '\n"
     ]
    },
    {
     "name": "stdout",
     "output_type": "stream",
     "text": [
      "Recall@10 for Intermediate Dim:  800 Latent Dim:  50 Batch size:  200 Annealing:  True :\t 0.055450860315540675\n",
      "Recall@20 for Intermediate Dim:  800 Latent Dim:  50 Batch size:  200 Annealing:  True :\t 0.08331392097470877\n"
     ]
    },
    {
     "name": "stderr",
     "output_type": "stream",
     "text": [
      "/Users/arasdirekoglu/opt/anaconda3/envs/recom/lib/python3.9/site-packages/tensorflow/python/keras/engine/training.py:2325: UserWarning: `Model.state_updates` will be removed in a future version. This property should not be used in TensorFlow 2.0, as `updates` are applied automatically.\n",
      "  warnings.warn('`Model.state_updates` will be removed in a future version. '\n"
     ]
    },
    {
     "name": "stdout",
     "output_type": "stream",
     "text": [
      "Recall@10 for Intermediate Dim:  800 Latent Dim:  50 Batch size:  200 Annealing:  False :\t 0.05219009749440385\n",
      "Recall@20 for Intermediate Dim:  800 Latent Dim:  50 Batch size:  200 Annealing:  False :\t 0.08115511684635303\n",
      "WARNING:tensorflow:Callback method `on_train_batch_end` is slow compared to the batch time (batch time: 0.0267s vs `on_train_batch_end` time: 0.2176s). Check your callbacks.\n"
     ]
    },
    {
     "name": "stderr",
     "output_type": "stream",
     "text": [
      "/Users/arasdirekoglu/opt/anaconda3/envs/recom/lib/python3.9/site-packages/tensorflow/python/keras/engine/training.py:2325: UserWarning: `Model.state_updates` will be removed in a future version. This property should not be used in TensorFlow 2.0, as `updates` are applied automatically.\n",
      "  warnings.warn('`Model.state_updates` will be removed in a future version. '\n"
     ]
    },
    {
     "name": "stdout",
     "output_type": "stream",
     "text": [
      "Recall@10 for Intermediate Dim:  800 Latent Dim:  70 Batch size:  50 Annealing:  True :\t 0.07492400205657614\n",
      "Recall@20 for Intermediate Dim:  800 Latent Dim:  70 Batch size:  50 Annealing:  True :\t 0.11958857713870165\n"
     ]
    },
    {
     "name": "stderr",
     "output_type": "stream",
     "text": [
      "/Users/arasdirekoglu/opt/anaconda3/envs/recom/lib/python3.9/site-packages/tensorflow/python/keras/engine/training.py:2325: UserWarning: `Model.state_updates` will be removed in a future version. This property should not be used in TensorFlow 2.0, as `updates` are applied automatically.\n",
      "  warnings.warn('`Model.state_updates` will be removed in a future version. '\n"
     ]
    },
    {
     "name": "stdout",
     "output_type": "stream",
     "text": [
      "Recall@10 for Intermediate Dim:  800 Latent Dim:  70 Batch size:  50 Annealing:  False :\t 0.07038518033989165\n",
      "Recall@20 for Intermediate Dim:  800 Latent Dim:  70 Batch size:  50 Annealing:  False :\t 0.11674955943825577\n",
      "WARNING:tensorflow:Callback method `on_train_batch_end` is slow compared to the batch time (batch time: 0.0414s vs `on_train_batch_end` time: 0.2216s). Check your callbacks.\n"
     ]
    },
    {
     "name": "stderr",
     "output_type": "stream",
     "text": [
      "/Users/arasdirekoglu/opt/anaconda3/envs/recom/lib/python3.9/site-packages/tensorflow/python/keras/engine/training.py:2325: UserWarning: `Model.state_updates` will be removed in a future version. This property should not be used in TensorFlow 2.0, as `updates` are applied automatically.\n",
      "  warnings.warn('`Model.state_updates` will be removed in a future version. '\n"
     ]
    },
    {
     "name": "stdout",
     "output_type": "stream",
     "text": [
      "Recall@10 for Intermediate Dim:  800 Latent Dim:  70 Batch size:  100 Annealing:  True :\t 0.060054648558031686\n",
      "Recall@20 for Intermediate Dim:  800 Latent Dim:  70 Batch size:  100 Annealing:  True :\t 0.09702148718945171\n"
     ]
    },
    {
     "name": "stderr",
     "output_type": "stream",
     "text": [
      "/Users/arasdirekoglu/opt/anaconda3/envs/recom/lib/python3.9/site-packages/tensorflow/python/keras/engine/training.py:2325: UserWarning: `Model.state_updates` will be removed in a future version. This property should not be used in TensorFlow 2.0, as `updates` are applied automatically.\n",
      "  warnings.warn('`Model.state_updates` will be removed in a future version. '\n"
     ]
    },
    {
     "name": "stdout",
     "output_type": "stream",
     "text": [
      "Recall@10 for Intermediate Dim:  800 Latent Dim:  70 Batch size:  100 Annealing:  False :\t 0.06505477842381278\n",
      "Recall@20 for Intermediate Dim:  800 Latent Dim:  70 Batch size:  100 Annealing:  False :\t 0.09431594287400188\n",
      "WARNING:tensorflow:Callback method `on_train_batch_end` is slow compared to the batch time (batch time: 0.0662s vs `on_train_batch_end` time: 0.2243s). Check your callbacks.\n"
     ]
    },
    {
     "name": "stderr",
     "output_type": "stream",
     "text": [
      "/Users/arasdirekoglu/opt/anaconda3/envs/recom/lib/python3.9/site-packages/tensorflow/python/keras/engine/training.py:2325: UserWarning: `Model.state_updates` will be removed in a future version. This property should not be used in TensorFlow 2.0, as `updates` are applied automatically.\n",
      "  warnings.warn('`Model.state_updates` will be removed in a future version. '\n"
     ]
    },
    {
     "name": "stdout",
     "output_type": "stream",
     "text": [
      "Recall@10 for Intermediate Dim:  800 Latent Dim:  70 Batch size:  200 Annealing:  True :\t 0.05012824920116808\n",
      "Recall@20 for Intermediate Dim:  800 Latent Dim:  70 Batch size:  200 Annealing:  True :\t 0.0819105795849455\n"
     ]
    },
    {
     "name": "stderr",
     "output_type": "stream",
     "text": [
      "/Users/arasdirekoglu/opt/anaconda3/envs/recom/lib/python3.9/site-packages/tensorflow/python/keras/engine/training.py:2325: UserWarning: `Model.state_updates` will be removed in a future version. This property should not be used in TensorFlow 2.0, as `updates` are applied automatically.\n",
      "  warnings.warn('`Model.state_updates` will be removed in a future version. '\n"
     ]
    },
    {
     "name": "stdout",
     "output_type": "stream",
     "text": [
      "Recall@10 for Intermediate Dim:  800 Latent Dim:  70 Batch size:  200 Annealing:  False :\t 0.04289763975229558\n",
      "Recall@20 for Intermediate Dim:  800 Latent Dim:  70 Batch size:  200 Annealing:  False :\t 0.07356060078662413\n",
      "WARNING:tensorflow:Callback method `on_train_batch_end` is slow compared to the batch time (batch time: 0.0268s vs `on_train_batch_end` time: 0.2303s). Check your callbacks.\n"
     ]
    },
    {
     "name": "stderr",
     "output_type": "stream",
     "text": [
      "/Users/arasdirekoglu/opt/anaconda3/envs/recom/lib/python3.9/site-packages/tensorflow/python/keras/engine/training.py:2325: UserWarning: `Model.state_updates` will be removed in a future version. This property should not be used in TensorFlow 2.0, as `updates` are applied automatically.\n",
      "  warnings.warn('`Model.state_updates` will be removed in a future version. '\n"
     ]
    },
    {
     "name": "stdout",
     "output_type": "stream",
     "text": [
      "Recall@10 for Intermediate Dim:  800 Latent Dim:  90 Batch size:  50 Annealing:  True :\t 0.07955544920194427\n",
      "Recall@20 for Intermediate Dim:  800 Latent Dim:  90 Batch size:  50 Annealing:  True :\t 0.12302148629656305\n"
     ]
    },
    {
     "name": "stderr",
     "output_type": "stream",
     "text": [
      "/Users/arasdirekoglu/opt/anaconda3/envs/recom/lib/python3.9/site-packages/tensorflow/python/keras/engine/training.py:2325: UserWarning: `Model.state_updates` will be removed in a future version. This property should not be used in TensorFlow 2.0, as `updates` are applied automatically.\n",
      "  warnings.warn('`Model.state_updates` will be removed in a future version. '\n"
     ]
    },
    {
     "name": "stdout",
     "output_type": "stream",
     "text": [
      "Recall@10 for Intermediate Dim:  800 Latent Dim:  90 Batch size:  50 Annealing:  False :\t 0.0763597136638146\n",
      "Recall@20 for Intermediate Dim:  800 Latent Dim:  90 Batch size:  50 Annealing:  False :\t 0.11768783581807597\n",
      "WARNING:tensorflow:Callback method `on_train_batch_end` is slow compared to the batch time (batch time: 0.0409s vs `on_train_batch_end` time: 0.2339s). Check your callbacks.\n"
     ]
    },
    {
     "name": "stderr",
     "output_type": "stream",
     "text": [
      "/Users/arasdirekoglu/opt/anaconda3/envs/recom/lib/python3.9/site-packages/tensorflow/python/keras/engine/training.py:2325: UserWarning: `Model.state_updates` will be removed in a future version. This property should not be used in TensorFlow 2.0, as `updates` are applied automatically.\n",
      "  warnings.warn('`Model.state_updates` will be removed in a future version. '\n"
     ]
    },
    {
     "name": "stdout",
     "output_type": "stream",
     "text": [
      "Recall@10 for Intermediate Dim:  800 Latent Dim:  90 Batch size:  100 Annealing:  True :\t 0.062077553231776744\n",
      "Recall@20 for Intermediate Dim:  800 Latent Dim:  90 Batch size:  100 Annealing:  True :\t 0.09866603469371694\n"
     ]
    },
    {
     "name": "stderr",
     "output_type": "stream",
     "text": [
      "/Users/arasdirekoglu/opt/anaconda3/envs/recom/lib/python3.9/site-packages/tensorflow/python/keras/engine/training.py:2325: UserWarning: `Model.state_updates` will be removed in a future version. This property should not be used in TensorFlow 2.0, as `updates` are applied automatically.\n",
      "  warnings.warn('`Model.state_updates` will be removed in a future version. '\n"
     ]
    },
    {
     "name": "stdout",
     "output_type": "stream",
     "text": [
      "Recall@10 for Intermediate Dim:  800 Latent Dim:  90 Batch size:  100 Annealing:  False :\t 0.06260764549473906\n",
      "Recall@20 for Intermediate Dim:  800 Latent Dim:  90 Batch size:  100 Annealing:  False :\t 0.09587347010072551\n",
      "WARNING:tensorflow:Callback method `on_train_batch_end` is slow compared to the batch time (batch time: 0.0736s vs `on_train_batch_end` time: 0.2446s). Check your callbacks.\n"
     ]
    },
    {
     "name": "stderr",
     "output_type": "stream",
     "text": [
      "/Users/arasdirekoglu/opt/anaconda3/envs/recom/lib/python3.9/site-packages/tensorflow/python/keras/engine/training.py:2325: UserWarning: `Model.state_updates` will be removed in a future version. This property should not be used in TensorFlow 2.0, as `updates` are applied automatically.\n",
      "  warnings.warn('`Model.state_updates` will be removed in a future version. '\n"
     ]
    },
    {
     "name": "stdout",
     "output_type": "stream",
     "text": [
      "Recall@10 for Intermediate Dim:  800 Latent Dim:  90 Batch size:  200 Annealing:  True :\t 0.0397291715173839\n",
      "Recall@20 for Intermediate Dim:  800 Latent Dim:  90 Batch size:  200 Annealing:  True :\t 0.06374293790187022\n"
     ]
    },
    {
     "name": "stderr",
     "output_type": "stream",
     "text": [
      "/Users/arasdirekoglu/opt/anaconda3/envs/recom/lib/python3.9/site-packages/tensorflow/python/keras/engine/training.py:2325: UserWarning: `Model.state_updates` will be removed in a future version. This property should not be used in TensorFlow 2.0, as `updates` are applied automatically.\n",
      "  warnings.warn('`Model.state_updates` will be removed in a future version. '\n"
     ]
    },
    {
     "name": "stdout",
     "output_type": "stream",
     "text": [
      "Recall@10 for Intermediate Dim:  800 Latent Dim:  90 Batch size:  200 Annealing:  False :\t 0.04397102519111267\n",
      "Recall@20 for Intermediate Dim:  800 Latent Dim:  90 Batch size:  200 Annealing:  False :\t 0.07111547201396466\n"
     ]
    }
   ],
   "source": [
    "# Set up Parameters\n",
    "intermediate_dimension = [200, 400, 600, 800] \n",
    "latent_dimension = [50, 70, 90] \n",
    "batch_sizes = [50, 100, 200]\n",
    "anneal_status = [True, False]\n",
    "\n",
    "# Initiate Lists for Assessment\n",
    "recall_10 = []\n",
    "recall_20 = []\n",
    "precision_10 = []\n",
    "precision_20 = []\n",
    "int_dimensions = []\n",
    "lt_dimensions = []\n",
    "anneal = []\n",
    "batch = []\n",
    "\n",
    "for i in intermediate_dimension:\n",
    "    for l in latent_dimension:\n",
    "        for b in batch_sizes:\n",
    "            for a in anneal_status:\n",
    "                try:\n",
    "                    del(model)\n",
    "                except:\n",
    "                    pass\n",
    "                \n",
    "                # Initiate Model \n",
    "                if a == True:\n",
    "                    model = StandardVAE(n_users=train_data.shape[0],\n",
    "                                        original_dim=train_data.shape[1],\n",
    "                                        intermediate_dim=i,\n",
    "                                        latent_dim=l,\n",
    "                                        n_epochs=100,\n",
    "                                        batch_size=b,\n",
    "                                        k=100,\n",
    "                                        verbose=0,\n",
    "                                        seed=1,\n",
    "                                        save_path=WEIGHTS_PATH,\n",
    "                                        drop_encoder=0.5,\n",
    "                                        drop_decoder=0.5,\n",
    "                                        annealing=True,\n",
    "                                        anneal_cap=1.0)\n",
    "                else:\n",
    "                    model = StandardVAE(n_users=train_data.shape[0], # Number of unique users in the training set\n",
    "                                        original_dim=train_data.shape[1], # Number of unique items in the training set\n",
    "                                        intermediate_dim=i, \n",
    "                                        latent_dim=l, \n",
    "                                        n_epochs=100, \n",
    "                                        batch_size=b, \n",
    "                                        k=100,\n",
    "                                        verbose=0,\n",
    "                                        seed=1,\n",
    "                                        drop_encoder=0.5,\n",
    "                                        drop_decoder=0.5,\n",
    "                                        annealing=False,\n",
    "                                        beta=1.0,\n",
    "                                        save_path=WEIGHTS_PATH)\n",
    "                \n",
    "                # Fit model\n",
    "                model.fit(x_train=train_data,\n",
    "                        x_valid=val_data,\n",
    "                        x_val_tr=val_data_tr,\n",
    "                        x_val_te=val_data_te_ratings,\n",
    "                        mapper=am_val)\n",
    "            \n",
    "                # Model prediction on the training part of test set K = 10  \n",
    "                top_k_10 =  model.recommend_k_items(x=test_data_tr,\n",
    "                                                    k=10,\n",
    "                                                    remove_seen=True)\n",
    "\n",
    "                # Convert sparse matrix back to df\n",
    "                top_k_df_10 = am_test.map_back_sparse(top_k_10, kind='prediction')\n",
    "                test_df = am_test.map_back_sparse(test_data_te_ratings, kind='ratings') # use test_data_te_, with the original ratings\n",
    "    \n",
    "\n",
    "                # Use the ranking metrics for evaluation\n",
    "                eval_precision_10 = precision_at_k(test_df, top_k_df_10, col_prediction='prediction', k=10)\n",
    "                eval_recall_10 = recall_at_k(test_df, top_k_df_10, col_prediction='prediction', k=10)\n",
    "\n",
    "                # Print intermediate Status for Recall@10\n",
    "                print(\"Recall@10 for Intermediate Dim: \", i, \"Latent Dim: \", l, \"Batch size: \", b, \"Annealing: \", a, \":\\t\", eval_recall_10)\n",
    "                \n",
    "                #Model prediction on the training part of test set K = 20  \n",
    "                top_k_20 =  model.recommend_k_items(x=test_data_tr,\n",
    "                                                    k=20,\n",
    "                                                    remove_seen=True)\n",
    "\n",
    "                # Convert sparse matrix back to df\n",
    "                top_k_df_20 = am_test.map_back_sparse(top_k_20, kind='prediction')\n",
    "    \n",
    "\n",
    "                # Use the ranking metrics for evaluation\n",
    "                eval_precision_20 = precision_at_k(test_df, top_k_df_20, col_prediction='prediction', k=20)\n",
    "                eval_recall_20 = recall_at_k(test_df, top_k_df_20, col_prediction='prediction', k=20)\n",
    "                \n",
    "                # Print intermediate Status for Recall@20\n",
    "                print(\"Recall@20 for Intermediate Dim: \", i, \"Latent Dim: \", l, \"Batch size: \", b, \"Annealing: \", a, \":\\t\", eval_recall_20)\n",
    "                \n",
    "                # Append Lists\n",
    "                recall_10.append(eval_recall_10)\n",
    "                recall_20.append(eval_recall_20)\n",
    "                precision_10.append(eval_precision_10)\n",
    "                precision_20.append(eval_precision_20)\n",
    "                int_dimensions.append(i)\n",
    "                lt_dimensions.append(l)\n",
    "                anneal.append(a)\n",
    "                batch.append(b) "
   ]
  },
  {
   "cell_type": "code",
   "execution_count": 208,
   "metadata": {},
   "outputs": [
    {
     "data": {
      "text/html": [
       "<div>\n",
       "<style scoped>\n",
       "    .dataframe tbody tr th:only-of-type {\n",
       "        vertical-align: middle;\n",
       "    }\n",
       "\n",
       "    .dataframe tbody tr th {\n",
       "        vertical-align: top;\n",
       "    }\n",
       "\n",
       "    .dataframe thead th {\n",
       "        text-align: right;\n",
       "    }\n",
       "</style>\n",
       "<table border=\"1\" class=\"dataframe\">\n",
       "  <thead>\n",
       "    <tr style=\"text-align: right;\">\n",
       "      <th></th>\n",
       "      <th>intermediate_dimensions</th>\n",
       "      <th>latent_dimensions</th>\n",
       "      <th>annealing</th>\n",
       "      <th>batch_size</th>\n",
       "      <th>recall@10</th>\n",
       "      <th>recall@20</th>\n",
       "      <th>precision@10</th>\n",
       "      <th>precision@20</th>\n",
       "    </tr>\n",
       "  </thead>\n",
       "  <tbody>\n",
       "    <tr>\n",
       "      <th>54</th>\n",
       "      <td>800</td>\n",
       "      <td>50</td>\n",
       "      <td>True</td>\n",
       "      <td>50</td>\n",
       "      <td>0.083674</td>\n",
       "      <td>0.128854</td>\n",
       "      <td>0.120400</td>\n",
       "      <td>0.096000</td>\n",
       "    </tr>\n",
       "    <tr>\n",
       "      <th>66</th>\n",
       "      <td>800</td>\n",
       "      <td>90</td>\n",
       "      <td>True</td>\n",
       "      <td>50</td>\n",
       "      <td>0.079555</td>\n",
       "      <td>0.123021</td>\n",
       "      <td>0.116533</td>\n",
       "      <td>0.093333</td>\n",
       "    </tr>\n",
       "    <tr>\n",
       "      <th>67</th>\n",
       "      <td>800</td>\n",
       "      <td>90</td>\n",
       "      <td>False</td>\n",
       "      <td>50</td>\n",
       "      <td>0.076360</td>\n",
       "      <td>0.117688</td>\n",
       "      <td>0.114133</td>\n",
       "      <td>0.091733</td>\n",
       "    </tr>\n",
       "    <tr>\n",
       "      <th>60</th>\n",
       "      <td>800</td>\n",
       "      <td>70</td>\n",
       "      <td>True</td>\n",
       "      <td>50</td>\n",
       "      <td>0.074924</td>\n",
       "      <td>0.119589</td>\n",
       "      <td>0.111733</td>\n",
       "      <td>0.091800</td>\n",
       "    </tr>\n",
       "    <tr>\n",
       "      <th>55</th>\n",
       "      <td>800</td>\n",
       "      <td>50</td>\n",
       "      <td>False</td>\n",
       "      <td>50</td>\n",
       "      <td>0.072336</td>\n",
       "      <td>0.115571</td>\n",
       "      <td>0.108267</td>\n",
       "      <td>0.089867</td>\n",
       "    </tr>\n",
       "    <tr>\n",
       "      <th>...</th>\n",
       "      <td>...</td>\n",
       "      <td>...</td>\n",
       "      <td>...</td>\n",
       "      <td>...</td>\n",
       "      <td>...</td>\n",
       "      <td>...</td>\n",
       "      <td>...</td>\n",
       "      <td>...</td>\n",
       "    </tr>\n",
       "    <tr>\n",
       "      <th>32</th>\n",
       "      <td>400</td>\n",
       "      <td>90</td>\n",
       "      <td>True</td>\n",
       "      <td>100</td>\n",
       "      <td>0.040174</td>\n",
       "      <td>0.068189</td>\n",
       "      <td>0.059333</td>\n",
       "      <td>0.050467</td>\n",
       "    </tr>\n",
       "    <tr>\n",
       "      <th>10</th>\n",
       "      <td>200</td>\n",
       "      <td>70</td>\n",
       "      <td>True</td>\n",
       "      <td>200</td>\n",
       "      <td>0.040044</td>\n",
       "      <td>0.066452</td>\n",
       "      <td>0.057067</td>\n",
       "      <td>0.048333</td>\n",
       "    </tr>\n",
       "    <tr>\n",
       "      <th>70</th>\n",
       "      <td>800</td>\n",
       "      <td>90</td>\n",
       "      <td>True</td>\n",
       "      <td>200</td>\n",
       "      <td>0.039729</td>\n",
       "      <td>0.063743</td>\n",
       "      <td>0.057467</td>\n",
       "      <td>0.047467</td>\n",
       "    </tr>\n",
       "    <tr>\n",
       "      <th>4</th>\n",
       "      <td>200</td>\n",
       "      <td>50</td>\n",
       "      <td>True</td>\n",
       "      <td>200</td>\n",
       "      <td>0.039045</td>\n",
       "      <td>0.063272</td>\n",
       "      <td>0.057333</td>\n",
       "      <td>0.048000</td>\n",
       "    </tr>\n",
       "    <tr>\n",
       "      <th>16</th>\n",
       "      <td>200</td>\n",
       "      <td>90</td>\n",
       "      <td>True</td>\n",
       "      <td>200</td>\n",
       "      <td>0.038365</td>\n",
       "      <td>0.063443</td>\n",
       "      <td>0.056667</td>\n",
       "      <td>0.048000</td>\n",
       "    </tr>\n",
       "  </tbody>\n",
       "</table>\n",
       "<p>72 rows × 8 columns</p>\n",
       "</div>"
      ],
      "text/plain": [
       "    intermediate_dimensions  latent_dimensions  annealing  batch_size  \\\n",
       "54                      800                 50       True          50   \n",
       "66                      800                 90       True          50   \n",
       "67                      800                 90      False          50   \n",
       "60                      800                 70       True          50   \n",
       "55                      800                 50      False          50   \n",
       "..                      ...                ...        ...         ...   \n",
       "32                      400                 90       True         100   \n",
       "10                      200                 70       True         200   \n",
       "70                      800                 90       True         200   \n",
       "4                       200                 50       True         200   \n",
       "16                      200                 90       True         200   \n",
       "\n",
       "    recall@10  recall@20  precision@10  precision@20  \n",
       "54   0.083674   0.128854      0.120400      0.096000  \n",
       "66   0.079555   0.123021      0.116533      0.093333  \n",
       "67   0.076360   0.117688      0.114133      0.091733  \n",
       "60   0.074924   0.119589      0.111733      0.091800  \n",
       "55   0.072336   0.115571      0.108267      0.089867  \n",
       "..        ...        ...           ...           ...  \n",
       "32   0.040174   0.068189      0.059333      0.050467  \n",
       "10   0.040044   0.066452      0.057067      0.048333  \n",
       "70   0.039729   0.063743      0.057467      0.047467  \n",
       "4    0.039045   0.063272      0.057333      0.048000  \n",
       "16   0.038365   0.063443      0.056667      0.048000  \n",
       "\n",
       "[72 rows x 8 columns]"
      ]
     },
     "execution_count": 208,
     "metadata": {},
     "output_type": "execute_result"
    }
   ],
   "source": [
    "# Create Dataframe out of the Results of the Hyperparameter Tuning \n",
    "df_tuning_initial = pd.DataFrame({\n",
    "    \"intermediate_dimensions\": int_dimensions,\n",
    "    \"latent_dimensions\": lt_dimensions,\n",
    "    \"annealing\": anneal,\n",
    "    \"batch_size\": batch,\n",
    "    \"recall@10\": recall_10,\n",
    "    \"recall@20\": recall_20,\n",
    "    \"precision@10\":precision_10,\n",
    "    \"precision@20\":precision_20\n",
    "})\n",
    "# Sort Values by recall@10 \n",
    "df_tuning_initial.sort_values(by='recall@10', ascending=False)"
   ]
  },
  {
   "attachments": {},
   "cell_type": "markdown",
   "metadata": {},
   "source": [
    "# Hyperparameter Tuning 2.0 "
   ]
  },
  {
   "cell_type": "code",
   "execution_count": 209,
   "metadata": {},
   "outputs": [
    {
     "name": "stdout",
     "output_type": "stream",
     "text": [
      "WARNING:tensorflow:Callback method `on_train_batch_end` is slow compared to the batch time (batch time: 0.0299s vs `on_train_batch_end` time: 0.2424s). Check your callbacks.\n"
     ]
    },
    {
     "name": "stderr",
     "output_type": "stream",
     "text": [
      "/Users/arasdirekoglu/opt/anaconda3/envs/recom/lib/python3.9/site-packages/tensorflow/python/keras/engine/training.py:2325: UserWarning: `Model.state_updates` will be removed in a future version. This property should not be used in TensorFlow 2.0, as `updates` are applied automatically.\n",
      "  warnings.warn('`Model.state_updates` will be removed in a future version. '\n"
     ]
    },
    {
     "name": "stdout",
     "output_type": "stream",
     "text": [
      "Recall@10 for Intermediate Dim:  800 Latent Dim:  50 Batch size:  50 Annealing:  True :\t 0.07284098011747614\n",
      "Recall@20 for Intermediate Dim:  800 Latent Dim:  50 Batch size:  50 Annealing:  True :\t 0.1251701478995945\n"
     ]
    },
    {
     "name": "stderr",
     "output_type": "stream",
     "text": [
      "/Users/arasdirekoglu/opt/anaconda3/envs/recom/lib/python3.9/site-packages/tensorflow/python/keras/engine/training.py:2325: UserWarning: `Model.state_updates` will be removed in a future version. This property should not be used in TensorFlow 2.0, as `updates` are applied automatically.\n",
      "  warnings.warn('`Model.state_updates` will be removed in a future version. '\n"
     ]
    },
    {
     "name": "stdout",
     "output_type": "stream",
     "text": [
      "Recall@10 for Intermediate Dim:  800 Latent Dim:  50 Batch size:  50 Annealing:  False :\t 0.08406885229713419\n",
      "Recall@20 for Intermediate Dim:  800 Latent Dim:  50 Batch size:  50 Annealing:  False :\t 0.12381908643951106\n",
      "WARNING:tensorflow:Callback method `on_train_batch_end` is slow compared to the batch time (batch time: 0.0352s vs `on_train_batch_end` time: 0.2650s). Check your callbacks.\n"
     ]
    },
    {
     "name": "stderr",
     "output_type": "stream",
     "text": [
      "/Users/arasdirekoglu/opt/anaconda3/envs/recom/lib/python3.9/site-packages/tensorflow/python/keras/engine/training.py:2325: UserWarning: `Model.state_updates` will be removed in a future version. This property should not be used in TensorFlow 2.0, as `updates` are applied automatically.\n",
      "  warnings.warn('`Model.state_updates` will be removed in a future version. '\n"
     ]
    },
    {
     "name": "stdout",
     "output_type": "stream",
     "text": [
      "Recall@10 for Intermediate Dim:  800 Latent Dim:  90 Batch size:  50 Annealing:  True :\t 0.08038476180269892\n",
      "Recall@20 for Intermediate Dim:  800 Latent Dim:  90 Batch size:  50 Annealing:  True :\t 0.12499237623143938\n"
     ]
    },
    {
     "name": "stderr",
     "output_type": "stream",
     "text": [
      "/Users/arasdirekoglu/opt/anaconda3/envs/recom/lib/python3.9/site-packages/tensorflow/python/keras/engine/training.py:2325: UserWarning: `Model.state_updates` will be removed in a future version. This property should not be used in TensorFlow 2.0, as `updates` are applied automatically.\n",
      "  warnings.warn('`Model.state_updates` will be removed in a future version. '\n"
     ]
    },
    {
     "name": "stdout",
     "output_type": "stream",
     "text": [
      "Recall@10 for Intermediate Dim:  800 Latent Dim:  90 Batch size:  50 Annealing:  False :\t 0.07482161460017368\n",
      "Recall@20 for Intermediate Dim:  800 Latent Dim:  90 Batch size:  50 Annealing:  False :\t 0.11170497374791485\n",
      "WARNING:tensorflow:Callback method `on_train_batch_end` is slow compared to the batch time (batch time: 0.0319s vs `on_train_batch_end` time: 0.2639s). Check your callbacks.\n"
     ]
    },
    {
     "name": "stderr",
     "output_type": "stream",
     "text": [
      "/Users/arasdirekoglu/opt/anaconda3/envs/recom/lib/python3.9/site-packages/tensorflow/python/keras/engine/training.py:2325: UserWarning: `Model.state_updates` will be removed in a future version. This property should not be used in TensorFlow 2.0, as `updates` are applied automatically.\n",
      "  warnings.warn('`Model.state_updates` will be removed in a future version. '\n"
     ]
    },
    {
     "name": "stdout",
     "output_type": "stream",
     "text": [
      "Recall@10 for Intermediate Dim:  800 Latent Dim:  130 Batch size:  50 Annealing:  True :\t 0.07809277529103685\n",
      "Recall@20 for Intermediate Dim:  800 Latent Dim:  130 Batch size:  50 Annealing:  True :\t 0.11669832881957079\n"
     ]
    },
    {
     "name": "stderr",
     "output_type": "stream",
     "text": [
      "/Users/arasdirekoglu/opt/anaconda3/envs/recom/lib/python3.9/site-packages/tensorflow/python/keras/engine/training.py:2325: UserWarning: `Model.state_updates` will be removed in a future version. This property should not be used in TensorFlow 2.0, as `updates` are applied automatically.\n",
      "  warnings.warn('`Model.state_updates` will be removed in a future version. '\n"
     ]
    },
    {
     "name": "stdout",
     "output_type": "stream",
     "text": [
      "Recall@10 for Intermediate Dim:  800 Latent Dim:  130 Batch size:  50 Annealing:  False :\t 0.06496777735475205\n",
      "Recall@20 for Intermediate Dim:  800 Latent Dim:  130 Batch size:  50 Annealing:  False :\t 0.10710913743070964\n",
      "WARNING:tensorflow:Callback method `on_train_batch_end` is slow compared to the batch time (batch time: 0.0322s vs `on_train_batch_end` time: 0.2835s). Check your callbacks.\n"
     ]
    },
    {
     "name": "stderr",
     "output_type": "stream",
     "text": [
      "/Users/arasdirekoglu/opt/anaconda3/envs/recom/lib/python3.9/site-packages/tensorflow/python/keras/engine/training.py:2325: UserWarning: `Model.state_updates` will be removed in a future version. This property should not be used in TensorFlow 2.0, as `updates` are applied automatically.\n",
      "  warnings.warn('`Model.state_updates` will be removed in a future version. '\n"
     ]
    },
    {
     "name": "stdout",
     "output_type": "stream",
     "text": [
      "Recall@10 for Intermediate Dim:  1000 Latent Dim:  50 Batch size:  50 Annealing:  True :\t 0.10838268634390137\n",
      "Recall@20 for Intermediate Dim:  1000 Latent Dim:  50 Batch size:  50 Annealing:  True :\t 0.1611904264102387\n"
     ]
    },
    {
     "name": "stderr",
     "output_type": "stream",
     "text": [
      "/Users/arasdirekoglu/opt/anaconda3/envs/recom/lib/python3.9/site-packages/tensorflow/python/keras/engine/training.py:2325: UserWarning: `Model.state_updates` will be removed in a future version. This property should not be used in TensorFlow 2.0, as `updates` are applied automatically.\n",
      "  warnings.warn('`Model.state_updates` will be removed in a future version. '\n"
     ]
    },
    {
     "name": "stdout",
     "output_type": "stream",
     "text": [
      "Recall@10 for Intermediate Dim:  1000 Latent Dim:  50 Batch size:  50 Annealing:  False :\t 0.07639717329947572\n",
      "Recall@20 for Intermediate Dim:  1000 Latent Dim:  50 Batch size:  50 Annealing:  False :\t 0.13015309924338922\n",
      "WARNING:tensorflow:Callback method `on_train_batch_end` is slow compared to the batch time (batch time: 0.0472s vs `on_train_batch_end` time: 0.2901s). Check your callbacks.\n"
     ]
    },
    {
     "name": "stderr",
     "output_type": "stream",
     "text": [
      "/Users/arasdirekoglu/opt/anaconda3/envs/recom/lib/python3.9/site-packages/tensorflow/python/keras/engine/training.py:2325: UserWarning: `Model.state_updates` will be removed in a future version. This property should not be used in TensorFlow 2.0, as `updates` are applied automatically.\n",
      "  warnings.warn('`Model.state_updates` will be removed in a future version. '\n"
     ]
    },
    {
     "name": "stdout",
     "output_type": "stream",
     "text": [
      "Recall@10 for Intermediate Dim:  1000 Latent Dim:  90 Batch size:  50 Annealing:  True :\t 0.07832136712766681\n",
      "Recall@20 for Intermediate Dim:  1000 Latent Dim:  90 Batch size:  50 Annealing:  True :\t 0.12389651921074214\n"
     ]
    },
    {
     "name": "stderr",
     "output_type": "stream",
     "text": [
      "/Users/arasdirekoglu/opt/anaconda3/envs/recom/lib/python3.9/site-packages/tensorflow/python/keras/engine/training.py:2325: UserWarning: `Model.state_updates` will be removed in a future version. This property should not be used in TensorFlow 2.0, as `updates` are applied automatically.\n",
      "  warnings.warn('`Model.state_updates` will be removed in a future version. '\n"
     ]
    },
    {
     "name": "stdout",
     "output_type": "stream",
     "text": [
      "Recall@10 for Intermediate Dim:  1000 Latent Dim:  90 Batch size:  50 Annealing:  False :\t 0.07299169766827639\n",
      "Recall@20 for Intermediate Dim:  1000 Latent Dim:  90 Batch size:  50 Annealing:  False :\t 0.11392867214243939\n",
      "WARNING:tensorflow:Callback method `on_train_batch_end` is slow compared to the batch time (batch time: 0.0359s vs `on_train_batch_end` time: 0.2806s). Check your callbacks.\n"
     ]
    },
    {
     "name": "stderr",
     "output_type": "stream",
     "text": [
      "/Users/arasdirekoglu/opt/anaconda3/envs/recom/lib/python3.9/site-packages/tensorflow/python/keras/engine/training.py:2325: UserWarning: `Model.state_updates` will be removed in a future version. This property should not be used in TensorFlow 2.0, as `updates` are applied automatically.\n",
      "  warnings.warn('`Model.state_updates` will be removed in a future version. '\n"
     ]
    },
    {
     "name": "stdout",
     "output_type": "stream",
     "text": [
      "Recall@10 for Intermediate Dim:  1000 Latent Dim:  130 Batch size:  50 Annealing:  True :\t 0.07394735116225193\n",
      "Recall@20 for Intermediate Dim:  1000 Latent Dim:  130 Batch size:  50 Annealing:  True :\t 0.11759739405321959\n"
     ]
    },
    {
     "name": "stderr",
     "output_type": "stream",
     "text": [
      "/Users/arasdirekoglu/opt/anaconda3/envs/recom/lib/python3.9/site-packages/tensorflow/python/keras/engine/training.py:2325: UserWarning: `Model.state_updates` will be removed in a future version. This property should not be used in TensorFlow 2.0, as `updates` are applied automatically.\n",
      "  warnings.warn('`Model.state_updates` will be removed in a future version. '\n"
     ]
    },
    {
     "name": "stdout",
     "output_type": "stream",
     "text": [
      "Recall@10 for Intermediate Dim:  1000 Latent Dim:  130 Batch size:  50 Annealing:  False :\t 0.067910131580449\n",
      "Recall@20 for Intermediate Dim:  1000 Latent Dim:  130 Batch size:  50 Annealing:  False :\t 0.11117536402645936\n",
      "WARNING:tensorflow:Callback method `on_train_batch_end` is slow compared to the batch time (batch time: 0.0359s vs `on_train_batch_end` time: 0.2867s). Check your callbacks.\n"
     ]
    },
    {
     "name": "stderr",
     "output_type": "stream",
     "text": [
      "/Users/arasdirekoglu/opt/anaconda3/envs/recom/lib/python3.9/site-packages/tensorflow/python/keras/engine/training.py:2325: UserWarning: `Model.state_updates` will be removed in a future version. This property should not be used in TensorFlow 2.0, as `updates` are applied automatically.\n",
      "  warnings.warn('`Model.state_updates` will be removed in a future version. '\n"
     ]
    },
    {
     "name": "stdout",
     "output_type": "stream",
     "text": [
      "Recall@10 for Intermediate Dim:  1200 Latent Dim:  50 Batch size:  50 Annealing:  True :\t 0.08740766936094879\n",
      "Recall@20 for Intermediate Dim:  1200 Latent Dim:  50 Batch size:  50 Annealing:  True :\t 0.1265567931122643\n"
     ]
    },
    {
     "name": "stderr",
     "output_type": "stream",
     "text": [
      "/Users/arasdirekoglu/opt/anaconda3/envs/recom/lib/python3.9/site-packages/tensorflow/python/keras/engine/training.py:2325: UserWarning: `Model.state_updates` will be removed in a future version. This property should not be used in TensorFlow 2.0, as `updates` are applied automatically.\n",
      "  warnings.warn('`Model.state_updates` will be removed in a future version. '\n"
     ]
    },
    {
     "name": "stdout",
     "output_type": "stream",
     "text": [
      "Recall@10 for Intermediate Dim:  1200 Latent Dim:  50 Batch size:  50 Annealing:  False :\t 0.0787651669570603\n",
      "Recall@20 for Intermediate Dim:  1200 Latent Dim:  50 Batch size:  50 Annealing:  False :\t 0.12353291903989441\n",
      "WARNING:tensorflow:Callback method `on_train_batch_end` is slow compared to the batch time (batch time: 0.0362s vs `on_train_batch_end` time: 0.2965s). Check your callbacks.\n"
     ]
    },
    {
     "name": "stderr",
     "output_type": "stream",
     "text": [
      "/Users/arasdirekoglu/opt/anaconda3/envs/recom/lib/python3.9/site-packages/tensorflow/python/keras/engine/training.py:2325: UserWarning: `Model.state_updates` will be removed in a future version. This property should not be used in TensorFlow 2.0, as `updates` are applied automatically.\n",
      "  warnings.warn('`Model.state_updates` will be removed in a future version. '\n"
     ]
    },
    {
     "name": "stdout",
     "output_type": "stream",
     "text": [
      "Recall@10 for Intermediate Dim:  1200 Latent Dim:  90 Batch size:  50 Annealing:  True :\t 0.08238518000685915\n",
      "Recall@20 for Intermediate Dim:  1200 Latent Dim:  90 Batch size:  50 Annealing:  True :\t 0.12472956206096644\n"
     ]
    },
    {
     "name": "stderr",
     "output_type": "stream",
     "text": [
      "/Users/arasdirekoglu/opt/anaconda3/envs/recom/lib/python3.9/site-packages/tensorflow/python/keras/engine/training.py:2325: UserWarning: `Model.state_updates` will be removed in a future version. This property should not be used in TensorFlow 2.0, as `updates` are applied automatically.\n",
      "  warnings.warn('`Model.state_updates` will be removed in a future version. '\n"
     ]
    },
    {
     "name": "stdout",
     "output_type": "stream",
     "text": [
      "Recall@10 for Intermediate Dim:  1200 Latent Dim:  90 Batch size:  50 Annealing:  False :\t 0.07725546744193146\n",
      "Recall@20 for Intermediate Dim:  1200 Latent Dim:  90 Batch size:  50 Annealing:  False :\t 0.12234051677819507\n",
      "WARNING:tensorflow:Callback method `on_train_batch_end` is slow compared to the batch time (batch time: 0.0368s vs `on_train_batch_end` time: 0.3042s). Check your callbacks.\n"
     ]
    },
    {
     "name": "stderr",
     "output_type": "stream",
     "text": [
      "/Users/arasdirekoglu/opt/anaconda3/envs/recom/lib/python3.9/site-packages/tensorflow/python/keras/engine/training.py:2325: UserWarning: `Model.state_updates` will be removed in a future version. This property should not be used in TensorFlow 2.0, as `updates` are applied automatically.\n",
      "  warnings.warn('`Model.state_updates` will be removed in a future version. '\n"
     ]
    },
    {
     "name": "stdout",
     "output_type": "stream",
     "text": [
      "Recall@10 for Intermediate Dim:  1200 Latent Dim:  130 Batch size:  50 Annealing:  True :\t 0.07661458334768408\n",
      "Recall@20 for Intermediate Dim:  1200 Latent Dim:  130 Batch size:  50 Annealing:  True :\t 0.12386221238541108\n"
     ]
    },
    {
     "name": "stderr",
     "output_type": "stream",
     "text": [
      "/Users/arasdirekoglu/opt/anaconda3/envs/recom/lib/python3.9/site-packages/tensorflow/python/keras/engine/training.py:2325: UserWarning: `Model.state_updates` will be removed in a future version. This property should not be used in TensorFlow 2.0, as `updates` are applied automatically.\n",
      "  warnings.warn('`Model.state_updates` will be removed in a future version. '\n"
     ]
    },
    {
     "name": "stdout",
     "output_type": "stream",
     "text": [
      "Recall@10 for Intermediate Dim:  1200 Latent Dim:  130 Batch size:  50 Annealing:  False :\t 0.06901736388430982\n",
      "Recall@20 for Intermediate Dim:  1200 Latent Dim:  130 Batch size:  50 Annealing:  False :\t 0.11193213381571634\n",
      "WARNING:tensorflow:Callback method `on_train_batch_end` is slow compared to the batch time (batch time: 0.0396s vs `on_train_batch_end` time: 0.3089s). Check your callbacks.\n"
     ]
    },
    {
     "name": "stderr",
     "output_type": "stream",
     "text": [
      "/Users/arasdirekoglu/opt/anaconda3/envs/recom/lib/python3.9/site-packages/tensorflow/python/keras/engine/training.py:2325: UserWarning: `Model.state_updates` will be removed in a future version. This property should not be used in TensorFlow 2.0, as `updates` are applied automatically.\n",
      "  warnings.warn('`Model.state_updates` will be removed in a future version. '\n"
     ]
    },
    {
     "name": "stdout",
     "output_type": "stream",
     "text": [
      "Recall@10 for Intermediate Dim:  1400 Latent Dim:  50 Batch size:  50 Annealing:  True :\t 0.07759156109134872\n",
      "Recall@20 for Intermediate Dim:  1400 Latent Dim:  50 Batch size:  50 Annealing:  True :\t 0.12743502603899765\n"
     ]
    },
    {
     "name": "stderr",
     "output_type": "stream",
     "text": [
      "/Users/arasdirekoglu/opt/anaconda3/envs/recom/lib/python3.9/site-packages/tensorflow/python/keras/engine/training.py:2325: UserWarning: `Model.state_updates` will be removed in a future version. This property should not be used in TensorFlow 2.0, as `updates` are applied automatically.\n",
      "  warnings.warn('`Model.state_updates` will be removed in a future version. '\n"
     ]
    },
    {
     "name": "stdout",
     "output_type": "stream",
     "text": [
      "Recall@10 for Intermediate Dim:  1400 Latent Dim:  50 Batch size:  50 Annealing:  False :\t 0.07800999934557988\n",
      "Recall@20 for Intermediate Dim:  1400 Latent Dim:  50 Batch size:  50 Annealing:  False :\t 0.12038409232735608\n",
      "WARNING:tensorflow:Callback method `on_train_batch_end` is slow compared to the batch time (batch time: 0.0412s vs `on_train_batch_end` time: 0.3158s). Check your callbacks.\n"
     ]
    },
    {
     "name": "stderr",
     "output_type": "stream",
     "text": [
      "/Users/arasdirekoglu/opt/anaconda3/envs/recom/lib/python3.9/site-packages/tensorflow/python/keras/engine/training.py:2325: UserWarning: `Model.state_updates` will be removed in a future version. This property should not be used in TensorFlow 2.0, as `updates` are applied automatically.\n",
      "  warnings.warn('`Model.state_updates` will be removed in a future version. '\n"
     ]
    },
    {
     "name": "stdout",
     "output_type": "stream",
     "text": [
      "Recall@10 for Intermediate Dim:  1400 Latent Dim:  90 Batch size:  50 Annealing:  True :\t 0.07511047313333549\n",
      "Recall@20 for Intermediate Dim:  1400 Latent Dim:  90 Batch size:  50 Annealing:  True :\t 0.126682028361388\n"
     ]
    },
    {
     "name": "stderr",
     "output_type": "stream",
     "text": [
      "/Users/arasdirekoglu/opt/anaconda3/envs/recom/lib/python3.9/site-packages/tensorflow/python/keras/engine/training.py:2325: UserWarning: `Model.state_updates` will be removed in a future version. This property should not be used in TensorFlow 2.0, as `updates` are applied automatically.\n",
      "  warnings.warn('`Model.state_updates` will be removed in a future version. '\n"
     ]
    },
    {
     "name": "stdout",
     "output_type": "stream",
     "text": [
      "Recall@10 for Intermediate Dim:  1400 Latent Dim:  90 Batch size:  50 Annealing:  False :\t 0.0801991109622619\n",
      "Recall@20 for Intermediate Dim:  1400 Latent Dim:  90 Batch size:  50 Annealing:  False :\t 0.11898416787958989\n",
      "WARNING:tensorflow:Callback method `on_train_batch_end` is slow compared to the batch time (batch time: 0.0457s vs `on_train_batch_end` time: 0.3258s). Check your callbacks.\n"
     ]
    },
    {
     "name": "stderr",
     "output_type": "stream",
     "text": [
      "/Users/arasdirekoglu/opt/anaconda3/envs/recom/lib/python3.9/site-packages/tensorflow/python/keras/engine/training.py:2325: UserWarning: `Model.state_updates` will be removed in a future version. This property should not be used in TensorFlow 2.0, as `updates` are applied automatically.\n",
      "  warnings.warn('`Model.state_updates` will be removed in a future version. '\n"
     ]
    },
    {
     "name": "stdout",
     "output_type": "stream",
     "text": [
      "Recall@10 for Intermediate Dim:  1400 Latent Dim:  130 Batch size:  50 Annealing:  True :\t 0.07529397105671885\n",
      "Recall@20 for Intermediate Dim:  1400 Latent Dim:  130 Batch size:  50 Annealing:  True :\t 0.1172854072608775\n"
     ]
    },
    {
     "name": "stderr",
     "output_type": "stream",
     "text": [
      "/Users/arasdirekoglu/opt/anaconda3/envs/recom/lib/python3.9/site-packages/tensorflow/python/keras/engine/training.py:2325: UserWarning: `Model.state_updates` will be removed in a future version. This property should not be used in TensorFlow 2.0, as `updates` are applied automatically.\n",
      "  warnings.warn('`Model.state_updates` will be removed in a future version. '\n"
     ]
    },
    {
     "name": "stdout",
     "output_type": "stream",
     "text": [
      "Recall@10 for Intermediate Dim:  1400 Latent Dim:  130 Batch size:  50 Annealing:  False :\t 0.07327202009556123\n",
      "Recall@20 for Intermediate Dim:  1400 Latent Dim:  130 Batch size:  50 Annealing:  False :\t 0.10973501022769858\n"
     ]
    }
   ],
   "source": [
    "# Set up Parameters\n",
    "intermediate_dimension = [800, 1000, 1200, 1400] \n",
    "latent_dimension = [50, 90, 130] \n",
    "batch_sizes = [50]\n",
    "anneal_status = [True, False]\n",
    "\n",
    "# Initiate Lists for Assessment\n",
    "recall_10 = []\n",
    "recall_20 = []\n",
    "precision_10 = []\n",
    "precision_20 = []\n",
    "int_dimensions = []\n",
    "lt_dimensions = []\n",
    "anneal = []\n",
    "batch = []\n",
    "\n",
    "for i in intermediate_dimension:\n",
    "    for l in latent_dimension:\n",
    "        for b in batch_sizes:\n",
    "            for a in anneal_status:\n",
    "                try:\n",
    "                    del(model)\n",
    "                except:\n",
    "                    pass\n",
    "                \n",
    "                # Initiate Model \n",
    "                if a == True:\n",
    "                    model = StandardVAE(n_users=train_data.shape[0],\n",
    "                                        original_dim=train_data.shape[1],\n",
    "                                        intermediate_dim=i,\n",
    "                                        latent_dim=l,\n",
    "                                        n_epochs=100,\n",
    "                                        batch_size=b,\n",
    "                                        k=100,\n",
    "                                        verbose=0,\n",
    "                                        seed=1,\n",
    "                                        save_path=WEIGHTS_PATH,\n",
    "                                        drop_encoder=0.5,\n",
    "                                        drop_decoder=0.5,\n",
    "                                        annealing=True,\n",
    "                                        anneal_cap=1.0)\n",
    "                else:\n",
    "                    model = StandardVAE(n_users=train_data.shape[0], # Number of unique users in the training set\n",
    "                                        original_dim=train_data.shape[1], # Number of unique items in the training set\n",
    "                                        intermediate_dim=i, \n",
    "                                        latent_dim=l, \n",
    "                                        n_epochs=100, \n",
    "                                        batch_size=b, \n",
    "                                        k=100,\n",
    "                                        verbose=0,\n",
    "                                        seed=1,\n",
    "                                        drop_encoder=0.5,\n",
    "                                        drop_decoder=0.5,\n",
    "                                        annealing=False,\n",
    "                                        beta=1.0,\n",
    "                                        save_path=WEIGHTS_PATH)\n",
    "                \n",
    "                # Fit model\n",
    "                model.fit(x_train=train_data,\n",
    "                        x_valid=val_data,\n",
    "                        x_val_tr=val_data_tr,\n",
    "                        x_val_te=val_data_te_ratings,\n",
    "                        mapper=am_val)\n",
    "            \n",
    "                # Model prediction on the training part of test set K = 10  \n",
    "                top_k_10 =  model.recommend_k_items(x=test_data_tr,\n",
    "                                                    k=10,\n",
    "                                                    remove_seen=True)\n",
    "\n",
    "                # Convert sparse matrix back to df\n",
    "                top_k_df_10 = am_test.map_back_sparse(top_k_10, kind='prediction')\n",
    "                test_df = am_test.map_back_sparse(test_data_te_ratings, kind='ratings') # use test_data_te_, with the original ratings\n",
    "    \n",
    "\n",
    "                # Use the ranking metrics for evaluation\n",
    "                eval_precision_10 = precision_at_k(test_df, top_k_df_10, col_prediction='prediction', k=10)\n",
    "                eval_recall_10 = recall_at_k(test_df, top_k_df_10, col_prediction='prediction', k=10)\n",
    "\n",
    "                # Print intermediate Status for Recall@10\n",
    "                print(\"Recall@10 for Intermediate Dim: \", i, \"Latent Dim: \", l, \"Batch size: \", b, \"Annealing: \", a, \":\\t\", eval_recall_10)\n",
    "                \n",
    "                #Model prediction on the training part of test set K = 20  \n",
    "                top_k_20 =  model.recommend_k_items(x=test_data_tr,\n",
    "                                                    k=20,\n",
    "                                                    remove_seen=True)\n",
    "\n",
    "                # Convert sparse matrix back to df\n",
    "                top_k_df_20 = am_test.map_back_sparse(top_k_20, kind='prediction')\n",
    "    \n",
    "\n",
    "                # Use the ranking metrics for evaluation\n",
    "                eval_precision_20 = precision_at_k(test_df, top_k_df_20, col_prediction='prediction', k=20)\n",
    "                eval_recall_20 = recall_at_k(test_df, top_k_df_20, col_prediction='prediction', k=20)\n",
    "                \n",
    "                # Print intermediate Status for Recall@20\n",
    "                print(\"Recall@20 for Intermediate Dim: \", i, \"Latent Dim: \", l, \"Batch size: \", b, \"Annealing: \", a, \":\\t\", eval_recall_20)\n",
    "                \n",
    "                # Append Lists\n",
    "                recall_10.append(eval_recall_10)\n",
    "                recall_20.append(eval_recall_20)\n",
    "                precision_10.append(eval_precision_10)\n",
    "                precision_20.append(eval_precision_20)\n",
    "                int_dimensions.append(i)\n",
    "                lt_dimensions.append(l)\n",
    "                anneal.append(a)\n",
    "                batch.append(b) "
   ]
  },
  {
   "cell_type": "code",
   "execution_count": 210,
   "metadata": {},
   "outputs": [
    {
     "data": {
      "text/html": [
       "<div>\n",
       "<style scoped>\n",
       "    .dataframe tbody tr th:only-of-type {\n",
       "        vertical-align: middle;\n",
       "    }\n",
       "\n",
       "    .dataframe tbody tr th {\n",
       "        vertical-align: top;\n",
       "    }\n",
       "\n",
       "    .dataframe thead th {\n",
       "        text-align: right;\n",
       "    }\n",
       "</style>\n",
       "<table border=\"1\" class=\"dataframe\">\n",
       "  <thead>\n",
       "    <tr style=\"text-align: right;\">\n",
       "      <th></th>\n",
       "      <th>intermediate_dimensions</th>\n",
       "      <th>latent_dimensions</th>\n",
       "      <th>annealing</th>\n",
       "      <th>batch_size</th>\n",
       "      <th>recall@10</th>\n",
       "      <th>recall@20</th>\n",
       "      <th>precision@10</th>\n",
       "      <th>precision@20</th>\n",
       "    </tr>\n",
       "  </thead>\n",
       "  <tbody>\n",
       "    <tr>\n",
       "      <th>6</th>\n",
       "      <td>1000</td>\n",
       "      <td>50</td>\n",
       "      <td>True</td>\n",
       "      <td>50</td>\n",
       "      <td>0.108383</td>\n",
       "      <td>0.161190</td>\n",
       "      <td>0.145600</td>\n",
       "      <td>0.112800</td>\n",
       "    </tr>\n",
       "    <tr>\n",
       "      <th>12</th>\n",
       "      <td>1200</td>\n",
       "      <td>50</td>\n",
       "      <td>True</td>\n",
       "      <td>50</td>\n",
       "      <td>0.087408</td>\n",
       "      <td>0.126557</td>\n",
       "      <td>0.128267</td>\n",
       "      <td>0.098400</td>\n",
       "    </tr>\n",
       "    <tr>\n",
       "      <th>1</th>\n",
       "      <td>800</td>\n",
       "      <td>50</td>\n",
       "      <td>False</td>\n",
       "      <td>50</td>\n",
       "      <td>0.084069</td>\n",
       "      <td>0.123819</td>\n",
       "      <td>0.121467</td>\n",
       "      <td>0.095200</td>\n",
       "    </tr>\n",
       "    <tr>\n",
       "      <th>14</th>\n",
       "      <td>1200</td>\n",
       "      <td>90</td>\n",
       "      <td>True</td>\n",
       "      <td>50</td>\n",
       "      <td>0.082385</td>\n",
       "      <td>0.124730</td>\n",
       "      <td>0.118133</td>\n",
       "      <td>0.093267</td>\n",
       "    </tr>\n",
       "    <tr>\n",
       "      <th>2</th>\n",
       "      <td>800</td>\n",
       "      <td>90</td>\n",
       "      <td>True</td>\n",
       "      <td>50</td>\n",
       "      <td>0.080385</td>\n",
       "      <td>0.124992</td>\n",
       "      <td>0.114400</td>\n",
       "      <td>0.093600</td>\n",
       "    </tr>\n",
       "    <tr>\n",
       "      <th>21</th>\n",
       "      <td>1400</td>\n",
       "      <td>90</td>\n",
       "      <td>False</td>\n",
       "      <td>50</td>\n",
       "      <td>0.080199</td>\n",
       "      <td>0.118984</td>\n",
       "      <td>0.121733</td>\n",
       "      <td>0.094800</td>\n",
       "    </tr>\n",
       "    <tr>\n",
       "      <th>13</th>\n",
       "      <td>1200</td>\n",
       "      <td>50</td>\n",
       "      <td>False</td>\n",
       "      <td>50</td>\n",
       "      <td>0.078765</td>\n",
       "      <td>0.123533</td>\n",
       "      <td>0.123733</td>\n",
       "      <td>0.096000</td>\n",
       "    </tr>\n",
       "    <tr>\n",
       "      <th>8</th>\n",
       "      <td>1000</td>\n",
       "      <td>90</td>\n",
       "      <td>True</td>\n",
       "      <td>50</td>\n",
       "      <td>0.078321</td>\n",
       "      <td>0.123897</td>\n",
       "      <td>0.115467</td>\n",
       "      <td>0.093800</td>\n",
       "    </tr>\n",
       "    <tr>\n",
       "      <th>4</th>\n",
       "      <td>800</td>\n",
       "      <td>130</td>\n",
       "      <td>True</td>\n",
       "      <td>50</td>\n",
       "      <td>0.078093</td>\n",
       "      <td>0.116698</td>\n",
       "      <td>0.114400</td>\n",
       "      <td>0.091067</td>\n",
       "    </tr>\n",
       "    <tr>\n",
       "      <th>19</th>\n",
       "      <td>1400</td>\n",
       "      <td>50</td>\n",
       "      <td>False</td>\n",
       "      <td>50</td>\n",
       "      <td>0.078010</td>\n",
       "      <td>0.120384</td>\n",
       "      <td>0.124933</td>\n",
       "      <td>0.097667</td>\n",
       "    </tr>\n",
       "    <tr>\n",
       "      <th>18</th>\n",
       "      <td>1400</td>\n",
       "      <td>50</td>\n",
       "      <td>True</td>\n",
       "      <td>50</td>\n",
       "      <td>0.077592</td>\n",
       "      <td>0.127435</td>\n",
       "      <td>0.119067</td>\n",
       "      <td>0.097467</td>\n",
       "    </tr>\n",
       "    <tr>\n",
       "      <th>15</th>\n",
       "      <td>1200</td>\n",
       "      <td>90</td>\n",
       "      <td>False</td>\n",
       "      <td>50</td>\n",
       "      <td>0.077255</td>\n",
       "      <td>0.122341</td>\n",
       "      <td>0.119467</td>\n",
       "      <td>0.092133</td>\n",
       "    </tr>\n",
       "    <tr>\n",
       "      <th>16</th>\n",
       "      <td>1200</td>\n",
       "      <td>130</td>\n",
       "      <td>True</td>\n",
       "      <td>50</td>\n",
       "      <td>0.076615</td>\n",
       "      <td>0.123862</td>\n",
       "      <td>0.117067</td>\n",
       "      <td>0.096533</td>\n",
       "    </tr>\n",
       "    <tr>\n",
       "      <th>7</th>\n",
       "      <td>1000</td>\n",
       "      <td>50</td>\n",
       "      <td>False</td>\n",
       "      <td>50</td>\n",
       "      <td>0.076397</td>\n",
       "      <td>0.130153</td>\n",
       "      <td>0.120133</td>\n",
       "      <td>0.100733</td>\n",
       "    </tr>\n",
       "    <tr>\n",
       "      <th>22</th>\n",
       "      <td>1400</td>\n",
       "      <td>130</td>\n",
       "      <td>True</td>\n",
       "      <td>50</td>\n",
       "      <td>0.075294</td>\n",
       "      <td>0.117285</td>\n",
       "      <td>0.114667</td>\n",
       "      <td>0.090267</td>\n",
       "    </tr>\n",
       "    <tr>\n",
       "      <th>20</th>\n",
       "      <td>1400</td>\n",
       "      <td>90</td>\n",
       "      <td>True</td>\n",
       "      <td>50</td>\n",
       "      <td>0.075110</td>\n",
       "      <td>0.126682</td>\n",
       "      <td>0.117067</td>\n",
       "      <td>0.094733</td>\n",
       "    </tr>\n",
       "    <tr>\n",
       "      <th>3</th>\n",
       "      <td>800</td>\n",
       "      <td>90</td>\n",
       "      <td>False</td>\n",
       "      <td>50</td>\n",
       "      <td>0.074822</td>\n",
       "      <td>0.111705</td>\n",
       "      <td>0.110400</td>\n",
       "      <td>0.087133</td>\n",
       "    </tr>\n",
       "    <tr>\n",
       "      <th>10</th>\n",
       "      <td>1000</td>\n",
       "      <td>130</td>\n",
       "      <td>True</td>\n",
       "      <td>50</td>\n",
       "      <td>0.073947</td>\n",
       "      <td>0.117597</td>\n",
       "      <td>0.113600</td>\n",
       "      <td>0.089600</td>\n",
       "    </tr>\n",
       "    <tr>\n",
       "      <th>23</th>\n",
       "      <td>1400</td>\n",
       "      <td>130</td>\n",
       "      <td>False</td>\n",
       "      <td>50</td>\n",
       "      <td>0.073272</td>\n",
       "      <td>0.109735</td>\n",
       "      <td>0.113200</td>\n",
       "      <td>0.090000</td>\n",
       "    </tr>\n",
       "    <tr>\n",
       "      <th>9</th>\n",
       "      <td>1000</td>\n",
       "      <td>90</td>\n",
       "      <td>False</td>\n",
       "      <td>50</td>\n",
       "      <td>0.072992</td>\n",
       "      <td>0.113929</td>\n",
       "      <td>0.106400</td>\n",
       "      <td>0.087067</td>\n",
       "    </tr>\n",
       "    <tr>\n",
       "      <th>0</th>\n",
       "      <td>800</td>\n",
       "      <td>50</td>\n",
       "      <td>True</td>\n",
       "      <td>50</td>\n",
       "      <td>0.072841</td>\n",
       "      <td>0.125170</td>\n",
       "      <td>0.112000</td>\n",
       "      <td>0.091867</td>\n",
       "    </tr>\n",
       "    <tr>\n",
       "      <th>17</th>\n",
       "      <td>1200</td>\n",
       "      <td>130</td>\n",
       "      <td>False</td>\n",
       "      <td>50</td>\n",
       "      <td>0.069017</td>\n",
       "      <td>0.111932</td>\n",
       "      <td>0.110267</td>\n",
       "      <td>0.090000</td>\n",
       "    </tr>\n",
       "    <tr>\n",
       "      <th>11</th>\n",
       "      <td>1000</td>\n",
       "      <td>130</td>\n",
       "      <td>False</td>\n",
       "      <td>50</td>\n",
       "      <td>0.067910</td>\n",
       "      <td>0.111175</td>\n",
       "      <td>0.106400</td>\n",
       "      <td>0.087333</td>\n",
       "    </tr>\n",
       "    <tr>\n",
       "      <th>5</th>\n",
       "      <td>800</td>\n",
       "      <td>130</td>\n",
       "      <td>False</td>\n",
       "      <td>50</td>\n",
       "      <td>0.064968</td>\n",
       "      <td>0.107109</td>\n",
       "      <td>0.102933</td>\n",
       "      <td>0.083000</td>\n",
       "    </tr>\n",
       "  </tbody>\n",
       "</table>\n",
       "</div>"
      ],
      "text/plain": [
       "    intermediate_dimensions  latent_dimensions  annealing  batch_size  \\\n",
       "6                      1000                 50       True          50   \n",
       "12                     1200                 50       True          50   \n",
       "1                       800                 50      False          50   \n",
       "14                     1200                 90       True          50   \n",
       "2                       800                 90       True          50   \n",
       "21                     1400                 90      False          50   \n",
       "13                     1200                 50      False          50   \n",
       "8                      1000                 90       True          50   \n",
       "4                       800                130       True          50   \n",
       "19                     1400                 50      False          50   \n",
       "18                     1400                 50       True          50   \n",
       "15                     1200                 90      False          50   \n",
       "16                     1200                130       True          50   \n",
       "7                      1000                 50      False          50   \n",
       "22                     1400                130       True          50   \n",
       "20                     1400                 90       True          50   \n",
       "3                       800                 90      False          50   \n",
       "10                     1000                130       True          50   \n",
       "23                     1400                130      False          50   \n",
       "9                      1000                 90      False          50   \n",
       "0                       800                 50       True          50   \n",
       "17                     1200                130      False          50   \n",
       "11                     1000                130      False          50   \n",
       "5                       800                130      False          50   \n",
       "\n",
       "    recall@10  recall@20  precision@10  precision@20  \n",
       "6    0.108383   0.161190      0.145600      0.112800  \n",
       "12   0.087408   0.126557      0.128267      0.098400  \n",
       "1    0.084069   0.123819      0.121467      0.095200  \n",
       "14   0.082385   0.124730      0.118133      0.093267  \n",
       "2    0.080385   0.124992      0.114400      0.093600  \n",
       "21   0.080199   0.118984      0.121733      0.094800  \n",
       "13   0.078765   0.123533      0.123733      0.096000  \n",
       "8    0.078321   0.123897      0.115467      0.093800  \n",
       "4    0.078093   0.116698      0.114400      0.091067  \n",
       "19   0.078010   0.120384      0.124933      0.097667  \n",
       "18   0.077592   0.127435      0.119067      0.097467  \n",
       "15   0.077255   0.122341      0.119467      0.092133  \n",
       "16   0.076615   0.123862      0.117067      0.096533  \n",
       "7    0.076397   0.130153      0.120133      0.100733  \n",
       "22   0.075294   0.117285      0.114667      0.090267  \n",
       "20   0.075110   0.126682      0.117067      0.094733  \n",
       "3    0.074822   0.111705      0.110400      0.087133  \n",
       "10   0.073947   0.117597      0.113600      0.089600  \n",
       "23   0.073272   0.109735      0.113200      0.090000  \n",
       "9    0.072992   0.113929      0.106400      0.087067  \n",
       "0    0.072841   0.125170      0.112000      0.091867  \n",
       "17   0.069017   0.111932      0.110267      0.090000  \n",
       "11   0.067910   0.111175      0.106400      0.087333  \n",
       "5    0.064968   0.107109      0.102933      0.083000  "
      ]
     },
     "execution_count": 210,
     "metadata": {},
     "output_type": "execute_result"
    }
   ],
   "source": [
    "# Create Dataframe out of the Results of the Hyperparameter Tuning \n",
    "df_tuning_2 = pd.DataFrame({\n",
    "    \"intermediate_dimensions\": int_dimensions,\n",
    "    \"latent_dimensions\": lt_dimensions,\n",
    "    \"annealing\": anneal,\n",
    "    \"batch_size\": batch,\n",
    "    \"recall@10\": recall_10,\n",
    "    \"recall@20\": recall_20,\n",
    "    \"precision@10\":precision_10,\n",
    "    \"precision@20\":precision_20\n",
    "})\n",
    "# Sort Values by recall@10 \n",
    "df_tuning_2.sort_values(by='recall@10', ascending=False)"
   ]
  },
  {
   "attachments": {},
   "cell_type": "markdown",
   "metadata": {},
   "source": [
    "# Hyperparameter Tuning 3.0"
   ]
  },
  {
   "cell_type": "code",
   "execution_count": 214,
   "metadata": {},
   "outputs": [
    {
     "name": "stdout",
     "output_type": "stream",
     "text": [
      "WARNING:tensorflow:Callback method `on_train_batch_end` is slow compared to the batch time (batch time: 0.0380s vs `on_train_batch_end` time: 0.3729s). Check your callbacks.\n"
     ]
    },
    {
     "name": "stderr",
     "output_type": "stream",
     "text": [
      "/Users/arasdirekoglu/opt/anaconda3/envs/recom/lib/python3.9/site-packages/tensorflow/python/keras/engine/training.py:2325: UserWarning: `Model.state_updates` will be removed in a future version. This property should not be used in TensorFlow 2.0, as `updates` are applied automatically.\n",
      "  warnings.warn('`Model.state_updates` will be removed in a future version. '\n"
     ]
    },
    {
     "name": "stdout",
     "output_type": "stream",
     "text": [
      "Recall@10 for Intermediate Dim:  900 Latent Dim:  40 Batch size:  50 Annealing:  True :\t 0.09778663852780246\n",
      "Recall@20 for Intermediate Dim:  900 Latent Dim:  40 Batch size:  50 Annealing:  True :\t 0.15699329105458495\n"
     ]
    },
    {
     "name": "stderr",
     "output_type": "stream",
     "text": [
      "/Users/arasdirekoglu/opt/anaconda3/envs/recom/lib/python3.9/site-packages/tensorflow/python/keras/engine/training.py:2325: UserWarning: `Model.state_updates` will be removed in a future version. This property should not be used in TensorFlow 2.0, as `updates` are applied automatically.\n",
      "  warnings.warn('`Model.state_updates` will be removed in a future version. '\n"
     ]
    },
    {
     "name": "stdout",
     "output_type": "stream",
     "text": [
      "Recall@10 for Intermediate Dim:  900 Latent Dim:  40 Batch size:  50 Annealing:  False :\t 0.07866774415797209\n",
      "Recall@20 for Intermediate Dim:  900 Latent Dim:  40 Batch size:  50 Annealing:  False :\t 0.1235976455355049\n",
      "WARNING:tensorflow:Callback method `on_train_batch_end` is slow compared to the batch time (batch time: 0.0324s vs `on_train_batch_end` time: 0.3651s). Check your callbacks.\n"
     ]
    },
    {
     "name": "stderr",
     "output_type": "stream",
     "text": [
      "/Users/arasdirekoglu/opt/anaconda3/envs/recom/lib/python3.9/site-packages/tensorflow/python/keras/engine/training.py:2325: UserWarning: `Model.state_updates` will be removed in a future version. This property should not be used in TensorFlow 2.0, as `updates` are applied automatically.\n",
      "  warnings.warn('`Model.state_updates` will be removed in a future version. '\n"
     ]
    },
    {
     "name": "stdout",
     "output_type": "stream",
     "text": [
      "Recall@10 for Intermediate Dim:  900 Latent Dim:  50 Batch size:  50 Annealing:  True :\t 0.08459723372184358\n",
      "Recall@20 for Intermediate Dim:  900 Latent Dim:  50 Batch size:  50 Annealing:  True :\t 0.12701711786599482\n"
     ]
    },
    {
     "name": "stderr",
     "output_type": "stream",
     "text": [
      "/Users/arasdirekoglu/opt/anaconda3/envs/recom/lib/python3.9/site-packages/tensorflow/python/keras/engine/training.py:2325: UserWarning: `Model.state_updates` will be removed in a future version. This property should not be used in TensorFlow 2.0, as `updates` are applied automatically.\n",
      "  warnings.warn('`Model.state_updates` will be removed in a future version. '\n"
     ]
    },
    {
     "name": "stdout",
     "output_type": "stream",
     "text": [
      "Recall@10 for Intermediate Dim:  900 Latent Dim:  50 Batch size:  50 Annealing:  False :\t 0.07286493954416427\n",
      "Recall@20 for Intermediate Dim:  900 Latent Dim:  50 Batch size:  50 Annealing:  False :\t 0.12545747502769716\n",
      "WARNING:tensorflow:Callback method `on_train_batch_end` is slow compared to the batch time (batch time: 0.0285s vs `on_train_batch_end` time: 0.3317s). Check your callbacks.\n"
     ]
    },
    {
     "name": "stderr",
     "output_type": "stream",
     "text": [
      "/Users/arasdirekoglu/opt/anaconda3/envs/recom/lib/python3.9/site-packages/tensorflow/python/keras/engine/training.py:2325: UserWarning: `Model.state_updates` will be removed in a future version. This property should not be used in TensorFlow 2.0, as `updates` are applied automatically.\n",
      "  warnings.warn('`Model.state_updates` will be removed in a future version. '\n"
     ]
    },
    {
     "name": "stdout",
     "output_type": "stream",
     "text": [
      "Recall@10 for Intermediate Dim:  900 Latent Dim:  60 Batch size:  50 Annealing:  True :\t 0.08520804286381069\n",
      "Recall@20 for Intermediate Dim:  900 Latent Dim:  60 Batch size:  50 Annealing:  True :\t 0.13362715456788937\n"
     ]
    },
    {
     "name": "stderr",
     "output_type": "stream",
     "text": [
      "/Users/arasdirekoglu/opt/anaconda3/envs/recom/lib/python3.9/site-packages/tensorflow/python/keras/engine/training.py:2325: UserWarning: `Model.state_updates` will be removed in a future version. This property should not be used in TensorFlow 2.0, as `updates` are applied automatically.\n",
      "  warnings.warn('`Model.state_updates` will be removed in a future version. '\n"
     ]
    },
    {
     "name": "stdout",
     "output_type": "stream",
     "text": [
      "Recall@10 for Intermediate Dim:  900 Latent Dim:  60 Batch size:  50 Annealing:  False :\t 0.08037249020036943\n",
      "Recall@20 for Intermediate Dim:  900 Latent Dim:  60 Batch size:  50 Annealing:  False :\t 0.11839337262096003\n",
      "WARNING:tensorflow:Callback method `on_train_batch_end` is slow compared to the batch time (batch time: 0.0326s vs `on_train_batch_end` time: 0.3502s). Check your callbacks.\n"
     ]
    },
    {
     "name": "stderr",
     "output_type": "stream",
     "text": [
      "/Users/arasdirekoglu/opt/anaconda3/envs/recom/lib/python3.9/site-packages/tensorflow/python/keras/engine/training.py:2325: UserWarning: `Model.state_updates` will be removed in a future version. This property should not be used in TensorFlow 2.0, as `updates` are applied automatically.\n",
      "  warnings.warn('`Model.state_updates` will be removed in a future version. '\n"
     ]
    },
    {
     "name": "stdout",
     "output_type": "stream",
     "text": [
      "Recall@10 for Intermediate Dim:  1000 Latent Dim:  40 Batch size:  50 Annealing:  True :\t 0.10539193693228896\n",
      "Recall@20 for Intermediate Dim:  1000 Latent Dim:  40 Batch size:  50 Annealing:  True :\t 0.14410656252029413\n"
     ]
    },
    {
     "name": "stderr",
     "output_type": "stream",
     "text": [
      "/Users/arasdirekoglu/opt/anaconda3/envs/recom/lib/python3.9/site-packages/tensorflow/python/keras/engine/training.py:2325: UserWarning: `Model.state_updates` will be removed in a future version. This property should not be used in TensorFlow 2.0, as `updates` are applied automatically.\n",
      "  warnings.warn('`Model.state_updates` will be removed in a future version. '\n"
     ]
    },
    {
     "name": "stdout",
     "output_type": "stream",
     "text": [
      "Recall@10 for Intermediate Dim:  1000 Latent Dim:  40 Batch size:  50 Annealing:  False :\t 0.08059246004401706\n",
      "Recall@20 for Intermediate Dim:  1000 Latent Dim:  40 Batch size:  50 Annealing:  False :\t 0.12314703753921785\n",
      "WARNING:tensorflow:Callback method `on_train_batch_end` is slow compared to the batch time (batch time: 0.0343s vs `on_train_batch_end` time: 0.3737s). Check your callbacks.\n"
     ]
    },
    {
     "name": "stderr",
     "output_type": "stream",
     "text": [
      "/Users/arasdirekoglu/opt/anaconda3/envs/recom/lib/python3.9/site-packages/tensorflow/python/keras/engine/training.py:2325: UserWarning: `Model.state_updates` will be removed in a future version. This property should not be used in TensorFlow 2.0, as `updates` are applied automatically.\n",
      "  warnings.warn('`Model.state_updates` will be removed in a future version. '\n"
     ]
    },
    {
     "name": "stdout",
     "output_type": "stream",
     "text": [
      "Recall@10 for Intermediate Dim:  1000 Latent Dim:  50 Batch size:  50 Annealing:  True :\t 0.08303991151214278\n",
      "Recall@20 for Intermediate Dim:  1000 Latent Dim:  50 Batch size:  50 Annealing:  True :\t 0.12453128961246301\n"
     ]
    },
    {
     "name": "stderr",
     "output_type": "stream",
     "text": [
      "/Users/arasdirekoglu/opt/anaconda3/envs/recom/lib/python3.9/site-packages/tensorflow/python/keras/engine/training.py:2325: UserWarning: `Model.state_updates` will be removed in a future version. This property should not be used in TensorFlow 2.0, as `updates` are applied automatically.\n",
      "  warnings.warn('`Model.state_updates` will be removed in a future version. '\n"
     ]
    },
    {
     "name": "stdout",
     "output_type": "stream",
     "text": [
      "Recall@10 for Intermediate Dim:  1000 Latent Dim:  50 Batch size:  50 Annealing:  False :\t 0.07382534570526317\n",
      "Recall@20 for Intermediate Dim:  1000 Latent Dim:  50 Batch size:  50 Annealing:  False :\t 0.125242049178573\n",
      "WARNING:tensorflow:Callback method `on_train_batch_end` is slow compared to the batch time (batch time: 0.0302s vs `on_train_batch_end` time: 0.3686s). Check your callbacks.\n"
     ]
    },
    {
     "name": "stderr",
     "output_type": "stream",
     "text": [
      "/Users/arasdirekoglu/opt/anaconda3/envs/recom/lib/python3.9/site-packages/tensorflow/python/keras/engine/training.py:2325: UserWarning: `Model.state_updates` will be removed in a future version. This property should not be used in TensorFlow 2.0, as `updates` are applied automatically.\n",
      "  warnings.warn('`Model.state_updates` will be removed in a future version. '\n"
     ]
    },
    {
     "name": "stdout",
     "output_type": "stream",
     "text": [
      "Recall@10 for Intermediate Dim:  1000 Latent Dim:  60 Batch size:  50 Annealing:  True :\t 0.10055425156567223\n",
      "Recall@20 for Intermediate Dim:  1000 Latent Dim:  60 Batch size:  50 Annealing:  True :\t 0.15012531691940312\n"
     ]
    },
    {
     "name": "stderr",
     "output_type": "stream",
     "text": [
      "/Users/arasdirekoglu/opt/anaconda3/envs/recom/lib/python3.9/site-packages/tensorflow/python/keras/engine/training.py:2325: UserWarning: `Model.state_updates` will be removed in a future version. This property should not be used in TensorFlow 2.0, as `updates` are applied automatically.\n",
      "  warnings.warn('`Model.state_updates` will be removed in a future version. '\n"
     ]
    },
    {
     "name": "stdout",
     "output_type": "stream",
     "text": [
      "Recall@10 for Intermediate Dim:  1000 Latent Dim:  60 Batch size:  50 Annealing:  False :\t 0.07547079722236383\n",
      "Recall@20 for Intermediate Dim:  1000 Latent Dim:  60 Batch size:  50 Annealing:  False :\t 0.1200962751301701\n",
      "WARNING:tensorflow:Callback method `on_train_batch_end` is slow compared to the batch time (batch time: 0.0493s vs `on_train_batch_end` time: 0.3951s). Check your callbacks.\n"
     ]
    },
    {
     "name": "stderr",
     "output_type": "stream",
     "text": [
      "/Users/arasdirekoglu/opt/anaconda3/envs/recom/lib/python3.9/site-packages/tensorflow/python/keras/engine/training.py:2325: UserWarning: `Model.state_updates` will be removed in a future version. This property should not be used in TensorFlow 2.0, as `updates` are applied automatically.\n",
      "  warnings.warn('`Model.state_updates` will be removed in a future version. '\n"
     ]
    },
    {
     "name": "stdout",
     "output_type": "stream",
     "text": [
      "Recall@10 for Intermediate Dim:  1100 Latent Dim:  40 Batch size:  50 Annealing:  True :\t 0.07553847904400156\n",
      "Recall@20 for Intermediate Dim:  1100 Latent Dim:  40 Batch size:  50 Annealing:  True :\t 0.12133923538050732\n"
     ]
    },
    {
     "name": "stderr",
     "output_type": "stream",
     "text": [
      "/Users/arasdirekoglu/opt/anaconda3/envs/recom/lib/python3.9/site-packages/tensorflow/python/keras/engine/training.py:2325: UserWarning: `Model.state_updates` will be removed in a future version. This property should not be used in TensorFlow 2.0, as `updates` are applied automatically.\n",
      "  warnings.warn('`Model.state_updates` will be removed in a future version. '\n"
     ]
    },
    {
     "name": "stdout",
     "output_type": "stream",
     "text": [
      "Recall@10 for Intermediate Dim:  1100 Latent Dim:  40 Batch size:  50 Annealing:  False :\t 0.08906158604039544\n",
      "Recall@20 for Intermediate Dim:  1100 Latent Dim:  40 Batch size:  50 Annealing:  False :\t 0.12517554558130325\n",
      "WARNING:tensorflow:Callback method `on_train_batch_end` is slow compared to the batch time (batch time: 0.0361s vs `on_train_batch_end` time: 0.3855s). Check your callbacks.\n"
     ]
    },
    {
     "name": "stderr",
     "output_type": "stream",
     "text": [
      "/Users/arasdirekoglu/opt/anaconda3/envs/recom/lib/python3.9/site-packages/tensorflow/python/keras/engine/training.py:2325: UserWarning: `Model.state_updates` will be removed in a future version. This property should not be used in TensorFlow 2.0, as `updates` are applied automatically.\n",
      "  warnings.warn('`Model.state_updates` will be removed in a future version. '\n"
     ]
    },
    {
     "name": "stdout",
     "output_type": "stream",
     "text": [
      "Recall@10 for Intermediate Dim:  1100 Latent Dim:  50 Batch size:  50 Annealing:  True :\t 0.08195657131600434\n",
      "Recall@20 for Intermediate Dim:  1100 Latent Dim:  50 Batch size:  50 Annealing:  True :\t 0.13401929260440934\n"
     ]
    },
    {
     "name": "stderr",
     "output_type": "stream",
     "text": [
      "/Users/arasdirekoglu/opt/anaconda3/envs/recom/lib/python3.9/site-packages/tensorflow/python/keras/engine/training.py:2325: UserWarning: `Model.state_updates` will be removed in a future version. This property should not be used in TensorFlow 2.0, as `updates` are applied automatically.\n",
      "  warnings.warn('`Model.state_updates` will be removed in a future version. '\n"
     ]
    },
    {
     "name": "stdout",
     "output_type": "stream",
     "text": [
      "Recall@10 for Intermediate Dim:  1100 Latent Dim:  50 Batch size:  50 Annealing:  False :\t 0.0798509487925926\n",
      "Recall@20 for Intermediate Dim:  1100 Latent Dim:  50 Batch size:  50 Annealing:  False :\t 0.12062273635837305\n",
      "WARNING:tensorflow:Callback method `on_train_batch_end` is slow compared to the batch time (batch time: 0.0374s vs `on_train_batch_end` time: 0.3890s). Check your callbacks.\n"
     ]
    },
    {
     "name": "stderr",
     "output_type": "stream",
     "text": [
      "/Users/arasdirekoglu/opt/anaconda3/envs/recom/lib/python3.9/site-packages/tensorflow/python/keras/engine/training.py:2325: UserWarning: `Model.state_updates` will be removed in a future version. This property should not be used in TensorFlow 2.0, as `updates` are applied automatically.\n",
      "  warnings.warn('`Model.state_updates` will be removed in a future version. '\n"
     ]
    },
    {
     "name": "stdout",
     "output_type": "stream",
     "text": [
      "Recall@10 for Intermediate Dim:  1100 Latent Dim:  60 Batch size:  50 Annealing:  True :\t 0.08485854712377518\n",
      "Recall@20 for Intermediate Dim:  1100 Latent Dim:  60 Batch size:  50 Annealing:  True :\t 0.13183304383129923\n"
     ]
    },
    {
     "name": "stderr",
     "output_type": "stream",
     "text": [
      "/Users/arasdirekoglu/opt/anaconda3/envs/recom/lib/python3.9/site-packages/tensorflow/python/keras/engine/training.py:2325: UserWarning: `Model.state_updates` will be removed in a future version. This property should not be used in TensorFlow 2.0, as `updates` are applied automatically.\n",
      "  warnings.warn('`Model.state_updates` will be removed in a future version. '\n"
     ]
    },
    {
     "name": "stdout",
     "output_type": "stream",
     "text": [
      "Recall@10 for Intermediate Dim:  1100 Latent Dim:  60 Batch size:  50 Annealing:  False :\t 0.07788925650289624\n",
      "Recall@20 for Intermediate Dim:  1100 Latent Dim:  60 Batch size:  50 Annealing:  False :\t 0.1188791707450493\n"
     ]
    }
   ],
   "source": [
    "# Set up Parameters\n",
    "intermediate_dimension = [900, 1000, 1100] \n",
    "latent_dimension = [40, 50, 60] \n",
    "batch_sizes = [50]\n",
    "anneal_status = [True, False]\n",
    "\n",
    "# Initiate Lists for Assessment\n",
    "recall_10 = []\n",
    "recall_20 = []\n",
    "precision_10 = []\n",
    "precision_20 = []\n",
    "int_dimensions = []\n",
    "lt_dimensions = []\n",
    "anneal = []\n",
    "batch = []\n",
    "\n",
    "for i in intermediate_dimension:\n",
    "    for l in latent_dimension:\n",
    "        for b in batch_sizes:\n",
    "            for a in anneal_status:\n",
    "                try:\n",
    "                    del(model)\n",
    "                except:\n",
    "                    pass\n",
    "                \n",
    "                # Initiate Model \n",
    "                if a == True:\n",
    "                    model = StandardVAE(n_users=train_data.shape[0],\n",
    "                                        original_dim=train_data.shape[1],\n",
    "                                        intermediate_dim=i,\n",
    "                                        latent_dim=l,\n",
    "                                        n_epochs=100,\n",
    "                                        batch_size=b,\n",
    "                                        k=100,\n",
    "                                        verbose=0,\n",
    "                                        seed=1,\n",
    "                                        save_path=WEIGHTS_PATH,\n",
    "                                        drop_encoder=0.5,\n",
    "                                        drop_decoder=0.5,\n",
    "                                        annealing=True,\n",
    "                                        anneal_cap=1.0)\n",
    "                else:\n",
    "                    model = StandardVAE(n_users=train_data.shape[0], # Number of unique users in the training set\n",
    "                                        original_dim=train_data.shape[1], # Number of unique items in the training set\n",
    "                                        intermediate_dim=i, \n",
    "                                        latent_dim=l, \n",
    "                                        n_epochs=100, \n",
    "                                        batch_size=b, \n",
    "                                        k=100,\n",
    "                                        verbose=0,\n",
    "                                        seed=1,\n",
    "                                        drop_encoder=0.5,\n",
    "                                        drop_decoder=0.5,\n",
    "                                        annealing=False,\n",
    "                                        beta=1.0,\n",
    "                                        save_path=WEIGHTS_PATH)\n",
    "                \n",
    "                # Fit model\n",
    "                model.fit(x_train=train_data,\n",
    "                        x_valid=val_data,\n",
    "                        x_val_tr=val_data_tr,\n",
    "                        x_val_te=val_data_te_ratings,\n",
    "                        mapper=am_val)\n",
    "            \n",
    "                # Model prediction on the training part of test set K = 10  \n",
    "                top_k_10 =  model.recommend_k_items(x=test_data_tr,\n",
    "                                                    k=10,\n",
    "                                                    remove_seen=True)\n",
    "\n",
    "                # Convert sparse matrix back to df\n",
    "                top_k_df_10 = am_test.map_back_sparse(top_k_10, kind='prediction')\n",
    "                test_df = am_test.map_back_sparse(test_data_te_ratings, kind='ratings') # use test_data_te_, with the original ratings\n",
    "    \n",
    "\n",
    "                # Use the ranking metrics for evaluation\n",
    "                eval_precision_10 = precision_at_k(test_df, top_k_df_10, col_prediction='prediction', k=10)\n",
    "                eval_recall_10 = recall_at_k(test_df, top_k_df_10, col_prediction='prediction', k=10)\n",
    "\n",
    "                # Print intermediate Status for Recall@10\n",
    "                print(\"Recall@10 for Intermediate Dim: \", i, \"Latent Dim: \", l, \"Batch size: \", b, \"Annealing: \", a, \":\\t\", eval_recall_10)\n",
    "                \n",
    "                #Model prediction on the training part of test set K = 20  \n",
    "                top_k_20 =  model.recommend_k_items(x=test_data_tr,\n",
    "                                                    k=20,\n",
    "                                                    remove_seen=True)\n",
    "\n",
    "                # Convert sparse matrix back to df\n",
    "                top_k_df_20 = am_test.map_back_sparse(top_k_20, kind='prediction')\n",
    "    \n",
    "\n",
    "                # Use the ranking metrics for evaluation\n",
    "                eval_precision_20 = precision_at_k(test_df, top_k_df_20, col_prediction='prediction', k=20)\n",
    "                eval_recall_20 = recall_at_k(test_df, top_k_df_20, col_prediction='prediction', k=20)\n",
    "                \n",
    "                # Print intermediate Status for Recall@20\n",
    "                print(\"Recall@20 for Intermediate Dim: \", i, \"Latent Dim: \", l, \"Batch size: \", b, \"Annealing: \", a, \":\\t\", eval_recall_20)\n",
    "                \n",
    "                # Append Lists\n",
    "                recall_10.append(eval_recall_10)\n",
    "                recall_20.append(eval_recall_20)\n",
    "                precision_10.append(eval_precision_10)\n",
    "                precision_20.append(eval_precision_20)\n",
    "                int_dimensions.append(i)\n",
    "                lt_dimensions.append(l)\n",
    "                anneal.append(a)\n",
    "                batch.append(b) "
   ]
  },
  {
   "cell_type": "code",
   "execution_count": 215,
   "metadata": {},
   "outputs": [
    {
     "data": {
      "text/html": [
       "<div>\n",
       "<style scoped>\n",
       "    .dataframe tbody tr th:only-of-type {\n",
       "        vertical-align: middle;\n",
       "    }\n",
       "\n",
       "    .dataframe tbody tr th {\n",
       "        vertical-align: top;\n",
       "    }\n",
       "\n",
       "    .dataframe thead th {\n",
       "        text-align: right;\n",
       "    }\n",
       "</style>\n",
       "<table border=\"1\" class=\"dataframe\">\n",
       "  <thead>\n",
       "    <tr style=\"text-align: right;\">\n",
       "      <th></th>\n",
       "      <th>intermediate_dimensions</th>\n",
       "      <th>latent_dimensions</th>\n",
       "      <th>annealing</th>\n",
       "      <th>batch_size</th>\n",
       "      <th>recall@10</th>\n",
       "      <th>recall@20</th>\n",
       "      <th>precision@10</th>\n",
       "      <th>precision@20</th>\n",
       "    </tr>\n",
       "  </thead>\n",
       "  <tbody>\n",
       "    <tr>\n",
       "      <th>6</th>\n",
       "      <td>1000</td>\n",
       "      <td>40</td>\n",
       "      <td>True</td>\n",
       "      <td>50</td>\n",
       "      <td>0.105392</td>\n",
       "      <td>0.144107</td>\n",
       "      <td>0.143467</td>\n",
       "      <td>0.106133</td>\n",
       "    </tr>\n",
       "    <tr>\n",
       "      <th>10</th>\n",
       "      <td>1000</td>\n",
       "      <td>60</td>\n",
       "      <td>True</td>\n",
       "      <td>50</td>\n",
       "      <td>0.100554</td>\n",
       "      <td>0.150125</td>\n",
       "      <td>0.137067</td>\n",
       "      <td>0.107733</td>\n",
       "    </tr>\n",
       "    <tr>\n",
       "      <th>0</th>\n",
       "      <td>900</td>\n",
       "      <td>40</td>\n",
       "      <td>True</td>\n",
       "      <td>50</td>\n",
       "      <td>0.097787</td>\n",
       "      <td>0.156993</td>\n",
       "      <td>0.140400</td>\n",
       "      <td>0.111267</td>\n",
       "    </tr>\n",
       "    <tr>\n",
       "      <th>13</th>\n",
       "      <td>1100</td>\n",
       "      <td>40</td>\n",
       "      <td>False</td>\n",
       "      <td>50</td>\n",
       "      <td>0.089062</td>\n",
       "      <td>0.125176</td>\n",
       "      <td>0.128800</td>\n",
       "      <td>0.098333</td>\n",
       "    </tr>\n",
       "    <tr>\n",
       "      <th>4</th>\n",
       "      <td>900</td>\n",
       "      <td>60</td>\n",
       "      <td>True</td>\n",
       "      <td>50</td>\n",
       "      <td>0.085208</td>\n",
       "      <td>0.133627</td>\n",
       "      <td>0.123067</td>\n",
       "      <td>0.098533</td>\n",
       "    </tr>\n",
       "    <tr>\n",
       "      <th>16</th>\n",
       "      <td>1100</td>\n",
       "      <td>60</td>\n",
       "      <td>True</td>\n",
       "      <td>50</td>\n",
       "      <td>0.084859</td>\n",
       "      <td>0.131833</td>\n",
       "      <td>0.125600</td>\n",
       "      <td>0.099600</td>\n",
       "    </tr>\n",
       "    <tr>\n",
       "      <th>2</th>\n",
       "      <td>900</td>\n",
       "      <td>50</td>\n",
       "      <td>True</td>\n",
       "      <td>50</td>\n",
       "      <td>0.084597</td>\n",
       "      <td>0.127017</td>\n",
       "      <td>0.122800</td>\n",
       "      <td>0.095067</td>\n",
       "    </tr>\n",
       "    <tr>\n",
       "      <th>8</th>\n",
       "      <td>1000</td>\n",
       "      <td>50</td>\n",
       "      <td>True</td>\n",
       "      <td>50</td>\n",
       "      <td>0.083040</td>\n",
       "      <td>0.124531</td>\n",
       "      <td>0.119467</td>\n",
       "      <td>0.092200</td>\n",
       "    </tr>\n",
       "    <tr>\n",
       "      <th>14</th>\n",
       "      <td>1100</td>\n",
       "      <td>50</td>\n",
       "      <td>True</td>\n",
       "      <td>50</td>\n",
       "      <td>0.081957</td>\n",
       "      <td>0.134019</td>\n",
       "      <td>0.124800</td>\n",
       "      <td>0.101600</td>\n",
       "    </tr>\n",
       "    <tr>\n",
       "      <th>7</th>\n",
       "      <td>1000</td>\n",
       "      <td>40</td>\n",
       "      <td>False</td>\n",
       "      <td>50</td>\n",
       "      <td>0.080592</td>\n",
       "      <td>0.123147</td>\n",
       "      <td>0.123600</td>\n",
       "      <td>0.095467</td>\n",
       "    </tr>\n",
       "    <tr>\n",
       "      <th>5</th>\n",
       "      <td>900</td>\n",
       "      <td>60</td>\n",
       "      <td>False</td>\n",
       "      <td>50</td>\n",
       "      <td>0.080372</td>\n",
       "      <td>0.118393</td>\n",
       "      <td>0.116267</td>\n",
       "      <td>0.091400</td>\n",
       "    </tr>\n",
       "    <tr>\n",
       "      <th>15</th>\n",
       "      <td>1100</td>\n",
       "      <td>50</td>\n",
       "      <td>False</td>\n",
       "      <td>50</td>\n",
       "      <td>0.079851</td>\n",
       "      <td>0.120623</td>\n",
       "      <td>0.119733</td>\n",
       "      <td>0.094867</td>\n",
       "    </tr>\n",
       "    <tr>\n",
       "      <th>1</th>\n",
       "      <td>900</td>\n",
       "      <td>40</td>\n",
       "      <td>False</td>\n",
       "      <td>50</td>\n",
       "      <td>0.078668</td>\n",
       "      <td>0.123598</td>\n",
       "      <td>0.119733</td>\n",
       "      <td>0.094733</td>\n",
       "    </tr>\n",
       "    <tr>\n",
       "      <th>17</th>\n",
       "      <td>1100</td>\n",
       "      <td>60</td>\n",
       "      <td>False</td>\n",
       "      <td>50</td>\n",
       "      <td>0.077889</td>\n",
       "      <td>0.118879</td>\n",
       "      <td>0.116533</td>\n",
       "      <td>0.095267</td>\n",
       "    </tr>\n",
       "    <tr>\n",
       "      <th>12</th>\n",
       "      <td>1100</td>\n",
       "      <td>40</td>\n",
       "      <td>True</td>\n",
       "      <td>50</td>\n",
       "      <td>0.075538</td>\n",
       "      <td>0.121339</td>\n",
       "      <td>0.115067</td>\n",
       "      <td>0.091800</td>\n",
       "    </tr>\n",
       "    <tr>\n",
       "      <th>11</th>\n",
       "      <td>1000</td>\n",
       "      <td>60</td>\n",
       "      <td>False</td>\n",
       "      <td>50</td>\n",
       "      <td>0.075471</td>\n",
       "      <td>0.120096</td>\n",
       "      <td>0.117600</td>\n",
       "      <td>0.095133</td>\n",
       "    </tr>\n",
       "    <tr>\n",
       "      <th>9</th>\n",
       "      <td>1000</td>\n",
       "      <td>50</td>\n",
       "      <td>False</td>\n",
       "      <td>50</td>\n",
       "      <td>0.073825</td>\n",
       "      <td>0.125242</td>\n",
       "      <td>0.112667</td>\n",
       "      <td>0.094600</td>\n",
       "    </tr>\n",
       "    <tr>\n",
       "      <th>3</th>\n",
       "      <td>900</td>\n",
       "      <td>50</td>\n",
       "      <td>False</td>\n",
       "      <td>50</td>\n",
       "      <td>0.072865</td>\n",
       "      <td>0.125457</td>\n",
       "      <td>0.115867</td>\n",
       "      <td>0.096667</td>\n",
       "    </tr>\n",
       "  </tbody>\n",
       "</table>\n",
       "</div>"
      ],
      "text/plain": [
       "    intermediate_dimensions  latent_dimensions  annealing  batch_size  \\\n",
       "6                      1000                 40       True          50   \n",
       "10                     1000                 60       True          50   \n",
       "0                       900                 40       True          50   \n",
       "13                     1100                 40      False          50   \n",
       "4                       900                 60       True          50   \n",
       "16                     1100                 60       True          50   \n",
       "2                       900                 50       True          50   \n",
       "8                      1000                 50       True          50   \n",
       "14                     1100                 50       True          50   \n",
       "7                      1000                 40      False          50   \n",
       "5                       900                 60      False          50   \n",
       "15                     1100                 50      False          50   \n",
       "1                       900                 40      False          50   \n",
       "17                     1100                 60      False          50   \n",
       "12                     1100                 40       True          50   \n",
       "11                     1000                 60      False          50   \n",
       "9                      1000                 50      False          50   \n",
       "3                       900                 50      False          50   \n",
       "\n",
       "    recall@10  recall@20  precision@10  precision@20  \n",
       "6    0.105392   0.144107      0.143467      0.106133  \n",
       "10   0.100554   0.150125      0.137067      0.107733  \n",
       "0    0.097787   0.156993      0.140400      0.111267  \n",
       "13   0.089062   0.125176      0.128800      0.098333  \n",
       "4    0.085208   0.133627      0.123067      0.098533  \n",
       "16   0.084859   0.131833      0.125600      0.099600  \n",
       "2    0.084597   0.127017      0.122800      0.095067  \n",
       "8    0.083040   0.124531      0.119467      0.092200  \n",
       "14   0.081957   0.134019      0.124800      0.101600  \n",
       "7    0.080592   0.123147      0.123600      0.095467  \n",
       "5    0.080372   0.118393      0.116267      0.091400  \n",
       "15   0.079851   0.120623      0.119733      0.094867  \n",
       "1    0.078668   0.123598      0.119733      0.094733  \n",
       "17   0.077889   0.118879      0.116533      0.095267  \n",
       "12   0.075538   0.121339      0.115067      0.091800  \n",
       "11   0.075471   0.120096      0.117600      0.095133  \n",
       "9    0.073825   0.125242      0.112667      0.094600  \n",
       "3    0.072865   0.125457      0.115867      0.096667  "
      ]
     },
     "execution_count": 215,
     "metadata": {},
     "output_type": "execute_result"
    }
   ],
   "source": [
    "# Create Dataframe out of the Results of the Hyperparameter Tuning \n",
    "df_tuning_3 = pd.DataFrame({\n",
    "    \"intermediate_dimensions\": int_dimensions,\n",
    "    \"latent_dimensions\": lt_dimensions,\n",
    "    \"annealing\": anneal,\n",
    "    \"batch_size\": batch,\n",
    "    \"recall@10\": recall_10,\n",
    "    \"recall@20\": recall_20,\n",
    "    \"precision@10\":precision_10,\n",
    "    \"precision@20\":precision_20\n",
    "})\n",
    "# Sort Values by recall@10 \n",
    "df_tuning_3.sort_values(by='recall@10', ascending=False)"
   ]
  },
  {
   "attachments": {},
   "cell_type": "markdown",
   "metadata": {},
   "source": [
    "# Hyperparameter Tuning 4.0"
   ]
  },
  {
   "cell_type": "code",
   "execution_count": 32,
   "metadata": {},
   "outputs": [
    {
     "name": "stderr",
     "output_type": "stream",
     "text": [
      "2023-06-05 14:19:35.750229: I tensorflow/core/platform/cpu_feature_guard.cc:142] This TensorFlow binary is optimized with oneAPI Deep Neural Network Library (oneDNN) to use the following CPU instructions in performance-critical operations:  SSE4.1 SSE4.2\n",
      "To enable them in other operations, rebuild TensorFlow with the appropriate compiler flags.\n",
      "2023-06-05 14:19:35.763266: I tensorflow/compiler/mlir/mlir_graph_optimization_pass.cc:196] None of the MLIR optimization passes are enabled (registered 0 passes)\n",
      "/Users/arasdirekoglu/opt/anaconda3/envs/recom/lib/python3.9/site-packages/tensorflow/python/keras/engine/training.py:2325: UserWarning: `Model.state_updates` will be removed in a future version. This property should not be used in TensorFlow 2.0, as `updates` are applied automatically.\n",
      "  warnings.warn('`Model.state_updates` will be removed in a future version. '\n"
     ]
    },
    {
     "name": "stdout",
     "output_type": "stream",
     "text": [
      "Recall@10 for Intermediate Dim:  920 Latent Dim:  40 Batch size:  50 Annealing:  True :\t 0.08783519107207838\n",
      "Recall@20 for Intermediate Dim:  920 Latent Dim:  40 Batch size:  50 Annealing:  True :\t 0.1378493564319198\n"
     ]
    },
    {
     "name": "stderr",
     "output_type": "stream",
     "text": [
      "/Users/arasdirekoglu/opt/anaconda3/envs/recom/lib/python3.9/site-packages/tensorflow/python/keras/engine/training.py:2325: UserWarning: `Model.state_updates` will be removed in a future version. This property should not be used in TensorFlow 2.0, as `updates` are applied automatically.\n",
      "  warnings.warn('`Model.state_updates` will be removed in a future version. '\n"
     ]
    },
    {
     "name": "stdout",
     "output_type": "stream",
     "text": [
      "Recall@10 for Intermediate Dim:  920 Latent Dim:  40 Batch size:  50 Annealing:  False :\t 0.07691310546479493\n",
      "Recall@20 for Intermediate Dim:  920 Latent Dim:  40 Batch size:  50 Annealing:  False :\t 0.12575549955408125\n"
     ]
    },
    {
     "name": "stderr",
     "output_type": "stream",
     "text": [
      "/Users/arasdirekoglu/opt/anaconda3/envs/recom/lib/python3.9/site-packages/tensorflow/python/keras/engine/training.py:2325: UserWarning: `Model.state_updates` will be removed in a future version. This property should not be used in TensorFlow 2.0, as `updates` are applied automatically.\n",
      "  warnings.warn('`Model.state_updates` will be removed in a future version. '\n"
     ]
    },
    {
     "name": "stdout",
     "output_type": "stream",
     "text": [
      "Recall@10 for Intermediate Dim:  920 Latent Dim:  50 Batch size:  50 Annealing:  True :\t 0.0811647186905011\n",
      "Recall@20 for Intermediate Dim:  920 Latent Dim:  50 Batch size:  50 Annealing:  True :\t 0.1339309344158678\n"
     ]
    },
    {
     "name": "stderr",
     "output_type": "stream",
     "text": [
      "/Users/arasdirekoglu/opt/anaconda3/envs/recom/lib/python3.9/site-packages/tensorflow/python/keras/engine/training.py:2325: UserWarning: `Model.state_updates` will be removed in a future version. This property should not be used in TensorFlow 2.0, as `updates` are applied automatically.\n",
      "  warnings.warn('`Model.state_updates` will be removed in a future version. '\n"
     ]
    },
    {
     "name": "stdout",
     "output_type": "stream",
     "text": [
      "Recall@10 for Intermediate Dim:  920 Latent Dim:  50 Batch size:  50 Annealing:  False :\t 0.07116418656932542\n",
      "Recall@20 for Intermediate Dim:  920 Latent Dim:  50 Batch size:  50 Annealing:  False :\t 0.11810069988657962\n"
     ]
    },
    {
     "name": "stderr",
     "output_type": "stream",
     "text": [
      "/Users/arasdirekoglu/opt/anaconda3/envs/recom/lib/python3.9/site-packages/tensorflow/python/keras/engine/training.py:2325: UserWarning: `Model.state_updates` will be removed in a future version. This property should not be used in TensorFlow 2.0, as `updates` are applied automatically.\n",
      "  warnings.warn('`Model.state_updates` will be removed in a future version. '\n"
     ]
    },
    {
     "name": "stdout",
     "output_type": "stream",
     "text": [
      "Recall@10 for Intermediate Dim:  920 Latent Dim:  60 Batch size:  50 Annealing:  True :\t 0.09040819276127271\n",
      "Recall@20 for Intermediate Dim:  920 Latent Dim:  60 Batch size:  50 Annealing:  True :\t 0.13144160391208165\n"
     ]
    },
    {
     "name": "stderr",
     "output_type": "stream",
     "text": [
      "/Users/arasdirekoglu/opt/anaconda3/envs/recom/lib/python3.9/site-packages/tensorflow/python/keras/engine/training.py:2325: UserWarning: `Model.state_updates` will be removed in a future version. This property should not be used in TensorFlow 2.0, as `updates` are applied automatically.\n",
      "  warnings.warn('`Model.state_updates` will be removed in a future version. '\n"
     ]
    },
    {
     "name": "stdout",
     "output_type": "stream",
     "text": [
      "Recall@10 for Intermediate Dim:  920 Latent Dim:  60 Batch size:  50 Annealing:  False :\t 0.0814661586064631\n",
      "Recall@20 for Intermediate Dim:  920 Latent Dim:  60 Batch size:  50 Annealing:  False :\t 0.1275923015965319\n"
     ]
    },
    {
     "name": "stderr",
     "output_type": "stream",
     "text": [
      "/Users/arasdirekoglu/opt/anaconda3/envs/recom/lib/python3.9/site-packages/tensorflow/python/keras/engine/training.py:2325: UserWarning: `Model.state_updates` will be removed in a future version. This property should not be used in TensorFlow 2.0, as `updates` are applied automatically.\n",
      "  warnings.warn('`Model.state_updates` will be removed in a future version. '\n"
     ]
    },
    {
     "name": "stdout",
     "output_type": "stream",
     "text": [
      "Recall@10 for Intermediate Dim:  940 Latent Dim:  40 Batch size:  50 Annealing:  True :\t 0.0959598656469445\n",
      "Recall@20 for Intermediate Dim:  940 Latent Dim:  40 Batch size:  50 Annealing:  True :\t 0.1398088366036592\n"
     ]
    },
    {
     "name": "stderr",
     "output_type": "stream",
     "text": [
      "/Users/arasdirekoglu/opt/anaconda3/envs/recom/lib/python3.9/site-packages/tensorflow/python/keras/engine/training.py:2325: UserWarning: `Model.state_updates` will be removed in a future version. This property should not be used in TensorFlow 2.0, as `updates` are applied automatically.\n",
      "  warnings.warn('`Model.state_updates` will be removed in a future version. '\n"
     ]
    },
    {
     "name": "stdout",
     "output_type": "stream",
     "text": [
      "Recall@10 for Intermediate Dim:  940 Latent Dim:  40 Batch size:  50 Annealing:  False :\t 0.07265518523495716\n",
      "Recall@20 for Intermediate Dim:  940 Latent Dim:  40 Batch size:  50 Annealing:  False :\t 0.11949489863379718\n"
     ]
    },
    {
     "name": "stderr",
     "output_type": "stream",
     "text": [
      "/Users/arasdirekoglu/opt/anaconda3/envs/recom/lib/python3.9/site-packages/tensorflow/python/keras/engine/training.py:2325: UserWarning: `Model.state_updates` will be removed in a future version. This property should not be used in TensorFlow 2.0, as `updates` are applied automatically.\n",
      "  warnings.warn('`Model.state_updates` will be removed in a future version. '\n"
     ]
    },
    {
     "name": "stdout",
     "output_type": "stream",
     "text": [
      "Recall@10 for Intermediate Dim:  940 Latent Dim:  50 Batch size:  50 Annealing:  True :\t 0.08331380752705268\n",
      "Recall@20 for Intermediate Dim:  940 Latent Dim:  50 Batch size:  50 Annealing:  True :\t 0.13192718723211302\n"
     ]
    },
    {
     "name": "stderr",
     "output_type": "stream",
     "text": [
      "/Users/arasdirekoglu/opt/anaconda3/envs/recom/lib/python3.9/site-packages/tensorflow/python/keras/engine/training.py:2325: UserWarning: `Model.state_updates` will be removed in a future version. This property should not be used in TensorFlow 2.0, as `updates` are applied automatically.\n",
      "  warnings.warn('`Model.state_updates` will be removed in a future version. '\n"
     ]
    },
    {
     "name": "stdout",
     "output_type": "stream",
     "text": [
      "Recall@10 for Intermediate Dim:  940 Latent Dim:  50 Batch size:  50 Annealing:  False :\t 0.08140039459796786\n",
      "Recall@20 for Intermediate Dim:  940 Latent Dim:  50 Batch size:  50 Annealing:  False :\t 0.13166241639923976\n",
      "WARNING:tensorflow:Callback method `on_train_batch_end` is slow compared to the batch time (batch time: 0.0331s vs `on_train_batch_end` time: 0.0332s). Check your callbacks.\n"
     ]
    },
    {
     "name": "stderr",
     "output_type": "stream",
     "text": [
      "/Users/arasdirekoglu/opt/anaconda3/envs/recom/lib/python3.9/site-packages/tensorflow/python/keras/engine/training.py:2325: UserWarning: `Model.state_updates` will be removed in a future version. This property should not be used in TensorFlow 2.0, as `updates` are applied automatically.\n",
      "  warnings.warn('`Model.state_updates` will be removed in a future version. '\n"
     ]
    },
    {
     "name": "stdout",
     "output_type": "stream",
     "text": [
      "Recall@10 for Intermediate Dim:  940 Latent Dim:  60 Batch size:  50 Annealing:  True :\t 0.08018191466041837\n",
      "Recall@20 for Intermediate Dim:  940 Latent Dim:  60 Batch size:  50 Annealing:  True :\t 0.12939361723941065\n"
     ]
    },
    {
     "name": "stderr",
     "output_type": "stream",
     "text": [
      "/Users/arasdirekoglu/opt/anaconda3/envs/recom/lib/python3.9/site-packages/tensorflow/python/keras/engine/training.py:2325: UserWarning: `Model.state_updates` will be removed in a future version. This property should not be used in TensorFlow 2.0, as `updates` are applied automatically.\n",
      "  warnings.warn('`Model.state_updates` will be removed in a future version. '\n"
     ]
    },
    {
     "name": "stdout",
     "output_type": "stream",
     "text": [
      "Recall@10 for Intermediate Dim:  940 Latent Dim:  60 Batch size:  50 Annealing:  False :\t 0.08000002382823683\n",
      "Recall@20 for Intermediate Dim:  940 Latent Dim:  60 Batch size:  50 Annealing:  False :\t 0.12473886354996974\n",
      "WARNING:tensorflow:Callback method `on_train_batch_end` is slow compared to the batch time (batch time: 0.0319s vs `on_train_batch_end` time: 0.0414s). Check your callbacks.\n"
     ]
    },
    {
     "name": "stderr",
     "output_type": "stream",
     "text": [
      "/Users/arasdirekoglu/opt/anaconda3/envs/recom/lib/python3.9/site-packages/tensorflow/python/keras/engine/training.py:2325: UserWarning: `Model.state_updates` will be removed in a future version. This property should not be used in TensorFlow 2.0, as `updates` are applied automatically.\n",
      "  warnings.warn('`Model.state_updates` will be removed in a future version. '\n"
     ]
    },
    {
     "name": "stdout",
     "output_type": "stream",
     "text": [
      "Recall@10 for Intermediate Dim:  960 Latent Dim:  40 Batch size:  50 Annealing:  True :\t 0.07703207424311186\n",
      "Recall@20 for Intermediate Dim:  960 Latent Dim:  40 Batch size:  50 Annealing:  True :\t 0.12602927722332238\n"
     ]
    },
    {
     "name": "stderr",
     "output_type": "stream",
     "text": [
      "/Users/arasdirekoglu/opt/anaconda3/envs/recom/lib/python3.9/site-packages/tensorflow/python/keras/engine/training.py:2325: UserWarning: `Model.state_updates` will be removed in a future version. This property should not be used in TensorFlow 2.0, as `updates` are applied automatically.\n",
      "  warnings.warn('`Model.state_updates` will be removed in a future version. '\n"
     ]
    },
    {
     "name": "stdout",
     "output_type": "stream",
     "text": [
      "Recall@10 for Intermediate Dim:  960 Latent Dim:  40 Batch size:  50 Annealing:  False :\t 0.07714665960306213\n",
      "Recall@20 for Intermediate Dim:  960 Latent Dim:  40 Batch size:  50 Annealing:  False :\t 0.1175496525797988\n",
      "WARNING:tensorflow:Callback method `on_train_batch_end` is slow compared to the batch time (batch time: 0.0299s vs `on_train_batch_end` time: 0.0459s). Check your callbacks.\n"
     ]
    },
    {
     "name": "stderr",
     "output_type": "stream",
     "text": [
      "/Users/arasdirekoglu/opt/anaconda3/envs/recom/lib/python3.9/site-packages/tensorflow/python/keras/engine/training.py:2325: UserWarning: `Model.state_updates` will be removed in a future version. This property should not be used in TensorFlow 2.0, as `updates` are applied automatically.\n",
      "  warnings.warn('`Model.state_updates` will be removed in a future version. '\n"
     ]
    },
    {
     "name": "stdout",
     "output_type": "stream",
     "text": [
      "Recall@10 for Intermediate Dim:  960 Latent Dim:  50 Batch size:  50 Annealing:  True :\t 0.08591831938313776\n",
      "Recall@20 for Intermediate Dim:  960 Latent Dim:  50 Batch size:  50 Annealing:  True :\t 0.12941032953337334\n"
     ]
    },
    {
     "name": "stderr",
     "output_type": "stream",
     "text": [
      "/Users/arasdirekoglu/opt/anaconda3/envs/recom/lib/python3.9/site-packages/tensorflow/python/keras/engine/training.py:2325: UserWarning: `Model.state_updates` will be removed in a future version. This property should not be used in TensorFlow 2.0, as `updates` are applied automatically.\n",
      "  warnings.warn('`Model.state_updates` will be removed in a future version. '\n"
     ]
    },
    {
     "name": "stdout",
     "output_type": "stream",
     "text": [
      "Recall@10 for Intermediate Dim:  960 Latent Dim:  50 Batch size:  50 Annealing:  False :\t 0.08199607768800787\n",
      "Recall@20 for Intermediate Dim:  960 Latent Dim:  50 Batch size:  50 Annealing:  False :\t 0.12756430591020518\n",
      "WARNING:tensorflow:Callback method `on_train_batch_end` is slow compared to the batch time (batch time: 0.0284s vs `on_train_batch_end` time: 0.0507s). Check your callbacks.\n"
     ]
    },
    {
     "name": "stderr",
     "output_type": "stream",
     "text": [
      "/Users/arasdirekoglu/opt/anaconda3/envs/recom/lib/python3.9/site-packages/tensorflow/python/keras/engine/training.py:2325: UserWarning: `Model.state_updates` will be removed in a future version. This property should not be used in TensorFlow 2.0, as `updates` are applied automatically.\n",
      "  warnings.warn('`Model.state_updates` will be removed in a future version. '\n"
     ]
    },
    {
     "name": "stdout",
     "output_type": "stream",
     "text": [
      "Recall@10 for Intermediate Dim:  960 Latent Dim:  60 Batch size:  50 Annealing:  True :\t 0.08760418088048667\n",
      "Recall@20 for Intermediate Dim:  960 Latent Dim:  60 Batch size:  50 Annealing:  True :\t 0.13749582503823202\n"
     ]
    },
    {
     "name": "stderr",
     "output_type": "stream",
     "text": [
      "/Users/arasdirekoglu/opt/anaconda3/envs/recom/lib/python3.9/site-packages/tensorflow/python/keras/engine/training.py:2325: UserWarning: `Model.state_updates` will be removed in a future version. This property should not be used in TensorFlow 2.0, as `updates` are applied automatically.\n",
      "  warnings.warn('`Model.state_updates` will be removed in a future version. '\n"
     ]
    },
    {
     "name": "stdout",
     "output_type": "stream",
     "text": [
      "Recall@10 for Intermediate Dim:  960 Latent Dim:  60 Batch size:  50 Annealing:  False :\t 0.07968146032269989\n",
      "Recall@20 for Intermediate Dim:  960 Latent Dim:  60 Batch size:  50 Annealing:  False :\t 0.11550895439188615\n",
      "WARNING:tensorflow:Callback method `on_train_batch_end` is slow compared to the batch time (batch time: 0.0293s vs `on_train_batch_end` time: 0.0573s). Check your callbacks.\n"
     ]
    },
    {
     "name": "stderr",
     "output_type": "stream",
     "text": [
      "/Users/arasdirekoglu/opt/anaconda3/envs/recom/lib/python3.9/site-packages/tensorflow/python/keras/engine/training.py:2325: UserWarning: `Model.state_updates` will be removed in a future version. This property should not be used in TensorFlow 2.0, as `updates` are applied automatically.\n",
      "  warnings.warn('`Model.state_updates` will be removed in a future version. '\n"
     ]
    },
    {
     "name": "stdout",
     "output_type": "stream",
     "text": [
      "Recall@10 for Intermediate Dim:  980 Latent Dim:  40 Batch size:  50 Annealing:  True :\t 0.08899506849766435\n",
      "Recall@20 for Intermediate Dim:  980 Latent Dim:  40 Batch size:  50 Annealing:  True :\t 0.13833610256769238\n"
     ]
    },
    {
     "name": "stderr",
     "output_type": "stream",
     "text": [
      "/Users/arasdirekoglu/opt/anaconda3/envs/recom/lib/python3.9/site-packages/tensorflow/python/keras/engine/training.py:2325: UserWarning: `Model.state_updates` will be removed in a future version. This property should not be used in TensorFlow 2.0, as `updates` are applied automatically.\n",
      "  warnings.warn('`Model.state_updates` will be removed in a future version. '\n"
     ]
    },
    {
     "name": "stdout",
     "output_type": "stream",
     "text": [
      "Recall@10 for Intermediate Dim:  980 Latent Dim:  40 Batch size:  50 Annealing:  False :\t 0.08465736125250561\n",
      "Recall@20 for Intermediate Dim:  980 Latent Dim:  40 Batch size:  50 Annealing:  False :\t 0.1309160974865202\n",
      "WARNING:tensorflow:Callback method `on_train_batch_end` is slow compared to the batch time (batch time: 0.0272s vs `on_train_batch_end` time: 0.0632s). Check your callbacks.\n"
     ]
    },
    {
     "name": "stderr",
     "output_type": "stream",
     "text": [
      "/Users/arasdirekoglu/opt/anaconda3/envs/recom/lib/python3.9/site-packages/tensorflow/python/keras/engine/training.py:2325: UserWarning: `Model.state_updates` will be removed in a future version. This property should not be used in TensorFlow 2.0, as `updates` are applied automatically.\n",
      "  warnings.warn('`Model.state_updates` will be removed in a future version. '\n"
     ]
    },
    {
     "name": "stdout",
     "output_type": "stream",
     "text": [
      "Recall@10 for Intermediate Dim:  980 Latent Dim:  50 Batch size:  50 Annealing:  True :\t 0.10120768267953682\n",
      "Recall@20 for Intermediate Dim:  980 Latent Dim:  50 Batch size:  50 Annealing:  True :\t 0.15261840170343957\n"
     ]
    },
    {
     "name": "stderr",
     "output_type": "stream",
     "text": [
      "/Users/arasdirekoglu/opt/anaconda3/envs/recom/lib/python3.9/site-packages/tensorflow/python/keras/engine/training.py:2325: UserWarning: `Model.state_updates` will be removed in a future version. This property should not be used in TensorFlow 2.0, as `updates` are applied automatically.\n",
      "  warnings.warn('`Model.state_updates` will be removed in a future version. '\n"
     ]
    },
    {
     "name": "stdout",
     "output_type": "stream",
     "text": [
      "Recall@10 for Intermediate Dim:  980 Latent Dim:  50 Batch size:  50 Annealing:  False :\t 0.07417940537874888\n",
      "Recall@20 for Intermediate Dim:  980 Latent Dim:  50 Batch size:  50 Annealing:  False :\t 0.12113863921659722\n",
      "WARNING:tensorflow:Callback method `on_train_batch_end` is slow compared to the batch time (batch time: 0.0291s vs `on_train_batch_end` time: 0.0710s). Check your callbacks.\n"
     ]
    },
    {
     "name": "stderr",
     "output_type": "stream",
     "text": [
      "/Users/arasdirekoglu/opt/anaconda3/envs/recom/lib/python3.9/site-packages/tensorflow/python/keras/engine/training.py:2325: UserWarning: `Model.state_updates` will be removed in a future version. This property should not be used in TensorFlow 2.0, as `updates` are applied automatically.\n",
      "  warnings.warn('`Model.state_updates` will be removed in a future version. '\n"
     ]
    },
    {
     "name": "stdout",
     "output_type": "stream",
     "text": [
      "Recall@10 for Intermediate Dim:  980 Latent Dim:  60 Batch size:  50 Annealing:  True :\t 0.08741998002582985\n",
      "Recall@20 for Intermediate Dim:  980 Latent Dim:  60 Batch size:  50 Annealing:  True :\t 0.13214812481117155\n"
     ]
    },
    {
     "name": "stderr",
     "output_type": "stream",
     "text": [
      "/Users/arasdirekoglu/opt/anaconda3/envs/recom/lib/python3.9/site-packages/tensorflow/python/keras/engine/training.py:2325: UserWarning: `Model.state_updates` will be removed in a future version. This property should not be used in TensorFlow 2.0, as `updates` are applied automatically.\n",
      "  warnings.warn('`Model.state_updates` will be removed in a future version. '\n"
     ]
    },
    {
     "name": "stdout",
     "output_type": "stream",
     "text": [
      "Recall@10 for Intermediate Dim:  980 Latent Dim:  60 Batch size:  50 Annealing:  False :\t 0.08449018176407797\n",
      "Recall@20 for Intermediate Dim:  980 Latent Dim:  60 Batch size:  50 Annealing:  False :\t 0.12741969851638726\n",
      "WARNING:tensorflow:Callback method `on_train_batch_end` is slow compared to the batch time (batch time: 0.0337s vs `on_train_batch_end` time: 0.0779s). Check your callbacks.\n"
     ]
    },
    {
     "name": "stderr",
     "output_type": "stream",
     "text": [
      "/Users/arasdirekoglu/opt/anaconda3/envs/recom/lib/python3.9/site-packages/tensorflow/python/keras/engine/training.py:2325: UserWarning: `Model.state_updates` will be removed in a future version. This property should not be used in TensorFlow 2.0, as `updates` are applied automatically.\n",
      "  warnings.warn('`Model.state_updates` will be removed in a future version. '\n"
     ]
    },
    {
     "name": "stdout",
     "output_type": "stream",
     "text": [
      "Recall@10 for Intermediate Dim:  1000 Latent Dim:  40 Batch size:  50 Annealing:  True :\t 0.08817840664873063\n",
      "Recall@20 for Intermediate Dim:  1000 Latent Dim:  40 Batch size:  50 Annealing:  True :\t 0.13683342696778034\n"
     ]
    },
    {
     "name": "stderr",
     "output_type": "stream",
     "text": [
      "/Users/arasdirekoglu/opt/anaconda3/envs/recom/lib/python3.9/site-packages/tensorflow/python/keras/engine/training.py:2325: UserWarning: `Model.state_updates` will be removed in a future version. This property should not be used in TensorFlow 2.0, as `updates` are applied automatically.\n",
      "  warnings.warn('`Model.state_updates` will be removed in a future version. '\n"
     ]
    },
    {
     "name": "stdout",
     "output_type": "stream",
     "text": [
      "Recall@10 for Intermediate Dim:  1000 Latent Dim:  40 Batch size:  50 Annealing:  False :\t 0.07550045573458714\n",
      "Recall@20 for Intermediate Dim:  1000 Latent Dim:  40 Batch size:  50 Annealing:  False :\t 0.12167120559295548\n",
      "WARNING:tensorflow:Callback method `on_train_batch_end` is slow compared to the batch time (batch time: 0.0341s vs `on_train_batch_end` time: 0.0807s). Check your callbacks.\n"
     ]
    },
    {
     "name": "stderr",
     "output_type": "stream",
     "text": [
      "/Users/arasdirekoglu/opt/anaconda3/envs/recom/lib/python3.9/site-packages/tensorflow/python/keras/engine/training.py:2325: UserWarning: `Model.state_updates` will be removed in a future version. This property should not be used in TensorFlow 2.0, as `updates` are applied automatically.\n",
      "  warnings.warn('`Model.state_updates` will be removed in a future version. '\n"
     ]
    },
    {
     "name": "stdout",
     "output_type": "stream",
     "text": [
      "Recall@10 for Intermediate Dim:  1000 Latent Dim:  50 Batch size:  50 Annealing:  True :\t 0.08520337037104098\n",
      "Recall@20 for Intermediate Dim:  1000 Latent Dim:  50 Batch size:  50 Annealing:  True :\t 0.12623399158739526\n"
     ]
    },
    {
     "name": "stderr",
     "output_type": "stream",
     "text": [
      "/Users/arasdirekoglu/opt/anaconda3/envs/recom/lib/python3.9/site-packages/tensorflow/python/keras/engine/training.py:2325: UserWarning: `Model.state_updates` will be removed in a future version. This property should not be used in TensorFlow 2.0, as `updates` are applied automatically.\n",
      "  warnings.warn('`Model.state_updates` will be removed in a future version. '\n"
     ]
    },
    {
     "name": "stdout",
     "output_type": "stream",
     "text": [
      "Recall@10 for Intermediate Dim:  1000 Latent Dim:  50 Batch size:  50 Annealing:  False :\t 0.07394399630898645\n",
      "Recall@20 for Intermediate Dim:  1000 Latent Dim:  50 Batch size:  50 Annealing:  False :\t 0.11765854386186159\n",
      "WARNING:tensorflow:Callback method `on_train_batch_end` is slow compared to the batch time (batch time: 0.0281s vs `on_train_batch_end` time: 0.0904s). Check your callbacks.\n"
     ]
    },
    {
     "name": "stderr",
     "output_type": "stream",
     "text": [
      "/Users/arasdirekoglu/opt/anaconda3/envs/recom/lib/python3.9/site-packages/tensorflow/python/keras/engine/training.py:2325: UserWarning: `Model.state_updates` will be removed in a future version. This property should not be used in TensorFlow 2.0, as `updates` are applied automatically.\n",
      "  warnings.warn('`Model.state_updates` will be removed in a future version. '\n"
     ]
    },
    {
     "name": "stdout",
     "output_type": "stream",
     "text": [
      "Recall@10 for Intermediate Dim:  1000 Latent Dim:  60 Batch size:  50 Annealing:  True :\t 0.08442171788957138\n",
      "Recall@20 for Intermediate Dim:  1000 Latent Dim:  60 Batch size:  50 Annealing:  True :\t 0.13152435137813132\n"
     ]
    },
    {
     "name": "stderr",
     "output_type": "stream",
     "text": [
      "/Users/arasdirekoglu/opt/anaconda3/envs/recom/lib/python3.9/site-packages/tensorflow/python/keras/engine/training.py:2325: UserWarning: `Model.state_updates` will be removed in a future version. This property should not be used in TensorFlow 2.0, as `updates` are applied automatically.\n",
      "  warnings.warn('`Model.state_updates` will be removed in a future version. '\n"
     ]
    },
    {
     "name": "stdout",
     "output_type": "stream",
     "text": [
      "Recall@10 for Intermediate Dim:  1000 Latent Dim:  60 Batch size:  50 Annealing:  False :\t 0.07917867689100662\n",
      "Recall@20 for Intermediate Dim:  1000 Latent Dim:  60 Batch size:  50 Annealing:  False :\t 0.12683023544636735\n",
      "WARNING:tensorflow:Callback method `on_train_batch_end` is slow compared to the batch time (batch time: 0.0287s vs `on_train_batch_end` time: 0.0930s). Check your callbacks.\n"
     ]
    },
    {
     "name": "stderr",
     "output_type": "stream",
     "text": [
      "/Users/arasdirekoglu/opt/anaconda3/envs/recom/lib/python3.9/site-packages/tensorflow/python/keras/engine/training.py:2325: UserWarning: `Model.state_updates` will be removed in a future version. This property should not be used in TensorFlow 2.0, as `updates` are applied automatically.\n",
      "  warnings.warn('`Model.state_updates` will be removed in a future version. '\n"
     ]
    },
    {
     "name": "stdout",
     "output_type": "stream",
     "text": [
      "Recall@10 for Intermediate Dim:  1020 Latent Dim:  40 Batch size:  50 Annealing:  True :\t 0.07959352637130938\n",
      "Recall@20 for Intermediate Dim:  1020 Latent Dim:  40 Batch size:  50 Annealing:  True :\t 0.12599782155723774\n"
     ]
    },
    {
     "name": "stderr",
     "output_type": "stream",
     "text": [
      "/Users/arasdirekoglu/opt/anaconda3/envs/recom/lib/python3.9/site-packages/tensorflow/python/keras/engine/training.py:2325: UserWarning: `Model.state_updates` will be removed in a future version. This property should not be used in TensorFlow 2.0, as `updates` are applied automatically.\n",
      "  warnings.warn('`Model.state_updates` will be removed in a future version. '\n"
     ]
    },
    {
     "name": "stdout",
     "output_type": "stream",
     "text": [
      "Recall@10 for Intermediate Dim:  1020 Latent Dim:  40 Batch size:  50 Annealing:  False :\t 0.08157996068225716\n",
      "Recall@20 for Intermediate Dim:  1020 Latent Dim:  40 Batch size:  50 Annealing:  False :\t 0.12604347041180278\n",
      "WARNING:tensorflow:Callback method `on_train_batch_end` is slow compared to the batch time (batch time: 0.0281s vs `on_train_batch_end` time: 0.1007s). Check your callbacks.\n"
     ]
    },
    {
     "name": "stderr",
     "output_type": "stream",
     "text": [
      "/Users/arasdirekoglu/opt/anaconda3/envs/recom/lib/python3.9/site-packages/tensorflow/python/keras/engine/training.py:2325: UserWarning: `Model.state_updates` will be removed in a future version. This property should not be used in TensorFlow 2.0, as `updates` are applied automatically.\n",
      "  warnings.warn('`Model.state_updates` will be removed in a future version. '\n"
     ]
    },
    {
     "name": "stdout",
     "output_type": "stream",
     "text": [
      "Recall@10 for Intermediate Dim:  1020 Latent Dim:  50 Batch size:  50 Annealing:  True :\t 0.09354800452066563\n",
      "Recall@20 for Intermediate Dim:  1020 Latent Dim:  50 Batch size:  50 Annealing:  True :\t 0.13850661030880285\n"
     ]
    },
    {
     "name": "stderr",
     "output_type": "stream",
     "text": [
      "/Users/arasdirekoglu/opt/anaconda3/envs/recom/lib/python3.9/site-packages/tensorflow/python/keras/engine/training.py:2325: UserWarning: `Model.state_updates` will be removed in a future version. This property should not be used in TensorFlow 2.0, as `updates` are applied automatically.\n",
      "  warnings.warn('`Model.state_updates` will be removed in a future version. '\n"
     ]
    },
    {
     "name": "stdout",
     "output_type": "stream",
     "text": [
      "Recall@10 for Intermediate Dim:  1020 Latent Dim:  50 Batch size:  50 Annealing:  False :\t 0.08430575193911259\n",
      "Recall@20 for Intermediate Dim:  1020 Latent Dim:  50 Batch size:  50 Annealing:  False :\t 0.12733191409453287\n",
      "WARNING:tensorflow:Callback method `on_train_batch_end` is slow compared to the batch time (batch time: 0.0303s vs `on_train_batch_end` time: 0.1065s). Check your callbacks.\n"
     ]
    },
    {
     "name": "stderr",
     "output_type": "stream",
     "text": [
      "/Users/arasdirekoglu/opt/anaconda3/envs/recom/lib/python3.9/site-packages/tensorflow/python/keras/engine/training.py:2325: UserWarning: `Model.state_updates` will be removed in a future version. This property should not be used in TensorFlow 2.0, as `updates` are applied automatically.\n",
      "  warnings.warn('`Model.state_updates` will be removed in a future version. '\n"
     ]
    },
    {
     "name": "stdout",
     "output_type": "stream",
     "text": [
      "Recall@10 for Intermediate Dim:  1020 Latent Dim:  60 Batch size:  50 Annealing:  True :\t 0.08738571832392211\n",
      "Recall@20 for Intermediate Dim:  1020 Latent Dim:  60 Batch size:  50 Annealing:  True :\t 0.13431552390313367\n"
     ]
    },
    {
     "name": "stderr",
     "output_type": "stream",
     "text": [
      "/Users/arasdirekoglu/opt/anaconda3/envs/recom/lib/python3.9/site-packages/tensorflow/python/keras/engine/training.py:2325: UserWarning: `Model.state_updates` will be removed in a future version. This property should not be used in TensorFlow 2.0, as `updates` are applied automatically.\n",
      "  warnings.warn('`Model.state_updates` will be removed in a future version. '\n"
     ]
    },
    {
     "name": "stdout",
     "output_type": "stream",
     "text": [
      "Recall@10 for Intermediate Dim:  1020 Latent Dim:  60 Batch size:  50 Annealing:  False :\t 0.074860698494411\n",
      "Recall@20 for Intermediate Dim:  1020 Latent Dim:  60 Batch size:  50 Annealing:  False :\t 0.12718215213432893\n",
      "WARNING:tensorflow:Callback method `on_train_batch_end` is slow compared to the batch time (batch time: 0.0312s vs `on_train_batch_end` time: 0.1097s). Check your callbacks.\n"
     ]
    },
    {
     "name": "stderr",
     "output_type": "stream",
     "text": [
      "/Users/arasdirekoglu/opt/anaconda3/envs/recom/lib/python3.9/site-packages/tensorflow/python/keras/engine/training.py:2325: UserWarning: `Model.state_updates` will be removed in a future version. This property should not be used in TensorFlow 2.0, as `updates` are applied automatically.\n",
      "  warnings.warn('`Model.state_updates` will be removed in a future version. '\n"
     ]
    },
    {
     "name": "stdout",
     "output_type": "stream",
     "text": [
      "Recall@10 for Intermediate Dim:  1040 Latent Dim:  40 Batch size:  50 Annealing:  True :\t 0.08495532170363627\n",
      "Recall@20 for Intermediate Dim:  1040 Latent Dim:  40 Batch size:  50 Annealing:  True :\t 0.13357598061962056\n"
     ]
    },
    {
     "name": "stderr",
     "output_type": "stream",
     "text": [
      "/Users/arasdirekoglu/opt/anaconda3/envs/recom/lib/python3.9/site-packages/tensorflow/python/keras/engine/training.py:2325: UserWarning: `Model.state_updates` will be removed in a future version. This property should not be used in TensorFlow 2.0, as `updates` are applied automatically.\n",
      "  warnings.warn('`Model.state_updates` will be removed in a future version. '\n"
     ]
    },
    {
     "name": "stdout",
     "output_type": "stream",
     "text": [
      "Recall@10 for Intermediate Dim:  1040 Latent Dim:  40 Batch size:  50 Annealing:  False :\t 0.08007375548886146\n",
      "Recall@20 for Intermediate Dim:  1040 Latent Dim:  40 Batch size:  50 Annealing:  False :\t 0.12024986496374\n",
      "WARNING:tensorflow:Callback method `on_train_batch_end` is slow compared to the batch time (batch time: 0.0341s vs `on_train_batch_end` time: 0.1216s). Check your callbacks.\n"
     ]
    },
    {
     "name": "stderr",
     "output_type": "stream",
     "text": [
      "/Users/arasdirekoglu/opt/anaconda3/envs/recom/lib/python3.9/site-packages/tensorflow/python/keras/engine/training.py:2325: UserWarning: `Model.state_updates` will be removed in a future version. This property should not be used in TensorFlow 2.0, as `updates` are applied automatically.\n",
      "  warnings.warn('`Model.state_updates` will be removed in a future version. '\n"
     ]
    },
    {
     "name": "stdout",
     "output_type": "stream",
     "text": [
      "Recall@10 for Intermediate Dim:  1040 Latent Dim:  50 Batch size:  50 Annealing:  True :\t 0.10325501426425887\n",
      "Recall@20 for Intermediate Dim:  1040 Latent Dim:  50 Batch size:  50 Annealing:  True :\t 0.15712295147890998\n"
     ]
    },
    {
     "name": "stderr",
     "output_type": "stream",
     "text": [
      "/Users/arasdirekoglu/opt/anaconda3/envs/recom/lib/python3.9/site-packages/tensorflow/python/keras/engine/training.py:2325: UserWarning: `Model.state_updates` will be removed in a future version. This property should not be used in TensorFlow 2.0, as `updates` are applied automatically.\n",
      "  warnings.warn('`Model.state_updates` will be removed in a future version. '\n"
     ]
    },
    {
     "name": "stdout",
     "output_type": "stream",
     "text": [
      "Recall@10 for Intermediate Dim:  1040 Latent Dim:  50 Batch size:  50 Annealing:  False :\t 0.07310914499453898\n",
      "Recall@20 for Intermediate Dim:  1040 Latent Dim:  50 Batch size:  50 Annealing:  False :\t 0.12583941225741066\n",
      "WARNING:tensorflow:Callback method `on_train_batch_end` is slow compared to the batch time (batch time: 0.0307s vs `on_train_batch_end` time: 0.1306s). Check your callbacks.\n"
     ]
    },
    {
     "name": "stderr",
     "output_type": "stream",
     "text": [
      "/Users/arasdirekoglu/opt/anaconda3/envs/recom/lib/python3.9/site-packages/tensorflow/python/keras/engine/training.py:2325: UserWarning: `Model.state_updates` will be removed in a future version. This property should not be used in TensorFlow 2.0, as `updates` are applied automatically.\n",
      "  warnings.warn('`Model.state_updates` will be removed in a future version. '\n"
     ]
    },
    {
     "name": "stdout",
     "output_type": "stream",
     "text": [
      "Recall@10 for Intermediate Dim:  1040 Latent Dim:  60 Batch size:  50 Annealing:  True :\t 0.08437015469586578\n",
      "Recall@20 for Intermediate Dim:  1040 Latent Dim:  60 Batch size:  50 Annealing:  True :\t 0.12620246971612065\n"
     ]
    },
    {
     "name": "stderr",
     "output_type": "stream",
     "text": [
      "/Users/arasdirekoglu/opt/anaconda3/envs/recom/lib/python3.9/site-packages/tensorflow/python/keras/engine/training.py:2325: UserWarning: `Model.state_updates` will be removed in a future version. This property should not be used in TensorFlow 2.0, as `updates` are applied automatically.\n",
      "  warnings.warn('`Model.state_updates` will be removed in a future version. '\n"
     ]
    },
    {
     "name": "stdout",
     "output_type": "stream",
     "text": [
      "Recall@10 for Intermediate Dim:  1040 Latent Dim:  60 Batch size:  50 Annealing:  False :\t 0.07274875947039558\n",
      "Recall@20 for Intermediate Dim:  1040 Latent Dim:  60 Batch size:  50 Annealing:  False :\t 0.1242671646475301\n",
      "WARNING:tensorflow:Callback method `on_train_batch_end` is slow compared to the batch time (batch time: 0.0325s vs `on_train_batch_end` time: 0.1346s). Check your callbacks.\n"
     ]
    },
    {
     "name": "stderr",
     "output_type": "stream",
     "text": [
      "/Users/arasdirekoglu/opt/anaconda3/envs/recom/lib/python3.9/site-packages/tensorflow/python/keras/engine/training.py:2325: UserWarning: `Model.state_updates` will be removed in a future version. This property should not be used in TensorFlow 2.0, as `updates` are applied automatically.\n",
      "  warnings.warn('`Model.state_updates` will be removed in a future version. '\n"
     ]
    },
    {
     "name": "stdout",
     "output_type": "stream",
     "text": [
      "Recall@10 for Intermediate Dim:  1060 Latent Dim:  40 Batch size:  50 Annealing:  True :\t 0.10190082739709273\n",
      "Recall@20 for Intermediate Dim:  1060 Latent Dim:  40 Batch size:  50 Annealing:  True :\t 0.1572335330314281\n"
     ]
    },
    {
     "name": "stderr",
     "output_type": "stream",
     "text": [
      "/Users/arasdirekoglu/opt/anaconda3/envs/recom/lib/python3.9/site-packages/tensorflow/python/keras/engine/training.py:2325: UserWarning: `Model.state_updates` will be removed in a future version. This property should not be used in TensorFlow 2.0, as `updates` are applied automatically.\n",
      "  warnings.warn('`Model.state_updates` will be removed in a future version. '\n"
     ]
    },
    {
     "name": "stdout",
     "output_type": "stream",
     "text": [
      "Recall@10 for Intermediate Dim:  1060 Latent Dim:  40 Batch size:  50 Annealing:  False :\t 0.08401278704967312\n",
      "Recall@20 for Intermediate Dim:  1060 Latent Dim:  40 Batch size:  50 Annealing:  False :\t 0.13278249479763932\n",
      "WARNING:tensorflow:Callback method `on_train_batch_end` is slow compared to the batch time (batch time: 0.0298s vs `on_train_batch_end` time: 0.1423s). Check your callbacks.\n"
     ]
    },
    {
     "name": "stderr",
     "output_type": "stream",
     "text": [
      "/Users/arasdirekoglu/opt/anaconda3/envs/recom/lib/python3.9/site-packages/tensorflow/python/keras/engine/training.py:2325: UserWarning: `Model.state_updates` will be removed in a future version. This property should not be used in TensorFlow 2.0, as `updates` are applied automatically.\n",
      "  warnings.warn('`Model.state_updates` will be removed in a future version. '\n"
     ]
    },
    {
     "name": "stdout",
     "output_type": "stream",
     "text": [
      "Recall@10 for Intermediate Dim:  1060 Latent Dim:  50 Batch size:  50 Annealing:  True :\t 0.10025052859203203\n",
      "Recall@20 for Intermediate Dim:  1060 Latent Dim:  50 Batch size:  50 Annealing:  True :\t 0.15062942851353137\n"
     ]
    },
    {
     "name": "stderr",
     "output_type": "stream",
     "text": [
      "/Users/arasdirekoglu/opt/anaconda3/envs/recom/lib/python3.9/site-packages/tensorflow/python/keras/engine/training.py:2325: UserWarning: `Model.state_updates` will be removed in a future version. This property should not be used in TensorFlow 2.0, as `updates` are applied automatically.\n",
      "  warnings.warn('`Model.state_updates` will be removed in a future version. '\n"
     ]
    },
    {
     "name": "stdout",
     "output_type": "stream",
     "text": [
      "Recall@10 for Intermediate Dim:  1060 Latent Dim:  50 Batch size:  50 Annealing:  False :\t 0.08113107785547176\n",
      "Recall@20 for Intermediate Dim:  1060 Latent Dim:  50 Batch size:  50 Annealing:  False :\t 0.12158010930789262\n",
      "WARNING:tensorflow:Callback method `on_train_batch_end` is slow compared to the batch time (batch time: 0.0306s vs `on_train_batch_end` time: 0.1514s). Check your callbacks.\n"
     ]
    },
    {
     "name": "stderr",
     "output_type": "stream",
     "text": [
      "/Users/arasdirekoglu/opt/anaconda3/envs/recom/lib/python3.9/site-packages/tensorflow/python/keras/engine/training.py:2325: UserWarning: `Model.state_updates` will be removed in a future version. This property should not be used in TensorFlow 2.0, as `updates` are applied automatically.\n",
      "  warnings.warn('`Model.state_updates` will be removed in a future version. '\n"
     ]
    },
    {
     "name": "stdout",
     "output_type": "stream",
     "text": [
      "Recall@10 for Intermediate Dim:  1060 Latent Dim:  60 Batch size:  50 Annealing:  True :\t 0.09395231947969636\n",
      "Recall@20 for Intermediate Dim:  1060 Latent Dim:  60 Batch size:  50 Annealing:  True :\t 0.13523622268343458\n"
     ]
    },
    {
     "name": "stderr",
     "output_type": "stream",
     "text": [
      "/Users/arasdirekoglu/opt/anaconda3/envs/recom/lib/python3.9/site-packages/tensorflow/python/keras/engine/training.py:2325: UserWarning: `Model.state_updates` will be removed in a future version. This property should not be used in TensorFlow 2.0, as `updates` are applied automatically.\n",
      "  warnings.warn('`Model.state_updates` will be removed in a future version. '\n"
     ]
    },
    {
     "name": "stdout",
     "output_type": "stream",
     "text": [
      "Recall@10 for Intermediate Dim:  1060 Latent Dim:  60 Batch size:  50 Annealing:  False :\t 0.07991653469290091\n",
      "Recall@20 for Intermediate Dim:  1060 Latent Dim:  60 Batch size:  50 Annealing:  False :\t 0.11957376952490657\n",
      "WARNING:tensorflow:Callback method `on_train_batch_end` is slow compared to the batch time (batch time: 0.0320s vs `on_train_batch_end` time: 0.1513s). Check your callbacks.\n"
     ]
    },
    {
     "name": "stderr",
     "output_type": "stream",
     "text": [
      "/Users/arasdirekoglu/opt/anaconda3/envs/recom/lib/python3.9/site-packages/tensorflow/python/keras/engine/training.py:2325: UserWarning: `Model.state_updates` will be removed in a future version. This property should not be used in TensorFlow 2.0, as `updates` are applied automatically.\n",
      "  warnings.warn('`Model.state_updates` will be removed in a future version. '\n"
     ]
    },
    {
     "name": "stdout",
     "output_type": "stream",
     "text": [
      "Recall@10 for Intermediate Dim:  1080 Latent Dim:  40 Batch size:  50 Annealing:  True :\t 0.1023614358608201\n",
      "Recall@20 for Intermediate Dim:  1080 Latent Dim:  40 Batch size:  50 Annealing:  True :\t 0.15677116297693905\n"
     ]
    },
    {
     "name": "stderr",
     "output_type": "stream",
     "text": [
      "/Users/arasdirekoglu/opt/anaconda3/envs/recom/lib/python3.9/site-packages/tensorflow/python/keras/engine/training.py:2325: UserWarning: `Model.state_updates` will be removed in a future version. This property should not be used in TensorFlow 2.0, as `updates` are applied automatically.\n",
      "  warnings.warn('`Model.state_updates` will be removed in a future version. '\n"
     ]
    },
    {
     "name": "stdout",
     "output_type": "stream",
     "text": [
      "Recall@10 for Intermediate Dim:  1080 Latent Dim:  40 Batch size:  50 Annealing:  False :\t 0.0842308316935774\n",
      "Recall@20 for Intermediate Dim:  1080 Latent Dim:  40 Batch size:  50 Annealing:  False :\t 0.12705022458842302\n",
      "WARNING:tensorflow:Callback method `on_train_batch_end` is slow compared to the batch time (batch time: 0.0308s vs `on_train_batch_end` time: 0.1608s). Check your callbacks.\n"
     ]
    },
    {
     "name": "stderr",
     "output_type": "stream",
     "text": [
      "/Users/arasdirekoglu/opt/anaconda3/envs/recom/lib/python3.9/site-packages/tensorflow/python/keras/engine/training.py:2325: UserWarning: `Model.state_updates` will be removed in a future version. This property should not be used in TensorFlow 2.0, as `updates` are applied automatically.\n",
      "  warnings.warn('`Model.state_updates` will be removed in a future version. '\n"
     ]
    },
    {
     "name": "stdout",
     "output_type": "stream",
     "text": [
      "Recall@10 for Intermediate Dim:  1080 Latent Dim:  50 Batch size:  50 Annealing:  True :\t 0.07872027932578016\n",
      "Recall@20 for Intermediate Dim:  1080 Latent Dim:  50 Batch size:  50 Annealing:  True :\t 0.1290968476172172\n"
     ]
    },
    {
     "name": "stderr",
     "output_type": "stream",
     "text": [
      "/Users/arasdirekoglu/opt/anaconda3/envs/recom/lib/python3.9/site-packages/tensorflow/python/keras/engine/training.py:2325: UserWarning: `Model.state_updates` will be removed in a future version. This property should not be used in TensorFlow 2.0, as `updates` are applied automatically.\n",
      "  warnings.warn('`Model.state_updates` will be removed in a future version. '\n"
     ]
    },
    {
     "name": "stdout",
     "output_type": "stream",
     "text": [
      "Recall@10 for Intermediate Dim:  1080 Latent Dim:  50 Batch size:  50 Annealing:  False :\t 0.08659204318542334\n",
      "Recall@20 for Intermediate Dim:  1080 Latent Dim:  50 Batch size:  50 Annealing:  False :\t 0.12834038191657285\n",
      "WARNING:tensorflow:Callback method `on_train_batch_end` is slow compared to the batch time (batch time: 0.0344s vs `on_train_batch_end` time: 0.1630s). Check your callbacks.\n"
     ]
    },
    {
     "name": "stderr",
     "output_type": "stream",
     "text": [
      "/Users/arasdirekoglu/opt/anaconda3/envs/recom/lib/python3.9/site-packages/tensorflow/python/keras/engine/training.py:2325: UserWarning: `Model.state_updates` will be removed in a future version. This property should not be used in TensorFlow 2.0, as `updates` are applied automatically.\n",
      "  warnings.warn('`Model.state_updates` will be removed in a future version. '\n"
     ]
    },
    {
     "name": "stdout",
     "output_type": "stream",
     "text": [
      "Recall@10 for Intermediate Dim:  1080 Latent Dim:  60 Batch size:  50 Annealing:  True :\t 0.08867689485871046\n",
      "Recall@20 for Intermediate Dim:  1080 Latent Dim:  60 Batch size:  50 Annealing:  True :\t 0.1337936112926617\n"
     ]
    },
    {
     "name": "stderr",
     "output_type": "stream",
     "text": [
      "/Users/arasdirekoglu/opt/anaconda3/envs/recom/lib/python3.9/site-packages/tensorflow/python/keras/engine/training.py:2325: UserWarning: `Model.state_updates` will be removed in a future version. This property should not be used in TensorFlow 2.0, as `updates` are applied automatically.\n",
      "  warnings.warn('`Model.state_updates` will be removed in a future version. '\n"
     ]
    },
    {
     "name": "stdout",
     "output_type": "stream",
     "text": [
      "Recall@10 for Intermediate Dim:  1080 Latent Dim:  60 Batch size:  50 Annealing:  False :\t 0.07807963532248267\n",
      "Recall@20 for Intermediate Dim:  1080 Latent Dim:  60 Batch size:  50 Annealing:  False :\t 0.12135551019172465\n"
     ]
    }
   ],
   "source": [
    "# Set up Parameters\n",
    "intermediate_dimension = [920, 940, 960, 980, 1000, 1020, 1040, 1060, 1080] \n",
    "latent_dimension = [40, 50, 60] \n",
    "batch_sizes = [50]\n",
    "anneal_status = [True, False]\n",
    "\n",
    "# Initiate Lists for Assessment\n",
    "recall_10 = []\n",
    "recall_20 = []\n",
    "precision_10 = []\n",
    "precision_20 = []\n",
    "int_dimensions = []\n",
    "lt_dimensions = []\n",
    "anneal = []\n",
    "batch = []\n",
    "\n",
    "for i in intermediate_dimension:\n",
    "    for l in latent_dimension:\n",
    "        for b in batch_sizes:\n",
    "            for a in anneal_status:\n",
    "                try:\n",
    "                    del(model)\n",
    "                except:\n",
    "                    pass\n",
    "                \n",
    "                # Initiate Model \n",
    "                if a == True:\n",
    "                    model = StandardVAE(n_users=train_data.shape[0],\n",
    "                                        original_dim=train_data.shape[1],\n",
    "                                        intermediate_dim=i,\n",
    "                                        latent_dim=l,\n",
    "                                        n_epochs=100,\n",
    "                                        batch_size=b,\n",
    "                                        k=100,\n",
    "                                        verbose=0,\n",
    "                                        seed=1,\n",
    "                                        save_path=WEIGHTS_PATH,\n",
    "                                        drop_encoder=0.5,\n",
    "                                        drop_decoder=0.5,\n",
    "                                        annealing=True,\n",
    "                                        anneal_cap=1.0)\n",
    "                else:\n",
    "                    model = StandardVAE(n_users=train_data.shape[0], # Number of unique users in the training set\n",
    "                                        original_dim=train_data.shape[1], # Number of unique items in the training set\n",
    "                                        intermediate_dim=i, \n",
    "                                        latent_dim=l, \n",
    "                                        n_epochs=100, \n",
    "                                        batch_size=b, \n",
    "                                        k=100,\n",
    "                                        verbose=0,\n",
    "                                        seed=1,\n",
    "                                        drop_encoder=0.5,\n",
    "                                        drop_decoder=0.5,\n",
    "                                        annealing=False,\n",
    "                                        beta=1.0,\n",
    "                                        save_path=WEIGHTS_PATH)\n",
    "                \n",
    "                # Fit model\n",
    "                model.fit(x_train=train_data,\n",
    "                        x_valid=val_data,\n",
    "                        x_val_tr=val_data_tr,\n",
    "                        x_val_te=val_data_te_ratings,\n",
    "                        mapper=am_val)\n",
    "            \n",
    "                # Model prediction on the training part of test set K = 10  \n",
    "                top_k_10 =  model.recommend_k_items(x=test_data_tr,\n",
    "                                                    k=10,\n",
    "                                                    remove_seen=True)\n",
    "\n",
    "                # Convert sparse matrix back to df\n",
    "                top_k_df_10 = am_test.map_back_sparse(top_k_10, kind='prediction')\n",
    "                test_df = am_test.map_back_sparse(test_data_te_ratings, kind='ratings') # use test_data_te_, with the original ratings\n",
    "    \n",
    "\n",
    "                # Use the ranking metrics for evaluation\n",
    "                eval_precision_10 = precision_at_k(test_df, top_k_df_10, col_prediction='prediction', k=10)\n",
    "                eval_recall_10 = recall_at_k(test_df, top_k_df_10, col_prediction='prediction', k=10)\n",
    "\n",
    "                # Print intermediate Status for Recall@10\n",
    "                print(\"Recall@10 for Intermediate Dim: \", i, \"Latent Dim: \", l, \"Batch size: \", b, \"Annealing: \", a, \":\\t\", eval_recall_10)\n",
    "                \n",
    "                #Model prediction on the training part of test set K = 20  \n",
    "                top_k_20 =  model.recommend_k_items(x=test_data_tr,\n",
    "                                                    k=20,\n",
    "                                                    remove_seen=True)\n",
    "\n",
    "                # Convert sparse matrix back to df\n",
    "                top_k_df_20 = am_test.map_back_sparse(top_k_20, kind='prediction')\n",
    "    \n",
    "\n",
    "                # Use the ranking metrics for evaluation\n",
    "                eval_precision_20 = precision_at_k(test_df, top_k_df_20, col_prediction='prediction', k=20)\n",
    "                eval_recall_20 = recall_at_k(test_df, top_k_df_20, col_prediction='prediction', k=20)\n",
    "                \n",
    "                # Print intermediate Status for Recall@20\n",
    "                print(\"Recall@20 for Intermediate Dim: \", i, \"Latent Dim: \", l, \"Batch size: \", b, \"Annealing: \", a, \":\\t\", eval_recall_20)\n",
    "                \n",
    "                # Append Lists\n",
    "                recall_10.append(eval_recall_10)\n",
    "                recall_20.append(eval_recall_20)\n",
    "                precision_10.append(eval_precision_10)\n",
    "                precision_20.append(eval_precision_20)\n",
    "                int_dimensions.append(i)\n",
    "                lt_dimensions.append(l)\n",
    "                anneal.append(a)\n",
    "                batch.append(b) "
   ]
  },
  {
   "cell_type": "code",
   "execution_count": 33,
   "metadata": {},
   "outputs": [
    {
     "data": {
      "text/html": [
       "<div>\n",
       "<style scoped>\n",
       "    .dataframe tbody tr th:only-of-type {\n",
       "        vertical-align: middle;\n",
       "    }\n",
       "\n",
       "    .dataframe tbody tr th {\n",
       "        vertical-align: top;\n",
       "    }\n",
       "\n",
       "    .dataframe thead th {\n",
       "        text-align: right;\n",
       "    }\n",
       "</style>\n",
       "<table border=\"1\" class=\"dataframe\">\n",
       "  <thead>\n",
       "    <tr style=\"text-align: right;\">\n",
       "      <th></th>\n",
       "      <th>intermediate_dimensions</th>\n",
       "      <th>latent_dimensions</th>\n",
       "      <th>annealing</th>\n",
       "      <th>batch_size</th>\n",
       "      <th>recall@10</th>\n",
       "      <th>recall@20</th>\n",
       "      <th>precision@10</th>\n",
       "      <th>precision@20</th>\n",
       "    </tr>\n",
       "  </thead>\n",
       "  <tbody>\n",
       "    <tr>\n",
       "      <th>38</th>\n",
       "      <td>1040</td>\n",
       "      <td>50</td>\n",
       "      <td>True</td>\n",
       "      <td>50</td>\n",
       "      <td>0.103255</td>\n",
       "      <td>0.157123</td>\n",
       "      <td>0.145333</td>\n",
       "      <td>0.109467</td>\n",
       "    </tr>\n",
       "    <tr>\n",
       "      <th>48</th>\n",
       "      <td>1080</td>\n",
       "      <td>40</td>\n",
       "      <td>True</td>\n",
       "      <td>50</td>\n",
       "      <td>0.102361</td>\n",
       "      <td>0.156771</td>\n",
       "      <td>0.142800</td>\n",
       "      <td>0.110733</td>\n",
       "    </tr>\n",
       "    <tr>\n",
       "      <th>42</th>\n",
       "      <td>1060</td>\n",
       "      <td>40</td>\n",
       "      <td>True</td>\n",
       "      <td>50</td>\n",
       "      <td>0.101901</td>\n",
       "      <td>0.157234</td>\n",
       "      <td>0.141467</td>\n",
       "      <td>0.112067</td>\n",
       "    </tr>\n",
       "    <tr>\n",
       "      <th>20</th>\n",
       "      <td>980</td>\n",
       "      <td>50</td>\n",
       "      <td>True</td>\n",
       "      <td>50</td>\n",
       "      <td>0.101208</td>\n",
       "      <td>0.152618</td>\n",
       "      <td>0.135200</td>\n",
       "      <td>0.108067</td>\n",
       "    </tr>\n",
       "    <tr>\n",
       "      <th>44</th>\n",
       "      <td>1060</td>\n",
       "      <td>50</td>\n",
       "      <td>True</td>\n",
       "      <td>50</td>\n",
       "      <td>0.100251</td>\n",
       "      <td>0.150629</td>\n",
       "      <td>0.141600</td>\n",
       "      <td>0.108533</td>\n",
       "    </tr>\n",
       "    <tr>\n",
       "      <th>6</th>\n",
       "      <td>940</td>\n",
       "      <td>40</td>\n",
       "      <td>True</td>\n",
       "      <td>50</td>\n",
       "      <td>0.095960</td>\n",
       "      <td>0.139809</td>\n",
       "      <td>0.134533</td>\n",
       "      <td>0.104600</td>\n",
       "    </tr>\n",
       "    <tr>\n",
       "      <th>46</th>\n",
       "      <td>1060</td>\n",
       "      <td>60</td>\n",
       "      <td>True</td>\n",
       "      <td>50</td>\n",
       "      <td>0.093952</td>\n",
       "      <td>0.135236</td>\n",
       "      <td>0.131067</td>\n",
       "      <td>0.100467</td>\n",
       "    </tr>\n",
       "    <tr>\n",
       "      <th>32</th>\n",
       "      <td>1020</td>\n",
       "      <td>50</td>\n",
       "      <td>True</td>\n",
       "      <td>50</td>\n",
       "      <td>0.093548</td>\n",
       "      <td>0.138507</td>\n",
       "      <td>0.134267</td>\n",
       "      <td>0.101733</td>\n",
       "    </tr>\n",
       "    <tr>\n",
       "      <th>4</th>\n",
       "      <td>920</td>\n",
       "      <td>60</td>\n",
       "      <td>True</td>\n",
       "      <td>50</td>\n",
       "      <td>0.090408</td>\n",
       "      <td>0.131442</td>\n",
       "      <td>0.128933</td>\n",
       "      <td>0.098667</td>\n",
       "    </tr>\n",
       "    <tr>\n",
       "      <th>18</th>\n",
       "      <td>980</td>\n",
       "      <td>40</td>\n",
       "      <td>True</td>\n",
       "      <td>50</td>\n",
       "      <td>0.088995</td>\n",
       "      <td>0.138336</td>\n",
       "      <td>0.129467</td>\n",
       "      <td>0.102267</td>\n",
       "    </tr>\n",
       "    <tr>\n",
       "      <th>52</th>\n",
       "      <td>1080</td>\n",
       "      <td>60</td>\n",
       "      <td>True</td>\n",
       "      <td>50</td>\n",
       "      <td>0.088677</td>\n",
       "      <td>0.133794</td>\n",
       "      <td>0.126400</td>\n",
       "      <td>0.100000</td>\n",
       "    </tr>\n",
       "    <tr>\n",
       "      <th>24</th>\n",
       "      <td>1000</td>\n",
       "      <td>40</td>\n",
       "      <td>True</td>\n",
       "      <td>50</td>\n",
       "      <td>0.088178</td>\n",
       "      <td>0.136833</td>\n",
       "      <td>0.128400</td>\n",
       "      <td>0.102200</td>\n",
       "    </tr>\n",
       "    <tr>\n",
       "      <th>0</th>\n",
       "      <td>920</td>\n",
       "      <td>40</td>\n",
       "      <td>True</td>\n",
       "      <td>50</td>\n",
       "      <td>0.087835</td>\n",
       "      <td>0.137849</td>\n",
       "      <td>0.130667</td>\n",
       "      <td>0.101600</td>\n",
       "    </tr>\n",
       "    <tr>\n",
       "      <th>16</th>\n",
       "      <td>960</td>\n",
       "      <td>60</td>\n",
       "      <td>True</td>\n",
       "      <td>50</td>\n",
       "      <td>0.087604</td>\n",
       "      <td>0.137496</td>\n",
       "      <td>0.128667</td>\n",
       "      <td>0.101267</td>\n",
       "    </tr>\n",
       "    <tr>\n",
       "      <th>22</th>\n",
       "      <td>980</td>\n",
       "      <td>60</td>\n",
       "      <td>True</td>\n",
       "      <td>50</td>\n",
       "      <td>0.087420</td>\n",
       "      <td>0.132148</td>\n",
       "      <td>0.126133</td>\n",
       "      <td>0.100867</td>\n",
       "    </tr>\n",
       "    <tr>\n",
       "      <th>34</th>\n",
       "      <td>1020</td>\n",
       "      <td>60</td>\n",
       "      <td>True</td>\n",
       "      <td>50</td>\n",
       "      <td>0.087386</td>\n",
       "      <td>0.134316</td>\n",
       "      <td>0.125333</td>\n",
       "      <td>0.097600</td>\n",
       "    </tr>\n",
       "    <tr>\n",
       "      <th>51</th>\n",
       "      <td>1080</td>\n",
       "      <td>50</td>\n",
       "      <td>False</td>\n",
       "      <td>50</td>\n",
       "      <td>0.086592</td>\n",
       "      <td>0.128340</td>\n",
       "      <td>0.127467</td>\n",
       "      <td>0.099867</td>\n",
       "    </tr>\n",
       "    <tr>\n",
       "      <th>14</th>\n",
       "      <td>960</td>\n",
       "      <td>50</td>\n",
       "      <td>True</td>\n",
       "      <td>50</td>\n",
       "      <td>0.085918</td>\n",
       "      <td>0.129410</td>\n",
       "      <td>0.128000</td>\n",
       "      <td>0.097933</td>\n",
       "    </tr>\n",
       "    <tr>\n",
       "      <th>26</th>\n",
       "      <td>1000</td>\n",
       "      <td>50</td>\n",
       "      <td>True</td>\n",
       "      <td>50</td>\n",
       "      <td>0.085203</td>\n",
       "      <td>0.126234</td>\n",
       "      <td>0.122933</td>\n",
       "      <td>0.096333</td>\n",
       "    </tr>\n",
       "    <tr>\n",
       "      <th>36</th>\n",
       "      <td>1040</td>\n",
       "      <td>40</td>\n",
       "      <td>True</td>\n",
       "      <td>50</td>\n",
       "      <td>0.084955</td>\n",
       "      <td>0.133576</td>\n",
       "      <td>0.126667</td>\n",
       "      <td>0.100133</td>\n",
       "    </tr>\n",
       "    <tr>\n",
       "      <th>19</th>\n",
       "      <td>980</td>\n",
       "      <td>40</td>\n",
       "      <td>False</td>\n",
       "      <td>50</td>\n",
       "      <td>0.084657</td>\n",
       "      <td>0.130916</td>\n",
       "      <td>0.127467</td>\n",
       "      <td>0.099333</td>\n",
       "    </tr>\n",
       "    <tr>\n",
       "      <th>23</th>\n",
       "      <td>980</td>\n",
       "      <td>60</td>\n",
       "      <td>False</td>\n",
       "      <td>50</td>\n",
       "      <td>0.084490</td>\n",
       "      <td>0.127420</td>\n",
       "      <td>0.121733</td>\n",
       "      <td>0.097733</td>\n",
       "    </tr>\n",
       "    <tr>\n",
       "      <th>28</th>\n",
       "      <td>1000</td>\n",
       "      <td>60</td>\n",
       "      <td>True</td>\n",
       "      <td>50</td>\n",
       "      <td>0.084422</td>\n",
       "      <td>0.131524</td>\n",
       "      <td>0.122000</td>\n",
       "      <td>0.100600</td>\n",
       "    </tr>\n",
       "    <tr>\n",
       "      <th>40</th>\n",
       "      <td>1040</td>\n",
       "      <td>60</td>\n",
       "      <td>True</td>\n",
       "      <td>50</td>\n",
       "      <td>0.084370</td>\n",
       "      <td>0.126202</td>\n",
       "      <td>0.124933</td>\n",
       "      <td>0.097867</td>\n",
       "    </tr>\n",
       "    <tr>\n",
       "      <th>33</th>\n",
       "      <td>1020</td>\n",
       "      <td>50</td>\n",
       "      <td>False</td>\n",
       "      <td>50</td>\n",
       "      <td>0.084306</td>\n",
       "      <td>0.127332</td>\n",
       "      <td>0.128400</td>\n",
       "      <td>0.100000</td>\n",
       "    </tr>\n",
       "    <tr>\n",
       "      <th>49</th>\n",
       "      <td>1080</td>\n",
       "      <td>40</td>\n",
       "      <td>False</td>\n",
       "      <td>50</td>\n",
       "      <td>0.084231</td>\n",
       "      <td>0.127050</td>\n",
       "      <td>0.127733</td>\n",
       "      <td>0.099533</td>\n",
       "    </tr>\n",
       "    <tr>\n",
       "      <th>43</th>\n",
       "      <td>1060</td>\n",
       "      <td>40</td>\n",
       "      <td>False</td>\n",
       "      <td>50</td>\n",
       "      <td>0.084013</td>\n",
       "      <td>0.132782</td>\n",
       "      <td>0.130533</td>\n",
       "      <td>0.101733</td>\n",
       "    </tr>\n",
       "    <tr>\n",
       "      <th>8</th>\n",
       "      <td>940</td>\n",
       "      <td>50</td>\n",
       "      <td>True</td>\n",
       "      <td>50</td>\n",
       "      <td>0.083314</td>\n",
       "      <td>0.131927</td>\n",
       "      <td>0.120933</td>\n",
       "      <td>0.097400</td>\n",
       "    </tr>\n",
       "    <tr>\n",
       "      <th>15</th>\n",
       "      <td>960</td>\n",
       "      <td>50</td>\n",
       "      <td>False</td>\n",
       "      <td>50</td>\n",
       "      <td>0.081996</td>\n",
       "      <td>0.127564</td>\n",
       "      <td>0.125600</td>\n",
       "      <td>0.098267</td>\n",
       "    </tr>\n",
       "    <tr>\n",
       "      <th>31</th>\n",
       "      <td>1020</td>\n",
       "      <td>40</td>\n",
       "      <td>False</td>\n",
       "      <td>50</td>\n",
       "      <td>0.081580</td>\n",
       "      <td>0.126043</td>\n",
       "      <td>0.124533</td>\n",
       "      <td>0.095400</td>\n",
       "    </tr>\n",
       "    <tr>\n",
       "      <th>5</th>\n",
       "      <td>920</td>\n",
       "      <td>60</td>\n",
       "      <td>False</td>\n",
       "      <td>50</td>\n",
       "      <td>0.081466</td>\n",
       "      <td>0.127592</td>\n",
       "      <td>0.119600</td>\n",
       "      <td>0.096933</td>\n",
       "    </tr>\n",
       "    <tr>\n",
       "      <th>9</th>\n",
       "      <td>940</td>\n",
       "      <td>50</td>\n",
       "      <td>False</td>\n",
       "      <td>50</td>\n",
       "      <td>0.081400</td>\n",
       "      <td>0.131662</td>\n",
       "      <td>0.124533</td>\n",
       "      <td>0.098467</td>\n",
       "    </tr>\n",
       "    <tr>\n",
       "      <th>2</th>\n",
       "      <td>920</td>\n",
       "      <td>50</td>\n",
       "      <td>True</td>\n",
       "      <td>50</td>\n",
       "      <td>0.081165</td>\n",
       "      <td>0.133931</td>\n",
       "      <td>0.121867</td>\n",
       "      <td>0.097933</td>\n",
       "    </tr>\n",
       "    <tr>\n",
       "      <th>45</th>\n",
       "      <td>1060</td>\n",
       "      <td>50</td>\n",
       "      <td>False</td>\n",
       "      <td>50</td>\n",
       "      <td>0.081131</td>\n",
       "      <td>0.121580</td>\n",
       "      <td>0.121467</td>\n",
       "      <td>0.093533</td>\n",
       "    </tr>\n",
       "    <tr>\n",
       "      <th>10</th>\n",
       "      <td>940</td>\n",
       "      <td>60</td>\n",
       "      <td>True</td>\n",
       "      <td>50</td>\n",
       "      <td>0.080182</td>\n",
       "      <td>0.129394</td>\n",
       "      <td>0.119333</td>\n",
       "      <td>0.095667</td>\n",
       "    </tr>\n",
       "    <tr>\n",
       "      <th>37</th>\n",
       "      <td>1040</td>\n",
       "      <td>40</td>\n",
       "      <td>False</td>\n",
       "      <td>50</td>\n",
       "      <td>0.080074</td>\n",
       "      <td>0.120250</td>\n",
       "      <td>0.123600</td>\n",
       "      <td>0.095733</td>\n",
       "    </tr>\n",
       "    <tr>\n",
       "      <th>11</th>\n",
       "      <td>940</td>\n",
       "      <td>60</td>\n",
       "      <td>False</td>\n",
       "      <td>50</td>\n",
       "      <td>0.080000</td>\n",
       "      <td>0.124739</td>\n",
       "      <td>0.120667</td>\n",
       "      <td>0.097667</td>\n",
       "    </tr>\n",
       "    <tr>\n",
       "      <th>47</th>\n",
       "      <td>1060</td>\n",
       "      <td>60</td>\n",
       "      <td>False</td>\n",
       "      <td>50</td>\n",
       "      <td>0.079917</td>\n",
       "      <td>0.119574</td>\n",
       "      <td>0.121600</td>\n",
       "      <td>0.093267</td>\n",
       "    </tr>\n",
       "    <tr>\n",
       "      <th>17</th>\n",
       "      <td>960</td>\n",
       "      <td>60</td>\n",
       "      <td>False</td>\n",
       "      <td>50</td>\n",
       "      <td>0.079681</td>\n",
       "      <td>0.115509</td>\n",
       "      <td>0.117200</td>\n",
       "      <td>0.091733</td>\n",
       "    </tr>\n",
       "    <tr>\n",
       "      <th>30</th>\n",
       "      <td>1020</td>\n",
       "      <td>40</td>\n",
       "      <td>True</td>\n",
       "      <td>50</td>\n",
       "      <td>0.079594</td>\n",
       "      <td>0.125998</td>\n",
       "      <td>0.120933</td>\n",
       "      <td>0.095533</td>\n",
       "    </tr>\n",
       "    <tr>\n",
       "      <th>29</th>\n",
       "      <td>1000</td>\n",
       "      <td>60</td>\n",
       "      <td>False</td>\n",
       "      <td>50</td>\n",
       "      <td>0.079179</td>\n",
       "      <td>0.126830</td>\n",
       "      <td>0.121333</td>\n",
       "      <td>0.098133</td>\n",
       "    </tr>\n",
       "    <tr>\n",
       "      <th>50</th>\n",
       "      <td>1080</td>\n",
       "      <td>50</td>\n",
       "      <td>True</td>\n",
       "      <td>50</td>\n",
       "      <td>0.078720</td>\n",
       "      <td>0.129097</td>\n",
       "      <td>0.119733</td>\n",
       "      <td>0.097067</td>\n",
       "    </tr>\n",
       "    <tr>\n",
       "      <th>53</th>\n",
       "      <td>1080</td>\n",
       "      <td>60</td>\n",
       "      <td>False</td>\n",
       "      <td>50</td>\n",
       "      <td>0.078080</td>\n",
       "      <td>0.121356</td>\n",
       "      <td>0.118667</td>\n",
       "      <td>0.094733</td>\n",
       "    </tr>\n",
       "    <tr>\n",
       "      <th>13</th>\n",
       "      <td>960</td>\n",
       "      <td>40</td>\n",
       "      <td>False</td>\n",
       "      <td>50</td>\n",
       "      <td>0.077147</td>\n",
       "      <td>0.117550</td>\n",
       "      <td>0.118400</td>\n",
       "      <td>0.090200</td>\n",
       "    </tr>\n",
       "    <tr>\n",
       "      <th>12</th>\n",
       "      <td>960</td>\n",
       "      <td>40</td>\n",
       "      <td>True</td>\n",
       "      <td>50</td>\n",
       "      <td>0.077032</td>\n",
       "      <td>0.126029</td>\n",
       "      <td>0.119067</td>\n",
       "      <td>0.094867</td>\n",
       "    </tr>\n",
       "    <tr>\n",
       "      <th>1</th>\n",
       "      <td>920</td>\n",
       "      <td>40</td>\n",
       "      <td>False</td>\n",
       "      <td>50</td>\n",
       "      <td>0.076913</td>\n",
       "      <td>0.125755</td>\n",
       "      <td>0.120133</td>\n",
       "      <td>0.095400</td>\n",
       "    </tr>\n",
       "    <tr>\n",
       "      <th>25</th>\n",
       "      <td>1000</td>\n",
       "      <td>40</td>\n",
       "      <td>False</td>\n",
       "      <td>50</td>\n",
       "      <td>0.075500</td>\n",
       "      <td>0.121671</td>\n",
       "      <td>0.116267</td>\n",
       "      <td>0.094533</td>\n",
       "    </tr>\n",
       "    <tr>\n",
       "      <th>35</th>\n",
       "      <td>1020</td>\n",
       "      <td>60</td>\n",
       "      <td>False</td>\n",
       "      <td>50</td>\n",
       "      <td>0.074861</td>\n",
       "      <td>0.127182</td>\n",
       "      <td>0.116667</td>\n",
       "      <td>0.099533</td>\n",
       "    </tr>\n",
       "    <tr>\n",
       "      <th>21</th>\n",
       "      <td>980</td>\n",
       "      <td>50</td>\n",
       "      <td>False</td>\n",
       "      <td>50</td>\n",
       "      <td>0.074179</td>\n",
       "      <td>0.121139</td>\n",
       "      <td>0.112400</td>\n",
       "      <td>0.092200</td>\n",
       "    </tr>\n",
       "    <tr>\n",
       "      <th>27</th>\n",
       "      <td>1000</td>\n",
       "      <td>50</td>\n",
       "      <td>False</td>\n",
       "      <td>50</td>\n",
       "      <td>0.073944</td>\n",
       "      <td>0.117659</td>\n",
       "      <td>0.116000</td>\n",
       "      <td>0.092467</td>\n",
       "    </tr>\n",
       "    <tr>\n",
       "      <th>39</th>\n",
       "      <td>1040</td>\n",
       "      <td>50</td>\n",
       "      <td>False</td>\n",
       "      <td>50</td>\n",
       "      <td>0.073109</td>\n",
       "      <td>0.125839</td>\n",
       "      <td>0.115200</td>\n",
       "      <td>0.095667</td>\n",
       "    </tr>\n",
       "    <tr>\n",
       "      <th>41</th>\n",
       "      <td>1040</td>\n",
       "      <td>60</td>\n",
       "      <td>False</td>\n",
       "      <td>50</td>\n",
       "      <td>0.072749</td>\n",
       "      <td>0.124267</td>\n",
       "      <td>0.112533</td>\n",
       "      <td>0.093600</td>\n",
       "    </tr>\n",
       "    <tr>\n",
       "      <th>7</th>\n",
       "      <td>940</td>\n",
       "      <td>40</td>\n",
       "      <td>False</td>\n",
       "      <td>50</td>\n",
       "      <td>0.072655</td>\n",
       "      <td>0.119495</td>\n",
       "      <td>0.113333</td>\n",
       "      <td>0.091933</td>\n",
       "    </tr>\n",
       "    <tr>\n",
       "      <th>3</th>\n",
       "      <td>920</td>\n",
       "      <td>50</td>\n",
       "      <td>False</td>\n",
       "      <td>50</td>\n",
       "      <td>0.071164</td>\n",
       "      <td>0.118101</td>\n",
       "      <td>0.111867</td>\n",
       "      <td>0.091800</td>\n",
       "    </tr>\n",
       "  </tbody>\n",
       "</table>\n",
       "</div>"
      ],
      "text/plain": [
       "    intermediate_dimensions  latent_dimensions  annealing  batch_size  \\\n",
       "38                     1040                 50       True          50   \n",
       "48                     1080                 40       True          50   \n",
       "42                     1060                 40       True          50   \n",
       "20                      980                 50       True          50   \n",
       "44                     1060                 50       True          50   \n",
       "6                       940                 40       True          50   \n",
       "46                     1060                 60       True          50   \n",
       "32                     1020                 50       True          50   \n",
       "4                       920                 60       True          50   \n",
       "18                      980                 40       True          50   \n",
       "52                     1080                 60       True          50   \n",
       "24                     1000                 40       True          50   \n",
       "0                       920                 40       True          50   \n",
       "16                      960                 60       True          50   \n",
       "22                      980                 60       True          50   \n",
       "34                     1020                 60       True          50   \n",
       "51                     1080                 50      False          50   \n",
       "14                      960                 50       True          50   \n",
       "26                     1000                 50       True          50   \n",
       "36                     1040                 40       True          50   \n",
       "19                      980                 40      False          50   \n",
       "23                      980                 60      False          50   \n",
       "28                     1000                 60       True          50   \n",
       "40                     1040                 60       True          50   \n",
       "33                     1020                 50      False          50   \n",
       "49                     1080                 40      False          50   \n",
       "43                     1060                 40      False          50   \n",
       "8                       940                 50       True          50   \n",
       "15                      960                 50      False          50   \n",
       "31                     1020                 40      False          50   \n",
       "5                       920                 60      False          50   \n",
       "9                       940                 50      False          50   \n",
       "2                       920                 50       True          50   \n",
       "45                     1060                 50      False          50   \n",
       "10                      940                 60       True          50   \n",
       "37                     1040                 40      False          50   \n",
       "11                      940                 60      False          50   \n",
       "47                     1060                 60      False          50   \n",
       "17                      960                 60      False          50   \n",
       "30                     1020                 40       True          50   \n",
       "29                     1000                 60      False          50   \n",
       "50                     1080                 50       True          50   \n",
       "53                     1080                 60      False          50   \n",
       "13                      960                 40      False          50   \n",
       "12                      960                 40       True          50   \n",
       "1                       920                 40      False          50   \n",
       "25                     1000                 40      False          50   \n",
       "35                     1020                 60      False          50   \n",
       "21                      980                 50      False          50   \n",
       "27                     1000                 50      False          50   \n",
       "39                     1040                 50      False          50   \n",
       "41                     1040                 60      False          50   \n",
       "7                       940                 40      False          50   \n",
       "3                       920                 50      False          50   \n",
       "\n",
       "    recall@10  recall@20  precision@10  precision@20  \n",
       "38   0.103255   0.157123      0.145333      0.109467  \n",
       "48   0.102361   0.156771      0.142800      0.110733  \n",
       "42   0.101901   0.157234      0.141467      0.112067  \n",
       "20   0.101208   0.152618      0.135200      0.108067  \n",
       "44   0.100251   0.150629      0.141600      0.108533  \n",
       "6    0.095960   0.139809      0.134533      0.104600  \n",
       "46   0.093952   0.135236      0.131067      0.100467  \n",
       "32   0.093548   0.138507      0.134267      0.101733  \n",
       "4    0.090408   0.131442      0.128933      0.098667  \n",
       "18   0.088995   0.138336      0.129467      0.102267  \n",
       "52   0.088677   0.133794      0.126400      0.100000  \n",
       "24   0.088178   0.136833      0.128400      0.102200  \n",
       "0    0.087835   0.137849      0.130667      0.101600  \n",
       "16   0.087604   0.137496      0.128667      0.101267  \n",
       "22   0.087420   0.132148      0.126133      0.100867  \n",
       "34   0.087386   0.134316      0.125333      0.097600  \n",
       "51   0.086592   0.128340      0.127467      0.099867  \n",
       "14   0.085918   0.129410      0.128000      0.097933  \n",
       "26   0.085203   0.126234      0.122933      0.096333  \n",
       "36   0.084955   0.133576      0.126667      0.100133  \n",
       "19   0.084657   0.130916      0.127467      0.099333  \n",
       "23   0.084490   0.127420      0.121733      0.097733  \n",
       "28   0.084422   0.131524      0.122000      0.100600  \n",
       "40   0.084370   0.126202      0.124933      0.097867  \n",
       "33   0.084306   0.127332      0.128400      0.100000  \n",
       "49   0.084231   0.127050      0.127733      0.099533  \n",
       "43   0.084013   0.132782      0.130533      0.101733  \n",
       "8    0.083314   0.131927      0.120933      0.097400  \n",
       "15   0.081996   0.127564      0.125600      0.098267  \n",
       "31   0.081580   0.126043      0.124533      0.095400  \n",
       "5    0.081466   0.127592      0.119600      0.096933  \n",
       "9    0.081400   0.131662      0.124533      0.098467  \n",
       "2    0.081165   0.133931      0.121867      0.097933  \n",
       "45   0.081131   0.121580      0.121467      0.093533  \n",
       "10   0.080182   0.129394      0.119333      0.095667  \n",
       "37   0.080074   0.120250      0.123600      0.095733  \n",
       "11   0.080000   0.124739      0.120667      0.097667  \n",
       "47   0.079917   0.119574      0.121600      0.093267  \n",
       "17   0.079681   0.115509      0.117200      0.091733  \n",
       "30   0.079594   0.125998      0.120933      0.095533  \n",
       "29   0.079179   0.126830      0.121333      0.098133  \n",
       "50   0.078720   0.129097      0.119733      0.097067  \n",
       "53   0.078080   0.121356      0.118667      0.094733  \n",
       "13   0.077147   0.117550      0.118400      0.090200  \n",
       "12   0.077032   0.126029      0.119067      0.094867  \n",
       "1    0.076913   0.125755      0.120133      0.095400  \n",
       "25   0.075500   0.121671      0.116267      0.094533  \n",
       "35   0.074861   0.127182      0.116667      0.099533  \n",
       "21   0.074179   0.121139      0.112400      0.092200  \n",
       "27   0.073944   0.117659      0.116000      0.092467  \n",
       "39   0.073109   0.125839      0.115200      0.095667  \n",
       "41   0.072749   0.124267      0.112533      0.093600  \n",
       "7    0.072655   0.119495      0.113333      0.091933  \n",
       "3    0.071164   0.118101      0.111867      0.091800  "
      ]
     },
     "execution_count": 33,
     "metadata": {},
     "output_type": "execute_result"
    }
   ],
   "source": [
    "# Create Dataframe out of the Results of the Hyperparameter Tuning \n",
    "df_tuning_4 = pd.DataFrame({\n",
    "    \"intermediate_dimensions\": int_dimensions,\n",
    "    \"latent_dimensions\": lt_dimensions,\n",
    "    \"annealing\": anneal,\n",
    "    \"batch_size\": batch,\n",
    "    \"recall@10\": recall_10,\n",
    "    \"recall@20\": recall_20,\n",
    "    \"precision@10\":precision_10,\n",
    "    \"precision@20\":precision_20\n",
    "})\n",
    "# Sort Values by recall@10 \n",
    "df_tuning_4.sort_values(by='recall@10', ascending=False)"
   ]
  },
  {
   "cell_type": "code",
   "execution_count": 54,
   "metadata": {},
   "outputs": [
    {
     "data": {
      "text/html": [
       "<div>\n",
       "<style scoped>\n",
       "    .dataframe tbody tr th:only-of-type {\n",
       "        vertical-align: middle;\n",
       "    }\n",
       "\n",
       "    .dataframe tbody tr th {\n",
       "        vertical-align: top;\n",
       "    }\n",
       "\n",
       "    .dataframe thead th {\n",
       "        text-align: right;\n",
       "    }\n",
       "</style>\n",
       "<table border=\"1\" class=\"dataframe\">\n",
       "  <thead>\n",
       "    <tr style=\"text-align: right;\">\n",
       "      <th></th>\n",
       "      <th>userID</th>\n",
       "      <th>itemID</th>\n",
       "      <th>prediction</th>\n",
       "    </tr>\n",
       "  </thead>\n",
       "  <tbody>\n",
       "    <tr>\n",
       "      <th>count</th>\n",
       "      <td>7500.000000</td>\n",
       "      <td>7500.000000</td>\n",
       "      <td>7500.000000</td>\n",
       "    </tr>\n",
       "    <tr>\n",
       "      <th>mean</th>\n",
       "      <td>2163.825333</td>\n",
       "      <td>1605.456400</td>\n",
       "      <td>0.007081</td>\n",
       "    </tr>\n",
       "    <tr>\n",
       "      <th>std</th>\n",
       "      <td>1287.519807</td>\n",
       "      <td>862.154595</td>\n",
       "      <td>0.004482</td>\n",
       "    </tr>\n",
       "    <tr>\n",
       "      <th>min</th>\n",
       "      <td>17.000000</td>\n",
       "      <td>46.000000</td>\n",
       "      <td>0.001872</td>\n",
       "    </tr>\n",
       "    <tr>\n",
       "      <th>25%</th>\n",
       "      <td>1034.000000</td>\n",
       "      <td>1017.000000</td>\n",
       "      <td>0.004634</td>\n",
       "    </tr>\n",
       "    <tr>\n",
       "      <th>50%</th>\n",
       "      <td>2082.500000</td>\n",
       "      <td>1465.500000</td>\n",
       "      <td>0.005917</td>\n",
       "    </tr>\n",
       "    <tr>\n",
       "      <th>75%</th>\n",
       "      <td>3304.000000</td>\n",
       "      <td>2120.000000</td>\n",
       "      <td>0.007969</td>\n",
       "    </tr>\n",
       "    <tr>\n",
       "      <th>max</th>\n",
       "      <td>4360.000000</td>\n",
       "      <td>3342.000000</td>\n",
       "      <td>0.077479</td>\n",
       "    </tr>\n",
       "  </tbody>\n",
       "</table>\n",
       "</div>"
      ],
      "text/plain": [
       "            userID       itemID   prediction\n",
       "count  7500.000000  7500.000000  7500.000000\n",
       "mean   2163.825333  1605.456400     0.007081\n",
       "std    1287.519807   862.154595     0.004482\n",
       "min      17.000000    46.000000     0.001872\n",
       "25%    1034.000000  1017.000000     0.004634\n",
       "50%    2082.500000  1465.500000     0.005917\n",
       "75%    3304.000000  2120.000000     0.007969\n",
       "max    4360.000000  3342.000000     0.077479"
      ]
     },
     "execution_count": 54,
     "metadata": {},
     "output_type": "execute_result"
    }
   ],
   "source": [
    "top_k_df_10.describe()"
   ]
  },
  {
   "cell_type": "code",
   "execution_count": null,
   "metadata": {},
   "outputs": [],
   "source": []
  }
 ],
 "metadata": {
  "kernelspec": {
   "display_name": "recom",
   "language": "python",
   "name": "python3"
  },
  "language_info": {
   "codemirror_mode": {
    "name": "ipython",
    "version": 3
   },
   "file_extension": ".py",
   "mimetype": "text/x-python",
   "name": "python",
   "nbconvert_exporter": "python",
   "pygments_lexer": "ipython3",
   "version": "3.9.16"
  },
  "orig_nbformat": 4,
  "vscode": {
   "interpreter": {
    "hash": "17afcd9f6960de0a3656d2c4c5dd434deed0eab3cd38c55c3169df3bef50250d"
   }
  }
 },
 "nbformat": 4,
 "nbformat_minor": 2
}
