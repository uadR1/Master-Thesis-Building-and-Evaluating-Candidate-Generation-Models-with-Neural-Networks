{
 "cells": [
  {
   "attachments": {},
   "cell_type": "markdown",
   "metadata": {},
   "source": [
    "# Loading Libraries"
   ]
  },
  {
   "cell_type": "code",
   "execution_count": 4,
   "metadata": {},
   "outputs": [],
   "source": [
    "# Pandas & Numpy\n",
    "import pandas as pd\n",
    "import numpy as np \n",
    "\n",
    "# Visualization\n",
    "import seaborn as sns \n",
    "from matplotlib import pyplot as plt \n",
    "\n",
    "# Tensorflow\n",
    "import tensorflow as tf\n",
    "from tensorflow import keras \n",
    "\n",
    "# Affinity Matrix \n",
    "from recommenders.datasets.sparse import AffinityMatrix\n",
    "\n",
    "# Evaluation \n",
    "from recommenders.evaluation.python_evaluation import (\n",
    "    precision_at_k,\n",
    "    recall_at_k,\n",
    "    ndcg_at_k,\n",
    "    map_at_k\n",
    ")\n",
    "from sklearn.metrics import accuracy_score \n",
    "\n",
    "# Recomender Utilities\n",
    "from recommenders.utils.timer import Timer\n",
    "from recommenders.utils.constants import SEED as DEFAULT_SEED\n",
    "from recommenders.utils.python_utils import binarize\n",
    "from recommenders.datasets.python_splitters import numpy_stratified_split\n",
    "from recommenders.datasets.split_utils import min_rating_filter_pandas\n",
    "\n",
    "# Multi VAE Model\n",
    "from recommenders.models.vae.multinomial_vae import Mult_VAE\n",
    "\n",
    "# System & OS\n",
    "import sys\n",
    "import os"
   ]
  },
  {
   "attachments": {},
   "cell_type": "markdown",
   "metadata": {},
   "source": [
    "# Import & Read Dataset"
   ]
  },
  {
   "cell_type": "code",
   "execution_count": 5,
   "metadata": {},
   "outputs": [],
   "source": [
    "# Read Train & Test Data\n",
    "train = pd.read_csv(\"../../00_Data/online_retail_train_mixed.csv\", index_col=0)\n",
    "test = pd.read_csv(\"../../00_Data/online_retail_test_mixed.csv\", index_col=0)"
   ]
  },
  {
   "cell_type": "code",
   "execution_count": 6,
   "metadata": {},
   "outputs": [
    {
     "name": "stdout",
     "output_type": "stream",
     "text": [
      "Shape of Train: (287957, 3)\n",
      "Shape of Test: \t (71990, 3)\n"
     ]
    }
   ],
   "source": [
    "# Check Shapes\n",
    "print(\"Shape of Train:\", train.shape)\n",
    "print(\"Shape of Test: \\t\", test.shape)"
   ]
  },
  {
   "cell_type": "code",
   "execution_count": 7,
   "metadata": {},
   "outputs": [
    {
     "name": "stdout",
     "output_type": "stream",
     "text": [
      "Unique Users in Train: 3694\n",
      "Unique Users in Test: 3694\n",
      "Unique Items in Train: 2786\n",
      "Unique Items in Test: 2786\n"
     ]
    }
   ],
   "source": [
    "# Check Number of Unique Items and User in Train & Test \n",
    "print(\"Unique Users in Train:\", train.CustomerID.nunique())\n",
    "print(\"Unique Users in Test:\", test.CustomerID.nunique())\n",
    "print(\"Unique Items in Train:\", train.StockCode.nunique())\n",
    "print(\"Unique Items in Test:\", test.StockCode.nunique())"
   ]
  },
  {
   "cell_type": "code",
   "execution_count": 8,
   "metadata": {},
   "outputs": [],
   "source": [
    "# Concatenate both Dataset again for further Data Preparation\n",
    "df = pd.concat([train, test], axis=0)"
   ]
  },
  {
   "cell_type": "code",
   "execution_count": 9,
   "metadata": {},
   "outputs": [
    {
     "data": {
      "text/plain": [
       "Index(['itemID', 'userID', 'rating'], dtype='object')"
      ]
     },
     "execution_count": 9,
     "metadata": {},
     "output_type": "execute_result"
    }
   ],
   "source": [
    "# Change name of columns \n",
    "df = df.rename(columns={'StockCode':'itemID', 'CustomerID':'userID', 'purchased':'rating'})\n",
    "df.columns"
   ]
  },
  {
   "attachments": {},
   "cell_type": "markdown",
   "metadata": {},
   "source": [
    "# Data Filtering "
   ]
  },
  {
   "cell_type": "code",
   "execution_count": 10,
   "metadata": {},
   "outputs": [
    {
     "name": "stdout",
     "output_type": "stream",
     "text": [
      "(259350, 3)\n"
     ]
    },
    {
     "data": {
      "text/html": [
       "<div>\n",
       "<style scoped>\n",
       "    .dataframe tbody tr th:only-of-type {\n",
       "        vertical-align: middle;\n",
       "    }\n",
       "\n",
       "    .dataframe tbody tr th {\n",
       "        vertical-align: top;\n",
       "    }\n",
       "\n",
       "    .dataframe thead th {\n",
       "        text-align: right;\n",
       "    }\n",
       "</style>\n",
       "<table border=\"1\" class=\"dataframe\">\n",
       "  <thead>\n",
       "    <tr style=\"text-align: right;\">\n",
       "      <th></th>\n",
       "      <th>itemID</th>\n",
       "      <th>userID</th>\n",
       "      <th>rating</th>\n",
       "    </tr>\n",
       "  </thead>\n",
       "  <tbody>\n",
       "    <tr>\n",
       "      <th>171197</th>\n",
       "      <td>1917</td>\n",
       "      <td>441</td>\n",
       "      <td>1</td>\n",
       "    </tr>\n",
       "    <tr>\n",
       "      <th>219802</th>\n",
       "      <td>2369</td>\n",
       "      <td>145</td>\n",
       "      <td>1</td>\n",
       "    </tr>\n",
       "    <tr>\n",
       "      <th>239431</th>\n",
       "      <td>2855</td>\n",
       "      <td>4208</td>\n",
       "      <td>1</td>\n",
       "    </tr>\n",
       "    <tr>\n",
       "      <th>21619</th>\n",
       "      <td>386</td>\n",
       "      <td>3864</td>\n",
       "      <td>1</td>\n",
       "    </tr>\n",
       "    <tr>\n",
       "      <th>148454</th>\n",
       "      <td>1696</td>\n",
       "      <td>67</td>\n",
       "      <td>1</td>\n",
       "    </tr>\n",
       "    <tr>\n",
       "      <th>62494</th>\n",
       "      <td>925</td>\n",
       "      <td>2075</td>\n",
       "      <td>1</td>\n",
       "    </tr>\n",
       "    <tr>\n",
       "      <th>66142</th>\n",
       "      <td>976</td>\n",
       "      <td>3192</td>\n",
       "      <td>1</td>\n",
       "    </tr>\n",
       "    <tr>\n",
       "      <th>55056</th>\n",
       "      <td>870</td>\n",
       "      <td>2290</td>\n",
       "      <td>1</td>\n",
       "    </tr>\n",
       "    <tr>\n",
       "      <th>256582</th>\n",
       "      <td>3280</td>\n",
       "      <td>1009</td>\n",
       "      <td>1</td>\n",
       "    </tr>\n",
       "    <tr>\n",
       "      <th>51203</th>\n",
       "      <td>829</td>\n",
       "      <td>516</td>\n",
       "      <td>1</td>\n",
       "    </tr>\n",
       "  </tbody>\n",
       "</table>\n",
       "</div>"
      ],
      "text/plain": [
       "        itemID  userID  rating\n",
       "171197    1917     441       1\n",
       "219802    2369     145       1\n",
       "239431    2855    4208       1\n",
       "21619      386    3864       1\n",
       "148454    1696      67       1\n",
       "62494      925    2075       1\n",
       "66142      976    3192       1\n",
       "55056      870    2290       1\n",
       "256582    3280    1009       1\n",
       "51203      829     516       1"
      ]
     },
     "execution_count": 10,
     "metadata": {},
     "output_type": "execute_result"
    }
   ],
   "source": [
    "# Binarize the data (only keep ratings >= 0.5)\n",
    "df_preferred = df[df['rating'] > 0.5]\n",
    "print (df_preferred.shape)\n",
    "df_low_rating = df[df['rating'] <= 0.5]\n",
    "\n",
    "\n",
    "# Head of df_preferred\n",
    "df_preferred.head(10)"
   ]
  },
  {
   "cell_type": "code",
   "execution_count": 11,
   "metadata": {},
   "outputs": [
    {
     "data": {
      "text/html": [
       "<div>\n",
       "<style scoped>\n",
       "    .dataframe tbody tr th:only-of-type {\n",
       "        vertical-align: middle;\n",
       "    }\n",
       "\n",
       "    .dataframe tbody tr th {\n",
       "        vertical-align: top;\n",
       "    }\n",
       "\n",
       "    .dataframe thead th {\n",
       "        text-align: right;\n",
       "    }\n",
       "</style>\n",
       "<table border=\"1\" class=\"dataframe\">\n",
       "  <thead>\n",
       "    <tr style=\"text-align: right;\">\n",
       "      <th></th>\n",
       "      <th>itemID</th>\n",
       "      <th>userID</th>\n",
       "      <th>rating</th>\n",
       "    </tr>\n",
       "  </thead>\n",
       "  <tbody>\n",
       "    <tr>\n",
       "      <th>296882</th>\n",
       "      <td>2016</td>\n",
       "      <td>1620</td>\n",
       "      <td>0</td>\n",
       "    </tr>\n",
       "    <tr>\n",
       "      <th>262509</th>\n",
       "      <td>673</td>\n",
       "      <td>124</td>\n",
       "      <td>0</td>\n",
       "    </tr>\n",
       "    <tr>\n",
       "      <th>316340</th>\n",
       "      <td>1194</td>\n",
       "      <td>2475</td>\n",
       "      <td>0</td>\n",
       "    </tr>\n",
       "    <tr>\n",
       "      <th>346006</th>\n",
       "      <td>341</td>\n",
       "      <td>3758</td>\n",
       "      <td>0</td>\n",
       "    </tr>\n",
       "    <tr>\n",
       "      <th>307927</th>\n",
       "      <td>946</td>\n",
       "      <td>2099</td>\n",
       "      <td>0</td>\n",
       "    </tr>\n",
       "    <tr>\n",
       "      <th>335208</th>\n",
       "      <td>953</td>\n",
       "      <td>3290</td>\n",
       "      <td>0</td>\n",
       "    </tr>\n",
       "    <tr>\n",
       "      <th>355636</th>\n",
       "      <td>1130</td>\n",
       "      <td>4173</td>\n",
       "      <td>0</td>\n",
       "    </tr>\n",
       "    <tr>\n",
       "      <th>343479</th>\n",
       "      <td>3111</td>\n",
       "      <td>3645</td>\n",
       "      <td>0</td>\n",
       "    </tr>\n",
       "    <tr>\n",
       "      <th>318219</th>\n",
       "      <td>940</td>\n",
       "      <td>2564</td>\n",
       "      <td>0</td>\n",
       "    </tr>\n",
       "    <tr>\n",
       "      <th>348929</th>\n",
       "      <td>1394</td>\n",
       "      <td>3886</td>\n",
       "      <td>0</td>\n",
       "    </tr>\n",
       "  </tbody>\n",
       "</table>\n",
       "</div>"
      ],
      "text/plain": [
       "        itemID  userID  rating\n",
       "296882    2016    1620       0\n",
       "262509     673     124       0\n",
       "316340    1194    2475       0\n",
       "346006     341    3758       0\n",
       "307927     946    2099       0\n",
       "335208     953    3290       0\n",
       "355636    1130    4173       0\n",
       "343479    3111    3645       0\n",
       "318219     940    2564       0\n",
       "348929    1394    3886       0"
      ]
     },
     "execution_count": 11,
     "metadata": {},
     "output_type": "execute_result"
    }
   ],
   "source": [
    "# Head of df_low_rating\n",
    "df_low_rating.head(10)"
   ]
  },
  {
   "cell_type": "code",
   "execution_count": 12,
   "metadata": {},
   "outputs": [],
   "source": [
    "# Keep users who clicked on at least 5 items\n",
    "df = min_rating_filter_pandas(df_preferred, min_rating=5, filter_by=\"user\")\n",
    "\n",
    "# Keep movies that were clicked on by at least on 1 user\n",
    "df = min_rating_filter_pandas(df, min_rating=1, filter_by=\"item\")"
   ]
  },
  {
   "cell_type": "code",
   "execution_count": 13,
   "metadata": {},
   "outputs": [
    {
     "name": "stdout",
     "output_type": "stream",
     "text": [
      "After filtering, there are 259350 interactions between 3694 users and 2786 items (sparsity: 2.520%)\n"
     ]
    }
   ],
   "source": [
    "# Obtain both usercount and itemcount after filtering\n",
    "usercount = df[['userID']].groupby('userID', as_index = False).size()\n",
    "itemcount = df[['itemID']].groupby('itemID', as_index = False).size()\n",
    "\n",
    "# Compute sparsity after filtering\n",
    "sparsity = 1. * df.shape[0] / (usercount.shape[0] * itemcount.shape[0])\n",
    "\n",
    "print(\"After filtering, there are %d interactions between %d users and %d items (sparsity: %.3f%%)\" % \n",
    "      (df.shape[0], usercount.shape[0], itemcount.shape[0], sparsity * 100))"
   ]
  },
  {
   "attachments": {},
   "cell_type": "markdown",
   "metadata": {},
   "source": [
    "# Split Data"
   ]
  },
  {
   "cell_type": "code",
   "execution_count": 14,
   "metadata": {},
   "outputs": [],
   "source": [
    "unique_users = sorted(df.userID.unique())\n",
    "np.random.seed(1)\n",
    "unique_users = np.random.permutation(unique_users)"
   ]
  },
  {
   "cell_type": "code",
   "execution_count": 15,
   "metadata": {},
   "outputs": [
    {
     "name": "stdout",
     "output_type": "stream",
     "text": [
      "Number of unique users: 3694\n",
      "\n",
      "Number of training users: 2194\n",
      "\n",
      "Number of validation users: 750\n",
      "\n",
      "Number of test users: 750\n"
     ]
    }
   ],
   "source": [
    "# Create train/validation/test users\n",
    "n_users = len(unique_users)\n",
    "print(\"Number of unique users:\", n_users)\n",
    "\n",
    "train_users = unique_users[:(n_users - 750 * 2)]\n",
    "print(\"\\nNumber of training users:\", len(train_users))\n",
    "\n",
    "val_users = unique_users[(n_users - 750 * 2) : (n_users - 750)]\n",
    "print(\"\\nNumber of validation users:\", len(val_users))\n",
    "\n",
    "test_users = unique_users[(n_users - 750):]\n",
    "print(\"\\nNumber of test users:\", len(test_users))"
   ]
  },
  {
   "cell_type": "code",
   "execution_count": 16,
   "metadata": {},
   "outputs": [
    {
     "name": "stdout",
     "output_type": "stream",
     "text": [
      "Number of training observations:  155175\n",
      "\n",
      "Number of validation observations:  54081\n",
      "\n",
      "Number of test observations:  50094\n"
     ]
    }
   ],
   "source": [
    "# For training set keep only users that are in train_users list\n",
    "train_set = df.loc[df['userID'].isin(train_users)]\n",
    "print(\"Number of training observations: \", train_set.shape[0])\n",
    "\n",
    "# For validation set keep only users that are in val_users list\n",
    "val_set = df.loc[df['userID'].isin(val_users)]\n",
    "print(\"\\nNumber of validation observations: \", val_set.shape[0])\n",
    "\n",
    "# For test set keep only users that are in test_users list\n",
    "test_set = df.loc[df['userID'].isin(test_users)]\n",
    "print(\"\\nNumber of test observations: \", test_set.shape[0])\n"
   ]
  },
  {
   "cell_type": "code",
   "execution_count": 17,
   "metadata": {},
   "outputs": [
    {
     "name": "stdout",
     "output_type": "stream",
     "text": [
      "Number of unique items that consumed in training set 2786\n"
     ]
    }
   ],
   "source": [
    "# Obtain list of unique items used in training set\n",
    "unique_train_items = pd.unique(train_set['itemID'])\n",
    "print(\"Number of unique items that consumed in training set\", unique_train_items.size)"
   ]
  },
  {
   "cell_type": "code",
   "execution_count": 18,
   "metadata": {},
   "outputs": [
    {
     "name": "stdout",
     "output_type": "stream",
     "text": [
      "Number of validation observations after filtering:  54081\n",
      "\n",
      "Number of test observations after filtering:  50094\n"
     ]
    }
   ],
   "source": [
    "# For validation set keep only items that used in training set\n",
    "val_set = val_set.loc[val_set['itemID'].isin(unique_train_items)]\n",
    "print(\"Number of validation observations after filtering: \", val_set.shape[0])\n",
    "\n",
    "# For test set keep only movies items used in training set\n",
    "test_set = test_set.loc[test_set['itemID'].isin(unique_train_items)]\n",
    "print(\"\\nNumber of test observations after filtering: \", test_set.shape[0])"
   ]
  },
  {
   "cell_type": "code",
   "execution_count": 108,
   "metadata": {},
   "outputs": [
    {
     "name": "stdout",
     "output_type": "stream",
     "text": [
      "Percentage Train Set: 0.5983227299016772\n",
      "Percentage Validation Set: 0.20852515905147484\n",
      "Percentage Test Set: 0.1931521110468479\n"
     ]
    }
   ],
   "source": [
    "# Percentages of Datasets\n",
    "print(\"Percentage Train Set:\", train_set.shape[0] / (train_set.shape[0] + val_set.shape[0] + test_set.shape[0]))\n",
    "print(\"Percentage Validation Set:\", val_set.shape[0] / (train_set.shape[0] + val_set.shape[0] + test_set.shape[0]))\n",
    "print(\"Percentage Test Set:\", test_set.shape[0] / (train_set.shape[0] + val_set.shape[0] + test_set.shape[0]))"
   ]
  },
  {
   "attachments": {},
   "cell_type": "markdown",
   "metadata": {},
   "source": [
    "# Click Matrix Generation"
   ]
  },
  {
   "cell_type": "code",
   "execution_count": 20,
   "metadata": {},
   "outputs": [],
   "source": [
    "# Instantiate the sparse matrix generation for train, validation and test sets\n",
    "# use list of unique items from training set for all sets\n",
    "am_train = AffinityMatrix(df=train_set, items_list=unique_train_items)\n",
    "\n",
    "am_val = AffinityMatrix(df=val_set, items_list=unique_train_items)\n",
    "\n",
    "am_test = AffinityMatrix(df=test_set, items_list=unique_train_items)"
   ]
  },
  {
   "cell_type": "code",
   "execution_count": 21,
   "metadata": {},
   "outputs": [
    {
     "name": "stdout",
     "output_type": "stream",
     "text": [
      "(2194, 2786)\n",
      "(750, 2786)\n",
      "(750, 2786)\n"
     ]
    }
   ],
   "source": [
    "# Obtain the sparse matrix for train, validation and test sets\n",
    "train_data, _, _ = am_train.gen_affinity_matrix()\n",
    "print(train_data.shape)\n",
    "\n",
    "val_data, val_map_users, val_map_items = am_val.gen_affinity_matrix()\n",
    "print(val_data.shape)\n",
    "\n",
    "test_data, test_map_users, test_map_items = am_test.gen_affinity_matrix()\n",
    "print(test_data.shape)"
   ]
  },
  {
   "cell_type": "code",
   "execution_count": 22,
   "metadata": {},
   "outputs": [],
   "source": [
    "# Split validation and test data into training and testing parts\n",
    "val_data_tr, val_data_te = numpy_stratified_split(val_data, ratio=0.75, seed=1)\n",
    "test_data_tr, test_data_te = numpy_stratified_split(test_data, ratio=0.75, seed=1)"
   ]
  },
  {
   "cell_type": "code",
   "execution_count": 23,
   "metadata": {},
   "outputs": [],
   "source": [
    "# Binarize train, validation and test data\n",
    "train_data = binarize(a=train_data, threshold=0.5)\n",
    "val_data = binarize(a=val_data, threshold=0.5)\n",
    "test_data = binarize(a=test_data, threshold=0.5)"
   ]
  },
  {
   "cell_type": "code",
   "execution_count": 24,
   "metadata": {},
   "outputs": [],
   "source": [
    "# Binarize validation data: training part  \n",
    "val_data_tr = binarize(a=val_data_tr, threshold=0.5)\n",
    "\n",
    "# Binarize validation data: testing part (save non-binary version in the separate object, will be used for calculating NDCG)\n",
    "val_data_te_ratings = val_data_te.copy()\n",
    "val_data_te = binarize(a=val_data_te, threshold=0.5)"
   ]
  },
  {
   "cell_type": "code",
   "execution_count": 25,
   "metadata": {},
   "outputs": [],
   "source": [
    "# Binarize test data: training part \n",
    "test_data_tr = binarize(a=test_data_tr, threshold=0.5)\n",
    "\n",
    "# Binarize test data: testing part (save non-binary version in the separate object, will be used for calculating NDCG)\n",
    "test_data_te_ratings = test_data_te.copy()\n",
    "test_data_te = binarize(a=test_data_te, threshold=0.5)"
   ]
  },
  {
   "cell_type": "code",
   "execution_count": 26,
   "metadata": {},
   "outputs": [],
   "source": [
    "# retrieve real ratings from initial dataset \n",
    "\n",
    "test_data_te_ratings=pd.DataFrame(test_data_te_ratings)\n",
    "val_data_te_ratings=pd.DataFrame(val_data_te_ratings)\n",
    "\n",
    "for index,i in df_low_rating.iterrows():\n",
    "  user_old= i['userID'] # old value \n",
    "  item_old=i['itemID'] # old value \n",
    "\n",
    "  if (test_map_users.get(user_old) is not None)  and (test_map_items.get(item_old) is not None) :\n",
    "      user_new=test_map_users.get(user_old) # new value \n",
    "      item_new=test_map_items.get(item_old) # new value \n",
    "      rating=i['rating'] \n",
    "      test_data_te_ratings.at[user_new,item_new]= rating   \n",
    "\n",
    "  if (val_map_users.get(user_old) is not None)  and (val_map_items.get(item_old) is not None) :\n",
    "      user_new=val_map_users.get(user_old) # new value \n",
    "      item_new=val_map_items.get(item_old) # new value \n",
    "      rating=i['rating'] \n",
    "      val_data_te_ratings.at[user_new,item_new]= rating   \n",
    "\n",
    "\n",
    "val_data_te_ratings=val_data_te_ratings.to_numpy()    \n",
    "test_data_te_ratings=test_data_te_ratings.to_numpy()    "
   ]
  },
  {
   "attachments": {},
   "cell_type": "markdown",
   "metadata": {},
   "source": [
    "# Shapes & Dimensions after Data Preparation"
   ]
  },
  {
   "cell_type": "code",
   "execution_count": 27,
   "metadata": {},
   "outputs": [
    {
     "data": {
      "text/plain": [
       "array([0., 1.])"
      ]
     },
     "execution_count": 27,
     "metadata": {},
     "output_type": "execute_result"
    }
   ],
   "source": [
    "np.unique(test_data_tr)"
   ]
  },
  {
   "cell_type": "code",
   "execution_count": 28,
   "metadata": {},
   "outputs": [
    {
     "data": {
      "text/plain": [
       "array([0., 1.])"
      ]
     },
     "execution_count": 28,
     "metadata": {},
     "output_type": "execute_result"
    }
   ],
   "source": [
    "np.unique(train_data)"
   ]
  },
  {
   "cell_type": "code",
   "execution_count": 29,
   "metadata": {},
   "outputs": [
    {
     "data": {
      "text/plain": [
       "array([0., 1.])"
      ]
     },
     "execution_count": 29,
     "metadata": {},
     "output_type": "execute_result"
    }
   ],
   "source": [
    "np.unique(val_data)"
   ]
  },
  {
   "cell_type": "code",
   "execution_count": 30,
   "metadata": {},
   "outputs": [
    {
     "data": {
      "text/plain": [
       "array([0., 1.])"
      ]
     },
     "execution_count": 30,
     "metadata": {},
     "output_type": "execute_result"
    }
   ],
   "source": [
    "np.unique(val_data_tr)"
   ]
  },
  {
   "cell_type": "code",
   "execution_count": 31,
   "metadata": {},
   "outputs": [
    {
     "data": {
      "text/plain": [
       "array([0, 1])"
      ]
     },
     "execution_count": 31,
     "metadata": {},
     "output_type": "execute_result"
    }
   ],
   "source": [
    "np.unique(test_data_te_ratings)"
   ]
  },
  {
   "cell_type": "code",
   "execution_count": 105,
   "metadata": {},
   "outputs": [
    {
     "data": {
      "text/plain": [
       "(50094, 3)"
      ]
     },
     "execution_count": 105,
     "metadata": {},
     "output_type": "execute_result"
    }
   ],
   "source": [
    "test_set.shape\n",
    "\n"
   ]
  },
  {
   "cell_type": "code",
   "execution_count": 106,
   "metadata": {},
   "outputs": [
    {
     "data": {
      "text/plain": [
       "(54081, 3)"
      ]
     },
     "execution_count": 106,
     "metadata": {},
     "output_type": "execute_result"
    }
   ],
   "source": [
    "val_set.shape"
   ]
  },
  {
   "cell_type": "code",
   "execution_count": 114,
   "metadata": {},
   "outputs": [
    {
     "name": "stdout",
     "output_type": "stream",
     "text": [
      "Interactions in Validation Training 40548.0\n",
      "Interactions in Validation Test 13533.0\n",
      "Interactions in Test Training 37605.0\n",
      "Interactions in Test Test 12489.0\n"
     ]
    }
   ],
   "source": [
    "# Interactions in Train & Test of Val & Test \n",
    "print(\"Interactions in Validation Training\",val_data_tr.sum())\n",
    "print(\"Interactions in Validation Test\",val_data_te.sum())\n",
    "print(\"Interactions in Test Training\",test_data_tr.sum())\n",
    "print(\"Interactions in Test Test\",test_data_te.sum())"
   ]
  },
  {
   "cell_type": "code",
   "execution_count": 116,
   "metadata": {},
   "outputs": [
    {
     "data": {
      "text/plain": [
       "0.7506887052341598"
      ]
     },
     "execution_count": 116,
     "metadata": {},
     "output_type": "execute_result"
    }
   ],
   "source": [
    "test_data_tr.sum() / (test_data_tr.sum() + test_data_te.sum())"
   ]
  },
  {
   "attachments": {},
   "cell_type": "markdown",
   "metadata": {},
   "source": [
    "# Baseline Model Multi VAE"
   ]
  },
  {
   "cell_type": "code",
   "execution_count": 32,
   "metadata": {},
   "outputs": [],
   "source": [
    "from tensorflow.python.framework.ops import disable_eager_execution\n",
    "\n",
    "disable_eager_execution()"
   ]
  },
  {
   "cell_type": "code",
   "execution_count": 33,
   "metadata": {},
   "outputs": [],
   "source": [
    "from tempfile import TemporaryDirectory\n",
    "\n",
    "tmp_dir = TemporaryDirectory()\n",
    "WEIGHTS_PATH = os.path.join(tmp_dir.name, \"svae_weights.hdf5\")"
   ]
  },
  {
   "cell_type": "code",
   "execution_count": 44,
   "metadata": {},
   "outputs": [
    {
     "name": "stdout",
     "output_type": "stream",
     "text": [
      "WARNING:tensorflow:From /Users/arasdirekoglu/opt/anaconda3/envs/recom/lib/python3.9/site-packages/tensorflow/python/keras/initializers/initializers_v1.py:67: calling TruncatedNormal.__init__ (from tensorflow.python.ops.init_ops) with dtype is deprecated and will be removed in a future version.\n",
      "Instructions for updating:\n",
      "Call initializer instance with the dtype argument instead of passing it to the constructor\n"
     ]
    }
   ],
   "source": [
    "model_without_anneal = Mult_VAE(n_users=train_data.shape[0], # Number of unique users in the training set\n",
    "                                   original_dim=train_data.shape[1], # Number of unique items in the training set\n",
    "                                   intermediate_dim=1000, \n",
    "                                   latent_dim=50, \n",
    "                                   n_epochs=50, \n",
    "                                   batch_size=50, \n",
    "                                   k=100,\n",
    "                                   verbose=0,\n",
    "                                   seed=1,\n",
    "                                   drop_encoder=0.5,\n",
    "                                   drop_decoder=0.5,\n",
    "                                   annealing=False,\n",
    "                                   beta=1.0,\n",
    "                                   save_path=WEIGHTS_PATH\n",
    "                                   )"
   ]
  },
  {
   "cell_type": "code",
   "execution_count": 45,
   "metadata": {},
   "outputs": [
    {
     "name": "stderr",
     "output_type": "stream",
     "text": [
      "/Users/arasdirekoglu/opt/anaconda3/envs/recom/lib/python3.9/site-packages/tensorflow/python/keras/engine/training_v1.py:1240: UserWarning: `model.fit_generator` is deprecated and will be removed in a future version. Please use `Model.fit`, which supports generators.\n",
      "  warnings.warn('`model.fit_generator` is deprecated and '\n",
      "2023-06-06 12:11:01.926958: I tensorflow/compiler/mlir/mlir_graph_optimization_pass.cc:196] None of the MLIR optimization passes are enabled (registered 0 passes)\n",
      "/Users/arasdirekoglu/opt/anaconda3/envs/recom/lib/python3.9/site-packages/tensorflow/python/keras/engine/training.py:2325: UserWarning: `Model.state_updates` will be removed in a future version. This property should not be used in TensorFlow 2.0, as `updates` are applied automatically.\n",
      "  warnings.warn('`Model.state_updates` will be removed in a future version. '\n"
     ]
    },
    {
     "name": "stdout",
     "output_type": "stream",
     "text": [
      "Took 113.3154 seconds for training.\n"
     ]
    }
   ],
   "source": [
    "with Timer() as t:\n",
    "    model_without_anneal.fit(x_train=train_data, \n",
    "                        x_valid=val_data,\n",
    "                        x_val_tr=val_data_tr, \n",
    "                        x_val_te=val_data_te_ratings, # with the original ratings \n",
    "                        mapper=am_val)\n",
    "print(\"Took {} seconds for training.\".format(t))"
   ]
  },
  {
   "cell_type": "code",
   "execution_count": 46,
   "metadata": {},
   "outputs": [
    {
     "data": {
      "image/png": "[encoded data removed]",
      "text/plain": [
       "<Figure size 1400x500 with 2 Axes>"
      ]
     },
     "metadata": {},
     "output_type": "display_data"
    }
   ],
   "source": [
    "model_without_anneal.display_metrics() "
   ]
  },
  {
   "cell_type": "code",
   "execution_count": 47,
   "metadata": {},
   "outputs": [
    {
     "name": "stdout",
     "output_type": "stream",
     "text": [
      "Took 0.5052 seconds for prediction.\n",
      "MAP@10:\t\t0.040062\n",
      "NDCG@10:\t0.139382\n",
      "Precision@10:\t0.116533\n",
      "Recall@10: \t0.087444\n"
     ]
    }
   ],
   "source": [
    "# Use k = 10\n",
    "with Timer() as t:\n",
    "    # Model prediction on the training part of test set \n",
    "    top_k =  model_without_anneal.recommend_k_items(x=test_data_tr,\n",
    "                                                    k=10,\n",
    "                                                    remove_seen=True\n",
    "                                                    )\n",
    "\n",
    "    # Convert sparse matrix back to df\n",
    "    top_k_df = am_test.map_back_sparse(top_k, kind='prediction')\n",
    "    test_df = am_test.map_back_sparse(test_data_te_ratings, kind='ratings') # use test_data_te_, with the original ratings\n",
    "    \n",
    "print(\"Took {} seconds for prediction.\".format(t))\n",
    "\n",
    "# Use the ranking metrics for evaluation\n",
    "eval_map_1 = map_at_k(test_df, top_k_df, col_prediction='prediction', k=10)\n",
    "eval_ndcg_1 = ndcg_at_k(test_df, top_k_df, col_prediction='prediction', k=10)\n",
    "eval_precision_1 = precision_at_k(test_df, top_k_df, col_prediction='prediction', k=10)\n",
    "eval_recall_1 = recall_at_k(test_df, top_k_df, col_prediction='prediction', k=10)\n",
    "\n",
    "print(\"MAP@10:\\t\\t%f\" % eval_map_1,\n",
    "      \"NDCG@10:\\t%f\" % eval_ndcg_1,\n",
    "      \"Precision@10:\\t%f\" % eval_precision_1,\n",
    "      \"Recall@10: \\t%f\" % eval_recall_1, sep='\\n')"
   ]
  },
  {
   "cell_type": "code",
   "execution_count": null,
   "metadata": {},
   "outputs": [],
   "source": []
  },
  {
   "attachments": {},
   "cell_type": "markdown",
   "metadata": {},
   "source": [
    "# Hyperparameter Tuning"
   ]
  },
  {
   "cell_type": "code",
   "execution_count": 49,
   "metadata": {},
   "outputs": [
    {
     "name": "stderr",
     "output_type": "stream",
     "text": [
      "/Users/arasdirekoglu/opt/anaconda3/envs/recom/lib/python3.9/site-packages/tensorflow/python/keras/engine/training_v1.py:1240: UserWarning: `model.fit_generator` is deprecated and will be removed in a future version. Please use `Model.fit`, which supports generators.\n",
      "  warnings.warn('`model.fit_generator` is deprecated and '\n",
      "/Users/arasdirekoglu/opt/anaconda3/envs/recom/lib/python3.9/site-packages/tensorflow/python/keras/engine/training.py:2325: UserWarning: `Model.state_updates` will be removed in a future version. This property should not be used in TensorFlow 2.0, as `updates` are applied automatically.\n",
      "  warnings.warn('`Model.state_updates` will be removed in a future version. '\n"
     ]
    },
    {
     "name": "stdout",
     "output_type": "stream",
     "text": [
      "Recall@10 for Intermediate Dim:  600 Latent Dim:  50 Batch size:  50 Annealing:  True :\t 0.11895481262424266\n",
      "Recall@20 for Intermediate Dim:  600 Latent Dim:  50 Batch size:  50 Annealing:  True :\t 0.17264289399057428\n"
     ]
    },
    {
     "name": "stderr",
     "output_type": "stream",
     "text": [
      "/Users/arasdirekoglu/opt/anaconda3/envs/recom/lib/python3.9/site-packages/tensorflow/python/keras/engine/training_v1.py:1240: UserWarning: `model.fit_generator` is deprecated and will be removed in a future version. Please use `Model.fit`, which supports generators.\n",
      "  warnings.warn('`model.fit_generator` is deprecated and '\n",
      "/Users/arasdirekoglu/opt/anaconda3/envs/recom/lib/python3.9/site-packages/tensorflow/python/keras/engine/training.py:2325: UserWarning: `Model.state_updates` will be removed in a future version. This property should not be used in TensorFlow 2.0, as `updates` are applied automatically.\n",
      "  warnings.warn('`Model.state_updates` will be removed in a future version. '\n"
     ]
    },
    {
     "name": "stdout",
     "output_type": "stream",
     "text": [
      "Recall@10 for Intermediate Dim:  600 Latent Dim:  50 Batch size:  50 Annealing:  False :\t 0.08896501502407271\n",
      "Recall@20 for Intermediate Dim:  600 Latent Dim:  50 Batch size:  50 Annealing:  False :\t 0.14406286638473223\n"
     ]
    },
    {
     "name": "stderr",
     "output_type": "stream",
     "text": [
      "/Users/arasdirekoglu/opt/anaconda3/envs/recom/lib/python3.9/site-packages/tensorflow/python/keras/engine/training_v1.py:1240: UserWarning: `model.fit_generator` is deprecated and will be removed in a future version. Please use `Model.fit`, which supports generators.\n",
      "  warnings.warn('`model.fit_generator` is deprecated and '\n",
      "/Users/arasdirekoglu/opt/anaconda3/envs/recom/lib/python3.9/site-packages/tensorflow/python/keras/engine/training.py:2325: UserWarning: `Model.state_updates` will be removed in a future version. This property should not be used in TensorFlow 2.0, as `updates` are applied automatically.\n",
      "  warnings.warn('`Model.state_updates` will be removed in a future version. '\n"
     ]
    },
    {
     "name": "stdout",
     "output_type": "stream",
     "text": [
      "Recall@10 for Intermediate Dim:  600 Latent Dim:  50 Batch size:  100 Annealing:  True :\t 0.10974994720884952\n",
      "Recall@20 for Intermediate Dim:  600 Latent Dim:  50 Batch size:  100 Annealing:  True :\t 0.15928594464883308\n"
     ]
    },
    {
     "name": "stderr",
     "output_type": "stream",
     "text": [
      "/Users/arasdirekoglu/opt/anaconda3/envs/recom/lib/python3.9/site-packages/tensorflow/python/keras/engine/training_v1.py:1240: UserWarning: `model.fit_generator` is deprecated and will be removed in a future version. Please use `Model.fit`, which supports generators.\n",
      "  warnings.warn('`model.fit_generator` is deprecated and '\n",
      "/Users/arasdirekoglu/opt/anaconda3/envs/recom/lib/python3.9/site-packages/tensorflow/python/keras/engine/training.py:2325: UserWarning: `Model.state_updates` will be removed in a future version. This property should not be used in TensorFlow 2.0, as `updates` are applied automatically.\n",
      "  warnings.warn('`Model.state_updates` will be removed in a future version. '\n"
     ]
    },
    {
     "name": "stdout",
     "output_type": "stream",
     "text": [
      "Recall@10 for Intermediate Dim:  600 Latent Dim:  50 Batch size:  100 Annealing:  False :\t 0.09244366318882707\n",
      "Recall@20 for Intermediate Dim:  600 Latent Dim:  50 Batch size:  100 Annealing:  False :\t 0.13177626425685365\n"
     ]
    },
    {
     "name": "stderr",
     "output_type": "stream",
     "text": [
      "/Users/arasdirekoglu/opt/anaconda3/envs/recom/lib/python3.9/site-packages/tensorflow/python/keras/engine/training_v1.py:1240: UserWarning: `model.fit_generator` is deprecated and will be removed in a future version. Please use `Model.fit`, which supports generators.\n",
      "  warnings.warn('`model.fit_generator` is deprecated and '\n",
      "/Users/arasdirekoglu/opt/anaconda3/envs/recom/lib/python3.9/site-packages/tensorflow/python/keras/engine/training.py:2325: UserWarning: `Model.state_updates` will be removed in a future version. This property should not be used in TensorFlow 2.0, as `updates` are applied automatically.\n",
      "  warnings.warn('`Model.state_updates` will be removed in a future version. '\n"
     ]
    },
    {
     "name": "stdout",
     "output_type": "stream",
     "text": [
      "Recall@10 for Intermediate Dim:  600 Latent Dim:  70 Batch size:  50 Annealing:  True :\t 0.11349111415049053\n",
      "Recall@20 for Intermediate Dim:  600 Latent Dim:  70 Batch size:  50 Annealing:  True :\t 0.17626056862484765\n"
     ]
    },
    {
     "name": "stderr",
     "output_type": "stream",
     "text": [
      "/Users/arasdirekoglu/opt/anaconda3/envs/recom/lib/python3.9/site-packages/tensorflow/python/keras/engine/training_v1.py:1240: UserWarning: `model.fit_generator` is deprecated and will be removed in a future version. Please use `Model.fit`, which supports generators.\n",
      "  warnings.warn('`model.fit_generator` is deprecated and '\n",
      "/Users/arasdirekoglu/opt/anaconda3/envs/recom/lib/python3.9/site-packages/tensorflow/python/keras/engine/training.py:2325: UserWarning: `Model.state_updates` will be removed in a future version. This property should not be used in TensorFlow 2.0, as `updates` are applied automatically.\n",
      "  warnings.warn('`Model.state_updates` will be removed in a future version. '\n"
     ]
    },
    {
     "name": "stdout",
     "output_type": "stream",
     "text": [
      "Recall@10 for Intermediate Dim:  600 Latent Dim:  70 Batch size:  50 Annealing:  False :\t 0.08541417922740989\n",
      "Recall@20 for Intermediate Dim:  600 Latent Dim:  70 Batch size:  50 Annealing:  False :\t 0.13663981416995644\n"
     ]
    },
    {
     "name": "stderr",
     "output_type": "stream",
     "text": [
      "/Users/arasdirekoglu/opt/anaconda3/envs/recom/lib/python3.9/site-packages/tensorflow/python/keras/engine/training_v1.py:1240: UserWarning: `model.fit_generator` is deprecated and will be removed in a future version. Please use `Model.fit`, which supports generators.\n",
      "  warnings.warn('`model.fit_generator` is deprecated and '\n",
      "/Users/arasdirekoglu/opt/anaconda3/envs/recom/lib/python3.9/site-packages/tensorflow/python/keras/engine/training.py:2325: UserWarning: `Model.state_updates` will be removed in a future version. This property should not be used in TensorFlow 2.0, as `updates` are applied automatically.\n",
      "  warnings.warn('`Model.state_updates` will be removed in a future version. '\n"
     ]
    },
    {
     "name": "stdout",
     "output_type": "stream",
     "text": [
      "Recall@10 for Intermediate Dim:  600 Latent Dim:  70 Batch size:  100 Annealing:  True :\t 0.1031448812234129\n",
      "Recall@20 for Intermediate Dim:  600 Latent Dim:  70 Batch size:  100 Annealing:  True :\t 0.1643828544362976\n"
     ]
    },
    {
     "name": "stderr",
     "output_type": "stream",
     "text": [
      "/Users/arasdirekoglu/opt/anaconda3/envs/recom/lib/python3.9/site-packages/tensorflow/python/keras/engine/training_v1.py:1240: UserWarning: `model.fit_generator` is deprecated and will be removed in a future version. Please use `Model.fit`, which supports generators.\n",
      "  warnings.warn('`model.fit_generator` is deprecated and '\n",
      "/Users/arasdirekoglu/opt/anaconda3/envs/recom/lib/python3.9/site-packages/tensorflow/python/keras/engine/training.py:2325: UserWarning: `Model.state_updates` will be removed in a future version. This property should not be used in TensorFlow 2.0, as `updates` are applied automatically.\n",
      "  warnings.warn('`Model.state_updates` will be removed in a future version. '\n"
     ]
    },
    {
     "name": "stdout",
     "output_type": "stream",
     "text": [
      "Recall@10 for Intermediate Dim:  600 Latent Dim:  70 Batch size:  100 Annealing:  False :\t 0.08000451501232728\n",
      "Recall@20 for Intermediate Dim:  600 Latent Dim:  70 Batch size:  100 Annealing:  False :\t 0.13676261202417128\n"
     ]
    },
    {
     "name": "stderr",
     "output_type": "stream",
     "text": [
      "/Users/arasdirekoglu/opt/anaconda3/envs/recom/lib/python3.9/site-packages/tensorflow/python/keras/engine/training_v1.py:1240: UserWarning: `model.fit_generator` is deprecated and will be removed in a future version. Please use `Model.fit`, which supports generators.\n",
      "  warnings.warn('`model.fit_generator` is deprecated and '\n"
     ]
    },
    {
     "name": "stdout",
     "output_type": "stream",
     "text": [
      "WARNING:tensorflow:Callback method `on_train_batch_end` is slow compared to the batch time (batch time: 0.0230s vs `on_train_batch_end` time: 0.0283s). Check your callbacks.\n"
     ]
    },
    {
     "name": "stderr",
     "output_type": "stream",
     "text": [
      "/Users/arasdirekoglu/opt/anaconda3/envs/recom/lib/python3.9/site-packages/tensorflow/python/keras/engine/training.py:2325: UserWarning: `Model.state_updates` will be removed in a future version. This property should not be used in TensorFlow 2.0, as `updates` are applied automatically.\n",
      "  warnings.warn('`Model.state_updates` will be removed in a future version. '\n"
     ]
    },
    {
     "name": "stdout",
     "output_type": "stream",
     "text": [
      "Recall@10 for Intermediate Dim:  600 Latent Dim:  90 Batch size:  50 Annealing:  True :\t 0.11198932806010756\n",
      "Recall@20 for Intermediate Dim:  600 Latent Dim:  90 Batch size:  50 Annealing:  True :\t 0.17841806931524104\n"
     ]
    },
    {
     "name": "stderr",
     "output_type": "stream",
     "text": [
      "/Users/arasdirekoglu/opt/anaconda3/envs/recom/lib/python3.9/site-packages/tensorflow/python/keras/engine/training_v1.py:1240: UserWarning: `model.fit_generator` is deprecated and will be removed in a future version. Please use `Model.fit`, which supports generators.\n",
      "  warnings.warn('`model.fit_generator` is deprecated and '\n",
      "/Users/arasdirekoglu/opt/anaconda3/envs/recom/lib/python3.9/site-packages/tensorflow/python/keras/engine/training.py:2325: UserWarning: `Model.state_updates` will be removed in a future version. This property should not be used in TensorFlow 2.0, as `updates` are applied automatically.\n",
      "  warnings.warn('`Model.state_updates` will be removed in a future version. '\n"
     ]
    },
    {
     "name": "stdout",
     "output_type": "stream",
     "text": [
      "Recall@10 for Intermediate Dim:  600 Latent Dim:  90 Batch size:  50 Annealing:  False :\t 0.08693156700651453\n",
      "Recall@20 for Intermediate Dim:  600 Latent Dim:  90 Batch size:  50 Annealing:  False :\t 0.13944200410296656\n"
     ]
    },
    {
     "name": "stderr",
     "output_type": "stream",
     "text": [
      "/Users/arasdirekoglu/opt/anaconda3/envs/recom/lib/python3.9/site-packages/tensorflow/python/keras/engine/training_v1.py:1240: UserWarning: `model.fit_generator` is deprecated and will be removed in a future version. Please use `Model.fit`, which supports generators.\n",
      "  warnings.warn('`model.fit_generator` is deprecated and '\n",
      "/Users/arasdirekoglu/opt/anaconda3/envs/recom/lib/python3.9/site-packages/tensorflow/python/keras/engine/training.py:2325: UserWarning: `Model.state_updates` will be removed in a future version. This property should not be used in TensorFlow 2.0, as `updates` are applied automatically.\n",
      "  warnings.warn('`Model.state_updates` will be removed in a future version. '\n"
     ]
    },
    {
     "name": "stdout",
     "output_type": "stream",
     "text": [
      "Recall@10 for Intermediate Dim:  600 Latent Dim:  90 Batch size:  100 Annealing:  True :\t 0.10615359803042455\n",
      "Recall@20 for Intermediate Dim:  600 Latent Dim:  90 Batch size:  100 Annealing:  True :\t 0.1645081225018204\n"
     ]
    },
    {
     "name": "stderr",
     "output_type": "stream",
     "text": [
      "/Users/arasdirekoglu/opt/anaconda3/envs/recom/lib/python3.9/site-packages/tensorflow/python/keras/engine/training_v1.py:1240: UserWarning: `model.fit_generator` is deprecated and will be removed in a future version. Please use `Model.fit`, which supports generators.\n",
      "  warnings.warn('`model.fit_generator` is deprecated and '\n",
      "/Users/arasdirekoglu/opt/anaconda3/envs/recom/lib/python3.9/site-packages/tensorflow/python/keras/engine/training.py:2325: UserWarning: `Model.state_updates` will be removed in a future version. This property should not be used in TensorFlow 2.0, as `updates` are applied automatically.\n",
      "  warnings.warn('`Model.state_updates` will be removed in a future version. '\n"
     ]
    },
    {
     "name": "stdout",
     "output_type": "stream",
     "text": [
      "Recall@10 for Intermediate Dim:  600 Latent Dim:  90 Batch size:  100 Annealing:  False :\t 0.07799800200358693\n",
      "Recall@20 for Intermediate Dim:  600 Latent Dim:  90 Batch size:  100 Annealing:  False :\t 0.12760666002604018\n"
     ]
    },
    {
     "name": "stderr",
     "output_type": "stream",
     "text": [
      "/Users/arasdirekoglu/opt/anaconda3/envs/recom/lib/python3.9/site-packages/tensorflow/python/keras/engine/training_v1.py:1240: UserWarning: `model.fit_generator` is deprecated and will be removed in a future version. Please use `Model.fit`, which supports generators.\n",
      "  warnings.warn('`model.fit_generator` is deprecated and '\n"
     ]
    },
    {
     "name": "stdout",
     "output_type": "stream",
     "text": [
      "WARNING:tensorflow:Callback method `on_train_batch_end` is slow compared to the batch time (batch time: 0.0243s vs `on_train_batch_end` time: 0.0396s). Check your callbacks.\n"
     ]
    },
    {
     "name": "stderr",
     "output_type": "stream",
     "text": [
      "/Users/arasdirekoglu/opt/anaconda3/envs/recom/lib/python3.9/site-packages/tensorflow/python/keras/engine/training.py:2325: UserWarning: `Model.state_updates` will be removed in a future version. This property should not be used in TensorFlow 2.0, as `updates` are applied automatically.\n",
      "  warnings.warn('`Model.state_updates` will be removed in a future version. '\n"
     ]
    },
    {
     "name": "stdout",
     "output_type": "stream",
     "text": [
      "Recall@10 for Intermediate Dim:  800 Latent Dim:  50 Batch size:  50 Annealing:  True :\t 0.12056962675118857\n",
      "Recall@20 for Intermediate Dim:  800 Latent Dim:  50 Batch size:  50 Annealing:  True :\t 0.17287208937124887\n"
     ]
    },
    {
     "name": "stderr",
     "output_type": "stream",
     "text": [
      "/Users/arasdirekoglu/opt/anaconda3/envs/recom/lib/python3.9/site-packages/tensorflow/python/keras/engine/training_v1.py:1240: UserWarning: `model.fit_generator` is deprecated and will be removed in a future version. Please use `Model.fit`, which supports generators.\n",
      "  warnings.warn('`model.fit_generator` is deprecated and '\n",
      "/Users/arasdirekoglu/opt/anaconda3/envs/recom/lib/python3.9/site-packages/tensorflow/python/keras/engine/training.py:2325: UserWarning: `Model.state_updates` will be removed in a future version. This property should not be used in TensorFlow 2.0, as `updates` are applied automatically.\n",
      "  warnings.warn('`Model.state_updates` will be removed in a future version. '\n"
     ]
    },
    {
     "name": "stdout",
     "output_type": "stream",
     "text": [
      "Recall@10 for Intermediate Dim:  800 Latent Dim:  50 Batch size:  50 Annealing:  False :\t 0.09123256411882483\n",
      "Recall@20 for Intermediate Dim:  800 Latent Dim:  50 Batch size:  50 Annealing:  False :\t 0.13484076277140847\n"
     ]
    },
    {
     "name": "stderr",
     "output_type": "stream",
     "text": [
      "/Users/arasdirekoglu/opt/anaconda3/envs/recom/lib/python3.9/site-packages/tensorflow/python/keras/engine/training_v1.py:1240: UserWarning: `model.fit_generator` is deprecated and will be removed in a future version. Please use `Model.fit`, which supports generators.\n",
      "  warnings.warn('`model.fit_generator` is deprecated and '\n"
     ]
    },
    {
     "name": "stdout",
     "output_type": "stream",
     "text": [
      "WARNING:tensorflow:Callback method `on_train_batch_end` is slow compared to the batch time (batch time: 0.0474s vs `on_train_batch_end` time: 0.0476s). Check your callbacks.\n"
     ]
    },
    {
     "name": "stderr",
     "output_type": "stream",
     "text": [
      "/Users/arasdirekoglu/opt/anaconda3/envs/recom/lib/python3.9/site-packages/tensorflow/python/keras/engine/training.py:2325: UserWarning: `Model.state_updates` will be removed in a future version. This property should not be used in TensorFlow 2.0, as `updates` are applied automatically.\n",
      "  warnings.warn('`Model.state_updates` will be removed in a future version. '\n"
     ]
    },
    {
     "name": "stdout",
     "output_type": "stream",
     "text": [
      "Recall@10 for Intermediate Dim:  800 Latent Dim:  50 Batch size:  100 Annealing:  True :\t 0.11221832812268906\n",
      "Recall@20 for Intermediate Dim:  800 Latent Dim:  50 Batch size:  100 Annealing:  True :\t 0.17121521434327713\n"
     ]
    },
    {
     "name": "stderr",
     "output_type": "stream",
     "text": [
      "/Users/arasdirekoglu/opt/anaconda3/envs/recom/lib/python3.9/site-packages/tensorflow/python/keras/engine/training_v1.py:1240: UserWarning: `model.fit_generator` is deprecated and will be removed in a future version. Please use `Model.fit`, which supports generators.\n",
      "  warnings.warn('`model.fit_generator` is deprecated and '\n",
      "/Users/arasdirekoglu/opt/anaconda3/envs/recom/lib/python3.9/site-packages/tensorflow/python/keras/engine/training.py:2325: UserWarning: `Model.state_updates` will be removed in a future version. This property should not be used in TensorFlow 2.0, as `updates` are applied automatically.\n",
      "  warnings.warn('`Model.state_updates` will be removed in a future version. '\n"
     ]
    },
    {
     "name": "stdout",
     "output_type": "stream",
     "text": [
      "Recall@10 for Intermediate Dim:  800 Latent Dim:  50 Batch size:  100 Annealing:  False :\t 0.09450427119805307\n",
      "Recall@20 for Intermediate Dim:  800 Latent Dim:  50 Batch size:  100 Annealing:  False :\t 0.13780590137211016\n"
     ]
    },
    {
     "name": "stderr",
     "output_type": "stream",
     "text": [
      "/Users/arasdirekoglu/opt/anaconda3/envs/recom/lib/python3.9/site-packages/tensorflow/python/keras/engine/training_v1.py:1240: UserWarning: `model.fit_generator` is deprecated and will be removed in a future version. Please use `Model.fit`, which supports generators.\n",
      "  warnings.warn('`model.fit_generator` is deprecated and '\n"
     ]
    },
    {
     "name": "stdout",
     "output_type": "stream",
     "text": [
      "WARNING:tensorflow:Callback method `on_train_batch_end` is slow compared to the batch time (batch time: 0.0243s vs `on_train_batch_end` time: 0.0565s). Check your callbacks.\n"
     ]
    },
    {
     "name": "stderr",
     "output_type": "stream",
     "text": [
      "/Users/arasdirekoglu/opt/anaconda3/envs/recom/lib/python3.9/site-packages/tensorflow/python/keras/engine/training.py:2325: UserWarning: `Model.state_updates` will be removed in a future version. This property should not be used in TensorFlow 2.0, as `updates` are applied automatically.\n",
      "  warnings.warn('`Model.state_updates` will be removed in a future version. '\n"
     ]
    },
    {
     "name": "stdout",
     "output_type": "stream",
     "text": [
      "Recall@10 for Intermediate Dim:  800 Latent Dim:  70 Batch size:  50 Annealing:  True :\t 0.1125080996411515\n",
      "Recall@20 for Intermediate Dim:  800 Latent Dim:  70 Batch size:  50 Annealing:  True :\t 0.1752807649660374\n"
     ]
    },
    {
     "name": "stderr",
     "output_type": "stream",
     "text": [
      "/Users/arasdirekoglu/opt/anaconda3/envs/recom/lib/python3.9/site-packages/tensorflow/python/keras/engine/training_v1.py:1240: UserWarning: `model.fit_generator` is deprecated and will be removed in a future version. Please use `Model.fit`, which supports generators.\n",
      "  warnings.warn('`model.fit_generator` is deprecated and '\n",
      "/Users/arasdirekoglu/opt/anaconda3/envs/recom/lib/python3.9/site-packages/tensorflow/python/keras/engine/training.py:2325: UserWarning: `Model.state_updates` will be removed in a future version. This property should not be used in TensorFlow 2.0, as `updates` are applied automatically.\n",
      "  warnings.warn('`Model.state_updates` will be removed in a future version. '\n"
     ]
    },
    {
     "name": "stdout",
     "output_type": "stream",
     "text": [
      "Recall@10 for Intermediate Dim:  800 Latent Dim:  70 Batch size:  50 Annealing:  False :\t 0.08930616013081699\n",
      "Recall@20 for Intermediate Dim:  800 Latent Dim:  70 Batch size:  50 Annealing:  False :\t 0.13643632624963262\n"
     ]
    },
    {
     "name": "stderr",
     "output_type": "stream",
     "text": [
      "/Users/arasdirekoglu/opt/anaconda3/envs/recom/lib/python3.9/site-packages/tensorflow/python/keras/engine/training_v1.py:1240: UserWarning: `model.fit_generator` is deprecated and will be removed in a future version. Please use `Model.fit`, which supports generators.\n",
      "  warnings.warn('`model.fit_generator` is deprecated and '\n"
     ]
    },
    {
     "name": "stdout",
     "output_type": "stream",
     "text": [
      "WARNING:tensorflow:Callback method `on_train_batch_end` is slow compared to the batch time (batch time: 0.0398s vs `on_train_batch_end` time: 0.0579s). Check your callbacks.\n"
     ]
    },
    {
     "name": "stderr",
     "output_type": "stream",
     "text": [
      "/Users/arasdirekoglu/opt/anaconda3/envs/recom/lib/python3.9/site-packages/tensorflow/python/keras/engine/training.py:2325: UserWarning: `Model.state_updates` will be removed in a future version. This property should not be used in TensorFlow 2.0, as `updates` are applied automatically.\n",
      "  warnings.warn('`Model.state_updates` will be removed in a future version. '\n"
     ]
    },
    {
     "name": "stdout",
     "output_type": "stream",
     "text": [
      "Recall@10 for Intermediate Dim:  800 Latent Dim:  70 Batch size:  100 Annealing:  True :\t 0.11278919756998118\n",
      "Recall@20 for Intermediate Dim:  800 Latent Dim:  70 Batch size:  100 Annealing:  True :\t 0.1702149699532711\n"
     ]
    },
    {
     "name": "stderr",
     "output_type": "stream",
     "text": [
      "/Users/arasdirekoglu/opt/anaconda3/envs/recom/lib/python3.9/site-packages/tensorflow/python/keras/engine/training_v1.py:1240: UserWarning: `model.fit_generator` is deprecated and will be removed in a future version. Please use `Model.fit`, which supports generators.\n",
      "  warnings.warn('`model.fit_generator` is deprecated and '\n",
      "/Users/arasdirekoglu/opt/anaconda3/envs/recom/lib/python3.9/site-packages/tensorflow/python/keras/engine/training.py:2325: UserWarning: `Model.state_updates` will be removed in a future version. This property should not be used in TensorFlow 2.0, as `updates` are applied automatically.\n",
      "  warnings.warn('`Model.state_updates` will be removed in a future version. '\n"
     ]
    },
    {
     "name": "stdout",
     "output_type": "stream",
     "text": [
      "Recall@10 for Intermediate Dim:  800 Latent Dim:  70 Batch size:  100 Annealing:  False :\t 0.08665595278474394\n",
      "Recall@20 for Intermediate Dim:  800 Latent Dim:  70 Batch size:  100 Annealing:  False :\t 0.14200224074544257\n"
     ]
    },
    {
     "name": "stderr",
     "output_type": "stream",
     "text": [
      "/Users/arasdirekoglu/opt/anaconda3/envs/recom/lib/python3.9/site-packages/tensorflow/python/keras/engine/training_v1.py:1240: UserWarning: `model.fit_generator` is deprecated and will be removed in a future version. Please use `Model.fit`, which supports generators.\n",
      "  warnings.warn('`model.fit_generator` is deprecated and '\n"
     ]
    },
    {
     "name": "stdout",
     "output_type": "stream",
     "text": [
      "WARNING:tensorflow:Callback method `on_train_batch_end` is slow compared to the batch time (batch time: 0.0287s vs `on_train_batch_end` time: 0.0666s). Check your callbacks.\n"
     ]
    },
    {
     "name": "stderr",
     "output_type": "stream",
     "text": [
      "/Users/arasdirekoglu/opt/anaconda3/envs/recom/lib/python3.9/site-packages/tensorflow/python/keras/engine/training.py:2325: UserWarning: `Model.state_updates` will be removed in a future version. This property should not be used in TensorFlow 2.0, as `updates` are applied automatically.\n",
      "  warnings.warn('`Model.state_updates` will be removed in a future version. '\n"
     ]
    },
    {
     "name": "stdout",
     "output_type": "stream",
     "text": [
      "Recall@10 for Intermediate Dim:  800 Latent Dim:  90 Batch size:  50 Annealing:  True :\t 0.10826698627767732\n",
      "Recall@20 for Intermediate Dim:  800 Latent Dim:  90 Batch size:  50 Annealing:  True :\t 0.17029629676518493\n"
     ]
    },
    {
     "name": "stderr",
     "output_type": "stream",
     "text": [
      "/Users/arasdirekoglu/opt/anaconda3/envs/recom/lib/python3.9/site-packages/tensorflow/python/keras/engine/training_v1.py:1240: UserWarning: `model.fit_generator` is deprecated and will be removed in a future version. Please use `Model.fit`, which supports generators.\n",
      "  warnings.warn('`model.fit_generator` is deprecated and '\n",
      "/Users/arasdirekoglu/opt/anaconda3/envs/recom/lib/python3.9/site-packages/tensorflow/python/keras/engine/training.py:2325: UserWarning: `Model.state_updates` will be removed in a future version. This property should not be used in TensorFlow 2.0, as `updates` are applied automatically.\n",
      "  warnings.warn('`Model.state_updates` will be removed in a future version. '\n"
     ]
    },
    {
     "name": "stdout",
     "output_type": "stream",
     "text": [
      "Recall@10 for Intermediate Dim:  800 Latent Dim:  90 Batch size:  50 Annealing:  False :\t 0.09160017589871321\n",
      "Recall@20 for Intermediate Dim:  800 Latent Dim:  90 Batch size:  50 Annealing:  False :\t 0.1378025141727671\n"
     ]
    },
    {
     "name": "stderr",
     "output_type": "stream",
     "text": [
      "/Users/arasdirekoglu/opt/anaconda3/envs/recom/lib/python3.9/site-packages/tensorflow/python/keras/engine/training_v1.py:1240: UserWarning: `model.fit_generator` is deprecated and will be removed in a future version. Please use `Model.fit`, which supports generators.\n",
      "  warnings.warn('`model.fit_generator` is deprecated and '\n"
     ]
    },
    {
     "name": "stdout",
     "output_type": "stream",
     "text": [
      "WARNING:tensorflow:Callback method `on_train_batch_end` is slow compared to the batch time (batch time: 0.0434s vs `on_train_batch_end` time: 0.0749s). Check your callbacks.\n"
     ]
    },
    {
     "name": "stderr",
     "output_type": "stream",
     "text": [
      "/Users/arasdirekoglu/opt/anaconda3/envs/recom/lib/python3.9/site-packages/tensorflow/python/keras/engine/training.py:2325: UserWarning: `Model.state_updates` will be removed in a future version. This property should not be used in TensorFlow 2.0, as `updates` are applied automatically.\n",
      "  warnings.warn('`Model.state_updates` will be removed in a future version. '\n"
     ]
    },
    {
     "name": "stdout",
     "output_type": "stream",
     "text": [
      "Recall@10 for Intermediate Dim:  800 Latent Dim:  90 Batch size:  100 Annealing:  True :\t 0.10854772611386077\n",
      "Recall@20 for Intermediate Dim:  800 Latent Dim:  90 Batch size:  100 Annealing:  True :\t 0.16257492690880265\n"
     ]
    },
    {
     "name": "stderr",
     "output_type": "stream",
     "text": [
      "/Users/arasdirekoglu/opt/anaconda3/envs/recom/lib/python3.9/site-packages/tensorflow/python/keras/engine/training_v1.py:1240: UserWarning: `model.fit_generator` is deprecated and will be removed in a future version. Please use `Model.fit`, which supports generators.\n",
      "  warnings.warn('`model.fit_generator` is deprecated and '\n",
      "/Users/arasdirekoglu/opt/anaconda3/envs/recom/lib/python3.9/site-packages/tensorflow/python/keras/engine/training.py:2325: UserWarning: `Model.state_updates` will be removed in a future version. This property should not be used in TensorFlow 2.0, as `updates` are applied automatically.\n",
      "  warnings.warn('`Model.state_updates` will be removed in a future version. '\n"
     ]
    },
    {
     "name": "stdout",
     "output_type": "stream",
     "text": [
      "Recall@10 for Intermediate Dim:  800 Latent Dim:  90 Batch size:  100 Annealing:  False :\t 0.07951391939706015\n",
      "Recall@20 for Intermediate Dim:  800 Latent Dim:  90 Batch size:  100 Annealing:  False :\t 0.1303303045752076\n"
     ]
    },
    {
     "name": "stderr",
     "output_type": "stream",
     "text": [
      "/Users/arasdirekoglu/opt/anaconda3/envs/recom/lib/python3.9/site-packages/tensorflow/python/keras/engine/training_v1.py:1240: UserWarning: `model.fit_generator` is deprecated and will be removed in a future version. Please use `Model.fit`, which supports generators.\n",
      "  warnings.warn('`model.fit_generator` is deprecated and '\n"
     ]
    },
    {
     "name": "stdout",
     "output_type": "stream",
     "text": [
      "WARNING:tensorflow:Callback method `on_train_batch_end` is slow compared to the batch time (batch time: 0.0317s vs `on_train_batch_end` time: 0.0800s). Check your callbacks.\n"
     ]
    },
    {
     "name": "stderr",
     "output_type": "stream",
     "text": [
      "/Users/arasdirekoglu/opt/anaconda3/envs/recom/lib/python3.9/site-packages/tensorflow/python/keras/engine/training.py:2325: UserWarning: `Model.state_updates` will be removed in a future version. This property should not be used in TensorFlow 2.0, as `updates` are applied automatically.\n",
      "  warnings.warn('`Model.state_updates` will be removed in a future version. '\n"
     ]
    },
    {
     "name": "stdout",
     "output_type": "stream",
     "text": [
      "Recall@10 for Intermediate Dim:  1000 Latent Dim:  50 Batch size:  50 Annealing:  True :\t 0.12053197498864794\n",
      "Recall@20 for Intermediate Dim:  1000 Latent Dim:  50 Batch size:  50 Annealing:  True :\t 0.1814034397805691\n"
     ]
    },
    {
     "name": "stderr",
     "output_type": "stream",
     "text": [
      "/Users/arasdirekoglu/opt/anaconda3/envs/recom/lib/python3.9/site-packages/tensorflow/python/keras/engine/training_v1.py:1240: UserWarning: `model.fit_generator` is deprecated and will be removed in a future version. Please use `Model.fit`, which supports generators.\n",
      "  warnings.warn('`model.fit_generator` is deprecated and '\n",
      "/Users/arasdirekoglu/opt/anaconda3/envs/recom/lib/python3.9/site-packages/tensorflow/python/keras/engine/training.py:2325: UserWarning: `Model.state_updates` will be removed in a future version. This property should not be used in TensorFlow 2.0, as `updates` are applied automatically.\n",
      "  warnings.warn('`Model.state_updates` will be removed in a future version. '\n"
     ]
    },
    {
     "name": "stdout",
     "output_type": "stream",
     "text": [
      "Recall@10 for Intermediate Dim:  1000 Latent Dim:  50 Batch size:  50 Annealing:  False :\t 0.09240549386861815\n",
      "Recall@20 for Intermediate Dim:  1000 Latent Dim:  50 Batch size:  50 Annealing:  False :\t 0.13585194678874268\n"
     ]
    },
    {
     "name": "stderr",
     "output_type": "stream",
     "text": [
      "/Users/arasdirekoglu/opt/anaconda3/envs/recom/lib/python3.9/site-packages/tensorflow/python/keras/engine/training_v1.py:1240: UserWarning: `model.fit_generator` is deprecated and will be removed in a future version. Please use `Model.fit`, which supports generators.\n",
      "  warnings.warn('`model.fit_generator` is deprecated and '\n"
     ]
    },
    {
     "name": "stdout",
     "output_type": "stream",
     "text": [
      "WARNING:tensorflow:Callback method `on_train_batch_end` is slow compared to the batch time (batch time: 0.0500s vs `on_train_batch_end` time: 0.0928s). Check your callbacks.\n"
     ]
    },
    {
     "name": "stderr",
     "output_type": "stream",
     "text": [
      "/Users/arasdirekoglu/opt/anaconda3/envs/recom/lib/python3.9/site-packages/tensorflow/python/keras/engine/training.py:2325: UserWarning: `Model.state_updates` will be removed in a future version. This property should not be used in TensorFlow 2.0, as `updates` are applied automatically.\n",
      "  warnings.warn('`Model.state_updates` will be removed in a future version. '\n"
     ]
    },
    {
     "name": "stdout",
     "output_type": "stream",
     "text": [
      "Recall@10 for Intermediate Dim:  1000 Latent Dim:  50 Batch size:  100 Annealing:  True :\t 0.11986681670214386\n",
      "Recall@20 for Intermediate Dim:  1000 Latent Dim:  50 Batch size:  100 Annealing:  True :\t 0.1750157932848737\n"
     ]
    },
    {
     "name": "stderr",
     "output_type": "stream",
     "text": [
      "/Users/arasdirekoglu/opt/anaconda3/envs/recom/lib/python3.9/site-packages/tensorflow/python/keras/engine/training_v1.py:1240: UserWarning: `model.fit_generator` is deprecated and will be removed in a future version. Please use `Model.fit`, which supports generators.\n",
      "  warnings.warn('`model.fit_generator` is deprecated and '\n",
      "/Users/arasdirekoglu/opt/anaconda3/envs/recom/lib/python3.9/site-packages/tensorflow/python/keras/engine/training.py:2325: UserWarning: `Model.state_updates` will be removed in a future version. This property should not be used in TensorFlow 2.0, as `updates` are applied automatically.\n",
      "  warnings.warn('`Model.state_updates` will be removed in a future version. '\n"
     ]
    },
    {
     "name": "stdout",
     "output_type": "stream",
     "text": [
      "Recall@10 for Intermediate Dim:  1000 Latent Dim:  50 Batch size:  100 Annealing:  False :\t 0.08871805041302495\n",
      "Recall@20 for Intermediate Dim:  1000 Latent Dim:  50 Batch size:  100 Annealing:  False :\t 0.1313879343253667\n"
     ]
    },
    {
     "name": "stderr",
     "output_type": "stream",
     "text": [
      "/Users/arasdirekoglu/opt/anaconda3/envs/recom/lib/python3.9/site-packages/tensorflow/python/keras/engine/training_v1.py:1240: UserWarning: `model.fit_generator` is deprecated and will be removed in a future version. Please use `Model.fit`, which supports generators.\n",
      "  warnings.warn('`model.fit_generator` is deprecated and '\n"
     ]
    },
    {
     "name": "stdout",
     "output_type": "stream",
     "text": [
      "WARNING:tensorflow:Callback method `on_train_batch_end` is slow compared to the batch time (batch time: 0.0482s vs `on_train_batch_end` time: 0.0970s). Check your callbacks.\n"
     ]
    },
    {
     "name": "stderr",
     "output_type": "stream",
     "text": [
      "/Users/arasdirekoglu/opt/anaconda3/envs/recom/lib/python3.9/site-packages/tensorflow/python/keras/engine/training.py:2325: UserWarning: `Model.state_updates` will be removed in a future version. This property should not be used in TensorFlow 2.0, as `updates` are applied automatically.\n",
      "  warnings.warn('`Model.state_updates` will be removed in a future version. '\n"
     ]
    },
    {
     "name": "stdout",
     "output_type": "stream",
     "text": [
      "Recall@10 for Intermediate Dim:  1000 Latent Dim:  70 Batch size:  50 Annealing:  True :\t 0.11450324732984841\n",
      "Recall@20 for Intermediate Dim:  1000 Latent Dim:  70 Batch size:  50 Annealing:  True :\t 0.17308973877202458\n"
     ]
    },
    {
     "name": "stderr",
     "output_type": "stream",
     "text": [
      "/Users/arasdirekoglu/opt/anaconda3/envs/recom/lib/python3.9/site-packages/tensorflow/python/keras/engine/training_v1.py:1240: UserWarning: `model.fit_generator` is deprecated and will be removed in a future version. Please use `Model.fit`, which supports generators.\n",
      "  warnings.warn('`model.fit_generator` is deprecated and '\n",
      "/Users/arasdirekoglu/opt/anaconda3/envs/recom/lib/python3.9/site-packages/tensorflow/python/keras/engine/training.py:2325: UserWarning: `Model.state_updates` will be removed in a future version. This property should not be used in TensorFlow 2.0, as `updates` are applied automatically.\n",
      "  warnings.warn('`Model.state_updates` will be removed in a future version. '\n"
     ]
    },
    {
     "name": "stdout",
     "output_type": "stream",
     "text": [
      "Recall@10 for Intermediate Dim:  1000 Latent Dim:  70 Batch size:  50 Annealing:  False :\t 0.09493532585144643\n",
      "Recall@20 for Intermediate Dim:  1000 Latent Dim:  70 Batch size:  50 Annealing:  False :\t 0.13872695650957068\n"
     ]
    },
    {
     "name": "stderr",
     "output_type": "stream",
     "text": [
      "/Users/arasdirekoglu/opt/anaconda3/envs/recom/lib/python3.9/site-packages/tensorflow/python/keras/engine/training_v1.py:1240: UserWarning: `model.fit_generator` is deprecated and will be removed in a future version. Please use `Model.fit`, which supports generators.\n",
      "  warnings.warn('`model.fit_generator` is deprecated and '\n"
     ]
    },
    {
     "name": "stdout",
     "output_type": "stream",
     "text": [
      "WARNING:tensorflow:Callback method `on_train_batch_end` is slow compared to the batch time (batch time: 0.0591s vs `on_train_batch_end` time: 0.1100s). Check your callbacks.\n"
     ]
    },
    {
     "name": "stderr",
     "output_type": "stream",
     "text": [
      "/Users/arasdirekoglu/opt/anaconda3/envs/recom/lib/python3.9/site-packages/tensorflow/python/keras/engine/training.py:2325: UserWarning: `Model.state_updates` will be removed in a future version. This property should not be used in TensorFlow 2.0, as `updates` are applied automatically.\n",
      "  warnings.warn('`Model.state_updates` will be removed in a future version. '\n"
     ]
    },
    {
     "name": "stdout",
     "output_type": "stream",
     "text": [
      "Recall@10 for Intermediate Dim:  1000 Latent Dim:  70 Batch size:  100 Annealing:  True :\t 0.10820340944202415\n",
      "Recall@20 for Intermediate Dim:  1000 Latent Dim:  70 Batch size:  100 Annealing:  True :\t 0.16836274426309894\n"
     ]
    },
    {
     "name": "stderr",
     "output_type": "stream",
     "text": [
      "/Users/arasdirekoglu/opt/anaconda3/envs/recom/lib/python3.9/site-packages/tensorflow/python/keras/engine/training_v1.py:1240: UserWarning: `model.fit_generator` is deprecated and will be removed in a future version. Please use `Model.fit`, which supports generators.\n",
      "  warnings.warn('`model.fit_generator` is deprecated and '\n",
      "/Users/arasdirekoglu/opt/anaconda3/envs/recom/lib/python3.9/site-packages/tensorflow/python/keras/engine/training.py:2325: UserWarning: `Model.state_updates` will be removed in a future version. This property should not be used in TensorFlow 2.0, as `updates` are applied automatically.\n",
      "  warnings.warn('`Model.state_updates` will be removed in a future version. '\n"
     ]
    },
    {
     "name": "stdout",
     "output_type": "stream",
     "text": [
      "Recall@10 for Intermediate Dim:  1000 Latent Dim:  70 Batch size:  100 Annealing:  False :\t 0.09117722719737271\n",
      "Recall@20 for Intermediate Dim:  1000 Latent Dim:  70 Batch size:  100 Annealing:  False :\t 0.1397265054366323\n"
     ]
    },
    {
     "name": "stderr",
     "output_type": "stream",
     "text": [
      "/Users/arasdirekoglu/opt/anaconda3/envs/recom/lib/python3.9/site-packages/tensorflow/python/keras/engine/training_v1.py:1240: UserWarning: `model.fit_generator` is deprecated and will be removed in a future version. Please use `Model.fit`, which supports generators.\n",
      "  warnings.warn('`model.fit_generator` is deprecated and '\n"
     ]
    },
    {
     "name": "stdout",
     "output_type": "stream",
     "text": [
      "WARNING:tensorflow:Callback method `on_train_batch_end` is slow compared to the batch time (batch time: 0.0338s vs `on_train_batch_end` time: 0.1012s). Check your callbacks.\n"
     ]
    },
    {
     "name": "stderr",
     "output_type": "stream",
     "text": [
      "/Users/arasdirekoglu/opt/anaconda3/envs/recom/lib/python3.9/site-packages/tensorflow/python/keras/engine/training.py:2325: UserWarning: `Model.state_updates` will be removed in a future version. This property should not be used in TensorFlow 2.0, as `updates` are applied automatically.\n",
      "  warnings.warn('`Model.state_updates` will be removed in a future version. '\n"
     ]
    },
    {
     "name": "stdout",
     "output_type": "stream",
     "text": [
      "Recall@10 for Intermediate Dim:  1000 Latent Dim:  90 Batch size:  50 Annealing:  True :\t 0.1191378513648518\n",
      "Recall@20 for Intermediate Dim:  1000 Latent Dim:  90 Batch size:  50 Annealing:  True :\t 0.17517460668866852\n"
     ]
    },
    {
     "name": "stderr",
     "output_type": "stream",
     "text": [
      "/Users/arasdirekoglu/opt/anaconda3/envs/recom/lib/python3.9/site-packages/tensorflow/python/keras/engine/training_v1.py:1240: UserWarning: `model.fit_generator` is deprecated and will be removed in a future version. Please use `Model.fit`, which supports generators.\n",
      "  warnings.warn('`model.fit_generator` is deprecated and '\n",
      "/Users/arasdirekoglu/opt/anaconda3/envs/recom/lib/python3.9/site-packages/tensorflow/python/keras/engine/training.py:2325: UserWarning: `Model.state_updates` will be removed in a future version. This property should not be used in TensorFlow 2.0, as `updates` are applied automatically.\n",
      "  warnings.warn('`Model.state_updates` will be removed in a future version. '\n"
     ]
    },
    {
     "name": "stdout",
     "output_type": "stream",
     "text": [
      "Recall@10 for Intermediate Dim:  1000 Latent Dim:  90 Batch size:  50 Annealing:  False :\t 0.08657362996027522\n",
      "Recall@20 for Intermediate Dim:  1000 Latent Dim:  90 Batch size:  50 Annealing:  False :\t 0.13673500333958077\n"
     ]
    },
    {
     "name": "stderr",
     "output_type": "stream",
     "text": [
      "/Users/arasdirekoglu/opt/anaconda3/envs/recom/lib/python3.9/site-packages/tensorflow/python/keras/engine/training_v1.py:1240: UserWarning: `model.fit_generator` is deprecated and will be removed in a future version. Please use `Model.fit`, which supports generators.\n",
      "  warnings.warn('`model.fit_generator` is deprecated and '\n"
     ]
    },
    {
     "name": "stdout",
     "output_type": "stream",
     "text": [
      "WARNING:tensorflow:Callback method `on_train_batch_end` is slow compared to the batch time (batch time: 0.0499s vs `on_train_batch_end` time: 0.1087s). Check your callbacks.\n"
     ]
    },
    {
     "name": "stderr",
     "output_type": "stream",
     "text": [
      "/Users/arasdirekoglu/opt/anaconda3/envs/recom/lib/python3.9/site-packages/tensorflow/python/keras/engine/training.py:2325: UserWarning: `Model.state_updates` will be removed in a future version. This property should not be used in TensorFlow 2.0, as `updates` are applied automatically.\n",
      "  warnings.warn('`Model.state_updates` will be removed in a future version. '\n"
     ]
    },
    {
     "name": "stdout",
     "output_type": "stream",
     "text": [
      "Recall@10 for Intermediate Dim:  1000 Latent Dim:  90 Batch size:  100 Annealing:  True :\t 0.11031530288952801\n",
      "Recall@20 for Intermediate Dim:  1000 Latent Dim:  90 Batch size:  100 Annealing:  True :\t 0.1632837806575978\n"
     ]
    },
    {
     "name": "stderr",
     "output_type": "stream",
     "text": [
      "/Users/arasdirekoglu/opt/anaconda3/envs/recom/lib/python3.9/site-packages/tensorflow/python/keras/engine/training_v1.py:1240: UserWarning: `model.fit_generator` is deprecated and will be removed in a future version. Please use `Model.fit`, which supports generators.\n",
      "  warnings.warn('`model.fit_generator` is deprecated and '\n",
      "/Users/arasdirekoglu/opt/anaconda3/envs/recom/lib/python3.9/site-packages/tensorflow/python/keras/engine/training.py:2325: UserWarning: `Model.state_updates` will be removed in a future version. This property should not be used in TensorFlow 2.0, as `updates` are applied automatically.\n",
      "  warnings.warn('`Model.state_updates` will be removed in a future version. '\n"
     ]
    },
    {
     "name": "stdout",
     "output_type": "stream",
     "text": [
      "Recall@10 for Intermediate Dim:  1000 Latent Dim:  90 Batch size:  100 Annealing:  False :\t 0.08674425105653502\n",
      "Recall@20 for Intermediate Dim:  1000 Latent Dim:  90 Batch size:  100 Annealing:  False :\t 0.13574052735831146\n"
     ]
    },
    {
     "name": "stderr",
     "output_type": "stream",
     "text": [
      "/Users/arasdirekoglu/opt/anaconda3/envs/recom/lib/python3.9/site-packages/tensorflow/python/keras/engine/training_v1.py:1240: UserWarning: `model.fit_generator` is deprecated and will be removed in a future version. Please use `Model.fit`, which supports generators.\n",
      "  warnings.warn('`model.fit_generator` is deprecated and '\n"
     ]
    },
    {
     "name": "stdout",
     "output_type": "stream",
     "text": [
      "WARNING:tensorflow:Callback method `on_train_batch_end` is slow compared to the batch time (batch time: 0.0332s vs `on_train_batch_end` time: 0.1135s). Check your callbacks.\n"
     ]
    },
    {
     "name": "stderr",
     "output_type": "stream",
     "text": [
      "/Users/arasdirekoglu/opt/anaconda3/envs/recom/lib/python3.9/site-packages/tensorflow/python/keras/engine/training.py:2325: UserWarning: `Model.state_updates` will be removed in a future version. This property should not be used in TensorFlow 2.0, as `updates` are applied automatically.\n",
      "  warnings.warn('`Model.state_updates` will be removed in a future version. '\n"
     ]
    },
    {
     "name": "stdout",
     "output_type": "stream",
     "text": [
      "Recall@10 for Intermediate Dim:  1200 Latent Dim:  50 Batch size:  50 Annealing:  True :\t 0.11832035671672833\n",
      "Recall@20 for Intermediate Dim:  1200 Latent Dim:  50 Batch size:  50 Annealing:  True :\t 0.17613651291391336\n"
     ]
    },
    {
     "name": "stderr",
     "output_type": "stream",
     "text": [
      "/Users/arasdirekoglu/opt/anaconda3/envs/recom/lib/python3.9/site-packages/tensorflow/python/keras/engine/training_v1.py:1240: UserWarning: `model.fit_generator` is deprecated and will be removed in a future version. Please use `Model.fit`, which supports generators.\n",
      "  warnings.warn('`model.fit_generator` is deprecated and '\n",
      "/Users/arasdirekoglu/opt/anaconda3/envs/recom/lib/python3.9/site-packages/tensorflow/python/keras/engine/training.py:2325: UserWarning: `Model.state_updates` will be removed in a future version. This property should not be used in TensorFlow 2.0, as `updates` are applied automatically.\n",
      "  warnings.warn('`Model.state_updates` will be removed in a future version. '\n"
     ]
    },
    {
     "name": "stdout",
     "output_type": "stream",
     "text": [
      "Recall@10 for Intermediate Dim:  1200 Latent Dim:  50 Batch size:  50 Annealing:  False :\t 0.08902668788396265\n",
      "Recall@20 for Intermediate Dim:  1200 Latent Dim:  50 Batch size:  50 Annealing:  False :\t 0.13204465926991812\n"
     ]
    },
    {
     "name": "stderr",
     "output_type": "stream",
     "text": [
      "/Users/arasdirekoglu/opt/anaconda3/envs/recom/lib/python3.9/site-packages/tensorflow/python/keras/engine/training_v1.py:1240: UserWarning: `model.fit_generator` is deprecated and will be removed in a future version. Please use `Model.fit`, which supports generators.\n",
      "  warnings.warn('`model.fit_generator` is deprecated and '\n"
     ]
    },
    {
     "name": "stdout",
     "output_type": "stream",
     "text": [
      "WARNING:tensorflow:Callback method `on_train_batch_end` is slow compared to the batch time (batch time: 0.0601s vs `on_train_batch_end` time: 0.1334s). Check your callbacks.\n"
     ]
    },
    {
     "name": "stderr",
     "output_type": "stream",
     "text": [
      "/Users/arasdirekoglu/opt/anaconda3/envs/recom/lib/python3.9/site-packages/tensorflow/python/keras/engine/training.py:2325: UserWarning: `Model.state_updates` will be removed in a future version. This property should not be used in TensorFlow 2.0, as `updates` are applied automatically.\n",
      "  warnings.warn('`Model.state_updates` will be removed in a future version. '\n"
     ]
    },
    {
     "name": "stdout",
     "output_type": "stream",
     "text": [
      "Recall@10 for Intermediate Dim:  1200 Latent Dim:  50 Batch size:  100 Annealing:  True :\t 0.1151712630604167\n",
      "Recall@20 for Intermediate Dim:  1200 Latent Dim:  50 Batch size:  100 Annealing:  True :\t 0.17358364971892984\n"
     ]
    },
    {
     "name": "stderr",
     "output_type": "stream",
     "text": [
      "/Users/arasdirekoglu/opt/anaconda3/envs/recom/lib/python3.9/site-packages/tensorflow/python/keras/engine/training_v1.py:1240: UserWarning: `model.fit_generator` is deprecated and will be removed in a future version. Please use `Model.fit`, which supports generators.\n",
      "  warnings.warn('`model.fit_generator` is deprecated and '\n",
      "/Users/arasdirekoglu/opt/anaconda3/envs/recom/lib/python3.9/site-packages/tensorflow/python/keras/engine/training.py:2325: UserWarning: `Model.state_updates` will be removed in a future version. This property should not be used in TensorFlow 2.0, as `updates` are applied automatically.\n",
      "  warnings.warn('`Model.state_updates` will be removed in a future version. '\n"
     ]
    },
    {
     "name": "stdout",
     "output_type": "stream",
     "text": [
      "Recall@10 for Intermediate Dim:  1200 Latent Dim:  50 Batch size:  100 Annealing:  False :\t 0.09044046534077002\n",
      "Recall@20 for Intermediate Dim:  1200 Latent Dim:  50 Batch size:  100 Annealing:  False :\t 0.1347587172755065\n"
     ]
    },
    {
     "name": "stderr",
     "output_type": "stream",
     "text": [
      "/Users/arasdirekoglu/opt/anaconda3/envs/recom/lib/python3.9/site-packages/tensorflow/python/keras/engine/training_v1.py:1240: UserWarning: `model.fit_generator` is deprecated and will be removed in a future version. Please use `Model.fit`, which supports generators.\n",
      "  warnings.warn('`model.fit_generator` is deprecated and '\n"
     ]
    },
    {
     "name": "stdout",
     "output_type": "stream",
     "text": [
      "WARNING:tensorflow:Callback method `on_train_batch_end` is slow compared to the batch time (batch time: 0.0335s vs `on_train_batch_end` time: 0.1271s). Check your callbacks.\n"
     ]
    },
    {
     "name": "stderr",
     "output_type": "stream",
     "text": [
      "/Users/arasdirekoglu/opt/anaconda3/envs/recom/lib/python3.9/site-packages/tensorflow/python/keras/engine/training.py:2325: UserWarning: `Model.state_updates` will be removed in a future version. This property should not be used in TensorFlow 2.0, as `updates` are applied automatically.\n",
      "  warnings.warn('`Model.state_updates` will be removed in a future version. '\n"
     ]
    },
    {
     "name": "stdout",
     "output_type": "stream",
     "text": [
      "Recall@10 for Intermediate Dim:  1200 Latent Dim:  70 Batch size:  50 Annealing:  True :\t 0.1180779299405588\n",
      "Recall@20 for Intermediate Dim:  1200 Latent Dim:  70 Batch size:  50 Annealing:  True :\t 0.17769901291062834\n"
     ]
    },
    {
     "name": "stderr",
     "output_type": "stream",
     "text": [
      "/Users/arasdirekoglu/opt/anaconda3/envs/recom/lib/python3.9/site-packages/tensorflow/python/keras/engine/training_v1.py:1240: UserWarning: `model.fit_generator` is deprecated and will be removed in a future version. Please use `Model.fit`, which supports generators.\n",
      "  warnings.warn('`model.fit_generator` is deprecated and '\n",
      "/Users/arasdirekoglu/opt/anaconda3/envs/recom/lib/python3.9/site-packages/tensorflow/python/keras/engine/training.py:2325: UserWarning: `Model.state_updates` will be removed in a future version. This property should not be used in TensorFlow 2.0, as `updates` are applied automatically.\n",
      "  warnings.warn('`Model.state_updates` will be removed in a future version. '\n"
     ]
    },
    {
     "name": "stdout",
     "output_type": "stream",
     "text": [
      "Recall@10 for Intermediate Dim:  1200 Latent Dim:  70 Batch size:  50 Annealing:  False :\t 0.08839554362629543\n",
      "Recall@20 for Intermediate Dim:  1200 Latent Dim:  70 Batch size:  50 Annealing:  False :\t 0.13147196165242542\n"
     ]
    },
    {
     "name": "stderr",
     "output_type": "stream",
     "text": [
      "/Users/arasdirekoglu/opt/anaconda3/envs/recom/lib/python3.9/site-packages/tensorflow/python/keras/engine/training_v1.py:1240: UserWarning: `model.fit_generator` is deprecated and will be removed in a future version. Please use `Model.fit`, which supports generators.\n",
      "  warnings.warn('`model.fit_generator` is deprecated and '\n"
     ]
    },
    {
     "name": "stdout",
     "output_type": "stream",
     "text": [
      "WARNING:tensorflow:Callback method `on_train_batch_end` is slow compared to the batch time (batch time: 0.0565s vs `on_train_batch_end` time: 0.1374s). Check your callbacks.\n"
     ]
    },
    {
     "name": "stderr",
     "output_type": "stream",
     "text": [
      "/Users/arasdirekoglu/opt/anaconda3/envs/recom/lib/python3.9/site-packages/tensorflow/python/keras/engine/training.py:2325: UserWarning: `Model.state_updates` will be removed in a future version. This property should not be used in TensorFlow 2.0, as `updates` are applied automatically.\n",
      "  warnings.warn('`Model.state_updates` will be removed in a future version. '\n"
     ]
    },
    {
     "name": "stdout",
     "output_type": "stream",
     "text": [
      "Recall@10 for Intermediate Dim:  1200 Latent Dim:  70 Batch size:  100 Annealing:  True :\t 0.11235616207451968\n",
      "Recall@20 for Intermediate Dim:  1200 Latent Dim:  70 Batch size:  100 Annealing:  True :\t 0.1765633729103563\n"
     ]
    },
    {
     "name": "stderr",
     "output_type": "stream",
     "text": [
      "/Users/arasdirekoglu/opt/anaconda3/envs/recom/lib/python3.9/site-packages/tensorflow/python/keras/engine/training_v1.py:1240: UserWarning: `model.fit_generator` is deprecated and will be removed in a future version. Please use `Model.fit`, which supports generators.\n",
      "  warnings.warn('`model.fit_generator` is deprecated and '\n",
      "/Users/arasdirekoglu/opt/anaconda3/envs/recom/lib/python3.9/site-packages/tensorflow/python/keras/engine/training.py:2325: UserWarning: `Model.state_updates` will be removed in a future version. This property should not be used in TensorFlow 2.0, as `updates` are applied automatically.\n",
      "  warnings.warn('`Model.state_updates` will be removed in a future version. '\n"
     ]
    },
    {
     "name": "stdout",
     "output_type": "stream",
     "text": [
      "Recall@10 for Intermediate Dim:  1200 Latent Dim:  70 Batch size:  100 Annealing:  False :\t 0.08736490621416641\n",
      "Recall@20 for Intermediate Dim:  1200 Latent Dim:  70 Batch size:  100 Annealing:  False :\t 0.1457158277938334\n"
     ]
    },
    {
     "name": "stderr",
     "output_type": "stream",
     "text": [
      "/Users/arasdirekoglu/opt/anaconda3/envs/recom/lib/python3.9/site-packages/tensorflow/python/keras/engine/training_v1.py:1240: UserWarning: `model.fit_generator` is deprecated and will be removed in a future version. Please use `Model.fit`, which supports generators.\n",
      "  warnings.warn('`model.fit_generator` is deprecated and '\n"
     ]
    },
    {
     "name": "stdout",
     "output_type": "stream",
     "text": [
      "WARNING:tensorflow:Callback method `on_train_batch_end` is slow compared to the batch time (batch time: 0.0353s vs `on_train_batch_end` time: 0.1395s). Check your callbacks.\n"
     ]
    },
    {
     "name": "stderr",
     "output_type": "stream",
     "text": [
      "/Users/arasdirekoglu/opt/anaconda3/envs/recom/lib/python3.9/site-packages/tensorflow/python/keras/engine/training.py:2325: UserWarning: `Model.state_updates` will be removed in a future version. This property should not be used in TensorFlow 2.0, as `updates` are applied automatically.\n",
      "  warnings.warn('`Model.state_updates` will be removed in a future version. '\n"
     ]
    },
    {
     "name": "stdout",
     "output_type": "stream",
     "text": [
      "Recall@10 for Intermediate Dim:  1200 Latent Dim:  90 Batch size:  50 Annealing:  True :\t 0.11578221100214967\n",
      "Recall@20 for Intermediate Dim:  1200 Latent Dim:  90 Batch size:  50 Annealing:  True :\t 0.17718011100470799\n"
     ]
    },
    {
     "name": "stderr",
     "output_type": "stream",
     "text": [
      "/Users/arasdirekoglu/opt/anaconda3/envs/recom/lib/python3.9/site-packages/tensorflow/python/keras/engine/training_v1.py:1240: UserWarning: `model.fit_generator` is deprecated and will be removed in a future version. Please use `Model.fit`, which supports generators.\n",
      "  warnings.warn('`model.fit_generator` is deprecated and '\n",
      "/Users/arasdirekoglu/opt/anaconda3/envs/recom/lib/python3.9/site-packages/tensorflow/python/keras/engine/training.py:2325: UserWarning: `Model.state_updates` will be removed in a future version. This property should not be used in TensorFlow 2.0, as `updates` are applied automatically.\n",
      "  warnings.warn('`Model.state_updates` will be removed in a future version. '\n"
     ]
    },
    {
     "name": "stdout",
     "output_type": "stream",
     "text": [
      "Recall@10 for Intermediate Dim:  1200 Latent Dim:  90 Batch size:  50 Annealing:  False :\t 0.08772020890224035\n",
      "Recall@20 for Intermediate Dim:  1200 Latent Dim:  90 Batch size:  50 Annealing:  False :\t 0.12946817587571907\n"
     ]
    },
    {
     "name": "stderr",
     "output_type": "stream",
     "text": [
      "/Users/arasdirekoglu/opt/anaconda3/envs/recom/lib/python3.9/site-packages/tensorflow/python/keras/engine/training_v1.py:1240: UserWarning: `model.fit_generator` is deprecated and will be removed in a future version. Please use `Model.fit`, which supports generators.\n",
      "  warnings.warn('`model.fit_generator` is deprecated and '\n"
     ]
    },
    {
     "name": "stdout",
     "output_type": "stream",
     "text": [
      "WARNING:tensorflow:Callback method `on_train_batch_end` is slow compared to the batch time (batch time: 0.0569s vs `on_train_batch_end` time: 0.1459s). Check your callbacks.\n"
     ]
    },
    {
     "name": "stderr",
     "output_type": "stream",
     "text": [
      "/Users/arasdirekoglu/opt/anaconda3/envs/recom/lib/python3.9/site-packages/tensorflow/python/keras/engine/training.py:2325: UserWarning: `Model.state_updates` will be removed in a future version. This property should not be used in TensorFlow 2.0, as `updates` are applied automatically.\n",
      "  warnings.warn('`Model.state_updates` will be removed in a future version. '\n"
     ]
    },
    {
     "name": "stdout",
     "output_type": "stream",
     "text": [
      "Recall@10 for Intermediate Dim:  1200 Latent Dim:  90 Batch size:  100 Annealing:  True :\t 0.11123702765289663\n",
      "Recall@20 for Intermediate Dim:  1200 Latent Dim:  90 Batch size:  100 Annealing:  True :\t 0.16741273456932926\n"
     ]
    },
    {
     "name": "stderr",
     "output_type": "stream",
     "text": [
      "/Users/arasdirekoglu/opt/anaconda3/envs/recom/lib/python3.9/site-packages/tensorflow/python/keras/engine/training_v1.py:1240: UserWarning: `model.fit_generator` is deprecated and will be removed in a future version. Please use `Model.fit`, which supports generators.\n",
      "  warnings.warn('`model.fit_generator` is deprecated and '\n",
      "/Users/arasdirekoglu/opt/anaconda3/envs/recom/lib/python3.9/site-packages/tensorflow/python/keras/engine/training.py:2325: UserWarning: `Model.state_updates` will be removed in a future version. This property should not be used in TensorFlow 2.0, as `updates` are applied automatically.\n",
      "  warnings.warn('`Model.state_updates` will be removed in a future version. '\n"
     ]
    },
    {
     "name": "stdout",
     "output_type": "stream",
     "text": [
      "Recall@10 for Intermediate Dim:  1200 Latent Dim:  90 Batch size:  100 Annealing:  False :\t 0.08531203747182799\n",
      "Recall@20 for Intermediate Dim:  1200 Latent Dim:  90 Batch size:  100 Annealing:  False :\t 0.13530416730455233\n"
     ]
    },
    {
     "name": "stderr",
     "output_type": "stream",
     "text": [
      "/Users/arasdirekoglu/opt/anaconda3/envs/recom/lib/python3.9/site-packages/tensorflow/python/keras/engine/training_v1.py:1240: UserWarning: `model.fit_generator` is deprecated and will be removed in a future version. Please use `Model.fit`, which supports generators.\n",
      "  warnings.warn('`model.fit_generator` is deprecated and '\n"
     ]
    },
    {
     "name": "stdout",
     "output_type": "stream",
     "text": [
      "WARNING:tensorflow:Callback method `on_train_batch_end` is slow compared to the batch time (batch time: 0.0413s vs `on_train_batch_end` time: 0.1577s). Check your callbacks.\n"
     ]
    },
    {
     "name": "stderr",
     "output_type": "stream",
     "text": [
      "/Users/arasdirekoglu/opt/anaconda3/envs/recom/lib/python3.9/site-packages/tensorflow/python/keras/engine/training.py:2325: UserWarning: `Model.state_updates` will be removed in a future version. This property should not be used in TensorFlow 2.0, as `updates` are applied automatically.\n",
      "  warnings.warn('`Model.state_updates` will be removed in a future version. '\n"
     ]
    },
    {
     "name": "stdout",
     "output_type": "stream",
     "text": [
      "Recall@10 for Intermediate Dim:  1400 Latent Dim:  50 Batch size:  50 Annealing:  True :\t 0.12194929898326214\n",
      "Recall@20 for Intermediate Dim:  1400 Latent Dim:  50 Batch size:  50 Annealing:  True :\t 0.18283853930363875\n"
     ]
    },
    {
     "name": "stderr",
     "output_type": "stream",
     "text": [
      "/Users/arasdirekoglu/opt/anaconda3/envs/recom/lib/python3.9/site-packages/tensorflow/python/keras/engine/training_v1.py:1240: UserWarning: `model.fit_generator` is deprecated and will be removed in a future version. Please use `Model.fit`, which supports generators.\n",
      "  warnings.warn('`model.fit_generator` is deprecated and '\n",
      "/Users/arasdirekoglu/opt/anaconda3/envs/recom/lib/python3.9/site-packages/tensorflow/python/keras/engine/training.py:2325: UserWarning: `Model.state_updates` will be removed in a future version. This property should not be used in TensorFlow 2.0, as `updates` are applied automatically.\n",
      "  warnings.warn('`Model.state_updates` will be removed in a future version. '\n"
     ]
    },
    {
     "name": "stdout",
     "output_type": "stream",
     "text": [
      "Recall@10 for Intermediate Dim:  1400 Latent Dim:  50 Batch size:  50 Annealing:  False :\t 0.09041462679325703\n",
      "Recall@20 for Intermediate Dim:  1400 Latent Dim:  50 Batch size:  50 Annealing:  False :\t 0.1417845973846449\n"
     ]
    },
    {
     "name": "stderr",
     "output_type": "stream",
     "text": [
      "/Users/arasdirekoglu/opt/anaconda3/envs/recom/lib/python3.9/site-packages/tensorflow/python/keras/engine/training_v1.py:1240: UserWarning: `model.fit_generator` is deprecated and will be removed in a future version. Please use `Model.fit`, which supports generators.\n",
      "  warnings.warn('`model.fit_generator` is deprecated and '\n"
     ]
    },
    {
     "name": "stdout",
     "output_type": "stream",
     "text": [
      "WARNING:tensorflow:Callback method `on_train_batch_end` is slow compared to the batch time (batch time: 0.0653s vs `on_train_batch_end` time: 0.1591s). Check your callbacks.\n"
     ]
    },
    {
     "name": "stderr",
     "output_type": "stream",
     "text": [
      "/Users/arasdirekoglu/opt/anaconda3/envs/recom/lib/python3.9/site-packages/tensorflow/python/keras/engine/training.py:2325: UserWarning: `Model.state_updates` will be removed in a future version. This property should not be used in TensorFlow 2.0, as `updates` are applied automatically.\n",
      "  warnings.warn('`Model.state_updates` will be removed in a future version. '\n"
     ]
    },
    {
     "name": "stdout",
     "output_type": "stream",
     "text": [
      "Recall@10 for Intermediate Dim:  1400 Latent Dim:  50 Batch size:  100 Annealing:  True :\t 0.11627355945668263\n",
      "Recall@20 for Intermediate Dim:  1400 Latent Dim:  50 Batch size:  100 Annealing:  True :\t 0.17453519063806167\n"
     ]
    },
    {
     "name": "stderr",
     "output_type": "stream",
     "text": [
      "/Users/arasdirekoglu/opt/anaconda3/envs/recom/lib/python3.9/site-packages/tensorflow/python/keras/engine/training_v1.py:1240: UserWarning: `model.fit_generator` is deprecated and will be removed in a future version. Please use `Model.fit`, which supports generators.\n",
      "  warnings.warn('`model.fit_generator` is deprecated and '\n",
      "/Users/arasdirekoglu/opt/anaconda3/envs/recom/lib/python3.9/site-packages/tensorflow/python/keras/engine/training.py:2325: UserWarning: `Model.state_updates` will be removed in a future version. This property should not be used in TensorFlow 2.0, as `updates` are applied automatically.\n",
      "  warnings.warn('`Model.state_updates` will be removed in a future version. '\n"
     ]
    },
    {
     "name": "stdout",
     "output_type": "stream",
     "text": [
      "Recall@10 for Intermediate Dim:  1400 Latent Dim:  50 Batch size:  100 Annealing:  False :\t 0.09216449898896686\n",
      "Recall@20 for Intermediate Dim:  1400 Latent Dim:  50 Batch size:  100 Annealing:  False :\t 0.1404963981220172\n"
     ]
    },
    {
     "name": "stderr",
     "output_type": "stream",
     "text": [
      "/Users/arasdirekoglu/opt/anaconda3/envs/recom/lib/python3.9/site-packages/tensorflow/python/keras/engine/training_v1.py:1240: UserWarning: `model.fit_generator` is deprecated and will be removed in a future version. Please use `Model.fit`, which supports generators.\n",
      "  warnings.warn('`model.fit_generator` is deprecated and '\n"
     ]
    },
    {
     "name": "stdout",
     "output_type": "stream",
     "text": [
      "WARNING:tensorflow:Callback method `on_train_batch_end` is slow compared to the batch time (batch time: 0.0391s vs `on_train_batch_end` time: 0.1651s). Check your callbacks.\n"
     ]
    },
    {
     "name": "stderr",
     "output_type": "stream",
     "text": [
      "/Users/arasdirekoglu/opt/anaconda3/envs/recom/lib/python3.9/site-packages/tensorflow/python/keras/engine/training.py:2325: UserWarning: `Model.state_updates` will be removed in a future version. This property should not be used in TensorFlow 2.0, as `updates` are applied automatically.\n",
      "  warnings.warn('`Model.state_updates` will be removed in a future version. '\n"
     ]
    },
    {
     "name": "stdout",
     "output_type": "stream",
     "text": [
      "Recall@10 for Intermediate Dim:  1400 Latent Dim:  70 Batch size:  50 Annealing:  True :\t 0.12039925234998113\n",
      "Recall@20 for Intermediate Dim:  1400 Latent Dim:  70 Batch size:  50 Annealing:  True :\t 0.17292215840434327\n"
     ]
    },
    {
     "name": "stderr",
     "output_type": "stream",
     "text": [
      "/Users/arasdirekoglu/opt/anaconda3/envs/recom/lib/python3.9/site-packages/tensorflow/python/keras/engine/training_v1.py:1240: UserWarning: `model.fit_generator` is deprecated and will be removed in a future version. Please use `Model.fit`, which supports generators.\n",
      "  warnings.warn('`model.fit_generator` is deprecated and '\n",
      "/Users/arasdirekoglu/opt/anaconda3/envs/recom/lib/python3.9/site-packages/tensorflow/python/keras/engine/training.py:2325: UserWarning: `Model.state_updates` will be removed in a future version. This property should not be used in TensorFlow 2.0, as `updates` are applied automatically.\n",
      "  warnings.warn('`Model.state_updates` will be removed in a future version. '\n"
     ]
    },
    {
     "name": "stdout",
     "output_type": "stream",
     "text": [
      "Recall@10 for Intermediate Dim:  1400 Latent Dim:  70 Batch size:  50 Annealing:  False :\t 0.0887357015305217\n",
      "Recall@20 for Intermediate Dim:  1400 Latent Dim:  70 Batch size:  50 Annealing:  False :\t 0.1373539755343824\n"
     ]
    },
    {
     "name": "stderr",
     "output_type": "stream",
     "text": [
      "/Users/arasdirekoglu/opt/anaconda3/envs/recom/lib/python3.9/site-packages/tensorflow/python/keras/engine/training_v1.py:1240: UserWarning: `model.fit_generator` is deprecated and will be removed in a future version. Please use `Model.fit`, which supports generators.\n",
      "  warnings.warn('`model.fit_generator` is deprecated and '\n"
     ]
    },
    {
     "name": "stdout",
     "output_type": "stream",
     "text": [
      "WARNING:tensorflow:Callback method `on_train_batch_end` is slow compared to the batch time (batch time: 0.0724s vs `on_train_batch_end` time: 0.1791s). Check your callbacks.\n"
     ]
    },
    {
     "name": "stderr",
     "output_type": "stream",
     "text": [
      "/Users/arasdirekoglu/opt/anaconda3/envs/recom/lib/python3.9/site-packages/tensorflow/python/keras/engine/training.py:2325: UserWarning: `Model.state_updates` will be removed in a future version. This property should not be used in TensorFlow 2.0, as `updates` are applied automatically.\n",
      "  warnings.warn('`Model.state_updates` will be removed in a future version. '\n"
     ]
    },
    {
     "name": "stdout",
     "output_type": "stream",
     "text": [
      "Recall@10 for Intermediate Dim:  1400 Latent Dim:  70 Batch size:  100 Annealing:  True :\t 0.11264361507265713\n",
      "Recall@20 for Intermediate Dim:  1400 Latent Dim:  70 Batch size:  100 Annealing:  True :\t 0.17633329224888114\n"
     ]
    },
    {
     "name": "stderr",
     "output_type": "stream",
     "text": [
      "/Users/arasdirekoglu/opt/anaconda3/envs/recom/lib/python3.9/site-packages/tensorflow/python/keras/engine/training_v1.py:1240: UserWarning: `model.fit_generator` is deprecated and will be removed in a future version. Please use `Model.fit`, which supports generators.\n",
      "  warnings.warn('`model.fit_generator` is deprecated and '\n",
      "/Users/arasdirekoglu/opt/anaconda3/envs/recom/lib/python3.9/site-packages/tensorflow/python/keras/engine/training.py:2325: UserWarning: `Model.state_updates` will be removed in a future version. This property should not be used in TensorFlow 2.0, as `updates` are applied automatically.\n",
      "  warnings.warn('`Model.state_updates` will be removed in a future version. '\n"
     ]
    },
    {
     "name": "stdout",
     "output_type": "stream",
     "text": [
      "Recall@10 for Intermediate Dim:  1400 Latent Dim:  70 Batch size:  100 Annealing:  False :\t 0.08692620881705147\n",
      "Recall@20 for Intermediate Dim:  1400 Latent Dim:  70 Batch size:  100 Annealing:  False :\t 0.14311696908701826\n"
     ]
    },
    {
     "name": "stderr",
     "output_type": "stream",
     "text": [
      "/Users/arasdirekoglu/opt/anaconda3/envs/recom/lib/python3.9/site-packages/tensorflow/python/keras/engine/training_v1.py:1240: UserWarning: `model.fit_generator` is deprecated and will be removed in a future version. Please use `Model.fit`, which supports generators.\n",
      "  warnings.warn('`model.fit_generator` is deprecated and '\n"
     ]
    },
    {
     "name": "stdout",
     "output_type": "stream",
     "text": [
      "WARNING:tensorflow:Callback method `on_train_batch_end` is slow compared to the batch time (batch time: 0.0584s vs `on_train_batch_end` time: 0.3369s). Check your callbacks.\n"
     ]
    },
    {
     "name": "stderr",
     "output_type": "stream",
     "text": [
      "/Users/arasdirekoglu/opt/anaconda3/envs/recom/lib/python3.9/site-packages/tensorflow/python/keras/engine/training.py:2325: UserWarning: `Model.state_updates` will be removed in a future version. This property should not be used in TensorFlow 2.0, as `updates` are applied automatically.\n",
      "  warnings.warn('`Model.state_updates` will be removed in a future version. '\n"
     ]
    },
    {
     "name": "stdout",
     "output_type": "stream",
     "text": [
      "Recall@10 for Intermediate Dim:  1400 Latent Dim:  90 Batch size:  50 Annealing:  True :\t 0.12199006613730337\n",
      "Recall@20 for Intermediate Dim:  1400 Latent Dim:  90 Batch size:  50 Annealing:  True :\t 0.17800341603367292\n"
     ]
    },
    {
     "name": "stderr",
     "output_type": "stream",
     "text": [
      "/Users/arasdirekoglu/opt/anaconda3/envs/recom/lib/python3.9/site-packages/tensorflow/python/keras/engine/training_v1.py:1240: UserWarning: `model.fit_generator` is deprecated and will be removed in a future version. Please use `Model.fit`, which supports generators.\n",
      "  warnings.warn('`model.fit_generator` is deprecated and '\n",
      "/Users/arasdirekoglu/opt/anaconda3/envs/recom/lib/python3.9/site-packages/tensorflow/python/keras/engine/training.py:2325: UserWarning: `Model.state_updates` will be removed in a future version. This property should not be used in TensorFlow 2.0, as `updates` are applied automatically.\n",
      "  warnings.warn('`Model.state_updates` will be removed in a future version. '\n"
     ]
    },
    {
     "name": "stdout",
     "output_type": "stream",
     "text": [
      "Recall@10 for Intermediate Dim:  1400 Latent Dim:  90 Batch size:  50 Annealing:  False :\t 0.09152156958628466\n",
      "Recall@20 for Intermediate Dim:  1400 Latent Dim:  90 Batch size:  50 Annealing:  False :\t 0.13796045863158793\n"
     ]
    },
    {
     "name": "stderr",
     "output_type": "stream",
     "text": [
      "/Users/arasdirekoglu/opt/anaconda3/envs/recom/lib/python3.9/site-packages/tensorflow/python/keras/engine/training_v1.py:1240: UserWarning: `model.fit_generator` is deprecated and will be removed in a future version. Please use `Model.fit`, which supports generators.\n",
      "  warnings.warn('`model.fit_generator` is deprecated and '\n"
     ]
    },
    {
     "name": "stdout",
     "output_type": "stream",
     "text": [
      "WARNING:tensorflow:Callback method `on_train_batch_end` is slow compared to the batch time (batch time: 0.0759s vs `on_train_batch_end` time: 0.1847s). Check your callbacks.\n"
     ]
    },
    {
     "name": "stderr",
     "output_type": "stream",
     "text": [
      "/Users/arasdirekoglu/opt/anaconda3/envs/recom/lib/python3.9/site-packages/tensorflow/python/keras/engine/training.py:2325: UserWarning: `Model.state_updates` will be removed in a future version. This property should not be used in TensorFlow 2.0, as `updates` are applied automatically.\n",
      "  warnings.warn('`Model.state_updates` will be removed in a future version. '\n"
     ]
    },
    {
     "name": "stdout",
     "output_type": "stream",
     "text": [
      "Recall@10 for Intermediate Dim:  1400 Latent Dim:  90 Batch size:  100 Annealing:  True :\t 0.1055836502580015\n",
      "Recall@20 for Intermediate Dim:  1400 Latent Dim:  90 Batch size:  100 Annealing:  True :\t 0.16272974224860112\n"
     ]
    },
    {
     "name": "stderr",
     "output_type": "stream",
     "text": [
      "/Users/arasdirekoglu/opt/anaconda3/envs/recom/lib/python3.9/site-packages/tensorflow/python/keras/engine/training_v1.py:1240: UserWarning: `model.fit_generator` is deprecated and will be removed in a future version. Please use `Model.fit`, which supports generators.\n",
      "  warnings.warn('`model.fit_generator` is deprecated and '\n",
      "/Users/arasdirekoglu/opt/anaconda3/envs/recom/lib/python3.9/site-packages/tensorflow/python/keras/engine/training.py:2325: UserWarning: `Model.state_updates` will be removed in a future version. This property should not be used in TensorFlow 2.0, as `updates` are applied automatically.\n",
      "  warnings.warn('`Model.state_updates` will be removed in a future version. '\n"
     ]
    },
    {
     "name": "stdout",
     "output_type": "stream",
     "text": [
      "Recall@10 for Intermediate Dim:  1400 Latent Dim:  90 Batch size:  100 Annealing:  False :\t 0.0883803914290598\n",
      "Recall@20 for Intermediate Dim:  1400 Latent Dim:  90 Batch size:  100 Annealing:  False :\t 0.12695577773746636\n"
     ]
    }
   ],
   "source": [
    "# Set up Parameters\n",
    "intermediate_dimension = [600, 800, 1000, 1200, 1400] \n",
    "latent_dimension = [50, 70, 90] \n",
    "batch_sizes = [50, 100]\n",
    "anneal_status = [True, False]\n",
    "\n",
    "# Initiate Lists for Assessment\n",
    "recall_10 = []\n",
    "recall_20 = []\n",
    "precision_10 = []\n",
    "precision_20 = []\n",
    "int_dimensions = []\n",
    "lt_dimensions = []\n",
    "anneal = []\n",
    "batch = []\n",
    "\n",
    "for i in intermediate_dimension:\n",
    "    for l in latent_dimension:\n",
    "        for b in batch_sizes:\n",
    "            for a in anneal_status:\n",
    "                try:\n",
    "                    del(model)\n",
    "                except:\n",
    "                    pass\n",
    "                \n",
    "                # Initiate Model \n",
    "                if a == True:\n",
    "                    model = Mult_VAE(n_users=train_data.shape[0],\n",
    "                                        original_dim=train_data.shape[1],\n",
    "                                        intermediate_dim=i,\n",
    "                                        latent_dim=l,\n",
    "                                        n_epochs=100,\n",
    "                                        batch_size=b,\n",
    "                                        k=100,\n",
    "                                        verbose=0,\n",
    "                                        seed=1,\n",
    "                                        save_path=WEIGHTS_PATH,\n",
    "                                        drop_encoder=0.5,\n",
    "                                        drop_decoder=0.5,\n",
    "                                        annealing=True,\n",
    "                                        anneal_cap=1.0)\n",
    "                else:\n",
    "                    model = Mult_VAE(n_users=train_data.shape[0], # Number of unique users in the training set\n",
    "                                        original_dim=train_data.shape[1], # Number of unique items in the training set\n",
    "                                        intermediate_dim=i, \n",
    "                                        latent_dim=l, \n",
    "                                        n_epochs=100, \n",
    "                                        batch_size=b, \n",
    "                                        k=100,\n",
    "                                        verbose=0,\n",
    "                                        seed=1,\n",
    "                                        drop_encoder=0.5,\n",
    "                                        drop_decoder=0.5,\n",
    "                                        annealing=False,\n",
    "                                        beta=1.0,\n",
    "                                        save_path=WEIGHTS_PATH)\n",
    "                \n",
    "                # Fit model\n",
    "                model.fit(x_train=train_data,\n",
    "                        x_valid=val_data,\n",
    "                        x_val_tr=val_data_tr,\n",
    "                        x_val_te=val_data_te_ratings,\n",
    "                        mapper=am_val)\n",
    "            \n",
    "                # Model prediction on the training part of test set K = 10  \n",
    "                top_k_10 =  model.recommend_k_items(x=test_data_tr,\n",
    "                                                    k=10,\n",
    "                                                    remove_seen=True)\n",
    "\n",
    "                # Convert sparse matrix back to df\n",
    "                top_k_df_10 = am_test.map_back_sparse(top_k_10, kind='prediction')\n",
    "                test_df = am_test.map_back_sparse(test_data_te_ratings, kind='ratings') # use test_data_te_, with the original ratings\n",
    "    \n",
    "\n",
    "                # Use the ranking metrics for evaluation\n",
    "                eval_precision_10 = precision_at_k(test_df, top_k_df_10, col_prediction='prediction', k=10)\n",
    "                eval_recall_10 = recall_at_k(test_df, top_k_df_10, col_prediction='prediction', k=10)\n",
    "\n",
    "                # Print intermediate Status for Recall@10\n",
    "                print(\"Recall@10 for Intermediate Dim: \", i, \"Latent Dim: \", l, \"Batch size: \", b, \"Annealing: \", a, \":\\t\", eval_recall_10)\n",
    "                \n",
    "                #Model prediction on the training part of test set K = 20  \n",
    "                top_k_20 =  model.recommend_k_items(x=test_data_tr,\n",
    "                                                    k=20,\n",
    "                                                    remove_seen=True)\n",
    "\n",
    "                # Convert sparse matrix back to df\n",
    "                top_k_df_20 = am_test.map_back_sparse(top_k_20, kind='prediction')\n",
    "    \n",
    "\n",
    "                # Use the ranking metrics for evaluation\n",
    "                eval_precision_20 = precision_at_k(test_df, top_k_df_20, col_prediction='prediction', k=20)\n",
    "                eval_recall_20 = recall_at_k(test_df, top_k_df_20, col_prediction='prediction', k=20)\n",
    "                \n",
    "                # Print intermediate Status for Recall@20\n",
    "                print(\"Recall@20 for Intermediate Dim: \", i, \"Latent Dim: \", l, \"Batch size: \", b, \"Annealing: \", a, \":\\t\", eval_recall_20)\n",
    "                \n",
    "                # Append Lists\n",
    "                recall_10.append(eval_recall_10)\n",
    "                recall_20.append(eval_recall_20)\n",
    "                precision_10.append(eval_precision_10)\n",
    "                precision_20.append(eval_precision_20)\n",
    "                int_dimensions.append(i)\n",
    "                lt_dimensions.append(l)\n",
    "                anneal.append(a)\n",
    "                batch.append(b) "
   ]
  },
  {
   "cell_type": "code",
   "execution_count": 50,
   "metadata": {},
   "outputs": [
    {
     "data": {
      "text/html": [
       "<div>\n",
       "<style scoped>\n",
       "    .dataframe tbody tr th:only-of-type {\n",
       "        vertical-align: middle;\n",
       "    }\n",
       "\n",
       "    .dataframe tbody tr th {\n",
       "        vertical-align: top;\n",
       "    }\n",
       "\n",
       "    .dataframe thead th {\n",
       "        text-align: right;\n",
       "    }\n",
       "</style>\n",
       "<table border=\"1\" class=\"dataframe\">\n",
       "  <thead>\n",
       "    <tr style=\"text-align: right;\">\n",
       "      <th></th>\n",
       "      <th>intermediate_dimensions</th>\n",
       "      <th>latent_dimensions</th>\n",
       "      <th>annealing</th>\n",
       "      <th>batch_size</th>\n",
       "      <th>recall@10</th>\n",
       "      <th>recall@20</th>\n",
       "      <th>precision@10</th>\n",
       "      <th>precision@20</th>\n",
       "    </tr>\n",
       "  </thead>\n",
       "  <tbody>\n",
       "    <tr>\n",
       "      <th>56</th>\n",
       "      <td>1400</td>\n",
       "      <td>90</td>\n",
       "      <td>True</td>\n",
       "      <td>50</td>\n",
       "      <td>0.121990</td>\n",
       "      <td>0.178003</td>\n",
       "      <td>0.150667</td>\n",
       "      <td>0.115533</td>\n",
       "    </tr>\n",
       "    <tr>\n",
       "      <th>48</th>\n",
       "      <td>1400</td>\n",
       "      <td>50</td>\n",
       "      <td>True</td>\n",
       "      <td>50</td>\n",
       "      <td>0.121949</td>\n",
       "      <td>0.182839</td>\n",
       "      <td>0.150400</td>\n",
       "      <td>0.119200</td>\n",
       "    </tr>\n",
       "    <tr>\n",
       "      <th>12</th>\n",
       "      <td>800</td>\n",
       "      <td>50</td>\n",
       "      <td>True</td>\n",
       "      <td>50</td>\n",
       "      <td>0.120570</td>\n",
       "      <td>0.172872</td>\n",
       "      <td>0.148400</td>\n",
       "      <td>0.113533</td>\n",
       "    </tr>\n",
       "    <tr>\n",
       "      <th>24</th>\n",
       "      <td>1000</td>\n",
       "      <td>50</td>\n",
       "      <td>True</td>\n",
       "      <td>50</td>\n",
       "      <td>0.120532</td>\n",
       "      <td>0.181403</td>\n",
       "      <td>0.147600</td>\n",
       "      <td>0.118267</td>\n",
       "    </tr>\n",
       "    <tr>\n",
       "      <th>52</th>\n",
       "      <td>1400</td>\n",
       "      <td>70</td>\n",
       "      <td>True</td>\n",
       "      <td>50</td>\n",
       "      <td>0.120399</td>\n",
       "      <td>0.172922</td>\n",
       "      <td>0.146000</td>\n",
       "      <td>0.115867</td>\n",
       "    </tr>\n",
       "    <tr>\n",
       "      <th>26</th>\n",
       "      <td>1000</td>\n",
       "      <td>50</td>\n",
       "      <td>True</td>\n",
       "      <td>100</td>\n",
       "      <td>0.119867</td>\n",
       "      <td>0.175016</td>\n",
       "      <td>0.146533</td>\n",
       "      <td>0.112200</td>\n",
       "    </tr>\n",
       "    <tr>\n",
       "      <th>32</th>\n",
       "      <td>1000</td>\n",
       "      <td>90</td>\n",
       "      <td>True</td>\n",
       "      <td>50</td>\n",
       "      <td>0.119138</td>\n",
       "      <td>0.175175</td>\n",
       "      <td>0.151067</td>\n",
       "      <td>0.113000</td>\n",
       "    </tr>\n",
       "    <tr>\n",
       "      <th>0</th>\n",
       "      <td>600</td>\n",
       "      <td>50</td>\n",
       "      <td>True</td>\n",
       "      <td>50</td>\n",
       "      <td>0.118955</td>\n",
       "      <td>0.172643</td>\n",
       "      <td>0.144533</td>\n",
       "      <td>0.111333</td>\n",
       "    </tr>\n",
       "    <tr>\n",
       "      <th>36</th>\n",
       "      <td>1200</td>\n",
       "      <td>50</td>\n",
       "      <td>True</td>\n",
       "      <td>50</td>\n",
       "      <td>0.118320</td>\n",
       "      <td>0.176137</td>\n",
       "      <td>0.145867</td>\n",
       "      <td>0.116000</td>\n",
       "    </tr>\n",
       "    <tr>\n",
       "      <th>40</th>\n",
       "      <td>1200</td>\n",
       "      <td>70</td>\n",
       "      <td>True</td>\n",
       "      <td>50</td>\n",
       "      <td>0.118078</td>\n",
       "      <td>0.177699</td>\n",
       "      <td>0.147733</td>\n",
       "      <td>0.117267</td>\n",
       "    </tr>\n",
       "    <tr>\n",
       "      <th>50</th>\n",
       "      <td>1400</td>\n",
       "      <td>50</td>\n",
       "      <td>True</td>\n",
       "      <td>100</td>\n",
       "      <td>0.116274</td>\n",
       "      <td>0.174535</td>\n",
       "      <td>0.146133</td>\n",
       "      <td>0.114067</td>\n",
       "    </tr>\n",
       "    <tr>\n",
       "      <th>44</th>\n",
       "      <td>1200</td>\n",
       "      <td>90</td>\n",
       "      <td>True</td>\n",
       "      <td>50</td>\n",
       "      <td>0.115782</td>\n",
       "      <td>0.177180</td>\n",
       "      <td>0.140933</td>\n",
       "      <td>0.114200</td>\n",
       "    </tr>\n",
       "    <tr>\n",
       "      <th>38</th>\n",
       "      <td>1200</td>\n",
       "      <td>50</td>\n",
       "      <td>True</td>\n",
       "      <td>100</td>\n",
       "      <td>0.115171</td>\n",
       "      <td>0.173584</td>\n",
       "      <td>0.147067</td>\n",
       "      <td>0.113400</td>\n",
       "    </tr>\n",
       "    <tr>\n",
       "      <th>28</th>\n",
       "      <td>1000</td>\n",
       "      <td>70</td>\n",
       "      <td>True</td>\n",
       "      <td>50</td>\n",
       "      <td>0.114503</td>\n",
       "      <td>0.173090</td>\n",
       "      <td>0.145333</td>\n",
       "      <td>0.113000</td>\n",
       "    </tr>\n",
       "    <tr>\n",
       "      <th>4</th>\n",
       "      <td>600</td>\n",
       "      <td>70</td>\n",
       "      <td>True</td>\n",
       "      <td>50</td>\n",
       "      <td>0.113491</td>\n",
       "      <td>0.176261</td>\n",
       "      <td>0.144133</td>\n",
       "      <td>0.116533</td>\n",
       "    </tr>\n",
       "    <tr>\n",
       "      <th>18</th>\n",
       "      <td>800</td>\n",
       "      <td>70</td>\n",
       "      <td>True</td>\n",
       "      <td>100</td>\n",
       "      <td>0.112789</td>\n",
       "      <td>0.170215</td>\n",
       "      <td>0.138800</td>\n",
       "      <td>0.110533</td>\n",
       "    </tr>\n",
       "    <tr>\n",
       "      <th>54</th>\n",
       "      <td>1400</td>\n",
       "      <td>70</td>\n",
       "      <td>True</td>\n",
       "      <td>100</td>\n",
       "      <td>0.112644</td>\n",
       "      <td>0.176333</td>\n",
       "      <td>0.142533</td>\n",
       "      <td>0.114067</td>\n",
       "    </tr>\n",
       "    <tr>\n",
       "      <th>16</th>\n",
       "      <td>800</td>\n",
       "      <td>70</td>\n",
       "      <td>True</td>\n",
       "      <td>50</td>\n",
       "      <td>0.112508</td>\n",
       "      <td>0.175281</td>\n",
       "      <td>0.144267</td>\n",
       "      <td>0.114267</td>\n",
       "    </tr>\n",
       "    <tr>\n",
       "      <th>42</th>\n",
       "      <td>1200</td>\n",
       "      <td>70</td>\n",
       "      <td>True</td>\n",
       "      <td>100</td>\n",
       "      <td>0.112356</td>\n",
       "      <td>0.176563</td>\n",
       "      <td>0.141200</td>\n",
       "      <td>0.114000</td>\n",
       "    </tr>\n",
       "    <tr>\n",
       "      <th>14</th>\n",
       "      <td>800</td>\n",
       "      <td>50</td>\n",
       "      <td>True</td>\n",
       "      <td>100</td>\n",
       "      <td>0.112218</td>\n",
       "      <td>0.171215</td>\n",
       "      <td>0.141867</td>\n",
       "      <td>0.111133</td>\n",
       "    </tr>\n",
       "    <tr>\n",
       "      <th>8</th>\n",
       "      <td>600</td>\n",
       "      <td>90</td>\n",
       "      <td>True</td>\n",
       "      <td>50</td>\n",
       "      <td>0.111989</td>\n",
       "      <td>0.178418</td>\n",
       "      <td>0.140667</td>\n",
       "      <td>0.115600</td>\n",
       "    </tr>\n",
       "    <tr>\n",
       "      <th>46</th>\n",
       "      <td>1200</td>\n",
       "      <td>90</td>\n",
       "      <td>True</td>\n",
       "      <td>100</td>\n",
       "      <td>0.111237</td>\n",
       "      <td>0.167413</td>\n",
       "      <td>0.142667</td>\n",
       "      <td>0.108067</td>\n",
       "    </tr>\n",
       "    <tr>\n",
       "      <th>34</th>\n",
       "      <td>1000</td>\n",
       "      <td>90</td>\n",
       "      <td>True</td>\n",
       "      <td>100</td>\n",
       "      <td>0.110315</td>\n",
       "      <td>0.163284</td>\n",
       "      <td>0.140133</td>\n",
       "      <td>0.107800</td>\n",
       "    </tr>\n",
       "    <tr>\n",
       "      <th>2</th>\n",
       "      <td>600</td>\n",
       "      <td>50</td>\n",
       "      <td>True</td>\n",
       "      <td>100</td>\n",
       "      <td>0.109750</td>\n",
       "      <td>0.159286</td>\n",
       "      <td>0.137333</td>\n",
       "      <td>0.108000</td>\n",
       "    </tr>\n",
       "    <tr>\n",
       "      <th>22</th>\n",
       "      <td>800</td>\n",
       "      <td>90</td>\n",
       "      <td>True</td>\n",
       "      <td>100</td>\n",
       "      <td>0.108548</td>\n",
       "      <td>0.162575</td>\n",
       "      <td>0.138400</td>\n",
       "      <td>0.106733</td>\n",
       "    </tr>\n",
       "    <tr>\n",
       "      <th>20</th>\n",
       "      <td>800</td>\n",
       "      <td>90</td>\n",
       "      <td>True</td>\n",
       "      <td>50</td>\n",
       "      <td>0.108267</td>\n",
       "      <td>0.170296</td>\n",
       "      <td>0.136133</td>\n",
       "      <td>0.109600</td>\n",
       "    </tr>\n",
       "    <tr>\n",
       "      <th>30</th>\n",
       "      <td>1000</td>\n",
       "      <td>70</td>\n",
       "      <td>True</td>\n",
       "      <td>100</td>\n",
       "      <td>0.108203</td>\n",
       "      <td>0.168363</td>\n",
       "      <td>0.140800</td>\n",
       "      <td>0.113600</td>\n",
       "    </tr>\n",
       "    <tr>\n",
       "      <th>10</th>\n",
       "      <td>600</td>\n",
       "      <td>90</td>\n",
       "      <td>True</td>\n",
       "      <td>100</td>\n",
       "      <td>0.106154</td>\n",
       "      <td>0.164508</td>\n",
       "      <td>0.134800</td>\n",
       "      <td>0.106933</td>\n",
       "    </tr>\n",
       "    <tr>\n",
       "      <th>58</th>\n",
       "      <td>1400</td>\n",
       "      <td>90</td>\n",
       "      <td>True</td>\n",
       "      <td>100</td>\n",
       "      <td>0.105584</td>\n",
       "      <td>0.162730</td>\n",
       "      <td>0.137067</td>\n",
       "      <td>0.108333</td>\n",
       "    </tr>\n",
       "    <tr>\n",
       "      <th>6</th>\n",
       "      <td>600</td>\n",
       "      <td>70</td>\n",
       "      <td>True</td>\n",
       "      <td>100</td>\n",
       "      <td>0.103145</td>\n",
       "      <td>0.164383</td>\n",
       "      <td>0.129200</td>\n",
       "      <td>0.107933</td>\n",
       "    </tr>\n",
       "    <tr>\n",
       "      <th>29</th>\n",
       "      <td>1000</td>\n",
       "      <td>70</td>\n",
       "      <td>False</td>\n",
       "      <td>50</td>\n",
       "      <td>0.094935</td>\n",
       "      <td>0.138727</td>\n",
       "      <td>0.120533</td>\n",
       "      <td>0.094933</td>\n",
       "    </tr>\n",
       "    <tr>\n",
       "      <th>15</th>\n",
       "      <td>800</td>\n",
       "      <td>50</td>\n",
       "      <td>False</td>\n",
       "      <td>100</td>\n",
       "      <td>0.094504</td>\n",
       "      <td>0.137806</td>\n",
       "      <td>0.124933</td>\n",
       "      <td>0.096000</td>\n",
       "    </tr>\n",
       "    <tr>\n",
       "      <th>3</th>\n",
       "      <td>600</td>\n",
       "      <td>50</td>\n",
       "      <td>False</td>\n",
       "      <td>100</td>\n",
       "      <td>0.092444</td>\n",
       "      <td>0.131776</td>\n",
       "      <td>0.124000</td>\n",
       "      <td>0.093000</td>\n",
       "    </tr>\n",
       "    <tr>\n",
       "      <th>25</th>\n",
       "      <td>1000</td>\n",
       "      <td>50</td>\n",
       "      <td>False</td>\n",
       "      <td>50</td>\n",
       "      <td>0.092405</td>\n",
       "      <td>0.135852</td>\n",
       "      <td>0.122133</td>\n",
       "      <td>0.097200</td>\n",
       "    </tr>\n",
       "    <tr>\n",
       "      <th>51</th>\n",
       "      <td>1400</td>\n",
       "      <td>50</td>\n",
       "      <td>False</td>\n",
       "      <td>100</td>\n",
       "      <td>0.092164</td>\n",
       "      <td>0.140496</td>\n",
       "      <td>0.126133</td>\n",
       "      <td>0.096533</td>\n",
       "    </tr>\n",
       "    <tr>\n",
       "      <th>21</th>\n",
       "      <td>800</td>\n",
       "      <td>90</td>\n",
       "      <td>False</td>\n",
       "      <td>50</td>\n",
       "      <td>0.091600</td>\n",
       "      <td>0.137803</td>\n",
       "      <td>0.122533</td>\n",
       "      <td>0.093200</td>\n",
       "    </tr>\n",
       "    <tr>\n",
       "      <th>57</th>\n",
       "      <td>1400</td>\n",
       "      <td>90</td>\n",
       "      <td>False</td>\n",
       "      <td>50</td>\n",
       "      <td>0.091522</td>\n",
       "      <td>0.137960</td>\n",
       "      <td>0.122267</td>\n",
       "      <td>0.094600</td>\n",
       "    </tr>\n",
       "    <tr>\n",
       "      <th>13</th>\n",
       "      <td>800</td>\n",
       "      <td>50</td>\n",
       "      <td>False</td>\n",
       "      <td>50</td>\n",
       "      <td>0.091233</td>\n",
       "      <td>0.134841</td>\n",
       "      <td>0.121867</td>\n",
       "      <td>0.095467</td>\n",
       "    </tr>\n",
       "    <tr>\n",
       "      <th>31</th>\n",
       "      <td>1000</td>\n",
       "      <td>70</td>\n",
       "      <td>False</td>\n",
       "      <td>100</td>\n",
       "      <td>0.091177</td>\n",
       "      <td>0.139727</td>\n",
       "      <td>0.121067</td>\n",
       "      <td>0.097200</td>\n",
       "    </tr>\n",
       "    <tr>\n",
       "      <th>39</th>\n",
       "      <td>1200</td>\n",
       "      <td>50</td>\n",
       "      <td>False</td>\n",
       "      <td>100</td>\n",
       "      <td>0.090440</td>\n",
       "      <td>0.134759</td>\n",
       "      <td>0.122000</td>\n",
       "      <td>0.096533</td>\n",
       "    </tr>\n",
       "    <tr>\n",
       "      <th>49</th>\n",
       "      <td>1400</td>\n",
       "      <td>50</td>\n",
       "      <td>False</td>\n",
       "      <td>50</td>\n",
       "      <td>0.090415</td>\n",
       "      <td>0.141785</td>\n",
       "      <td>0.121867</td>\n",
       "      <td>0.098933</td>\n",
       "    </tr>\n",
       "    <tr>\n",
       "      <th>17</th>\n",
       "      <td>800</td>\n",
       "      <td>70</td>\n",
       "      <td>False</td>\n",
       "      <td>50</td>\n",
       "      <td>0.089306</td>\n",
       "      <td>0.136436</td>\n",
       "      <td>0.121200</td>\n",
       "      <td>0.094200</td>\n",
       "    </tr>\n",
       "    <tr>\n",
       "      <th>37</th>\n",
       "      <td>1200</td>\n",
       "      <td>50</td>\n",
       "      <td>False</td>\n",
       "      <td>50</td>\n",
       "      <td>0.089027</td>\n",
       "      <td>0.132045</td>\n",
       "      <td>0.120267</td>\n",
       "      <td>0.095067</td>\n",
       "    </tr>\n",
       "    <tr>\n",
       "      <th>1</th>\n",
       "      <td>600</td>\n",
       "      <td>50</td>\n",
       "      <td>False</td>\n",
       "      <td>50</td>\n",
       "      <td>0.088965</td>\n",
       "      <td>0.144063</td>\n",
       "      <td>0.118133</td>\n",
       "      <td>0.096467</td>\n",
       "    </tr>\n",
       "    <tr>\n",
       "      <th>53</th>\n",
       "      <td>1400</td>\n",
       "      <td>70</td>\n",
       "      <td>False</td>\n",
       "      <td>50</td>\n",
       "      <td>0.088736</td>\n",
       "      <td>0.137354</td>\n",
       "      <td>0.118400</td>\n",
       "      <td>0.095933</td>\n",
       "    </tr>\n",
       "    <tr>\n",
       "      <th>27</th>\n",
       "      <td>1000</td>\n",
       "      <td>50</td>\n",
       "      <td>False</td>\n",
       "      <td>100</td>\n",
       "      <td>0.088718</td>\n",
       "      <td>0.131388</td>\n",
       "      <td>0.118533</td>\n",
       "      <td>0.093600</td>\n",
       "    </tr>\n",
       "    <tr>\n",
       "      <th>41</th>\n",
       "      <td>1200</td>\n",
       "      <td>70</td>\n",
       "      <td>False</td>\n",
       "      <td>50</td>\n",
       "      <td>0.088396</td>\n",
       "      <td>0.131472</td>\n",
       "      <td>0.115333</td>\n",
       "      <td>0.092267</td>\n",
       "    </tr>\n",
       "    <tr>\n",
       "      <th>59</th>\n",
       "      <td>1400</td>\n",
       "      <td>90</td>\n",
       "      <td>False</td>\n",
       "      <td>100</td>\n",
       "      <td>0.088380</td>\n",
       "      <td>0.126956</td>\n",
       "      <td>0.118000</td>\n",
       "      <td>0.090400</td>\n",
       "    </tr>\n",
       "    <tr>\n",
       "      <th>45</th>\n",
       "      <td>1200</td>\n",
       "      <td>90</td>\n",
       "      <td>False</td>\n",
       "      <td>50</td>\n",
       "      <td>0.087720</td>\n",
       "      <td>0.129468</td>\n",
       "      <td>0.118800</td>\n",
       "      <td>0.092467</td>\n",
       "    </tr>\n",
       "    <tr>\n",
       "      <th>43</th>\n",
       "      <td>1200</td>\n",
       "      <td>70</td>\n",
       "      <td>False</td>\n",
       "      <td>100</td>\n",
       "      <td>0.087365</td>\n",
       "      <td>0.145716</td>\n",
       "      <td>0.116133</td>\n",
       "      <td>0.098867</td>\n",
       "    </tr>\n",
       "    <tr>\n",
       "      <th>9</th>\n",
       "      <td>600</td>\n",
       "      <td>90</td>\n",
       "      <td>False</td>\n",
       "      <td>50</td>\n",
       "      <td>0.086932</td>\n",
       "      <td>0.139442</td>\n",
       "      <td>0.114933</td>\n",
       "      <td>0.095133</td>\n",
       "    </tr>\n",
       "    <tr>\n",
       "      <th>55</th>\n",
       "      <td>1400</td>\n",
       "      <td>70</td>\n",
       "      <td>False</td>\n",
       "      <td>100</td>\n",
       "      <td>0.086926</td>\n",
       "      <td>0.143117</td>\n",
       "      <td>0.118267</td>\n",
       "      <td>0.095933</td>\n",
       "    </tr>\n",
       "    <tr>\n",
       "      <th>35</th>\n",
       "      <td>1000</td>\n",
       "      <td>90</td>\n",
       "      <td>False</td>\n",
       "      <td>100</td>\n",
       "      <td>0.086744</td>\n",
       "      <td>0.135741</td>\n",
       "      <td>0.114400</td>\n",
       "      <td>0.090933</td>\n",
       "    </tr>\n",
       "    <tr>\n",
       "      <th>19</th>\n",
       "      <td>800</td>\n",
       "      <td>70</td>\n",
       "      <td>False</td>\n",
       "      <td>100</td>\n",
       "      <td>0.086656</td>\n",
       "      <td>0.142002</td>\n",
       "      <td>0.120267</td>\n",
       "      <td>0.095600</td>\n",
       "    </tr>\n",
       "    <tr>\n",
       "      <th>33</th>\n",
       "      <td>1000</td>\n",
       "      <td>90</td>\n",
       "      <td>False</td>\n",
       "      <td>50</td>\n",
       "      <td>0.086574</td>\n",
       "      <td>0.136735</td>\n",
       "      <td>0.114933</td>\n",
       "      <td>0.090867</td>\n",
       "    </tr>\n",
       "    <tr>\n",
       "      <th>5</th>\n",
       "      <td>600</td>\n",
       "      <td>70</td>\n",
       "      <td>False</td>\n",
       "      <td>50</td>\n",
       "      <td>0.085414</td>\n",
       "      <td>0.136640</td>\n",
       "      <td>0.116933</td>\n",
       "      <td>0.094800</td>\n",
       "    </tr>\n",
       "    <tr>\n",
       "      <th>47</th>\n",
       "      <td>1200</td>\n",
       "      <td>90</td>\n",
       "      <td>False</td>\n",
       "      <td>100</td>\n",
       "      <td>0.085312</td>\n",
       "      <td>0.135304</td>\n",
       "      <td>0.114667</td>\n",
       "      <td>0.093933</td>\n",
       "    </tr>\n",
       "    <tr>\n",
       "      <th>7</th>\n",
       "      <td>600</td>\n",
       "      <td>70</td>\n",
       "      <td>False</td>\n",
       "      <td>100</td>\n",
       "      <td>0.080005</td>\n",
       "      <td>0.136763</td>\n",
       "      <td>0.111067</td>\n",
       "      <td>0.095667</td>\n",
       "    </tr>\n",
       "    <tr>\n",
       "      <th>23</th>\n",
       "      <td>800</td>\n",
       "      <td>90</td>\n",
       "      <td>False</td>\n",
       "      <td>100</td>\n",
       "      <td>0.079514</td>\n",
       "      <td>0.130330</td>\n",
       "      <td>0.109200</td>\n",
       "      <td>0.089800</td>\n",
       "    </tr>\n",
       "    <tr>\n",
       "      <th>11</th>\n",
       "      <td>600</td>\n",
       "      <td>90</td>\n",
       "      <td>False</td>\n",
       "      <td>100</td>\n",
       "      <td>0.077998</td>\n",
       "      <td>0.127607</td>\n",
       "      <td>0.107600</td>\n",
       "      <td>0.088867</td>\n",
       "    </tr>\n",
       "  </tbody>\n",
       "</table>\n",
       "</div>"
      ],
      "text/plain": [
       "    intermediate_dimensions  latent_dimensions  annealing  batch_size  \\\n",
       "56                     1400                 90       True          50   \n",
       "48                     1400                 50       True          50   \n",
       "12                      800                 50       True          50   \n",
       "24                     1000                 50       True          50   \n",
       "52                     1400                 70       True          50   \n",
       "26                     1000                 50       True         100   \n",
       "32                     1000                 90       True          50   \n",
       "0                       600                 50       True          50   \n",
       "36                     1200                 50       True          50   \n",
       "40                     1200                 70       True          50   \n",
       "50                     1400                 50       True         100   \n",
       "44                     1200                 90       True          50   \n",
       "38                     1200                 50       True         100   \n",
       "28                     1000                 70       True          50   \n",
       "4                       600                 70       True          50   \n",
       "18                      800                 70       True         100   \n",
       "54                     1400                 70       True         100   \n",
       "16                      800                 70       True          50   \n",
       "42                     1200                 70       True         100   \n",
       "14                      800                 50       True         100   \n",
       "8                       600                 90       True          50   \n",
       "46                     1200                 90       True         100   \n",
       "34                     1000                 90       True         100   \n",
       "2                       600                 50       True         100   \n",
       "22                      800                 90       True         100   \n",
       "20                      800                 90       True          50   \n",
       "30                     1000                 70       True         100   \n",
       "10                      600                 90       True         100   \n",
       "58                     1400                 90       True         100   \n",
       "6                       600                 70       True         100   \n",
       "29                     1000                 70      False          50   \n",
       "15                      800                 50      False         100   \n",
       "3                       600                 50      False         100   \n",
       "25                     1000                 50      False          50   \n",
       "51                     1400                 50      False         100   \n",
       "21                      800                 90      False          50   \n",
       "57                     1400                 90      False          50   \n",
       "13                      800                 50      False          50   \n",
       "31                     1000                 70      False         100   \n",
       "39                     1200                 50      False         100   \n",
       "49                     1400                 50      False          50   \n",
       "17                      800                 70      False          50   \n",
       "37                     1200                 50      False          50   \n",
       "1                       600                 50      False          50   \n",
       "53                     1400                 70      False          50   \n",
       "27                     1000                 50      False         100   \n",
       "41                     1200                 70      False          50   \n",
       "59                     1400                 90      False         100   \n",
       "45                     1200                 90      False          50   \n",
       "43                     1200                 70      False         100   \n",
       "9                       600                 90      False          50   \n",
       "55                     1400                 70      False         100   \n",
       "35                     1000                 90      False         100   \n",
       "19                      800                 70      False         100   \n",
       "33                     1000                 90      False          50   \n",
       "5                       600                 70      False          50   \n",
       "47                     1200                 90      False         100   \n",
       "7                       600                 70      False         100   \n",
       "23                      800                 90      False         100   \n",
       "11                      600                 90      False         100   \n",
       "\n",
       "    recall@10  recall@20  precision@10  precision@20  \n",
       "56   0.121990   0.178003      0.150667      0.115533  \n",
       "48   0.121949   0.182839      0.150400      0.119200  \n",
       "12   0.120570   0.172872      0.148400      0.113533  \n",
       "24   0.120532   0.181403      0.147600      0.118267  \n",
       "52   0.120399   0.172922      0.146000      0.115867  \n",
       "26   0.119867   0.175016      0.146533      0.112200  \n",
       "32   0.119138   0.175175      0.151067      0.113000  \n",
       "0    0.118955   0.172643      0.144533      0.111333  \n",
       "36   0.118320   0.176137      0.145867      0.116000  \n",
       "40   0.118078   0.177699      0.147733      0.117267  \n",
       "50   0.116274   0.174535      0.146133      0.114067  \n",
       "44   0.115782   0.177180      0.140933      0.114200  \n",
       "38   0.115171   0.173584      0.147067      0.113400  \n",
       "28   0.114503   0.173090      0.145333      0.113000  \n",
       "4    0.113491   0.176261      0.144133      0.116533  \n",
       "18   0.112789   0.170215      0.138800      0.110533  \n",
       "54   0.112644   0.176333      0.142533      0.114067  \n",
       "16   0.112508   0.175281      0.144267      0.114267  \n",
       "42   0.112356   0.176563      0.141200      0.114000  \n",
       "14   0.112218   0.171215      0.141867      0.111133  \n",
       "8    0.111989   0.178418      0.140667      0.115600  \n",
       "46   0.111237   0.167413      0.142667      0.108067  \n",
       "34   0.110315   0.163284      0.140133      0.107800  \n",
       "2    0.109750   0.159286      0.137333      0.108000  \n",
       "22   0.108548   0.162575      0.138400      0.106733  \n",
       "20   0.108267   0.170296      0.136133      0.109600  \n",
       "30   0.108203   0.168363      0.140800      0.113600  \n",
       "10   0.106154   0.164508      0.134800      0.106933  \n",
       "58   0.105584   0.162730      0.137067      0.108333  \n",
       "6    0.103145   0.164383      0.129200      0.107933  \n",
       "29   0.094935   0.138727      0.120533      0.094933  \n",
       "15   0.094504   0.137806      0.124933      0.096000  \n",
       "3    0.092444   0.131776      0.124000      0.093000  \n",
       "25   0.092405   0.135852      0.122133      0.097200  \n",
       "51   0.092164   0.140496      0.126133      0.096533  \n",
       "21   0.091600   0.137803      0.122533      0.093200  \n",
       "57   0.091522   0.137960      0.122267      0.094600  \n",
       "13   0.091233   0.134841      0.121867      0.095467  \n",
       "31   0.091177   0.139727      0.121067      0.097200  \n",
       "39   0.090440   0.134759      0.122000      0.096533  \n",
       "49   0.090415   0.141785      0.121867      0.098933  \n",
       "17   0.089306   0.136436      0.121200      0.094200  \n",
       "37   0.089027   0.132045      0.120267      0.095067  \n",
       "1    0.088965   0.144063      0.118133      0.096467  \n",
       "53   0.088736   0.137354      0.118400      0.095933  \n",
       "27   0.088718   0.131388      0.118533      0.093600  \n",
       "41   0.088396   0.131472      0.115333      0.092267  \n",
       "59   0.088380   0.126956      0.118000      0.090400  \n",
       "45   0.087720   0.129468      0.118800      0.092467  \n",
       "43   0.087365   0.145716      0.116133      0.098867  \n",
       "9    0.086932   0.139442      0.114933      0.095133  \n",
       "55   0.086926   0.143117      0.118267      0.095933  \n",
       "35   0.086744   0.135741      0.114400      0.090933  \n",
       "19   0.086656   0.142002      0.120267      0.095600  \n",
       "33   0.086574   0.136735      0.114933      0.090867  \n",
       "5    0.085414   0.136640      0.116933      0.094800  \n",
       "47   0.085312   0.135304      0.114667      0.093933  \n",
       "7    0.080005   0.136763      0.111067      0.095667  \n",
       "23   0.079514   0.130330      0.109200      0.089800  \n",
       "11   0.077998   0.127607      0.107600      0.088867  "
      ]
     },
     "execution_count": 50,
     "metadata": {},
     "output_type": "execute_result"
    }
   ],
   "source": [
    "# Create Dataframe out of the Results of the Hyperparameter Tuning \n",
    "df_tuning_initial = pd.DataFrame({\n",
    "    \"intermediate_dimensions\": int_dimensions,\n",
    "    \"latent_dimensions\": lt_dimensions,\n",
    "    \"annealing\": anneal,\n",
    "    \"batch_size\": batch,\n",
    "    \"recall@10\": recall_10,\n",
    "    \"recall@20\": recall_20,\n",
    "    \"precision@10\":precision_10,\n",
    "    \"precision@20\":precision_20\n",
    "})\n",
    "# Sort Values by recall@10 \n",
    "df_tuning_initial.sort_values(by='recall@10', ascending=False)"
   ]
  },
  {
   "cell_type": "code",
   "execution_count": 127,
   "metadata": {},
   "outputs": [
    {
     "ename": "NameError",
     "evalue": "name 'df_tuning_initial' is not defined",
     "output_type": "error",
     "traceback": [
      "\u001b[0;31m---------------------------------------------------------------------------\u001b[0m",
      "\u001b[0;31mNameError\u001b[0m                                 Traceback (most recent call last)",
      "Cell \u001b[0;32mIn[127], line 2\u001b[0m\n\u001b[1;32m      1\u001b[0m \u001b[39m# Check Average Performance of Latent Dimensions\u001b[39;00m\n\u001b[0;32m----> 2\u001b[0m df_tuning_initial\u001b[39m.\u001b[39mgroupby(\u001b[39m\"\u001b[39m\u001b[39mlatent_dimensions\u001b[39m\u001b[39m\"\u001b[39m)[\u001b[39m'\u001b[39m\u001b[39mrecall@10\u001b[39m\u001b[39m'\u001b[39m]\u001b[39m.\u001b[39mmean()\n",
      "\u001b[0;31mNameError\u001b[0m: name 'df_tuning_initial' is not defined"
     ]
    }
   ],
   "source": [
    "# Check Average Performance of Latent Dimensions\n",
    "df_tuning_initial.groupby(\"latent_dimensions\")['recall@10'].mean()"
   ]
  },
  {
   "cell_type": "code",
   "execution_count": 126,
   "metadata": {},
   "outputs": [
    {
     "ename": "NameError",
     "evalue": "name 'df_tuning_initial' is not defined",
     "output_type": "error",
     "traceback": [
      "\u001b[0;31m---------------------------------------------------------------------------\u001b[0m",
      "\u001b[0;31mNameError\u001b[0m                                 Traceback (most recent call last)",
      "Cell \u001b[0;32mIn[126], line 2\u001b[0m\n\u001b[1;32m      1\u001b[0m \u001b[39m# Check Average Performance of Latent Dimensions\u001b[39;00m\n\u001b[0;32m----> 2\u001b[0m df_tuning_initial\u001b[39m.\u001b[39mgroupby(\u001b[39m\"\u001b[39m\u001b[39mbatch_size\u001b[39m\u001b[39m\"\u001b[39m)[\u001b[39m'\u001b[39m\u001b[39mrecall@10\u001b[39m\u001b[39m'\u001b[39m]\u001b[39m.\u001b[39mmean()\n",
      "\u001b[0;31mNameError\u001b[0m: name 'df_tuning_initial' is not defined"
     ]
    }
   ],
   "source": [
    "# Check Average Performance of Latent Dimensions\n",
    "df_tuning_initial.groupby(\"batch_size\")['recall@10'].mean()"
   ]
  },
  {
   "attachments": {},
   "cell_type": "markdown",
   "metadata": {},
   "source": [
    "# Hyperparameter Tuning 2.0 "
   ]
  },
  {
   "cell_type": "code",
   "execution_count": 34,
   "metadata": {},
   "outputs": [
    {
     "name": "stdout",
     "output_type": "stream",
     "text": [
      "WARNING:tensorflow:From /Users/arasdirekoglu/opt/anaconda3/envs/recom/lib/python3.9/site-packages/recommenders/models/vae/multinomial_vae.py:291: The name tf.keras.initializers.truncated_normal is deprecated. Please use tf.compat.v1.keras.initializers.truncated_normal instead.\n",
      "\n",
      "WARNING:tensorflow:From /Users/arasdirekoglu/opt/anaconda3/envs/recom/lib/python3.9/site-packages/tensorflow/python/keras/initializers/initializers_v1.py:67: calling TruncatedNormal.__init__ (from tensorflow.python.ops.init_ops) with dtype is deprecated and will be removed in a future version.\n",
      "Instructions for updating:\n",
      "Call initializer instance with the dtype argument instead of passing it to the constructor\n"
     ]
    },
    {
     "name": "stderr",
     "output_type": "stream",
     "text": [
      "/Users/arasdirekoglu/opt/anaconda3/envs/recom/lib/python3.9/site-packages/tensorflow/python/keras/engine/training_v1.py:1240: UserWarning: `model.fit_generator` is deprecated and will be removed in a future version. Please use `Model.fit`, which supports generators.\n",
      "  warnings.warn('`model.fit_generator` is deprecated and '\n",
      "2023-06-06 20:58:56.313082: I tensorflow/core/platform/cpu_feature_guard.cc:142] This TensorFlow binary is optimized with oneAPI Deep Neural Network Library (oneDNN) to use the following CPU instructions in performance-critical operations:  SSE4.1 SSE4.2\n",
      "To enable them in other operations, rebuild TensorFlow with the appropriate compiler flags.\n",
      "2023-06-06 20:58:56.329042: I tensorflow/compiler/mlir/mlir_graph_optimization_pass.cc:196] None of the MLIR optimization passes are enabled (registered 0 passes)\n",
      "/Users/arasdirekoglu/opt/anaconda3/envs/recom/lib/python3.9/site-packages/tensorflow/python/keras/engine/training.py:2325: UserWarning: `Model.state_updates` will be removed in a future version. This property should not be used in TensorFlow 2.0, as `updates` are applied automatically.\n",
      "  warnings.warn('`Model.state_updates` will be removed in a future version. '\n"
     ]
    },
    {
     "name": "stdout",
     "output_type": "stream",
     "text": [
      "Recall@10 for Intermediate Dim:  800 Latent Dim:  50 Batch size:  50 Annealing:  True :\t 0.11966215890068152\n",
      "Recall@20 for Intermediate Dim:  800 Latent Dim:  50 Batch size:  50 Annealing:  True :\t 0.1719870361911626\n"
     ]
    },
    {
     "name": "stderr",
     "output_type": "stream",
     "text": [
      "/Users/arasdirekoglu/opt/anaconda3/envs/recom/lib/python3.9/site-packages/tensorflow/python/keras/engine/training_v1.py:1240: UserWarning: `model.fit_generator` is deprecated and will be removed in a future version. Please use `Model.fit`, which supports generators.\n",
      "  warnings.warn('`model.fit_generator` is deprecated and '\n",
      "/Users/arasdirekoglu/opt/anaconda3/envs/recom/lib/python3.9/site-packages/tensorflow/python/keras/engine/training.py:2325: UserWarning: `Model.state_updates` will be removed in a future version. This property should not be used in TensorFlow 2.0, as `updates` are applied automatically.\n",
      "  warnings.warn('`Model.state_updates` will be removed in a future version. '\n"
     ]
    },
    {
     "name": "stdout",
     "output_type": "stream",
     "text": [
      "Recall@10 for Intermediate Dim:  800 Latent Dim:  50 Batch size:  50 Annealing:  False :\t 0.08939595986848481\n",
      "Recall@20 for Intermediate Dim:  800 Latent Dim:  50 Batch size:  50 Annealing:  False :\t 0.13874480400852884\n"
     ]
    },
    {
     "name": "stderr",
     "output_type": "stream",
     "text": [
      "/Users/arasdirekoglu/opt/anaconda3/envs/recom/lib/python3.9/site-packages/tensorflow/python/keras/engine/training_v1.py:1240: UserWarning: `model.fit_generator` is deprecated and will be removed in a future version. Please use `Model.fit`, which supports generators.\n",
      "  warnings.warn('`model.fit_generator` is deprecated and '\n",
      "/Users/arasdirekoglu/opt/anaconda3/envs/recom/lib/python3.9/site-packages/tensorflow/python/keras/engine/training.py:2325: UserWarning: `Model.state_updates` will be removed in a future version. This property should not be used in TensorFlow 2.0, as `updates` are applied automatically.\n",
      "  warnings.warn('`Model.state_updates` will be removed in a future version. '\n"
     ]
    },
    {
     "name": "stdout",
     "output_type": "stream",
     "text": [
      "Recall@10 for Intermediate Dim:  800 Latent Dim:  70 Batch size:  50 Annealing:  True :\t 0.11602133581444193\n",
      "Recall@20 for Intermediate Dim:  800 Latent Dim:  70 Batch size:  50 Annealing:  True :\t 0.177684966360952\n"
     ]
    },
    {
     "name": "stderr",
     "output_type": "stream",
     "text": [
      "/Users/arasdirekoglu/opt/anaconda3/envs/recom/lib/python3.9/site-packages/tensorflow/python/keras/engine/training_v1.py:1240: UserWarning: `model.fit_generator` is deprecated and will be removed in a future version. Please use `Model.fit`, which supports generators.\n",
      "  warnings.warn('`model.fit_generator` is deprecated and '\n",
      "/Users/arasdirekoglu/opt/anaconda3/envs/recom/lib/python3.9/site-packages/tensorflow/python/keras/engine/training.py:2325: UserWarning: `Model.state_updates` will be removed in a future version. This property should not be used in TensorFlow 2.0, as `updates` are applied automatically.\n",
      "  warnings.warn('`Model.state_updates` will be removed in a future version. '\n"
     ]
    },
    {
     "name": "stdout",
     "output_type": "stream",
     "text": [
      "Recall@10 for Intermediate Dim:  800 Latent Dim:  70 Batch size:  50 Annealing:  False :\t 0.0819428448661541\n",
      "Recall@20 for Intermediate Dim:  800 Latent Dim:  70 Batch size:  50 Annealing:  False :\t 0.13072004267736204\n"
     ]
    },
    {
     "name": "stderr",
     "output_type": "stream",
     "text": [
      "/Users/arasdirekoglu/opt/anaconda3/envs/recom/lib/python3.9/site-packages/tensorflow/python/keras/engine/training_v1.py:1240: UserWarning: `model.fit_generator` is deprecated and will be removed in a future version. Please use `Model.fit`, which supports generators.\n",
      "  warnings.warn('`model.fit_generator` is deprecated and '\n",
      "/Users/arasdirekoglu/opt/anaconda3/envs/recom/lib/python3.9/site-packages/tensorflow/python/keras/engine/training.py:2325: UserWarning: `Model.state_updates` will be removed in a future version. This property should not be used in TensorFlow 2.0, as `updates` are applied automatically.\n",
      "  warnings.warn('`Model.state_updates` will be removed in a future version. '\n"
     ]
    },
    {
     "name": "stdout",
     "output_type": "stream",
     "text": [
      "Recall@10 for Intermediate Dim:  800 Latent Dim:  90 Batch size:  50 Annealing:  True :\t 0.11268746249961191\n",
      "Recall@20 for Intermediate Dim:  800 Latent Dim:  90 Batch size:  50 Annealing:  True :\t 0.17348239628132145\n"
     ]
    },
    {
     "name": "stderr",
     "output_type": "stream",
     "text": [
      "/Users/arasdirekoglu/opt/anaconda3/envs/recom/lib/python3.9/site-packages/tensorflow/python/keras/engine/training_v1.py:1240: UserWarning: `model.fit_generator` is deprecated and will be removed in a future version. Please use `Model.fit`, which supports generators.\n",
      "  warnings.warn('`model.fit_generator` is deprecated and '\n",
      "/Users/arasdirekoglu/opt/anaconda3/envs/recom/lib/python3.9/site-packages/tensorflow/python/keras/engine/training.py:2325: UserWarning: `Model.state_updates` will be removed in a future version. This property should not be used in TensorFlow 2.0, as `updates` are applied automatically.\n",
      "  warnings.warn('`Model.state_updates` will be removed in a future version. '\n"
     ]
    },
    {
     "name": "stdout",
     "output_type": "stream",
     "text": [
      "Recall@10 for Intermediate Dim:  800 Latent Dim:  90 Batch size:  50 Annealing:  False :\t 0.08803151196969262\n",
      "Recall@20 for Intermediate Dim:  800 Latent Dim:  90 Batch size:  50 Annealing:  False :\t 0.13458028939954608\n"
     ]
    },
    {
     "name": "stderr",
     "output_type": "stream",
     "text": [
      "/Users/arasdirekoglu/opt/anaconda3/envs/recom/lib/python3.9/site-packages/tensorflow/python/keras/engine/training_v1.py:1240: UserWarning: `model.fit_generator` is deprecated and will be removed in a future version. Please use `Model.fit`, which supports generators.\n",
      "  warnings.warn('`model.fit_generator` is deprecated and '\n",
      "/Users/arasdirekoglu/opt/anaconda3/envs/recom/lib/python3.9/site-packages/tensorflow/python/keras/engine/training.py:2325: UserWarning: `Model.state_updates` will be removed in a future version. This property should not be used in TensorFlow 2.0, as `updates` are applied automatically.\n",
      "  warnings.warn('`Model.state_updates` will be removed in a future version. '\n"
     ]
    },
    {
     "name": "stdout",
     "output_type": "stream",
     "text": [
      "Recall@10 for Intermediate Dim:  900 Latent Dim:  50 Batch size:  50 Annealing:  True :\t 0.1207194857344873\n",
      "Recall@20 for Intermediate Dim:  900 Latent Dim:  50 Batch size:  50 Annealing:  True :\t 0.179391230151032\n"
     ]
    },
    {
     "name": "stderr",
     "output_type": "stream",
     "text": [
      "/Users/arasdirekoglu/opt/anaconda3/envs/recom/lib/python3.9/site-packages/tensorflow/python/keras/engine/training_v1.py:1240: UserWarning: `model.fit_generator` is deprecated and will be removed in a future version. Please use `Model.fit`, which supports generators.\n",
      "  warnings.warn('`model.fit_generator` is deprecated and '\n",
      "/Users/arasdirekoglu/opt/anaconda3/envs/recom/lib/python3.9/site-packages/tensorflow/python/keras/engine/training.py:2325: UserWarning: `Model.state_updates` will be removed in a future version. This property should not be used in TensorFlow 2.0, as `updates` are applied automatically.\n",
      "  warnings.warn('`Model.state_updates` will be removed in a future version. '\n"
     ]
    },
    {
     "name": "stdout",
     "output_type": "stream",
     "text": [
      "Recall@10 for Intermediate Dim:  900 Latent Dim:  50 Batch size:  50 Annealing:  False :\t 0.08846115482679161\n",
      "Recall@20 for Intermediate Dim:  900 Latent Dim:  50 Batch size:  50 Annealing:  False :\t 0.13600764465050486\n"
     ]
    },
    {
     "name": "stderr",
     "output_type": "stream",
     "text": [
      "/Users/arasdirekoglu/opt/anaconda3/envs/recom/lib/python3.9/site-packages/tensorflow/python/keras/engine/training_v1.py:1240: UserWarning: `model.fit_generator` is deprecated and will be removed in a future version. Please use `Model.fit`, which supports generators.\n",
      "  warnings.warn('`model.fit_generator` is deprecated and '\n",
      "/Users/arasdirekoglu/opt/anaconda3/envs/recom/lib/python3.9/site-packages/tensorflow/python/keras/engine/training.py:2325: UserWarning: `Model.state_updates` will be removed in a future version. This property should not be used in TensorFlow 2.0, as `updates` are applied automatically.\n",
      "  warnings.warn('`Model.state_updates` will be removed in a future version. '\n"
     ]
    },
    {
     "name": "stdout",
     "output_type": "stream",
     "text": [
      "Recall@10 for Intermediate Dim:  900 Latent Dim:  70 Batch size:  50 Annealing:  True :\t 0.11869027790692044\n",
      "Recall@20 for Intermediate Dim:  900 Latent Dim:  70 Batch size:  50 Annealing:  True :\t 0.1734007781746309\n"
     ]
    },
    {
     "name": "stderr",
     "output_type": "stream",
     "text": [
      "/Users/arasdirekoglu/opt/anaconda3/envs/recom/lib/python3.9/site-packages/tensorflow/python/keras/engine/training_v1.py:1240: UserWarning: `model.fit_generator` is deprecated and will be removed in a future version. Please use `Model.fit`, which supports generators.\n",
      "  warnings.warn('`model.fit_generator` is deprecated and '\n",
      "/Users/arasdirekoglu/opt/anaconda3/envs/recom/lib/python3.9/site-packages/tensorflow/python/keras/engine/training.py:2325: UserWarning: `Model.state_updates` will be removed in a future version. This property should not be used in TensorFlow 2.0, as `updates` are applied automatically.\n",
      "  warnings.warn('`Model.state_updates` will be removed in a future version. '\n"
     ]
    },
    {
     "name": "stdout",
     "output_type": "stream",
     "text": [
      "Recall@10 for Intermediate Dim:  900 Latent Dim:  70 Batch size:  50 Annealing:  False :\t 0.08648835255478103\n",
      "Recall@20 for Intermediate Dim:  900 Latent Dim:  70 Batch size:  50 Annealing:  False :\t 0.1346184256960254\n"
     ]
    },
    {
     "name": "stderr",
     "output_type": "stream",
     "text": [
      "/Users/arasdirekoglu/opt/anaconda3/envs/recom/lib/python3.9/site-packages/tensorflow/python/keras/engine/training_v1.py:1240: UserWarning: `model.fit_generator` is deprecated and will be removed in a future version. Please use `Model.fit`, which supports generators.\n",
      "  warnings.warn('`model.fit_generator` is deprecated and '\n"
     ]
    },
    {
     "name": "stdout",
     "output_type": "stream",
     "text": [
      "WARNING:tensorflow:Callback method `on_train_batch_end` is slow compared to the batch time (batch time: 0.0257s vs `on_train_batch_end` time: 0.0322s). Check your callbacks.\n"
     ]
    },
    {
     "name": "stderr",
     "output_type": "stream",
     "text": [
      "/Users/arasdirekoglu/opt/anaconda3/envs/recom/lib/python3.9/site-packages/tensorflow/python/keras/engine/training.py:2325: UserWarning: `Model.state_updates` will be removed in a future version. This property should not be used in TensorFlow 2.0, as `updates` are applied automatically.\n",
      "  warnings.warn('`Model.state_updates` will be removed in a future version. '\n"
     ]
    },
    {
     "name": "stdout",
     "output_type": "stream",
     "text": [
      "Recall@10 for Intermediate Dim:  900 Latent Dim:  90 Batch size:  50 Annealing:  True :\t 0.11104851781265346\n",
      "Recall@20 for Intermediate Dim:  900 Latent Dim:  90 Batch size:  50 Annealing:  True :\t 0.17303184271792635\n"
     ]
    },
    {
     "name": "stderr",
     "output_type": "stream",
     "text": [
      "/Users/arasdirekoglu/opt/anaconda3/envs/recom/lib/python3.9/site-packages/tensorflow/python/keras/engine/training_v1.py:1240: UserWarning: `model.fit_generator` is deprecated and will be removed in a future version. Please use `Model.fit`, which supports generators.\n",
      "  warnings.warn('`model.fit_generator` is deprecated and '\n",
      "/Users/arasdirekoglu/opt/anaconda3/envs/recom/lib/python3.9/site-packages/tensorflow/python/keras/engine/training.py:2325: UserWarning: `Model.state_updates` will be removed in a future version. This property should not be used in TensorFlow 2.0, as `updates` are applied automatically.\n",
      "  warnings.warn('`Model.state_updates` will be removed in a future version. '\n"
     ]
    },
    {
     "name": "stdout",
     "output_type": "stream",
     "text": [
      "Recall@10 for Intermediate Dim:  900 Latent Dim:  90 Batch size:  50 Annealing:  False :\t 0.08436629184109931\n",
      "Recall@20 for Intermediate Dim:  900 Latent Dim:  90 Batch size:  50 Annealing:  False :\t 0.1390102408011553\n"
     ]
    },
    {
     "name": "stderr",
     "output_type": "stream",
     "text": [
      "/Users/arasdirekoglu/opt/anaconda3/envs/recom/lib/python3.9/site-packages/tensorflow/python/keras/engine/training_v1.py:1240: UserWarning: `model.fit_generator` is deprecated and will be removed in a future version. Please use `Model.fit`, which supports generators.\n",
      "  warnings.warn('`model.fit_generator` is deprecated and '\n"
     ]
    },
    {
     "name": "stdout",
     "output_type": "stream",
     "text": [
      "WARNING:tensorflow:Callback method `on_train_batch_end` is slow compared to the batch time (batch time: 0.0280s vs `on_train_batch_end` time: 0.0370s). Check your callbacks.\n"
     ]
    },
    {
     "name": "stderr",
     "output_type": "stream",
     "text": [
      "/Users/arasdirekoglu/opt/anaconda3/envs/recom/lib/python3.9/site-packages/tensorflow/python/keras/engine/training.py:2325: UserWarning: `Model.state_updates` will be removed in a future version. This property should not be used in TensorFlow 2.0, as `updates` are applied automatically.\n",
      "  warnings.warn('`Model.state_updates` will be removed in a future version. '\n"
     ]
    },
    {
     "name": "stdout",
     "output_type": "stream",
     "text": [
      "Recall@10 for Intermediate Dim:  1000 Latent Dim:  50 Batch size:  50 Annealing:  True :\t 0.12124388721024525\n",
      "Recall@20 for Intermediate Dim:  1000 Latent Dim:  50 Batch size:  50 Annealing:  True :\t 0.17618081644513486\n"
     ]
    },
    {
     "name": "stderr",
     "output_type": "stream",
     "text": [
      "/Users/arasdirekoglu/opt/anaconda3/envs/recom/lib/python3.9/site-packages/tensorflow/python/keras/engine/training_v1.py:1240: UserWarning: `model.fit_generator` is deprecated and will be removed in a future version. Please use `Model.fit`, which supports generators.\n",
      "  warnings.warn('`model.fit_generator` is deprecated and '\n",
      "/Users/arasdirekoglu/opt/anaconda3/envs/recom/lib/python3.9/site-packages/tensorflow/python/keras/engine/training.py:2325: UserWarning: `Model.state_updates` will be removed in a future version. This property should not be used in TensorFlow 2.0, as `updates` are applied automatically.\n",
      "  warnings.warn('`Model.state_updates` will be removed in a future version. '\n"
     ]
    },
    {
     "name": "stdout",
     "output_type": "stream",
     "text": [
      "Recall@10 for Intermediate Dim:  1000 Latent Dim:  50 Batch size:  50 Annealing:  False :\t 0.08735676127664234\n",
      "Recall@20 for Intermediate Dim:  1000 Latent Dim:  50 Batch size:  50 Annealing:  False :\t 0.14000029478340842\n"
     ]
    },
    {
     "name": "stderr",
     "output_type": "stream",
     "text": [
      "/Users/arasdirekoglu/opt/anaconda3/envs/recom/lib/python3.9/site-packages/tensorflow/python/keras/engine/training_v1.py:1240: UserWarning: `model.fit_generator` is deprecated and will be removed in a future version. Please use `Model.fit`, which supports generators.\n",
      "  warnings.warn('`model.fit_generator` is deprecated and '\n"
     ]
    },
    {
     "name": "stdout",
     "output_type": "stream",
     "text": [
      "WARNING:tensorflow:Callback method `on_train_batch_end` is slow compared to the batch time (batch time: 0.0292s vs `on_train_batch_end` time: 0.0430s). Check your callbacks.\n"
     ]
    },
    {
     "name": "stderr",
     "output_type": "stream",
     "text": [
      "/Users/arasdirekoglu/opt/anaconda3/envs/recom/lib/python3.9/site-packages/tensorflow/python/keras/engine/training.py:2325: UserWarning: `Model.state_updates` will be removed in a future version. This property should not be used in TensorFlow 2.0, as `updates` are applied automatically.\n",
      "  warnings.warn('`Model.state_updates` will be removed in a future version. '\n"
     ]
    },
    {
     "name": "stdout",
     "output_type": "stream",
     "text": [
      "Recall@10 for Intermediate Dim:  1000 Latent Dim:  70 Batch size:  50 Annealing:  True :\t 0.11531363824971466\n",
      "Recall@20 for Intermediate Dim:  1000 Latent Dim:  70 Batch size:  50 Annealing:  True :\t 0.1741322128697101\n"
     ]
    },
    {
     "name": "stderr",
     "output_type": "stream",
     "text": [
      "/Users/arasdirekoglu/opt/anaconda3/envs/recom/lib/python3.9/site-packages/tensorflow/python/keras/engine/training_v1.py:1240: UserWarning: `model.fit_generator` is deprecated and will be removed in a future version. Please use `Model.fit`, which supports generators.\n",
      "  warnings.warn('`model.fit_generator` is deprecated and '\n",
      "/Users/arasdirekoglu/opt/anaconda3/envs/recom/lib/python3.9/site-packages/tensorflow/python/keras/engine/training.py:2325: UserWarning: `Model.state_updates` will be removed in a future version. This property should not be used in TensorFlow 2.0, as `updates` are applied automatically.\n",
      "  warnings.warn('`Model.state_updates` will be removed in a future version. '\n"
     ]
    },
    {
     "name": "stdout",
     "output_type": "stream",
     "text": [
      "Recall@10 for Intermediate Dim:  1000 Latent Dim:  70 Batch size:  50 Annealing:  False :\t 0.08836653211273597\n",
      "Recall@20 for Intermediate Dim:  1000 Latent Dim:  70 Batch size:  50 Annealing:  False :\t 0.13576326771499742\n"
     ]
    },
    {
     "name": "stderr",
     "output_type": "stream",
     "text": [
      "/Users/arasdirekoglu/opt/anaconda3/envs/recom/lib/python3.9/site-packages/tensorflow/python/keras/engine/training_v1.py:1240: UserWarning: `model.fit_generator` is deprecated and will be removed in a future version. Please use `Model.fit`, which supports generators.\n",
      "  warnings.warn('`model.fit_generator` is deprecated and '\n"
     ]
    },
    {
     "name": "stdout",
     "output_type": "stream",
     "text": [
      "WARNING:tensorflow:Callback method `on_train_batch_end` is slow compared to the batch time (batch time: 0.0290s vs `on_train_batch_end` time: 0.0489s). Check your callbacks.\n"
     ]
    },
    {
     "name": "stderr",
     "output_type": "stream",
     "text": [
      "/Users/arasdirekoglu/opt/anaconda3/envs/recom/lib/python3.9/site-packages/tensorflow/python/keras/engine/training.py:2325: UserWarning: `Model.state_updates` will be removed in a future version. This property should not be used in TensorFlow 2.0, as `updates` are applied automatically.\n",
      "  warnings.warn('`Model.state_updates` will be removed in a future version. '\n"
     ]
    },
    {
     "name": "stdout",
     "output_type": "stream",
     "text": [
      "Recall@10 for Intermediate Dim:  1000 Latent Dim:  90 Batch size:  50 Annealing:  True :\t 0.11808132021217065\n",
      "Recall@20 for Intermediate Dim:  1000 Latent Dim:  90 Batch size:  50 Annealing:  True :\t 0.178794405219055\n"
     ]
    },
    {
     "name": "stderr",
     "output_type": "stream",
     "text": [
      "/Users/arasdirekoglu/opt/anaconda3/envs/recom/lib/python3.9/site-packages/tensorflow/python/keras/engine/training_v1.py:1240: UserWarning: `model.fit_generator` is deprecated and will be removed in a future version. Please use `Model.fit`, which supports generators.\n",
      "  warnings.warn('`model.fit_generator` is deprecated and '\n",
      "/Users/arasdirekoglu/opt/anaconda3/envs/recom/lib/python3.9/site-packages/tensorflow/python/keras/engine/training.py:2325: UserWarning: `Model.state_updates` will be removed in a future version. This property should not be used in TensorFlow 2.0, as `updates` are applied automatically.\n",
      "  warnings.warn('`Model.state_updates` will be removed in a future version. '\n"
     ]
    },
    {
     "name": "stdout",
     "output_type": "stream",
     "text": [
      "Recall@10 for Intermediate Dim:  1000 Latent Dim:  90 Batch size:  50 Annealing:  False :\t 0.09024727208347946\n",
      "Recall@20 for Intermediate Dim:  1000 Latent Dim:  90 Batch size:  50 Annealing:  False :\t 0.14103575350703743\n"
     ]
    },
    {
     "name": "stderr",
     "output_type": "stream",
     "text": [
      "/Users/arasdirekoglu/opt/anaconda3/envs/recom/lib/python3.9/site-packages/tensorflow/python/keras/engine/training_v1.py:1240: UserWarning: `model.fit_generator` is deprecated and will be removed in a future version. Please use `Model.fit`, which supports generators.\n",
      "  warnings.warn('`model.fit_generator` is deprecated and '\n"
     ]
    },
    {
     "name": "stdout",
     "output_type": "stream",
     "text": [
      "WARNING:tensorflow:Callback method `on_train_batch_end` is slow compared to the batch time (batch time: 0.0298s vs `on_train_batch_end` time: 0.0559s). Check your callbacks.\n"
     ]
    },
    {
     "name": "stderr",
     "output_type": "stream",
     "text": [
      "/Users/arasdirekoglu/opt/anaconda3/envs/recom/lib/python3.9/site-packages/tensorflow/python/keras/engine/training.py:2325: UserWarning: `Model.state_updates` will be removed in a future version. This property should not be used in TensorFlow 2.0, as `updates` are applied automatically.\n",
      "  warnings.warn('`Model.state_updates` will be removed in a future version. '\n"
     ]
    },
    {
     "name": "stdout",
     "output_type": "stream",
     "text": [
      "Recall@10 for Intermediate Dim:  1100 Latent Dim:  50 Batch size:  50 Annealing:  True :\t 0.11927953465700855\n",
      "Recall@20 for Intermediate Dim:  1100 Latent Dim:  50 Batch size:  50 Annealing:  True :\t 0.1769330701847313\n"
     ]
    },
    {
     "name": "stderr",
     "output_type": "stream",
     "text": [
      "/Users/arasdirekoglu/opt/anaconda3/envs/recom/lib/python3.9/site-packages/tensorflow/python/keras/engine/training_v1.py:1240: UserWarning: `model.fit_generator` is deprecated and will be removed in a future version. Please use `Model.fit`, which supports generators.\n",
      "  warnings.warn('`model.fit_generator` is deprecated and '\n",
      "/Users/arasdirekoglu/opt/anaconda3/envs/recom/lib/python3.9/site-packages/tensorflow/python/keras/engine/training.py:2325: UserWarning: `Model.state_updates` will be removed in a future version. This property should not be used in TensorFlow 2.0, as `updates` are applied automatically.\n",
      "  warnings.warn('`Model.state_updates` will be removed in a future version. '\n"
     ]
    },
    {
     "name": "stdout",
     "output_type": "stream",
     "text": [
      "Recall@10 for Intermediate Dim:  1100 Latent Dim:  50 Batch size:  50 Annealing:  False :\t 0.09184222582506377\n",
      "Recall@20 for Intermediate Dim:  1100 Latent Dim:  50 Batch size:  50 Annealing:  False :\t 0.13439464873802057\n"
     ]
    },
    {
     "name": "stderr",
     "output_type": "stream",
     "text": [
      "/Users/arasdirekoglu/opt/anaconda3/envs/recom/lib/python3.9/site-packages/tensorflow/python/keras/engine/training_v1.py:1240: UserWarning: `model.fit_generator` is deprecated and will be removed in a future version. Please use `Model.fit`, which supports generators.\n",
      "  warnings.warn('`model.fit_generator` is deprecated and '\n"
     ]
    },
    {
     "name": "stdout",
     "output_type": "stream",
     "text": [
      "WARNING:tensorflow:Callback method `on_train_batch_end` is slow compared to the batch time (batch time: 0.0309s vs `on_train_batch_end` time: 0.0601s). Check your callbacks.\n"
     ]
    },
    {
     "name": "stderr",
     "output_type": "stream",
     "text": [
      "/Users/arasdirekoglu/opt/anaconda3/envs/recom/lib/python3.9/site-packages/tensorflow/python/keras/engine/training.py:2325: UserWarning: `Model.state_updates` will be removed in a future version. This property should not be used in TensorFlow 2.0, as `updates` are applied automatically.\n",
      "  warnings.warn('`Model.state_updates` will be removed in a future version. '\n"
     ]
    },
    {
     "name": "stdout",
     "output_type": "stream",
     "text": [
      "Recall@10 for Intermediate Dim:  1100 Latent Dim:  70 Batch size:  50 Annealing:  True :\t 0.11774195997987624\n",
      "Recall@20 for Intermediate Dim:  1100 Latent Dim:  70 Batch size:  50 Annealing:  True :\t 0.16981038333132709\n"
     ]
    },
    {
     "name": "stderr",
     "output_type": "stream",
     "text": [
      "/Users/arasdirekoglu/opt/anaconda3/envs/recom/lib/python3.9/site-packages/tensorflow/python/keras/engine/training_v1.py:1240: UserWarning: `model.fit_generator` is deprecated and will be removed in a future version. Please use `Model.fit`, which supports generators.\n",
      "  warnings.warn('`model.fit_generator` is deprecated and '\n",
      "/Users/arasdirekoglu/opt/anaconda3/envs/recom/lib/python3.9/site-packages/tensorflow/python/keras/engine/training.py:2325: UserWarning: `Model.state_updates` will be removed in a future version. This property should not be used in TensorFlow 2.0, as `updates` are applied automatically.\n",
      "  warnings.warn('`Model.state_updates` will be removed in a future version. '\n"
     ]
    },
    {
     "name": "stdout",
     "output_type": "stream",
     "text": [
      "Recall@10 for Intermediate Dim:  1100 Latent Dim:  70 Batch size:  50 Annealing:  False :\t 0.08718307983502825\n",
      "Recall@20 for Intermediate Dim:  1100 Latent Dim:  70 Batch size:  50 Annealing:  False :\t 0.13681333003854973\n"
     ]
    },
    {
     "name": "stderr",
     "output_type": "stream",
     "text": [
      "/Users/arasdirekoglu/opt/anaconda3/envs/recom/lib/python3.9/site-packages/tensorflow/python/keras/engine/training_v1.py:1240: UserWarning: `model.fit_generator` is deprecated and will be removed in a future version. Please use `Model.fit`, which supports generators.\n",
      "  warnings.warn('`model.fit_generator` is deprecated and '\n"
     ]
    },
    {
     "name": "stdout",
     "output_type": "stream",
     "text": [
      "WARNING:tensorflow:Callback method `on_train_batch_end` is slow compared to the batch time (batch time: 0.0323s vs `on_train_batch_end` time: 0.0653s). Check your callbacks.\n"
     ]
    },
    {
     "name": "stderr",
     "output_type": "stream",
     "text": [
      "/Users/arasdirekoglu/opt/anaconda3/envs/recom/lib/python3.9/site-packages/tensorflow/python/keras/engine/training.py:2325: UserWarning: `Model.state_updates` will be removed in a future version. This property should not be used in TensorFlow 2.0, as `updates` are applied automatically.\n",
      "  warnings.warn('`Model.state_updates` will be removed in a future version. '\n"
     ]
    },
    {
     "name": "stdout",
     "output_type": "stream",
     "text": [
      "Recall@10 for Intermediate Dim:  1100 Latent Dim:  90 Batch size:  50 Annealing:  True :\t 0.11707810922600813\n",
      "Recall@20 for Intermediate Dim:  1100 Latent Dim:  90 Batch size:  50 Annealing:  True :\t 0.1823387768691539\n"
     ]
    },
    {
     "name": "stderr",
     "output_type": "stream",
     "text": [
      "/Users/arasdirekoglu/opt/anaconda3/envs/recom/lib/python3.9/site-packages/tensorflow/python/keras/engine/training_v1.py:1240: UserWarning: `model.fit_generator` is deprecated and will be removed in a future version. Please use `Model.fit`, which supports generators.\n",
      "  warnings.warn('`model.fit_generator` is deprecated and '\n",
      "/Users/arasdirekoglu/opt/anaconda3/envs/recom/lib/python3.9/site-packages/tensorflow/python/keras/engine/training.py:2325: UserWarning: `Model.state_updates` will be removed in a future version. This property should not be used in TensorFlow 2.0, as `updates` are applied automatically.\n",
      "  warnings.warn('`Model.state_updates` will be removed in a future version. '\n"
     ]
    },
    {
     "name": "stdout",
     "output_type": "stream",
     "text": [
      "Recall@10 for Intermediate Dim:  1100 Latent Dim:  90 Batch size:  50 Annealing:  False :\t 0.08465525351587876\n",
      "Recall@20 for Intermediate Dim:  1100 Latent Dim:  90 Batch size:  50 Annealing:  False :\t 0.13471444618700826\n"
     ]
    },
    {
     "name": "stderr",
     "output_type": "stream",
     "text": [
      "/Users/arasdirekoglu/opt/anaconda3/envs/recom/lib/python3.9/site-packages/tensorflow/python/keras/engine/training_v1.py:1240: UserWarning: `model.fit_generator` is deprecated and will be removed in a future version. Please use `Model.fit`, which supports generators.\n",
      "  warnings.warn('`model.fit_generator` is deprecated and '\n"
     ]
    },
    {
     "name": "stdout",
     "output_type": "stream",
     "text": [
      "WARNING:tensorflow:Callback method `on_train_batch_end` is slow compared to the batch time (batch time: 0.0327s vs `on_train_batch_end` time: 0.0731s). Check your callbacks.\n"
     ]
    },
    {
     "name": "stderr",
     "output_type": "stream",
     "text": [
      "/Users/arasdirekoglu/opt/anaconda3/envs/recom/lib/python3.9/site-packages/tensorflow/python/keras/engine/training.py:2325: UserWarning: `Model.state_updates` will be removed in a future version. This property should not be used in TensorFlow 2.0, as `updates` are applied automatically.\n",
      "  warnings.warn('`Model.state_updates` will be removed in a future version. '\n"
     ]
    },
    {
     "name": "stdout",
     "output_type": "stream",
     "text": [
      "Recall@10 for Intermediate Dim:  1200 Latent Dim:  50 Batch size:  50 Annealing:  True :\t 0.11736318920185428\n",
      "Recall@20 for Intermediate Dim:  1200 Latent Dim:  50 Batch size:  50 Annealing:  True :\t 0.18092128618856948\n"
     ]
    },
    {
     "name": "stderr",
     "output_type": "stream",
     "text": [
      "/Users/arasdirekoglu/opt/anaconda3/envs/recom/lib/python3.9/site-packages/tensorflow/python/keras/engine/training_v1.py:1240: UserWarning: `model.fit_generator` is deprecated and will be removed in a future version. Please use `Model.fit`, which supports generators.\n",
      "  warnings.warn('`model.fit_generator` is deprecated and '\n",
      "/Users/arasdirekoglu/opt/anaconda3/envs/recom/lib/python3.9/site-packages/tensorflow/python/keras/engine/training.py:2325: UserWarning: `Model.state_updates` will be removed in a future version. This property should not be used in TensorFlow 2.0, as `updates` are applied automatically.\n",
      "  warnings.warn('`Model.state_updates` will be removed in a future version. '\n"
     ]
    },
    {
     "name": "stdout",
     "output_type": "stream",
     "text": [
      "Recall@10 for Intermediate Dim:  1200 Latent Dim:  50 Batch size:  50 Annealing:  False :\t 0.09296429766464427\n",
      "Recall@20 for Intermediate Dim:  1200 Latent Dim:  50 Batch size:  50 Annealing:  False :\t 0.13816574942691018\n"
     ]
    },
    {
     "name": "stderr",
     "output_type": "stream",
     "text": [
      "/Users/arasdirekoglu/opt/anaconda3/envs/recom/lib/python3.9/site-packages/tensorflow/python/keras/engine/training_v1.py:1240: UserWarning: `model.fit_generator` is deprecated and will be removed in a future version. Please use `Model.fit`, which supports generators.\n",
      "  warnings.warn('`model.fit_generator` is deprecated and '\n"
     ]
    },
    {
     "name": "stdout",
     "output_type": "stream",
     "text": [
      "WARNING:tensorflow:Callback method `on_train_batch_end` is slow compared to the batch time (batch time: 0.0349s vs `on_train_batch_end` time: 0.0821s). Check your callbacks.\n"
     ]
    },
    {
     "name": "stderr",
     "output_type": "stream",
     "text": [
      "/Users/arasdirekoglu/opt/anaconda3/envs/recom/lib/python3.9/site-packages/tensorflow/python/keras/engine/training.py:2325: UserWarning: `Model.state_updates` will be removed in a future version. This property should not be used in TensorFlow 2.0, as `updates` are applied automatically.\n",
      "  warnings.warn('`Model.state_updates` will be removed in a future version. '\n"
     ]
    },
    {
     "name": "stdout",
     "output_type": "stream",
     "text": [
      "Recall@10 for Intermediate Dim:  1200 Latent Dim:  70 Batch size:  50 Annealing:  True :\t 0.11539565085548152\n",
      "Recall@20 for Intermediate Dim:  1200 Latent Dim:  70 Batch size:  50 Annealing:  True :\t 0.17600651753697882\n"
     ]
    },
    {
     "name": "stderr",
     "output_type": "stream",
     "text": [
      "/Users/arasdirekoglu/opt/anaconda3/envs/recom/lib/python3.9/site-packages/tensorflow/python/keras/engine/training_v1.py:1240: UserWarning: `model.fit_generator` is deprecated and will be removed in a future version. Please use `Model.fit`, which supports generators.\n",
      "  warnings.warn('`model.fit_generator` is deprecated and '\n",
      "/Users/arasdirekoglu/opt/anaconda3/envs/recom/lib/python3.9/site-packages/tensorflow/python/keras/engine/training.py:2325: UserWarning: `Model.state_updates` will be removed in a future version. This property should not be used in TensorFlow 2.0, as `updates` are applied automatically.\n",
      "  warnings.warn('`Model.state_updates` will be removed in a future version. '\n"
     ]
    },
    {
     "name": "stdout",
     "output_type": "stream",
     "text": [
      "Recall@10 for Intermediate Dim:  1200 Latent Dim:  70 Batch size:  50 Annealing:  False :\t 0.09271052066496047\n",
      "Recall@20 for Intermediate Dim:  1200 Latent Dim:  70 Batch size:  50 Annealing:  False :\t 0.1338692732832939\n"
     ]
    },
    {
     "name": "stderr",
     "output_type": "stream",
     "text": [
      "/Users/arasdirekoglu/opt/anaconda3/envs/recom/lib/python3.9/site-packages/tensorflow/python/keras/engine/training_v1.py:1240: UserWarning: `model.fit_generator` is deprecated and will be removed in a future version. Please use `Model.fit`, which supports generators.\n",
      "  warnings.warn('`model.fit_generator` is deprecated and '\n"
     ]
    },
    {
     "name": "stdout",
     "output_type": "stream",
     "text": [
      "WARNING:tensorflow:Callback method `on_train_batch_end` is slow compared to the batch time (batch time: 0.0514s vs `on_train_batch_end` time: 0.0868s). Check your callbacks.\n"
     ]
    },
    {
     "name": "stderr",
     "output_type": "stream",
     "text": [
      "/Users/arasdirekoglu/opt/anaconda3/envs/recom/lib/python3.9/site-packages/tensorflow/python/keras/engine/training.py:2325: UserWarning: `Model.state_updates` will be removed in a future version. This property should not be used in TensorFlow 2.0, as `updates` are applied automatically.\n",
      "  warnings.warn('`Model.state_updates` will be removed in a future version. '\n"
     ]
    },
    {
     "name": "stdout",
     "output_type": "stream",
     "text": [
      "Recall@10 for Intermediate Dim:  1200 Latent Dim:  90 Batch size:  50 Annealing:  True :\t 0.11163660024505631\n",
      "Recall@20 for Intermediate Dim:  1200 Latent Dim:  90 Batch size:  50 Annealing:  True :\t 0.17136288925925502\n"
     ]
    },
    {
     "name": "stderr",
     "output_type": "stream",
     "text": [
      "/Users/arasdirekoglu/opt/anaconda3/envs/recom/lib/python3.9/site-packages/tensorflow/python/keras/engine/training_v1.py:1240: UserWarning: `model.fit_generator` is deprecated and will be removed in a future version. Please use `Model.fit`, which supports generators.\n",
      "  warnings.warn('`model.fit_generator` is deprecated and '\n",
      "/Users/arasdirekoglu/opt/anaconda3/envs/recom/lib/python3.9/site-packages/tensorflow/python/keras/engine/training.py:2325: UserWarning: `Model.state_updates` will be removed in a future version. This property should not be used in TensorFlow 2.0, as `updates` are applied automatically.\n",
      "  warnings.warn('`Model.state_updates` will be removed in a future version. '\n"
     ]
    },
    {
     "name": "stdout",
     "output_type": "stream",
     "text": [
      "Recall@10 for Intermediate Dim:  1200 Latent Dim:  90 Batch size:  50 Annealing:  False :\t 0.08990964877824971\n",
      "Recall@20 for Intermediate Dim:  1200 Latent Dim:  90 Batch size:  50 Annealing:  False :\t 0.13427067069403092\n"
     ]
    },
    {
     "name": "stderr",
     "output_type": "stream",
     "text": [
      "/Users/arasdirekoglu/opt/anaconda3/envs/recom/lib/python3.9/site-packages/tensorflow/python/keras/engine/training_v1.py:1240: UserWarning: `model.fit_generator` is deprecated and will be removed in a future version. Please use `Model.fit`, which supports generators.\n",
      "  warnings.warn('`model.fit_generator` is deprecated and '\n"
     ]
    },
    {
     "name": "stdout",
     "output_type": "stream",
     "text": [
      "WARNING:tensorflow:Callback method `on_train_batch_end` is slow compared to the batch time (batch time: 0.0376s vs `on_train_batch_end` time: 0.0969s). Check your callbacks.\n"
     ]
    },
    {
     "name": "stderr",
     "output_type": "stream",
     "text": [
      "/Users/arasdirekoglu/opt/anaconda3/envs/recom/lib/python3.9/site-packages/tensorflow/python/keras/engine/training.py:2325: UserWarning: `Model.state_updates` will be removed in a future version. This property should not be used in TensorFlow 2.0, as `updates` are applied automatically.\n",
      "  warnings.warn('`Model.state_updates` will be removed in a future version. '\n"
     ]
    },
    {
     "name": "stdout",
     "output_type": "stream",
     "text": [
      "Recall@10 for Intermediate Dim:  1300 Latent Dim:  50 Batch size:  50 Annealing:  True :\t 0.12059299048653895\n",
      "Recall@20 for Intermediate Dim:  1300 Latent Dim:  50 Batch size:  50 Annealing:  True :\t 0.17578000384013096\n"
     ]
    },
    {
     "name": "stderr",
     "output_type": "stream",
     "text": [
      "/Users/arasdirekoglu/opt/anaconda3/envs/recom/lib/python3.9/site-packages/tensorflow/python/keras/engine/training_v1.py:1240: UserWarning: `model.fit_generator` is deprecated and will be removed in a future version. Please use `Model.fit`, which supports generators.\n",
      "  warnings.warn('`model.fit_generator` is deprecated and '\n",
      "/Users/arasdirekoglu/opt/anaconda3/envs/recom/lib/python3.9/site-packages/tensorflow/python/keras/engine/training.py:2325: UserWarning: `Model.state_updates` will be removed in a future version. This property should not be used in TensorFlow 2.0, as `updates` are applied automatically.\n",
      "  warnings.warn('`Model.state_updates` will be removed in a future version. '\n"
     ]
    },
    {
     "name": "stdout",
     "output_type": "stream",
     "text": [
      "Recall@10 for Intermediate Dim:  1300 Latent Dim:  50 Batch size:  50 Annealing:  False :\t 0.09231945290415437\n",
      "Recall@20 for Intermediate Dim:  1300 Latent Dim:  50 Batch size:  50 Annealing:  False :\t 0.1351973418136778\n"
     ]
    },
    {
     "name": "stderr",
     "output_type": "stream",
     "text": [
      "/Users/arasdirekoglu/opt/anaconda3/envs/recom/lib/python3.9/site-packages/tensorflow/python/keras/engine/training_v1.py:1240: UserWarning: `model.fit_generator` is deprecated and will be removed in a future version. Please use `Model.fit`, which supports generators.\n",
      "  warnings.warn('`model.fit_generator` is deprecated and '\n"
     ]
    },
    {
     "name": "stdout",
     "output_type": "stream",
     "text": [
      "WARNING:tensorflow:Callback method `on_train_batch_end` is slow compared to the batch time (batch time: 0.0354s vs `on_train_batch_end` time: 0.1034s). Check your callbacks.\n"
     ]
    },
    {
     "name": "stderr",
     "output_type": "stream",
     "text": [
      "/Users/arasdirekoglu/opt/anaconda3/envs/recom/lib/python3.9/site-packages/tensorflow/python/keras/engine/training.py:2325: UserWarning: `Model.state_updates` will be removed in a future version. This property should not be used in TensorFlow 2.0, as `updates` are applied automatically.\n",
      "  warnings.warn('`Model.state_updates` will be removed in a future version. '\n"
     ]
    },
    {
     "name": "stdout",
     "output_type": "stream",
     "text": [
      "Recall@10 for Intermediate Dim:  1300 Latent Dim:  70 Batch size:  50 Annealing:  True :\t 0.12028555153775262\n",
      "Recall@20 for Intermediate Dim:  1300 Latent Dim:  70 Batch size:  50 Annealing:  True :\t 0.17454580659479382\n"
     ]
    },
    {
     "name": "stderr",
     "output_type": "stream",
     "text": [
      "/Users/arasdirekoglu/opt/anaconda3/envs/recom/lib/python3.9/site-packages/tensorflow/python/keras/engine/training_v1.py:1240: UserWarning: `model.fit_generator` is deprecated and will be removed in a future version. Please use `Model.fit`, which supports generators.\n",
      "  warnings.warn('`model.fit_generator` is deprecated and '\n",
      "/Users/arasdirekoglu/opt/anaconda3/envs/recom/lib/python3.9/site-packages/tensorflow/python/keras/engine/training.py:2325: UserWarning: `Model.state_updates` will be removed in a future version. This property should not be used in TensorFlow 2.0, as `updates` are applied automatically.\n",
      "  warnings.warn('`Model.state_updates` will be removed in a future version. '\n"
     ]
    },
    {
     "name": "stdout",
     "output_type": "stream",
     "text": [
      "Recall@10 for Intermediate Dim:  1300 Latent Dim:  70 Batch size:  50 Annealing:  False :\t 0.09197513084035563\n",
      "Recall@20 for Intermediate Dim:  1300 Latent Dim:  70 Batch size:  50 Annealing:  False :\t 0.13492303137470696\n"
     ]
    },
    {
     "name": "stderr",
     "output_type": "stream",
     "text": [
      "/Users/arasdirekoglu/opt/anaconda3/envs/recom/lib/python3.9/site-packages/tensorflow/python/keras/engine/training_v1.py:1240: UserWarning: `model.fit_generator` is deprecated and will be removed in a future version. Please use `Model.fit`, which supports generators.\n",
      "  warnings.warn('`model.fit_generator` is deprecated and '\n"
     ]
    },
    {
     "name": "stdout",
     "output_type": "stream",
     "text": [
      "WARNING:tensorflow:Callback method `on_train_batch_end` is slow compared to the batch time (batch time: 0.0376s vs `on_train_batch_end` time: 0.1076s). Check your callbacks.\n"
     ]
    },
    {
     "name": "stderr",
     "output_type": "stream",
     "text": [
      "/Users/arasdirekoglu/opt/anaconda3/envs/recom/lib/python3.9/site-packages/tensorflow/python/keras/engine/training.py:2325: UserWarning: `Model.state_updates` will be removed in a future version. This property should not be used in TensorFlow 2.0, as `updates` are applied automatically.\n",
      "  warnings.warn('`Model.state_updates` will be removed in a future version. '\n"
     ]
    },
    {
     "name": "stdout",
     "output_type": "stream",
     "text": [
      "Recall@10 for Intermediate Dim:  1300 Latent Dim:  90 Batch size:  50 Annealing:  True :\t 0.11399588531262567\n",
      "Recall@20 for Intermediate Dim:  1300 Latent Dim:  90 Batch size:  50 Annealing:  True :\t 0.17275306286641529\n"
     ]
    },
    {
     "name": "stderr",
     "output_type": "stream",
     "text": [
      "/Users/arasdirekoglu/opt/anaconda3/envs/recom/lib/python3.9/site-packages/tensorflow/python/keras/engine/training_v1.py:1240: UserWarning: `model.fit_generator` is deprecated and will be removed in a future version. Please use `Model.fit`, which supports generators.\n",
      "  warnings.warn('`model.fit_generator` is deprecated and '\n",
      "/Users/arasdirekoglu/opt/anaconda3/envs/recom/lib/python3.9/site-packages/tensorflow/python/keras/engine/training.py:2325: UserWarning: `Model.state_updates` will be removed in a future version. This property should not be used in TensorFlow 2.0, as `updates` are applied automatically.\n",
      "  warnings.warn('`Model.state_updates` will be removed in a future version. '\n"
     ]
    },
    {
     "name": "stdout",
     "output_type": "stream",
     "text": [
      "Recall@10 for Intermediate Dim:  1300 Latent Dim:  90 Batch size:  50 Annealing:  False :\t 0.08679797823791562\n",
      "Recall@20 for Intermediate Dim:  1300 Latent Dim:  90 Batch size:  50 Annealing:  False :\t 0.1338709063865593\n"
     ]
    },
    {
     "name": "stderr",
     "output_type": "stream",
     "text": [
      "/Users/arasdirekoglu/opt/anaconda3/envs/recom/lib/python3.9/site-packages/tensorflow/python/keras/engine/training_v1.py:1240: UserWarning: `model.fit_generator` is deprecated and will be removed in a future version. Please use `Model.fit`, which supports generators.\n",
      "  warnings.warn('`model.fit_generator` is deprecated and '\n"
     ]
    },
    {
     "name": "stdout",
     "output_type": "stream",
     "text": [
      "WARNING:tensorflow:Callback method `on_train_batch_end` is slow compared to the batch time (batch time: 0.0447s vs `on_train_batch_end` time: 0.1112s). Check your callbacks.\n"
     ]
    },
    {
     "name": "stderr",
     "output_type": "stream",
     "text": [
      "/Users/arasdirekoglu/opt/anaconda3/envs/recom/lib/python3.9/site-packages/tensorflow/python/keras/engine/training.py:2325: UserWarning: `Model.state_updates` will be removed in a future version. This property should not be used in TensorFlow 2.0, as `updates` are applied automatically.\n",
      "  warnings.warn('`Model.state_updates` will be removed in a future version. '\n"
     ]
    },
    {
     "name": "stdout",
     "output_type": "stream",
     "text": [
      "Recall@10 for Intermediate Dim:  1400 Latent Dim:  50 Batch size:  50 Annealing:  True :\t 0.12206172060950667\n",
      "Recall@20 for Intermediate Dim:  1400 Latent Dim:  50 Batch size:  50 Annealing:  True :\t 0.18302281190292813\n"
     ]
    },
    {
     "name": "stderr",
     "output_type": "stream",
     "text": [
      "/Users/arasdirekoglu/opt/anaconda3/envs/recom/lib/python3.9/site-packages/tensorflow/python/keras/engine/training_v1.py:1240: UserWarning: `model.fit_generator` is deprecated and will be removed in a future version. Please use `Model.fit`, which supports generators.\n",
      "  warnings.warn('`model.fit_generator` is deprecated and '\n",
      "/Users/arasdirekoglu/opt/anaconda3/envs/recom/lib/python3.9/site-packages/tensorflow/python/keras/engine/training.py:2325: UserWarning: `Model.state_updates` will be removed in a future version. This property should not be used in TensorFlow 2.0, as `updates` are applied automatically.\n",
      "  warnings.warn('`Model.state_updates` will be removed in a future version. '\n"
     ]
    },
    {
     "name": "stdout",
     "output_type": "stream",
     "text": [
      "Recall@10 for Intermediate Dim:  1400 Latent Dim:  50 Batch size:  50 Annealing:  False :\t 0.09145016205637607\n",
      "Recall@20 for Intermediate Dim:  1400 Latent Dim:  50 Batch size:  50 Annealing:  False :\t 0.13399809882088667\n"
     ]
    },
    {
     "name": "stderr",
     "output_type": "stream",
     "text": [
      "/Users/arasdirekoglu/opt/anaconda3/envs/recom/lib/python3.9/site-packages/tensorflow/python/keras/engine/training_v1.py:1240: UserWarning: `model.fit_generator` is deprecated and will be removed in a future version. Please use `Model.fit`, which supports generators.\n",
      "  warnings.warn('`model.fit_generator` is deprecated and '\n"
     ]
    },
    {
     "name": "stdout",
     "output_type": "stream",
     "text": [
      "WARNING:tensorflow:Callback method `on_train_batch_end` is slow compared to the batch time (batch time: 0.0402s vs `on_train_batch_end` time: 0.1247s). Check your callbacks.\n"
     ]
    },
    {
     "name": "stderr",
     "output_type": "stream",
     "text": [
      "/Users/arasdirekoglu/opt/anaconda3/envs/recom/lib/python3.9/site-packages/tensorflow/python/keras/engine/training.py:2325: UserWarning: `Model.state_updates` will be removed in a future version. This property should not be used in TensorFlow 2.0, as `updates` are applied automatically.\n",
      "  warnings.warn('`Model.state_updates` will be removed in a future version. '\n"
     ]
    },
    {
     "name": "stdout",
     "output_type": "stream",
     "text": [
      "Recall@10 for Intermediate Dim:  1400 Latent Dim:  70 Batch size:  50 Annealing:  True :\t 0.12151871334809501\n",
      "Recall@20 for Intermediate Dim:  1400 Latent Dim:  70 Batch size:  50 Annealing:  True :\t 0.17496071626799428\n"
     ]
    },
    {
     "name": "stderr",
     "output_type": "stream",
     "text": [
      "/Users/arasdirekoglu/opt/anaconda3/envs/recom/lib/python3.9/site-packages/tensorflow/python/keras/engine/training_v1.py:1240: UserWarning: `model.fit_generator` is deprecated and will be removed in a future version. Please use `Model.fit`, which supports generators.\n",
      "  warnings.warn('`model.fit_generator` is deprecated and '\n",
      "/Users/arasdirekoglu/opt/anaconda3/envs/recom/lib/python3.9/site-packages/tensorflow/python/keras/engine/training.py:2325: UserWarning: `Model.state_updates` will be removed in a future version. This property should not be used in TensorFlow 2.0, as `updates` are applied automatically.\n",
      "  warnings.warn('`Model.state_updates` will be removed in a future version. '\n"
     ]
    },
    {
     "name": "stdout",
     "output_type": "stream",
     "text": [
      "Recall@10 for Intermediate Dim:  1400 Latent Dim:  70 Batch size:  50 Annealing:  False :\t 0.09243639706651474\n",
      "Recall@20 for Intermediate Dim:  1400 Latent Dim:  70 Batch size:  50 Annealing:  False :\t 0.13255882621023302\n"
     ]
    },
    {
     "name": "stderr",
     "output_type": "stream",
     "text": [
      "/Users/arasdirekoglu/opt/anaconda3/envs/recom/lib/python3.9/site-packages/tensorflow/python/keras/engine/training_v1.py:1240: UserWarning: `model.fit_generator` is deprecated and will be removed in a future version. Please use `Model.fit`, which supports generators.\n",
      "  warnings.warn('`model.fit_generator` is deprecated and '\n"
     ]
    },
    {
     "name": "stdout",
     "output_type": "stream",
     "text": [
      "WARNING:tensorflow:Callback method `on_train_batch_end` is slow compared to the batch time (batch time: 0.0394s vs `on_train_batch_end` time: 0.1233s). Check your callbacks.\n"
     ]
    },
    {
     "name": "stderr",
     "output_type": "stream",
     "text": [
      "/Users/arasdirekoglu/opt/anaconda3/envs/recom/lib/python3.9/site-packages/tensorflow/python/keras/engine/training.py:2325: UserWarning: `Model.state_updates` will be removed in a future version. This property should not be used in TensorFlow 2.0, as `updates` are applied automatically.\n",
      "  warnings.warn('`Model.state_updates` will be removed in a future version. '\n"
     ]
    },
    {
     "name": "stdout",
     "output_type": "stream",
     "text": [
      "Recall@10 for Intermediate Dim:  1400 Latent Dim:  90 Batch size:  50 Annealing:  True :\t 0.11937391539789544\n",
      "Recall@20 for Intermediate Dim:  1400 Latent Dim:  90 Batch size:  50 Annealing:  True :\t 0.17992404932274508\n"
     ]
    },
    {
     "name": "stderr",
     "output_type": "stream",
     "text": [
      "/Users/arasdirekoglu/opt/anaconda3/envs/recom/lib/python3.9/site-packages/tensorflow/python/keras/engine/training_v1.py:1240: UserWarning: `model.fit_generator` is deprecated and will be removed in a future version. Please use `Model.fit`, which supports generators.\n",
      "  warnings.warn('`model.fit_generator` is deprecated and '\n",
      "/Users/arasdirekoglu/opt/anaconda3/envs/recom/lib/python3.9/site-packages/tensorflow/python/keras/engine/training.py:2325: UserWarning: `Model.state_updates` will be removed in a future version. This property should not be used in TensorFlow 2.0, as `updates` are applied automatically.\n",
      "  warnings.warn('`Model.state_updates` will be removed in a future version. '\n"
     ]
    },
    {
     "name": "stdout",
     "output_type": "stream",
     "text": [
      "Recall@10 for Intermediate Dim:  1400 Latent Dim:  90 Batch size:  50 Annealing:  False :\t 0.09159014579687146\n",
      "Recall@20 for Intermediate Dim:  1400 Latent Dim:  90 Batch size:  50 Annealing:  False :\t 0.13815661317486186\n"
     ]
    }
   ],
   "source": [
    "# Set up Parameters\n",
    "intermediate_dimension = [800, 900, 1000, 1100, 1200, 1300, 1400] \n",
    "latent_dimension = [50, 70, 90] \n",
    "batch_sizes = [50]\n",
    "anneal_status = [True, False]\n",
    "\n",
    "# Initiate Lists for Assessment\n",
    "recall_10 = []\n",
    "recall_20 = []\n",
    "precision_10 = []\n",
    "precision_20 = []\n",
    "int_dimensions = []\n",
    "lt_dimensions = []\n",
    "anneal = []\n",
    "batch = []\n",
    "\n",
    "for i in intermediate_dimension:\n",
    "    for l in latent_dimension:\n",
    "        for b in batch_sizes:\n",
    "            for a in anneal_status:\n",
    "                try:\n",
    "                    del(model)\n",
    "                except:\n",
    "                    pass\n",
    "                \n",
    "                # Initiate Model \n",
    "                if a == True:\n",
    "                    model = Mult_VAE(n_users=train_data.shape[0],\n",
    "                                        original_dim=train_data.shape[1],\n",
    "                                        intermediate_dim=i,\n",
    "                                        latent_dim=l,\n",
    "                                        n_epochs=100,\n",
    "                                        batch_size=b,\n",
    "                                        k=100,\n",
    "                                        verbose=0,\n",
    "                                        seed=1,\n",
    "                                        save_path=WEIGHTS_PATH,\n",
    "                                        drop_encoder=0.5,\n",
    "                                        drop_decoder=0.5,\n",
    "                                        annealing=True,\n",
    "                                        anneal_cap=1.0)\n",
    "                else:\n",
    "                    model = Mult_VAE(n_users=train_data.shape[0], # Number of unique users in the training set\n",
    "                                        original_dim=train_data.shape[1], # Number of unique items in the training set\n",
    "                                        intermediate_dim=i, \n",
    "                                        latent_dim=l, \n",
    "                                        n_epochs=100, \n",
    "                                        batch_size=b, \n",
    "                                        k=100,\n",
    "                                        verbose=0,\n",
    "                                        seed=1,\n",
    "                                        drop_encoder=0.5,\n",
    "                                        drop_decoder=0.5,\n",
    "                                        annealing=False,\n",
    "                                        beta=1.0,\n",
    "                                        save_path=WEIGHTS_PATH)\n",
    "                \n",
    "                # Fit model\n",
    "                model.fit(x_train=train_data,\n",
    "                        x_valid=val_data,\n",
    "                        x_val_tr=val_data_tr,\n",
    "                        x_val_te=val_data_te_ratings,\n",
    "                        mapper=am_val)\n",
    "            \n",
    "                # Model prediction on the training part of test set K = 10  \n",
    "                top_k_10 =  model.recommend_k_items(x=test_data_tr,\n",
    "                                                    k=10,\n",
    "                                                    remove_seen=True)\n",
    "\n",
    "                # Convert sparse matrix back to df\n",
    "                top_k_df_10 = am_test.map_back_sparse(top_k_10, kind='prediction')\n",
    "                test_df = am_test.map_back_sparse(test_data_te_ratings, kind='ratings') # use test_data_te_, with the original ratings\n",
    "    \n",
    "\n",
    "                # Use the ranking metrics for evaluation\n",
    "                eval_precision_10 = precision_at_k(test_df, top_k_df_10, col_prediction='prediction', k=10)\n",
    "                eval_recall_10 = recall_at_k(test_df, top_k_df_10, col_prediction='prediction', k=10)\n",
    "\n",
    "                # Print intermediate Status for Recall@10\n",
    "                print(\"Recall@10 for Intermediate Dim: \", i, \"Latent Dim: \", l, \"Batch size: \", b, \"Annealing: \", a, \":\\t\", eval_recall_10)\n",
    "                \n",
    "                #Model prediction on the training part of test set K = 20  \n",
    "                top_k_20 =  model.recommend_k_items(x=test_data_tr,\n",
    "                                                    k=20,\n",
    "                                                    remove_seen=True)\n",
    "\n",
    "                # Convert sparse matrix back to df\n",
    "                top_k_df_20 = am_test.map_back_sparse(top_k_20, kind='prediction')\n",
    "    \n",
    "\n",
    "                # Use the ranking metrics for evaluation\n",
    "                eval_precision_20 = precision_at_k(test_df, top_k_df_20, col_prediction='prediction', k=20)\n",
    "                eval_recall_20 = recall_at_k(test_df, top_k_df_20, col_prediction='prediction', k=20)\n",
    "                \n",
    "                # Print intermediate Status for Recall@20\n",
    "                print(\"Recall@20 for Intermediate Dim: \", i, \"Latent Dim: \", l, \"Batch size: \", b, \"Annealing: \", a, \":\\t\", eval_recall_20)\n",
    "                \n",
    "                # Append Lists\n",
    "                recall_10.append(eval_recall_10)\n",
    "                recall_20.append(eval_recall_20)\n",
    "                precision_10.append(eval_precision_10)\n",
    "                precision_20.append(eval_precision_20)\n",
    "                int_dimensions.append(i)\n",
    "                lt_dimensions.append(l)\n",
    "                anneal.append(a)\n",
    "                batch.append(b) "
   ]
  },
  {
   "cell_type": "code",
   "execution_count": 35,
   "metadata": {},
   "outputs": [
    {
     "data": {
      "text/html": [
       "<div>\n",
       "<style scoped>\n",
       "    .dataframe tbody tr th:only-of-type {\n",
       "        vertical-align: middle;\n",
       "    }\n",
       "\n",
       "    .dataframe tbody tr th {\n",
       "        vertical-align: top;\n",
       "    }\n",
       "\n",
       "    .dataframe thead th {\n",
       "        text-align: right;\n",
       "    }\n",
       "</style>\n",
       "<table border=\"1\" class=\"dataframe\">\n",
       "  <thead>\n",
       "    <tr style=\"text-align: right;\">\n",
       "      <th></th>\n",
       "      <th>intermediate_dimensions</th>\n",
       "      <th>latent_dimensions</th>\n",
       "      <th>annealing</th>\n",
       "      <th>batch_size</th>\n",
       "      <th>recall@10</th>\n",
       "      <th>recall@20</th>\n",
       "      <th>precision@10</th>\n",
       "      <th>precision@20</th>\n",
       "    </tr>\n",
       "  </thead>\n",
       "  <tbody>\n",
       "    <tr>\n",
       "      <th>36</th>\n",
       "      <td>1400</td>\n",
       "      <td>50</td>\n",
       "      <td>True</td>\n",
       "      <td>50</td>\n",
       "      <td>0.122062</td>\n",
       "      <td>0.183023</td>\n",
       "      <td>0.147067</td>\n",
       "      <td>0.118067</td>\n",
       "    </tr>\n",
       "    <tr>\n",
       "      <th>38</th>\n",
       "      <td>1400</td>\n",
       "      <td>70</td>\n",
       "      <td>True</td>\n",
       "      <td>50</td>\n",
       "      <td>0.121519</td>\n",
       "      <td>0.174961</td>\n",
       "      <td>0.148133</td>\n",
       "      <td>0.113867</td>\n",
       "    </tr>\n",
       "    <tr>\n",
       "      <th>12</th>\n",
       "      <td>1000</td>\n",
       "      <td>50</td>\n",
       "      <td>True</td>\n",
       "      <td>50</td>\n",
       "      <td>0.121244</td>\n",
       "      <td>0.176181</td>\n",
       "      <td>0.148000</td>\n",
       "      <td>0.116000</td>\n",
       "    </tr>\n",
       "    <tr>\n",
       "      <th>6</th>\n",
       "      <td>900</td>\n",
       "      <td>50</td>\n",
       "      <td>True</td>\n",
       "      <td>50</td>\n",
       "      <td>0.120719</td>\n",
       "      <td>0.179391</td>\n",
       "      <td>0.147467</td>\n",
       "      <td>0.115600</td>\n",
       "    </tr>\n",
       "    <tr>\n",
       "      <th>30</th>\n",
       "      <td>1300</td>\n",
       "      <td>50</td>\n",
       "      <td>True</td>\n",
       "      <td>50</td>\n",
       "      <td>0.120593</td>\n",
       "      <td>0.175780</td>\n",
       "      <td>0.145733</td>\n",
       "      <td>0.117200</td>\n",
       "    </tr>\n",
       "    <tr>\n",
       "      <th>32</th>\n",
       "      <td>1300</td>\n",
       "      <td>70</td>\n",
       "      <td>True</td>\n",
       "      <td>50</td>\n",
       "      <td>0.120286</td>\n",
       "      <td>0.174546</td>\n",
       "      <td>0.148400</td>\n",
       "      <td>0.115600</td>\n",
       "    </tr>\n",
       "    <tr>\n",
       "      <th>0</th>\n",
       "      <td>800</td>\n",
       "      <td>50</td>\n",
       "      <td>True</td>\n",
       "      <td>50</td>\n",
       "      <td>0.119662</td>\n",
       "      <td>0.171987</td>\n",
       "      <td>0.148933</td>\n",
       "      <td>0.114000</td>\n",
       "    </tr>\n",
       "    <tr>\n",
       "      <th>40</th>\n",
       "      <td>1400</td>\n",
       "      <td>90</td>\n",
       "      <td>True</td>\n",
       "      <td>50</td>\n",
       "      <td>0.119374</td>\n",
       "      <td>0.179924</td>\n",
       "      <td>0.147867</td>\n",
       "      <td>0.115533</td>\n",
       "    </tr>\n",
       "    <tr>\n",
       "      <th>18</th>\n",
       "      <td>1100</td>\n",
       "      <td>50</td>\n",
       "      <td>True</td>\n",
       "      <td>50</td>\n",
       "      <td>0.119280</td>\n",
       "      <td>0.176933</td>\n",
       "      <td>0.146800</td>\n",
       "      <td>0.116867</td>\n",
       "    </tr>\n",
       "    <tr>\n",
       "      <th>8</th>\n",
       "      <td>900</td>\n",
       "      <td>70</td>\n",
       "      <td>True</td>\n",
       "      <td>50</td>\n",
       "      <td>0.118690</td>\n",
       "      <td>0.173401</td>\n",
       "      <td>0.146267</td>\n",
       "      <td>0.114667</td>\n",
       "    </tr>\n",
       "    <tr>\n",
       "      <th>16</th>\n",
       "      <td>1000</td>\n",
       "      <td>90</td>\n",
       "      <td>True</td>\n",
       "      <td>50</td>\n",
       "      <td>0.118081</td>\n",
       "      <td>0.178794</td>\n",
       "      <td>0.144533</td>\n",
       "      <td>0.113800</td>\n",
       "    </tr>\n",
       "    <tr>\n",
       "      <th>20</th>\n",
       "      <td>1100</td>\n",
       "      <td>70</td>\n",
       "      <td>True</td>\n",
       "      <td>50</td>\n",
       "      <td>0.117742</td>\n",
       "      <td>0.169810</td>\n",
       "      <td>0.147467</td>\n",
       "      <td>0.113133</td>\n",
       "    </tr>\n",
       "    <tr>\n",
       "      <th>24</th>\n",
       "      <td>1200</td>\n",
       "      <td>50</td>\n",
       "      <td>True</td>\n",
       "      <td>50</td>\n",
       "      <td>0.117363</td>\n",
       "      <td>0.180921</td>\n",
       "      <td>0.143733</td>\n",
       "      <td>0.116533</td>\n",
       "    </tr>\n",
       "    <tr>\n",
       "      <th>22</th>\n",
       "      <td>1100</td>\n",
       "      <td>90</td>\n",
       "      <td>True</td>\n",
       "      <td>50</td>\n",
       "      <td>0.117078</td>\n",
       "      <td>0.182339</td>\n",
       "      <td>0.147600</td>\n",
       "      <td>0.116467</td>\n",
       "    </tr>\n",
       "    <tr>\n",
       "      <th>2</th>\n",
       "      <td>800</td>\n",
       "      <td>70</td>\n",
       "      <td>True</td>\n",
       "      <td>50</td>\n",
       "      <td>0.116021</td>\n",
       "      <td>0.177685</td>\n",
       "      <td>0.145733</td>\n",
       "      <td>0.116133</td>\n",
       "    </tr>\n",
       "    <tr>\n",
       "      <th>26</th>\n",
       "      <td>1200</td>\n",
       "      <td>70</td>\n",
       "      <td>True</td>\n",
       "      <td>50</td>\n",
       "      <td>0.115396</td>\n",
       "      <td>0.176007</td>\n",
       "      <td>0.148267</td>\n",
       "      <td>0.116267</td>\n",
       "    </tr>\n",
       "    <tr>\n",
       "      <th>14</th>\n",
       "      <td>1000</td>\n",
       "      <td>70</td>\n",
       "      <td>True</td>\n",
       "      <td>50</td>\n",
       "      <td>0.115314</td>\n",
       "      <td>0.174132</td>\n",
       "      <td>0.145733</td>\n",
       "      <td>0.112933</td>\n",
       "    </tr>\n",
       "    <tr>\n",
       "      <th>34</th>\n",
       "      <td>1300</td>\n",
       "      <td>90</td>\n",
       "      <td>True</td>\n",
       "      <td>50</td>\n",
       "      <td>0.113996</td>\n",
       "      <td>0.172753</td>\n",
       "      <td>0.145467</td>\n",
       "      <td>0.113733</td>\n",
       "    </tr>\n",
       "    <tr>\n",
       "      <th>4</th>\n",
       "      <td>800</td>\n",
       "      <td>90</td>\n",
       "      <td>True</td>\n",
       "      <td>50</td>\n",
       "      <td>0.112687</td>\n",
       "      <td>0.173482</td>\n",
       "      <td>0.138400</td>\n",
       "      <td>0.112600</td>\n",
       "    </tr>\n",
       "    <tr>\n",
       "      <th>28</th>\n",
       "      <td>1200</td>\n",
       "      <td>90</td>\n",
       "      <td>True</td>\n",
       "      <td>50</td>\n",
       "      <td>0.111637</td>\n",
       "      <td>0.171363</td>\n",
       "      <td>0.142933</td>\n",
       "      <td>0.111867</td>\n",
       "    </tr>\n",
       "    <tr>\n",
       "      <th>10</th>\n",
       "      <td>900</td>\n",
       "      <td>90</td>\n",
       "      <td>True</td>\n",
       "      <td>50</td>\n",
       "      <td>0.111049</td>\n",
       "      <td>0.173032</td>\n",
       "      <td>0.142000</td>\n",
       "      <td>0.111067</td>\n",
       "    </tr>\n",
       "    <tr>\n",
       "      <th>25</th>\n",
       "      <td>1200</td>\n",
       "      <td>50</td>\n",
       "      <td>False</td>\n",
       "      <td>50</td>\n",
       "      <td>0.092964</td>\n",
       "      <td>0.138166</td>\n",
       "      <td>0.122533</td>\n",
       "      <td>0.095400</td>\n",
       "    </tr>\n",
       "    <tr>\n",
       "      <th>27</th>\n",
       "      <td>1200</td>\n",
       "      <td>70</td>\n",
       "      <td>False</td>\n",
       "      <td>50</td>\n",
       "      <td>0.092711</td>\n",
       "      <td>0.133869</td>\n",
       "      <td>0.122133</td>\n",
       "      <td>0.093000</td>\n",
       "    </tr>\n",
       "    <tr>\n",
       "      <th>39</th>\n",
       "      <td>1400</td>\n",
       "      <td>70</td>\n",
       "      <td>False</td>\n",
       "      <td>50</td>\n",
       "      <td>0.092436</td>\n",
       "      <td>0.132559</td>\n",
       "      <td>0.121600</td>\n",
       "      <td>0.094267</td>\n",
       "    </tr>\n",
       "    <tr>\n",
       "      <th>31</th>\n",
       "      <td>1300</td>\n",
       "      <td>50</td>\n",
       "      <td>False</td>\n",
       "      <td>50</td>\n",
       "      <td>0.092319</td>\n",
       "      <td>0.135197</td>\n",
       "      <td>0.123600</td>\n",
       "      <td>0.095467</td>\n",
       "    </tr>\n",
       "    <tr>\n",
       "      <th>33</th>\n",
       "      <td>1300</td>\n",
       "      <td>70</td>\n",
       "      <td>False</td>\n",
       "      <td>50</td>\n",
       "      <td>0.091975</td>\n",
       "      <td>0.134923</td>\n",
       "      <td>0.119200</td>\n",
       "      <td>0.093067</td>\n",
       "    </tr>\n",
       "    <tr>\n",
       "      <th>19</th>\n",
       "      <td>1100</td>\n",
       "      <td>50</td>\n",
       "      <td>False</td>\n",
       "      <td>50</td>\n",
       "      <td>0.091842</td>\n",
       "      <td>0.134395</td>\n",
       "      <td>0.122400</td>\n",
       "      <td>0.096000</td>\n",
       "    </tr>\n",
       "    <tr>\n",
       "      <th>41</th>\n",
       "      <td>1400</td>\n",
       "      <td>90</td>\n",
       "      <td>False</td>\n",
       "      <td>50</td>\n",
       "      <td>0.091590</td>\n",
       "      <td>0.138157</td>\n",
       "      <td>0.120667</td>\n",
       "      <td>0.094867</td>\n",
       "    </tr>\n",
       "    <tr>\n",
       "      <th>37</th>\n",
       "      <td>1400</td>\n",
       "      <td>50</td>\n",
       "      <td>False</td>\n",
       "      <td>50</td>\n",
       "      <td>0.091450</td>\n",
       "      <td>0.133998</td>\n",
       "      <td>0.122400</td>\n",
       "      <td>0.094467</td>\n",
       "    </tr>\n",
       "    <tr>\n",
       "      <th>17</th>\n",
       "      <td>1000</td>\n",
       "      <td>90</td>\n",
       "      <td>False</td>\n",
       "      <td>50</td>\n",
       "      <td>0.090247</td>\n",
       "      <td>0.141036</td>\n",
       "      <td>0.120800</td>\n",
       "      <td>0.095067</td>\n",
       "    </tr>\n",
       "    <tr>\n",
       "      <th>29</th>\n",
       "      <td>1200</td>\n",
       "      <td>90</td>\n",
       "      <td>False</td>\n",
       "      <td>50</td>\n",
       "      <td>0.089910</td>\n",
       "      <td>0.134271</td>\n",
       "      <td>0.119733</td>\n",
       "      <td>0.093667</td>\n",
       "    </tr>\n",
       "    <tr>\n",
       "      <th>1</th>\n",
       "      <td>800</td>\n",
       "      <td>50</td>\n",
       "      <td>False</td>\n",
       "      <td>50</td>\n",
       "      <td>0.089396</td>\n",
       "      <td>0.138745</td>\n",
       "      <td>0.121467</td>\n",
       "      <td>0.095133</td>\n",
       "    </tr>\n",
       "    <tr>\n",
       "      <th>7</th>\n",
       "      <td>900</td>\n",
       "      <td>50</td>\n",
       "      <td>False</td>\n",
       "      <td>50</td>\n",
       "      <td>0.088461</td>\n",
       "      <td>0.136008</td>\n",
       "      <td>0.118133</td>\n",
       "      <td>0.096667</td>\n",
       "    </tr>\n",
       "    <tr>\n",
       "      <th>15</th>\n",
       "      <td>1000</td>\n",
       "      <td>70</td>\n",
       "      <td>False</td>\n",
       "      <td>50</td>\n",
       "      <td>0.088367</td>\n",
       "      <td>0.135763</td>\n",
       "      <td>0.119200</td>\n",
       "      <td>0.095133</td>\n",
       "    </tr>\n",
       "    <tr>\n",
       "      <th>5</th>\n",
       "      <td>800</td>\n",
       "      <td>90</td>\n",
       "      <td>False</td>\n",
       "      <td>50</td>\n",
       "      <td>0.088032</td>\n",
       "      <td>0.134580</td>\n",
       "      <td>0.116533</td>\n",
       "      <td>0.094400</td>\n",
       "    </tr>\n",
       "    <tr>\n",
       "      <th>13</th>\n",
       "      <td>1000</td>\n",
       "      <td>50</td>\n",
       "      <td>False</td>\n",
       "      <td>50</td>\n",
       "      <td>0.087357</td>\n",
       "      <td>0.140000</td>\n",
       "      <td>0.120267</td>\n",
       "      <td>0.098867</td>\n",
       "    </tr>\n",
       "    <tr>\n",
       "      <th>21</th>\n",
       "      <td>1100</td>\n",
       "      <td>70</td>\n",
       "      <td>False</td>\n",
       "      <td>50</td>\n",
       "      <td>0.087183</td>\n",
       "      <td>0.136813</td>\n",
       "      <td>0.118000</td>\n",
       "      <td>0.096200</td>\n",
       "    </tr>\n",
       "    <tr>\n",
       "      <th>35</th>\n",
       "      <td>1300</td>\n",
       "      <td>90</td>\n",
       "      <td>False</td>\n",
       "      <td>50</td>\n",
       "      <td>0.086798</td>\n",
       "      <td>0.133871</td>\n",
       "      <td>0.117600</td>\n",
       "      <td>0.093200</td>\n",
       "    </tr>\n",
       "    <tr>\n",
       "      <th>9</th>\n",
       "      <td>900</td>\n",
       "      <td>70</td>\n",
       "      <td>False</td>\n",
       "      <td>50</td>\n",
       "      <td>0.086488</td>\n",
       "      <td>0.134618</td>\n",
       "      <td>0.118267</td>\n",
       "      <td>0.091600</td>\n",
       "    </tr>\n",
       "    <tr>\n",
       "      <th>23</th>\n",
       "      <td>1100</td>\n",
       "      <td>90</td>\n",
       "      <td>False</td>\n",
       "      <td>50</td>\n",
       "      <td>0.084655</td>\n",
       "      <td>0.134714</td>\n",
       "      <td>0.114933</td>\n",
       "      <td>0.091133</td>\n",
       "    </tr>\n",
       "    <tr>\n",
       "      <th>11</th>\n",
       "      <td>900</td>\n",
       "      <td>90</td>\n",
       "      <td>False</td>\n",
       "      <td>50</td>\n",
       "      <td>0.084366</td>\n",
       "      <td>0.139010</td>\n",
       "      <td>0.115733</td>\n",
       "      <td>0.093533</td>\n",
       "    </tr>\n",
       "    <tr>\n",
       "      <th>3</th>\n",
       "      <td>800</td>\n",
       "      <td>70</td>\n",
       "      <td>False</td>\n",
       "      <td>50</td>\n",
       "      <td>0.081943</td>\n",
       "      <td>0.130720</td>\n",
       "      <td>0.111867</td>\n",
       "      <td>0.093467</td>\n",
       "    </tr>\n",
       "  </tbody>\n",
       "</table>\n",
       "</div>"
      ],
      "text/plain": [
       "    intermediate_dimensions  latent_dimensions  annealing  batch_size  \\\n",
       "36                     1400                 50       True          50   \n",
       "38                     1400                 70       True          50   \n",
       "12                     1000                 50       True          50   \n",
       "6                       900                 50       True          50   \n",
       "30                     1300                 50       True          50   \n",
       "32                     1300                 70       True          50   \n",
       "0                       800                 50       True          50   \n",
       "40                     1400                 90       True          50   \n",
       "18                     1100                 50       True          50   \n",
       "8                       900                 70       True          50   \n",
       "16                     1000                 90       True          50   \n",
       "20                     1100                 70       True          50   \n",
       "24                     1200                 50       True          50   \n",
       "22                     1100                 90       True          50   \n",
       "2                       800                 70       True          50   \n",
       "26                     1200                 70       True          50   \n",
       "14                     1000                 70       True          50   \n",
       "34                     1300                 90       True          50   \n",
       "4                       800                 90       True          50   \n",
       "28                     1200                 90       True          50   \n",
       "10                      900                 90       True          50   \n",
       "25                     1200                 50      False          50   \n",
       "27                     1200                 70      False          50   \n",
       "39                     1400                 70      False          50   \n",
       "31                     1300                 50      False          50   \n",
       "33                     1300                 70      False          50   \n",
       "19                     1100                 50      False          50   \n",
       "41                     1400                 90      False          50   \n",
       "37                     1400                 50      False          50   \n",
       "17                     1000                 90      False          50   \n",
       "29                     1200                 90      False          50   \n",
       "1                       800                 50      False          50   \n",
       "7                       900                 50      False          50   \n",
       "15                     1000                 70      False          50   \n",
       "5                       800                 90      False          50   \n",
       "13                     1000                 50      False          50   \n",
       "21                     1100                 70      False          50   \n",
       "35                     1300                 90      False          50   \n",
       "9                       900                 70      False          50   \n",
       "23                     1100                 90      False          50   \n",
       "11                      900                 90      False          50   \n",
       "3                       800                 70      False          50   \n",
       "\n",
       "    recall@10  recall@20  precision@10  precision@20  \n",
       "36   0.122062   0.183023      0.147067      0.118067  \n",
       "38   0.121519   0.174961      0.148133      0.113867  \n",
       "12   0.121244   0.176181      0.148000      0.116000  \n",
       "6    0.120719   0.179391      0.147467      0.115600  \n",
       "30   0.120593   0.175780      0.145733      0.117200  \n",
       "32   0.120286   0.174546      0.148400      0.115600  \n",
       "0    0.119662   0.171987      0.148933      0.114000  \n",
       "40   0.119374   0.179924      0.147867      0.115533  \n",
       "18   0.119280   0.176933      0.146800      0.116867  \n",
       "8    0.118690   0.173401      0.146267      0.114667  \n",
       "16   0.118081   0.178794      0.144533      0.113800  \n",
       "20   0.117742   0.169810      0.147467      0.113133  \n",
       "24   0.117363   0.180921      0.143733      0.116533  \n",
       "22   0.117078   0.182339      0.147600      0.116467  \n",
       "2    0.116021   0.177685      0.145733      0.116133  \n",
       "26   0.115396   0.176007      0.148267      0.116267  \n",
       "14   0.115314   0.174132      0.145733      0.112933  \n",
       "34   0.113996   0.172753      0.145467      0.113733  \n",
       "4    0.112687   0.173482      0.138400      0.112600  \n",
       "28   0.111637   0.171363      0.142933      0.111867  \n",
       "10   0.111049   0.173032      0.142000      0.111067  \n",
       "25   0.092964   0.138166      0.122533      0.095400  \n",
       "27   0.092711   0.133869      0.122133      0.093000  \n",
       "39   0.092436   0.132559      0.121600      0.094267  \n",
       "31   0.092319   0.135197      0.123600      0.095467  \n",
       "33   0.091975   0.134923      0.119200      0.093067  \n",
       "19   0.091842   0.134395      0.122400      0.096000  \n",
       "41   0.091590   0.138157      0.120667      0.094867  \n",
       "37   0.091450   0.133998      0.122400      0.094467  \n",
       "17   0.090247   0.141036      0.120800      0.095067  \n",
       "29   0.089910   0.134271      0.119733      0.093667  \n",
       "1    0.089396   0.138745      0.121467      0.095133  \n",
       "7    0.088461   0.136008      0.118133      0.096667  \n",
       "15   0.088367   0.135763      0.119200      0.095133  \n",
       "5    0.088032   0.134580      0.116533      0.094400  \n",
       "13   0.087357   0.140000      0.120267      0.098867  \n",
       "21   0.087183   0.136813      0.118000      0.096200  \n",
       "35   0.086798   0.133871      0.117600      0.093200  \n",
       "9    0.086488   0.134618      0.118267      0.091600  \n",
       "23   0.084655   0.134714      0.114933      0.091133  \n",
       "11   0.084366   0.139010      0.115733      0.093533  \n",
       "3    0.081943   0.130720      0.111867      0.093467  "
      ]
     },
     "execution_count": 35,
     "metadata": {},
     "output_type": "execute_result"
    }
   ],
   "source": [
    "# Create Dataframe out of the Results of the Hyperparameter Tuning \n",
    "df_tuning_2 = pd.DataFrame({\n",
    "    \"intermediate_dimensions\": int_dimensions,\n",
    "    \"latent_dimensions\": lt_dimensions,\n",
    "    \"annealing\": anneal,\n",
    "    \"batch_size\": batch,\n",
    "    \"recall@10\": recall_10,\n",
    "    \"recall@20\": recall_20,\n",
    "    \"precision@10\":precision_10,\n",
    "    \"precision@20\":precision_20\n",
    "})\n",
    "# Sort Values by recall@10 \n",
    "df_tuning_2.sort_values(by='recall@10', ascending=False)"
   ]
  },
  {
   "cell_type": "code",
   "execution_count": 121,
   "metadata": {},
   "outputs": [
    {
     "data": {
      "text/plain": [
       "annealing\n",
       "True     0.117609\n",
       "False    0.089071\n",
       "Name: recall@10, dtype: float64"
      ]
     },
     "execution_count": 121,
     "metadata": {},
     "output_type": "execute_result"
    }
   ],
   "source": [
    "# Average Performance based on Annealing\n",
    "df_tuning_2.groupby(\"annealing\")['recall@10'].mean().sort_values(ascending=False)"
   ]
  },
  {
   "cell_type": "code",
   "execution_count": 120,
   "metadata": {},
   "outputs": [
    {
     "data": {
      "text/plain": [
       "0.0285381395529882"
      ]
     },
     "execution_count": 120,
     "metadata": {},
     "output_type": "execute_result"
    }
   ],
   "source": [
    "# Difference in Average Performance based on Annealing\n",
    "df_tuning_2.groupby(\"annealing\")['recall@10'].mean().sort_values(ascending=False)[0] - df_tuning_2.groupby(\"annealing\")['recall@10'].mean().sort_values(ascending=False)[1]"
   ]
  },
  {
   "cell_type": "code",
   "execution_count": 124,
   "metadata": {},
   "outputs": [
    {
     "data": {
      "text/plain": [
       "intermediate_dimensions\n",
       "1400    0.120985\n",
       "1300    0.118291\n",
       "1000    0.118213\n",
       "1100    0.118033\n",
       "900     0.116819\n",
       "800     0.116124\n",
       "1200    0.114798\n",
       "Name: recall@10, dtype: float64"
      ]
     },
     "execution_count": 124,
     "metadata": {},
     "output_type": "execute_result"
    }
   ],
   "source": [
    "# Average Performance based on Intermediate Dimension\n",
    "df_tuning_2[df_tuning_2['annealing']==True].groupby(\"intermediate_dimensions\")['recall@10'].mean().sort_values(ascending=False)"
   ]
  },
  {
   "cell_type": "code",
   "execution_count": 125,
   "metadata": {},
   "outputs": [
    {
     "data": {
      "text/plain": [
       "latent_dimensions\n",
       "50    0.120132\n",
       "70    0.117852\n",
       "90    0.114843\n",
       "Name: recall@10, dtype: float64"
      ]
     },
     "execution_count": 125,
     "metadata": {},
     "output_type": "execute_result"
    }
   ],
   "source": [
    "# Average Performance based on Latent Dimension\n",
    "df_tuning_2[df_tuning_2['annealing']==True].groupby(\"latent_dimensions\")['recall@10'].mean().sort_values(ascending=False)"
   ]
  },
  {
   "attachments": {},
   "cell_type": "markdown",
   "metadata": {},
   "source": [
    "# Visualization of Hyperparameter Tuning"
   ]
  },
  {
   "cell_type": "code",
   "execution_count": 117,
   "metadata": {},
   "outputs": [
    {
     "name": "stderr",
     "output_type": "stream",
     "text": [
      "/var/folders/bs/ht_t1wp94tl3wt5xhchcxq2m0000gn/T/ipykernel_25971/1097843002.py:27: DeprecationWarning: In future, it will be an error for 'np.bool_' scalars to be interpreted as an index\n",
      "  marker=marker_shapes[annealing_value],\n"
     ]
    },
    {
     "data": {
      "image/png": "[encoded data removed]",
      "text/plain": [
       "<Figure size 1500x1200 with 1 Axes>"
      ]
     },
     "metadata": {},
     "output_type": "display_data"
    }
   ],
   "source": [
    "import matplotlib.pyplot as plt\n",
    "from mpl_toolkits.mplot3d import Axes3D\n",
    "\n",
    "fig = plt.figure(figsize=(15, 12))\n",
    "plt.rcParams.update({'font.size': 10})\n",
    "ax = fig.add_subplot(projection='3d')\n",
    "\n",
    "x = df_tuning_2.intermediate_dimensions\n",
    "y = df_tuning_2['latent_dimensions']\n",
    "z = df_tuning_2['recall@10']\n",
    "annealing = df_tuning_2['annealing']\n",
    "\n",
    "ax.set_xlabel('Intermediate Dimensions', fontname='Arial', fontsize=12)\n",
    "ax.set_ylabel('Latent Dimensions', fontname='Arial', fontsize=12)\n",
    "ax.set_zlabel('Recall@10', fontname='Arial', fontsize=12)\n",
    "\n",
    "# Define different marker shapes based on the annealing values\n",
    "marker_shapes = ['o', 's'] \n",
    "\n",
    "# Iterate over unique annealing values and plot each separately\n",
    "for annealing_value in annealing.unique():\n",
    "    indices = annealing == annealing_value\n",
    "    ax.scatter(\n",
    "        x[indices],\n",
    "        y[indices],\n",
    "        z[indices],\n",
    "        marker=marker_shapes[annealing_value],\n",
    "        s=50,\n",
    "        label=f'Annealing: {annealing_value}'\n",
    "    )\n",
    "\n",
    "# Add a legend\n",
    "ax.legend()\n",
    "\n",
    "plt.show()\n"
   ]
  },
  {
   "attachments": {},
   "cell_type": "markdown",
   "metadata": {},
   "source": [
    "# Best Model"
   ]
  },
  {
   "cell_type": "code",
   "execution_count": 101,
   "metadata": {},
   "outputs": [],
   "source": [
    "# Initiate Object for Model\n",
    "best_model = Mult_VAE(n_users=train_data.shape[0],\n",
    "                    original_dim=train_data.shape[1],\n",
    "                    intermediate_dim=1400,\n",
    "                    latent_dim=50,\n",
    "                    n_epochs=20,\n",
    "                    batch_size=50,\n",
    "                    k=100,\n",
    "                    verbose=0,\n",
    "                    seed=1,\n",
    "                    save_path=WEIGHTS_PATH,\n",
    "                    drop_encoder=0.5,\n",
    "                    drop_decoder=0.5,\n",
    "                    annealing=True,\n",
    "                    anneal_cap=1.0)"
   ]
  },
  {
   "cell_type": "code",
   "execution_count": 102,
   "metadata": {},
   "outputs": [
    {
     "name": "stdout",
     "output_type": "stream",
     "text": [
      "WARNING:tensorflow:Callback method `on_train_batch_end` is slow compared to the batch time (batch time: 0.0754s vs `on_train_batch_end` time: 0.2028s). Check your callbacks.\n"
     ]
    },
    {
     "name": "stderr",
     "output_type": "stream",
     "text": [
      "/Users/arasdirekoglu/opt/anaconda3/envs/recom/lib/python3.9/site-packages/tensorflow/python/keras/engine/training.py:2325: UserWarning: `Model.state_updates` will be removed in a future version. This property should not be used in TensorFlow 2.0, as `updates` are applied automatically.\n",
      "  warnings.warn('`Model.state_updates` will be removed in a future version. '\n"
     ]
    },
    {
     "name": "stdout",
     "output_type": "stream",
     "text": [
      "Took 107.4368 seconds for training.\n"
     ]
    }
   ],
   "source": [
    "with Timer() as t:\n",
    "    best_model.fit(x_train=train_data, \n",
    "                        x_valid=val_data,\n",
    "                        x_val_tr=val_data_tr, \n",
    "                        x_val_te=val_data_te_ratings, # with the original ratings \n",
    "                        mapper=am_val)\n",
    "print(\"Took {} seconds for training.\".format(t))"
   ]
  },
  {
   "cell_type": "code",
   "execution_count": 103,
   "metadata": {},
   "outputs": [
    {
     "data": {
      "image/png": "[encoded data removed]",
      "text/plain": [
       "<Figure size 1400x500 with 2 Axes>"
      ]
     },
     "metadata": {},
     "output_type": "display_data"
    }
   ],
   "source": [
    "best_model.display_metrics() "
   ]
  }
 ],
 "metadata": {
  "kernelspec": {
   "display_name": "recom",
   "language": "python",
   "name": "python3"
  },
  "language_info": {
   "codemirror_mode": {
    "name": "ipython",
    "version": 3
   },
   "file_extension": ".py",
   "mimetype": "text/x-python",
   "name": "python",
   "nbconvert_exporter": "python",
   "pygments_lexer": "ipython3",
   "version": "3.9.16"
  },
  "orig_nbformat": 4,
  "vscode": {
   "interpreter": {
    "hash": "17afcd9f6960de0a3656d2c4c5dd434deed0eab3cd38c55c3169df3bef50250d"
   }
  }
 },
 "nbformat": 4,
 "nbformat_minor": 2
}
