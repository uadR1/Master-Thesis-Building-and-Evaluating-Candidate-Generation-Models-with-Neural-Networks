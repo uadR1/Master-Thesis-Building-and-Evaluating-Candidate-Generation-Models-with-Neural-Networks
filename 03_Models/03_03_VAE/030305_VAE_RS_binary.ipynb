{
 "cells": [
  {
   "attachments": {},
   "cell_type": "markdown",
   "metadata": {},
   "source": [
    "# Loading Libraries"
   ]
  },
  {
   "cell_type": "code",
   "execution_count": 2,
   "metadata": {},
   "outputs": [],
   "source": [
    "# Pandas & Numpy\n",
    "import pandas as pd\n",
    "import numpy as np \n",
    "\n",
    "# Visualization\n",
    "import seaborn as sns \n",
    "from matplotlib import pyplot as plt \n",
    "\n",
    "# Tensorflow\n",
    "import tensorflow as tf\n",
    "from tensorflow import keras \n",
    "\n",
    "# Affinity Matrix \n",
    "from recommenders.datasets.sparse import AffinityMatrix\n",
    "\n",
    "# Evaluation \n",
    "from recommenders.evaluation.python_evaluation import (\n",
    "    precision_at_k,\n",
    "    recall_at_k,\n",
    "    ndcg_at_k,\n",
    "    map_at_k\n",
    ")\n",
    "from sklearn.metrics import accuracy_score \n",
    "\n",
    "# Recomender Utilities\n",
    "from recommenders.utils.timer import Timer\n",
    "from recommenders.utils.constants import SEED as DEFAULT_SEED\n",
    "from recommenders.utils.python_utils import binarize\n",
    "from recommenders.datasets.python_splitters import numpy_stratified_split\n",
    "from recommenders.datasets.split_utils import min_rating_filter_pandas\n",
    "\n",
    "# Standard VAE Model\n",
    "from recommenders.models.vae.standard_vae import StandardVAE\n",
    "\n",
    "# System & OS\n",
    "import sys\n",
    "import os\n",
    "\n",
    "# Turn of Warnings for Readability \n",
    "import warnings\n",
    "warnings.filterwarnings(\"ignore\")"
   ]
  },
  {
   "attachments": {},
   "cell_type": "markdown",
   "metadata": {},
   "source": [
    "# Import & Read Dataset"
   ]
  },
  {
   "cell_type": "code",
   "execution_count": 3,
   "metadata": {},
   "outputs": [],
   "source": [
    "# Read Train & Test Data\n",
    "train = pd.read_csv(\"../../00_Data/rec_sys_binary_train.csv\", index_col=0)\n",
    "test = pd.read_csv(\"../../00_Data/rec_sys_binary_test.csv\", index_col=0)"
   ]
  },
  {
   "cell_type": "code",
   "execution_count": 4,
   "metadata": {},
   "outputs": [
    {
     "name": "stdout",
     "output_type": "stream",
     "text": [
      "Shape of Train: (137627, 3)\n",
      "Shape of Test: \t (34505, 3)\n"
     ]
    }
   ],
   "source": [
    "# Check Shapes\n",
    "print(\"Shape of Train:\", train.shape)\n",
    "print(\"Shape of Test: \\t\", test.shape)"
   ]
  },
  {
   "cell_type": "code",
   "execution_count": 5,
   "metadata": {},
   "outputs": [
    {
     "name": "stdout",
     "output_type": "stream",
     "text": [
      "Unique Users in Train: 3011\n",
      "Unique Users in Test: 3011\n",
      "Unique Items in Train: 2307\n",
      "Unique Items in Test: 2307\n"
     ]
    }
   ],
   "source": [
    "# Check Number of Unique Items and User in Train & Test \n",
    "print(\"Unique Users in Train:\", train.CustomerID.nunique())\n",
    "print(\"Unique Users in Test:\", test.CustomerID.nunique())\n",
    "print(\"Unique Items in Train:\", train.StockCode.nunique())\n",
    "print(\"Unique Items in Test:\", test.StockCode.nunique())"
   ]
  },
  {
   "cell_type": "code",
   "execution_count": 6,
   "metadata": {},
   "outputs": [],
   "source": [
    "# Concatenate both Dataset again for further Data Preparation\n",
    "df = pd.concat([train, test], axis=0)"
   ]
  },
  {
   "cell_type": "code",
   "execution_count": 7,
   "metadata": {},
   "outputs": [
    {
     "data": {
      "text/plain": [
       "Index(['itemID', 'userID', 'rating'], dtype='object')"
      ]
     },
     "execution_count": 7,
     "metadata": {},
     "output_type": "execute_result"
    }
   ],
   "source": [
    "# Change name of columns \n",
    "df = df.rename(columns={'StockCode':'itemID', 'CustomerID':'userID', 'purchased':'rating'})\n",
    "df.columns"
   ]
  },
  {
   "attachments": {},
   "cell_type": "markdown",
   "metadata": {},
   "source": [
    "# Data Filtering "
   ]
  },
  {
   "cell_type": "code",
   "execution_count": 8,
   "metadata": {},
   "outputs": [
    {
     "name": "stdout",
     "output_type": "stream",
     "text": [
      "(172132, 3)\n"
     ]
    },
    {
     "data": {
      "text/html": [
       "<div>\n",
       "<style scoped>\n",
       "    .dataframe tbody tr th:only-of-type {\n",
       "        vertical-align: middle;\n",
       "    }\n",
       "\n",
       "    .dataframe tbody tr th {\n",
       "        vertical-align: top;\n",
       "    }\n",
       "\n",
       "    .dataframe thead th {\n",
       "        text-align: right;\n",
       "    }\n",
       "</style>\n",
       "<table border=\"1\" class=\"dataframe\">\n",
       "  <thead>\n",
       "    <tr style=\"text-align: right;\">\n",
       "      <th></th>\n",
       "      <th>itemID</th>\n",
       "      <th>userID</th>\n",
       "      <th>rating</th>\n",
       "    </tr>\n",
       "  </thead>\n",
       "  <tbody>\n",
       "    <tr>\n",
       "      <th>159681</th>\n",
       "      <td>84625C</td>\n",
       "      <td>12347</td>\n",
       "      <td>1</td>\n",
       "    </tr>\n",
       "    <tr>\n",
       "      <th>99374</th>\n",
       "      <td>22771</td>\n",
       "      <td>12347</td>\n",
       "      <td>1</td>\n",
       "    </tr>\n",
       "    <tr>\n",
       "      <th>126306</th>\n",
       "      <td>23171</td>\n",
       "      <td>12347</td>\n",
       "      <td>1</td>\n",
       "    </tr>\n",
       "    <tr>\n",
       "      <th>137181</th>\n",
       "      <td>23297</td>\n",
       "      <td>12347</td>\n",
       "      <td>1</td>\n",
       "    </tr>\n",
       "    <tr>\n",
       "      <th>165161</th>\n",
       "      <td>84997B</td>\n",
       "      <td>12347</td>\n",
       "      <td>1</td>\n",
       "    </tr>\n",
       "    <tr>\n",
       "      <th>150628</th>\n",
       "      <td>51014C</td>\n",
       "      <td>12347</td>\n",
       "      <td>1</td>\n",
       "    </tr>\n",
       "    <tr>\n",
       "      <th>95802</th>\n",
       "      <td>22729</td>\n",
       "      <td>12347</td>\n",
       "      <td>1</td>\n",
       "    </tr>\n",
       "    <tr>\n",
       "      <th>78585</th>\n",
       "      <td>22550</td>\n",
       "      <td>12347</td>\n",
       "      <td>1</td>\n",
       "    </tr>\n",
       "    <tr>\n",
       "      <th>138867</th>\n",
       "      <td>23308</td>\n",
       "      <td>12347</td>\n",
       "      <td>1</td>\n",
       "    </tr>\n",
       "    <tr>\n",
       "      <th>2771</th>\n",
       "      <td>20665</td>\n",
       "      <td>12347</td>\n",
       "      <td>1</td>\n",
       "    </tr>\n",
       "  </tbody>\n",
       "</table>\n",
       "</div>"
      ],
      "text/plain": [
       "        itemID  userID  rating\n",
       "159681  84625C   12347       1\n",
       "99374    22771   12347       1\n",
       "126306   23171   12347       1\n",
       "137181   23297   12347       1\n",
       "165161  84997B   12347       1\n",
       "150628  51014C   12347       1\n",
       "95802    22729   12347       1\n",
       "78585    22550   12347       1\n",
       "138867   23308   12347       1\n",
       "2771     20665   12347       1"
      ]
     },
     "execution_count": 8,
     "metadata": {},
     "output_type": "execute_result"
    }
   ],
   "source": [
    "# Binarize the data (only keep ratings >= 0.5)\n",
    "df_preferred = df[df['rating'] > 0.5]\n",
    "print (df_preferred.shape)\n",
    "df_low_rating = df[df['rating'] <= 0.5]\n",
    "\n",
    "\n",
    "# Head of df_preferred\n",
    "df_preferred.head(10)"
   ]
  },
  {
   "cell_type": "code",
   "execution_count": 9,
   "metadata": {},
   "outputs": [],
   "source": [
    "# Keep users who clicked on at least 5 items\n",
    "df = min_rating_filter_pandas(df_preferred, min_rating=5, filter_by=\"user\")\n",
    "\n",
    "# Keep movies that were clicked on by at least on 1 user\n",
    "df = min_rating_filter_pandas(df, min_rating=1, filter_by=\"item\")"
   ]
  },
  {
   "cell_type": "code",
   "execution_count": 10,
   "metadata": {},
   "outputs": [
    {
     "name": "stdout",
     "output_type": "stream",
     "text": [
      "After filtering, there are 172132 interactions between 3011 users and 2307 items (sparsity: 2.478%)\n"
     ]
    }
   ],
   "source": [
    "# Obtain both usercount and itemcount after filtering\n",
    "usercount = df[['userID']].groupby('userID', as_index = False).size()\n",
    "itemcount = df[['itemID']].groupby('itemID', as_index = False).size()\n",
    "\n",
    "# Compute sparsity after filtering\n",
    "sparsity = 1. * df.shape[0] / (usercount.shape[0] * itemcount.shape[0])\n",
    "\n",
    "print(\"After filtering, there are %d interactions between %d users and %d items (sparsity: %.3f%%)\" % \n",
    "      (df.shape[0], usercount.shape[0], itemcount.shape[0], sparsity * 100))"
   ]
  },
  {
   "attachments": {},
   "cell_type": "markdown",
   "metadata": {},
   "source": [
    "# Split Data"
   ]
  },
  {
   "cell_type": "code",
   "execution_count": 11,
   "metadata": {},
   "outputs": [],
   "source": [
    "unique_users = sorted(df.userID.unique())\n",
    "np.random.seed(1)\n",
    "unique_users = np.random.permutation(unique_users)"
   ]
  },
  {
   "cell_type": "code",
   "execution_count": 12,
   "metadata": {},
   "outputs": [
    {
     "name": "stdout",
     "output_type": "stream",
     "text": [
      "Number of unique users: 3011\n",
      "\n",
      "Number of training users: 1807\n",
      "\n",
      "Number of validation users: 602\n",
      "\n",
      "Number of test users: 602\n"
     ]
    }
   ],
   "source": [
    "# Create train/validation/test users\n",
    "n_users = len(unique_users)\n",
    "print(\"Number of unique users:\", n_users)\n",
    "\n",
    "# Calculate 20% of unique Users  \n",
    "users_20_per = round((n_users * 0.2), 0)\n",
    "\n",
    "train_users = unique_users[:(n_users - 602 * 2)]\n",
    "print(\"\\nNumber of training users:\", len(train_users))\n",
    "\n",
    "val_users = unique_users[(n_users - 602 * 2) : (n_users - 602)]\n",
    "print(\"\\nNumber of validation users:\", len(val_users))\n",
    "\n",
    "test_users = unique_users[(n_users - 602):]\n",
    "print(\"\\nNumber of test users:\", len(test_users))"
   ]
  },
  {
   "cell_type": "code",
   "execution_count": 13,
   "metadata": {},
   "outputs": [
    {
     "name": "stdout",
     "output_type": "stream",
     "text": [
      "Number of training observations:  104211\n",
      "\n",
      "Number of validation observations:  34826\n",
      "\n",
      "Number of test observations:  33095\n"
     ]
    }
   ],
   "source": [
    "# For training set keep only users that are in train_users list\n",
    "train_set = df.loc[df['userID'].isin(train_users)]\n",
    "print(\"Number of training observations: \", train_set.shape[0])\n",
    "\n",
    "# For validation set keep only users that are in val_users list\n",
    "val_set = df.loc[df['userID'].isin(val_users)]\n",
    "print(\"\\nNumber of validation observations: \", val_set.shape[0])\n",
    "\n",
    "# For test set keep only users that are in test_users list\n",
    "test_set = df.loc[df['userID'].isin(test_users)]\n",
    "print(\"\\nNumber of test observations: \", test_set.shape[0])\n"
   ]
  },
  {
   "cell_type": "code",
   "execution_count": 14,
   "metadata": {},
   "outputs": [
    {
     "name": "stdout",
     "output_type": "stream",
     "text": [
      "Number of unique items that consumed in training set 2307\n"
     ]
    }
   ],
   "source": [
    "# Obtain list of unique items used in training set\n",
    "unique_train_items = pd.unique(train_set['itemID'])\n",
    "print(\"Number of unique items that consumed in training set\", unique_train_items.size)"
   ]
  },
  {
   "cell_type": "code",
   "execution_count": 15,
   "metadata": {},
   "outputs": [
    {
     "name": "stdout",
     "output_type": "stream",
     "text": [
      "Number of validation observations after filtering:  34826\n",
      "\n",
      "Number of test observations after filtering:  33095\n"
     ]
    }
   ],
   "source": [
    "# For validation set keep only items that used in training set\n",
    "val_set = val_set.loc[val_set['itemID'].isin(unique_train_items)]\n",
    "print(\"Number of validation observations after filtering: \", val_set.shape[0])\n",
    "\n",
    "# For test set keep only movies items used in training set\n",
    "test_set = test_set.loc[test_set['itemID'].isin(unique_train_items)]\n",
    "print(\"\\nNumber of test observations after filtering: \", test_set.shape[0])"
   ]
  },
  {
   "cell_type": "code",
   "execution_count": 37,
   "metadata": {},
   "outputs": [
    {
     "data": {
      "text/plain": [
       "0.20232147421746102"
      ]
     },
     "execution_count": 37,
     "metadata": {},
     "output_type": "execute_result"
    }
   ],
   "source": [
    "val_set.shape[0] / (train_set.shape[0] + val_set.shape[0] + test_set.shape[0])"
   ]
  },
  {
   "attachments": {},
   "cell_type": "markdown",
   "metadata": {},
   "source": [
    "# Click Matrix Generation"
   ]
  },
  {
   "cell_type": "code",
   "execution_count": 17,
   "metadata": {},
   "outputs": [],
   "source": [
    "# Instantiate the sparse matrix generation for train, validation and test sets\n",
    "# use list of unique items from training set for all sets\n",
    "am_train = AffinityMatrix(df=train_set, items_list=unique_train_items)\n",
    "\n",
    "am_val = AffinityMatrix(df=val_set, items_list=unique_train_items)\n",
    "\n",
    "am_test = AffinityMatrix(df=test_set, items_list=unique_train_items)"
   ]
  },
  {
   "cell_type": "code",
   "execution_count": 18,
   "metadata": {},
   "outputs": [
    {
     "name": "stdout",
     "output_type": "stream",
     "text": [
      "(1807, 2307)\n",
      "(602, 2307)\n",
      "(602, 2307)\n"
     ]
    }
   ],
   "source": [
    "# Obtain the sparse matrix for train, validation and test sets\n",
    "train_data, _, _ = am_train.gen_affinity_matrix()\n",
    "print(train_data.shape)\n",
    "\n",
    "val_data, val_map_users, val_map_items = am_val.gen_affinity_matrix()\n",
    "print(val_data.shape)\n",
    "\n",
    "test_data, test_map_users, test_map_items = am_test.gen_affinity_matrix()\n",
    "print(test_data.shape)"
   ]
  },
  {
   "cell_type": "code",
   "execution_count": 19,
   "metadata": {},
   "outputs": [],
   "source": [
    "# Split validation and test data into training and testing parts\n",
    "val_data_tr, val_data_te = numpy_stratified_split(val_data, ratio=0.75, seed=1)\n",
    "test_data_tr, test_data_te = numpy_stratified_split(test_data, ratio=0.75, seed=1)"
   ]
  },
  {
   "cell_type": "code",
   "execution_count": 20,
   "metadata": {},
   "outputs": [],
   "source": [
    "# Binarize train, validation and test data\n",
    "train_data = binarize(a=train_data, threshold=0.5)\n",
    "val_data = binarize(a=val_data, threshold=0.5)\n",
    "test_data = binarize(a=test_data, threshold=0.5)"
   ]
  },
  {
   "cell_type": "code",
   "execution_count": 21,
   "metadata": {},
   "outputs": [],
   "source": [
    "# Binarize validation data: training part  \n",
    "val_data_tr = binarize(a=val_data_tr, threshold=0.5)\n",
    "\n",
    "# Binarize validation data: testing part (save non-binary version in the separate object, will be used for calculating NDCG)\n",
    "val_data_te_ratings = val_data_te.copy()\n",
    "val_data_te = binarize(a=val_data_te, threshold=0.5)"
   ]
  },
  {
   "cell_type": "code",
   "execution_count": 22,
   "metadata": {},
   "outputs": [],
   "source": [
    "# Binarize test data: training part \n",
    "test_data_tr = binarize(a=test_data_tr, threshold=0.5)\n",
    "\n",
    "# Binarize test data: testing part (save non-binary version in the separate object, will be used for calculating NDCG)\n",
    "test_data_te_ratings = test_data_te.copy()\n",
    "test_data_te = binarize(a=test_data_te, threshold=0.5)"
   ]
  },
  {
   "cell_type": "code",
   "execution_count": 23,
   "metadata": {},
   "outputs": [],
   "source": [
    "# retrieve real ratings from initial dataset \n",
    "\n",
    "test_data_te_ratings=pd.DataFrame(test_data_te_ratings)\n",
    "val_data_te_ratings=pd.DataFrame(val_data_te_ratings)\n",
    "\n",
    "for index,i in df_low_rating.iterrows():\n",
    "  user_old= i['userID'] # old value \n",
    "  item_old=i['itemID'] # old value \n",
    "\n",
    "  if (test_map_users.get(user_old) is not None)  and (test_map_items.get(item_old) is not None) :\n",
    "      user_new=test_map_users.get(user_old) # new value \n",
    "      item_new=test_map_items.get(item_old) # new value \n",
    "      rating=i['rating'] \n",
    "      test_data_te_ratings.at[user_new,item_new]= rating   \n",
    "\n",
    "  if (val_map_users.get(user_old) is not None)  and (val_map_items.get(item_old) is not None) :\n",
    "      user_new=val_map_users.get(user_old) # new value \n",
    "      item_new=val_map_items.get(item_old) # new value \n",
    "      rating=i['rating'] \n",
    "      val_data_te_ratings.at[user_new,item_new]= rating   \n",
    "\n",
    "\n",
    "val_data_te_ratings=val_data_te_ratings.to_numpy()    \n",
    "test_data_te_ratings=test_data_te_ratings.to_numpy()    "
   ]
  },
  {
   "attachments": {},
   "cell_type": "markdown",
   "metadata": {},
   "source": [
    "# Shapes & Dimensions after Data Preparation"
   ]
  },
  {
   "cell_type": "code",
   "execution_count": 35,
   "metadata": {},
   "outputs": [
    {
     "name": "stdout",
     "output_type": "stream",
     "text": [
      "Interatons in the Training Set:  104211\n",
      "Interatons in the Validation Set:  34826\n",
      "Interatons in the Test Set:  33095\n"
     ]
    }
   ],
   "source": [
    "print(\"Interatons in the Training Set: \",train_set.shape[0])\n",
    "print(\"Interatons in the Validation Set: \",val_set.shape[0])\n",
    "print(\"Interatons in the Test Set: \",test_set.shape[0])"
   ]
  },
  {
   "cell_type": "code",
   "execution_count": 38,
   "metadata": {},
   "outputs": [
    {
     "name": "stdout",
     "output_type": "stream",
     "text": [
      "Interactions in Validation Training 26129.0\n",
      "Interactions in Validation Test 8697.0\n",
      "Interactions in Test Training 24829.0\n",
      "Interactions in Test Test 8266.0\n"
     ]
    }
   ],
   "source": [
    "# Interactions in Train & Test of Val & Test \n",
    "print(\"Interactions in Validation Training\",val_data_tr.sum())\n",
    "print(\"Interactions in Validation Test\",val_data_te.sum())\n",
    "print(\"Interactions in Test Training\",test_data_tr.sum())\n",
    "print(\"Interactions in Test Test\",test_data_te.sum())"
   ]
  },
  {
   "cell_type": "code",
   "execution_count": 40,
   "metadata": {},
   "outputs": [
    {
     "data": {
      "text/plain": [
       "34826.0"
      ]
     },
     "execution_count": 40,
     "metadata": {},
     "output_type": "execute_result"
    }
   ],
   "source": [
    "val_data_te.sum()+val_data_tr.sum()"
   ]
  },
  {
   "cell_type": "code",
   "execution_count": 25,
   "metadata": {},
   "outputs": [
    {
     "data": {
      "text/plain": [
       "array([0., 1.])"
      ]
     },
     "execution_count": 25,
     "metadata": {},
     "output_type": "execute_result"
    }
   ],
   "source": [
    "np.unique(train_data)"
   ]
  },
  {
   "cell_type": "code",
   "execution_count": 26,
   "metadata": {},
   "outputs": [
    {
     "data": {
      "text/plain": [
       "array([0., 1.])"
      ]
     },
     "execution_count": 26,
     "metadata": {},
     "output_type": "execute_result"
    }
   ],
   "source": [
    "np.unique(val_data)"
   ]
  },
  {
   "cell_type": "code",
   "execution_count": 27,
   "metadata": {},
   "outputs": [
    {
     "data": {
      "text/plain": [
       "array([0., 1.])"
      ]
     },
     "execution_count": 27,
     "metadata": {},
     "output_type": "execute_result"
    }
   ],
   "source": [
    "np.unique(val_data_tr)"
   ]
  },
  {
   "cell_type": "code",
   "execution_count": 28,
   "metadata": {},
   "outputs": [
    {
     "data": {
      "text/plain": [
       "array([0, 1])"
      ]
     },
     "execution_count": 28,
     "metadata": {},
     "output_type": "execute_result"
    }
   ],
   "source": [
    "np.unique(val_data_te_ratings)"
   ]
  },
  {
   "cell_type": "code",
   "execution_count": 29,
   "metadata": {},
   "outputs": [
    {
     "data": {
      "text/plain": [
       "array([0., 1.])"
      ]
     },
     "execution_count": 29,
     "metadata": {},
     "output_type": "execute_result"
    }
   ],
   "source": [
    "np.unique(test_data_tr)"
   ]
  },
  {
   "cell_type": "code",
   "execution_count": 36,
   "metadata": {},
   "outputs": [
    {
     "data": {
      "text/plain": [
       "array([0, 1])"
      ]
     },
     "execution_count": 36,
     "metadata": {},
     "output_type": "execute_result"
    }
   ],
   "source": [
    "np.unique(test_data_te_ratings)"
   ]
  },
  {
   "attachments": {},
   "cell_type": "markdown",
   "metadata": {},
   "source": [
    "# Baseline Model Standard VAE"
   ]
  },
  {
   "cell_type": "code",
   "execution_count": 30,
   "metadata": {},
   "outputs": [],
   "source": [
    "from tensorflow.python.framework.ops import disable_eager_execution\n",
    "\n",
    "disable_eager_execution()"
   ]
  },
  {
   "cell_type": "code",
   "execution_count": 31,
   "metadata": {},
   "outputs": [],
   "source": [
    "from tempfile import TemporaryDirectory\n",
    "\n",
    "tmp_dir = TemporaryDirectory()\n",
    "WEIGHTS_PATH = os.path.join(tmp_dir.name, \"svae_weights.hdf5\")"
   ]
  },
  {
   "cell_type": "code",
   "execution_count": 198,
   "metadata": {},
   "outputs": [],
   "source": [
    "model_without_anneal = StandardVAE(n_users=train_data.shape[0], # Number of unique users in the training set\n",
    "                                   original_dim=train_data.shape[1], # Number of unique items in the training set\n",
    "                                   intermediate_dim=200, \n",
    "                                   latent_dim=70, \n",
    "                                   n_epochs=50, \n",
    "                                   batch_size=100, \n",
    "                                   k=100,\n",
    "                                   verbose=0,\n",
    "                                   seed=1,\n",
    "                                   drop_encoder=0.5,\n",
    "                                   drop_decoder=0.5,\n",
    "                                   annealing=False,\n",
    "                                   beta=1.0,\n",
    "                                   save_path=WEIGHTS_PATH\n",
    "                                   )"
   ]
  },
  {
   "cell_type": "code",
   "execution_count": 199,
   "metadata": {},
   "outputs": [
    {
     "name": "stderr",
     "output_type": "stream",
     "text": [
      "/Users/arasdirekoglu/opt/anaconda3/envs/recom/lib/python3.9/site-packages/tensorflow/python/keras/engine/training.py:2325: UserWarning: `Model.state_updates` will be removed in a future version. This property should not be used in TensorFlow 2.0, as `updates` are applied automatically.\n",
      "  warnings.warn('`Model.state_updates` will be removed in a future version. '\n"
     ]
    },
    {
     "name": "stdout",
     "output_type": "stream",
     "text": [
      "Took 50.1116 seconds for training.\n"
     ]
    }
   ],
   "source": [
    "with Timer() as t:\n",
    "    model_without_anneal.fit(x_train=train_data, \n",
    "                        x_valid=val_data,\n",
    "                        x_val_tr=val_data_tr, \n",
    "                        x_val_te=val_data_te_ratings, # with the original ratings \n",
    "                        mapper=am_val)\n",
    "print(\"Took {} seconds for training.\".format(t))"
   ]
  },
  {
   "cell_type": "code",
   "execution_count": 200,
   "metadata": {},
   "outputs": [
    {
     "data": {
      "image/png": "[encoded data removed]",
      "text/plain": [
       "<Figure size 1400x500 with 2 Axes>"
      ]
     },
     "metadata": {},
     "output_type": "display_data"
    }
   ],
   "source": [
    "model_without_anneal.display_metrics() "
   ]
  },
  {
   "cell_type": "code",
   "execution_count": 201,
   "metadata": {},
   "outputs": [
    {
     "name": "stdout",
     "output_type": "stream",
     "text": [
      "Took 0.3051 seconds for prediction.\n",
      "MAP@10:\t\t0.016158\n",
      "NDCG@10:\t0.068352\n",
      "Precision@10:\t0.057200\n",
      "Recall@10: \t0.039989\n"
     ]
    }
   ],
   "source": [
    "# Use k = 10\n",
    "with Timer() as t:\n",
    "    # Model prediction on the training part of test set \n",
    "    top_k =  model_without_anneal.recommend_k_items(x=test_data_tr,\n",
    "                                                    k=10,\n",
    "                                                    remove_seen=True\n",
    "                                                    )\n",
    "\n",
    "    # Convert sparse matrix back to df\n",
    "    top_k_df = am_test.map_back_sparse(top_k, kind='prediction')\n",
    "    test_df = am_test.map_back_sparse(test_data_te_ratings, kind='ratings') # use test_data_te_, with the original ratings\n",
    "    \n",
    "print(\"Took {} seconds for prediction.\".format(t))\n",
    "\n",
    "# Use the ranking metrics for evaluation\n",
    "eval_map_1 = map_at_k(test_df, top_k_df, col_prediction='prediction', k=10)\n",
    "eval_ndcg_1 = ndcg_at_k(test_df, top_k_df, col_prediction='prediction', k=10)\n",
    "eval_precision_1 = precision_at_k(test_df, top_k_df, col_prediction='prediction', k=10)\n",
    "eval_recall_1 = recall_at_k(test_df, top_k_df, col_prediction='prediction', k=10)\n",
    "\n",
    "print(\"MAP@10:\\t\\t%f\" % eval_map_1,\n",
    "      \"NDCG@10:\\t%f\" % eval_ndcg_1,\n",
    "      \"Precision@10:\\t%f\" % eval_precision_1,\n",
    "      \"Recall@10: \\t%f\" % eval_recall_1, sep='\\n')"
   ]
  },
  {
   "attachments": {},
   "cell_type": "markdown",
   "metadata": {},
   "source": [
    "# Hyperparameter Tuning"
   ]
  },
  {
   "cell_type": "code",
   "execution_count": 39,
   "metadata": {},
   "outputs": [],
   "source": [
    "from tensorflow.python.framework.ops import disable_eager_execution\n",
    "\n",
    "disable_eager_execution()"
   ]
  },
  {
   "cell_type": "code",
   "execution_count": 40,
   "metadata": {},
   "outputs": [],
   "source": [
    "from tempfile import TemporaryDirectory\n",
    "\n",
    "tmp_dir = TemporaryDirectory()\n",
    "WEIGHTS_PATH = os.path.join(tmp_dir.name, \"svae_weights.hdf5\")"
   ]
  },
  {
   "cell_type": "code",
   "execution_count": 41,
   "metadata": {},
   "outputs": [
    {
     "name": "stderr",
     "output_type": "stream",
     "text": [
      "2023-06-09 12:18:39.514619: I tensorflow/core/platform/cpu_feature_guard.cc:142] This TensorFlow binary is optimized with oneAPI Deep Neural Network Library (oneDNN) to use the following CPU instructions in performance-critical operations:  SSE4.1 SSE4.2\n",
      "To enable them in other operations, rebuild TensorFlow with the appropriate compiler flags.\n",
      "2023-06-09 12:18:39.530365: I tensorflow/compiler/mlir/mlir_graph_optimization_pass.cc:196] None of the MLIR optimization passes are enabled (registered 0 passes)\n"
     ]
    },
    {
     "name": "stdout",
     "output_type": "stream",
     "text": [
      "Recall@10 for Intermediate Dim:  200 Latent Dim:  50 Batch size:  50 Annealing:  True :\t 0.044938237083217564\n",
      "Recall@20 for Intermediate Dim:  200 Latent Dim:  50 Batch size:  50 Annealing:  True :\t 0.07232284592021879\n",
      "Recall@10 for Intermediate Dim:  200 Latent Dim:  50 Batch size:  50 Annealing:  False :\t 0.046281807326202004\n",
      "Recall@20 for Intermediate Dim:  200 Latent Dim:  50 Batch size:  50 Annealing:  False :\t 0.07330781552877366\n",
      "Recall@10 for Intermediate Dim:  200 Latent Dim:  50 Batch size:  100 Annealing:  True :\t 0.046200468381719206\n",
      "Recall@20 for Intermediate Dim:  200 Latent Dim:  50 Batch size:  100 Annealing:  True :\t 0.07046558166820464\n",
      "Recall@10 for Intermediate Dim:  200 Latent Dim:  50 Batch size:  100 Annealing:  False :\t 0.0448829031938658\n",
      "Recall@20 for Intermediate Dim:  200 Latent Dim:  50 Batch size:  100 Annealing:  False :\t 0.07530405214253777\n",
      "Recall@10 for Intermediate Dim:  200 Latent Dim:  50 Batch size:  200 Annealing:  True :\t 0.043629162987341714\n",
      "Recall@20 for Intermediate Dim:  200 Latent Dim:  50 Batch size:  200 Annealing:  True :\t 0.07078327259588008\n",
      "Recall@10 for Intermediate Dim:  200 Latent Dim:  50 Batch size:  200 Annealing:  False :\t 0.042363933202967614\n",
      "Recall@20 for Intermediate Dim:  200 Latent Dim:  50 Batch size:  200 Annealing:  False :\t 0.07223504629314602\n",
      "WARNING:tensorflow:Callback method `on_train_batch_end` is slow compared to the batch time (batch time: 0.0083s vs `on_train_batch_end` time: 0.0204s). Check your callbacks.\n",
      "Recall@10 for Intermediate Dim:  200 Latent Dim:  70 Batch size:  50 Annealing:  True :\t 0.044911532043014166\n",
      "Recall@20 for Intermediate Dim:  200 Latent Dim:  70 Batch size:  50 Annealing:  True :\t 0.07310880802772723\n",
      "Recall@10 for Intermediate Dim:  200 Latent Dim:  70 Batch size:  50 Annealing:  False :\t 0.04545495018061502\n",
      "Recall@20 for Intermediate Dim:  200 Latent Dim:  70 Batch size:  50 Annealing:  False :\t 0.07395946309507574\n",
      "WARNING:tensorflow:Callback method `on_train_batch_end` is slow compared to the batch time (batch time: 0.0136s vs `on_train_batch_end` time: 0.0259s). Check your callbacks.\n",
      "Recall@10 for Intermediate Dim:  200 Latent Dim:  70 Batch size:  100 Annealing:  True :\t 0.04642036289581686\n",
      "Recall@20 for Intermediate Dim:  200 Latent Dim:  70 Batch size:  100 Annealing:  True :\t 0.07165187804261607\n",
      "Recall@10 for Intermediate Dim:  200 Latent Dim:  70 Batch size:  100 Annealing:  False :\t 0.0450377074930756\n",
      "Recall@20 for Intermediate Dim:  200 Latent Dim:  70 Batch size:  100 Annealing:  False :\t 0.07115984623130564\n",
      "Recall@10 for Intermediate Dim:  200 Latent Dim:  70 Batch size:  200 Annealing:  True :\t 0.043118103052167484\n",
      "Recall@20 for Intermediate Dim:  200 Latent Dim:  70 Batch size:  200 Annealing:  True :\t 0.07102982184747855\n",
      "Recall@10 for Intermediate Dim:  200 Latent Dim:  70 Batch size:  200 Annealing:  False :\t 0.043551140989821935\n",
      "Recall@20 for Intermediate Dim:  200 Latent Dim:  70 Batch size:  200 Annealing:  False :\t 0.07345513603779119\n",
      "WARNING:tensorflow:Callback method `on_train_batch_end` is slow compared to the batch time (batch time: 0.0088s vs `on_train_batch_end` time: 0.0366s). Check your callbacks.\n",
      "Recall@10 for Intermediate Dim:  200 Latent Dim:  90 Batch size:  50 Annealing:  True :\t 0.04439464600756907\n",
      "Recall@20 for Intermediate Dim:  200 Latent Dim:  90 Batch size:  50 Annealing:  True :\t 0.07264323693390114\n",
      "Recall@10 for Intermediate Dim:  200 Latent Dim:  90 Batch size:  50 Annealing:  False :\t 0.04409596246201156\n",
      "Recall@20 for Intermediate Dim:  200 Latent Dim:  90 Batch size:  50 Annealing:  False :\t 0.07300069663219758\n",
      "WARNING:tensorflow:Callback method `on_train_batch_end` is slow compared to the batch time (batch time: 0.0136s vs `on_train_batch_end` time: 0.0458s). Check your callbacks.\n",
      "Recall@10 for Intermediate Dim:  200 Latent Dim:  90 Batch size:  100 Annealing:  True :\t 0.04486412572856116\n",
      "Recall@20 for Intermediate Dim:  200 Latent Dim:  90 Batch size:  100 Annealing:  True :\t 0.07431233469180773\n",
      "Recall@10 for Intermediate Dim:  200 Latent Dim:  90 Batch size:  100 Annealing:  False :\t 0.045406898358533045\n",
      "Recall@20 for Intermediate Dim:  200 Latent Dim:  90 Batch size:  100 Annealing:  False :\t 0.07251642834719914\n",
      "WARNING:tensorflow:Callback method `on_train_batch_end` is slow compared to the batch time (batch time: 0.0229s vs `on_train_batch_end` time: 0.0544s). Check your callbacks.\n",
      "Recall@10 for Intermediate Dim:  200 Latent Dim:  90 Batch size:  200 Annealing:  True :\t 0.04246494504994731\n",
      "Recall@20 for Intermediate Dim:  200 Latent Dim:  90 Batch size:  200 Annealing:  True :\t 0.07117381320114309\n",
      "Recall@10 for Intermediate Dim:  200 Latent Dim:  90 Batch size:  200 Annealing:  False :\t 0.04262146599828104\n",
      "Recall@20 for Intermediate Dim:  200 Latent Dim:  90 Batch size:  200 Annealing:  False :\t 0.07055918134686498\n",
      "WARNING:tensorflow:Callback method `on_train_batch_end` is slow compared to the batch time (batch time: 0.0125s vs `on_train_batch_end` time: 0.0547s). Check your callbacks.\n",
      "Recall@10 for Intermediate Dim:  400 Latent Dim:  50 Batch size:  50 Annealing:  True :\t 0.06156747273609467\n",
      "Recall@20 for Intermediate Dim:  400 Latent Dim:  50 Batch size:  50 Annealing:  True :\t 0.09853085601583011\n",
      "Recall@10 for Intermediate Dim:  400 Latent Dim:  50 Batch size:  50 Annealing:  False :\t 0.061417611404361534\n",
      "Recall@20 for Intermediate Dim:  400 Latent Dim:  50 Batch size:  50 Annealing:  False :\t 0.09655493984197246\n",
      "WARNING:tensorflow:Callback method `on_train_batch_end` is slow compared to the batch time (batch time: 0.0209s vs `on_train_batch_end` time: 0.0621s). Check your callbacks.\n",
      "Recall@10 for Intermediate Dim:  400 Latent Dim:  50 Batch size:  100 Annealing:  True :\t 0.047359248414748485\n",
      "Recall@20 for Intermediate Dim:  400 Latent Dim:  50 Batch size:  100 Annealing:  True :\t 0.07743964327944942\n",
      "Recall@10 for Intermediate Dim:  400 Latent Dim:  50 Batch size:  100 Annealing:  False :\t 0.05343669830143719\n",
      "Recall@20 for Intermediate Dim:  400 Latent Dim:  50 Batch size:  100 Annealing:  False :\t 0.0844185128390119\n",
      "WARNING:tensorflow:Callback method `on_train_batch_end` is slow compared to the batch time (batch time: 0.0322s vs `on_train_batch_end` time: 0.0677s). Check your callbacks.\n",
      "Recall@10 for Intermediate Dim:  400 Latent Dim:  50 Batch size:  200 Annealing:  True :\t 0.0445801019572975\n",
      "Recall@20 for Intermediate Dim:  400 Latent Dim:  50 Batch size:  200 Annealing:  True :\t 0.07565263904532163\n",
      "Recall@10 for Intermediate Dim:  400 Latent Dim:  50 Batch size:  200 Annealing:  False :\t 0.04799622815537127\n",
      "Recall@20 for Intermediate Dim:  400 Latent Dim:  50 Batch size:  200 Annealing:  False :\t 0.07402874208265353\n",
      "WARNING:tensorflow:Callback method `on_train_batch_end` is slow compared to the batch time (batch time: 0.0136s vs `on_train_batch_end` time: 0.0738s). Check your callbacks.\n",
      "Recall@10 for Intermediate Dim:  400 Latent Dim:  70 Batch size:  50 Annealing:  True :\t 0.06259228065055135\n",
      "Recall@20 for Intermediate Dim:  400 Latent Dim:  70 Batch size:  50 Annealing:  True :\t 0.10257157404796043\n",
      "Recall@10 for Intermediate Dim:  400 Latent Dim:  70 Batch size:  50 Annealing:  False :\t 0.060070045550453796\n",
      "Recall@20 for Intermediate Dim:  400 Latent Dim:  70 Batch size:  50 Annealing:  False :\t 0.09344264738932104\n",
      "WARNING:tensorflow:Callback method `on_train_batch_end` is slow compared to the batch time (batch time: 0.0213s vs `on_train_batch_end` time: 0.0798s). Check your callbacks.\n",
      "Recall@10 for Intermediate Dim:  400 Latent Dim:  70 Batch size:  100 Annealing:  True :\t 0.04599969043712302\n",
      "Recall@20 for Intermediate Dim:  400 Latent Dim:  70 Batch size:  100 Annealing:  True :\t 0.07220643609256312\n",
      "Recall@10 for Intermediate Dim:  400 Latent Dim:  70 Batch size:  100 Annealing:  False :\t 0.0483480088020732\n",
      "Recall@20 for Intermediate Dim:  400 Latent Dim:  70 Batch size:  100 Annealing:  False :\t 0.07827063375599236\n",
      "WARNING:tensorflow:Callback method `on_train_batch_end` is slow compared to the batch time (batch time: 0.0317s vs `on_train_batch_end` time: 0.0860s). Check your callbacks.\n",
      "Recall@10 for Intermediate Dim:  400 Latent Dim:  70 Batch size:  200 Annealing:  True :\t 0.04386957899059653\n",
      "Recall@20 for Intermediate Dim:  400 Latent Dim:  70 Batch size:  200 Annealing:  True :\t 0.07425291642877656\n",
      "Recall@10 for Intermediate Dim:  400 Latent Dim:  70 Batch size:  200 Annealing:  False :\t 0.043648675121083357\n",
      "Recall@20 for Intermediate Dim:  400 Latent Dim:  70 Batch size:  200 Annealing:  False :\t 0.07428485065864038\n",
      "WARNING:tensorflow:Callback method `on_train_batch_end` is slow compared to the batch time (batch time: 0.0127s vs `on_train_batch_end` time: 0.0923s). Check your callbacks.\n",
      "Recall@10 for Intermediate Dim:  400 Latent Dim:  90 Batch size:  50 Annealing:  True :\t 0.06182867146756039\n",
      "Recall@20 for Intermediate Dim:  400 Latent Dim:  90 Batch size:  50 Annealing:  True :\t 0.09509800297107787\n",
      "Recall@10 for Intermediate Dim:  400 Latent Dim:  90 Batch size:  50 Annealing:  False :\t 0.05476127273683641\n",
      "Recall@20 for Intermediate Dim:  400 Latent Dim:  90 Batch size:  50 Annealing:  False :\t 0.08980214372062079\n",
      "WARNING:tensorflow:Callback method `on_train_batch_end` is slow compared to the batch time (batch time: 0.0220s vs `on_train_batch_end` time: 0.1005s). Check your callbacks.\n",
      "Recall@10 for Intermediate Dim:  400 Latent Dim:  90 Batch size:  100 Annealing:  True :\t 0.04493533867470009\n",
      "Recall@20 for Intermediate Dim:  400 Latent Dim:  90 Batch size:  100 Annealing:  True :\t 0.0745403120208817\n",
      "Recall@10 for Intermediate Dim:  400 Latent Dim:  90 Batch size:  100 Annealing:  False :\t 0.04836821246012876\n",
      "Recall@20 for Intermediate Dim:  400 Latent Dim:  90 Batch size:  100 Annealing:  False :\t 0.07557605236893901\n",
      "WARNING:tensorflow:Callback method `on_train_batch_end` is slow compared to the batch time (batch time: 0.0354s vs `on_train_batch_end` time: 0.1091s). Check your callbacks.\n",
      "Recall@10 for Intermediate Dim:  400 Latent Dim:  90 Batch size:  200 Annealing:  True :\t 0.043682350608286936\n",
      "Recall@20 for Intermediate Dim:  400 Latent Dim:  90 Batch size:  200 Annealing:  True :\t 0.07036429484749458\n",
      "Recall@10 for Intermediate Dim:  400 Latent Dim:  90 Batch size:  200 Annealing:  False :\t 0.04588978724782024\n",
      "Recall@20 for Intermediate Dim:  400 Latent Dim:  90 Batch size:  200 Annealing:  False :\t 0.0702126069395444\n",
      "WARNING:tensorflow:Callback method `on_train_batch_end` is slow compared to the batch time (batch time: 0.0170s vs `on_train_batch_end` time: 0.1145s). Check your callbacks.\n",
      "Recall@10 for Intermediate Dim:  600 Latent Dim:  50 Batch size:  50 Annealing:  True :\t 0.07904311578824479\n",
      "Recall@20 for Intermediate Dim:  600 Latent Dim:  50 Batch size:  50 Annealing:  True :\t 0.11780996217163316\n",
      "Recall@10 for Intermediate Dim:  600 Latent Dim:  50 Batch size:  50 Annealing:  False :\t 0.06865606799730148\n",
      "Recall@20 for Intermediate Dim:  600 Latent Dim:  50 Batch size:  50 Annealing:  False :\t 0.11009990944575157\n",
      "WARNING:tensorflow:Callback method `on_train_batch_end` is slow compared to the batch time (batch time: 0.0296s vs `on_train_batch_end` time: 0.1182s). Check your callbacks.\n",
      "Recall@10 for Intermediate Dim:  600 Latent Dim:  50 Batch size:  100 Annealing:  True :\t 0.05348444592238876\n",
      "Recall@20 for Intermediate Dim:  600 Latent Dim:  50 Batch size:  100 Annealing:  True :\t 0.08220496777282134\n",
      "Recall@10 for Intermediate Dim:  600 Latent Dim:  50 Batch size:  100 Annealing:  False :\t 0.05693395143391323\n",
      "Recall@20 for Intermediate Dim:  600 Latent Dim:  50 Batch size:  100 Annealing:  False :\t 0.09762052244903033\n",
      "WARNING:tensorflow:Callback method `on_train_batch_end` is slow compared to the batch time (batch time: 0.0440s vs `on_train_batch_end` time: 0.1261s). Check your callbacks.\n",
      "Recall@10 for Intermediate Dim:  600 Latent Dim:  50 Batch size:  200 Annealing:  True :\t 0.04799372520625547\n",
      "Recall@20 for Intermediate Dim:  600 Latent Dim:  50 Batch size:  200 Annealing:  True :\t 0.07734736444113217\n",
      "Recall@10 for Intermediate Dim:  600 Latent Dim:  50 Batch size:  200 Annealing:  False :\t 0.04868259248482306\n",
      "Recall@20 for Intermediate Dim:  600 Latent Dim:  50 Batch size:  200 Annealing:  False :\t 0.07793043977561545\n",
      "WARNING:tensorflow:Callback method `on_train_batch_end` is slow compared to the batch time (batch time: 0.0176s vs `on_train_batch_end` time: 0.1315s). Check your callbacks.\n",
      "Recall@10 for Intermediate Dim:  600 Latent Dim:  70 Batch size:  50 Annealing:  True :\t 0.07563562629831258\n",
      "Recall@20 for Intermediate Dim:  600 Latent Dim:  70 Batch size:  50 Annealing:  True :\t 0.1152948531257654\n",
      "Recall@10 for Intermediate Dim:  600 Latent Dim:  70 Batch size:  50 Annealing:  False :\t 0.06216851554637995\n",
      "Recall@20 for Intermediate Dim:  600 Latent Dim:  70 Batch size:  50 Annealing:  False :\t 0.10205563837283446\n",
      "WARNING:tensorflow:Callback method `on_train_batch_end` is slow compared to the batch time (batch time: 0.0312s vs `on_train_batch_end` time: 0.1374s). Check your callbacks.\n",
      "Recall@10 for Intermediate Dim:  600 Latent Dim:  70 Batch size:  100 Annealing:  True :\t 0.05945132215524293\n",
      "Recall@20 for Intermediate Dim:  600 Latent Dim:  70 Batch size:  100 Annealing:  True :\t 0.09829371224257291\n",
      "Recall@10 for Intermediate Dim:  600 Latent Dim:  70 Batch size:  100 Annealing:  False :\t 0.05558473942161726\n",
      "Recall@20 for Intermediate Dim:  600 Latent Dim:  70 Batch size:  100 Annealing:  False :\t 0.08240661822904179\n",
      "WARNING:tensorflow:Callback method `on_train_batch_end` is slow compared to the batch time (batch time: 0.0460s vs `on_train_batch_end` time: 0.1409s). Check your callbacks.\n",
      "Recall@10 for Intermediate Dim:  600 Latent Dim:  70 Batch size:  200 Annealing:  True :\t 0.04563591271122564\n",
      "Recall@20 for Intermediate Dim:  600 Latent Dim:  70 Batch size:  200 Annealing:  True :\t 0.07350931409133674\n",
      "Recall@10 for Intermediate Dim:  600 Latent Dim:  70 Batch size:  200 Annealing:  False :\t 0.04679943997155341\n",
      "Recall@20 for Intermediate Dim:  600 Latent Dim:  70 Batch size:  200 Annealing:  False :\t 0.07092759785008888\n",
      "WARNING:tensorflow:Callback method `on_train_batch_end` is slow compared to the batch time (batch time: 0.0179s vs `on_train_batch_end` time: 0.1488s). Check your callbacks.\n",
      "Recall@10 for Intermediate Dim:  600 Latent Dim:  90 Batch size:  50 Annealing:  True :\t 0.06362001354770758\n",
      "Recall@20 for Intermediate Dim:  600 Latent Dim:  90 Batch size:  50 Annealing:  True :\t 0.10691935782310992\n",
      "Recall@10 for Intermediate Dim:  600 Latent Dim:  90 Batch size:  50 Annealing:  False :\t 0.060311036889193384\n",
      "Recall@20 for Intermediate Dim:  600 Latent Dim:  90 Batch size:  50 Annealing:  False :\t 0.09899245769075592\n",
      "WARNING:tensorflow:Callback method `on_train_batch_end` is slow compared to the batch time (batch time: 0.0310s vs `on_train_batch_end` time: 0.1576s). Check your callbacks.\n",
      "Recall@10 for Intermediate Dim:  600 Latent Dim:  90 Batch size:  100 Annealing:  True :\t 0.0568952591282044\n",
      "Recall@20 for Intermediate Dim:  600 Latent Dim:  90 Batch size:  100 Annealing:  True :\t 0.08742961437827435\n",
      "Recall@10 for Intermediate Dim:  600 Latent Dim:  90 Batch size:  100 Annealing:  False :\t 0.055434674010768875\n",
      "Recall@20 for Intermediate Dim:  600 Latent Dim:  90 Batch size:  100 Annealing:  False :\t 0.0847196157712148\n",
      "WARNING:tensorflow:Callback method `on_train_batch_end` is slow compared to the batch time (batch time: 0.0497s vs `on_train_batch_end` time: 0.1590s). Check your callbacks.\n",
      "Recall@10 for Intermediate Dim:  600 Latent Dim:  90 Batch size:  200 Annealing:  True :\t 0.04718855910038835\n",
      "Recall@20 for Intermediate Dim:  600 Latent Dim:  90 Batch size:  200 Annealing:  True :\t 0.07401335053443636\n",
      "Recall@10 for Intermediate Dim:  600 Latent Dim:  90 Batch size:  200 Annealing:  False :\t 0.04670485181441228\n",
      "Recall@20 for Intermediate Dim:  600 Latent Dim:  90 Batch size:  200 Annealing:  False :\t 0.07614294803639976\n",
      "WARNING:tensorflow:Callback method `on_train_batch_end` is slow compared to the batch time (batch time: 0.0212s vs `on_train_batch_end` time: 0.1645s). Check your callbacks.\n",
      "Recall@10 for Intermediate Dim:  800 Latent Dim:  50 Batch size:  50 Annealing:  True :\t 0.07896412878200718\n",
      "Recall@20 for Intermediate Dim:  800 Latent Dim:  50 Batch size:  50 Annealing:  True :\t 0.12151404408710625\n",
      "Recall@10 for Intermediate Dim:  800 Latent Dim:  50 Batch size:  50 Annealing:  False :\t 0.06847034786661861\n",
      "Recall@20 for Intermediate Dim:  800 Latent Dim:  50 Batch size:  50 Annealing:  False :\t 0.11156864919631329\n",
      "WARNING:tensorflow:Callback method `on_train_batch_end` is slow compared to the batch time (batch time: 0.0352s vs `on_train_batch_end` time: 0.1717s). Check your callbacks.\n",
      "Recall@10 for Intermediate Dim:  800 Latent Dim:  50 Batch size:  100 Annealing:  True :\t 0.06332978517938158\n",
      "Recall@20 for Intermediate Dim:  800 Latent Dim:  50 Batch size:  100 Annealing:  True :\t 0.10537063538588817\n",
      "Recall@10 for Intermediate Dim:  800 Latent Dim:  50 Batch size:  100 Annealing:  False :\t 0.060892261797191226\n",
      "Recall@20 for Intermediate Dim:  800 Latent Dim:  50 Batch size:  100 Annealing:  False :\t 0.09696118818976933\n",
      "WARNING:tensorflow:Callback method `on_train_batch_end` is slow compared to the batch time (batch time: 0.0743s vs `on_train_batch_end` time: 0.1892s). Check your callbacks.\n",
      "Recall@10 for Intermediate Dim:  800 Latent Dim:  50 Batch size:  200 Annealing:  True :\t 0.04834174021407776\n",
      "Recall@20 for Intermediate Dim:  800 Latent Dim:  50 Batch size:  200 Annealing:  True :\t 0.07808627027233203\n",
      "Recall@10 for Intermediate Dim:  800 Latent Dim:  50 Batch size:  200 Annealing:  False :\t 0.05114865190214721\n",
      "Recall@20 for Intermediate Dim:  800 Latent Dim:  50 Batch size:  200 Annealing:  False :\t 0.080931198859359\n",
      "WARNING:tensorflow:Callback method `on_train_batch_end` is slow compared to the batch time (batch time: 0.0247s vs `on_train_batch_end` time: 0.2017s). Check your callbacks.\n",
      "Recall@10 for Intermediate Dim:  800 Latent Dim:  70 Batch size:  50 Annealing:  True :\t 0.07586050088474872\n",
      "Recall@20 for Intermediate Dim:  800 Latent Dim:  70 Batch size:  50 Annealing:  True :\t 0.10863265397360246\n",
      "Recall@10 for Intermediate Dim:  800 Latent Dim:  70 Batch size:  50 Annealing:  False :\t 0.06330354042697893\n",
      "Recall@20 for Intermediate Dim:  800 Latent Dim:  70 Batch size:  50 Annealing:  False :\t 0.11106030770773506\n",
      "WARNING:tensorflow:Callback method `on_train_batch_end` is slow compared to the batch time (batch time: 0.0579s vs `on_train_batch_end` time: 0.2132s). Check your callbacks.\n",
      "Recall@10 for Intermediate Dim:  800 Latent Dim:  70 Batch size:  100 Annealing:  True :\t 0.06059906119136498\n",
      "Recall@20 for Intermediate Dim:  800 Latent Dim:  70 Batch size:  100 Annealing:  True :\t 0.10090023647944632\n",
      "Recall@10 for Intermediate Dim:  800 Latent Dim:  70 Batch size:  100 Annealing:  False :\t 0.062177387798680345\n",
      "Recall@20 for Intermediate Dim:  800 Latent Dim:  70 Batch size:  100 Annealing:  False :\t 0.09647713692935496\n",
      "WARNING:tensorflow:Callback method `on_train_batch_end` is slow compared to the batch time (batch time: 0.0584s vs `on_train_batch_end` time: 0.1951s). Check your callbacks.\n",
      "Recall@10 for Intermediate Dim:  800 Latent Dim:  70 Batch size:  200 Annealing:  True :\t 0.04714044543847867\n",
      "Recall@20 for Intermediate Dim:  800 Latent Dim:  70 Batch size:  200 Annealing:  True :\t 0.08018491872215999\n",
      "Recall@10 for Intermediate Dim:  800 Latent Dim:  70 Batch size:  200 Annealing:  False :\t 0.05057456247081908\n",
      "Recall@20 for Intermediate Dim:  800 Latent Dim:  70 Batch size:  200 Annealing:  False :\t 0.0841173211113937\n",
      "WARNING:tensorflow:Callback method `on_train_batch_end` is slow compared to the batch time (batch time: 0.0364s vs `on_train_batch_end` time: 0.2096s). Check your callbacks.\n",
      "Recall@10 for Intermediate Dim:  800 Latent Dim:  90 Batch size:  50 Annealing:  True :\t 0.07445391713433555\n",
      "Recall@20 for Intermediate Dim:  800 Latent Dim:  90 Batch size:  50 Annealing:  True :\t 0.1157840833605\n",
      "Recall@10 for Intermediate Dim:  800 Latent Dim:  90 Batch size:  50 Annealing:  False :\t 0.0661999666648932\n",
      "Recall@20 for Intermediate Dim:  800 Latent Dim:  90 Batch size:  50 Annealing:  False :\t 0.10492262870395531\n",
      "WARNING:tensorflow:Callback method `on_train_batch_end` is slow compared to the batch time (batch time: 0.0502s vs `on_train_batch_end` time: 0.2103s). Check your callbacks.\n",
      "Recall@10 for Intermediate Dim:  800 Latent Dim:  90 Batch size:  100 Annealing:  True :\t 0.06728208610600747\n",
      "Recall@20 for Intermediate Dim:  800 Latent Dim:  90 Batch size:  100 Annealing:  True :\t 0.10205983401200061\n",
      "Recall@10 for Intermediate Dim:  800 Latent Dim:  90 Batch size:  100 Annealing:  False :\t 0.06240080287188\n",
      "Recall@20 for Intermediate Dim:  800 Latent Dim:  90 Batch size:  100 Annealing:  False :\t 0.09320773386236027\n",
      "WARNING:tensorflow:Callback method `on_train_batch_end` is slow compared to the batch time (batch time: 0.0579s vs `on_train_batch_end` time: 0.2172s). Check your callbacks.\n",
      "Recall@10 for Intermediate Dim:  800 Latent Dim:  90 Batch size:  200 Annealing:  True :\t 0.04676378947288987\n",
      "Recall@20 for Intermediate Dim:  800 Latent Dim:  90 Batch size:  200 Annealing:  True :\t 0.0714783818882351\n",
      "Recall@10 for Intermediate Dim:  800 Latent Dim:  90 Batch size:  200 Annealing:  False :\t 0.04835285452297407\n",
      "Recall@20 for Intermediate Dim:  800 Latent Dim:  90 Batch size:  200 Annealing:  False :\t 0.0808174705969939\n"
     ]
    }
   ],
   "source": [
    "# Set up Parameters\n",
    "intermediate_dimension = [200, 400, 600, 800] \n",
    "latent_dimension = [50, 70, 90] \n",
    "batch_sizes = [50, 100, 200]\n",
    "anneal_status = [True, False]\n",
    "\n",
    "# Initiate Lists for Assessment\n",
    "recall_10 = []\n",
    "recall_20 = []\n",
    "precision_10 = []\n",
    "precision_20 = []\n",
    "int_dimensions = []\n",
    "lt_dimensions = []\n",
    "anneal = []\n",
    "batch = []\n",
    "\n",
    "for i in intermediate_dimension:\n",
    "    for l in latent_dimension:\n",
    "        for b in batch_sizes:\n",
    "            for a in anneal_status:\n",
    "                try:\n",
    "                    del(model)\n",
    "                except:\n",
    "                    pass\n",
    "                \n",
    "                # Initiate Model \n",
    "                if a == True:\n",
    "                    model = StandardVAE(n_users=train_data.shape[0],\n",
    "                                        original_dim=train_data.shape[1],\n",
    "                                        intermediate_dim=i,\n",
    "                                        latent_dim=l,\n",
    "                                        n_epochs=100,\n",
    "                                        batch_size=b,\n",
    "                                        k=100,\n",
    "                                        verbose=0,\n",
    "                                        seed=1,\n",
    "                                        save_path=WEIGHTS_PATH,\n",
    "                                        drop_encoder=0.5,\n",
    "                                        drop_decoder=0.5,\n",
    "                                        annealing=True,\n",
    "                                        anneal_cap=1.0)\n",
    "                else:\n",
    "                    model = StandardVAE(n_users=train_data.shape[0], # Number of unique users in the training set\n",
    "                                        original_dim=train_data.shape[1], # Number of unique items in the training set\n",
    "                                        intermediate_dim=i, \n",
    "                                        latent_dim=l, \n",
    "                                        n_epochs=100, \n",
    "                                        batch_size=b, \n",
    "                                        k=100,\n",
    "                                        verbose=0,\n",
    "                                        seed=1,\n",
    "                                        drop_encoder=0.5,\n",
    "                                        drop_decoder=0.5,\n",
    "                                        annealing=False,\n",
    "                                        beta=1.0,\n",
    "                                        save_path=WEIGHTS_PATH)\n",
    "                \n",
    "                # Fit model\n",
    "                model.fit(x_train=train_data,\n",
    "                        x_valid=val_data,\n",
    "                        x_val_tr=val_data_tr,\n",
    "                        x_val_te=val_data_te_ratings,\n",
    "                        mapper=am_val)\n",
    "            \n",
    "                # Model prediction on the training part of test set K = 10  \n",
    "                top_k_10 =  model.recommend_k_items(x=test_data_tr,\n",
    "                                                    k=10,\n",
    "                                                    remove_seen=True)\n",
    "\n",
    "                # Convert sparse matrix back to df\n",
    "                top_k_df_10 = am_test.map_back_sparse(top_k_10, kind='prediction')\n",
    "                test_df = am_test.map_back_sparse(test_data_te_ratings, kind='ratings') # use test_data_te_, with the original ratings\n",
    "    \n",
    "\n",
    "                # Use the ranking metrics for evaluation\n",
    "                eval_precision_10 = precision_at_k(test_df, top_k_df_10, col_prediction='prediction', k=10)\n",
    "                eval_recall_10 = recall_at_k(test_df, top_k_df_10, col_prediction='prediction', k=10)\n",
    "\n",
    "                # Print intermediate Status for Recall@10\n",
    "                print(\"Recall@10 for Intermediate Dim: \", i, \"Latent Dim: \", l, \"Batch size: \", b, \"Annealing: \", a, \":\\t\", eval_recall_10)\n",
    "                \n",
    "                #Model prediction on the training part of test set K = 20  \n",
    "                top_k_20 =  model.recommend_k_items(x=test_data_tr,\n",
    "                                                    k=20,\n",
    "                                                    remove_seen=True)\n",
    "\n",
    "                # Convert sparse matrix back to df\n",
    "                top_k_df_20 = am_test.map_back_sparse(top_k_20, kind='prediction')\n",
    "    \n",
    "\n",
    "                # Use the ranking metrics for evaluation\n",
    "                eval_precision_20 = precision_at_k(test_df, top_k_df_20, col_prediction='prediction', k=20)\n",
    "                eval_recall_20 = recall_at_k(test_df, top_k_df_20, col_prediction='prediction', k=20)\n",
    "                \n",
    "                # Print intermediate Status for Recall@20\n",
    "                print(\"Recall@20 for Intermediate Dim: \", i, \"Latent Dim: \", l, \"Batch size: \", b, \"Annealing: \", a, \":\\t\", eval_recall_20)\n",
    "                \n",
    "                # Append Lists\n",
    "                recall_10.append(eval_recall_10)\n",
    "                recall_20.append(eval_recall_20)\n",
    "                precision_10.append(eval_precision_10)\n",
    "                precision_20.append(eval_precision_20)\n",
    "                int_dimensions.append(i)\n",
    "                lt_dimensions.append(l)\n",
    "                anneal.append(a)\n",
    "                batch.append(b) "
   ]
  },
  {
   "cell_type": "code",
   "execution_count": 42,
   "metadata": {},
   "outputs": [
    {
     "data": {
      "text/html": [
       "<div>\n",
       "<style scoped>\n",
       "    .dataframe tbody tr th:only-of-type {\n",
       "        vertical-align: middle;\n",
       "    }\n",
       "\n",
       "    .dataframe tbody tr th {\n",
       "        vertical-align: top;\n",
       "    }\n",
       "\n",
       "    .dataframe thead th {\n",
       "        text-align: right;\n",
       "    }\n",
       "</style>\n",
       "<table border=\"1\" class=\"dataframe\">\n",
       "  <thead>\n",
       "    <tr style=\"text-align: right;\">\n",
       "      <th></th>\n",
       "      <th>intermediate_dimensions</th>\n",
       "      <th>latent_dimensions</th>\n",
       "      <th>annealing</th>\n",
       "      <th>batch_size</th>\n",
       "      <th>recall@10</th>\n",
       "      <th>recall@20</th>\n",
       "      <th>precision@10</th>\n",
       "      <th>precision@20</th>\n",
       "    </tr>\n",
       "  </thead>\n",
       "  <tbody>\n",
       "    <tr>\n",
       "      <th>36</th>\n",
       "      <td>600</td>\n",
       "      <td>50</td>\n",
       "      <td>True</td>\n",
       "      <td>50</td>\n",
       "      <td>0.079043</td>\n",
       "      <td>0.117810</td>\n",
       "      <td>0.106312</td>\n",
       "      <td>0.081146</td>\n",
       "    </tr>\n",
       "    <tr>\n",
       "      <th>54</th>\n",
       "      <td>800</td>\n",
       "      <td>50</td>\n",
       "      <td>True</td>\n",
       "      <td>50</td>\n",
       "      <td>0.078964</td>\n",
       "      <td>0.121514</td>\n",
       "      <td>0.105980</td>\n",
       "      <td>0.082641</td>\n",
       "    </tr>\n",
       "    <tr>\n",
       "      <th>60</th>\n",
       "      <td>800</td>\n",
       "      <td>70</td>\n",
       "      <td>True</td>\n",
       "      <td>50</td>\n",
       "      <td>0.075861</td>\n",
       "      <td>0.108633</td>\n",
       "      <td>0.102159</td>\n",
       "      <td>0.075831</td>\n",
       "    </tr>\n",
       "    <tr>\n",
       "      <th>42</th>\n",
       "      <td>600</td>\n",
       "      <td>70</td>\n",
       "      <td>True</td>\n",
       "      <td>50</td>\n",
       "      <td>0.075636</td>\n",
       "      <td>0.115295</td>\n",
       "      <td>0.102658</td>\n",
       "      <td>0.079651</td>\n",
       "    </tr>\n",
       "    <tr>\n",
       "      <th>66</th>\n",
       "      <td>800</td>\n",
       "      <td>90</td>\n",
       "      <td>True</td>\n",
       "      <td>50</td>\n",
       "      <td>0.074454</td>\n",
       "      <td>0.115784</td>\n",
       "      <td>0.100664</td>\n",
       "      <td>0.079651</td>\n",
       "    </tr>\n",
       "    <tr>\n",
       "      <th>...</th>\n",
       "      <td>...</td>\n",
       "      <td>...</td>\n",
       "      <td>...</td>\n",
       "      <td>...</td>\n",
       "      <td>...</td>\n",
       "      <td>...</td>\n",
       "      <td>...</td>\n",
       "      <td>...</td>\n",
       "    </tr>\n",
       "    <tr>\n",
       "      <th>11</th>\n",
       "      <td>200</td>\n",
       "      <td>70</td>\n",
       "      <td>False</td>\n",
       "      <td>200</td>\n",
       "      <td>0.043551</td>\n",
       "      <td>0.073455</td>\n",
       "      <td>0.057143</td>\n",
       "      <td>0.047342</td>\n",
       "    </tr>\n",
       "    <tr>\n",
       "      <th>10</th>\n",
       "      <td>200</td>\n",
       "      <td>70</td>\n",
       "      <td>True</td>\n",
       "      <td>200</td>\n",
       "      <td>0.043118</td>\n",
       "      <td>0.071030</td>\n",
       "      <td>0.053488</td>\n",
       "      <td>0.045515</td>\n",
       "    </tr>\n",
       "    <tr>\n",
       "      <th>17</th>\n",
       "      <td>200</td>\n",
       "      <td>90</td>\n",
       "      <td>False</td>\n",
       "      <td>200</td>\n",
       "      <td>0.042621</td>\n",
       "      <td>0.070559</td>\n",
       "      <td>0.052326</td>\n",
       "      <td>0.045681</td>\n",
       "    </tr>\n",
       "    <tr>\n",
       "      <th>16</th>\n",
       "      <td>200</td>\n",
       "      <td>90</td>\n",
       "      <td>True</td>\n",
       "      <td>200</td>\n",
       "      <td>0.042465</td>\n",
       "      <td>0.071174</td>\n",
       "      <td>0.053987</td>\n",
       "      <td>0.045432</td>\n",
       "    </tr>\n",
       "    <tr>\n",
       "      <th>5</th>\n",
       "      <td>200</td>\n",
       "      <td>50</td>\n",
       "      <td>False</td>\n",
       "      <td>200</td>\n",
       "      <td>0.042364</td>\n",
       "      <td>0.072235</td>\n",
       "      <td>0.055814</td>\n",
       "      <td>0.047508</td>\n",
       "    </tr>\n",
       "  </tbody>\n",
       "</table>\n",
       "<p>72 rows × 8 columns</p>\n",
       "</div>"
      ],
      "text/plain": [
       "    intermediate_dimensions  latent_dimensions  annealing  batch_size  \\\n",
       "36                      600                 50       True          50   \n",
       "54                      800                 50       True          50   \n",
       "60                      800                 70       True          50   \n",
       "42                      600                 70       True          50   \n",
       "66                      800                 90       True          50   \n",
       "..                      ...                ...        ...         ...   \n",
       "11                      200                 70      False         200   \n",
       "10                      200                 70       True         200   \n",
       "17                      200                 90      False         200   \n",
       "16                      200                 90       True         200   \n",
       "5                       200                 50      False         200   \n",
       "\n",
       "    recall@10  recall@20  precision@10  precision@20  \n",
       "36   0.079043   0.117810      0.106312      0.081146  \n",
       "54   0.078964   0.121514      0.105980      0.082641  \n",
       "60   0.075861   0.108633      0.102159      0.075831  \n",
       "42   0.075636   0.115295      0.102658      0.079651  \n",
       "66   0.074454   0.115784      0.100664      0.079651  \n",
       "..        ...        ...           ...           ...  \n",
       "11   0.043551   0.073455      0.057143      0.047342  \n",
       "10   0.043118   0.071030      0.053488      0.045515  \n",
       "17   0.042621   0.070559      0.052326      0.045681  \n",
       "16   0.042465   0.071174      0.053987      0.045432  \n",
       "5    0.042364   0.072235      0.055814      0.047508  \n",
       "\n",
       "[72 rows x 8 columns]"
      ]
     },
     "execution_count": 42,
     "metadata": {},
     "output_type": "execute_result"
    }
   ],
   "source": [
    "# Create Dataframe out of the Results of the Hyperparameter Tuning \n",
    "df_tuning_initial = pd.DataFrame({\n",
    "    \"intermediate_dimensions\": int_dimensions,\n",
    "    \"latent_dimensions\": lt_dimensions,\n",
    "    \"annealing\": anneal,\n",
    "    \"batch_size\": batch,\n",
    "    \"recall@10\": recall_10,\n",
    "    \"recall@20\": recall_20,\n",
    "    \"precision@10\":precision_10,\n",
    "    \"precision@20\":precision_20\n",
    "})\n",
    "# Sort Values by recall@10 \n",
    "df_tuning_initial.sort_values(by='recall@10', ascending=False)"
   ]
  },
  {
   "attachments": {},
   "cell_type": "markdown",
   "metadata": {},
   "source": [
    "# Hyperparameter Tuning 2.0 "
   ]
  },
  {
   "cell_type": "code",
   "execution_count": 43,
   "metadata": {},
   "outputs": [
    {
     "name": "stdout",
     "output_type": "stream",
     "text": [
      "WARNING:tensorflow:Callback method `on_train_batch_end` is slow compared to the batch time (batch time: 0.0230s vs `on_train_batch_end` time: 0.2256s). Check your callbacks.\n",
      "Recall@10 for Intermediate Dim:  550 Latent Dim:  30 Batch size:  50 Annealing:  True :\t 0.08463705474305991\n",
      "Recall@20 for Intermediate Dim:  550 Latent Dim:  30 Batch size:  50 Annealing:  True :\t 0.1302665953875465\n",
      "Recall@10 for Intermediate Dim:  550 Latent Dim:  30 Batch size:  50 Annealing:  False :\t 0.0740043418492691\n",
      "Recall@20 for Intermediate Dim:  550 Latent Dim:  30 Batch size:  50 Annealing:  False :\t 0.11216472908376753\n",
      "WARNING:tensorflow:Callback method `on_train_batch_end` is slow compared to the batch time (batch time: 0.0158s vs `on_train_batch_end` time: 0.2283s). Check your callbacks.\n",
      "Recall@10 for Intermediate Dim:  550 Latent Dim:  40 Batch size:  50 Annealing:  True :\t 0.06927240111838805\n",
      "Recall@20 for Intermediate Dim:  550 Latent Dim:  40 Batch size:  50 Annealing:  True :\t 0.11428846677522829\n",
      "Recall@10 for Intermediate Dim:  550 Latent Dim:  40 Batch size:  50 Annealing:  False :\t 0.06187140674396329\n",
      "Recall@20 for Intermediate Dim:  550 Latent Dim:  40 Batch size:  50 Annealing:  False :\t 0.1040035066773471\n",
      "WARNING:tensorflow:Callback method `on_train_batch_end` is slow compared to the batch time (batch time: 0.0242s vs `on_train_batch_end` time: 0.3460s). Check your callbacks.\n",
      "Recall@10 for Intermediate Dim:  550 Latent Dim:  50 Batch size:  50 Annealing:  True :\t 0.06867884119793499\n",
      "Recall@20 for Intermediate Dim:  550 Latent Dim:  50 Batch size:  50 Annealing:  True :\t 0.11458845815839906\n",
      "Recall@10 for Intermediate Dim:  550 Latent Dim:  50 Batch size:  50 Annealing:  False :\t 0.06577534523383981\n",
      "Recall@20 for Intermediate Dim:  550 Latent Dim:  50 Batch size:  50 Annealing:  False :\t 0.11185591948797996\n",
      "WARNING:tensorflow:Callback method `on_train_batch_end` is slow compared to the batch time (batch time: 0.0177s vs `on_train_batch_end` time: 0.2615s). Check your callbacks.\n",
      "Recall@10 for Intermediate Dim:  550 Latent Dim:  60 Batch size:  50 Annealing:  True :\t 0.06631099720435117\n",
      "Recall@20 for Intermediate Dim:  550 Latent Dim:  60 Batch size:  50 Annealing:  True :\t 0.10730614686528532\n",
      "Recall@10 for Intermediate Dim:  550 Latent Dim:  60 Batch size:  50 Annealing:  False :\t 0.06436858249846653\n",
      "Recall@20 for Intermediate Dim:  550 Latent Dim:  60 Batch size:  50 Annealing:  False :\t 0.10237042912537095\n",
      "WARNING:tensorflow:Callback method `on_train_batch_end` is slow compared to the batch time (batch time: 0.0185s vs `on_train_batch_end` time: 0.2412s). Check your callbacks.\n",
      "Recall@10 for Intermediate Dim:  550 Latent Dim:  70 Batch size:  50 Annealing:  True :\t 0.06735999611710164\n",
      "Recall@20 for Intermediate Dim:  550 Latent Dim:  70 Batch size:  50 Annealing:  True :\t 0.10837179028383963\n",
      "Recall@10 for Intermediate Dim:  550 Latent Dim:  70 Batch size:  50 Annealing:  False :\t 0.06212990404311225\n",
      "Recall@20 for Intermediate Dim:  550 Latent Dim:  70 Batch size:  50 Annealing:  False :\t 0.10207701729384158\n",
      "WARNING:tensorflow:Callback method `on_train_batch_end` is slow compared to the batch time (batch time: 0.0525s vs `on_train_batch_end` time: 0.3511s). Check your callbacks.\n",
      "Recall@10 for Intermediate Dim:  600 Latent Dim:  30 Batch size:  50 Annealing:  True :\t 0.0818714184648505\n",
      "Recall@20 for Intermediate Dim:  600 Latent Dim:  30 Batch size:  50 Annealing:  True :\t 0.12154576426932685\n",
      "Recall@10 for Intermediate Dim:  600 Latent Dim:  30 Batch size:  50 Annealing:  False :\t 0.07639886046014112\n",
      "Recall@20 for Intermediate Dim:  600 Latent Dim:  30 Batch size:  50 Annealing:  False :\t 0.1189524360948148\n",
      "WARNING:tensorflow:Callback method `on_train_batch_end` is slow compared to the batch time (batch time: 0.0242s vs `on_train_batch_end` time: 0.2723s). Check your callbacks.\n",
      "Recall@10 for Intermediate Dim:  600 Latent Dim:  40 Batch size:  50 Annealing:  True :\t 0.07886507783048514\n",
      "Recall@20 for Intermediate Dim:  600 Latent Dim:  40 Batch size:  50 Annealing:  True :\t 0.12973789617612538\n",
      "Recall@10 for Intermediate Dim:  600 Latent Dim:  40 Batch size:  50 Annealing:  False :\t 0.07100381596427563\n",
      "Recall@20 for Intermediate Dim:  600 Latent Dim:  40 Batch size:  50 Annealing:  False :\t 0.1165997400738651\n",
      "WARNING:tensorflow:Callback method `on_train_batch_end` is slow compared to the batch time (batch time: 0.0204s vs `on_train_batch_end` time: 0.2767s). Check your callbacks.\n",
      "Recall@10 for Intermediate Dim:  600 Latent Dim:  50 Batch size:  50 Annealing:  True :\t 0.0679576769862891\n",
      "Recall@20 for Intermediate Dim:  600 Latent Dim:  50 Batch size:  50 Annealing:  True :\t 0.11042263684039215\n",
      "Recall@10 for Intermediate Dim:  600 Latent Dim:  50 Batch size:  50 Annealing:  False :\t 0.06398209949289699\n",
      "Recall@20 for Intermediate Dim:  600 Latent Dim:  50 Batch size:  50 Annealing:  False :\t 0.10819569308655208\n",
      "WARNING:tensorflow:Callback method `on_train_batch_end` is slow compared to the batch time (batch time: 0.0181s vs `on_train_batch_end` time: 0.2760s). Check your callbacks.\n",
      "Recall@10 for Intermediate Dim:  600 Latent Dim:  60 Batch size:  50 Annealing:  True :\t 0.06943205061104994\n",
      "Recall@20 for Intermediate Dim:  600 Latent Dim:  60 Batch size:  50 Annealing:  True :\t 0.11068240351566526\n",
      "Recall@10 for Intermediate Dim:  600 Latent Dim:  60 Batch size:  50 Annealing:  False :\t 0.06806638813090488\n",
      "Recall@20 for Intermediate Dim:  600 Latent Dim:  60 Batch size:  50 Annealing:  False :\t 0.10955376496683643\n",
      "WARNING:tensorflow:Callback method `on_train_batch_end` is slow compared to the batch time (batch time: 0.0221s vs `on_train_batch_end` time: 0.2911s). Check your callbacks.\n",
      "Recall@10 for Intermediate Dim:  600 Latent Dim:  70 Batch size:  50 Annealing:  True :\t 0.06889003641677943\n",
      "Recall@20 for Intermediate Dim:  600 Latent Dim:  70 Batch size:  50 Annealing:  True :\t 0.11118584742695659\n",
      "Recall@10 for Intermediate Dim:  600 Latent Dim:  70 Batch size:  50 Annealing:  False :\t 0.06248780683433433\n",
      "Recall@20 for Intermediate Dim:  600 Latent Dim:  70 Batch size:  50 Annealing:  False :\t 0.09892909945016268\n",
      "WARNING:tensorflow:Callback method `on_train_batch_end` is slow compared to the batch time (batch time: 0.0197s vs `on_train_batch_end` time: 0.2951s). Check your callbacks.\n",
      "Recall@10 for Intermediate Dim:  650 Latent Dim:  30 Batch size:  50 Annealing:  True :\t 0.06593150674516972\n",
      "Recall@20 for Intermediate Dim:  650 Latent Dim:  30 Batch size:  50 Annealing:  True :\t 0.11239259286394442\n",
      "Recall@10 for Intermediate Dim:  650 Latent Dim:  30 Batch size:  50 Annealing:  False :\t 0.07477564456525802\n",
      "Recall@20 for Intermediate Dim:  650 Latent Dim:  30 Batch size:  50 Annealing:  False :\t 0.11085649974341051\n",
      "WARNING:tensorflow:Callback method `on_train_batch_end` is slow compared to the batch time (batch time: 0.0192s vs `on_train_batch_end` time: 0.2989s). Check your callbacks.\n",
      "Recall@10 for Intermediate Dim:  650 Latent Dim:  40 Batch size:  50 Annealing:  True :\t 0.07697887221208642\n",
      "Recall@20 for Intermediate Dim:  650 Latent Dim:  40 Batch size:  50 Annealing:  True :\t 0.12141377668198772\n",
      "Recall@10 for Intermediate Dim:  650 Latent Dim:  40 Batch size:  50 Annealing:  False :\t 0.06921943562631523\n",
      "Recall@20 for Intermediate Dim:  650 Latent Dim:  40 Batch size:  50 Annealing:  False :\t 0.11125357881652971\n",
      "WARNING:tensorflow:Callback method `on_train_batch_end` is slow compared to the batch time (batch time: 0.0196s vs `on_train_batch_end` time: 0.3055s). Check your callbacks.\n",
      "Recall@10 for Intermediate Dim:  650 Latent Dim:  50 Batch size:  50 Annealing:  True :\t 0.07027218753272821\n",
      "Recall@20 for Intermediate Dim:  650 Latent Dim:  50 Batch size:  50 Annealing:  True :\t 0.11572353242747722\n",
      "Recall@10 for Intermediate Dim:  650 Latent Dim:  50 Batch size:  50 Annealing:  False :\t 0.06685021146098594\n",
      "Recall@20 for Intermediate Dim:  650 Latent Dim:  50 Batch size:  50 Annealing:  False :\t 0.11191026760399937\n",
      "WARNING:tensorflow:Callback method `on_train_batch_end` is slow compared to the batch time (batch time: 0.0317s vs `on_train_batch_end` time: 0.3380s). Check your callbacks.\n",
      "Recall@10 for Intermediate Dim:  650 Latent Dim:  60 Batch size:  50 Annealing:  True :\t 0.0669649313618684\n",
      "Recall@20 for Intermediate Dim:  650 Latent Dim:  60 Batch size:  50 Annealing:  True :\t 0.11501712586767705\n",
      "Recall@10 for Intermediate Dim:  650 Latent Dim:  60 Batch size:  50 Annealing:  False :\t 0.06791605310748426\n",
      "Recall@20 for Intermediate Dim:  650 Latent Dim:  60 Batch size:  50 Annealing:  False :\t 0.11222384166425055\n",
      "WARNING:tensorflow:Callback method `on_train_batch_end` is slow compared to the batch time (batch time: 0.0243s vs `on_train_batch_end` time: 0.3190s). Check your callbacks.\n",
      "Recall@10 for Intermediate Dim:  650 Latent Dim:  70 Batch size:  50 Annealing:  True :\t 0.0781868408595194\n",
      "Recall@20 for Intermediate Dim:  650 Latent Dim:  70 Batch size:  50 Annealing:  True :\t 0.12320564289758708\n",
      "Recall@10 for Intermediate Dim:  650 Latent Dim:  70 Batch size:  50 Annealing:  False :\t 0.06557667452812745\n",
      "Recall@20 for Intermediate Dim:  650 Latent Dim:  70 Batch size:  50 Annealing:  False :\t 0.1163211704712908\n",
      "WARNING:tensorflow:Callback method `on_train_batch_end` is slow compared to the batch time (batch time: 0.0263s vs `on_train_batch_end` time: 0.3310s). Check your callbacks.\n",
      "Recall@10 for Intermediate Dim:  700 Latent Dim:  30 Batch size:  50 Annealing:  True :\t 0.091060698252036\n",
      "Recall@20 for Intermediate Dim:  700 Latent Dim:  30 Batch size:  50 Annealing:  True :\t 0.1427479583839328\n",
      "Recall@10 for Intermediate Dim:  700 Latent Dim:  30 Batch size:  50 Annealing:  False :\t 0.07878761860470475\n",
      "Recall@20 for Intermediate Dim:  700 Latent Dim:  30 Batch size:  50 Annealing:  False :\t 0.1185767566337412\n",
      "WARNING:tensorflow:Callback method `on_train_batch_end` is slow compared to the batch time (batch time: 0.0207s vs `on_train_batch_end` time: 0.3266s). Check your callbacks.\n",
      "Recall@10 for Intermediate Dim:  700 Latent Dim:  40 Batch size:  50 Annealing:  True :\t 0.07572302877007227\n",
      "Recall@20 for Intermediate Dim:  700 Latent Dim:  40 Batch size:  50 Annealing:  True :\t 0.12101359247202363\n",
      "Recall@10 for Intermediate Dim:  700 Latent Dim:  40 Batch size:  50 Annealing:  False :\t 0.07522287356211482\n",
      "Recall@20 for Intermediate Dim:  700 Latent Dim:  40 Batch size:  50 Annealing:  False :\t 0.11294315571776187\n",
      "WARNING:tensorflow:Callback method `on_train_batch_end` is slow compared to the batch time (batch time: 0.0213s vs `on_train_batch_end` time: 0.3327s). Check your callbacks.\n",
      "Recall@10 for Intermediate Dim:  700 Latent Dim:  50 Batch size:  50 Annealing:  True :\t 0.08403042606804749\n",
      "Recall@20 for Intermediate Dim:  700 Latent Dim:  50 Batch size:  50 Annealing:  True :\t 0.13066259754094295\n",
      "Recall@10 for Intermediate Dim:  700 Latent Dim:  50 Batch size:  50 Annealing:  False :\t 0.07050318926441491\n",
      "Recall@20 for Intermediate Dim:  700 Latent Dim:  50 Batch size:  50 Annealing:  False :\t 0.11007394858619925\n",
      "WARNING:tensorflow:Callback method `on_train_batch_end` is slow compared to the batch time (batch time: 0.0212s vs `on_train_batch_end` time: 0.3406s). Check your callbacks.\n",
      "Recall@10 for Intermediate Dim:  700 Latent Dim:  60 Batch size:  50 Annealing:  True :\t 0.07770476230828365\n",
      "Recall@20 for Intermediate Dim:  700 Latent Dim:  60 Batch size:  50 Annealing:  True :\t 0.12003822315563437\n",
      "Recall@10 for Intermediate Dim:  700 Latent Dim:  60 Batch size:  50 Annealing:  False :\t 0.06854237337097967\n",
      "Recall@20 for Intermediate Dim:  700 Latent Dim:  60 Batch size:  50 Annealing:  False :\t 0.11280717630711257\n",
      "WARNING:tensorflow:Callback method `on_train_batch_end` is slow compared to the batch time (batch time: 0.0233s vs `on_train_batch_end` time: 0.3492s). Check your callbacks.\n",
      "Recall@10 for Intermediate Dim:  700 Latent Dim:  70 Batch size:  50 Annealing:  True :\t 0.0773127914462348\n",
      "Recall@20 for Intermediate Dim:  700 Latent Dim:  70 Batch size:  50 Annealing:  True :\t 0.13569469444065\n",
      "Recall@10 for Intermediate Dim:  700 Latent Dim:  70 Batch size:  50 Annealing:  False :\t 0.06501550491037382\n",
      "Recall@20 for Intermediate Dim:  700 Latent Dim:  70 Batch size:  50 Annealing:  False :\t 0.10175533646858614\n",
      "WARNING:tensorflow:Callback method `on_train_batch_end` is slow compared to the batch time (batch time: 0.0288s vs `on_train_batch_end` time: 0.3572s). Check your callbacks.\n",
      "Recall@10 for Intermediate Dim:  750 Latent Dim:  30 Batch size:  50 Annealing:  True :\t 0.084277169624501\n",
      "Recall@20 for Intermediate Dim:  750 Latent Dim:  30 Batch size:  50 Annealing:  True :\t 0.13189948830633746\n",
      "Recall@10 for Intermediate Dim:  750 Latent Dim:  30 Batch size:  50 Annealing:  False :\t 0.08053655672157473\n",
      "Recall@20 for Intermediate Dim:  750 Latent Dim:  30 Batch size:  50 Annealing:  False :\t 0.11836742839810624\n",
      "WARNING:tensorflow:Callback method `on_train_batch_end` is slow compared to the batch time (batch time: 0.0265s vs `on_train_batch_end` time: 0.3614s). Check your callbacks.\n",
      "Recall@10 for Intermediate Dim:  750 Latent Dim:  40 Batch size:  50 Annealing:  True :\t 0.08991399115638815\n",
      "Recall@20 for Intermediate Dim:  750 Latent Dim:  40 Batch size:  50 Annealing:  True :\t 0.1384982089935079\n",
      "Recall@10 for Intermediate Dim:  750 Latent Dim:  40 Batch size:  50 Annealing:  False :\t 0.0736713677838739\n",
      "Recall@20 for Intermediate Dim:  750 Latent Dim:  40 Batch size:  50 Annealing:  False :\t 0.1144801515318165\n",
      "WARNING:tensorflow:Callback method `on_train_batch_end` is slow compared to the batch time (batch time: 0.0221s vs `on_train_batch_end` time: 0.3692s). Check your callbacks.\n",
      "Recall@10 for Intermediate Dim:  750 Latent Dim:  50 Batch size:  50 Annealing:  True :\t 0.08306584996213072\n",
      "Recall@20 for Intermediate Dim:  750 Latent Dim:  50 Batch size:  50 Annealing:  True :\t 0.1261404748215842\n",
      "Recall@10 for Intermediate Dim:  750 Latent Dim:  50 Batch size:  50 Annealing:  False :\t 0.07736178839883892\n",
      "Recall@20 for Intermediate Dim:  750 Latent Dim:  50 Batch size:  50 Annealing:  False :\t 0.12212099059723559\n",
      "WARNING:tensorflow:Callback method `on_train_batch_end` is slow compared to the batch time (batch time: 0.0279s vs `on_train_batch_end` time: 0.3854s). Check your callbacks.\n",
      "Recall@10 for Intermediate Dim:  750 Latent Dim:  60 Batch size:  50 Annealing:  True :\t 0.08131327859479849\n",
      "Recall@20 for Intermediate Dim:  750 Latent Dim:  60 Batch size:  50 Annealing:  True :\t 0.1348512412603521\n",
      "Recall@10 for Intermediate Dim:  750 Latent Dim:  60 Batch size:  50 Annealing:  False :\t 0.07087959486139701\n",
      "Recall@20 for Intermediate Dim:  750 Latent Dim:  60 Batch size:  50 Annealing:  False :\t 0.10770490207888965\n",
      "WARNING:tensorflow:Callback method `on_train_batch_end` is slow compared to the batch time (batch time: 0.0298s vs `on_train_batch_end` time: 0.4206s). Check your callbacks.\n",
      "Recall@10 for Intermediate Dim:  750 Latent Dim:  70 Batch size:  50 Annealing:  True :\t 0.08714504479853794\n",
      "Recall@20 for Intermediate Dim:  750 Latent Dim:  70 Batch size:  50 Annealing:  True :\t 0.12939283969865042\n",
      "Recall@10 for Intermediate Dim:  750 Latent Dim:  70 Batch size:  50 Annealing:  False :\t 0.06893818849451293\n",
      "Recall@20 for Intermediate Dim:  750 Latent Dim:  70 Batch size:  50 Annealing:  False :\t 0.11034210141043109\n",
      "WARNING:tensorflow:Callback method `on_train_batch_end` is slow compared to the batch time (batch time: 0.0223s vs `on_train_batch_end` time: 0.3852s). Check your callbacks.\n",
      "Recall@10 for Intermediate Dim:  800 Latent Dim:  30 Batch size:  50 Annealing:  True :\t 0.08756191939637747\n",
      "Recall@20 for Intermediate Dim:  800 Latent Dim:  30 Batch size:  50 Annealing:  True :\t 0.13536408881566103\n",
      "Recall@10 for Intermediate Dim:  800 Latent Dim:  30 Batch size:  50 Annealing:  False :\t 0.0785006179937671\n",
      "Recall@20 for Intermediate Dim:  800 Latent Dim:  30 Batch size:  50 Annealing:  False :\t 0.12012960466146741\n",
      "WARNING:tensorflow:Callback method `on_train_batch_end` is slow compared to the batch time (batch time: 0.0233s vs `on_train_batch_end` time: 0.3991s). Check your callbacks.\n",
      "Recall@10 for Intermediate Dim:  800 Latent Dim:  40 Batch size:  50 Annealing:  True :\t 0.08202940892071307\n",
      "Recall@20 for Intermediate Dim:  800 Latent Dim:  40 Batch size:  50 Annealing:  True :\t 0.12308683551198298\n",
      "Recall@10 for Intermediate Dim:  800 Latent Dim:  40 Batch size:  50 Annealing:  False :\t 0.08026970448308333\n",
      "Recall@20 for Intermediate Dim:  800 Latent Dim:  40 Batch size:  50 Annealing:  False :\t 0.1282364034591396\n",
      "WARNING:tensorflow:Callback method `on_train_batch_end` is slow compared to the batch time (batch time: 0.0234s vs `on_train_batch_end` time: 0.4004s). Check your callbacks.\n",
      "Recall@10 for Intermediate Dim:  800 Latent Dim:  50 Batch size:  50 Annealing:  True :\t 0.08917042227126429\n",
      "Recall@20 for Intermediate Dim:  800 Latent Dim:  50 Batch size:  50 Annealing:  True :\t 0.14174921881458008\n",
      "Recall@10 for Intermediate Dim:  800 Latent Dim:  50 Batch size:  50 Annealing:  False :\t 0.07478857061993144\n",
      "Recall@20 for Intermediate Dim:  800 Latent Dim:  50 Batch size:  50 Annealing:  False :\t 0.11662680080537516\n",
      "WARNING:tensorflow:Callback method `on_train_batch_end` is slow compared to the batch time (batch time: 0.0266s vs `on_train_batch_end` time: 0.4085s). Check your callbacks.\n",
      "Recall@10 for Intermediate Dim:  800 Latent Dim:  60 Batch size:  50 Annealing:  True :\t 0.07377491719555487\n",
      "Recall@20 for Intermediate Dim:  800 Latent Dim:  60 Batch size:  50 Annealing:  True :\t 0.11426546926934167\n",
      "Recall@10 for Intermediate Dim:  800 Latent Dim:  60 Batch size:  50 Annealing:  False :\t 0.06983912468720099\n",
      "Recall@20 for Intermediate Dim:  800 Latent Dim:  60 Batch size:  50 Annealing:  False :\t 0.11849239372622243\n",
      "WARNING:tensorflow:Callback method `on_train_batch_end` is slow compared to the batch time (batch time: 0.0279s vs `on_train_batch_end` time: 0.4204s). Check your callbacks.\n",
      "Recall@10 for Intermediate Dim:  800 Latent Dim:  70 Batch size:  50 Annealing:  True :\t 0.08615753967555875\n",
      "Recall@20 for Intermediate Dim:  800 Latent Dim:  70 Batch size:  50 Annealing:  True :\t 0.13441264120506807\n",
      "Recall@10 for Intermediate Dim:  800 Latent Dim:  70 Batch size:  50 Annealing:  False :\t 0.07297324506285309\n",
      "Recall@20 for Intermediate Dim:  800 Latent Dim:  70 Batch size:  50 Annealing:  False :\t 0.11576743945313298\n",
      "WARNING:tensorflow:Callback method `on_train_batch_end` is slow compared to the batch time (batch time: 0.0275s vs `on_train_batch_end` time: 0.4212s). Check your callbacks.\n",
      "Recall@10 for Intermediate Dim:  850 Latent Dim:  30 Batch size:  50 Annealing:  True :\t 0.08675227483043343\n",
      "Recall@20 for Intermediate Dim:  850 Latent Dim:  30 Batch size:  50 Annealing:  True :\t 0.13418258942439842\n",
      "Recall@10 for Intermediate Dim:  850 Latent Dim:  30 Batch size:  50 Annealing:  False :\t 0.07714899075615336\n",
      "Recall@20 for Intermediate Dim:  850 Latent Dim:  30 Batch size:  50 Annealing:  False :\t 0.12347518787815126\n",
      "WARNING:tensorflow:Callback method `on_train_batch_end` is slow compared to the batch time (batch time: 0.0263s vs `on_train_batch_end` time: 0.4324s). Check your callbacks.\n",
      "Recall@10 for Intermediate Dim:  850 Latent Dim:  40 Batch size:  50 Annealing:  True :\t 0.086256869257478\n",
      "Recall@20 for Intermediate Dim:  850 Latent Dim:  40 Batch size:  50 Annealing:  True :\t 0.12798697479643428\n",
      "Recall@10 for Intermediate Dim:  850 Latent Dim:  40 Batch size:  50 Annealing:  False :\t 0.0784687079218004\n",
      "Recall@20 for Intermediate Dim:  850 Latent Dim:  40 Batch size:  50 Annealing:  False :\t 0.11734176439967284\n",
      "WARNING:tensorflow:Callback method `on_train_batch_end` is slow compared to the batch time (batch time: 0.0276s vs `on_train_batch_end` time: 0.4459s). Check your callbacks.\n",
      "Recall@10 for Intermediate Dim:  850 Latent Dim:  50 Batch size:  50 Annealing:  True :\t 0.07673963631238473\n",
      "Recall@20 for Intermediate Dim:  850 Latent Dim:  50 Batch size:  50 Annealing:  True :\t 0.11668707267308863\n",
      "Recall@10 for Intermediate Dim:  850 Latent Dim:  50 Batch size:  50 Annealing:  False :\t 0.07481487930387226\n",
      "Recall@20 for Intermediate Dim:  850 Latent Dim:  50 Batch size:  50 Annealing:  False :\t 0.11935391121130337\n",
      "WARNING:tensorflow:Callback method `on_train_batch_end` is slow compared to the batch time (batch time: 0.0266s vs `on_train_batch_end` time: 0.4430s). Check your callbacks.\n",
      "Recall@10 for Intermediate Dim:  850 Latent Dim:  60 Batch size:  50 Annealing:  True :\t 0.06945134560507794\n",
      "Recall@20 for Intermediate Dim:  850 Latent Dim:  60 Batch size:  50 Annealing:  True :\t 0.1137551393553989\n",
      "Recall@10 for Intermediate Dim:  850 Latent Dim:  60 Batch size:  50 Annealing:  False :\t 0.07640493505953141\n",
      "Recall@20 for Intermediate Dim:  850 Latent Dim:  60 Batch size:  50 Annealing:  False :\t 0.1155662074984677\n",
      "WARNING:tensorflow:Callback method `on_train_batch_end` is slow compared to the batch time (batch time: 0.0247s vs `on_train_batch_end` time: 0.4516s). Check your callbacks.\n",
      "Recall@10 for Intermediate Dim:  850 Latent Dim:  70 Batch size:  50 Annealing:  True :\t 0.08475822301210696\n",
      "Recall@20 for Intermediate Dim:  850 Latent Dim:  70 Batch size:  50 Annealing:  True :\t 0.13812058022669785\n",
      "Recall@10 for Intermediate Dim:  850 Latent Dim:  70 Batch size:  50 Annealing:  False :\t 0.07797334967971459\n",
      "Recall@20 for Intermediate Dim:  850 Latent Dim:  70 Batch size:  50 Annealing:  False :\t 0.10260258343829715\n"
     ]
    }
   ],
   "source": [
    "# Set up Parameters\n",
    "intermediate_dimension = [550, 600, 650, 700, 750, 800, 850] \n",
    "latent_dimension = [30, 40, 50, 60, 70] \n",
    "batch_sizes = [50]\n",
    "anneal_status = [True, False]\n",
    "\n",
    "# Initiate Lists for Assessment\n",
    "recall_10 = []\n",
    "recall_20 = []\n",
    "precision_10 = []\n",
    "precision_20 = []\n",
    "int_dimensions = []\n",
    "lt_dimensions = []\n",
    "anneal = []\n",
    "batch = []\n",
    "\n",
    "for i in intermediate_dimension:\n",
    "    for l in latent_dimension:\n",
    "        for b in batch_sizes:\n",
    "            for a in anneal_status:\n",
    "                try:\n",
    "                    del(model)\n",
    "                except:\n",
    "                    pass\n",
    "                \n",
    "                # Initiate Model \n",
    "                if a == True:\n",
    "                    model = StandardVAE(n_users=train_data.shape[0],\n",
    "                                        original_dim=train_data.shape[1],\n",
    "                                        intermediate_dim=i,\n",
    "                                        latent_dim=l,\n",
    "                                        n_epochs=100,\n",
    "                                        batch_size=b,\n",
    "                                        k=100,\n",
    "                                        verbose=0,\n",
    "                                        seed=1,\n",
    "                                        save_path=WEIGHTS_PATH,\n",
    "                                        drop_encoder=0.5,\n",
    "                                        drop_decoder=0.5,\n",
    "                                        annealing=True,\n",
    "                                        anneal_cap=1.0)\n",
    "                else:\n",
    "                    model = StandardVAE(n_users=train_data.shape[0], # Number of unique users in the training set\n",
    "                                        original_dim=train_data.shape[1], # Number of unique items in the training set\n",
    "                                        intermediate_dim=i, \n",
    "                                        latent_dim=l, \n",
    "                                        n_epochs=100, \n",
    "                                        batch_size=b, \n",
    "                                        k=100,\n",
    "                                        verbose=0,\n",
    "                                        seed=1,\n",
    "                                        drop_encoder=0.5,\n",
    "                                        drop_decoder=0.5,\n",
    "                                        annealing=False,\n",
    "                                        beta=1.0,\n",
    "                                        save_path=WEIGHTS_PATH)\n",
    "                \n",
    "                # Fit model\n",
    "                model.fit(x_train=train_data,\n",
    "                        x_valid=val_data,\n",
    "                        x_val_tr=val_data_tr,\n",
    "                        x_val_te=val_data_te_ratings,\n",
    "                        mapper=am_val)\n",
    "            \n",
    "                # Model prediction on the training part of test set K = 10  \n",
    "                top_k_10 =  model.recommend_k_items(x=test_data_tr,\n",
    "                                                    k=10,\n",
    "                                                    remove_seen=True)\n",
    "\n",
    "                # Convert sparse matrix back to df\n",
    "                top_k_df_10 = am_test.map_back_sparse(top_k_10, kind='prediction')\n",
    "                test_df = am_test.map_back_sparse(test_data_te_ratings, kind='ratings') # use test_data_te_, with the original ratings\n",
    "    \n",
    "\n",
    "                # Use the ranking metrics for evaluation\n",
    "                eval_precision_10 = precision_at_k(test_df, top_k_df_10, col_prediction='prediction', k=10)\n",
    "                eval_recall_10 = recall_at_k(test_df, top_k_df_10, col_prediction='prediction', k=10)\n",
    "\n",
    "                # Print intermediate Status for Recall@10\n",
    "                print(\"Recall@10 for Intermediate Dim: \", i, \"Latent Dim: \", l, \"Batch size: \", b, \"Annealing: \", a, \":\\t\", eval_recall_10)\n",
    "                \n",
    "                #Model prediction on the training part of test set K = 20  \n",
    "                top_k_20 =  model.recommend_k_items(x=test_data_tr,\n",
    "                                                    k=20,\n",
    "                                                    remove_seen=True)\n",
    "\n",
    "                # Convert sparse matrix back to df\n",
    "                top_k_df_20 = am_test.map_back_sparse(top_k_20, kind='prediction')\n",
    "    \n",
    "\n",
    "                # Use the ranking metrics for evaluation\n",
    "                eval_precision_20 = precision_at_k(test_df, top_k_df_20, col_prediction='prediction', k=20)\n",
    "                eval_recall_20 = recall_at_k(test_df, top_k_df_20, col_prediction='prediction', k=20)\n",
    "                \n",
    "                # Print intermediate Status for Recall@20\n",
    "                print(\"Recall@20 for Intermediate Dim: \", i, \"Latent Dim: \", l, \"Batch size: \", b, \"Annealing: \", a, \":\\t\", eval_recall_20)\n",
    "                \n",
    "                # Append Lists\n",
    "                recall_10.append(eval_recall_10)\n",
    "                recall_20.append(eval_recall_20)\n",
    "                precision_10.append(eval_precision_10)\n",
    "                precision_20.append(eval_precision_20)\n",
    "                int_dimensions.append(i)\n",
    "                lt_dimensions.append(l)\n",
    "                anneal.append(a)\n",
    "                batch.append(b) "
   ]
  },
  {
   "cell_type": "code",
   "execution_count": 44,
   "metadata": {},
   "outputs": [
    {
     "data": {
      "text/html": [
       "<div>\n",
       "<style scoped>\n",
       "    .dataframe tbody tr th:only-of-type {\n",
       "        vertical-align: middle;\n",
       "    }\n",
       "\n",
       "    .dataframe tbody tr th {\n",
       "        vertical-align: top;\n",
       "    }\n",
       "\n",
       "    .dataframe thead th {\n",
       "        text-align: right;\n",
       "    }\n",
       "</style>\n",
       "<table border=\"1\" class=\"dataframe\">\n",
       "  <thead>\n",
       "    <tr style=\"text-align: right;\">\n",
       "      <th></th>\n",
       "      <th>intermediate_dimensions</th>\n",
       "      <th>latent_dimensions</th>\n",
       "      <th>annealing</th>\n",
       "      <th>batch_size</th>\n",
       "      <th>recall@10</th>\n",
       "      <th>recall@20</th>\n",
       "      <th>precision@10</th>\n",
       "      <th>precision@20</th>\n",
       "    </tr>\n",
       "  </thead>\n",
       "  <tbody>\n",
       "    <tr>\n",
       "      <th>30</th>\n",
       "      <td>700</td>\n",
       "      <td>30</td>\n",
       "      <td>True</td>\n",
       "      <td>50</td>\n",
       "      <td>0.091061</td>\n",
       "      <td>0.142748</td>\n",
       "      <td>0.119767</td>\n",
       "      <td>0.093937</td>\n",
       "    </tr>\n",
       "    <tr>\n",
       "      <th>42</th>\n",
       "      <td>750</td>\n",
       "      <td>40</td>\n",
       "      <td>True</td>\n",
       "      <td>50</td>\n",
       "      <td>0.089914</td>\n",
       "      <td>0.138498</td>\n",
       "      <td>0.119435</td>\n",
       "      <td>0.093189</td>\n",
       "    </tr>\n",
       "    <tr>\n",
       "      <th>54</th>\n",
       "      <td>800</td>\n",
       "      <td>50</td>\n",
       "      <td>True</td>\n",
       "      <td>50</td>\n",
       "      <td>0.089170</td>\n",
       "      <td>0.141749</td>\n",
       "      <td>0.117774</td>\n",
       "      <td>0.092276</td>\n",
       "    </tr>\n",
       "    <tr>\n",
       "      <th>50</th>\n",
       "      <td>800</td>\n",
       "      <td>30</td>\n",
       "      <td>True</td>\n",
       "      <td>50</td>\n",
       "      <td>0.087562</td>\n",
       "      <td>0.135364</td>\n",
       "      <td>0.115449</td>\n",
       "      <td>0.091611</td>\n",
       "    </tr>\n",
       "    <tr>\n",
       "      <th>48</th>\n",
       "      <td>750</td>\n",
       "      <td>70</td>\n",
       "      <td>True</td>\n",
       "      <td>50</td>\n",
       "      <td>0.087145</td>\n",
       "      <td>0.129393</td>\n",
       "      <td>0.117442</td>\n",
       "      <td>0.088372</td>\n",
       "    </tr>\n",
       "    <tr>\n",
       "      <th>...</th>\n",
       "      <td>...</td>\n",
       "      <td>...</td>\n",
       "      <td>...</td>\n",
       "      <td>...</td>\n",
       "      <td>...</td>\n",
       "      <td>...</td>\n",
       "      <td>...</td>\n",
       "      <td>...</td>\n",
       "    </tr>\n",
       "    <tr>\n",
       "      <th>7</th>\n",
       "      <td>550</td>\n",
       "      <td>60</td>\n",
       "      <td>False</td>\n",
       "      <td>50</td>\n",
       "      <td>0.064369</td>\n",
       "      <td>0.102370</td>\n",
       "      <td>0.089037</td>\n",
       "      <td>0.071512</td>\n",
       "    </tr>\n",
       "    <tr>\n",
       "      <th>15</th>\n",
       "      <td>600</td>\n",
       "      <td>50</td>\n",
       "      <td>False</td>\n",
       "      <td>50</td>\n",
       "      <td>0.063982</td>\n",
       "      <td>0.108196</td>\n",
       "      <td>0.091362</td>\n",
       "      <td>0.075997</td>\n",
       "    </tr>\n",
       "    <tr>\n",
       "      <th>19</th>\n",
       "      <td>600</td>\n",
       "      <td>70</td>\n",
       "      <td>False</td>\n",
       "      <td>50</td>\n",
       "      <td>0.062488</td>\n",
       "      <td>0.098929</td>\n",
       "      <td>0.086213</td>\n",
       "      <td>0.068605</td>\n",
       "    </tr>\n",
       "    <tr>\n",
       "      <th>9</th>\n",
       "      <td>550</td>\n",
       "      <td>70</td>\n",
       "      <td>False</td>\n",
       "      <td>50</td>\n",
       "      <td>0.062130</td>\n",
       "      <td>0.102077</td>\n",
       "      <td>0.087874</td>\n",
       "      <td>0.072591</td>\n",
       "    </tr>\n",
       "    <tr>\n",
       "      <th>3</th>\n",
       "      <td>550</td>\n",
       "      <td>40</td>\n",
       "      <td>False</td>\n",
       "      <td>50</td>\n",
       "      <td>0.061871</td>\n",
       "      <td>0.104004</td>\n",
       "      <td>0.090199</td>\n",
       "      <td>0.074834</td>\n",
       "    </tr>\n",
       "  </tbody>\n",
       "</table>\n",
       "<p>70 rows × 8 columns</p>\n",
       "</div>"
      ],
      "text/plain": [
       "    intermediate_dimensions  latent_dimensions  annealing  batch_size  \\\n",
       "30                      700                 30       True          50   \n",
       "42                      750                 40       True          50   \n",
       "54                      800                 50       True          50   \n",
       "50                      800                 30       True          50   \n",
       "48                      750                 70       True          50   \n",
       "..                      ...                ...        ...         ...   \n",
       "7                       550                 60      False          50   \n",
       "15                      600                 50      False          50   \n",
       "19                      600                 70      False          50   \n",
       "9                       550                 70      False          50   \n",
       "3                       550                 40      False          50   \n",
       "\n",
       "    recall@10  recall@20  precision@10  precision@20  \n",
       "30   0.091061   0.142748      0.119767      0.093937  \n",
       "42   0.089914   0.138498      0.119435      0.093189  \n",
       "54   0.089170   0.141749      0.117774      0.092276  \n",
       "50   0.087562   0.135364      0.115449      0.091611  \n",
       "48   0.087145   0.129393      0.117442      0.088372  \n",
       "..        ...        ...           ...           ...  \n",
       "7    0.064369   0.102370      0.089037      0.071512  \n",
       "15   0.063982   0.108196      0.091362      0.075997  \n",
       "19   0.062488   0.098929      0.086213      0.068605  \n",
       "9    0.062130   0.102077      0.087874      0.072591  \n",
       "3    0.061871   0.104004      0.090199      0.074834  \n",
       "\n",
       "[70 rows x 8 columns]"
      ]
     },
     "execution_count": 44,
     "metadata": {},
     "output_type": "execute_result"
    }
   ],
   "source": [
    "# Create Dataframe out of the Results of the Hyperparameter Tuning \n",
    "df_tuning_2 = pd.DataFrame({\n",
    "    \"intermediate_dimensions\": int_dimensions,\n",
    "    \"latent_dimensions\": lt_dimensions,\n",
    "    \"annealing\": anneal,\n",
    "    \"batch_size\": batch,\n",
    "    \"recall@10\": recall_10,\n",
    "    \"recall@20\": recall_20,\n",
    "    \"precision@10\":precision_10,\n",
    "    \"precision@20\":precision_20\n",
    "})\n",
    "# Sort Values by recall@10 \n",
    "df_tuning_2.sort_values(by='recall@10', ascending=False)"
   ]
  }
 ],
 "metadata": {
  "kernelspec": {
   "display_name": "recom",
   "language": "python",
   "name": "python3"
  },
  "language_info": {
   "codemirror_mode": {
    "name": "ipython",
    "version": 3
   },
   "file_extension": ".py",
   "mimetype": "text/x-python",
   "name": "python",
   "nbconvert_exporter": "python",
   "pygments_lexer": "ipython3",
   "version": "3.9.16"
  },
  "orig_nbformat": 4,
  "vscode": {
   "interpreter": {
    "hash": "17afcd9f6960de0a3656d2c4c5dd434deed0eab3cd38c55c3169df3bef50250d"
   }
  }
 },
 "nbformat": 4,
 "nbformat_minor": 2
}
