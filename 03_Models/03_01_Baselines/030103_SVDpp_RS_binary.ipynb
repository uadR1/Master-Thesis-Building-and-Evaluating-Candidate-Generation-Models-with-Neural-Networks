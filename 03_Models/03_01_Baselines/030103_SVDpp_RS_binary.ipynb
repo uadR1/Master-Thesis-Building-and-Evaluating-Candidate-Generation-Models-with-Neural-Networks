{
 "cells": [
  {
   "attachments": {},
   "cell_type": "markdown",
   "metadata": {},
   "source": [
    "# Loading Libraries"
   ]
  },
  {
   "cell_type": "code",
   "execution_count": 1,
   "metadata": {},
   "outputs": [],
   "source": [
    "import pandas as pd\n",
    "import numpy as np\n",
    "\n",
    "import surprise\n",
    "from recommenders.models.surprise.surprise_utils import predict, compute_ranking_predictions\n",
    "from recommenders.evaluation.python_evaluation import precision_at_k, recall_at_k\n",
    " \n",
    "from sklearn.metrics import accuracy_score\n",
    "\n"
   ]
  },
  {
   "attachments": {},
   "cell_type": "markdown",
   "metadata": {},
   "source": [
    "# Reading Data"
   ]
  },
  {
   "cell_type": "code",
   "execution_count": 2,
   "metadata": {},
   "outputs": [],
   "source": [
    "# Read Train & Test Data\n",
    "train = pd.read_csv(\"../../00_Data/rec_sys_binary_train_mixed.csv\", index_col=0)\n",
    "test = pd.read_csv(\"../../00_Data/rec_sys_binary_test_mixed.csv\", index_col=0)"
   ]
  },
  {
   "cell_type": "code",
   "execution_count": 3,
   "metadata": {},
   "outputs": [
    {
     "name": "stdout",
     "output_type": "stream",
     "text": [
      "Shape of Train: (193076, 3)\n",
      "Shape of Test: \t (48269, 3)\n"
     ]
    }
   ],
   "source": [
    "# Check Shapes\n",
    "print(\"Shape of Train:\", train.shape)\n",
    "print(\"Shape of Test: \\t\", test.shape)"
   ]
  },
  {
   "cell_type": "code",
   "execution_count": 6,
   "metadata": {},
   "outputs": [
    {
     "data": {
      "text/html": [
       "<div>\n",
       "<style scoped>\n",
       "    .dataframe tbody tr th:only-of-type {\n",
       "        vertical-align: middle;\n",
       "    }\n",
       "\n",
       "    .dataframe tbody tr th {\n",
       "        vertical-align: top;\n",
       "    }\n",
       "\n",
       "    .dataframe thead th {\n",
       "        text-align: right;\n",
       "    }\n",
       "</style>\n",
       "<table border=\"1\" class=\"dataframe\">\n",
       "  <thead>\n",
       "    <tr style=\"text-align: right;\">\n",
       "      <th></th>\n",
       "      <th>StockCode</th>\n",
       "      <th>CustomerID</th>\n",
       "      <th>purchased</th>\n",
       "    </tr>\n",
       "  </thead>\n",
       "  <tbody>\n",
       "    <tr>\n",
       "      <th>147307</th>\n",
       "      <td>47518F</td>\n",
       "      <td>16701</td>\n",
       "      <td>1</td>\n",
       "    </tr>\n",
       "    <tr>\n",
       "      <th>26104</th>\n",
       "      <td>21498</td>\n",
       "      <td>12758</td>\n",
       "      <td>1</td>\n",
       "    </tr>\n",
       "    <tr>\n",
       "      <th>46697</th>\n",
       "      <td>22030</td>\n",
       "      <td>17864</td>\n",
       "      <td>1</td>\n",
       "    </tr>\n",
       "    <tr>\n",
       "      <th>111830</th>\n",
       "      <td>22960</td>\n",
       "      <td>13804</td>\n",
       "      <td>1</td>\n",
       "    </tr>\n",
       "    <tr>\n",
       "      <th>94927</th>\n",
       "      <td>22725</td>\n",
       "      <td>12560</td>\n",
       "      <td>1</td>\n",
       "    </tr>\n",
       "  </tbody>\n",
       "</table>\n",
       "</div>"
      ],
      "text/plain": [
       "       StockCode  CustomerID  purchased\n",
       "147307    47518F       16701          1\n",
       "26104      21498       12758          1\n",
       "46697      22030       17864          1\n",
       "111830     22960       13804          1\n",
       "94927      22725       12560          1"
      ]
     },
     "execution_count": 6,
     "metadata": {},
     "output_type": "execute_result"
    }
   ],
   "source": [
    "# Check Head of Train\n",
    "train.head()"
   ]
  },
  {
   "cell_type": "code",
   "execution_count": 7,
   "metadata": {},
   "outputs": [
    {
     "data": {
      "text/plain": [
       "1    138161\n",
       "0     54915\n",
       "Name: purchased, dtype: int64"
      ]
     },
     "execution_count": 7,
     "metadata": {},
     "output_type": "execute_result"
    }
   ],
   "source": [
    "train.purchased.value_counts()"
   ]
  },
  {
   "cell_type": "code",
   "execution_count": 5,
   "metadata": {},
   "outputs": [
    {
     "data": {
      "text/plain": [
       "1    34540\n",
       "0    13729\n",
       "Name: purchased, dtype: int64"
      ]
     },
     "execution_count": 5,
     "metadata": {},
     "output_type": "execute_result"
    }
   ],
   "source": [
    "test.purchased.value_counts()"
   ]
  },
  {
   "cell_type": "code",
   "execution_count": 8,
   "metadata": {},
   "outputs": [
    {
     "name": "stdout",
     "output_type": "stream",
     "text": [
      "0.3974710663646036\n",
      "0.397481181239143\n"
     ]
    }
   ],
   "source": [
    "print(train.purchased.value_counts()[0]/train.purchased.value_counts()[1])\n",
    "print(test.purchased.value_counts()[0]/test.purchased.value_counts()[1])"
   ]
  },
  {
   "cell_type": "markdown",
   "metadata": {},
   "source": [
    "# Preparation of Train Dataset for Surprise Models\n"
   ]
  },
  {
   "cell_type": "code",
   "execution_count": 9,
   "metadata": {},
   "outputs": [],
   "source": [
    "# Reader \n",
    "reader = surprise.Reader(rating_scale=(0,1))\n",
    "\n",
    "# Build Train Set from Custom Dataset\n",
    "train_set = surprise.Dataset.load_from_df(train[['CustomerID', 'StockCode', 'purchased']], reader=reader).build_full_trainset()"
   ]
  },
  {
   "attachments": {},
   "cell_type": "markdown",
   "metadata": {},
   "source": [
    "# Baseline Model"
   ]
  },
  {
   "cell_type": "code",
   "execution_count": 10,
   "metadata": {},
   "outputs": [
    {
     "name": "stdout",
     "output_type": "stream",
     "text": [
      " processing epoch 0\n",
      " processing epoch 1\n",
      " processing epoch 2\n",
      " processing epoch 3\n",
      " processing epoch 4\n",
      " processing epoch 5\n",
      " processing epoch 6\n",
      " processing epoch 7\n",
      " processing epoch 8\n",
      " processing epoch 9\n",
      " processing epoch 10\n",
      " processing epoch 11\n",
      " processing epoch 12\n",
      " processing epoch 13\n",
      " processing epoch 14\n",
      " processing epoch 15\n",
      " processing epoch 16\n",
      " processing epoch 17\n",
      " processing epoch 18\n",
      " processing epoch 19\n"
     ]
    },
    {
     "data": {
      "text/plain": [
       "<surprise.prediction_algorithms.matrix_factorization.SVDpp at 0x7fb1700791f0>"
      ]
     },
     "execution_count": 10,
     "metadata": {},
     "output_type": "execute_result"
    }
   ],
   "source": [
    "# base_model\n",
    "try:\n",
    "    del(base_model)\n",
    "except:\n",
    "    pass\n",
    "\n",
    "# Create Object for base_model \n",
    "base_model = surprise.SVDpp(random_state=0, n_factors=4, n_epochs=20, verbose=True, lr_all=0.001, reg_all=0.01)\n",
    "\n",
    "# Fit the base_model\n",
    "base_model.fit(train_set)"
   ]
  },
  {
   "attachments": {},
   "cell_type": "markdown",
   "metadata": {},
   "source": [
    "# Prediction: Test Set Only"
   ]
  },
  {
   "cell_type": "code",
   "execution_count": 11,
   "metadata": {},
   "outputs": [
    {
     "data": {
      "text/html": [
       "<div>\n",
       "<style scoped>\n",
       "    .dataframe tbody tr th:only-of-type {\n",
       "        vertical-align: middle;\n",
       "    }\n",
       "\n",
       "    .dataframe tbody tr th {\n",
       "        vertical-align: top;\n",
       "    }\n",
       "\n",
       "    .dataframe thead th {\n",
       "        text-align: right;\n",
       "    }\n",
       "</style>\n",
       "<table border=\"1\" class=\"dataframe\">\n",
       "  <thead>\n",
       "    <tr style=\"text-align: right;\">\n",
       "      <th></th>\n",
       "      <th>CustomerID</th>\n",
       "      <th>StockCode</th>\n",
       "      <th>prediction</th>\n",
       "    </tr>\n",
       "  </thead>\n",
       "  <tbody>\n",
       "    <tr>\n",
       "      <th>0</th>\n",
       "      <td>17865</td>\n",
       "      <td>23072</td>\n",
       "      <td>0.627339</td>\n",
       "    </tr>\n",
       "    <tr>\n",
       "      <th>1</th>\n",
       "      <td>17960</td>\n",
       "      <td>22139</td>\n",
       "      <td>0.809282</td>\n",
       "    </tr>\n",
       "    <tr>\n",
       "      <th>2</th>\n",
       "      <td>15358</td>\n",
       "      <td>10133</td>\n",
       "      <td>0.878206</td>\n",
       "    </tr>\n",
       "    <tr>\n",
       "      <th>3</th>\n",
       "      <td>17787</td>\n",
       "      <td>22188</td>\n",
       "      <td>0.837835</td>\n",
       "    </tr>\n",
       "    <tr>\n",
       "      <th>4</th>\n",
       "      <td>17076</td>\n",
       "      <td>84843</td>\n",
       "      <td>0.421679</td>\n",
       "    </tr>\n",
       "  </tbody>\n",
       "</table>\n",
       "</div>"
      ],
      "text/plain": [
       "   CustomerID StockCode  prediction\n",
       "0       17865     23072    0.627339\n",
       "1       17960     22139    0.809282\n",
       "2       15358     10133    0.878206\n",
       "3       17787     22188    0.837835\n",
       "4       17076     84843    0.421679"
      ]
     },
     "execution_count": 11,
     "metadata": {},
     "output_type": "execute_result"
    }
   ],
   "source": [
    "# Make Predictions\n",
    "test_pred = predict(base_model, test, usercol='CustomerID', itemcol='StockCode')\n",
    "\n",
    "# Show first five rows\n",
    "test_pred.head()"
   ]
  },
  {
   "cell_type": "code",
   "execution_count": 12,
   "metadata": {},
   "outputs": [
    {
     "data": {
      "text/plain": [
       "count    48269.000000\n",
       "mean         0.738662\n",
       "std          0.168462\n",
       "min          0.226186\n",
       "25%          0.616031\n",
       "50%          0.749223\n",
       "75%          0.871218\n",
       "max          1.000000\n",
       "Name: prediction, dtype: float64"
      ]
     },
     "execution_count": 12,
     "metadata": {},
     "output_type": "execute_result"
    }
   ],
   "source": [
    "# Check Statistics of Prediction\n",
    "test_pred.prediction.describe()"
   ]
  },
  {
   "cell_type": "code",
   "execution_count": 13,
   "metadata": {},
   "outputs": [],
   "source": [
    "# Convert Predictions\n",
    "test_pred['prediction'] = np.where((test_pred['prediction']>0.5), 1,0)"
   ]
  },
  {
   "cell_type": "code",
   "execution_count": 14,
   "metadata": {},
   "outputs": [
    {
     "data": {
      "text/plain": [
       "1    43553\n",
       "0     4716\n",
       "Name: prediction, dtype: int64"
      ]
     },
     "execution_count": 14,
     "metadata": {},
     "output_type": "execute_result"
    }
   ],
   "source": [
    "# Check Distribution\n",
    "test_pred['prediction'].value_counts()"
   ]
  },
  {
   "cell_type": "code",
   "execution_count": 15,
   "metadata": {},
   "outputs": [
    {
     "data": {
      "text/plain": [
       "0.965083960625362"
      ]
     },
     "execution_count": 15,
     "metadata": {},
     "output_type": "execute_result"
    }
   ],
   "source": [
    "# Accuracy on positive Test only\n",
    "test_positive = test[test['purchased']==1]\n",
    "test_positive_pred = test_positive.merge(test_pred, on=['CustomerID', 'StockCode'], how='left', indicator=True)\n",
    "test_positive_pred.purchased.value_counts()\n",
    "# Accuracy \n",
    "accuracy_score(test_positive_pred.purchased, test_positive_pred.prediction)\n"
   ]
  },
  {
   "cell_type": "code",
   "execution_count": 16,
   "metadata": {},
   "outputs": [],
   "source": [
    "# Accuracy on entire Test\n",
    "# Sort Index of both Datasets to use Accuracy Score \n",
    "test = test.sort_values(by=['CustomerID', 'StockCode'])\n",
    "test_pred = test_pred.sort_values(by=['CustomerID', 'StockCode'])\n",
    "\n",
    "# Reset indeces for both DataFrames\n",
    "test = test.reset_index(drop=True)\n",
    "test_pred = test_pred.reset_index(drop=True)"
   ]
  },
  {
   "cell_type": "code",
   "execution_count": 17,
   "metadata": {},
   "outputs": [
    {
     "data": {
      "text/html": [
       "<div>\n",
       "<style scoped>\n",
       "    .dataframe tbody tr th:only-of-type {\n",
       "        vertical-align: middle;\n",
       "    }\n",
       "\n",
       "    .dataframe tbody tr th {\n",
       "        vertical-align: top;\n",
       "    }\n",
       "\n",
       "    .dataframe thead th {\n",
       "        text-align: right;\n",
       "    }\n",
       "</style>\n",
       "<table border=\"1\" class=\"dataframe\">\n",
       "  <thead>\n",
       "    <tr style=\"text-align: right;\">\n",
       "      <th></th>\n",
       "      <th>CustomerID</th>\n",
       "      <th>StockCode</th>\n",
       "      <th>purchased</th>\n",
       "    </tr>\n",
       "  </thead>\n",
       "  <tbody>\n",
       "    <tr>\n",
       "      <th>0</th>\n",
       "      <td>12347</td>\n",
       "      <td>21035</td>\n",
       "      <td>1</td>\n",
       "    </tr>\n",
       "    <tr>\n",
       "      <th>1</th>\n",
       "      <td>12347</td>\n",
       "      <td>21041</td>\n",
       "      <td>1</td>\n",
       "    </tr>\n",
       "    <tr>\n",
       "      <th>2</th>\n",
       "      <td>12347</td>\n",
       "      <td>21064</td>\n",
       "      <td>1</td>\n",
       "    </tr>\n",
       "    <tr>\n",
       "      <th>3</th>\n",
       "      <td>12347</td>\n",
       "      <td>21307</td>\n",
       "      <td>0</td>\n",
       "    </tr>\n",
       "    <tr>\n",
       "      <th>4</th>\n",
       "      <td>12347</td>\n",
       "      <td>21719</td>\n",
       "      <td>0</td>\n",
       "    </tr>\n",
       "  </tbody>\n",
       "</table>\n",
       "</div>"
      ],
      "text/plain": [
       "   CustomerID StockCode  purchased\n",
       "0       12347     21035          1\n",
       "1       12347     21041          1\n",
       "2       12347     21064          1\n",
       "3       12347     21307          0\n",
       "4       12347     21719          0"
      ]
     },
     "execution_count": 17,
     "metadata": {},
     "output_type": "execute_result"
    }
   ],
   "source": [
    "# First Reorder columns for test \n",
    "test = test[['CustomerID', 'StockCode', 'purchased']]\n",
    "# Head of Test\n",
    "test.head()"
   ]
  },
  {
   "cell_type": "code",
   "execution_count": 18,
   "metadata": {},
   "outputs": [
    {
     "data": {
      "text/html": [
       "<div>\n",
       "<style scoped>\n",
       "    .dataframe tbody tr th:only-of-type {\n",
       "        vertical-align: middle;\n",
       "    }\n",
       "\n",
       "    .dataframe tbody tr th {\n",
       "        vertical-align: top;\n",
       "    }\n",
       "\n",
       "    .dataframe thead th {\n",
       "        text-align: right;\n",
       "    }\n",
       "</style>\n",
       "<table border=\"1\" class=\"dataframe\">\n",
       "  <thead>\n",
       "    <tr style=\"text-align: right;\">\n",
       "      <th></th>\n",
       "      <th>CustomerID</th>\n",
       "      <th>StockCode</th>\n",
       "      <th>prediction</th>\n",
       "    </tr>\n",
       "  </thead>\n",
       "  <tbody>\n",
       "    <tr>\n",
       "      <th>0</th>\n",
       "      <td>12347</td>\n",
       "      <td>21035</td>\n",
       "      <td>1</td>\n",
       "    </tr>\n",
       "    <tr>\n",
       "      <th>1</th>\n",
       "      <td>12347</td>\n",
       "      <td>21041</td>\n",
       "      <td>1</td>\n",
       "    </tr>\n",
       "    <tr>\n",
       "      <th>2</th>\n",
       "      <td>12347</td>\n",
       "      <td>21064</td>\n",
       "      <td>1</td>\n",
       "    </tr>\n",
       "    <tr>\n",
       "      <th>3</th>\n",
       "      <td>12347</td>\n",
       "      <td>21307</td>\n",
       "      <td>1</td>\n",
       "    </tr>\n",
       "    <tr>\n",
       "      <th>4</th>\n",
       "      <td>12347</td>\n",
       "      <td>21719</td>\n",
       "      <td>1</td>\n",
       "    </tr>\n",
       "  </tbody>\n",
       "</table>\n",
       "</div>"
      ],
      "text/plain": [
       "   CustomerID StockCode  prediction\n",
       "0       12347     21035           1\n",
       "1       12347     21041           1\n",
       "2       12347     21064           1\n",
       "3       12347     21307           1\n",
       "4       12347     21719           1"
      ]
     },
     "execution_count": 18,
     "metadata": {},
     "output_type": "execute_result"
    }
   ],
   "source": [
    "# Head of Test_pred\n",
    "test_pred.head()"
   ]
  },
  {
   "cell_type": "code",
   "execution_count": 19,
   "metadata": {},
   "outputs": [
    {
     "data": {
      "text/plain": [
       "0.7633056413018707"
      ]
     },
     "execution_count": 19,
     "metadata": {},
     "output_type": "execute_result"
    }
   ],
   "source": [
    "# Accuracy \n",
    "accuracy_score(test.purchased, test_pred.prediction)"
   ]
  },
  {
   "attachments": {},
   "cell_type": "markdown",
   "metadata": {},
   "source": [
    "# Prediction: Top N "
   ]
  },
  {
   "cell_type": "code",
   "execution_count": 20,
   "metadata": {},
   "outputs": [],
   "source": [
    "# Predict all pairs that are not in the train set\n",
    "predictions = compute_ranking_predictions(base_model, train, usercol='CustomerID', itemcol='StockCode', remove_seen=True)"
   ]
  },
  {
   "cell_type": "code",
   "execution_count": 21,
   "metadata": {},
   "outputs": [
    {
     "data": {
      "text/html": [
       "<div>\n",
       "<style scoped>\n",
       "    .dataframe tbody tr th:only-of-type {\n",
       "        vertical-align: middle;\n",
       "    }\n",
       "\n",
       "    .dataframe tbody tr th {\n",
       "        vertical-align: top;\n",
       "    }\n",
       "\n",
       "    .dataframe thead th {\n",
       "        text-align: right;\n",
       "    }\n",
       "</style>\n",
       "<table border=\"1\" class=\"dataframe\">\n",
       "  <thead>\n",
       "    <tr style=\"text-align: right;\">\n",
       "      <th></th>\n",
       "      <th>CustomerID</th>\n",
       "      <th>StockCode</th>\n",
       "      <th>prediction</th>\n",
       "    </tr>\n",
       "  </thead>\n",
       "  <tbody>\n",
       "    <tr>\n",
       "      <th>193076</th>\n",
       "      <td>16701</td>\n",
       "      <td>22030</td>\n",
       "      <td>0.851516</td>\n",
       "    </tr>\n",
       "    <tr>\n",
       "      <th>193077</th>\n",
       "      <td>16701</td>\n",
       "      <td>22960</td>\n",
       "      <td>0.964769</td>\n",
       "    </tr>\n",
       "    <tr>\n",
       "      <th>193078</th>\n",
       "      <td>16701</td>\n",
       "      <td>21509</td>\n",
       "      <td>0.719401</td>\n",
       "    </tr>\n",
       "    <tr>\n",
       "      <th>193079</th>\n",
       "      <td>16701</td>\n",
       "      <td>22810</td>\n",
       "      <td>0.616594</td>\n",
       "    </tr>\n",
       "    <tr>\n",
       "      <th>193080</th>\n",
       "      <td>16701</td>\n",
       "      <td>22780</td>\n",
       "      <td>0.704339</td>\n",
       "    </tr>\n",
       "  </tbody>\n",
       "</table>\n",
       "</div>"
      ],
      "text/plain": [
       "        CustomerID StockCode  prediction\n",
       "193076       16701     22030    0.851516\n",
       "193077       16701     22960    0.964769\n",
       "193078       16701     21509    0.719401\n",
       "193079       16701     22810    0.616594\n",
       "193080       16701     22780    0.704339"
      ]
     },
     "execution_count": 21,
     "metadata": {},
     "output_type": "execute_result"
    }
   ],
   "source": [
    "# Check first five rows\n",
    "predictions.head()"
   ]
  },
  {
   "cell_type": "code",
   "execution_count": 22,
   "metadata": {},
   "outputs": [],
   "source": [
    "# Filter Test for purchased items only\n",
    "test = test[test['purchased']==1]"
   ]
  },
  {
   "cell_type": "code",
   "execution_count": 23,
   "metadata": {},
   "outputs": [],
   "source": [
    "# Now filter out top N \n",
    "# First write a function\n",
    "def filter_top_n(predictions: pd.DataFrame, n: int) -> pd.DataFrame:\n",
    "    \n",
    "    # Group the dataframe by 'CustomerID', and for each group, sort by 'prediction' in descending order, then take the top N rows\n",
    "    top_n_per_customer = predictions.groupby('CustomerID', group_keys=False).apply(lambda group: group.sort_values('prediction', ascending=False).head(n))\n",
    "    \n",
    "    return top_n_per_customer\n",
    "\n",
    "# Filter Top 10 \n",
    "top_10 = filter_top_n(predictions, 10)\n",
    "\n",
    "# Filter Top 20 \n",
    "top_20 = filter_top_n(predictions, 20)\n"
   ]
  },
  {
   "cell_type": "code",
   "execution_count": 24,
   "metadata": {},
   "outputs": [
    {
     "name": "stdout",
     "output_type": "stream",
     "text": [
      "precision at 10 \t: 0.03535726266353573\n",
      "recall at 10 \t: 0.03518155771306669\n"
     ]
    }
   ],
   "source": [
    "# Evaluate Precision at 10 \n",
    "eval_precision_10 = precision_at_k(test, top_10, col_user=\"CustomerID\", col_item=\"StockCode\",\n",
    "                                    col_rating=\"purchased\", col_prediction=\"prediction\", \n",
    "                                    relevancy_method=\"top_k\", k=10)\n",
    "print('precision at 10 \\t:', eval_precision_10)\n",
    "\n",
    "# Evaluate Recall at 10 \n",
    "eval_recall_10 = recall_at_k(test, top_10,col_user=\"CustomerID\", col_item=\"StockCode\",\n",
    "                                    col_rating=\"purchased\", col_prediction=\"prediction\", \n",
    "                                    relevancy_method=\"top_k\", k=10)\n",
    "print('recall at 10 \\t:', eval_recall_10)"
   ]
  },
  {
   "cell_type": "code",
   "execution_count": 25,
   "metadata": {},
   "outputs": [
    {
     "name": "stdout",
     "output_type": "stream",
     "text": [
      "precision at 20 \t: 0.03108017443810802\n",
      "recall at 20 \t: 0.06144071476616181\n"
     ]
    }
   ],
   "source": [
    "# Evaluate Precision at 20 \n",
    "eval_precision_20 = precision_at_k(test, top_20, col_user=\"CustomerID\", col_item=\"StockCode\",\n",
    "                                    col_rating=\"purchased\", col_prediction=\"prediction\", \n",
    "                                    relevancy_method=\"top_k\", k=20)\n",
    "print('precision at 20 \\t:', eval_precision_20)\n",
    "\n",
    "# Evaluate Recall at 20 \n",
    "eval_recall_20 = recall_at_k(test, top_20,col_user=\"CustomerID\", col_item=\"StockCode\",\n",
    "                                    col_rating=\"purchased\", col_prediction=\"prediction\", \n",
    "                                    relevancy_method=\"top_k\", k=20)\n",
    "print('recall at 20 \\t:', eval_recall_20)"
   ]
  },
  {
   "attachments": {},
   "cell_type": "markdown",
   "metadata": {},
   "source": [
    "# Hyper-Parameter Tuning"
   ]
  },
  {
   "attachments": {},
   "cell_type": "markdown",
   "metadata": {},
   "source": [
    "## Tuning Round 1 "
   ]
  },
  {
   "cell_type": "code",
   "execution_count": 26,
   "metadata": {},
   "outputs": [
    {
     "name": "stdout",
     "output_type": "stream",
     "text": [
      "recall at for 10 factors: \t 0.03126162933357219\n",
      "recall at for 100 factors: \t 0.014360187107250753\n"
     ]
    }
   ],
   "source": [
    "# Define Set of Hyperparameters: \n",
    "n_factors = [10, 100]\n",
    "lr_rates = [0.001]\n",
    "reg_terms = [0.01]\n",
    "\n",
    "# Initiate List for Metrics\n",
    "factors = []\n",
    "recall_k = []\n",
    "learning_rates = []\n",
    "regulation_terms = []\n",
    "\n",
    "\n",
    "# Start for loop\n",
    "for factor in n_factors:\n",
    "    for lr in lr_rates:\n",
    "        for reg in reg_terms:\n",
    "            # First Delete Model Everytime\n",
    "            try:\n",
    "                del(model)\n",
    "            except:\n",
    "                pass\n",
    "\n",
    "            # Define Model with Parameters \n",
    "            model = surprise.SVDpp(random_state=0,\n",
    "                                    n_factors=factor,\n",
    "                                    n_epochs=5,\n",
    "                                    lr_all=lr,\n",
    "                                    reg_all=reg)\n",
    "\n",
    "            # Fit model\n",
    "            model.fit(train_set)\n",
    "\n",
    "            # Predict all pairs that are not in the train set\n",
    "            predictions = compute_ranking_predictions(model, test, usercol='CustomerID', itemcol='StockCode')\n",
    "\n",
    "            # Filter Top 10 \n",
    "            top_10 = filter_top_n(predictions, 10)\n",
    "\n",
    "            # Evaluate Recall at 10 \n",
    "            eval_recall_10 = recall_at_k(test, top_10,col_user=\"CustomerID\", col_item=\"StockCode\",\n",
    "                                                col_rating=\"purchased\", col_prediction=\"prediction\", \n",
    "                                                relevancy_method=\"top_k\", k=10)\n",
    "\n",
    "            print(\"recall at for\", factor, \"factors: \\t\", eval_recall_10)\n",
    "\n",
    "            # Append Lists\n",
    "            factors.append(factor)\n",
    "            recall_k.append(eval_recall_10)\n",
    "            learning_rates.append(lr)\n",
    "            regulation_terms.append(reg) "
   ]
  },
  {
   "cell_type": "code",
   "execution_count": 27,
   "metadata": {},
   "outputs": [],
   "source": [
    "dict_param = {\n",
    "    \"factor\": factors,\n",
    "    \"regulation_term\": regulation_terms,\n",
    "    \"learning_rate\": learning_rates,\n",
    "    \"recall_10\": recall_k\n",
    "}"
   ]
  },
  {
   "cell_type": "code",
   "execution_count": 28,
   "metadata": {},
   "outputs": [
    {
     "data": {
      "text/html": [
       "<div>\n",
       "<style scoped>\n",
       "    .dataframe tbody tr th:only-of-type {\n",
       "        vertical-align: middle;\n",
       "    }\n",
       "\n",
       "    .dataframe tbody tr th {\n",
       "        vertical-align: top;\n",
       "    }\n",
       "\n",
       "    .dataframe thead th {\n",
       "        text-align: right;\n",
       "    }\n",
       "</style>\n",
       "<table border=\"1\" class=\"dataframe\">\n",
       "  <thead>\n",
       "    <tr style=\"text-align: right;\">\n",
       "      <th></th>\n",
       "      <th>factor</th>\n",
       "      <th>regulation_term</th>\n",
       "      <th>learning_rate</th>\n",
       "      <th>recall_10</th>\n",
       "    </tr>\n",
       "  </thead>\n",
       "  <tbody>\n",
       "    <tr>\n",
       "      <th>0</th>\n",
       "      <td>10</td>\n",
       "      <td>0.01</td>\n",
       "      <td>0.001</td>\n",
       "      <td>0.031262</td>\n",
       "    </tr>\n",
       "    <tr>\n",
       "      <th>1</th>\n",
       "      <td>100</td>\n",
       "      <td>0.01</td>\n",
       "      <td>0.001</td>\n",
       "      <td>0.014360</td>\n",
       "    </tr>\n",
       "  </tbody>\n",
       "</table>\n",
       "</div>"
      ],
      "text/plain": [
       "   factor  regulation_term  learning_rate  recall_10\n",
       "0      10             0.01          0.001   0.031262\n",
       "1     100             0.01          0.001   0.014360"
      ]
     },
     "execution_count": 28,
     "metadata": {},
     "output_type": "execute_result"
    }
   ],
   "source": [
    "df_param = pd.DataFrame(dict_param)\n",
    "df_param"
   ]
  },
  {
   "cell_type": "code",
   "execution_count": 98,
   "metadata": {},
   "outputs": [],
   "source": [
    "# Use for furhter \n",
    "df_param.to_csv('svdpp_binary_hpt_f10to1000_lr0001to01_reg001to002.csv')"
   ]
  },
  {
   "attachments": {},
   "cell_type": "markdown",
   "metadata": {},
   "source": [
    "## Tuning Round 2\n",
    "- Factors 10-30\n",
    "- Learning Rate around 0.001\n",
    "- Regulation Term around 0.01"
   ]
  },
  {
   "cell_type": "code",
   "execution_count": 29,
   "metadata": {},
   "outputs": [
    {
     "name": "stdout",
     "output_type": "stream",
     "text": [
      "recall at for 10 factors: \t 0.03126162933357219\n",
      "recall at for 20 factors: \t 0.02698097891984196\n",
      "recall at for 30 factors: \t 0.024610013828802912\n"
     ]
    }
   ],
   "source": [
    "# Define Set of Hyperparameters: \n",
    "n_factors = [10, 20, 30]\n",
    "lr_rates = [0.001]\n",
    "reg_terms = [0.01]\n",
    "\n",
    "# Initiate List for Metrics\n",
    "factors = []\n",
    "recall_k = []\n",
    "learning_rates = []\n",
    "regulation_terms = []\n",
    "\n",
    "\n",
    "# Start for loop\n",
    "for factor in n_factors:\n",
    "    for lr in lr_rates:\n",
    "        for reg in reg_terms:\n",
    "            # First Delete Model Everytime\n",
    "            try:\n",
    "                del(model)\n",
    "            except:\n",
    "                pass\n",
    "\n",
    "            # Define Model with Parameters \n",
    "            model = surprise.SVDpp(random_state=0,\n",
    "                                    n_factors=factor,\n",
    "                                    n_epochs=5,\n",
    "                                    lr_all=lr,\n",
    "                                    reg_all=reg)\n",
    "\n",
    "            # Fit model\n",
    "            model.fit(train_set)\n",
    "\n",
    "            # Predict all pairs that are not in the train set\n",
    "            predictions = compute_ranking_predictions(model, test, usercol='CustomerID', itemcol='StockCode')\n",
    "\n",
    "            # Filter Top 10 \n",
    "            top_10 = filter_top_n(predictions, 10)\n",
    "\n",
    "            # Evaluate Recall at 10 \n",
    "            eval_recall_10 = recall_at_k(test, top_10,col_user=\"CustomerID\", col_item=\"StockCode\",\n",
    "                                                col_rating=\"purchased\", col_prediction=\"prediction\", \n",
    "                                                relevancy_method=\"top_k\", k=10)\n",
    "\n",
    "            print(\"recall at for\", factor, \"factors: \\t\", eval_recall_10)\n",
    "\n",
    "            # Append Lists\n",
    "            factors.append(factor)\n",
    "            recall_k.append(eval_recall_10)\n",
    "            learning_rates.append(lr)\n",
    "            regulation_terms.append(reg) "
   ]
  },
  {
   "cell_type": "code",
   "execution_count": 30,
   "metadata": {},
   "outputs": [
    {
     "data": {
      "text/html": [
       "<div>\n",
       "<style scoped>\n",
       "    .dataframe tbody tr th:only-of-type {\n",
       "        vertical-align: middle;\n",
       "    }\n",
       "\n",
       "    .dataframe tbody tr th {\n",
       "        vertical-align: top;\n",
       "    }\n",
       "\n",
       "    .dataframe thead th {\n",
       "        text-align: right;\n",
       "    }\n",
       "</style>\n",
       "<table border=\"1\" class=\"dataframe\">\n",
       "  <thead>\n",
       "    <tr style=\"text-align: right;\">\n",
       "      <th></th>\n",
       "      <th>factor</th>\n",
       "      <th>regulation_term</th>\n",
       "      <th>learning_rate</th>\n",
       "      <th>recall_10</th>\n",
       "    </tr>\n",
       "  </thead>\n",
       "  <tbody>\n",
       "    <tr>\n",
       "      <th>0</th>\n",
       "      <td>10</td>\n",
       "      <td>0.01</td>\n",
       "      <td>0.001</td>\n",
       "      <td>0.031262</td>\n",
       "    </tr>\n",
       "    <tr>\n",
       "      <th>1</th>\n",
       "      <td>20</td>\n",
       "      <td>0.01</td>\n",
       "      <td>0.001</td>\n",
       "      <td>0.026981</td>\n",
       "    </tr>\n",
       "    <tr>\n",
       "      <th>2</th>\n",
       "      <td>30</td>\n",
       "      <td>0.01</td>\n",
       "      <td>0.001</td>\n",
       "      <td>0.024610</td>\n",
       "    </tr>\n",
       "  </tbody>\n",
       "</table>\n",
       "</div>"
      ],
      "text/plain": [
       "   factor  regulation_term  learning_rate  recall_10\n",
       "0      10             0.01          0.001   0.031262\n",
       "1      20             0.01          0.001   0.026981\n",
       "2      30             0.01          0.001   0.024610"
      ]
     },
     "execution_count": 30,
     "metadata": {},
     "output_type": "execute_result"
    }
   ],
   "source": [
    "dict_param2 = {\n",
    "    \"factor\": factors,\n",
    "    \"regulation_term\": regulation_terms,\n",
    "    \"learning_rate\": learning_rates,\n",
    "    \"recall_10\": recall_k\n",
    "}\n",
    "\n",
    "df_param2 = pd.DataFrame(dict_param2)\n",
    "df_param2"
   ]
  },
  {
   "cell_type": "code",
   "execution_count": 101,
   "metadata": {},
   "outputs": [],
   "source": [
    "# Use for furhter \n",
    "df_param2.to_csv('svdpp_binary_hpt_f90to110_lr01to02_reg01.csv')"
   ]
  },
  {
   "attachments": {},
   "cell_type": "markdown",
   "metadata": {},
   "source": [
    "## Tuning Round 3\n",
    "- Factors around 10 \n",
    "- Learning Rate 0.001\n",
    "- Regulation Term  0.01"
   ]
  },
  {
   "cell_type": "code",
   "execution_count": 31,
   "metadata": {},
   "outputs": [
    {
     "name": "stdout",
     "output_type": "stream",
     "text": [
      "recall at for 5 factors: \t 0.032998515986824024\n",
      "recall at for 10 factors: \t 0.03126162933357219\n",
      "recall at for 15 factors: \t 0.02880378370919426\n"
     ]
    }
   ],
   "source": [
    "# Define Set of Hyperparameters: \n",
    "n_factors = [5, 10, 15]\n",
    "lr_rates = [0.001]\n",
    "reg_terms = [0.01]\n",
    "\n",
    "# Initiate List for Metrics\n",
    "factors = []\n",
    "recall_k = []\n",
    "learning_rates = []\n",
    "regulation_terms = []\n",
    "\n",
    "\n",
    "# Start for loop\n",
    "for factor in n_factors:\n",
    "    for lr in lr_rates:\n",
    "        for reg in reg_terms:\n",
    "            # First Delete Model Everytime\n",
    "            try:\n",
    "                del(model)\n",
    "            except:\n",
    "                pass\n",
    "\n",
    "            # Define Model with Parameters \n",
    "            model = surprise.SVDpp(random_state=0,\n",
    "                                    n_factors=factor,\n",
    "                                    n_epochs=5,\n",
    "                                    lr_all=lr,\n",
    "                                    reg_all=reg)\n",
    "\n",
    "            # Fit model\n",
    "            model.fit(train_set)\n",
    "\n",
    "            # Predict all pairs that are not in the train set\n",
    "            predictions = compute_ranking_predictions(model, test, usercol='CustomerID', itemcol='StockCode')\n",
    "\n",
    "            # Filter Top 10 \n",
    "            top_10 = filter_top_n(predictions, 10)\n",
    "\n",
    "            # Evaluate Recall at 10 \n",
    "            eval_recall_10 = recall_at_k(test, top_10,col_user=\"CustomerID\", col_item=\"StockCode\",\n",
    "                                                col_rating=\"purchased\", col_prediction=\"prediction\", \n",
    "                                                relevancy_method=\"top_k\", k=10)\n",
    "\n",
    "            print(\"recall at for\", factor, \"factors: \\t\", eval_recall_10)\n",
    "\n",
    "            # Append Lists\n",
    "            factors.append(factor)\n",
    "            recall_k.append(eval_recall_10)\n",
    "            learning_rates.append(lr)\n",
    "            regulation_terms.append(reg) "
   ]
  },
  {
   "cell_type": "code",
   "execution_count": 32,
   "metadata": {},
   "outputs": [
    {
     "data": {
      "text/html": [
       "<div>\n",
       "<style scoped>\n",
       "    .dataframe tbody tr th:only-of-type {\n",
       "        vertical-align: middle;\n",
       "    }\n",
       "\n",
       "    .dataframe tbody tr th {\n",
       "        vertical-align: top;\n",
       "    }\n",
       "\n",
       "    .dataframe thead th {\n",
       "        text-align: right;\n",
       "    }\n",
       "</style>\n",
       "<table border=\"1\" class=\"dataframe\">\n",
       "  <thead>\n",
       "    <tr style=\"text-align: right;\">\n",
       "      <th></th>\n",
       "      <th>factor</th>\n",
       "      <th>regulation_term</th>\n",
       "      <th>learning_rate</th>\n",
       "      <th>recall_10</th>\n",
       "    </tr>\n",
       "  </thead>\n",
       "  <tbody>\n",
       "    <tr>\n",
       "      <th>0</th>\n",
       "      <td>5</td>\n",
       "      <td>0.01</td>\n",
       "      <td>0.001</td>\n",
       "      <td>0.032999</td>\n",
       "    </tr>\n",
       "    <tr>\n",
       "      <th>1</th>\n",
       "      <td>10</td>\n",
       "      <td>0.01</td>\n",
       "      <td>0.001</td>\n",
       "      <td>0.031262</td>\n",
       "    </tr>\n",
       "    <tr>\n",
       "      <th>2</th>\n",
       "      <td>15</td>\n",
       "      <td>0.01</td>\n",
       "      <td>0.001</td>\n",
       "      <td>0.028804</td>\n",
       "    </tr>\n",
       "  </tbody>\n",
       "</table>\n",
       "</div>"
      ],
      "text/plain": [
       "   factor  regulation_term  learning_rate  recall_10\n",
       "0       5             0.01          0.001   0.032999\n",
       "1      10             0.01          0.001   0.031262\n",
       "2      15             0.01          0.001   0.028804"
      ]
     },
     "execution_count": 32,
     "metadata": {},
     "output_type": "execute_result"
    }
   ],
   "source": [
    "dict_param3 = {\n",
    "    \"factor\": factors,\n",
    "    \"regulation_term\": regulation_terms,\n",
    "    \"learning_rate\": learning_rates,\n",
    "    \"recall_10\": recall_k\n",
    "}\n",
    "\n",
    "df_param3 = pd.DataFrame(dict_param3)\n",
    "df_param3\n",
    "\n",
    "# Save for further analysis\n",
    "#df_param3.to_csv('svdpp_binary_hpt_f110to130_lr01to02_reg01.csv')"
   ]
  },
  {
   "attachments": {},
   "cell_type": "markdown",
   "metadata": {},
   "source": [
    "## Final Tuning\n",
    "\n",
    "Now the final tuning with more parameters. This tuning process will be used for model explanation"
   ]
  },
  {
   "cell_type": "code",
   "execution_count": 34,
   "metadata": {},
   "outputs": [
    {
     "name": "stdout",
     "output_type": "stream",
     "text": [
      "recall at for 2 factors: \t 0.03422518907927705\n",
      "recall at for 2 factors: \t 0.034101718721857445\n",
      "recall at for 2 factors: \t 0.03313489540860049\n",
      "recall at for 2 factors: \t 0.033964694253029705\n",
      "recall at for 2 factors: \t 0.03377514076948185\n",
      "recall at for 2 factors: \t 0.03328879620304329\n",
      "recall at for 3 factors: \t 0.03330974472326468\n",
      "recall at for 3 factors: \t 0.033573715087182175\n",
      "recall at for 3 factors: \t 0.03291273135061098\n",
      "recall at for 3 factors: \t 0.033858932636463696\n",
      "recall at for 3 factors: \t 0.033657173978577516\n",
      "recall at for 3 factors: \t 0.03405741386006994\n",
      "recall at for 4 factors: \t 0.03162871730822714\n",
      "recall at for 4 factors: \t 0.03203059316113658\n",
      "recall at for 4 factors: \t 0.031573645343891746\n",
      "recall at for 4 factors: \t 0.032095579305846715\n",
      "recall at for 4 factors: \t 0.032153790272016515\n",
      "recall at for 4 factors: \t 0.03213547056916712\n",
      "recall at for 5 factors: \t 0.03234939119085691\n",
      "recall at for 5 factors: \t 0.03297958991485781\n",
      "recall at for 5 factors: \t 0.03318708624100177\n",
      "recall at for 5 factors: \t 0.03289533926466499\n",
      "recall at for 5 factors: \t 0.032829667822956245\n",
      "recall at for 5 factors: \t 0.03342405517391728\n",
      "recall at for 6 factors: \t 0.032204049548316294\n",
      "recall at for 6 factors: \t 0.032271384938315544\n",
      "recall at for 6 factors: \t 0.031114582985403677\n",
      "recall at for 6 factors: \t 0.03148317323439798\n",
      "recall at for 6 factors: \t 0.03148545538294904\n",
      "recall at for 6 factors: \t 0.031670932760203635\n"
     ]
    }
   ],
   "source": [
    "# Define Set of Hyperparameters: \n",
    "n_factors = [2, 3, 4, 5, 6]\n",
    "lr_rates = [0.001, 0.002, 0.003]\n",
    "reg_terms = [0.01, 0.02]\n",
    "\n",
    "# Initiate List for Metrics\n",
    "factors = []\n",
    "learning_rates = []\n",
    "regulation_terms = []\n",
    "recall_10 = []\n",
    "recall_20 = []\n",
    "precision_10 = []\n",
    "precision_20 = [] \n",
    "\n",
    "\n",
    "# Start for loop\n",
    "for factor in n_factors:\n",
    "    for lr in lr_rates:\n",
    "        for reg in reg_terms:\n",
    "            # First Delete Model Everytime\n",
    "            try:\n",
    "                del(model)\n",
    "            except:\n",
    "                pass\n",
    "\n",
    "            # Define Model with Parameters \n",
    "            model = surprise.SVDpp(random_state=0,\n",
    "                                    n_factors=factor,\n",
    "                                    n_epochs=20,\n",
    "                                    lr_all=lr,\n",
    "                                    reg_all=reg)\n",
    "\n",
    "            # Fit model\n",
    "            model.fit(train_set)\n",
    "\n",
    "            # Predict all pairs that are not in the train set\n",
    "            predictions = compute_ranking_predictions(model, test, usercol='CustomerID', itemcol='StockCode')\n",
    "\n",
    "            # Filter Top 10 & 20  \n",
    "            top_10 = filter_top_n(predictions, 10)\n",
    "            top_20 = filter_top_n(predictions, 20)\n",
    "\n",
    "            # Evaluate Recall at 10 \n",
    "            eval_recall_10 = recall_at_k(test, top_10,col_user=\"CustomerID\", col_item=\"StockCode\",\n",
    "                                                col_rating=\"purchased\", col_prediction=\"prediction\", \n",
    "                                                relevancy_method=\"top_k\", k=10)\n",
    "            \n",
    "            # Evaluate Recall at 20 \n",
    "            eval_recall_20 = recall_at_k(test, top_20,col_user=\"CustomerID\", col_item=\"StockCode\",\n",
    "                                col_rating=\"purchased\", col_prediction=\"prediction\", \n",
    "                                relevancy_method=\"top_k\", k=20)\n",
    "            \n",
    "            # Evaluate Precision at 10 \n",
    "            eval_precision_10 = precision_at_k(test, top_10, col_user=\"CustomerID\", col_item=\"StockCode\",\n",
    "                                col_rating=\"purchased\", col_prediction=\"prediction\", \n",
    "                                relevancy_method=\"top_k\", k=10)\n",
    "            # Evaluate Precision at 20 \n",
    "            eval_precision_20 = precision_at_k(test, top_20, col_user=\"CustomerID\", col_item=\"StockCode\",\n",
    "                                col_rating=\"purchased\", col_prediction=\"prediction\", \n",
    "                                relevancy_method=\"top_k\", k=20) \n",
    "\n",
    "            print(\"recall at for\", factor, \"factors: \\t\", eval_recall_10)\n",
    "\n",
    "            # Append Lists\n",
    "            factors.append(factor)\n",
    "            recall_10.append(eval_recall_10)\n",
    "            recall_20.append(eval_recall_20)\n",
    "            precision_10.append(eval_precision_10)\n",
    "            precision_20.append(eval_precision_20)\n",
    "            learning_rates.append(lr)\n",
    "            regulation_terms.append(reg) "
   ]
  },
  {
   "cell_type": "code",
   "execution_count": 36,
   "metadata": {},
   "outputs": [
    {
     "data": {
      "text/html": [
       "<div>\n",
       "<style scoped>\n",
       "    .dataframe tbody tr th:only-of-type {\n",
       "        vertical-align: middle;\n",
       "    }\n",
       "\n",
       "    .dataframe tbody tr th {\n",
       "        vertical-align: top;\n",
       "    }\n",
       "\n",
       "    .dataframe thead th {\n",
       "        text-align: right;\n",
       "    }\n",
       "</style>\n",
       "<table border=\"1\" class=\"dataframe\">\n",
       "  <thead>\n",
       "    <tr style=\"text-align: right;\">\n",
       "      <th></th>\n",
       "      <th>factor</th>\n",
       "      <th>regulation_term</th>\n",
       "      <th>learning_rate</th>\n",
       "      <th>recall_10</th>\n",
       "      <th>recall_20</th>\n",
       "      <th>precision_10</th>\n",
       "      <th>precision_20</th>\n",
       "    </tr>\n",
       "  </thead>\n",
       "  <tbody>\n",
       "    <tr>\n",
       "      <th>0</th>\n",
       "      <td>2</td>\n",
       "      <td>0.01</td>\n",
       "      <td>0.001</td>\n",
       "      <td>0.034225</td>\n",
       "      <td>0.056716</td>\n",
       "      <td>0.030963</td>\n",
       "      <td>0.027155</td>\n",
       "    </tr>\n",
       "    <tr>\n",
       "      <th>1</th>\n",
       "      <td>2</td>\n",
       "      <td>0.02</td>\n",
       "      <td>0.001</td>\n",
       "      <td>0.034102</td>\n",
       "      <td>0.057301</td>\n",
       "      <td>0.031365</td>\n",
       "      <td>0.027608</td>\n",
       "    </tr>\n",
       "    <tr>\n",
       "      <th>11</th>\n",
       "      <td>3</td>\n",
       "      <td>0.02</td>\n",
       "      <td>0.003</td>\n",
       "      <td>0.034057</td>\n",
       "      <td>0.057052</td>\n",
       "      <td>0.029353</td>\n",
       "      <td>0.026602</td>\n",
       "    </tr>\n",
       "    <tr>\n",
       "      <th>3</th>\n",
       "      <td>2</td>\n",
       "      <td>0.02</td>\n",
       "      <td>0.002</td>\n",
       "      <td>0.033965</td>\n",
       "      <td>0.057819</td>\n",
       "      <td>0.029285</td>\n",
       "      <td>0.027088</td>\n",
       "    </tr>\n",
       "    <tr>\n",
       "      <th>9</th>\n",
       "      <td>3</td>\n",
       "      <td>0.02</td>\n",
       "      <td>0.002</td>\n",
       "      <td>0.033859</td>\n",
       "      <td>0.055961</td>\n",
       "      <td>0.029923</td>\n",
       "      <td>0.026166</td>\n",
       "    </tr>\n",
       "    <tr>\n",
       "      <th>4</th>\n",
       "      <td>2</td>\n",
       "      <td>0.01</td>\n",
       "      <td>0.003</td>\n",
       "      <td>0.033775</td>\n",
       "      <td>0.056999</td>\n",
       "      <td>0.028145</td>\n",
       "      <td>0.025914</td>\n",
       "    </tr>\n",
       "    <tr>\n",
       "      <th>10</th>\n",
       "      <td>3</td>\n",
       "      <td>0.01</td>\n",
       "      <td>0.003</td>\n",
       "      <td>0.033657</td>\n",
       "      <td>0.055802</td>\n",
       "      <td>0.028682</td>\n",
       "      <td>0.025981</td>\n",
       "    </tr>\n",
       "    <tr>\n",
       "      <th>7</th>\n",
       "      <td>3</td>\n",
       "      <td>0.02</td>\n",
       "      <td>0.001</td>\n",
       "      <td>0.033574</td>\n",
       "      <td>0.056354</td>\n",
       "      <td>0.030761</td>\n",
       "      <td>0.027508</td>\n",
       "    </tr>\n",
       "    <tr>\n",
       "      <th>23</th>\n",
       "      <td>5</td>\n",
       "      <td>0.02</td>\n",
       "      <td>0.003</td>\n",
       "      <td>0.033424</td>\n",
       "      <td>0.058303</td>\n",
       "      <td>0.028615</td>\n",
       "      <td>0.026032</td>\n",
       "    </tr>\n",
       "    <tr>\n",
       "      <th>6</th>\n",
       "      <td>3</td>\n",
       "      <td>0.01</td>\n",
       "      <td>0.001</td>\n",
       "      <td>0.033310</td>\n",
       "      <td>0.056203</td>\n",
       "      <td>0.030359</td>\n",
       "      <td>0.027122</td>\n",
       "    </tr>\n",
       "    <tr>\n",
       "      <th>5</th>\n",
       "      <td>2</td>\n",
       "      <td>0.02</td>\n",
       "      <td>0.003</td>\n",
       "      <td>0.033289</td>\n",
       "      <td>0.057445</td>\n",
       "      <td>0.028011</td>\n",
       "      <td>0.026099</td>\n",
       "    </tr>\n",
       "    <tr>\n",
       "      <th>20</th>\n",
       "      <td>5</td>\n",
       "      <td>0.01</td>\n",
       "      <td>0.002</td>\n",
       "      <td>0.033187</td>\n",
       "      <td>0.057227</td>\n",
       "      <td>0.028682</td>\n",
       "      <td>0.025663</td>\n",
       "    </tr>\n",
       "    <tr>\n",
       "      <th>2</th>\n",
       "      <td>2</td>\n",
       "      <td>0.01</td>\n",
       "      <td>0.002</td>\n",
       "      <td>0.033135</td>\n",
       "      <td>0.056553</td>\n",
       "      <td>0.028480</td>\n",
       "      <td>0.026384</td>\n",
       "    </tr>\n",
       "    <tr>\n",
       "      <th>19</th>\n",
       "      <td>5</td>\n",
       "      <td>0.02</td>\n",
       "      <td>0.001</td>\n",
       "      <td>0.032980</td>\n",
       "      <td>0.057779</td>\n",
       "      <td>0.029755</td>\n",
       "      <td>0.027323</td>\n",
       "    </tr>\n",
       "    <tr>\n",
       "      <th>8</th>\n",
       "      <td>3</td>\n",
       "      <td>0.01</td>\n",
       "      <td>0.002</td>\n",
       "      <td>0.032913</td>\n",
       "      <td>0.055210</td>\n",
       "      <td>0.028078</td>\n",
       "      <td>0.025579</td>\n",
       "    </tr>\n",
       "    <tr>\n",
       "      <th>21</th>\n",
       "      <td>5</td>\n",
       "      <td>0.02</td>\n",
       "      <td>0.002</td>\n",
       "      <td>0.032895</td>\n",
       "      <td>0.058151</td>\n",
       "      <td>0.029051</td>\n",
       "      <td>0.026602</td>\n",
       "    </tr>\n",
       "    <tr>\n",
       "      <th>22</th>\n",
       "      <td>5</td>\n",
       "      <td>0.01</td>\n",
       "      <td>0.003</td>\n",
       "      <td>0.032830</td>\n",
       "      <td>0.057302</td>\n",
       "      <td>0.028514</td>\n",
       "      <td>0.025327</td>\n",
       "    </tr>\n",
       "    <tr>\n",
       "      <th>18</th>\n",
       "      <td>5</td>\n",
       "      <td>0.01</td>\n",
       "      <td>0.001</td>\n",
       "      <td>0.032349</td>\n",
       "      <td>0.057303</td>\n",
       "      <td>0.029252</td>\n",
       "      <td>0.026853</td>\n",
       "    </tr>\n",
       "    <tr>\n",
       "      <th>25</th>\n",
       "      <td>6</td>\n",
       "      <td>0.02</td>\n",
       "      <td>0.001</td>\n",
       "      <td>0.032271</td>\n",
       "      <td>0.054673</td>\n",
       "      <td>0.029621</td>\n",
       "      <td>0.026820</td>\n",
       "    </tr>\n",
       "    <tr>\n",
       "      <th>24</th>\n",
       "      <td>6</td>\n",
       "      <td>0.01</td>\n",
       "      <td>0.001</td>\n",
       "      <td>0.032204</td>\n",
       "      <td>0.053772</td>\n",
       "      <td>0.029688</td>\n",
       "      <td>0.026032</td>\n",
       "    </tr>\n",
       "    <tr>\n",
       "      <th>16</th>\n",
       "      <td>4</td>\n",
       "      <td>0.01</td>\n",
       "      <td>0.003</td>\n",
       "      <td>0.032154</td>\n",
       "      <td>0.056866</td>\n",
       "      <td>0.028782</td>\n",
       "      <td>0.025679</td>\n",
       "    </tr>\n",
       "    <tr>\n",
       "      <th>17</th>\n",
       "      <td>4</td>\n",
       "      <td>0.02</td>\n",
       "      <td>0.003</td>\n",
       "      <td>0.032135</td>\n",
       "      <td>0.057200</td>\n",
       "      <td>0.028782</td>\n",
       "      <td>0.025746</td>\n",
       "    </tr>\n",
       "    <tr>\n",
       "      <th>15</th>\n",
       "      <td>4</td>\n",
       "      <td>0.02</td>\n",
       "      <td>0.002</td>\n",
       "      <td>0.032096</td>\n",
       "      <td>0.056834</td>\n",
       "      <td>0.029487</td>\n",
       "      <td>0.026317</td>\n",
       "    </tr>\n",
       "    <tr>\n",
       "      <th>13</th>\n",
       "      <td>4</td>\n",
       "      <td>0.02</td>\n",
       "      <td>0.001</td>\n",
       "      <td>0.032031</td>\n",
       "      <td>0.054538</td>\n",
       "      <td>0.029755</td>\n",
       "      <td>0.025864</td>\n",
       "    </tr>\n",
       "    <tr>\n",
       "      <th>29</th>\n",
       "      <td>6</td>\n",
       "      <td>0.02</td>\n",
       "      <td>0.003</td>\n",
       "      <td>0.031671</td>\n",
       "      <td>0.056335</td>\n",
       "      <td>0.028145</td>\n",
       "      <td>0.026115</td>\n",
       "    </tr>\n",
       "    <tr>\n",
       "      <th>12</th>\n",
       "      <td>4</td>\n",
       "      <td>0.01</td>\n",
       "      <td>0.001</td>\n",
       "      <td>0.031629</td>\n",
       "      <td>0.055975</td>\n",
       "      <td>0.029554</td>\n",
       "      <td>0.026451</td>\n",
       "    </tr>\n",
       "    <tr>\n",
       "      <th>14</th>\n",
       "      <td>4</td>\n",
       "      <td>0.01</td>\n",
       "      <td>0.002</td>\n",
       "      <td>0.031574</td>\n",
       "      <td>0.056344</td>\n",
       "      <td>0.028212</td>\n",
       "      <td>0.025813</td>\n",
       "    </tr>\n",
       "    <tr>\n",
       "      <th>28</th>\n",
       "      <td>6</td>\n",
       "      <td>0.01</td>\n",
       "      <td>0.003</td>\n",
       "      <td>0.031485</td>\n",
       "      <td>0.055339</td>\n",
       "      <td>0.028212</td>\n",
       "      <td>0.025830</td>\n",
       "    </tr>\n",
       "    <tr>\n",
       "      <th>27</th>\n",
       "      <td>6</td>\n",
       "      <td>0.02</td>\n",
       "      <td>0.002</td>\n",
       "      <td>0.031483</td>\n",
       "      <td>0.055543</td>\n",
       "      <td>0.028950</td>\n",
       "      <td>0.026065</td>\n",
       "    </tr>\n",
       "    <tr>\n",
       "      <th>26</th>\n",
       "      <td>6</td>\n",
       "      <td>0.01</td>\n",
       "      <td>0.002</td>\n",
       "      <td>0.031115</td>\n",
       "      <td>0.054366</td>\n",
       "      <td>0.027407</td>\n",
       "      <td>0.025226</td>\n",
       "    </tr>\n",
       "  </tbody>\n",
       "</table>\n",
       "</div>"
      ],
      "text/plain": [
       "    factor  regulation_term  learning_rate  recall_10  recall_20  \\\n",
       "0        2             0.01          0.001   0.034225   0.056716   \n",
       "1        2             0.02          0.001   0.034102   0.057301   \n",
       "11       3             0.02          0.003   0.034057   0.057052   \n",
       "3        2             0.02          0.002   0.033965   0.057819   \n",
       "9        3             0.02          0.002   0.033859   0.055961   \n",
       "4        2             0.01          0.003   0.033775   0.056999   \n",
       "10       3             0.01          0.003   0.033657   0.055802   \n",
       "7        3             0.02          0.001   0.033574   0.056354   \n",
       "23       5             0.02          0.003   0.033424   0.058303   \n",
       "6        3             0.01          0.001   0.033310   0.056203   \n",
       "5        2             0.02          0.003   0.033289   0.057445   \n",
       "20       5             0.01          0.002   0.033187   0.057227   \n",
       "2        2             0.01          0.002   0.033135   0.056553   \n",
       "19       5             0.02          0.001   0.032980   0.057779   \n",
       "8        3             0.01          0.002   0.032913   0.055210   \n",
       "21       5             0.02          0.002   0.032895   0.058151   \n",
       "22       5             0.01          0.003   0.032830   0.057302   \n",
       "18       5             0.01          0.001   0.032349   0.057303   \n",
       "25       6             0.02          0.001   0.032271   0.054673   \n",
       "24       6             0.01          0.001   0.032204   0.053772   \n",
       "16       4             0.01          0.003   0.032154   0.056866   \n",
       "17       4             0.02          0.003   0.032135   0.057200   \n",
       "15       4             0.02          0.002   0.032096   0.056834   \n",
       "13       4             0.02          0.001   0.032031   0.054538   \n",
       "29       6             0.02          0.003   0.031671   0.056335   \n",
       "12       4             0.01          0.001   0.031629   0.055975   \n",
       "14       4             0.01          0.002   0.031574   0.056344   \n",
       "28       6             0.01          0.003   0.031485   0.055339   \n",
       "27       6             0.02          0.002   0.031483   0.055543   \n",
       "26       6             0.01          0.002   0.031115   0.054366   \n",
       "\n",
       "    precision_10  precision_20  \n",
       "0       0.030963      0.027155  \n",
       "1       0.031365      0.027608  \n",
       "11      0.029353      0.026602  \n",
       "3       0.029285      0.027088  \n",
       "9       0.029923      0.026166  \n",
       "4       0.028145      0.025914  \n",
       "10      0.028682      0.025981  \n",
       "7       0.030761      0.027508  \n",
       "23      0.028615      0.026032  \n",
       "6       0.030359      0.027122  \n",
       "5       0.028011      0.026099  \n",
       "20      0.028682      0.025663  \n",
       "2       0.028480      0.026384  \n",
       "19      0.029755      0.027323  \n",
       "8       0.028078      0.025579  \n",
       "21      0.029051      0.026602  \n",
       "22      0.028514      0.025327  \n",
       "18      0.029252      0.026853  \n",
       "25      0.029621      0.026820  \n",
       "24      0.029688      0.026032  \n",
       "16      0.028782      0.025679  \n",
       "17      0.028782      0.025746  \n",
       "15      0.029487      0.026317  \n",
       "13      0.029755      0.025864  \n",
       "29      0.028145      0.026115  \n",
       "12      0.029554      0.026451  \n",
       "14      0.028212      0.025813  \n",
       "28      0.028212      0.025830  \n",
       "27      0.028950      0.026065  \n",
       "26      0.027407      0.025226  "
      ]
     },
     "execution_count": 36,
     "metadata": {},
     "output_type": "execute_result"
    }
   ],
   "source": [
    "dict_param5 = {\n",
    "    \"factor\": factors,\n",
    "    \"regulation_term\": regulation_terms,\n",
    "    \"learning_rate\": learning_rates,\n",
    "    \"recall_10\": recall_10,\n",
    "    \"recall_20\" : recall_20,\n",
    "    \"precision_10\" : precision_10,\n",
    "    \"precision_20\" : precision_20\n",
    "}\n",
    "\n",
    "df_param5 = pd.DataFrame(dict_param5)\n",
    "df_param5.sort_values(by='recall_10', ascending=False)"
   ]
  },
  {
   "attachments": {},
   "cell_type": "markdown",
   "metadata": {},
   "source": [
    "# Best Model: Accuracy on Test"
   ]
  },
  {
   "cell_type": "code",
   "execution_count": 38,
   "metadata": {},
   "outputs": [
    {
     "data": {
      "text/plain": [
       "0.9660104226983208"
      ]
     },
     "execution_count": 38,
     "metadata": {},
     "output_type": "execute_result"
    }
   ],
   "source": [
    "# Create Object for Model\n",
    "best_model = surprise.SVDpp(random_state=0, n_factors=2, n_epochs=20, lr_all=0.001, reg_all=0.01)\n",
    "\n",
    "# Fit the base_model\n",
    "best_model.fit(train_set)\n",
    "\n",
    "# Make Predictions\n",
    "test_pred = predict(best_model, test, usercol='CustomerID', itemcol='StockCode')\n",
    "\n",
    "# Convert Predictions\n",
    "test_pred['prediction'] = np.where((test_pred['prediction']>0.5), 1,0)\n",
    "\n",
    "# Sort Index of both Datasets to use Accuracy Score \n",
    "test = test.sort_values(by=['CustomerID', 'StockCode'])\n",
    "test_pred = test_pred.sort_values(by=['CustomerID', 'StockCode'])\n",
    "\n",
    "# Reset indeces for both DataFrames\n",
    "test = test.reset_index(drop=True)\n",
    "test_pred = test_pred.reset_index(drop=True)\n",
    "\n",
    "# Accuracy \n",
    "accuracy_score(test.purchased, test_pred.prediction)"
   ]
  }
 ],
 "metadata": {
  "kernelspec": {
   "display_name": "recom",
   "language": "python",
   "name": "python3"
  },
  "language_info": {
   "codemirror_mode": {
    "name": "ipython",
    "version": 3
   },
   "file_extension": ".py",
   "mimetype": "text/x-python",
   "name": "python",
   "nbconvert_exporter": "python",
   "pygments_lexer": "ipython3",
   "version": "3.9.16"
  },
  "orig_nbformat": 4,
  "vscode": {
   "interpreter": {
    "hash": "17afcd9f6960de0a3656d2c4c5dd434deed0eab3cd38c55c3169df3bef50250d"
   }
  }
 },
 "nbformat": 4,
 "nbformat_minor": 2
}
