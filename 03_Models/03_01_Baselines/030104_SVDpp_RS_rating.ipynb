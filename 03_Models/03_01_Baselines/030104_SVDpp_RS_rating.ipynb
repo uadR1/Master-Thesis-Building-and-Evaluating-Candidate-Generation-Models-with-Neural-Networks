{
 "cells": [
  {
   "attachments": {},
   "cell_type": "markdown",
   "metadata": {},
   "source": [
    "# Loading Libraries"
   ]
  },
  {
   "cell_type": "code",
   "execution_count": 1,
   "metadata": {},
   "outputs": [],
   "source": [
    "import pandas as pd\n",
    "import numpy as np\n",
    "\n",
    "import surprise\n",
    "from recommenders.models.surprise.surprise_utils import predict, compute_ranking_predictions\n",
    "from recommenders.evaluation.python_evaluation import precision_at_k, recall_at_k\n"
   ]
  },
  {
   "attachments": {},
   "cell_type": "markdown",
   "metadata": {},
   "source": [
    "# Reading Data"
   ]
  },
  {
   "cell_type": "code",
   "execution_count": 2,
   "metadata": {},
   "outputs": [],
   "source": [
    "# Read Train & Test Data\n",
    "train = pd.read_csv(\"../../00_Data/rec_sys_ratings_train.csv\", index_col=0)\n",
    "test = pd.read_csv(\"../../00_Data/rec_sys_ratings_test.csv\", index_col=0)"
   ]
  },
  {
   "cell_type": "code",
   "execution_count": 3,
   "metadata": {},
   "outputs": [
    {
     "name": "stdout",
     "output_type": "stream",
     "text": [
      "Shape of Train: (393208, 3)\n",
      "Shape of Test: \t (98401, 3)\n"
     ]
    }
   ],
   "source": [
    "# Check Shapes\n",
    "print(\"Shape of Train:\", train.shape)\n",
    "print(\"Shape of Test: \\t\", test.shape)"
   ]
  },
  {
   "cell_type": "code",
   "execution_count": 4,
   "metadata": {},
   "outputs": [
    {
     "data": {
      "text/html": [
       "<div>\n",
       "<style scoped>\n",
       "    .dataframe tbody tr th:only-of-type {\n",
       "        vertical-align: middle;\n",
       "    }\n",
       "\n",
       "    .dataframe tbody tr th {\n",
       "        vertical-align: top;\n",
       "    }\n",
       "\n",
       "    .dataframe thead th {\n",
       "        text-align: right;\n",
       "    }\n",
       "</style>\n",
       "<table border=\"1\" class=\"dataframe\">\n",
       "  <thead>\n",
       "    <tr style=\"text-align: right;\">\n",
       "      <th></th>\n",
       "      <th>StockCode</th>\n",
       "      <th>CustomerID</th>\n",
       "      <th>purchased</th>\n",
       "    </tr>\n",
       "  </thead>\n",
       "  <tbody>\n",
       "    <tr>\n",
       "      <th>444302</th>\n",
       "      <td>22326</td>\n",
       "      <td>14323</td>\n",
       "      <td>-1</td>\n",
       "    </tr>\n",
       "    <tr>\n",
       "      <th>1750</th>\n",
       "      <td>16169E</td>\n",
       "      <td>16607</td>\n",
       "      <td>1</td>\n",
       "    </tr>\n",
       "    <tr>\n",
       "      <th>411656</th>\n",
       "      <td>23208</td>\n",
       "      <td>15147</td>\n",
       "      <td>-1</td>\n",
       "    </tr>\n",
       "    <tr>\n",
       "      <th>302355</th>\n",
       "      <td>23301</td>\n",
       "      <td>12580</td>\n",
       "      <td>-1</td>\n",
       "    </tr>\n",
       "    <tr>\n",
       "      <th>7870</th>\n",
       "      <td>20829</td>\n",
       "      <td>17888</td>\n",
       "      <td>1</td>\n",
       "    </tr>\n",
       "  </tbody>\n",
       "</table>\n",
       "</div>"
      ],
      "text/plain": [
       "       StockCode  CustomerID  purchased\n",
       "444302     22326       14323         -1\n",
       "1750      16169E       16607          1\n",
       "411656     23208       15147         -1\n",
       "302355     23301       12580         -1\n",
       "7870       20829       17888          1"
      ]
     },
     "execution_count": 4,
     "metadata": {},
     "output_type": "execute_result"
    }
   ],
   "source": [
    "# Check Head of Train\n",
    "train.head()"
   ]
  },
  {
   "cell_type": "markdown",
   "metadata": {},
   "source": [
    "# Preparation of Train Dataset for Surprise Models\n"
   ]
  },
  {
   "cell_type": "code",
   "execution_count": 5,
   "metadata": {},
   "outputs": [],
   "source": [
    "# Reader \n",
    "reader = surprise.Reader(rating_scale=(-2,2))\n",
    "\n",
    "# Build Train Set from Custom Dataset\n",
    "train_set = surprise.Dataset.load_from_df(train[['CustomerID', 'StockCode', 'purchased']], reader=reader).build_full_trainset()"
   ]
  },
  {
   "attachments": {},
   "cell_type": "markdown",
   "metadata": {},
   "source": [
    "# Baseline Model"
   ]
  },
  {
   "cell_type": "code",
   "execution_count": 6,
   "metadata": {},
   "outputs": [
    {
     "name": "stdout",
     "output_type": "stream",
     "text": [
      " processing epoch 0\n",
      " processing epoch 1\n",
      " processing epoch 2\n",
      " processing epoch 3\n",
      " processing epoch 4\n",
      " processing epoch 5\n",
      " processing epoch 6\n",
      " processing epoch 7\n",
      " processing epoch 8\n",
      " processing epoch 9\n",
      " processing epoch 10\n",
      " processing epoch 11\n",
      " processing epoch 12\n",
      " processing epoch 13\n",
      " processing epoch 14\n",
      " processing epoch 15\n",
      " processing epoch 16\n",
      " processing epoch 17\n",
      " processing epoch 18\n",
      " processing epoch 19\n"
     ]
    },
    {
     "data": {
      "text/plain": [
       "<surprise.prediction_algorithms.matrix_factorization.SVDpp at 0x7f9868dec9d0>"
      ]
     },
     "execution_count": 6,
     "metadata": {},
     "output_type": "execute_result"
    }
   ],
   "source": [
    "# base_model\n",
    "try:\n",
    "    del(base_model)\n",
    "except:\n",
    "    pass\n",
    "\n",
    "# Create Object for base_model \n",
    "base_model = surprise.SVDpp(random_state=0, n_factors=112, n_epochs=20, verbose=True)\n",
    "\n",
    "# Fit the base_model\n",
    "base_model.fit(train_set)"
   ]
  },
  {
   "attachments": {},
   "cell_type": "markdown",
   "metadata": {},
   "source": [
    "# Prediction: Test Set Only"
   ]
  },
  {
   "cell_type": "code",
   "execution_count": 7,
   "metadata": {},
   "outputs": [
    {
     "data": {
      "text/html": [
       "<div>\n",
       "<style scoped>\n",
       "    .dataframe tbody tr th:only-of-type {\n",
       "        vertical-align: middle;\n",
       "    }\n",
       "\n",
       "    .dataframe tbody tr th {\n",
       "        vertical-align: top;\n",
       "    }\n",
       "\n",
       "    .dataframe thead th {\n",
       "        text-align: right;\n",
       "    }\n",
       "</style>\n",
       "<table border=\"1\" class=\"dataframe\">\n",
       "  <thead>\n",
       "    <tr style=\"text-align: right;\">\n",
       "      <th></th>\n",
       "      <th>CustomerID</th>\n",
       "      <th>StockCode</th>\n",
       "      <th>prediction</th>\n",
       "    </tr>\n",
       "  </thead>\n",
       "  <tbody>\n",
       "    <tr>\n",
       "      <th>0</th>\n",
       "      <td>17096</td>\n",
       "      <td>22766</td>\n",
       "      <td>-0.705524</td>\n",
       "    </tr>\n",
       "    <tr>\n",
       "      <th>1</th>\n",
       "      <td>15038</td>\n",
       "      <td>22478</td>\n",
       "      <td>0.898906</td>\n",
       "    </tr>\n",
       "    <tr>\n",
       "      <th>2</th>\n",
       "      <td>14684</td>\n",
       "      <td>21789</td>\n",
       "      <td>1.288577</td>\n",
       "    </tr>\n",
       "    <tr>\n",
       "      <th>3</th>\n",
       "      <td>12826</td>\n",
       "      <td>21034</td>\n",
       "      <td>-1.593510</td>\n",
       "    </tr>\n",
       "    <tr>\n",
       "      <th>4</th>\n",
       "      <td>15866</td>\n",
       "      <td>82600</td>\n",
       "      <td>-0.761871</td>\n",
       "    </tr>\n",
       "  </tbody>\n",
       "</table>\n",
       "</div>"
      ],
      "text/plain": [
       "   CustomerID StockCode  prediction\n",
       "0       17096     22766   -0.705524\n",
       "1       15038     22478    0.898906\n",
       "2       14684     21789    1.288577\n",
       "3       12826     21034   -1.593510\n",
       "4       15866     82600   -0.761871"
      ]
     },
     "execution_count": 7,
     "metadata": {},
     "output_type": "execute_result"
    }
   ],
   "source": [
    "# Make Predictions\n",
    "test_pred = predict(base_model, test, usercol='CustomerID', itemcol='StockCode')\n",
    "\n",
    "# Show first five rows\n",
    "test_pred.head()"
   ]
  },
  {
   "cell_type": "code",
   "execution_count": 8,
   "metadata": {},
   "outputs": [
    {
     "data": {
      "text/plain": [
       "count    98401.000000\n",
       "mean        -0.480217\n",
       "std          1.170263\n",
       "min         -2.000000\n",
       "25%         -1.202846\n",
       "50%         -0.871576\n",
       "75%          0.895582\n",
       "max          2.000000\n",
       "Name: prediction, dtype: float64"
      ]
     },
     "execution_count": 8,
     "metadata": {},
     "output_type": "execute_result"
    }
   ],
   "source": [
    "# Check Statistics of Prediction\n",
    "test_pred.prediction.describe()"
   ]
  },
  {
   "cell_type": "code",
   "execution_count": 9,
   "metadata": {},
   "outputs": [],
   "source": [
    "# Convert Predictions\n",
    "test_pred['prediction'] = np.where((test_pred['prediction']>0),1,0)\n",
    "\n",
    "# Convert Test\n",
    "test['purchased'] = np.where((test['purchased']>0),1,0)"
   ]
  },
  {
   "cell_type": "code",
   "execution_count": 10,
   "metadata": {},
   "outputs": [
    {
     "data": {
      "text/plain": [
       "0    68875\n",
       "1    29526\n",
       "Name: prediction, dtype: int64"
      ]
     },
     "execution_count": 10,
     "metadata": {},
     "output_type": "execute_result"
    }
   ],
   "source": [
    "# Check Distribution\n",
    "test_pred['prediction'].value_counts()"
   ]
  },
  {
   "cell_type": "code",
   "execution_count": 11,
   "metadata": {},
   "outputs": [],
   "source": [
    "# Sort Index of both Datasets to use Accuracy Score \n",
    "test = test.sort_values(by=['CustomerID', 'StockCode'])\n",
    "test_pred = test_pred.sort_values(by=['CustomerID', 'StockCode'])\n",
    "\n",
    "# Reset indeces for both DataFrames\n",
    "test = test.reset_index(drop=True)\n",
    "test_pred = test_pred.reset_index(drop=True)"
   ]
  },
  {
   "cell_type": "code",
   "execution_count": 12,
   "metadata": {},
   "outputs": [
    {
     "data": {
      "text/html": [
       "<div>\n",
       "<style scoped>\n",
       "    .dataframe tbody tr th:only-of-type {\n",
       "        vertical-align: middle;\n",
       "    }\n",
       "\n",
       "    .dataframe tbody tr th {\n",
       "        vertical-align: top;\n",
       "    }\n",
       "\n",
       "    .dataframe thead th {\n",
       "        text-align: right;\n",
       "    }\n",
       "</style>\n",
       "<table border=\"1\" class=\"dataframe\">\n",
       "  <thead>\n",
       "    <tr style=\"text-align: right;\">\n",
       "      <th></th>\n",
       "      <th>CustomerID</th>\n",
       "      <th>StockCode</th>\n",
       "      <th>purchased</th>\n",
       "    </tr>\n",
       "  </thead>\n",
       "  <tbody>\n",
       "    <tr>\n",
       "      <th>0</th>\n",
       "      <td>12347</td>\n",
       "      <td>21232</td>\n",
       "      <td>0</td>\n",
       "    </tr>\n",
       "    <tr>\n",
       "      <th>1</th>\n",
       "      <td>12347</td>\n",
       "      <td>21754</td>\n",
       "      <td>0</td>\n",
       "    </tr>\n",
       "    <tr>\n",
       "      <th>2</th>\n",
       "      <td>12347</td>\n",
       "      <td>21790</td>\n",
       "      <td>0</td>\n",
       "    </tr>\n",
       "    <tr>\n",
       "      <th>3</th>\n",
       "      <td>12347</td>\n",
       "      <td>22086</td>\n",
       "      <td>0</td>\n",
       "    </tr>\n",
       "    <tr>\n",
       "      <th>4</th>\n",
       "      <td>12347</td>\n",
       "      <td>22149</td>\n",
       "      <td>0</td>\n",
       "    </tr>\n",
       "  </tbody>\n",
       "</table>\n",
       "</div>"
      ],
      "text/plain": [
       "   CustomerID StockCode  purchased\n",
       "0       12347     21232          0\n",
       "1       12347     21754          0\n",
       "2       12347     21790          0\n",
       "3       12347     22086          0\n",
       "4       12347     22149          0"
      ]
     },
     "execution_count": 12,
     "metadata": {},
     "output_type": "execute_result"
    }
   ],
   "source": [
    "# First Reorder columns for test \n",
    "test = test[['CustomerID', 'StockCode', 'purchased']]\n",
    "# Head of Test\n",
    "test.head()"
   ]
  },
  {
   "cell_type": "code",
   "execution_count": 13,
   "metadata": {},
   "outputs": [
    {
     "data": {
      "text/html": [
       "<div>\n",
       "<style scoped>\n",
       "    .dataframe tbody tr th:only-of-type {\n",
       "        vertical-align: middle;\n",
       "    }\n",
       "\n",
       "    .dataframe tbody tr th {\n",
       "        vertical-align: top;\n",
       "    }\n",
       "\n",
       "    .dataframe thead th {\n",
       "        text-align: right;\n",
       "    }\n",
       "</style>\n",
       "<table border=\"1\" class=\"dataframe\">\n",
       "  <thead>\n",
       "    <tr style=\"text-align: right;\">\n",
       "      <th></th>\n",
       "      <th>CustomerID</th>\n",
       "      <th>StockCode</th>\n",
       "      <th>prediction</th>\n",
       "    </tr>\n",
       "  </thead>\n",
       "  <tbody>\n",
       "    <tr>\n",
       "      <th>0</th>\n",
       "      <td>12347</td>\n",
       "      <td>21232</td>\n",
       "      <td>0</td>\n",
       "    </tr>\n",
       "    <tr>\n",
       "      <th>1</th>\n",
       "      <td>12347</td>\n",
       "      <td>21754</td>\n",
       "      <td>0</td>\n",
       "    </tr>\n",
       "    <tr>\n",
       "      <th>2</th>\n",
       "      <td>12347</td>\n",
       "      <td>21790</td>\n",
       "      <td>0</td>\n",
       "    </tr>\n",
       "    <tr>\n",
       "      <th>3</th>\n",
       "      <td>12347</td>\n",
       "      <td>22086</td>\n",
       "      <td>0</td>\n",
       "    </tr>\n",
       "    <tr>\n",
       "      <th>4</th>\n",
       "      <td>12347</td>\n",
       "      <td>22149</td>\n",
       "      <td>0</td>\n",
       "    </tr>\n",
       "  </tbody>\n",
       "</table>\n",
       "</div>"
      ],
      "text/plain": [
       "   CustomerID StockCode  prediction\n",
       "0       12347     21232           0\n",
       "1       12347     21754           0\n",
       "2       12347     21790           0\n",
       "3       12347     22086           0\n",
       "4       12347     22149           0"
      ]
     },
     "execution_count": 13,
     "metadata": {},
     "output_type": "execute_result"
    }
   ],
   "source": [
    "# Head of Test_pred\n",
    "test_pred.head()"
   ]
  },
  {
   "cell_type": "code",
   "execution_count": 14,
   "metadata": {},
   "outputs": [
    {
     "data": {
      "text/plain": [
       "0.9362404853609211"
      ]
     },
     "execution_count": 14,
     "metadata": {},
     "output_type": "execute_result"
    }
   ],
   "source": [
    "# Import Accuracy \n",
    "from sklearn.metrics import accuracy_score\n",
    "\n",
    "# Accuracy \n",
    "accuracy_score(test.purchased, test_pred.prediction)"
   ]
  },
  {
   "attachments": {},
   "cell_type": "markdown",
   "metadata": {},
   "source": [
    "# Prediction: Top N "
   ]
  },
  {
   "cell_type": "code",
   "execution_count": 15,
   "metadata": {},
   "outputs": [],
   "source": [
    "# Predict all pairs that are not in the train set\n",
    "predictions = compute_ranking_predictions(base_model, train, usercol='CustomerID', itemcol='StockCode', remove_seen=True)"
   ]
  },
  {
   "cell_type": "code",
   "execution_count": 16,
   "metadata": {},
   "outputs": [
    {
     "data": {
      "text/html": [
       "<div>\n",
       "<style scoped>\n",
       "    .dataframe tbody tr th:only-of-type {\n",
       "        vertical-align: middle;\n",
       "    }\n",
       "\n",
       "    .dataframe tbody tr th {\n",
       "        vertical-align: top;\n",
       "    }\n",
       "\n",
       "    .dataframe thead th {\n",
       "        text-align: right;\n",
       "    }\n",
       "</style>\n",
       "<table border=\"1\" class=\"dataframe\">\n",
       "  <thead>\n",
       "    <tr style=\"text-align: right;\">\n",
       "      <th></th>\n",
       "      <th>CustomerID</th>\n",
       "      <th>StockCode</th>\n",
       "      <th>prediction</th>\n",
       "    </tr>\n",
       "  </thead>\n",
       "  <tbody>\n",
       "    <tr>\n",
       "      <th>393208</th>\n",
       "      <td>14323</td>\n",
       "      <td>16169E</td>\n",
       "      <td>0.827617</td>\n",
       "    </tr>\n",
       "    <tr>\n",
       "      <th>393209</th>\n",
       "      <td>14323</td>\n",
       "      <td>20829</td>\n",
       "      <td>0.965868</td>\n",
       "    </tr>\n",
       "    <tr>\n",
       "      <th>393210</th>\n",
       "      <td>14323</td>\n",
       "      <td>20719</td>\n",
       "      <td>-1.061563</td>\n",
       "    </tr>\n",
       "    <tr>\n",
       "      <th>393211</th>\n",
       "      <td>14323</td>\n",
       "      <td>84030E</td>\n",
       "      <td>0.924936</td>\n",
       "    </tr>\n",
       "    <tr>\n",
       "      <th>393212</th>\n",
       "      <td>14323</td>\n",
       "      <td>84992</td>\n",
       "      <td>-0.784446</td>\n",
       "    </tr>\n",
       "  </tbody>\n",
       "</table>\n",
       "</div>"
      ],
      "text/plain": [
       "        CustomerID StockCode  prediction\n",
       "393208       14323    16169E    0.827617\n",
       "393209       14323     20829    0.965868\n",
       "393210       14323     20719   -1.061563\n",
       "393211       14323    84030E    0.924936\n",
       "393212       14323     84992   -0.784446"
      ]
     },
     "execution_count": 16,
     "metadata": {},
     "output_type": "execute_result"
    }
   ],
   "source": [
    "# Check first five rows\n",
    "predictions.head()"
   ]
  },
  {
   "cell_type": "code",
   "execution_count": 17,
   "metadata": {},
   "outputs": [],
   "source": [
    "# Filter Test for purchased items only\n",
    "test = test[test['purchased']==1]"
   ]
  },
  {
   "cell_type": "code",
   "execution_count": 18,
   "metadata": {},
   "outputs": [],
   "source": [
    "# Now filter out top N \n",
    "# First write a function\n",
    "def filter_top_n(predictions: pd.DataFrame, n: int) -> pd.DataFrame:\n",
    "    \n",
    "    # Group the dataframe by 'CustomerID', and for each group, sort by 'prediction' in descending order, then take the top N rows\n",
    "    top_n_per_customer = predictions.groupby('CustomerID', group_keys=False).apply(lambda group: group.sort_values('prediction', ascending=False).head(n))\n",
    "    \n",
    "    return top_n_per_customer\n",
    "\n",
    "# Filter Top 10 \n",
    "top_10 = filter_top_n(predictions, 10)\n",
    "\n",
    "# Filter Top 20 \n",
    "top_20 = filter_top_n(predictions, 20)\n"
   ]
  },
  {
   "cell_type": "code",
   "execution_count": 19,
   "metadata": {},
   "outputs": [
    {
     "name": "stdout",
     "output_type": "stream",
     "text": [
      "precision at 10 \t: 0.012681281618887014\n",
      "recall at 10 \t: 0.010419423821411537\n"
     ]
    }
   ],
   "source": [
    "# Evaluate Precision at 10 \n",
    "eval_precision_10 = precision_at_k(test, top_10, col_user=\"CustomerID\", col_item=\"StockCode\",\n",
    "                                    col_rating=\"purchased\", col_prediction=\"prediction\", \n",
    "                                    relevancy_method=\"top_k\", k=10)\n",
    "print('precision at 10 \\t:', eval_precision_10)\n",
    "\n",
    "# Evaluate Recall at 10 \n",
    "eval_recall_10 = recall_at_k(test, top_10,col_user=\"CustomerID\", col_item=\"StockCode\",\n",
    "                                    col_rating=\"purchased\", col_prediction=\"prediction\", \n",
    "                                    relevancy_method=\"top_k\", k=10)\n",
    "print('recall at 10 \\t:', eval_recall_10)"
   ]
  },
  {
   "cell_type": "code",
   "execution_count": 20,
   "metadata": {},
   "outputs": [
    {
     "name": "stdout",
     "output_type": "stream",
     "text": [
      "precision at 20 \t: 0.012276559865092749\n",
      "recall at 20 \t: 0.02117584846406726\n"
     ]
    }
   ],
   "source": [
    "# Evaluate Precision at 20 \n",
    "eval_precision_20 = precision_at_k(test, top_20, col_user=\"CustomerID\", col_item=\"StockCode\",\n",
    "                                    col_rating=\"purchased\", col_prediction=\"prediction\", \n",
    "                                    relevancy_method=\"top_k\", k=20)\n",
    "print('precision at 20 \\t:', eval_precision_20)\n",
    "\n",
    "# Evaluate Recall at 20 \n",
    "eval_recall_20 = recall_at_k(test, top_20,col_user=\"CustomerID\", col_item=\"StockCode\",\n",
    "                                    col_rating=\"purchased\", col_prediction=\"prediction\", \n",
    "                                    relevancy_method=\"top_k\", k=20)\n",
    "print('recall at 20 \\t:', eval_recall_20)"
   ]
  },
  {
   "attachments": {},
   "cell_type": "markdown",
   "metadata": {},
   "source": [
    "# Hyper-Parameter Tuning"
   ]
  },
  {
   "cell_type": "code",
   "execution_count": 21,
   "metadata": {},
   "outputs": [
    {
     "name": "stdout",
     "output_type": "stream",
     "text": [
      "recall at for 5 factors: \t 0.01126942557908799\n",
      "recall at for 10 factors: \t 0.011858066801018094\n",
      "recall at for 100 factors: \t 0.011168573050610428\n",
      "recall at for 200 factors: \t 0.010602623692362357\n",
      "recall at for 1000 factors: \t 0.006634928677239112\n"
     ]
    }
   ],
   "source": [
    "# Define Set of Hyperparameters: \n",
    "n_factors = [5, 10, 100, 200, 1000]\n",
    "\n",
    "# Initiate List for Metrics\n",
    "factors = []\n",
    "recall_k = []\n",
    "\n",
    "# Start for loop\n",
    "for factor in n_factors:\n",
    "    # First Delete Model Everytime\n",
    "    try:\n",
    "        del(model)\n",
    "    except:\n",
    "        pass\n",
    "\n",
    "    # Define Model with Parameters \n",
    "    model = surprise.SVDpp(random_state=0, n_factors=factor, n_epochs=10)\n",
    "\n",
    "    # Fit model\n",
    "    model.fit(train_set)\n",
    "\n",
    "    # Predict all pairs that are not in the train set\n",
    "    predictions = compute_ranking_predictions(model, test, usercol='CustomerID', itemcol='StockCode')\n",
    "\n",
    "    # Filter Top 10 \n",
    "    top_10 = filter_top_n(predictions, 10)\n",
    "\n",
    "    # Evaluate Recall at 10 \n",
    "    eval_recall_10 = recall_at_k(test, top_10,col_user=\"CustomerID\", col_item=\"StockCode\",\n",
    "                                        col_rating=\"purchased\", col_prediction=\"prediction\", \n",
    "                                        relevancy_method=\"top_k\", k=10)\n",
    "\n",
    "    print(\"recall at for\", factor, \"factors: \\t\", eval_recall_10)\n",
    "\n",
    "    # Append Lists\n",
    "    factors.append(factor)\n",
    "    recall_k.append(eval_recall_10)"
   ]
  },
  {
   "attachments": {},
   "cell_type": "markdown",
   "metadata": {},
   "source": [
    "# Tuning 2"
   ]
  },
  {
   "cell_type": "code",
   "execution_count": 22,
   "metadata": {},
   "outputs": [
    {
     "name": "stdout",
     "output_type": "stream",
     "text": [
      "recall at for 6 factors: \t 0.009297708870898199\n",
      "recall at for 6 factors: \t 0.01032421461842051\n",
      "recall at for 6 factors: \t 0.010377861972052394\n",
      "recall at for 6 factors: \t 0.01211255443139032\n",
      "recall at for 6 factors: \t 0.012091801989718768\n",
      "recall at for 6 factors: \t 0.011751879357969267\n",
      "recall at for 6 factors: \t 0.011951599188840414\n",
      "recall at for 6 factors: \t 0.011307478917830429\n",
      "recall at for 6 factors: \t 0.011362811254026753\n",
      "recall at for 7 factors: \t 0.01087509339215899\n",
      "recall at for 7 factors: \t 0.01148687712874402\n",
      "recall at for 7 factors: \t 0.012210002659597886\n",
      "recall at for 7 factors: \t 0.010832837898129609\n",
      "recall at for 7 factors: \t 0.011542219960753023\n",
      "recall at for 7 factors: \t 0.011528158294946208\n",
      "recall at for 7 factors: \t 0.011227687576369532\n",
      "recall at for 7 factors: \t 0.010877875929435997\n",
      "recall at for 7 factors: \t 0.01145462320895149\n",
      "recall at for 8 factors: \t 0.010477579211554441\n",
      "recall at for 8 factors: \t 0.011165925091764433\n",
      "recall at for 8 factors: \t 0.01164740480307128\n",
      "recall at for 8 factors: \t 0.01154685282623559\n",
      "recall at for 8 factors: \t 0.011721121236696512\n",
      "recall at for 8 factors: \t 0.012234797077933424\n",
      "recall at for 8 factors: \t 0.010967904024390462\n",
      "recall at for 8 factors: \t 0.011101318809086883\n",
      "recall at for 8 factors: \t 0.011120403624975047\n",
      "recall at for 9 factors: \t 0.009487496554167947\n",
      "recall at for 9 factors: \t 0.010610677089180731\n",
      "recall at for 9 factors: \t 0.011121298621132638\n",
      "recall at for 9 factors: \t 0.010953224792559009\n",
      "recall at for 9 factors: \t 0.010599462915731704\n",
      "recall at for 9 factors: \t 0.010788050283284802\n",
      "recall at for 9 factors: \t 0.011383691586217227\n",
      "recall at for 9 factors: \t 0.010441936314633575\n",
      "recall at for 9 factors: \t 0.01020357535103189\n",
      "recall at for 10 factors: \t 0.010200123378209804\n",
      "recall at for 10 factors: \t 0.010946327651899198\n",
      "recall at for 10 factors: \t 0.011982279967526595\n",
      "recall at for 10 factors: \t 0.011768796979973116\n",
      "recall at for 10 factors: \t 0.011978847744643051\n",
      "recall at for 10 factors: \t 0.011809397139496159\n",
      "recall at for 10 factors: \t 0.012745540462707235\n",
      "recall at for 10 factors: \t 0.01148290680170405\n",
      "recall at for 10 factors: \t 0.011484764664457909\n",
      "recall at for 11 factors: \t 0.0112044643173424\n",
      "recall at for 11 factors: \t 0.011461189928606706\n",
      "recall at for 11 factors: \t 0.010717765247856486\n",
      "recall at for 11 factors: \t 0.011817389329176597\n",
      "recall at for 11 factors: \t 0.012477573639938393\n",
      "recall at for 11 factors: \t 0.012661539098332513\n",
      "recall at for 11 factors: \t 0.012382915293920653\n",
      "recall at for 11 factors: \t 0.010963061538922939\n",
      "recall at for 11 factors: \t 0.011242673152664407\n",
      "recall at for 12 factors: \t 0.00943268774398596\n",
      "recall at for 12 factors: \t 0.010498996658484973\n",
      "recall at for 12 factors: \t 0.011098880784502935\n",
      "recall at for 12 factors: \t 0.010450743001533232\n",
      "recall at for 12 factors: \t 0.01015985517842769\n",
      "recall at for 12 factors: \t 0.010480651908558828\n",
      "recall at for 12 factors: \t 0.011917896781258087\n",
      "recall at for 12 factors: \t 0.011582662305676698\n",
      "recall at for 12 factors: \t 0.012327205497249596\n",
      "recall at for 13 factors: \t 0.00934843132631434\n",
      "recall at for 13 factors: \t 0.0098095311540843\n",
      "recall at for 13 factors: \t 0.010362626161898343\n",
      "recall at for 13 factors: \t 0.010941838542677898\n",
      "recall at for 13 factors: \t 0.0107446270328942\n",
      "recall at for 13 factors: \t 0.010324683471252335\n",
      "recall at for 13 factors: \t 0.011928102842931011\n",
      "recall at for 13 factors: \t 0.011434558945033951\n",
      "recall at for 13 factors: \t 0.011234933162398125\n",
      "recall at for 14 factors: \t 0.00864851249577137\n",
      "recall at for 14 factors: \t 0.009428551021036425\n",
      "recall at for 14 factors: \t 0.010745433084247706\n",
      "recall at for 14 factors: \t 0.01134068746951288\n",
      "recall at for 14 factors: \t 0.010325353236786525\n",
      "recall at for 14 factors: \t 0.011457265892924012\n",
      "recall at for 14 factors: \t 0.012355995845760177\n",
      "recall at for 14 factors: \t 0.012554482192841243\n",
      "recall at for 14 factors: \t 0.012808730941290633\n",
      "recall at for 15 factors: \t 0.0096131177975984\n",
      "recall at for 15 factors: \t 0.010145454829891577\n",
      "recall at for 15 factors: \t 0.011041238621335233\n",
      "recall at for 15 factors: \t 0.010379951118456287\n",
      "recall at for 15 factors: \t 0.010325131785041554\n",
      "recall at for 15 factors: \t 0.010678158080385592\n",
      "recall at for 15 factors: \t 0.011874149601583787\n",
      "recall at for 15 factors: \t 0.011441740180150916\n",
      "recall at for 15 factors: \t 0.011883235206653955\n"
     ]
    }
   ],
   "source": [
    "# Define Set of Hyperparameters: \n",
    "n_factors = [6, 7, 8, 9, 10, 11, 12, 13, 14, 15]\n",
    "lr_rates = [0.001, 0.003, 0.007]\n",
    "reg_terms = [0.01, 0.02, 0.03]\n",
    "\n",
    "# Initiate Lists \n",
    "factor_nr = []\n",
    "regulation_all = []\n",
    "lr_all = []\n",
    "recall_10 = []\n",
    "recall_20 = []\n",
    "precision_10 = []\n",
    "precision_20 = []\n",
    "\n",
    "# Start for loop\n",
    "for factor in n_factors:\n",
    "    for lr in lr_rates:\n",
    "        for reg in reg_terms:\n",
    "            # First Delete Model Everytime\n",
    "            try:\n",
    "                del(model)\n",
    "            except:\n",
    "                pass\n",
    "\n",
    "            # Define Model with Parameters \n",
    "            model = surprise.SVDpp(random_state=0,\n",
    "                                    n_factors=factor,\n",
    "                                    n_epochs=20,\n",
    "                                    lr_all=lr,\n",
    "                                    reg_all=reg)\n",
    "\n",
    "            # Fit model\n",
    "            model.fit(train_set)\n",
    "\n",
    "            # Predict all pairs that are not in the train set\n",
    "            predictions = compute_ranking_predictions(model, test, usercol='CustomerID', itemcol='StockCode')\n",
    "\n",
    "            # Filter Top 10 \n",
    "            top_10 = filter_top_n(predictions, 10)\n",
    "            top_20 = filter_top_n(predictions, 20)\n",
    "            \n",
    "            # Evaluate Recall at 10 \n",
    "            eval_recall_10 = recall_at_k(test, top_10,col_user=\"CustomerID\", col_item=\"StockCode\",\n",
    "                                        col_rating=\"purchased\", col_prediction=\"prediction\", \n",
    "                                        relevancy_method=\"top_k\", k=10)\n",
    "            # Evaluate Recall at 20 \n",
    "            eval_recall_20 = recall_at_k(test, top_20,col_user=\"CustomerID\", col_item=\"StockCode\",\n",
    "                                col_rating=\"purchased\", col_prediction=\"prediction\", \n",
    "                                relevancy_method=\"top_k\", k=20)\n",
    "            \n",
    "            # Evaluate Precision at 10 \n",
    "            eval_precision_10 = precision_at_k(test, top_10, col_user=\"CustomerID\", col_item=\"StockCode\",\n",
    "                                col_rating=\"purchased\", col_prediction=\"prediction\", \n",
    "                                relevancy_method=\"top_k\", k=10)\n",
    "            # Evaluate Precision at 20 \n",
    "            eval_precision_20 = precision_at_k(test, top_20, col_user=\"CustomerID\", col_item=\"StockCode\",\n",
    "                                col_rating=\"purchased\", col_prediction=\"prediction\", \n",
    "                                relevancy_method=\"top_k\", k=20) \n",
    "            \n",
    "            print(\"recall at for\", factor, \"factors: \\t\", eval_recall_10)\n",
    "            factor_nr.append(factor)\n",
    "            regulation_all.append(reg)\n",
    "            lr_all.append(lr)\n",
    "            recall_10.append(eval_recall_10)\n",
    "            recall_20.append(eval_recall_20)\n",
    "            precision_10.append(eval_precision_10)\n",
    "            precision_20.append(eval_precision_20)"
   ]
  },
  {
   "cell_type": "code",
   "execution_count": 36,
   "metadata": {},
   "outputs": [
    {
     "data": {
      "text/html": [
       "<div>\n",
       "<style scoped>\n",
       "    .dataframe tbody tr th:only-of-type {\n",
       "        vertical-align: middle;\n",
       "    }\n",
       "\n",
       "    .dataframe tbody tr th {\n",
       "        vertical-align: top;\n",
       "    }\n",
       "\n",
       "    .dataframe thead th {\n",
       "        text-align: right;\n",
       "    }\n",
       "</style>\n",
       "<table border=\"1\" class=\"dataframe\">\n",
       "  <thead>\n",
       "    <tr style=\"text-align: right;\">\n",
       "      <th></th>\n",
       "      <th>factor</th>\n",
       "      <th>regulation_term</th>\n",
       "      <th>learning_rate</th>\n",
       "      <th>recall_10</th>\n",
       "      <th>recall_20</th>\n",
       "      <th>precision_10</th>\n",
       "      <th>precision_20</th>\n",
       "    </tr>\n",
       "  </thead>\n",
       "  <tbody>\n",
       "    <tr>\n",
       "      <th>29</th>\n",
       "      <td>9</td>\n",
       "      <td>0.03</td>\n",
       "      <td>0.001</td>\n",
       "      <td>0.011121</td>\n",
       "      <td>0.023979</td>\n",
       "      <td>0.011906</td>\n",
       "      <td>0.012192</td>\n",
       "    </tr>\n",
       "    <tr>\n",
       "      <th>78</th>\n",
       "      <td>14</td>\n",
       "      <td>0.01</td>\n",
       "      <td>0.007</td>\n",
       "      <td>0.012356</td>\n",
       "      <td>0.023468</td>\n",
       "      <td>0.015177</td>\n",
       "      <td>0.013322</td>\n",
       "    </tr>\n",
       "    <tr>\n",
       "      <th>47</th>\n",
       "      <td>11</td>\n",
       "      <td>0.03</td>\n",
       "      <td>0.001</td>\n",
       "      <td>0.010718</td>\n",
       "      <td>0.023254</td>\n",
       "      <td>0.011265</td>\n",
       "      <td>0.012108</td>\n",
       "    </tr>\n",
       "    <tr>\n",
       "      <th>20</th>\n",
       "      <td>8</td>\n",
       "      <td>0.03</td>\n",
       "      <td>0.001</td>\n",
       "      <td>0.011647</td>\n",
       "      <td>0.023246</td>\n",
       "      <td>0.011838</td>\n",
       "      <td>0.011855</td>\n",
       "    </tr>\n",
       "    <tr>\n",
       "      <th>76</th>\n",
       "      <td>14</td>\n",
       "      <td>0.02</td>\n",
       "      <td>0.003</td>\n",
       "      <td>0.010325</td>\n",
       "      <td>0.023048</td>\n",
       "      <td>0.011669</td>\n",
       "      <td>0.012597</td>\n",
       "    </tr>\n",
       "    <tr>\n",
       "      <th>...</th>\n",
       "      <td>...</td>\n",
       "      <td>...</td>\n",
       "      <td>...</td>\n",
       "      <td>...</td>\n",
       "      <td>...</td>\n",
       "      <td>...</td>\n",
       "      <td>...</td>\n",
       "    </tr>\n",
       "    <tr>\n",
       "      <th>25</th>\n",
       "      <td>8</td>\n",
       "      <td>0.02</td>\n",
       "      <td>0.007</td>\n",
       "      <td>0.011101</td>\n",
       "      <td>0.019980</td>\n",
       "      <td>0.012580</td>\n",
       "      <td>0.011619</td>\n",
       "    </tr>\n",
       "    <tr>\n",
       "      <th>88</th>\n",
       "      <td>15</td>\n",
       "      <td>0.02</td>\n",
       "      <td>0.007</td>\n",
       "      <td>0.011442</td>\n",
       "      <td>0.019964</td>\n",
       "      <td>0.012479</td>\n",
       "      <td>0.011568</td>\n",
       "    </tr>\n",
       "    <tr>\n",
       "      <th>81</th>\n",
       "      <td>15</td>\n",
       "      <td>0.01</td>\n",
       "      <td>0.001</td>\n",
       "      <td>0.009613</td>\n",
       "      <td>0.019889</td>\n",
       "      <td>0.010624</td>\n",
       "      <td>0.011046</td>\n",
       "    </tr>\n",
       "    <tr>\n",
       "      <th>16</th>\n",
       "      <td>7</td>\n",
       "      <td>0.02</td>\n",
       "      <td>0.007</td>\n",
       "      <td>0.010878</td>\n",
       "      <td>0.019463</td>\n",
       "      <td>0.013086</td>\n",
       "      <td>0.011602</td>\n",
       "    </tr>\n",
       "    <tr>\n",
       "      <th>0</th>\n",
       "      <td>6</td>\n",
       "      <td>0.01</td>\n",
       "      <td>0.001</td>\n",
       "      <td>0.009298</td>\n",
       "      <td>0.019143</td>\n",
       "      <td>0.010253</td>\n",
       "      <td>0.010304</td>\n",
       "    </tr>\n",
       "  </tbody>\n",
       "</table>\n",
       "<p>90 rows × 7 columns</p>\n",
       "</div>"
      ],
      "text/plain": [
       "    factor  regulation_term  learning_rate  recall_10  recall_20  \\\n",
       "29       9             0.03          0.001   0.011121   0.023979   \n",
       "78      14             0.01          0.007   0.012356   0.023468   \n",
       "47      11             0.03          0.001   0.010718   0.023254   \n",
       "20       8             0.03          0.001   0.011647   0.023246   \n",
       "76      14             0.02          0.003   0.010325   0.023048   \n",
       "..     ...              ...            ...        ...        ...   \n",
       "25       8             0.02          0.007   0.011101   0.019980   \n",
       "88      15             0.02          0.007   0.011442   0.019964   \n",
       "81      15             0.01          0.001   0.009613   0.019889   \n",
       "16       7             0.02          0.007   0.010878   0.019463   \n",
       "0        6             0.01          0.001   0.009298   0.019143   \n",
       "\n",
       "    precision_10  precision_20  \n",
       "29      0.011906      0.012192  \n",
       "78      0.015177      0.013322  \n",
       "47      0.011265      0.012108  \n",
       "20      0.011838      0.011855  \n",
       "76      0.011669      0.012597  \n",
       "..           ...           ...  \n",
       "25      0.012580      0.011619  \n",
       "88      0.012479      0.011568  \n",
       "81      0.010624      0.011046  \n",
       "16      0.013086      0.011602  \n",
       "0       0.010253      0.010304  \n",
       "\n",
       "[90 rows x 7 columns]"
      ]
     },
     "execution_count": 36,
     "metadata": {},
     "output_type": "execute_result"
    }
   ],
   "source": [
    "dict_param2 = {\n",
    "    \"factor\": factor_nr,\n",
    "    \"regulation_term\": regulation_all,\n",
    "    \"learning_rate\": lr_all,\n",
    "    \"recall_10\": recall_10,\n",
    "    \"recall_20\": recall_20,\n",
    "    \"precision_10\":precision_10,\n",
    "    \"precision_20\":precision_20\n",
    "}\n",
    "\n",
    "df_param2 = pd.DataFrame(dict_param2)\n",
    "df_param2.sort_values(by=\"recall_20\", ascending=False)"
   ]
  },
  {
   "attachments": {},
   "cell_type": "markdown",
   "metadata": {},
   "source": [
    "# Best Model: Accuracy on Test Set"
   ]
  },
  {
   "cell_type": "code",
   "execution_count": 26,
   "metadata": {},
   "outputs": [
    {
     "data": {
      "text/plain": [
       "0.8365952518818761"
      ]
     },
     "execution_count": 26,
     "metadata": {},
     "output_type": "execute_result"
    }
   ],
   "source": [
    "# Create Object for base_model \n",
    "best_model = surprise.SVDpp(random_state=0, n_factors=14, lr_all=0.007, reg_all=0.03, n_epochs=20, verbose=False)\n",
    "\n",
    "# Fit the base_model\n",
    "best_model.fit(train_set)\n",
    "\n",
    "# Make Predictions\n",
    "test_pred = predict(base_model, test, usercol='CustomerID', itemcol='StockCode')\n",
    "\n",
    "# Convert Predictions\n",
    "test_pred['prediction'] = np.where((test_pred['prediction']>0),1,0)\n",
    "\n",
    "# Merge test & test_pred to get positive instances \n",
    "test_positive_pred = test.merge(test_pred, on=['CustomerID', 'StockCode'], how='left', indicator=True)\n",
    "\n",
    "# Accuracy \n",
    "accuracy_score(test_positive_pred.purchased, test_positive_pred.prediction)"
   ]
  },
  {
   "attachments": {},
   "cell_type": "markdown",
   "metadata": {},
   "source": [
    "# Visualizations best Model"
   ]
  },
  {
   "cell_type": "code",
   "execution_count": 28,
   "metadata": {},
   "outputs": [],
   "source": [
    "# Import Vizualization Libraries\n",
    "import seaborn as sns \n",
    "from matplotlib import pyplot as plt\n",
    "import plotly.express as px"
   ]
  },
  {
   "cell_type": "code",
   "execution_count": 33,
   "metadata": {},
   "outputs": [
    {
     "data": {
      "image/png": "[encoded data removed]",
      "text/plain": [
       "<Figure size 1000x1000 with 2 Axes>"
      ]
     },
     "metadata": {},
     "output_type": "display_data"
    }
   ],
   "source": [
    "fig = plt.figure(figsize=(10,10))\n",
    "plt.rcParams.update({'font.size': 10})\n",
    "ax = fig.add_subplot(projection='3d')\n",
    "\n",
    "x, y, z = df_param2.factor, df_param2.recall_20, df_param2.recall_10\n",
    "ax.set_xlabel('Factor', fontname='Arial', fontsize=12)\n",
    "ax.set_zlabel('Recall@10',fontname='Arial', fontsize=12)\n",
    "ax.set_ylabel('Recall@20',fontname='Arial', fontsize=12)\n",
    "#ax.scatter(x,y,z, cmap='viridis', marker='o', s=40, c=df_param2.learning_rate)\n",
    "scatter = ax.scatter(x,y,z, cmap='viridis', marker='o', s=40, c=df_param2.learning_rate)\n",
    "#ax.set_title('Number of Factors in the latent Space for the NMF model', fontname='Arial', fontsize=15)\n",
    "\n",
    "# Colorbar\n",
    "cbar = plt.colorbar(scatter, shrink=0.7)\n",
    "cbar.set_label('learning Rate', fontname='Arial', fontsize=12)\n",
    "plt.show()\n"
   ]
  },
  {
   "cell_type": "code",
   "execution_count": 34,
   "metadata": {},
   "outputs": [
    {
     "data": {
      "text/plain": [
       "regulation_term\n",
       "0.01    0.010982\n",
       "0.02    0.011034\n",
       "0.03    0.011338\n",
       "Name: recall_10, dtype: float64"
      ]
     },
     "execution_count": 34,
     "metadata": {},
     "output_type": "execute_result"
    }
   ],
   "source": [
    "df_param2.groupby(\"regulation_term\")[\"recall_10\"].mean()"
   ]
  },
  {
   "cell_type": "code",
   "execution_count": 35,
   "metadata": {},
   "outputs": [
    {
     "data": {
      "text/plain": [
       "learning_rate\n",
       "0.001    0.010526\n",
       "0.003    0.011261\n",
       "0.007    0.011568\n",
       "Name: recall_10, dtype: float64"
      ]
     },
     "execution_count": 35,
     "metadata": {},
     "output_type": "execute_result"
    }
   ],
   "source": [
    "df_param2.groupby(\"learning_rate\")[\"recall_10\"].mean()"
   ]
  },
  {
   "cell_type": "code",
   "execution_count": null,
   "metadata": {},
   "outputs": [],
   "source": []
  }
 ],
 "metadata": {
  "kernelspec": {
   "display_name": "recom",
   "language": "python",
   "name": "python3"
  },
  "language_info": {
   "codemirror_mode": {
    "name": "ipython",
    "version": 3
   },
   "file_extension": ".py",
   "mimetype": "text/x-python",
   "name": "python",
   "nbconvert_exporter": "python",
   "pygments_lexer": "ipython3",
   "version": "3.9.16"
  },
  "orig_nbformat": 4,
  "vscode": {
   "interpreter": {
    "hash": "17afcd9f6960de0a3656d2c4c5dd434deed0eab3cd38c55c3169df3bef50250d"
   }
  }
 },
 "nbformat": 4,
 "nbformat_minor": 2
}
