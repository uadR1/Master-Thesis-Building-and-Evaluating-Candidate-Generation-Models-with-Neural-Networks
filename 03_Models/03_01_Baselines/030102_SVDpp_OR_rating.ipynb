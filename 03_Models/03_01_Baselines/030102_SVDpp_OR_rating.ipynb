{
 "cells": [
  {
   "attachments": {},
   "cell_type": "markdown",
   "metadata": {},
   "source": [
    "# Loading Libraries"
   ]
  },
  {
   "cell_type": "code",
   "execution_count": 1,
   "metadata": {},
   "outputs": [],
   "source": [
    "import pandas as pd\n",
    "import numpy as np\n",
    "\n",
    "import surprise\n",
    "from recommenders.models.surprise.surprise_utils import predict, compute_ranking_predictions\n",
    "from recommenders.evaluation.python_evaluation import precision_at_k, recall_at_k\n"
   ]
  },
  {
   "attachments": {},
   "cell_type": "markdown",
   "metadata": {},
   "source": [
    "# Reading Data"
   ]
  },
  {
   "cell_type": "code",
   "execution_count": 3,
   "metadata": {},
   "outputs": [],
   "source": [
    "# Read Train & Test Data\n",
    "train = pd.read_csv(\"../../00_Data/online_retail_ratings_train.csv\", index_col=0)\n",
    "test = pd.read_csv(\"../../00_Data/online_retail_ratings_test.csv\", index_col=0)"
   ]
  },
  {
   "cell_type": "code",
   "execution_count": 4,
   "metadata": {},
   "outputs": [
    {
     "name": "stdout",
     "output_type": "stream",
     "text": [
      "Shape of Train: (357692, 3)\n",
      "Shape of Test: \t (89479, 3)\n"
     ]
    }
   ],
   "source": [
    "# Check Shapes\n",
    "print(\"Shape of Train:\", train.shape)\n",
    "print(\"Shape of Test: \\t\", test.shape)"
   ]
  },
  {
   "cell_type": "code",
   "execution_count": 5,
   "metadata": {},
   "outputs": [
    {
     "data": {
      "text/html": [
       "<div>\n",
       "<style scoped>\n",
       "    .dataframe tbody tr th:only-of-type {\n",
       "        vertical-align: middle;\n",
       "    }\n",
       "\n",
       "    .dataframe tbody tr th {\n",
       "        vertical-align: top;\n",
       "    }\n",
       "\n",
       "    .dataframe thead th {\n",
       "        text-align: right;\n",
       "    }\n",
       "</style>\n",
       "<table border=\"1\" class=\"dataframe\">\n",
       "  <thead>\n",
       "    <tr style=\"text-align: right;\">\n",
       "      <th></th>\n",
       "      <th>StockCode</th>\n",
       "      <th>CustomerID</th>\n",
       "      <th>purchased</th>\n",
       "    </tr>\n",
       "  </thead>\n",
       "  <tbody>\n",
       "    <tr>\n",
       "      <th>125778</th>\n",
       "      <td>1526</td>\n",
       "      <td>2425</td>\n",
       "      <td>1</td>\n",
       "    </tr>\n",
       "    <tr>\n",
       "      <th>370557</th>\n",
       "      <td>1551</td>\n",
       "      <td>223</td>\n",
       "      <td>-1</td>\n",
       "    </tr>\n",
       "    <tr>\n",
       "      <th>440452</th>\n",
       "      <td>2043</td>\n",
       "      <td>2392</td>\n",
       "      <td>-1</td>\n",
       "    </tr>\n",
       "    <tr>\n",
       "      <th>428223</th>\n",
       "      <td>1756</td>\n",
       "      <td>1936</td>\n",
       "      <td>-1</td>\n",
       "    </tr>\n",
       "    <tr>\n",
       "      <th>285547</th>\n",
       "      <td>2043</td>\n",
       "      <td>69</td>\n",
       "      <td>-1</td>\n",
       "    </tr>\n",
       "  </tbody>\n",
       "</table>\n",
       "</div>"
      ],
      "text/plain": [
       "        StockCode  CustomerID  purchased\n",
       "125778       1526        2425          1\n",
       "370557       1551         223         -1\n",
       "440452       2043        2392         -1\n",
       "428223       1756        1936         -1\n",
       "285547       2043          69         -1"
      ]
     },
     "execution_count": 5,
     "metadata": {},
     "output_type": "execute_result"
    }
   ],
   "source": [
    "# Check Head of Train\n",
    "train.head()"
   ]
  },
  {
   "cell_type": "markdown",
   "metadata": {},
   "source": [
    "# Preparation of Train Dataset for Surprise Models\n"
   ]
  },
  {
   "cell_type": "code",
   "execution_count": 6,
   "metadata": {},
   "outputs": [],
   "source": [
    "# Reader \n",
    "reader = surprise.Reader(rating_scale=(-2,2))\n",
    "\n",
    "# Build Train Set from Custom Dataset\n",
    "train_set = surprise.Dataset.load_from_df(train[['CustomerID', 'StockCode', 'purchased']], reader=reader).build_full_trainset()"
   ]
  },
  {
   "attachments": {},
   "cell_type": "markdown",
   "metadata": {},
   "source": [
    "# Baseline Model"
   ]
  },
  {
   "cell_type": "code",
   "execution_count": 7,
   "metadata": {},
   "outputs": [
    {
     "name": "stdout",
     "output_type": "stream",
     "text": [
      " processing epoch 0\n",
      " processing epoch 1\n",
      " processing epoch 2\n",
      " processing epoch 3\n",
      " processing epoch 4\n",
      " processing epoch 5\n",
      " processing epoch 6\n",
      " processing epoch 7\n",
      " processing epoch 8\n",
      " processing epoch 9\n",
      " processing epoch 10\n",
      " processing epoch 11\n",
      " processing epoch 12\n",
      " processing epoch 13\n",
      " processing epoch 14\n",
      " processing epoch 15\n",
      " processing epoch 16\n",
      " processing epoch 17\n",
      " processing epoch 18\n",
      " processing epoch 19\n"
     ]
    },
    {
     "data": {
      "text/plain": [
       "<surprise.prediction_algorithms.matrix_factorization.SVDpp at 0x7f7fe1b01580>"
      ]
     },
     "execution_count": 7,
     "metadata": {},
     "output_type": "execute_result"
    }
   ],
   "source": [
    "# base_model\n",
    "try:\n",
    "    del(base_model)\n",
    "except:\n",
    "    pass\n",
    "\n",
    "# Create Object for base_model \n",
    "base_model = surprise.SVDpp(random_state=0, n_factors=200, n_epochs=20, verbose=True)\n",
    "\n",
    "# Fit the base_model\n",
    "base_model.fit(train_set)"
   ]
  },
  {
   "attachments": {},
   "cell_type": "markdown",
   "metadata": {},
   "source": [
    "# Prediction: Test Set Only"
   ]
  },
  {
   "cell_type": "code",
   "execution_count": 8,
   "metadata": {},
   "outputs": [
    {
     "data": {
      "text/html": [
       "<div>\n",
       "<style scoped>\n",
       "    .dataframe tbody tr th:only-of-type {\n",
       "        vertical-align: middle;\n",
       "    }\n",
       "\n",
       "    .dataframe tbody tr th {\n",
       "        vertical-align: top;\n",
       "    }\n",
       "\n",
       "    .dataframe thead th {\n",
       "        text-align: right;\n",
       "    }\n",
       "</style>\n",
       "<table border=\"1\" class=\"dataframe\">\n",
       "  <thead>\n",
       "    <tr style=\"text-align: right;\">\n",
       "      <th></th>\n",
       "      <th>CustomerID</th>\n",
       "      <th>StockCode</th>\n",
       "      <th>prediction</th>\n",
       "    </tr>\n",
       "  </thead>\n",
       "  <tbody>\n",
       "    <tr>\n",
       "      <th>0</th>\n",
       "      <td>1347</td>\n",
       "      <td>169</td>\n",
       "      <td>-1.173177</td>\n",
       "    </tr>\n",
       "    <tr>\n",
       "      <th>1</th>\n",
       "      <td>3672</td>\n",
       "      <td>1017</td>\n",
       "      <td>1.283838</td>\n",
       "    </tr>\n",
       "    <tr>\n",
       "      <th>2</th>\n",
       "      <td>2815</td>\n",
       "      <td>1553</td>\n",
       "      <td>-0.808983</td>\n",
       "    </tr>\n",
       "    <tr>\n",
       "      <th>3</th>\n",
       "      <td>1481</td>\n",
       "      <td>1092</td>\n",
       "      <td>-1.080208</td>\n",
       "    </tr>\n",
       "    <tr>\n",
       "      <th>4</th>\n",
       "      <td>26</td>\n",
       "      <td>1513</td>\n",
       "      <td>1.260286</td>\n",
       "    </tr>\n",
       "  </tbody>\n",
       "</table>\n",
       "</div>"
      ],
      "text/plain": [
       "   CustomerID  StockCode  prediction\n",
       "0        1347        169   -1.173177\n",
       "1        3672       1017    1.283838\n",
       "2        2815       1553   -0.808983\n",
       "3        1481       1092   -1.080208\n",
       "4          26       1513    1.260286"
      ]
     },
     "execution_count": 8,
     "metadata": {},
     "output_type": "execute_result"
    }
   ],
   "source": [
    "# Make Predictions\n",
    "test_pred = predict(base_model, test, usercol='CustomerID', itemcol='StockCode')\n",
    "\n",
    "# Show first five rows\n",
    "test_pred.head()"
   ]
  },
  {
   "cell_type": "code",
   "execution_count": 9,
   "metadata": {},
   "outputs": [
    {
     "data": {
      "text/plain": [
       "count    89479.000000\n",
       "mean         0.236327\n",
       "std          1.008628\n",
       "min         -2.000000\n",
       "25%         -0.819121\n",
       "50%          0.627180\n",
       "75%          1.155819\n",
       "max          2.000000\n",
       "Name: prediction, dtype: float64"
      ]
     },
     "execution_count": 9,
     "metadata": {},
     "output_type": "execute_result"
    }
   ],
   "source": [
    "# Check Statistics of Prediction\n",
    "test_pred.prediction.describe()"
   ]
  },
  {
   "cell_type": "code",
   "execution_count": 10,
   "metadata": {},
   "outputs": [],
   "source": [
    "# Convert Predictions\n",
    "test_pred['prediction'] = np.where((test_pred['prediction']>0),1,0)\n",
    "\n",
    "# Convert Test\n",
    "test['purchased'] = np.where((test['purchased']>0),1,0)"
   ]
  },
  {
   "cell_type": "code",
   "execution_count": 11,
   "metadata": {},
   "outputs": [
    {
     "data": {
      "text/plain": [
       "1    48663\n",
       "0    40816\n",
       "Name: prediction, dtype: int64"
      ]
     },
     "execution_count": 11,
     "metadata": {},
     "output_type": "execute_result"
    }
   ],
   "source": [
    "# Check Distribution\n",
    "test_pred['prediction'].value_counts()"
   ]
  },
  {
   "cell_type": "code",
   "execution_count": 12,
   "metadata": {},
   "outputs": [],
   "source": [
    "# Sort Index of both Datasets to use Accuracy Score \n",
    "test = test.sort_values(by=['CustomerID', 'StockCode'])\n",
    "test_pred = test_pred.sort_values(by=['CustomerID', 'StockCode'])\n",
    "\n",
    "# Reset indeces for both DataFrames\n",
    "test = test.reset_index(drop=True)\n",
    "test_pred = test_pred.reset_index(drop=True)"
   ]
  },
  {
   "cell_type": "code",
   "execution_count": 13,
   "metadata": {},
   "outputs": [
    {
     "data": {
      "text/html": [
       "<div>\n",
       "<style scoped>\n",
       "    .dataframe tbody tr th:only-of-type {\n",
       "        vertical-align: middle;\n",
       "    }\n",
       "\n",
       "    .dataframe tbody tr th {\n",
       "        vertical-align: top;\n",
       "    }\n",
       "\n",
       "    .dataframe thead th {\n",
       "        text-align: right;\n",
       "    }\n",
       "</style>\n",
       "<table border=\"1\" class=\"dataframe\">\n",
       "  <thead>\n",
       "    <tr style=\"text-align: right;\">\n",
       "      <th></th>\n",
       "      <th>CustomerID</th>\n",
       "      <th>StockCode</th>\n",
       "      <th>purchased</th>\n",
       "    </tr>\n",
       "  </thead>\n",
       "  <tbody>\n",
       "    <tr>\n",
       "      <th>0</th>\n",
       "      <td>1</td>\n",
       "      <td>262</td>\n",
       "      <td>0</td>\n",
       "    </tr>\n",
       "    <tr>\n",
       "      <th>1</th>\n",
       "      <td>1</td>\n",
       "      <td>275</td>\n",
       "      <td>1</td>\n",
       "    </tr>\n",
       "    <tr>\n",
       "      <th>2</th>\n",
       "      <td>1</td>\n",
       "      <td>320</td>\n",
       "      <td>1</td>\n",
       "    </tr>\n",
       "    <tr>\n",
       "      <th>3</th>\n",
       "      <td>1</td>\n",
       "      <td>425</td>\n",
       "      <td>0</td>\n",
       "    </tr>\n",
       "    <tr>\n",
       "      <th>4</th>\n",
       "      <td>1</td>\n",
       "      <td>892</td>\n",
       "      <td>0</td>\n",
       "    </tr>\n",
       "  </tbody>\n",
       "</table>\n",
       "</div>"
      ],
      "text/plain": [
       "   CustomerID  StockCode  purchased\n",
       "0           1        262          0\n",
       "1           1        275          1\n",
       "2           1        320          1\n",
       "3           1        425          0\n",
       "4           1        892          0"
      ]
     },
     "execution_count": 13,
     "metadata": {},
     "output_type": "execute_result"
    }
   ],
   "source": [
    "# First Reorder columns for test \n",
    "test = test[['CustomerID', 'StockCode', 'purchased']]\n",
    "# Head of Test\n",
    "test.head()"
   ]
  },
  {
   "cell_type": "code",
   "execution_count": 14,
   "metadata": {},
   "outputs": [
    {
     "data": {
      "text/html": [
       "<div>\n",
       "<style scoped>\n",
       "    .dataframe tbody tr th:only-of-type {\n",
       "        vertical-align: middle;\n",
       "    }\n",
       "\n",
       "    .dataframe tbody tr th {\n",
       "        vertical-align: top;\n",
       "    }\n",
       "\n",
       "    .dataframe thead th {\n",
       "        text-align: right;\n",
       "    }\n",
       "</style>\n",
       "<table border=\"1\" class=\"dataframe\">\n",
       "  <thead>\n",
       "    <tr style=\"text-align: right;\">\n",
       "      <th></th>\n",
       "      <th>CustomerID</th>\n",
       "      <th>StockCode</th>\n",
       "      <th>prediction</th>\n",
       "    </tr>\n",
       "  </thead>\n",
       "  <tbody>\n",
       "    <tr>\n",
       "      <th>0</th>\n",
       "      <td>1</td>\n",
       "      <td>262</td>\n",
       "      <td>0</td>\n",
       "    </tr>\n",
       "    <tr>\n",
       "      <th>1</th>\n",
       "      <td>1</td>\n",
       "      <td>275</td>\n",
       "      <td>1</td>\n",
       "    </tr>\n",
       "    <tr>\n",
       "      <th>2</th>\n",
       "      <td>1</td>\n",
       "      <td>320</td>\n",
       "      <td>1</td>\n",
       "    </tr>\n",
       "    <tr>\n",
       "      <th>3</th>\n",
       "      <td>1</td>\n",
       "      <td>425</td>\n",
       "      <td>0</td>\n",
       "    </tr>\n",
       "    <tr>\n",
       "      <th>4</th>\n",
       "      <td>1</td>\n",
       "      <td>892</td>\n",
       "      <td>0</td>\n",
       "    </tr>\n",
       "  </tbody>\n",
       "</table>\n",
       "</div>"
      ],
      "text/plain": [
       "   CustomerID  StockCode  prediction\n",
       "0           1        262           0\n",
       "1           1        275           1\n",
       "2           1        320           1\n",
       "3           1        425           0\n",
       "4           1        892           0"
      ]
     },
     "execution_count": 14,
     "metadata": {},
     "output_type": "execute_result"
    }
   ],
   "source": [
    "# Head of Test_pred\n",
    "test_pred.head()"
   ]
  },
  {
   "cell_type": "code",
   "execution_count": 15,
   "metadata": {},
   "outputs": [
    {
     "data": {
      "text/plain": [
       "0.9355155958381296"
      ]
     },
     "execution_count": 15,
     "metadata": {},
     "output_type": "execute_result"
    }
   ],
   "source": [
    "# Import Accuracy \n",
    "from sklearn.metrics import accuracy_score\n",
    "\n",
    "# Accuracy \n",
    "accuracy_score(test.purchased, test_pred.prediction)"
   ]
  },
  {
   "attachments": {},
   "cell_type": "markdown",
   "metadata": {},
   "source": [
    "# Prediction: Top N "
   ]
  },
  {
   "cell_type": "code",
   "execution_count": 16,
   "metadata": {},
   "outputs": [],
   "source": [
    "# Predict all pairs that are not in the train set\n",
    "predictions = compute_ranking_predictions(base_model, train, usercol='CustomerID', itemcol='StockCode', remove_seen=True)"
   ]
  },
  {
   "cell_type": "code",
   "execution_count": 17,
   "metadata": {},
   "outputs": [
    {
     "data": {
      "text/html": [
       "<div>\n",
       "<style scoped>\n",
       "    .dataframe tbody tr th:only-of-type {\n",
       "        vertical-align: middle;\n",
       "    }\n",
       "\n",
       "    .dataframe tbody tr th {\n",
       "        vertical-align: top;\n",
       "    }\n",
       "\n",
       "    .dataframe thead th {\n",
       "        text-align: right;\n",
       "    }\n",
       "</style>\n",
       "<table border=\"1\" class=\"dataframe\">\n",
       "  <thead>\n",
       "    <tr style=\"text-align: right;\">\n",
       "      <th></th>\n",
       "      <th>CustomerID</th>\n",
       "      <th>StockCode</th>\n",
       "      <th>prediction</th>\n",
       "    </tr>\n",
       "  </thead>\n",
       "  <tbody>\n",
       "    <tr>\n",
       "      <th>357692</th>\n",
       "      <td>2425</td>\n",
       "      <td>1931</td>\n",
       "      <td>0.125392</td>\n",
       "    </tr>\n",
       "    <tr>\n",
       "      <th>357693</th>\n",
       "      <td>2425</td>\n",
       "      <td>197</td>\n",
       "      <td>0.679317</td>\n",
       "    </tr>\n",
       "    <tr>\n",
       "      <th>357694</th>\n",
       "      <td>2425</td>\n",
       "      <td>1592</td>\n",
       "      <td>0.651663</td>\n",
       "    </tr>\n",
       "    <tr>\n",
       "      <th>357695</th>\n",
       "      <td>2425</td>\n",
       "      <td>43</td>\n",
       "      <td>0.642855</td>\n",
       "    </tr>\n",
       "    <tr>\n",
       "      <th>357696</th>\n",
       "      <td>2425</td>\n",
       "      <td>166</td>\n",
       "      <td>0.722508</td>\n",
       "    </tr>\n",
       "  </tbody>\n",
       "</table>\n",
       "</div>"
      ],
      "text/plain": [
       "        CustomerID  StockCode  prediction\n",
       "357692        2425       1931    0.125392\n",
       "357693        2425        197    0.679317\n",
       "357694        2425       1592    0.651663\n",
       "357695        2425         43    0.642855\n",
       "357696        2425        166    0.722508"
      ]
     },
     "execution_count": 17,
     "metadata": {},
     "output_type": "execute_result"
    }
   ],
   "source": [
    "# Check first five rows\n",
    "predictions.head()"
   ]
  },
  {
   "cell_type": "code",
   "execution_count": 22,
   "metadata": {},
   "outputs": [],
   "source": [
    "# Filter Test for purchased items only\n",
    "test = test[test['purchased']==1]"
   ]
  },
  {
   "cell_type": "code",
   "execution_count": 23,
   "metadata": {},
   "outputs": [],
   "source": [
    "# Now filter out top N \n",
    "# First write a function\n",
    "def filter_top_n(predictions: pd.DataFrame, n: int) -> pd.DataFrame:\n",
    "    \n",
    "    # Group the dataframe by 'CustomerID', and for each group, sort by 'prediction' in descending order, then take the top N rows\n",
    "    top_n_per_customer = predictions.groupby('CustomerID', group_keys=False).apply(lambda group: group.sort_values('prediction', ascending=False).head(n))\n",
    "    \n",
    "    return top_n_per_customer\n",
    "\n",
    "# Filter Top 10 \n",
    "top_10 = filter_top_n(predictions, 10)\n",
    "\n",
    "# Filter Top 20 \n",
    "top_20 = filter_top_n(predictions, 20)\n"
   ]
  },
  {
   "cell_type": "code",
   "execution_count": 24,
   "metadata": {},
   "outputs": [
    {
     "name": "stdout",
     "output_type": "stream",
     "text": [
      "precision at 10 \t: 0.01836398572604996\n",
      "recall at 10 \t: 0.013488666665623423\n"
     ]
    }
   ],
   "source": [
    "# Evaluate Precision at 10 \n",
    "eval_precision_10 = precision_at_k(test, top_10, col_user=\"CustomerID\", col_item=\"StockCode\",\n",
    "                                    col_rating=\"purchased\", col_prediction=\"prediction\", \n",
    "                                    relevancy_method=\"top_k\", k=10)\n",
    "print('precision at 10 \\t:', eval_precision_10)\n",
    "\n",
    "# Evaluate Recall at 10 \n",
    "eval_recall_10 = recall_at_k(test, top_10,col_user=\"CustomerID\", col_item=\"StockCode\",\n",
    "                                    col_rating=\"purchased\", col_prediction=\"prediction\", \n",
    "                                    relevancy_method=\"top_k\", k=10)\n",
    "print('recall at 10 \\t:', eval_recall_10)"
   ]
  },
  {
   "cell_type": "code",
   "execution_count": 25,
   "metadata": {},
   "outputs": [
    {
     "name": "stdout",
     "output_type": "stream",
     "text": [
      "precision at 20 \t: 0.016209168267911064\n",
      "recall at 20 \t: 0.02310357196168071\n"
     ]
    }
   ],
   "source": [
    "# Evaluate Precision at 20 \n",
    "eval_precision_20 = precision_at_k(test, top_20, col_user=\"CustomerID\", col_item=\"StockCode\",\n",
    "                                    col_rating=\"purchased\", col_prediction=\"prediction\", \n",
    "                                    relevancy_method=\"top_k\", k=20)\n",
    "print('precision at 20 \\t:', eval_precision_20)\n",
    "\n",
    "# Evaluate Recall at 20 \n",
    "eval_recall_20 = recall_at_k(test, top_20,col_user=\"CustomerID\", col_item=\"StockCode\",\n",
    "                                    col_rating=\"purchased\", col_prediction=\"prediction\", \n",
    "                                    relevancy_method=\"top_k\", k=20)\n",
    "print('recall at 20 \\t:', eval_recall_20)"
   ]
  },
  {
   "attachments": {},
   "cell_type": "markdown",
   "metadata": {},
   "source": [
    "# Hyper-Parameter Tuning"
   ]
  },
  {
   "cell_type": "code",
   "execution_count": 26,
   "metadata": {},
   "outputs": [
    {
     "name": "stdout",
     "output_type": "stream",
     "text": [
      "recall at for 5 factors: \t 0.012886385792991995\n",
      "recall at for 10 factors: \t 0.013015893789292857\n",
      "recall at for 100 factors: \t 0.009724499057713276\n",
      "recall at for 200 factors: \t 0.010058772495395517\n",
      "recall at for 1000 factors: \t 0.004381121708835912\n"
     ]
    }
   ],
   "source": [
    "# Define Set of Hyperparameters: \n",
    "n_factors = [5, 10, 100, 200, 1000]\n",
    "\n",
    "# Initiate List for Metrics\n",
    "factors = []\n",
    "recall_k = []\n",
    "\n",
    "# Start for loop\n",
    "for factor in n_factors:\n",
    "    # First Delete Model Everytime\n",
    "    try:\n",
    "        del(model)\n",
    "    except:\n",
    "        pass\n",
    "\n",
    "    # Define Model with Parameters \n",
    "    model = surprise.SVDpp(random_state=0, n_factors=factor, n_epochs=10)\n",
    "\n",
    "    # Fit model\n",
    "    model.fit(train_set)\n",
    "\n",
    "    # Predict all pairs that are not in the train set\n",
    "    predictions = compute_ranking_predictions(model, test, usercol='CustomerID', itemcol='StockCode')\n",
    "\n",
    "    # Filter Top 10 \n",
    "    top_10 = filter_top_n(predictions, 10)\n",
    "\n",
    "    # Evaluate Recall at 10 \n",
    "    eval_recall_10 = recall_at_k(test, top_10,col_user=\"CustomerID\", col_item=\"StockCode\",\n",
    "                                        col_rating=\"purchased\", col_prediction=\"prediction\", \n",
    "                                        relevancy_method=\"top_k\", k=10)\n",
    "\n",
    "    print(\"recall at for\", factor, \"factors: \\t\", eval_recall_10)\n",
    "\n",
    "    # Append Lists\n",
    "    factors.append(factor)\n",
    "    recall_k.append(eval_recall_10)"
   ]
  },
  {
   "attachments": {},
   "cell_type": "markdown",
   "metadata": {},
   "source": [
    "# Tuning 2"
   ]
  },
  {
   "cell_type": "code",
   "execution_count": 29,
   "metadata": {},
   "outputs": [
    {
     "name": "stdout",
     "output_type": "stream",
     "text": [
      "recall at for 6 factors: \t 0.012696495907878108\n",
      "recall at for 6 factors: \t 0.012365354886487014\n",
      "recall at for 6 factors: \t 0.011741862716755907\n",
      "recall at for 6 factors: \t 0.012339026117211124\n",
      "recall at for 6 factors: \t 0.011721872745723052\n",
      "recall at for 6 factors: \t 0.011306532704374435\n",
      "recall at for 6 factors: \t 0.00854224287788652\n",
      "recall at for 6 factors: \t 0.00931434951439048\n",
      "recall at for 6 factors: \t 0.010488944647113755\n",
      "recall at for 7 factors: \t 0.012074476673847374\n",
      "recall at for 7 factors: \t 0.011880655868647137\n",
      "recall at for 7 factors: \t 0.01175090698655151\n",
      "recall at for 7 factors: \t 0.012650383502402137\n",
      "recall at for 7 factors: \t 0.012227251903841075\n",
      "recall at for 7 factors: \t 0.011458525690374017\n",
      "recall at for 7 factors: \t 0.010622641102040153\n",
      "recall at for 7 factors: \t 0.010017772168309309\n",
      "recall at for 7 factors: \t 0.010463522053846205\n",
      "recall at for 8 factors: \t 0.011972578505401451\n",
      "recall at for 8 factors: \t 0.011843131443863\n",
      "recall at for 8 factors: \t 0.012517025533168392\n",
      "recall at for 8 factors: \t 0.012067973095973237\n",
      "recall at for 8 factors: \t 0.011882301599769333\n",
      "recall at for 8 factors: \t 0.01177514412923591\n",
      "recall at for 8 factors: \t 0.010043204456246475\n",
      "recall at for 8 factors: \t 0.010197908718788923\n",
      "recall at for 8 factors: \t 0.011362270539197047\n",
      "recall at for 9 factors: \t 0.011828989993872765\n",
      "recall at for 9 factors: \t 0.012030298523151907\n",
      "recall at for 9 factors: \t 0.012530761708953148\n",
      "recall at for 9 factors: \t 0.01191130608821021\n",
      "recall at for 9 factors: \t 0.01175894310728725\n",
      "recall at for 9 factors: \t 0.01178155673203687\n",
      "recall at for 9 factors: \t 0.01169336182027516\n",
      "recall at for 9 factors: \t 0.011276729358734274\n",
      "recall at for 9 factors: \t 0.012069058179635375\n",
      "recall at for 10 factors: \t 0.0126189992015189\n",
      "recall at for 10 factors: \t 0.012373396010543254\n",
      "recall at for 10 factors: \t 0.011469253995037268\n",
      "recall at for 10 factors: \t 0.01206303874446282\n",
      "recall at for 10 factors: \t 0.012229826203474582\n",
      "recall at for 10 factors: \t 0.01183233453373354\n",
      "recall at for 10 factors: \t 0.011462603351598124\n",
      "recall at for 10 factors: \t 0.01133019410354496\n",
      "recall at for 10 factors: \t 0.011627681260246613\n",
      "recall at for 11 factors: \t 0.011829945113217092\n",
      "recall at for 11 factors: \t 0.011575310982920755\n",
      "recall at for 11 factors: \t 0.011497995593244258\n",
      "recall at for 11 factors: \t 0.011599623923859596\n",
      "recall at for 11 factors: \t 0.01154769989307923\n",
      "recall at for 11 factors: \t 0.012016558201935973\n",
      "recall at for 11 factors: \t 0.010853142662013279\n",
      "recall at for 11 factors: \t 0.011094362362198984\n",
      "recall at for 11 factors: \t 0.011770992774353893\n",
      "recall at for 12 factors: \t 0.012247858368494995\n",
      "recall at for 12 factors: \t 0.012014035057275387\n",
      "recall at for 12 factors: \t 0.012445948062153375\n",
      "recall at for 12 factors: \t 0.01278264436151653\n",
      "recall at for 12 factors: \t 0.012863658192646767\n",
      "recall at for 12 factors: \t 0.012111187841163391\n",
      "recall at for 12 factors: \t 0.01116194554445637\n",
      "recall at for 12 factors: \t 0.011105492704737341\n",
      "recall at for 12 factors: \t 0.01185916937338668\n",
      "recall at for 13 factors: \t 0.011463038552858669\n",
      "recall at for 13 factors: \t 0.011609062254026529\n",
      "recall at for 13 factors: \t 0.01194639413824259\n",
      "recall at for 13 factors: \t 0.012576411636468662\n",
      "recall at for 13 factors: \t 0.011841088220244756\n",
      "recall at for 13 factors: \t 0.012032976036000828\n",
      "recall at for 13 factors: \t 0.011287524242815887\n",
      "recall at for 13 factors: \t 0.011605671896986197\n",
      "recall at for 13 factors: \t 0.011721721030417274\n",
      "recall at for 14 factors: \t 0.011859560327833316\n",
      "recall at for 14 factors: \t 0.012556931557171898\n",
      "recall at for 14 factors: \t 0.012632802391859228\n",
      "recall at for 14 factors: \t 0.012079498698350484\n",
      "recall at for 14 factors: \t 0.01236104849121069\n",
      "recall at for 14 factors: \t 0.012136807820892694\n",
      "recall at for 14 factors: \t 0.011196354285289527\n",
      "recall at for 14 factors: \t 0.010907773410058056\n",
      "recall at for 14 factors: \t 0.010503733966292535\n",
      "recall at for 15 factors: \t 0.012176730835836367\n",
      "recall at for 15 factors: \t 0.011858383140646248\n",
      "recall at for 15 factors: \t 0.012280125317901007\n",
      "recall at for 15 factors: \t 0.012415867919397654\n",
      "recall at for 15 factors: \t 0.010806551113809319\n",
      "recall at for 15 factors: \t 0.011149587358642125\n",
      "recall at for 15 factors: \t 0.0117350876786565\n",
      "recall at for 15 factors: \t 0.011475742394006278\n",
      "recall at for 15 factors: \t 0.011670743273655302\n"
     ]
    }
   ],
   "source": [
    "# Define Set of Hyperparameters: \n",
    "n_factors = [6, 7, 8, 9, 10, 11, 12, 13, 14, 15]\n",
    "lr_rates = [0.001, 0.003, 0.007]\n",
    "reg_terms = [0.01, 0.02, 0.03]\n",
    "\n",
    "# Initiate Lists \n",
    "factor_nr = []\n",
    "regulation_all = []\n",
    "lr_all = []\n",
    "recall_10 = []\n",
    "recall_20 = []\n",
    "precision_10 = []\n",
    "precision_20 = []\n",
    "\n",
    "# Start for loop\n",
    "for factor in n_factors:\n",
    "    for lr in lr_rates:\n",
    "        for reg in reg_terms:\n",
    "            # First Delete Model Everytime\n",
    "            try:\n",
    "                del(model)\n",
    "            except:\n",
    "                pass\n",
    "\n",
    "            # Define Model with Parameters \n",
    "            model = surprise.SVDpp(random_state=0,\n",
    "                                    n_factors=factor,\n",
    "                                    n_epochs=20,\n",
    "                                    lr_all=lr,\n",
    "                                    reg_all=reg)\n",
    "\n",
    "            # Fit model\n",
    "            model.fit(train_set)\n",
    "\n",
    "            # Predict all pairs that are not in the train set\n",
    "            predictions = compute_ranking_predictions(model, test, usercol='CustomerID', itemcol='StockCode')\n",
    "\n",
    "            # Filter Top 10 \n",
    "            top_10 = filter_top_n(predictions, 10)\n",
    "            top_20 = filter_top_n(predictions, 20)\n",
    "            \n",
    "            # Evaluate Recall at 10 \n",
    "            eval_recall_10 = recall_at_k(test, top_10,col_user=\"CustomerID\", col_item=\"StockCode\",\n",
    "                                        col_rating=\"purchased\", col_prediction=\"prediction\", \n",
    "                                        relevancy_method=\"top_k\", k=10)\n",
    "            # Evaluate Recall at 20 \n",
    "            eval_recall_20 = recall_at_k(test, top_20,col_user=\"CustomerID\", col_item=\"StockCode\",\n",
    "                                col_rating=\"purchased\", col_prediction=\"prediction\", \n",
    "                                relevancy_method=\"top_k\", k=20)\n",
    "            \n",
    "            # Evaluate Precision at 10 \n",
    "            eval_precision_10 = precision_at_k(test, top_10, col_user=\"CustomerID\", col_item=\"StockCode\",\n",
    "                                col_rating=\"purchased\", col_prediction=\"prediction\", \n",
    "                                relevancy_method=\"top_k\", k=10)\n",
    "            # Evaluate Precision at 20 \n",
    "            eval_precision_20 = precision_at_k(test, top_20, col_user=\"CustomerID\", col_item=\"StockCode\",\n",
    "                                col_rating=\"purchased\", col_prediction=\"prediction\", \n",
    "                                relevancy_method=\"top_k\", k=20) \n",
    "            \n",
    "            print(\"recall at for\", factor, \"factors: \\t\", eval_recall_10)\n",
    "            factor_nr.append(factor)\n",
    "            regulation_all.append(reg)\n",
    "            lr_all.append(lr)\n",
    "            recall_10.append(eval_recall_10)\n",
    "            recall_20.append(eval_recall_20)\n",
    "            precision_10.append(eval_precision_10)\n",
    "            precision_20.append(eval_precision_20)"
   ]
  },
  {
   "cell_type": "code",
   "execution_count": 32,
   "metadata": {},
   "outputs": [
    {
     "data": {
      "text/html": [
       "<div>\n",
       "<style scoped>\n",
       "    .dataframe tbody tr th:only-of-type {\n",
       "        vertical-align: middle;\n",
       "    }\n",
       "\n",
       "    .dataframe tbody tr th {\n",
       "        vertical-align: top;\n",
       "    }\n",
       "\n",
       "    .dataframe thead th {\n",
       "        text-align: right;\n",
       "    }\n",
       "</style>\n",
       "<table border=\"1\" class=\"dataframe\">\n",
       "  <thead>\n",
       "    <tr style=\"text-align: right;\">\n",
       "      <th></th>\n",
       "      <th>factor</th>\n",
       "      <th>regulation_term</th>\n",
       "      <th>learning_rate</th>\n",
       "      <th>recall_10</th>\n",
       "      <th>recall_20</th>\n",
       "      <th>precision_10</th>\n",
       "      <th>precision_20</th>\n",
       "    </tr>\n",
       "  </thead>\n",
       "  <tbody>\n",
       "    <tr>\n",
       "      <th>58</th>\n",
       "      <td>12</td>\n",
       "      <td>0.02</td>\n",
       "      <td>0.003</td>\n",
       "      <td>0.012864</td>\n",
       "      <td>0.023249</td>\n",
       "      <td>0.016497</td>\n",
       "      <td>0.015180</td>\n",
       "    </tr>\n",
       "    <tr>\n",
       "      <th>57</th>\n",
       "      <td>12</td>\n",
       "      <td>0.01</td>\n",
       "      <td>0.003</td>\n",
       "      <td>0.012783</td>\n",
       "      <td>0.023985</td>\n",
       "      <td>0.016937</td>\n",
       "      <td>0.015660</td>\n",
       "    </tr>\n",
       "    <tr>\n",
       "      <th>0</th>\n",
       "      <td>6</td>\n",
       "      <td>0.01</td>\n",
       "      <td>0.001</td>\n",
       "      <td>0.012696</td>\n",
       "      <td>0.023146</td>\n",
       "      <td>0.016003</td>\n",
       "      <td>0.015056</td>\n",
       "    </tr>\n",
       "    <tr>\n",
       "      <th>12</th>\n",
       "      <td>7</td>\n",
       "      <td>0.01</td>\n",
       "      <td>0.003</td>\n",
       "      <td>0.012650</td>\n",
       "      <td>0.023177</td>\n",
       "      <td>0.017074</td>\n",
       "      <td>0.015715</td>\n",
       "    </tr>\n",
       "    <tr>\n",
       "      <th>74</th>\n",
       "      <td>14</td>\n",
       "      <td>0.03</td>\n",
       "      <td>0.001</td>\n",
       "      <td>0.012633</td>\n",
       "      <td>0.024051</td>\n",
       "      <td>0.015290</td>\n",
       "      <td>0.015111</td>\n",
       "    </tr>\n",
       "    <tr>\n",
       "      <th>...</th>\n",
       "      <td>...</td>\n",
       "      <td>...</td>\n",
       "      <td>...</td>\n",
       "      <td>...</td>\n",
       "      <td>...</td>\n",
       "      <td>...</td>\n",
       "      <td>...</td>\n",
       "    </tr>\n",
       "    <tr>\n",
       "      <th>25</th>\n",
       "      <td>8</td>\n",
       "      <td>0.02</td>\n",
       "      <td>0.007</td>\n",
       "      <td>0.010198</td>\n",
       "      <td>0.019512</td>\n",
       "      <td>0.014631</td>\n",
       "      <td>0.013766</td>\n",
       "    </tr>\n",
       "    <tr>\n",
       "      <th>24</th>\n",
       "      <td>8</td>\n",
       "      <td>0.01</td>\n",
       "      <td>0.007</td>\n",
       "      <td>0.010043</td>\n",
       "      <td>0.019214</td>\n",
       "      <td>0.015180</td>\n",
       "      <td>0.013917</td>\n",
       "    </tr>\n",
       "    <tr>\n",
       "      <th>16</th>\n",
       "      <td>7</td>\n",
       "      <td>0.02</td>\n",
       "      <td>0.007</td>\n",
       "      <td>0.010018</td>\n",
       "      <td>0.020930</td>\n",
       "      <td>0.014603</td>\n",
       "      <td>0.014452</td>\n",
       "    </tr>\n",
       "    <tr>\n",
       "      <th>7</th>\n",
       "      <td>6</td>\n",
       "      <td>0.02</td>\n",
       "      <td>0.007</td>\n",
       "      <td>0.009314</td>\n",
       "      <td>0.018117</td>\n",
       "      <td>0.013560</td>\n",
       "      <td>0.012956</td>\n",
       "    </tr>\n",
       "    <tr>\n",
       "      <th>6</th>\n",
       "      <td>6</td>\n",
       "      <td>0.01</td>\n",
       "      <td>0.007</td>\n",
       "      <td>0.008542</td>\n",
       "      <td>0.017131</td>\n",
       "      <td>0.013231</td>\n",
       "      <td>0.012888</td>\n",
       "    </tr>\n",
       "  </tbody>\n",
       "</table>\n",
       "<p>90 rows × 7 columns</p>\n",
       "</div>"
      ],
      "text/plain": [
       "    factor  regulation_term  learning_rate  recall_10  recall_20  \\\n",
       "58      12             0.02          0.003   0.012864   0.023249   \n",
       "57      12             0.01          0.003   0.012783   0.023985   \n",
       "0        6             0.01          0.001   0.012696   0.023146   \n",
       "12       7             0.01          0.003   0.012650   0.023177   \n",
       "74      14             0.03          0.001   0.012633   0.024051   \n",
       "..     ...              ...            ...        ...        ...   \n",
       "25       8             0.02          0.007   0.010198   0.019512   \n",
       "24       8             0.01          0.007   0.010043   0.019214   \n",
       "16       7             0.02          0.007   0.010018   0.020930   \n",
       "7        6             0.02          0.007   0.009314   0.018117   \n",
       "6        6             0.01          0.007   0.008542   0.017131   \n",
       "\n",
       "    precision_10  precision_20  \n",
       "58      0.016497      0.015180  \n",
       "57      0.016937      0.015660  \n",
       "0       0.016003      0.015056  \n",
       "12      0.017074      0.015715  \n",
       "74      0.015290      0.015111  \n",
       "..           ...           ...  \n",
       "25      0.014631      0.013766  \n",
       "24      0.015180      0.013917  \n",
       "16      0.014603      0.014452  \n",
       "7       0.013560      0.012956  \n",
       "6       0.013231      0.012888  \n",
       "\n",
       "[90 rows x 7 columns]"
      ]
     },
     "execution_count": 32,
     "metadata": {},
     "output_type": "execute_result"
    }
   ],
   "source": [
    "dict_param2 = {\n",
    "    \"factor\": factor_nr,\n",
    "    \"regulation_term\": regulation_all,\n",
    "    \"learning_rate\": lr_all,\n",
    "    \"recall_10\": recall_10,\n",
    "    \"recall_20\": recall_20,\n",
    "    \"precision_10\":precision_10,\n",
    "    \"precision_20\":precision_20\n",
    "}\n",
    "\n",
    "df_param2 = pd.DataFrame(dict_param2)\n",
    "df_param2.sort_values(by=\"recall_10\", ascending=False)"
   ]
  },
  {
   "cell_type": "code",
   "execution_count": 52,
   "metadata": {},
   "outputs": [
    {
     "data": {
      "text/html": [
       "<div>\n",
       "<style scoped>\n",
       "    .dataframe tbody tr th:only-of-type {\n",
       "        vertical-align: middle;\n",
       "    }\n",
       "\n",
       "    .dataframe tbody tr th {\n",
       "        vertical-align: top;\n",
       "    }\n",
       "\n",
       "    .dataframe thead th {\n",
       "        text-align: right;\n",
       "    }\n",
       "</style>\n",
       "<table border=\"1\" class=\"dataframe\">\n",
       "  <thead>\n",
       "    <tr style=\"text-align: right;\">\n",
       "      <th></th>\n",
       "      <th>factor</th>\n",
       "      <th>regulation_term</th>\n",
       "      <th>learning_rate</th>\n",
       "      <th>recall_10</th>\n",
       "      <th>recall_20</th>\n",
       "      <th>precision_10</th>\n",
       "      <th>precision_20</th>\n",
       "    </tr>\n",
       "  </thead>\n",
       "  <tbody>\n",
       "    <tr>\n",
       "      <th>count</th>\n",
       "      <td>90.000000</td>\n",
       "      <td>90.000000</td>\n",
       "      <td>90.000000</td>\n",
       "      <td>90.000000</td>\n",
       "      <td>90.000000</td>\n",
       "      <td>90.000000</td>\n",
       "      <td>90.000000</td>\n",
       "    </tr>\n",
       "    <tr>\n",
       "      <th>mean</th>\n",
       "      <td>10.500000</td>\n",
       "      <td>0.020000</td>\n",
       "      <td>0.003667</td>\n",
       "      <td>0.011683</td>\n",
       "      <td>0.022258</td>\n",
       "      <td>0.015472</td>\n",
       "      <td>0.014686</td>\n",
       "    </tr>\n",
       "    <tr>\n",
       "      <th>std</th>\n",
       "      <td>2.888373</td>\n",
       "      <td>0.008211</td>\n",
       "      <td>0.002508</td>\n",
       "      <td>0.000742</td>\n",
       "      <td>0.001492</td>\n",
       "      <td>0.000724</td>\n",
       "      <td>0.000580</td>\n",
       "    </tr>\n",
       "    <tr>\n",
       "      <th>min</th>\n",
       "      <td>6.000000</td>\n",
       "      <td>0.010000</td>\n",
       "      <td>0.001000</td>\n",
       "      <td>0.008542</td>\n",
       "      <td>0.017131</td>\n",
       "      <td>0.013231</td>\n",
       "      <td>0.012888</td>\n",
       "    </tr>\n",
       "    <tr>\n",
       "      <th>25%</th>\n",
       "      <td>8.000000</td>\n",
       "      <td>0.010000</td>\n",
       "      <td>0.001000</td>\n",
       "      <td>0.011460</td>\n",
       "      <td>0.021393</td>\n",
       "      <td>0.015015</td>\n",
       "      <td>0.014377</td>\n",
       "    </tr>\n",
       "    <tr>\n",
       "      <th>50%</th>\n",
       "      <td>10.500000</td>\n",
       "      <td>0.020000</td>\n",
       "      <td>0.003000</td>\n",
       "      <td>0.011805</td>\n",
       "      <td>0.022318</td>\n",
       "      <td>0.015482</td>\n",
       "      <td>0.014713</td>\n",
       "    </tr>\n",
       "    <tr>\n",
       "      <th>75%</th>\n",
       "      <td>13.000000</td>\n",
       "      <td>0.030000</td>\n",
       "      <td>0.007000</td>\n",
       "      <td>0.012103</td>\n",
       "      <td>0.023335</td>\n",
       "      <td>0.015921</td>\n",
       "      <td>0.015049</td>\n",
       "    </tr>\n",
       "    <tr>\n",
       "      <th>max</th>\n",
       "      <td>15.000000</td>\n",
       "      <td>0.030000</td>\n",
       "      <td>0.007000</td>\n",
       "      <td>0.012864</td>\n",
       "      <td>0.025264</td>\n",
       "      <td>0.017211</td>\n",
       "      <td>0.015811</td>\n",
       "    </tr>\n",
       "  </tbody>\n",
       "</table>\n",
       "</div>"
      ],
      "text/plain": [
       "          factor  regulation_term  learning_rate  recall_10  recall_20  \\\n",
       "count  90.000000        90.000000      90.000000  90.000000  90.000000   \n",
       "mean   10.500000         0.020000       0.003667   0.011683   0.022258   \n",
       "std     2.888373         0.008211       0.002508   0.000742   0.001492   \n",
       "min     6.000000         0.010000       0.001000   0.008542   0.017131   \n",
       "25%     8.000000         0.010000       0.001000   0.011460   0.021393   \n",
       "50%    10.500000         0.020000       0.003000   0.011805   0.022318   \n",
       "75%    13.000000         0.030000       0.007000   0.012103   0.023335   \n",
       "max    15.000000         0.030000       0.007000   0.012864   0.025264   \n",
       "\n",
       "       precision_10  precision_20  \n",
       "count     90.000000     90.000000  \n",
       "mean       0.015472      0.014686  \n",
       "std        0.000724      0.000580  \n",
       "min        0.013231      0.012888  \n",
       "25%        0.015015      0.014377  \n",
       "50%        0.015482      0.014713  \n",
       "75%        0.015921      0.015049  \n",
       "max        0.017211      0.015811  "
      ]
     },
     "execution_count": 52,
     "metadata": {},
     "output_type": "execute_result"
    }
   ],
   "source": [
    "df_param2.describe()"
   ]
  },
  {
   "attachments": {},
   "cell_type": "markdown",
   "metadata": {},
   "source": [
    "# Best Model: Accuracy on Test Set"
   ]
  },
  {
   "cell_type": "code",
   "execution_count": 34,
   "metadata": {},
   "outputs": [
    {
     "data": {
      "text/plain": [
       "0.9242882861495242"
      ]
     },
     "execution_count": 34,
     "metadata": {},
     "output_type": "execute_result"
    }
   ],
   "source": [
    "# Create Object for base_model \n",
    "best_model = surprise.SVDpp(random_state=0, n_factors=112, lr_all=0.003, reg_all=0.02, n_epochs=20, verbose=False)\n",
    "\n",
    "# Fit the base_model\n",
    "best_model.fit(train_set)\n",
    "\n",
    "# Make Predictions\n",
    "test_pred = predict(base_model, test, usercol='CustomerID', itemcol='StockCode')\n",
    "\n",
    "# Convert Predictions\n",
    "test_pred['prediction'] = np.where((test_pred['prediction']>0),1,0)\n",
    "\n",
    "# Merge test & test_pred to get positive instances \n",
    "test_positive_pred = test.merge(test_pred, on=['CustomerID', 'StockCode'], how='left', indicator=True)\n",
    "\n",
    "# Accuracy \n",
    "accuracy_score(test_positive_pred.purchased, test_positive_pred.prediction)"
   ]
  },
  {
   "attachments": {},
   "cell_type": "markdown",
   "metadata": {},
   "source": [
    "# Visualizations best Model"
   ]
  },
  {
   "cell_type": "code",
   "execution_count": 35,
   "metadata": {},
   "outputs": [],
   "source": [
    "# Import Vizualization Libraries\n",
    "import seaborn as sns \n",
    "from matplotlib import pyplot as plt\n",
    "import plotly.express as px"
   ]
  },
  {
   "cell_type": "code",
   "execution_count": 56,
   "metadata": {},
   "outputs": [
    {
     "data": {
      "image/png": "[encoded data removed]",
      "text/plain": [
       "<Figure size 1000x1000 with 2 Axes>"
      ]
     },
     "metadata": {},
     "output_type": "display_data"
    }
   ],
   "source": [
    "fig = plt.figure(figsize=(10,10))\n",
    "plt.rcParams.update({'font.size': 10})\n",
    "ax = fig.add_subplot(projection='3d')\n",
    "\n",
    "x, y, z = df_param2.factor, df_param2.recall_20, df_param2.recall_10\n",
    "ax.set_xlabel('Factor', fontname='Arial', fontsize=12)\n",
    "ax.set_zlabel('Recall@10',fontname='Arial', fontsize=12)\n",
    "ax.set_ylabel('Recall@20',fontname='Arial', fontsize=12)\n",
    "#ax.scatter(x,y,z, cmap='viridis', marker='o', s=40, c=df_param2.learning_rate)\n",
    "scatter = ax.scatter(x,y,z, cmap='viridis', marker='o', s=40, c=df_param2.learning_rate)\n",
    "#ax.set_title('Number of Factors in the latent Space for the NMF model', fontname='Arial', fontsize=15)\n",
    "\n",
    "# Colorbar\n",
    "cbar = plt.colorbar(scatter, shrink=0.7)\n",
    "cbar.set_label('learning Rate', fontname='Arial', fontsize=12)\n",
    "plt.show()\n"
   ]
  },
  {
   "cell_type": "code",
   "execution_count": null,
   "metadata": {},
   "outputs": [],
   "source": []
  }
 ],
 "metadata": {
  "kernelspec": {
   "display_name": "recom",
   "language": "python",
   "name": "python3"
  },
  "language_info": {
   "codemirror_mode": {
    "name": "ipython",
    "version": 3
   },
   "file_extension": ".py",
   "mimetype": "text/x-python",
   "name": "python",
   "nbconvert_exporter": "python",
   "pygments_lexer": "ipython3",
   "version": "3.9.16"
  },
  "orig_nbformat": 4,
  "vscode": {
   "interpreter": {
    "hash": "17afcd9f6960de0a3656d2c4c5dd434deed0eab3cd38c55c3169df3bef50250d"
   }
  }
 },
 "nbformat": 4,
 "nbformat_minor": 2
}
