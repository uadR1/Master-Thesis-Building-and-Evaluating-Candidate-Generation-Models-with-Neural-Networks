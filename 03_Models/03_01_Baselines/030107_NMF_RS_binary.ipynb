{
 "cells": [
  {
   "attachments": {},
   "cell_type": "markdown",
   "metadata": {},
   "source": [
    "# Import Libraries"
   ]
  },
  {
   "cell_type": "code",
   "execution_count": 1,
   "metadata": {},
   "outputs": [],
   "source": [
    "# Pandas & Numpy \n",
    "import pandas as pd \n",
    "import numpy as np \n",
    "\n",
    "# Suprise & Recommenders \n",
    "import surprise \n",
    "from recommenders.models.surprise.surprise_utils import compute_ranking_predictions, predict\n",
    "from recommenders.evaluation.python_evaluation import precision_at_k, recall_at_k"
   ]
  },
  {
   "attachments": {},
   "cell_type": "markdown",
   "metadata": {},
   "source": [
    "# Reading Data"
   ]
  },
  {
   "cell_type": "code",
   "execution_count": 2,
   "metadata": {},
   "outputs": [],
   "source": [
    "# Read Train & Test Data\n",
    "train = pd.read_csv(\"../../00_Data/rec_sys_binary_train_mixed.csv\", index_col=0)\n",
    "test = pd.read_csv(\"../../00_Data/rec_sys_binary_test_mixed.csv\", index_col=0)"
   ]
  },
  {
   "cell_type": "code",
   "execution_count": 3,
   "metadata": {},
   "outputs": [
    {
     "name": "stdout",
     "output_type": "stream",
     "text": [
      "Shape of Train: (193076, 3)\n",
      "Shape of Test: \t (48269, 3)\n"
     ]
    }
   ],
   "source": [
    "# Check Shapes\n",
    "print(\"Shape of Train:\", train.shape)\n",
    "print(\"Shape of Test: \\t\", test.shape)"
   ]
  },
  {
   "attachments": {},
   "cell_type": "markdown",
   "metadata": {},
   "source": [
    "# Data Preparation: Value of Purchase"
   ]
  },
  {
   "cell_type": "code",
   "execution_count": 27,
   "metadata": {},
   "outputs": [],
   "source": [
    "# Change values of purchased to 5\n",
    "#train['purchased'] = 1\n",
    "#test['purchased'] = 1"
   ]
  },
  {
   "cell_type": "code",
   "execution_count": 4,
   "metadata": {},
   "outputs": [
    {
     "data": {
      "text/plain": [
       "count    287957.000000\n",
       "mean          0.720524\n",
       "std           0.448742\n",
       "min           0.000000\n",
       "25%           0.000000\n",
       "50%           1.000000\n",
       "75%           1.000000\n",
       "max           1.000000\n",
       "Name: purchased, dtype: float64"
      ]
     },
     "execution_count": 4,
     "metadata": {},
     "output_type": "execute_result"
    }
   ],
   "source": [
    "# Sanity Check with Describe \n",
    "train.purchased.describe()"
   ]
  },
  {
   "attachments": {},
   "cell_type": "markdown",
   "metadata": {},
   "source": [
    "# Preparation of Train Dataset for Surprise Models\n",
    "\n"
   ]
  },
  {
   "cell_type": "code",
   "execution_count": 4,
   "metadata": {},
   "outputs": [],
   "source": [
    "# Reader \n",
    "reader = surprise.Reader(rating_scale=(0,1))\n",
    "\n",
    "# Build Train Set from Custom Dataset\n",
    "train_set = surprise.Dataset.load_from_df(train[['CustomerID', 'StockCode', 'purchased']], reader=reader).build_full_trainset()"
   ]
  },
  {
   "attachments": {},
   "cell_type": "markdown",
   "metadata": {},
   "source": [
    "# Baseline Model"
   ]
  },
  {
   "cell_type": "code",
   "execution_count": 5,
   "metadata": {},
   "outputs": [
    {
     "data": {
      "text/plain": [
       "<surprise.prediction_algorithms.matrix_factorization.NMF at 0x7fa3092dbeb0>"
      ]
     },
     "execution_count": 5,
     "metadata": {},
     "output_type": "execute_result"
    }
   ],
   "source": [
    "# Delete Model first \n",
    "try:\n",
    "    del(basemodel)\n",
    "except:\n",
    "    pass\n",
    "\n",
    "# Create Object for Model\n",
    "basemodel = surprise.NMF(random_state=0, verbose=False, n_factors=10, n_epochs=50, reg_pu=0.1, reg_qi=0.1)\n",
    "\n",
    "# Fit Model\n",
    "basemodel.fit(train_set)"
   ]
  },
  {
   "attachments": {},
   "cell_type": "markdown",
   "metadata": {},
   "source": [
    "# Prediction: Test Set only"
   ]
  },
  {
   "cell_type": "code",
   "execution_count": 6,
   "metadata": {},
   "outputs": [],
   "source": [
    "# Predict Test Only\n",
    "test_pred = predict(basemodel, test, usercol='CustomerID', itemcol='StockCode')"
   ]
  },
  {
   "cell_type": "code",
   "execution_count": 7,
   "metadata": {},
   "outputs": [
    {
     "data": {
      "text/plain": [
       "count    48269.000000\n",
       "mean         0.621765\n",
       "std          0.197796\n",
       "min          0.067672\n",
       "25%          0.475925\n",
       "50%          0.644721\n",
       "75%          0.779760\n",
       "max          1.000000\n",
       "Name: prediction, dtype: float64"
      ]
     },
     "execution_count": 7,
     "metadata": {},
     "output_type": "execute_result"
    }
   ],
   "source": [
    "# Check Range of predicions\n",
    "test_pred.prediction.describe()"
   ]
  },
  {
   "cell_type": "code",
   "execution_count": 8,
   "metadata": {},
   "outputs": [],
   "source": [
    "# Convert Predictions\n",
    "test_pred['prediction'] = np.where((test_pred['prediction']>0.5), 1,0)"
   ]
  },
  {
   "cell_type": "code",
   "execution_count": 9,
   "metadata": {},
   "outputs": [
    {
     "data": {
      "text/plain": [
       "1    34713\n",
       "0    13556\n",
       "Name: prediction, dtype: int64"
      ]
     },
     "execution_count": 9,
     "metadata": {},
     "output_type": "execute_result"
    }
   ],
   "source": [
    "# Check Distribution\n",
    "test_pred['prediction'].value_counts()"
   ]
  },
  {
   "cell_type": "code",
   "execution_count": 10,
   "metadata": {},
   "outputs": [],
   "source": [
    "# Sort Index of both Datasets to use Accuracy Score \n",
    "test = test.sort_values(by=['CustomerID', 'StockCode'])\n",
    "test_pred = test_pred.sort_values(by=['CustomerID', 'StockCode'])\n",
    "\n",
    "# Reset indeces for both DataFrames\n",
    "test = test.reset_index(drop=True)\n",
    "test_pred = test_pred.reset_index(drop=True)"
   ]
  },
  {
   "cell_type": "code",
   "execution_count": 11,
   "metadata": {},
   "outputs": [
    {
     "data": {
      "text/html": [
       "<div>\n",
       "<style scoped>\n",
       "    .dataframe tbody tr th:only-of-type {\n",
       "        vertical-align: middle;\n",
       "    }\n",
       "\n",
       "    .dataframe tbody tr th {\n",
       "        vertical-align: top;\n",
       "    }\n",
       "\n",
       "    .dataframe thead th {\n",
       "        text-align: right;\n",
       "    }\n",
       "</style>\n",
       "<table border=\"1\" class=\"dataframe\">\n",
       "  <thead>\n",
       "    <tr style=\"text-align: right;\">\n",
       "      <th></th>\n",
       "      <th>CustomerID</th>\n",
       "      <th>StockCode</th>\n",
       "      <th>purchased</th>\n",
       "    </tr>\n",
       "  </thead>\n",
       "  <tbody>\n",
       "    <tr>\n",
       "      <th>0</th>\n",
       "      <td>12347</td>\n",
       "      <td>21035</td>\n",
       "      <td>1</td>\n",
       "    </tr>\n",
       "    <tr>\n",
       "      <th>1</th>\n",
       "      <td>12347</td>\n",
       "      <td>21041</td>\n",
       "      <td>1</td>\n",
       "    </tr>\n",
       "    <tr>\n",
       "      <th>2</th>\n",
       "      <td>12347</td>\n",
       "      <td>21064</td>\n",
       "      <td>1</td>\n",
       "    </tr>\n",
       "    <tr>\n",
       "      <th>3</th>\n",
       "      <td>12347</td>\n",
       "      <td>21307</td>\n",
       "      <td>0</td>\n",
       "    </tr>\n",
       "    <tr>\n",
       "      <th>4</th>\n",
       "      <td>12347</td>\n",
       "      <td>21719</td>\n",
       "      <td>0</td>\n",
       "    </tr>\n",
       "  </tbody>\n",
       "</table>\n",
       "</div>"
      ],
      "text/plain": [
       "   CustomerID StockCode  purchased\n",
       "0       12347     21035          1\n",
       "1       12347     21041          1\n",
       "2       12347     21064          1\n",
       "3       12347     21307          0\n",
       "4       12347     21719          0"
      ]
     },
     "execution_count": 11,
     "metadata": {},
     "output_type": "execute_result"
    }
   ],
   "source": [
    "# First Reorder columns for test \n",
    "test = test[['CustomerID', 'StockCode', 'purchased']]\n",
    "# Head of Test\n",
    "test.head()"
   ]
  },
  {
   "cell_type": "code",
   "execution_count": 12,
   "metadata": {},
   "outputs": [
    {
     "data": {
      "text/html": [
       "<div>\n",
       "<style scoped>\n",
       "    .dataframe tbody tr th:only-of-type {\n",
       "        vertical-align: middle;\n",
       "    }\n",
       "\n",
       "    .dataframe tbody tr th {\n",
       "        vertical-align: top;\n",
       "    }\n",
       "\n",
       "    .dataframe thead th {\n",
       "        text-align: right;\n",
       "    }\n",
       "</style>\n",
       "<table border=\"1\" class=\"dataframe\">\n",
       "  <thead>\n",
       "    <tr style=\"text-align: right;\">\n",
       "      <th></th>\n",
       "      <th>CustomerID</th>\n",
       "      <th>StockCode</th>\n",
       "      <th>prediction</th>\n",
       "    </tr>\n",
       "  </thead>\n",
       "  <tbody>\n",
       "    <tr>\n",
       "      <th>0</th>\n",
       "      <td>12347</td>\n",
       "      <td>21035</td>\n",
       "      <td>1</td>\n",
       "    </tr>\n",
       "    <tr>\n",
       "      <th>1</th>\n",
       "      <td>12347</td>\n",
       "      <td>21041</td>\n",
       "      <td>1</td>\n",
       "    </tr>\n",
       "    <tr>\n",
       "      <th>2</th>\n",
       "      <td>12347</td>\n",
       "      <td>21064</td>\n",
       "      <td>0</td>\n",
       "    </tr>\n",
       "    <tr>\n",
       "      <th>3</th>\n",
       "      <td>12347</td>\n",
       "      <td>21307</td>\n",
       "      <td>0</td>\n",
       "    </tr>\n",
       "    <tr>\n",
       "      <th>4</th>\n",
       "      <td>12347</td>\n",
       "      <td>21719</td>\n",
       "      <td>0</td>\n",
       "    </tr>\n",
       "  </tbody>\n",
       "</table>\n",
       "</div>"
      ],
      "text/plain": [
       "   CustomerID StockCode  prediction\n",
       "0       12347     21035           1\n",
       "1       12347     21041           1\n",
       "2       12347     21064           0\n",
       "3       12347     21307           0\n",
       "4       12347     21719           0"
      ]
     },
     "execution_count": 12,
     "metadata": {},
     "output_type": "execute_result"
    }
   ],
   "source": [
    "# Head of Test_pred - Compare Index with test.head() above \n",
    "test_pred.head()"
   ]
  },
  {
   "cell_type": "code",
   "execution_count": 13,
   "metadata": {},
   "outputs": [
    {
     "data": {
      "text/plain": [
       "0.7681534732436968"
      ]
     },
     "execution_count": 13,
     "metadata": {},
     "output_type": "execute_result"
    }
   ],
   "source": [
    "# Import Accuracy \n",
    "from sklearn.metrics import accuracy_score\n",
    "\n",
    "# Accuracy all instances \n",
    "accuracy_score(test.purchased, test_pred.prediction)"
   ]
  },
  {
   "cell_type": "code",
   "execution_count": 14,
   "metadata": {},
   "outputs": [
    {
     "data": {
      "text/plain": [
       "0.8405037637521714"
      ]
     },
     "execution_count": 14,
     "metadata": {},
     "output_type": "execute_result"
    }
   ],
   "source": [
    "# Accuracy on positive Test only\n",
    "test_positive = test[test['purchased']==1]\n",
    "test_positive_pred = test_positive.merge(test_pred, on=['CustomerID', 'StockCode'], how='left', indicator=True)\n",
    "test_positive_pred.purchased.value_counts()\n",
    "# Accuracy \n",
    "accuracy_score(test_positive_pred.purchased, test_positive_pred.prediction)\n"
   ]
  },
  {
   "attachments": {},
   "cell_type": "markdown",
   "metadata": {},
   "source": [
    "# Prediction: Top N"
   ]
  },
  {
   "cell_type": "code",
   "execution_count": 15,
   "metadata": {},
   "outputs": [],
   "source": [
    "# Predict All Pairs of Users & Items that are NOT in the Trainset \n",
    "predictions = compute_ranking_predictions(basemodel, train, usercol='CustomerID', itemcol='StockCode', remove_seen=True)"
   ]
  },
  {
   "cell_type": "code",
   "execution_count": 16,
   "metadata": {},
   "outputs": [
    {
     "data": {
      "text/html": [
       "<div>\n",
       "<style scoped>\n",
       "    .dataframe tbody tr th:only-of-type {\n",
       "        vertical-align: middle;\n",
       "    }\n",
       "\n",
       "    .dataframe tbody tr th {\n",
       "        vertical-align: top;\n",
       "    }\n",
       "\n",
       "    .dataframe thead th {\n",
       "        text-align: right;\n",
       "    }\n",
       "</style>\n",
       "<table border=\"1\" class=\"dataframe\">\n",
       "  <thead>\n",
       "    <tr style=\"text-align: right;\">\n",
       "      <th></th>\n",
       "      <th>CustomerID</th>\n",
       "      <th>StockCode</th>\n",
       "      <th>prediction</th>\n",
       "    </tr>\n",
       "  </thead>\n",
       "  <tbody>\n",
       "    <tr>\n",
       "      <th>193076</th>\n",
       "      <td>16701</td>\n",
       "      <td>22030</td>\n",
       "      <td>0.726466</td>\n",
       "    </tr>\n",
       "    <tr>\n",
       "      <th>193077</th>\n",
       "      <td>16701</td>\n",
       "      <td>22960</td>\n",
       "      <td>0.805785</td>\n",
       "    </tr>\n",
       "    <tr>\n",
       "      <th>193078</th>\n",
       "      <td>16701</td>\n",
       "      <td>21509</td>\n",
       "      <td>0.676593</td>\n",
       "    </tr>\n",
       "    <tr>\n",
       "      <th>193079</th>\n",
       "      <td>16701</td>\n",
       "      <td>22810</td>\n",
       "      <td>0.537189</td>\n",
       "    </tr>\n",
       "    <tr>\n",
       "      <th>193080</th>\n",
       "      <td>16701</td>\n",
       "      <td>22780</td>\n",
       "      <td>0.616707</td>\n",
       "    </tr>\n",
       "  </tbody>\n",
       "</table>\n",
       "</div>"
      ],
      "text/plain": [
       "        CustomerID StockCode  prediction\n",
       "193076       16701     22030    0.726466\n",
       "193077       16701     22960    0.805785\n",
       "193078       16701     21509    0.676593\n",
       "193079       16701     22810    0.537189\n",
       "193080       16701     22780    0.616707"
      ]
     },
     "execution_count": 16,
     "metadata": {},
     "output_type": "execute_result"
    }
   ],
   "source": [
    "# Check first five rows\n",
    "predictions.head()"
   ]
  },
  {
   "cell_type": "code",
   "execution_count": 17,
   "metadata": {},
   "outputs": [],
   "source": [
    "# Filter Test for purchased items only\n",
    "test = test[test['purchased']==1]"
   ]
  },
  {
   "cell_type": "code",
   "execution_count": 18,
   "metadata": {},
   "outputs": [],
   "source": [
    "# Write function to filter out top N \n",
    "def filter_top_n(predictions: pd.DataFrame, n: int) -> pd.DataFrame:\n",
    "    \n",
    "    # Group the dataframe by 'CustomerID', and for each group, sort by 'prediction' in descending order, then take the top N rows\n",
    "    top_n_per_customer = predictions.groupby('CustomerID', group_keys=False).apply(lambda group: group.sort_values('prediction', ascending=False).head(n))\n",
    "    \n",
    "    return top_n_per_customer\n",
    "\n",
    "# Filter Top 10 \n",
    "top_10 = filter_top_n(predictions, 10)\n",
    "\n",
    "# Filter Top 20 \n",
    "top_20 = filter_top_n(predictions, 20)"
   ]
  },
  {
   "cell_type": "code",
   "execution_count": 19,
   "metadata": {},
   "outputs": [
    {
     "name": "stdout",
     "output_type": "stream",
     "text": [
      "precision at 10 \t: 0.047769204964776935\n",
      "recall at 10 \t: 0.04870063553297101\n"
     ]
    }
   ],
   "source": [
    "# Evaluate Precision at 10 \n",
    "eval_precision_10 = precision_at_k(test, top_10, col_user=\"CustomerID\", col_item=\"StockCode\",\n",
    "                                    col_rating=\"purchased\", col_prediction=\"prediction\", \n",
    "                                    relevancy_method=\"top_k\", k=10)\n",
    "print('precision at 10 \\t:', eval_precision_10)\n",
    "\n",
    "# Evaluate Recall at 10 \n",
    "eval_recall_10 = recall_at_k(test, top_10,col_user=\"CustomerID\", col_item=\"StockCode\",\n",
    "                                    col_rating=\"purchased\", col_prediction=\"prediction\", \n",
    "                                    relevancy_method=\"top_k\", k=10)\n",
    "print('recall at 10 \\t:', eval_recall_10)"
   ]
  },
  {
   "cell_type": "code",
   "execution_count": 20,
   "metadata": {},
   "outputs": [
    {
     "name": "stdout",
     "output_type": "stream",
     "text": [
      "precision at 20 \t: 0.04109359275410937\n",
      "recall at 20 \t: 0.07889946676172999\n"
     ]
    }
   ],
   "source": [
    "# Evaluate Precision at 20 \n",
    "eval_precision_20 = precision_at_k(test, top_20, col_user=\"CustomerID\", col_item=\"StockCode\",\n",
    "                                    col_rating=\"purchased\", col_prediction=\"prediction\", \n",
    "                                    relevancy_method=\"top_k\", k=20)\n",
    "print('precision at 20 \\t:', eval_precision_20)\n",
    "\n",
    "# Evaluate Recall at 20 \n",
    "eval_recall_20 = recall_at_k(test, top_20,col_user=\"CustomerID\", col_item=\"StockCode\",\n",
    "                                    col_rating=\"purchased\", col_prediction=\"prediction\", \n",
    "                                    relevancy_method=\"top_k\", k=20)\n",
    "print('recall at 20 \\t:', eval_recall_20)"
   ]
  },
  {
   "attachments": {},
   "cell_type": "markdown",
   "metadata": {},
   "source": [
    "# Hyperparameter Tuning"
   ]
  },
  {
   "cell_type": "code",
   "execution_count": 21,
   "metadata": {},
   "outputs": [
    {
     "name": "stdout",
     "output_type": "stream",
     "text": [
      "recall at for 5 factors: \t 0.031627075887257834\n",
      "recall at for 10 factors: \t 0.036644784713595495\n",
      "recall at for 15 factors: \t 0.03893487834318024\n",
      "recall at for 20 factors: \t 0.043763983992539425\n",
      "recall at for 100 factors: \t 0.0551799799261397\n"
     ]
    }
   ],
   "source": [
    "# Define Set of Hyperparameters \n",
    "n_factors = [5, 10, 15, 20, 100]\n",
    "biases = [False]\n",
    "reg_all = [0.01]\n",
    "lr_det = [0.001]\n",
    "\n",
    "# Initiate Lists \n",
    "factor_nr = []\n",
    "regulation_all = []\n",
    "lr_all = []\n",
    "bias_all = []\n",
    "recall_10 = []\n",
    "recall_20 = []\n",
    "precision_10 = []\n",
    "precision_20 = []\n",
    "\n",
    "for factors in n_factors:\n",
    "    for regulation in reg_all:\n",
    "        for learning in lr_det:\n",
    "            for bias in biases:\n",
    "                try:\n",
    "                    del(model)\n",
    "                except:\n",
    "                    pass \n",
    "                # Define Model \n",
    "                model = surprise.NMF(random_state=0,\n",
    "                                    verbose=False,\n",
    "                                    biased=False,\n",
    "                                    n_factors=factors,\n",
    "                                    n_epochs=50,\n",
    "                                    reg_bi=regulation,\n",
    "                                    reg_bu=regulation,\n",
    "                                    lr_bi=learning,\n",
    "                                    lr_bu=learning)\n",
    "                \n",
    "                # Fit model\n",
    "                model.fit(train_set)\n",
    "                \n",
    "                # Predict All Pairs of Users & Items that are NOT in the Trainset \n",
    "                predictions = compute_ranking_predictions(model, test, usercol='CustomerID', itemcol='StockCode')\n",
    "                \n",
    "                # Filter Top 10 & 20 \n",
    "                top_10 = filter_top_n(predictions, 10)\n",
    "                top_20 = filter_top_n(predictions, 20)\n",
    "                \n",
    "                # Evaluate Recall at 10 \n",
    "                eval_recall_10 = recall_at_k(test, top_10,col_user=\"CustomerID\", col_item=\"StockCode\",\n",
    "                                            col_rating=\"purchased\", col_prediction=\"prediction\", \n",
    "                                            relevancy_method=\"top_k\", k=10)\n",
    "                # Evaluate Recall at 20 \n",
    "                eval_recall_20 = recall_at_k(test, top_20,col_user=\"CustomerID\", col_item=\"StockCode\",\n",
    "                                    col_rating=\"purchased\", col_prediction=\"prediction\", \n",
    "                                    relevancy_method=\"top_k\", k=20)\n",
    "                \n",
    "                # Evaluate Precision at 10 \n",
    "                eval_precision_10 = precision_at_k(test, top_10, col_user=\"CustomerID\", col_item=\"StockCode\",\n",
    "                                    col_rating=\"purchased\", col_prediction=\"prediction\", \n",
    "                                    relevancy_method=\"top_k\", k=10)\n",
    "                # Evaluate Precision at 20 \n",
    "                eval_precision_20 = precision_at_k(test, top_20, col_user=\"CustomerID\", col_item=\"StockCode\",\n",
    "                                    col_rating=\"purchased\", col_prediction=\"prediction\", \n",
    "                                    relevancy_method=\"top_k\", k=20) \n",
    "                \n",
    "                print(\"recall at for\", factors, \"factors: \\t\", eval_recall_10)\n",
    "                factor_nr.append(factors)\n",
    "                regulation_all.append(regulation)\n",
    "                lr_all.append(learning)\n",
    "                bias_all.append(bias)\n",
    "                recall_10.append(eval_recall_10)\n",
    "                recall_20.append(eval_recall_20)\n",
    "                precision_10.append(eval_precision_10)\n",
    "                precision_20.append(eval_precision_20)\n",
    "                "
   ]
  },
  {
   "cell_type": "code",
   "execution_count": 22,
   "metadata": {},
   "outputs": [],
   "source": [
    "dict_param = {\n",
    "    \"factor\": factor_nr,\n",
    "    \"regulation_all\": regulation_all,\n",
    "    \"learning_rate_all\": lr_all,\n",
    "    \"bias\" : bias_all,\n",
    "    \"recall_10\": recall_10,\n",
    "    \"recall_20\": recall_20,\n",
    "    \"precision_10\" : precision_10,\n",
    "    \"precision_20\" : precision_20\n",
    "}"
   ]
  },
  {
   "cell_type": "code",
   "execution_count": 23,
   "metadata": {},
   "outputs": [
    {
     "data": {
      "text/html": [
       "<div>\n",
       "<style scoped>\n",
       "    .dataframe tbody tr th:only-of-type {\n",
       "        vertical-align: middle;\n",
       "    }\n",
       "\n",
       "    .dataframe tbody tr th {\n",
       "        vertical-align: top;\n",
       "    }\n",
       "\n",
       "    .dataframe thead th {\n",
       "        text-align: right;\n",
       "    }\n",
       "</style>\n",
       "<table border=\"1\" class=\"dataframe\">\n",
       "  <thead>\n",
       "    <tr style=\"text-align: right;\">\n",
       "      <th></th>\n",
       "      <th>factor</th>\n",
       "      <th>regulation_all</th>\n",
       "      <th>learning_rate_all</th>\n",
       "      <th>bias</th>\n",
       "      <th>recall_10</th>\n",
       "      <th>recall_20</th>\n",
       "      <th>precision_10</th>\n",
       "      <th>precision_20</th>\n",
       "    </tr>\n",
       "  </thead>\n",
       "  <tbody>\n",
       "    <tr>\n",
       "      <th>0</th>\n",
       "      <td>5</td>\n",
       "      <td>0.01</td>\n",
       "      <td>0.001</td>\n",
       "      <td>False</td>\n",
       "      <td>0.031627</td>\n",
       "      <td>0.058504</td>\n",
       "      <td>0.032539</td>\n",
       "      <td>0.029705</td>\n",
       "    </tr>\n",
       "    <tr>\n",
       "      <th>1</th>\n",
       "      <td>10</td>\n",
       "      <td>0.01</td>\n",
       "      <td>0.001</td>\n",
       "      <td>False</td>\n",
       "      <td>0.036645</td>\n",
       "      <td>0.063808</td>\n",
       "      <td>0.035626</td>\n",
       "      <td>0.031768</td>\n",
       "    </tr>\n",
       "    <tr>\n",
       "      <th>2</th>\n",
       "      <td>15</td>\n",
       "      <td>0.01</td>\n",
       "      <td>0.001</td>\n",
       "      <td>False</td>\n",
       "      <td>0.038935</td>\n",
       "      <td>0.070808</td>\n",
       "      <td>0.036934</td>\n",
       "      <td>0.033395</td>\n",
       "    </tr>\n",
       "    <tr>\n",
       "      <th>3</th>\n",
       "      <td>20</td>\n",
       "      <td>0.01</td>\n",
       "      <td>0.001</td>\n",
       "      <td>False</td>\n",
       "      <td>0.043764</td>\n",
       "      <td>0.079845</td>\n",
       "      <td>0.039450</td>\n",
       "      <td>0.036364</td>\n",
       "    </tr>\n",
       "    <tr>\n",
       "      <th>4</th>\n",
       "      <td>100</td>\n",
       "      <td>0.01</td>\n",
       "      <td>0.001</td>\n",
       "      <td>False</td>\n",
       "      <td>0.055180</td>\n",
       "      <td>0.096897</td>\n",
       "      <td>0.046260</td>\n",
       "      <td>0.041312</td>\n",
       "    </tr>\n",
       "  </tbody>\n",
       "</table>\n",
       "</div>"
      ],
      "text/plain": [
       "   factor  regulation_all  learning_rate_all   bias  recall_10  recall_20  \\\n",
       "0       5            0.01              0.001  False   0.031627   0.058504   \n",
       "1      10            0.01              0.001  False   0.036645   0.063808   \n",
       "2      15            0.01              0.001  False   0.038935   0.070808   \n",
       "3      20            0.01              0.001  False   0.043764   0.079845   \n",
       "4     100            0.01              0.001  False   0.055180   0.096897   \n",
       "\n",
       "   precision_10  precision_20  \n",
       "0      0.032539      0.029705  \n",
       "1      0.035626      0.031768  \n",
       "2      0.036934      0.033395  \n",
       "3      0.039450      0.036364  \n",
       "4      0.046260      0.041312  "
      ]
     },
     "execution_count": 23,
     "metadata": {},
     "output_type": "execute_result"
    }
   ],
   "source": [
    "df_param = pd.DataFrame(dict_param)\n",
    "df_param.head()"
   ]
  },
  {
   "cell_type": "code",
   "execution_count": 24,
   "metadata": {},
   "outputs": [
    {
     "data": {
      "text/html": [
       "<div>\n",
       "<style scoped>\n",
       "    .dataframe tbody tr th:only-of-type {\n",
       "        vertical-align: middle;\n",
       "    }\n",
       "\n",
       "    .dataframe tbody tr th {\n",
       "        vertical-align: top;\n",
       "    }\n",
       "\n",
       "    .dataframe thead th {\n",
       "        text-align: right;\n",
       "    }\n",
       "</style>\n",
       "<table border=\"1\" class=\"dataframe\">\n",
       "  <thead>\n",
       "    <tr style=\"text-align: right;\">\n",
       "      <th></th>\n",
       "      <th>factor</th>\n",
       "      <th>regulation_all</th>\n",
       "      <th>learning_rate_all</th>\n",
       "      <th>recall_10</th>\n",
       "      <th>recall_20</th>\n",
       "      <th>precision_10</th>\n",
       "      <th>precision_20</th>\n",
       "    </tr>\n",
       "  </thead>\n",
       "  <tbody>\n",
       "    <tr>\n",
       "      <th>count</th>\n",
       "      <td>5.000000</td>\n",
       "      <td>5.00</td>\n",
       "      <td>5.000</td>\n",
       "      <td>5.000000</td>\n",
       "      <td>5.000000</td>\n",
       "      <td>5.000000</td>\n",
       "      <td>5.000000</td>\n",
       "    </tr>\n",
       "    <tr>\n",
       "      <th>mean</th>\n",
       "      <td>30.000000</td>\n",
       "      <td>0.01</td>\n",
       "      <td>0.001</td>\n",
       "      <td>0.041230</td>\n",
       "      <td>0.073972</td>\n",
       "      <td>0.038162</td>\n",
       "      <td>0.034509</td>\n",
       "    </tr>\n",
       "    <tr>\n",
       "      <th>std</th>\n",
       "      <td>39.528471</td>\n",
       "      <td>0.00</td>\n",
       "      <td>0.000</td>\n",
       "      <td>0.008938</td>\n",
       "      <td>0.015105</td>\n",
       "      <td>0.005167</td>\n",
       "      <td>0.004515</td>\n",
       "    </tr>\n",
       "    <tr>\n",
       "      <th>min</th>\n",
       "      <td>5.000000</td>\n",
       "      <td>0.01</td>\n",
       "      <td>0.001</td>\n",
       "      <td>0.031627</td>\n",
       "      <td>0.058504</td>\n",
       "      <td>0.032539</td>\n",
       "      <td>0.029705</td>\n",
       "    </tr>\n",
       "    <tr>\n",
       "      <th>25%</th>\n",
       "      <td>10.000000</td>\n",
       "      <td>0.01</td>\n",
       "      <td>0.001</td>\n",
       "      <td>0.036645</td>\n",
       "      <td>0.063808</td>\n",
       "      <td>0.035626</td>\n",
       "      <td>0.031768</td>\n",
       "    </tr>\n",
       "    <tr>\n",
       "      <th>50%</th>\n",
       "      <td>15.000000</td>\n",
       "      <td>0.01</td>\n",
       "      <td>0.001</td>\n",
       "      <td>0.038935</td>\n",
       "      <td>0.070808</td>\n",
       "      <td>0.036934</td>\n",
       "      <td>0.033395</td>\n",
       "    </tr>\n",
       "    <tr>\n",
       "      <th>75%</th>\n",
       "      <td>20.000000</td>\n",
       "      <td>0.01</td>\n",
       "      <td>0.001</td>\n",
       "      <td>0.043764</td>\n",
       "      <td>0.079845</td>\n",
       "      <td>0.039450</td>\n",
       "      <td>0.036364</td>\n",
       "    </tr>\n",
       "    <tr>\n",
       "      <th>max</th>\n",
       "      <td>100.000000</td>\n",
       "      <td>0.01</td>\n",
       "      <td>0.001</td>\n",
       "      <td>0.055180</td>\n",
       "      <td>0.096897</td>\n",
       "      <td>0.046260</td>\n",
       "      <td>0.041312</td>\n",
       "    </tr>\n",
       "  </tbody>\n",
       "</table>\n",
       "</div>"
      ],
      "text/plain": [
       "           factor  regulation_all  learning_rate_all  recall_10  recall_20  \\\n",
       "count    5.000000            5.00              5.000   5.000000   5.000000   \n",
       "mean    30.000000            0.01              0.001   0.041230   0.073972   \n",
       "std     39.528471            0.00              0.000   0.008938   0.015105   \n",
       "min      5.000000            0.01              0.001   0.031627   0.058504   \n",
       "25%     10.000000            0.01              0.001   0.036645   0.063808   \n",
       "50%     15.000000            0.01              0.001   0.038935   0.070808   \n",
       "75%     20.000000            0.01              0.001   0.043764   0.079845   \n",
       "max    100.000000            0.01              0.001   0.055180   0.096897   \n",
       "\n",
       "       precision_10  precision_20  \n",
       "count      5.000000      5.000000  \n",
       "mean       0.038162      0.034509  \n",
       "std        0.005167      0.004515  \n",
       "min        0.032539      0.029705  \n",
       "25%        0.035626      0.031768  \n",
       "50%        0.036934      0.033395  \n",
       "75%        0.039450      0.036364  \n",
       "max        0.046260      0.041312  "
      ]
     },
     "execution_count": 24,
     "metadata": {},
     "output_type": "execute_result"
    }
   ],
   "source": [
    "df_param.describe()"
   ]
  },
  {
   "attachments": {},
   "cell_type": "markdown",
   "metadata": {},
   "source": [
    "# Tuning 2 "
   ]
  },
  {
   "cell_type": "code",
   "execution_count": 25,
   "metadata": {},
   "outputs": [
    {
     "name": "stdout",
     "output_type": "stream",
     "text": [
      "recall at for 50 factors: \t 0.04982163457446326\n",
      "recall at for 100 factors: \t 0.0551799799261397\n",
      "recall at for 150 factors: \t 0.05581132077049418\n"
     ]
    }
   ],
   "source": [
    "# Define Set of Hyperparameters \n",
    "n_factors = [50, 100, 150]\n",
    "reg_all = [0.01]\n",
    "lr_det = [0.001]\n",
    "\n",
    "# Initiate Lists \n",
    "factor_nr = []\n",
    "regulation_all = []\n",
    "lr_all = []\n",
    "recall_10 = []\n",
    "recall_20 = []\n",
    "precision_10 = []\n",
    "precision_20 = []\n",
    "\n",
    "for factors in n_factors:\n",
    "    for regulation in reg_all:\n",
    "        for learning in lr_det:\n",
    "            try:\n",
    "                del(model)\n",
    "            except:\n",
    "                pass \n",
    "            # Define Model \n",
    "            model = surprise.NMF(random_state=0,\n",
    "                                verbose=False,\n",
    "                                biased=False,\n",
    "                                n_factors=factors,\n",
    "                                n_epochs=50,\n",
    "                                reg_bi=regulation,\n",
    "                                reg_bu=regulation,\n",
    "                                lr_bi=learning,\n",
    "                                lr_bu=learning)\n",
    "            \n",
    "            # Fit model\n",
    "            model.fit(train_set)\n",
    "            \n",
    "            # Predict All Pairs of Users & Items that are NOT in the Trainset \n",
    "            predictions = compute_ranking_predictions(model, test, usercol='CustomerID', itemcol='StockCode')\n",
    "            \n",
    "            # Filter Top 10 & 20 \n",
    "            top_10 = filter_top_n(predictions, 10)\n",
    "            top_20 = filter_top_n(predictions, 20)\n",
    "            \n",
    "            # Evaluate Recall at 10 \n",
    "            eval_recall_10 = recall_at_k(test, top_10,col_user=\"CustomerID\", col_item=\"StockCode\",\n",
    "                                        col_rating=\"purchased\", col_prediction=\"prediction\", \n",
    "                                        relevancy_method=\"top_k\", k=10)\n",
    "            # Evaluate Recall at 20 \n",
    "            eval_recall_20 = recall_at_k(test, top_20,col_user=\"CustomerID\", col_item=\"StockCode\",\n",
    "                                col_rating=\"purchased\", col_prediction=\"prediction\", \n",
    "                                relevancy_method=\"top_k\", k=20)\n",
    "            \n",
    "            # Evaluate Precision at 10 \n",
    "            eval_precision_10 = precision_at_k(test, top_10, col_user=\"CustomerID\", col_item=\"StockCode\",\n",
    "                                col_rating=\"purchased\", col_prediction=\"prediction\", \n",
    "                                relevancy_method=\"top_k\", k=10)\n",
    "            # Evaluate Precision at 20 \n",
    "            eval_precision_20 = precision_at_k(test, top_20, col_user=\"CustomerID\", col_item=\"StockCode\",\n",
    "                                col_rating=\"purchased\", col_prediction=\"prediction\", \n",
    "                                relevancy_method=\"top_k\", k=20) \n",
    "            \n",
    "            print(\"recall at for\", factors, \"factors: \\t\", eval_recall_10)\n",
    "            factor_nr.append(factors)\n",
    "            regulation_all.append(regulation)\n",
    "            lr_all.append(learning)\n",
    "            recall_10.append(eval_recall_10)\n",
    "            recall_20.append(eval_recall_20)\n",
    "            precision_10.append(eval_precision_10)\n",
    "            precision_20.append(eval_precision_20)\n",
    "            "
   ]
  },
  {
   "cell_type": "code",
   "execution_count": 26,
   "metadata": {},
   "outputs": [
    {
     "data": {
      "text/html": [
       "<div>\n",
       "<style scoped>\n",
       "    .dataframe tbody tr th:only-of-type {\n",
       "        vertical-align: middle;\n",
       "    }\n",
       "\n",
       "    .dataframe tbody tr th {\n",
       "        vertical-align: top;\n",
       "    }\n",
       "\n",
       "    .dataframe thead th {\n",
       "        text-align: right;\n",
       "    }\n",
       "</style>\n",
       "<table border=\"1\" class=\"dataframe\">\n",
       "  <thead>\n",
       "    <tr style=\"text-align: right;\">\n",
       "      <th></th>\n",
       "      <th>factor</th>\n",
       "      <th>regulation_all</th>\n",
       "      <th>learning_rate_all</th>\n",
       "      <th>recall_10</th>\n",
       "      <th>recall_20</th>\n",
       "      <th>precision_10</th>\n",
       "      <th>precision_20</th>\n",
       "    </tr>\n",
       "  </thead>\n",
       "  <tbody>\n",
       "    <tr>\n",
       "      <th>0</th>\n",
       "      <td>50</td>\n",
       "      <td>0.01</td>\n",
       "      <td>0.001</td>\n",
       "      <td>0.049822</td>\n",
       "      <td>0.089028</td>\n",
       "      <td>0.043710</td>\n",
       "      <td>0.039601</td>\n",
       "    </tr>\n",
       "    <tr>\n",
       "      <th>1</th>\n",
       "      <td>100</td>\n",
       "      <td>0.01</td>\n",
       "      <td>0.001</td>\n",
       "      <td>0.055180</td>\n",
       "      <td>0.096897</td>\n",
       "      <td>0.046260</td>\n",
       "      <td>0.041312</td>\n",
       "    </tr>\n",
       "    <tr>\n",
       "      <th>2</th>\n",
       "      <td>150</td>\n",
       "      <td>0.01</td>\n",
       "      <td>0.001</td>\n",
       "      <td>0.055811</td>\n",
       "      <td>0.099030</td>\n",
       "      <td>0.046796</td>\n",
       "      <td>0.042486</td>\n",
       "    </tr>\n",
       "  </tbody>\n",
       "</table>\n",
       "</div>"
      ],
      "text/plain": [
       "   factor  regulation_all  learning_rate_all  recall_10  recall_20  \\\n",
       "0      50            0.01              0.001   0.049822   0.089028   \n",
       "1     100            0.01              0.001   0.055180   0.096897   \n",
       "2     150            0.01              0.001   0.055811   0.099030   \n",
       "\n",
       "   precision_10  precision_20  \n",
       "0      0.043710      0.039601  \n",
       "1      0.046260      0.041312  \n",
       "2      0.046796      0.042486  "
      ]
     },
     "execution_count": 26,
     "metadata": {},
     "output_type": "execute_result"
    }
   ],
   "source": [
    "dict_param2 = {\n",
    "    \"factor\": factor_nr,\n",
    "    \"regulation_all\": regulation_all,\n",
    "    \"learning_rate_all\": lr_all,\n",
    "    \"recall_10\": recall_10,\n",
    "    \"recall_20\": recall_20,\n",
    "    \"precision_10\" : precision_10,\n",
    "    \"precision_20\" : precision_20\n",
    "}\n",
    "\n",
    "df_param2 = pd.DataFrame(dict_param2)\n",
    "df_param2.head()"
   ]
  },
  {
   "attachments": {},
   "cell_type": "markdown",
   "metadata": {},
   "source": [
    "# Tuning 3"
   ]
  },
  {
   "cell_type": "code",
   "execution_count": 29,
   "metadata": {},
   "outputs": [
    {
     "name": "stdout",
     "output_type": "stream",
     "text": [
      "recall at for 100 factors: \t 0.0551799799261397\n",
      "recall at for 110 factors: \t 0.05681274594750437\n",
      "recall at for 120 factors: \t 0.056015557086465426\n",
      "recall at for 130 factors: \t 0.05695531594865067\n",
      "recall at for 140 factors: \t 0.05640340090781129\n",
      "recall at for 150 factors: \t 0.05581132077049418\n",
      "recall at for 160 factors: \t 0.05764855656963745\n"
     ]
    }
   ],
   "source": [
    "# Define Set of Hyperparameters \n",
    "n_factors = [100, 110, 120, 130, 140, 150, 160]\n",
    "reg_all = [0.01]\n",
    "lr_det = [0.001]\n",
    "\n",
    "# Initiate Lists \n",
    "factor_nr = []\n",
    "regulation_all = []\n",
    "lr_all = []\n",
    "recall_10 = []\n",
    "recall_20 = []\n",
    "precision_10 = []\n",
    "precision_20 = []\n",
    "\n",
    "for factors in n_factors:\n",
    "    for regulation in reg_all:\n",
    "        for learning in lr_det:\n",
    "            try:\n",
    "                del(model)\n",
    "            except:\n",
    "                pass \n",
    "            # Define Model \n",
    "            model = surprise.NMF(random_state=0,\n",
    "                                verbose=False,\n",
    "                                biased=False,\n",
    "                                n_factors=factors,\n",
    "                                n_epochs=50,\n",
    "                                reg_bi=regulation,\n",
    "                                reg_bu=regulation,\n",
    "                                lr_bi=learning,\n",
    "                                lr_bu=learning)\n",
    "            \n",
    "            # Fit model\n",
    "            model.fit(train_set)\n",
    "            \n",
    "            # Predict All Pairs of Users & Items that are NOT in the Trainset \n",
    "            predictions = compute_ranking_predictions(model, test, usercol='CustomerID', itemcol='StockCode')\n",
    "            \n",
    "            # Filter Top 10 & 20 \n",
    "            top_10 = filter_top_n(predictions, 10)\n",
    "            top_20 = filter_top_n(predictions, 20)\n",
    "            \n",
    "            # Evaluate Recall at 10 \n",
    "            eval_recall_10 = recall_at_k(test, top_10,col_user=\"CustomerID\", col_item=\"StockCode\",\n",
    "                                        col_rating=\"purchased\", col_prediction=\"prediction\", \n",
    "                                        relevancy_method=\"top_k\", k=10)\n",
    "            # Evaluate Recall at 20 \n",
    "            eval_recall_20 = recall_at_k(test, top_20,col_user=\"CustomerID\", col_item=\"StockCode\",\n",
    "                                col_rating=\"purchased\", col_prediction=\"prediction\", \n",
    "                                relevancy_method=\"top_k\", k=20)\n",
    "            \n",
    "            # Evaluate Precision at 10 \n",
    "            eval_precision_10 = precision_at_k(test, top_10, col_user=\"CustomerID\", col_item=\"StockCode\",\n",
    "                                col_rating=\"purchased\", col_prediction=\"prediction\", \n",
    "                                relevancy_method=\"top_k\", k=10)\n",
    "            # Evaluate Precision at 20 \n",
    "            eval_precision_20 = precision_at_k(test, top_20, col_user=\"CustomerID\", col_item=\"StockCode\",\n",
    "                                col_rating=\"purchased\", col_prediction=\"prediction\", \n",
    "                                relevancy_method=\"top_k\", k=20) \n",
    "            \n",
    "            print(\"recall at for\", factors, \"factors: \\t\", eval_recall_10)\n",
    "            factor_nr.append(factors)\n",
    "            regulation_all.append(regulation)\n",
    "            lr_all.append(learning)\n",
    "            recall_10.append(eval_recall_10)\n",
    "            recall_20.append(eval_recall_20)\n",
    "            precision_10.append(eval_precision_10)\n",
    "            precision_20.append(eval_precision_20)"
   ]
  },
  {
   "cell_type": "code",
   "execution_count": 30,
   "metadata": {},
   "outputs": [
    {
     "data": {
      "text/html": [
       "<div>\n",
       "<style scoped>\n",
       "    .dataframe tbody tr th:only-of-type {\n",
       "        vertical-align: middle;\n",
       "    }\n",
       "\n",
       "    .dataframe tbody tr th {\n",
       "        vertical-align: top;\n",
       "    }\n",
       "\n",
       "    .dataframe thead th {\n",
       "        text-align: right;\n",
       "    }\n",
       "</style>\n",
       "<table border=\"1\" class=\"dataframe\">\n",
       "  <thead>\n",
       "    <tr style=\"text-align: right;\">\n",
       "      <th></th>\n",
       "      <th>factor</th>\n",
       "      <th>regulation_all</th>\n",
       "      <th>learning_rate_all</th>\n",
       "      <th>recall_10</th>\n",
       "      <th>recall_20</th>\n",
       "      <th>precision_10</th>\n",
       "      <th>precision_20</th>\n",
       "    </tr>\n",
       "  </thead>\n",
       "  <tbody>\n",
       "    <tr>\n",
       "      <th>0</th>\n",
       "      <td>100</td>\n",
       "      <td>0.01</td>\n",
       "      <td>0.001</td>\n",
       "      <td>0.055180</td>\n",
       "      <td>0.096897</td>\n",
       "      <td>0.046260</td>\n",
       "      <td>0.041312</td>\n",
       "    </tr>\n",
       "    <tr>\n",
       "      <th>1</th>\n",
       "      <td>110</td>\n",
       "      <td>0.01</td>\n",
       "      <td>0.001</td>\n",
       "      <td>0.056813</td>\n",
       "      <td>0.102839</td>\n",
       "      <td>0.046998</td>\n",
       "      <td>0.042217</td>\n",
       "    </tr>\n",
       "    <tr>\n",
       "      <th>2</th>\n",
       "      <td>120</td>\n",
       "      <td>0.01</td>\n",
       "      <td>0.001</td>\n",
       "      <td>0.056016</td>\n",
       "      <td>0.099061</td>\n",
       "      <td>0.046327</td>\n",
       "      <td>0.041345</td>\n",
       "    </tr>\n",
       "    <tr>\n",
       "      <th>3</th>\n",
       "      <td>130</td>\n",
       "      <td>0.01</td>\n",
       "      <td>0.001</td>\n",
       "      <td>0.056955</td>\n",
       "      <td>0.101330</td>\n",
       "      <td>0.046830</td>\n",
       "      <td>0.042553</td>\n",
       "    </tr>\n",
       "    <tr>\n",
       "      <th>4</th>\n",
       "      <td>140</td>\n",
       "      <td>0.01</td>\n",
       "      <td>0.001</td>\n",
       "      <td>0.056403</td>\n",
       "      <td>0.100752</td>\n",
       "      <td>0.047031</td>\n",
       "      <td>0.042486</td>\n",
       "    </tr>\n",
       "  </tbody>\n",
       "</table>\n",
       "</div>"
      ],
      "text/plain": [
       "   factor  regulation_all  learning_rate_all  recall_10  recall_20  \\\n",
       "0     100            0.01              0.001   0.055180   0.096897   \n",
       "1     110            0.01              0.001   0.056813   0.102839   \n",
       "2     120            0.01              0.001   0.056016   0.099061   \n",
       "3     130            0.01              0.001   0.056955   0.101330   \n",
       "4     140            0.01              0.001   0.056403   0.100752   \n",
       "\n",
       "   precision_10  precision_20  \n",
       "0      0.046260      0.041312  \n",
       "1      0.046998      0.042217  \n",
       "2      0.046327      0.041345  \n",
       "3      0.046830      0.042553  \n",
       "4      0.047031      0.042486  "
      ]
     },
     "execution_count": 30,
     "metadata": {},
     "output_type": "execute_result"
    }
   ],
   "source": [
    "dict_param3 = {\n",
    "    \"factor\": factor_nr,\n",
    "    \"regulation_all\": regulation_all,\n",
    "    \"learning_rate_all\": lr_all,\n",
    "    \"recall_10\": recall_10,\n",
    "    \"recall_20\": recall_20,\n",
    "    \"precision_10\" : precision_10,\n",
    "    \"precision_20\" : precision_20\n",
    "}\n",
    "\n",
    "df_param3 = pd.DataFrame(dict_param3)\n",
    "df_param3.head()"
   ]
  },
  {
   "attachments": {},
   "cell_type": "markdown",
   "metadata": {},
   "source": [
    "# Tuning 4"
   ]
  },
  {
   "cell_type": "code",
   "execution_count": 32,
   "metadata": {},
   "outputs": [
    {
     "name": "stdout",
     "output_type": "stream",
     "text": [
      "recall at for 156 factors: \t 0.058220338529257856\n",
      "recall at for 157 factors: \t 0.05842356982270454\n",
      "recall at for 158 factors: \t 0.05653611699575816\n",
      "recall at for 159 factors: \t 0.059575591070037216\n",
      "recall at for 160 factors: \t 0.05764855656963745\n",
      "recall at for 161 factors: \t 0.058454000619800175\n",
      "recall at for 162 factors: \t 0.05667442205405311\n",
      "recall at for 163 factors: \t 0.05666300210626157\n",
      "recall at for 164 factors: \t 0.058424013075398434\n"
     ]
    }
   ],
   "source": [
    "# Define Set of Hyperparameters \n",
    "n_factors = [156, 157, 158, 159, 160, 161, 162, 163, 164]\n",
    "reg_all = [0.01]\n",
    "lr_det = [0.001]\n",
    "\n",
    "# Initiate Lists \n",
    "factor_nr = []\n",
    "regulation_all = []\n",
    "lr_all = []\n",
    "recall_10 = []\n",
    "recall_20 = []\n",
    "precision_10 = []\n",
    "precision_20 = []\n",
    "\n",
    "for factors in n_factors:\n",
    "    for regulation in reg_all:\n",
    "        for learning in lr_det:\n",
    "            try:\n",
    "                del(model)\n",
    "            except:\n",
    "                pass \n",
    "            # Define Model \n",
    "            model = surprise.NMF(random_state=0,\n",
    "                                verbose=False,\n",
    "                                biased=False,\n",
    "                                n_factors=factors,\n",
    "                                n_epochs=50,\n",
    "                                reg_bi=regulation,\n",
    "                                reg_bu=regulation,\n",
    "                                lr_bi=learning,\n",
    "                                lr_bu=learning)\n",
    "            \n",
    "            # Fit model\n",
    "            model.fit(train_set)\n",
    "            \n",
    "            # Predict All Pairs of Users & Items that are NOT in the Trainset \n",
    "            predictions = compute_ranking_predictions(model, test, usercol='CustomerID', itemcol='StockCode')\n",
    "            \n",
    "            # Filter Top 10 & 20 \n",
    "            top_10 = filter_top_n(predictions, 10)\n",
    "            top_20 = filter_top_n(predictions, 20)\n",
    "            \n",
    "            # Evaluate Recall at 10 \n",
    "            eval_recall_10 = recall_at_k(test, top_10,col_user=\"CustomerID\", col_item=\"StockCode\",\n",
    "                                        col_rating=\"purchased\", col_prediction=\"prediction\", \n",
    "                                        relevancy_method=\"top_k\", k=10)\n",
    "            # Evaluate Recall at 20 \n",
    "            eval_recall_20 = recall_at_k(test, top_20,col_user=\"CustomerID\", col_item=\"StockCode\",\n",
    "                                col_rating=\"purchased\", col_prediction=\"prediction\", \n",
    "                                relevancy_method=\"top_k\", k=20)\n",
    "            \n",
    "            # Evaluate Precision at 10 \n",
    "            eval_precision_10 = precision_at_k(test, top_10, col_user=\"CustomerID\", col_item=\"StockCode\",\n",
    "                                col_rating=\"purchased\", col_prediction=\"prediction\", \n",
    "                                relevancy_method=\"top_k\", k=10)\n",
    "            # Evaluate Precision at 20 \n",
    "            eval_precision_20 = precision_at_k(test, top_20, col_user=\"CustomerID\", col_item=\"StockCode\",\n",
    "                                col_rating=\"purchased\", col_prediction=\"prediction\", \n",
    "                                relevancy_method=\"top_k\", k=20) \n",
    "            \n",
    "            print(\"recall at for\", factors, \"factors: \\t\", eval_recall_10)\n",
    "            factor_nr.append(factors)\n",
    "            regulation_all.append(regulation)\n",
    "            lr_all.append(learning)\n",
    "            recall_10.append(eval_recall_10)\n",
    "            recall_20.append(eval_recall_20)\n",
    "            precision_10.append(eval_precision_10)\n",
    "            precision_20.append(eval_precision_20)"
   ]
  },
  {
   "cell_type": "code",
   "execution_count": 33,
   "metadata": {},
   "outputs": [
    {
     "data": {
      "text/html": [
       "<div>\n",
       "<style scoped>\n",
       "    .dataframe tbody tr th:only-of-type {\n",
       "        vertical-align: middle;\n",
       "    }\n",
       "\n",
       "    .dataframe tbody tr th {\n",
       "        vertical-align: top;\n",
       "    }\n",
       "\n",
       "    .dataframe thead th {\n",
       "        text-align: right;\n",
       "    }\n",
       "</style>\n",
       "<table border=\"1\" class=\"dataframe\">\n",
       "  <thead>\n",
       "    <tr style=\"text-align: right;\">\n",
       "      <th></th>\n",
       "      <th>factor</th>\n",
       "      <th>regulation_all</th>\n",
       "      <th>learning_rate_all</th>\n",
       "      <th>recall_10</th>\n",
       "      <th>recall_20</th>\n",
       "      <th>precision_10</th>\n",
       "      <th>precision_20</th>\n",
       "    </tr>\n",
       "  </thead>\n",
       "  <tbody>\n",
       "    <tr>\n",
       "      <th>3</th>\n",
       "      <td>159</td>\n",
       "      <td>0.01</td>\n",
       "      <td>0.001</td>\n",
       "      <td>0.059576</td>\n",
       "      <td>0.103506</td>\n",
       "      <td>0.048742</td>\n",
       "      <td>0.043173</td>\n",
       "    </tr>\n",
       "    <tr>\n",
       "      <th>5</th>\n",
       "      <td>161</td>\n",
       "      <td>0.01</td>\n",
       "      <td>0.001</td>\n",
       "      <td>0.058454</td>\n",
       "      <td>0.101336</td>\n",
       "      <td>0.047736</td>\n",
       "      <td>0.042855</td>\n",
       "    </tr>\n",
       "    <tr>\n",
       "      <th>8</th>\n",
       "      <td>164</td>\n",
       "      <td>0.01</td>\n",
       "      <td>0.001</td>\n",
       "      <td>0.058424</td>\n",
       "      <td>0.101293</td>\n",
       "      <td>0.049178</td>\n",
       "      <td>0.042955</td>\n",
       "    </tr>\n",
       "    <tr>\n",
       "      <th>1</th>\n",
       "      <td>157</td>\n",
       "      <td>0.01</td>\n",
       "      <td>0.001</td>\n",
       "      <td>0.058424</td>\n",
       "      <td>0.102195</td>\n",
       "      <td>0.047467</td>\n",
       "      <td>0.042435</td>\n",
       "    </tr>\n",
       "    <tr>\n",
       "      <th>0</th>\n",
       "      <td>156</td>\n",
       "      <td>0.01</td>\n",
       "      <td>0.001</td>\n",
       "      <td>0.058220</td>\n",
       "      <td>0.103709</td>\n",
       "      <td>0.047568</td>\n",
       "      <td>0.043492</td>\n",
       "    </tr>\n",
       "    <tr>\n",
       "      <th>4</th>\n",
       "      <td>160</td>\n",
       "      <td>0.01</td>\n",
       "      <td>0.001</td>\n",
       "      <td>0.057649</td>\n",
       "      <td>0.102503</td>\n",
       "      <td>0.047803</td>\n",
       "      <td>0.043173</td>\n",
       "    </tr>\n",
       "    <tr>\n",
       "      <th>6</th>\n",
       "      <td>162</td>\n",
       "      <td>0.01</td>\n",
       "      <td>0.001</td>\n",
       "      <td>0.056674</td>\n",
       "      <td>0.101743</td>\n",
       "      <td>0.047467</td>\n",
       "      <td>0.042687</td>\n",
       "    </tr>\n",
       "    <tr>\n",
       "      <th>7</th>\n",
       "      <td>163</td>\n",
       "      <td>0.01</td>\n",
       "      <td>0.001</td>\n",
       "      <td>0.056663</td>\n",
       "      <td>0.100356</td>\n",
       "      <td>0.047803</td>\n",
       "      <td>0.042704</td>\n",
       "    </tr>\n",
       "    <tr>\n",
       "      <th>2</th>\n",
       "      <td>158</td>\n",
       "      <td>0.01</td>\n",
       "      <td>0.001</td>\n",
       "      <td>0.056536</td>\n",
       "      <td>0.099564</td>\n",
       "      <td>0.047165</td>\n",
       "      <td>0.042184</td>\n",
       "    </tr>\n",
       "  </tbody>\n",
       "</table>\n",
       "</div>"
      ],
      "text/plain": [
       "   factor  regulation_all  learning_rate_all  recall_10  recall_20  \\\n",
       "3     159            0.01              0.001   0.059576   0.103506   \n",
       "5     161            0.01              0.001   0.058454   0.101336   \n",
       "8     164            0.01              0.001   0.058424   0.101293   \n",
       "1     157            0.01              0.001   0.058424   0.102195   \n",
       "0     156            0.01              0.001   0.058220   0.103709   \n",
       "4     160            0.01              0.001   0.057649   0.102503   \n",
       "6     162            0.01              0.001   0.056674   0.101743   \n",
       "7     163            0.01              0.001   0.056663   0.100356   \n",
       "2     158            0.01              0.001   0.056536   0.099564   \n",
       "\n",
       "   precision_10  precision_20  \n",
       "3      0.048742      0.043173  \n",
       "5      0.047736      0.042855  \n",
       "8      0.049178      0.042955  \n",
       "1      0.047467      0.042435  \n",
       "0      0.047568      0.043492  \n",
       "4      0.047803      0.043173  \n",
       "6      0.047467      0.042687  \n",
       "7      0.047803      0.042704  \n",
       "2      0.047165      0.042184  "
      ]
     },
     "execution_count": 33,
     "metadata": {},
     "output_type": "execute_result"
    }
   ],
   "source": [
    "dict_param4 = {\n",
    "    \"factor\": factor_nr,\n",
    "    \"regulation_all\": regulation_all,\n",
    "    \"learning_rate_all\": lr_all,\n",
    "    \"recall_10\": recall_10,\n",
    "    \"recall_20\": recall_20,\n",
    "    \"precision_10\" : precision_10,\n",
    "    \"precision_20\" : precision_20\n",
    "}\n",
    "\n",
    "df_param4 = pd.DataFrame(dict_param4)\n",
    "df_param4.sort_values(by='recall_10', ascending=False)"
   ]
  },
  {
   "attachments": {},
   "cell_type": "markdown",
   "metadata": {},
   "source": [
    "# Best Model: Accuracy on Test"
   ]
  },
  {
   "cell_type": "code",
   "execution_count": 34,
   "metadata": {},
   "outputs": [
    {
     "data": {
      "text/plain": [
       "0.8964099594672843"
      ]
     },
     "execution_count": 34,
     "metadata": {},
     "output_type": "execute_result"
    }
   ],
   "source": [
    "# Create Object for Model\n",
    "best_model = surprise.NMF(random_state=0,\n",
    "                        verbose=False,\n",
    "                        biased=False,\n",
    "                        n_factors=159,\n",
    "                        n_epochs=50,\n",
    "                        reg_bi=0.01,\n",
    "                        reg_bu=0.01,\n",
    "                        lr_bi=0.001,\n",
    "                        lr_bu=0.001)\n",
    "\n",
    "# Fit the base_model\n",
    "best_model.fit(train_set)\n",
    "\n",
    "# Make Predictions\n",
    "test_pred = predict(best_model, test, usercol='CustomerID', itemcol='StockCode')\n",
    "\n",
    "# Convert Predictions\n",
    "test_pred['prediction'] = np.where((test_pred['prediction']>0.5), 1,0)\n",
    "\n",
    "# Sort Index of both Datasets to use Accuracy Score \n",
    "test = test.sort_values(by=['CustomerID', 'StockCode'])\n",
    "test_pred = test_pred.sort_values(by=['CustomerID', 'StockCode'])\n",
    "\n",
    "# Reset indeces for both DataFrames\n",
    "test = test.reset_index(drop=True)\n",
    "test_pred = test_pred.reset_index(drop=True)\n",
    "\n",
    "# Accuracy \n",
    "accuracy_score(test.purchased, test_pred.prediction)"
   ]
  },
  {
   "cell_type": "code",
   "execution_count": 35,
   "metadata": {},
   "outputs": [
    {
     "data": {
      "text/plain": [
       "1    34540\n",
       "Name: purchased, dtype: int64"
      ]
     },
     "execution_count": 35,
     "metadata": {},
     "output_type": "execute_result"
    }
   ],
   "source": [
    "test.purchased.value_counts()"
   ]
  },
  {
   "attachments": {},
   "cell_type": "markdown",
   "metadata": {},
   "source": [
    "# Visualizations"
   ]
  },
  {
   "cell_type": "code",
   "execution_count": 36,
   "metadata": {},
   "outputs": [],
   "source": [
    "# Import Vizualization Libraries\n",
    "import seaborn as sns \n",
    "from matplotlib import pyplot as plt\n",
    "import plotly.express as px"
   ]
  },
  {
   "cell_type": "code",
   "execution_count": 37,
   "metadata": {},
   "outputs": [
    {
     "name": "stderr",
     "output_type": "stream",
     "text": [
      "/var/folders/bs/ht_t1wp94tl3wt5xhchcxq2m0000gn/T/ipykernel_77463/995872618.py:9: UserWarning: No data for colormapping provided via 'c'. Parameters 'cmap' will be ignored\n",
      "  ax.scatter(x,y,z, cmap='viridis', marker='o', s=40)\n"
     ]
    },
    {
     "data": {
      "image/png": "[encoded data removed]",
      "text/plain": [
       "<Figure size 1000x1000 with 1 Axes>"
      ]
     },
     "metadata": {},
     "output_type": "display_data"
    }
   ],
   "source": [
    "fig = plt.figure(figsize=(10,10))\n",
    "plt.rcParams.update({'font.size': 10})\n",
    "ax = fig.add_subplot(projection='3d')\n",
    "\n",
    "x, y, z = df_param4.factor, df_param4.recall_20, df_param4.recall_10\n",
    "ax.set_xlabel('Factor', fontname='Arial', fontsize=12)\n",
    "ax.set_zlabel('Recall@10',fontname='Arial', fontsize=12)\n",
    "ax.set_ylabel('Recall@20',fontname='Arial', fontsize=12)\n",
    "ax.scatter(x,y,z, cmap='viridis', marker='o', s=40)\n",
    "#ax.set_title('Number of Factors in the latent Space for the NMF model', fontname='Arial', fontsize=15)\n",
    "plt.show()\n"
   ]
  }
 ],
 "metadata": {
  "kernelspec": {
   "display_name": "recom",
   "language": "python",
   "name": "python3"
  },
  "language_info": {
   "codemirror_mode": {
    "name": "ipython",
    "version": 3
   },
   "file_extension": ".py",
   "mimetype": "text/x-python",
   "name": "python",
   "nbconvert_exporter": "python",
   "pygments_lexer": "ipython3",
   "version": "3.9.16"
  },
  "orig_nbformat": 4,
  "vscode": {
   "interpreter": {
    "hash": "17afcd9f6960de0a3656d2c4c5dd434deed0eab3cd38c55c3169df3bef50250d"
   }
  }
 },
 "nbformat": 4,
 "nbformat_minor": 2
}
