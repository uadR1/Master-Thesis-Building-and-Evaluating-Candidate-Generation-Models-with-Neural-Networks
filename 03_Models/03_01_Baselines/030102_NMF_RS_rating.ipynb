{
 "cells": [
  {
   "attachments": {},
   "cell_type": "markdown",
   "metadata": {},
   "source": [
    "# Import Libraries"
   ]
  },
  {
   "cell_type": "code",
   "execution_count": 1,
   "metadata": {},
   "outputs": [],
   "source": [
    "# Pandas & Numpy \n",
    "import pandas as pd \n",
    "import numpy as np \n",
    "\n",
    "# Suprise & Recommenders \n",
    "import surprise \n",
    "from recommenders.models.surprise.surprise_utils import compute_ranking_predictions, predict\n",
    "from recommenders.evaluation.python_evaluation import precision_at_k, recall_at_k"
   ]
  },
  {
   "attachments": {},
   "cell_type": "markdown",
   "metadata": {},
   "source": [
    "# Reading Data"
   ]
  },
  {
   "cell_type": "code",
   "execution_count": 8,
   "metadata": {},
   "outputs": [],
   "source": [
    "# Read Train & Test Data\n",
    "train = pd.read_csv(\"../../00_Data/rec_sys_ratings_train.csv\", index_col=0)\n",
    "test = pd.read_csv(\"../../00_Data/rec_sys_ratings_test.csv\", index_col=0)"
   ]
  },
  {
   "cell_type": "code",
   "execution_count": 3,
   "metadata": {},
   "outputs": [
    {
     "name": "stdout",
     "output_type": "stream",
     "text": [
      "Shape of Train: (393208, 3)\n",
      "Shape of Test: \t (98401, 3)\n"
     ]
    }
   ],
   "source": [
    "# Check Shapes\n",
    "print(\"Shape of Train:\", train.shape)\n",
    "print(\"Shape of Test: \\t\", test.shape)"
   ]
  },
  {
   "attachments": {},
   "cell_type": "markdown",
   "metadata": {},
   "source": [
    "# Preparation of Train Dataset for Surprise Models\n",
    "\n"
   ]
  },
  {
   "cell_type": "code",
   "execution_count": 4,
   "metadata": {},
   "outputs": [],
   "source": [
    "# Reader \n",
    "reader = surprise.Reader(rating_scale=(-2,2))\n",
    "\n",
    "# Build Train Set from Custom Dataset\n",
    "train_set = surprise.Dataset.load_from_df(train[['CustomerID', 'StockCode', 'purchased']], reader=reader).build_full_trainset()"
   ]
  },
  {
   "attachments": {},
   "cell_type": "markdown",
   "metadata": {},
   "source": [
    "# Baseline Model"
   ]
  },
  {
   "cell_type": "code",
   "execution_count": 5,
   "metadata": {},
   "outputs": [
    {
     "data": {
      "text/plain": [
       "<surprise.prediction_algorithms.matrix_factorization.NMF at 0x7fcf1943be80>"
      ]
     },
     "execution_count": 5,
     "metadata": {},
     "output_type": "execute_result"
    }
   ],
   "source": [
    "# Delete Model first \n",
    "try:\n",
    "    del(basemodel)\n",
    "except:\n",
    "    pass\n",
    "\n",
    "# Create Object for Model\n",
    "basemodel = surprise.NMF(random_state=0, verbose=False, n_factors=10, n_epochs=50, reg_pu=0.1, reg_qi=0.1)\n",
    "\n",
    "# Fit Model\n",
    "basemodel.fit(train_set)"
   ]
  },
  {
   "attachments": {},
   "cell_type": "markdown",
   "metadata": {},
   "source": [
    "# Prediction: Test Set only"
   ]
  },
  {
   "cell_type": "code",
   "execution_count": 9,
   "metadata": {},
   "outputs": [],
   "source": [
    "# Predict Test Only\n",
    "test_pred = predict(basemodel, test, usercol='CustomerID', itemcol='StockCode')"
   ]
  },
  {
   "cell_type": "code",
   "execution_count": 11,
   "metadata": {},
   "outputs": [
    {
     "data": {
      "text/plain": [
       "count    98401.000000\n",
       "mean         0.000252\n",
       "std          0.423192\n",
       "min         -2.000000\n",
       "25%         -0.028340\n",
       "50%          0.000667\n",
       "75%          0.037375\n",
       "max          2.000000\n",
       "Name: prediction, dtype: float64"
      ]
     },
     "execution_count": 11,
     "metadata": {},
     "output_type": "execute_result"
    }
   ],
   "source": [
    "# Check Range of predicions\n",
    "test_pred.prediction.describe()"
   ]
  },
  {
   "cell_type": "code",
   "execution_count": 12,
   "metadata": {},
   "outputs": [],
   "source": [
    "# Convert Predictions\n",
    "test_pred['prediction'] = np.where((test_pred['prediction']>0),1,0)\n",
    "\n",
    "# Convert Test\n",
    "test['purchased'] = np.where((test['purchased']>0),1,0)"
   ]
  },
  {
   "cell_type": "code",
   "execution_count": 13,
   "metadata": {},
   "outputs": [
    {
     "data": {
      "text/plain": [
       "1    50421\n",
       "0    47980\n",
       "Name: prediction, dtype: int64"
      ]
     },
     "execution_count": 13,
     "metadata": {},
     "output_type": "execute_result"
    }
   ],
   "source": [
    "# Check Distribution\n",
    "test_pred['prediction'].value_counts()"
   ]
  },
  {
   "cell_type": "code",
   "execution_count": 14,
   "metadata": {},
   "outputs": [],
   "source": [
    "# Sort Index of both Datasets to use Accuracy Score \n",
    "test = test.sort_values(by=['CustomerID', 'StockCode'])\n",
    "test_pred = test_pred.sort_values(by=['CustomerID', 'StockCode'])\n",
    "\n",
    "# Reset indeces for both DataFrames\n",
    "test = test.reset_index(drop=True)\n",
    "test_pred = test_pred.reset_index(drop=True)"
   ]
  },
  {
   "cell_type": "code",
   "execution_count": 15,
   "metadata": {},
   "outputs": [
    {
     "data": {
      "text/html": [
       "<div>\n",
       "<style scoped>\n",
       "    .dataframe tbody tr th:only-of-type {\n",
       "        vertical-align: middle;\n",
       "    }\n",
       "\n",
       "    .dataframe tbody tr th {\n",
       "        vertical-align: top;\n",
       "    }\n",
       "\n",
       "    .dataframe thead th {\n",
       "        text-align: right;\n",
       "    }\n",
       "</style>\n",
       "<table border=\"1\" class=\"dataframe\">\n",
       "  <thead>\n",
       "    <tr style=\"text-align: right;\">\n",
       "      <th></th>\n",
       "      <th>CustomerID</th>\n",
       "      <th>StockCode</th>\n",
       "      <th>purchased</th>\n",
       "    </tr>\n",
       "  </thead>\n",
       "  <tbody>\n",
       "    <tr>\n",
       "      <th>0</th>\n",
       "      <td>12347</td>\n",
       "      <td>21232</td>\n",
       "      <td>0</td>\n",
       "    </tr>\n",
       "    <tr>\n",
       "      <th>1</th>\n",
       "      <td>12347</td>\n",
       "      <td>21754</td>\n",
       "      <td>0</td>\n",
       "    </tr>\n",
       "    <tr>\n",
       "      <th>2</th>\n",
       "      <td>12347</td>\n",
       "      <td>21790</td>\n",
       "      <td>0</td>\n",
       "    </tr>\n",
       "    <tr>\n",
       "      <th>3</th>\n",
       "      <td>12347</td>\n",
       "      <td>22086</td>\n",
       "      <td>0</td>\n",
       "    </tr>\n",
       "    <tr>\n",
       "      <th>4</th>\n",
       "      <td>12347</td>\n",
       "      <td>22149</td>\n",
       "      <td>0</td>\n",
       "    </tr>\n",
       "  </tbody>\n",
       "</table>\n",
       "</div>"
      ],
      "text/plain": [
       "   CustomerID StockCode  purchased\n",
       "0       12347     21232          0\n",
       "1       12347     21754          0\n",
       "2       12347     21790          0\n",
       "3       12347     22086          0\n",
       "4       12347     22149          0"
      ]
     },
     "execution_count": 15,
     "metadata": {},
     "output_type": "execute_result"
    }
   ],
   "source": [
    "# First Reorder columns for test \n",
    "test = test[['CustomerID', 'StockCode', 'purchased']]\n",
    "# Head of Test\n",
    "test.head()"
   ]
  },
  {
   "cell_type": "code",
   "execution_count": 16,
   "metadata": {},
   "outputs": [
    {
     "data": {
      "text/html": [
       "<div>\n",
       "<style scoped>\n",
       "    .dataframe tbody tr th:only-of-type {\n",
       "        vertical-align: middle;\n",
       "    }\n",
       "\n",
       "    .dataframe tbody tr th {\n",
       "        vertical-align: top;\n",
       "    }\n",
       "\n",
       "    .dataframe thead th {\n",
       "        text-align: right;\n",
       "    }\n",
       "</style>\n",
       "<table border=\"1\" class=\"dataframe\">\n",
       "  <thead>\n",
       "    <tr style=\"text-align: right;\">\n",
       "      <th></th>\n",
       "      <th>CustomerID</th>\n",
       "      <th>StockCode</th>\n",
       "      <th>prediction</th>\n",
       "    </tr>\n",
       "  </thead>\n",
       "  <tbody>\n",
       "    <tr>\n",
       "      <th>0</th>\n",
       "      <td>12347</td>\n",
       "      <td>21232</td>\n",
       "      <td>0</td>\n",
       "    </tr>\n",
       "    <tr>\n",
       "      <th>1</th>\n",
       "      <td>12347</td>\n",
       "      <td>21754</td>\n",
       "      <td>1</td>\n",
       "    </tr>\n",
       "    <tr>\n",
       "      <th>2</th>\n",
       "      <td>12347</td>\n",
       "      <td>21790</td>\n",
       "      <td>0</td>\n",
       "    </tr>\n",
       "    <tr>\n",
       "      <th>3</th>\n",
       "      <td>12347</td>\n",
       "      <td>22086</td>\n",
       "      <td>0</td>\n",
       "    </tr>\n",
       "    <tr>\n",
       "      <th>4</th>\n",
       "      <td>12347</td>\n",
       "      <td>22149</td>\n",
       "      <td>1</td>\n",
       "    </tr>\n",
       "  </tbody>\n",
       "</table>\n",
       "</div>"
      ],
      "text/plain": [
       "   CustomerID StockCode  prediction\n",
       "0       12347     21232           0\n",
       "1       12347     21754           1\n",
       "2       12347     21790           0\n",
       "3       12347     22086           0\n",
       "4       12347     22149           1"
      ]
     },
     "execution_count": 16,
     "metadata": {},
     "output_type": "execute_result"
    }
   ],
   "source": [
    "# Head of Test_pred\n",
    "test_pred.head()"
   ]
  },
  {
   "cell_type": "code",
   "execution_count": 17,
   "metadata": {},
   "outputs": [
    {
     "data": {
      "text/plain": [
       "0.4549953760632514"
      ]
     },
     "execution_count": 17,
     "metadata": {},
     "output_type": "execute_result"
    }
   ],
   "source": [
    "# Import Accuracy \n",
    "from sklearn.metrics import accuracy_score\n",
    "\n",
    "# Accuracy \n",
    "accuracy_score(test.purchased, test_pred.prediction)"
   ]
  },
  {
   "attachments": {},
   "cell_type": "markdown",
   "metadata": {},
   "source": [
    "# Prediction: Top N"
   ]
  },
  {
   "cell_type": "code",
   "execution_count": 18,
   "metadata": {},
   "outputs": [],
   "source": [
    "# Predict All Pairs of Users & Items that are NOT in the Trainset \n",
    "predictions = compute_ranking_predictions(basemodel, train, usercol='CustomerID', itemcol='StockCode', remove_seen=True)"
   ]
  },
  {
   "cell_type": "code",
   "execution_count": 19,
   "metadata": {},
   "outputs": [],
   "source": [
    "# Filter Test for purchased items only\n",
    "test = test[test['purchased']==1]"
   ]
  },
  {
   "cell_type": "code",
   "execution_count": 20,
   "metadata": {},
   "outputs": [],
   "source": [
    "# Write function to filter out top N \n",
    "def filter_top_n(predictions: pd.DataFrame, n: int) -> pd.DataFrame:\n",
    "    \n",
    "    # Group the dataframe by 'CustomerID', and for each group, sort by 'prediction' in descending order, then take the top N rows\n",
    "    top_n_per_customer = predictions.groupby('CustomerID', group_keys=False).apply(lambda group: group.sort_values('prediction', ascending=False).head(n))\n",
    "    \n",
    "    return top_n_per_customer\n",
    "\n",
    "# Filter Top 10 \n",
    "top_10 = filter_top_n(predictions, 10)\n",
    "\n",
    "# Filter Top 20 \n",
    "top_20 = filter_top_n(predictions, 20)"
   ]
  },
  {
   "cell_type": "code",
   "execution_count": 21,
   "metadata": {},
   "outputs": [
    {
     "name": "stdout",
     "output_type": "stream",
     "text": [
      "precision at 10 \t: 0.003136593591905564\n",
      "recall at 10 \t: 0.002616319016825246\n"
     ]
    }
   ],
   "source": [
    "# Evaluate Precision at 10 \n",
    "eval_precision_10 = precision_at_k(test, top_10, col_user=\"CustomerID\", col_item=\"StockCode\",\n",
    "                                    col_rating=\"purchased\", col_prediction=\"prediction\", \n",
    "                                    relevancy_method=\"top_k\", k=10)\n",
    "print('precision at 10 \\t:', eval_precision_10)\n",
    "\n",
    "# Evaluate Recall at 10 \n",
    "eval_recall_10 = recall_at_k(test, top_10,col_user=\"CustomerID\", col_item=\"StockCode\",\n",
    "                                    col_rating=\"purchased\", col_prediction=\"prediction\", \n",
    "                                    relevancy_method=\"top_k\", k=10)\n",
    "print('recall at 10 \\t:', eval_recall_10)"
   ]
  },
  {
   "cell_type": "code",
   "execution_count": 23,
   "metadata": {},
   "outputs": [
    {
     "name": "stdout",
     "output_type": "stream",
     "text": [
      "precision at 20 \t: 0.0035413153456998313\n",
      "recall at 20 \t: 0.006203886120830733\n"
     ]
    }
   ],
   "source": [
    "# Evaluate Precision at 20 \n",
    "eval_precision_20 = precision_at_k(test, top_20, col_user=\"CustomerID\", col_item=\"StockCode\",\n",
    "                                    col_rating=\"purchased\", col_prediction=\"prediction\", \n",
    "                                    relevancy_method=\"top_k\", k=20)\n",
    "print('precision at 20 \\t:', eval_precision_20)\n",
    "\n",
    "# Evaluate Recall at 20 \n",
    "eval_recall_20 = recall_at_k(test, top_20,col_user=\"CustomerID\", col_item=\"StockCode\",\n",
    "                                    col_rating=\"purchased\", col_prediction=\"prediction\", \n",
    "                                    relevancy_method=\"top_k\", k=20)\n",
    "print('recall at 20 \\t:', eval_recall_20)"
   ]
  },
  {
   "attachments": {},
   "cell_type": "markdown",
   "metadata": {},
   "source": [
    "# Hyperparameter Tuning"
   ]
  },
  {
   "cell_type": "code",
   "execution_count": 26,
   "metadata": {},
   "outputs": [
    {
     "name": "stdout",
     "output_type": "stream",
     "text": [
      "recall at 10 for 10 factors: \t 0.002616319016825246\n"
     ]
    },
    {
     "ename": "KeyboardInterrupt",
     "evalue": "",
     "output_type": "error",
     "traceback": [
      "\u001b[0;31m---------------------------------------------------------------------------\u001b[0m",
      "\u001b[0;31mKeyboardInterrupt\u001b[0m                         Traceback (most recent call last)",
      "Cell \u001b[0;32mIn[26], line 39\u001b[0m\n\u001b[1;32m     28\u001b[0m model \u001b[39m=\u001b[39m surprise\u001b[39m.\u001b[39mNMF(random_state\u001b[39m=\u001b[39m\u001b[39m0\u001b[39m,\n\u001b[1;32m     29\u001b[0m                     verbose\u001b[39m=\u001b[39m\u001b[39mFalse\u001b[39;00m,\n\u001b[1;32m     30\u001b[0m                     biased\u001b[39m=\u001b[39mbias,\n\u001b[0;32m   (...)\u001b[0m\n\u001b[1;32m     35\u001b[0m                     lr_bi\u001b[39m=\u001b[39mlr,\n\u001b[1;32m     36\u001b[0m                     lr_bu\u001b[39m=\u001b[39mlr)\n\u001b[1;32m     38\u001b[0m \u001b[39m# Fit model\u001b[39;00m\n\u001b[0;32m---> 39\u001b[0m model\u001b[39m.\u001b[39;49mfit(train_set)\n\u001b[1;32m     41\u001b[0m \u001b[39m# Predict All Pairs of Users & Items that are NOT in the Trainset \u001b[39;00m\n\u001b[1;32m     42\u001b[0m predictions \u001b[39m=\u001b[39m compute_ranking_predictions(basemodel, train, usercol\u001b[39m=\u001b[39m\u001b[39m'\u001b[39m\u001b[39mCustomerID\u001b[39m\u001b[39m'\u001b[39m, itemcol\u001b[39m=\u001b[39m\u001b[39m'\u001b[39m\u001b[39mStockCode\u001b[39m\u001b[39m'\u001b[39m, remove_seen\u001b[39m=\u001b[39m\u001b[39mTrue\u001b[39;00m)\n",
      "File \u001b[0;32m~/opt/anaconda3/envs/recom/lib/python3.9/site-packages/surprise/prediction_algorithms/matrix_factorization.pyx:658\u001b[0m, in \u001b[0;36msurprise.prediction_algorithms.matrix_factorization.NMF.fit\u001b[0;34m()\u001b[0m\n",
      "File \u001b[0;32m~/opt/anaconda3/envs/recom/lib/python3.9/site-packages/surprise/prediction_algorithms/matrix_factorization.pyx:708\u001b[0m, in \u001b[0;36msurprise.prediction_algorithms.matrix_factorization.NMF.sgd\u001b[0;34m()\u001b[0m\n",
      "File \u001b[0;32m~/opt/anaconda3/envs/recom/lib/python3.9/site-packages/surprise/trainset.py:194\u001b[0m, in \u001b[0;36mTrainset.all_ratings\u001b[0;34m(self)\u001b[0m\n\u001b[1;32m    192\u001b[0m \u001b[39mfor\u001b[39;00m u, u_ratings \u001b[39min\u001b[39;00m \u001b[39mself\u001b[39m\u001b[39m.\u001b[39mur\u001b[39m.\u001b[39mitems():\n\u001b[1;32m    193\u001b[0m     \u001b[39mfor\u001b[39;00m i, r \u001b[39min\u001b[39;00m u_ratings:\n\u001b[0;32m--> 194\u001b[0m         \u001b[39myield\u001b[39;00m u, i, r\n",
      "\u001b[0;31mKeyboardInterrupt\u001b[0m: "
     ]
    }
   ],
   "source": [
    "# Define Set of Hyperparameters \n",
    "n_factors = [10, 20, 100, 200, 500, 1000]\n",
    "biases = [False]\n",
    "reg_all = [0.01]\n",
    "lr_det = [0.001]\n",
    "\n",
    "# Initiate Lists \n",
    "factor_nr = []\n",
    "biased = []\n",
    "regulation = []\n",
    "learning = []\n",
    "recall_10 = []\n",
    "recall_20 = []\n",
    "precision_10 = []\n",
    "precision_20 = []\n",
    " \n",
    "\n",
    "for factors in n_factors:\n",
    "    for bias in biases:\n",
    "        for reg in reg_all:\n",
    "            for lr in lr_det: \n",
    "                try:\n",
    "                    del(model)\n",
    "                except:\n",
    "                    pass\n",
    "                \n",
    "                # Define Model \n",
    "                model = surprise.NMF(random_state=0,\n",
    "                                    verbose=False,\n",
    "                                    biased=bias,\n",
    "                                    n_factors=factors,\n",
    "                                    n_epochs=50,\n",
    "                                    reg_bi=reg,\n",
    "                                    reg_bu=reg,\n",
    "                                    lr_bi=lr,\n",
    "                                    lr_bu=lr)\n",
    "                \n",
    "                # Fit model\n",
    "                model.fit(train_set)\n",
    "                \n",
    "                # Predict All Pairs of Users & Items that are NOT in the Trainset \n",
    "                predictions = compute_ranking_predictions(basemodel, train, usercol='CustomerID', itemcol='StockCode', remove_seen=True)\n",
    "                \n",
    "                # Filter Top 10 & 20 \n",
    "                top_10 = filter_top_n(predictions, 10)\n",
    "                top_20 = filter_top_n(predictions, 20)\n",
    "\n",
    "                # Evaluate Recall at 10 \n",
    "                eval_recall_10 = recall_at_k(test, top_10,col_user=\"CustomerID\", col_item=\"StockCode\",\n",
    "                                            col_rating=\"purchased\", col_prediction=\"prediction\", \n",
    "                                            relevancy_method=\"top_k\", k=10)\n",
    "                # Evaluate Recall at 20 \n",
    "                eval_recall_20 = recall_at_k(test, top_20,col_user=\"CustomerID\", col_item=\"StockCode\",\n",
    "                                    col_rating=\"purchased\", col_prediction=\"prediction\", \n",
    "                                    relevancy_method=\"top_k\", k=20)\n",
    "\n",
    "                # Evaluate Precision at 10 \n",
    "                eval_precision_10 = precision_at_k(test, top_10, col_user=\"CustomerID\", col_item=\"StockCode\",\n",
    "                                    col_rating=\"purchased\", col_prediction=\"prediction\", \n",
    "                                    relevancy_method=\"top_k\", k=10)\n",
    "                # Evaluate Precision at 20 \n",
    "                eval_precision_20 = precision_at_k(test, top_20, col_user=\"CustomerID\", col_item=\"StockCode\",\n",
    "                                    col_rating=\"purchased\", col_prediction=\"prediction\", \n",
    "                                    relevancy_method=\"top_k\", k=20)\n",
    "\n",
    "                print(\"recall at 10 for\", factors, \"factors: \\t\", eval_recall_10)\n",
    "                factor_nr.append(factors)\n",
    "                biased.append(bias)\n",
    "                regulation.append(reg)\n",
    "                learning.append(lr)\n",
    "                recall_10.append(eval_recall_10)\n",
    "                recall_20.append(eval_recall_20)\n",
    "                precision_10.append(eval_precision_10)\n",
    "                precision_20.append(eval_precision_20)"
   ]
  },
  {
   "cell_type": "code",
   "execution_count": 25,
   "metadata": {},
   "outputs": [
    {
     "data": {
      "text/html": [
       "<div>\n",
       "<style scoped>\n",
       "    .dataframe tbody tr th:only-of-type {\n",
       "        vertical-align: middle;\n",
       "    }\n",
       "\n",
       "    .dataframe tbody tr th {\n",
       "        vertical-align: top;\n",
       "    }\n",
       "\n",
       "    .dataframe thead th {\n",
       "        text-align: right;\n",
       "    }\n",
       "</style>\n",
       "<table border=\"1\" class=\"dataframe\">\n",
       "  <thead>\n",
       "    <tr style=\"text-align: right;\">\n",
       "      <th></th>\n",
       "      <th>factor</th>\n",
       "      <th>recall_10</th>\n",
       "      <th>recall_20</th>\n",
       "      <th>precision_10</th>\n",
       "      <th>precision_20</th>\n",
       "    </tr>\n",
       "  </thead>\n",
       "  <tbody>\n",
       "    <tr>\n",
       "      <th>0</th>\n",
       "      <td>10</td>\n",
       "      <td>0.002616</td>\n",
       "      <td>0.006204</td>\n",
       "      <td>0.003137</td>\n",
       "      <td>0.003541</td>\n",
       "    </tr>\n",
       "    <tr>\n",
       "      <th>12</th>\n",
       "      <td>20</td>\n",
       "      <td>0.002616</td>\n",
       "      <td>0.006204</td>\n",
       "      <td>0.003137</td>\n",
       "      <td>0.003541</td>\n",
       "    </tr>\n",
       "    <tr>\n",
       "      <th>21</th>\n",
       "      <td>100</td>\n",
       "      <td>0.002616</td>\n",
       "      <td>0.006204</td>\n",
       "      <td>0.003137</td>\n",
       "      <td>0.003541</td>\n",
       "    </tr>\n",
       "    <tr>\n",
       "      <th>20</th>\n",
       "      <td>100</td>\n",
       "      <td>0.002616</td>\n",
       "      <td>0.006204</td>\n",
       "      <td>0.003137</td>\n",
       "      <td>0.003541</td>\n",
       "    </tr>\n",
       "    <tr>\n",
       "      <th>19</th>\n",
       "      <td>100</td>\n",
       "      <td>0.002616</td>\n",
       "      <td>0.006204</td>\n",
       "      <td>0.003137</td>\n",
       "      <td>0.003541</td>\n",
       "    </tr>\n",
       "    <tr>\n",
       "      <th>18</th>\n",
       "      <td>100</td>\n",
       "      <td>0.002616</td>\n",
       "      <td>0.006204</td>\n",
       "      <td>0.003137</td>\n",
       "      <td>0.003541</td>\n",
       "    </tr>\n",
       "    <tr>\n",
       "      <th>17</th>\n",
       "      <td>100</td>\n",
       "      <td>0.002616</td>\n",
       "      <td>0.006204</td>\n",
       "      <td>0.003137</td>\n",
       "      <td>0.003541</td>\n",
       "    </tr>\n",
       "    <tr>\n",
       "      <th>16</th>\n",
       "      <td>100</td>\n",
       "      <td>0.002616</td>\n",
       "      <td>0.006204</td>\n",
       "      <td>0.003137</td>\n",
       "      <td>0.003541</td>\n",
       "    </tr>\n",
       "    <tr>\n",
       "      <th>15</th>\n",
       "      <td>20</td>\n",
       "      <td>0.002616</td>\n",
       "      <td>0.006204</td>\n",
       "      <td>0.003137</td>\n",
       "      <td>0.003541</td>\n",
       "    </tr>\n",
       "    <tr>\n",
       "      <th>14</th>\n",
       "      <td>20</td>\n",
       "      <td>0.002616</td>\n",
       "      <td>0.006204</td>\n",
       "      <td>0.003137</td>\n",
       "      <td>0.003541</td>\n",
       "    </tr>\n",
       "    <tr>\n",
       "      <th>13</th>\n",
       "      <td>20</td>\n",
       "      <td>0.002616</td>\n",
       "      <td>0.006204</td>\n",
       "      <td>0.003137</td>\n",
       "      <td>0.003541</td>\n",
       "    </tr>\n",
       "    <tr>\n",
       "      <th>11</th>\n",
       "      <td>20</td>\n",
       "      <td>0.002616</td>\n",
       "      <td>0.006204</td>\n",
       "      <td>0.003137</td>\n",
       "      <td>0.003541</td>\n",
       "    </tr>\n",
       "    <tr>\n",
       "      <th>1</th>\n",
       "      <td>10</td>\n",
       "      <td>0.002616</td>\n",
       "      <td>0.006204</td>\n",
       "      <td>0.003137</td>\n",
       "      <td>0.003541</td>\n",
       "    </tr>\n",
       "    <tr>\n",
       "      <th>10</th>\n",
       "      <td>20</td>\n",
       "      <td>0.002616</td>\n",
       "      <td>0.006204</td>\n",
       "      <td>0.003137</td>\n",
       "      <td>0.003541</td>\n",
       "    </tr>\n",
       "    <tr>\n",
       "      <th>9</th>\n",
       "      <td>20</td>\n",
       "      <td>0.002616</td>\n",
       "      <td>0.006204</td>\n",
       "      <td>0.003137</td>\n",
       "      <td>0.003541</td>\n",
       "    </tr>\n",
       "    <tr>\n",
       "      <th>8</th>\n",
       "      <td>20</td>\n",
       "      <td>0.002616</td>\n",
       "      <td>0.006204</td>\n",
       "      <td>0.003137</td>\n",
       "      <td>0.003541</td>\n",
       "    </tr>\n",
       "    <tr>\n",
       "      <th>7</th>\n",
       "      <td>10</td>\n",
       "      <td>0.002616</td>\n",
       "      <td>0.006204</td>\n",
       "      <td>0.003137</td>\n",
       "      <td>0.003541</td>\n",
       "    </tr>\n",
       "    <tr>\n",
       "      <th>6</th>\n",
       "      <td>10</td>\n",
       "      <td>0.002616</td>\n",
       "      <td>0.006204</td>\n",
       "      <td>0.003137</td>\n",
       "      <td>0.003541</td>\n",
       "    </tr>\n",
       "    <tr>\n",
       "      <th>5</th>\n",
       "      <td>10</td>\n",
       "      <td>0.002616</td>\n",
       "      <td>0.006204</td>\n",
       "      <td>0.003137</td>\n",
       "      <td>0.003541</td>\n",
       "    </tr>\n",
       "    <tr>\n",
       "      <th>4</th>\n",
       "      <td>10</td>\n",
       "      <td>0.002616</td>\n",
       "      <td>0.006204</td>\n",
       "      <td>0.003137</td>\n",
       "      <td>0.003541</td>\n",
       "    </tr>\n",
       "    <tr>\n",
       "      <th>3</th>\n",
       "      <td>10</td>\n",
       "      <td>0.002616</td>\n",
       "      <td>0.006204</td>\n",
       "      <td>0.003137</td>\n",
       "      <td>0.003541</td>\n",
       "    </tr>\n",
       "    <tr>\n",
       "      <th>2</th>\n",
       "      <td>10</td>\n",
       "      <td>0.002616</td>\n",
       "      <td>0.006204</td>\n",
       "      <td>0.003137</td>\n",
       "      <td>0.003541</td>\n",
       "    </tr>\n",
       "    <tr>\n",
       "      <th>22</th>\n",
       "      <td>100</td>\n",
       "      <td>0.002616</td>\n",
       "      <td>0.006204</td>\n",
       "      <td>0.003137</td>\n",
       "      <td>0.003541</td>\n",
       "    </tr>\n",
       "  </tbody>\n",
       "</table>\n",
       "</div>"
      ],
      "text/plain": [
       "    factor  recall_10  recall_20  precision_10  precision_20\n",
       "0       10   0.002616   0.006204      0.003137      0.003541\n",
       "12      20   0.002616   0.006204      0.003137      0.003541\n",
       "21     100   0.002616   0.006204      0.003137      0.003541\n",
       "20     100   0.002616   0.006204      0.003137      0.003541\n",
       "19     100   0.002616   0.006204      0.003137      0.003541\n",
       "18     100   0.002616   0.006204      0.003137      0.003541\n",
       "17     100   0.002616   0.006204      0.003137      0.003541\n",
       "16     100   0.002616   0.006204      0.003137      0.003541\n",
       "15      20   0.002616   0.006204      0.003137      0.003541\n",
       "14      20   0.002616   0.006204      0.003137      0.003541\n",
       "13      20   0.002616   0.006204      0.003137      0.003541\n",
       "11      20   0.002616   0.006204      0.003137      0.003541\n",
       "1       10   0.002616   0.006204      0.003137      0.003541\n",
       "10      20   0.002616   0.006204      0.003137      0.003541\n",
       "9       20   0.002616   0.006204      0.003137      0.003541\n",
       "8       20   0.002616   0.006204      0.003137      0.003541\n",
       "7       10   0.002616   0.006204      0.003137      0.003541\n",
       "6       10   0.002616   0.006204      0.003137      0.003541\n",
       "5       10   0.002616   0.006204      0.003137      0.003541\n",
       "4       10   0.002616   0.006204      0.003137      0.003541\n",
       "3       10   0.002616   0.006204      0.003137      0.003541\n",
       "2       10   0.002616   0.006204      0.003137      0.003541\n",
       "22     100   0.002616   0.006204      0.003137      0.003541"
      ]
     },
     "execution_count": 25,
     "metadata": {},
     "output_type": "execute_result"
    }
   ],
   "source": [
    "dict_param = {\n",
    "    \"factor\": factor_nr,\n",
    "    \"recall_10\": recall_10,\n",
    "    \"recall_20\": recall_20,\n",
    "    \"precision_10\" : precision_10,\n",
    "    \"precision_20\" : precision_20\n",
    "}\n",
    "\n",
    "df_param1 = pd.DataFrame(dict_param)\n",
    "df_param1.sort_values(by='recall_10', ascending=False)"
   ]
  },
  {
   "cell_type": "code",
   "execution_count": 28,
   "metadata": {},
   "outputs": [
    {
     "data": {
      "text/plain": [
       "0.47087434858135496"
      ]
     },
     "execution_count": 28,
     "metadata": {},
     "output_type": "execute_result"
    }
   ],
   "source": [
    "# Create Object for Model\n",
    "best_model = surprise.NMF(random_state=0,\n",
    "                        verbose=False,\n",
    "                        biased=False,\n",
    "                        n_factors=10,\n",
    "                        n_epochs=20)\n",
    "\n",
    "# Fit the base_model\n",
    "best_model.fit(train_set)\n",
    "\n",
    "# Make Predictions\n",
    "test_pred = predict(best_model, test, usercol='CustomerID', itemcol='StockCode')\n",
    "\n",
    "# Convert Predictions\n",
    "test_pred['prediction'] = np.where((test_pred['prediction']>0), 1,0)\n",
    "\n",
    "# Sort Index of both Datasets to use Accuracy Score \n",
    "test = test.sort_values(by=['CustomerID', 'StockCode'])\n",
    "test_pred = test_pred.sort_values(by=['CustomerID', 'StockCode'])\n",
    "\n",
    "# Reset indeces for both DataFrames\n",
    "test = test.reset_index(drop=True)\n",
    "test_pred = test_pred.reset_index(drop=True)\n",
    "\n",
    "# Accuracy \n",
    "accuracy_score(test.purchased, test_pred.prediction)"
   ]
  }
 ],
 "metadata": {
  "kernelspec": {
   "display_name": "recom",
   "language": "python",
   "name": "python3"
  },
  "language_info": {
   "codemirror_mode": {
    "name": "ipython",
    "version": 3
   },
   "file_extension": ".py",
   "mimetype": "text/x-python",
   "name": "python",
   "nbconvert_exporter": "python",
   "pygments_lexer": "ipython3",
   "version": "3.9.16"
  },
  "orig_nbformat": 4,
  "vscode": {
   "interpreter": {
    "hash": "17afcd9f6960de0a3656d2c4c5dd434deed0eab3cd38c55c3169df3bef50250d"
   }
  }
 },
 "nbformat": 4,
 "nbformat_minor": 2
}
