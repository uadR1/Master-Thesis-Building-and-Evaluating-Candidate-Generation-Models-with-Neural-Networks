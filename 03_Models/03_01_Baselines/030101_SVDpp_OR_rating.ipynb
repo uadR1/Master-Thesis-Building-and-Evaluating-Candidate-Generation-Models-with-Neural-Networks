{
 "cells": [
  {
   "attachments": {},
   "cell_type": "markdown",
   "metadata": {},
   "source": [
    "# Loading Libraries"
   ]
  },
  {
   "cell_type": "code",
   "execution_count": 1,
   "metadata": {},
   "outputs": [],
   "source": [
    "import pandas as pd\n",
    "import numpy as np\n",
    "\n",
    "import surprise\n",
    "from recommenders.models.surprise.surprise_utils import predict, compute_ranking_predictions\n",
    "from recommenders.evaluation.python_evaluation import precision_at_k, recall_at_k\n"
   ]
  },
  {
   "attachments": {},
   "cell_type": "markdown",
   "metadata": {},
   "source": [
    "# Reading Data"
   ]
  },
  {
   "cell_type": "code",
   "execution_count": 3,
   "metadata": {},
   "outputs": [],
   "source": [
    "# Read Train & Test Data\n",
    "train = pd.read_csv(\"../../00_Data/online_retail_ratings_train.csv\", index_col=0)\n",
    "test = pd.read_csv(\"../../00_Data/online_retail_ratings_test.csv\", index_col=0)"
   ]
  },
  {
   "cell_type": "code",
   "execution_count": 4,
   "metadata": {},
   "outputs": [
    {
     "name": "stdout",
     "output_type": "stream",
     "text": [
      "Shape of Train: (349978, 3)\n",
      "Shape of Test: \t (87558, 3)\n"
     ]
    }
   ],
   "source": [
    "# Check Shapes\n",
    "print(\"Shape of Train:\", train.shape)\n",
    "print(\"Shape of Test: \\t\", test.shape)"
   ]
  },
  {
   "cell_type": "code",
   "execution_count": 5,
   "metadata": {},
   "outputs": [
    {
     "data": {
      "text/html": [
       "<div>\n",
       "<style scoped>\n",
       "    .dataframe tbody tr th:only-of-type {\n",
       "        vertical-align: middle;\n",
       "    }\n",
       "\n",
       "    .dataframe tbody tr th {\n",
       "        vertical-align: top;\n",
       "    }\n",
       "\n",
       "    .dataframe thead th {\n",
       "        text-align: right;\n",
       "    }\n",
       "</style>\n",
       "<table border=\"1\" class=\"dataframe\">\n",
       "  <thead>\n",
       "    <tr style=\"text-align: right;\">\n",
       "      <th></th>\n",
       "      <th>StockCode</th>\n",
       "      <th>CustomerID</th>\n",
       "      <th>purchased</th>\n",
       "    </tr>\n",
       "  </thead>\n",
       "  <tbody>\n",
       "    <tr>\n",
       "      <th>167423</th>\n",
       "      <td>1923</td>\n",
       "      <td>1</td>\n",
       "      <td>2</td>\n",
       "    </tr>\n",
       "    <tr>\n",
       "      <th>95278</th>\n",
       "      <td>1292</td>\n",
       "      <td>1</td>\n",
       "      <td>2</td>\n",
       "    </tr>\n",
       "    <tr>\n",
       "      <th>176306</th>\n",
       "      <td>2012</td>\n",
       "      <td>1</td>\n",
       "      <td>2</td>\n",
       "    </tr>\n",
       "    <tr>\n",
       "      <th>294620</th>\n",
       "      <td>1336</td>\n",
       "      <td>1</td>\n",
       "      <td>-1</td>\n",
       "    </tr>\n",
       "    <tr>\n",
       "      <th>94566</th>\n",
       "      <td>1286</td>\n",
       "      <td>1</td>\n",
       "      <td>2</td>\n",
       "    </tr>\n",
       "  </tbody>\n",
       "</table>\n",
       "</div>"
      ],
      "text/plain": [
       "        StockCode  CustomerID  purchased\n",
       "167423       1923           1          2\n",
       "95278        1292           1          2\n",
       "176306       2012           1          2\n",
       "294620       1336           1         -1\n",
       "94566        1286           1          2"
      ]
     },
     "execution_count": 5,
     "metadata": {},
     "output_type": "execute_result"
    }
   ],
   "source": [
    "# Check Head of Train\n",
    "train.head()"
   ]
  },
  {
   "cell_type": "markdown",
   "metadata": {},
   "source": [
    "# Preparation of Train Dataset for Surprise Models\n"
   ]
  },
  {
   "cell_type": "code",
   "execution_count": 6,
   "metadata": {},
   "outputs": [],
   "source": [
    "# Reader \n",
    "reader = surprise.Reader(rating_scale=(-2,2))\n",
    "\n",
    "# Build Train Set from Custom Dataset\n",
    "train_set = surprise.Dataset.load_from_df(train[['CustomerID', 'StockCode', 'purchased']], reader=reader).build_full_trainset()"
   ]
  },
  {
   "attachments": {},
   "cell_type": "markdown",
   "metadata": {},
   "source": [
    "# Baseline Model"
   ]
  },
  {
   "cell_type": "code",
   "execution_count": 7,
   "metadata": {},
   "outputs": [
    {
     "name": "stdout",
     "output_type": "stream",
     "text": [
      " processing epoch 0\n",
      " processing epoch 1\n",
      " processing epoch 2\n",
      " processing epoch 3\n",
      " processing epoch 4\n",
      " processing epoch 5\n",
      " processing epoch 6\n",
      " processing epoch 7\n",
      " processing epoch 8\n",
      " processing epoch 9\n",
      " processing epoch 10\n",
      " processing epoch 11\n",
      " processing epoch 12\n",
      " processing epoch 13\n",
      " processing epoch 14\n",
      " processing epoch 15\n",
      " processing epoch 16\n",
      " processing epoch 17\n",
      " processing epoch 18\n",
      " processing epoch 19\n"
     ]
    },
    {
     "data": {
      "text/plain": [
       "<surprise.prediction_algorithms.matrix_factorization.SVDpp at 0x7fe319103640>"
      ]
     },
     "execution_count": 7,
     "metadata": {},
     "output_type": "execute_result"
    }
   ],
   "source": [
    "# base_model\n",
    "try:\n",
    "    del(base_model)\n",
    "except:\n",
    "    pass\n",
    "\n",
    "# Create Object for base_model \n",
    "base_model = surprise.SVDpp(random_state=0, n_factors=200, n_epochs=20, verbose=True)\n",
    "\n",
    "# Fit the base_model\n",
    "base_model.fit(train_set)"
   ]
  },
  {
   "attachments": {},
   "cell_type": "markdown",
   "metadata": {},
   "source": [
    "# Prediction: Test Set Only"
   ]
  },
  {
   "cell_type": "code",
   "execution_count": 8,
   "metadata": {},
   "outputs": [
    {
     "data": {
      "text/html": [
       "<div>\n",
       "<style scoped>\n",
       "    .dataframe tbody tr th:only-of-type {\n",
       "        vertical-align: middle;\n",
       "    }\n",
       "\n",
       "    .dataframe tbody tr th {\n",
       "        vertical-align: top;\n",
       "    }\n",
       "\n",
       "    .dataframe thead th {\n",
       "        text-align: right;\n",
       "    }\n",
       "</style>\n",
       "<table border=\"1\" class=\"dataframe\">\n",
       "  <thead>\n",
       "    <tr style=\"text-align: right;\">\n",
       "      <th></th>\n",
       "      <th>CustomerID</th>\n",
       "      <th>StockCode</th>\n",
       "      <th>prediction</th>\n",
       "    </tr>\n",
       "  </thead>\n",
       "  <tbody>\n",
       "    <tr>\n",
       "      <th>0</th>\n",
       "      <td>1</td>\n",
       "      <td>989</td>\n",
       "      <td>-0.540224</td>\n",
       "    </tr>\n",
       "    <tr>\n",
       "      <th>1</th>\n",
       "      <td>1</td>\n",
       "      <td>648</td>\n",
       "      <td>1.224336</td>\n",
       "    </tr>\n",
       "    <tr>\n",
       "      <th>2</th>\n",
       "      <td>1</td>\n",
       "      <td>2900</td>\n",
       "      <td>1.303670</td>\n",
       "    </tr>\n",
       "    <tr>\n",
       "      <th>3</th>\n",
       "      <td>1</td>\n",
       "      <td>320</td>\n",
       "      <td>1.194785</td>\n",
       "    </tr>\n",
       "    <tr>\n",
       "      <th>4</th>\n",
       "      <td>1</td>\n",
       "      <td>2318</td>\n",
       "      <td>1.381025</td>\n",
       "    </tr>\n",
       "  </tbody>\n",
       "</table>\n",
       "</div>"
      ],
      "text/plain": [
       "   CustomerID  StockCode  prediction\n",
       "0           1        989   -0.540224\n",
       "1           1        648    1.224336\n",
       "2           1       2900    1.303670\n",
       "3           1        320    1.194785\n",
       "4           1       2318    1.381025"
      ]
     },
     "execution_count": 8,
     "metadata": {},
     "output_type": "execute_result"
    }
   ],
   "source": [
    "# Make Predictions\n",
    "test_pred = predict(base_model, test, usercol='CustomerID', itemcol='StockCode')\n",
    "\n",
    "# Show first five rows\n",
    "test_pred.head()"
   ]
  },
  {
   "cell_type": "code",
   "execution_count": 9,
   "metadata": {},
   "outputs": [
    {
     "data": {
      "text/plain": [
       "count    87558.000000\n",
       "mean         0.432954\n",
       "std          0.919772\n",
       "min         -2.000000\n",
       "25%         -0.604333\n",
       "50%          0.848500\n",
       "75%          1.153366\n",
       "max          2.000000\n",
       "Name: prediction, dtype: float64"
      ]
     },
     "execution_count": 9,
     "metadata": {},
     "output_type": "execute_result"
    }
   ],
   "source": [
    "# Check Statistics of Prediction\n",
    "test_pred.prediction.describe()"
   ]
  },
  {
   "cell_type": "code",
   "execution_count": 10,
   "metadata": {},
   "outputs": [],
   "source": [
    "# Convert Predictions\n",
    "test_pred['prediction'] = np.where((test_pred['prediction']>0),1,0)\n",
    "\n",
    "# Convert Test\n",
    "test['purchased'] = np.where((test['purchased']>0),1,0)"
   ]
  },
  {
   "cell_type": "code",
   "execution_count": 11,
   "metadata": {},
   "outputs": [
    {
     "data": {
      "text/plain": [
       "1    57659\n",
       "0    29899\n",
       "Name: prediction, dtype: int64"
      ]
     },
     "execution_count": 11,
     "metadata": {},
     "output_type": "execute_result"
    }
   ],
   "source": [
    "# Check Distribution\n",
    "test_pred['prediction'].value_counts()"
   ]
  },
  {
   "cell_type": "code",
   "execution_count": 12,
   "metadata": {},
   "outputs": [],
   "source": [
    "# Sort Index of both Datasets to use Accuracy Score \n",
    "test = test.sort_values(by=['CustomerID', 'StockCode'])\n",
    "test_pred = test_pred.sort_values(by=['CustomerID', 'StockCode'])\n",
    "\n",
    "# Reset indeces for both DataFrames\n",
    "test = test.reset_index(drop=True)\n",
    "test_pred = test_pred.reset_index(drop=True)"
   ]
  },
  {
   "cell_type": "code",
   "execution_count": 13,
   "metadata": {},
   "outputs": [
    {
     "data": {
      "text/html": [
       "<div>\n",
       "<style scoped>\n",
       "    .dataframe tbody tr th:only-of-type {\n",
       "        vertical-align: middle;\n",
       "    }\n",
       "\n",
       "    .dataframe tbody tr th {\n",
       "        vertical-align: top;\n",
       "    }\n",
       "\n",
       "    .dataframe thead th {\n",
       "        text-align: right;\n",
       "    }\n",
       "</style>\n",
       "<table border=\"1\" class=\"dataframe\">\n",
       "  <thead>\n",
       "    <tr style=\"text-align: right;\">\n",
       "      <th></th>\n",
       "      <th>CustomerID</th>\n",
       "      <th>StockCode</th>\n",
       "      <th>purchased</th>\n",
       "    </tr>\n",
       "  </thead>\n",
       "  <tbody>\n",
       "    <tr>\n",
       "      <th>0</th>\n",
       "      <td>1</td>\n",
       "      <td>87</td>\n",
       "      <td>1</td>\n",
       "    </tr>\n",
       "    <tr>\n",
       "      <th>1</th>\n",
       "      <td>1</td>\n",
       "      <td>316</td>\n",
       "      <td>1</td>\n",
       "    </tr>\n",
       "    <tr>\n",
       "      <th>2</th>\n",
       "      <td>1</td>\n",
       "      <td>320</td>\n",
       "      <td>1</td>\n",
       "    </tr>\n",
       "    <tr>\n",
       "      <th>3</th>\n",
       "      <td>1</td>\n",
       "      <td>648</td>\n",
       "      <td>1</td>\n",
       "    </tr>\n",
       "    <tr>\n",
       "      <th>4</th>\n",
       "      <td>1</td>\n",
       "      <td>989</td>\n",
       "      <td>0</td>\n",
       "    </tr>\n",
       "  </tbody>\n",
       "</table>\n",
       "</div>"
      ],
      "text/plain": [
       "   CustomerID  StockCode  purchased\n",
       "0           1         87          1\n",
       "1           1        316          1\n",
       "2           1        320          1\n",
       "3           1        648          1\n",
       "4           1        989          0"
      ]
     },
     "execution_count": 13,
     "metadata": {},
     "output_type": "execute_result"
    }
   ],
   "source": [
    "# First Reorder columns for test \n",
    "test = test[['CustomerID', 'StockCode', 'purchased']]\n",
    "# Head of Test\n",
    "test.head()"
   ]
  },
  {
   "cell_type": "code",
   "execution_count": 14,
   "metadata": {},
   "outputs": [
    {
     "data": {
      "text/html": [
       "<div>\n",
       "<style scoped>\n",
       "    .dataframe tbody tr th:only-of-type {\n",
       "        vertical-align: middle;\n",
       "    }\n",
       "\n",
       "    .dataframe tbody tr th {\n",
       "        vertical-align: top;\n",
       "    }\n",
       "\n",
       "    .dataframe thead th {\n",
       "        text-align: right;\n",
       "    }\n",
       "</style>\n",
       "<table border=\"1\" class=\"dataframe\">\n",
       "  <thead>\n",
       "    <tr style=\"text-align: right;\">\n",
       "      <th></th>\n",
       "      <th>CustomerID</th>\n",
       "      <th>StockCode</th>\n",
       "      <th>prediction</th>\n",
       "    </tr>\n",
       "  </thead>\n",
       "  <tbody>\n",
       "    <tr>\n",
       "      <th>0</th>\n",
       "      <td>1</td>\n",
       "      <td>87</td>\n",
       "      <td>1</td>\n",
       "    </tr>\n",
       "    <tr>\n",
       "      <th>1</th>\n",
       "      <td>1</td>\n",
       "      <td>316</td>\n",
       "      <td>1</td>\n",
       "    </tr>\n",
       "    <tr>\n",
       "      <th>2</th>\n",
       "      <td>1</td>\n",
       "      <td>320</td>\n",
       "      <td>1</td>\n",
       "    </tr>\n",
       "    <tr>\n",
       "      <th>3</th>\n",
       "      <td>1</td>\n",
       "      <td>648</td>\n",
       "      <td>1</td>\n",
       "    </tr>\n",
       "    <tr>\n",
       "      <th>4</th>\n",
       "      <td>1</td>\n",
       "      <td>989</td>\n",
       "      <td>0</td>\n",
       "    </tr>\n",
       "  </tbody>\n",
       "</table>\n",
       "</div>"
      ],
      "text/plain": [
       "   CustomerID  StockCode  prediction\n",
       "0           1         87           1\n",
       "1           1        316           1\n",
       "2           1        320           1\n",
       "3           1        648           1\n",
       "4           1        989           0"
      ]
     },
     "execution_count": 14,
     "metadata": {},
     "output_type": "execute_result"
    }
   ],
   "source": [
    "# Head of Test_pred\n",
    "test_pred.head()"
   ]
  },
  {
   "cell_type": "code",
   "execution_count": 15,
   "metadata": {},
   "outputs": [
    {
     "data": {
      "text/plain": [
       "0.9232622947075082"
      ]
     },
     "execution_count": 15,
     "metadata": {},
     "output_type": "execute_result"
    }
   ],
   "source": [
    "# Import Accuracy \n",
    "from sklearn.metrics import accuracy_score\n",
    "\n",
    "# Accuracy \n",
    "accuracy_score(test.purchased, test_pred.prediction)"
   ]
  },
  {
   "attachments": {},
   "cell_type": "markdown",
   "metadata": {},
   "source": [
    "# Prediction: Top N "
   ]
  },
  {
   "cell_type": "code",
   "execution_count": 17,
   "metadata": {},
   "outputs": [],
   "source": [
    "# Predict all pairs that are not in the train set\n",
    "predictions = compute_ranking_predictions(base_model, train, usercol='CustomerID', itemcol='StockCode', remove_seen=True)"
   ]
  },
  {
   "cell_type": "code",
   "execution_count": 18,
   "metadata": {},
   "outputs": [
    {
     "data": {
      "text/html": [
       "<div>\n",
       "<style scoped>\n",
       "    .dataframe tbody tr th:only-of-type {\n",
       "        vertical-align: middle;\n",
       "    }\n",
       "\n",
       "    .dataframe tbody tr th {\n",
       "        vertical-align: top;\n",
       "    }\n",
       "\n",
       "    .dataframe thead th {\n",
       "        text-align: right;\n",
       "    }\n",
       "</style>\n",
       "<table border=\"1\" class=\"dataframe\">\n",
       "  <thead>\n",
       "    <tr style=\"text-align: right;\">\n",
       "      <th></th>\n",
       "      <th>CustomerID</th>\n",
       "      <th>StockCode</th>\n",
       "      <th>prediction</th>\n",
       "    </tr>\n",
       "  </thead>\n",
       "  <tbody>\n",
       "    <tr>\n",
       "      <th>349978</th>\n",
       "      <td>1</td>\n",
       "      <td>920</td>\n",
       "      <td>1.463282</td>\n",
       "    </tr>\n",
       "    <tr>\n",
       "      <th>349979</th>\n",
       "      <td>1</td>\n",
       "      <td>753</td>\n",
       "      <td>0.852112</td>\n",
       "    </tr>\n",
       "    <tr>\n",
       "      <th>349980</th>\n",
       "      <td>1</td>\n",
       "      <td>989</td>\n",
       "      <td>-0.540224</td>\n",
       "    </tr>\n",
       "    <tr>\n",
       "      <th>349981</th>\n",
       "      <td>1</td>\n",
       "      <td>2177</td>\n",
       "      <td>-0.631089</td>\n",
       "    </tr>\n",
       "    <tr>\n",
       "      <th>349982</th>\n",
       "      <td>1</td>\n",
       "      <td>1806</td>\n",
       "      <td>-0.699520</td>\n",
       "    </tr>\n",
       "  </tbody>\n",
       "</table>\n",
       "</div>"
      ],
      "text/plain": [
       "        CustomerID  StockCode  prediction\n",
       "349978           1        920    1.463282\n",
       "349979           1        753    0.852112\n",
       "349980           1        989   -0.540224\n",
       "349981           1       2177   -0.631089\n",
       "349982           1       1806   -0.699520"
      ]
     },
     "execution_count": 18,
     "metadata": {},
     "output_type": "execute_result"
    }
   ],
   "source": [
    "# Check first five rows\n",
    "predictions.head()"
   ]
  },
  {
   "cell_type": "code",
   "execution_count": 19,
   "metadata": {},
   "outputs": [],
   "source": [
    "# Now filter out top N \n",
    "# First write a function\n",
    "def filter_top_n(predictions: pd.DataFrame, n: int) -> pd.DataFrame:\n",
    "    \n",
    "    # Group the dataframe by 'CustomerID', and for each group, sort by 'prediction' in descending order, then take the top N rows\n",
    "    top_n_per_customer = predictions.groupby('CustomerID', group_keys=False).apply(lambda group: group.sort_values('prediction', ascending=False).head(n))\n",
    "    \n",
    "    return top_n_per_customer\n",
    "\n",
    "# Filter Top 10 \n",
    "top_10 = filter_top_n(predictions, 10)\n",
    "\n",
    "# Filter Top 20 \n",
    "top_20 = filter_top_n(predictions, 20)\n"
   ]
  },
  {
   "cell_type": "code",
   "execution_count": 20,
   "metadata": {},
   "outputs": [
    {
     "name": "stdout",
     "output_type": "stream",
     "text": [
      "precision at 10 \t: 0.020194647201946473\n",
      "recall at 10 \t: 0.0076947532106192065\n"
     ]
    }
   ],
   "source": [
    "# Evaluate Precision at 10 \n",
    "eval_precision_10 = precision_at_k(test, top_10, col_user=\"CustomerID\", col_item=\"StockCode\",\n",
    "                                    col_rating=\"purchased\", col_prediction=\"prediction\", \n",
    "                                    relevancy_method=\"top_k\", k=10)\n",
    "print('precision at 10 \\t:', eval_precision_10)\n",
    "\n",
    "# Evaluate Recall at 10 \n",
    "eval_recall_10 = recall_at_k(test, top_10,col_user=\"CustomerID\", col_item=\"StockCode\",\n",
    "                                    col_rating=\"purchased\", col_prediction=\"prediction\", \n",
    "                                    relevancy_method=\"top_k\", k=10)\n",
    "print('recall at 10 \\t:', eval_recall_10)"
   ]
  },
  {
   "cell_type": "code",
   "execution_count": 21,
   "metadata": {},
   "outputs": [
    {
     "name": "stdout",
     "output_type": "stream",
     "text": [
      "precision at 20 \t: 0.018085969180859692\n",
      "recall at 20 \t: 0.013873478688957884\n"
     ]
    }
   ],
   "source": [
    "# Evaluate Precision at 20 \n",
    "eval_precision_20 = precision_at_k(test, top_20, col_user=\"CustomerID\", col_item=\"StockCode\",\n",
    "                                    col_rating=\"purchased\", col_prediction=\"prediction\", \n",
    "                                    relevancy_method=\"top_k\", k=20)\n",
    "print('precision at 20 \\t:', eval_precision_20)\n",
    "\n",
    "# Evaluate Recall at 20 \n",
    "eval_recall_20 = recall_at_k(test, top_20,col_user=\"CustomerID\", col_item=\"StockCode\",\n",
    "                                    col_rating=\"purchased\", col_prediction=\"prediction\", \n",
    "                                    relevancy_method=\"top_k\", k=20)\n",
    "print('recall at 20 \\t:', eval_recall_20)"
   ]
  },
  {
   "attachments": {},
   "cell_type": "markdown",
   "metadata": {},
   "source": [
    "# Hyper-Parameter Tuning"
   ]
  },
  {
   "cell_type": "code",
   "execution_count": null,
   "metadata": {},
   "outputs": [],
   "source": [
    "# Define Set of Hyperparameters: \n",
    "n_factors = [5, 10, 100, 200, 1000]\n",
    "\n",
    "# Initiate List for Metrics\n",
    "factors = []\n",
    "recall_k = []\n",
    "\n",
    "# Start for loop\n",
    "for factor in n_factors:\n",
    "    # First Delete Model Everytime\n",
    "    try:\n",
    "        del(model)\n",
    "    except:\n",
    "        pass\n",
    "\n",
    "    # Define Model with Parameters \n",
    "    model = surprise.SVDpp(random_state=0, n_factors=factor, n_epochs=10)\n",
    "\n",
    "    # Fit model\n",
    "    model.fit(train_set)\n",
    "\n",
    "    # Predict all pairs that are not in the train set\n",
    "    predictions = compute_ranking_predictions(model, test, usercol='CustomerID', itemcol='StockCode')\n",
    "\n",
    "    # Filter Top 10 \n",
    "    top_10 = filter_top_n(predictions, 10)\n",
    "\n",
    "    # Evaluate Recall at 10 \n",
    "    eval_recall_10 = recall_at_k(test, top_10,col_user=\"CustomerID\", col_item=\"StockCode\",\n",
    "                                        col_rating=\"purchased\", col_prediction=\"prediction\", \n",
    "                                        relevancy_method=\"top_k\", k=10)\n",
    "\n",
    "    print(\"recall at for\", factor, \"factors: \\t\", eval_recall_10)\n",
    "\n",
    "    # Append Lists\n",
    "    factors.append(factor)\n",
    "    recall_k.append(eval_recall_10)"
   ]
  }
 ],
 "metadata": {
  "kernelspec": {
   "display_name": "recom",
   "language": "python",
   "name": "python3"
  },
  "language_info": {
   "codemirror_mode": {
    "name": "ipython",
    "version": 3
   },
   "file_extension": ".py",
   "mimetype": "text/x-python",
   "name": "python",
   "nbconvert_exporter": "python",
   "pygments_lexer": "ipython3",
   "version": "3.9.16"
  },
  "orig_nbformat": 4,
  "vscode": {
   "interpreter": {
    "hash": "17afcd9f6960de0a3656d2c4c5dd434deed0eab3cd38c55c3169df3bef50250d"
   }
  }
 },
 "nbformat": 4,
 "nbformat_minor": 2
}
