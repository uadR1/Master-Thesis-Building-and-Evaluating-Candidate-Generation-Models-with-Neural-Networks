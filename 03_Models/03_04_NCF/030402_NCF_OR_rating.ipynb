{
 "cells": [
  {
   "attachments": {},
   "cell_type": "markdown",
   "metadata": {},
   "source": [
    "# Loading Libraries"
   ]
  },
  {
   "cell_type": "code",
   "execution_count": 1,
   "metadata": {},
   "outputs": [],
   "source": [
    "# Pandas & Numpy\n",
    "import pandas as pd\n",
    "import numpy as np \n",
    "\n",
    "# Visualization\n",
    "import seaborn as sns \n",
    "from matplotlib import pyplot as plt \n",
    "\n",
    "# Tensorflow\n",
    "import tensorflow as tf\n",
    "from tensorflow import keras\n",
    "tf.get_logger().setLevel('ERROR') # only show error messages \n",
    "\n",
    "# Evaluation \n",
    "from recommenders.evaluation.python_evaluation import (\n",
    "    precision_at_k,\n",
    "    recall_at_k,\n",
    "    ndcg_at_k,\n",
    "    map_at_k, \n",
    "    get_top_k_items,\n",
    "    rmse,\n",
    "    mae,\n",
    "    rsquared,\n",
    "    exp_var\n",
    ")\n",
    "from sklearn.metrics import accuracy_score \n",
    "\n",
    "# Recomender Utilities\n",
    "from recommenders.utils.timer import Timer\n",
    "from recommenders.models.ncf.ncf_singlenode import NCF\n",
    "from recommenders.models.ncf.dataset import Dataset as NCFDataset\n",
    "from recommenders.utils.constants import SEED as DEFAULT_SEED\n",
    "\n",
    "# System & OS\n",
    "import sys\n",
    "import os\n",
    "import shutil\n",
    "#import papermill as pm\n",
    "import pandas as pd\n",
    "\n",
    "# Turn of Warnings for Readability \n",
    "import warnings\n",
    "warnings.filterwarnings(\"ignore\")"
   ]
  },
  {
   "attachments": {},
   "cell_type": "markdown",
   "metadata": {},
   "source": [
    "# Import & Read Datasets"
   ]
  },
  {
   "cell_type": "code",
   "execution_count": 2,
   "metadata": {},
   "outputs": [],
   "source": [
    "# Read Train & Test Data\n",
    "train = pd.read_csv(\"../../00_Data/online_retail_ratings_train.csv\", index_col=0)\n",
    "test = pd.read_csv(\"../../00_Data/online_retail_ratings_test.csv\", index_col=0)"
   ]
  },
  {
   "cell_type": "code",
   "execution_count": 3,
   "metadata": {},
   "outputs": [
    {
     "name": "stdout",
     "output_type": "stream",
     "text": [
      "Shape of Train: (357692, 3)\n",
      "Shape of Test: \t (89479, 3)\n"
     ]
    }
   ],
   "source": [
    "# Check Shapes\n",
    "print(\"Shape of Train:\", train.shape)\n",
    "print(\"Shape of Test: \\t\", test.shape)"
   ]
  },
  {
   "cell_type": "code",
   "execution_count": 4,
   "metadata": {},
   "outputs": [
    {
     "name": "stdout",
     "output_type": "stream",
     "text": [
      "Unique Users in Train: 3696\n",
      "Unique Users in Test: 3696\n",
      "Unique Items in Train: 2769\n",
      "Unique Items in Test: 2769\n"
     ]
    }
   ],
   "source": [
    "# Check Number of Unique Items and User in Train & Test \n",
    "print(\"Unique Users in Train:\", train.CustomerID.nunique())\n",
    "print(\"Unique Users in Test:\", test.CustomerID.nunique())\n",
    "print(\"Unique Items in Train:\", train.StockCode.nunique())\n",
    "print(\"Unique Items in Test:\", test.StockCode.nunique())"
   ]
  },
  {
   "attachments": {},
   "cell_type": "markdown",
   "metadata": {},
   "source": [
    "# Data Preparation"
   ]
  },
  {
   "cell_type": "code",
   "execution_count": 5,
   "metadata": {},
   "outputs": [],
   "source": [
    "# Change name of columns \n",
    "train = train.rename(columns={'StockCode':'itemID', 'CustomerID':'userID', 'purchased':'rating'})\n",
    "test = test.rename(columns={'StockCode':'itemID', 'CustomerID':'userID', 'purchased':'rating'})"
   ]
  },
  {
   "cell_type": "code",
   "execution_count": 10,
   "metadata": {},
   "outputs": [],
   "source": [
    "# Sort by users \n",
    "train = train.sort_values(by='userID')\n",
    "test = test.sort_values(by='userID')"
   ]
  },
  {
   "cell_type": "code",
   "execution_count": 11,
   "metadata": {},
   "outputs": [],
   "source": [
    "# Write Dataset to CSV files. This is a pre-step for the NCF Dataset preparation\n",
    "train_file = \"./or_rating_train.csv\"\n",
    "test_file = \"./or_rating_test.csv\"\n",
    "train.to_csv(train_file, index=False)\n",
    "test.to_csv(test_file, index=False)"
   ]
  },
  {
   "cell_type": "code",
   "execution_count": 12,
   "metadata": {},
   "outputs": [
    {
     "name": "stderr",
     "output_type": "stream",
     "text": [
      "INFO:recommenders.models.ncf.dataset:Indexing ./or_rating_train.csv ...\n",
      "INFO:recommenders.models.ncf.dataset:Indexing ./or_rating_test.csv ...\n",
      "INFO:recommenders.models.ncf.dataset:Creating full leave-one-out test file ./or_rating_test_full.csv ...\n",
      "100%|██████████| 3696/3696 [01:05<00:00, 56.49it/s]\n",
      "INFO:recommenders.models.ncf.dataset:Indexing ./or_rating_test_full.csv ...\n"
     ]
    }
   ],
   "source": [
    "# Create the NCF Dataset \n",
    "data = NCFDataset(train_file=train_file, test_file=test_file, seed=1, overwrite_test_file_full=True)"
   ]
  },
  {
   "attachments": {},
   "cell_type": "markdown",
   "metadata": {},
   "source": [
    "# Baseline Model"
   ]
  },
  {
   "cell_type": "code",
   "execution_count": 13,
   "metadata": {},
   "outputs": [
    {
     "name": "stderr",
     "output_type": "stream",
     "text": [
      "2023-06-22 14:06:48.511194: I tensorflow/core/platform/cpu_feature_guard.cc:142] This TensorFlow binary is optimized with oneAPI Deep Neural Network Library (oneDNN) to use the following CPU instructions in performance-critical operations:  SSE4.1 SSE4.2\n",
      "To enable them in other operations, rebuild TensorFlow with the appropriate compiler flags.\n",
      "2023-06-22 14:06:48.521017: I tensorflow/compiler/mlir/mlir_graph_optimization_pass.cc:196] None of the MLIR optimization passes are enabled (registered 0 passes)\n"
     ]
    }
   ],
   "source": [
    "# Initiate Model with pretrained NeuMF\n",
    "model = NCF (\n",
    "    n_users=data.n_users, \n",
    "    n_items=data.n_items,\n",
    "    model_type=\"NeuMF\",\n",
    "    n_factors=4,\n",
    "    layer_sizes=[16,8,4],\n",
    "    n_epochs=50,\n",
    "    batch_size=50,\n",
    "    learning_rate=1e-3,\n",
    "    verbose=10,\n",
    "    seed=1\n",
    ")"
   ]
  },
  {
   "cell_type": "code",
   "execution_count": 14,
   "metadata": {},
   "outputs": [
    {
     "name": "stderr",
     "output_type": "stream",
     "text": [
      "INFO:recommenders.models.ncf.ncf_singlenode:Epoch 10 [32.42s]: train_loss = 0.276681 \n",
      "INFO:recommenders.models.ncf.ncf_singlenode:Epoch 20 [32.54s]: train_loss = 0.274234 \n",
      "INFO:recommenders.models.ncf.ncf_singlenode:Epoch 30 [32.52s]: train_loss = 0.275083 \n",
      "INFO:recommenders.models.ncf.ncf_singlenode:Epoch 40 [32.56s]: train_loss = 0.276756 \n",
      "INFO:recommenders.models.ncf.ncf_singlenode:Epoch 50 [32.47s]: train_loss = 0.278868 \n"
     ]
    },
    {
     "name": "stdout",
     "output_type": "stream",
     "text": [
      "Took 1629.806104875 seconds for training.\n"
     ]
    }
   ],
   "source": [
    "# Fit the Modek \n",
    "with Timer() as train_time:\n",
    "    model.fit(data)\n",
    "\n",
    "print(\"Took {} seconds for training.\".format(train_time.interval))"
   ]
  },
  {
   "cell_type": "code",
   "execution_count": 15,
   "metadata": {},
   "outputs": [
    {
     "data": {
      "text/html": [
       "<div>\n",
       "<style scoped>\n",
       "    .dataframe tbody tr th:only-of-type {\n",
       "        vertical-align: middle;\n",
       "    }\n",
       "\n",
       "    .dataframe tbody tr th {\n",
       "        vertical-align: top;\n",
       "    }\n",
       "\n",
       "    .dataframe thead th {\n",
       "        text-align: right;\n",
       "    }\n",
       "</style>\n",
       "<table border=\"1\" class=\"dataframe\">\n",
       "  <thead>\n",
       "    <tr style=\"text-align: right;\">\n",
       "      <th></th>\n",
       "      <th>userID</th>\n",
       "      <th>itemID</th>\n",
       "      <th>prediction</th>\n",
       "    </tr>\n",
       "  </thead>\n",
       "  <tbody>\n",
       "    <tr>\n",
       "      <th>0</th>\n",
       "      <td>1</td>\n",
       "      <td>1915</td>\n",
       "      <td>0.338273</td>\n",
       "    </tr>\n",
       "    <tr>\n",
       "      <th>1</th>\n",
       "      <td>1</td>\n",
       "      <td>3147</td>\n",
       "      <td>0.330756</td>\n",
       "    </tr>\n",
       "    <tr>\n",
       "      <th>2</th>\n",
       "      <td>1</td>\n",
       "      <td>892</td>\n",
       "      <td>0.040942</td>\n",
       "    </tr>\n",
       "    <tr>\n",
       "      <th>3</th>\n",
       "      <td>1</td>\n",
       "      <td>3352</td>\n",
       "      <td>0.169295</td>\n",
       "    </tr>\n",
       "    <tr>\n",
       "      <th>4</th>\n",
       "      <td>1</td>\n",
       "      <td>1291</td>\n",
       "      <td>0.075116</td>\n",
       "    </tr>\n",
       "  </tbody>\n",
       "</table>\n",
       "</div>"
      ],
      "text/plain": [
       "   userID  itemID  prediction\n",
       "0       1    1915    0.338273\n",
       "1       1    3147    0.330756\n",
       "2       1     892    0.040942\n",
       "3       1    3352    0.169295\n",
       "4       1    1291    0.075116"
      ]
     },
     "execution_count": 15,
     "metadata": {},
     "output_type": "execute_result"
    }
   ],
   "source": [
    "# Predict all user and items pairings in Test \n",
    "predictions = [[row.userID, row.itemID, model.predict(row.userID, row.itemID)]\n",
    "               for (_, row) in test.iterrows()]\n",
    "\n",
    "# Create a Datafragme from the Predictions \n",
    "predictions = pd.DataFrame(predictions, columns=['userID', 'itemID', 'prediction'])\n",
    "predictions.head()"
   ]
  },
  {
   "cell_type": "code",
   "execution_count": 16,
   "metadata": {},
   "outputs": [],
   "source": [
    "predictions['prediction'] = predictions['prediction'].apply(lambda x: 1 if x > 0.5 else 0)"
   ]
  },
  {
   "cell_type": "code",
   "execution_count": 17,
   "metadata": {},
   "outputs": [
    {
     "name": "stdout",
     "output_type": "stream",
     "text": [
      "0.03958470702622962\n"
     ]
    }
   ],
   "source": [
    "acc = accuracy_score(test.rating, predictions.prediction)\n",
    "print(acc)"
   ]
  },
  {
   "cell_type": "code",
   "execution_count": 18,
   "metadata": {},
   "outputs": [
    {
     "name": "stdout",
     "output_type": "stream",
     "text": [
      "Took 47.976190417 seconds for prediction.\n"
     ]
    }
   ],
   "source": [
    "# Predict ALL User & Item Pairings \n",
    "with Timer() as test_time:\n",
    "\n",
    "    users, items, preds = [], [], []\n",
    "    item = list(train.itemID.unique())\n",
    "    for user in train.userID.unique():\n",
    "        user = [user] * len(item) \n",
    "        users.extend(user)\n",
    "        items.extend(item)\n",
    "        preds.extend(list(model.predict(user, item, is_list=True)))\n",
    "\n",
    "    all_predictions = pd.DataFrame(data={\"userID\": users, \"itemID\":items, \"prediction\":preds})\n",
    "\n",
    "    merged = pd.merge(train, all_predictions, on=[\"userID\", \"itemID\"], how=\"outer\")\n",
    "    all_predictions = merged[merged.rating.isnull()].drop('rating', axis=1)\n",
    "\n",
    "print(\"Took {} seconds for prediction.\".format(test_time.interval))"
   ]
  },
  {
   "cell_type": "code",
   "execution_count": 19,
   "metadata": {},
   "outputs": [
    {
     "name": "stdout",
     "output_type": "stream",
     "text": [
      "Precision@K:\t0.063582\n",
      "Recall@K:\t0.022287\n"
     ]
    }
   ],
   "source": [
    "# Evaluate Recall & Preicison at 10 \n",
    "eval_precision = precision_at_k(test, all_predictions, col_prediction='prediction', k=10)\n",
    "eval_recall = recall_at_k(test, all_predictions, col_prediction='prediction', k=10)\n",
    "\n",
    "print(\"Precision@K:\\t%f\" % eval_precision,\n",
    "      \"Recall@K:\\t%f\" % eval_recall, sep='\\n')"
   ]
  },
  {
   "attachments": {},
   "cell_type": "markdown",
   "metadata": {},
   "source": [
    "# Hyperparameter Tuning "
   ]
  },
  {
   "cell_type": "code",
   "execution_count": 20,
   "metadata": {},
   "outputs": [
    {
     "name": "stdout",
     "output_type": "stream",
     "text": [
      "Recall@10 for Num Factors:  4 Layer Shape:  [16, 8, 4] :\t 0.00745454099114729\n",
      "Recall@20 for Num Factors:  4 Layer Shape:  [16, 8, 4] :\t 0.015848866336935608\n",
      "Recall@10 for Num Factors:  4 Layer Shape:  [32, 16, 8] :\t 0.006566671569693035\n",
      "Recall@20 for Num Factors:  4 Layer Shape:  [32, 16, 8] :\t 0.01259211537736731\n",
      "Recall@10 for Num Factors:  4 Layer Shape:  [200, 100, 50] :\t 0.007177778185289641\n",
      "Recall@20 for Num Factors:  4 Layer Shape:  [200, 100, 50] :\t 0.014422645576761027\n",
      "Recall@10 for Num Factors:  16 Layer Shape:  [16, 8, 4] :\t 0.009078826239513194\n",
      "Recall@20 for Num Factors:  16 Layer Shape:  [16, 8, 4] :\t 0.01785928073704738\n",
      "Recall@10 for Num Factors:  16 Layer Shape:  [32, 16, 8] :\t 0.008835782409464487\n",
      "Recall@20 for Num Factors:  16 Layer Shape:  [32, 16, 8] :\t 0.016938567803957884\n",
      "Recall@10 for Num Factors:  16 Layer Shape:  [200, 100, 50] :\t 0.013830789670942234\n",
      "Recall@20 for Num Factors:  16 Layer Shape:  [200, 100, 50] :\t 0.024985742229986334\n",
      "Recall@10 for Num Factors:  50 Layer Shape:  [16, 8, 4] :\t 0.0606605665469553\n",
      "Recall@20 for Num Factors:  50 Layer Shape:  [16, 8, 4] :\t 0.08583949146853924\n",
      "Recall@10 for Num Factors:  50 Layer Shape:  [32, 16, 8] :\t 0.06216937378952734\n",
      "Recall@20 for Num Factors:  50 Layer Shape:  [32, 16, 8] :\t 0.09032612882441468\n",
      "Recall@10 for Num Factors:  50 Layer Shape:  [200, 100, 50] :\t 0.061211831006187094\n",
      "Recall@20 for Num Factors:  50 Layer Shape:  [200, 100, 50] :\t 0.08711127928651366\n"
     ]
    }
   ],
   "source": [
    "# Initiate Lists for Hyperparameters \n",
    "factors = [8, 16, 50]\n",
    "layers = [[16, 8, 4], [32, 16, 8], [200, 100, 50]]\n",
    "\n",
    "# Initiate Lists for Assessment\n",
    "accuracy = []\n",
    "recall_10 = []\n",
    "recall_20 = []\n",
    "precision_10 = []\n",
    "precision_20 = []\n",
    "num_factors = []\n",
    "layer_shapes = []\n",
    "\n",
    "for f in factors:\n",
    "    for l in layers:\n",
    "        ##### GMF MODEL ##### \n",
    "        # Initiate GMF Model\n",
    "        gmf_model = NCF(\n",
    "            n_users=data.n_users,\n",
    "            n_items=data.n_items,\n",
    "            model_type=\"GMF\",\n",
    "            n_factors=f,\n",
    "            layer_sizes=l\n",
    "            n_epochs=50,\n",
    "            batch_size=50,\n",
    "            learning_rate=0.005,\n",
    "            seed=1,\n",
    "            verbose=False\n",
    "        )\n",
    "        \n",
    "        # Fit GMF Model: \n",
    "        gmf_model.fit(data)\n",
    "        \n",
    "        # Save GMF Model:\n",
    "        gmf_model.save(dir_name='.pretrain/GMF')\n",
    "        \n",
    "        ##### MLP MODEL ##### \n",
    "        # Initiate MLP Model                 \n",
    "        mlp_model = NCF(\n",
    "            n_users=data.n_users,\n",
    "            n_items=data.n_items,\n",
    "            model_type=\"MLP\",\n",
    "            n_factors=f,\n",
    "            layer_sizes=l\n",
    "            n_epochs=50,\n",
    "            batch_size=50,\n",
    "            learning_rate=0.005,\n",
    "            seed=1,\n",
    "            verbose=False\n",
    "        )\n",
    "        \n",
    "        # Fit MLP Model\n",
    "        mlp_model.fit(data)\n",
    "        \n",
    "        # Save MLP Model\n",
    "        mlp_model.save(dir_name='.pretrain/MLP')\n",
    "        \n",
    "        ##### NeuMF Layer #####\n",
    "        # Initiate NeuMF Model\n",
    "        model = NCF(\n",
    "            n_users=data.n_users,\n",
    "            n_items=data.n_items,\n",
    "            model_type=\"NeuMF\",\n",
    "            n_factors=f,\n",
    "            layer_sizes=l\n",
    "            n_epochs=50,\n",
    "            batch_size=50,\n",
    "            learning_rate=0.005,\n",
    "            seed=1,\n",
    "            verbose=False\n",
    "        )\n",
    "        \n",
    "        # Load pretrained Models\n",
    "        model.load(gmf_dir='.pretrain/GMF', mlp_dir='.pretrain/MLP', alpha=0.5)\n",
    "        \n",
    "        # Fit NeuMF Model\n",
    "        model.fit(data)\n",
    "        \n",
    "        \n",
    "        ##### ACCURACY PREDICTION #####\n",
    "        # Predict all user and items pairings in Test \n",
    "        predictions = [[row.userID, row.itemID, model.predict(row.userID, row.itemID)]\n",
    "                    for (_, row) in test.iterrows()]\n",
    "\n",
    "        # Create a Datafragme from the Predictions \n",
    "        predictions = pd.DataFrame(predictions, columns=['userID', 'itemID', 'prediction'])\n",
    "        \n",
    "        # Binarize Output\n",
    "        predictions['prediction'] = predictions['prediction'].apply(lambda x: 1 if x > 0.5 else 0)\n",
    "        \n",
    "        # Binarize Test Ratings\n",
    "        test_copy = test.copy()\n",
    "        test_copy['rating'] = test_copy['rating'].apply(lambda x: 1 if x > 0 else 0)\n",
    "        \n",
    "        # Predict Accuracy\n",
    "        acc = accuracy_score(test_copy.rating, predictions.prediction)\n",
    "        \n",
    "        # Add Accuracy to list\n",
    "        accuracy.append(acc)\n",
    "        \n",
    "        ##### TOP K PREDICTION\n",
    "        # Predict All Pairings  \n",
    "        users, items, preds = [], [], []\n",
    "        item = list(train.itemID.unique())\n",
    "        for user in train.userID.unique():\n",
    "            user = [user] * len(item) \n",
    "            users.extend(user)\n",
    "            items.extend(item)\n",
    "            preds.extend(list(model.predict(user, item, is_list=True)))\n",
    "\n",
    "        # Create Data Frame and Merge\n",
    "        all_predictions = pd.DataFrame(data={\"userID\": users, \"itemID\":items, \"prediction\":preds})\n",
    "        merged = pd.merge(train, all_predictions, on=[\"userID\", \"itemID\"], how=\"outer\")\n",
    "        all_predictions = merged[merged.rating.isnull()].drop('rating', axis=1)\n",
    "        \n",
    "        # Recall & Precision at 10 \n",
    "        eval_precision_10 = precision_at_k(test, all_predictions, col_prediction='prediction', k=10)\n",
    "        eval_recall_10 = recall_at_k(test, all_predictions, col_prediction='prediction', k=10)\n",
    "        \n",
    "        # Recall & Precision at 20\n",
    "        eval_precision_20 = precision_at_k(test, all_predictions, col_prediction='prediction', k=20)\n",
    "        eval_recall_20 = recall_at_k(test, all_predictions, col_prediction='prediction', k=20)\n",
    "        \n",
    "        \n",
    "        # Append Lists\n",
    "        recall_10.append(eval_recall_10)\n",
    "        recall_20.append(eval_recall_20)\n",
    "        precision_10.append(eval_precision_10)\n",
    "        precision_20.append(eval_precision_20)\n",
    "        num_factors.append(f)\n",
    "        layer_shapes.append(l)\n",
    "        \n",
    "        # Print intermediate Status for Recall@10\n",
    "        print(\"Recall@10 for Num Factors: \", f, \"Layer Shape: \", l, \":\\t\", eval_recall_10)\n",
    "        \n",
    "        # Print intermediate Status for Recall@20\n",
    "        print(\"Recall@20 for Num Factors: \", f, \"Layer Shape: \", l, \":\\t\", eval_recall_20)\n",
    "        "
   ]
  },
  {
   "cell_type": "code",
   "execution_count": 22,
   "metadata": {},
   "outputs": [
    {
     "data": {
      "text/html": [
       "<div>\n",
       "<style scoped>\n",
       "    .dataframe tbody tr th:only-of-type {\n",
       "        vertical-align: middle;\n",
       "    }\n",
       "\n",
       "    .dataframe tbody tr th {\n",
       "        vertical-align: top;\n",
       "    }\n",
       "\n",
       "    .dataframe thead th {\n",
       "        text-align: right;\n",
       "    }\n",
       "</style>\n",
       "<table border=\"1\" class=\"dataframe\">\n",
       "  <thead>\n",
       "    <tr style=\"text-align: right;\">\n",
       "      <th></th>\n",
       "      <th>layer size</th>\n",
       "      <th>factors</th>\n",
       "      <th>accuracy</th>\n",
       "      <th>recall@10</th>\n",
       "      <th>recall@20</th>\n",
       "      <th>precision@10</th>\n",
       "      <th>precision@20</th>\n",
       "    </tr>\n",
       "  </thead>\n",
       "  <tbody>\n",
       "    <tr>\n",
       "      <th>7</th>\n",
       "      <td>[32, 16, 8]</td>\n",
       "      <td>50</td>\n",
       "      <td>0.105254</td>\n",
       "      <td>0.062169</td>\n",
       "      <td>0.090326</td>\n",
       "      <td>0.152814</td>\n",
       "      <td>0.109646</td>\n",
       "    </tr>\n",
       "    <tr>\n",
       "      <th>8</th>\n",
       "      <td>[200, 100, 50]</td>\n",
       "      <td>50</td>\n",
       "      <td>0.106595</td>\n",
       "      <td>0.061212</td>\n",
       "      <td>0.087111</td>\n",
       "      <td>0.150406</td>\n",
       "      <td>0.107008</td>\n",
       "    </tr>\n",
       "    <tr>\n",
       "      <th>6</th>\n",
       "      <td>[16, 8, 4]</td>\n",
       "      <td>50</td>\n",
       "      <td>0.094089</td>\n",
       "      <td>0.060661</td>\n",
       "      <td>0.085839</td>\n",
       "      <td>0.148295</td>\n",
       "      <td>0.105560</td>\n",
       "    </tr>\n",
       "    <tr>\n",
       "      <th>5</th>\n",
       "      <td>[200, 100, 50]</td>\n",
       "      <td>16</td>\n",
       "      <td>0.063054</td>\n",
       "      <td>0.013831</td>\n",
       "      <td>0.024986</td>\n",
       "      <td>0.037771</td>\n",
       "      <td>0.034443</td>\n",
       "    </tr>\n",
       "    <tr>\n",
       "      <th>3</th>\n",
       "      <td>[16, 8, 4]</td>\n",
       "      <td>16</td>\n",
       "      <td>0.060495</td>\n",
       "      <td>0.009079</td>\n",
       "      <td>0.017859</td>\n",
       "      <td>0.025731</td>\n",
       "      <td>0.025379</td>\n",
       "    </tr>\n",
       "    <tr>\n",
       "      <th>4</th>\n",
       "      <td>[32, 16, 8]</td>\n",
       "      <td>16</td>\n",
       "      <td>0.055700</td>\n",
       "      <td>0.008836</td>\n",
       "      <td>0.016939</td>\n",
       "      <td>0.025298</td>\n",
       "      <td>0.024581</td>\n",
       "    </tr>\n",
       "    <tr>\n",
       "      <th>0</th>\n",
       "      <td>[16, 8, 4]</td>\n",
       "      <td>4</td>\n",
       "      <td>0.012506</td>\n",
       "      <td>0.007455</td>\n",
       "      <td>0.015849</td>\n",
       "      <td>0.020806</td>\n",
       "      <td>0.021577</td>\n",
       "    </tr>\n",
       "    <tr>\n",
       "      <th>2</th>\n",
       "      <td>[200, 100, 50]</td>\n",
       "      <td>4</td>\n",
       "      <td>0.049799</td>\n",
       "      <td>0.007178</td>\n",
       "      <td>0.014423</td>\n",
       "      <td>0.020590</td>\n",
       "      <td>0.020766</td>\n",
       "    </tr>\n",
       "    <tr>\n",
       "      <th>1</th>\n",
       "      <td>[32, 16, 8]</td>\n",
       "      <td>4</td>\n",
       "      <td>0.038624</td>\n",
       "      <td>0.006567</td>\n",
       "      <td>0.012592</td>\n",
       "      <td>0.020779</td>\n",
       "      <td>0.019968</td>\n",
       "    </tr>\n",
       "  </tbody>\n",
       "</table>\n",
       "</div>"
      ],
      "text/plain": [
       "       layer size  factors  accuracy  recall@10  recall@20  precision@10  \\\n",
       "7     [32, 16, 8]       50  0.105254   0.062169   0.090326      0.152814   \n",
       "8  [200, 100, 50]       50  0.106595   0.061212   0.087111      0.150406   \n",
       "6      [16, 8, 4]       50  0.094089   0.060661   0.085839      0.148295   \n",
       "5  [200, 100, 50]       16  0.063054   0.013831   0.024986      0.037771   \n",
       "3      [16, 8, 4]       16  0.060495   0.009079   0.017859      0.025731   \n",
       "4     [32, 16, 8]       16  0.055700   0.008836   0.016939      0.025298   \n",
       "0      [16, 8, 4]        4  0.012506   0.007455   0.015849      0.020806   \n",
       "2  [200, 100, 50]        4  0.049799   0.007178   0.014423      0.020590   \n",
       "1     [32, 16, 8]        4  0.038624   0.006567   0.012592      0.020779   \n",
       "\n",
       "   precision@20  \n",
       "7      0.109646  \n",
       "8      0.107008  \n",
       "6      0.105560  \n",
       "5      0.034443  \n",
       "3      0.025379  \n",
       "4      0.024581  \n",
       "0      0.021577  \n",
       "2      0.020766  \n",
       "1      0.019968  "
      ]
     },
     "execution_count": 22,
     "metadata": {},
     "output_type": "execute_result"
    }
   ],
   "source": [
    "# Create Dataframe out of the Results of the Hyperparameter Tuning \n",
    "df_tuning = pd.DataFrame({\n",
    "    \"layer size\": layer_shapes,\n",
    "    \"factors\": num_factors,\n",
    "    \"accuracy\": accuracy,\n",
    "    \"recall@10\": recall_10,\n",
    "    \"recall@20\": recall_20,\n",
    "    \"precision@10\":precision_10,\n",
    "    \"precision@20\":precision_20\n",
    "})\n",
    "# Sort Values by recall@10 \n",
    "df_tuning.sort_values(by='recall@10', ascending=False)"
   ]
  },
  {
   "cell_type": "code",
   "execution_count": 23,
   "metadata": {},
   "outputs": [],
   "source": [
    "df_tuning.to_csv(\"or_rating_results.csv\")"
   ]
  },
  {
   "attachments": {},
   "cell_type": "markdown",
   "metadata": {},
   "source": [
    "# Analysis of Hyperparameters"
   ]
  },
  {
   "cell_type": "code",
   "execution_count": 24,
   "metadata": {},
   "outputs": [
    {
     "data": {
      "text/plain": [
       "factors\n",
       "50    0.061347\n",
       "16    0.010582\n",
       "4     0.007066\n",
       "Name: recall@10, dtype: float64"
      ]
     },
     "execution_count": 24,
     "metadata": {},
     "output_type": "execute_result"
    }
   ],
   "source": [
    "# Impact of Factors\n",
    "df_tuning.groupby(\"factors\")['recall@10'].mean().sort_values(ascending=False)"
   ]
  },
  {
   "cell_type": "code",
   "execution_count": 26,
   "metadata": {},
   "outputs": [
    {
     "data": {
      "text/plain": [
       "layer size\n",
       "[200, 100, 50]    0.027407\n",
       "[32, 16, 8]       0.025857\n",
       "[16, 8, 4]        0.025731\n",
       "Name: recall@10, dtype: float64"
      ]
     },
     "execution_count": 26,
     "metadata": {},
     "output_type": "execute_result"
    }
   ],
   "source": [
    "# Impact of Layer Size\n",
    "df_tuning['layer size'] = df_tuning['layer size'].astype(str)\n",
    "\n",
    "df_tuning.groupby(\"layer size\")['recall@10'].mean().sort_values(ascending=False)"
   ]
  },
  {
   "attachments": {},
   "cell_type": "markdown",
   "metadata": {},
   "source": [
    "# Visualizations"
   ]
  },
  {
   "cell_type": "code",
   "execution_count": 25,
   "metadata": {},
   "outputs": [
    {
     "data": {
      "image/png": "[encoded data removed]",
      "text/plain": [
       "<Figure size 640x480 with 1 Axes>"
      ]
     },
     "metadata": {},
     "output_type": "display_data"
    }
   ],
   "source": [
    "# Set the font to Arial\n",
    "plt.rcParams['font.family'] = 'Arial'\n",
    "\n",
    "# Define Font Size\n",
    "plt.rcParams.update({'font.size': 12})\n",
    "\n",
    "# Create a dictionary to store the plotted points for each category\n",
    "plotted_points = {}\n",
    "\n",
    "# Create a scatterplot\n",
    "fig, ax = plt.subplots()\n",
    "\n",
    "# Define the shapes for different categories\n",
    "shapes = ['s', 'o', '^']\n",
    "\n",
    "# Iterate over each row in the DataFrame\n",
    "for index, row in df_tuning.iterrows():\n",
    "    # Get the layer sizes list for the current row\n",
    "    layer_sizes = row['layer size']\n",
    "    \n",
    "    # Convert the layer sizes list to a tuple for dictionary key\n",
    "    layer_sizes_tuple = tuple(layer_sizes)\n",
    "    \n",
    "    # Check if the current category is already in the dictionary\n",
    "    if layer_sizes_tuple not in plotted_points:\n",
    "        # Create a new list to store the points for the current category\n",
    "        plotted_points[layer_sizes_tuple] = []\n",
    "    \n",
    "    # Append the points for the current category\n",
    "    plotted_points[layer_sizes_tuple].append((row['factors'], row['recall@10']))\n",
    "\n",
    "# Iterate over the plotted points for each category and plot them\n",
    "for category, points in plotted_points.items():\n",
    "    factors, recall = zip(*points)\n",
    "    shape = shapes.pop(0)  # Get the next shape from the list\n",
    "    ax.scatter(factors, recall, marker=shape, label=str(category))\n",
    "\n",
    "# Set the labels for x and y axes\n",
    "ax.set_xlabel('Factors')\n",
    "ax.set_ylabel('Recall@10')\n",
    "\n",
    "# Set the x-axis ticks to the desired values\n",
    "ax.set_xticks([4, 16, 50])\n",
    "\n",
    "# Add a legend with the label \"Layer Sizes\" above the points\n",
    "legend = ax.legend(title='Layer Sizes', loc='lower right')\n",
    "legend.get_title().set_fontsize('12')  # Set the font size of the legend title\n",
    "\n",
    "# Show the scatterplot\n",
    "plt.show()\n"
   ]
  },
  {
   "cell_type": "code",
   "execution_count": 27,
   "metadata": {},
   "outputs": [
    {
     "data": {
      "text/plain": [
       "Text(0, 0.5, 'Accuracy on Test Set')"
      ]
     },
     "execution_count": 27,
     "metadata": {},
     "output_type": "execute_result"
    },
    {
     "data": {
      "image/png": "[encoded data removed]",
      "text/plain": [
       "<Figure size 640x480 with 1 Axes>"
      ]
     },
     "metadata": {},
     "output_type": "display_data"
    }
   ],
   "source": [
    "#plt.figure(figsize=(7,5))\n",
    "plt.scatter(df_tuning['recall@10'], df_tuning['accuracy'])\n",
    "plt.xlabel('Recall@10')\n",
    "plt.ylabel('Accuracy on Test Set')"
   ]
  },
  {
   "attachments": {},
   "cell_type": "markdown",
   "metadata": {},
   "source": [
    "# Calculation Accuracy"
   ]
  },
  {
   "cell_type": "code",
   "execution_count": null,
   "metadata": {},
   "outputs": [],
   "source": [
    "gmf_model = NCF(\n",
    "    n_users=data.n_users,\n",
    "    n_items=data.n_items,\n",
    "    model_type=\"GMF\",\n",
    "    n_factors=50,\n",
    "    n_epochs=50,\n",
    "    batch_size=50,\n",
    "    learning_rate=0.005,\n",
    "    seed=1,\n",
    "    verbose=False\n",
    ")\n",
    "\n",
    "# Fit GMF Model: \n",
    "gmf_model.fit(data)\n",
    "\n",
    "# Save GMF Model:\n",
    "gmf_model.save(dir_name='.pretrain/GMF')\n",
    "\n",
    "##### MLP MODEL ##### \n",
    "# Initiate MLP Model                 \n",
    "mlp_model = NCF(\n",
    "    n_users=data.n_users,\n",
    "    n_items=data.n_items,\n",
    "    model_type=\"MLP\",\n",
    "    n_factors=50,\n",
    "    n_epochs=50,\n",
    "    batch_size=50,\n",
    "    learning_rate=0.005,\n",
    "    seed=1,\n",
    "    verbose=False\n",
    ")\n",
    "\n",
    "# Fit MLP Model\n",
    "mlp_model.fit(data)\n",
    "\n",
    "# Save MLP Model\n",
    "mlp_model.save(dir_name='.pretrain/MLP')\n",
    "\n",
    "##### NeuMF Layer #####\n",
    "# Initiate NeuMF Model\n",
    "model = NCF(\n",
    "    n_users=data.n_users,\n",
    "    n_items=data.n_items,\n",
    "    model_type=\"NeuMF\",\n",
    "    n_factors=50,\n",
    "    n_epochs=50,\n",
    "    batch_size=50,\n",
    "    learning_rate=0.005,\n",
    "    seed=1,\n",
    "    verbose=False\n",
    ")\n",
    "\n",
    "# Load pretrained Models\n",
    "model.load(gmf_dir='.pretrain/GMF', mlp_dir='.pretrain/MLP', alpha=0.5)\n",
    "\n",
    "# Fit NeuMF Model\n",
    "model.fit(data)\n",
    "\n",
    "\n",
    "##### ACCURACY PREDICTION #####\n",
    "# Predict all user and items pairings in Test \n",
    "predictions = [[row.userID, row.itemID, model.predict(row.userID, row.itemID)]\n",
    "            for (_, row) in test.iterrows()]\n",
    "\n",
    "# Create a Datafragme from the Predictions \n",
    "predictions = pd.DataFrame(predictions, columns=['userID', 'itemID', 'prediction'])\n",
    "\n",
    "# Binarize Output\n",
    "predictions['prediction'] = predictions['prediction'].apply(lambda x: 1 if x > 0.5 else 0)\n",
    "\n",
    "# Predict Accuracy\n",
    "acc = accuracy_score(test.rating, predictions.prediction)"
   ]
  }
 ],
 "metadata": {
  "kernelspec": {
   "display_name": "recom",
   "language": "python",
   "name": "python3"
  },
  "language_info": {
   "codemirror_mode": {
    "name": "ipython",
    "version": 3
   },
   "file_extension": ".py",
   "mimetype": "text/x-python",
   "name": "python",
   "nbconvert_exporter": "python",
   "pygments_lexer": "ipython3",
   "version": "3.9.16"
  },
  "orig_nbformat": 4,
  "vscode": {
   "interpreter": {
    "hash": "17afcd9f6960de0a3656d2c4c5dd434deed0eab3cd38c55c3169df3bef50250d"
   }
  }
 },
 "nbformat": 4,
 "nbformat_minor": 2
}
