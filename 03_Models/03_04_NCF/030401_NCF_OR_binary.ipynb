{
 "cells": [
  {
   "attachments": {},
   "cell_type": "markdown",
   "metadata": {},
   "source": [
    "# Loading Libraries"
   ]
  },
  {
   "cell_type": "code",
   "execution_count": 108,
   "metadata": {},
   "outputs": [],
   "source": [
    "# Pandas & Numpy\n",
    "import pandas as pd\n",
    "import numpy as np \n",
    "\n",
    "# Visualization\n",
    "import seaborn as sns \n",
    "from matplotlib import pyplot as plt \n",
    "\n",
    "# Tensorflow\n",
    "import tensorflow as tf\n",
    "from tensorflow import keras\n",
    "tf.get_logger().setLevel('ERROR') # only show error messages \n",
    "\n",
    "# Evaluation \n",
    "from recommenders.evaluation.python_evaluation import (\n",
    "    precision_at_k,\n",
    "    recall_at_k,\n",
    "    ndcg_at_k,\n",
    "    map_at_k, \n",
    "    get_top_k_items,\n",
    "    rmse,\n",
    "    mae,\n",
    "    rsquared,\n",
    "    exp_var\n",
    ")\n",
    "from sklearn.metrics import accuracy_score \n",
    "\n",
    "# Recomender Utilities\n",
    "from recommenders.utils.timer import Timer\n",
    "from recommenders.models.ncf.ncf_singlenode import NCF\n",
    "from recommenders.models.ncf.dataset import Dataset as NCFDataset\n",
    "from recommenders.utils.constants import SEED as DEFAULT_SEED\n",
    "\n",
    "# System & OS\n",
    "import sys\n",
    "import os\n",
    "import shutil\n",
    "#import papermill as pm\n",
    "import pandas as pd\n",
    "\n",
    "# Turn of Warnings for Readability \n",
    "import warnings\n",
    "warnings.filterwarnings(\"ignore\")"
   ]
  },
  {
   "attachments": {},
   "cell_type": "markdown",
   "metadata": {},
   "source": [
    "# Import & Read Datasets"
   ]
  },
  {
   "cell_type": "code",
   "execution_count": 109,
   "metadata": {},
   "outputs": [],
   "source": [
    "# Read Train & Test Data\n",
    "train = pd.read_csv(\"../../00_Data/online_retail_train.csv\", index_col=0)\n",
    "test = pd.read_csv(\"../../00_Data/online_retail_test.csv\", index_col=0)"
   ]
  },
  {
   "cell_type": "code",
   "execution_count": 110,
   "metadata": {},
   "outputs": [
    {
     "name": "stdout",
     "output_type": "stream",
     "text": [
      "Shape of Train: (206861, 3)\n",
      "Shape of Test: \t (51879, 3)\n"
     ]
    }
   ],
   "source": [
    "# Check Shapes\n",
    "print(\"Shape of Train:\", train.shape)\n",
    "print(\"Shape of Test: \\t\", test.shape)"
   ]
  },
  {
   "cell_type": "code",
   "execution_count": 111,
   "metadata": {},
   "outputs": [
    {
     "name": "stdout",
     "output_type": "stream",
     "text": [
      "Unique Users in Train: 3690\n",
      "Unique Users in Test: 3690\n",
      "Unique Items in Train: 2746\n",
      "Unique Items in Test: 2746\n"
     ]
    }
   ],
   "source": [
    "# Check Number of Unique Items and User in Train & Test \n",
    "print(\"Unique Users in Train:\", train.CustomerID.nunique())\n",
    "print(\"Unique Users in Test:\", test.CustomerID.nunique())\n",
    "print(\"Unique Items in Train:\", train.StockCode.nunique())\n",
    "print(\"Unique Items in Test:\", test.StockCode.nunique())"
   ]
  },
  {
   "attachments": {},
   "cell_type": "markdown",
   "metadata": {},
   "source": [
    "# Data Preparation"
   ]
  },
  {
   "cell_type": "code",
   "execution_count": 112,
   "metadata": {},
   "outputs": [],
   "source": [
    "# Change name of columns \n",
    "train = train.rename(columns={'StockCode':'itemID', 'CustomerID':'userID', 'purchased':'rating'})\n",
    "test = test.rename(columns={'StockCode':'itemID', 'CustomerID':'userID', 'purchased':'rating'})"
   ]
  },
  {
   "cell_type": "code",
   "execution_count": 113,
   "metadata": {},
   "outputs": [],
   "source": [
    "# Write Dataset to CSV files. This is a pre-step for the NCF Dataset preparation\n",
    "train_file = \"./or_train.csv\"\n",
    "test_file = \"./or_test.csv\"\n",
    "train.to_csv(train_file, index=False)\n",
    "test.to_csv(test_file, index=False)"
   ]
  },
  {
   "cell_type": "code",
   "execution_count": 114,
   "metadata": {},
   "outputs": [
    {
     "name": "stderr",
     "output_type": "stream",
     "text": [
      "INFO:recommenders.models.ncf.dataset:Indexing ./or_train.csv ...\n",
      "INFO:recommenders.models.ncf.dataset:Indexing ./or_test.csv ...\n",
      "INFO:recommenders.models.ncf.dataset:Creating full leave-one-out test file ./or_test_full.csv ...\n",
      "100%|██████████| 3690/3690 [00:40<00:00, 91.80it/s] \n",
      "INFO:recommenders.models.ncf.dataset:Indexing ./or_test_full.csv ...\n"
     ]
    }
   ],
   "source": [
    "# Create the NCF Dataset \n",
    "data = NCFDataset(train_file=train_file, test_file=test_file, seed=1, overwrite_test_file_full=True)"
   ]
  },
  {
   "attachments": {},
   "cell_type": "markdown",
   "metadata": {},
   "source": [
    "# Baseline Model"
   ]
  },
  {
   "cell_type": "code",
   "execution_count": 26,
   "metadata": {},
   "outputs": [
    {
     "name": "stderr",
     "output_type": "stream",
     "text": [
      "2023-06-19 13:45:25.024116: I tensorflow/core/platform/cpu_feature_guard.cc:142] This TensorFlow binary is optimized with oneAPI Deep Neural Network Library (oneDNN) to use the following CPU instructions in performance-critical operations:  SSE4.1 SSE4.2\n",
      "To enable them in other operations, rebuild TensorFlow with the appropriate compiler flags.\n",
      "2023-06-19 13:45:25.035937: I tensorflow/compiler/mlir/mlir_graph_optimization_pass.cc:196] None of the MLIR optimization passes are enabled (registered 0 passes)\n"
     ]
    }
   ],
   "source": [
    "# Initiate Model with pretrained NeuMF\n",
    "model = NCF (\n",
    "    n_users=data.n_users, \n",
    "    n_items=data.n_items,\n",
    "    model_type=\"NeuMF\",\n",
    "    n_factors=4,\n",
    "    layer_sizes=[16,8,4],\n",
    "    n_epochs=50,\n",
    "    batch_size=50,\n",
    "    learning_rate=1e-3,\n",
    "    verbose=10,\n",
    "    seed=1\n",
    ")"
   ]
  },
  {
   "cell_type": "code",
   "execution_count": 27,
   "metadata": {},
   "outputs": [
    {
     "name": "stderr",
     "output_type": "stream",
     "text": [
      "INFO:recommenders.models.ncf.ncf_singlenode:Epoch 10 [20.38s]: train_loss = 0.370194 \n",
      "INFO:recommenders.models.ncf.ncf_singlenode:Epoch 20 [21.03s]: train_loss = 0.364789 \n",
      "INFO:recommenders.models.ncf.ncf_singlenode:Epoch 30 [20.67s]: train_loss = 0.361750 \n",
      "INFO:recommenders.models.ncf.ncf_singlenode:Epoch 40 [21.02s]: train_loss = 0.359382 \n",
      "INFO:recommenders.models.ncf.ncf_singlenode:Epoch 50 [21.20s]: train_loss = 0.358611 \n"
     ]
    },
    {
     "name": "stdout",
     "output_type": "stream",
     "text": [
      "Took 1061.36715395801 seconds for training.\n"
     ]
    }
   ],
   "source": [
    "# Fit the Modek \n",
    "with Timer() as train_time:\n",
    "    model.fit(data)\n",
    "\n",
    "print(\"Took {} seconds for training.\".format(train_time.interval))"
   ]
  },
  {
   "cell_type": "code",
   "execution_count": 28,
   "metadata": {},
   "outputs": [
    {
     "data": {
      "text/html": [
       "<div>\n",
       "<style scoped>\n",
       "    .dataframe tbody tr th:only-of-type {\n",
       "        vertical-align: middle;\n",
       "    }\n",
       "\n",
       "    .dataframe tbody tr th {\n",
       "        vertical-align: top;\n",
       "    }\n",
       "\n",
       "    .dataframe thead th {\n",
       "        text-align: right;\n",
       "    }\n",
       "</style>\n",
       "<table border=\"1\" class=\"dataframe\">\n",
       "  <thead>\n",
       "    <tr style=\"text-align: right;\">\n",
       "      <th></th>\n",
       "      <th>userID</th>\n",
       "      <th>itemID</th>\n",
       "      <th>prediction</th>\n",
       "    </tr>\n",
       "  </thead>\n",
       "  <tbody>\n",
       "    <tr>\n",
       "      <th>0</th>\n",
       "      <td>1</td>\n",
       "      <td>1249</td>\n",
       "      <td>0.367157</td>\n",
       "    </tr>\n",
       "    <tr>\n",
       "      <th>1</th>\n",
       "      <td>1</td>\n",
       "      <td>396</td>\n",
       "      <td>0.077538</td>\n",
       "    </tr>\n",
       "    <tr>\n",
       "      <th>2</th>\n",
       "      <td>1</td>\n",
       "      <td>2601</td>\n",
       "      <td>0.327272</td>\n",
       "    </tr>\n",
       "    <tr>\n",
       "      <th>3</th>\n",
       "      <td>1</td>\n",
       "      <td>912</td>\n",
       "      <td>0.461480</td>\n",
       "    </tr>\n",
       "    <tr>\n",
       "      <th>4</th>\n",
       "      <td>1</td>\n",
       "      <td>1032</td>\n",
       "      <td>0.273281</td>\n",
       "    </tr>\n",
       "  </tbody>\n",
       "</table>\n",
       "</div>"
      ],
      "text/plain": [
       "   userID  itemID  prediction\n",
       "0       1    1249    0.367157\n",
       "1       1     396    0.077538\n",
       "2       1    2601    0.327272\n",
       "3       1     912    0.461480\n",
       "4       1    1032    0.273281"
      ]
     },
     "execution_count": 28,
     "metadata": {},
     "output_type": "execute_result"
    }
   ],
   "source": [
    "# Predict all user and items pairings in Test \n",
    "predictions = [[row.userID, row.itemID, model.predict(row.userID, row.itemID)]\n",
    "               for (_, row) in test.iterrows()]\n",
    "\n",
    "# Create a Datafragme from the Predictions \n",
    "predictions = pd.DataFrame(predictions, columns=['userID', 'itemID', 'prediction'])\n",
    "predictions.head()"
   ]
  },
  {
   "cell_type": "code",
   "execution_count": 45,
   "metadata": {},
   "outputs": [],
   "source": [
    "predictions['prediction'] = predictions['prediction'].apply(lambda x: 1 if x > 0.5 else 0)"
   ]
  },
  {
   "cell_type": "code",
   "execution_count": 48,
   "metadata": {},
   "outputs": [
    {
     "name": "stdout",
     "output_type": "stream",
     "text": [
      "0.31667919582104515\n"
     ]
    }
   ],
   "source": [
    "acc = accuracy_score(test.rating, predictions.prediction)\n",
    "print(acc)"
   ]
  },
  {
   "cell_type": "code",
   "execution_count": 29,
   "metadata": {},
   "outputs": [
    {
     "name": "stdout",
     "output_type": "stream",
     "text": [
      "Took 47.797705667006085 seconds for prediction.\n"
     ]
    }
   ],
   "source": [
    "# Predict ALL User & Item Pairings \n",
    "with Timer() as test_time:\n",
    "\n",
    "    users, items, preds = [], [], []\n",
    "    item = list(train.itemID.unique())\n",
    "    for user in train.userID.unique():\n",
    "        user = [user] * len(item) \n",
    "        users.extend(user)\n",
    "        items.extend(item)\n",
    "        preds.extend(list(model.predict(user, item, is_list=True)))\n",
    "\n",
    "    all_predictions = pd.DataFrame(data={\"userID\": users, \"itemID\":items, \"prediction\":preds})\n",
    "\n",
    "    merged = pd.merge(train, all_predictions, on=[\"userID\", \"itemID\"], how=\"outer\")\n",
    "    all_predictions = merged[merged.rating.isnull()].drop('rating', axis=1)\n",
    "\n",
    "print(\"Took {} seconds for prediction.\".format(test_time.interval))"
   ]
  },
  {
   "cell_type": "code",
   "execution_count": 30,
   "metadata": {},
   "outputs": [
    {
     "name": "stdout",
     "output_type": "stream",
     "text": [
      "Precision@K:\t0.084282\n",
      "Recall@K:\t0.073742\n"
     ]
    }
   ],
   "source": [
    "# Evaluate Recall & Preicison at 10 \n",
    "eval_precision = precision_at_k(test, all_predictions, col_prediction='prediction', k=10)\n",
    "eval_recall = recall_at_k(test, all_predictions, col_prediction='prediction', k=10)\n",
    "\n",
    "print(\"Precision@K:\\t%f\" % eval_precision,\n",
    "      \"Recall@K:\\t%f\" % eval_recall, sep='\\n')"
   ]
  },
  {
   "attachments": {},
   "cell_type": "markdown",
   "metadata": {},
   "source": [
    "# Hyperparameter Tuning "
   ]
  },
  {
   "cell_type": "code",
   "execution_count": null,
   "metadata": {},
   "outputs": [],
   "source": [
    "# Initiate Lists for Hyperparameters \n",
    "factors = [4, 16, 50]\n",
    "layers = [[16, 8, 4], [32, 16, 8], [200, 100, 50]]\n",
    "\n",
    "# Initiate Lists for Assessment\n",
    "accuracy = []\n",
    "recall_10 = []\n",
    "recall_20 = []\n",
    "precision_10 = []\n",
    "precision_20 = []\n",
    "num_factors = []\n",
    "layer_shapes = []\n",
    "\n",
    "for f in factors:\n",
    "    for l in layers:\n",
    "        ##### GMF MODEL ##### \n",
    "        # Initiate GMF Model\n",
    "        gmf_model = NCF(\n",
    "            n_users=data.n_users,\n",
    "            n_items=data.n_items,\n",
    "            model_type=\"GMF\",\n",
    "            n_factors=f,\n",
    "            layer_sizes=l,\n",
    "            n_epochs=50,\n",
    "            batch_size=50,\n",
    "            learning_rate=0.005,\n",
    "            seed=1,\n",
    "            verbose=False\n",
    "        )\n",
    "        \n",
    "        # Fit GMF Model: \n",
    "        gmf_model.fit(data)\n",
    "        \n",
    "        # Save GMF Model:\n",
    "        gmf_model.save(dir_name='.pretrain/GMF')\n",
    "        \n",
    "        ##### MLP MODEL ##### \n",
    "        # Initiate MLP Model                 \n",
    "        mlp_model = NCF(\n",
    "            n_users=data.n_users,\n",
    "            n_items=data.n_items,\n",
    "            model_type=\"MLP\",\n",
    "            n_factors=f,\n",
    "            layer_sizes=l,\n",
    "            n_epochs=50,\n",
    "            batch_size=50,\n",
    "            learning_rate=0.005,\n",
    "            seed=1,\n",
    "            verbose=False\n",
    "        )\n",
    "        \n",
    "        # Fit MLP Model\n",
    "        mlp_model.fit(data)\n",
    "        \n",
    "        # Save MLP Model\n",
    "        mlp_model.save(dir_name='.pretrain/MLP')\n",
    "        \n",
    "        ##### NeuMF Layer #####\n",
    "        # Initiate NeuMF Model\n",
    "        model = NCF(\n",
    "            n_users=data.n_users,\n",
    "            n_items=data.n_items,\n",
    "            model_type=\"NeuMF\",\n",
    "            n_factors=f,\n",
    "            layer_sizes=l,\n",
    "            n_epochs=50,\n",
    "            batch_size=50,\n",
    "            learning_rate=0.005,\n",
    "            seed=1,\n",
    "            verbose=False\n",
    "        )\n",
    "        \n",
    "        # Load pretrained Models\n",
    "        model.load(gmf_dir='.pretrain/GMF', mlp_dir='.pretrain/MLP', alpha=0.5)\n",
    "        \n",
    "        # Fit NeuMF Model\n",
    "        model.fit(data)\n",
    "        \n",
    "        \n",
    "        ##### ACCURACY PREDICTION #####\n",
    "        # Predict all user and items pairings in Test \n",
    "        predictions = [[row.userID, row.itemID, model.predict(row.userID, row.itemID)]\n",
    "                    for (_, row) in test.iterrows()]\n",
    "\n",
    "        # Create a Datafragme from the Predictions \n",
    "        predictions = pd.DataFrame(predictions, columns=['userID', 'itemID', 'prediction'])\n",
    "        \n",
    "        # Binarize Output\n",
    "        predictions['prediction'] = predictions['prediction'].apply(lambda x: 1 if x > 0.5 else 0)\n",
    "        \n",
    "        # Predict Accuracy\n",
    "        acc = accuracy_score(test.rating, predictions.prediction)\n",
    "        \n",
    "        # Add Accuracy to list\n",
    "        accuracy.append(acc)\n",
    "        \n",
    "        ##### TOP K PREDICTION\n",
    "        # Predict All Pairings  \n",
    "        users, items, preds = [], [], []\n",
    "        item = list(train.itemID.unique())\n",
    "        for user in train.userID.unique():\n",
    "            user = [user] * len(item) \n",
    "            users.extend(user)\n",
    "            items.extend(item)\n",
    "            preds.extend(list(model.predict(user, item, is_list=True)))\n",
    "\n",
    "        # Create Data Frame and Merge\n",
    "        all_predictions = pd.DataFrame(data={\"userID\": users, \"itemID\":items, \"prediction\":preds})\n",
    "        merged = pd.merge(train, all_predictions, on=[\"userID\", \"itemID\"], how=\"outer\")\n",
    "        all_predictions = merged[merged.rating.isnull()].drop('rating', axis=1)\n",
    "        \n",
    "        # Recall & Precision at 10 \n",
    "        eval_precision_10 = precision_at_k(test, all_predictions, col_prediction='prediction', k=10)\n",
    "        eval_recall_10 = recall_at_k(test, all_predictions, col_prediction='prediction', k=10)\n",
    "        \n",
    "        # Recall & Precision at 20\n",
    "        eval_precision_20 = precision_at_k(test, all_predictions, col_prediction='prediction', k=20)\n",
    "        eval_recall_20 = recall_at_k(test, all_predictions, col_prediction='prediction', k=20)\n",
    "        \n",
    "        \n",
    "        # Append Lists\n",
    "        recall_10.append(eval_recall_10)\n",
    "        recall_20.append(eval_recall_20)\n",
    "        precision_10.append(eval_precision_10)\n",
    "        precision_20.append(eval_precision_20)\n",
    "        num_factors.append(f)\n",
    "        layer_shapes.append(l)\n",
    "        \n",
    "        # Print intermediate Status for Recall@10\n",
    "        print(\"Recall@10 for Num Factors: \", f, \"Layer Shape: \", l, \":\\t\", eval_recall_10)\n",
    "        \n",
    "        # Print intermediate Status for Recall@20\n",
    "        print(\"Recall@20 for Num Factors: \", f, \"Layer Shape: \", l, \":\\t\", eval_recall_20)\n",
    "        "
   ]
  },
  {
   "cell_type": "code",
   "execution_count": null,
   "metadata": {},
   "outputs": [
    {
     "data": {
      "text/html": [
       "<div>\n",
       "<style scoped>\n",
       "    .dataframe tbody tr th:only-of-type {\n",
       "        vertical-align: middle;\n",
       "    }\n",
       "\n",
       "    .dataframe tbody tr th {\n",
       "        vertical-align: top;\n",
       "    }\n",
       "\n",
       "    .dataframe thead th {\n",
       "        text-align: right;\n",
       "    }\n",
       "</style>\n",
       "<table border=\"1\" class=\"dataframe\">\n",
       "  <thead>\n",
       "    <tr style=\"text-align: right;\">\n",
       "      <th></th>\n",
       "      <th>layer size</th>\n",
       "      <th>factors</th>\n",
       "      <th>accuracy</th>\n",
       "      <th>recall@10</th>\n",
       "      <th>recall@20</th>\n",
       "      <th>precision@10</th>\n",
       "      <th>precision@20</th>\n",
       "    </tr>\n",
       "  </thead>\n",
       "  <tbody>\n",
       "    <tr>\n",
       "      <th>4</th>\n",
       "      <td>[32, 16, 8]</td>\n",
       "      <td>16</td>\n",
       "      <td>0.350816</td>\n",
       "      <td>0.056391</td>\n",
       "      <td>0.102389</td>\n",
       "      <td>0.058184</td>\n",
       "      <td>0.053130</td>\n",
       "    </tr>\n",
       "    <tr>\n",
       "      <th>5</th>\n",
       "      <td>[200, 100, 50]</td>\n",
       "      <td>16</td>\n",
       "      <td>0.369706</td>\n",
       "      <td>0.049181</td>\n",
       "      <td>0.092467</td>\n",
       "      <td>0.051870</td>\n",
       "      <td>0.049228</td>\n",
       "    </tr>\n",
       "    <tr>\n",
       "      <th>7</th>\n",
       "      <td>[32, 16, 8]</td>\n",
       "      <td>50</td>\n",
       "      <td>0.393435</td>\n",
       "      <td>0.045590</td>\n",
       "      <td>0.085187</td>\n",
       "      <td>0.044173</td>\n",
       "      <td>0.042818</td>\n",
       "    </tr>\n",
       "    <tr>\n",
       "      <th>6</th>\n",
       "      <td>[16, 8, 4]</td>\n",
       "      <td>50</td>\n",
       "      <td>0.386746</td>\n",
       "      <td>0.045227</td>\n",
       "      <td>0.087878</td>\n",
       "      <td>0.043902</td>\n",
       "      <td>0.043753</td>\n",
       "    </tr>\n",
       "    <tr>\n",
       "      <th>8</th>\n",
       "      <td>[200, 100, 50]</td>\n",
       "      <td>50</td>\n",
       "      <td>0.390987</td>\n",
       "      <td>0.044699</td>\n",
       "      <td>0.083756</td>\n",
       "      <td>0.043984</td>\n",
       "      <td>0.043008</td>\n",
       "    </tr>\n",
       "    <tr>\n",
       "      <th>3</th>\n",
       "      <td>[16, 8, 4]</td>\n",
       "      <td>16</td>\n",
       "      <td>0.149155</td>\n",
       "      <td>0.041654</td>\n",
       "      <td>0.071153</td>\n",
       "      <td>0.046829</td>\n",
       "      <td>0.041247</td>\n",
       "    </tr>\n",
       "    <tr>\n",
       "      <th>2</th>\n",
       "      <td>[200, 100, 50]</td>\n",
       "      <td>4</td>\n",
       "      <td>0.299871</td>\n",
       "      <td>0.037455</td>\n",
       "      <td>0.065578</td>\n",
       "      <td>0.046531</td>\n",
       "      <td>0.041125</td>\n",
       "    </tr>\n",
       "    <tr>\n",
       "      <th>0</th>\n",
       "      <td>[16, 8, 4]</td>\n",
       "      <td>4</td>\n",
       "      <td>0.201122</td>\n",
       "      <td>0.032559</td>\n",
       "      <td>0.057619</td>\n",
       "      <td>0.038862</td>\n",
       "      <td>0.034106</td>\n",
       "    </tr>\n",
       "    <tr>\n",
       "      <th>1</th>\n",
       "      <td>[32, 16, 8]</td>\n",
       "      <td>4</td>\n",
       "      <td>0.844928</td>\n",
       "      <td>0.004949</td>\n",
       "      <td>0.009060</td>\n",
       "      <td>0.004417</td>\n",
       "      <td>0.004255</td>\n",
       "    </tr>\n",
       "  </tbody>\n",
       "</table>\n",
       "</div>"
      ],
      "text/plain": [
       "       layer size  factors  accuracy  recall@10  recall@20  precision@10  \\\n",
       "4     [32, 16, 8]       16  0.350816   0.056391   0.102389      0.058184   \n",
       "5  [200, 100, 50]       16  0.369706   0.049181   0.092467      0.051870   \n",
       "7     [32, 16, 8]       50  0.393435   0.045590   0.085187      0.044173   \n",
       "6      [16, 8, 4]       50  0.386746   0.045227   0.087878      0.043902   \n",
       "8  [200, 100, 50]       50  0.390987   0.044699   0.083756      0.043984   \n",
       "3      [16, 8, 4]       16  0.149155   0.041654   0.071153      0.046829   \n",
       "2  [200, 100, 50]        4  0.299871   0.037455   0.065578      0.046531   \n",
       "0      [16, 8, 4]        4  0.201122   0.032559   0.057619      0.038862   \n",
       "1     [32, 16, 8]        4  0.844928   0.004949   0.009060      0.004417   \n",
       "\n",
       "   precision@20  \n",
       "4      0.053130  \n",
       "5      0.049228  \n",
       "7      0.042818  \n",
       "6      0.043753  \n",
       "8      0.043008  \n",
       "3      0.041247  \n",
       "2      0.041125  \n",
       "0      0.034106  \n",
       "1      0.004255  "
      ]
     },
     "execution_count": 52,
     "metadata": {},
     "output_type": "execute_result"
    }
   ],
   "source": [
    "# Create Dataframe out of the Results of the Hyperparameter Tuning \n",
    "df_tuning = pd.DataFrame({\n",
    "    \"layer size\": layer_shapes,\n",
    "    \"factors\": num_factors,\n",
    "    \"accuracy\": accuracy,\n",
    "    \"recall@10\": recall_10,\n",
    "    \"recall@20\": recall_20,\n",
    "    \"precision@10\":precision_10,\n",
    "    \"precision@20\":precision_20\n",
    "})\n",
    "# Sort Values by recall@10 \n",
    "df_tuning.sort_values(by='recall@10', ascending=False)"
   ]
  },
  {
   "cell_type": "code",
   "execution_count": null,
   "metadata": {},
   "outputs": [],
   "source": [
    "df_tuning.to_csv(\"or_binary_results.csv\")"
   ]
  },
  {
   "attachments": {},
   "cell_type": "markdown",
   "metadata": {},
   "source": [
    "# Analysis of Hyperparameters"
   ]
  },
  {
   "cell_type": "code",
   "execution_count": null,
   "metadata": {},
   "outputs": [
    {
     "data": {
      "text/plain": [
       "factors\n",
       "16    0.049076\n",
       "50    0.045172\n",
       "4     0.024988\n",
       "Name: recall@10, dtype: float64"
      ]
     },
     "execution_count": 96,
     "metadata": {},
     "output_type": "execute_result"
    }
   ],
   "source": [
    "# Impact of Factors\n",
    "df_tuning.groupby(\"factors\")['recall@10'].mean().sort_values(ascending=False)"
   ]
  },
  {
   "cell_type": "code",
   "execution_count": null,
   "metadata": {},
   "outputs": [
    {
     "data": {
      "text/plain": [
       "layer size\n",
       "[200, 100, 50]    0.043778\n",
       "[16, 8, 4]        0.039813\n",
       "[32, 16, 8]       0.035644\n",
       "Name: recall@10, dtype: float64"
      ]
     },
     "execution_count": 102,
     "metadata": {},
     "output_type": "execute_result"
    }
   ],
   "source": [
    "# Impact of Layer Size\n",
    "df_tuning['layer size'] = df_tuning['layer size'].astype(str)\n",
    "\n",
    "df_tuning.groupby(\"layer size\")['recall@10'].mean().sort_values(ascending=False)"
   ]
  },
  {
   "attachments": {},
   "cell_type": "markdown",
   "metadata": {},
   "source": [
    "# Visualizations"
   ]
  },
  {
   "cell_type": "code",
   "execution_count": null,
   "metadata": {},
   "outputs": [
    {
     "data": {
      "image/png": "[encoded data removed]",
      "text/plain": [
       "<Figure size 640x480 with 1 Axes>"
      ]
     },
     "metadata": {},
     "output_type": "display_data"
    }
   ],
   "source": [
    "# Set the font to Arial\n",
    "plt.rcParams['font.family'] = 'Arial'\n",
    "\n",
    "# Define Font Size\n",
    "plt.rcParams.update({'font.size': 12})\n",
    "\n",
    "# Create a dictionary to store the plotted points for each category\n",
    "plotted_points = {}\n",
    "\n",
    "# Create a scatterplot\n",
    "fig, ax = plt.subplots()\n",
    "\n",
    "# Define the shapes for different categories\n",
    "shapes = ['s', 'o', '^']\n",
    "\n",
    "# Iterate over each row in the DataFrame\n",
    "for index, row in df_tuning.iterrows():\n",
    "    # Get the layer sizes list for the current row\n",
    "    layer_sizes = row['layer size']\n",
    "    \n",
    "    # Convert the layer sizes list to a tuple for dictionary key\n",
    "    layer_sizes_tuple = tuple(layer_sizes)\n",
    "    \n",
    "    # Check if the current category is already in the dictionary\n",
    "    if layer_sizes_tuple not in plotted_points:\n",
    "        # Create a new list to store the points for the current category\n",
    "        plotted_points[layer_sizes_tuple] = []\n",
    "    \n",
    "    # Append the points for the current category\n",
    "    plotted_points[layer_sizes_tuple].append((row['factors'], row['recall@10']))\n",
    "\n",
    "# Iterate over the plotted points for each category and plot them\n",
    "for category, points in plotted_points.items():\n",
    "    factors, recall = zip(*points)\n",
    "    shape = shapes.pop(0)  # Get the next shape from the list\n",
    "    ax.scatter(factors, recall, marker=shape, label=str(category))\n",
    "\n",
    "# Set the labels for x and y axes\n",
    "ax.set_xlabel('Factors')\n",
    "ax.set_ylabel('Recall@10')\n",
    "\n",
    "# Set the x-axis ticks to the desired values\n",
    "ax.set_xticks([4, 16, 50])\n",
    "\n",
    "# Add a legend with the label \"Layer Sizes\" above the points\n",
    "legend = ax.legend(title='Layer Sizes', loc='lower right')\n",
    "legend.get_title().set_fontsize('12')  # Set the font size of the legend title\n",
    "\n",
    "# Show the scatterplot\n",
    "plt.show()\n"
   ]
  },
  {
   "cell_type": "code",
   "execution_count": null,
   "metadata": {},
   "outputs": [
    {
     "data": {
      "text/plain": [
       "Text(0, 0.5, 'Accuracy on Test Set')"
      ]
     },
     "execution_count": 94,
     "metadata": {},
     "output_type": "execute_result"
    },
    {
     "data": {
      "image/png": "[encoded data removed]",
      "text/plain": [
       "<Figure size 640x480 with 1 Axes>"
      ]
     },
     "metadata": {},
     "output_type": "display_data"
    }
   ],
   "source": [
    "#plt.figure(figsize=(7,5))\n",
    "plt.scatter(df_tuning['recall@10'], df_tuning['accuracy'])\n",
    "plt.xlabel('Recall@10')\n",
    "plt.ylabel('Accuracy on Test Set')"
   ]
  }
 ],
 "metadata": {
  "kernelspec": {
   "display_name": "recom",
   "language": "python",
   "name": "python3"
  },
  "language_info": {
   "codemirror_mode": {
    "name": "ipython",
    "version": 3
   },
   "file_extension": ".py",
   "mimetype": "text/x-python",
   "name": "python",
   "nbconvert_exporter": "python",
   "pygments_lexer": "ipython3",
   "version": "3.9.16"
  },
  "orig_nbformat": 4,
  "vscode": {
   "interpreter": {
    "hash": "17afcd9f6960de0a3656d2c4c5dd434deed0eab3cd38c55c3169df3bef50250d"
   }
  }
 },
 "nbformat": 4,
 "nbformat_minor": 2
}
