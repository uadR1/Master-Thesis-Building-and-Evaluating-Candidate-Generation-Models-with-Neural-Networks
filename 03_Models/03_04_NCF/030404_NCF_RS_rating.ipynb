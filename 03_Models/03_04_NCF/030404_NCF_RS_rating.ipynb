{
 "cells": [
  {
   "attachments": {},
   "cell_type": "markdown",
   "metadata": {},
   "source": [
    "# Loading Libraries"
   ]
  },
  {
   "cell_type": "code",
   "execution_count": 1,
   "metadata": {},
   "outputs": [],
   "source": [
    "# Pandas & Numpy\n",
    "import pandas as pd\n",
    "import numpy as np \n",
    "\n",
    "# Visualization\n",
    "import seaborn as sns \n",
    "from matplotlib import pyplot as plt \n",
    "\n",
    "# Tensorflow\n",
    "import tensorflow as tf\n",
    "from tensorflow import keras\n",
    "tf.get_logger().setLevel('ERROR') # only show error messages \n",
    "\n",
    "# Evaluation \n",
    "from recommenders.evaluation.python_evaluation import (\n",
    "    precision_at_k,\n",
    "    recall_at_k,\n",
    "    ndcg_at_k,\n",
    "    map_at_k, \n",
    "    get_top_k_items,\n",
    "    rmse,\n",
    "    mae,\n",
    "    rsquared,\n",
    "    exp_var\n",
    ")\n",
    "from sklearn.metrics import accuracy_score \n",
    "\n",
    "# Recomender Utilities\n",
    "from recommenders.utils.timer import Timer\n",
    "from recommenders.models.ncf.ncf_singlenode import NCF\n",
    "from recommenders.models.ncf.dataset import Dataset as NCFDataset\n",
    "from recommenders.utils.constants import SEED as DEFAULT_SEED\n",
    "\n",
    "# System & OS\n",
    "import sys\n",
    "import os\n",
    "import shutil\n",
    "#import papermill as pm\n",
    "import pandas as pd\n",
    "\n",
    "# Turn of Warnings for Readability \n",
    "import warnings\n",
    "warnings.filterwarnings(\"ignore\")"
   ]
  },
  {
   "attachments": {},
   "cell_type": "markdown",
   "metadata": {},
   "source": [
    "# Import & Read Datasets"
   ]
  },
  {
   "cell_type": "code",
   "execution_count": 2,
   "metadata": {},
   "outputs": [],
   "source": [
    "# Read Train & Test Data\n",
    "train = pd.read_csv(\"../../00_Data/rec_sys_ratings_train.csv\", index_col=0)\n",
    "test = pd.read_csv(\"../../00_Data/rec_sys_ratings_test.csv\", index_col=0)"
   ]
  },
  {
   "cell_type": "code",
   "execution_count": 3,
   "metadata": {},
   "outputs": [
    {
     "name": "stdout",
     "output_type": "stream",
     "text": [
      "Shape of Train: (393334, 3)\n",
      "Shape of Test: \t (98401, 3)\n"
     ]
    }
   ],
   "source": [
    "# Check Shapes\n",
    "print(\"Shape of Train:\", train.shape)\n",
    "print(\"Shape of Test: \\t\", test.shape)"
   ]
  },
  {
   "cell_type": "code",
   "execution_count": 4,
   "metadata": {},
   "outputs": [
    {
     "name": "stdout",
     "output_type": "stream",
     "text": [
      "Unique Users in Train: 3011\n",
      "Unique Users in Test: 3011\n",
      "Unique Items in Train: 2330\n",
      "Unique Items in Test: 2330\n"
     ]
    }
   ],
   "source": [
    "# Check Number of Unique Items and User in Train & Test \n",
    "print(\"Unique Users in Train:\", train.CustomerID.nunique())\n",
    "print(\"Unique Users in Test:\", test.CustomerID.nunique())\n",
    "print(\"Unique Items in Train:\", train.StockCode.nunique())\n",
    "print(\"Unique Items in Test:\", test.StockCode.nunique())"
   ]
  },
  {
   "attachments": {},
   "cell_type": "markdown",
   "metadata": {},
   "source": [
    "# Data Preparation"
   ]
  },
  {
   "cell_type": "code",
   "execution_count": 5,
   "metadata": {},
   "outputs": [],
   "source": [
    "# Change name of columns \n",
    "train = train.rename(columns={'StockCode':'itemID', 'CustomerID':'userID', 'purchased':'rating'})\n",
    "test = test.rename(columns={'StockCode':'itemID', 'CustomerID':'userID', 'purchased':'rating'})"
   ]
  },
  {
   "cell_type": "code",
   "execution_count": 8,
   "metadata": {},
   "outputs": [],
   "source": [
    "# Sort by users \n",
    "train = train.sort_values(by='userID')\n",
    "test = test.sort_values(by='userID')"
   ]
  },
  {
   "cell_type": "code",
   "execution_count": 9,
   "metadata": {},
   "outputs": [],
   "source": [
    "# Write Dataset to CSV files. This is a pre-step for the NCF Dataset preparation\n",
    "train_file = \"./rs_rating_train.csv\"\n",
    "test_file = \"./rs_rating_test.csv\"\n",
    "train.to_csv(train_file, index=False)\n",
    "test.to_csv(test_file, index=False)"
   ]
  },
  {
   "cell_type": "code",
   "execution_count": 10,
   "metadata": {},
   "outputs": [
    {
     "name": "stderr",
     "output_type": "stream",
     "text": [
      "INFO:recommenders.models.ncf.dataset:Indexing ./rs_binary_train.csv ...\n",
      "INFO:recommenders.models.ncf.dataset:Indexing ./rs_binary_test.csv ...\n",
      "INFO:recommenders.models.ncf.dataset:Creating full leave-one-out test file ./rs_binary_test_full.csv ...\n",
      "100%|██████████| 3011/3011 [01:09<00:00, 43.43it/s]\n",
      "INFO:recommenders.models.ncf.dataset:Indexing ./rs_binary_test_full.csv ...\n"
     ]
    }
   ],
   "source": [
    "# Create the NCF Dataset \n",
    "data = NCFDataset(train_file=train_file, test_file=test_file, seed=1, overwrite_test_file_full=True)"
   ]
  },
  {
   "attachments": {},
   "cell_type": "markdown",
   "metadata": {},
   "source": [
    "# Hyperparameter Tuning "
   ]
  },
  {
   "cell_type": "code",
   "execution_count": 11,
   "metadata": {},
   "outputs": [
    {
     "name": "stderr",
     "output_type": "stream",
     "text": [
      "2023-06-27 09:05:49.017443: I tensorflow/core/platform/cpu_feature_guard.cc:142] This TensorFlow binary is optimized with oneAPI Deep Neural Network Library (oneDNN) to use the following CPU instructions in performance-critical operations:  SSE4.1 SSE4.2\n",
      "To enable them in other operations, rebuild TensorFlow with the appropriate compiler flags.\n",
      "2023-06-27 09:05:49.022471: I tensorflow/compiler/mlir/mlir_graph_optimization_pass.cc:196] None of the MLIR optimization passes are enabled (registered 0 passes)\n"
     ]
    },
    {
     "name": "stdout",
     "output_type": "stream",
     "text": [
      "Recall@10 for Num Factors:  8 Layer Shape:  [16, 8, 4] :\t 0.024809783015939925\n",
      "Recall@20 for Num Factors:  8 Layer Shape:  [16, 8, 4] :\t 0.04710674508841917\n",
      "Recall@10 for Num Factors:  8 Layer Shape:  [32, 16, 8] :\t 0.05876968696400695\n",
      "Recall@20 for Num Factors:  8 Layer Shape:  [32, 16, 8] :\t 0.09392619616846877\n",
      "Recall@10 for Num Factors:  8 Layer Shape:  [200, 100, 50] :\t 0.04577940319517245\n",
      "Recall@20 for Num Factors:  8 Layer Shape:  [200, 100, 50] :\t 0.08793210778221593\n",
      "Recall@10 for Num Factors:  16 Layer Shape:  [16, 8, 4] :\t 0.04385067679700591\n",
      "Recall@20 for Num Factors:  16 Layer Shape:  [16, 8, 4] :\t 0.09608694072209889\n",
      "Recall@10 for Num Factors:  16 Layer Shape:  [32, 16, 8] :\t 0.009021235995178305\n",
      "Recall@20 for Num Factors:  16 Layer Shape:  [32, 16, 8] :\t 0.020501303619532528\n",
      "Recall@10 for Num Factors:  16 Layer Shape:  [200, 100, 50] :\t 0.007073521140380679\n",
      "Recall@20 for Num Factors:  16 Layer Shape:  [200, 100, 50] :\t 0.047107827196764665\n",
      "Recall@10 for Num Factors:  50 Layer Shape:  [16, 8, 4] :\t 0.01003603698428809\n",
      "Recall@20 for Num Factors:  50 Layer Shape:  [16, 8, 4] :\t 0.046110309304691656\n",
      "Recall@10 for Num Factors:  50 Layer Shape:  [32, 16, 8] :\t 0.0382382503331927\n",
      "Recall@20 for Num Factors:  50 Layer Shape:  [32, 16, 8] :\t 0.08429257758126028\n",
      "Recall@10 for Num Factors:  50 Layer Shape:  [200, 100, 50] :\t 0.015220010443193209\n",
      "Recall@20 for Num Factors:  50 Layer Shape:  [200, 100, 50] :\t 0.048305537325512474\n"
     ]
    }
   ],
   "source": [
    "# Initiate Lists for Hyperparameters \n",
    "factors = [8, 16, 50]\n",
    "layers = [[16, 8, 4], [32, 16, 8], [200, 100, 50]]\n",
    "\n",
    "# Initiate Lists for Assessment\n",
    "accuracy = []\n",
    "recall_10 = []\n",
    "recall_20 = []\n",
    "precision_10 = []\n",
    "precision_20 = []\n",
    "num_factors = []\n",
    "layer_shapes = []\n",
    "\n",
    "for f in factors:\n",
    "    for l in layers:\n",
    "        ##### GMF MODEL ##### \n",
    "        # Initiate GMF Model\n",
    "        gmf_model = NCF(\n",
    "            n_users=data.n_users,\n",
    "            n_items=data.n_items,\n",
    "            model_type=\"GMF\",\n",
    "            n_factors=f,\n",
    "            layer_sizes=l,\n",
    "            n_epochs=50,\n",
    "            batch_size=50,\n",
    "            learning_rate=0.005,\n",
    "            seed=1,\n",
    "            verbose=False\n",
    "        )\n",
    "        \n",
    "        # Fit GMF Model: \n",
    "        gmf_model.fit(data)\n",
    "        \n",
    "        # Save GMF Model:\n",
    "        gmf_model.save(dir_name='.pretrain/GMF')\n",
    "        \n",
    "        ##### MLP MODEL ##### \n",
    "        # Initiate MLP Model                 \n",
    "        mlp_model = NCF(\n",
    "            n_users=data.n_users,\n",
    "            n_items=data.n_items,\n",
    "            model_type=\"MLP\",\n",
    "            n_factors=f,\n",
    "            layer_sizes=l,\n",
    "            n_epochs=50,\n",
    "            batch_size=50,\n",
    "            learning_rate=0.005,\n",
    "            seed=1,\n",
    "            verbose=False\n",
    "        )\n",
    "        \n",
    "        # Fit MLP Model\n",
    "        mlp_model.fit(data)\n",
    "        \n",
    "        # Save MLP Model\n",
    "        mlp_model.save(dir_name='.pretrain/MLP')\n",
    "        \n",
    "        ##### NeuMF Layer #####\n",
    "        # Initiate NeuMF Model\n",
    "        model = NCF(\n",
    "            n_users=data.n_users,\n",
    "            n_items=data.n_items,\n",
    "            model_type=\"NeuMF\",\n",
    "            n_factors=f,\n",
    "            layer_sizes=l,\n",
    "            n_epochs=50,\n",
    "            batch_size=50,\n",
    "            learning_rate=0.005,\n",
    "            seed=1,\n",
    "            verbose=False\n",
    "        )\n",
    "        \n",
    "        # Load pretrained Models\n",
    "        model.load(gmf_dir='.pretrain/GMF', mlp_dir='.pretrain/MLP', alpha=0.5)\n",
    "        \n",
    "        # Fit NeuMF Model\n",
    "        model.fit(data)\n",
    "        \n",
    "        \n",
    "        ##### ACCURACY PREDICTION #####\n",
    "        # Predict all user and items pairings in Test \n",
    "        predictions = [[row.userID, row.itemID, model.predict(row.userID, row.itemID)]\n",
    "                    for (_, row) in test.iterrows()]\n",
    "\n",
    "        # Create a Datafragme from the Predictions \n",
    "        predictions = pd.DataFrame(predictions, columns=['userID', 'itemID', 'prediction'])\n",
    "        \n",
    "        # Binarize Output\n",
    "        predictions['prediction'] = predictions['prediction'].apply(lambda x: 1 if x > 0.5 else 0)\n",
    "        \n",
    "        # Binarize Test Ratings\n",
    "        test_copy = test.copy()\n",
    "        test_copy['rating'] = test_copy['rating'].apply(lambda x: 1 if x > 0 else 0)\n",
    "        \n",
    "        # Predict Accuracy\n",
    "        acc = accuracy_score(test_copy.rating, predictions.prediction)\n",
    "        \n",
    "        # Add Accuracy to list\n",
    "        accuracy.append(acc)\n",
    "        \n",
    "        ##### TOP K PREDICTION\n",
    "        # Predict All Pairings  \n",
    "        users, items, preds = [], [], []\n",
    "        item = list(train.itemID.unique())\n",
    "        for user in train.userID.unique():\n",
    "            user = [user] * len(item) \n",
    "            users.extend(user)\n",
    "            items.extend(item)\n",
    "            preds.extend(list(model.predict(user, item, is_list=True)))\n",
    "\n",
    "        # Create Data Frame and Merge\n",
    "        all_predictions = pd.DataFrame(data={\"userID\": users, \"itemID\":items, \"prediction\":preds})\n",
    "        merged = pd.merge(train, all_predictions, on=[\"userID\", \"itemID\"], how=\"outer\")\n",
    "        all_predictions = merged[merged.rating.isnull()].drop('rating', axis=1)\n",
    "        \n",
    "        # Recall & Precision at 10 \n",
    "        eval_precision_10 = precision_at_k(test, all_predictions, col_prediction='prediction', k=10)\n",
    "        eval_recall_10 = recall_at_k(test, all_predictions, col_prediction='prediction', k=10)\n",
    "        \n",
    "        # Recall & Precision at 20\n",
    "        eval_precision_20 = precision_at_k(test, all_predictions, col_prediction='prediction', k=20)\n",
    "        eval_recall_20 = recall_at_k(test, all_predictions, col_prediction='prediction', k=20)\n",
    "        \n",
    "        \n",
    "        # Append Lists\n",
    "        recall_10.append(eval_recall_10)\n",
    "        recall_20.append(eval_recall_20)\n",
    "        precision_10.append(eval_precision_10)\n",
    "        precision_20.append(eval_precision_20)\n",
    "        num_factors.append(f)\n",
    "        layer_shapes.append(l)\n",
    "        \n",
    "        # Print intermediate Status for Recall@10\n",
    "        print(\"Recall@10 for Num Factors: \", f, \"Layer Shape: \", l, \":\\t\", eval_recall_10)\n",
    "        \n",
    "        # Print intermediate Status for Recall@20\n",
    "        print(\"Recall@20 for Num Factors: \", f, \"Layer Shape: \", l, \":\\t\", eval_recall_20)\n",
    "        "
   ]
  },
  {
   "cell_type": "code",
   "execution_count": 12,
   "metadata": {},
   "outputs": [
    {
     "data": {
      "text/html": [
       "<div>\n",
       "<style scoped>\n",
       "    .dataframe tbody tr th:only-of-type {\n",
       "        vertical-align: middle;\n",
       "    }\n",
       "\n",
       "    .dataframe tbody tr th {\n",
       "        vertical-align: top;\n",
       "    }\n",
       "\n",
       "    .dataframe thead th {\n",
       "        text-align: right;\n",
       "    }\n",
       "</style>\n",
       "<table border=\"1\" class=\"dataframe\">\n",
       "  <thead>\n",
       "    <tr style=\"text-align: right;\">\n",
       "      <th></th>\n",
       "      <th>layer size</th>\n",
       "      <th>factors</th>\n",
       "      <th>accuracy</th>\n",
       "      <th>recall@10</th>\n",
       "      <th>recall@20</th>\n",
       "      <th>precision@10</th>\n",
       "      <th>precision@20</th>\n",
       "    </tr>\n",
       "  </thead>\n",
       "  <tbody>\n",
       "    <tr>\n",
       "      <th>1</th>\n",
       "      <td>[32, 16, 8]</td>\n",
       "      <td>8</td>\n",
       "      <td>0.008008</td>\n",
       "      <td>0.058770</td>\n",
       "      <td>0.093926</td>\n",
       "      <td>0.180538</td>\n",
       "      <td>0.145849</td>\n",
       "    </tr>\n",
       "    <tr>\n",
       "      <th>2</th>\n",
       "      <td>[200, 100, 50]</td>\n",
       "      <td>8</td>\n",
       "      <td>0.005752</td>\n",
       "      <td>0.045779</td>\n",
       "      <td>0.087932</td>\n",
       "      <td>0.139688</td>\n",
       "      <td>0.135785</td>\n",
       "    </tr>\n",
       "    <tr>\n",
       "      <th>3</th>\n",
       "      <td>[16, 8, 4]</td>\n",
       "      <td>16</td>\n",
       "      <td>0.013567</td>\n",
       "      <td>0.043851</td>\n",
       "      <td>0.096087</td>\n",
       "      <td>0.136300</td>\n",
       "      <td>0.148638</td>\n",
       "    </tr>\n",
       "    <tr>\n",
       "      <th>7</th>\n",
       "      <td>[32, 16, 8]</td>\n",
       "      <td>50</td>\n",
       "      <td>0.019105</td>\n",
       "      <td>0.038238</td>\n",
       "      <td>0.084293</td>\n",
       "      <td>0.115643</td>\n",
       "      <td>0.128329</td>\n",
       "    </tr>\n",
       "    <tr>\n",
       "      <th>0</th>\n",
       "      <td>[16, 8, 4]</td>\n",
       "      <td>8</td>\n",
       "      <td>0.008008</td>\n",
       "      <td>0.024810</td>\n",
       "      <td>0.047107</td>\n",
       "      <td>0.077416</td>\n",
       "      <td>0.074676</td>\n",
       "    </tr>\n",
       "    <tr>\n",
       "      <th>8</th>\n",
       "      <td>[200, 100, 50]</td>\n",
       "      <td>50</td>\n",
       "      <td>0.027510</td>\n",
       "      <td>0.015220</td>\n",
       "      <td>0.048306</td>\n",
       "      <td>0.048721</td>\n",
       "      <td>0.074178</td>\n",
       "    </tr>\n",
       "    <tr>\n",
       "      <th>6</th>\n",
       "      <td>[16, 8, 4]</td>\n",
       "      <td>50</td>\n",
       "      <td>0.019817</td>\n",
       "      <td>0.010036</td>\n",
       "      <td>0.046110</td>\n",
       "      <td>0.034341</td>\n",
       "      <td>0.072152</td>\n",
       "    </tr>\n",
       "    <tr>\n",
       "      <th>4</th>\n",
       "      <td>[32, 16, 8]</td>\n",
       "      <td>16</td>\n",
       "      <td>0.014675</td>\n",
       "      <td>0.009021</td>\n",
       "      <td>0.020501</td>\n",
       "      <td>0.032182</td>\n",
       "      <td>0.036516</td>\n",
       "    </tr>\n",
       "    <tr>\n",
       "      <th>5</th>\n",
       "      <td>[200, 100, 50]</td>\n",
       "      <td>16</td>\n",
       "      <td>0.013160</td>\n",
       "      <td>0.007074</td>\n",
       "      <td>0.047108</td>\n",
       "      <td>0.026270</td>\n",
       "      <td>0.074543</td>\n",
       "    </tr>\n",
       "  </tbody>\n",
       "</table>\n",
       "</div>"
      ],
      "text/plain": [
       "       layer size  factors  accuracy  recall@10  recall@20  precision@10  \\\n",
       "1     [32, 16, 8]        8  0.008008   0.058770   0.093926      0.180538   \n",
       "2  [200, 100, 50]        8  0.005752   0.045779   0.087932      0.139688   \n",
       "3      [16, 8, 4]       16  0.013567   0.043851   0.096087      0.136300   \n",
       "7     [32, 16, 8]       50  0.019105   0.038238   0.084293      0.115643   \n",
       "0      [16, 8, 4]        8  0.008008   0.024810   0.047107      0.077416   \n",
       "8  [200, 100, 50]       50  0.027510   0.015220   0.048306      0.048721   \n",
       "6      [16, 8, 4]       50  0.019817   0.010036   0.046110      0.034341   \n",
       "4     [32, 16, 8]       16  0.014675   0.009021   0.020501      0.032182   \n",
       "5  [200, 100, 50]       16  0.013160   0.007074   0.047108      0.026270   \n",
       "\n",
       "   precision@20  \n",
       "1      0.145849  \n",
       "2      0.135785  \n",
       "3      0.148638  \n",
       "7      0.128329  \n",
       "0      0.074676  \n",
       "8      0.074178  \n",
       "6      0.072152  \n",
       "4      0.036516  \n",
       "5      0.074543  "
      ]
     },
     "execution_count": 12,
     "metadata": {},
     "output_type": "execute_result"
    }
   ],
   "source": [
    "# Create Dataframe out of the Results of the Hyperparameter Tuning \n",
    "df_tuning = pd.DataFrame({\n",
    "    \"layer size\": layer_shapes,\n",
    "    \"factors\": num_factors,\n",
    "    \"accuracy\": accuracy,\n",
    "    \"recall@10\": recall_10,\n",
    "    \"recall@20\": recall_20,\n",
    "    \"precision@10\":precision_10,\n",
    "    \"precision@20\":precision_20\n",
    "})\n",
    "# Sort Values by recall@10 \n",
    "df_tuning.sort_values(by='recall@10', ascending=False)"
   ]
  },
  {
   "cell_type": "code",
   "execution_count": 13,
   "metadata": {},
   "outputs": [],
   "source": [
    "df_tuning.to_csv(\"rs_rating_results.csv\")"
   ]
  },
  {
   "attachments": {},
   "cell_type": "markdown",
   "metadata": {},
   "source": [
    "# Analysis of Hyperparameters"
   ]
  },
  {
   "cell_type": "code",
   "execution_count": 14,
   "metadata": {},
   "outputs": [
    {
     "data": {
      "text/plain": [
       "factors\n",
       "8     0.043120\n",
       "50    0.021165\n",
       "16    0.019982\n",
       "Name: recall@10, dtype: float64"
      ]
     },
     "execution_count": 14,
     "metadata": {},
     "output_type": "execute_result"
    }
   ],
   "source": [
    "# Impact of Factors\n",
    "df_tuning.groupby(\"factors\")['recall@10'].mean().sort_values(ascending=False)"
   ]
  },
  {
   "cell_type": "code",
   "execution_count": 19,
   "metadata": {},
   "outputs": [
    {
     "data": {
      "text/plain": [
       "layer size\n",
       "[32, 16, 8]       0.035343\n",
       "[16, 8, 4]        0.026232\n",
       "[200, 100, 50]    0.022691\n",
       "Name: recall@10, dtype: float64"
      ]
     },
     "execution_count": 19,
     "metadata": {},
     "output_type": "execute_result"
    }
   ],
   "source": [
    "# Impact of Layer Size\n",
    "df_tuning['layer size'] = df_tuning['layer size'].astype(str)\n",
    "\n",
    "df_tuning.groupby(\"layer size\")['recall@10'].mean().sort_values(ascending=False)"
   ]
  },
  {
   "attachments": {},
   "cell_type": "markdown",
   "metadata": {},
   "source": [
    "# Visualizations"
   ]
  },
  {
   "cell_type": "code",
   "execution_count": 17,
   "metadata": {},
   "outputs": [
    {
     "data": {
      "image/png": "[encoded data removed]",
      "text/plain": [
       "<Figure size 640x480 with 1 Axes>"
      ]
     },
     "metadata": {},
     "output_type": "display_data"
    }
   ],
   "source": [
    "# Set the font to Arial\n",
    "plt.rcParams['font.family'] = 'Arial'\n",
    "\n",
    "# Define Font Size\n",
    "plt.rcParams.update({'font.size': 12})\n",
    "\n",
    "# Create a dictionary to store the plotted points for each category\n",
    "plotted_points = {}\n",
    "\n",
    "# Create a scatterplot\n",
    "fig, ax = plt.subplots()\n",
    "\n",
    "# Define the shapes for different categories\n",
    "shapes = ['s', 'o', '^']\n",
    "\n",
    "# Iterate over each row in the DataFrame\n",
    "for index, row in df_tuning.iterrows():\n",
    "    # Get the layer sizes list for the current row\n",
    "    layer_sizes = row['layer size']\n",
    "    \n",
    "    # Convert the layer sizes list to a tuple for dictionary key\n",
    "    layer_sizes_tuple = tuple(layer_sizes)\n",
    "    \n",
    "    # Check if the current category is already in the dictionary\n",
    "    if layer_sizes_tuple not in plotted_points:\n",
    "        # Create a new list to store the points for the current category\n",
    "        plotted_points[layer_sizes_tuple] = []\n",
    "    \n",
    "    # Append the points for the current category\n",
    "    plotted_points[layer_sizes_tuple].append((row['factors'], row['recall@10']))\n",
    "\n",
    "# Iterate over the plotted points for each category and plot them\n",
    "for category, points in plotted_points.items():\n",
    "    factors, recall = zip(*points)\n",
    "    shape = shapes.pop(0)  # Get the next shape from the list\n",
    "    ax.scatter(factors, recall, marker=shape, label=str(category))\n",
    "\n",
    "# Set the labels for x and y axes\n",
    "ax.set_xlabel('Factors')\n",
    "ax.set_ylabel('Recall@10')\n",
    "\n",
    "# Set the x-axis ticks to the desired values\n",
    "ax.set_xticks([8, 16, 50])\n",
    "\n",
    "# Add a legend with the label \"Layer Sizes\" above the points\n",
    "legend = ax.legend(title='Layer Sizes', loc='upper right')\n",
    "legend.get_title().set_fontsize('12')  # Set the font size of the legend title\n",
    "\n",
    "# Show the scatterplot\n",
    "plt.show()\n"
   ]
  }
 ],
 "metadata": {
  "kernelspec": {
   "display_name": "recom",
   "language": "python",
   "name": "python3"
  },
  "language_info": {
   "codemirror_mode": {
    "name": "ipython",
    "version": 3
   },
   "file_extension": ".py",
   "mimetype": "text/x-python",
   "name": "python",
   "nbconvert_exporter": "python",
   "pygments_lexer": "ipython3",
   "version": "3.9.16"
  },
  "orig_nbformat": 4,
  "vscode": {
   "interpreter": {
    "hash": "17afcd9f6960de0a3656d2c4c5dd434deed0eab3cd38c55c3169df3bef50250d"
   }
  }
 },
 "nbformat": 4,
 "nbformat_minor": 2
}
